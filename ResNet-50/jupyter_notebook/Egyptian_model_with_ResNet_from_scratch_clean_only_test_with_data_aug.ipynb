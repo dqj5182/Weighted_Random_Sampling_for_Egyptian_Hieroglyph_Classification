{
  "nbformat": 4,
  "nbformat_minor": 0,
  "metadata": {
    "colab": {
      "name": "Egyptian_model_with_ResNet_from_scratch_clean_only_test_with_data_aug.ipynb",
      "provenance": []
    },
    "kernelspec": {
      "name": "python3",
      "display_name": "Python 3"
    },
    "language_info": {
      "name": "python"
    },
    "accelerator": "GPU"
  },
  "cells": [
    {
      "cell_type": "code",
      "metadata": {
        "id": "8iEiGSblxJzW"
      },
      "source": [
        "import os, os.path\n",
        "import torch\n",
        "import numpy as np\n",
        "import torch.nn as nn\n",
        "import torch.optim as optim\n",
        "from pathlib import Path\n",
        "from torchvision import datasets, models, transforms\n",
        "\n",
        "# check if CUDA is available\n",
        "train_on_gpu = torch.cuda.is_available()"
      ],
      "execution_count": 1,
      "outputs": []
    },
    {
      "cell_type": "markdown",
      "metadata": {
        "id": "Jd6KU8VMz6J3"
      },
      "source": [
        "Module: Load_data"
      ]
    },
    {
      "cell_type": "code",
      "metadata": {
        "id": "8lWX0BW_w_kC"
      },
      "source": [
        "def load_data(hieroglyph_directory_path, batch_size=20, num_workers=0):\n",
        "    train_dir = os.path.join(hieroglyph_directory_path, 'train/')\n",
        "    test_dir = os.path.join(hieroglyph_directory_path, 'test/')\n",
        "\n",
        "    classes = []\n",
        "\n",
        "    for filename in os.listdir(train_dir):\n",
        "        if filename == '.DS_Store':\n",
        "            pass\n",
        "        else:\n",
        "            classes.append(filename)\n",
        "\n",
        "    classes.sort()\n",
        "\n",
        "    # print(\"Our classes:\", classes)\n",
        "    # print(len(classes))\n",
        "\n",
        "    data_transform_train = transforms.Compose([transforms.ToTensor(),\n",
        "                                                  transforms.Normalize((0.5,), (0.5,))])\n",
        "\n",
        "    data_transform_test = transforms.Compose([transforms.ToTensor(),\n",
        "                                                  transforms.RandomApply([transforms.RandomHorizontalFlip()]),\n",
        "                                                  transforms.RandomRotation(degrees=(-10, 10)),\n",
        "                                                  transforms.RandomAffine(degrees=0, translate=(.1, .1)),\n",
        "                                                  transforms.RandomApply([transforms.ColorJitter(brightness=(1, 1.2),\n",
        "                                                                                                  contrast=(1, 1.5),\n",
        "                                                                                                  saturation=(1, 1.5),\n",
        "                                                                                                  hue=(0, 0.5))]),\n",
        "                                                  transforms.RandomErasing(p=0.5, scale=(0.05, 0.05), ratio=(0.3, 3.3), value=0,\n",
        "                                                                            inplace=False),\n",
        "                                                  transforms.Normalize((0.5,), (0.5,))])\n",
        "\n",
        "    train_data = datasets.ImageFolder(train_dir, transform=data_transform_train)\n",
        "    test_data = datasets.ImageFolder(test_dir, transform=data_transform_test)\n",
        "\n",
        "    # print('Num training images: ', len(train_data))\n",
        "    # print('Num test images: ', len(test_data))\n",
        "\n",
        "    # prepare data loaders\n",
        "    train_loader = torch.utils.data.DataLoader(train_data, batch_size=batch_size,\n",
        "                                               num_workers=num_workers, shuffle=True)\n",
        "    test_loader = torch.utils.data.DataLoader(test_data, batch_size=batch_size,\n",
        "                                              num_workers=num_workers, shuffle=True)\n",
        "\n",
        "    return train_loader, test_loader, classes"
      ],
      "execution_count": 2,
      "outputs": []
    },
    {
      "cell_type": "markdown",
      "metadata": {
        "id": "K4sXUrPPz7iF"
      },
      "source": [
        "Module: Train_model"
      ]
    },
    {
      "cell_type": "code",
      "metadata": {
        "id": "N2N_rnKLxN5c"
      },
      "source": [
        "def train_model(train_loader, optimizer, resnet50, criterion, my_lr_scheduler, n_epochs):\n",
        "    # track training loss over time\n",
        "    losses = []\n",
        "    \n",
        "    for epoch in range(1, n_epochs + 1):\n",
        "\n",
        "        # keep track of training and validation loss\n",
        "        train_loss = 0.0\n",
        "\n",
        "        # model by default is set to train\n",
        "        for batch_i, (data, target) in enumerate(train_loader):\n",
        "            # move tensors to GPU if CUDA is available\n",
        "            if train_on_gpu:\n",
        "                data, target = data.cuda(), target.cuda()\n",
        "            # clear the gradients of all optimized variables\n",
        "            optimizer.zero_grad()\n",
        "            # forward pass: compute predicted outputs by passing inputs to the model\n",
        "            output = resnet50(data)\n",
        "            # calculate the batch loss\n",
        "            loss = criterion(output, target)\n",
        "            # backward pass: compute gradient of the loss with respect to model parameters\n",
        "            loss.backward()\n",
        "            # perform a single optimization step (parameter update)\n",
        "            optimizer.step()\n",
        "            # update training loss\n",
        "            train_loss += loss.item()\n",
        "\n",
        "            my_lr_scheduler.step()\n",
        "\n",
        "            if batch_i % 20 == 19:  # print training loss every specified number of mini-batches\n",
        "                print('Epoch %d, Batch %d loss: %.16f' %\n",
        "                    (epoch, batch_i + 1, train_loss / 20))\n",
        "                losses.append(train_loss / 20)\n",
        "                train_loss = 0.0\n",
        "        \n",
        "        \n",
        "\n",
        "    return resnet50, losses"
      ],
      "execution_count": 3,
      "outputs": []
    },
    {
      "cell_type": "markdown",
      "metadata": {
        "id": "-Rrxo5RDz96U"
      },
      "source": [
        "Module: Test_model"
      ]
    },
    {
      "cell_type": "code",
      "metadata": {
        "id": "Ay-HlMJnxU9v"
      },
      "source": [
        "def test_model(classes, resnet50, test_loader, criterion):\n",
        "    # track test loss\n",
        "    test_loss = 0.0\n",
        "    class_correct = list(0. for i in range(len(classes)))\n",
        "    class_total = list(0. for i in range(len(classes)))\n",
        "\n",
        "    resnet50.eval()  # eval mode\n",
        "\n",
        "    labels = []\n",
        "    predictions = []\n",
        "    # iterate over test data\n",
        "    for data, target in test_loader:\n",
        "        # move tensors to GPU if CUDA is available\n",
        "        if train_on_gpu:\n",
        "            data, target = data.cuda(), target.cuda()\n",
        "        # forward pass: compute predicted outputs by passing inputs to the model\n",
        "        output = resnet50(data)\n",
        "        # calculate the batch loss\n",
        "        loss = criterion(output, target)\n",
        "        # update  test loss\n",
        "        test_loss += loss.item() * data.size(0)\n",
        "        # convert output probabilities to predicted class\n",
        "        _, pred = torch.max(output, 1)\n",
        "        # compare predictions to true label\n",
        "        correct_tensor = pred.eq(target.data.view_as(pred))\n",
        "        correct = np.squeeze(correct_tensor.numpy()) if not train_on_gpu else np.squeeze(correct_tensor.cpu().numpy())\n",
        "        # calculate test accuracy for each object class\n",
        "        for i in range(len(target.data)):\n",
        "            label = target.data[i]\n",
        "            class_correct[label] += correct[i].item()\n",
        "            class_total[label] += 1\n",
        "        \n",
        "        # Will be used for calculating Recall, Precision, and F1-score\n",
        "        labels.extend(target.data.view_as(pred).tolist())\n",
        "        predictions.extend(pred.tolist())\n",
        "\n",
        "\n",
        "    # calculate avg test loss\n",
        "    test_loss = test_loss / len(test_loader.dataset)\n",
        "    print('Test Loss: {:.6f}\\n'.format(test_loss))\n",
        "\n",
        "    return test_loss, class_correct, class_total, labels, predictions"
      ],
      "execution_count": 4,
      "outputs": []
    },
    {
      "cell_type": "markdown",
      "metadata": {
        "id": "xHh3PXE80Asa"
      },
      "source": [
        "Check whether CUDA is available (Change runtime type if not)"
      ]
    },
    {
      "cell_type": "code",
      "metadata": {
        "colab": {
          "base_uri": "https://localhost:8080/"
        },
        "id": "Q9TYPQH7x4zw",
        "outputId": "ba9aa265-e440-4a30-8409-99028d80e429"
      },
      "source": [
        "if not train_on_gpu:\n",
        "    print('CUDA is not available.  Training on CPU ...')\n",
        "else:\n",
        "    print('CUDA is available!  Training on GPU ...')"
      ],
      "execution_count": 5,
      "outputs": [
        {
          "output_type": "stream",
          "name": "stdout",
          "text": [
            "CUDA is available!  Training on GPU ...\n"
          ]
        }
      ]
    },
    {
      "cell_type": "markdown",
      "metadata": {
        "id": "6lYw8EKVx8Q7"
      },
      "source": [
        "Load Hieroglyph Data"
      ]
    },
    {
      "cell_type": "code",
      "metadata": {
        "colab": {
          "base_uri": "https://localhost:8080/"
        },
        "id": "laLvoRy1yewl",
        "outputId": "876bd9d4-39f6-423a-e600-170d6234c183"
      },
      "source": [
        "# Connecting and Mounting to the Google Drive\n",
        "from google.colab import drive\n",
        "drive.mount('/content/drive')"
      ],
      "execution_count": 6,
      "outputs": [
        {
          "output_type": "stream",
          "name": "stdout",
          "text": [
            "Mounted at /content/drive\n"
          ]
        }
      ]
    },
    {
      "cell_type": "code",
      "metadata": {
        "id": "odaoZt9GyfUt"
      },
      "source": [
        "data_dir = '/content/drive/MyDrive/EgyptianHieroglyphDataset_Original_Clean/'"
      ],
      "execution_count": 7,
      "outputs": []
    },
    {
      "cell_type": "code",
      "metadata": {
        "colab": {
          "base_uri": "https://localhost:8080/"
        },
        "id": "dF22MAnmyiC1",
        "outputId": "5469f6c7-d795-47f8-f4eb-b1cb1ad0193c"
      },
      "source": [
        "hieroglyph_for_train = []\n",
        "file_count_list = []\n",
        "\n",
        "for name in os.listdir('/content/drive/MyDrive/EgyptianHieroglyphDataset_Original_Clean/train/'):\n",
        "  path, dirs, files = next(os.walk(\"/content/drive/MyDrive/EgyptianHieroglyphDataset_Original_Clean/train/\"+name))\n",
        "  file_count = len(files)\n",
        "  print(name, file_count)\n",
        "  file_count_list.append(file_count)\n",
        "  hieroglyph_for_train.append(name)\n",
        "\n",
        "hieroglyph_dict = dict(zip(hieroglyph_for_train, file_count_list))"
      ],
      "execution_count": 8,
      "outputs": [
        {
          "output_type": "stream",
          "name": "stdout",
          "text": [
            "Y5 6\n",
            "I9 116\n",
            "O34 15\n",
            "V13 63\n",
            "U7 3\n",
            "D46 40\n",
            "E34 97\n",
            "G1 28\n",
            "V31 106\n",
            "S34 8\n",
            "D36 47\n",
            "Q1 13\n",
            "V30 6\n",
            "F35 2\n",
            "O4 11\n",
            "M23 30\n",
            "S29 212\n",
            "R8 53\n",
            "W11 4\n",
            "X1 185\n",
            "Y1 1\n",
            "D21 146\n",
            "D2 19\n",
            "E23 8\n",
            "X8 4\n",
            "Z1 39\n",
            "D4 29\n",
            "V28 28\n",
            "I10 32\n",
            "O1 16\n",
            "M17 291\n",
            "F31 6\n",
            "G43 157\n",
            "D58 28\n",
            "O49 10\n",
            "G17 156\n",
            "R4 2\n",
            "Q3 61\n",
            "W24 31\n",
            "N35 358\n"
          ]
        }
      ]
    },
    {
      "cell_type": "markdown",
      "metadata": {
        "id": "XeQQ7PjZzKd9"
      },
      "source": [
        "Number of images for each hieroglyph "
      ]
    },
    {
      "cell_type": "code",
      "metadata": {
        "colab": {
          "base_uri": "https://localhost:8080/",
          "height": 609
        },
        "id": "W6IzWR2RyjxM",
        "outputId": "dee7f363-193d-442e-b0e0-e61e9efa6590"
      },
      "source": [
        "import matplotlib.pyplot as plt\n",
        "import pandas as pd\n",
        "\n",
        "df = pd.DataFrame({\"Hieroglyph\":hieroglyph_for_train, \"Count\":file_count_list})\n",
        "\n",
        "df_sorted= df.sort_values('Count',ascending=False)\n",
        "\n",
        "plt.figure(figsize=(20,10))\n",
        "# make bar plot with matplotlib\n",
        "plt.bar('Hieroglyph', 'Count',data=df_sorted)"
      ],
      "execution_count": 9,
      "outputs": [
        {
          "output_type": "execute_result",
          "data": {
            "text/plain": [
              "<BarContainer object of 40 artists>"
            ]
          },
          "metadata": {},
          "execution_count": 9
        },
        {
          "output_type": "display_data",
          "data": {
            "image/png": "[encoded data removed]",
            "text/plain": [
              "<Figure size 1440x720 with 1 Axes>"
            ]
          },
          "metadata": {
            "needs_background": "light"
          }
        }
      ]
    },
    {
      "cell_type": "code",
      "metadata": {
        "id": "-3oOm8rSx7tp"
      },
      "source": [
        "# Number of images processed in a single training\n",
        "batch_size = 20\n",
        "num_workers = 0\n",
        "\n",
        "# The load_data function is from hieroglyph_data_preparation python file\n",
        "train_loader, test_loader, classes = load_data(data_dir)"
      ],
      "execution_count": 10,
      "outputs": []
    },
    {
      "cell_type": "markdown",
      "metadata": {
        "id": "BJm8sGiBx_q5"
      },
      "source": [
        "ResNet Model"
      ]
    },
    {
      "cell_type": "code",
      "metadata": {
        "id": "JkLXVJGkxemC"
      },
      "source": [
        "# Whether to extract features with the model\n",
        "feature_extract = False\n",
        "# Other selections\n",
        "loss_function = \"cross-entropy\"\n",
        "model_selection = \"resnet-50\"\n",
        "optim_selection = \"Adam\"\n",
        "\n",
        "# False if you want scratch model, True if you want pretrained model\n",
        "whether_to_pretrain = False\n",
        "\n",
        "# Load the model\n",
        "if model_selection == \"resnet-50\":\n",
        "    resnet50 = models.resnet50(pretrained=whether_to_pretrain)\n",
        "\n",
        "# Number of features in the last layer of resnet\n",
        "n_inputs = resnet50.fc.in_features\n",
        "\n",
        "# Add last linear layer (n_inputs -> 40 hieroglyph classes)\n",
        "# New layers automatically have requires_grad = True\n",
        "last_layer = nn.Sequential(\n",
        "                nn.Linear(n_inputs, len(classes)))\n",
        "\n",
        "resnet50.fc = last_layer\n",
        "\n",
        "# if GPU is available, move the model to GPU\n",
        "if train_on_gpu:\n",
        "    resnet50.cuda()\n",
        "\n",
        "# Specify loss function (categorical cross-entropy)\n",
        "if loss_function == \"cross-entropy\":\n",
        "    criterion = nn.CrossEntropyLoss()\n",
        "\n",
        "# Specify optimizer (Adam) and learning rate = 0.001\n",
        "if optim_selection == \"Adam\":\n",
        "    optimizer = optim.Adam(resnet50.parameters(), lr=0.001)\n",
        "\n",
        "# Exponential Decay to strengthen learning\n",
        "decayRate = 0.999\n",
        "my_lr_scheduler = torch.optim.lr_scheduler.ExponentialLR(optimizer=optimizer, gamma=decayRate)"
      ],
      "execution_count": 11,
      "outputs": []
    },
    {
      "cell_type": "markdown",
      "metadata": {
        "id": "U2vnErB1yHmM"
      },
      "source": [
        "Training the model"
      ]
    },
    {
      "cell_type": "code",
      "metadata": {
        "colab": {
          "base_uri": "https://localhost:8080/"
        },
        "id": "dOB03noWyEvQ",
        "outputId": "8069e28d-1a6a-4285-9d4d-a68cbd54ad97"
      },
      "source": [
        "# number of epochs to train the model\n",
        "n_epochs = 50\n",
        "\n",
        "# The train_model function is from model_training python file\n",
        "resnet50, train_losses = train_model(train_loader, optimizer, resnet50, criterion, my_lr_scheduler, n_epochs)"
      ],
      "execution_count": 12,
      "outputs": [
        {
          "output_type": "stream",
          "name": "stdout",
          "text": [
            "Epoch 1, Batch 20 loss: 3.6345160722732546\n",
            "Epoch 1, Batch 40 loss: 2.4741642177104950\n",
            "Epoch 1, Batch 60 loss: 1.6350368320941926\n",
            "Epoch 1, Batch 80 loss: 1.2497449696063996\n",
            "Epoch 1, Batch 100 loss: 0.9443264827132225\n",
            "Epoch 1, Batch 120 loss: 0.7234886974096298\n",
            "Epoch 2, Batch 20 loss: 0.6913843713700771\n",
            "Epoch 2, Batch 40 loss: 0.5552584622055292\n",
            "Epoch 2, Batch 60 loss: 0.6116534039378166\n",
            "Epoch 2, Batch 80 loss: 0.5034731864929199\n",
            "Epoch 2, Batch 100 loss: 0.4195830233395100\n",
            "Epoch 2, Batch 120 loss: 0.3399832259863615\n",
            "Epoch 3, Batch 20 loss: 0.3315665431320667\n",
            "Epoch 3, Batch 40 loss: 0.2101824983954430\n",
            "Epoch 3, Batch 60 loss: 0.2636036219075322\n",
            "Epoch 3, Batch 80 loss: 0.2281107636168599\n",
            "Epoch 3, Batch 100 loss: 0.2771397659555078\n",
            "Epoch 3, Batch 120 loss: 0.2220371290110052\n",
            "Epoch 4, Batch 20 loss: 0.1452880773926154\n",
            "Epoch 4, Batch 40 loss: 0.1386462114751339\n",
            "Epoch 4, Batch 60 loss: 0.2196414434118196\n",
            "Epoch 4, Batch 80 loss: 0.1654013325460255\n",
            "Epoch 4, Batch 100 loss: 0.1143874277360737\n",
            "Epoch 4, Batch 120 loss: 0.1262132109608501\n",
            "Epoch 5, Batch 20 loss: 0.1125190094229765\n",
            "Epoch 5, Batch 40 loss: 0.1017424783902243\n",
            "Epoch 5, Batch 60 loss: 0.0551011294126511\n",
            "Epoch 5, Batch 80 loss: 0.0818483771989122\n",
            "Epoch 5, Batch 100 loss: 0.1228272322274279\n",
            "Epoch 5, Batch 120 loss: 0.1713075122330338\n",
            "Epoch 6, Batch 20 loss: 0.0520196052850224\n",
            "Epoch 6, Batch 40 loss: 0.0860871247947216\n",
            "Epoch 6, Batch 60 loss: 0.0561654845601879\n",
            "Epoch 6, Batch 80 loss: 0.1070000200881623\n",
            "Epoch 6, Batch 100 loss: 0.0858212951570749\n",
            "Epoch 6, Batch 120 loss: 0.0572101244702935\n",
            "Epoch 7, Batch 20 loss: 0.0555702136654872\n",
            "Epoch 7, Batch 40 loss: 0.0180653905961663\n",
            "Epoch 7, Batch 60 loss: 0.0240770213014912\n",
            "Epoch 7, Batch 80 loss: 0.0214381963422056\n",
            "Epoch 7, Batch 100 loss: 0.0189977768401150\n",
            "Epoch 7, Batch 120 loss: 0.0270788294845261\n",
            "Epoch 8, Batch 20 loss: 0.0124541280500125\n",
            "Epoch 8, Batch 40 loss: 0.0247147141024470\n",
            "Epoch 8, Batch 60 loss: 0.0185521497885929\n",
            "Epoch 8, Batch 80 loss: 0.0391017980058678\n",
            "Epoch 8, Batch 100 loss: 0.0354501066496596\n",
            "Epoch 8, Batch 120 loss: 0.0053566340997349\n",
            "Epoch 9, Batch 20 loss: 0.0027330578828696\n",
            "Epoch 9, Batch 40 loss: 0.0048446092783706\n",
            "Epoch 9, Batch 60 loss: 0.0114650533520035\n",
            "Epoch 9, Batch 80 loss: 0.0054874565677892\n",
            "Epoch 9, Batch 100 loss: 0.0017702600867779\n",
            "Epoch 9, Batch 120 loss: 0.0033995854901150\n",
            "Epoch 10, Batch 20 loss: 0.0015665790415369\n",
            "Epoch 10, Batch 40 loss: 0.0008554890759115\n",
            "Epoch 10, Batch 60 loss: 0.0012220072356286\n",
            "Epoch 10, Batch 80 loss: 0.0010924814996542\n",
            "Epoch 10, Batch 100 loss: 0.0015945263043250\n",
            "Epoch 10, Batch 120 loss: 0.0021737896437116\n",
            "Epoch 11, Batch 20 loss: 0.0015092540772457\n",
            "Epoch 11, Batch 40 loss: 0.0015118313986022\n",
            "Epoch 11, Batch 60 loss: 0.0061674578693783\n",
            "Epoch 11, Batch 80 loss: 0.0136368342369678\n",
            "Epoch 11, Batch 100 loss: 0.0743610291203367\n",
            "Epoch 11, Batch 120 loss: 0.0065231096436037\n",
            "Epoch 12, Batch 20 loss: 0.0055847790034022\n",
            "Epoch 12, Batch 40 loss: 0.0079032936992007\n",
            "Epoch 12, Batch 60 loss: 0.0204778464714764\n",
            "Epoch 12, Batch 80 loss: 0.0069139849212661\n",
            "Epoch 12, Batch 100 loss: 0.0159989934509213\n",
            "Epoch 12, Batch 120 loss: 0.0074533761217026\n",
            "Epoch 13, Batch 20 loss: 0.0233709478605306\n",
            "Epoch 13, Batch 40 loss: 0.0224479448836064\n",
            "Epoch 13, Batch 60 loss: 0.0137107252900023\n",
            "Epoch 13, Batch 80 loss: 0.0108703486650484\n",
            "Epoch 13, Batch 100 loss: 0.0029679039318580\n",
            "Epoch 13, Batch 120 loss: 0.0053826636663871\n",
            "Epoch 14, Batch 20 loss: 0.0035807471096632\n",
            "Epoch 14, Batch 40 loss: 0.0058805368724279\n",
            "Epoch 14, Batch 60 loss: 0.0019371757196495\n",
            "Epoch 14, Batch 80 loss: 0.0019120049182675\n",
            "Epoch 14, Batch 100 loss: 0.0056314508750802\n",
            "Epoch 14, Batch 120 loss: 0.0027920917011215\n",
            "Epoch 15, Batch 20 loss: 0.0011629289972916\n",
            "Epoch 15, Batch 40 loss: 0.0007920522792119\n",
            "Epoch 15, Batch 60 loss: 0.0008198333747714\n",
            "Epoch 15, Batch 80 loss: 0.0009828644288064\n",
            "Epoch 15, Batch 100 loss: 0.0082134130276245\n",
            "Epoch 15, Batch 120 loss: 0.0007062336604577\n",
            "Epoch 16, Batch 20 loss: 0.0010927528666798\n",
            "Epoch 16, Batch 40 loss: 0.0017812469523051\n",
            "Epoch 16, Batch 60 loss: 0.0007878223266744\n",
            "Epoch 16, Batch 80 loss: 0.0012644000513319\n",
            "Epoch 16, Batch 100 loss: 0.0019789745008893\n",
            "Epoch 16, Batch 120 loss: 0.0004483271150093\n",
            "Epoch 17, Batch 20 loss: 0.0011893573180714\n",
            "Epoch 17, Batch 40 loss: 0.0006766462040105\n",
            "Epoch 17, Batch 60 loss: 0.0009297238474574\n",
            "Epoch 17, Batch 80 loss: 0.0006586445077119\n",
            "Epoch 17, Batch 100 loss: 0.0006418591270631\n",
            "Epoch 17, Batch 120 loss: 0.0003631316660176\n",
            "Epoch 18, Batch 20 loss: 0.0010962003158056\n",
            "Epoch 18, Batch 40 loss: 0.0007482047520170\n",
            "Epoch 18, Batch 60 loss: 0.0006901791679411\n",
            "Epoch 18, Batch 80 loss: 0.0003272975656728\n",
            "Epoch 18, Batch 100 loss: 0.0020837155543632\n",
            "Epoch 18, Batch 120 loss: 0.0005366535893700\n",
            "Epoch 19, Batch 20 loss: 0.0006671250366708\n",
            "Epoch 19, Batch 40 loss: 0.0004292295034247\n",
            "Epoch 19, Batch 60 loss: 0.0004602583503583\n",
            "Epoch 19, Batch 80 loss: 0.0005156085306226\n",
            "Epoch 19, Batch 100 loss: 0.0004531822400168\n",
            "Epoch 19, Batch 120 loss: 0.0003152666278766\n",
            "Epoch 20, Batch 20 loss: 0.0004057146721607\n",
            "Epoch 20, Batch 40 loss: 0.0004582891273458\n",
            "Epoch 20, Batch 60 loss: 0.0016614392226984\n",
            "Epoch 20, Batch 80 loss: 0.0003121255083897\n",
            "Epoch 20, Batch 100 loss: 0.0005430018950392\n",
            "Epoch 20, Batch 120 loss: 0.0005259401230433\n",
            "Epoch 21, Batch 20 loss: 0.0004755898793519\n",
            "Epoch 21, Batch 40 loss: 0.0005038151461122\n",
            "Epoch 21, Batch 60 loss: 0.0004586087170537\n",
            "Epoch 21, Batch 80 loss: 0.0005375098791774\n",
            "Epoch 21, Batch 100 loss: 0.0002614908664327\n",
            "Epoch 21, Batch 120 loss: 0.0005100249974930\n",
            "Epoch 22, Batch 20 loss: 0.0006377545723808\n",
            "Epoch 22, Batch 40 loss: 0.0002323758764760\n",
            "Epoch 22, Batch 60 loss: 0.0003957003593314\n",
            "Epoch 22, Batch 80 loss: 0.0002969236284116\n",
            "Epoch 22, Batch 100 loss: 0.0002928550135039\n",
            "Epoch 22, Batch 120 loss: 0.0004075984623341\n",
            "Epoch 23, Batch 20 loss: 0.0001767966095940\n",
            "Epoch 23, Batch 40 loss: 0.0001868120286417\n",
            "Epoch 23, Batch 60 loss: 0.0002029206361840\n",
            "Epoch 23, Batch 80 loss: 0.0003010483098478\n",
            "Epoch 23, Batch 100 loss: 0.0002183100194088\n",
            "Epoch 23, Batch 120 loss: 0.0001889811778710\n",
            "Epoch 24, Batch 20 loss: 0.0006199127482432\n",
            "Epoch 24, Batch 40 loss: 0.0003546583508069\n",
            "Epoch 24, Batch 60 loss: 0.0002070450875181\n",
            "Epoch 24, Batch 80 loss: 0.0002128039343006\n",
            "Epoch 24, Batch 100 loss: 0.0002641839802891\n",
            "Epoch 24, Batch 120 loss: 0.0002504885006601\n",
            "Epoch 25, Batch 20 loss: 0.0009777340950677\n",
            "Epoch 25, Batch 40 loss: 0.0002728360375841\n",
            "Epoch 25, Batch 60 loss: 0.0002884895349780\n",
            "Epoch 25, Batch 80 loss: 0.0002249510565889\n",
            "Epoch 25, Batch 100 loss: 0.0006398510580766\n",
            "Epoch 25, Batch 120 loss: 0.0002089388357490\n",
            "Epoch 26, Batch 20 loss: 0.0004804599487215\n",
            "Epoch 26, Batch 40 loss: 0.0001895095777400\n",
            "Epoch 26, Batch 60 loss: 0.0002407712137938\n",
            "Epoch 26, Batch 80 loss: 0.0002207724193795\n",
            "Epoch 26, Batch 100 loss: 0.0001756965238201\n",
            "Epoch 26, Batch 120 loss: 0.0002325643521544\n",
            "Epoch 27, Batch 20 loss: 0.0002592083897980\n",
            "Epoch 27, Batch 40 loss: 0.0001498843949776\n",
            "Epoch 27, Batch 60 loss: 0.0001923585942677\n",
            "Epoch 27, Batch 80 loss: 0.0002604518442240\n",
            "Epoch 27, Batch 100 loss: 0.0002239286386612\n",
            "Epoch 27, Batch 120 loss: 0.0002136395663001\n",
            "Epoch 28, Batch 20 loss: 0.0002290956493198\n",
            "Epoch 28, Batch 40 loss: 0.0002011453195337\n",
            "Epoch 28, Batch 60 loss: 0.0003615106796133\n",
            "Epoch 28, Batch 80 loss: 0.0002775801117423\n",
            "Epoch 28, Batch 100 loss: 0.0001585178322784\n",
            "Epoch 28, Batch 120 loss: 0.0001384798420077\n",
            "Epoch 29, Batch 20 loss: 0.0001296466169151\n",
            "Epoch 29, Batch 40 loss: 0.0001913289762342\n",
            "Epoch 29, Batch 60 loss: 0.0001924769585457\n",
            "Epoch 29, Batch 80 loss: 0.0002040377419689\n",
            "Epoch 29, Batch 100 loss: 0.0001833997595895\n",
            "Epoch 29, Batch 120 loss: 0.0006075345081626\n",
            "Epoch 30, Batch 20 loss: 0.0002088984713737\n",
            "Epoch 30, Batch 40 loss: 0.0001582118777151\n",
            "Epoch 30, Batch 60 loss: 0.0004770775085490\n",
            "Epoch 30, Batch 80 loss: 0.0002281451535964\n",
            "Epoch 30, Batch 100 loss: 0.0002569986940216\n",
            "Epoch 30, Batch 120 loss: 0.0002964231010992\n",
            "Epoch 31, Batch 20 loss: 0.0002118910281752\n",
            "Epoch 31, Batch 40 loss: 0.0001672186705036\n",
            "Epoch 31, Batch 60 loss: 0.0003033049586520\n",
            "Epoch 31, Batch 80 loss: 0.0001997413188292\n",
            "Epoch 31, Batch 100 loss: 0.0001992998861169\n",
            "Epoch 31, Batch 120 loss: 0.0002088364164592\n",
            "Epoch 32, Batch 20 loss: 0.0002937018096418\n",
            "Epoch 32, Batch 40 loss: 0.0001096752368539\n",
            "Epoch 32, Batch 60 loss: 0.0001372051572162\n",
            "Epoch 32, Batch 80 loss: 0.0001399854454576\n",
            "Epoch 32, Batch 100 loss: 0.0002289370189828\n",
            "Epoch 32, Batch 120 loss: 0.0001986350664083\n",
            "Epoch 33, Batch 20 loss: 0.0002114664155670\n",
            "Epoch 33, Batch 40 loss: 0.0001414115353327\n",
            "Epoch 33, Batch 60 loss: 0.0002162228818634\n",
            "Epoch 33, Batch 80 loss: 0.0002280714388689\n",
            "Epoch 33, Batch 100 loss: 0.0002334511911613\n",
            "Epoch 33, Batch 120 loss: 0.0001793878587705\n",
            "Epoch 34, Batch 20 loss: 0.0000983251857178\n",
            "Epoch 34, Batch 40 loss: 0.0001397590178385\n",
            "Epoch 34, Batch 60 loss: 0.0001609661983366\n",
            "Epoch 34, Batch 80 loss: 0.0002262997799335\n",
            "Epoch 34, Batch 100 loss: 0.0002933341422249\n",
            "Epoch 34, Batch 120 loss: 0.0001366189557302\n",
            "Epoch 35, Batch 20 loss: 0.0001712439094263\n",
            "Epoch 35, Batch 40 loss: 0.0001634401883166\n",
            "Epoch 35, Batch 60 loss: 0.0001802772716474\n",
            "Epoch 35, Batch 80 loss: 0.0001731593114528\n",
            "Epoch 35, Batch 100 loss: 0.0001450772530006\n",
            "Epoch 35, Batch 120 loss: 0.0002343941621803\n",
            "Epoch 36, Batch 20 loss: 0.0001486708488301\n",
            "Epoch 36, Batch 40 loss: 0.0001668624429840\n",
            "Epoch 36, Batch 60 loss: 0.0004439937596544\n",
            "Epoch 36, Batch 80 loss: 0.0001377058035359\n",
            "Epoch 36, Batch 100 loss: 0.0001924306343426\n",
            "Epoch 36, Batch 120 loss: 0.0001572193928041\n",
            "Epoch 37, Batch 20 loss: 0.0001377468479404\n",
            "Epoch 37, Batch 40 loss: 0.0001455603631257\n",
            "Epoch 37, Batch 60 loss: 0.0001774437058884\n",
            "Epoch 37, Batch 80 loss: 0.0001648018439482\n",
            "Epoch 37, Batch 100 loss: 0.0001191004727843\n",
            "Epoch 37, Batch 120 loss: 0.0002873507556160\n",
            "Epoch 38, Batch 20 loss: 0.0001476283338889\n",
            "Epoch 38, Batch 40 loss: 0.0001670569000453\n",
            "Epoch 38, Batch 60 loss: 0.0001371795314299\n",
            "Epoch 38, Batch 80 loss: 0.0001390939889461\n",
            "Epoch 38, Batch 100 loss: 0.0001697770530882\n",
            "Epoch 38, Batch 120 loss: 0.0002618470204652\n",
            "Epoch 39, Batch 20 loss: 0.0001675582170719\n",
            "Epoch 39, Batch 40 loss: 0.0002050706360933\n",
            "Epoch 39, Batch 60 loss: 0.0001511569042123\n",
            "Epoch 39, Batch 80 loss: 0.0001810778865547\n",
            "Epoch 39, Batch 100 loss: 0.0001390132439610\n",
            "Epoch 39, Batch 120 loss: 0.0001335493449005\n",
            "Epoch 40, Batch 20 loss: 0.0002145743086658\n",
            "Epoch 40, Batch 40 loss: 0.0002100554496792\n",
            "Epoch 40, Batch 60 loss: 0.0001886991328320\n",
            "Epoch 40, Batch 80 loss: 0.0000906178653167\n",
            "Epoch 40, Batch 100 loss: 0.0001512454489784\n",
            "Epoch 40, Batch 120 loss: 0.0002054462363049\n",
            "Epoch 41, Batch 20 loss: 0.0001049325230269\n",
            "Epoch 41, Batch 40 loss: 0.0001233371172020\n",
            "Epoch 41, Batch 60 loss: 0.0001542298666209\n",
            "Epoch 41, Batch 80 loss: 0.0001768945236108\n",
            "Epoch 41, Batch 100 loss: 0.0001629867739666\n",
            "Epoch 41, Batch 120 loss: 0.0002526408530684\n",
            "Epoch 42, Batch 20 loss: 0.0001964117243915\n",
            "Epoch 42, Batch 40 loss: 0.0001209220938108\n",
            "Epoch 42, Batch 60 loss: 0.0001137900360845\n",
            "Epoch 42, Batch 80 loss: 0.0001462731404899\n",
            "Epoch 42, Batch 100 loss: 0.0001115902658057\n",
            "Epoch 42, Batch 120 loss: 0.0001610089717360\n",
            "Epoch 43, Batch 20 loss: 0.0001353985391688\n",
            "Epoch 43, Batch 40 loss: 0.0001563736283970\n",
            "Epoch 43, Batch 60 loss: 0.0002407354492789\n",
            "Epoch 43, Batch 80 loss: 0.0002088309042847\n",
            "Epoch 43, Batch 100 loss: 0.0001877357285593\n",
            "Epoch 43, Batch 120 loss: 0.0002733874202022\n",
            "Epoch 44, Batch 20 loss: 0.0001129801420575\n",
            "Epoch 44, Batch 40 loss: 0.0001550640210553\n",
            "Epoch 44, Batch 60 loss: 0.0001459573175907\n",
            "Epoch 44, Batch 80 loss: 0.0001347084810732\n",
            "Epoch 44, Batch 100 loss: 0.0001187831083371\n",
            "Epoch 44, Batch 120 loss: 0.0002450839238008\n",
            "Epoch 45, Batch 20 loss: 0.0002016905231358\n",
            "Epoch 45, Batch 40 loss: 0.0001360698971439\n",
            "Epoch 45, Batch 60 loss: 0.0001756159757861\n",
            "Epoch 45, Batch 80 loss: 0.0000832302420349\n",
            "Epoch 45, Batch 100 loss: 0.0002047752357612\n",
            "Epoch 45, Batch 120 loss: 0.0001861707502940\n",
            "Epoch 46, Batch 20 loss: 0.0001941676410297\n",
            "Epoch 46, Batch 40 loss: 0.0002209734670032\n",
            "Epoch 46, Batch 60 loss: 0.0001639618879381\n",
            "Epoch 46, Batch 80 loss: 0.0001432449412277\n",
            "Epoch 46, Batch 100 loss: 0.0001318416310824\n",
            "Epoch 46, Batch 120 loss: 0.0001333870804046\n",
            "Epoch 47, Batch 20 loss: 0.0002326376428755\n",
            "Epoch 47, Batch 40 loss: 0.0001470070619689\n",
            "Epoch 47, Batch 60 loss: 0.0001183481833323\n",
            "Epoch 47, Batch 80 loss: 0.0001256965981156\n",
            "Epoch 47, Batch 100 loss: 0.0001638853939767\n",
            "Epoch 47, Batch 120 loss: 0.0001561897675856\n",
            "Epoch 48, Batch 20 loss: 0.0000817376330360\n",
            "Epoch 48, Batch 40 loss: 0.0001464335088713\n",
            "Epoch 48, Batch 60 loss: 0.0007097779308879\n",
            "Epoch 48, Batch 80 loss: 0.0001336743739557\n",
            "Epoch 48, Batch 100 loss: 0.0001665905211667\n",
            "Epoch 48, Batch 120 loss: 0.0001290488254199\n",
            "Epoch 49, Batch 20 loss: 0.0001191654328068\n",
            "Epoch 49, Batch 40 loss: 0.0002389975444203\n",
            "Epoch 49, Batch 60 loss: 0.0001780677202987\n",
            "Epoch 49, Batch 80 loss: 0.0001415221024217\n",
            "Epoch 49, Batch 100 loss: 0.0001551891146846\n",
            "Epoch 49, Batch 120 loss: 0.0001320027291968\n",
            "Epoch 50, Batch 20 loss: 0.0002043671166575\n",
            "Epoch 50, Batch 40 loss: 0.0001088013681510\n",
            "Epoch 50, Batch 60 loss: 0.0002698240445170\n",
            "Epoch 50, Batch 80 loss: 0.0001386940263728\n",
            "Epoch 50, Batch 100 loss: 0.0002514888610676\n",
            "Epoch 50, Batch 120 loss: 0.0001463077533117\n"
          ]
        }
      ]
    },
    {
      "cell_type": "code",
      "metadata": {
        "id": "CfA7ZjLR1BZP",
        "colab": {
          "base_uri": "https://localhost:8080/",
          "height": 281
        },
        "outputId": "c1cf029e-54b3-48e7-f598-88d066baf5cf"
      },
      "source": [
        "plt.plot(train_losses)\n",
        "plt.title(\"Training Loss\")\n",
        "plt.show()"
      ],
      "execution_count": 13,
      "outputs": [
        {
          "output_type": "display_data",
          "data": {
            "image/png": "[encoded data removed]",
            "text/plain": [
              "<Figure size 432x288 with 1 Axes>"
            ]
          },
          "metadata": {
            "needs_background": "light"
          }
        }
      ]
    },
    {
      "cell_type": "markdown",
      "metadata": {
        "id": "ItLyF9dQyJFL"
      },
      "source": [
        "Testing the model"
      ]
    },
    {
      "cell_type": "code",
      "metadata": {
        "id": "gGki98W3SoEW"
      },
      "source": [
        "from sklearn.metrics import precision_score, recall_score, f1_score, accuracy_score"
      ],
      "execution_count": 14,
      "outputs": []
    },
    {
      "cell_type": "code",
      "metadata": {
        "id": "xNavYOynyE6d",
        "colab": {
          "base_uri": "https://localhost:8080/"
        },
        "outputId": "14a2d78a-b9c9-493e-bc01-cacd9e846ca3"
      },
      "source": [
        "# The test_model function is from model_testing python file\n",
        "test_loss, class_correct, class_total, labels, predictions = test_model(classes, resnet50, test_loader, criterion)\n",
        "\n",
        "# Test accuracy for each hieroglyph\n",
        "for i in range(len(classes)):\n",
        "    if class_total[i] > 0:\n",
        "        print('Test Accuracy of %5s: %2d%% (%2d/%2d)' % (classes[i], 100 * class_correct[i] / class_total[i], np.sum(class_correct[i]), np.sum(class_total[i])))\n",
        "    else:\n",
        "        print('Test Accuracy of %5s: N/A (no training examples)' % (classes[i]))\n",
        "\n",
        "# Total Test accuracy\n",
        "print(\"\\nAccuracy: {:.3%}\".format(accuracy_score(labels, predictions)))\n",
        "print(\"\\nPrecision: {:.3%}\".format(precision_score(labels, predictions, average = 'weighted')))\n",
        "print(\"\\nRecall: {:.3%}\".format(recall_score(labels, predictions, average = 'weighted')))\n",
        "print(\"\\nF1-score: {:.3%}\".format(f1_score(labels, predictions, average = 'weighted')))"
      ],
      "execution_count": 15,
      "outputs": [
        {
          "output_type": "stream",
          "name": "stdout",
          "text": [
            "Test Loss: 5.476831\n",
            "\n",
            "Test Accuracy of    D2: 20% ( 1/ 5)\n",
            "Test Accuracy of   D21:  5% ( 2/36)\n",
            "Test Accuracy of   D36:  0% ( 0/12)\n",
            "Test Accuracy of    D4:  0% ( 0/ 8)\n",
            "Test Accuracy of   D46:  9% ( 1/11)\n",
            "Test Accuracy of   D58: 25% ( 2/ 8)\n",
            "Test Accuracy of   E23:  0% ( 0/ 2)\n",
            "Test Accuracy of   E34:  4% ( 1/25)\n",
            "Test Accuracy of   F31: 100% ( 2/ 2)\n",
            "Test Accuracy of   F35:  0% ( 0/ 1)\n",
            "Test Accuracy of    G1: 14% ( 1/ 7)\n",
            "Test Accuracy of   G17: 46% (18/39)\n",
            "Test Accuracy of   G43: 17% ( 7/40)\n",
            "Test Accuracy of   I10: 33% ( 3/ 9)\n",
            "Test Accuracy of    I9:  6% ( 2/30)\n",
            "Test Accuracy of   M17: 16% (12/73)\n",
            "Test Accuracy of   M23:  0% ( 0/ 8)\n",
            "Test Accuracy of   N35: 70% (63/90)\n",
            "Test Accuracy of    O1: 25% ( 1/ 4)\n",
            "Test Accuracy of   O34:  0% ( 0/ 4)\n",
            "Test Accuracy of    O4:  0% ( 0/ 3)\n",
            "Test Accuracy of   O49:  0% ( 0/ 3)\n",
            "Test Accuracy of    Q1: 25% ( 1/ 4)\n",
            "Test Accuracy of    Q3: 18% ( 3/16)\n",
            "Test Accuracy of    R4:  0% ( 0/ 1)\n",
            "Test Accuracy of    R8: 14% ( 2/14)\n",
            "Test Accuracy of   S29: 18% (10/53)\n",
            "Test Accuracy of   S34:  0% ( 0/ 2)\n",
            "Test Accuracy of    U7:  0% ( 0/ 1)\n",
            "Test Accuracy of   V13:  0% ( 0/16)\n",
            "Test Accuracy of   V28:  0% ( 0/ 8)\n",
            "Test Accuracy of   V30:  0% ( 0/ 2)\n",
            "Test Accuracy of   V31: 22% ( 6/27)\n",
            "Test Accuracy of   W11:  0% ( 0/ 1)\n",
            "Test Accuracy of   W24:  0% ( 0/ 8)\n",
            "Test Accuracy of    X1: 17% ( 8/47)\n",
            "Test Accuracy of    X8:  0% ( 0/ 1)\n",
            "Test Accuracy of    Y1:  0% ( 0/ 1)\n",
            "Test Accuracy of    Y5: 50% ( 1/ 2)\n",
            "Test Accuracy of    Z1: 10% ( 1/10)\n",
            "\n",
            "Accuracy: 23.344%\n",
            "\n",
            "Precision: 49.286%\n",
            "\n",
            "Recall: 23.344%\n",
            "\n",
            "F1-score: 23.096%\n"
          ]
        },
        {
          "output_type": "stream",
          "name": "stderr",
          "text": [
            "/usr/local/lib/python3.7/dist-packages/sklearn/metrics/_classification.py:1308: UndefinedMetricWarning: Precision is ill-defined and being set to 0.0 in labels with no predicted samples. Use `zero_division` parameter to control this behavior.\n",
            "  _warn_prf(average, modifier, msg_start, len(result))\n"
          ]
        }
      ]
    }
  ]
}