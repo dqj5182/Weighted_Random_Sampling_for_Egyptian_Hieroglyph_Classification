{
  "nbformat": 4,
  "nbformat_minor": 0,
  "metadata": {
    "colab": {
      "name": "Egyptian_model_with_ResNet_Pretrained_only_test_with_data_aug.ipynb",
      "provenance": []
    },
    "kernelspec": {
      "name": "python3",
      "display_name": "Python 3"
    },
    "language_info": {
      "name": "python"
    },
    "accelerator": "GPU",
    "widgets": {
      "application/vnd.jupyter.widget-state+json": {
        "414689e075974e189e98ee9810d6f060": {
          "model_module": "@jupyter-widgets/controls",
          "model_name": "HBoxModel",
          "model_module_version": "1.5.0",
          "state": {
            "_view_name": "HBoxView",
            "_dom_classes": [],
            "_model_name": "HBoxModel",
            "_view_module": "@jupyter-widgets/controls",
            "_model_module_version": "1.5.0",
            "_view_count": null,
            "_view_module_version": "1.5.0",
            "box_style": "",
            "layout": "IPY_MODEL_11d7f211c0544728bab0f3ca618c52e9",
            "_model_module": "@jupyter-widgets/controls",
            "children": [
              "IPY_MODEL_e866b7a0512542edb55059a64486eae0",
              "IPY_MODEL_c739b01871a845f6ad0ab56ef986e785",
              "IPY_MODEL_e844696d48e848ec954c4d064600ad8e"
            ]
          }
        },
        "11d7f211c0544728bab0f3ca618c52e9": {
          "model_module": "@jupyter-widgets/base",
          "model_name": "LayoutModel",
          "model_module_version": "1.2.0",
          "state": {
            "_view_name": "LayoutView",
            "grid_template_rows": null,
            "right": null,
            "justify_content": null,
            "_view_module": "@jupyter-widgets/base",
            "overflow": null,
            "_model_module_version": "1.2.0",
            "_view_count": null,
            "flex_flow": null,
            "width": null,
            "min_width": null,
            "border": null,
            "align_items": null,
            "bottom": null,
            "_model_module": "@jupyter-widgets/base",
            "top": null,
            "grid_column": null,
            "overflow_y": null,
            "overflow_x": null,
            "grid_auto_flow": null,
            "grid_area": null,
            "grid_template_columns": null,
            "flex": null,
            "_model_name": "LayoutModel",
            "justify_items": null,
            "grid_row": null,
            "max_height": null,
            "align_content": null,
            "visibility": null,
            "align_self": null,
            "height": null,
            "min_height": null,
            "padding": null,
            "grid_auto_rows": null,
            "grid_gap": null,
            "max_width": null,
            "order": null,
            "_view_module_version": "1.2.0",
            "grid_template_areas": null,
            "object_position": null,
            "object_fit": null,
            "grid_auto_columns": null,
            "margin": null,
            "display": null,
            "left": null
          }
        },
        "e866b7a0512542edb55059a64486eae0": {
          "model_module": "@jupyter-widgets/controls",
          "model_name": "HTMLModel",
          "model_module_version": "1.5.0",
          "state": {
            "_view_name": "HTMLView",
            "style": "IPY_MODEL_43d4586198d04c8b878f97617861f34d",
            "_dom_classes": [],
            "description": "",
            "_model_name": "HTMLModel",
            "placeholder": "​",
            "_view_module": "@jupyter-widgets/controls",
            "_model_module_version": "1.5.0",
            "value": "100%",
            "_view_count": null,
            "_view_module_version": "1.5.0",
            "description_tooltip": null,
            "_model_module": "@jupyter-widgets/controls",
            "layout": "IPY_MODEL_34d24c72914a4e7d8e1df117d17d7a89"
          }
        },
        "c739b01871a845f6ad0ab56ef986e785": {
          "model_module": "@jupyter-widgets/controls",
          "model_name": "FloatProgressModel",
          "model_module_version": "1.5.0",
          "state": {
            "_view_name": "ProgressView",
            "style": "IPY_MODEL_a0dd674b78734f848f7d211376b7ee63",
            "_dom_classes": [],
            "description": "",
            "_model_name": "FloatProgressModel",
            "bar_style": "success",
            "max": 102530333,
            "_view_module": "@jupyter-widgets/controls",
            "_model_module_version": "1.5.0",
            "value": 102530333,
            "_view_count": null,
            "_view_module_version": "1.5.0",
            "orientation": "horizontal",
            "min": 0,
            "description_tooltip": null,
            "_model_module": "@jupyter-widgets/controls",
            "layout": "IPY_MODEL_76146a04e48d4bc9a8c8b198473f9009"
          }
        },
        "e844696d48e848ec954c4d064600ad8e": {
          "model_module": "@jupyter-widgets/controls",
          "model_name": "HTMLModel",
          "model_module_version": "1.5.0",
          "state": {
            "_view_name": "HTMLView",
            "style": "IPY_MODEL_71aaf6d9f0a2437eb28418e4e8538ef9",
            "_dom_classes": [],
            "description": "",
            "_model_name": "HTMLModel",
            "placeholder": "​",
            "_view_module": "@jupyter-widgets/controls",
            "_model_module_version": "1.5.0",
            "value": " 97.8M/97.8M [00:01&lt;00:00, 68.7MB/s]",
            "_view_count": null,
            "_view_module_version": "1.5.0",
            "description_tooltip": null,
            "_model_module": "@jupyter-widgets/controls",
            "layout": "IPY_MODEL_e9a1493173dc421d9dccbe222d5a66c8"
          }
        },
        "43d4586198d04c8b878f97617861f34d": {
          "model_module": "@jupyter-widgets/controls",
          "model_name": "DescriptionStyleModel",
          "model_module_version": "1.5.0",
          "state": {
            "_view_name": "StyleView",
            "_model_name": "DescriptionStyleModel",
            "description_width": "",
            "_view_module": "@jupyter-widgets/base",
            "_model_module_version": "1.5.0",
            "_view_count": null,
            "_view_module_version": "1.2.0",
            "_model_module": "@jupyter-widgets/controls"
          }
        },
        "34d24c72914a4e7d8e1df117d17d7a89": {
          "model_module": "@jupyter-widgets/base",
          "model_name": "LayoutModel",
          "model_module_version": "1.2.0",
          "state": {
            "_view_name": "LayoutView",
            "grid_template_rows": null,
            "right": null,
            "justify_content": null,
            "_view_module": "@jupyter-widgets/base",
            "overflow": null,
            "_model_module_version": "1.2.0",
            "_view_count": null,
            "flex_flow": null,
            "width": null,
            "min_width": null,
            "border": null,
            "align_items": null,
            "bottom": null,
            "_model_module": "@jupyter-widgets/base",
            "top": null,
            "grid_column": null,
            "overflow_y": null,
            "overflow_x": null,
            "grid_auto_flow": null,
            "grid_area": null,
            "grid_template_columns": null,
            "flex": null,
            "_model_name": "LayoutModel",
            "justify_items": null,
            "grid_row": null,
            "max_height": null,
            "align_content": null,
            "visibility": null,
            "align_self": null,
            "height": null,
            "min_height": null,
            "padding": null,
            "grid_auto_rows": null,
            "grid_gap": null,
            "max_width": null,
            "order": null,
            "_view_module_version": "1.2.0",
            "grid_template_areas": null,
            "object_position": null,
            "object_fit": null,
            "grid_auto_columns": null,
            "margin": null,
            "display": null,
            "left": null
          }
        },
        "a0dd674b78734f848f7d211376b7ee63": {
          "model_module": "@jupyter-widgets/controls",
          "model_name": "ProgressStyleModel",
          "model_module_version": "1.5.0",
          "state": {
            "_view_name": "StyleView",
            "_model_name": "ProgressStyleModel",
            "description_width": "",
            "_view_module": "@jupyter-widgets/base",
            "_model_module_version": "1.5.0",
            "_view_count": null,
            "_view_module_version": "1.2.0",
            "bar_color": null,
            "_model_module": "@jupyter-widgets/controls"
          }
        },
        "76146a04e48d4bc9a8c8b198473f9009": {
          "model_module": "@jupyter-widgets/base",
          "model_name": "LayoutModel",
          "model_module_version": "1.2.0",
          "state": {
            "_view_name": "LayoutView",
            "grid_template_rows": null,
            "right": null,
            "justify_content": null,
            "_view_module": "@jupyter-widgets/base",
            "overflow": null,
            "_model_module_version": "1.2.0",
            "_view_count": null,
            "flex_flow": null,
            "width": null,
            "min_width": null,
            "border": null,
            "align_items": null,
            "bottom": null,
            "_model_module": "@jupyter-widgets/base",
            "top": null,
            "grid_column": null,
            "overflow_y": null,
            "overflow_x": null,
            "grid_auto_flow": null,
            "grid_area": null,
            "grid_template_columns": null,
            "flex": null,
            "_model_name": "LayoutModel",
            "justify_items": null,
            "grid_row": null,
            "max_height": null,
            "align_content": null,
            "visibility": null,
            "align_self": null,
            "height": null,
            "min_height": null,
            "padding": null,
            "grid_auto_rows": null,
            "grid_gap": null,
            "max_width": null,
            "order": null,
            "_view_module_version": "1.2.0",
            "grid_template_areas": null,
            "object_position": null,
            "object_fit": null,
            "grid_auto_columns": null,
            "margin": null,
            "display": null,
            "left": null
          }
        },
        "71aaf6d9f0a2437eb28418e4e8538ef9": {
          "model_module": "@jupyter-widgets/controls",
          "model_name": "DescriptionStyleModel",
          "model_module_version": "1.5.0",
          "state": {
            "_view_name": "StyleView",
            "_model_name": "DescriptionStyleModel",
            "description_width": "",
            "_view_module": "@jupyter-widgets/base",
            "_model_module_version": "1.5.0",
            "_view_count": null,
            "_view_module_version": "1.2.0",
            "_model_module": "@jupyter-widgets/controls"
          }
        },
        "e9a1493173dc421d9dccbe222d5a66c8": {
          "model_module": "@jupyter-widgets/base",
          "model_name": "LayoutModel",
          "model_module_version": "1.2.0",
          "state": {
            "_view_name": "LayoutView",
            "grid_template_rows": null,
            "right": null,
            "justify_content": null,
            "_view_module": "@jupyter-widgets/base",
            "overflow": null,
            "_model_module_version": "1.2.0",
            "_view_count": null,
            "flex_flow": null,
            "width": null,
            "min_width": null,
            "border": null,
            "align_items": null,
            "bottom": null,
            "_model_module": "@jupyter-widgets/base",
            "top": null,
            "grid_column": null,
            "overflow_y": null,
            "overflow_x": null,
            "grid_auto_flow": null,
            "grid_area": null,
            "grid_template_columns": null,
            "flex": null,
            "_model_name": "LayoutModel",
            "justify_items": null,
            "grid_row": null,
            "max_height": null,
            "align_content": null,
            "visibility": null,
            "align_self": null,
            "height": null,
            "min_height": null,
            "padding": null,
            "grid_auto_rows": null,
            "grid_gap": null,
            "max_width": null,
            "order": null,
            "_view_module_version": "1.2.0",
            "grid_template_areas": null,
            "object_position": null,
            "object_fit": null,
            "grid_auto_columns": null,
            "margin": null,
            "display": null,
            "left": null
          }
        }
      }
    }
  },
  "cells": [
    {
      "cell_type": "code",
      "metadata": {
        "id": "8iEiGSblxJzW"
      },
      "source": [
        "import os, os.path\n",
        "import torch\n",
        "import numpy as np\n",
        "import torch.nn as nn\n",
        "import torch.optim as optim\n",
        "from pathlib import Path\n",
        "from torchvision import datasets, models, transforms\n",
        "\n",
        "# check if CUDA is available\n",
        "train_on_gpu = torch.cuda.is_available()"
      ],
      "execution_count": 16,
      "outputs": []
    },
    {
      "cell_type": "markdown",
      "metadata": {
        "id": "Jd6KU8VMz6J3"
      },
      "source": [
        "Module: Load_data"
      ]
    },
    {
      "cell_type": "code",
      "metadata": {
        "id": "8lWX0BW_w_kC"
      },
      "source": [
        "def load_data(hieroglyph_directory_path, batch_size=20, num_workers=0):\n",
        "    train_dir = os.path.join(hieroglyph_directory_path, 'train/')\n",
        "    test_dir = os.path.join(hieroglyph_directory_path, 'test/')\n",
        "\n",
        "    classes = []\n",
        "\n",
        "    for filename in os.listdir(train_dir):\n",
        "        if filename == '.DS_Store':\n",
        "            pass\n",
        "        else:\n",
        "            classes.append(filename)\n",
        "\n",
        "    classes.sort()\n",
        "\n",
        "    # print(\"Our classes:\", classes)\n",
        "    # print(len(classes))\n",
        "\n",
        "    data_transform_train = transforms.Compose([transforms.ToTensor(),\n",
        "                                                  transforms.Normalize((0.5,), (0.5,))])\n",
        "\n",
        "    data_transform_test = transforms.Compose([transforms.ToTensor(),\n",
        "                                                  transforms.RandomApply([transforms.RandomHorizontalFlip()]),\n",
        "                                                  transforms.RandomRotation(degrees=(-10, 10)),\n",
        "                                                  transforms.RandomAffine(degrees=0, translate=(.1, .1)),\n",
        "                                                  transforms.RandomApply([transforms.ColorJitter(brightness=(1, 1.2),\n",
        "                                                                                                  contrast=(1, 1.5),\n",
        "                                                                                                  saturation=(1, 1.5),\n",
        "                                                                                                  hue=(0, 0.5))]),\n",
        "                                                  transforms.RandomErasing(p=0.5, scale=(0.05, 0.05), ratio=(0.3, 3.3), value=0,\n",
        "                                                                            inplace=False),\n",
        "                                                  transforms.Normalize((0.5,), (0.5,))])\n",
        "\n",
        "    train_data = datasets.ImageFolder(train_dir, transform=data_transform_train)\n",
        "    test_data = datasets.ImageFolder(test_dir, transform=data_transform_test)\n",
        "\n",
        "    # print('Num training images: ', len(train_data))\n",
        "    # print('Num test images: ', len(test_data))\n",
        "\n",
        "    # prepare data loaders\n",
        "    train_loader = torch.utils.data.DataLoader(train_data, batch_size=batch_size,\n",
        "                                               num_workers=num_workers, shuffle=True)\n",
        "    test_loader = torch.utils.data.DataLoader(test_data, batch_size=batch_size,\n",
        "                                              num_workers=num_workers, shuffle=True)\n",
        "\n",
        "    return train_loader, test_loader, classes"
      ],
      "execution_count": 17,
      "outputs": []
    },
    {
      "cell_type": "markdown",
      "metadata": {
        "id": "K4sXUrPPz7iF"
      },
      "source": [
        "Module: Train_model"
      ]
    },
    {
      "cell_type": "code",
      "metadata": {
        "id": "N2N_rnKLxN5c"
      },
      "source": [
        "def train_model(train_loader, optimizer, resnet50, criterion, my_lr_scheduler, n_epochs):\n",
        "    # track training loss over time\n",
        "    losses = []\n",
        "    \n",
        "    for epoch in range(1, n_epochs + 1):\n",
        "\n",
        "        # keep track of training and validation loss\n",
        "        train_loss = 0.0\n",
        "\n",
        "        # model by default is set to train\n",
        "        for batch_i, (data, target) in enumerate(train_loader):\n",
        "            # move tensors to GPU if CUDA is available\n",
        "            if train_on_gpu:\n",
        "                data, target = data.cuda(), target.cuda()\n",
        "            # clear the gradients of all optimized variables\n",
        "            optimizer.zero_grad()\n",
        "            # forward pass: compute predicted outputs by passing inputs to the model\n",
        "            output = resnet50(data)\n",
        "            # calculate the batch loss\n",
        "            loss = criterion(output, target)\n",
        "            # backward pass: compute gradient of the loss with respect to model parameters\n",
        "            loss.backward()\n",
        "            # perform a single optimization step (parameter update)\n",
        "            optimizer.step()\n",
        "            # update training loss\n",
        "            train_loss += loss.item()\n",
        "\n",
        "            my_lr_scheduler.step()\n",
        "\n",
        "            if batch_i % 20 == 19:  # print training loss every specified number of mini-batches\n",
        "                print('Epoch %d, Batch %d loss: %.16f' %\n",
        "                    (epoch, batch_i + 1, train_loss / 20))\n",
        "                losses.append(train_loss / 20)\n",
        "                train_loss = 0.0\n",
        "        \n",
        "        \n",
        "\n",
        "    return resnet50, losses"
      ],
      "execution_count": 18,
      "outputs": []
    },
    {
      "cell_type": "markdown",
      "metadata": {
        "id": "-Rrxo5RDz96U"
      },
      "source": [
        "Module: Test_model"
      ]
    },
    {
      "cell_type": "code",
      "metadata": {
        "id": "Ay-HlMJnxU9v"
      },
      "source": [
        "def test_model(classes, resnet50, test_loader, criterion):\n",
        "    # track test loss\n",
        "    test_loss = 0.0\n",
        "    class_correct = list(0. for i in range(len(classes)))\n",
        "    class_total = list(0. for i in range(len(classes)))\n",
        "\n",
        "    resnet50.eval()  # eval mode\n",
        "\n",
        "    labels = []\n",
        "    predictions = []\n",
        "    # iterate over test data\n",
        "    for data, target in test_loader:\n",
        "        # move tensors to GPU if CUDA is available\n",
        "        if train_on_gpu:\n",
        "            data, target = data.cuda(), target.cuda()\n",
        "        # forward pass: compute predicted outputs by passing inputs to the model\n",
        "        output = resnet50(data)\n",
        "        # calculate the batch loss\n",
        "        loss = criterion(output, target)\n",
        "        # update  test loss\n",
        "        test_loss += loss.item() * data.size(0)\n",
        "        # convert output probabilities to predicted class\n",
        "        _, pred = torch.max(output, 1)\n",
        "        # compare predictions to true label\n",
        "        correct_tensor = pred.eq(target.data.view_as(pred))\n",
        "        correct = np.squeeze(correct_tensor.numpy()) if not train_on_gpu else np.squeeze(correct_tensor.cpu().numpy())\n",
        "        # calculate test accuracy for each object class\n",
        "        for i in range(len(target.data)):\n",
        "            label = target.data[i]\n",
        "            class_correct[label] += correct[i].item()\n",
        "            class_total[label] += 1\n",
        "        \n",
        "        # Will be used for calculating Recall, Precision, and F1-score\n",
        "        labels.extend(target.data.view_as(pred).tolist())\n",
        "        predictions.extend(pred.tolist())\n",
        "\n",
        "\n",
        "    # calculate avg test loss\n",
        "    test_loss = test_loss / len(test_loader.dataset)\n",
        "    print('Test Loss: {:.6f}\\n'.format(test_loss))\n",
        "\n",
        "    return test_loss, class_correct, class_total, labels, predictions"
      ],
      "execution_count": 19,
      "outputs": []
    },
    {
      "cell_type": "markdown",
      "metadata": {
        "id": "xHh3PXE80Asa"
      },
      "source": [
        "Check whether CUDA is available (Change runtime type if not)"
      ]
    },
    {
      "cell_type": "code",
      "metadata": {
        "colab": {
          "base_uri": "https://localhost:8080/"
        },
        "id": "Q9TYPQH7x4zw",
        "outputId": "813b5e7f-28b4-43da-ca29-6d8d3f197eaa"
      },
      "source": [
        "if not train_on_gpu:\n",
        "    print('CUDA is not available.  Training on CPU ...')\n",
        "else:\n",
        "    print('CUDA is available!  Training on GPU ...')"
      ],
      "execution_count": 20,
      "outputs": [
        {
          "output_type": "stream",
          "name": "stdout",
          "text": [
            "CUDA is available!  Training on GPU ...\n"
          ]
        }
      ]
    },
    {
      "cell_type": "markdown",
      "metadata": {
        "id": "6lYw8EKVx8Q7"
      },
      "source": [
        "Load Hieroglyph Data"
      ]
    },
    {
      "cell_type": "code",
      "metadata": {
        "colab": {
          "base_uri": "https://localhost:8080/"
        },
        "id": "laLvoRy1yewl",
        "outputId": "26b79c93-7a4a-428c-a9c9-710cb92d2eeb"
      },
      "source": [
        "# Connecting and Mounting to the Google Drive\n",
        "from google.colab import drive\n",
        "drive.mount('/content/drive')"
      ],
      "execution_count": 21,
      "outputs": [
        {
          "output_type": "stream",
          "name": "stdout",
          "text": [
            "Drive already mounted at /content/drive; to attempt to forcibly remount, call drive.mount(\"/content/drive\", force_remount=True).\n"
          ]
        }
      ]
    },
    {
      "cell_type": "code",
      "metadata": {
        "id": "odaoZt9GyfUt"
      },
      "source": [
        "data_dir = '/content/drive/MyDrive/EgyptianHieroglyphDataset_Original/'"
      ],
      "execution_count": 22,
      "outputs": []
    },
    {
      "cell_type": "code",
      "metadata": {
        "colab": {
          "base_uri": "https://localhost:8080/"
        },
        "id": "dF22MAnmyiC1",
        "outputId": "6ded3088-adf7-4d40-e915-5005c07cb442"
      },
      "source": [
        "hieroglyph_for_train = []\n",
        "file_count_list = []\n",
        "\n",
        "for name in os.listdir('/content/drive/MyDrive/EgyptianHieroglyphDataset_Original/train/'):\n",
        "  path, dirs, files = next(os.walk(\"/content/drive/MyDrive/EgyptianHieroglyphDataset_Original/train/\"+name))\n",
        "  file_count = len(files)\n",
        "  print(name, file_count)\n",
        "  file_count_list.append(file_count)\n",
        "  hieroglyph_for_train.append(name)\n",
        "\n",
        "hieroglyph_dict = dict(zip(hieroglyph_for_train, file_count_list))"
      ],
      "execution_count": 23,
      "outputs": [
        {
          "output_type": "stream",
          "name": "stdout",
          "text": [
            "D4 29\n",
            "D2 19\n",
            "D46 40\n",
            "D36 47\n",
            "D21 146\n",
            "D58 28\n",
            "E34 97\n",
            "E23 8\n",
            "F31 6\n",
            "G1 28\n",
            "F35 2\n",
            "G17 156\n",
            "G43 157\n",
            "I10 32\n",
            "I9 116\n",
            "M23 30\n",
            "M17 291\n",
            "O1 16\n",
            "O34 15\n",
            "N35 358\n",
            "Q3 61\n",
            "O49 10\n",
            "Q1 13\n",
            "O4 11\n",
            "S34 8\n",
            "R4 2\n",
            "R8 53\n",
            "S29 212\n",
            "V13 63\n",
            "V28 28\n",
            "U7 3\n",
            "V30 6\n",
            "W11 4\n",
            "W24 31\n",
            "V31 106\n",
            "Y5 6\n",
            "X8 4\n",
            "Z1 39\n",
            "X1 185\n",
            "Y1 1\n"
          ]
        }
      ]
    },
    {
      "cell_type": "markdown",
      "metadata": {
        "id": "XeQQ7PjZzKd9"
      },
      "source": [
        "Number of images for each hieroglyph "
      ]
    },
    {
      "cell_type": "code",
      "metadata": {
        "colab": {
          "base_uri": "https://localhost:8080/",
          "height": 609
        },
        "id": "W6IzWR2RyjxM",
        "outputId": "e3b20af5-d0a7-4801-904b-a7a9c603b5a7"
      },
      "source": [
        "import matplotlib.pyplot as plt\n",
        "import pandas as pd\n",
        "\n",
        "df = pd.DataFrame({\"Hieroglyph\":hieroglyph_for_train, \"Count\":file_count_list})\n",
        "\n",
        "df_sorted= df.sort_values('Count',ascending=False)\n",
        "\n",
        "plt.figure(figsize=(20,10))\n",
        "# make bar plot with matplotlib\n",
        "plt.bar('Hieroglyph', 'Count',data=df_sorted)"
      ],
      "execution_count": 24,
      "outputs": [
        {
          "output_type": "execute_result",
          "data": {
            "text/plain": [
              "<BarContainer object of 40 artists>"
            ]
          },
          "metadata": {},
          "execution_count": 24
        },
        {
          "output_type": "display_data",
          "data": {
            "image/png": "[encoded data removed]",
            "text/plain": [
              "<Figure size 1440x720 with 1 Axes>"
            ]
          },
          "metadata": {
            "needs_background": "light"
          }
        }
      ]
    },
    {
      "cell_type": "code",
      "metadata": {
        "id": "-3oOm8rSx7tp"
      },
      "source": [
        "# Number of images processed in a single training\n",
        "batch_size = 20\n",
        "num_workers = 0\n",
        "\n",
        "# The load_data function is from hieroglyph_data_preparation python file\n",
        "train_loader, test_loader, classes = load_data(data_dir)"
      ],
      "execution_count": 25,
      "outputs": []
    },
    {
      "cell_type": "markdown",
      "metadata": {
        "id": "BJm8sGiBx_q5"
      },
      "source": [
        "ResNet Model"
      ]
    },
    {
      "cell_type": "code",
      "metadata": {
        "id": "JkLXVJGkxemC",
        "colab": {
          "base_uri": "https://localhost:8080/",
          "height": 66,
          "referenced_widgets": [
            "414689e075974e189e98ee9810d6f060",
            "11d7f211c0544728bab0f3ca618c52e9",
            "e866b7a0512542edb55059a64486eae0",
            "c739b01871a845f6ad0ab56ef986e785",
            "e844696d48e848ec954c4d064600ad8e",
            "43d4586198d04c8b878f97617861f34d",
            "34d24c72914a4e7d8e1df117d17d7a89",
            "a0dd674b78734f848f7d211376b7ee63",
            "76146a04e48d4bc9a8c8b198473f9009",
            "71aaf6d9f0a2437eb28418e4e8538ef9",
            "e9a1493173dc421d9dccbe222d5a66c8"
          ]
        },
        "outputId": "cd5483f2-9103-4c2f-d220-91ebf486a372"
      },
      "source": [
        "# Whether to extract features with the model\n",
        "feature_extract = False\n",
        "# Other selections\n",
        "loss_function = \"cross-entropy\"\n",
        "model_selection = \"resnet-50\"\n",
        "optim_selection = \"Adam\"\n",
        "\n",
        "# False if you want scratch model, True if you want pretrained model\n",
        "whether_to_pretrain = True\n",
        "\n",
        "# Load the model\n",
        "if model_selection == \"resnet-50\":\n",
        "    resnet50 = models.resnet50(pretrained=whether_to_pretrain)\n",
        "\n",
        "# Number of features in the last layer of resnet\n",
        "n_inputs = resnet50.fc.in_features\n",
        "\n",
        "# Add last linear layer (n_inputs -> 40 hieroglyph classes)\n",
        "# New layers automatically have requires_grad = True\n",
        "last_layer = nn.Sequential(\n",
        "                nn.Linear(n_inputs, len(classes)))\n",
        "\n",
        "resnet50.fc = last_layer\n",
        "\n",
        "# if GPU is available, move the model to GPU\n",
        "if train_on_gpu:\n",
        "    resnet50.cuda()\n",
        "\n",
        "# Specify loss function (categorical cross-entropy)\n",
        "if loss_function == \"cross-entropy\":\n",
        "    criterion = nn.CrossEntropyLoss()\n",
        "\n",
        "# Specify optimizer (Adam) and learning rate = 0.001\n",
        "if optim_selection == \"Adam\":\n",
        "    optimizer = optim.Adam(resnet50.parameters(), lr=0.001)\n",
        "\n",
        "# Exponential Decay to strengthen learning\n",
        "decayRate = 0.999\n",
        "my_lr_scheduler = torch.optim.lr_scheduler.ExponentialLR(optimizer=optimizer, gamma=decayRate)"
      ],
      "execution_count": 26,
      "outputs": [
        {
          "output_type": "stream",
          "name": "stderr",
          "text": [
            "Downloading: \"https://download.pytorch.org/models/resnet50-0676ba61.pth\" to /root/.cache/torch/hub/checkpoints/resnet50-0676ba61.pth\n"
          ]
        },
        {
          "output_type": "display_data",
          "data": {
            "application/vnd.jupyter.widget-view+json": {
              "model_id": "414689e075974e189e98ee9810d6f060",
              "version_minor": 0,
              "version_major": 2
            },
            "text/plain": [
              "  0%|          | 0.00/97.8M [00:00<?, ?B/s]"
            ]
          },
          "metadata": {}
        }
      ]
    },
    {
      "cell_type": "markdown",
      "metadata": {
        "id": "U2vnErB1yHmM"
      },
      "source": [
        "Training the model"
      ]
    },
    {
      "cell_type": "code",
      "metadata": {
        "colab": {
          "base_uri": "https://localhost:8080/"
        },
        "id": "dOB03noWyEvQ",
        "outputId": "3f7ebda4-dc55-49df-d8a1-df24594088de"
      },
      "source": [
        "# number of epochs to train the model\n",
        "n_epochs = 50\n",
        "\n",
        "# The train_model function is from model_training python file\n",
        "resnet50, train_losses = train_model(train_loader, optimizer, resnet50, criterion, my_lr_scheduler, n_epochs)"
      ],
      "execution_count": 27,
      "outputs": [
        {
          "output_type": "stream",
          "name": "stdout",
          "text": [
            "Epoch 1, Batch 20 loss: 2.2311006069183348\n",
            "Epoch 1, Batch 40 loss: 1.6412170559167862\n",
            "Epoch 1, Batch 60 loss: 1.0777868896722793\n",
            "Epoch 1, Batch 80 loss: 0.9544045880436898\n",
            "Epoch 1, Batch 100 loss: 0.7820747539401054\n",
            "Epoch 1, Batch 120 loss: 0.6799190677702427\n",
            "Epoch 2, Batch 20 loss: 0.5422385513782502\n",
            "Epoch 2, Batch 40 loss: 0.3548250176012516\n",
            "Epoch 2, Batch 60 loss: 0.4141790445894003\n",
            "Epoch 2, Batch 80 loss: 0.3713195707648992\n",
            "Epoch 2, Batch 100 loss: 0.4049465140327811\n",
            "Epoch 2, Batch 120 loss: 0.3063048129901290\n",
            "Epoch 3, Batch 20 loss: 0.2670109661296010\n",
            "Epoch 3, Batch 40 loss: 0.2214349791407585\n",
            "Epoch 3, Batch 60 loss: 0.2358331538736820\n",
            "Epoch 3, Batch 80 loss: 0.1569885160773992\n",
            "Epoch 3, Batch 100 loss: 0.1971373897045851\n",
            "Epoch 3, Batch 120 loss: 0.2207886246964335\n",
            "Epoch 4, Batch 20 loss: 0.1919727105647326\n",
            "Epoch 4, Batch 40 loss: 0.2117800559848547\n",
            "Epoch 4, Batch 60 loss: 0.1166529666632414\n",
            "Epoch 4, Batch 80 loss: 0.1254731395281851\n",
            "Epoch 4, Batch 100 loss: 0.0991773532237858\n",
            "Epoch 4, Batch 120 loss: 0.1355326171964407\n",
            "Epoch 5, Batch 20 loss: 0.1206520084990188\n",
            "Epoch 5, Batch 40 loss: 0.1164830767316744\n",
            "Epoch 5, Batch 60 loss: 0.1012469026492909\n",
            "Epoch 5, Batch 80 loss: 0.0679295904468745\n",
            "Epoch 5, Batch 100 loss: 0.0840755262644961\n",
            "Epoch 5, Batch 120 loss: 0.1159764603653457\n",
            "Epoch 6, Batch 20 loss: 0.0393286004429683\n",
            "Epoch 6, Batch 40 loss: 0.0518815227231244\n",
            "Epoch 6, Batch 60 loss: 0.0520719235530123\n",
            "Epoch 6, Batch 80 loss: 0.0412453068187460\n",
            "Epoch 6, Batch 100 loss: 0.0876464101369493\n",
            "Epoch 6, Batch 120 loss: 0.0305934960837476\n",
            "Epoch 7, Batch 20 loss: 0.0855855158995837\n",
            "Epoch 7, Batch 40 loss: 0.0453199744923040\n",
            "Epoch 7, Batch 60 loss: 0.0428802848793566\n",
            "Epoch 7, Batch 80 loss: 0.0163781426206697\n",
            "Epoch 7, Batch 100 loss: 0.0326805009099189\n",
            "Epoch 7, Batch 120 loss: 0.0254897113482002\n",
            "Epoch 8, Batch 20 loss: 0.0197071805770975\n",
            "Epoch 8, Batch 40 loss: 0.0161299445928307\n",
            "Epoch 8, Batch 60 loss: 0.0067147255962482\n",
            "Epoch 8, Batch 80 loss: 0.0114025907038013\n",
            "Epoch 8, Batch 100 loss: 0.0107110487966565\n",
            "Epoch 8, Batch 120 loss: 0.0301090944733005\n",
            "Epoch 9, Batch 20 loss: 0.0131582487068954\n",
            "Epoch 9, Batch 40 loss: 0.0062967701378511\n",
            "Epoch 9, Batch 60 loss: 0.0110516634420492\n",
            "Epoch 9, Batch 80 loss: 0.0034682799872826\n",
            "Epoch 9, Batch 100 loss: 0.0081215100595728\n",
            "Epoch 9, Batch 120 loss: 0.0033243210498767\n",
            "Epoch 10, Batch 20 loss: 0.0080662373336963\n",
            "Epoch 10, Batch 40 loss: 0.0094906052443548\n",
            "Epoch 10, Batch 60 loss: 0.0172920344033628\n",
            "Epoch 10, Batch 80 loss: 0.0068442919233348\n",
            "Epoch 10, Batch 100 loss: 0.0074398982775165\n",
            "Epoch 10, Batch 120 loss: 0.0083743992552627\n",
            "Epoch 11, Batch 20 loss: 0.0016513031878276\n",
            "Epoch 11, Batch 40 loss: 0.0052928248442186\n",
            "Epoch 11, Batch 60 loss: 0.0161916296201525\n",
            "Epoch 11, Batch 80 loss: 0.0018702228509937\n",
            "Epoch 11, Batch 100 loss: 0.0012767939057085\n",
            "Epoch 11, Batch 120 loss: 0.0059923546661594\n",
            "Epoch 12, Batch 20 loss: 0.0027899411783437\n",
            "Epoch 12, Batch 40 loss: 0.0138783362053800\n",
            "Epoch 12, Batch 60 loss: 0.0019745173914998\n",
            "Epoch 12, Batch 80 loss: 0.0019320059916936\n",
            "Epoch 12, Batch 100 loss: 0.0012256960915693\n",
            "Epoch 12, Batch 120 loss: 0.0009321444300440\n",
            "Epoch 13, Batch 20 loss: 0.0004846066796745\n",
            "Epoch 13, Batch 40 loss: 0.0005512310282938\n",
            "Epoch 13, Batch 60 loss: 0.0072384404065815\n",
            "Epoch 13, Batch 80 loss: 0.0011551552655874\n",
            "Epoch 13, Batch 100 loss: 0.0017361070771585\n",
            "Epoch 13, Batch 120 loss: 0.0009862711856840\n",
            "Epoch 14, Batch 20 loss: 0.0018411178047245\n",
            "Epoch 14, Batch 40 loss: 0.0019330587343575\n",
            "Epoch 14, Batch 60 loss: 0.0008693946118001\n",
            "Epoch 14, Batch 80 loss: 0.0022966089531110\n",
            "Epoch 14, Batch 100 loss: 0.0006477353410446\n",
            "Epoch 14, Batch 120 loss: 0.0014365924449521\n",
            "Epoch 15, Batch 20 loss: 0.0007281699066880\n",
            "Epoch 15, Batch 40 loss: 0.0045500568376156\n",
            "Epoch 15, Batch 60 loss: 0.0387476703130233\n",
            "Epoch 15, Batch 80 loss: 0.0035238985634351\n",
            "Epoch 15, Batch 100 loss: 0.0042233446736645\n",
            "Epoch 15, Batch 120 loss: 0.0075617860969942\n",
            "Epoch 16, Batch 20 loss: 0.0011598476856307\n",
            "Epoch 16, Batch 40 loss: 0.0009193477802910\n",
            "Epoch 16, Batch 60 loss: 0.0010069254039990\n",
            "Epoch 16, Batch 80 loss: 0.0004975772673788\n",
            "Epoch 16, Batch 100 loss: 0.0004984543567844\n",
            "Epoch 16, Batch 120 loss: 0.0023967466811882\n",
            "Epoch 17, Batch 20 loss: 0.0020102894093725\n",
            "Epoch 17, Batch 40 loss: 0.0004945997970935\n",
            "Epoch 17, Batch 60 loss: 0.0004439172840648\n",
            "Epoch 17, Batch 80 loss: 0.0010083952707646\n",
            "Epoch 17, Batch 100 loss: 0.0015531452969299\n",
            "Epoch 17, Batch 120 loss: 0.0009996572276577\n",
            "Epoch 18, Batch 20 loss: 0.0003513367315463\n",
            "Epoch 18, Batch 40 loss: 0.0004866174032941\n",
            "Epoch 18, Batch 60 loss: 0.0005608299186861\n",
            "Epoch 18, Batch 80 loss: 0.0005334490961104\n",
            "Epoch 18, Batch 100 loss: 0.0004198300808639\n",
            "Epoch 18, Batch 120 loss: 0.0010325300543627\n",
            "Epoch 19, Batch 20 loss: 0.0003493191099551\n",
            "Epoch 19, Batch 40 loss: 0.0019677921598486\n",
            "Epoch 19, Batch 60 loss: 0.0033844157867861\n",
            "Epoch 19, Batch 80 loss: 0.0008694849460881\n",
            "Epoch 19, Batch 100 loss: 0.0014116286081844\n",
            "Epoch 19, Batch 120 loss: 0.0003740216247024\n",
            "Epoch 20, Batch 20 loss: 0.0020364799063827\n",
            "Epoch 20, Batch 40 loss: 0.0003869806092553\n",
            "Epoch 20, Batch 60 loss: 0.0005911734806432\n",
            "Epoch 20, Batch 80 loss: 0.0007023108293652\n",
            "Epoch 20, Batch 100 loss: 0.0009796627256947\n",
            "Epoch 20, Batch 120 loss: 0.0003623010576121\n",
            "Epoch 21, Batch 20 loss: 0.0007697844572249\n",
            "Epoch 21, Batch 40 loss: 0.0004287886229577\n",
            "Epoch 21, Batch 60 loss: 0.0003146795041175\n",
            "Epoch 21, Batch 80 loss: 0.0026066399164847\n",
            "Epoch 21, Batch 100 loss: 0.0003036320089450\n",
            "Epoch 21, Batch 120 loss: 0.0002965739930005\n",
            "Epoch 22, Batch 20 loss: 0.0009161223948468\n",
            "Epoch 22, Batch 40 loss: 0.0004508609745244\n",
            "Epoch 22, Batch 60 loss: 0.0004047376010931\n",
            "Epoch 22, Batch 80 loss: 0.0004537940283626\n",
            "Epoch 22, Batch 100 loss: 0.0002344408285353\n",
            "Epoch 22, Batch 120 loss: 0.0003893560638971\n",
            "Epoch 23, Batch 20 loss: 0.0003203239148206\n",
            "Epoch 23, Batch 40 loss: 0.0006410004023564\n",
            "Epoch 23, Batch 60 loss: 0.0003536028587405\n",
            "Epoch 23, Batch 80 loss: 0.0002726393467128\n",
            "Epoch 23, Batch 100 loss: 0.0004030957315990\n",
            "Epoch 23, Batch 120 loss: 0.0002647018100106\n",
            "Epoch 24, Batch 20 loss: 0.0003535250350978\n",
            "Epoch 24, Batch 40 loss: 0.0003901788495568\n",
            "Epoch 24, Batch 60 loss: 0.0003656543711259\n",
            "Epoch 24, Batch 80 loss: 0.0002484148661097\n",
            "Epoch 24, Batch 100 loss: 0.0003615080964664\n",
            "Epoch 24, Batch 120 loss: 0.0008891543395293\n",
            "Epoch 25, Batch 20 loss: 0.0002482125048118\n",
            "Epoch 25, Batch 40 loss: 0.0002919590082456\n",
            "Epoch 25, Batch 60 loss: 0.0002653019808349\n",
            "Epoch 25, Batch 80 loss: 0.0002150192340196\n",
            "Epoch 25, Batch 100 loss: 0.0004244922010912\n",
            "Epoch 25, Batch 120 loss: 0.0002120896082488\n",
            "Epoch 26, Batch 20 loss: 0.0002272345513120\n",
            "Epoch 26, Batch 40 loss: 0.0001944569108673\n",
            "Epoch 26, Batch 60 loss: 0.0005982889723782\n",
            "Epoch 26, Batch 80 loss: 0.0002033647931967\n",
            "Epoch 26, Batch 100 loss: 0.0003322344025946\n",
            "Epoch 26, Batch 120 loss: 0.0003023212189873\n",
            "Epoch 27, Batch 20 loss: 0.0003592616714741\n",
            "Epoch 27, Batch 40 loss: 0.0004162747143710\n",
            "Epoch 27, Batch 60 loss: 0.0004315589358157\n",
            "Epoch 27, Batch 80 loss: 0.0002352610155867\n",
            "Epoch 27, Batch 100 loss: 0.0001980545286642\n",
            "Epoch 27, Batch 120 loss: 0.0005549394256377\n",
            "Epoch 28, Batch 20 loss: 0.0002177592132284\n",
            "Epoch 28, Batch 40 loss: 0.0020354940756079\n",
            "Epoch 28, Batch 60 loss: 0.0003693826080053\n",
            "Epoch 28, Batch 80 loss: 0.0002726885981247\n",
            "Epoch 28, Batch 100 loss: 0.0002645020746058\n",
            "Epoch 28, Batch 120 loss: 0.0002338810316360\n",
            "Epoch 29, Batch 20 loss: 0.0003557571517376\n",
            "Epoch 29, Batch 40 loss: 0.0002411228566416\n",
            "Epoch 29, Batch 60 loss: 0.0003147937468384\n",
            "Epoch 29, Batch 80 loss: 0.0001921720131577\n",
            "Epoch 29, Batch 100 loss: 0.0003163981193211\n",
            "Epoch 29, Batch 120 loss: 0.0002463534106937\n",
            "Epoch 30, Batch 20 loss: 0.0003931921153708\n",
            "Epoch 30, Batch 40 loss: 0.0003729229506462\n",
            "Epoch 30, Batch 60 loss: 0.0002091043756081\n",
            "Epoch 30, Batch 80 loss: 0.0001783419615094\n",
            "Epoch 30, Batch 100 loss: 0.0001592029575477\n",
            "Epoch 30, Batch 120 loss: 0.0002419498992822\n",
            "Epoch 31, Batch 20 loss: 0.0002154560150302\n",
            "Epoch 31, Batch 40 loss: 0.0004666063763580\n",
            "Epoch 31, Batch 60 loss: 0.0002308924082172\n",
            "Epoch 31, Batch 80 loss: 0.0002061212640911\n",
            "Epoch 31, Batch 100 loss: 0.0007288686379979\n",
            "Epoch 31, Batch 120 loss: 0.0002266220706588\n",
            "Epoch 32, Batch 20 loss: 0.0002445521447953\n",
            "Epoch 32, Batch 40 loss: 0.0003266322427407\n",
            "Epoch 32, Batch 60 loss: 0.0003051814956052\n",
            "Epoch 32, Batch 80 loss: 0.0003287094674306\n",
            "Epoch 32, Batch 100 loss: 0.0001225577817422\n",
            "Epoch 32, Batch 120 loss: 0.0001617415186047\n",
            "Epoch 33, Batch 20 loss: 0.0002078016950691\n",
            "Epoch 33, Batch 40 loss: 0.0001712031902571\n",
            "Epoch 33, Batch 60 loss: 0.0002250753183034\n",
            "Epoch 33, Batch 80 loss: 0.0006803029920775\n",
            "Epoch 33, Batch 100 loss: 0.0003731872804565\n",
            "Epoch 33, Batch 120 loss: 0.0001695454275250\n",
            "Epoch 34, Batch 20 loss: 0.0003983533500104\n",
            "Epoch 34, Batch 40 loss: 0.0002470918047038\n",
            "Epoch 34, Batch 60 loss: 0.0001033165547597\n",
            "Epoch 34, Batch 80 loss: 0.0001904856611873\n",
            "Epoch 34, Batch 100 loss: 0.0001684269253929\n",
            "Epoch 34, Batch 120 loss: 0.0002243605495096\n",
            "Epoch 35, Batch 20 loss: 0.0002602286470392\n",
            "Epoch 35, Batch 40 loss: 0.0002752770253210\n",
            "Epoch 35, Batch 60 loss: 0.0002566109416875\n",
            "Epoch 35, Batch 80 loss: 0.0002366821952819\n",
            "Epoch 35, Batch 100 loss: 0.0004201162233585\n",
            "Epoch 35, Batch 120 loss: 0.0001674940598605\n",
            "Epoch 36, Batch 20 loss: 0.0002285367012519\n",
            "Epoch 36, Batch 40 loss: 0.0002258837338559\n",
            "Epoch 36, Batch 60 loss: 0.0003181674128427\n",
            "Epoch 36, Batch 80 loss: 0.0002218131987320\n",
            "Epoch 36, Batch 100 loss: 0.0001861900120275\n",
            "Epoch 36, Batch 120 loss: 0.0002336864237805\n",
            "Epoch 37, Batch 20 loss: 0.0001754658243954\n",
            "Epoch 37, Batch 40 loss: 0.0001057338888131\n",
            "Epoch 37, Batch 60 loss: 0.0003060812378862\n",
            "Epoch 37, Batch 80 loss: 0.0004504228669248\n",
            "Epoch 37, Batch 100 loss: 0.0001827396745284\n",
            "Epoch 37, Batch 120 loss: 0.0001987680770981\n",
            "Epoch 38, Batch 20 loss: 0.0001849631773439\n",
            "Epoch 38, Batch 40 loss: 0.0002037123134869\n",
            "Epoch 38, Batch 60 loss: 0.0003750545653020\n",
            "Epoch 38, Batch 80 loss: 0.0001869033475032\n",
            "Epoch 38, Batch 100 loss: 0.0001497320099588\n",
            "Epoch 38, Batch 120 loss: 0.0003107272535999\n",
            "Epoch 39, Batch 20 loss: 0.0001948801436811\n",
            "Epoch 39, Batch 40 loss: 0.0002233329015326\n",
            "Epoch 39, Batch 60 loss: 0.0001454783839108\n",
            "Epoch 39, Batch 80 loss: 0.0002046349791271\n",
            "Epoch 39, Batch 100 loss: 0.0003550137622369\n",
            "Epoch 39, Batch 120 loss: 0.0001261424689801\n",
            "Epoch 40, Batch 20 loss: 0.0004161643824773\n",
            "Epoch 40, Batch 40 loss: 0.0003998801696071\n",
            "Epoch 40, Batch 60 loss: 0.0002075573656839\n",
            "Epoch 40, Batch 80 loss: 0.0001656898810324\n",
            "Epoch 40, Batch 100 loss: 0.0001453567576391\n",
            "Epoch 40, Batch 120 loss: 0.0005204625909755\n",
            "Epoch 41, Batch 20 loss: 0.0001780772434358\n",
            "Epoch 41, Batch 40 loss: 0.0001505148033175\n",
            "Epoch 41, Batch 60 loss: 0.0001551602896143\n",
            "Epoch 41, Batch 80 loss: 0.0001588511271621\n",
            "Epoch 41, Batch 100 loss: 0.0001120563718359\n",
            "Epoch 41, Batch 120 loss: 0.0004478849165025\n",
            "Epoch 42, Batch 20 loss: 0.0002423388038551\n",
            "Epoch 42, Batch 40 loss: 0.0001329940116193\n",
            "Epoch 42, Batch 60 loss: 0.0001276193622289\n",
            "Epoch 42, Batch 80 loss: 0.0002742498680163\n",
            "Epoch 42, Batch 100 loss: 0.0002008619259868\n",
            "Epoch 42, Batch 120 loss: 0.0001076429262866\n",
            "Epoch 43, Batch 20 loss: 0.0002573738848696\n",
            "Epoch 43, Batch 40 loss: 0.0001550812517962\n",
            "Epoch 43, Batch 60 loss: 0.0001046095176207\n",
            "Epoch 43, Batch 80 loss: 0.0001813576475797\n",
            "Epoch 43, Batch 100 loss: 0.0001700889888525\n",
            "Epoch 43, Batch 120 loss: 0.0004237614524754\n",
            "Epoch 44, Batch 20 loss: 0.0001586991376826\n",
            "Epoch 44, Batch 40 loss: 0.0001521373809737\n",
            "Epoch 44, Batch 60 loss: 0.0001838772881456\n",
            "Epoch 44, Batch 80 loss: 0.0001079447492884\n",
            "Epoch 44, Batch 100 loss: 0.0001338191246759\n",
            "Epoch 44, Batch 120 loss: 0.0001980064723284\n",
            "Epoch 45, Batch 20 loss: 0.0003624345941716\n",
            "Epoch 45, Batch 40 loss: 0.0001903751823193\n",
            "Epoch 45, Batch 60 loss: 0.0001499067353507\n",
            "Epoch 45, Batch 80 loss: 0.0002662692179001\n",
            "Epoch 45, Batch 100 loss: 0.0001695007887974\n",
            "Epoch 45, Batch 120 loss: 0.0001235180352523\n",
            "Epoch 46, Batch 20 loss: 0.0002305478888957\n",
            "Epoch 46, Batch 40 loss: 0.0001079279138139\n",
            "Epoch 46, Batch 60 loss: 0.0001833428277678\n",
            "Epoch 46, Batch 80 loss: 0.0001530710589577\n",
            "Epoch 46, Batch 100 loss: 0.0002711041193834\n",
            "Epoch 46, Batch 120 loss: 0.0001186118142869\n",
            "Epoch 47, Batch 20 loss: 0.0002009447170167\n",
            "Epoch 47, Batch 40 loss: 0.0002524388908569\n",
            "Epoch 47, Batch 60 loss: 0.0003117966260106\n",
            "Epoch 47, Batch 80 loss: 0.0001750653920681\n",
            "Epoch 47, Batch 100 loss: 0.0006939067525309\n",
            "Epoch 47, Batch 120 loss: 0.0001024173453516\n",
            "Epoch 48, Batch 20 loss: 0.0001714085336062\n",
            "Epoch 48, Batch 40 loss: 0.0026739987229121\n",
            "Epoch 48, Batch 60 loss: 0.0002317770051377\n",
            "Epoch 48, Batch 80 loss: 0.0002802275252179\n",
            "Epoch 48, Batch 100 loss: 0.0001668991048064\n",
            "Epoch 48, Batch 120 loss: 0.0002084668323732\n",
            "Epoch 49, Batch 20 loss: 0.0001253680584341\n",
            "Epoch 49, Batch 40 loss: 0.0001866886690550\n",
            "Epoch 49, Batch 60 loss: 0.0002135971188181\n",
            "Epoch 49, Batch 80 loss: 0.0005577504412940\n",
            "Epoch 49, Batch 100 loss: 0.0002413148605228\n",
            "Epoch 49, Batch 120 loss: 0.0001133347692303\n",
            "Epoch 50, Batch 20 loss: 0.0002584425945315\n",
            "Epoch 50, Batch 40 loss: 0.0002347060605643\n",
            "Epoch 50, Batch 60 loss: 0.0002366330259065\n",
            "Epoch 50, Batch 80 loss: 0.0001561983980537\n",
            "Epoch 50, Batch 100 loss: 0.0001469836648539\n",
            "Epoch 50, Batch 120 loss: 0.0001111791441872\n"
          ]
        }
      ]
    },
    {
      "cell_type": "code",
      "metadata": {
        "id": "CfA7ZjLR1BZP",
        "colab": {
          "base_uri": "https://localhost:8080/",
          "height": 281
        },
        "outputId": "99039245-d7b0-4bb0-9770-97f3575c28ad"
      },
      "source": [
        "plt.plot(train_losses)\n",
        "plt.title(\"Training Loss\")\n",
        "plt.show()"
      ],
      "execution_count": 28,
      "outputs": [
        {
          "output_type": "display_data",
          "data": {
            "image/png": "[encoded data removed]",
            "text/plain": [
              "<Figure size 432x288 with 1 Axes>"
            ]
          },
          "metadata": {
            "needs_background": "light"
          }
        }
      ]
    },
    {
      "cell_type": "markdown",
      "metadata": {
        "id": "ItLyF9dQyJFL"
      },
      "source": [
        "Testing the model"
      ]
    },
    {
      "cell_type": "code",
      "metadata": {
        "id": "gGki98W3SoEW"
      },
      "source": [
        "from sklearn.metrics import precision_score, recall_score, f1_score, accuracy_score"
      ],
      "execution_count": 29,
      "outputs": []
    },
    {
      "cell_type": "code",
      "metadata": {
        "id": "xNavYOynyE6d",
        "colab": {
          "base_uri": "https://localhost:8080/"
        },
        "outputId": "077c410f-573b-4116-e267-cf969da4ae43"
      },
      "source": [
        "# The test_model function is from model_testing python file\n",
        "test_loss, class_correct, class_total, labels, predictions = test_model(classes, resnet50, test_loader, criterion)\n",
        "\n",
        "# Test accuracy for each hieroglyph\n",
        "for i in range(len(classes)):\n",
        "    if class_total[i] > 0:\n",
        "        print('Test Accuracy of %5s: %2d%% (%2d/%2d)' % (classes[i], 100 * class_correct[i] / class_total[i], np.sum(class_correct[i]), np.sum(class_total[i])))\n",
        "    else:\n",
        "        print('Test Accuracy of %5s: N/A (no training examples)' % (classes[i]))\n",
        "\n",
        "# Total Test accuracy\n",
        "print(\"\\nAccuracy: {:.3%}\".format(accuracy_score(labels, predictions)))\n",
        "print(\"\\nPrecision: {:.3%}\".format(precision_score(labels, predictions, average = 'weighted')))\n",
        "print(\"\\nRecall: {:.3%}\".format(recall_score(labels, predictions, average = 'weighted')))\n",
        "print(\"\\nF1-score: {:.3%}\".format(f1_score(labels, predictions, average = 'weighted')))"
      ],
      "execution_count": 30,
      "outputs": [
        {
          "output_type": "stream",
          "name": "stdout",
          "text": [
            "Test Loss: 2.769175\n",
            "\n",
            "Test Accuracy of    D2: 100% ( 5/ 5)\n",
            "Test Accuracy of   D21: 16% ( 6/37)\n",
            "Test Accuracy of   D36: 83% (10/12)\n",
            "Test Accuracy of    D4: 37% ( 3/ 8)\n",
            "Test Accuracy of   D46: 30% ( 3/10)\n",
            "Test Accuracy of   D58: 75% ( 6/ 8)\n",
            "Test Accuracy of   E23:  0% ( 0/ 2)\n",
            "Test Accuracy of   E34: 56% (14/25)\n",
            "Test Accuracy of   F31: 100% ( 2/ 2)\n",
            "Test Accuracy of   F35:  0% ( 0/ 1)\n",
            "Test Accuracy of    G1: 14% ( 1/ 7)\n",
            "Test Accuracy of   G17: 53% (21/39)\n",
            "Test Accuracy of   G43: 62% (25/40)\n",
            "Test Accuracy of   I10: 55% ( 5/ 9)\n",
            "Test Accuracy of    I9: 43% (13/30)\n",
            "Test Accuracy of   M17: 42% (31/73)\n",
            "Test Accuracy of   M23: 50% ( 4/ 8)\n",
            "Test Accuracy of   N35: 82% (74/90)\n",
            "Test Accuracy of    O1: 50% ( 2/ 4)\n",
            "Test Accuracy of   O34:  0% ( 0/ 4)\n",
            "Test Accuracy of    O4: 66% ( 2/ 3)\n",
            "Test Accuracy of   O49: 100% ( 3/ 3)\n",
            "Test Accuracy of    Q1: 25% ( 1/ 4)\n",
            "Test Accuracy of    Q3: 31% ( 5/16)\n",
            "Test Accuracy of    R4:  0% ( 0/ 1)\n",
            "Test Accuracy of    R8: 71% (10/14)\n",
            "Test Accuracy of   S29: 66% (35/53)\n",
            "Test Accuracy of   S34: 50% ( 1/ 2)\n",
            "Test Accuracy of    U7: 100% ( 1/ 1)\n",
            "Test Accuracy of   V13: 12% ( 2/16)\n",
            "Test Accuracy of   V28: 62% ( 5/ 8)\n",
            "Test Accuracy of   V30: 50% ( 1/ 2)\n",
            "Test Accuracy of   V31: 40% (11/27)\n",
            "Test Accuracy of   W11: 100% ( 1/ 1)\n",
            "Test Accuracy of   W24: 62% ( 5/ 8)\n",
            "Test Accuracy of    X1: 36% (17/47)\n",
            "Test Accuracy of    X8: 50% ( 1/ 2)\n",
            "Test Accuracy of    Y1:  0% ( 0/ 1)\n",
            "Test Accuracy of    Y5: 50% ( 1/ 2)\n",
            "Test Accuracy of    Z1: 60% ( 6/10)\n",
            "\n",
            "Accuracy: 52.441%\n",
            "\n",
            "Precision: 75.689%\n",
            "\n",
            "Recall: 52.441%\n",
            "\n",
            "F1-score: 56.555%\n"
          ]
        },
        {
          "output_type": "stream",
          "name": "stderr",
          "text": [
            "/usr/local/lib/python3.7/dist-packages/sklearn/metrics/_classification.py:1308: UndefinedMetricWarning: Precision is ill-defined and being set to 0.0 in labels with no predicted samples. Use `zero_division` parameter to control this behavior.\n",
            "  _warn_prf(average, modifier, msg_start, len(result))\n"
          ]
        }
      ]
    }
  ]
}