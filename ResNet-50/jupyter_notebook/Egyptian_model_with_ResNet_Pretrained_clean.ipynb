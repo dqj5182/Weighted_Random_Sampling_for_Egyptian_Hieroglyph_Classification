{
  "nbformat": 4,
  "nbformat_minor": 0,
  "metadata": {
    "colab": {
      "name": "Egyptian_model_with_ResNet_Pretrained_clean.ipynb",
      "provenance": []
    },
    "kernelspec": {
      "name": "python3",
      "display_name": "Python 3"
    },
    "language_info": {
      "name": "python"
    },
    "accelerator": "GPU",
    "widgets": {
      "application/vnd.jupyter.widget-state+json": {
        "1f9c82da6f9347e6babba6dce09d7c53": {
          "model_module": "@jupyter-widgets/controls",
          "model_name": "HBoxModel",
          "model_module_version": "1.5.0",
          "state": {
            "_view_name": "HBoxView",
            "_dom_classes": [],
            "_model_name": "HBoxModel",
            "_view_module": "@jupyter-widgets/controls",
            "_model_module_version": "1.5.0",
            "_view_count": null,
            "_view_module_version": "1.5.0",
            "box_style": "",
            "layout": "IPY_MODEL_e21954ee425148e9baa18f419a332c78",
            "_model_module": "@jupyter-widgets/controls",
            "children": [
              "IPY_MODEL_c63bd5076e8d407aa075786523edf776",
              "IPY_MODEL_58f62ebcb87d4cb989d0b8dd415a5153",
              "IPY_MODEL_de32e6e144bd46f1b3f233d09c21067e"
            ]
          }
        },
        "e21954ee425148e9baa18f419a332c78": {
          "model_module": "@jupyter-widgets/base",
          "model_name": "LayoutModel",
          "model_module_version": "1.2.0",
          "state": {
            "_view_name": "LayoutView",
            "grid_template_rows": null,
            "right": null,
            "justify_content": null,
            "_view_module": "@jupyter-widgets/base",
            "overflow": null,
            "_model_module_version": "1.2.0",
            "_view_count": null,
            "flex_flow": null,
            "width": null,
            "min_width": null,
            "border": null,
            "align_items": null,
            "bottom": null,
            "_model_module": "@jupyter-widgets/base",
            "top": null,
            "grid_column": null,
            "overflow_y": null,
            "overflow_x": null,
            "grid_auto_flow": null,
            "grid_area": null,
            "grid_template_columns": null,
            "flex": null,
            "_model_name": "LayoutModel",
            "justify_items": null,
            "grid_row": null,
            "max_height": null,
            "align_content": null,
            "visibility": null,
            "align_self": null,
            "height": null,
            "min_height": null,
            "padding": null,
            "grid_auto_rows": null,
            "grid_gap": null,
            "max_width": null,
            "order": null,
            "_view_module_version": "1.2.0",
            "grid_template_areas": null,
            "object_position": null,
            "object_fit": null,
            "grid_auto_columns": null,
            "margin": null,
            "display": null,
            "left": null
          }
        },
        "c63bd5076e8d407aa075786523edf776": {
          "model_module": "@jupyter-widgets/controls",
          "model_name": "HTMLModel",
          "model_module_version": "1.5.0",
          "state": {
            "_view_name": "HTMLView",
            "style": "IPY_MODEL_eb0091c1548640988fac8c38dd3785a1",
            "_dom_classes": [],
            "description": "",
            "_model_name": "HTMLModel",
            "placeholder": "​",
            "_view_module": "@jupyter-widgets/controls",
            "_model_module_version": "1.5.0",
            "value": "100%",
            "_view_count": null,
            "_view_module_version": "1.5.0",
            "description_tooltip": null,
            "_model_module": "@jupyter-widgets/controls",
            "layout": "IPY_MODEL_47583bc1722346639fe7a23a8ab54fb5"
          }
        },
        "58f62ebcb87d4cb989d0b8dd415a5153": {
          "model_module": "@jupyter-widgets/controls",
          "model_name": "FloatProgressModel",
          "model_module_version": "1.5.0",
          "state": {
            "_view_name": "ProgressView",
            "style": "IPY_MODEL_d2d7e65d61d14755945e5db73c1cbee9",
            "_dom_classes": [],
            "description": "",
            "_model_name": "FloatProgressModel",
            "bar_style": "success",
            "max": 102530333,
            "_view_module": "@jupyter-widgets/controls",
            "_model_module_version": "1.5.0",
            "value": 102530333,
            "_view_count": null,
            "_view_module_version": "1.5.0",
            "orientation": "horizontal",
            "min": 0,
            "description_tooltip": null,
            "_model_module": "@jupyter-widgets/controls",
            "layout": "IPY_MODEL_7a7183b6f6a943e795ff76601787201e"
          }
        },
        "de32e6e144bd46f1b3f233d09c21067e": {
          "model_module": "@jupyter-widgets/controls",
          "model_name": "HTMLModel",
          "model_module_version": "1.5.0",
          "state": {
            "_view_name": "HTMLView",
            "style": "IPY_MODEL_c731de6511ae4466aeae5dfd13ee8230",
            "_dom_classes": [],
            "description": "",
            "_model_name": "HTMLModel",
            "placeholder": "​",
            "_view_module": "@jupyter-widgets/controls",
            "_model_module_version": "1.5.0",
            "value": " 97.8M/97.8M [00:00&lt;00:00, 187MB/s]",
            "_view_count": null,
            "_view_module_version": "1.5.0",
            "description_tooltip": null,
            "_model_module": "@jupyter-widgets/controls",
            "layout": "IPY_MODEL_28578a8b717e47da9cb7ed087efa814c"
          }
        },
        "eb0091c1548640988fac8c38dd3785a1": {
          "model_module": "@jupyter-widgets/controls",
          "model_name": "DescriptionStyleModel",
          "model_module_version": "1.5.0",
          "state": {
            "_view_name": "StyleView",
            "_model_name": "DescriptionStyleModel",
            "description_width": "",
            "_view_module": "@jupyter-widgets/base",
            "_model_module_version": "1.5.0",
            "_view_count": null,
            "_view_module_version": "1.2.0",
            "_model_module": "@jupyter-widgets/controls"
          }
        },
        "47583bc1722346639fe7a23a8ab54fb5": {
          "model_module": "@jupyter-widgets/base",
          "model_name": "LayoutModel",
          "model_module_version": "1.2.0",
          "state": {
            "_view_name": "LayoutView",
            "grid_template_rows": null,
            "right": null,
            "justify_content": null,
            "_view_module": "@jupyter-widgets/base",
            "overflow": null,
            "_model_module_version": "1.2.0",
            "_view_count": null,
            "flex_flow": null,
            "width": null,
            "min_width": null,
            "border": null,
            "align_items": null,
            "bottom": null,
            "_model_module": "@jupyter-widgets/base",
            "top": null,
            "grid_column": null,
            "overflow_y": null,
            "overflow_x": null,
            "grid_auto_flow": null,
            "grid_area": null,
            "grid_template_columns": null,
            "flex": null,
            "_model_name": "LayoutModel",
            "justify_items": null,
            "grid_row": null,
            "max_height": null,
            "align_content": null,
            "visibility": null,
            "align_self": null,
            "height": null,
            "min_height": null,
            "padding": null,
            "grid_auto_rows": null,
            "grid_gap": null,
            "max_width": null,
            "order": null,
            "_view_module_version": "1.2.0",
            "grid_template_areas": null,
            "object_position": null,
            "object_fit": null,
            "grid_auto_columns": null,
            "margin": null,
            "display": null,
            "left": null
          }
        },
        "d2d7e65d61d14755945e5db73c1cbee9": {
          "model_module": "@jupyter-widgets/controls",
          "model_name": "ProgressStyleModel",
          "model_module_version": "1.5.0",
          "state": {
            "_view_name": "StyleView",
            "_model_name": "ProgressStyleModel",
            "description_width": "",
            "_view_module": "@jupyter-widgets/base",
            "_model_module_version": "1.5.0",
            "_view_count": null,
            "_view_module_version": "1.2.0",
            "bar_color": null,
            "_model_module": "@jupyter-widgets/controls"
          }
        },
        "7a7183b6f6a943e795ff76601787201e": {
          "model_module": "@jupyter-widgets/base",
          "model_name": "LayoutModel",
          "model_module_version": "1.2.0",
          "state": {
            "_view_name": "LayoutView",
            "grid_template_rows": null,
            "right": null,
            "justify_content": null,
            "_view_module": "@jupyter-widgets/base",
            "overflow": null,
            "_model_module_version": "1.2.0",
            "_view_count": null,
            "flex_flow": null,
            "width": null,
            "min_width": null,
            "border": null,
            "align_items": null,
            "bottom": null,
            "_model_module": "@jupyter-widgets/base",
            "top": null,
            "grid_column": null,
            "overflow_y": null,
            "overflow_x": null,
            "grid_auto_flow": null,
            "grid_area": null,
            "grid_template_columns": null,
            "flex": null,
            "_model_name": "LayoutModel",
            "justify_items": null,
            "grid_row": null,
            "max_height": null,
            "align_content": null,
            "visibility": null,
            "align_self": null,
            "height": null,
            "min_height": null,
            "padding": null,
            "grid_auto_rows": null,
            "grid_gap": null,
            "max_width": null,
            "order": null,
            "_view_module_version": "1.2.0",
            "grid_template_areas": null,
            "object_position": null,
            "object_fit": null,
            "grid_auto_columns": null,
            "margin": null,
            "display": null,
            "left": null
          }
        },
        "c731de6511ae4466aeae5dfd13ee8230": {
          "model_module": "@jupyter-widgets/controls",
          "model_name": "DescriptionStyleModel",
          "model_module_version": "1.5.0",
          "state": {
            "_view_name": "StyleView",
            "_model_name": "DescriptionStyleModel",
            "description_width": "",
            "_view_module": "@jupyter-widgets/base",
            "_model_module_version": "1.5.0",
            "_view_count": null,
            "_view_module_version": "1.2.0",
            "_model_module": "@jupyter-widgets/controls"
          }
        },
        "28578a8b717e47da9cb7ed087efa814c": {
          "model_module": "@jupyter-widgets/base",
          "model_name": "LayoutModel",
          "model_module_version": "1.2.0",
          "state": {
            "_view_name": "LayoutView",
            "grid_template_rows": null,
            "right": null,
            "justify_content": null,
            "_view_module": "@jupyter-widgets/base",
            "overflow": null,
            "_model_module_version": "1.2.0",
            "_view_count": null,
            "flex_flow": null,
            "width": null,
            "min_width": null,
            "border": null,
            "align_items": null,
            "bottom": null,
            "_model_module": "@jupyter-widgets/base",
            "top": null,
            "grid_column": null,
            "overflow_y": null,
            "overflow_x": null,
            "grid_auto_flow": null,
            "grid_area": null,
            "grid_template_columns": null,
            "flex": null,
            "_model_name": "LayoutModel",
            "justify_items": null,
            "grid_row": null,
            "max_height": null,
            "align_content": null,
            "visibility": null,
            "align_self": null,
            "height": null,
            "min_height": null,
            "padding": null,
            "grid_auto_rows": null,
            "grid_gap": null,
            "max_width": null,
            "order": null,
            "_view_module_version": "1.2.0",
            "grid_template_areas": null,
            "object_position": null,
            "object_fit": null,
            "grid_auto_columns": null,
            "margin": null,
            "display": null,
            "left": null
          }
        }
      }
    }
  },
  "cells": [
    {
      "cell_type": "code",
      "metadata": {
        "id": "8iEiGSblxJzW"
      },
      "source": [
        "import os, os.path\n",
        "import torch\n",
        "import numpy as np\n",
        "import torch.nn as nn\n",
        "import torch.optim as optim\n",
        "from pathlib import Path\n",
        "from torchvision import datasets, models, transforms\n",
        "\n",
        "# check if CUDA is available\n",
        "train_on_gpu = torch.cuda.is_available()"
      ],
      "execution_count": 1,
      "outputs": []
    },
    {
      "cell_type": "markdown",
      "metadata": {
        "id": "Jd6KU8VMz6J3"
      },
      "source": [
        "Module: Load_data"
      ]
    },
    {
      "cell_type": "code",
      "metadata": {
        "id": "8lWX0BW_w_kC"
      },
      "source": [
        "def load_data(hieroglyph_directory_path, batch_size=20, num_workers=0):\n",
        "    train_dir = os.path.join(hieroglyph_directory_path, 'train/')\n",
        "    test_dir = os.path.join(hieroglyph_directory_path, 'test/')\n",
        "\n",
        "    classes = []\n",
        "\n",
        "    for filename in os.listdir(train_dir):\n",
        "        if filename == '.DS_Store':\n",
        "            pass\n",
        "        else:\n",
        "            classes.append(filename)\n",
        "\n",
        "    classes.sort()\n",
        "\n",
        "    # print(\"Our classes:\", classes)\n",
        "    # print(len(classes))\n",
        "\n",
        "    data_transform = transforms.Compose([transforms.ToTensor(),\n",
        "                                         transforms.RandomApply([transforms.RandomHorizontalFlip()]),\n",
        "                                         transforms.RandomRotation(degrees=(-10, 10)),\n",
        "                                         transforms.RandomAffine(degrees=0, translate=(.1, .1)),\n",
        "                                         transforms.RandomApply([transforms.ColorJitter(brightness=(1, 1.2),\n",
        "                                                                                        contrast=(1, 1.5),\n",
        "                                                                                        saturation=(1, 1.5),\n",
        "                                                                                        hue=(0, 0.5))]),\n",
        "                                         transforms.RandomErasing(p=0.5, scale=(0.05, 0.05), ratio=(0.3, 3.3), value=0,\n",
        "                                                                  inplace=False),\n",
        "                                         transforms.Normalize((0.5,), (0.5,))])\n",
        "\n",
        "    train_data = datasets.ImageFolder(train_dir, transform=data_transform)\n",
        "    test_data = datasets.ImageFolder(test_dir, transform=data_transform)\n",
        "\n",
        "    # print('Num training images: ', len(train_data))\n",
        "    # print('Num test images: ', len(test_data))\n",
        "\n",
        "    # prepare data loaders\n",
        "    train_loader = torch.utils.data.DataLoader(train_data, batch_size=batch_size,\n",
        "                                               num_workers=num_workers, shuffle=True)\n",
        "    test_loader = torch.utils.data.DataLoader(test_data, batch_size=batch_size,\n",
        "                                              num_workers=num_workers, shuffle=True)\n",
        "\n",
        "    return train_loader, test_loader, classes"
      ],
      "execution_count": 2,
      "outputs": []
    },
    {
      "cell_type": "markdown",
      "metadata": {
        "id": "K4sXUrPPz7iF"
      },
      "source": [
        "Module: Train_model"
      ]
    },
    {
      "cell_type": "code",
      "metadata": {
        "id": "N2N_rnKLxN5c"
      },
      "source": [
        "def train_model(train_loader, optimizer, resnet50, criterion, my_lr_scheduler, n_epochs):\n",
        "    # track training loss over time\n",
        "    losses = []\n",
        "    \n",
        "    for epoch in range(1, n_epochs + 1):\n",
        "\n",
        "        # keep track of training and validation loss\n",
        "        train_loss = 0.0\n",
        "\n",
        "        # model by default is set to train\n",
        "        for batch_i, (data, target) in enumerate(train_loader):\n",
        "            # move tensors to GPU if CUDA is available\n",
        "            if train_on_gpu:\n",
        "                data, target = data.cuda(), target.cuda()\n",
        "            # clear the gradients of all optimized variables\n",
        "            optimizer.zero_grad()\n",
        "            # forward pass: compute predicted outputs by passing inputs to the model\n",
        "            output = resnet50(data)\n",
        "            # calculate the batch loss\n",
        "            loss = criterion(output, target)\n",
        "            # backward pass: compute gradient of the loss with respect to model parameters\n",
        "            loss.backward()\n",
        "            # perform a single optimization step (parameter update)\n",
        "            optimizer.step()\n",
        "            # update training loss\n",
        "            train_loss += loss.item()\n",
        "\n",
        "            my_lr_scheduler.step()\n",
        "\n",
        "            if batch_i % 20 == 19:  # print training loss every specified number of mini-batches\n",
        "                print('Epoch %d, Batch %d loss: %.16f' %\n",
        "                    (epoch, batch_i + 1, train_loss / 20))\n",
        "                losses.append(train_loss / 20)\n",
        "                train_loss = 0.0\n",
        "        \n",
        "        \n",
        "\n",
        "    return resnet50, losses"
      ],
      "execution_count": 3,
      "outputs": []
    },
    {
      "cell_type": "markdown",
      "metadata": {
        "id": "-Rrxo5RDz96U"
      },
      "source": [
        "Module: Test_model"
      ]
    },
    {
      "cell_type": "code",
      "metadata": {
        "id": "Ay-HlMJnxU9v"
      },
      "source": [
        "def test_model(classes, resnet50, test_loader, criterion):\n",
        "    # track test loss\n",
        "    test_loss = 0.0\n",
        "    class_correct = list(0. for i in range(len(classes)))\n",
        "    class_total = list(0. for i in range(len(classes)))\n",
        "\n",
        "    resnet50.eval()  # eval mode\n",
        "\n",
        "    labels = []\n",
        "    predictions = []\n",
        "    # iterate over test data\n",
        "    for data, target in test_loader:\n",
        "        # move tensors to GPU if CUDA is available\n",
        "        if train_on_gpu:\n",
        "            data, target = data.cuda(), target.cuda()\n",
        "        # forward pass: compute predicted outputs by passing inputs to the model\n",
        "        output = resnet50(data)\n",
        "        # calculate the batch loss\n",
        "        loss = criterion(output, target)\n",
        "        # update  test loss\n",
        "        test_loss += loss.item() * data.size(0)\n",
        "        # convert output probabilities to predicted class\n",
        "        _, pred = torch.max(output, 1)\n",
        "        # compare predictions to true label\n",
        "        correct_tensor = pred.eq(target.data.view_as(pred))\n",
        "        correct = np.squeeze(correct_tensor.numpy()) if not train_on_gpu else np.squeeze(correct_tensor.cpu().numpy())\n",
        "        # calculate test accuracy for each object class\n",
        "        for i in range(len(target.data)):\n",
        "            label = target.data[i]\n",
        "            class_correct[label] += correct[i].item()\n",
        "            class_total[label] += 1\n",
        "        \n",
        "        # Will be used for calculating Recall, Precision, and F1-score\n",
        "        labels.extend(target.data.view_as(pred).tolist())\n",
        "        predictions.extend(pred.tolist())\n",
        "\n",
        "\n",
        "    # calculate avg test loss\n",
        "    test_loss = test_loss / len(test_loader.dataset)\n",
        "    print('Test Loss: {:.6f}\\n'.format(test_loss))\n",
        "\n",
        "    return test_loss, class_correct, class_total, labels, predictions"
      ],
      "execution_count": 4,
      "outputs": []
    },
    {
      "cell_type": "markdown",
      "metadata": {
        "id": "xHh3PXE80Asa"
      },
      "source": [
        "Check whether CUDA is available (Change runtime type if not)"
      ]
    },
    {
      "cell_type": "code",
      "metadata": {
        "colab": {
          "base_uri": "https://localhost:8080/"
        },
        "id": "Q9TYPQH7x4zw",
        "outputId": "77eb31fc-6ded-4233-c620-c8528a0f81cf"
      },
      "source": [
        "if not train_on_gpu:\n",
        "    print('CUDA is not available.  Training on CPU ...')\n",
        "else:\n",
        "    print('CUDA is available!  Training on GPU ...')"
      ],
      "execution_count": 5,
      "outputs": [
        {
          "output_type": "stream",
          "name": "stdout",
          "text": [
            "CUDA is available!  Training on GPU ...\n"
          ]
        }
      ]
    },
    {
      "cell_type": "markdown",
      "metadata": {
        "id": "6lYw8EKVx8Q7"
      },
      "source": [
        "Load Hieroglyph Data"
      ]
    },
    {
      "cell_type": "code",
      "metadata": {
        "colab": {
          "base_uri": "https://localhost:8080/"
        },
        "id": "laLvoRy1yewl",
        "outputId": "2eb1bc27-e488-4629-a2f7-982a0c4f2b95"
      },
      "source": [
        "# Connecting and Mounting to the Google Drive\n",
        "from google.colab import drive\n",
        "drive.mount('/content/drive')"
      ],
      "execution_count": 6,
      "outputs": [
        {
          "output_type": "stream",
          "name": "stdout",
          "text": [
            "Mounted at /content/drive\n"
          ]
        }
      ]
    },
    {
      "cell_type": "code",
      "metadata": {
        "id": "odaoZt9GyfUt"
      },
      "source": [
        "data_dir = '/content/drive/MyDrive/EgyptianHieroglyphDataset_Original_Clean/'"
      ],
      "execution_count": 7,
      "outputs": []
    },
    {
      "cell_type": "code",
      "metadata": {
        "colab": {
          "base_uri": "https://localhost:8080/"
        },
        "id": "dF22MAnmyiC1",
        "outputId": "32a208d5-9106-4907-bf40-dc8f66a2516c"
      },
      "source": [
        "hieroglyph_for_train = []\n",
        "file_count_list = []\n",
        "\n",
        "for name in os.listdir('/content/drive/MyDrive/EgyptianHieroglyphDataset_Original_Clean/train/'):\n",
        "  path, dirs, files = next(os.walk(\"/content/drive/MyDrive/EgyptianHieroglyphDataset_Original_Clean/train/\"+name))\n",
        "  file_count = len(files)\n",
        "  print(name, file_count)\n",
        "  file_count_list.append(file_count)\n",
        "  hieroglyph_for_train.append(name)\n",
        "\n",
        "hieroglyph_dict = dict(zip(hieroglyph_for_train, file_count_list))"
      ],
      "execution_count": 8,
      "outputs": [
        {
          "output_type": "stream",
          "name": "stdout",
          "text": [
            "Y5 6\n",
            "I9 116\n",
            "O34 15\n",
            "V13 63\n",
            "U7 3\n",
            "D46 40\n",
            "E34 97\n",
            "G1 28\n",
            "V31 106\n",
            "S34 8\n",
            "D36 47\n",
            "Q1 13\n",
            "V30 6\n",
            "F35 2\n",
            "O4 11\n",
            "M23 30\n",
            "S29 212\n",
            "R8 53\n",
            "W11 4\n",
            "X1 185\n",
            "Y1 1\n",
            "D21 146\n",
            "D2 19\n",
            "E23 8\n",
            "X8 4\n",
            "Z1 39\n",
            "D4 29\n",
            "V28 28\n",
            "I10 32\n",
            "O1 16\n",
            "M17 291\n",
            "F31 6\n",
            "G43 157\n",
            "D58 28\n",
            "O49 10\n",
            "G17 156\n",
            "R4 2\n",
            "Q3 61\n",
            "W24 31\n",
            "N35 358\n"
          ]
        }
      ]
    },
    {
      "cell_type": "markdown",
      "metadata": {
        "id": "XeQQ7PjZzKd9"
      },
      "source": [
        "Number of images for each hieroglyph "
      ]
    },
    {
      "cell_type": "code",
      "metadata": {
        "colab": {
          "base_uri": "https://localhost:8080/",
          "height": 609
        },
        "id": "W6IzWR2RyjxM",
        "outputId": "350ff765-d31a-442c-fd31-bfd0504adbc5"
      },
      "source": [
        "import matplotlib.pyplot as plt\n",
        "import pandas as pd\n",
        "\n",
        "df = pd.DataFrame({\"Hieroglyph\":hieroglyph_for_train, \"Count\":file_count_list})\n",
        "\n",
        "df_sorted= df.sort_values('Count',ascending=False)\n",
        "\n",
        "plt.figure(figsize=(20,10))\n",
        "# make bar plot with matplotlib\n",
        "plt.bar('Hieroglyph', 'Count',data=df_sorted)"
      ],
      "execution_count": 9,
      "outputs": [
        {
          "output_type": "execute_result",
          "data": {
            "text/plain": [
              "<BarContainer object of 40 artists>"
            ]
          },
          "metadata": {},
          "execution_count": 9
        },
        {
          "output_type": "display_data",
          "data": {
            "image/png": "[encoded data removed]",
            "text/plain": [
              "<Figure size 1440x720 with 1 Axes>"
            ]
          },
          "metadata": {
            "needs_background": "light"
          }
        }
      ]
    },
    {
      "cell_type": "code",
      "metadata": {
        "id": "-3oOm8rSx7tp"
      },
      "source": [
        "# Number of images processed in a single training\n",
        "batch_size = 20\n",
        "num_workers = 0\n",
        "\n",
        "# The load_data function is from hieroglyph_data_preparation python file\n",
        "train_loader, test_loader, classes = load_data(data_dir)"
      ],
      "execution_count": 10,
      "outputs": []
    },
    {
      "cell_type": "markdown",
      "metadata": {
        "id": "BJm8sGiBx_q5"
      },
      "source": [
        "ResNet Model"
      ]
    },
    {
      "cell_type": "code",
      "metadata": {
        "id": "JkLXVJGkxemC",
        "colab": {
          "base_uri": "https://localhost:8080/",
          "height": 66,
          "referenced_widgets": [
            "1f9c82da6f9347e6babba6dce09d7c53",
            "e21954ee425148e9baa18f419a332c78",
            "c63bd5076e8d407aa075786523edf776",
            "58f62ebcb87d4cb989d0b8dd415a5153",
            "de32e6e144bd46f1b3f233d09c21067e",
            "eb0091c1548640988fac8c38dd3785a1",
            "47583bc1722346639fe7a23a8ab54fb5",
            "d2d7e65d61d14755945e5db73c1cbee9",
            "7a7183b6f6a943e795ff76601787201e",
            "c731de6511ae4466aeae5dfd13ee8230",
            "28578a8b717e47da9cb7ed087efa814c"
          ]
        },
        "outputId": "e9f0e9c2-632a-432b-f39f-4aa830f08139"
      },
      "source": [
        "# Whether to extract features with the model\n",
        "feature_extract = False\n",
        "# Other selections\n",
        "loss_function = \"cross-entropy\"\n",
        "model_selection = \"resnet-50\"\n",
        "optim_selection = \"Adam\"\n",
        "\n",
        "# False if you want scratch model, True if you want pretrained model\n",
        "whether_to_pretrain = True\n",
        "\n",
        "# Load the model\n",
        "if model_selection == \"resnet-50\":\n",
        "    resnet50 = models.resnet50(pretrained=whether_to_pretrain)\n",
        "\n",
        "# Number of features in the last layer of resnet\n",
        "n_inputs = resnet50.fc.in_features\n",
        "\n",
        "# Add last linear layer (n_inputs -> 40 hieroglyph classes)\n",
        "# New layers automatically have requires_grad = True\n",
        "last_layer = nn.Sequential(\n",
        "                nn.Linear(n_inputs, len(classes)))\n",
        "\n",
        "resnet50.fc = last_layer\n",
        "\n",
        "# if GPU is available, move the model to GPU\n",
        "if train_on_gpu:\n",
        "    resnet50.cuda()\n",
        "\n",
        "# Specify loss function (categorical cross-entropy)\n",
        "if loss_function == \"cross-entropy\":\n",
        "    criterion = nn.CrossEntropyLoss()\n",
        "\n",
        "# Specify optimizer (Adam) and learning rate = 0.001\n",
        "if optim_selection == \"Adam\":\n",
        "    optimizer = optim.Adam(resnet50.parameters(), lr=0.001)\n",
        "\n",
        "# Exponential Decay to strengthen learning\n",
        "decayRate = 0.999\n",
        "my_lr_scheduler = torch.optim.lr_scheduler.ExponentialLR(optimizer=optimizer, gamma=decayRate)"
      ],
      "execution_count": 11,
      "outputs": [
        {
          "output_type": "stream",
          "name": "stderr",
          "text": [
            "Downloading: \"https://download.pytorch.org/models/resnet50-0676ba61.pth\" to /root/.cache/torch/hub/checkpoints/resnet50-0676ba61.pth\n"
          ]
        },
        {
          "output_type": "display_data",
          "data": {
            "application/vnd.jupyter.widget-view+json": {
              "model_id": "1f9c82da6f9347e6babba6dce09d7c53",
              "version_minor": 0,
              "version_major": 2
            },
            "text/plain": [
              "  0%|          | 0.00/97.8M [00:00<?, ?B/s]"
            ]
          },
          "metadata": {}
        }
      ]
    },
    {
      "cell_type": "markdown",
      "metadata": {
        "id": "U2vnErB1yHmM"
      },
      "source": [
        "Training the model"
      ]
    },
    {
      "cell_type": "code",
      "metadata": {
        "colab": {
          "base_uri": "https://localhost:8080/"
        },
        "id": "dOB03noWyEvQ",
        "outputId": "1635aeea-09b5-4608-c90d-8496077cf46e"
      },
      "source": [
        "# number of epochs to train the model\n",
        "n_epochs = 50\n",
        "\n",
        "# The train_model function is from model_training python file\n",
        "resnet50, train_losses = train_model(train_loader, optimizer, resnet50, criterion, my_lr_scheduler, n_epochs)"
      ],
      "execution_count": 12,
      "outputs": [
        {
          "output_type": "stream",
          "name": "stdout",
          "text": [
            "Epoch 1, Batch 20 loss: 2.6949504137039186\n",
            "Epoch 1, Batch 40 loss: 2.0046576142311094\n",
            "Epoch 1, Batch 60 loss: 1.7766378462314605\n",
            "Epoch 1, Batch 80 loss: 1.4329974651336670\n",
            "Epoch 1, Batch 100 loss: 1.5264872103929519\n",
            "Epoch 1, Batch 120 loss: 1.1055547744035721\n",
            "Epoch 2, Batch 20 loss: 1.1753931105136872\n",
            "Epoch 2, Batch 40 loss: 1.0157334148883819\n",
            "Epoch 2, Batch 60 loss: 0.7749954834580421\n",
            "Epoch 2, Batch 80 loss: 0.8423895508050918\n",
            "Epoch 2, Batch 100 loss: 0.7222347773611546\n",
            "Epoch 2, Batch 120 loss: 0.6440823957324028\n",
            "Epoch 3, Batch 20 loss: 0.7638796433806420\n",
            "Epoch 3, Batch 40 loss: 0.5911519076675177\n",
            "Epoch 3, Batch 60 loss: 0.5579107962548733\n",
            "Epoch 3, Batch 80 loss: 0.5285330183804036\n",
            "Epoch 3, Batch 100 loss: 0.4684623017907142\n",
            "Epoch 3, Batch 120 loss: 0.6298847422003746\n",
            "Epoch 4, Batch 20 loss: 0.5142171338200570\n",
            "Epoch 4, Batch 40 loss: 0.4095784448087215\n",
            "Epoch 4, Batch 60 loss: 0.4014763854444027\n",
            "Epoch 4, Batch 80 loss: 0.3989545434713364\n",
            "Epoch 4, Batch 100 loss: 0.4360269814729690\n",
            "Epoch 4, Batch 120 loss: 0.3911199435591698\n",
            "Epoch 5, Batch 20 loss: 0.3465091772377491\n",
            "Epoch 5, Batch 40 loss: 0.4117744285613298\n",
            "Epoch 5, Batch 60 loss: 0.4869997106492520\n",
            "Epoch 5, Batch 80 loss: 0.3263482980430126\n",
            "Epoch 5, Batch 100 loss: 0.3262587900273502\n",
            "Epoch 5, Batch 120 loss: 0.2923933211714029\n",
            "Epoch 6, Batch 20 loss: 0.2686130914837122\n",
            "Epoch 6, Batch 40 loss: 0.2854633668437600\n",
            "Epoch 6, Batch 60 loss: 0.2392535418272018\n",
            "Epoch 6, Batch 80 loss: 0.2322691051289439\n",
            "Epoch 6, Batch 100 loss: 0.2713714659214020\n",
            "Epoch 6, Batch 120 loss: 0.2416985705494881\n",
            "Epoch 7, Batch 20 loss: 0.2925408739596606\n",
            "Epoch 7, Batch 40 loss: 0.1750268820673227\n",
            "Epoch 7, Batch 60 loss: 0.1991479950957000\n",
            "Epoch 7, Batch 80 loss: 0.2100328903645277\n",
            "Epoch 7, Batch 100 loss: 0.1862458713352680\n",
            "Epoch 7, Batch 120 loss: 0.2217314048670232\n",
            "Epoch 8, Batch 20 loss: 0.1871945160906762\n",
            "Epoch 8, Batch 40 loss: 0.1944707102142274\n",
            "Epoch 8, Batch 60 loss: 0.1509049516171217\n",
            "Epoch 8, Batch 80 loss: 0.1180485134012997\n",
            "Epoch 8, Batch 100 loss: 0.1518839897587895\n",
            "Epoch 8, Batch 120 loss: 0.1483139026910067\n",
            "Epoch 9, Batch 20 loss: 0.1531754828989506\n",
            "Epoch 9, Batch 40 loss: 0.1573878443799913\n",
            "Epoch 9, Batch 60 loss: 0.1977036979980767\n",
            "Epoch 9, Batch 80 loss: 0.1622097544372082\n",
            "Epoch 9, Batch 100 loss: 0.1531801596283913\n",
            "Epoch 9, Batch 120 loss: 0.1450776659417898\n",
            "Epoch 10, Batch 20 loss: 0.1969103091396391\n",
            "Epoch 10, Batch 40 loss: 0.1266715265111998\n",
            "Epoch 10, Batch 60 loss: 0.0779190205968916\n",
            "Epoch 10, Batch 80 loss: 0.1515363139100373\n",
            "Epoch 10, Batch 100 loss: 0.1907813748344779\n",
            "Epoch 10, Batch 120 loss: 0.1349310193210840\n",
            "Epoch 11, Batch 20 loss: 0.1189038861542940\n",
            "Epoch 11, Batch 40 loss: 0.1131193072535098\n",
            "Epoch 11, Batch 60 loss: 0.1292473758105189\n",
            "Epoch 11, Batch 80 loss: 0.0960423128679395\n",
            "Epoch 11, Batch 100 loss: 0.1002836164087057\n",
            "Epoch 11, Batch 120 loss: 0.0594056494999677\n",
            "Epoch 12, Batch 20 loss: 0.1241464609280229\n",
            "Epoch 12, Batch 40 loss: 0.0982267953921109\n",
            "Epoch 12, Batch 60 loss: 0.0965930517879315\n",
            "Epoch 12, Batch 80 loss: 0.0903605518629775\n",
            "Epoch 12, Batch 100 loss: 0.0866954550147057\n",
            "Epoch 12, Batch 120 loss: 0.0617665049154311\n",
            "Epoch 13, Batch 20 loss: 0.0425873716594651\n",
            "Epoch 13, Batch 40 loss: 0.0865830817725509\n",
            "Epoch 13, Batch 60 loss: 0.0713039160473272\n",
            "Epoch 13, Batch 80 loss: 0.0666127213509753\n",
            "Epoch 13, Batch 100 loss: 0.0884051257744431\n",
            "Epoch 13, Batch 120 loss: 0.1024833565577865\n",
            "Epoch 14, Batch 20 loss: 0.0762011370388791\n",
            "Epoch 14, Batch 40 loss: 0.0691156763350591\n",
            "Epoch 14, Batch 60 loss: 0.1189733109204099\n",
            "Epoch 14, Batch 80 loss: 0.0613653586711735\n",
            "Epoch 14, Batch 100 loss: 0.0831906489562243\n",
            "Epoch 14, Batch 120 loss: 0.0647390593425371\n",
            "Epoch 15, Batch 20 loss: 0.0781803441001102\n",
            "Epoch 15, Batch 40 loss: 0.0741067811613902\n",
            "Epoch 15, Batch 60 loss: 0.0828907569346484\n",
            "Epoch 15, Batch 80 loss: 0.0780625542975031\n",
            "Epoch 15, Batch 100 loss: 0.0717684894334525\n",
            "Epoch 15, Batch 120 loss: 0.0541213006246835\n",
            "Epoch 16, Batch 20 loss: 0.0757571966154501\n",
            "Epoch 16, Batch 40 loss: 0.0512268998427317\n",
            "Epoch 16, Batch 60 loss: 0.1047912172740325\n",
            "Epoch 16, Batch 80 loss: 0.0440047214855440\n",
            "Epoch 16, Batch 100 loss: 0.0461579344235361\n",
            "Epoch 16, Batch 120 loss: 0.0327807507012039\n",
            "Epoch 17, Batch 20 loss: 0.0675982010317966\n",
            "Epoch 17, Batch 40 loss: 0.0312992394436151\n",
            "Epoch 17, Batch 60 loss: 0.0663835326675326\n",
            "Epoch 17, Batch 80 loss: 0.0342685817508027\n",
            "Epoch 17, Batch 100 loss: 0.0631785751436837\n",
            "Epoch 17, Batch 120 loss: 0.0710235569742508\n",
            "Epoch 18, Batch 20 loss: 0.0291993168648332\n",
            "Epoch 18, Batch 40 loss: 0.0513747630873695\n",
            "Epoch 18, Batch 60 loss: 0.0797819058061577\n",
            "Epoch 18, Batch 80 loss: 0.0423763625731226\n",
            "Epoch 18, Batch 100 loss: 0.0611543896957301\n",
            "Epoch 18, Batch 120 loss: 0.0736166355898604\n",
            "Epoch 19, Batch 20 loss: 0.0270543334074318\n",
            "Epoch 19, Batch 40 loss: 0.0284047277149512\n",
            "Epoch 19, Batch 60 loss: 0.0495920941873919\n",
            "Epoch 19, Batch 80 loss: 0.0406930472934619\n",
            "Epoch 19, Batch 100 loss: 0.0344112908758689\n",
            "Epoch 19, Batch 120 loss: 0.0665203710901551\n",
            "Epoch 20, Batch 20 loss: 0.0249605072487611\n",
            "Epoch 20, Batch 40 loss: 0.0347709650348406\n",
            "Epoch 20, Batch 60 loss: 0.0315207348903641\n",
            "Epoch 20, Batch 80 loss: 0.0586474479176104\n",
            "Epoch 20, Batch 100 loss: 0.0614201267075259\n",
            "Epoch 20, Batch 120 loss: 0.0532382340170443\n",
            "Epoch 21, Batch 20 loss: 0.0189497450657655\n",
            "Epoch 21, Batch 40 loss: 0.0258861060137860\n",
            "Epoch 21, Batch 60 loss: 0.0401542239007540\n",
            "Epoch 21, Batch 80 loss: 0.0147433548263507\n",
            "Epoch 21, Batch 100 loss: 0.0217512569972314\n",
            "Epoch 21, Batch 120 loss: 0.0451376625976991\n",
            "Epoch 22, Batch 20 loss: 0.0501328674232354\n",
            "Epoch 22, Batch 40 loss: 0.0161596570746042\n",
            "Epoch 22, Batch 60 loss: 0.0302381012937985\n",
            "Epoch 22, Batch 80 loss: 0.0355036822671536\n",
            "Epoch 22, Batch 100 loss: 0.0512760902638547\n",
            "Epoch 22, Batch 120 loss: 0.0559838665722054\n",
            "Epoch 23, Batch 20 loss: 0.0343913578428328\n",
            "Epoch 23, Batch 40 loss: 0.0317757112847175\n",
            "Epoch 23, Batch 60 loss: 0.0160721445427043\n",
            "Epoch 23, Batch 80 loss: 0.0112412803515326\n",
            "Epoch 23, Batch 100 loss: 0.0514459336292930\n",
            "Epoch 23, Batch 120 loss: 0.0263927781896200\n",
            "Epoch 24, Batch 20 loss: 0.0279889319790527\n",
            "Epoch 24, Batch 40 loss: 0.0427013662265381\n",
            "Epoch 24, Batch 60 loss: 0.0562731335987337\n",
            "Epoch 24, Batch 80 loss: 0.0541033717570826\n",
            "Epoch 24, Batch 100 loss: 0.0190979434584733\n",
            "Epoch 24, Batch 120 loss: 0.0273605421185493\n",
            "Epoch 25, Batch 20 loss: 0.0613036890863441\n",
            "Epoch 25, Batch 40 loss: 0.0475371751177590\n",
            "Epoch 25, Batch 60 loss: 0.0507667483529076\n",
            "Epoch 25, Batch 80 loss: 0.0428600220999215\n",
            "Epoch 25, Batch 100 loss: 0.0225155256630387\n",
            "Epoch 25, Batch 120 loss: 0.0243056602135766\n",
            "Epoch 26, Batch 20 loss: 0.0310365163139068\n",
            "Epoch 26, Batch 40 loss: 0.0177077227504924\n",
            "Epoch 26, Batch 60 loss: 0.0236749127099756\n",
            "Epoch 26, Batch 80 loss: 0.0373681915603811\n",
            "Epoch 26, Batch 100 loss: 0.0339093040442094\n",
            "Epoch 26, Batch 120 loss: 0.0304533384914976\n",
            "Epoch 27, Batch 20 loss: 0.0139186468382832\n",
            "Epoch 27, Batch 40 loss: 0.0566126808116678\n",
            "Epoch 27, Batch 60 loss: 0.0322113850445021\n",
            "Epoch 27, Batch 80 loss: 0.0271030939009506\n",
            "Epoch 27, Batch 100 loss: 0.0352448942023329\n",
            "Epoch 27, Batch 120 loss: 0.0353512972971657\n",
            "Epoch 28, Batch 20 loss: 0.0262770863831975\n",
            "Epoch 28, Batch 40 loss: 0.0173440088692587\n",
            "Epoch 28, Batch 60 loss: 0.0130643054289976\n",
            "Epoch 28, Batch 80 loss: 0.0289774901204510\n",
            "Epoch 28, Batch 100 loss: 0.0314135748951230\n",
            "Epoch 28, Batch 120 loss: 0.0432929351023631\n",
            "Epoch 29, Batch 20 loss: 0.0197656554344576\n",
            "Epoch 29, Batch 40 loss: 0.0177448315429501\n",
            "Epoch 29, Batch 60 loss: 0.0191493929451099\n",
            "Epoch 29, Batch 80 loss: 0.0237569427990820\n",
            "Epoch 29, Batch 100 loss: 0.0329109470883850\n",
            "Epoch 29, Batch 120 loss: 0.0158198618795723\n",
            "Epoch 30, Batch 20 loss: 0.0206985457421979\n",
            "Epoch 30, Batch 40 loss: 0.0278598579985555\n",
            "Epoch 30, Batch 60 loss: 0.0329079243267188\n",
            "Epoch 30, Batch 80 loss: 0.0307087698660325\n",
            "Epoch 30, Batch 100 loss: 0.0206488603493199\n",
            "Epoch 30, Batch 120 loss: 0.0085684910707641\n",
            "Epoch 31, Batch 20 loss: 0.0298773361835629\n",
            "Epoch 31, Batch 40 loss: 0.0231868929753546\n",
            "Epoch 31, Batch 60 loss: 0.0078925892041298\n",
            "Epoch 31, Batch 80 loss: 0.0144089899942628\n",
            "Epoch 31, Batch 100 loss: 0.0181299040239537\n",
            "Epoch 31, Batch 120 loss: 0.0215783450083109\n",
            "Epoch 32, Batch 20 loss: 0.0157141314179171\n",
            "Epoch 32, Batch 40 loss: 0.0288142197940033\n",
            "Epoch 32, Batch 60 loss: 0.0286885529785650\n",
            "Epoch 32, Batch 80 loss: 0.0067190029250924\n",
            "Epoch 32, Batch 100 loss: 0.0325981767324265\n",
            "Epoch 32, Batch 120 loss: 0.0260105519264471\n",
            "Epoch 33, Batch 20 loss: 0.0088690522708930\n",
            "Epoch 33, Batch 40 loss: 0.0365419105597539\n",
            "Epoch 33, Batch 60 loss: 0.0257150607299991\n",
            "Epoch 33, Batch 80 loss: 0.0258886535826605\n",
            "Epoch 33, Batch 100 loss: 0.0160357064858545\n",
            "Epoch 33, Batch 120 loss: 0.0184070665403851\n",
            "Epoch 34, Batch 20 loss: 0.0243151261995081\n",
            "Epoch 34, Batch 40 loss: 0.0169598576903809\n",
            "Epoch 34, Batch 60 loss: 0.0351920555985998\n",
            "Epoch 34, Batch 80 loss: 0.0133794917754130\n",
            "Epoch 34, Batch 100 loss: 0.0158445430250140\n",
            "Epoch 34, Batch 120 loss: 0.0231472853163723\n",
            "Epoch 35, Batch 20 loss: 0.0095240265945904\n",
            "Epoch 35, Batch 40 loss: 0.0124229679728160\n",
            "Epoch 35, Batch 60 loss: 0.0209983077482320\n",
            "Epoch 35, Batch 80 loss: 0.0104759494657628\n",
            "Epoch 35, Batch 100 loss: 0.0375961025361903\n",
            "Epoch 35, Batch 120 loss: 0.0319204960222123\n",
            "Epoch 36, Batch 20 loss: 0.0197329640970565\n",
            "Epoch 36, Batch 40 loss: 0.0339897546800785\n",
            "Epoch 36, Batch 60 loss: 0.0156302601739299\n",
            "Epoch 36, Batch 80 loss: 0.0168714835454011\n",
            "Epoch 36, Batch 100 loss: 0.0103092267876491\n",
            "Epoch 36, Batch 120 loss: 0.0161459166265558\n",
            "Epoch 37, Batch 20 loss: 0.0279057671519695\n",
            "Epoch 37, Batch 40 loss: 0.0110141210025176\n",
            "Epoch 37, Batch 60 loss: 0.0149431233672658\n",
            "Epoch 37, Batch 80 loss: 0.0219664133735932\n",
            "Epoch 37, Batch 100 loss: 0.0257361854892224\n",
            "Epoch 37, Batch 120 loss: 0.0179654113773722\n",
            "Epoch 38, Batch 20 loss: 0.0080862839473411\n",
            "Epoch 38, Batch 40 loss: 0.0394706933948328\n",
            "Epoch 38, Batch 60 loss: 0.0065262203192106\n",
            "Epoch 38, Batch 80 loss: 0.0099205652251840\n",
            "Epoch 38, Batch 100 loss: 0.0252710334927542\n",
            "Epoch 38, Batch 120 loss: 0.0238237590441713\n",
            "Epoch 39, Batch 20 loss: 0.0229572701209690\n",
            "Epoch 39, Batch 40 loss: 0.0250663473241730\n",
            "Epoch 39, Batch 60 loss: 0.0101974528981373\n",
            "Epoch 39, Batch 80 loss: 0.0149937788810348\n",
            "Epoch 39, Batch 100 loss: 0.0134751138262800\n",
            "Epoch 39, Batch 120 loss: 0.0195113649417181\n",
            "Epoch 40, Batch 20 loss: 0.0251189907197841\n",
            "Epoch 40, Batch 40 loss: 0.0316369046326145\n",
            "Epoch 40, Batch 60 loss: 0.0077103608738980\n",
            "Epoch 40, Batch 80 loss: 0.0215745070920093\n",
            "Epoch 40, Batch 100 loss: 0.0218322153115878\n",
            "Epoch 40, Batch 120 loss: 0.0394842769077513\n",
            "Epoch 41, Batch 20 loss: 0.0084408333583269\n",
            "Epoch 41, Batch 40 loss: 0.0196654701969237\n",
            "Epoch 41, Batch 60 loss: 0.0094893921123003\n",
            "Epoch 41, Batch 80 loss: 0.0139196564123267\n",
            "Epoch 41, Batch 100 loss: 0.0060204615583643\n",
            "Epoch 41, Batch 120 loss: 0.0335994790249970\n",
            "Epoch 42, Batch 20 loss: 0.0355055521300528\n",
            "Epoch 42, Batch 40 loss: 0.0207691276853438\n",
            "Epoch 42, Batch 60 loss: 0.0101706727000419\n",
            "Epoch 42, Batch 80 loss: 0.0284868119721068\n",
            "Epoch 42, Batch 100 loss: 0.0203546652046498\n",
            "Epoch 42, Batch 120 loss: 0.0110688913904596\n",
            "Epoch 43, Batch 20 loss: 0.0079036107781576\n",
            "Epoch 43, Batch 40 loss: 0.0084339372202521\n",
            "Epoch 43, Batch 60 loss: 0.0231909791793441\n",
            "Epoch 43, Batch 80 loss: 0.0111595157533884\n",
            "Epoch 43, Batch 100 loss: 0.0118666980182752\n",
            "Epoch 43, Batch 120 loss: 0.0334588555822847\n",
            "Epoch 44, Batch 20 loss: 0.0120593573607039\n",
            "Epoch 44, Batch 40 loss: 0.0405725352989975\n",
            "Epoch 44, Batch 60 loss: 0.0166223185864510\n",
            "Epoch 44, Batch 80 loss: 0.0124191867187619\n",
            "Epoch 44, Batch 100 loss: 0.0064801063505001\n",
            "Epoch 44, Batch 120 loss: 0.0192574956163298\n",
            "Epoch 45, Batch 20 loss: 0.0215968020347646\n",
            "Epoch 45, Batch 40 loss: 0.0264601337155909\n",
            "Epoch 45, Batch 60 loss: 0.0233610143273836\n",
            "Epoch 45, Batch 80 loss: 0.0129437245719600\n",
            "Epoch 45, Batch 100 loss: 0.0237353151751449\n",
            "Epoch 45, Batch 120 loss: 0.0107018883456476\n",
            "Epoch 46, Batch 20 loss: 0.0402500457566930\n",
            "Epoch 46, Batch 40 loss: 0.0184247795084957\n",
            "Epoch 46, Batch 60 loss: 0.0290835317864548\n",
            "Epoch 46, Batch 80 loss: 0.0094352677435381\n",
            "Epoch 46, Batch 100 loss: 0.0067103945941199\n",
            "Epoch 46, Batch 120 loss: 0.0037303275967133\n",
            "Epoch 47, Batch 20 loss: 0.0161243717971956\n",
            "Epoch 47, Batch 40 loss: 0.0186424121144228\n",
            "Epoch 47, Batch 60 loss: 0.0037835838971660\n",
            "Epoch 47, Batch 80 loss: 0.0103427355148597\n",
            "Epoch 47, Batch 100 loss: 0.0169403946812963\n",
            "Epoch 47, Batch 120 loss: 0.0196758466772735\n",
            "Epoch 48, Batch 20 loss: 0.0493155460964772\n",
            "Epoch 48, Batch 40 loss: 0.0103286405414110\n",
            "Epoch 48, Batch 60 loss: 0.0127661829232238\n",
            "Epoch 48, Batch 80 loss: 0.0132046624843497\n",
            "Epoch 48, Batch 100 loss: 0.0098902851736057\n",
            "Epoch 48, Batch 120 loss: 0.0549961878918111\n",
            "Epoch 49, Batch 20 loss: 0.0049709168466507\n",
            "Epoch 49, Batch 40 loss: 0.0204762368535739\n",
            "Epoch 49, Batch 60 loss: 0.0258697455428774\n",
            "Epoch 49, Batch 80 loss: 0.0159389737935271\n",
            "Epoch 49, Batch 100 loss: 0.0083370018066489\n",
            "Epoch 49, Batch 120 loss: 0.0337347340711858\n",
            "Epoch 50, Batch 20 loss: 0.0075444758287631\n",
            "Epoch 50, Batch 40 loss: 0.0148029429547023\n",
            "Epoch 50, Batch 60 loss: 0.0093216579582077\n",
            "Epoch 50, Batch 80 loss: 0.0046038998232689\n",
            "Epoch 50, Batch 100 loss: 0.0370518779993290\n",
            "Epoch 50, Batch 120 loss: 0.0196933447732590\n"
          ]
        }
      ]
    },
    {
      "cell_type": "code",
      "metadata": {
        "id": "CfA7ZjLR1BZP",
        "colab": {
          "base_uri": "https://localhost:8080/",
          "height": 281
        },
        "outputId": "beb16079-da9b-48e8-9c73-fb793b2cd752"
      },
      "source": [
        "plt.plot(train_losses)\n",
        "plt.title(\"Training Loss\")\n",
        "plt.show()"
      ],
      "execution_count": 13,
      "outputs": [
        {
          "output_type": "display_data",
          "data": {
            "image/png": "[encoded data removed]",
            "text/plain": [
              "<Figure size 432x288 with 1 Axes>"
            ]
          },
          "metadata": {
            "needs_background": "light"
          }
        }
      ]
    },
    {
      "cell_type": "markdown",
      "metadata": {
        "id": "ItLyF9dQyJFL"
      },
      "source": [
        "Testing the model"
      ]
    },
    {
      "cell_type": "code",
      "metadata": {
        "id": "gGki98W3SoEW"
      },
      "source": [
        "from sklearn.metrics import precision_score, recall_score, f1_score, accuracy_score"
      ],
      "execution_count": 14,
      "outputs": []
    },
    {
      "cell_type": "code",
      "metadata": {
        "id": "xNavYOynyE6d",
        "colab": {
          "base_uri": "https://localhost:8080/"
        },
        "outputId": "83f2a2ba-f77d-4542-efe5-6328021fd66c"
      },
      "source": [
        "# The test_model function is from model_testing python file\n",
        "test_loss, class_correct, class_total, labels, predictions = test_model(classes, resnet50, test_loader, criterion)\n",
        "\n",
        "# Test accuracy for each hieroglyph\n",
        "for i in range(len(classes)):\n",
        "    if class_total[i] > 0:\n",
        "        print('Test Accuracy of %5s: %2d%% (%2d/%2d)' % (classes[i], 100 * class_correct[i] / class_total[i], np.sum(class_correct[i]), np.sum(class_total[i])))\n",
        "    else:\n",
        "        print('Test Accuracy of %5s: N/A (no training examples)' % (classes[i]))\n",
        "\n",
        "# Total Test accuracy\n",
        "print(\"\\nAccuracy: {:.3%}\".format(accuracy_score(labels, predictions)))\n",
        "print(\"\\nPrecision: {:.3%}\".format(precision_score(labels, predictions, average = 'weighted')))\n",
        "print(\"\\nRecall: {:.3%}\".format(recall_score(labels, predictions, average = 'weighted')))\n",
        "print(\"\\nF1-score: {:.3%}\".format(f1_score(labels, predictions, average = 'weighted')))"
      ],
      "execution_count": 15,
      "outputs": [
        {
          "output_type": "stream",
          "name": "stdout",
          "text": [
            "Test Loss: 0.021360\n",
            "\n",
            "Test Accuracy of    D2: 100% ( 5/ 5)\n",
            "Test Accuracy of   D21: 100% (36/36)\n",
            "Test Accuracy of   D36: 100% (12/12)\n",
            "Test Accuracy of    D4: 100% ( 8/ 8)\n",
            "Test Accuracy of   D46: 100% (11/11)\n",
            "Test Accuracy of   D58: 100% ( 8/ 8)\n",
            "Test Accuracy of   E23: 100% ( 2/ 2)\n",
            "Test Accuracy of   E34: 100% (25/25)\n",
            "Test Accuracy of   F31: 100% ( 2/ 2)\n",
            "Test Accuracy of   F35: 100% ( 1/ 1)\n",
            "Test Accuracy of    G1: 100% ( 7/ 7)\n",
            "Test Accuracy of   G17: 97% (38/39)\n",
            "Test Accuracy of   G43: 100% (40/40)\n",
            "Test Accuracy of   I10: 100% ( 9/ 9)\n",
            "Test Accuracy of    I9: 100% (30/30)\n",
            "Test Accuracy of   M17: 100% (73/73)\n",
            "Test Accuracy of   M23: 100% ( 8/ 8)\n",
            "Test Accuracy of   N35: 100% (90/90)\n",
            "Test Accuracy of    O1: 100% ( 4/ 4)\n",
            "Test Accuracy of   O34: 100% ( 4/ 4)\n",
            "Test Accuracy of    O4: 100% ( 3/ 3)\n",
            "Test Accuracy of   O49: 100% ( 3/ 3)\n",
            "Test Accuracy of    Q1: 75% ( 3/ 4)\n",
            "Test Accuracy of    Q3: 100% (16/16)\n",
            "Test Accuracy of    R4: 100% ( 1/ 1)\n",
            "Test Accuracy of    R8: 100% (14/14)\n",
            "Test Accuracy of   S29: 100% (53/53)\n",
            "Test Accuracy of   S34: 100% ( 2/ 2)\n",
            "Test Accuracy of    U7: 100% ( 1/ 1)\n",
            "Test Accuracy of   V13: 100% (16/16)\n",
            "Test Accuracy of   V28: 100% ( 8/ 8)\n",
            "Test Accuracy of   V30: 50% ( 1/ 2)\n",
            "Test Accuracy of   V31: 100% (27/27)\n",
            "Test Accuracy of   W11: 100% ( 1/ 1)\n",
            "Test Accuracy of   W24: 87% ( 7/ 8)\n",
            "Test Accuracy of    X1: 100% (47/47)\n",
            "Test Accuracy of    X8: 100% ( 1/ 1)\n",
            "Test Accuracy of    Y1: 100% ( 1/ 1)\n",
            "Test Accuracy of    Y5: 100% ( 2/ 2)\n",
            "Test Accuracy of    Z1: 100% (10/10)\n",
            "\n",
            "Accuracy: 99.369%\n",
            "\n",
            "Precision: 99.471%\n",
            "\n",
            "Recall: 99.369%\n",
            "\n",
            "F1-score: 99.354%\n"
          ]
        }
      ]
    }
  ]
}
