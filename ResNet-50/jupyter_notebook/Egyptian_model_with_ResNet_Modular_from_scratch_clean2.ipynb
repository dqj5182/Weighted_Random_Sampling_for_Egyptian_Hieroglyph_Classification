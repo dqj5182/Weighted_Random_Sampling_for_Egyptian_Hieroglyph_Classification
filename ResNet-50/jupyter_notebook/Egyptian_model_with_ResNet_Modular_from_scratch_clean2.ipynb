{
  "nbformat": 4,
  "nbformat_minor": 0,
  "metadata": {
    "colab": {
      "name": "Egyptian_model_with_ResNet_Modular_from_scratch_clean2.ipynb",
      "provenance": []
    },
    "kernelspec": {
      "name": "python3",
      "display_name": "Python 3"
    },
    "language_info": {
      "name": "python"
    },
    "accelerator": "GPU"
  },
  "cells": [
    {
      "cell_type": "code",
      "metadata": {
        "id": "8iEiGSblxJzW"
      },
      "source": [
        "import os, os.path\n",
        "import torch\n",
        "import numpy as np\n",
        "import torch.nn as nn\n",
        "import torch.optim as optim\n",
        "from pathlib import Path\n",
        "from torchvision import datasets, models, transforms\n",
        "\n",
        "# check if CUDA is available\n",
        "train_on_gpu = torch.cuda.is_available()"
      ],
      "execution_count": 1,
      "outputs": []
    },
    {
      "cell_type": "markdown",
      "metadata": {
        "id": "Jd6KU8VMz6J3"
      },
      "source": [
        "Module: Load_data"
      ]
    },
    {
      "cell_type": "code",
      "metadata": {
        "id": "8lWX0BW_w_kC"
      },
      "source": [
        "def load_data(hieroglyph_directory_path, batch_size=20, num_workers=0):\n",
        "    train_dir = os.path.join(hieroglyph_directory_path, 'train/')\n",
        "    test_dir = os.path.join(hieroglyph_directory_path, 'test/')\n",
        "\n",
        "    classes = []\n",
        "\n",
        "    for filename in os.listdir(train_dir):\n",
        "        if filename == '.DS_Store':\n",
        "            pass\n",
        "        else:\n",
        "            classes.append(filename)\n",
        "\n",
        "    classes.sort()\n",
        "\n",
        "    # print(\"Our classes:\", classes)\n",
        "    # print(len(classes))\n",
        "\n",
        "    data_transform = transforms.Compose([transforms.ToTensor(),\n",
        "                                         transforms.RandomApply([transforms.RandomHorizontalFlip()]),\n",
        "                                         transforms.RandomRotation(degrees=(-10, 10)),\n",
        "                                         transforms.RandomAffine(degrees=0, translate=(.1, .1)),\n",
        "                                         transforms.RandomApply([transforms.ColorJitter(brightness=(1, 1.2),\n",
        "                                                                                        contrast=(1, 1.5),\n",
        "                                                                                        saturation=(1, 1.5),\n",
        "                                                                                        hue=(0, 0.5))]),\n",
        "                                         transforms.RandomErasing(p=0.5, scale=(0.05, 0.05), ratio=(0.3, 3.3), value=0,\n",
        "                                                                  inplace=False),\n",
        "                                         transforms.Normalize((0.5,), (0.5,))])\n",
        "\n",
        "    train_data = datasets.ImageFolder(train_dir, transform=data_transform)\n",
        "    test_data = datasets.ImageFolder(test_dir, transform=data_transform)\n",
        "\n",
        "    # print('Num training images: ', len(train_data))\n",
        "    # print('Num test images: ', len(test_data))\n",
        "\n",
        "    # prepare data loaders\n",
        "    train_loader = torch.utils.data.DataLoader(train_data, batch_size=batch_size,\n",
        "                                               num_workers=num_workers, shuffle=True)\n",
        "    test_loader = torch.utils.data.DataLoader(test_data, batch_size=batch_size,\n",
        "                                              num_workers=num_workers, shuffle=True)\n",
        "\n",
        "    return train_loader, test_loader, classes"
      ],
      "execution_count": 2,
      "outputs": []
    },
    {
      "cell_type": "markdown",
      "metadata": {
        "id": "K4sXUrPPz7iF"
      },
      "source": [
        "Module: Train_model"
      ]
    },
    {
      "cell_type": "code",
      "metadata": {
        "id": "N2N_rnKLxN5c"
      },
      "source": [
        "def train_model(train_loader, optimizer, resnet50, criterion, my_lr_scheduler, n_epochs):\n",
        "    # track training loss over time\n",
        "    losses = []\n",
        "    \n",
        "    for epoch in range(1, n_epochs + 1):\n",
        "\n",
        "        # keep track of training and validation loss\n",
        "        train_loss = 0.0\n",
        "\n",
        "        # model by default is set to train\n",
        "        for batch_i, (data, target) in enumerate(train_loader):\n",
        "            # move tensors to GPU if CUDA is available\n",
        "            if train_on_gpu:\n",
        "                data, target = data.cuda(), target.cuda()\n",
        "            # clear the gradients of all optimized variables\n",
        "            optimizer.zero_grad()\n",
        "            # forward pass: compute predicted outputs by passing inputs to the model\n",
        "            output = resnet50(data)\n",
        "            # calculate the batch loss\n",
        "            loss = criterion(output, target)\n",
        "            # backward pass: compute gradient of the loss with respect to model parameters\n",
        "            loss.backward()\n",
        "            # perform a single optimization step (parameter update)\n",
        "            optimizer.step()\n",
        "            # update training loss\n",
        "            train_loss += loss.item()\n",
        "\n",
        "            my_lr_scheduler.step()\n",
        "\n",
        "            if batch_i % 20 == 19:  # print training loss every specified number of mini-batches\n",
        "                print('Epoch %d, Batch %d loss: %.16f' %\n",
        "                    (epoch, batch_i + 1, train_loss / 20))\n",
        "                losses.append(train_loss / 20)\n",
        "                train_loss = 0.0\n",
        "        \n",
        "        \n",
        "\n",
        "    return resnet50, losses"
      ],
      "execution_count": 3,
      "outputs": []
    },
    {
      "cell_type": "markdown",
      "metadata": {
        "id": "-Rrxo5RDz96U"
      },
      "source": [
        "Module: Test_model"
      ]
    },
    {
      "cell_type": "code",
      "metadata": {
        "id": "Ay-HlMJnxU9v"
      },
      "source": [
        "def test_model(classes, resnet50, test_loader, criterion):\n",
        "    # track test loss\n",
        "    test_loss = 0.0\n",
        "    class_correct = list(0. for i in range(len(classes)))\n",
        "    class_total = list(0. for i in range(len(classes)))\n",
        "\n",
        "    resnet50.eval()  # eval mode\n",
        "\n",
        "    labels = []\n",
        "    predictions = []\n",
        "    # iterate over test data\n",
        "    for data, target in test_loader:\n",
        "        # move tensors to GPU if CUDA is available\n",
        "        if train_on_gpu:\n",
        "            data, target = data.cuda(), target.cuda()\n",
        "        # forward pass: compute predicted outputs by passing inputs to the model\n",
        "        output = resnet50(data)\n",
        "        # calculate the batch loss\n",
        "        loss = criterion(output, target)\n",
        "        # update  test loss\n",
        "        test_loss += loss.item() * data.size(0)\n",
        "        # convert output probabilities to predicted class\n",
        "        _, pred = torch.max(output, 1)\n",
        "        # compare predictions to true label\n",
        "        correct_tensor = pred.eq(target.data.view_as(pred))\n",
        "        correct = np.squeeze(correct_tensor.numpy()) if not train_on_gpu else np.squeeze(correct_tensor.cpu().numpy())\n",
        "        # calculate test accuracy for each object class\n",
        "        for i in range(len(target.data)):\n",
        "            label = target.data[i]\n",
        "            class_correct[label] += correct[i].item()\n",
        "            class_total[label] += 1\n",
        "        \n",
        "        # Will be used for calculating Recall, Precision, and F1-score\n",
        "        labels.extend(target.data.view_as(pred).tolist())\n",
        "        predictions.extend(pred.tolist())\n",
        "\n",
        "\n",
        "    # calculate avg test loss\n",
        "    test_loss = test_loss / len(test_loader.dataset)\n",
        "    print('Test Loss: {:.6f}\\n'.format(test_loss))\n",
        "\n",
        "    return test_loss, class_correct, class_total, labels, predictions"
      ],
      "execution_count": 4,
      "outputs": []
    },
    {
      "cell_type": "markdown",
      "metadata": {
        "id": "xHh3PXE80Asa"
      },
      "source": [
        "Check whether CUDA is available (Change runtime type if not)"
      ]
    },
    {
      "cell_type": "code",
      "metadata": {
        "colab": {
          "base_uri": "https://localhost:8080/"
        },
        "id": "Q9TYPQH7x4zw",
        "outputId": "992ee98c-4ce8-4d5c-dc70-b3bbc5b1fdb1"
      },
      "source": [
        "if not train_on_gpu:\n",
        "    print('CUDA is not available.  Training on CPU ...')\n",
        "else:\n",
        "    print('CUDA is available!  Training on GPU ...')"
      ],
      "execution_count": 5,
      "outputs": [
        {
          "output_type": "stream",
          "name": "stdout",
          "text": [
            "CUDA is available!  Training on GPU ...\n"
          ]
        }
      ]
    },
    {
      "cell_type": "markdown",
      "metadata": {
        "id": "6lYw8EKVx8Q7"
      },
      "source": [
        "Load Hieroglyph Data"
      ]
    },
    {
      "cell_type": "code",
      "metadata": {
        "colab": {
          "base_uri": "https://localhost:8080/"
        },
        "id": "laLvoRy1yewl",
        "outputId": "e55d5efb-a335-4269-8910-f4965f957764"
      },
      "source": [
        "# Connecting and Mounting to the Google Drive\n",
        "from google.colab import drive\n",
        "drive.mount('/content/drive')"
      ],
      "execution_count": 6,
      "outputs": [
        {
          "output_type": "stream",
          "name": "stdout",
          "text": [
            "Mounted at /content/drive\n"
          ]
        }
      ]
    },
    {
      "cell_type": "code",
      "metadata": {
        "id": "odaoZt9GyfUt"
      },
      "source": [
        "data_dir = '/content/drive/MyDrive/EgyptianHieroglyphDataset_Original_Clean/'"
      ],
      "execution_count": 7,
      "outputs": []
    },
    {
      "cell_type": "code",
      "metadata": {
        "colab": {
          "base_uri": "https://localhost:8080/"
        },
        "id": "dF22MAnmyiC1",
        "outputId": "c5bda26f-9fe7-40b0-a8d0-df4a9b16660a"
      },
      "source": [
        "hieroglyph_for_train = []\n",
        "file_count_list = []\n",
        "\n",
        "for name in os.listdir('/content/drive/MyDrive/EgyptianHieroglyphDataset_Original_Clean/train/'):\n",
        "  path, dirs, files = next(os.walk(\"/content/drive/MyDrive/EgyptianHieroglyphDataset_Original_Clean/train/\"+name))\n",
        "  file_count = len(files)\n",
        "  print(name, file_count)\n",
        "  file_count_list.append(file_count)\n",
        "  hieroglyph_for_train.append(name)\n",
        "\n",
        "hieroglyph_dict = dict(zip(hieroglyph_for_train, file_count_list))"
      ],
      "execution_count": 8,
      "outputs": [
        {
          "output_type": "stream",
          "name": "stdout",
          "text": [
            "Y5 6\n",
            "I9 116\n",
            "O34 15\n",
            "V13 63\n",
            "U7 3\n",
            "D46 40\n",
            "E34 97\n",
            "G1 28\n",
            "V31 106\n",
            "S34 8\n",
            "D36 47\n",
            "Q1 13\n",
            "V30 6\n",
            "F35 2\n",
            "O4 11\n",
            "M23 30\n",
            "S29 212\n",
            "R8 53\n",
            "W11 4\n",
            "X1 185\n",
            "Y1 1\n",
            "D21 146\n",
            "D2 19\n",
            "E23 8\n",
            "X8 4\n",
            "Z1 39\n",
            "D4 29\n",
            "V28 28\n",
            "I10 32\n",
            "O1 16\n",
            "M17 291\n",
            "F31 6\n",
            "G43 157\n",
            "D58 28\n",
            "O49 10\n",
            "G17 156\n",
            "R4 2\n",
            "Q3 61\n",
            "W24 31\n",
            "N35 358\n"
          ]
        }
      ]
    },
    {
      "cell_type": "markdown",
      "metadata": {
        "id": "XeQQ7PjZzKd9"
      },
      "source": [
        "Number of images for each hieroglyph "
      ]
    },
    {
      "cell_type": "code",
      "metadata": {
        "colab": {
          "base_uri": "https://localhost:8080/",
          "height": 609
        },
        "id": "W6IzWR2RyjxM",
        "outputId": "8a456aa3-f029-4610-ae6c-b0c82e7ed9d4"
      },
      "source": [
        "import matplotlib.pyplot as plt\n",
        "import pandas as pd\n",
        "\n",
        "df = pd.DataFrame({\"Hieroglyph\":hieroglyph_for_train, \"Count\":file_count_list})\n",
        "\n",
        "df_sorted= df.sort_values('Count',ascending=False)\n",
        "\n",
        "plt.figure(figsize=(20,10))\n",
        "# make bar plot with matplotlib\n",
        "plt.bar('Hieroglyph', 'Count',data=df_sorted)"
      ],
      "execution_count": 9,
      "outputs": [
        {
          "output_type": "execute_result",
          "data": {
            "text/plain": [
              "<BarContainer object of 40 artists>"
            ]
          },
          "metadata": {},
          "execution_count": 9
        },
        {
          "output_type": "display_data",
          "data": {
            "image/png": "[encoded data removed]",
            "text/plain": [
              "<Figure size 1440x720 with 1 Axes>"
            ]
          },
          "metadata": {
            "needs_background": "light"
          }
        }
      ]
    },
    {
      "cell_type": "code",
      "metadata": {
        "id": "-3oOm8rSx7tp"
      },
      "source": [
        "# Number of images processed in a single training\n",
        "batch_size = 20\n",
        "num_workers = 0\n",
        "\n",
        "# The load_data function is from hieroglyph_data_preparation python file\n",
        "train_loader, test_loader, classes = load_data(data_dir)"
      ],
      "execution_count": 10,
      "outputs": []
    },
    {
      "cell_type": "markdown",
      "metadata": {
        "id": "BJm8sGiBx_q5"
      },
      "source": [
        "ResNet Model"
      ]
    },
    {
      "cell_type": "code",
      "metadata": {
        "id": "JkLXVJGkxemC"
      },
      "source": [
        "# Whether to extract features with the model\n",
        "feature_extract = False\n",
        "# Other selections\n",
        "loss_function = \"cross-entropy\"\n",
        "model_selection = \"resnet-50\"\n",
        "optim_selection = \"Adam\"\n",
        "\n",
        "# False if you want scratch model, True if you want pretrained model\n",
        "whether_to_pretrain = False\n",
        "\n",
        "# Load the model\n",
        "if model_selection == \"resnet-50\":\n",
        "    resnet50 = models.resnet50(pretrained=whether_to_pretrain)\n",
        "\n",
        "# Number of features in the last layer of resnet\n",
        "n_inputs = resnet50.fc.in_features\n",
        "\n",
        "# Add last linear layer (n_inputs -> 40 hieroglyph classes)\n",
        "# New layers automatically have requires_grad = True\n",
        "last_layer = nn.Sequential(\n",
        "                nn.Linear(n_inputs, len(classes)))\n",
        "\n",
        "resnet50.fc = last_layer\n",
        "\n",
        "# if GPU is available, move the model to GPU\n",
        "if train_on_gpu:\n",
        "    resnet50.cuda()\n",
        "\n",
        "# Specify loss function (categorical cross-entropy)\n",
        "if loss_function == \"cross-entropy\":\n",
        "    criterion = nn.CrossEntropyLoss()\n",
        "\n",
        "# Specify optimizer (Adam) and learning rate = 0.001\n",
        "if optim_selection == \"Adam\":\n",
        "    optimizer = optim.Adam(resnet50.parameters(), lr=0.001)\n",
        "\n",
        "# Exponential Decay to strengthen learning\n",
        "decayRate = 0.999\n",
        "my_lr_scheduler = torch.optim.lr_scheduler.ExponentialLR(optimizer=optimizer, gamma=decayRate)"
      ],
      "execution_count": 11,
      "outputs": []
    },
    {
      "cell_type": "markdown",
      "metadata": {
        "id": "U2vnErB1yHmM"
      },
      "source": [
        "Training the model"
      ]
    },
    {
      "cell_type": "code",
      "metadata": {
        "colab": {
          "base_uri": "https://localhost:8080/"
        },
        "id": "dOB03noWyEvQ",
        "outputId": "5e157ab1-0abe-405a-b032-19c18eebbab4"
      },
      "source": [
        "# number of epochs to train the model\n",
        "n_epochs = 50\n",
        "\n",
        "# The train_model function is from model_training python file\n",
        "resnet50, train_losses = train_model(train_loader, optimizer, resnet50, criterion, my_lr_scheduler, n_epochs)"
      ],
      "execution_count": 12,
      "outputs": [
        {
          "output_type": "stream",
          "name": "stdout",
          "text": [
            "Epoch 1, Batch 20 loss: 4.5559942364692692\n",
            "Epoch 1, Batch 40 loss: 3.5828619003295898\n",
            "Epoch 1, Batch 60 loss: 3.1344713807106017\n",
            "Epoch 1, Batch 80 loss: 2.9751756668090819\n",
            "Epoch 1, Batch 100 loss: 2.6613768935203552\n",
            "Epoch 1, Batch 120 loss: 2.2217662334442139\n",
            "Epoch 2, Batch 20 loss: 2.0479227602481842\n",
            "Epoch 2, Batch 40 loss: 2.2392161726951598\n",
            "Epoch 2, Batch 60 loss: 1.9756411790847779\n",
            "Epoch 2, Batch 80 loss: 1.8151347041130066\n",
            "Epoch 2, Batch 100 loss: 1.5239165127277374\n",
            "Epoch 2, Batch 120 loss: 1.5377616703510284\n",
            "Epoch 3, Batch 20 loss: 1.4496653735637666\n",
            "Epoch 3, Batch 40 loss: 1.2941664218902589\n",
            "Epoch 3, Batch 60 loss: 1.0491428524255753\n",
            "Epoch 3, Batch 80 loss: 1.2917892321944238\n",
            "Epoch 3, Batch 100 loss: 1.1464781045913697\n",
            "Epoch 3, Batch 120 loss: 1.1208424150943757\n",
            "Epoch 4, Batch 20 loss: 1.1105563789606094\n",
            "Epoch 4, Batch 40 loss: 0.9438062071800232\n",
            "Epoch 4, Batch 60 loss: 0.9647101044654847\n",
            "Epoch 4, Batch 80 loss: 0.8931004002690315\n",
            "Epoch 4, Batch 100 loss: 0.8538723751902580\n",
            "Epoch 4, Batch 120 loss: 0.9323216304183006\n",
            "Epoch 5, Batch 20 loss: 0.7425649389624596\n",
            "Epoch 5, Batch 40 loss: 0.7660874068737030\n",
            "Epoch 5, Batch 60 loss: 0.6352689802646637\n",
            "Epoch 5, Batch 80 loss: 0.7255027472972870\n",
            "Epoch 5, Batch 100 loss: 0.7290973529219628\n",
            "Epoch 5, Batch 120 loss: 0.7909429550170899\n",
            "Epoch 6, Batch 20 loss: 0.7524101108312606\n",
            "Epoch 6, Batch 40 loss: 0.7905804723501205\n",
            "Epoch 6, Batch 60 loss: 0.5991724953055382\n",
            "Epoch 6, Batch 80 loss: 0.6081525444984436\n",
            "Epoch 6, Batch 100 loss: 0.5677794203162193\n",
            "Epoch 6, Batch 120 loss: 0.5940848872065544\n",
            "Epoch 7, Batch 20 loss: 0.5604648686945438\n",
            "Epoch 7, Batch 40 loss: 0.5001401394605637\n",
            "Epoch 7, Batch 60 loss: 0.5918722152709961\n",
            "Epoch 7, Batch 80 loss: 0.5405239090323448\n",
            "Epoch 7, Batch 100 loss: 0.5240557081997395\n",
            "Epoch 7, Batch 120 loss: 0.5113848909735680\n",
            "Epoch 8, Batch 20 loss: 0.4632035523653030\n",
            "Epoch 8, Batch 40 loss: 0.4041162215173245\n",
            "Epoch 8, Batch 60 loss: 0.4096448309719563\n",
            "Epoch 8, Batch 80 loss: 0.5223214887082577\n",
            "Epoch 8, Batch 100 loss: 0.5233827039599419\n",
            "Epoch 8, Batch 120 loss: 0.4497866295278072\n",
            "Epoch 9, Batch 20 loss: 0.4614539433270693\n",
            "Epoch 9, Batch 40 loss: 0.3800955615937710\n",
            "Epoch 9, Batch 60 loss: 0.3719647925347090\n",
            "Epoch 9, Batch 80 loss: 0.3881700515747070\n",
            "Epoch 9, Batch 100 loss: 0.5036938741803170\n",
            "Epoch 9, Batch 120 loss: 0.4733866728842259\n",
            "Epoch 10, Batch 20 loss: 0.4078074902296066\n",
            "Epoch 10, Batch 40 loss: 0.3753317851573229\n",
            "Epoch 10, Batch 60 loss: 0.3645226754248142\n",
            "Epoch 10, Batch 80 loss: 0.4519417740404606\n",
            "Epoch 10, Batch 100 loss: 0.4194103188812733\n",
            "Epoch 10, Batch 120 loss: 0.3606525108218193\n",
            "Epoch 11, Batch 20 loss: 0.3581597607582808\n",
            "Epoch 11, Batch 40 loss: 0.2762472536414862\n",
            "Epoch 11, Batch 60 loss: 0.3562659043818712\n",
            "Epoch 11, Batch 80 loss: 0.3313938315957785\n",
            "Epoch 11, Batch 100 loss: 0.3659978896379471\n",
            "Epoch 11, Batch 120 loss: 0.3976868920028210\n",
            "Epoch 12, Batch 20 loss: 0.3169767845422030\n",
            "Epoch 12, Batch 40 loss: 0.3540227171033621\n",
            "Epoch 12, Batch 60 loss: 0.2864481586962938\n",
            "Epoch 12, Batch 80 loss: 0.3705689039081335\n",
            "Epoch 12, Batch 100 loss: 0.2431933333631605\n",
            "Epoch 12, Batch 120 loss: 0.3731013249605894\n",
            "Epoch 13, Batch 20 loss: 0.2854719344526530\n",
            "Epoch 13, Batch 40 loss: 0.2450960401445627\n",
            "Epoch 13, Batch 60 loss: 0.3088515354320407\n",
            "Epoch 13, Batch 80 loss: 0.3325711846351623\n",
            "Epoch 13, Batch 100 loss: 0.2376715816557407\n",
            "Epoch 13, Batch 120 loss: 0.2995803058147430\n",
            "Epoch 14, Batch 20 loss: 0.2415634375065565\n",
            "Epoch 14, Batch 40 loss: 0.2714813731610775\n",
            "Epoch 14, Batch 60 loss: 0.2528112774714827\n",
            "Epoch 14, Batch 80 loss: 0.3054498292505741\n",
            "Epoch 14, Batch 100 loss: 0.2281670905649662\n",
            "Epoch 14, Batch 120 loss: 0.2062097993679345\n",
            "Epoch 15, Batch 20 loss: 0.2385772226378322\n",
            "Epoch 15, Batch 40 loss: 0.1901392750442028\n",
            "Epoch 15, Batch 60 loss: 0.2487438248470425\n",
            "Epoch 15, Batch 80 loss: 0.3222163738682866\n",
            "Epoch 15, Batch 100 loss: 0.2834027271717787\n",
            "Epoch 15, Batch 120 loss: 0.1511506492272019\n",
            "Epoch 16, Batch 20 loss: 0.1779628694057465\n",
            "Epoch 16, Batch 40 loss: 0.2084690526127815\n",
            "Epoch 16, Batch 60 loss: 0.2127977006137371\n",
            "Epoch 16, Batch 80 loss: 0.1731642529368401\n",
            "Epoch 16, Batch 100 loss: 0.1684419607743621\n",
            "Epoch 16, Batch 120 loss: 0.2441443674266338\n",
            "Epoch 17, Batch 20 loss: 0.1610195219516754\n",
            "Epoch 17, Batch 40 loss: 0.1438599868211895\n",
            "Epoch 17, Batch 60 loss: 0.1724831467028707\n",
            "Epoch 17, Batch 80 loss: 0.2317905660253018\n",
            "Epoch 17, Batch 100 loss: 0.2215381059329957\n",
            "Epoch 17, Batch 120 loss: 0.1618809301406145\n",
            "Epoch 18, Batch 20 loss: 0.1752792052924633\n",
            "Epoch 18, Batch 40 loss: 0.2045334443449974\n",
            "Epoch 18, Batch 60 loss: 0.1782997399568558\n",
            "Epoch 18, Batch 80 loss: 0.1527284875512123\n",
            "Epoch 18, Batch 100 loss: 0.1709038050845265\n",
            "Epoch 18, Batch 120 loss: 0.1899086503311992\n",
            "Epoch 19, Batch 20 loss: 0.1798961570486426\n",
            "Epoch 19, Batch 40 loss: 0.1625105264596641\n",
            "Epoch 19, Batch 60 loss: 0.2012860941700637\n",
            "Epoch 19, Batch 80 loss: 0.1846079995855689\n",
            "Epoch 19, Batch 100 loss: 0.1644292606972158\n",
            "Epoch 19, Batch 120 loss: 0.1185974468942732\n",
            "Epoch 20, Batch 20 loss: 0.1631836858578026\n",
            "Epoch 20, Batch 40 loss: 0.1491661227773875\n",
            "Epoch 20, Batch 60 loss: 0.1754404575563967\n",
            "Epoch 20, Batch 80 loss: 0.1705031235702336\n",
            "Epoch 20, Batch 100 loss: 0.1153126589953899\n",
            "Epoch 20, Batch 120 loss: 0.1155113141983748\n",
            "Epoch 21, Batch 20 loss: 0.1117011195980012\n",
            "Epoch 21, Batch 40 loss: 0.1695558654144406\n",
            "Epoch 21, Batch 60 loss: 0.1783797199837864\n",
            "Epoch 21, Batch 80 loss: 0.1046906485687941\n",
            "Epoch 21, Batch 100 loss: 0.1527071565389633\n",
            "Epoch 21, Batch 120 loss: 0.1045811411924660\n",
            "Epoch 22, Batch 20 loss: 0.1791657147929072\n",
            "Epoch 22, Batch 40 loss: 0.1229204025119543\n",
            "Epoch 22, Batch 60 loss: 0.1626647227443755\n",
            "Epoch 22, Batch 80 loss: 0.1142206508666277\n",
            "Epoch 22, Batch 100 loss: 0.0944546006619930\n",
            "Epoch 22, Batch 120 loss: 0.1289029898121953\n",
            "Epoch 23, Batch 20 loss: 0.1826083574909717\n",
            "Epoch 23, Batch 40 loss: 0.0916916675865650\n",
            "Epoch 23, Batch 60 loss: 0.1310482643544674\n",
            "Epoch 23, Batch 80 loss: 0.1018610053230077\n",
            "Epoch 23, Batch 100 loss: 0.1365321412682533\n",
            "Epoch 23, Batch 120 loss: 0.1080352318473160\n",
            "Epoch 24, Batch 20 loss: 0.1192155681084841\n",
            "Epoch 24, Batch 40 loss: 0.1070749672595412\n",
            "Epoch 24, Batch 60 loss: 0.1542921015992761\n",
            "Epoch 24, Batch 80 loss: 0.1497441565152258\n",
            "Epoch 24, Batch 100 loss: 0.1263289608992636\n",
            "Epoch 24, Batch 120 loss: 0.1372760256752372\n",
            "Epoch 25, Batch 20 loss: 0.1286218401044607\n",
            "Epoch 25, Batch 40 loss: 0.1237578284926713\n",
            "Epoch 25, Batch 60 loss: 0.0845761298201978\n",
            "Epoch 25, Batch 80 loss: 0.1336016243090853\n",
            "Epoch 25, Batch 100 loss: 0.1147620619274676\n",
            "Epoch 25, Batch 120 loss: 0.0976297709858045\n",
            "Epoch 26, Batch 20 loss: 0.1201753204222769\n",
            "Epoch 26, Batch 40 loss: 0.1324993605259806\n",
            "Epoch 26, Batch 60 loss: 0.1194508666172624\n",
            "Epoch 26, Batch 80 loss: 0.1172479148954153\n",
            "Epoch 26, Batch 100 loss: 0.0778084964025766\n",
            "Epoch 26, Batch 120 loss: 0.0879138108808547\n",
            "Epoch 27, Batch 20 loss: 0.1113737167790532\n",
            "Epoch 27, Batch 40 loss: 0.1223557654768229\n",
            "Epoch 27, Batch 60 loss: 0.1116234363056719\n",
            "Epoch 27, Batch 80 loss: 0.1506811216939241\n",
            "Epoch 27, Batch 100 loss: 0.0975287519861013\n",
            "Epoch 27, Batch 120 loss: 0.0612156511051580\n",
            "Epoch 28, Batch 20 loss: 0.1015418868046254\n",
            "Epoch 28, Batch 40 loss: 0.0817060786765069\n",
            "Epoch 28, Batch 60 loss: 0.1135889578610659\n",
            "Epoch 28, Batch 80 loss: 0.0675599035574123\n",
            "Epoch 28, Batch 100 loss: 0.0731403557118028\n",
            "Epoch 28, Batch 120 loss: 0.1085273248609155\n",
            "Epoch 29, Batch 20 loss: 0.1069779117126018\n",
            "Epoch 29, Batch 40 loss: 0.1069244537502527\n",
            "Epoch 29, Batch 60 loss: 0.0816751535981894\n",
            "Epoch 29, Batch 80 loss: 0.1026647090446204\n",
            "Epoch 29, Batch 100 loss: 0.1060380586888641\n",
            "Epoch 29, Batch 120 loss: 0.0759606102714315\n",
            "Epoch 30, Batch 20 loss: 0.0994507443625480\n",
            "Epoch 30, Batch 40 loss: 0.0578308416763321\n",
            "Epoch 30, Batch 60 loss: 0.0724055984755978\n",
            "Epoch 30, Batch 80 loss: 0.0796057417523116\n",
            "Epoch 30, Batch 100 loss: 0.0959087360417470\n",
            "Epoch 30, Batch 120 loss: 0.0839535176521167\n",
            "Epoch 31, Batch 20 loss: 0.0715931953629479\n",
            "Epoch 31, Batch 40 loss: 0.0627629150170833\n",
            "Epoch 31, Batch 60 loss: 0.0739561538677663\n",
            "Epoch 31, Batch 80 loss: 0.0860473375068977\n",
            "Epoch 31, Batch 100 loss: 0.0788196158711798\n",
            "Epoch 31, Batch 120 loss: 0.0699579115025699\n",
            "Epoch 32, Batch 20 loss: 0.0787518853787333\n",
            "Epoch 32, Batch 40 loss: 0.0879691930022091\n",
            "Epoch 32, Batch 60 loss: 0.0990659866482019\n",
            "Epoch 32, Batch 80 loss: 0.0933422095142305\n",
            "Epoch 32, Batch 100 loss: 0.1011316468473524\n",
            "Epoch 32, Batch 120 loss: 0.0640159660251811\n",
            "Epoch 33, Batch 20 loss: 0.0765328801702708\n",
            "Epoch 33, Batch 40 loss: 0.0986883059144020\n",
            "Epoch 33, Batch 60 loss: 0.0575372197199613\n",
            "Epoch 33, Batch 80 loss: 0.0868115809513256\n",
            "Epoch 33, Batch 100 loss: 0.0749404224683531\n",
            "Epoch 33, Batch 120 loss: 0.0463775185868144\n",
            "Epoch 34, Batch 20 loss: 0.0806558511219919\n",
            "Epoch 34, Batch 40 loss: 0.1598663680953905\n",
            "Epoch 34, Batch 60 loss: 0.0621254428988323\n",
            "Epoch 34, Batch 80 loss: 0.0771742478944361\n",
            "Epoch 34, Batch 100 loss: 0.0616310711484402\n",
            "Epoch 34, Batch 120 loss: 0.0656846647616476\n",
            "Epoch 35, Batch 20 loss: 0.0689421414630488\n",
            "Epoch 35, Batch 40 loss: 0.0495721755549312\n",
            "Epoch 35, Batch 60 loss: 0.0696276568574831\n",
            "Epoch 35, Batch 80 loss: 0.0817522940225899\n",
            "Epoch 35, Batch 100 loss: 0.1106338236713782\n",
            "Epoch 35, Batch 120 loss: 0.1044011669233441\n",
            "Epoch 36, Batch 20 loss: 0.0500416597351432\n",
            "Epoch 36, Batch 40 loss: 0.0646583807421848\n",
            "Epoch 36, Batch 60 loss: 0.0665995993884280\n",
            "Epoch 36, Batch 80 loss: 0.0575738298473880\n",
            "Epoch 36, Batch 100 loss: 0.0606598525540903\n",
            "Epoch 36, Batch 120 loss: 0.0769950867630541\n",
            "Epoch 37, Batch 20 loss: 0.0931386132026091\n",
            "Epoch 37, Batch 40 loss: 0.0912795721087605\n",
            "Epoch 37, Batch 60 loss: 0.0714780724374577\n",
            "Epoch 37, Batch 80 loss: 0.0795058215269819\n",
            "Epoch 37, Batch 100 loss: 0.0710711105028167\n",
            "Epoch 37, Batch 120 loss: 0.0980341987451538\n",
            "Epoch 38, Batch 20 loss: 0.0580558149609715\n",
            "Epoch 38, Batch 40 loss: 0.0855492413975298\n",
            "Epoch 38, Batch 60 loss: 0.0423181691905484\n",
            "Epoch 38, Batch 80 loss: 0.0607897568726912\n",
            "Epoch 38, Batch 100 loss: 0.0539488450565841\n",
            "Epoch 38, Batch 120 loss: 0.0518956589978188\n",
            "Epoch 39, Batch 20 loss: 0.0687621582532301\n",
            "Epoch 39, Batch 40 loss: 0.0705037364736199\n",
            "Epoch 39, Batch 60 loss: 0.0725906510255299\n",
            "Epoch 39, Batch 80 loss: 0.0689801579341292\n",
            "Epoch 39, Batch 100 loss: 0.0655808244715445\n",
            "Epoch 39, Batch 120 loss: 0.0894705218961462\n",
            "Epoch 40, Batch 20 loss: 0.0989575612824410\n",
            "Epoch 40, Batch 40 loss: 0.0545106059405953\n",
            "Epoch 40, Batch 60 loss: 0.0771961463615298\n",
            "Epoch 40, Batch 80 loss: 0.0762735174503177\n",
            "Epoch 40, Batch 100 loss: 0.0787998852785677\n",
            "Epoch 40, Batch 120 loss: 0.0873814428865444\n",
            "Epoch 41, Batch 20 loss: 0.0524578197742812\n",
            "Epoch 41, Batch 40 loss: 0.0951955273747444\n",
            "Epoch 41, Batch 60 loss: 0.0461748586734757\n",
            "Epoch 41, Batch 80 loss: 0.0618158343015239\n",
            "Epoch 41, Batch 100 loss: 0.0525770111707970\n",
            "Epoch 41, Batch 120 loss: 0.0562872097245418\n",
            "Epoch 42, Batch 20 loss: 0.0678254138212651\n",
            "Epoch 42, Batch 40 loss: 0.0732836576178670\n",
            "Epoch 42, Batch 60 loss: 0.0767968489322811\n",
            "Epoch 42, Batch 80 loss: 0.0821477073710412\n",
            "Epoch 42, Batch 100 loss: 0.0569249485386536\n",
            "Epoch 42, Batch 120 loss: 0.0502454951987602\n",
            "Epoch 43, Batch 20 loss: 0.0662627801066265\n",
            "Epoch 43, Batch 40 loss: 0.1029585703276098\n",
            "Epoch 43, Batch 60 loss: 0.0694958568084985\n",
            "Epoch 43, Batch 80 loss: 0.0682316378341056\n",
            "Epoch 43, Batch 100 loss: 0.0474857635796070\n",
            "Epoch 43, Batch 120 loss: 0.0695795070729218\n",
            "Epoch 44, Batch 20 loss: 0.0589635667565744\n",
            "Epoch 44, Batch 40 loss: 0.0586897125234827\n",
            "Epoch 44, Batch 60 loss: 0.0834468774264678\n",
            "Epoch 44, Batch 80 loss: 0.0922237644903362\n",
            "Epoch 44, Batch 100 loss: 0.0327484808629379\n",
            "Epoch 44, Batch 120 loss: 0.0534596469369717\n",
            "Epoch 45, Batch 20 loss: 0.0667959177517332\n",
            "Epoch 45, Batch 40 loss: 0.0465586772188544\n",
            "Epoch 45, Batch 60 loss: 0.0617166616953909\n",
            "Epoch 45, Batch 80 loss: 0.0821838819654658\n",
            "Epoch 45, Batch 100 loss: 0.0689909168984741\n",
            "Epoch 45, Batch 120 loss: 0.0510502428980544\n",
            "Epoch 46, Batch 20 loss: 0.0701813524588943\n",
            "Epoch 46, Batch 40 loss: 0.0853589880047366\n",
            "Epoch 46, Batch 60 loss: 0.0795137627050281\n",
            "Epoch 46, Batch 80 loss: 0.0734760605264455\n",
            "Epoch 46, Batch 100 loss: 0.0654101265245117\n",
            "Epoch 46, Batch 120 loss: 0.0442804089747369\n",
            "Epoch 47, Batch 20 loss: 0.0810150086646900\n",
            "Epoch 47, Batch 40 loss: 0.0345965360524133\n",
            "Epoch 47, Batch 60 loss: 0.0738069335813634\n",
            "Epoch 47, Batch 80 loss: 0.0582874336978421\n",
            "Epoch 47, Batch 100 loss: 0.0712320751044899\n",
            "Epoch 47, Batch 120 loss: 0.0571792013943195\n",
            "Epoch 48, Batch 20 loss: 0.1038888721610420\n",
            "Epoch 48, Batch 40 loss: 0.0686918722756673\n",
            "Epoch 48, Batch 60 loss: 0.0709433405194431\n",
            "Epoch 48, Batch 80 loss: 0.0605359599227086\n",
            "Epoch 48, Batch 100 loss: 0.0714842953952029\n",
            "Epoch 48, Batch 120 loss: 0.0868082520901226\n",
            "Epoch 49, Batch 20 loss: 0.0649059543851763\n",
            "Epoch 49, Batch 40 loss: 0.0369011841947213\n",
            "Epoch 49, Batch 60 loss: 0.0897849285043776\n",
            "Epoch 49, Batch 80 loss: 0.0734598945360631\n",
            "Epoch 49, Batch 100 loss: 0.1028032370260917\n",
            "Epoch 49, Batch 120 loss: 0.0659185484168120\n",
            "Epoch 50, Batch 20 loss: 0.0920837240759283\n",
            "Epoch 50, Batch 40 loss: 0.0857124372152612\n",
            "Epoch 50, Batch 60 loss: 0.0824099952820689\n",
            "Epoch 50, Batch 80 loss: 0.0514531610067934\n",
            "Epoch 50, Batch 100 loss: 0.0517877453472465\n",
            "Epoch 50, Batch 120 loss: 0.0619885730673559\n"
          ]
        }
      ]
    },
    {
      "cell_type": "code",
      "metadata": {
        "id": "CfA7ZjLR1BZP",
        "colab": {
          "base_uri": "https://localhost:8080/",
          "height": 281
        },
        "outputId": "3051a4c7-5a6c-45c4-9e3f-01ad8c44a873"
      },
      "source": [
        "plt.plot(train_losses)\n",
        "plt.title(\"Training Loss\")\n",
        "plt.show()"
      ],
      "execution_count": 13,
      "outputs": [
        {
          "output_type": "display_data",
          "data": {
            "image/png": "[encoded data removed]",
            "text/plain": [
              "<Figure size 432x288 with 1 Axes>"
            ]
          },
          "metadata": {
            "needs_background": "light"
          }
        }
      ]
    },
    {
      "cell_type": "markdown",
      "metadata": {
        "id": "ItLyF9dQyJFL"
      },
      "source": [
        "Testing the model"
      ]
    },
    {
      "cell_type": "code",
      "metadata": {
        "id": "gGki98W3SoEW"
      },
      "source": [
        "from sklearn.metrics import precision_score, recall_score, f1_score, accuracy_score"
      ],
      "execution_count": 14,
      "outputs": []
    },
    {
      "cell_type": "code",
      "metadata": {
        "id": "xNavYOynyE6d",
        "colab": {
          "base_uri": "https://localhost:8080/"
        },
        "outputId": "cf2c59f8-c750-4d51-9175-f51594f1b095"
      },
      "source": [
        "# The test_model function is from model_testing python file\n",
        "test_loss, class_correct, class_total, labels, predictions = test_model(classes, resnet50, test_loader, criterion)\n",
        "\n",
        "# Test accuracy for each hieroglyph\n",
        "for i in range(len(classes)):\n",
        "    if class_total[i] > 0:\n",
        "        print('Test Accuracy of %5s: %2d%% (%2d/%2d)' % (classes[i], 100 * class_correct[i] / class_total[i], np.sum(class_correct[i]), np.sum(class_total[i])))\n",
        "    else:\n",
        "        print('Test Accuracy of %5s: N/A (no training examples)' % (classes[i]))\n",
        "\n",
        "# Total Test accuracy\n",
        "print(\"\\nAccuracy: {:.3%}\".format(accuracy_score(labels, predictions)))\n",
        "print(\"\\nPrecision: {:.3%}\".format(precision_score(labels, predictions, average = 'weighted')))\n",
        "print(\"\\nRecall: {:.3%}\".format(recall_score(labels, predictions, average = 'weighted')))\n",
        "print(\"\\nF1-score: {:.3%}\".format(f1_score(labels, predictions, average = 'weighted')))"
      ],
      "execution_count": 15,
      "outputs": [
        {
          "output_type": "stream",
          "name": "stdout",
          "text": [
            "Test Loss: 0.120942\n",
            "\n",
            "Test Accuracy of    D2: 100% ( 5/ 5)\n",
            "Test Accuracy of   D21: 83% (30/36)\n",
            "Test Accuracy of   D36: 100% (12/12)\n",
            "Test Accuracy of    D4: 87% ( 7/ 8)\n",
            "Test Accuracy of   D46: 90% (10/11)\n",
            "Test Accuracy of   D58: 87% ( 7/ 8)\n",
            "Test Accuracy of   E23: 100% ( 2/ 2)\n",
            "Test Accuracy of   E34: 100% (25/25)\n",
            "Test Accuracy of   F31: 100% ( 2/ 2)\n",
            "Test Accuracy of   F35: 100% ( 1/ 1)\n",
            "Test Accuracy of    G1: 85% ( 6/ 7)\n",
            "Test Accuracy of   G17: 97% (38/39)\n",
            "Test Accuracy of   G43: 97% (39/40)\n",
            "Test Accuracy of   I10: 100% ( 9/ 9)\n",
            "Test Accuracy of    I9: 96% (29/30)\n",
            "Test Accuracy of   M17: 98% (72/73)\n",
            "Test Accuracy of   M23: 87% ( 7/ 8)\n",
            "Test Accuracy of   N35: 100% (90/90)\n",
            "Test Accuracy of    O1: 100% ( 4/ 4)\n",
            "Test Accuracy of   O34: 75% ( 3/ 4)\n",
            "Test Accuracy of    O4: 66% ( 2/ 3)\n",
            "Test Accuracy of   O49: 100% ( 3/ 3)\n",
            "Test Accuracy of    Q1: 75% ( 3/ 4)\n",
            "Test Accuracy of    Q3: 87% (14/16)\n",
            "Test Accuracy of    R4: 100% ( 1/ 1)\n",
            "Test Accuracy of    R8: 100% (14/14)\n",
            "Test Accuracy of   S29: 100% (53/53)\n",
            "Test Accuracy of   S34: 100% ( 2/ 2)\n",
            "Test Accuracy of    U7:  0% ( 0/ 1)\n",
            "Test Accuracy of   V13: 100% (16/16)\n",
            "Test Accuracy of   V28: 100% ( 8/ 8)\n",
            "Test Accuracy of   V30: 50% ( 1/ 2)\n",
            "Test Accuracy of   V31: 100% (27/27)\n",
            "Test Accuracy of   W11: 100% ( 1/ 1)\n",
            "Test Accuracy of   W24: 87% ( 7/ 8)\n",
            "Test Accuracy of    X1: 95% (45/47)\n",
            "Test Accuracy of    X8: 100% ( 1/ 1)\n",
            "Test Accuracy of    Y1:  0% ( 0/ 1)\n",
            "Test Accuracy of    Y5: 100% ( 2/ 2)\n",
            "Test Accuracy of    Z1: 100% (10/10)\n",
            "\n",
            "Accuracy: 95.899%\n",
            "\n",
            "Precision: 95.841%\n",
            "\n",
            "Recall: 95.899%\n",
            "\n",
            "F1-score: 95.737%\n"
          ]
        },
        {
          "output_type": "stream",
          "name": "stderr",
          "text": [
            "/usr/local/lib/python3.7/dist-packages/sklearn/metrics/_classification.py:1308: UndefinedMetricWarning: Precision is ill-defined and being set to 0.0 in labels with no predicted samples. Use `zero_division` parameter to control this behavior.\n",
            "  _warn_prf(average, modifier, msg_start, len(result))\n"
          ]
        }
      ]
    }
  ]
}
