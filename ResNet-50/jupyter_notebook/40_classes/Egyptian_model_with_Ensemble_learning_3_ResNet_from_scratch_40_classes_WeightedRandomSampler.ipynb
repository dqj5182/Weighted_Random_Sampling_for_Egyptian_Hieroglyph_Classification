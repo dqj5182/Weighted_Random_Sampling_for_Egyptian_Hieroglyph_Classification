{
  "nbformat": 4,
  "nbformat_minor": 0,
  "metadata": {
    "colab": {
      "name": "Egyptian_model_with_Ensemble_learning_3_ResNet_from_scratch_40_classes_WeightedRandomSampler.ipynb",
      "provenance": [],
      "collapsed_sections": []
    },
    "kernelspec": {
      "name": "python3",
      "display_name": "Python 3"
    },
    "language_info": {
      "name": "python"
    },
    "accelerator": "GPU"
  },
  "cells": [
    {
      "cell_type": "code",
      "metadata": {
        "colab": {
          "base_uri": "https://localhost:8080/"
        },
        "id": "Y8nXOuR-IIqk",
        "outputId": "b93e5dcf-a97e-4b67-afcd-b1d9f40732f8"
      },
      "source": [
        "!pip install torchensemble"
      ],
      "execution_count": 1,
      "outputs": [
        {
          "output_type": "stream",
          "name": "stdout",
          "text": [
            "Requirement already satisfied: torchensemble in /usr/local/lib/python3.7/dist-packages (0.1.6)\n",
            "Requirement already satisfied: torch>=1.4.0 in /usr/local/lib/python3.7/dist-packages (from torchensemble) (1.10.0+cu111)\n",
            "Requirement already satisfied: scikit-learn>=0.23.0 in /usr/local/lib/python3.7/dist-packages (from torchensemble) (1.0.1)\n",
            "Requirement already satisfied: torchvision>=0.2.2 in /usr/local/lib/python3.7/dist-packages (from torchensemble) (0.11.1+cu111)\n",
            "Requirement already satisfied: scipy>=1.1.0 in /usr/local/lib/python3.7/dist-packages (from scikit-learn>=0.23.0->torchensemble) (1.4.1)\n",
            "Requirement already satisfied: threadpoolctl>=2.0.0 in /usr/local/lib/python3.7/dist-packages (from scikit-learn>=0.23.0->torchensemble) (3.0.0)\n",
            "Requirement already satisfied: numpy>=1.14.6 in /usr/local/lib/python3.7/dist-packages (from scikit-learn>=0.23.0->torchensemble) (1.19.5)\n",
            "Requirement already satisfied: joblib>=0.11 in /usr/local/lib/python3.7/dist-packages (from scikit-learn>=0.23.0->torchensemble) (1.1.0)\n",
            "Requirement already satisfied: typing-extensions in /usr/local/lib/python3.7/dist-packages (from torch>=1.4.0->torchensemble) (3.10.0.2)\n",
            "Requirement already satisfied: pillow!=8.3.0,>=5.3.0 in /usr/local/lib/python3.7/dist-packages (from torchvision>=0.2.2->torchensemble) (7.1.2)\n"
          ]
        }
      ]
    },
    {
      "cell_type": "code",
      "metadata": {
        "id": "bnVsU472H-GM"
      },
      "source": [
        "import torch\n",
        "import torch.nn as nn\n",
        "from torch.nn import functional as F\n",
        "import os, os.path\n",
        "import numpy as np\n",
        "import torch.optim as optim\n",
        "from pathlib import Path\n",
        "from torchvision import datasets, models, transforms\n",
        "\n",
        "from torchensemble import VotingClassifier\n",
        "from torchensemble.utils.logging import set_logger\n",
        "\n",
        "# check if CUDA is available\n",
        "train_on_gpu = torch.cuda.is_available()"
      ],
      "execution_count": 2,
      "outputs": []
    },
    {
      "cell_type": "code",
      "metadata": {
        "colab": {
          "base_uri": "https://localhost:8080/"
        },
        "id": "RCkkbuJbLYEn",
        "outputId": "23afe238-c2d2-4b96-f26c-201a24b3fd30"
      },
      "source": [
        "if not train_on_gpu:\n",
        "    print('CUDA is not available.  Training on CPU ...')\n",
        "else:\n",
        "    print('CUDA is available!  Training on GPU ...')"
      ],
      "execution_count": 3,
      "outputs": [
        {
          "output_type": "stream",
          "name": "stdout",
          "text": [
            "CUDA is available!  Training on GPU ...\n"
          ]
        }
      ]
    },
    {
      "cell_type": "code",
      "metadata": {
        "colab": {
          "base_uri": "https://localhost:8080/"
        },
        "id": "P_L0mn9xLcJZ",
        "outputId": "7a36ad11-4767-4120-ced5-86905b642f9a"
      },
      "source": [
        "# Connecting and Mounting to the Google Drive\n",
        "from google.colab import drive\n",
        "drive.mount('/content/drive')"
      ],
      "execution_count": 4,
      "outputs": [
        {
          "output_type": "stream",
          "name": "stdout",
          "text": [
            "Drive already mounted at /content/drive; to attempt to forcibly remount, call drive.mount(\"/content/drive\", force_remount=True).\n"
          ]
        }
      ]
    },
    {
      "cell_type": "code",
      "metadata": {
        "id": "5ONZtfs_LSQQ"
      },
      "source": [
        "def get_class_distribution(dataset_obj, idx2class):\n",
        "    count_dict = {k:0 for k,v in dataset_obj.class_to_idx.items()}\n",
        "    \n",
        "    for element in dataset_obj:\n",
        "        y_lbl = element[1]\n",
        "        y_lbl = idx2class[y_lbl]\n",
        "        count_dict[y_lbl] += 1\n",
        "            \n",
        "    return count_dict"
      ],
      "execution_count": 5,
      "outputs": []
    },
    {
      "cell_type": "code",
      "metadata": {
        "id": "XwxUjnYtLS18"
      },
      "source": [
        "def load_data(hieroglyph_directory_path, batch_size=20, num_workers=0):\n",
        "    train_dir = os.path.join(hieroglyph_directory_path, 'train/')\n",
        "    test_dir = os.path.join(hieroglyph_directory_path, 'test/')\n",
        "\n",
        "    classes = []\n",
        "\n",
        "    for filename in os.listdir(train_dir):\n",
        "        if filename == '.DS_Store':\n",
        "            pass\n",
        "        else:\n",
        "            classes.append(filename)\n",
        "\n",
        "    classes.sort()\n",
        "\n",
        "    # print(\"Our classes:\", classes)\n",
        "    # print(len(classes))\n",
        "\n",
        "    data_transform = transforms.Compose([transforms.ToTensor(),\n",
        "                                            transforms.RandomApply([transforms.RandomHorizontalFlip()]),\n",
        "                                            transforms.RandomRotation(degrees=(-10, 10)),\n",
        "                                            transforms.RandomAffine(degrees=0, translate=(.1, .1)),\n",
        "                                            transforms.RandomApply([transforms.ColorJitter(brightness=(1, 1.2),\n",
        "                                                                                            contrast=(1, 1.5),\n",
        "                                                                                            saturation=(1, 1.5),\n",
        "                                                                                            hue=(0, 0.5))]),\n",
        "                                            transforms.RandomErasing(p=0.5, scale=(0.05, 0.05), ratio=(0.3, 3.3), value=0,\n",
        "                                                                      inplace=False),\n",
        "                                            transforms.Normalize((0.5,), (0.5,))])\n",
        "\n",
        "    train_data = datasets.ImageFolder(train_dir, transform=data_transform)\n",
        "    test_data = datasets.ImageFolder(test_dir, transform=data_transform)\n",
        "\n",
        "    # print('Num training images: ', len(train_data))\n",
        "    # print('Num test images: ', len(test_data))\n",
        "\n",
        "    # WeightedRandomSampler for train loader\n",
        "    idx2class = {v: k for k, v in train_data.class_to_idx.items()}\n",
        "\n",
        "    target_list = torch.tensor(train_data.targets)\n",
        "    class_count = [i for i in get_class_distribution(train_data, idx2class).values()]\n",
        "    class_weights = 1./torch.tensor(class_count, dtype=torch.float) \n",
        "    class_weights_all = class_weights[target_list]\n",
        "    weighted_sampler = torch.utils.data.WeightedRandomSampler(weights=class_weights_all, num_samples=len(class_weights_all), replacement=True)\n",
        "\n",
        "    # prepare data loaders\n",
        "    train_loader = torch.utils.data.DataLoader(train_data, batch_size=batch_size,\n",
        "                                               num_workers=num_workers, sampler=weighted_sampler, drop_last=True)\n",
        "    \n",
        "    # WeightedRandomSampler for test loader\n",
        "    idx2class_test = {v: k for k, v in test_data.class_to_idx.items()}\n",
        "\n",
        "    target_list_test = torch.tensor(test_data.targets)\n",
        "    class_count_test = [i for i in get_class_distribution(test_data, idx2class_test).values()]\n",
        "    class_weights_test = 1./torch.tensor(class_count_test, dtype=torch.float) \n",
        "    class_weights_all_test = class_weights_test[target_list_test]\n",
        "    weighted_sampler_test = torch.utils.data.WeightedRandomSampler(weights=class_weights_all_test, num_samples=len(class_weights_all_test), replacement=True)\n",
        "\n",
        "    test_loader = torch.utils.data.DataLoader(test_data, batch_size=batch_size,\n",
        "                                              num_workers=num_workers, sampler=weighted_sampler_test)\n",
        "\n",
        "    return train_loader, test_loader, classes"
      ],
      "execution_count": 6,
      "outputs": []
    },
    {
      "cell_type": "code",
      "metadata": {
        "colab": {
          "base_uri": "https://localhost:8080/"
        },
        "id": "AXC_WypPLdnL",
        "outputId": "2f2b6819-9d9a-4d0d-9d7a-8053e3be57e4"
      },
      "source": [
        "data_dir = '/content/drive/MyDrive/EgyptianHieroglyphDataset_Original_Clean/'\n",
        "\n",
        "hieroglyph_for_train = []\n",
        "file_count_list = []\n",
        "\n",
        "for name in os.listdir('/content/drive/MyDrive/EgyptianHieroglyphDataset_Original_Clean/train/'):\n",
        "  path, dirs, files = next(os.walk(\"/content/drive/MyDrive/EgyptianHieroglyphDataset_Original_Clean/train/\"+name))\n",
        "  file_count = len(files)\n",
        "  print(name, file_count)\n",
        "  file_count_list.append(file_count)\n",
        "  hieroglyph_for_train.append(name)\n",
        "\n",
        "hieroglyph_dict = dict(zip(hieroglyph_for_train, file_count_list))"
      ],
      "execution_count": 7,
      "outputs": [
        {
          "output_type": "stream",
          "name": "stdout",
          "text": [
            "Y5 6\n",
            "I9 116\n",
            "O34 15\n",
            "V13 63\n",
            "U7 3\n",
            "D46 40\n",
            "E34 97\n",
            "G1 28\n",
            "V31 106\n",
            "S34 8\n",
            "D36 47\n",
            "Q1 13\n",
            "V30 6\n",
            "F35 2\n",
            "O4 11\n",
            "M23 30\n",
            "S29 212\n",
            "R8 53\n",
            "W11 4\n",
            "X1 185\n",
            "Y1 1\n",
            "D21 146\n",
            "D2 19\n",
            "E23 8\n",
            "X8 4\n",
            "Z1 39\n",
            "D4 29\n",
            "V28 28\n",
            "I10 32\n",
            "O1 16\n",
            "M17 291\n",
            "F31 6\n",
            "G43 157\n",
            "D58 28\n",
            "O49 10\n",
            "G17 156\n",
            "R4 2\n",
            "Q3 61\n",
            "W24 31\n",
            "N35 358\n"
          ]
        }
      ]
    },
    {
      "cell_type": "code",
      "metadata": {
        "colab": {
          "base_uri": "https://localhost:8080/",
          "height": 609
        },
        "id": "sDWANMEdLhF9",
        "outputId": "999a1a3e-e4db-4ada-96c1-90d9d1d4b082"
      },
      "source": [
        "import matplotlib.pyplot as plt\n",
        "import pandas as pd\n",
        "\n",
        "df = pd.DataFrame({\"Hieroglyph\":hieroglyph_for_train, \"Count\":file_count_list})\n",
        "\n",
        "df_sorted= df.sort_values('Count',ascending=False)\n",
        "\n",
        "plt.figure(figsize=(20,10))\n",
        "# make bar plot with matplotlib\n",
        "plt.bar('Hieroglyph', 'Count',data=df_sorted)"
      ],
      "execution_count": 8,
      "outputs": [
        {
          "output_type": "execute_result",
          "data": {
            "text/plain": [
              "<BarContainer object of 40 artists>"
            ]
          },
          "metadata": {},
          "execution_count": 8
        },
        {
          "output_type": "display_data",
          "data": {
            "image/png": "[encoded data removed]",
            "text/plain": [
              "<Figure size 1440x720 with 1 Axes>"
            ]
          },
          "metadata": {
            "needs_background": "light"
          }
        }
      ]
    },
    {
      "cell_type": "code",
      "metadata": {
        "id": "goisPc6eLi3L"
      },
      "source": [
        "# Number of images processed in a single training\n",
        "batch_size = 20\n",
        "num_workers = 0\n",
        "\n",
        "# The load_data function is from hieroglyph_data_preparation python file\n",
        "train_loader, test_loader, classes = load_data(data_dir)"
      ],
      "execution_count": 9,
      "outputs": []
    },
    {
      "cell_type": "code",
      "metadata": {
        "id": "cIFr3iYkLrQ-"
      },
      "source": [
        "# Whether to extract features with the model\n",
        "feature_extract = False\n",
        "\n",
        "model_selection = \"resnet-50\"\n",
        "\n",
        "# False if you want scratch model, True if you want pretrained model\n",
        "whether_to_pretrain = False\n",
        "\n",
        "# Load the model\n",
        "if model_selection == \"resnet-50\":\n",
        "    resnet50 = models.resnet50(pretrained=whether_to_pretrain)\n",
        "\n",
        "# Number of features in the last layer of resnet\n",
        "n_inputs = resnet50.fc.in_features\n",
        "\n",
        "# Add last linear layer (n_inputs -> 40 hieroglyph classes)\n",
        "# New layers automatically have requires_grad = True\n",
        "last_layer = nn.Sequential(\n",
        "                nn.Linear(n_inputs, len(classes)))\n",
        "\n",
        "resnet50.fc = last_layer\n",
        "\n",
        "# if GPU is available, move the model to GPU\n",
        "if train_on_gpu:\n",
        "    resnet50.cuda()"
      ],
      "execution_count": 10,
      "outputs": []
    },
    {
      "cell_type": "code",
      "metadata": {
        "colab": {
          "base_uri": "https://localhost:8080/"
        },
        "id": "Suq5RBD6K4O0",
        "outputId": "00764372-c817-4a5b-b206-ed6d1afd1a2d"
      },
      "source": [
        "epochs = 30\n",
        "\n",
        "# Define the ensemble\n",
        "ensemble = VotingClassifier(\n",
        "    estimator=resnet50,               # here is your deep learning model\n",
        "    n_estimators=3,                        # number of base estimators\n",
        "    cuda=True\n",
        ")\n",
        "\n",
        "# Set the optimizer\n",
        "ensemble.set_optimizer(\n",
        "    \"Adam\",                                 # type of parameter optimizer\n",
        "    lr=1e-3,                       # learning rate of parameter optimizer\n",
        "    weight_decay=5e-4,              # weight decay of parameter optimizer\n",
        ")\n",
        "\n",
        "# Set the learning rate scheduler\n",
        "ensemble.set_scheduler(\n",
        "    \"CosineAnnealingLR\",                    # type of learning rate scheduler\n",
        "    T_max=epochs,                           # additional arguments on the scheduler\n",
        ")\n",
        "\n",
        "# Train the ensemble\n",
        "ensemble.fit(\n",
        "    train_loader,\n",
        "    epochs=epochs,                          # number of training epochs\n",
        ")"
      ],
      "execution_count": 11,
      "outputs": [
        {
          "output_type": "stream",
          "name": "stdout",
          "text": [
            "Estimator: 000 | Epoch: 000 | Batch: 000 | Loss: 4.19425 | Correct: 0/20\n",
            "Estimator: 000 | Epoch: 000 | Batch: 100 | Loss: 3.72008 | Correct: 1/20\n",
            "Estimator: 001 | Epoch: 000 | Batch: 000 | Loss: 4.03164 | Correct: 1/20\n",
            "Estimator: 001 | Epoch: 000 | Batch: 100 | Loss: 3.32599 | Correct: 3/20\n",
            "Estimator: 002 | Epoch: 000 | Batch: 000 | Loss: 4.06092 | Correct: 1/20\n",
            "Estimator: 002 | Epoch: 000 | Batch: 100 | Loss: 4.11065 | Correct: 0/20\n",
            "Estimator: 000 | Epoch: 001 | Batch: 000 | Loss: 2.95241 | Correct: 3/20\n",
            "Estimator: 000 | Epoch: 001 | Batch: 100 | Loss: 1.84059 | Correct: 9/20\n",
            "Estimator: 001 | Epoch: 001 | Batch: 000 | Loss: 3.24114 | Correct: 0/20\n",
            "Estimator: 001 | Epoch: 001 | Batch: 100 | Loss: 2.97599 | Correct: 7/20\n",
            "Estimator: 002 | Epoch: 001 | Batch: 000 | Loss: 3.94600 | Correct: 1/20\n",
            "Estimator: 002 | Epoch: 001 | Batch: 100 | Loss: 2.97977 | Correct: 2/20\n",
            "Estimator: 000 | Epoch: 002 | Batch: 000 | Loss: 2.14221 | Correct: 8/20\n",
            "Estimator: 000 | Epoch: 002 | Batch: 100 | Loss: 1.56736 | Correct: 6/20\n",
            "Estimator: 001 | Epoch: 002 | Batch: 000 | Loss: 2.02092 | Correct: 8/20\n",
            "Estimator: 001 | Epoch: 002 | Batch: 100 | Loss: 2.05815 | Correct: 7/20\n",
            "Estimator: 002 | Epoch: 002 | Batch: 000 | Loss: 3.19530 | Correct: 2/20\n",
            "Estimator: 002 | Epoch: 002 | Batch: 100 | Loss: 2.51068 | Correct: 4/20\n",
            "Estimator: 000 | Epoch: 003 | Batch: 000 | Loss: 1.34423 | Correct: 11/20\n",
            "Estimator: 000 | Epoch: 003 | Batch: 100 | Loss: 1.86908 | Correct: 9/20\n",
            "Estimator: 001 | Epoch: 003 | Batch: 000 | Loss: 1.51268 | Correct: 11/20\n",
            "Estimator: 001 | Epoch: 003 | Batch: 100 | Loss: 1.05230 | Correct: 14/20\n",
            "Estimator: 002 | Epoch: 003 | Batch: 000 | Loss: 1.64692 | Correct: 8/20\n",
            "Estimator: 002 | Epoch: 003 | Batch: 100 | Loss: 2.11483 | Correct: 6/20\n",
            "Estimator: 000 | Epoch: 004 | Batch: 000 | Loss: 1.44127 | Correct: 9/20\n",
            "Estimator: 000 | Epoch: 004 | Batch: 100 | Loss: 0.63566 | Correct: 16/20\n",
            "Estimator: 001 | Epoch: 004 | Batch: 000 | Loss: 1.26854 | Correct: 10/20\n",
            "Estimator: 001 | Epoch: 004 | Batch: 100 | Loss: 1.08815 | Correct: 15/20\n",
            "Estimator: 002 | Epoch: 004 | Batch: 000 | Loss: 1.53201 | Correct: 10/20\n",
            "Estimator: 002 | Epoch: 004 | Batch: 100 | Loss: 1.01988 | Correct: 12/20\n",
            "Estimator: 000 | Epoch: 005 | Batch: 000 | Loss: 0.94707 | Correct: 12/20\n",
            "Estimator: 000 | Epoch: 005 | Batch: 100 | Loss: 0.51633 | Correct: 16/20\n",
            "Estimator: 001 | Epoch: 005 | Batch: 000 | Loss: 0.82921 | Correct: 15/20\n",
            "Estimator: 001 | Epoch: 005 | Batch: 100 | Loss: 0.95217 | Correct: 13/20\n",
            "Estimator: 002 | Epoch: 005 | Batch: 000 | Loss: 0.85770 | Correct: 12/20\n",
            "Estimator: 002 | Epoch: 005 | Batch: 100 | Loss: 0.93892 | Correct: 13/20\n",
            "Estimator: 000 | Epoch: 006 | Batch: 000 | Loss: 0.62558 | Correct: 17/20\n",
            "Estimator: 000 | Epoch: 006 | Batch: 100 | Loss: 0.54433 | Correct: 17/20\n",
            "Estimator: 001 | Epoch: 006 | Batch: 000 | Loss: 0.76226 | Correct: 15/20\n",
            "Estimator: 001 | Epoch: 006 | Batch: 100 | Loss: 0.92390 | Correct: 13/20\n",
            "Estimator: 002 | Epoch: 006 | Batch: 000 | Loss: 0.99896 | Correct: 13/20\n",
            "Estimator: 002 | Epoch: 006 | Batch: 100 | Loss: 0.78668 | Correct: 15/20\n",
            "Estimator: 000 | Epoch: 007 | Batch: 000 | Loss: 0.46209 | Correct: 16/20\n",
            "Estimator: 000 | Epoch: 007 | Batch: 100 | Loss: 0.60927 | Correct: 17/20\n",
            "Estimator: 001 | Epoch: 007 | Batch: 000 | Loss: 0.85628 | Correct: 15/20\n",
            "Estimator: 001 | Epoch: 007 | Batch: 100 | Loss: 0.38722 | Correct: 16/20\n",
            "Estimator: 002 | Epoch: 007 | Batch: 000 | Loss: 1.04946 | Correct: 13/20\n",
            "Estimator: 002 | Epoch: 007 | Batch: 100 | Loss: 0.90266 | Correct: 15/20\n",
            "Estimator: 000 | Epoch: 008 | Batch: 000 | Loss: 0.37275 | Correct: 17/20\n",
            "Estimator: 000 | Epoch: 008 | Batch: 100 | Loss: 0.34086 | Correct: 18/20\n",
            "Estimator: 001 | Epoch: 008 | Batch: 000 | Loss: 0.34101 | Correct: 20/20\n",
            "Estimator: 001 | Epoch: 008 | Batch: 100 | Loss: 0.46661 | Correct: 17/20\n",
            "Estimator: 002 | Epoch: 008 | Batch: 000 | Loss: 0.79640 | Correct: 13/20\n",
            "Estimator: 002 | Epoch: 008 | Batch: 100 | Loss: 1.07649 | Correct: 13/20\n",
            "Estimator: 000 | Epoch: 009 | Batch: 000 | Loss: 0.38137 | Correct: 16/20\n",
            "Estimator: 000 | Epoch: 009 | Batch: 100 | Loss: 0.44977 | Correct: 17/20\n",
            "Estimator: 001 | Epoch: 009 | Batch: 000 | Loss: 0.28104 | Correct: 19/20\n",
            "Estimator: 001 | Epoch: 009 | Batch: 100 | Loss: 0.82031 | Correct: 15/20\n",
            "Estimator: 002 | Epoch: 009 | Batch: 000 | Loss: 0.45380 | Correct: 17/20\n",
            "Estimator: 002 | Epoch: 009 | Batch: 100 | Loss: 0.66108 | Correct: 15/20\n",
            "Estimator: 000 | Epoch: 010 | Batch: 000 | Loss: 0.23589 | Correct: 19/20\n",
            "Estimator: 000 | Epoch: 010 | Batch: 100 | Loss: 0.33081 | Correct: 16/20\n",
            "Estimator: 001 | Epoch: 010 | Batch: 000 | Loss: 0.29409 | Correct: 18/20\n",
            "Estimator: 001 | Epoch: 010 | Batch: 100 | Loss: 0.31257 | Correct: 16/20\n",
            "Estimator: 002 | Epoch: 010 | Batch: 000 | Loss: 0.94189 | Correct: 13/20\n",
            "Estimator: 002 | Epoch: 010 | Batch: 100 | Loss: 0.58848 | Correct: 17/20\n",
            "Estimator: 000 | Epoch: 011 | Batch: 000 | Loss: 0.43775 | Correct: 18/20\n",
            "Estimator: 000 | Epoch: 011 | Batch: 100 | Loss: 0.60702 | Correct: 15/20\n",
            "Estimator: 001 | Epoch: 011 | Batch: 000 | Loss: 0.39777 | Correct: 17/20\n",
            "Estimator: 001 | Epoch: 011 | Batch: 100 | Loss: 0.41673 | Correct: 17/20\n",
            "Estimator: 002 | Epoch: 011 | Batch: 000 | Loss: 0.41321 | Correct: 16/20\n",
            "Estimator: 002 | Epoch: 011 | Batch: 100 | Loss: 0.55314 | Correct: 17/20\n",
            "Estimator: 000 | Epoch: 012 | Batch: 000 | Loss: 0.62248 | Correct: 15/20\n",
            "Estimator: 000 | Epoch: 012 | Batch: 100 | Loss: 0.65886 | Correct: 15/20\n",
            "Estimator: 001 | Epoch: 012 | Batch: 000 | Loss: 0.19701 | Correct: 18/20\n",
            "Estimator: 001 | Epoch: 012 | Batch: 100 | Loss: 0.39416 | Correct: 17/20\n",
            "Estimator: 002 | Epoch: 012 | Batch: 000 | Loss: 0.21212 | Correct: 20/20\n",
            "Estimator: 002 | Epoch: 012 | Batch: 100 | Loss: 0.67132 | Correct: 14/20\n",
            "Estimator: 000 | Epoch: 013 | Batch: 000 | Loss: 0.44518 | Correct: 16/20\n",
            "Estimator: 000 | Epoch: 013 | Batch: 100 | Loss: 0.27887 | Correct: 18/20\n",
            "Estimator: 001 | Epoch: 013 | Batch: 000 | Loss: 0.51742 | Correct: 16/20\n",
            "Estimator: 001 | Epoch: 013 | Batch: 100 | Loss: 0.29084 | Correct: 18/20\n",
            "Estimator: 002 | Epoch: 013 | Batch: 000 | Loss: 0.30344 | Correct: 18/20\n",
            "Estimator: 002 | Epoch: 013 | Batch: 100 | Loss: 0.23690 | Correct: 18/20\n",
            "Estimator: 000 | Epoch: 014 | Batch: 000 | Loss: 0.57487 | Correct: 15/20\n",
            "Estimator: 000 | Epoch: 014 | Batch: 100 | Loss: 0.46354 | Correct: 17/20\n",
            "Estimator: 001 | Epoch: 014 | Batch: 000 | Loss: 0.52885 | Correct: 18/20\n",
            "Estimator: 001 | Epoch: 014 | Batch: 100 | Loss: 0.25555 | Correct: 18/20\n",
            "Estimator: 002 | Epoch: 014 | Batch: 000 | Loss: 0.28025 | Correct: 18/20\n",
            "Estimator: 002 | Epoch: 014 | Batch: 100 | Loss: 0.41049 | Correct: 17/20\n",
            "Estimator: 000 | Epoch: 015 | Batch: 000 | Loss: 0.24189 | Correct: 18/20\n",
            "Estimator: 000 | Epoch: 015 | Batch: 100 | Loss: 0.37699 | Correct: 17/20\n",
            "Estimator: 001 | Epoch: 015 | Batch: 000 | Loss: 0.17458 | Correct: 19/20\n",
            "Estimator: 001 | Epoch: 015 | Batch: 100 | Loss: 0.59473 | Correct: 18/20\n",
            "Estimator: 002 | Epoch: 015 | Batch: 000 | Loss: 0.17041 | Correct: 19/20\n",
            "Estimator: 002 | Epoch: 015 | Batch: 100 | Loss: 0.31710 | Correct: 18/20\n",
            "Estimator: 000 | Epoch: 016 | Batch: 000 | Loss: 0.10733 | Correct: 19/20\n",
            "Estimator: 000 | Epoch: 016 | Batch: 100 | Loss: 0.33688 | Correct: 18/20\n",
            "Estimator: 001 | Epoch: 016 | Batch: 000 | Loss: 0.40604 | Correct: 15/20\n",
            "Estimator: 001 | Epoch: 016 | Batch: 100 | Loss: 0.12214 | Correct: 20/20\n",
            "Estimator: 002 | Epoch: 016 | Batch: 000 | Loss: 0.28309 | Correct: 19/20\n",
            "Estimator: 002 | Epoch: 016 | Batch: 100 | Loss: 0.49089 | Correct: 17/20\n",
            "Estimator: 000 | Epoch: 017 | Batch: 000 | Loss: 0.15293 | Correct: 18/20\n",
            "Estimator: 000 | Epoch: 017 | Batch: 100 | Loss: 0.04269 | Correct: 20/20\n",
            "Estimator: 001 | Epoch: 017 | Batch: 000 | Loss: 0.23092 | Correct: 19/20\n",
            "Estimator: 001 | Epoch: 017 | Batch: 100 | Loss: 0.24017 | Correct: 19/20\n",
            "Estimator: 002 | Epoch: 017 | Batch: 000 | Loss: 0.12767 | Correct: 20/20\n",
            "Estimator: 002 | Epoch: 017 | Batch: 100 | Loss: 0.09902 | Correct: 20/20\n",
            "Estimator: 000 | Epoch: 018 | Batch: 000 | Loss: 0.11095 | Correct: 20/20\n",
            "Estimator: 000 | Epoch: 018 | Batch: 100 | Loss: 0.43190 | Correct: 16/20\n",
            "Estimator: 001 | Epoch: 018 | Batch: 000 | Loss: 0.24941 | Correct: 18/20\n",
            "Estimator: 001 | Epoch: 018 | Batch: 100 | Loss: 0.26089 | Correct: 18/20\n",
            "Estimator: 002 | Epoch: 018 | Batch: 000 | Loss: 0.25012 | Correct: 18/20\n",
            "Estimator: 002 | Epoch: 018 | Batch: 100 | Loss: 0.19402 | Correct: 19/20\n",
            "Estimator: 000 | Epoch: 019 | Batch: 000 | Loss: 0.14503 | Correct: 19/20\n",
            "Estimator: 000 | Epoch: 019 | Batch: 100 | Loss: 0.17174 | Correct: 19/20\n",
            "Estimator: 001 | Epoch: 019 | Batch: 000 | Loss: 0.40898 | Correct: 18/20\n",
            "Estimator: 001 | Epoch: 019 | Batch: 100 | Loss: 0.31779 | Correct: 18/20\n",
            "Estimator: 002 | Epoch: 019 | Batch: 000 | Loss: 0.15044 | Correct: 19/20\n",
            "Estimator: 002 | Epoch: 019 | Batch: 100 | Loss: 0.15827 | Correct: 19/20\n",
            "Estimator: 000 | Epoch: 020 | Batch: 000 | Loss: 0.10435 | Correct: 20/20\n",
            "Estimator: 000 | Epoch: 020 | Batch: 100 | Loss: 0.16580 | Correct: 19/20\n",
            "Estimator: 001 | Epoch: 020 | Batch: 000 | Loss: 0.16066 | Correct: 19/20\n",
            "Estimator: 001 | Epoch: 020 | Batch: 100 | Loss: 0.11569 | Correct: 19/20\n",
            "Estimator: 002 | Epoch: 020 | Batch: 000 | Loss: 0.22745 | Correct: 19/20\n",
            "Estimator: 002 | Epoch: 020 | Batch: 100 | Loss: 0.20731 | Correct: 18/20\n",
            "Estimator: 000 | Epoch: 021 | Batch: 000 | Loss: 0.32160 | Correct: 17/20\n",
            "Estimator: 000 | Epoch: 021 | Batch: 100 | Loss: 0.13467 | Correct: 19/20\n",
            "Estimator: 001 | Epoch: 021 | Batch: 000 | Loss: 0.05641 | Correct: 20/20\n",
            "Estimator: 001 | Epoch: 021 | Batch: 100 | Loss: 0.10601 | Correct: 19/20\n",
            "Estimator: 002 | Epoch: 021 | Batch: 000 | Loss: 0.07577 | Correct: 20/20\n",
            "Estimator: 002 | Epoch: 021 | Batch: 100 | Loss: 0.37812 | Correct: 18/20\n",
            "Estimator: 000 | Epoch: 022 | Batch: 000 | Loss: 0.08968 | Correct: 20/20\n",
            "Estimator: 000 | Epoch: 022 | Batch: 100 | Loss: 0.08354 | Correct: 20/20\n",
            "Estimator: 001 | Epoch: 022 | Batch: 000 | Loss: 0.10945 | Correct: 19/20\n",
            "Estimator: 001 | Epoch: 022 | Batch: 100 | Loss: 0.24725 | Correct: 18/20\n",
            "Estimator: 002 | Epoch: 022 | Batch: 000 | Loss: 0.03912 | Correct: 20/20\n",
            "Estimator: 002 | Epoch: 022 | Batch: 100 | Loss: 0.10010 | Correct: 19/20\n",
            "Estimator: 000 | Epoch: 023 | Batch: 000 | Loss: 0.15138 | Correct: 19/20\n",
            "Estimator: 000 | Epoch: 023 | Batch: 100 | Loss: 0.25712 | Correct: 19/20\n",
            "Estimator: 001 | Epoch: 023 | Batch: 000 | Loss: 0.05211 | Correct: 20/20\n",
            "Estimator: 001 | Epoch: 023 | Batch: 100 | Loss: 0.10812 | Correct: 19/20\n",
            "Estimator: 002 | Epoch: 023 | Batch: 000 | Loss: 0.19129 | Correct: 18/20\n",
            "Estimator: 002 | Epoch: 023 | Batch: 100 | Loss: 0.07561 | Correct: 20/20\n",
            "Estimator: 000 | Epoch: 024 | Batch: 000 | Loss: 0.04549 | Correct: 20/20\n",
            "Estimator: 000 | Epoch: 024 | Batch: 100 | Loss: 0.02927 | Correct: 20/20\n",
            "Estimator: 001 | Epoch: 024 | Batch: 000 | Loss: 0.04948 | Correct: 19/20\n",
            "Estimator: 001 | Epoch: 024 | Batch: 100 | Loss: 0.19037 | Correct: 18/20\n",
            "Estimator: 002 | Epoch: 024 | Batch: 000 | Loss: 0.11422 | Correct: 19/20\n",
            "Estimator: 002 | Epoch: 024 | Batch: 100 | Loss: 0.04885 | Correct: 20/20\n",
            "Estimator: 000 | Epoch: 025 | Batch: 000 | Loss: 0.03298 | Correct: 20/20\n",
            "Estimator: 000 | Epoch: 025 | Batch: 100 | Loss: 0.00822 | Correct: 20/20\n",
            "Estimator: 001 | Epoch: 025 | Batch: 000 | Loss: 0.19898 | Correct: 19/20\n",
            "Estimator: 001 | Epoch: 025 | Batch: 100 | Loss: 0.03108 | Correct: 20/20\n",
            "Estimator: 002 | Epoch: 025 | Batch: 000 | Loss: 0.05766 | Correct: 20/20\n",
            "Estimator: 002 | Epoch: 025 | Batch: 100 | Loss: 0.05521 | Correct: 20/20\n",
            "Estimator: 000 | Epoch: 026 | Batch: 000 | Loss: 0.17385 | Correct: 19/20\n",
            "Estimator: 000 | Epoch: 026 | Batch: 100 | Loss: 0.14660 | Correct: 19/20\n",
            "Estimator: 001 | Epoch: 026 | Batch: 000 | Loss: 0.08873 | Correct: 19/20\n",
            "Estimator: 001 | Epoch: 026 | Batch: 100 | Loss: 0.02040 | Correct: 20/20\n",
            "Estimator: 002 | Epoch: 026 | Batch: 000 | Loss: 0.04220 | Correct: 20/20\n",
            "Estimator: 002 | Epoch: 026 | Batch: 100 | Loss: 0.22631 | Correct: 19/20\n",
            "Estimator: 000 | Epoch: 027 | Batch: 000 | Loss: 0.02132 | Correct: 20/20\n",
            "Estimator: 000 | Epoch: 027 | Batch: 100 | Loss: 0.17853 | Correct: 19/20\n",
            "Estimator: 001 | Epoch: 027 | Batch: 000 | Loss: 0.06981 | Correct: 20/20\n",
            "Estimator: 001 | Epoch: 027 | Batch: 100 | Loss: 0.00499 | Correct: 20/20\n",
            "Estimator: 002 | Epoch: 027 | Batch: 000 | Loss: 0.18720 | Correct: 19/20\n",
            "Estimator: 002 | Epoch: 027 | Batch: 100 | Loss: 0.19267 | Correct: 18/20\n",
            "Estimator: 000 | Epoch: 028 | Batch: 000 | Loss: 0.07181 | Correct: 19/20\n",
            "Estimator: 000 | Epoch: 028 | Batch: 100 | Loss: 0.05084 | Correct: 20/20\n",
            "Estimator: 001 | Epoch: 028 | Batch: 000 | Loss: 0.04910 | Correct: 19/20\n",
            "Estimator: 001 | Epoch: 028 | Batch: 100 | Loss: 0.00705 | Correct: 20/20\n",
            "Estimator: 002 | Epoch: 028 | Batch: 000 | Loss: 0.20855 | Correct: 19/20\n",
            "Estimator: 002 | Epoch: 028 | Batch: 100 | Loss: 0.09033 | Correct: 19/20\n",
            "Estimator: 000 | Epoch: 029 | Batch: 000 | Loss: 0.04890 | Correct: 20/20\n",
            "Estimator: 000 | Epoch: 029 | Batch: 100 | Loss: 0.02486 | Correct: 20/20\n",
            "Estimator: 001 | Epoch: 029 | Batch: 000 | Loss: 0.00899 | Correct: 20/20\n",
            "Estimator: 001 | Epoch: 029 | Batch: 100 | Loss: 0.01422 | Correct: 20/20\n",
            "Estimator: 002 | Epoch: 029 | Batch: 000 | Loss: 0.04101 | Correct: 20/20\n",
            "Estimator: 002 | Epoch: 029 | Batch: 100 | Loss: 0.02658 | Correct: 20/20\n"
          ]
        }
      ]
    },
    {
      "cell_type": "code",
      "metadata": {
        "id": "7oeFAcQiTSlU"
      },
      "source": [
        "def test_model(classes, resnet50, test_loader, criterion):\n",
        "    # track test loss\n",
        "    test_loss = 0.0\n",
        "    class_correct = list(0. for i in range(len(classes)))\n",
        "    class_total = list(0. for i in range(len(classes)))\n",
        "\n",
        "    resnet50.eval()  # eval mode\n",
        "\n",
        "    labels = []\n",
        "    predictions = []\n",
        "    # iterate over test data\n",
        "    for data, target in test_loader:\n",
        "        # move tensors to GPU if CUDA is available\n",
        "        if train_on_gpu:\n",
        "            data, target = data.cuda(), target.cuda()\n",
        "        # forward pass: compute predicted outputs by passing inputs to the model\n",
        "        output = resnet50(data)\n",
        "        # calculate the batch loss\n",
        "        loss = criterion(output, target)\n",
        "        # update  test loss\n",
        "        test_loss += loss.item() * data.size(0)\n",
        "        # convert output probabilities to predicted class\n",
        "        _, pred = torch.max(output, 1)\n",
        "        # compare predictions to true label\n",
        "        correct_tensor = pred.eq(target.data.view_as(pred))\n",
        "        correct = np.squeeze(correct_tensor.numpy()) if not train_on_gpu else np.squeeze(correct_tensor.cpu().numpy())\n",
        "        # calculate test accuracy for each object class\n",
        "        for i in range(len(target.data)):\n",
        "            label = target.data[i]\n",
        "            class_correct[label] += correct[i].item()\n",
        "            class_total[label] += 1\n",
        "        \n",
        "        # Will be used for calculating Recall, Precision, and F1-score\n",
        "        labels.extend(target.data.view_as(pred).tolist())\n",
        "        predictions.extend(pred.tolist())\n",
        "\n",
        "\n",
        "    # calculate avg test loss\n",
        "    test_loss = test_loss / len(test_loader.dataset)\n",
        "    print('Test Loss: {:.6f}\\n'.format(test_loss))\n",
        "\n",
        "    return test_loss, class_correct, class_total, labels, predictions"
      ],
      "execution_count": 12,
      "outputs": []
    },
    {
      "cell_type": "code",
      "metadata": {
        "id": "gYJie1OQTj7x"
      },
      "source": [
        "criterion = nn.CrossEntropyLoss()"
      ],
      "execution_count": 13,
      "outputs": []
    },
    {
      "cell_type": "code",
      "metadata": {
        "id": "C-cBRomUTUSW",
        "colab": {
          "base_uri": "https://localhost:8080/"
        },
        "outputId": "9f862ca3-6ba6-4077-e060-e5d4142d0a84"
      },
      "source": [
        "test_loss, class_correct, class_total, labels, predictions = test_model(classes, ensemble, test_loader, criterion)"
      ],
      "execution_count": 14,
      "outputs": [
        {
          "output_type": "stream",
          "name": "stdout",
          "text": [
            "Test Loss: 2.803503\n",
            "\n"
          ]
        }
      ]
    },
    {
      "cell_type": "code",
      "metadata": {
        "id": "Ae_JIsO3Ts2f"
      },
      "source": [
        "from sklearn.metrics import precision_score, recall_score, f1_score, accuracy_score"
      ],
      "execution_count": 15,
      "outputs": []
    },
    {
      "cell_type": "code",
      "metadata": {
        "id": "PudutYWPTp5f",
        "colab": {
          "base_uri": "https://localhost:8080/"
        },
        "outputId": "aa32835a-da15-40a9-82ab-d70d24f59536"
      },
      "source": [
        "# Test accuracy for each hieroglyph\n",
        "for i in range(len(classes)):\n",
        "    if class_total[i] > 0:\n",
        "        print('Test Accuracy of %5s: %2d%% (%2d/%2d)' % (classes[i], 100 * class_correct[i] / class_total[i], np.sum(class_correct[i]), np.sum(class_total[i])))\n",
        "    else:\n",
        "        print('Test Accuracy of %5s: N/A (no training examples)' % (classes[i]))\n",
        "\n",
        "# Total Test accuracy\n",
        "print(\"\\nAccuracy: {:.3%}\".format(accuracy_score(labels, predictions)))\n",
        "print(\"\\nPrecision: {:.3%}\".format(precision_score(labels, predictions, average = 'weighted')))\n",
        "print(\"\\nRecall: {:.3%}\".format(recall_score(labels, predictions, average = 'weighted')))\n",
        "print(\"\\nF1-score: {:.3%}\".format(f1_score(labels, predictions, average = 'weighted')))"
      ],
      "execution_count": 16,
      "outputs": [
        {
          "output_type": "stream",
          "name": "stdout",
          "text": [
            "Test Accuracy of    D2: 100% (20/20)\n",
            "Test Accuracy of   D21: 94% (16/17)\n",
            "Test Accuracy of   D36: 100% (14/14)\n",
            "Test Accuracy of    D4: 93% (15/16)\n",
            "Test Accuracy of   D46: 90% (18/20)\n",
            "Test Accuracy of   D58: 100% (18/18)\n",
            "Test Accuracy of   E23: 86% (13/15)\n",
            "Test Accuracy of   E34: 100% (17/17)\n",
            "Test Accuracy of   F31: 100% (19/19)\n",
            "Test Accuracy of   F35: 100% (25/25)\n",
            "Test Accuracy of    G1: 93% (14/15)\n",
            "Test Accuracy of   G17: 93% (15/16)\n",
            "Test Accuracy of   G43: 100% ( 9/ 9)\n",
            "Test Accuracy of   I10: 100% (15/15)\n",
            "Test Accuracy of    I9: 100% (14/14)\n",
            "Test Accuracy of   M17: 88% (15/17)\n",
            "Test Accuracy of   M23: 100% (13/13)\n",
            "Test Accuracy of   N35: 100% (18/18)\n",
            "Test Accuracy of    O1: 100% (13/13)\n",
            "Test Accuracy of   O34: 100% (18/18)\n",
            "Test Accuracy of    O4: 93% (14/15)\n",
            "Test Accuracy of   O49: 100% (13/13)\n",
            "Test Accuracy of    Q1: 85% (12/14)\n",
            "Test Accuracy of    Q3: 100% (11/11)\n",
            "Test Accuracy of    R4: 100% (18/18)\n",
            "Test Accuracy of    R8: 94% (16/17)\n",
            "Test Accuracy of   S29: 100% (19/19)\n",
            "Test Accuracy of   S34: 100% (11/11)\n",
            "Test Accuracy of    U7: 100% (15/15)\n",
            "Test Accuracy of   V13: 100% (17/17)\n",
            "Test Accuracy of   V28: 91% (11/12)\n",
            "Test Accuracy of   V30: 94% (16/17)\n",
            "Test Accuracy of   V31: 84% (16/19)\n",
            "Test Accuracy of   W11: 100% (19/19)\n",
            "Test Accuracy of   W24: 100% (13/13)\n",
            "Test Accuracy of    X1: 82% (14/17)\n",
            "Test Accuracy of    X8: 100% (14/14)\n",
            "Test Accuracy of    Y1: 100% (10/10)\n",
            "Test Accuracy of    Y5: 100% (15/15)\n",
            "Test Accuracy of    Z1: 100% (19/19)\n",
            "\n",
            "Accuracy: 96.530%\n",
            "\n",
            "Precision: 96.748%\n",
            "\n",
            "Recall: 96.530%\n",
            "\n",
            "F1-score: 96.526%\n"
          ]
        }
      ]
    }
  ]
}