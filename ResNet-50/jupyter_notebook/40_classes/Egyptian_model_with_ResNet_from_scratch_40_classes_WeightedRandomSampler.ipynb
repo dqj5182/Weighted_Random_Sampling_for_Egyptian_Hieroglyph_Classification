{
  "nbformat": 4,
  "nbformat_minor": 0,
  "metadata": {
    "colab": {
      "name": "Egyptian_model_with_ResNet_from_scratch_40_classes_WeightedRandomSampler.ipynb",
      "provenance": []
    },
    "kernelspec": {
      "name": "python3",
      "display_name": "Python 3"
    },
    "language_info": {
      "name": "python"
    },
    "accelerator": "GPU"
  },
  "cells": [
    {
      "cell_type": "code",
      "metadata": {
        "id": "8iEiGSblxJzW"
      },
      "source": [
        "import os, os.path\n",
        "import torch\n",
        "import numpy as np\n",
        "import torch.nn as nn\n",
        "import torch.optim as optim\n",
        "from pathlib import Path\n",
        "from torchvision import datasets, models, transforms\n",
        "\n",
        "# check if CUDA is available\n",
        "train_on_gpu = torch.cuda.is_available()"
      ],
      "execution_count": 1,
      "outputs": []
    },
    {
      "cell_type": "markdown",
      "metadata": {
        "id": "Jd6KU8VMz6J3"
      },
      "source": [
        "Module: Load_data"
      ]
    },
    {
      "cell_type": "code",
      "metadata": {
        "id": "xK0Qa7hQuXw-"
      },
      "source": [
        "def get_class_distribution(dataset_obj, idx2class):\n",
        "    count_dict = {k:0 for k,v in dataset_obj.class_to_idx.items()}\n",
        "    \n",
        "    for element in dataset_obj:\n",
        "        y_lbl = element[1]\n",
        "        y_lbl = idx2class[y_lbl]\n",
        "        count_dict[y_lbl] += 1\n",
        "            \n",
        "    return count_dict"
      ],
      "execution_count": 2,
      "outputs": []
    },
    {
      "cell_type": "code",
      "metadata": {
        "id": "8lWX0BW_w_kC"
      },
      "source": [
        "def load_data(hieroglyph_directory_path, batch_size=20, num_workers=0):\n",
        "    train_dir = os.path.join(hieroglyph_directory_path, 'train/')\n",
        "    test_dir = os.path.join(hieroglyph_directory_path, 'test/')\n",
        "\n",
        "    classes = []\n",
        "\n",
        "    for filename in os.listdir(train_dir):\n",
        "        if filename == '.DS_Store':\n",
        "            pass\n",
        "        else:\n",
        "            classes.append(filename)\n",
        "\n",
        "    classes.sort()\n",
        "\n",
        "    # print(\"Our classes:\", classes)\n",
        "    # print(len(classes))\n",
        "\n",
        "    data_transform = transforms.Compose([transforms.ToTensor(),\n",
        "                                            transforms.RandomApply([transforms.RandomHorizontalFlip()]),\n",
        "                                            transforms.RandomRotation(degrees=(-10, 10)),\n",
        "                                            transforms.RandomAffine(degrees=0, translate=(.1, .1)),\n",
        "                                            transforms.RandomApply([transforms.ColorJitter(brightness=(1, 1.2),\n",
        "                                                                                            contrast=(1, 1.5),\n",
        "                                                                                            saturation=(1, 1.5),\n",
        "                                                                                            hue=(0, 0.5))]),\n",
        "                                            transforms.RandomErasing(p=0.5, scale=(0.05, 0.05), ratio=(0.3, 3.3), value=0,\n",
        "                                                                      inplace=False),\n",
        "                                            transforms.Normalize((0.5,), (0.5,))])\n",
        "\n",
        "    train_data = datasets.ImageFolder(train_dir, transform=data_transform)\n",
        "    test_data = datasets.ImageFolder(test_dir, transform=data_transform)\n",
        "\n",
        "    # print('Num training images: ', len(train_data))\n",
        "    # print('Num test images: ', len(test_data))\n",
        "\n",
        "    # WeightedRandomSampler for train loader\n",
        "    idx2class = {v: k for k, v in train_data.class_to_idx.items()}\n",
        "\n",
        "    target_list = torch.tensor(train_data.targets)\n",
        "    class_count = [i for i in get_class_distribution(train_data, idx2class).values()]\n",
        "    class_weights = 1./torch.tensor(class_count, dtype=torch.float) \n",
        "    class_weights_all = class_weights[target_list]\n",
        "    weighted_sampler = torch.utils.data.WeightedRandomSampler(weights=class_weights_all, num_samples=len(class_weights_all), replacement=True)\n",
        "\n",
        "    # prepare data loaders\n",
        "    train_loader = torch.utils.data.DataLoader(train_data, batch_size=batch_size,\n",
        "                                               num_workers=num_workers, sampler=weighted_sampler, drop_last=True)\n",
        "    \n",
        "    # WeightedRandomSampler for test loader\n",
        "    idx2class_test = {v: k for k, v in test_data.class_to_idx.items()}\n",
        "\n",
        "    target_list_test = torch.tensor(test_data.targets)\n",
        "    class_count_test = [i for i in get_class_distribution(test_data, idx2class_test).values()]\n",
        "    class_weights_test = 1./torch.tensor(class_count_test, dtype=torch.float) \n",
        "    class_weights_all_test = class_weights_test[target_list_test]\n",
        "    weighted_sampler_test = torch.utils.data.WeightedRandomSampler(weights=class_weights_all_test, num_samples=len(class_weights_all_test), replacement=True)\n",
        "\n",
        "    test_loader = torch.utils.data.DataLoader(test_data, batch_size=batch_size,\n",
        "                                              num_workers=num_workers, sampler=weighted_sampler_test)\n",
        "\n",
        "    return train_loader, test_loader, classes"
      ],
      "execution_count": 3,
      "outputs": []
    },
    {
      "cell_type": "markdown",
      "metadata": {
        "id": "K4sXUrPPz7iF"
      },
      "source": [
        "Module: Train_model"
      ]
    },
    {
      "cell_type": "code",
      "metadata": {
        "id": "N2N_rnKLxN5c"
      },
      "source": [
        "def train_model(train_loader, optimizer, resnet50, criterion, my_lr_scheduler, n_epochs):\n",
        "    # track training loss over time\n",
        "    losses = []\n",
        "    \n",
        "    for epoch in range(1, n_epochs + 1):\n",
        "\n",
        "        # keep track of training and validation loss\n",
        "        train_loss = 0.0\n",
        "\n",
        "        # model by default is set to train\n",
        "        for batch_i, (data, target) in enumerate(train_loader):\n",
        "            # move tensors to GPU if CUDA is available\n",
        "            if train_on_gpu:\n",
        "                data, target = data.cuda(), target.cuda()\n",
        "            # clear the gradients of all optimized variables\n",
        "            optimizer.zero_grad()\n",
        "            # forward pass: compute predicted outputs by passing inputs to the model\n",
        "            output = resnet50(data)\n",
        "            # calculate the batch loss\n",
        "            loss = criterion(output, target)\n",
        "            # backward pass: compute gradient of the loss with respect to model parameters\n",
        "            loss.backward()\n",
        "            # perform a single optimization step (parameter update)\n",
        "            optimizer.step()\n",
        "            # update training loss\n",
        "            train_loss += loss.item()\n",
        "\n",
        "            my_lr_scheduler.step()\n",
        "\n",
        "            if batch_i % 20 == 19:  # print training loss every specified number of mini-batches\n",
        "                print('Epoch %d, Batch %d loss: %.16f' %\n",
        "                    (epoch, batch_i + 1, train_loss / 20))\n",
        "                losses.append(train_loss / 20)\n",
        "                train_loss = 0.0\n",
        "        \n",
        "        \n",
        "\n",
        "    return resnet50, losses"
      ],
      "execution_count": 4,
      "outputs": []
    },
    {
      "cell_type": "markdown",
      "metadata": {
        "id": "-Rrxo5RDz96U"
      },
      "source": [
        "Module: Test_model"
      ]
    },
    {
      "cell_type": "code",
      "metadata": {
        "id": "Ay-HlMJnxU9v"
      },
      "source": [
        "def test_model(classes, resnet50, test_loader, criterion):\n",
        "    # track test loss\n",
        "    test_loss = 0.0\n",
        "    class_correct = list(0. for i in range(len(classes)))\n",
        "    class_total = list(0. for i in range(len(classes)))\n",
        "\n",
        "    resnet50.eval()  # eval mode\n",
        "\n",
        "    labels = []\n",
        "    predictions = []\n",
        "    # iterate over test data\n",
        "    for data, target in test_loader:\n",
        "        # move tensors to GPU if CUDA is available\n",
        "        if train_on_gpu:\n",
        "            data, target = data.cuda(), target.cuda()\n",
        "        # forward pass: compute predicted outputs by passing inputs to the model\n",
        "        output = resnet50(data)\n",
        "        # calculate the batch loss\n",
        "        loss = criterion(output, target)\n",
        "        # update  test loss\n",
        "        test_loss += loss.item() * data.size(0)\n",
        "        # convert output probabilities to predicted class\n",
        "        _, pred = torch.max(output, 1)\n",
        "        # compare predictions to true label\n",
        "        correct_tensor = pred.eq(target.data.view_as(pred))\n",
        "        correct = np.squeeze(correct_tensor.numpy()) if not train_on_gpu else np.squeeze(correct_tensor.cpu().numpy())\n",
        "        # calculate test accuracy for each object class\n",
        "        for i in range(len(target.data)):\n",
        "            label = target.data[i]\n",
        "            class_correct[label] += correct[i].item()\n",
        "            class_total[label] += 1\n",
        "        \n",
        "        # Will be used for calculating Recall, Precision, and F1-score\n",
        "        labels.extend(target.data.view_as(pred).tolist())\n",
        "        predictions.extend(pred.tolist())\n",
        "\n",
        "\n",
        "    # calculate avg test loss\n",
        "    test_loss = test_loss / len(test_loader.dataset)\n",
        "    print('Test Loss: {:.6f}\\n'.format(test_loss))\n",
        "\n",
        "    return test_loss, class_correct, class_total, labels, predictions"
      ],
      "execution_count": 5,
      "outputs": []
    },
    {
      "cell_type": "markdown",
      "metadata": {
        "id": "xHh3PXE80Asa"
      },
      "source": [
        "Check whether CUDA is available (Change runtime type if not)"
      ]
    },
    {
      "cell_type": "code",
      "metadata": {
        "colab": {
          "base_uri": "https://localhost:8080/"
        },
        "id": "Q9TYPQH7x4zw",
        "outputId": "e41d3b0a-6da0-46ae-83ae-078a308a7012"
      },
      "source": [
        "if not train_on_gpu:\n",
        "    print('CUDA is not available.  Training on CPU ...')\n",
        "else:\n",
        "    print('CUDA is available!  Training on GPU ...')"
      ],
      "execution_count": 6,
      "outputs": [
        {
          "output_type": "stream",
          "name": "stdout",
          "text": [
            "CUDA is available!  Training on GPU ...\n"
          ]
        }
      ]
    },
    {
      "cell_type": "markdown",
      "metadata": {
        "id": "6lYw8EKVx8Q7"
      },
      "source": [
        "Load Hieroglyph Data"
      ]
    },
    {
      "cell_type": "code",
      "metadata": {
        "colab": {
          "base_uri": "https://localhost:8080/"
        },
        "id": "laLvoRy1yewl",
        "outputId": "78c51a28-8f69-42cf-b0e9-c338d53a296b"
      },
      "source": [
        "# Connecting and Mounting to the Google Drive\n",
        "from google.colab import drive\n",
        "drive.mount('/content/drive')"
      ],
      "execution_count": 7,
      "outputs": [
        {
          "output_type": "stream",
          "name": "stdout",
          "text": [
            "Drive already mounted at /content/drive; to attempt to forcibly remount, call drive.mount(\"/content/drive\", force_remount=True).\n"
          ]
        }
      ]
    },
    {
      "cell_type": "code",
      "metadata": {
        "id": "odaoZt9GyfUt"
      },
      "source": [
        "data_dir = '/content/drive/MyDrive/EgyptianHieroglyphDataset_Original_Clean/'"
      ],
      "execution_count": 8,
      "outputs": []
    },
    {
      "cell_type": "code",
      "metadata": {
        "colab": {
          "base_uri": "https://localhost:8080/"
        },
        "id": "dF22MAnmyiC1",
        "outputId": "593ec967-32f7-4bfa-be9b-51da969cd6da"
      },
      "source": [
        "hieroglyph_for_train = []\n",
        "file_count_list = []\n",
        "\n",
        "for name in os.listdir('/content/drive/MyDrive/EgyptianHieroglyphDataset_Original_Clean/train/'):\n",
        "  path, dirs, files = next(os.walk(\"/content/drive/MyDrive/EgyptianHieroglyphDataset_Original_Clean/train/\"+name))\n",
        "  file_count = len(files)\n",
        "  print(name, file_count)\n",
        "  file_count_list.append(file_count)\n",
        "  hieroglyph_for_train.append(name)\n",
        "\n",
        "hieroglyph_dict = dict(zip(hieroglyph_for_train, file_count_list))"
      ],
      "execution_count": 9,
      "outputs": [
        {
          "output_type": "stream",
          "name": "stdout",
          "text": [
            "Y5 6\n",
            "I9 116\n",
            "O34 15\n",
            "V13 63\n",
            "U7 3\n",
            "D46 40\n",
            "E34 97\n",
            "G1 28\n",
            "V31 106\n",
            "S34 8\n",
            "D36 47\n",
            "Q1 13\n",
            "V30 6\n",
            "F35 2\n",
            "O4 11\n",
            "M23 30\n",
            "S29 212\n",
            "R8 53\n",
            "W11 4\n",
            "X1 185\n",
            "Y1 1\n",
            "D21 146\n",
            "D2 19\n",
            "E23 8\n",
            "X8 4\n",
            "Z1 39\n",
            "D4 29\n",
            "V28 28\n",
            "I10 32\n",
            "O1 16\n",
            "M17 291\n",
            "F31 6\n",
            "G43 157\n",
            "D58 28\n",
            "O49 10\n",
            "G17 156\n",
            "R4 2\n",
            "Q3 61\n",
            "W24 31\n",
            "N35 358\n"
          ]
        }
      ]
    },
    {
      "cell_type": "markdown",
      "metadata": {
        "id": "XeQQ7PjZzKd9"
      },
      "source": [
        "Number of images for each hieroglyph "
      ]
    },
    {
      "cell_type": "code",
      "metadata": {
        "colab": {
          "base_uri": "https://localhost:8080/",
          "height": 609
        },
        "id": "W6IzWR2RyjxM",
        "outputId": "0552c8ad-5931-4102-b4d6-a6328274bacc"
      },
      "source": [
        "import matplotlib.pyplot as plt\n",
        "import pandas as pd\n",
        "\n",
        "df = pd.DataFrame({\"Hieroglyph\":hieroglyph_for_train, \"Count\":file_count_list})\n",
        "\n",
        "df_sorted= df.sort_values('Count',ascending=False)\n",
        "\n",
        "plt.figure(figsize=(20,10))\n",
        "# make bar plot with matplotlib\n",
        "plt.bar('Hieroglyph', 'Count',data=df_sorted)"
      ],
      "execution_count": 10,
      "outputs": [
        {
          "output_type": "execute_result",
          "data": {
            "text/plain": [
              "<BarContainer object of 40 artists>"
            ]
          },
          "metadata": {},
          "execution_count": 10
        },
        {
          "output_type": "display_data",
          "data": {
            "image/png": "[encoded data removed]",
            "text/plain": [
              "<Figure size 1440x720 with 1 Axes>"
            ]
          },
          "metadata": {
            "needs_background": "light"
          }
        }
      ]
    },
    {
      "cell_type": "code",
      "metadata": {
        "id": "-3oOm8rSx7tp"
      },
      "source": [
        "# Number of images processed in a single training\n",
        "batch_size = 20\n",
        "num_workers = 0\n",
        "\n",
        "# The load_data function is from hieroglyph_data_preparation python file\n",
        "train_loader, test_loader, classes = load_data(data_dir)"
      ],
      "execution_count": 11,
      "outputs": []
    },
    {
      "cell_type": "markdown",
      "metadata": {
        "id": "BJm8sGiBx_q5"
      },
      "source": [
        "ResNet Model"
      ]
    },
    {
      "cell_type": "code",
      "metadata": {
        "id": "JkLXVJGkxemC"
      },
      "source": [
        "# Whether to extract features with the model\n",
        "feature_extract = False\n",
        "# Other selections\n",
        "loss_function = \"cross-entropy\"\n",
        "model_selection = \"resnet-50\"\n",
        "optim_selection = \"Adam\"\n",
        "\n",
        "# False if you want scratch model, True if you want pretrained model\n",
        "whether_to_pretrain = False\n",
        "\n",
        "# Load the model\n",
        "if model_selection == \"resnet-50\":\n",
        "    resnet50 = models.resnet50(pretrained=whether_to_pretrain)\n",
        "\n",
        "# Number of features in the last layer of resnet\n",
        "n_inputs = resnet50.fc.in_features\n",
        "\n",
        "# Add last linear layer (n_inputs -> 40 hieroglyph classes)\n",
        "# New layers automatically have requires_grad = True\n",
        "last_layer = nn.Sequential(\n",
        "                nn.Linear(n_inputs, len(classes)))\n",
        "\n",
        "resnet50.fc = last_layer\n",
        "\n",
        "# if GPU is available, move the model to GPU\n",
        "if train_on_gpu:\n",
        "    resnet50.cuda()\n",
        "\n",
        "# Specify loss function (categorical cross-entropy)\n",
        "if loss_function == \"cross-entropy\":\n",
        "    criterion = nn.CrossEntropyLoss()\n",
        "\n",
        "# Specify optimizer (Adam) and learning rate = 0.001\n",
        "if optim_selection == \"Adam\":\n",
        "    optimizer = optim.Adam(resnet50.parameters(), lr=0.001)\n",
        "\n",
        "# Exponential Decay to strengthen learning\n",
        "decayRate = 0.999\n",
        "my_lr_scheduler = torch.optim.lr_scheduler.ExponentialLR(optimizer=optimizer, gamma=decayRate)"
      ],
      "execution_count": 12,
      "outputs": []
    },
    {
      "cell_type": "markdown",
      "metadata": {
        "id": "U2vnErB1yHmM"
      },
      "source": [
        "Training the model"
      ]
    },
    {
      "cell_type": "code",
      "metadata": {
        "colab": {
          "base_uri": "https://localhost:8080/"
        },
        "id": "dOB03noWyEvQ",
        "outputId": "52c3a234-da92-438f-e564-00e169cc7cad"
      },
      "source": [
        "# number of epochs to train the model\n",
        "n_epochs = 50\n",
        "\n",
        "# The train_model function is from model_training python file\n",
        "resnet50, train_losses = train_model(train_loader, optimizer, resnet50, criterion, my_lr_scheduler, n_epochs)"
      ],
      "execution_count": 13,
      "outputs": [
        {
          "output_type": "stream",
          "name": "stdout",
          "text": [
            "Epoch 1, Batch 20 loss: 5.0731175661087038\n",
            "Epoch 1, Batch 40 loss: 4.4529399037361141\n",
            "Epoch 1, Batch 60 loss: 4.2106412649154663\n",
            "Epoch 1, Batch 80 loss: 4.1058161616325375\n",
            "Epoch 1, Batch 100 loss: 3.9841754555702211\n",
            "Epoch 1, Batch 120 loss: 4.0516112565994264\n",
            "Epoch 2, Batch 20 loss: 3.8808755517005920\n",
            "Epoch 2, Batch 40 loss: 3.5161687374114989\n",
            "Epoch 2, Batch 60 loss: 3.3977782607078550\n",
            "Epoch 2, Batch 80 loss: 3.2662044048309324\n",
            "Epoch 2, Batch 100 loss: 3.1647538661956789\n",
            "Epoch 2, Batch 120 loss: 2.8740648746490480\n",
            "Epoch 3, Batch 20 loss: 2.7993962764739990\n",
            "Epoch 3, Batch 40 loss: 2.6260830283164980\n",
            "Epoch 3, Batch 60 loss: 2.3351600944995878\n",
            "Epoch 3, Batch 80 loss: 2.1491902410984038\n",
            "Epoch 3, Batch 100 loss: 1.9907131016254425\n",
            "Epoch 3, Batch 120 loss: 1.9419255435466767\n",
            "Epoch 4, Batch 20 loss: 1.7484686553478241\n",
            "Epoch 4, Batch 40 loss: 1.6814517557621003\n",
            "Epoch 4, Batch 60 loss: 1.5806908905506134\n",
            "Epoch 4, Batch 80 loss: 1.6912016987800598\n",
            "Epoch 4, Batch 100 loss: 1.5475156068801881\n",
            "Epoch 4, Batch 120 loss: 1.5481463372707367\n",
            "Epoch 5, Batch 20 loss: 1.3547733664512633\n",
            "Epoch 5, Batch 40 loss: 1.2546013861894607\n",
            "Epoch 5, Batch 60 loss: 1.2222362101078033\n",
            "Epoch 5, Batch 80 loss: 1.1112328857183456\n",
            "Epoch 5, Batch 100 loss: 1.2410498589277268\n",
            "Epoch 5, Batch 120 loss: 1.0484401464462281\n",
            "Epoch 6, Batch 20 loss: 1.1708001345396042\n",
            "Epoch 6, Batch 40 loss: 0.8417475879192352\n",
            "Epoch 6, Batch 60 loss: 0.8324249535799026\n",
            "Epoch 6, Batch 80 loss: 0.9286302655935288\n",
            "Epoch 6, Batch 100 loss: 0.9665754601359368\n",
            "Epoch 6, Batch 120 loss: 0.9129391357302665\n",
            "Epoch 7, Batch 20 loss: 0.7920143544673920\n",
            "Epoch 7, Batch 40 loss: 0.7257088810205460\n",
            "Epoch 7, Batch 60 loss: 0.7365466415882110\n",
            "Epoch 7, Batch 80 loss: 0.7458729729056358\n",
            "Epoch 7, Batch 100 loss: 0.7202259160578250\n",
            "Epoch 7, Batch 120 loss: 0.6458861589431762\n",
            "Epoch 8, Batch 20 loss: 0.6992165237665177\n",
            "Epoch 8, Batch 40 loss: 0.6381052300333977\n",
            "Epoch 8, Batch 60 loss: 0.5794844999909401\n",
            "Epoch 8, Batch 80 loss: 0.4873079404234886\n",
            "Epoch 8, Batch 100 loss: 0.6072137400507926\n",
            "Epoch 8, Batch 120 loss: 0.6060491584241390\n",
            "Epoch 9, Batch 20 loss: 0.4831507891416550\n",
            "Epoch 9, Batch 40 loss: 0.5088813908398151\n",
            "Epoch 9, Batch 60 loss: 0.4241712152957916\n",
            "Epoch 9, Batch 80 loss: 0.4799951054155827\n",
            "Epoch 9, Batch 100 loss: 0.4034799955785274\n",
            "Epoch 9, Batch 120 loss: 0.5200384952127933\n",
            "Epoch 10, Batch 20 loss: 0.4123722478747368\n",
            "Epoch 10, Batch 40 loss: 0.3516227155923843\n",
            "Epoch 10, Batch 60 loss: 0.4252725347876549\n",
            "Epoch 10, Batch 80 loss: 0.4927017375826835\n",
            "Epoch 10, Batch 100 loss: 0.4172800935804844\n",
            "Epoch 10, Batch 120 loss: 0.3878092508763075\n",
            "Epoch 11, Batch 20 loss: 0.3471074081957340\n",
            "Epoch 11, Batch 40 loss: 0.2912348151206970\n",
            "Epoch 11, Batch 60 loss: 0.3732150681316853\n",
            "Epoch 11, Batch 80 loss: 0.3318393662571907\n",
            "Epoch 11, Batch 100 loss: 0.3661055624485016\n",
            "Epoch 11, Batch 120 loss: 0.3557526307180524\n",
            "Epoch 12, Batch 20 loss: 0.3334342889487744\n",
            "Epoch 12, Batch 40 loss: 0.2978728793561459\n",
            "Epoch 12, Batch 60 loss: 0.3410298295319080\n",
            "Epoch 12, Batch 80 loss: 0.3471899278461933\n",
            "Epoch 12, Batch 100 loss: 0.3027134485542774\n",
            "Epoch 12, Batch 120 loss: 0.3272361025214195\n",
            "Epoch 13, Batch 20 loss: 0.2567061077803373\n",
            "Epoch 13, Batch 40 loss: 0.3060908978804946\n",
            "Epoch 13, Batch 60 loss: 0.2947670094668865\n",
            "Epoch 13, Batch 80 loss: 0.2558925418183208\n",
            "Epoch 13, Batch 100 loss: 0.2866383619606495\n",
            "Epoch 13, Batch 120 loss: 0.2606275573372841\n",
            "Epoch 14, Batch 20 loss: 0.2610089503228664\n",
            "Epoch 14, Batch 40 loss: 0.2136819807812572\n",
            "Epoch 14, Batch 60 loss: 0.1782068930566311\n",
            "Epoch 14, Batch 80 loss: 0.2194705344736576\n",
            "Epoch 14, Batch 100 loss: 0.2474323382601142\n",
            "Epoch 14, Batch 120 loss: 0.2539705269038677\n",
            "Epoch 15, Batch 20 loss: 0.2333498649299145\n",
            "Epoch 15, Batch 40 loss: 0.2162580517120659\n",
            "Epoch 15, Batch 60 loss: 0.2503513570874930\n",
            "Epoch 15, Batch 80 loss: 0.2262823879718781\n",
            "Epoch 15, Batch 100 loss: 0.1971791084855795\n",
            "Epoch 15, Batch 120 loss: 0.1551380753517151\n",
            "Epoch 16, Batch 20 loss: 0.1825627674814314\n",
            "Epoch 16, Batch 40 loss: 0.1760443767532706\n",
            "Epoch 16, Batch 60 loss: 0.1672407978214324\n",
            "Epoch 16, Batch 80 loss: 0.1690063545480371\n",
            "Epoch 16, Batch 100 loss: 0.1792426912114024\n",
            "Epoch 16, Batch 120 loss: 0.1599635266698897\n",
            "Epoch 17, Batch 20 loss: 0.2147657122462988\n",
            "Epoch 17, Batch 40 loss: 0.1651219928637147\n",
            "Epoch 17, Batch 60 loss: 0.1540765950921923\n",
            "Epoch 17, Batch 80 loss: 0.1838750367984176\n",
            "Epoch 17, Batch 100 loss: 0.2062489307485521\n",
            "Epoch 17, Batch 120 loss: 0.2142593275755644\n",
            "Epoch 18, Batch 20 loss: 0.1871726736426353\n",
            "Epoch 18, Batch 40 loss: 0.1522251259535551\n",
            "Epoch 18, Batch 60 loss: 0.2015069354325533\n",
            "Epoch 18, Batch 80 loss: 0.1708365945145488\n",
            "Epoch 18, Batch 100 loss: 0.1341948869638145\n",
            "Epoch 18, Batch 120 loss: 0.1858562280191109\n",
            "Epoch 19, Batch 20 loss: 0.1428765183314681\n",
            "Epoch 19, Batch 40 loss: 0.1362363921012729\n",
            "Epoch 19, Batch 60 loss: 0.1567450369708240\n",
            "Epoch 19, Batch 80 loss: 0.1115385505836457\n",
            "Epoch 19, Batch 100 loss: 0.1342053609900176\n",
            "Epoch 19, Batch 120 loss: 0.1718254836276173\n",
            "Epoch 20, Batch 20 loss: 0.1134417199995369\n",
            "Epoch 20, Batch 40 loss: 0.1541497698053718\n",
            "Epoch 20, Batch 60 loss: 0.1960397260263562\n",
            "Epoch 20, Batch 80 loss: 0.1120220282115042\n",
            "Epoch 20, Batch 100 loss: 0.0906609872821718\n",
            "Epoch 20, Batch 120 loss: 0.1344615702517331\n",
            "Epoch 21, Batch 20 loss: 0.1235807521268725\n",
            "Epoch 21, Batch 40 loss: 0.1006643425673246\n",
            "Epoch 21, Batch 60 loss: 0.1435149589320645\n",
            "Epoch 21, Batch 80 loss: 0.1333033074857667\n",
            "Epoch 21, Batch 100 loss: 0.1810852079186588\n",
            "Epoch 21, Batch 120 loss: 0.1312701391056180\n",
            "Epoch 22, Batch 20 loss: 0.1815859971567989\n",
            "Epoch 22, Batch 40 loss: 0.1164217259269208\n",
            "Epoch 22, Batch 60 loss: 0.1561302764341235\n",
            "Epoch 22, Batch 80 loss: 0.0887200261466205\n",
            "Epoch 22, Batch 100 loss: 0.0676316358149052\n",
            "Epoch 22, Batch 120 loss: 0.0967831153422594\n",
            "Epoch 23, Batch 20 loss: 0.0897203745320439\n",
            "Epoch 23, Batch 40 loss: 0.1112927271518856\n",
            "Epoch 23, Batch 60 loss: 0.1551178014837205\n",
            "Epoch 23, Batch 80 loss: 0.0974537692032754\n",
            "Epoch 23, Batch 100 loss: 0.0692316557047889\n",
            "Epoch 23, Batch 120 loss: 0.0942409217823297\n",
            "Epoch 24, Batch 20 loss: 0.0836587469093502\n",
            "Epoch 24, Batch 40 loss: 0.0993076588958502\n",
            "Epoch 24, Batch 60 loss: 0.1019547915318981\n",
            "Epoch 24, Batch 80 loss: 0.0981726128258742\n",
            "Epoch 24, Batch 100 loss: 0.1179163543507457\n",
            "Epoch 24, Batch 120 loss: 0.0984436849597841\n",
            "Epoch 25, Batch 20 loss: 0.0973939260002226\n",
            "Epoch 25, Batch 40 loss: 0.0755214480683208\n",
            "Epoch 25, Batch 60 loss: 0.1193066412582993\n",
            "Epoch 25, Batch 80 loss: 0.1352404263336212\n",
            "Epoch 25, Batch 100 loss: 0.0979858503676951\n",
            "Epoch 25, Batch 120 loss: 0.1067117961822078\n",
            "Epoch 26, Batch 20 loss: 0.0989121730905026\n",
            "Epoch 26, Batch 40 loss: 0.0641557140275836\n",
            "Epoch 26, Batch 60 loss: 0.1331157340900972\n",
            "Epoch 26, Batch 80 loss: 0.0917456113966182\n",
            "Epoch 26, Batch 100 loss: 0.0650842542061582\n",
            "Epoch 26, Batch 120 loss: 0.0682339912047610\n",
            "Epoch 27, Batch 20 loss: 0.0844888227758929\n",
            "Epoch 27, Batch 40 loss: 0.1087973110843450\n",
            "Epoch 27, Batch 60 loss: 0.0768205049447715\n",
            "Epoch 27, Batch 80 loss: 0.0586594669148326\n",
            "Epoch 27, Batch 100 loss: 0.1034969143103808\n",
            "Epoch 27, Batch 120 loss: 0.0591180467978120\n",
            "Epoch 28, Batch 20 loss: 0.0710440031718463\n",
            "Epoch 28, Batch 40 loss: 0.0893776961602271\n",
            "Epoch 28, Batch 60 loss: 0.0588760638143867\n",
            "Epoch 28, Batch 80 loss: 0.0715293812099844\n",
            "Epoch 28, Batch 100 loss: 0.1000415217364207\n",
            "Epoch 28, Batch 120 loss: 0.0993180685676634\n",
            "Epoch 29, Batch 20 loss: 0.1000919576734304\n",
            "Epoch 29, Batch 40 loss: 0.0749135260470211\n",
            "Epoch 29, Batch 60 loss: 0.1266307281679474\n",
            "Epoch 29, Batch 80 loss: 0.0819912631530315\n",
            "Epoch 29, Batch 100 loss: 0.0734256632160395\n",
            "Epoch 29, Batch 120 loss: 0.1196979299653322\n",
            "Epoch 30, Batch 20 loss: 0.1050266889855266\n",
            "Epoch 30, Batch 40 loss: 0.0544140090816654\n",
            "Epoch 30, Batch 60 loss: 0.0589749159698840\n",
            "Epoch 30, Batch 80 loss: 0.0854936345946044\n",
            "Epoch 30, Batch 100 loss: 0.0665113307535648\n",
            "Epoch 30, Batch 120 loss: 0.0560251174727455\n",
            "Epoch 31, Batch 20 loss: 0.0593552357750013\n",
            "Epoch 31, Batch 40 loss: 0.0816059868782759\n",
            "Epoch 31, Batch 60 loss: 0.0822595994919539\n",
            "Epoch 31, Batch 80 loss: 0.0719618461560458\n",
            "Epoch 31, Batch 100 loss: 0.0648661091923714\n",
            "Epoch 31, Batch 120 loss: 0.0775415436830372\n",
            "Epoch 32, Batch 20 loss: 0.0968341435305774\n",
            "Epoch 32, Batch 40 loss: 0.0440000989940017\n",
            "Epoch 32, Batch 60 loss: 0.0980679267551750\n",
            "Epoch 32, Batch 80 loss: 0.0874923692084849\n",
            "Epoch 32, Batch 100 loss: 0.0604203257011250\n",
            "Epoch 32, Batch 120 loss: 0.0522152172634378\n",
            "Epoch 33, Batch 20 loss: 0.0615329017862678\n",
            "Epoch 33, Batch 40 loss: 0.0935860522324219\n",
            "Epoch 33, Batch 60 loss: 0.0854608554975130\n",
            "Epoch 33, Batch 80 loss: 0.0752838323824108\n",
            "Epoch 33, Batch 100 loss: 0.0456775290193036\n",
            "Epoch 33, Batch 120 loss: 0.0366969842463732\n",
            "Epoch 34, Batch 20 loss: 0.0969226945657283\n",
            "Epoch 34, Batch 40 loss: 0.0695234866347164\n",
            "Epoch 34, Batch 60 loss: 0.0534142381045967\n",
            "Epoch 34, Batch 80 loss: 0.0629964872729033\n",
            "Epoch 34, Batch 100 loss: 0.0575951602775604\n",
            "Epoch 34, Batch 120 loss: 0.0647939057555050\n",
            "Epoch 35, Batch 20 loss: 0.0702225654851645\n",
            "Epoch 35, Batch 40 loss: 0.0598726250464097\n",
            "Epoch 35, Batch 60 loss: 0.1154127530055121\n",
            "Epoch 35, Batch 80 loss: 0.0477669210871682\n",
            "Epoch 35, Batch 100 loss: 0.0567089457763359\n",
            "Epoch 35, Batch 120 loss: 0.0792156182928011\n",
            "Epoch 36, Batch 20 loss: 0.0435558065306395\n",
            "Epoch 36, Batch 40 loss: 0.0736357968766242\n",
            "Epoch 36, Batch 60 loss: 0.0876125129288994\n",
            "Epoch 36, Batch 80 loss: 0.0587170886457898\n",
            "Epoch 36, Batch 100 loss: 0.0739167882944457\n",
            "Epoch 36, Batch 120 loss: 0.0701863704249263\n",
            "Epoch 37, Batch 20 loss: 0.0998403404839337\n",
            "Epoch 37, Batch 40 loss: 0.0626502236118540\n",
            "Epoch 37, Batch 60 loss: 0.0836520951474085\n",
            "Epoch 37, Batch 80 loss: 0.0843419565004297\n",
            "Epoch 37, Batch 100 loss: 0.0665652104187757\n",
            "Epoch 37, Batch 120 loss: 0.0789719879394397\n",
            "Epoch 38, Batch 20 loss: 0.0480176503304392\n",
            "Epoch 38, Batch 40 loss: 0.0896203882875852\n",
            "Epoch 38, Batch 60 loss: 0.0423375634476542\n",
            "Epoch 38, Batch 80 loss: 0.0489981921971776\n",
            "Epoch 38, Batch 100 loss: 0.0776910819113255\n",
            "Epoch 38, Batch 120 loss: 0.0775147318141535\n",
            "Epoch 39, Batch 20 loss: 0.0711586441379040\n",
            "Epoch 39, Batch 40 loss: 0.0664657055982389\n",
            "Epoch 39, Batch 60 loss: 0.0476364717818797\n",
            "Epoch 39, Batch 80 loss: 0.0604236532934010\n",
            "Epoch 39, Batch 100 loss: 0.0829511207062751\n",
            "Epoch 39, Batch 120 loss: 0.0644799032714218\n",
            "Epoch 40, Batch 20 loss: 0.0761939934222028\n",
            "Epoch 40, Batch 40 loss: 0.0638089389307424\n",
            "Epoch 40, Batch 60 loss: 0.0820022381842136\n",
            "Epoch 40, Batch 80 loss: 0.0678985644131899\n",
            "Epoch 40, Batch 100 loss: 0.0505021380959079\n",
            "Epoch 40, Batch 120 loss: 0.0716838169842959\n",
            "Epoch 41, Batch 20 loss: 0.0648850333178416\n",
            "Epoch 41, Batch 40 loss: 0.0607755105011165\n",
            "Epoch 41, Batch 60 loss: 0.0712488591030706\n",
            "Epoch 41, Batch 80 loss: 0.0610474877059460\n",
            "Epoch 41, Batch 100 loss: 0.0689290637150407\n",
            "Epoch 41, Batch 120 loss: 0.0540026184869930\n",
            "Epoch 42, Batch 20 loss: 0.0511090353596956\n",
            "Epoch 42, Batch 40 loss: 0.0718023481080309\n",
            "Epoch 42, Batch 60 loss: 0.0535880014183931\n",
            "Epoch 42, Batch 80 loss: 0.0734287509927526\n",
            "Epoch 42, Batch 100 loss: 0.0422942445555236\n",
            "Epoch 42, Batch 120 loss: 0.0742305679013953\n",
            "Epoch 43, Batch 20 loss: 0.0386696027941070\n",
            "Epoch 43, Batch 40 loss: 0.0691923442995176\n",
            "Epoch 43, Batch 60 loss: 0.0638616677839309\n",
            "Epoch 43, Batch 80 loss: 0.0541015481925569\n",
            "Epoch 43, Batch 100 loss: 0.0337643019855022\n",
            "Epoch 43, Batch 120 loss: 0.0694433979224414\n",
            "Epoch 44, Batch 20 loss: 0.0963455194956623\n",
            "Epoch 44, Batch 40 loss: 0.0775084487395361\n",
            "Epoch 44, Batch 60 loss: 0.0469099251553416\n",
            "Epoch 44, Batch 80 loss: 0.0461178779252805\n",
            "Epoch 44, Batch 100 loss: 0.0632077508373186\n",
            "Epoch 44, Batch 120 loss: 0.0576168003375642\n",
            "Epoch 45, Batch 20 loss: 0.0646700533805415\n",
            "Epoch 45, Batch 40 loss: 0.0476769988075830\n",
            "Epoch 45, Batch 60 loss: 0.0523150376044214\n",
            "Epoch 45, Batch 80 loss: 0.0461330285295844\n",
            "Epoch 45, Batch 100 loss: 0.0570706743514165\n",
            "Epoch 45, Batch 120 loss: 0.0541108019417152\n",
            "Epoch 46, Batch 20 loss: 0.0433716456755064\n",
            "Epoch 46, Batch 40 loss: 0.0626606867881492\n",
            "Epoch 46, Batch 60 loss: 0.0515625868923962\n",
            "Epoch 46, Batch 80 loss: 0.0662306353915483\n",
            "Epoch 46, Batch 100 loss: 0.0376625526288990\n",
            "Epoch 46, Batch 120 loss: 0.0916482057655230\n",
            "Epoch 47, Batch 20 loss: 0.0605705286958255\n",
            "Epoch 47, Batch 40 loss: 0.0731304156477563\n",
            "Epoch 47, Batch 60 loss: 0.0806910472456366\n",
            "Epoch 47, Batch 80 loss: 0.0665792956948280\n",
            "Epoch 47, Batch 100 loss: 0.0671274902066216\n",
            "Epoch 47, Batch 120 loss: 0.0613188353017904\n",
            "Epoch 48, Batch 20 loss: 0.0641150173032656\n",
            "Epoch 48, Batch 40 loss: 0.0838721040170640\n",
            "Epoch 48, Batch 60 loss: 0.0807043705601245\n",
            "Epoch 48, Batch 80 loss: 0.0429663275135681\n",
            "Epoch 48, Batch 100 loss: 0.0540075917146169\n",
            "Epoch 48, Batch 120 loss: 0.0668817347846925\n",
            "Epoch 49, Batch 20 loss: 0.0580215155379847\n",
            "Epoch 49, Batch 40 loss: 0.0898304308066145\n",
            "Epoch 49, Batch 60 loss: 0.0912688768701628\n",
            "Epoch 49, Batch 80 loss: 0.0704651496838778\n",
            "Epoch 49, Batch 100 loss: 0.0891078302403912\n",
            "Epoch 49, Batch 120 loss: 0.0421379464794882\n",
            "Epoch 50, Batch 20 loss: 0.0817430381197482\n",
            "Epoch 50, Batch 40 loss: 0.0496662660734728\n",
            "Epoch 50, Batch 60 loss: 0.0587349802255630\n",
            "Epoch 50, Batch 80 loss: 0.0764243115787394\n",
            "Epoch 50, Batch 100 loss: 0.0523053574142978\n",
            "Epoch 50, Batch 120 loss: 0.0531390907941386\n"
          ]
        }
      ]
    },
    {
      "cell_type": "code",
      "metadata": {
        "id": "CfA7ZjLR1BZP",
        "colab": {
          "base_uri": "https://localhost:8080/",
          "height": 281
        },
        "outputId": "218024e4-913f-45e5-83f8-35d3ee287f70"
      },
      "source": [
        "plt.plot(train_losses)\n",
        "plt.title(\"Training Loss\")\n",
        "plt.show()"
      ],
      "execution_count": 14,
      "outputs": [
        {
          "output_type": "display_data",
          "data": {
            "image/png": "[encoded data removed]",
            "text/plain": [
              "<Figure size 432x288 with 1 Axes>"
            ]
          },
          "metadata": {
            "needs_background": "light"
          }
        }
      ]
    },
    {
      "cell_type": "markdown",
      "metadata": {
        "id": "ItLyF9dQyJFL"
      },
      "source": [
        "Testing the model"
      ]
    },
    {
      "cell_type": "code",
      "metadata": {
        "id": "gGki98W3SoEW"
      },
      "source": [
        "from sklearn.metrics import precision_score, recall_score, f1_score, accuracy_score"
      ],
      "execution_count": 15,
      "outputs": []
    },
    {
      "cell_type": "code",
      "metadata": {
        "id": "xNavYOynyE6d",
        "colab": {
          "base_uri": "https://localhost:8080/"
        },
        "outputId": "73b3586e-b166-4632-cb77-b85b3aea4e6d"
      },
      "source": [
        "# The test_model function is from model_testing python file\n",
        "test_loss, class_correct, class_total, labels, predictions = test_model(classes, resnet50, test_loader, criterion)\n",
        "\n",
        "# Test accuracy for each hieroglyph\n",
        "for i in range(len(classes)):\n",
        "    if class_total[i] > 0:\n",
        "        print('Test Accuracy of %5s: %2d%% (%2d/%2d)' % (classes[i], 100 * class_correct[i] / class_total[i], np.sum(class_correct[i]), np.sum(class_total[i])))\n",
        "    else:\n",
        "        print('Test Accuracy of %5s: N/A (no training examples)' % (classes[i]))\n",
        "\n",
        "# Total Test accuracy\n",
        "print(\"\\nAccuracy: {:.3%}\".format(accuracy_score(labels, predictions)))\n",
        "print(\"\\nPrecision: {:.3%}\".format(precision_score(labels, predictions, average = 'weighted')))\n",
        "print(\"\\nRecall: {:.3%}\".format(recall_score(labels, predictions, average = 'weighted')))\n",
        "print(\"\\nF1-score: {:.3%}\".format(f1_score(labels, predictions, average = 'weighted')))"
      ],
      "execution_count": 16,
      "outputs": [
        {
          "output_type": "stream",
          "name": "stdout",
          "text": [
            "Test Loss: 0.094864\n",
            "\n",
            "Test Accuracy of    D2: 90% ( 9/10)\n",
            "Test Accuracy of   D21: 100% (13/13)\n",
            "Test Accuracy of   D36: 100% (14/14)\n",
            "Test Accuracy of    D4: 100% (15/15)\n",
            "Test Accuracy of   D46: 77% (17/22)\n",
            "Test Accuracy of   D58: 100% ( 9/ 9)\n",
            "Test Accuracy of   E23: 88% (15/17)\n",
            "Test Accuracy of   E34: 100% (18/18)\n",
            "Test Accuracy of   F31: 100% (19/19)\n",
            "Test Accuracy of   F35: 100% (12/12)\n",
            "Test Accuracy of    G1: 100% (19/19)\n",
            "Test Accuracy of   G17: 88% (15/17)\n",
            "Test Accuracy of   G43: 100% (20/20)\n",
            "Test Accuracy of   I10: 93% (15/16)\n",
            "Test Accuracy of    I9: 100% (13/13)\n",
            "Test Accuracy of   M17: 100% (24/24)\n",
            "Test Accuracy of   M23: 100% (17/17)\n",
            "Test Accuracy of   N35: 100% (10/10)\n",
            "Test Accuracy of    O1: 100% (18/18)\n",
            "Test Accuracy of   O34: 100% (17/17)\n",
            "Test Accuracy of    O4: 80% ( 8/10)\n",
            "Test Accuracy of   O49: 100% (15/15)\n",
            "Test Accuracy of    Q1: 84% (16/19)\n",
            "Test Accuracy of    Q3: 90% (19/21)\n",
            "Test Accuracy of    R4: 100% (15/15)\n",
            "Test Accuracy of    R8: 100% (16/16)\n",
            "Test Accuracy of   S29: 100% (13/13)\n",
            "Test Accuracy of   S34: 100% (18/18)\n",
            "Test Accuracy of    U7: 100% (15/15)\n",
            "Test Accuracy of   V13: 100% (15/15)\n",
            "Test Accuracy of   V28: 100% (19/19)\n",
            "Test Accuracy of   V30: 100% (11/11)\n",
            "Test Accuracy of   V31: 100% (15/15)\n",
            "Test Accuracy of   W11: 100% (15/15)\n",
            "Test Accuracy of   W24: 100% (15/15)\n",
            "Test Accuracy of    X1: 100% (19/19)\n",
            "Test Accuracy of    X8: 100% (15/15)\n",
            "Test Accuracy of    Y1: 100% (17/17)\n",
            "Test Accuracy of    Y5: 100% (15/15)\n",
            "Test Accuracy of    Z1: 100% (16/16)\n",
            "\n",
            "Accuracy: 97.161%\n",
            "\n",
            "Precision: 97.556%\n",
            "\n",
            "Recall: 97.161%\n",
            "\n",
            "F1-score: 97.160%\n"
          ]
        }
      ]
    }
  ]
}