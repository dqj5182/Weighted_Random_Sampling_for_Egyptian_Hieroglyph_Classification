{
  "nbformat": 4,
  "nbformat_minor": 0,
  "metadata": {
    "colab": {
      "name": "Egyptian_model_with_ResNet_from_scratch_only_test_with_data_aug.ipynb",
      "provenance": []
    },
    "kernelspec": {
      "name": "python3",
      "display_name": "Python 3"
    },
    "language_info": {
      "name": "python"
    },
    "accelerator": "GPU"
  },
  "cells": [
    {
      "cell_type": "code",
      "metadata": {
        "id": "8iEiGSblxJzW"
      },
      "source": [
        "import os, os.path\n",
        "import torch\n",
        "import numpy as np\n",
        "import torch.nn as nn\n",
        "import torch.optim as optim\n",
        "from pathlib import Path\n",
        "from torchvision import datasets, models, transforms\n",
        "\n",
        "# check if CUDA is available\n",
        "train_on_gpu = torch.cuda.is_available()"
      ],
      "execution_count": 1,
      "outputs": []
    },
    {
      "cell_type": "markdown",
      "metadata": {
        "id": "Jd6KU8VMz6J3"
      },
      "source": [
        "Module: Load_data"
      ]
    },
    {
      "cell_type": "code",
      "metadata": {
        "id": "8lWX0BW_w_kC"
      },
      "source": [
        "def load_data(hieroglyph_directory_path, batch_size=20, num_workers=0):\n",
        "    train_dir = os.path.join(hieroglyph_directory_path, 'train/')\n",
        "    test_dir = os.path.join(hieroglyph_directory_path, 'test/')\n",
        "\n",
        "    classes = []\n",
        "\n",
        "    for filename in os.listdir(train_dir):\n",
        "        if filename == '.DS_Store':\n",
        "            pass\n",
        "        else:\n",
        "            classes.append(filename)\n",
        "\n",
        "    classes.sort()\n",
        "\n",
        "    # print(\"Our classes:\", classes)\n",
        "    # print(len(classes))\n",
        "\n",
        "    data_transform_train = transforms.Compose([transforms.ToTensor(),\n",
        "                                                  transforms.Normalize((0.5,), (0.5,))])\n",
        "\n",
        "    data_transform_test = transforms.Compose([transforms.ToTensor(),\n",
        "                                                  transforms.RandomApply([transforms.RandomHorizontalFlip()]),\n",
        "                                                  transforms.RandomRotation(degrees=(-10, 10)),\n",
        "                                                  transforms.RandomAffine(degrees=0, translate=(.1, .1)),\n",
        "                                                  transforms.RandomApply([transforms.ColorJitter(brightness=(1, 1.2),\n",
        "                                                                                                  contrast=(1, 1.5),\n",
        "                                                                                                  saturation=(1, 1.5),\n",
        "                                                                                                  hue=(0, 0.5))]),\n",
        "                                                  transforms.RandomErasing(p=0.5, scale=(0.05, 0.05), ratio=(0.3, 3.3), value=0,\n",
        "                                                                            inplace=False),\n",
        "                                                  transforms.Normalize((0.5,), (0.5,))])\n",
        "\n",
        "    train_data = datasets.ImageFolder(train_dir, transform=data_transform_train)\n",
        "    test_data = datasets.ImageFolder(test_dir, transform=data_transform_test)\n",
        "\n",
        "    # print('Num training images: ', len(train_data))\n",
        "    # print('Num test images: ', len(test_data))\n",
        "\n",
        "    # prepare data loaders\n",
        "    train_loader = torch.utils.data.DataLoader(train_data, batch_size=batch_size,\n",
        "                                               num_workers=num_workers, shuffle=True)\n",
        "    test_loader = torch.utils.data.DataLoader(test_data, batch_size=batch_size,\n",
        "                                              num_workers=num_workers, shuffle=True)\n",
        "\n",
        "    return train_loader, test_loader, classes"
      ],
      "execution_count": 2,
      "outputs": []
    },
    {
      "cell_type": "markdown",
      "metadata": {
        "id": "K4sXUrPPz7iF"
      },
      "source": [
        "Module: Train_model"
      ]
    },
    {
      "cell_type": "code",
      "metadata": {
        "id": "N2N_rnKLxN5c"
      },
      "source": [
        "def train_model(train_loader, optimizer, resnet50, criterion, my_lr_scheduler, n_epochs):\n",
        "    # track training loss over time\n",
        "    losses = []\n",
        "    \n",
        "    for epoch in range(1, n_epochs + 1):\n",
        "\n",
        "        # keep track of training and validation loss\n",
        "        train_loss = 0.0\n",
        "\n",
        "        # model by default is set to train\n",
        "        for batch_i, (data, target) in enumerate(train_loader):\n",
        "            # move tensors to GPU if CUDA is available\n",
        "            if train_on_gpu:\n",
        "                data, target = data.cuda(), target.cuda()\n",
        "            # clear the gradients of all optimized variables\n",
        "            optimizer.zero_grad()\n",
        "            # forward pass: compute predicted outputs by passing inputs to the model\n",
        "            output = resnet50(data)\n",
        "            # calculate the batch loss\n",
        "            loss = criterion(output, target)\n",
        "            # backward pass: compute gradient of the loss with respect to model parameters\n",
        "            loss.backward()\n",
        "            # perform a single optimization step (parameter update)\n",
        "            optimizer.step()\n",
        "            # update training loss\n",
        "            train_loss += loss.item()\n",
        "\n",
        "            my_lr_scheduler.step()\n",
        "\n",
        "            if batch_i % 20 == 19:  # print training loss every specified number of mini-batches\n",
        "                print('Epoch %d, Batch %d loss: %.16f' %\n",
        "                    (epoch, batch_i + 1, train_loss / 20))\n",
        "                losses.append(train_loss / 20)\n",
        "                train_loss = 0.0\n",
        "        \n",
        "        \n",
        "\n",
        "    return resnet50, losses"
      ],
      "execution_count": 3,
      "outputs": []
    },
    {
      "cell_type": "markdown",
      "metadata": {
        "id": "-Rrxo5RDz96U"
      },
      "source": [
        "Module: Test_model"
      ]
    },
    {
      "cell_type": "code",
      "metadata": {
        "id": "Ay-HlMJnxU9v"
      },
      "source": [
        "def test_model(classes, resnet50, test_loader, criterion):\n",
        "    # track test loss\n",
        "    test_loss = 0.0\n",
        "    class_correct = list(0. for i in range(len(classes)))\n",
        "    class_total = list(0. for i in range(len(classes)))\n",
        "\n",
        "    resnet50.eval()  # eval mode\n",
        "\n",
        "    labels = []\n",
        "    predictions = []\n",
        "    # iterate over test data\n",
        "    for data, target in test_loader:\n",
        "        # move tensors to GPU if CUDA is available\n",
        "        if train_on_gpu:\n",
        "            data, target = data.cuda(), target.cuda()\n",
        "        # forward pass: compute predicted outputs by passing inputs to the model\n",
        "        output = resnet50(data)\n",
        "        # calculate the batch loss\n",
        "        loss = criterion(output, target)\n",
        "        # update  test loss\n",
        "        test_loss += loss.item() * data.size(0)\n",
        "        # convert output probabilities to predicted class\n",
        "        _, pred = torch.max(output, 1)\n",
        "        # compare predictions to true label\n",
        "        correct_tensor = pred.eq(target.data.view_as(pred))\n",
        "        correct = np.squeeze(correct_tensor.numpy()) if not train_on_gpu else np.squeeze(correct_tensor.cpu().numpy())\n",
        "        # calculate test accuracy for each object class\n",
        "        for i in range(len(target.data)):\n",
        "            label = target.data[i]\n",
        "            class_correct[label] += correct[i].item()\n",
        "            class_total[label] += 1\n",
        "        \n",
        "        # Will be used for calculating Recall, Precision, and F1-score\n",
        "        labels.extend(target.data.view_as(pred).tolist())\n",
        "        predictions.extend(pred.tolist())\n",
        "\n",
        "\n",
        "    # calculate avg test loss\n",
        "    test_loss = test_loss / len(test_loader.dataset)\n",
        "    print('Test Loss: {:.6f}\\n'.format(test_loss))\n",
        "\n",
        "    return test_loss, class_correct, class_total, labels, predictions"
      ],
      "execution_count": 4,
      "outputs": []
    },
    {
      "cell_type": "markdown",
      "metadata": {
        "id": "xHh3PXE80Asa"
      },
      "source": [
        "Check whether CUDA is available (Change runtime type if not)"
      ]
    },
    {
      "cell_type": "code",
      "metadata": {
        "colab": {
          "base_uri": "https://localhost:8080/"
        },
        "id": "Q9TYPQH7x4zw",
        "outputId": "84be19a5-9133-408e-812f-b1117fc541f2"
      },
      "source": [
        "if not train_on_gpu:\n",
        "    print('CUDA is not available.  Training on CPU ...')\n",
        "else:\n",
        "    print('CUDA is available!  Training on GPU ...')"
      ],
      "execution_count": 5,
      "outputs": [
        {
          "output_type": "stream",
          "name": "stdout",
          "text": [
            "CUDA is available!  Training on GPU ...\n"
          ]
        }
      ]
    },
    {
      "cell_type": "markdown",
      "metadata": {
        "id": "6lYw8EKVx8Q7"
      },
      "source": [
        "Load Hieroglyph Data"
      ]
    },
    {
      "cell_type": "code",
      "metadata": {
        "colab": {
          "base_uri": "https://localhost:8080/"
        },
        "id": "laLvoRy1yewl",
        "outputId": "b4412aa6-128b-49e5-8239-64f754273172"
      },
      "source": [
        "# Connecting and Mounting to the Google Drive\n",
        "from google.colab import drive\n",
        "drive.mount('/content/drive')"
      ],
      "execution_count": 6,
      "outputs": [
        {
          "output_type": "stream",
          "name": "stdout",
          "text": [
            "Mounted at /content/drive\n"
          ]
        }
      ]
    },
    {
      "cell_type": "code",
      "metadata": {
        "id": "odaoZt9GyfUt"
      },
      "source": [
        "data_dir = '/content/drive/MyDrive/EgyptianHieroglyphDataset_Original/'"
      ],
      "execution_count": 7,
      "outputs": []
    },
    {
      "cell_type": "code",
      "metadata": {
        "colab": {
          "base_uri": "https://localhost:8080/"
        },
        "id": "dF22MAnmyiC1",
        "outputId": "aba4980d-a470-43aa-8852-c58459e2962d"
      },
      "source": [
        "hieroglyph_for_train = []\n",
        "file_count_list = []\n",
        "\n",
        "for name in os.listdir('/content/drive/MyDrive/EgyptianHieroglyphDataset_Original/train/'):\n",
        "  path, dirs, files = next(os.walk(\"/content/drive/MyDrive/EgyptianHieroglyphDataset_Original/train/\"+name))\n",
        "  file_count = len(files)\n",
        "  print(name, file_count)\n",
        "  file_count_list.append(file_count)\n",
        "  hieroglyph_for_train.append(name)\n",
        "\n",
        "hieroglyph_dict = dict(zip(hieroglyph_for_train, file_count_list))"
      ],
      "execution_count": 8,
      "outputs": [
        {
          "output_type": "stream",
          "name": "stdout",
          "text": [
            "D4 29\n",
            "D2 19\n",
            "D46 40\n",
            "D36 47\n",
            "D21 146\n",
            "D58 28\n",
            "E34 97\n",
            "E23 8\n",
            "F31 6\n",
            "G1 28\n",
            "F35 2\n",
            "G17 156\n",
            "G43 157\n",
            "I10 32\n",
            "I9 116\n",
            "M23 30\n",
            "M17 291\n",
            "O1 16\n",
            "O34 15\n",
            "N35 358\n",
            "Q3 61\n",
            "O49 10\n",
            "Q1 13\n",
            "O4 11\n",
            "S34 8\n",
            "R4 2\n",
            "R8 53\n",
            "S29 212\n",
            "V13 63\n",
            "V28 28\n",
            "U7 3\n",
            "V30 6\n",
            "W11 4\n",
            "W24 31\n",
            "V31 106\n",
            "Y5 6\n",
            "X8 4\n",
            "Z1 39\n",
            "X1 185\n",
            "Y1 1\n"
          ]
        }
      ]
    },
    {
      "cell_type": "markdown",
      "metadata": {
        "id": "XeQQ7PjZzKd9"
      },
      "source": [
        "Number of images for each hieroglyph "
      ]
    },
    {
      "cell_type": "code",
      "metadata": {
        "colab": {
          "base_uri": "https://localhost:8080/",
          "height": 609
        },
        "id": "W6IzWR2RyjxM",
        "outputId": "e1fa405e-1b61-4798-d4f8-30652719037e"
      },
      "source": [
        "import matplotlib.pyplot as plt\n",
        "import pandas as pd\n",
        "\n",
        "df = pd.DataFrame({\"Hieroglyph\":hieroglyph_for_train, \"Count\":file_count_list})\n",
        "\n",
        "df_sorted= df.sort_values('Count',ascending=False)\n",
        "\n",
        "plt.figure(figsize=(20,10))\n",
        "# make bar plot with matplotlib\n",
        "plt.bar('Hieroglyph', 'Count',data=df_sorted)"
      ],
      "execution_count": 9,
      "outputs": [
        {
          "output_type": "execute_result",
          "data": {
            "text/plain": [
              "<BarContainer object of 40 artists>"
            ]
          },
          "metadata": {},
          "execution_count": 9
        },
        {
          "output_type": "display_data",
          "data": {
            "image/png": "[encoded data removed]",
            "text/plain": [
              "<Figure size 1440x720 with 1 Axes>"
            ]
          },
          "metadata": {
            "needs_background": "light"
          }
        }
      ]
    },
    {
      "cell_type": "code",
      "metadata": {
        "id": "-3oOm8rSx7tp"
      },
      "source": [
        "# Number of images processed in a single training\n",
        "batch_size = 20\n",
        "num_workers = 0\n",
        "\n",
        "# The load_data function is from hieroglyph_data_preparation python file\n",
        "train_loader, test_loader, classes = load_data(data_dir)"
      ],
      "execution_count": 10,
      "outputs": []
    },
    {
      "cell_type": "markdown",
      "metadata": {
        "id": "BJm8sGiBx_q5"
      },
      "source": [
        "ResNet Model"
      ]
    },
    {
      "cell_type": "code",
      "metadata": {
        "id": "JkLXVJGkxemC"
      },
      "source": [
        "# Whether to extract features with the model\n",
        "feature_extract = False\n",
        "# Other selections\n",
        "loss_function = \"cross-entropy\"\n",
        "model_selection = \"resnet-50\"\n",
        "optim_selection = \"Adam\"\n",
        "\n",
        "# False if you want scratch model, True if you want pretrained model\n",
        "whether_to_pretrain = False\n",
        "\n",
        "# Load the model\n",
        "if model_selection == \"resnet-50\":\n",
        "    resnet50 = models.resnet50(pretrained=whether_to_pretrain)\n",
        "\n",
        "# Number of features in the last layer of resnet\n",
        "n_inputs = resnet50.fc.in_features\n",
        "\n",
        "# Add last linear layer (n_inputs -> 40 hieroglyph classes)\n",
        "# New layers automatically have requires_grad = True\n",
        "last_layer = nn.Sequential(\n",
        "                nn.Linear(n_inputs, len(classes)))\n",
        "\n",
        "resnet50.fc = last_layer\n",
        "\n",
        "# if GPU is available, move the model to GPU\n",
        "if train_on_gpu:\n",
        "    resnet50.cuda()\n",
        "\n",
        "# Specify loss function (categorical cross-entropy)\n",
        "if loss_function == \"cross-entropy\":\n",
        "    criterion = nn.CrossEntropyLoss()\n",
        "\n",
        "# Specify optimizer (Adam) and learning rate = 0.001\n",
        "if optim_selection == \"Adam\":\n",
        "    optimizer = optim.Adam(resnet50.parameters(), lr=0.001)\n",
        "\n",
        "# Exponential Decay to strengthen learning\n",
        "decayRate = 0.999\n",
        "my_lr_scheduler = torch.optim.lr_scheduler.ExponentialLR(optimizer=optimizer, gamma=decayRate)"
      ],
      "execution_count": 11,
      "outputs": []
    },
    {
      "cell_type": "markdown",
      "metadata": {
        "id": "U2vnErB1yHmM"
      },
      "source": [
        "Training the model"
      ]
    },
    {
      "cell_type": "code",
      "metadata": {
        "colab": {
          "base_uri": "https://localhost:8080/"
        },
        "id": "dOB03noWyEvQ",
        "outputId": "a4b37420-f8e3-4d32-f87e-58cc741f86dd"
      },
      "source": [
        "# number of epochs to train the model\n",
        "n_epochs = 50\n",
        "\n",
        "# The train_model function is from model_training python file\n",
        "resnet50, train_losses = train_model(train_loader, optimizer, resnet50, criterion, my_lr_scheduler, n_epochs)"
      ],
      "execution_count": 12,
      "outputs": [
        {
          "output_type": "stream",
          "name": "stdout",
          "text": [
            "Epoch 1, Batch 20 loss: 3.9341079831123351\n",
            "Epoch 1, Batch 40 loss: 2.6267165780067443\n",
            "Epoch 1, Batch 60 loss: 1.7669902086257934\n",
            "Epoch 1, Batch 80 loss: 1.6032861590385437\n",
            "Epoch 1, Batch 100 loss: 1.4044287264347077\n",
            "Epoch 1, Batch 120 loss: 0.9698404327034951\n",
            "Epoch 2, Batch 20 loss: 0.9720964238047600\n",
            "Epoch 2, Batch 40 loss: 0.7689154341816902\n",
            "Epoch 2, Batch 60 loss: 0.7077915459871292\n",
            "Epoch 2, Batch 80 loss: 0.5115248948335648\n",
            "Epoch 2, Batch 100 loss: 0.4897619724273682\n",
            "Epoch 2, Batch 120 loss: 0.4732069846242666\n",
            "Epoch 3, Batch 20 loss: 0.3349449910223484\n",
            "Epoch 3, Batch 40 loss: 0.2566986568272114\n",
            "Epoch 3, Batch 60 loss: 0.2955374631565064\n",
            "Epoch 3, Batch 80 loss: 0.2906241663731635\n",
            "Epoch 3, Batch 100 loss: 0.2965267052873969\n",
            "Epoch 3, Batch 120 loss: 0.2967756394296884\n",
            "Epoch 4, Batch 20 loss: 0.2359769765287638\n",
            "Epoch 4, Batch 40 loss: 0.1986042534001172\n",
            "Epoch 4, Batch 60 loss: 0.2118990766815841\n",
            "Epoch 4, Batch 80 loss: 0.3359930267557502\n",
            "Epoch 4, Batch 100 loss: 0.2202900178730488\n",
            "Epoch 4, Batch 120 loss: 0.1540095110423863\n",
            "Epoch 5, Batch 20 loss: 0.1370612203609198\n",
            "Epoch 5, Batch 40 loss: 0.1324435308575630\n",
            "Epoch 5, Batch 60 loss: 0.2063797652721405\n",
            "Epoch 5, Batch 80 loss: 0.1247155757620931\n",
            "Epoch 5, Batch 100 loss: 0.1466028499417007\n",
            "Epoch 5, Batch 120 loss: 0.1389261299278587\n",
            "Epoch 6, Batch 20 loss: 0.1110509669524617\n",
            "Epoch 6, Batch 40 loss: 0.0761962693650275\n",
            "Epoch 6, Batch 60 loss: 0.0362844691611826\n",
            "Epoch 6, Batch 80 loss: 0.0525528192520142\n",
            "Epoch 6, Batch 100 loss: 0.0667843985313084\n",
            "Epoch 6, Batch 120 loss: 0.0865709017176414\n",
            "Epoch 7, Batch 20 loss: 0.0559776261390652\n",
            "Epoch 7, Batch 40 loss: 0.0349540302355308\n",
            "Epoch 7, Batch 60 loss: 0.0415405302075669\n",
            "Epoch 7, Batch 80 loss: 0.0534274166624527\n",
            "Epoch 7, Batch 100 loss: 0.0552352438739035\n",
            "Epoch 7, Batch 120 loss: 0.0486274613300338\n",
            "Epoch 8, Batch 20 loss: 0.0094830760339391\n",
            "Epoch 8, Batch 40 loss: 0.0060050818516174\n",
            "Epoch 8, Batch 60 loss: 0.0301274062498123\n",
            "Epoch 8, Batch 80 loss: 0.0402609250071691\n",
            "Epoch 8, Batch 100 loss: 0.0275980608712416\n",
            "Epoch 8, Batch 120 loss: 0.0275047066737898\n",
            "Epoch 9, Batch 20 loss: 0.0119689678744180\n",
            "Epoch 9, Batch 40 loss: 0.0200097609078512\n",
            "Epoch 9, Batch 60 loss: 0.0289801653503673\n",
            "Epoch 9, Batch 80 loss: 0.0140919133642456\n",
            "Epoch 9, Batch 100 loss: 0.0292303871392505\n",
            "Epoch 9, Batch 120 loss: 0.0081549051421462\n",
            "Epoch 10, Batch 20 loss: 0.0143154386983952\n",
            "Epoch 10, Batch 40 loss: 0.0155682262120536\n",
            "Epoch 10, Batch 60 loss: 0.0072460792609490\n",
            "Epoch 10, Batch 80 loss: 0.0558226668115822\n",
            "Epoch 10, Batch 100 loss: 0.0212470105179818\n",
            "Epoch 10, Batch 120 loss: 0.0629961950442521\n",
            "Epoch 11, Batch 20 loss: 0.0130558098731854\n",
            "Epoch 11, Batch 40 loss: 0.0102319492507377\n",
            "Epoch 11, Batch 60 loss: 0.0058279340722947\n",
            "Epoch 11, Batch 80 loss: 0.0022550035100721\n",
            "Epoch 11, Batch 100 loss: 0.0017814021484810\n",
            "Epoch 11, Batch 120 loss: 0.0028366896978696\n",
            "Epoch 12, Batch 20 loss: 0.0066097670547606\n",
            "Epoch 12, Batch 40 loss: 0.0012796910079487\n",
            "Epoch 12, Batch 60 loss: 0.0015675724142056\n",
            "Epoch 12, Batch 80 loss: 0.0009929102954629\n",
            "Epoch 12, Batch 100 loss: 0.0017912096256623\n",
            "Epoch 12, Batch 120 loss: 0.0012858720023360\n",
            "Epoch 13, Batch 20 loss: 0.0011545056302566\n",
            "Epoch 13, Batch 40 loss: 0.0015565717309073\n",
            "Epoch 13, Batch 60 loss: 0.0007238325655635\n",
            "Epoch 13, Batch 80 loss: 0.0007681213533942\n",
            "Epoch 13, Batch 100 loss: 0.0012151075818110\n",
            "Epoch 13, Batch 120 loss: 0.0007280047269887\n",
            "Epoch 14, Batch 20 loss: 0.0009340116921521\n",
            "Epoch 14, Batch 40 loss: 0.0018845083330234\n",
            "Epoch 14, Batch 60 loss: 0.0009097430454858\n",
            "Epoch 14, Batch 80 loss: 0.0007131132082577\n",
            "Epoch 14, Batch 100 loss: 0.0005140454333741\n",
            "Epoch 14, Batch 120 loss: 0.0006914226034496\n",
            "Epoch 15, Batch 20 loss: 0.0005942478233010\n",
            "Epoch 15, Batch 40 loss: 0.0013511389843188\n",
            "Epoch 15, Batch 60 loss: 0.0014920165012882\n",
            "Epoch 15, Batch 80 loss: 0.0016590793196883\n",
            "Epoch 15, Batch 100 loss: 0.0004410578927491\n",
            "Epoch 15, Batch 120 loss: 0.0003658518980956\n",
            "Epoch 16, Batch 20 loss: 0.0005675098069332\n",
            "Epoch 16, Batch 40 loss: 0.0004475172914681\n",
            "Epoch 16, Batch 60 loss: 0.0004487993342991\n",
            "Epoch 16, Batch 80 loss: 0.0005421221347206\n",
            "Epoch 16, Batch 100 loss: 0.0003279419062892\n",
            "Epoch 16, Batch 120 loss: 0.0002833694561559\n",
            "Epoch 17, Batch 20 loss: 0.0004556908213999\n",
            "Epoch 17, Batch 40 loss: 0.0003170476973537\n",
            "Epoch 17, Batch 60 loss: 0.0004271608495401\n",
            "Epoch 17, Batch 80 loss: 0.0004453818121874\n",
            "Epoch 17, Batch 100 loss: 0.0002723140431044\n",
            "Epoch 17, Batch 120 loss: 0.0002683185187379\n",
            "Epoch 18, Batch 20 loss: 0.0002510790956876\n",
            "Epoch 18, Batch 40 loss: 0.0004738616091345\n",
            "Epoch 18, Batch 60 loss: 0.0002935315685136\n",
            "Epoch 18, Batch 80 loss: 0.0002666696174856\n",
            "Epoch 18, Batch 100 loss: 0.0004924255492369\n",
            "Epoch 18, Batch 120 loss: 0.0009900822929922\n",
            "Epoch 19, Batch 20 loss: 0.0003369368348103\n",
            "Epoch 19, Batch 40 loss: 0.0003374809726665\n",
            "Epoch 19, Batch 60 loss: 0.0003071784130952\n",
            "Epoch 19, Batch 80 loss: 0.0002458789489538\n",
            "Epoch 19, Batch 100 loss: 0.0002073800009384\n",
            "Epoch 19, Batch 120 loss: 0.0002793214125631\n",
            "Epoch 20, Batch 20 loss: 0.0001809022872294\n",
            "Epoch 20, Batch 40 loss: 0.0002081616741634\n",
            "Epoch 20, Batch 60 loss: 0.0002547092510213\n",
            "Epoch 20, Batch 80 loss: 0.0002758100607934\n",
            "Epoch 20, Batch 100 loss: 0.0003001672812388\n",
            "Epoch 20, Batch 120 loss: 0.0001985063801840\n",
            "Epoch 21, Batch 20 loss: 0.0002548329232013\n",
            "Epoch 21, Batch 40 loss: 0.0007585779771034\n",
            "Epoch 21, Batch 60 loss: 0.0001503518407844\n",
            "Epoch 21, Batch 80 loss: 0.0002417487681669\n",
            "Epoch 21, Batch 100 loss: 0.0002579493992016\n",
            "Epoch 21, Batch 120 loss: 0.0002394577745690\n",
            "Epoch 22, Batch 20 loss: 0.0001891832955152\n",
            "Epoch 22, Batch 40 loss: 0.0001826461550081\n",
            "Epoch 22, Batch 60 loss: 0.0002034552800978\n",
            "Epoch 22, Batch 80 loss: 0.0005313709319125\n",
            "Epoch 22, Batch 100 loss: 0.0006599870595892\n",
            "Epoch 22, Batch 120 loss: 0.0001789393892977\n",
            "Epoch 23, Batch 20 loss: 0.0002516862171433\n",
            "Epoch 23, Batch 40 loss: 0.0007332508895161\n",
            "Epoch 23, Batch 60 loss: 0.0002057700719888\n",
            "Epoch 23, Batch 80 loss: 0.0001933513723998\n",
            "Epoch 23, Batch 100 loss: 0.0007518500442529\n",
            "Epoch 23, Batch 120 loss: 0.0003604701389122\n",
            "Epoch 24, Batch 20 loss: 0.0001740771274854\n",
            "Epoch 24, Batch 40 loss: 0.0002944913419924\n",
            "Epoch 24, Batch 60 loss: 0.0001807384196582\n",
            "Epoch 24, Batch 80 loss: 0.0001523613274003\n",
            "Epoch 24, Batch 100 loss: 0.0001840965978772\n",
            "Epoch 24, Batch 120 loss: 0.0001730016454530\n",
            "Epoch 25, Batch 20 loss: 0.0001346180573364\n",
            "Epoch 25, Batch 40 loss: 0.0001668329215136\n",
            "Epoch 25, Batch 60 loss: 0.0001565235845192\n",
            "Epoch 25, Batch 80 loss: 0.0002552361997004\n",
            "Epoch 25, Batch 100 loss: 0.0002309631742719\n",
            "Epoch 25, Batch 120 loss: 0.0002353042163577\n",
            "Epoch 26, Batch 20 loss: 0.0001943735780515\n",
            "Epoch 26, Batch 40 loss: 0.0001653426823395\n",
            "Epoch 26, Batch 60 loss: 0.0002417085092020\n",
            "Epoch 26, Batch 80 loss: 0.0002165594530197\n",
            "Epoch 26, Batch 100 loss: 0.0002146369723050\n",
            "Epoch 26, Batch 120 loss: 0.0001234421481058\n",
            "Epoch 27, Batch 20 loss: 0.0001289188190640\n",
            "Epoch 27, Batch 40 loss: 0.0001717275009923\n",
            "Epoch 27, Batch 60 loss: 0.0001783919793525\n",
            "Epoch 27, Batch 80 loss: 0.0001755670491548\n",
            "Epoch 27, Batch 100 loss: 0.0003991229117673\n",
            "Epoch 27, Batch 120 loss: 0.0002223477660664\n",
            "Epoch 28, Batch 20 loss: 0.0001842948754984\n",
            "Epoch 28, Batch 40 loss: 0.0001624375794563\n",
            "Epoch 28, Batch 60 loss: 0.0005904224741244\n",
            "Epoch 28, Batch 80 loss: 0.0001200192437864\n",
            "Epoch 28, Batch 100 loss: 0.0000896702045793\n",
            "Epoch 28, Batch 120 loss: 0.0002120730358911\n",
            "Epoch 29, Batch 20 loss: 0.0001299867763009\n",
            "Epoch 29, Batch 40 loss: 0.0001739382336382\n",
            "Epoch 29, Batch 60 loss: 0.0002082861650706\n",
            "Epoch 29, Batch 80 loss: 0.0002176164920456\n",
            "Epoch 29, Batch 100 loss: 0.0001458324342821\n",
            "Epoch 29, Batch 120 loss: 0.0001638740943235\n",
            "Epoch 30, Batch 20 loss: 0.0001664808266924\n",
            "Epoch 30, Batch 40 loss: 0.0002486004582352\n",
            "Epoch 30, Batch 60 loss: 0.0001962875992831\n",
            "Epoch 30, Batch 80 loss: 0.0001663279890181\n",
            "Epoch 30, Batch 100 loss: 0.0001465995606850\n",
            "Epoch 30, Batch 120 loss: 0.0001548467254906\n",
            "Epoch 31, Batch 20 loss: 0.0001025138194564\n",
            "Epoch 31, Batch 40 loss: 0.0001138922534665\n",
            "Epoch 31, Batch 60 loss: 0.0000988286891697\n",
            "Epoch 31, Batch 80 loss: 0.0001037619215822\n",
            "Epoch 31, Batch 100 loss: 0.0001754099015216\n",
            "Epoch 31, Batch 120 loss: 0.0002150894564238\n",
            "Epoch 32, Batch 20 loss: 0.0001689854002507\n",
            "Epoch 32, Batch 40 loss: 0.0002508395848054\n",
            "Epoch 32, Batch 60 loss: 0.0001105335148168\n",
            "Epoch 32, Batch 80 loss: 0.0001961516867141\n",
            "Epoch 32, Batch 100 loss: 0.0000786461331700\n",
            "Epoch 32, Batch 120 loss: 0.0001898645187794\n",
            "Epoch 33, Batch 20 loss: 0.0001429212823496\n",
            "Epoch 33, Batch 40 loss: 0.0001319577973845\n",
            "Epoch 33, Batch 60 loss: 0.0002082717767735\n",
            "Epoch 33, Batch 80 loss: 0.0000941692023844\n",
            "Epoch 33, Batch 100 loss: 0.0003169506281665\n",
            "Epoch 33, Batch 120 loss: 0.0001406864295859\n",
            "Epoch 34, Batch 20 loss: 0.0001187935182315\n",
            "Epoch 34, Batch 40 loss: 0.0003410719105887\n",
            "Epoch 34, Batch 60 loss: 0.0001275324215385\n",
            "Epoch 34, Batch 80 loss: 0.0001166344175545\n",
            "Epoch 34, Batch 100 loss: 0.0001678371781964\n",
            "Epoch 34, Batch 120 loss: 0.0001802430557291\n",
            "Epoch 35, Batch 20 loss: 0.0001481261359913\n",
            "Epoch 35, Batch 40 loss: 0.0001234772776115\n",
            "Epoch 35, Batch 60 loss: 0.0001310369336352\n",
            "Epoch 35, Batch 80 loss: 0.0001175404929654\n",
            "Epoch 35, Batch 100 loss: 0.0003477404019577\n",
            "Epoch 35, Batch 120 loss: 0.0001107738733481\n",
            "Epoch 36, Batch 20 loss: 0.0002106399826971\n",
            "Epoch 36, Batch 40 loss: 0.0000843838641231\n",
            "Epoch 36, Batch 60 loss: 0.0002570885360001\n",
            "Epoch 36, Batch 80 loss: 0.0001555740114782\n",
            "Epoch 36, Batch 100 loss: 0.0001760369130352\n",
            "Epoch 36, Batch 120 loss: 0.0001200295009767\n",
            "Epoch 37, Batch 20 loss: 0.0005463122195579\n",
            "Epoch 37, Batch 40 loss: 0.0000852140166899\n",
            "Epoch 37, Batch 60 loss: 0.0001018913536427\n",
            "Epoch 37, Batch 80 loss: 0.0000954659892159\n",
            "Epoch 37, Batch 100 loss: 0.0002546585603341\n",
            "Epoch 37, Batch 120 loss: 0.0001333179181529\n",
            "Epoch 38, Batch 20 loss: 0.0003254726218984\n",
            "Epoch 38, Batch 40 loss: 0.0001101996836951\n",
            "Epoch 38, Batch 60 loss: 0.0000856325228142\n",
            "Epoch 38, Batch 80 loss: 0.0000953248246788\n",
            "Epoch 38, Batch 100 loss: 0.0001221067388542\n",
            "Epoch 38, Batch 120 loss: 0.0001105267377170\n",
            "Epoch 39, Batch 20 loss: 0.0002277095643876\n",
            "Epoch 39, Batch 40 loss: 0.0001217073184307\n",
            "Epoch 39, Batch 60 loss: 0.0001075118276731\n",
            "Epoch 39, Batch 80 loss: 0.0000807020812317\n",
            "Epoch 39, Batch 100 loss: 0.0001398433466420\n",
            "Epoch 39, Batch 120 loss: 0.0001092318555493\n",
            "Epoch 40, Batch 20 loss: 0.0000868238016665\n",
            "Epoch 40, Batch 40 loss: 0.0002094450795994\n",
            "Epoch 40, Batch 60 loss: 0.0001503740212684\n",
            "Epoch 40, Batch 80 loss: 0.0002166469787426\n",
            "Epoch 40, Batch 100 loss: 0.0000980197564331\n",
            "Epoch 40, Batch 120 loss: 0.0002609961790313\n",
            "Epoch 41, Batch 20 loss: 0.0001652314523199\n",
            "Epoch 41, Batch 40 loss: 0.0001165547287201\n",
            "Epoch 41, Batch 60 loss: 0.0000865432317369\n",
            "Epoch 41, Batch 80 loss: 0.0002072832141494\n",
            "Epoch 41, Batch 100 loss: 0.0001303877481860\n",
            "Epoch 41, Batch 120 loss: 0.0001154358815256\n",
            "Epoch 42, Batch 20 loss: 0.0001667143974373\n",
            "Epoch 42, Batch 40 loss: 0.0001226101295288\n",
            "Epoch 42, Batch 60 loss: 0.0001998662204642\n",
            "Epoch 42, Batch 80 loss: 0.0000784097570431\n",
            "Epoch 42, Batch 100 loss: 0.0001323781903920\n",
            "Epoch 42, Batch 120 loss: 0.0001340997675470\n",
            "Epoch 43, Batch 20 loss: 0.0001045164748348\n",
            "Epoch 43, Batch 40 loss: 0.0001421380943611\n",
            "Epoch 43, Batch 60 loss: 0.0000986985662166\n",
            "Epoch 43, Batch 80 loss: 0.0001344201735265\n",
            "Epoch 43, Batch 100 loss: 0.0001129247362769\n",
            "Epoch 43, Batch 120 loss: 0.0002911665117608\n",
            "Epoch 44, Batch 20 loss: 0.0002890206006214\n",
            "Epoch 44, Batch 40 loss: 0.0001904860117975\n",
            "Epoch 44, Batch 60 loss: 0.0001722078616694\n",
            "Epoch 44, Batch 80 loss: 0.0001151596383352\n",
            "Epoch 44, Batch 100 loss: 0.0001186018729641\n",
            "Epoch 44, Batch 120 loss: 0.0000694475175351\n",
            "Epoch 45, Batch 20 loss: 0.0002058211824078\n",
            "Epoch 45, Batch 40 loss: 0.0001221787727900\n",
            "Epoch 45, Batch 60 loss: 0.0001095791209082\n",
            "Epoch 45, Batch 80 loss: 0.0001554326842779\n",
            "Epoch 45, Batch 100 loss: 0.0000913957685043\n",
            "Epoch 45, Batch 120 loss: 0.0001407334564647\n",
            "Epoch 46, Batch 20 loss: 0.0003768508196117\n",
            "Epoch 46, Batch 40 loss: 0.0001111358978051\n",
            "Epoch 46, Batch 60 loss: 0.0001670544241279\n",
            "Epoch 46, Batch 80 loss: 0.0001586247167324\n",
            "Epoch 46, Batch 100 loss: 0.0001431865560335\n",
            "Epoch 46, Batch 120 loss: 0.0000965434960563\n",
            "Epoch 47, Batch 20 loss: 0.0000668080514970\n",
            "Epoch 47, Batch 40 loss: 0.0000922007629470\n",
            "Epoch 47, Batch 60 loss: 0.0001392124091581\n",
            "Epoch 47, Batch 80 loss: 0.0000609958578934\n",
            "Epoch 47, Batch 100 loss: 0.0000965999455730\n",
            "Epoch 47, Batch 120 loss: 0.0001339826153526\n",
            "Epoch 48, Batch 20 loss: 0.0000911615904897\n",
            "Epoch 48, Batch 40 loss: 0.0001400018028107\n",
            "Epoch 48, Batch 60 loss: 0.0000731751056264\n",
            "Epoch 48, Batch 80 loss: 0.0002796348046104\n",
            "Epoch 48, Batch 100 loss: 0.0002527730659494\n",
            "Epoch 48, Batch 120 loss: 0.0001079612442936\n",
            "Epoch 49, Batch 20 loss: 0.0001249916227607\n",
            "Epoch 49, Batch 40 loss: 0.0002095000734698\n",
            "Epoch 49, Batch 60 loss: 0.0001402659223459\n",
            "Epoch 49, Batch 80 loss: 0.0001282712435568\n",
            "Epoch 49, Batch 100 loss: 0.0001412803302628\n",
            "Epoch 49, Batch 120 loss: 0.0001099501439967\n",
            "Epoch 50, Batch 20 loss: 0.0001433184333337\n",
            "Epoch 50, Batch 40 loss: 0.0001060953039541\n",
            "Epoch 50, Batch 60 loss: 0.0001679955174950\n",
            "Epoch 50, Batch 80 loss: 0.0001347290070498\n",
            "Epoch 50, Batch 100 loss: 0.0001221163691753\n",
            "Epoch 50, Batch 120 loss: 0.0001188752669805\n"
          ]
        }
      ]
    },
    {
      "cell_type": "code",
      "metadata": {
        "id": "CfA7ZjLR1BZP",
        "colab": {
          "base_uri": "https://localhost:8080/",
          "height": 281
        },
        "outputId": "b5117d6a-b029-408c-e9b4-eee3cad8330c"
      },
      "source": [
        "plt.plot(train_losses)\n",
        "plt.title(\"Training Loss\")\n",
        "plt.show()"
      ],
      "execution_count": 13,
      "outputs": [
        {
          "output_type": "display_data",
          "data": {
            "image/png": "[encoded data removed]",
            "text/plain": [
              "<Figure size 432x288 with 1 Axes>"
            ]
          },
          "metadata": {
            "needs_background": "light"
          }
        }
      ]
    },
    {
      "cell_type": "markdown",
      "metadata": {
        "id": "ItLyF9dQyJFL"
      },
      "source": [
        "Testing the model"
      ]
    },
    {
      "cell_type": "code",
      "metadata": {
        "id": "gGki98W3SoEW"
      },
      "source": [
        "from sklearn.metrics import precision_score, recall_score, f1_score, accuracy_score"
      ],
      "execution_count": 14,
      "outputs": []
    },
    {
      "cell_type": "code",
      "metadata": {
        "id": "xNavYOynyE6d",
        "colab": {
          "base_uri": "https://localhost:8080/"
        },
        "outputId": "b62ab8b3-8817-4246-a497-f820beb87ae6"
      },
      "source": [
        "# The test_model function is from model_testing python file\n",
        "test_loss, class_correct, class_total, labels, predictions = test_model(classes, resnet50, test_loader, criterion)\n",
        "\n",
        "# Test accuracy for each hieroglyph\n",
        "for i in range(len(classes)):\n",
        "    if class_total[i] > 0:\n",
        "        print('Test Accuracy of %5s: %2d%% (%2d/%2d)' % (classes[i], 100 * class_correct[i] / class_total[i], np.sum(class_correct[i]), np.sum(class_total[i])))\n",
        "    else:\n",
        "        print('Test Accuracy of %5s: N/A (no training examples)' % (classes[i]))\n",
        "\n",
        "# Total Test accuracy\n",
        "print(\"\\nAccuracy: {:.3%}\".format(accuracy_score(labels, predictions)))\n",
        "print(\"\\nPrecision: {:.3%}\".format(precision_score(labels, predictions, average = 'weighted')))\n",
        "print(\"\\nRecall: {:.3%}\".format(recall_score(labels, predictions, average = 'weighted')))\n",
        "print(\"\\nF1-score: {:.3%}\".format(f1_score(labels, predictions, average = 'weighted')))"
      ],
      "execution_count": 15,
      "outputs": [
        {
          "output_type": "stream",
          "name": "stdout",
          "text": [
            "Test Loss: 6.309390\n",
            "\n",
            "Test Accuracy of    D2: 60% ( 3/ 5)\n",
            "Test Accuracy of   D21:  2% ( 1/37)\n",
            "Test Accuracy of   D36: 25% ( 3/12)\n",
            "Test Accuracy of    D4:  0% ( 0/ 8)\n",
            "Test Accuracy of   D46:  0% ( 0/10)\n",
            "Test Accuracy of   D58: 12% ( 1/ 8)\n",
            "Test Accuracy of   E23:  0% ( 0/ 2)\n",
            "Test Accuracy of   E34: 20% ( 5/25)\n",
            "Test Accuracy of   F31: 100% ( 2/ 2)\n",
            "Test Accuracy of   F35:  0% ( 0/ 1)\n",
            "Test Accuracy of    G1: 14% ( 1/ 7)\n",
            "Test Accuracy of   G17: 15% ( 6/39)\n",
            "Test Accuracy of   G43: 32% (13/40)\n",
            "Test Accuracy of   I10: 22% ( 2/ 9)\n",
            "Test Accuracy of    I9: 16% ( 5/30)\n",
            "Test Accuracy of   M17: 12% ( 9/73)\n",
            "Test Accuracy of   M23:  0% ( 0/ 8)\n",
            "Test Accuracy of   N35: 57% (52/90)\n",
            "Test Accuracy of    O1:  0% ( 0/ 4)\n",
            "Test Accuracy of   O34:  0% ( 0/ 4)\n",
            "Test Accuracy of    O4: 66% ( 2/ 3)\n",
            "Test Accuracy of   O49:  0% ( 0/ 3)\n",
            "Test Accuracy of    Q1: 50% ( 2/ 4)\n",
            "Test Accuracy of    Q3: 12% ( 2/16)\n",
            "Test Accuracy of    R4:  0% ( 0/ 1)\n",
            "Test Accuracy of    R8:  7% ( 1/14)\n",
            "Test Accuracy of   S29: 22% (12/53)\n",
            "Test Accuracy of   S34: 50% ( 1/ 2)\n",
            "Test Accuracy of    U7:  0% ( 0/ 1)\n",
            "Test Accuracy of   V13: 31% ( 5/16)\n",
            "Test Accuracy of   V28: 12% ( 1/ 8)\n",
            "Test Accuracy of   V30:  0% ( 0/ 2)\n",
            "Test Accuracy of   V31: 14% ( 4/27)\n",
            "Test Accuracy of   W11:  0% ( 0/ 1)\n",
            "Test Accuracy of   W24: 12% ( 1/ 8)\n",
            "Test Accuracy of    X1: 14% ( 7/47)\n",
            "Test Accuracy of    X8:  0% ( 0/ 2)\n",
            "Test Accuracy of    Y1:  0% ( 0/ 1)\n",
            "Test Accuracy of    Y5:  0% ( 0/ 2)\n",
            "Test Accuracy of    Z1: 10% ( 1/10)\n",
            "\n",
            "Accuracy: 22.362%\n",
            "\n",
            "Precision: 60.938%\n",
            "\n",
            "Recall: 22.362%\n",
            "\n",
            "F1-score: 24.913%\n"
          ]
        },
        {
          "output_type": "stream",
          "name": "stderr",
          "text": [
            "/usr/local/lib/python3.7/dist-packages/sklearn/metrics/_classification.py:1308: UndefinedMetricWarning: Precision is ill-defined and being set to 0.0 in labels with no predicted samples. Use `zero_division` parameter to control this behavior.\n",
            "  _warn_prf(average, modifier, msg_start, len(result))\n"
          ]
        }
      ]
    }
  ]
}
