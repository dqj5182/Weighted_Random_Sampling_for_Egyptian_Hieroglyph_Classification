{
  "nbformat": 4,
  "nbformat_minor": 0,
  "metadata": {
    "colab": {
      "name": "Egyptian_model_with_ResNet_Pretrained_40_classes_clean_WeightedRandomSampler_only_on_testing.ipynb",
      "provenance": [],
      "collapsed_sections": []
    },
    "kernelspec": {
      "name": "python3",
      "display_name": "Python 3"
    },
    "language_info": {
      "name": "python"
    },
    "accelerator": "GPU",
    "widgets": {
      "application/vnd.jupyter.widget-state+json": {
        "6adbb11201a048d88ce4666084b33df9": {
          "model_module": "@jupyter-widgets/controls",
          "model_name": "HBoxModel",
          "model_module_version": "1.5.0",
          "state": {
            "_view_name": "HBoxView",
            "_dom_classes": [],
            "_model_name": "HBoxModel",
            "_view_module": "@jupyter-widgets/controls",
            "_model_module_version": "1.5.0",
            "_view_count": null,
            "_view_module_version": "1.5.0",
            "box_style": "",
            "layout": "IPY_MODEL_e8111eef5a384f74a915b7365d43e867",
            "_model_module": "@jupyter-widgets/controls",
            "children": [
              "IPY_MODEL_5889d92cd4ce40f1a184b9a108193b10",
              "IPY_MODEL_d2c291063eb842cca3882121b9b09d3d",
              "IPY_MODEL_4fae532ef2ef49abbcd6497fa0b825ca"
            ]
          }
        },
        "e8111eef5a384f74a915b7365d43e867": {
          "model_module": "@jupyter-widgets/base",
          "model_name": "LayoutModel",
          "model_module_version": "1.2.0",
          "state": {
            "_view_name": "LayoutView",
            "grid_template_rows": null,
            "right": null,
            "justify_content": null,
            "_view_module": "@jupyter-widgets/base",
            "overflow": null,
            "_model_module_version": "1.2.0",
            "_view_count": null,
            "flex_flow": null,
            "width": null,
            "min_width": null,
            "border": null,
            "align_items": null,
            "bottom": null,
            "_model_module": "@jupyter-widgets/base",
            "top": null,
            "grid_column": null,
            "overflow_y": null,
            "overflow_x": null,
            "grid_auto_flow": null,
            "grid_area": null,
            "grid_template_columns": null,
            "flex": null,
            "_model_name": "LayoutModel",
            "justify_items": null,
            "grid_row": null,
            "max_height": null,
            "align_content": null,
            "visibility": null,
            "align_self": null,
            "height": null,
            "min_height": null,
            "padding": null,
            "grid_auto_rows": null,
            "grid_gap": null,
            "max_width": null,
            "order": null,
            "_view_module_version": "1.2.0",
            "grid_template_areas": null,
            "object_position": null,
            "object_fit": null,
            "grid_auto_columns": null,
            "margin": null,
            "display": null,
            "left": null
          }
        },
        "5889d92cd4ce40f1a184b9a108193b10": {
          "model_module": "@jupyter-widgets/controls",
          "model_name": "HTMLModel",
          "model_module_version": "1.5.0",
          "state": {
            "_view_name": "HTMLView",
            "style": "IPY_MODEL_486ed8aa3091400eaf3177685e10d845",
            "_dom_classes": [],
            "description": "",
            "_model_name": "HTMLModel",
            "placeholder": "​",
            "_view_module": "@jupyter-widgets/controls",
            "_model_module_version": "1.5.0",
            "value": "100%",
            "_view_count": null,
            "_view_module_version": "1.5.0",
            "description_tooltip": null,
            "_model_module": "@jupyter-widgets/controls",
            "layout": "IPY_MODEL_500001b9942740159b83d1260d6cdf06"
          }
        },
        "d2c291063eb842cca3882121b9b09d3d": {
          "model_module": "@jupyter-widgets/controls",
          "model_name": "FloatProgressModel",
          "model_module_version": "1.5.0",
          "state": {
            "_view_name": "ProgressView",
            "style": "IPY_MODEL_8e31944b9eeb4f82adf07b8a5e597781",
            "_dom_classes": [],
            "description": "",
            "_model_name": "FloatProgressModel",
            "bar_style": "success",
            "max": 102530333,
            "_view_module": "@jupyter-widgets/controls",
            "_model_module_version": "1.5.0",
            "value": 102530333,
            "_view_count": null,
            "_view_module_version": "1.5.0",
            "orientation": "horizontal",
            "min": 0,
            "description_tooltip": null,
            "_model_module": "@jupyter-widgets/controls",
            "layout": "IPY_MODEL_e99440400e82425a92d64a808e346913"
          }
        },
        "4fae532ef2ef49abbcd6497fa0b825ca": {
          "model_module": "@jupyter-widgets/controls",
          "model_name": "HTMLModel",
          "model_module_version": "1.5.0",
          "state": {
            "_view_name": "HTMLView",
            "style": "IPY_MODEL_893a6e18e2604a9e8316f37bcc3e5afb",
            "_dom_classes": [],
            "description": "",
            "_model_name": "HTMLModel",
            "placeholder": "​",
            "_view_module": "@jupyter-widgets/controls",
            "_model_module_version": "1.5.0",
            "value": " 97.8M/97.8M [00:00&lt;00:00, 143MB/s]",
            "_view_count": null,
            "_view_module_version": "1.5.0",
            "description_tooltip": null,
            "_model_module": "@jupyter-widgets/controls",
            "layout": "IPY_MODEL_dccc92acd350479783e1e235b0eeda15"
          }
        },
        "486ed8aa3091400eaf3177685e10d845": {
          "model_module": "@jupyter-widgets/controls",
          "model_name": "DescriptionStyleModel",
          "model_module_version": "1.5.0",
          "state": {
            "_view_name": "StyleView",
            "_model_name": "DescriptionStyleModel",
            "description_width": "",
            "_view_module": "@jupyter-widgets/base",
            "_model_module_version": "1.5.0",
            "_view_count": null,
            "_view_module_version": "1.2.0",
            "_model_module": "@jupyter-widgets/controls"
          }
        },
        "500001b9942740159b83d1260d6cdf06": {
          "model_module": "@jupyter-widgets/base",
          "model_name": "LayoutModel",
          "model_module_version": "1.2.0",
          "state": {
            "_view_name": "LayoutView",
            "grid_template_rows": null,
            "right": null,
            "justify_content": null,
            "_view_module": "@jupyter-widgets/base",
            "overflow": null,
            "_model_module_version": "1.2.0",
            "_view_count": null,
            "flex_flow": null,
            "width": null,
            "min_width": null,
            "border": null,
            "align_items": null,
            "bottom": null,
            "_model_module": "@jupyter-widgets/base",
            "top": null,
            "grid_column": null,
            "overflow_y": null,
            "overflow_x": null,
            "grid_auto_flow": null,
            "grid_area": null,
            "grid_template_columns": null,
            "flex": null,
            "_model_name": "LayoutModel",
            "justify_items": null,
            "grid_row": null,
            "max_height": null,
            "align_content": null,
            "visibility": null,
            "align_self": null,
            "height": null,
            "min_height": null,
            "padding": null,
            "grid_auto_rows": null,
            "grid_gap": null,
            "max_width": null,
            "order": null,
            "_view_module_version": "1.2.0",
            "grid_template_areas": null,
            "object_position": null,
            "object_fit": null,
            "grid_auto_columns": null,
            "margin": null,
            "display": null,
            "left": null
          }
        },
        "8e31944b9eeb4f82adf07b8a5e597781": {
          "model_module": "@jupyter-widgets/controls",
          "model_name": "ProgressStyleModel",
          "model_module_version": "1.5.0",
          "state": {
            "_view_name": "StyleView",
            "_model_name": "ProgressStyleModel",
            "description_width": "",
            "_view_module": "@jupyter-widgets/base",
            "_model_module_version": "1.5.0",
            "_view_count": null,
            "_view_module_version": "1.2.0",
            "bar_color": null,
            "_model_module": "@jupyter-widgets/controls"
          }
        },
        "e99440400e82425a92d64a808e346913": {
          "model_module": "@jupyter-widgets/base",
          "model_name": "LayoutModel",
          "model_module_version": "1.2.0",
          "state": {
            "_view_name": "LayoutView",
            "grid_template_rows": null,
            "right": null,
            "justify_content": null,
            "_view_module": "@jupyter-widgets/base",
            "overflow": null,
            "_model_module_version": "1.2.0",
            "_view_count": null,
            "flex_flow": null,
            "width": null,
            "min_width": null,
            "border": null,
            "align_items": null,
            "bottom": null,
            "_model_module": "@jupyter-widgets/base",
            "top": null,
            "grid_column": null,
            "overflow_y": null,
            "overflow_x": null,
            "grid_auto_flow": null,
            "grid_area": null,
            "grid_template_columns": null,
            "flex": null,
            "_model_name": "LayoutModel",
            "justify_items": null,
            "grid_row": null,
            "max_height": null,
            "align_content": null,
            "visibility": null,
            "align_self": null,
            "height": null,
            "min_height": null,
            "padding": null,
            "grid_auto_rows": null,
            "grid_gap": null,
            "max_width": null,
            "order": null,
            "_view_module_version": "1.2.0",
            "grid_template_areas": null,
            "object_position": null,
            "object_fit": null,
            "grid_auto_columns": null,
            "margin": null,
            "display": null,
            "left": null
          }
        },
        "893a6e18e2604a9e8316f37bcc3e5afb": {
          "model_module": "@jupyter-widgets/controls",
          "model_name": "DescriptionStyleModel",
          "model_module_version": "1.5.0",
          "state": {
            "_view_name": "StyleView",
            "_model_name": "DescriptionStyleModel",
            "description_width": "",
            "_view_module": "@jupyter-widgets/base",
            "_model_module_version": "1.5.0",
            "_view_count": null,
            "_view_module_version": "1.2.0",
            "_model_module": "@jupyter-widgets/controls"
          }
        },
        "dccc92acd350479783e1e235b0eeda15": {
          "model_module": "@jupyter-widgets/base",
          "model_name": "LayoutModel",
          "model_module_version": "1.2.0",
          "state": {
            "_view_name": "LayoutView",
            "grid_template_rows": null,
            "right": null,
            "justify_content": null,
            "_view_module": "@jupyter-widgets/base",
            "overflow": null,
            "_model_module_version": "1.2.0",
            "_view_count": null,
            "flex_flow": null,
            "width": null,
            "min_width": null,
            "border": null,
            "align_items": null,
            "bottom": null,
            "_model_module": "@jupyter-widgets/base",
            "top": null,
            "grid_column": null,
            "overflow_y": null,
            "overflow_x": null,
            "grid_auto_flow": null,
            "grid_area": null,
            "grid_template_columns": null,
            "flex": null,
            "_model_name": "LayoutModel",
            "justify_items": null,
            "grid_row": null,
            "max_height": null,
            "align_content": null,
            "visibility": null,
            "align_self": null,
            "height": null,
            "min_height": null,
            "padding": null,
            "grid_auto_rows": null,
            "grid_gap": null,
            "max_width": null,
            "order": null,
            "_view_module_version": "1.2.0",
            "grid_template_areas": null,
            "object_position": null,
            "object_fit": null,
            "grid_auto_columns": null,
            "margin": null,
            "display": null,
            "left": null
          }
        }
      }
    }
  },
  "cells": [
    {
      "cell_type": "code",
      "metadata": {
        "colab": {
          "base_uri": "https://localhost:8080/"
        },
        "id": "Po0ZVacIYsP0",
        "outputId": "c024638e-6f42-4a2c-dfb8-4fede9388f8b"
      },
      "source": [
        "!pip install timm"
      ],
      "execution_count": 1,
      "outputs": [
        {
          "output_type": "stream",
          "name": "stdout",
          "text": [
            "Collecting timm\n",
            "  Downloading timm-0.4.12-py3-none-any.whl (376 kB)\n",
            "\u001b[?25l\r\u001b[K     |▉                               | 10 kB 24.9 MB/s eta 0:00:01\r\u001b[K     |█▊                              | 20 kB 29.5 MB/s eta 0:00:01\r\u001b[K     |██▋                             | 30 kB 26.2 MB/s eta 0:00:01\r\u001b[K     |███▌                            | 40 kB 21.3 MB/s eta 0:00:01\r\u001b[K     |████▍                           | 51 kB 17.5 MB/s eta 0:00:01\r\u001b[K     |█████▏                          | 61 kB 12.2 MB/s eta 0:00:01\r\u001b[K     |██████                          | 71 kB 13.3 MB/s eta 0:00:01\r\u001b[K     |███████                         | 81 kB 14.7 MB/s eta 0:00:01\r\u001b[K     |███████▉                        | 92 kB 15.6 MB/s eta 0:00:01\r\u001b[K     |████████▊                       | 102 kB 14.8 MB/s eta 0:00:01\r\u001b[K     |█████████▋                      | 112 kB 14.8 MB/s eta 0:00:01\r\u001b[K     |██████████▍                     | 122 kB 14.8 MB/s eta 0:00:01\r\u001b[K     |███████████▎                    | 133 kB 14.8 MB/s eta 0:00:01\r\u001b[K     |████████████▏                   | 143 kB 14.8 MB/s eta 0:00:01\r\u001b[K     |█████████████                   | 153 kB 14.8 MB/s eta 0:00:01\r\u001b[K     |██████████████                  | 163 kB 14.8 MB/s eta 0:00:01\r\u001b[K     |██████████████▊                 | 174 kB 14.8 MB/s eta 0:00:01\r\u001b[K     |███████████████▋                | 184 kB 14.8 MB/s eta 0:00:01\r\u001b[K     |████████████████▌               | 194 kB 14.8 MB/s eta 0:00:01\r\u001b[K     |█████████████████▍              | 204 kB 14.8 MB/s eta 0:00:01\r\u001b[K     |██████████████████▎             | 215 kB 14.8 MB/s eta 0:00:01\r\u001b[K     |███████████████████▏            | 225 kB 14.8 MB/s eta 0:00:01\r\u001b[K     |████████████████████            | 235 kB 14.8 MB/s eta 0:00:01\r\u001b[K     |████████████████████▉           | 245 kB 14.8 MB/s eta 0:00:01\r\u001b[K     |█████████████████████▊          | 256 kB 14.8 MB/s eta 0:00:01\r\u001b[K     |██████████████████████▋         | 266 kB 14.8 MB/s eta 0:00:01\r\u001b[K     |███████████████████████▌        | 276 kB 14.8 MB/s eta 0:00:01\r\u001b[K     |████████████████████████▍       | 286 kB 14.8 MB/s eta 0:00:01\r\u001b[K     |█████████████████████████▏      | 296 kB 14.8 MB/s eta 0:00:01\r\u001b[K     |██████████████████████████      | 307 kB 14.8 MB/s eta 0:00:01\r\u001b[K     |███████████████████████████     | 317 kB 14.8 MB/s eta 0:00:01\r\u001b[K     |███████████████████████████▉    | 327 kB 14.8 MB/s eta 0:00:01\r\u001b[K     |████████████████████████████▊   | 337 kB 14.8 MB/s eta 0:00:01\r\u001b[K     |█████████████████████████████▌  | 348 kB 14.8 MB/s eta 0:00:01\r\u001b[K     |██████████████████████████████▍ | 358 kB 14.8 MB/s eta 0:00:01\r\u001b[K     |███████████████████████████████▎| 368 kB 14.8 MB/s eta 0:00:01\r\u001b[K     |████████████████████████████████| 376 kB 14.8 MB/s \n",
            "\u001b[?25hRequirement already satisfied: torchvision in /usr/local/lib/python3.7/dist-packages (from timm) (0.11.1+cu111)\n",
            "Requirement already satisfied: torch>=1.4 in /usr/local/lib/python3.7/dist-packages (from timm) (1.10.0+cu111)\n",
            "Requirement already satisfied: typing-extensions in /usr/local/lib/python3.7/dist-packages (from torch>=1.4->timm) (3.10.0.2)\n",
            "Requirement already satisfied: numpy in /usr/local/lib/python3.7/dist-packages (from torchvision->timm) (1.19.5)\n",
            "Requirement already satisfied: pillow!=8.3.0,>=5.3.0 in /usr/local/lib/python3.7/dist-packages (from torchvision->timm) (7.1.2)\n",
            "Installing collected packages: timm\n",
            "Successfully installed timm-0.4.12\n"
          ]
        }
      ]
    },
    {
      "cell_type": "code",
      "metadata": {
        "id": "8iEiGSblxJzW"
      },
      "source": [
        "import os, os.path\n",
        "import torch\n",
        "import numpy as np\n",
        "import torch.nn as nn\n",
        "import torch.optim as optim\n",
        "from pathlib import Path\n",
        "from torchvision import datasets, models, transforms\n",
        "import timm\n",
        "\n",
        "# check if CUDA is available\n",
        "train_on_gpu = torch.cuda.is_available()"
      ],
      "execution_count": 2,
      "outputs": []
    },
    {
      "cell_type": "markdown",
      "metadata": {
        "id": "Jd6KU8VMz6J3"
      },
      "source": [
        "Module: Load_data"
      ]
    },
    {
      "cell_type": "code",
      "metadata": {
        "id": "CFTKwolqDOAG"
      },
      "source": [
        "def get_class_distribution(dataset_obj, idx2class):\n",
        "    count_dict = {k:0 for k,v in dataset_obj.class_to_idx.items()}\n",
        "    \n",
        "    for element in dataset_obj:\n",
        "        y_lbl = element[1]\n",
        "        y_lbl = idx2class[y_lbl]\n",
        "        count_dict[y_lbl] += 1\n",
        "            \n",
        "    return count_dict"
      ],
      "execution_count": 3,
      "outputs": []
    },
    {
      "cell_type": "code",
      "metadata": {
        "id": "8lWX0BW_w_kC"
      },
      "source": [
        "def load_data(hieroglyph_directory_path, batch_size=20, num_workers=0):\n",
        "    train_dir = os.path.join(hieroglyph_directory_path, 'train/')\n",
        "    test_dir = os.path.join(hieroglyph_directory_path, 'test/')\n",
        "\n",
        "    classes = []\n",
        "\n",
        "    for filename in os.listdir(train_dir):\n",
        "        if filename == '.DS_Store':\n",
        "            pass\n",
        "        else:\n",
        "            classes.append(filename)\n",
        "\n",
        "    classes.sort()\n",
        "\n",
        "    # print(\"Our classes:\", classes)\n",
        "    # print(len(classes))\n",
        "\n",
        "    data_transform = transforms.Compose([transforms.ToTensor(),\n",
        "                                              transforms.RandomApply([transforms.RandomHorizontalFlip()]),\n",
        "                                              transforms.RandomRotation(degrees=(-10, 10)),\n",
        "                                              transforms.RandomAffine(degrees=0, translate=(.1, .1)),\n",
        "                                              transforms.RandomApply([transforms.ColorJitter(brightness=(1, 1.2),\n",
        "                                                                                              contrast=(1, 1.5),\n",
        "                                                                                              saturation=(1, 1.5),\n",
        "                                                                                              hue=(0, 0.5))]),\n",
        "                                              transforms.RandomErasing(p=0.5, scale=(0.05, 0.05), ratio=(0.3, 3.3), value=0,\n",
        "                                                                        inplace=False),\n",
        "                                              transforms.Resize((75, 75)),\n",
        "                                              transforms.Normalize((0.5,), (0.5,))])\n",
        "\n",
        "    train_data = datasets.ImageFolder(train_dir, transform=data_transform)\n",
        "    test_data = datasets.ImageFolder(test_dir, transform=data_transform)\n",
        "\n",
        "    # print('Num training images: ', len(train_data))\n",
        "    # print('Num test images: ', len(test_data))\n",
        "\n",
        "    # prepare data loaders\n",
        "    train_loader = torch.utils.data.DataLoader(train_data, batch_size=batch_size,\n",
        "                                               num_workers=num_workers, shuffle=True)\n",
        "    \n",
        "    # WeightedRandomSampler for test loader\n",
        "    idx2class_test = {v: k for k, v in test_data.class_to_idx.items()}\n",
        "\n",
        "    target_list_test = torch.tensor(test_data.targets)\n",
        "    class_count_test = [i for i in get_class_distribution(test_data, idx2class_test).values()]\n",
        "    class_weights_test = 1./torch.tensor(class_count_test, dtype=torch.float) \n",
        "    class_weights_all_test = class_weights_test[target_list_test]\n",
        "    weighted_sampler_test = torch.utils.data.WeightedRandomSampler(weights=class_weights_all_test, num_samples=len(class_weights_all_test), replacement=True)\n",
        "\n",
        "    test_loader = torch.utils.data.DataLoader(test_data, batch_size=batch_size,\n",
        "                                              num_workers=num_workers, sampler=weighted_sampler_test)\n",
        "\n",
        "    return train_loader, test_loader, classes"
      ],
      "execution_count": 4,
      "outputs": []
    },
    {
      "cell_type": "markdown",
      "metadata": {
        "id": "K4sXUrPPz7iF"
      },
      "source": [
        "Module: Train_model"
      ]
    },
    {
      "cell_type": "code",
      "metadata": {
        "id": "N2N_rnKLxN5c"
      },
      "source": [
        "def train_model(train_loader, optimizer, conv_net_model, criterion, my_lr_scheduler, n_epochs):\n",
        "    # track training loss over time\n",
        "    losses = []\n",
        "    \n",
        "    for epoch in range(1, n_epochs + 1):\n",
        "\n",
        "        # keep track of training and validation loss\n",
        "        train_loss = 0.0\n",
        "\n",
        "        # model by default is set to train\n",
        "        for batch_i, (data, target) in enumerate(train_loader):\n",
        "            # move tensors to GPU if CUDA is available\n",
        "            if train_on_gpu:\n",
        "                data, target = data.cuda(), target.cuda()\n",
        "            # clear the gradients of all optimized variables\n",
        "            optimizer.zero_grad()\n",
        "            # forward pass: compute predicted outputs by passing inputs to the model\n",
        "            output = conv_net_model(data)\n",
        "            # calculate the batch loss\n",
        "            loss = criterion(output, target)\n",
        "            # backward pass: compute gradient of the loss with respect to model parameters\n",
        "            loss.backward()\n",
        "            # perform a single optimization step (parameter update)\n",
        "            optimizer.step()\n",
        "            # update training loss\n",
        "            train_loss += loss.item()\n",
        "\n",
        "            my_lr_scheduler.step()\n",
        "\n",
        "            if batch_i % 20 == 19:  # print training loss every specified number of mini-batches\n",
        "                print('Epoch %d, Batch %d loss: %.16f' %\n",
        "                    (epoch, batch_i + 1, train_loss / 20))\n",
        "                losses.append(train_loss / 20)\n",
        "                train_loss = 0.0\n",
        "\n",
        "    return conv_net_model, losses"
      ],
      "execution_count": 5,
      "outputs": []
    },
    {
      "cell_type": "markdown",
      "metadata": {
        "id": "-Rrxo5RDz96U"
      },
      "source": [
        "Module: Test_model"
      ]
    },
    {
      "cell_type": "code",
      "metadata": {
        "id": "Ay-HlMJnxU9v"
      },
      "source": [
        "def test_model(classes, conv_net_model, test_loader, criterion):\n",
        "    # track test loss\n",
        "    test_loss = 0.0\n",
        "    class_correct = list(0. for i in range(len(classes)))\n",
        "    class_total = list(0. for i in range(len(classes)))\n",
        "\n",
        "    conv_net_model.eval()  # eval mode\n",
        "\n",
        "    labels = []\n",
        "    predictions = []\n",
        "    # iterate over test data\n",
        "    for data, target in test_loader:\n",
        "        # move tensors to GPU if CUDA is available\n",
        "        if train_on_gpu:\n",
        "            data, target = data.cuda(), target.cuda()\n",
        "        # forward pass: compute predicted outputs by passing inputs to the model\n",
        "        output = conv_net_model(data)\n",
        "\n",
        "        # calculate the batch loss\n",
        "        loss = criterion(output, target)\n",
        "        # update  test loss\n",
        "        test_loss += loss.item() * data.size(0)\n",
        "        # convert output probabilities to predicted class\n",
        "        _, pred = torch.max(output, 1)\n",
        "        # compare predictions to true label\n",
        "        correct_tensor = pred.eq(target.data.view_as(pred))\n",
        "        correct = np.squeeze(correct_tensor.numpy()) if not train_on_gpu else np.squeeze(correct_tensor.cpu().numpy())\n",
        "        # calculate test accuracy for each object class\n",
        "        for i in range(len(target.data)):\n",
        "            label = target.data[i]\n",
        "            class_correct[label] += correct[i].item()\n",
        "            class_total[label] += 1\n",
        "        \n",
        "        # Will be used for calculating Recall, Precision, and F1-score\n",
        "        labels.extend(target.data.view_as(pred).tolist())\n",
        "        predictions.extend(pred.tolist())\n",
        "\n",
        "\n",
        "    # calculate avg test loss\n",
        "    test_loss = test_loss / len(test_loader.dataset)\n",
        "    print('Test Loss: {:.6f}\\n'.format(test_loss))\n",
        "\n",
        "    return test_loss, class_correct, class_total, labels, predictions"
      ],
      "execution_count": 6,
      "outputs": []
    },
    {
      "cell_type": "markdown",
      "metadata": {
        "id": "xHh3PXE80Asa"
      },
      "source": [
        "Check whether CUDA is available (Change runtime type if not)"
      ]
    },
    {
      "cell_type": "code",
      "metadata": {
        "colab": {
          "base_uri": "https://localhost:8080/"
        },
        "id": "Q9TYPQH7x4zw",
        "outputId": "180fa6dc-c438-4986-a7c8-afa3f8225d50"
      },
      "source": [
        "if not train_on_gpu:\n",
        "    print('CUDA is not available.  Training on CPU ...')\n",
        "else:\n",
        "    print('CUDA is available!  Training on GPU ...')"
      ],
      "execution_count": 7,
      "outputs": [
        {
          "output_type": "stream",
          "name": "stdout",
          "text": [
            "CUDA is available!  Training on GPU ...\n"
          ]
        }
      ]
    },
    {
      "cell_type": "markdown",
      "metadata": {
        "id": "6lYw8EKVx8Q7"
      },
      "source": [
        "Load Hieroglyph Data"
      ]
    },
    {
      "cell_type": "code",
      "metadata": {
        "colab": {
          "base_uri": "https://localhost:8080/"
        },
        "id": "laLvoRy1yewl",
        "outputId": "7453a58d-ce76-4560-fb02-9c0367a19e4d"
      },
      "source": [
        "# Connecting and Mounting to the Google Drive\n",
        "from google.colab import drive\n",
        "drive.mount('/content/drive')"
      ],
      "execution_count": 8,
      "outputs": [
        {
          "output_type": "stream",
          "name": "stdout",
          "text": [
            "Mounted at /content/drive\n"
          ]
        }
      ]
    },
    {
      "cell_type": "code",
      "metadata": {
        "id": "odaoZt9GyfUt"
      },
      "source": [
        "data_dir = '/content/drive/MyDrive/EgyptianHieroglyphDataset_Original_Clean/'"
      ],
      "execution_count": 9,
      "outputs": []
    },
    {
      "cell_type": "code",
      "metadata": {
        "colab": {
          "base_uri": "https://localhost:8080/"
        },
        "id": "dF22MAnmyiC1",
        "outputId": "f159046b-d4b4-4d05-f14c-699b660abd5a"
      },
      "source": [
        "hieroglyph_for_train = []\n",
        "file_count_list = []\n",
        "\n",
        "for name in os.listdir('/content/drive/MyDrive/EgyptianHieroglyphDataset_Original_Clean/train/'):\n",
        "  path, dirs, files = next(os.walk(\"/content/drive/MyDrive/EgyptianHieroglyphDataset_Original_Clean/train/\"+name))\n",
        "  file_count = len(files)\n",
        "  print(name, file_count)\n",
        "  file_count_list.append(file_count)\n",
        "  hieroglyph_for_train.append(name)\n",
        "\n",
        "hieroglyph_dict = dict(zip(hieroglyph_for_train, file_count_list))"
      ],
      "execution_count": 10,
      "outputs": [
        {
          "output_type": "stream",
          "name": "stdout",
          "text": [
            "Y5 6\n",
            "I9 116\n",
            "O34 15\n",
            "V13 63\n",
            "U7 3\n",
            "D46 40\n",
            "E34 97\n",
            "G1 28\n",
            "V31 106\n",
            "S34 8\n",
            "D36 47\n",
            "Q1 13\n",
            "V30 6\n",
            "F35 2\n",
            "O4 11\n",
            "M23 30\n",
            "S29 212\n",
            "R8 53\n",
            "W11 4\n",
            "X1 185\n",
            "Y1 1\n",
            "D21 146\n",
            "D2 19\n",
            "E23 8\n",
            "X8 4\n",
            "Z1 39\n",
            "D4 29\n",
            "V28 28\n",
            "I10 32\n",
            "O1 16\n",
            "M17 291\n",
            "F31 6\n",
            "G43 157\n",
            "D58 28\n",
            "O49 10\n",
            "G17 156\n",
            "R4 2\n",
            "Q3 61\n",
            "W24 31\n",
            "N35 358\n"
          ]
        }
      ]
    },
    {
      "cell_type": "markdown",
      "metadata": {
        "id": "XeQQ7PjZzKd9"
      },
      "source": [
        "Number of images for each hieroglyph "
      ]
    },
    {
      "cell_type": "code",
      "metadata": {
        "colab": {
          "base_uri": "https://localhost:8080/",
          "height": 609
        },
        "id": "W6IzWR2RyjxM",
        "outputId": "4a12d509-0ba4-4500-a785-8d7ccc22865c"
      },
      "source": [
        "import matplotlib.pyplot as plt\n",
        "import pandas as pd\n",
        "\n",
        "df = pd.DataFrame({\"Hieroglyph\":hieroglyph_for_train, \"Count\":file_count_list})\n",
        "\n",
        "df_sorted= df.sort_values('Count',ascending=False)\n",
        "\n",
        "plt.figure(figsize=(20,10))\n",
        "# make bar plot with matplotlib\n",
        "plt.bar('Hieroglyph', 'Count',data=df_sorted)"
      ],
      "execution_count": 11,
      "outputs": [
        {
          "output_type": "execute_result",
          "data": {
            "text/plain": [
              "<BarContainer object of 40 artists>"
            ]
          },
          "metadata": {},
          "execution_count": 11
        },
        {
          "output_type": "display_data",
          "data": {
            "image/png": "[encoded data removed]",
            "text/plain": [
              "<Figure size 1440x720 with 1 Axes>"
            ]
          },
          "metadata": {
            "needs_background": "light"
          }
        }
      ]
    },
    {
      "cell_type": "code",
      "metadata": {
        "id": "-3oOm8rSx7tp"
      },
      "source": [
        "# Number of images processed in a single training\n",
        "batch_size = 20\n",
        "num_workers = 0\n",
        "\n",
        "# The load_data function is from hieroglyph_data_preparation python file\n",
        "train_loader, test_loader, classes = load_data(data_dir)"
      ],
      "execution_count": 12,
      "outputs": []
    },
    {
      "cell_type": "markdown",
      "metadata": {
        "id": "BJm8sGiBx_q5"
      },
      "source": [
        "ResNet Model"
      ]
    },
    {
      "cell_type": "code",
      "metadata": {
        "id": "JkLXVJGkxemC",
        "colab": {
          "base_uri": "https://localhost:8080/",
          "height": 66,
          "referenced_widgets": [
            "6adbb11201a048d88ce4666084b33df9",
            "e8111eef5a384f74a915b7365d43e867",
            "5889d92cd4ce40f1a184b9a108193b10",
            "d2c291063eb842cca3882121b9b09d3d",
            "4fae532ef2ef49abbcd6497fa0b825ca",
            "486ed8aa3091400eaf3177685e10d845",
            "500001b9942740159b83d1260d6cdf06",
            "8e31944b9eeb4f82adf07b8a5e597781",
            "e99440400e82425a92d64a808e346913",
            "893a6e18e2604a9e8316f37bcc3e5afb",
            "dccc92acd350479783e1e235b0eeda15"
          ]
        },
        "outputId": "20e8a566-4291-4416-ac33-ab7c2c239151"
      },
      "source": [
        "# Whether to extract features with the model\n",
        "feature_extract = False\n",
        "# Other selections\n",
        "loss_function = \"cross-entropy\"\n",
        "model_selection = \"resnet-50\"\n",
        "optim_selection = \"Adam\"\n",
        "\n",
        "# False if you want scratch model, True if you want pretrained model\n",
        "whether_to_pretrain = True\n",
        "\n",
        "# Load the model\n",
        "if model_selection == \"resnet-50\":\n",
        "    resnet50 = models.resnet50(pretrained=whether_to_pretrain)\n",
        "    # Number of features in the last layer of resnet\n",
        "    n_inputs = resnet50.fc.in_features\n",
        "    # Add last linear layer (n_inputs -> 40 hieroglyph classes)\n",
        "    last_layer = nn.Sequential(\n",
        "                    nn.Linear(n_inputs, len(classes)))\n",
        "    resnet50.fc = last_layer\n",
        "    if train_on_gpu:\n",
        "      resnet50.cuda()\n",
        "    # Specify optimizer (Adam) and learning rate = 0.001\n",
        "    if optim_selection == \"Adam\":\n",
        "        optimizer = optim.Adam(resnet50.parameters(), lr=0.001)\n",
        "\n",
        "elif model_selection == \"inception-v3\":\n",
        "    inception_v3 = models.inception_v3(pretrained=whether_to_pretrain)\n",
        "    # Number of features in the last layer of resnet\n",
        "    n_inputs = inception_v3.fc.in_features\n",
        "    # Add last linear layer (n_inputs -> 40 hieroglyph classes)\n",
        "    last_layer = nn.Sequential(\n",
        "                    nn.Linear(n_inputs, len(classes)))\n",
        "    inception_v3.fc = last_layer\n",
        "    if train_on_gpu:\n",
        "      inception_v3.cuda()\n",
        "    # Specify optimizer (Adam) and learning rate = 0.001\n",
        "    if optim_selection == \"Adam\":\n",
        "        optimizer = optim.Adam(inception_v3.parameters(), lr=0.001)\n",
        "\n",
        "elif model_selection == \"xception\":\n",
        "    xception = timm.create_model('xception', pretrained=whether_to_pretrain)\n",
        "    # Number of features in the last layer of resnet\n",
        "    n_inputs = xception.fc.in_features\n",
        "    # Add last linear layer (n_inputs -> 40 hieroglyph classes)\n",
        "    last_layer = nn.Sequential(\n",
        "                    nn.Linear(n_inputs, len(classes)))\n",
        "    xception.fc = last_layer\n",
        "    if train_on_gpu:\n",
        "      xception.cuda()\n",
        "    # Specify optimizer (Adam) and learning rate = 0.001\n",
        "    if optim_selection == \"Adam\":\n",
        "        optimizer = optim.Adam(xception.parameters(), lr=0.001)\n",
        "\n",
        "# Specify loss function (categorical cross-entropy)\n",
        "if loss_function == \"cross-entropy\":\n",
        "    criterion = nn.CrossEntropyLoss()\n",
        "\n",
        "# Exponential Decay to strengthen learning\n",
        "decayRate = 0.999\n",
        "my_lr_scheduler = torch.optim.lr_scheduler.ExponentialLR(optimizer=optimizer, gamma=decayRate)"
      ],
      "execution_count": 13,
      "outputs": [
        {
          "output_type": "stream",
          "name": "stderr",
          "text": [
            "Downloading: \"https://download.pytorch.org/models/resnet50-0676ba61.pth\" to /root/.cache/torch/hub/checkpoints/resnet50-0676ba61.pth\n"
          ]
        },
        {
          "output_type": "display_data",
          "data": {
            "application/vnd.jupyter.widget-view+json": {
              "model_id": "6adbb11201a048d88ce4666084b33df9",
              "version_minor": 0,
              "version_major": 2
            },
            "text/plain": [
              "  0%|          | 0.00/97.8M [00:00<?, ?B/s]"
            ]
          },
          "metadata": {}
        }
      ]
    },
    {
      "cell_type": "markdown",
      "metadata": {
        "id": "U2vnErB1yHmM"
      },
      "source": [
        "Training the model"
      ]
    },
    {
      "cell_type": "code",
      "metadata": {
        "colab": {
          "base_uri": "https://localhost:8080/"
        },
        "id": "dOB03noWyEvQ",
        "outputId": "c954e908-c6c2-4cc8-f85d-8d21158e2d6d"
      },
      "source": [
        "# number of epochs to train the model\n",
        "n_epochs = 50\n",
        "\n",
        "if model_selection == \"resnet-50\":\n",
        "  # The train_model function is from model_training python file\n",
        "  resnet50, train_losses = train_model(train_loader, optimizer, resnet50, criterion, my_lr_scheduler, n_epochs)\n",
        "elif model_selection == \"inception-v3\":\n",
        "  # The train_model function is from model_training python file\n",
        "  inception_v3, train_losses = train_model(train_loader, optimizer, inception_v3, criterion, my_lr_scheduler, n_epochs)\n",
        "elif model_selection == \"xception\":\n",
        "  # The train_model function is from model_training python file\n",
        "  xception, train_losses = train_model(train_loader, optimizer, xception, criterion, my_lr_scheduler, n_epochs)"
      ],
      "execution_count": 14,
      "outputs": [
        {
          "output_type": "stream",
          "name": "stdout",
          "text": [
            "Epoch 1, Batch 20 loss: 2.8019918739795684\n",
            "Epoch 1, Batch 40 loss: 2.1274851799011230\n",
            "Epoch 1, Batch 60 loss: 2.0117546468973160\n",
            "Epoch 1, Batch 80 loss: 1.5087562024593353\n",
            "Epoch 1, Batch 100 loss: 1.5514337003231049\n",
            "Epoch 1, Batch 120 loss: 1.4384903609752655\n",
            "Epoch 2, Batch 20 loss: 1.0609414547681808\n",
            "Epoch 2, Batch 40 loss: 1.2127022355794908\n",
            "Epoch 2, Batch 60 loss: 0.7298448517918587\n",
            "Epoch 2, Batch 80 loss: 0.7548049092292786\n",
            "Epoch 2, Batch 100 loss: 0.8170166760683060\n",
            "Epoch 2, Batch 120 loss: 0.7861224159598350\n",
            "Epoch 3, Batch 20 loss: 0.8223064333200455\n",
            "Epoch 3, Batch 40 loss: 0.5222859807312489\n",
            "Epoch 3, Batch 60 loss: 0.6130046539008618\n",
            "Epoch 3, Batch 80 loss: 0.6421789765357971\n",
            "Epoch 3, Batch 100 loss: 0.6443812660872936\n",
            "Epoch 3, Batch 120 loss: 0.6359027326107025\n",
            "Epoch 4, Batch 20 loss: 0.5717743828892707\n",
            "Epoch 4, Batch 40 loss: 0.4130980569869280\n",
            "Epoch 4, Batch 60 loss: 0.4248922739177942\n",
            "Epoch 4, Batch 80 loss: 0.3893879994750023\n",
            "Epoch 4, Batch 100 loss: 0.4620786190032959\n",
            "Epoch 4, Batch 120 loss: 0.4924586005508900\n",
            "Epoch 5, Batch 20 loss: 0.3996511578559875\n",
            "Epoch 5, Batch 40 loss: 0.3435729395598173\n",
            "Epoch 5, Batch 60 loss: 0.4661633893847466\n",
            "Epoch 5, Batch 80 loss: 0.3548816978931427\n",
            "Epoch 5, Batch 100 loss: 0.3811980165541172\n",
            "Epoch 5, Batch 120 loss: 0.4055957723408937\n",
            "Epoch 6, Batch 20 loss: 0.3334624484181404\n",
            "Epoch 6, Batch 40 loss: 0.3449937377125025\n",
            "Epoch 6, Batch 60 loss: 0.4069805584847927\n",
            "Epoch 6, Batch 80 loss: 0.2355273742228746\n",
            "Epoch 6, Batch 100 loss: 0.3304102975875139\n",
            "Epoch 6, Batch 120 loss: 0.2769408207386732\n",
            "Epoch 7, Batch 20 loss: 0.2726815279573202\n",
            "Epoch 7, Batch 40 loss: 0.2126841139048338\n",
            "Epoch 7, Batch 60 loss: 0.2657215002924204\n",
            "Epoch 7, Batch 80 loss: 0.2443312881514430\n",
            "Epoch 7, Batch 100 loss: 0.2500677645206452\n",
            "Epoch 7, Batch 120 loss: 0.2831508072093129\n",
            "Epoch 8, Batch 20 loss: 0.2589696779847145\n",
            "Epoch 8, Batch 40 loss: 0.1951326128095388\n",
            "Epoch 8, Batch 60 loss: 0.1802555311471224\n",
            "Epoch 8, Batch 80 loss: 0.2059322997927666\n",
            "Epoch 8, Batch 100 loss: 0.2618596789427102\n",
            "Epoch 8, Batch 120 loss: 0.2118934610858560\n",
            "Epoch 9, Batch 20 loss: 0.1499806851148605\n",
            "Epoch 9, Batch 40 loss: 0.2139951182994992\n",
            "Epoch 9, Batch 60 loss: 0.2092981729656458\n",
            "Epoch 9, Batch 80 loss: 0.1476847289130092\n",
            "Epoch 9, Batch 100 loss: 0.1218520976603031\n",
            "Epoch 9, Batch 120 loss: 0.1292656467761844\n",
            "Epoch 10, Batch 20 loss: 0.1421510489657521\n",
            "Epoch 10, Batch 40 loss: 0.1812781703658402\n",
            "Epoch 10, Batch 60 loss: 0.1631239955313504\n",
            "Epoch 10, Batch 80 loss: 0.1757923290133476\n",
            "Epoch 10, Batch 100 loss: 0.1941647931002080\n",
            "Epoch 10, Batch 120 loss: 0.1388082800433040\n",
            "Epoch 11, Batch 20 loss: 0.1402136509306729\n",
            "Epoch 11, Batch 40 loss: 0.1309842409100384\n",
            "Epoch 11, Batch 60 loss: 0.0657714392989874\n",
            "Epoch 11, Batch 80 loss: 0.1081954537658021\n",
            "Epoch 11, Batch 100 loss: 0.1094997234176844\n",
            "Epoch 11, Batch 120 loss: 0.1486099506728351\n",
            "Epoch 12, Batch 20 loss: 0.1046355541795492\n",
            "Epoch 12, Batch 40 loss: 0.1446026289835572\n",
            "Epoch 12, Batch 60 loss: 0.0877091684844345\n",
            "Epoch 12, Batch 80 loss: 0.1177992751472630\n",
            "Epoch 12, Batch 100 loss: 0.1254458529874682\n",
            "Epoch 12, Batch 120 loss: 0.0847222346812487\n",
            "Epoch 13, Batch 20 loss: 0.1112417868338525\n",
            "Epoch 13, Batch 40 loss: 0.1525475714355707\n",
            "Epoch 13, Batch 60 loss: 0.1176096470560879\n",
            "Epoch 13, Batch 80 loss: 0.1255721061024815\n",
            "Epoch 13, Batch 100 loss: 0.0830739575438201\n",
            "Epoch 13, Batch 120 loss: 0.1139521217439324\n",
            "Epoch 14, Batch 20 loss: 0.0726275375578553\n",
            "Epoch 14, Batch 40 loss: 0.0646119096316397\n",
            "Epoch 14, Batch 60 loss: 0.1168455515988171\n",
            "Epoch 14, Batch 80 loss: 0.0731064038118348\n",
            "Epoch 14, Batch 100 loss: 0.0888116328045726\n",
            "Epoch 14, Batch 120 loss: 0.0496630184119567\n",
            "Epoch 15, Batch 20 loss: 0.0845014344726223\n",
            "Epoch 15, Batch 40 loss: 0.0722141992300749\n",
            "Epoch 15, Batch 60 loss: 0.0458153805346228\n",
            "Epoch 15, Batch 80 loss: 0.0573184275534004\n",
            "Epoch 15, Batch 100 loss: 0.0824897211743519\n",
            "Epoch 15, Batch 120 loss: 0.0661641455721110\n",
            "Epoch 16, Batch 20 loss: 0.0795449080993421\n",
            "Epoch 16, Batch 40 loss: 0.0562384058721364\n",
            "Epoch 16, Batch 60 loss: 0.0561011200305074\n",
            "Epoch 16, Batch 80 loss: 0.0677446097950451\n",
            "Epoch 16, Batch 100 loss: 0.0579973860352766\n",
            "Epoch 16, Batch 120 loss: 0.0373846538248472\n",
            "Epoch 17, Batch 20 loss: 0.0421256794128567\n",
            "Epoch 17, Batch 40 loss: 0.0355763489729725\n",
            "Epoch 17, Batch 60 loss: 0.0717448896262795\n",
            "Epoch 17, Batch 80 loss: 0.0642622971558012\n",
            "Epoch 17, Batch 100 loss: 0.0524373445194215\n",
            "Epoch 17, Batch 120 loss: 0.0613369693746790\n",
            "Epoch 18, Batch 20 loss: 0.0381608311261516\n",
            "Epoch 18, Batch 40 loss: 0.0709422662737779\n",
            "Epoch 18, Batch 60 loss: 0.0322408303734846\n",
            "Epoch 18, Batch 80 loss: 0.0456493323319592\n",
            "Epoch 18, Batch 100 loss: 0.0316029087756760\n",
            "Epoch 18, Batch 120 loss: 0.0598214688303415\n",
            "Epoch 19, Batch 20 loss: 0.0787443998968229\n",
            "Epoch 19, Batch 40 loss: 0.0198188403097447\n",
            "Epoch 19, Batch 60 loss: 0.0600694046996068\n",
            "Epoch 19, Batch 80 loss: 0.1142312313313596\n",
            "Epoch 19, Batch 100 loss: 0.0419541621027747\n",
            "Epoch 19, Batch 120 loss: 0.0498009470233228\n",
            "Epoch 20, Batch 20 loss: 0.0475806733127683\n",
            "Epoch 20, Batch 40 loss: 0.0621494551771320\n",
            "Epoch 20, Batch 60 loss: 0.0942448114859872\n",
            "Epoch 20, Batch 80 loss: 0.0389248303021304\n",
            "Epoch 20, Batch 100 loss: 0.0587395034381188\n",
            "Epoch 20, Batch 120 loss: 0.0438321959285531\n",
            "Epoch 21, Batch 20 loss: 0.0577020952710882\n",
            "Epoch 21, Batch 40 loss: 0.0445205807103775\n",
            "Epoch 21, Batch 60 loss: 0.0513275510165840\n",
            "Epoch 21, Batch 80 loss: 0.0396579191146884\n",
            "Epoch 21, Batch 100 loss: 0.0571345585747622\n",
            "Epoch 21, Batch 120 loss: 0.0435165558592416\n",
            "Epoch 22, Batch 20 loss: 0.0376391365891322\n",
            "Epoch 22, Batch 40 loss: 0.0737159795593470\n",
            "Epoch 22, Batch 60 loss: 0.0420686595782172\n",
            "Epoch 22, Batch 80 loss: 0.0448168692819308\n",
            "Epoch 22, Batch 100 loss: 0.0493230343388859\n",
            "Epoch 22, Batch 120 loss: 0.0261755992600229\n",
            "Epoch 23, Batch 20 loss: 0.0410842407669406\n",
            "Epoch 23, Batch 40 loss: 0.0432929820264690\n",
            "Epoch 23, Batch 60 loss: 0.0215359294088557\n",
            "Epoch 23, Batch 80 loss: 0.0373265845351852\n",
            "Epoch 23, Batch 100 loss: 0.0349136465752963\n",
            "Epoch 23, Batch 120 loss: 0.0391390406730352\n",
            "Epoch 24, Batch 20 loss: 0.0487037066952325\n",
            "Epoch 24, Batch 40 loss: 0.0127424161124509\n",
            "Epoch 24, Batch 60 loss: 0.0167721969832201\n",
            "Epoch 24, Batch 80 loss: 0.0346258181380108\n",
            "Epoch 24, Batch 100 loss: 0.0602489210315980\n",
            "Epoch 24, Batch 120 loss: 0.0526100743038114\n",
            "Epoch 25, Batch 20 loss: 0.0469613172434038\n",
            "Epoch 25, Batch 40 loss: 0.0455641675391234\n",
            "Epoch 25, Batch 60 loss: 0.0491010272351559\n",
            "Epoch 25, Batch 80 loss: 0.0249837180017494\n",
            "Epoch 25, Batch 100 loss: 0.0142301185056567\n",
            "Epoch 25, Batch 120 loss: 0.0266699326457456\n",
            "Epoch 26, Batch 20 loss: 0.0365113375271903\n",
            "Epoch 26, Batch 40 loss: 0.0372308564663399\n",
            "Epoch 26, Batch 60 loss: 0.0356019847677089\n",
            "Epoch 26, Batch 80 loss: 0.0248608629801311\n",
            "Epoch 26, Batch 100 loss: 0.0227933403744828\n",
            "Epoch 26, Batch 120 loss: 0.0250983283738606\n",
            "Epoch 27, Batch 20 loss: 0.0369840677944012\n",
            "Epoch 27, Batch 40 loss: 0.0471523582236841\n",
            "Epoch 27, Batch 60 loss: 0.0212979649659246\n",
            "Epoch 27, Batch 80 loss: 0.0257650623971131\n",
            "Epoch 27, Batch 100 loss: 0.0301511436176952\n",
            "Epoch 27, Batch 120 loss: 0.0325487831141800\n",
            "Epoch 28, Batch 20 loss: 0.0353193550283322\n",
            "Epoch 28, Batch 40 loss: 0.0167878688720521\n",
            "Epoch 28, Batch 60 loss: 0.0200978223234415\n",
            "Epoch 28, Batch 80 loss: 0.0313609412929509\n",
            "Epoch 28, Batch 100 loss: 0.0301379049138632\n",
            "Epoch 28, Batch 120 loss: 0.0399254573683720\n",
            "Epoch 29, Batch 20 loss: 0.0240666615252849\n",
            "Epoch 29, Batch 40 loss: 0.0394550010969397\n",
            "Epoch 29, Batch 60 loss: 0.0479260879335925\n",
            "Epoch 29, Batch 80 loss: 0.0176778608205495\n",
            "Epoch 29, Batch 100 loss: 0.0169901570247021\n",
            "Epoch 29, Batch 120 loss: 0.0280342521495186\n",
            "Epoch 30, Batch 20 loss: 0.0157976263668388\n",
            "Epoch 30, Batch 40 loss: 0.0135064478090499\n",
            "Epoch 30, Batch 60 loss: 0.0193839713116176\n",
            "Epoch 30, Batch 80 loss: 0.0312146919459337\n",
            "Epoch 30, Batch 100 loss: 0.0154545113386121\n",
            "Epoch 30, Batch 120 loss: 0.0156476749223657\n",
            "Epoch 31, Batch 20 loss: 0.0185712473001331\n",
            "Epoch 31, Batch 40 loss: 0.0233558808628004\n",
            "Epoch 31, Batch 60 loss: 0.0268624910386279\n",
            "Epoch 31, Batch 80 loss: 0.0321329785452690\n",
            "Epoch 31, Batch 100 loss: 0.0385516808484681\n",
            "Epoch 31, Batch 120 loss: 0.0265888121328317\n",
            "Epoch 32, Batch 20 loss: 0.0286353792092996\n",
            "Epoch 32, Batch 40 loss: 0.0177831071778201\n",
            "Epoch 32, Batch 60 loss: 0.0342721024993807\n",
            "Epoch 32, Batch 80 loss: 0.0223034600116080\n",
            "Epoch 32, Batch 100 loss: 0.0120633387385169\n",
            "Epoch 32, Batch 120 loss: 0.0068734840315301\n",
            "Epoch 33, Batch 20 loss: 0.0202691645186860\n",
            "Epoch 33, Batch 40 loss: 0.0137322657072218\n",
            "Epoch 33, Batch 60 loss: 0.0248467428056756\n",
            "Epoch 33, Batch 80 loss: 0.0439352215209510\n",
            "Epoch 33, Batch 100 loss: 0.0238493759126868\n",
            "Epoch 33, Batch 120 loss: 0.0239961337589193\n",
            "Epoch 34, Batch 20 loss: 0.0052824857877567\n",
            "Epoch 34, Batch 40 loss: 0.0459018254681723\n",
            "Epoch 34, Batch 60 loss: 0.0291504840599373\n",
            "Epoch 34, Batch 80 loss: 0.0104364627943141\n",
            "Epoch 34, Batch 100 loss: 0.0180176127643790\n",
            "Epoch 34, Batch 120 loss: 0.0094674125517486\n",
            "Epoch 35, Batch 20 loss: 0.0119876012264285\n",
            "Epoch 35, Batch 40 loss: 0.0479128354869317\n",
            "Epoch 35, Batch 60 loss: 0.0362802578689298\n",
            "Epoch 35, Batch 80 loss: 0.0310130523168482\n",
            "Epoch 35, Batch 100 loss: 0.0213043050811393\n",
            "Epoch 35, Batch 120 loss: 0.0172556059958879\n",
            "Epoch 36, Batch 20 loss: 0.0126574428781169\n",
            "Epoch 36, Batch 40 loss: 0.0162780046259286\n",
            "Epoch 36, Batch 60 loss: 0.0195161577226827\n",
            "Epoch 36, Batch 80 loss: 0.0322916610835819\n",
            "Epoch 36, Batch 100 loss: 0.0224321859655902\n",
            "Epoch 36, Batch 120 loss: 0.0303137509195949\n",
            "Epoch 37, Batch 20 loss: 0.0284015554992948\n",
            "Epoch 37, Batch 40 loss: 0.0206699899572413\n",
            "Epoch 37, Batch 60 loss: 0.0160124681642628\n",
            "Epoch 37, Batch 80 loss: 0.0327007405518088\n",
            "Epoch 37, Batch 100 loss: 0.0275335556943901\n",
            "Epoch 37, Batch 120 loss: 0.0236986441945191\n",
            "Epoch 38, Batch 20 loss: 0.0298987980757374\n",
            "Epoch 38, Batch 40 loss: 0.0124581855750876\n",
            "Epoch 38, Batch 60 loss: 0.0360597915714607\n",
            "Epoch 38, Batch 80 loss: 0.0126998316147365\n",
            "Epoch 38, Batch 100 loss: 0.0110809577075997\n",
            "Epoch 38, Batch 120 loss: 0.0174099294526968\n",
            "Epoch 39, Batch 20 loss: 0.0254704242252046\n",
            "Epoch 39, Batch 40 loss: 0.0289029954292346\n",
            "Epoch 39, Batch 60 loss: 0.0248075421026442\n",
            "Epoch 39, Batch 80 loss: 0.0094711822108366\n",
            "Epoch 39, Batch 100 loss: 0.0292545228847302\n",
            "Epoch 39, Batch 120 loss: 0.0256924370987690\n",
            "Epoch 40, Batch 20 loss: 0.0303540561406407\n",
            "Epoch 40, Batch 40 loss: 0.0210074492206331\n",
            "Epoch 40, Batch 60 loss: 0.0103502272701007\n",
            "Epoch 40, Batch 80 loss: 0.0196052613697248\n",
            "Epoch 40, Batch 100 loss: 0.0478169781155884\n",
            "Epoch 40, Batch 120 loss: 0.0304969670105493\n",
            "Epoch 41, Batch 20 loss: 0.0189259255756042\n",
            "Epoch 41, Batch 40 loss: 0.0305649789690506\n",
            "Epoch 41, Batch 60 loss: 0.0189916850998998\n",
            "Epoch 41, Batch 80 loss: 0.0184825303032994\n",
            "Epoch 41, Batch 100 loss: 0.0181695277395193\n",
            "Epoch 41, Batch 120 loss: 0.0098974046588410\n",
            "Epoch 42, Batch 20 loss: 0.0188215853850124\n",
            "Epoch 42, Batch 40 loss: 0.0388370032917010\n",
            "Epoch 42, Batch 60 loss: 0.0318064715276705\n",
            "Epoch 42, Batch 80 loss: 0.0342273725196719\n",
            "Epoch 42, Batch 100 loss: 0.0073571645014454\n",
            "Epoch 42, Batch 120 loss: 0.0209677301085321\n",
            "Epoch 43, Batch 20 loss: 0.0440735916432459\n",
            "Epoch 43, Batch 40 loss: 0.0326587049930822\n",
            "Epoch 43, Batch 60 loss: 0.0084533531655325\n",
            "Epoch 43, Batch 80 loss: 0.0225945864425739\n",
            "Epoch 43, Batch 100 loss: 0.0093526792741613\n",
            "Epoch 43, Batch 120 loss: 0.0245448696136009\n",
            "Epoch 44, Batch 20 loss: 0.0162056721688714\n",
            "Epoch 44, Batch 40 loss: 0.0185182621047716\n",
            "Epoch 44, Batch 60 loss: 0.0433131798781687\n",
            "Epoch 44, Batch 80 loss: 0.0209871230210410\n",
            "Epoch 44, Batch 100 loss: 0.0148164776328485\n",
            "Epoch 44, Batch 120 loss: 0.0273506497076596\n",
            "Epoch 45, Batch 20 loss: 0.0186453038128093\n",
            "Epoch 45, Batch 40 loss: 0.0095747840183321\n",
            "Epoch 45, Batch 60 loss: 0.0273874148406321\n",
            "Epoch 45, Batch 80 loss: 0.0199476969108218\n",
            "Epoch 45, Batch 100 loss: 0.0196747818321455\n",
            "Epoch 45, Batch 120 loss: 0.0062204015936004\n",
            "Epoch 46, Batch 20 loss: 0.0165421761164907\n",
            "Epoch 46, Batch 40 loss: 0.0274752679062658\n",
            "Epoch 46, Batch 60 loss: 0.0265943494945532\n",
            "Epoch 46, Batch 80 loss: 0.0214896340330597\n",
            "Epoch 46, Batch 100 loss: 0.0215858920942992\n",
            "Epoch 46, Batch 120 loss: 0.0358427738334285\n",
            "Epoch 47, Batch 20 loss: 0.0186409264802933\n",
            "Epoch 47, Batch 40 loss: 0.0139147890346067\n",
            "Epoch 47, Batch 60 loss: 0.0226762769874767\n",
            "Epoch 47, Batch 80 loss: 0.0118556218629237\n",
            "Epoch 47, Batch 100 loss: 0.0494496405823156\n",
            "Epoch 47, Batch 120 loss: 0.0451443184138043\n",
            "Epoch 48, Batch 20 loss: 0.0088725952198729\n",
            "Epoch 48, Batch 40 loss: 0.0103173773110029\n",
            "Epoch 48, Batch 60 loss: 0.0270888910599751\n",
            "Epoch 48, Batch 80 loss: 0.0029006129450863\n",
            "Epoch 48, Batch 100 loss: 0.0196539732773090\n",
            "Epoch 48, Batch 120 loss: 0.0235520793095930\n",
            "Epoch 49, Batch 20 loss: 0.0275992631097324\n",
            "Epoch 49, Batch 40 loss: 0.0093759901443264\n",
            "Epoch 49, Batch 60 loss: 0.0360187168611446\n",
            "Epoch 49, Batch 80 loss: 0.0145179722079774\n",
            "Epoch 49, Batch 100 loss: 0.0185682087496389\n",
            "Epoch 49, Batch 120 loss: 0.0116421937535051\n",
            "Epoch 50, Batch 20 loss: 0.0218726399936713\n",
            "Epoch 50, Batch 40 loss: 0.0240420474277926\n",
            "Epoch 50, Batch 60 loss: 0.0213576100024511\n",
            "Epoch 50, Batch 80 loss: 0.0229841675696662\n",
            "Epoch 50, Batch 100 loss: 0.0275742450729012\n",
            "Epoch 50, Batch 120 loss: 0.0192411148440442\n"
          ]
        }
      ]
    },
    {
      "cell_type": "code",
      "metadata": {
        "id": "CfA7ZjLR1BZP",
        "colab": {
          "base_uri": "https://localhost:8080/",
          "height": 281
        },
        "outputId": "7298e09b-03e5-42c4-8c47-86f7e6beda89"
      },
      "source": [
        "plt.plot(train_losses)\n",
        "plt.title(\"Training Loss\")\n",
        "plt.show()"
      ],
      "execution_count": 15,
      "outputs": [
        {
          "output_type": "display_data",
          "data": {
            "image/png": "[encoded data removed]",
            "text/plain": [
              "<Figure size 432x288 with 1 Axes>"
            ]
          },
          "metadata": {
            "needs_background": "light"
          }
        }
      ]
    },
    {
      "cell_type": "markdown",
      "metadata": {
        "id": "ItLyF9dQyJFL"
      },
      "source": [
        "Testing the model"
      ]
    },
    {
      "cell_type": "code",
      "metadata": {
        "id": "gGki98W3SoEW"
      },
      "source": [
        "from sklearn.metrics import precision_score, recall_score, f1_score, accuracy_score"
      ],
      "execution_count": 16,
      "outputs": []
    },
    {
      "cell_type": "code",
      "metadata": {
        "id": "xNavYOynyE6d",
        "colab": {
          "base_uri": "https://localhost:8080/"
        },
        "outputId": "493fcae1-e3cd-4991-d08c-aeab3d19d21f"
      },
      "source": [
        "# The test_model function is from model_testing python file\n",
        "test_loss, class_correct, class_total, labels, predictions = test_model(classes, resnet50, test_loader, criterion)\n",
        "\n",
        "# Test accuracy for each hieroglyph\n",
        "for i in range(len(classes)):\n",
        "    if class_total[i] > 0:\n",
        "        print('Test Accuracy of %5s: %2d%% (%2d/%2d)' % (classes[i], 100 * class_correct[i] / class_total[i], np.sum(class_correct[i]), np.sum(class_total[i])))\n",
        "    else:\n",
        "        print('Test Accuracy of %5s: N/A (no training examples)' % (classes[i]))\n",
        "\n",
        "# Total Test accuracy\n",
        "print(\"\\nAccuracy: {:.3%}\".format(accuracy_score(labels, predictions)))\n",
        "print(\"\\nPrecision: {:.3%}\".format(precision_score(labels, predictions, average = 'weighted')))\n",
        "print(\"\\nRecall: {:.3%}\".format(recall_score(labels, predictions, average = 'weighted')))\n",
        "print(\"\\nF1-score: {:.3%}\".format(f1_score(labels, predictions, average = 'weighted')))"
      ],
      "execution_count": 18,
      "outputs": [
        {
          "output_type": "stream",
          "name": "stdout",
          "text": [
            "Test Loss: 0.074739\n",
            "\n",
            "Test Accuracy of    D2: 100% (19/19)\n",
            "Test Accuracy of   D21: 100% (12/12)\n",
            "Test Accuracy of   D36: 100% (19/19)\n",
            "Test Accuracy of    D4: 100% (15/15)\n",
            "Test Accuracy of   D46: 100% (19/19)\n",
            "Test Accuracy of   D58: 100% (13/13)\n",
            "Test Accuracy of   E23: 60% ( 6/10)\n",
            "Test Accuracy of   E34: 100% (18/18)\n",
            "Test Accuracy of   F31: 100% ( 8/ 8)\n",
            "Test Accuracy of   F35: 100% (11/11)\n",
            "Test Accuracy of    G1: 100% (17/17)\n",
            "Test Accuracy of   G17: 100% (25/25)\n",
            "Test Accuracy of   G43: 95% (19/20)\n",
            "Test Accuracy of   I10: 100% (14/14)\n",
            "Test Accuracy of    I9: 100% ( 8/ 8)\n",
            "Test Accuracy of   M17: 100% ( 9/ 9)\n",
            "Test Accuracy of   M23: 100% (18/18)\n",
            "Test Accuracy of   N35: 100% (18/18)\n",
            "Test Accuracy of    O1: 100% (14/14)\n",
            "Test Accuracy of   O34: 93% (15/16)\n",
            "Test Accuracy of    O4: 100% (17/17)\n",
            "Test Accuracy of   O49: 93% (15/16)\n",
            "Test Accuracy of    Q1: 95% (21/22)\n",
            "Test Accuracy of    Q3: 100% (14/14)\n",
            "Test Accuracy of    R4: 92% (13/14)\n",
            "Test Accuracy of    R8: 100% (17/17)\n",
            "Test Accuracy of   S29: 100% (17/17)\n",
            "Test Accuracy of   S34: 100% (13/13)\n",
            "Test Accuracy of    U7: 100% (11/11)\n",
            "Test Accuracy of   V13: 100% (15/15)\n",
            "Test Accuracy of   V28: 92% (13/14)\n",
            "Test Accuracy of   V30: 100% (24/24)\n",
            "Test Accuracy of   V31: 100% (16/16)\n",
            "Test Accuracy of   W11: 93% (14/15)\n",
            "Test Accuracy of   W24: 100% (17/17)\n",
            "Test Accuracy of    X1: 100% (13/13)\n",
            "Test Accuracy of    X8: 100% (22/22)\n",
            "Test Accuracy of    Y1: 42% ( 6/14)\n",
            "Test Accuracy of    Y5: 100% (19/19)\n",
            "Test Accuracy of    Z1: 100% (20/20)\n",
            "\n",
            "Accuracy: 96.998%\n",
            "\n",
            "Precision: 97.401%\n",
            "\n",
            "Recall: 96.998%\n",
            "\n",
            "F1-score: 96.796%\n"
          ]
        }
      ]
    }
  ]
}