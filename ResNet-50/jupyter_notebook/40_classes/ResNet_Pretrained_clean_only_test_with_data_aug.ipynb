{
  "nbformat": 4,
  "nbformat_minor": 0,
  "metadata": {
    "colab": {
      "name": "Egyptian_model_with_ResNet_Pretrained_clean_only_test_with_data_aug.ipynb",
      "provenance": []
    },
    "kernelspec": {
      "name": "python3",
      "display_name": "Python 3"
    },
    "language_info": {
      "name": "python"
    },
    "accelerator": "GPU"
  },
  "cells": [
    {
      "cell_type": "code",
      "metadata": {
        "id": "8iEiGSblxJzW"
      },
      "source": [
        "import os, os.path\n",
        "import torch\n",
        "import numpy as np\n",
        "import torch.nn as nn\n",
        "import torch.optim as optim\n",
        "from pathlib import Path\n",
        "from torchvision import datasets, models, transforms\n",
        "\n",
        "# check if CUDA is available\n",
        "train_on_gpu = torch.cuda.is_available()"
      ],
      "execution_count": 16,
      "outputs": []
    },
    {
      "cell_type": "markdown",
      "metadata": {
        "id": "Jd6KU8VMz6J3"
      },
      "source": [
        "Module: Load_data"
      ]
    },
    {
      "cell_type": "code",
      "metadata": {
        "id": "8lWX0BW_w_kC"
      },
      "source": [
        "def load_data(hieroglyph_directory_path, batch_size=20, num_workers=0):\n",
        "    train_dir = os.path.join(hieroglyph_directory_path, 'train/')\n",
        "    test_dir = os.path.join(hieroglyph_directory_path, 'test/')\n",
        "\n",
        "    classes = []\n",
        "\n",
        "    for filename in os.listdir(train_dir):\n",
        "        if filename == '.DS_Store':\n",
        "            pass\n",
        "        else:\n",
        "            classes.append(filename)\n",
        "\n",
        "    classes.sort()\n",
        "\n",
        "    # print(\"Our classes:\", classes)\n",
        "    # print(len(classes))\n",
        "\n",
        "    data_transform_train = transforms.Compose([transforms.ToTensor(),\n",
        "                                                  transforms.Normalize((0.5,), (0.5,))])\n",
        "\n",
        "    data_transform_test = transforms.Compose([transforms.ToTensor(),\n",
        "                                                  transforms.RandomApply([transforms.RandomHorizontalFlip()]),\n",
        "                                                  transforms.RandomRotation(degrees=(-10, 10)),\n",
        "                                                  transforms.RandomAffine(degrees=0, translate=(.1, .1)),\n",
        "                                                  transforms.RandomApply([transforms.ColorJitter(brightness=(1, 1.2),\n",
        "                                                                                                  contrast=(1, 1.5),\n",
        "                                                                                                  saturation=(1, 1.5),\n",
        "                                                                                                  hue=(0, 0.5))]),\n",
        "                                                  transforms.RandomErasing(p=0.5, scale=(0.05, 0.05), ratio=(0.3, 3.3), value=0,\n",
        "                                                                            inplace=False),\n",
        "                                                  transforms.Normalize((0.5,), (0.5,))])\n",
        "\n",
        "    train_data = datasets.ImageFolder(train_dir, transform=data_transform_train)\n",
        "    test_data = datasets.ImageFolder(test_dir, transform=data_transform_test)\n",
        "\n",
        "    # print('Num training images: ', len(train_data))\n",
        "    # print('Num test images: ', len(test_data))\n",
        "\n",
        "    # prepare data loaders\n",
        "    train_loader = torch.utils.data.DataLoader(train_data, batch_size=batch_size,\n",
        "                                               num_workers=num_workers, shuffle=True)\n",
        "    test_loader = torch.utils.data.DataLoader(test_data, batch_size=batch_size,\n",
        "                                              num_workers=num_workers, shuffle=True)\n",
        "\n",
        "    return train_loader, test_loader, classes"
      ],
      "execution_count": 17,
      "outputs": []
    },
    {
      "cell_type": "markdown",
      "metadata": {
        "id": "K4sXUrPPz7iF"
      },
      "source": [
        "Module: Train_model"
      ]
    },
    {
      "cell_type": "code",
      "metadata": {
        "id": "N2N_rnKLxN5c"
      },
      "source": [
        "def train_model(train_loader, optimizer, resnet50, criterion, my_lr_scheduler, n_epochs):\n",
        "    # track training loss over time\n",
        "    losses = []\n",
        "    \n",
        "    for epoch in range(1, n_epochs + 1):\n",
        "\n",
        "        # keep track of training and validation loss\n",
        "        train_loss = 0.0\n",
        "\n",
        "        # model by default is set to train\n",
        "        for batch_i, (data, target) in enumerate(train_loader):\n",
        "            # move tensors to GPU if CUDA is available\n",
        "            if train_on_gpu:\n",
        "                data, target = data.cuda(), target.cuda()\n",
        "            # clear the gradients of all optimized variables\n",
        "            optimizer.zero_grad()\n",
        "            # forward pass: compute predicted outputs by passing inputs to the model\n",
        "            output = resnet50(data)\n",
        "            # calculate the batch loss\n",
        "            loss = criterion(output, target)\n",
        "            # backward pass: compute gradient of the loss with respect to model parameters\n",
        "            loss.backward()\n",
        "            # perform a single optimization step (parameter update)\n",
        "            optimizer.step()\n",
        "            # update training loss\n",
        "            train_loss += loss.item()\n",
        "\n",
        "            my_lr_scheduler.step()\n",
        "\n",
        "            if batch_i % 20 == 19:  # print training loss every specified number of mini-batches\n",
        "                print('Epoch %d, Batch %d loss: %.16f' %\n",
        "                    (epoch, batch_i + 1, train_loss / 20))\n",
        "                losses.append(train_loss / 20)\n",
        "                train_loss = 0.0\n",
        "        \n",
        "        \n",
        "\n",
        "    return resnet50, losses"
      ],
      "execution_count": 18,
      "outputs": []
    },
    {
      "cell_type": "markdown",
      "metadata": {
        "id": "-Rrxo5RDz96U"
      },
      "source": [
        "Module: Test_model"
      ]
    },
    {
      "cell_type": "code",
      "metadata": {
        "id": "Ay-HlMJnxU9v"
      },
      "source": [
        "def test_model(classes, resnet50, test_loader, criterion):\n",
        "    # track test loss\n",
        "    test_loss = 0.0\n",
        "    class_correct = list(0. for i in range(len(classes)))\n",
        "    class_total = list(0. for i in range(len(classes)))\n",
        "\n",
        "    resnet50.eval()  # eval mode\n",
        "\n",
        "    labels = []\n",
        "    predictions = []\n",
        "    # iterate over test data\n",
        "    for data, target in test_loader:\n",
        "        # move tensors to GPU if CUDA is available\n",
        "        if train_on_gpu:\n",
        "            data, target = data.cuda(), target.cuda()\n",
        "        # forward pass: compute predicted outputs by passing inputs to the model\n",
        "        output = resnet50(data)\n",
        "        # calculate the batch loss\n",
        "        loss = criterion(output, target)\n",
        "        # update  test loss\n",
        "        test_loss += loss.item() * data.size(0)\n",
        "        # convert output probabilities to predicted class\n",
        "        _, pred = torch.max(output, 1)\n",
        "        # compare predictions to true label\n",
        "        correct_tensor = pred.eq(target.data.view_as(pred))\n",
        "        correct = np.squeeze(correct_tensor.numpy()) if not train_on_gpu else np.squeeze(correct_tensor.cpu().numpy())\n",
        "        # calculate test accuracy for each object class\n",
        "        for i in range(len(target.data)):\n",
        "            label = target.data[i]\n",
        "            class_correct[label] += correct[i].item()\n",
        "            class_total[label] += 1\n",
        "        \n",
        "        # Will be used for calculating Recall, Precision, and F1-score\n",
        "        labels.extend(target.data.view_as(pred).tolist())\n",
        "        predictions.extend(pred.tolist())\n",
        "\n",
        "\n",
        "    # calculate avg test loss\n",
        "    test_loss = test_loss / len(test_loader.dataset)\n",
        "    print('Test Loss: {:.6f}\\n'.format(test_loss))\n",
        "\n",
        "    return test_loss, class_correct, class_total, labels, predictions"
      ],
      "execution_count": 19,
      "outputs": []
    },
    {
      "cell_type": "markdown",
      "metadata": {
        "id": "xHh3PXE80Asa"
      },
      "source": [
        "Check whether CUDA is available (Change runtime type if not)"
      ]
    },
    {
      "cell_type": "code",
      "metadata": {
        "colab": {
          "base_uri": "https://localhost:8080/"
        },
        "id": "Q9TYPQH7x4zw",
        "outputId": "da3977e6-4b55-4e28-dfa7-477fc3098b6b"
      },
      "source": [
        "if not train_on_gpu:\n",
        "    print('CUDA is not available.  Training on CPU ...')\n",
        "else:\n",
        "    print('CUDA is available!  Training on GPU ...')"
      ],
      "execution_count": 20,
      "outputs": [
        {
          "output_type": "stream",
          "name": "stdout",
          "text": [
            "CUDA is available!  Training on GPU ...\n"
          ]
        }
      ]
    },
    {
      "cell_type": "markdown",
      "metadata": {
        "id": "6lYw8EKVx8Q7"
      },
      "source": [
        "Load Hieroglyph Data"
      ]
    },
    {
      "cell_type": "code",
      "metadata": {
        "colab": {
          "base_uri": "https://localhost:8080/"
        },
        "id": "laLvoRy1yewl",
        "outputId": "2f82e3fa-bddb-4c05-a334-fd2467f9e04f"
      },
      "source": [
        "# Connecting and Mounting to the Google Drive\n",
        "from google.colab import drive\n",
        "drive.mount('/content/drive')"
      ],
      "execution_count": 21,
      "outputs": [
        {
          "output_type": "stream",
          "name": "stdout",
          "text": [
            "Drive already mounted at /content/drive; to attempt to forcibly remount, call drive.mount(\"/content/drive\", force_remount=True).\n"
          ]
        }
      ]
    },
    {
      "cell_type": "code",
      "metadata": {
        "id": "odaoZt9GyfUt"
      },
      "source": [
        "data_dir = '/content/drive/MyDrive/EgyptianHieroglyphDataset_Original_Clean/'"
      ],
      "execution_count": 22,
      "outputs": []
    },
    {
      "cell_type": "code",
      "metadata": {
        "colab": {
          "base_uri": "https://localhost:8080/"
        },
        "id": "dF22MAnmyiC1",
        "outputId": "e03b7beb-0b9a-413d-a719-c96dae5e8ed4"
      },
      "source": [
        "hieroglyph_for_train = []\n",
        "file_count_list = []\n",
        "\n",
        "for name in os.listdir('/content/drive/MyDrive/EgyptianHieroglyphDataset_Original_Clean/train/'):\n",
        "  path, dirs, files = next(os.walk(\"/content/drive/MyDrive/EgyptianHieroglyphDataset_Original_Clean/train/\"+name))\n",
        "  file_count = len(files)\n",
        "  print(name, file_count)\n",
        "  file_count_list.append(file_count)\n",
        "  hieroglyph_for_train.append(name)\n",
        "\n",
        "hieroglyph_dict = dict(zip(hieroglyph_for_train, file_count_list))"
      ],
      "execution_count": 23,
      "outputs": [
        {
          "output_type": "stream",
          "name": "stdout",
          "text": [
            "Y5 6\n",
            "I9 116\n",
            "O34 15\n",
            "V13 63\n",
            "U7 3\n",
            "D46 40\n",
            "E34 97\n",
            "G1 28\n",
            "V31 106\n",
            "S34 8\n",
            "D36 47\n",
            "Q1 13\n",
            "V30 6\n",
            "F35 2\n",
            "O4 11\n",
            "M23 30\n",
            "S29 212\n",
            "R8 53\n",
            "W11 4\n",
            "X1 185\n",
            "Y1 1\n",
            "D21 146\n",
            "D2 19\n",
            "E23 8\n",
            "X8 4\n",
            "Z1 39\n",
            "D4 29\n",
            "V28 28\n",
            "I10 32\n",
            "O1 16\n",
            "M17 291\n",
            "F31 6\n",
            "G43 157\n",
            "D58 28\n",
            "O49 10\n",
            "G17 156\n",
            "R4 2\n",
            "Q3 61\n",
            "W24 31\n",
            "N35 358\n"
          ]
        }
      ]
    },
    {
      "cell_type": "markdown",
      "metadata": {
        "id": "XeQQ7PjZzKd9"
      },
      "source": [
        "Number of images for each hieroglyph "
      ]
    },
    {
      "cell_type": "code",
      "metadata": {
        "colab": {
          "base_uri": "https://localhost:8080/",
          "height": 609
        },
        "id": "W6IzWR2RyjxM",
        "outputId": "5529aba6-bc27-4040-bb3e-d3b51b7431ba"
      },
      "source": [
        "import matplotlib.pyplot as plt\n",
        "import pandas as pd\n",
        "\n",
        "df = pd.DataFrame({\"Hieroglyph\":hieroglyph_for_train, \"Count\":file_count_list})\n",
        "\n",
        "df_sorted= df.sort_values('Count',ascending=False)\n",
        "\n",
        "plt.figure(figsize=(20,10))\n",
        "# make bar plot with matplotlib\n",
        "plt.bar('Hieroglyph', 'Count',data=df_sorted)"
      ],
      "execution_count": 24,
      "outputs": [
        {
          "output_type": "execute_result",
          "data": {
            "text/plain": [
              "<BarContainer object of 40 artists>"
            ]
          },
          "metadata": {},
          "execution_count": 24
        },
        {
          "output_type": "display_data",
          "data": {
            "image/png": "[encoded data removed]",
            "text/plain": [
              "<Figure size 1440x720 with 1 Axes>"
            ]
          },
          "metadata": {
            "needs_background": "light"
          }
        }
      ]
    },
    {
      "cell_type": "code",
      "metadata": {
        "id": "-3oOm8rSx7tp"
      },
      "source": [
        "# Number of images processed in a single training\n",
        "batch_size = 20\n",
        "num_workers = 0\n",
        "\n",
        "# The load_data function is from hieroglyph_data_preparation python file\n",
        "train_loader, test_loader, classes = load_data(data_dir)"
      ],
      "execution_count": 25,
      "outputs": []
    },
    {
      "cell_type": "markdown",
      "metadata": {
        "id": "BJm8sGiBx_q5"
      },
      "source": [
        "ResNet Model"
      ]
    },
    {
      "cell_type": "code",
      "metadata": {
        "id": "JkLXVJGkxemC"
      },
      "source": [
        "# Whether to extract features with the model\n",
        "feature_extract = False\n",
        "# Other selections\n",
        "loss_function = \"cross-entropy\"\n",
        "model_selection = \"resnet-50\"\n",
        "optim_selection = \"Adam\"\n",
        "\n",
        "# False if you want scratch model, True if you want pretrained model\n",
        "whether_to_pretrain = True\n",
        "\n",
        "# Load the model\n",
        "if model_selection == \"resnet-50\":\n",
        "    resnet50 = models.resnet50(pretrained=whether_to_pretrain)\n",
        "\n",
        "# Number of features in the last layer of resnet\n",
        "n_inputs = resnet50.fc.in_features\n",
        "\n",
        "# Add last linear layer (n_inputs -> 40 hieroglyph classes)\n",
        "# New layers automatically have requires_grad = True\n",
        "last_layer = nn.Sequential(\n",
        "                nn.Linear(n_inputs, len(classes)))\n",
        "\n",
        "resnet50.fc = last_layer\n",
        "\n",
        "# if GPU is available, move the model to GPU\n",
        "if train_on_gpu:\n",
        "    resnet50.cuda()\n",
        "\n",
        "# Specify loss function (categorical cross-entropy)\n",
        "if loss_function == \"cross-entropy\":\n",
        "    criterion = nn.CrossEntropyLoss()\n",
        "\n",
        "# Specify optimizer (Adam) and learning rate = 0.001\n",
        "if optim_selection == \"Adam\":\n",
        "    optimizer = optim.Adam(resnet50.parameters(), lr=0.001)\n",
        "\n",
        "# Exponential Decay to strengthen learning\n",
        "decayRate = 0.999\n",
        "my_lr_scheduler = torch.optim.lr_scheduler.ExponentialLR(optimizer=optimizer, gamma=decayRate)"
      ],
      "execution_count": 26,
      "outputs": []
    },
    {
      "cell_type": "markdown",
      "metadata": {
        "id": "U2vnErB1yHmM"
      },
      "source": [
        "Training the model"
      ]
    },
    {
      "cell_type": "code",
      "metadata": {
        "colab": {
          "base_uri": "https://localhost:8080/"
        },
        "id": "dOB03noWyEvQ",
        "outputId": "c6c9df05-c259-46b1-f3ae-1a4a6e6fcf5c"
      },
      "source": [
        "# number of epochs to train the model\n",
        "n_epochs = 50\n",
        "\n",
        "# The train_model function is from model_training python file\n",
        "resnet50, train_losses = train_model(train_loader, optimizer, resnet50, criterion, my_lr_scheduler, n_epochs)"
      ],
      "execution_count": 27,
      "outputs": [
        {
          "output_type": "stream",
          "name": "stdout",
          "text": [
            "Epoch 1, Batch 20 loss: 1.8307244032621384\n",
            "Epoch 1, Batch 40 loss: 1.6513865172863007\n",
            "Epoch 1, Batch 60 loss: 1.3205017656087876\n",
            "Epoch 1, Batch 80 loss: 1.1859676375985146\n",
            "Epoch 1, Batch 100 loss: 0.7992667898535728\n",
            "Epoch 1, Batch 120 loss: 0.6522046178579330\n",
            "Epoch 2, Batch 20 loss: 0.6575704395771027\n",
            "Epoch 2, Batch 40 loss: 0.4599536411464215\n",
            "Epoch 2, Batch 60 loss: 0.3665082620456815\n",
            "Epoch 2, Batch 80 loss: 0.4471683025360108\n",
            "Epoch 2, Batch 100 loss: 0.3545606028288603\n",
            "Epoch 2, Batch 120 loss: 0.4492459557950497\n",
            "Epoch 3, Batch 20 loss: 0.2432004110887647\n",
            "Epoch 3, Batch 40 loss: 0.1767365647479892\n",
            "Epoch 3, Batch 60 loss: 0.2158811732195318\n",
            "Epoch 3, Batch 80 loss: 0.2903171825222671\n",
            "Epoch 3, Batch 100 loss: 0.1974279173649847\n",
            "Epoch 3, Batch 120 loss: 0.2296105969697237\n",
            "Epoch 4, Batch 20 loss: 0.1102866692002863\n",
            "Epoch 4, Batch 40 loss: 0.1147479992592707\n",
            "Epoch 4, Batch 60 loss: 0.0917289678240195\n",
            "Epoch 4, Batch 80 loss: 0.0782631524256431\n",
            "Epoch 4, Batch 100 loss: 0.0780627071391791\n",
            "Epoch 4, Batch 120 loss: 0.0763735670596361\n",
            "Epoch 5, Batch 20 loss: 0.1351533760083839\n",
            "Epoch 5, Batch 40 loss: 0.1206458673346788\n",
            "Epoch 5, Batch 60 loss: 0.1160830656066537\n",
            "Epoch 5, Batch 80 loss: 0.1223069768399000\n",
            "Epoch 5, Batch 100 loss: 0.0546560199698433\n",
            "Epoch 5, Batch 120 loss: 0.0809525663498789\n",
            "Epoch 6, Batch 20 loss: 0.0812122384319082\n",
            "Epoch 6, Batch 40 loss: 0.0299271424068138\n",
            "Epoch 6, Batch 60 loss: 0.0516631574544590\n",
            "Epoch 6, Batch 80 loss: 0.0490120508824475\n",
            "Epoch 6, Batch 100 loss: 0.0284755301370751\n",
            "Epoch 6, Batch 120 loss: 0.0682218993897550\n",
            "Epoch 7, Batch 20 loss: 0.0204113942570984\n",
            "Epoch 7, Batch 40 loss: 0.0227841582411202\n",
            "Epoch 7, Batch 60 loss: 0.0239687789522577\n",
            "Epoch 7, Batch 80 loss: 0.0517987351253396\n",
            "Epoch 7, Batch 100 loss: 0.0257503094879212\n",
            "Epoch 7, Batch 120 loss: 0.0277451238536742\n",
            "Epoch 8, Batch 20 loss: 0.0235821082605980\n",
            "Epoch 8, Batch 40 loss: 0.0120459896133980\n",
            "Epoch 8, Batch 60 loss: 0.0216583256013109\n",
            "Epoch 8, Batch 80 loss: 0.0316230095617357\n",
            "Epoch 8, Batch 100 loss: 0.0389400974221644\n",
            "Epoch 8, Batch 120 loss: 0.0353702283726307\n",
            "Epoch 9, Batch 20 loss: 0.0581073829962406\n",
            "Epoch 9, Batch 40 loss: 0.0153309463348705\n",
            "Epoch 9, Batch 60 loss: 0.0388695856905542\n",
            "Epoch 9, Batch 80 loss: 0.0120224426646018\n",
            "Epoch 9, Batch 100 loss: 0.0190724568965379\n",
            "Epoch 9, Batch 120 loss: 0.0036219756060746\n",
            "Epoch 10, Batch 20 loss: 0.0464812930411426\n",
            "Epoch 10, Batch 40 loss: 0.0214964705242892\n",
            "Epoch 10, Batch 60 loss: 0.0052024615899427\n",
            "Epoch 10, Batch 80 loss: 0.0213167955254903\n",
            "Epoch 10, Batch 100 loss: 0.0238323158984713\n",
            "Epoch 10, Batch 120 loss: 0.0121356208081124\n",
            "Epoch 11, Batch 20 loss: 0.0046854067011736\n",
            "Epoch 11, Batch 40 loss: 0.0037369491765276\n",
            "Epoch 11, Batch 60 loss: 0.0082352801022353\n",
            "Epoch 11, Batch 80 loss: 0.0062699649526621\n",
            "Epoch 11, Batch 100 loss: 0.0020953930303222\n",
            "Epoch 11, Batch 120 loss: 0.0029474610630132\n",
            "Epoch 12, Batch 20 loss: 0.0014754727526451\n",
            "Epoch 12, Batch 40 loss: 0.0014323178183986\n",
            "Epoch 12, Batch 60 loss: 0.0092735779260693\n",
            "Epoch 12, Batch 80 loss: 0.0041641165524197\n",
            "Epoch 12, Batch 100 loss: 0.0012329983350355\n",
            "Epoch 12, Batch 120 loss: 0.0014614561445342\n",
            "Epoch 13, Batch 20 loss: 0.0016783930113888\n",
            "Epoch 13, Batch 40 loss: 0.0015205654104648\n",
            "Epoch 13, Batch 60 loss: 0.0007525663510023\n",
            "Epoch 13, Batch 80 loss: 0.0006009976939822\n",
            "Epoch 13, Batch 100 loss: 0.0022966798700509\n",
            "Epoch 13, Batch 120 loss: 0.0016212956914387\n",
            "Epoch 14, Batch 20 loss: 0.0021611222480715\n",
            "Epoch 14, Batch 40 loss: 0.0013105900670780\n",
            "Epoch 14, Batch 60 loss: 0.0007673724394408\n",
            "Epoch 14, Batch 80 loss: 0.0009026678879309\n",
            "Epoch 14, Batch 100 loss: 0.0011523776316608\n",
            "Epoch 14, Batch 120 loss: 0.0015823997004190\n",
            "Epoch 15, Batch 20 loss: 0.0011816906095191\n",
            "Epoch 15, Batch 40 loss: 0.0014225735700165\n",
            "Epoch 15, Batch 60 loss: 0.0013344214465178\n",
            "Epoch 15, Batch 80 loss: 0.0006841693701062\n",
            "Epoch 15, Batch 100 loss: 0.0009178517178952\n",
            "Epoch 15, Batch 120 loss: 0.0006204827066540\n",
            "Epoch 16, Batch 20 loss: 0.0009522097534500\n",
            "Epoch 16, Batch 40 loss: 0.0006308106501820\n",
            "Epoch 16, Batch 60 loss: 0.0006282656006078\n",
            "Epoch 16, Batch 80 loss: 0.0004462562581466\n",
            "Epoch 16, Batch 100 loss: 0.0008155441515555\n",
            "Epoch 16, Batch 120 loss: 0.0007024183396425\n",
            "Epoch 17, Batch 20 loss: 0.0007761656583170\n",
            "Epoch 17, Batch 40 loss: 0.0008196942129871\n",
            "Epoch 17, Batch 60 loss: 0.0005669121782375\n",
            "Epoch 17, Batch 80 loss: 0.0003475356723357\n",
            "Epoch 17, Batch 100 loss: 0.0004072012852703\n",
            "Epoch 17, Batch 120 loss: 0.0005101275040943\n",
            "Epoch 18, Batch 20 loss: 0.0004127137824980\n",
            "Epoch 18, Batch 40 loss: 0.0005814645692226\n",
            "Epoch 18, Batch 60 loss: 0.0005325684129275\n",
            "Epoch 18, Batch 80 loss: 0.0003991679805040\n",
            "Epoch 18, Batch 100 loss: 0.0003890326464898\n",
            "Epoch 18, Batch 120 loss: 0.0005168295771000\n",
            "Epoch 19, Batch 20 loss: 0.0004406832833411\n",
            "Epoch 19, Batch 40 loss: 0.0002513101771910\n",
            "Epoch 19, Batch 60 loss: 0.0004926750447339\n",
            "Epoch 19, Batch 80 loss: 0.0004845166993618\n",
            "Epoch 19, Batch 100 loss: 0.0003014819982127\n",
            "Epoch 19, Batch 120 loss: 0.0002828478860465\n",
            "Epoch 20, Batch 20 loss: 0.0355228617347166\n",
            "Epoch 20, Batch 40 loss: 0.0014800879005634\n",
            "Epoch 20, Batch 60 loss: 0.0008190923639631\n",
            "Epoch 20, Batch 80 loss: 0.0010381631012933\n",
            "Epoch 20, Batch 100 loss: 0.0008462624144158\n",
            "Epoch 20, Batch 120 loss: 0.0004787454334291\n",
            "Epoch 21, Batch 20 loss: 0.0018736599460681\n",
            "Epoch 21, Batch 40 loss: 0.0009012525977596\n",
            "Epoch 21, Batch 60 loss: 0.0007268588613442\n",
            "Epoch 21, Batch 80 loss: 0.0006140825826151\n",
            "Epoch 21, Batch 100 loss: 0.0007262508510394\n",
            "Epoch 21, Batch 120 loss: 0.0010019256616943\n",
            "Epoch 22, Batch 20 loss: 0.0007644602021173\n",
            "Epoch 22, Batch 40 loss: 0.0019919388043490\n",
            "Epoch 22, Batch 60 loss: 0.0031189988760161\n",
            "Epoch 22, Batch 80 loss: 0.0010770903863886\n",
            "Epoch 22, Batch 100 loss: 0.0011960223542701\n",
            "Epoch 22, Batch 120 loss: 0.0003975287523645\n",
            "Epoch 23, Batch 20 loss: 0.0011405040655518\n",
            "Epoch 23, Batch 40 loss: 0.0006161722123579\n",
            "Epoch 23, Batch 60 loss: 0.0004013844703877\n",
            "Epoch 23, Batch 80 loss: 0.0005103443150801\n",
            "Epoch 23, Batch 100 loss: 0.0013392518147157\n",
            "Epoch 23, Batch 120 loss: 0.0004097580822418\n",
            "Epoch 24, Batch 20 loss: 0.0005919531537074\n",
            "Epoch 24, Batch 40 loss: 0.0006744103106030\n",
            "Epoch 24, Batch 60 loss: 0.0003936821201933\n",
            "Epoch 24, Batch 80 loss: 0.0003089890098636\n",
            "Epoch 24, Batch 100 loss: 0.0011833882290375\n",
            "Epoch 24, Batch 120 loss: 0.0013702416927117\n",
            "Epoch 25, Batch 20 loss: 0.0005228581636402\n",
            "Epoch 25, Batch 40 loss: 0.0007072114320181\n",
            "Epoch 25, Batch 60 loss: 0.0006805810346123\n",
            "Epoch 25, Batch 80 loss: 0.0012976219290067\n",
            "Epoch 25, Batch 100 loss: 0.0003087821511144\n",
            "Epoch 25, Batch 120 loss: 0.0002335797800697\n",
            "Epoch 26, Batch 20 loss: 0.0005748785686592\n",
            "Epoch 26, Batch 40 loss: 0.0002780164120850\n",
            "Epoch 26, Batch 60 loss: 0.0003304518191726\n",
            "Epoch 26, Batch 80 loss: 0.0002360228438192\n",
            "Epoch 26, Batch 100 loss: 0.0005235207649093\n",
            "Epoch 26, Batch 120 loss: 0.0009614167618565\n",
            "Epoch 27, Batch 20 loss: 0.0004436931656528\n",
            "Epoch 27, Batch 40 loss: 0.0003099467558059\n",
            "Epoch 27, Batch 60 loss: 0.0007995994532394\n",
            "Epoch 27, Batch 80 loss: 0.0004845098463193\n",
            "Epoch 27, Batch 100 loss: 0.0003127488032987\n",
            "Epoch 27, Batch 120 loss: 0.0011487686842884\n",
            "Epoch 28, Batch 20 loss: 0.0004878352483502\n",
            "Epoch 28, Batch 40 loss: 0.0002076112197756\n",
            "Epoch 28, Batch 60 loss: 0.0003728871073690\n",
            "Epoch 28, Batch 80 loss: 0.0002384024756793\n",
            "Epoch 28, Batch 100 loss: 0.0002911782554293\n",
            "Epoch 28, Batch 120 loss: 0.0006076088357077\n",
            "Epoch 29, Batch 20 loss: 0.0001706351205939\n",
            "Epoch 29, Batch 40 loss: 0.0002958740393296\n",
            "Epoch 29, Batch 60 loss: 0.0003752147236810\n",
            "Epoch 29, Batch 80 loss: 0.0015092265524800\n",
            "Epoch 29, Batch 100 loss: 0.0003037940590730\n",
            "Epoch 29, Batch 120 loss: 0.0006307038092928\n",
            "Epoch 30, Batch 20 loss: 0.0004229015232340\n",
            "Epoch 30, Batch 40 loss: 0.0003219080756026\n",
            "Epoch 30, Batch 60 loss: 0.0002897485166613\n",
            "Epoch 30, Batch 80 loss: 0.0004072931556948\n",
            "Epoch 30, Batch 100 loss: 0.0004400875761348\n",
            "Epoch 30, Batch 120 loss: 0.0005315074608006\n",
            "Epoch 31, Batch 20 loss: 0.0002617817082864\n",
            "Epoch 31, Batch 40 loss: 0.0001825746046961\n",
            "Epoch 31, Batch 60 loss: 0.0002196569568696\n",
            "Epoch 31, Batch 80 loss: 0.0004647761259548\n",
            "Epoch 31, Batch 100 loss: 0.0005945770317339\n",
            "Epoch 31, Batch 120 loss: 0.0003348616348376\n",
            "Epoch 32, Batch 20 loss: 0.0003251745740272\n",
            "Epoch 32, Batch 40 loss: 0.0002318460405149\n",
            "Epoch 32, Batch 60 loss: 0.0003644295122285\n",
            "Epoch 32, Batch 80 loss: 0.0005601358201602\n",
            "Epoch 32, Batch 100 loss: 0.0003943367995817\n",
            "Epoch 32, Batch 120 loss: 0.0003543304326740\n",
            "Epoch 33, Batch 20 loss: 0.0004585636008414\n",
            "Epoch 33, Batch 40 loss: 0.0002740299440120\n",
            "Epoch 33, Batch 60 loss: 0.0002515130056054\n",
            "Epoch 33, Batch 80 loss: 0.0004965111671481\n",
            "Epoch 33, Batch 100 loss: 0.0003639288479462\n",
            "Epoch 33, Batch 120 loss: 0.0007315021910472\n",
            "Epoch 34, Batch 20 loss: 0.0003125284083580\n",
            "Epoch 34, Batch 40 loss: 0.0004903589259811\n",
            "Epoch 34, Batch 60 loss: 0.0002425633663734\n",
            "Epoch 34, Batch 80 loss: 0.0002331527159185\n",
            "Epoch 34, Batch 100 loss: 0.0003010639315107\n",
            "Epoch 34, Batch 120 loss: 0.0002693043281397\n",
            "Epoch 35, Batch 20 loss: 0.0002677004649740\n",
            "Epoch 35, Batch 40 loss: 0.0003607048432968\n",
            "Epoch 35, Batch 60 loss: 0.0004582741312333\n",
            "Epoch 35, Batch 80 loss: 0.0004456252865566\n",
            "Epoch 35, Batch 100 loss: 0.0002107847789375\n",
            "Epoch 35, Batch 120 loss: 0.0004614313915226\n",
            "Epoch 36, Batch 20 loss: 0.0002141117769497\n",
            "Epoch 36, Batch 40 loss: 0.0002189584622101\n",
            "Epoch 36, Batch 60 loss: 0.0003062328638407\n",
            "Epoch 36, Batch 80 loss: 0.0003383039782420\n",
            "Epoch 36, Batch 100 loss: 0.0004199305032671\n",
            "Epoch 36, Batch 120 loss: 0.0003353942405738\n",
            "Epoch 37, Batch 20 loss: 0.0003308279631710\n",
            "Epoch 37, Batch 40 loss: 0.0007184046844486\n",
            "Epoch 37, Batch 60 loss: 0.0002084107185510\n",
            "Epoch 37, Batch 80 loss: 0.0001829941989854\n",
            "Epoch 37, Batch 100 loss: 0.0002433330004351\n",
            "Epoch 37, Batch 120 loss: 0.0002953263407107\n",
            "Epoch 38, Batch 20 loss: 0.0003241175050789\n",
            "Epoch 38, Batch 40 loss: 0.0002953118446385\n",
            "Epoch 38, Batch 60 loss: 0.0004022543202154\n",
            "Epoch 38, Batch 80 loss: 0.0001834826771301\n",
            "Epoch 38, Batch 100 loss: 0.0002445946669468\n",
            "Epoch 38, Batch 120 loss: 0.0005101948207084\n",
            "Epoch 39, Batch 20 loss: 0.0001224989289767\n",
            "Epoch 39, Batch 40 loss: 0.0005501844916580\n",
            "Epoch 39, Batch 60 loss: 0.0002932744801001\n",
            "Epoch 39, Batch 80 loss: 0.0002467540629368\n",
            "Epoch 39, Batch 100 loss: 0.0002152955406928\n",
            "Epoch 39, Batch 120 loss: 0.0002392833930571\n",
            "Epoch 40, Batch 20 loss: 0.0002008308518270\n",
            "Epoch 40, Batch 40 loss: 0.0001987480855860\n",
            "Epoch 40, Batch 60 loss: 0.0003065787328524\n",
            "Epoch 40, Batch 80 loss: 0.0002906346002419\n",
            "Epoch 40, Batch 100 loss: 0.0003271968824265\n",
            "Epoch 40, Batch 120 loss: 0.0002353042915274\n",
            "Epoch 41, Batch 20 loss: 0.0001801133585104\n",
            "Epoch 41, Batch 40 loss: 0.0002751080246526\n",
            "Epoch 41, Batch 60 loss: 0.0002666753981430\n",
            "Epoch 41, Batch 80 loss: 0.0002070206006465\n",
            "Epoch 41, Batch 100 loss: 0.0001910576680530\n",
            "Epoch 41, Batch 120 loss: 0.0002250711877423\n",
            "Epoch 42, Batch 20 loss: 0.0002910340803282\n",
            "Epoch 42, Batch 40 loss: 0.0002026805976129\n",
            "Epoch 42, Batch 60 loss: 0.0001603112644261\n",
            "Epoch 42, Batch 80 loss: 0.0003025277985216\n",
            "Epoch 42, Batch 100 loss: 0.0002541860486417\n",
            "Epoch 42, Batch 120 loss: 0.0003374459416591\n",
            "Epoch 43, Batch 20 loss: 0.0003907857326340\n",
            "Epoch 43, Batch 40 loss: 0.0004248859848303\n",
            "Epoch 43, Batch 60 loss: 0.0003609612936998\n",
            "Epoch 43, Batch 80 loss: 0.0003493916001389\n",
            "Epoch 43, Batch 100 loss: 0.0001394827402692\n",
            "Epoch 43, Batch 120 loss: 0.0001804051436920\n",
            "Epoch 44, Batch 20 loss: 0.0001799131961889\n",
            "Epoch 44, Batch 40 loss: 0.0001840584419369\n",
            "Epoch 44, Batch 60 loss: 0.0003165067520968\n",
            "Epoch 44, Batch 80 loss: 0.0003088218370976\n",
            "Epoch 44, Batch 100 loss: 0.0002375738087721\n",
            "Epoch 44, Batch 120 loss: 0.0002708083107791\n",
            "Epoch 45, Batch 20 loss: 0.0001532849269097\n",
            "Epoch 45, Batch 40 loss: 0.0002047654299531\n",
            "Epoch 45, Batch 60 loss: 0.0002121960482327\n",
            "Epoch 45, Batch 80 loss: 0.0001879692727016\n",
            "Epoch 45, Batch 100 loss: 0.0004192875003355\n",
            "Epoch 45, Batch 120 loss: 0.0002237341101136\n",
            "Epoch 46, Batch 20 loss: 0.0002100872790834\n",
            "Epoch 46, Batch 40 loss: 0.0004400048666866\n",
            "Epoch 46, Batch 60 loss: 0.0002265161194373\n",
            "Epoch 46, Batch 80 loss: 0.0002571672070189\n",
            "Epoch 46, Batch 100 loss: 0.0008508088216331\n",
            "Epoch 46, Batch 120 loss: 0.0001669360319283\n",
            "Epoch 47, Batch 20 loss: 0.0001513567247457\n",
            "Epoch 47, Batch 40 loss: 0.0002555850745921\n",
            "Epoch 47, Batch 60 loss: 0.0001802248612876\n",
            "Epoch 47, Batch 80 loss: 0.0002660376780113\n",
            "Epoch 47, Batch 100 loss: 0.0002342825126107\n",
            "Epoch 47, Batch 120 loss: 0.0002404896653388\n",
            "Epoch 48, Batch 20 loss: 0.0001575533248797\n",
            "Epoch 48, Batch 40 loss: 0.0003134176202821\n",
            "Epoch 48, Batch 60 loss: 0.0004246396925737\n",
            "Epoch 48, Batch 80 loss: 0.0001351286353383\n",
            "Epoch 48, Batch 100 loss: 0.0001160234380222\n",
            "Epoch 48, Batch 120 loss: 0.0002549406718572\n",
            "Epoch 49, Batch 20 loss: 0.0002332732065042\n",
            "Epoch 49, Batch 40 loss: 0.0002790564392853\n",
            "Epoch 49, Batch 60 loss: 0.0003437909510467\n",
            "Epoch 49, Batch 80 loss: 0.0001602445616300\n",
            "Epoch 49, Batch 100 loss: 0.0002263614265757\n",
            "Epoch 49, Batch 120 loss: 0.0002945580743472\n",
            "Epoch 50, Batch 20 loss: 0.0001164698844150\n",
            "Epoch 50, Batch 40 loss: 0.0001656535472648\n",
            "Epoch 50, Batch 60 loss: 0.0001894970548165\n",
            "Epoch 50, Batch 80 loss: 0.0009832881559305\n",
            "Epoch 50, Batch 100 loss: 0.0001889382263471\n",
            "Epoch 50, Batch 120 loss: 0.0006247448434806\n"
          ]
        }
      ]
    },
    {
      "cell_type": "code",
      "metadata": {
        "id": "CfA7ZjLR1BZP",
        "colab": {
          "base_uri": "https://localhost:8080/",
          "height": 281
        },
        "outputId": "6ee450ec-f70d-4d3b-80af-071bc89f0ade"
      },
      "source": [
        "plt.plot(train_losses)\n",
        "plt.title(\"Training Loss\")\n",
        "plt.show()"
      ],
      "execution_count": 28,
      "outputs": [
        {
          "output_type": "display_data",
          "data": {
            "image/png": "[encoded data removed]",
            "text/plain": [
              "<Figure size 432x288 with 1 Axes>"
            ]
          },
          "metadata": {
            "needs_background": "light"
          }
        }
      ]
    },
    {
      "cell_type": "markdown",
      "metadata": {
        "id": "ItLyF9dQyJFL"
      },
      "source": [
        "Testing the model"
      ]
    },
    {
      "cell_type": "code",
      "metadata": {
        "id": "gGki98W3SoEW"
      },
      "source": [
        "from sklearn.metrics import precision_score, recall_score, f1_score, accuracy_score"
      ],
      "execution_count": 29,
      "outputs": []
    },
    {
      "cell_type": "code",
      "metadata": {
        "id": "xNavYOynyE6d",
        "colab": {
          "base_uri": "https://localhost:8080/"
        },
        "outputId": "0cd94841-86ff-443f-a059-e13a815d9bb9"
      },
      "source": [
        "# The test_model function is from model_testing python file\n",
        "test_loss, class_correct, class_total, labels, predictions = test_model(classes, resnet50, test_loader, criterion)\n",
        "\n",
        "# Test accuracy for each hieroglyph\n",
        "for i in range(len(classes)):\n",
        "    if class_total[i] > 0:\n",
        "        print('Test Accuracy of %5s: %2d%% (%2d/%2d)' % (classes[i], 100 * class_correct[i] / class_total[i], np.sum(class_correct[i]), np.sum(class_total[i])))\n",
        "    else:\n",
        "        print('Test Accuracy of %5s: N/A (no training examples)' % (classes[i]))\n",
        "\n",
        "# Total Test accuracy\n",
        "print(\"\\nAccuracy: {:.3%}\".format(accuracy_score(labels, predictions)))\n",
        "print(\"\\nPrecision: {:.3%}\".format(precision_score(labels, predictions, average = 'weighted')))\n",
        "print(\"\\nRecall: {:.3%}\".format(recall_score(labels, predictions, average = 'weighted')))\n",
        "print(\"\\nF1-score: {:.3%}\".format(f1_score(labels, predictions, average = 'weighted')))"
      ],
      "execution_count": 30,
      "outputs": [
        {
          "output_type": "stream",
          "name": "stdout",
          "text": [
            "Test Loss: 2.090946\n",
            "\n",
            "Test Accuracy of    D2: 100% ( 5/ 5)\n",
            "Test Accuracy of   D21: 66% (24/36)\n",
            "Test Accuracy of   D36: 58% ( 7/12)\n",
            "Test Accuracy of    D4: 25% ( 2/ 8)\n",
            "Test Accuracy of   D46: 54% ( 6/11)\n",
            "Test Accuracy of   D58: 25% ( 2/ 8)\n",
            "Test Accuracy of   E23:  0% ( 0/ 2)\n",
            "Test Accuracy of   E34: 64% (16/25)\n",
            "Test Accuracy of   F31: 100% ( 2/ 2)\n",
            "Test Accuracy of   F35: 100% ( 1/ 1)\n",
            "Test Accuracy of    G1: 28% ( 2/ 7)\n",
            "Test Accuracy of   G17: 56% (22/39)\n",
            "Test Accuracy of   G43: 57% (23/40)\n",
            "Test Accuracy of   I10: 100% ( 9/ 9)\n",
            "Test Accuracy of    I9: 43% (13/30)\n",
            "Test Accuracy of   M17: 58% (43/73)\n",
            "Test Accuracy of   M23: 62% ( 5/ 8)\n",
            "Test Accuracy of   N35: 73% (66/90)\n",
            "Test Accuracy of    O1: 75% ( 3/ 4)\n",
            "Test Accuracy of   O34: 25% ( 1/ 4)\n",
            "Test Accuracy of    O4: 66% ( 2/ 3)\n",
            "Test Accuracy of   O49: 33% ( 1/ 3)\n",
            "Test Accuracy of    Q1: 100% ( 4/ 4)\n",
            "Test Accuracy of    Q3: 68% (11/16)\n",
            "Test Accuracy of    R4:  0% ( 0/ 1)\n",
            "Test Accuracy of    R8: 64% ( 9/14)\n",
            "Test Accuracy of   S29: 49% (26/53)\n",
            "Test Accuracy of   S34: 100% ( 2/ 2)\n",
            "Test Accuracy of    U7:  0% ( 0/ 1)\n",
            "Test Accuracy of   V13: 37% ( 6/16)\n",
            "Test Accuracy of   V28: 75% ( 6/ 8)\n",
            "Test Accuracy of   V30: 100% ( 2/ 2)\n",
            "Test Accuracy of   V31: 29% ( 8/27)\n",
            "Test Accuracy of   W11:  0% ( 0/ 1)\n",
            "Test Accuracy of   W24: 62% ( 5/ 8)\n",
            "Test Accuracy of    X1: 63% (30/47)\n",
            "Test Accuracy of    X8: 100% ( 1/ 1)\n",
            "Test Accuracy of    Y1:  0% ( 0/ 1)\n",
            "Test Accuracy of    Y5: 100% ( 2/ 2)\n",
            "Test Accuracy of    Z1: 50% ( 5/10)\n",
            "\n",
            "Accuracy: 58.675%\n",
            "\n",
            "Precision: 81.004%\n",
            "\n",
            "Recall: 58.675%\n",
            "\n",
            "F1-score: 65.164%\n"
          ]
        }
      ]
    }
  ]
}
