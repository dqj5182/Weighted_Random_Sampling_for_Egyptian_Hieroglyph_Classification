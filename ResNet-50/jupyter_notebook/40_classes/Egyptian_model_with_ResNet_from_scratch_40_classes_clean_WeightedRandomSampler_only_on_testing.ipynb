{
  "nbformat": 4,
  "nbformat_minor": 0,
  "metadata": {
    "colab": {
      "name": "Egyptian_model_with_ResNet_from_scratch_40_classes_clean_WeightedRandomSampler_only_on_testing.ipynb",
      "provenance": [],
      "collapsed_sections": []
    },
    "kernelspec": {
      "name": "python3",
      "display_name": "Python 3"
    },
    "language_info": {
      "name": "python"
    },
    "accelerator": "GPU"
  },
  "cells": [
    {
      "cell_type": "code",
      "metadata": {
        "colab": {
          "base_uri": "https://localhost:8080/"
        },
        "id": "Po0ZVacIYsP0",
        "outputId": "a9905d34-f494-462d-c525-cd3241109a9f"
      },
      "source": [
        "!pip install timm"
      ],
      "execution_count": 1,
      "outputs": [
        {
          "output_type": "stream",
          "name": "stdout",
          "text": [
            "Requirement already satisfied: timm in /usr/local/lib/python3.7/dist-packages (0.4.12)\n",
            "Requirement already satisfied: torch>=1.4 in /usr/local/lib/python3.7/dist-packages (from timm) (1.10.0+cu111)\n",
            "Requirement already satisfied: torchvision in /usr/local/lib/python3.7/dist-packages (from timm) (0.11.1+cu111)\n",
            "Requirement already satisfied: typing-extensions in /usr/local/lib/python3.7/dist-packages (from torch>=1.4->timm) (3.10.0.2)\n",
            "Requirement already satisfied: numpy in /usr/local/lib/python3.7/dist-packages (from torchvision->timm) (1.19.5)\n",
            "Requirement already satisfied: pillow!=8.3.0,>=5.3.0 in /usr/local/lib/python3.7/dist-packages (from torchvision->timm) (7.1.2)\n"
          ]
        }
      ]
    },
    {
      "cell_type": "code",
      "metadata": {
        "id": "8iEiGSblxJzW"
      },
      "source": [
        "import os, os.path\n",
        "import torch\n",
        "import numpy as np\n",
        "import torch.nn as nn\n",
        "import torch.optim as optim\n",
        "from pathlib import Path\n",
        "from torchvision import datasets, models, transforms\n",
        "import timm\n",
        "\n",
        "# check if CUDA is available\n",
        "train_on_gpu = torch.cuda.is_available()"
      ],
      "execution_count": 2,
      "outputs": []
    },
    {
      "cell_type": "markdown",
      "metadata": {
        "id": "Jd6KU8VMz6J3"
      },
      "source": [
        "Module: Load_data"
      ]
    },
    {
      "cell_type": "code",
      "metadata": {
        "id": "CFTKwolqDOAG"
      },
      "source": [
        "def get_class_distribution(dataset_obj, idx2class):\n",
        "    count_dict = {k:0 for k,v in dataset_obj.class_to_idx.items()}\n",
        "    \n",
        "    for element in dataset_obj:\n",
        "        y_lbl = element[1]\n",
        "        y_lbl = idx2class[y_lbl]\n",
        "        count_dict[y_lbl] += 1\n",
        "            \n",
        "    return count_dict"
      ],
      "execution_count": 3,
      "outputs": []
    },
    {
      "cell_type": "code",
      "metadata": {
        "id": "8lWX0BW_w_kC"
      },
      "source": [
        "def load_data(hieroglyph_directory_path, batch_size=20, num_workers=0):\n",
        "    train_dir = os.path.join(hieroglyph_directory_path, 'train/')\n",
        "    test_dir = os.path.join(hieroglyph_directory_path, 'test/')\n",
        "\n",
        "    classes = []\n",
        "\n",
        "    for filename in os.listdir(train_dir):\n",
        "        if filename == '.DS_Store':\n",
        "            pass\n",
        "        else:\n",
        "            classes.append(filename)\n",
        "\n",
        "    classes.sort()\n",
        "\n",
        "    # print(\"Our classes:\", classes)\n",
        "    # print(len(classes))\n",
        "\n",
        "    data_transform = transforms.Compose([transforms.ToTensor(),\n",
        "                                              transforms.RandomApply([transforms.RandomHorizontalFlip()]),\n",
        "                                              transforms.RandomRotation(degrees=(-10, 10)),\n",
        "                                              transforms.RandomAffine(degrees=0, translate=(.1, .1)),\n",
        "                                              transforms.RandomApply([transforms.ColorJitter(brightness=(1, 1.2),\n",
        "                                                                                              contrast=(1, 1.5),\n",
        "                                                                                              saturation=(1, 1.5),\n",
        "                                                                                              hue=(0, 0.5))]),\n",
        "                                              transforms.RandomErasing(p=0.5, scale=(0.05, 0.05), ratio=(0.3, 3.3), value=0,\n",
        "                                                                        inplace=False),\n",
        "                                              transforms.Resize((75, 75)),\n",
        "                                              transforms.Normalize((0.5,), (0.5,))])\n",
        "\n",
        "    train_data = datasets.ImageFolder(train_dir, transform=data_transform)\n",
        "    test_data = datasets.ImageFolder(test_dir, transform=data_transform)\n",
        "\n",
        "    # print('Num training images: ', len(train_data))\n",
        "    # print('Num test images: ', len(test_data))\n",
        "\n",
        "    # prepare data loaders\n",
        "    train_loader = torch.utils.data.DataLoader(train_data, batch_size=batch_size,\n",
        "                                               num_workers=num_workers, shuffle=True)\n",
        "    \n",
        "    # WeightedRandomSampler for test loader\n",
        "    idx2class_test = {v: k for k, v in test_data.class_to_idx.items()}\n",
        "\n",
        "    target_list_test = torch.tensor(test_data.targets)\n",
        "    class_count_test = [i for i in get_class_distribution(test_data, idx2class_test).values()]\n",
        "    class_weights_test = 1./torch.tensor(class_count_test, dtype=torch.float) \n",
        "    class_weights_all_test = class_weights_test[target_list_test]\n",
        "    weighted_sampler_test = torch.utils.data.WeightedRandomSampler(weights=class_weights_all_test, num_samples=len(class_weights_all_test), replacement=True)\n",
        "\n",
        "    test_loader = torch.utils.data.DataLoader(test_data, batch_size=batch_size,\n",
        "                                              num_workers=num_workers, sampler=weighted_sampler_test)\n",
        "\n",
        "    return train_loader, test_loader, classes"
      ],
      "execution_count": 4,
      "outputs": []
    },
    {
      "cell_type": "markdown",
      "metadata": {
        "id": "K4sXUrPPz7iF"
      },
      "source": [
        "Module: Train_model"
      ]
    },
    {
      "cell_type": "code",
      "metadata": {
        "id": "N2N_rnKLxN5c"
      },
      "source": [
        "def train_model(train_loader, optimizer, conv_net_model, criterion, my_lr_scheduler, n_epochs):\n",
        "    # track training loss over time\n",
        "    losses = []\n",
        "    \n",
        "    for epoch in range(1, n_epochs + 1):\n",
        "\n",
        "        # keep track of training and validation loss\n",
        "        train_loss = 0.0\n",
        "\n",
        "        # model by default is set to train\n",
        "        for batch_i, (data, target) in enumerate(train_loader):\n",
        "            # move tensors to GPU if CUDA is available\n",
        "            if train_on_gpu:\n",
        "                data, target = data.cuda(), target.cuda()\n",
        "            # clear the gradients of all optimized variables\n",
        "            optimizer.zero_grad()\n",
        "            # forward pass: compute predicted outputs by passing inputs to the model\n",
        "            output = conv_net_model(data)\n",
        "            # calculate the batch loss\n",
        "            loss = criterion(output, target)\n",
        "            # backward pass: compute gradient of the loss with respect to model parameters\n",
        "            loss.backward()\n",
        "            # perform a single optimization step (parameter update)\n",
        "            optimizer.step()\n",
        "            # update training loss\n",
        "            train_loss += loss.item()\n",
        "\n",
        "            my_lr_scheduler.step()\n",
        "\n",
        "            if batch_i % 20 == 19:  # print training loss every specified number of mini-batches\n",
        "                print('Epoch %d, Batch %d loss: %.16f' %\n",
        "                    (epoch, batch_i + 1, train_loss / 20))\n",
        "                losses.append(train_loss / 20)\n",
        "                train_loss = 0.0\n",
        "\n",
        "    return conv_net_model, losses"
      ],
      "execution_count": 5,
      "outputs": []
    },
    {
      "cell_type": "markdown",
      "metadata": {
        "id": "-Rrxo5RDz96U"
      },
      "source": [
        "Module: Test_model"
      ]
    },
    {
      "cell_type": "code",
      "metadata": {
        "id": "Ay-HlMJnxU9v"
      },
      "source": [
        "def test_model(classes, conv_net_model, test_loader, criterion):\n",
        "    # track test loss\n",
        "    test_loss = 0.0\n",
        "    class_correct = list(0. for i in range(len(classes)))\n",
        "    class_total = list(0. for i in range(len(classes)))\n",
        "\n",
        "    conv_net_model.eval()  # eval mode\n",
        "\n",
        "    labels = []\n",
        "    predictions = []\n",
        "    # iterate over test data\n",
        "    for data, target in test_loader:\n",
        "        # move tensors to GPU if CUDA is available\n",
        "        if train_on_gpu:\n",
        "            data, target = data.cuda(), target.cuda()\n",
        "        # forward pass: compute predicted outputs by passing inputs to the model\n",
        "        output = conv_net_model(data)\n",
        "\n",
        "        # calculate the batch loss\n",
        "        loss = criterion(output, target)\n",
        "        # update  test loss\n",
        "        test_loss += loss.item() * data.size(0)\n",
        "        # convert output probabilities to predicted class\n",
        "        _, pred = torch.max(output, 1)\n",
        "        # compare predictions to true label\n",
        "        correct_tensor = pred.eq(target.data.view_as(pred))\n",
        "        correct = np.squeeze(correct_tensor.numpy()) if not train_on_gpu else np.squeeze(correct_tensor.cpu().numpy())\n",
        "        # calculate test accuracy for each object class\n",
        "        for i in range(len(target.data)):\n",
        "            label = target.data[i]\n",
        "            class_correct[label] += correct[i].item()\n",
        "            class_total[label] += 1\n",
        "        \n",
        "        # Will be used for calculating Recall, Precision, and F1-score\n",
        "        labels.extend(target.data.view_as(pred).tolist())\n",
        "        predictions.extend(pred.tolist())\n",
        "\n",
        "\n",
        "    # calculate avg test loss\n",
        "    test_loss = test_loss / len(test_loader.dataset)\n",
        "    print('Test Loss: {:.6f}\\n'.format(test_loss))\n",
        "\n",
        "    return test_loss, class_correct, class_total, labels, predictions"
      ],
      "execution_count": 6,
      "outputs": []
    },
    {
      "cell_type": "markdown",
      "metadata": {
        "id": "xHh3PXE80Asa"
      },
      "source": [
        "Check whether CUDA is available (Change runtime type if not)"
      ]
    },
    {
      "cell_type": "code",
      "metadata": {
        "colab": {
          "base_uri": "https://localhost:8080/"
        },
        "id": "Q9TYPQH7x4zw",
        "outputId": "3420d5a6-db4d-43f2-9e26-64df78e5e27b"
      },
      "source": [
        "if not train_on_gpu:\n",
        "    print('CUDA is not available.  Training on CPU ...')\n",
        "else:\n",
        "    print('CUDA is available!  Training on GPU ...')"
      ],
      "execution_count": 7,
      "outputs": [
        {
          "output_type": "stream",
          "name": "stdout",
          "text": [
            "CUDA is available!  Training on GPU ...\n"
          ]
        }
      ]
    },
    {
      "cell_type": "markdown",
      "metadata": {
        "id": "6lYw8EKVx8Q7"
      },
      "source": [
        "Load Hieroglyph Data"
      ]
    },
    {
      "cell_type": "code",
      "metadata": {
        "colab": {
          "base_uri": "https://localhost:8080/"
        },
        "id": "laLvoRy1yewl",
        "outputId": "00a5c930-d2d7-47fd-a280-7983750b8381"
      },
      "source": [
        "# Connecting and Mounting to the Google Drive\n",
        "from google.colab import drive\n",
        "drive.mount('/content/drive')"
      ],
      "execution_count": 8,
      "outputs": [
        {
          "output_type": "stream",
          "name": "stdout",
          "text": [
            "Drive already mounted at /content/drive; to attempt to forcibly remount, call drive.mount(\"/content/drive\", force_remount=True).\n"
          ]
        }
      ]
    },
    {
      "cell_type": "code",
      "metadata": {
        "id": "odaoZt9GyfUt"
      },
      "source": [
        "data_dir = '/content/drive/MyDrive/EgyptianHieroglyphDataset_Original_Clean/'"
      ],
      "execution_count": 9,
      "outputs": []
    },
    {
      "cell_type": "code",
      "metadata": {
        "colab": {
          "base_uri": "https://localhost:8080/"
        },
        "id": "dF22MAnmyiC1",
        "outputId": "be382025-6dc5-46cd-ad2c-7f17e46790d9"
      },
      "source": [
        "hieroglyph_for_train = []\n",
        "file_count_list = []\n",
        "\n",
        "for name in os.listdir('/content/drive/MyDrive/EgyptianHieroglyphDataset_Original_Clean/train/'):\n",
        "  path, dirs, files = next(os.walk(\"/content/drive/MyDrive/EgyptianHieroglyphDataset_Original_Clean/train/\"+name))\n",
        "  file_count = len(files)\n",
        "  print(name, file_count)\n",
        "  file_count_list.append(file_count)\n",
        "  hieroglyph_for_train.append(name)\n",
        "\n",
        "hieroglyph_dict = dict(zip(hieroglyph_for_train, file_count_list))"
      ],
      "execution_count": 10,
      "outputs": [
        {
          "output_type": "stream",
          "name": "stdout",
          "text": [
            "Y5 6\n",
            "I9 116\n",
            "O34 15\n",
            "V13 63\n",
            "U7 3\n",
            "D46 40\n",
            "E34 97\n",
            "G1 28\n",
            "V31 106\n",
            "S34 8\n",
            "D36 47\n",
            "Q1 13\n",
            "V30 6\n",
            "F35 2\n",
            "O4 11\n",
            "M23 30\n",
            "S29 212\n",
            "R8 53\n",
            "W11 4\n",
            "X1 185\n",
            "Y1 1\n",
            "D21 146\n",
            "D2 19\n",
            "E23 8\n",
            "X8 4\n",
            "Z1 39\n",
            "D4 29\n",
            "V28 28\n",
            "I10 32\n",
            "O1 16\n",
            "M17 291\n",
            "F31 6\n",
            "G43 157\n",
            "D58 28\n",
            "O49 10\n",
            "G17 156\n",
            "R4 2\n",
            "Q3 61\n",
            "W24 31\n",
            "N35 358\n"
          ]
        }
      ]
    },
    {
      "cell_type": "markdown",
      "metadata": {
        "id": "XeQQ7PjZzKd9"
      },
      "source": [
        "Number of images for each hieroglyph "
      ]
    },
    {
      "cell_type": "code",
      "metadata": {
        "colab": {
          "base_uri": "https://localhost:8080/",
          "height": 609
        },
        "id": "W6IzWR2RyjxM",
        "outputId": "954de87f-cea5-4b3a-a936-3b191821d9c1"
      },
      "source": [
        "import matplotlib.pyplot as plt\n",
        "import pandas as pd\n",
        "\n",
        "df = pd.DataFrame({\"Hieroglyph\":hieroglyph_for_train, \"Count\":file_count_list})\n",
        "\n",
        "df_sorted= df.sort_values('Count',ascending=False)\n",
        "\n",
        "plt.figure(figsize=(20,10))\n",
        "# make bar plot with matplotlib\n",
        "plt.bar('Hieroglyph', 'Count',data=df_sorted)"
      ],
      "execution_count": 11,
      "outputs": [
        {
          "output_type": "execute_result",
          "data": {
            "text/plain": [
              "<BarContainer object of 40 artists>"
            ]
          },
          "metadata": {},
          "execution_count": 11
        },
        {
          "output_type": "display_data",
          "data": {
            "image/png": "[encoded data removed]",
            "text/plain": [
              "<Figure size 1440x720 with 1 Axes>"
            ]
          },
          "metadata": {
            "needs_background": "light"
          }
        }
      ]
    },
    {
      "cell_type": "code",
      "metadata": {
        "id": "-3oOm8rSx7tp"
      },
      "source": [
        "# Number of images processed in a single training\n",
        "batch_size = 20\n",
        "num_workers = 0\n",
        "\n",
        "# The load_data function is from hieroglyph_data_preparation python file\n",
        "train_loader, test_loader, classes = load_data(data_dir)"
      ],
      "execution_count": 12,
      "outputs": []
    },
    {
      "cell_type": "markdown",
      "metadata": {
        "id": "BJm8sGiBx_q5"
      },
      "source": [
        "ResNet Model"
      ]
    },
    {
      "cell_type": "code",
      "metadata": {
        "id": "JkLXVJGkxemC"
      },
      "source": [
        "# Whether to extract features with the model\n",
        "feature_extract = False\n",
        "# Other selections\n",
        "loss_function = \"cross-entropy\"\n",
        "model_selection = \"resnet-50\"\n",
        "optim_selection = \"Adam\"\n",
        "\n",
        "# False if you want scratch model, True if you want pretrained model\n",
        "whether_to_pretrain = False\n",
        "\n",
        "# Load the model\n",
        "if model_selection == \"resnet-50\":\n",
        "    resnet50 = models.resnet50(pretrained=whether_to_pretrain)\n",
        "    # Number of features in the last layer of resnet\n",
        "    n_inputs = resnet50.fc.in_features\n",
        "    # Add last linear layer (n_inputs -> 40 hieroglyph classes)\n",
        "    last_layer = nn.Sequential(\n",
        "                    nn.Linear(n_inputs, len(classes)))\n",
        "    resnet50.fc = last_layer\n",
        "    if train_on_gpu:\n",
        "      resnet50.cuda()\n",
        "    # Specify optimizer (Adam) and learning rate = 0.001\n",
        "    if optim_selection == \"Adam\":\n",
        "        optimizer = optim.Adam(resnet50.parameters(), lr=0.001)\n",
        "\n",
        "elif model_selection == \"inception-v3\":\n",
        "    inception_v3 = models.inception_v3(pretrained=whether_to_pretrain)\n",
        "    # Number of features in the last layer of resnet\n",
        "    n_inputs = inception_v3.fc.in_features\n",
        "    # Add last linear layer (n_inputs -> 40 hieroglyph classes)\n",
        "    last_layer = nn.Sequential(\n",
        "                    nn.Linear(n_inputs, len(classes)))\n",
        "    inception_v3.fc = last_layer\n",
        "    if train_on_gpu:\n",
        "      inception_v3.cuda()\n",
        "    # Specify optimizer (Adam) and learning rate = 0.001\n",
        "    if optim_selection == \"Adam\":\n",
        "        optimizer = optim.Adam(inception_v3.parameters(), lr=0.001)\n",
        "\n",
        "elif model_selection == \"xception\":\n",
        "    xception = timm.create_model('xception', pretrained=whether_to_pretrain)\n",
        "    # Number of features in the last layer of resnet\n",
        "    n_inputs = xception.fc.in_features\n",
        "    # Add last linear layer (n_inputs -> 40 hieroglyph classes)\n",
        "    last_layer = nn.Sequential(\n",
        "                    nn.Linear(n_inputs, len(classes)))\n",
        "    xception.fc = last_layer\n",
        "    if train_on_gpu:\n",
        "      xception.cuda()\n",
        "    # Specify optimizer (Adam) and learning rate = 0.001\n",
        "    if optim_selection == \"Adam\":\n",
        "        optimizer = optim.Adam(xception.parameters(), lr=0.001)\n",
        "\n",
        "# Specify loss function (categorical cross-entropy)\n",
        "if loss_function == \"cross-entropy\":\n",
        "    criterion = nn.CrossEntropyLoss()\n",
        "\n",
        "# Exponential Decay to strengthen learning\n",
        "decayRate = 0.999\n",
        "my_lr_scheduler = torch.optim.lr_scheduler.ExponentialLR(optimizer=optimizer, gamma=decayRate)"
      ],
      "execution_count": 13,
      "outputs": []
    },
    {
      "cell_type": "markdown",
      "metadata": {
        "id": "U2vnErB1yHmM"
      },
      "source": [
        "Training the model"
      ]
    },
    {
      "cell_type": "code",
      "metadata": {
        "colab": {
          "base_uri": "https://localhost:8080/"
        },
        "id": "dOB03noWyEvQ",
        "outputId": "6d99dd9b-9d4d-4a79-d3ea-e115ed5c5445"
      },
      "source": [
        "# number of epochs to train the model\n",
        "n_epochs = 50\n",
        "\n",
        "if model_selection == \"resnet-50\":\n",
        "  # The train_model function is from model_training python file\n",
        "  resnet50, train_losses = train_model(train_loader, optimizer, resnet50, criterion, my_lr_scheduler, n_epochs)\n",
        "elif model_selection == \"inception-v3\":\n",
        "  # The train_model function is from model_training python file\n",
        "  inception_v3, train_losses = train_model(train_loader, optimizer, inception_v3, criterion, my_lr_scheduler, n_epochs)\n",
        "elif model_selection == \"xception\":\n",
        "  # The train_model function is from model_training python file\n",
        "  xception, train_losses = train_model(train_loader, optimizer, xception, criterion, my_lr_scheduler, n_epochs)"
      ],
      "execution_count": 14,
      "outputs": [
        {
          "output_type": "stream",
          "name": "stdout",
          "text": [
            "Epoch 1, Batch 20 loss: 4.1539815068244934\n",
            "Epoch 1, Batch 40 loss: 3.2588010191917420\n",
            "Epoch 1, Batch 60 loss: 2.8705749034881594\n",
            "Epoch 1, Batch 80 loss: 2.7825077295303347\n",
            "Epoch 1, Batch 100 loss: 2.5913107931613921\n",
            "Epoch 1, Batch 120 loss: 2.4451573431491851\n",
            "Epoch 2, Batch 20 loss: 2.0111468672752379\n",
            "Epoch 2, Batch 40 loss: 1.9492158591747284\n",
            "Epoch 2, Batch 60 loss: 1.9642651677131653\n",
            "Epoch 2, Batch 80 loss: 1.9911817729473114\n",
            "Epoch 2, Batch 100 loss: 1.4841841816902162\n",
            "Epoch 2, Batch 120 loss: 1.3840274482965469\n",
            "Epoch 3, Batch 20 loss: 1.3035962522029876\n",
            "Epoch 3, Batch 40 loss: 1.1884049206972123\n",
            "Epoch 3, Batch 60 loss: 1.1306664317846298\n",
            "Epoch 3, Batch 80 loss: 1.1749210029840469\n",
            "Epoch 3, Batch 100 loss: 1.1587682873010636\n",
            "Epoch 3, Batch 120 loss: 1.1015463262796401\n",
            "Epoch 4, Batch 20 loss: 0.9586393564939499\n",
            "Epoch 4, Batch 40 loss: 0.8691994056105614\n",
            "Epoch 4, Batch 60 loss: 0.9039113283157348\n",
            "Epoch 4, Batch 80 loss: 0.8467815831303597\n",
            "Epoch 4, Batch 100 loss: 0.8517379537224770\n",
            "Epoch 4, Batch 120 loss: 0.7868360146880150\n",
            "Epoch 5, Batch 20 loss: 0.7328599140048027\n",
            "Epoch 5, Batch 40 loss: 0.7311683177947998\n",
            "Epoch 5, Batch 60 loss: 0.7478645294904709\n",
            "Epoch 5, Batch 80 loss: 0.7213217854499817\n",
            "Epoch 5, Batch 100 loss: 0.7913338482379914\n",
            "Epoch 5, Batch 120 loss: 0.6619278505444527\n",
            "Epoch 6, Batch 20 loss: 0.7438016489148140\n",
            "Epoch 6, Batch 40 loss: 0.6468413688242436\n",
            "Epoch 6, Batch 60 loss: 0.5445704624056816\n",
            "Epoch 6, Batch 80 loss: 0.7103342294692994\n",
            "Epoch 6, Batch 100 loss: 0.4646219164133072\n",
            "Epoch 6, Batch 120 loss: 0.5282952241599560\n",
            "Epoch 7, Batch 20 loss: 0.5247430339455604\n",
            "Epoch 7, Batch 40 loss: 0.4519217278808355\n",
            "Epoch 7, Batch 60 loss: 0.5396623209118843\n",
            "Epoch 7, Batch 80 loss: 0.3872125044465065\n",
            "Epoch 7, Batch 100 loss: 0.5444483853876591\n",
            "Epoch 7, Batch 120 loss: 0.4030262015759945\n",
            "Epoch 8, Batch 20 loss: 0.4230757288634777\n",
            "Epoch 8, Batch 40 loss: 0.3845550395548344\n",
            "Epoch 8, Batch 60 loss: 0.4075459018349648\n",
            "Epoch 8, Batch 80 loss: 0.4149353891611099\n",
            "Epoch 8, Batch 100 loss: 0.4383624497801065\n",
            "Epoch 8, Batch 120 loss: 0.3672995381057262\n",
            "Epoch 9, Batch 20 loss: 0.3714726835489273\n",
            "Epoch 9, Batch 40 loss: 0.3962568342685699\n",
            "Epoch 9, Batch 60 loss: 0.4127405788749456\n",
            "Epoch 9, Batch 80 loss: 0.3639369346201420\n",
            "Epoch 9, Batch 100 loss: 0.3078598558902740\n",
            "Epoch 9, Batch 120 loss: 0.3961946465075016\n",
            "Epoch 10, Batch 20 loss: 0.2757341604679823\n",
            "Epoch 10, Batch 40 loss: 0.3760417960584164\n",
            "Epoch 10, Batch 60 loss: 0.2473558120429516\n",
            "Epoch 10, Batch 80 loss: 0.2557742267847061\n",
            "Epoch 10, Batch 100 loss: 0.3690290510654449\n",
            "Epoch 10, Batch 120 loss: 0.3501276919618249\n",
            "Epoch 11, Batch 20 loss: 0.2956317406147718\n",
            "Epoch 11, Batch 40 loss: 0.2392149642109871\n",
            "Epoch 11, Batch 60 loss: 0.3149843954481185\n",
            "Epoch 11, Batch 80 loss: 0.3553938481956720\n",
            "Epoch 11, Batch 100 loss: 0.3057534381747246\n",
            "Epoch 11, Batch 120 loss: 0.3820873849093914\n",
            "Epoch 12, Batch 20 loss: 0.2822438552975655\n",
            "Epoch 12, Batch 40 loss: 0.2445012036710978\n",
            "Epoch 12, Batch 60 loss: 0.1990252018906176\n",
            "Epoch 12, Batch 80 loss: 0.3351355463266373\n",
            "Epoch 12, Batch 100 loss: 0.2657948501408100\n",
            "Epoch 12, Batch 120 loss: 0.1912305938079953\n",
            "Epoch 13, Batch 20 loss: 0.2088641660287976\n",
            "Epoch 13, Batch 40 loss: 0.2176687963306904\n",
            "Epoch 13, Batch 60 loss: 0.2163844238035381\n",
            "Epoch 13, Batch 80 loss: 0.1784136051312089\n",
            "Epoch 13, Batch 100 loss: 0.1981249822303653\n",
            "Epoch 13, Batch 120 loss: 0.2292562433518469\n",
            "Epoch 14, Batch 20 loss: 0.2164503687061369\n",
            "Epoch 14, Batch 40 loss: 0.2500024190172553\n",
            "Epoch 14, Batch 60 loss: 0.2217397332191467\n",
            "Epoch 14, Batch 80 loss: 0.1743880717083812\n",
            "Epoch 14, Batch 100 loss: 0.1899747403804213\n",
            "Epoch 14, Batch 120 loss: 0.1837201456539333\n",
            "Epoch 15, Batch 20 loss: 0.1519991989247501\n",
            "Epoch 15, Batch 40 loss: 0.1846143582835794\n",
            "Epoch 15, Batch 60 loss: 0.1518479205667972\n",
            "Epoch 15, Batch 80 loss: 0.1618303469382227\n",
            "Epoch 15, Batch 100 loss: 0.1849037619307637\n",
            "Epoch 15, Batch 120 loss: 0.2294900227338076\n",
            "Epoch 16, Batch 20 loss: 0.1701867243740708\n",
            "Epoch 16, Batch 40 loss: 0.1684576444327831\n",
            "Epoch 16, Batch 60 loss: 0.1330658067017794\n",
            "Epoch 16, Batch 80 loss: 0.1694383190944791\n",
            "Epoch 16, Batch 100 loss: 0.1644876493141055\n",
            "Epoch 16, Batch 120 loss: 0.1525515569373965\n",
            "Epoch 17, Batch 20 loss: 0.2294724442064762\n",
            "Epoch 17, Batch 40 loss: 0.1795388629660010\n",
            "Epoch 17, Batch 60 loss: 0.2060747594106943\n",
            "Epoch 17, Batch 80 loss: 0.2126887004822492\n",
            "Epoch 17, Batch 100 loss: 0.1325155588798225\n",
            "Epoch 17, Batch 120 loss: 0.1703520846553147\n",
            "Epoch 18, Batch 20 loss: 0.1412561005912721\n",
            "Epoch 18, Batch 40 loss: 0.1533179141581059\n",
            "Epoch 18, Batch 60 loss: 0.1245796973817050\n",
            "Epoch 18, Batch 80 loss: 0.1491835581138730\n",
            "Epoch 18, Batch 100 loss: 0.1438992904964835\n",
            "Epoch 18, Batch 120 loss: 0.1493525867350400\n",
            "Epoch 19, Batch 20 loss: 0.1221797863021493\n",
            "Epoch 19, Batch 40 loss: 0.1322858855593950\n",
            "Epoch 19, Batch 60 loss: 0.1318998450879008\n",
            "Epoch 19, Batch 80 loss: 0.1330510539934039\n",
            "Epoch 19, Batch 100 loss: 0.1223652012646198\n",
            "Epoch 19, Batch 120 loss: 0.0968954346142709\n",
            "Epoch 20, Batch 20 loss: 0.1285694731865078\n",
            "Epoch 20, Batch 40 loss: 0.1302353534847498\n",
            "Epoch 20, Batch 60 loss: 0.1166808148846030\n",
            "Epoch 20, Batch 80 loss: 0.1622698847670108\n",
            "Epoch 20, Batch 100 loss: 0.1079550948459655\n",
            "Epoch 20, Batch 120 loss: 0.1248531234217808\n",
            "Epoch 21, Batch 20 loss: 0.1433855195529759\n",
            "Epoch 21, Batch 40 loss: 0.0913849717937410\n",
            "Epoch 21, Batch 60 loss: 0.1436585995368659\n",
            "Epoch 21, Batch 80 loss: 0.1729384277015925\n",
            "Epoch 21, Batch 100 loss: 0.0970966346561909\n",
            "Epoch 21, Batch 120 loss: 0.0969237433280796\n",
            "Epoch 22, Batch 20 loss: 0.1095737478695810\n",
            "Epoch 22, Batch 40 loss: 0.0771840606583282\n",
            "Epoch 22, Batch 60 loss: 0.1866993905510753\n",
            "Epoch 22, Batch 80 loss: 0.0751658699475229\n",
            "Epoch 22, Batch 100 loss: 0.0842597914859653\n",
            "Epoch 22, Batch 120 loss: 0.1060395418666303\n",
            "Epoch 23, Batch 20 loss: 0.1533850887324661\n",
            "Epoch 23, Batch 40 loss: 0.0683825577842072\n",
            "Epoch 23, Batch 60 loss: 0.1119985806290060\n",
            "Epoch 23, Batch 80 loss: 0.1031512765679508\n",
            "Epoch 23, Batch 100 loss: 0.0620222650468349\n",
            "Epoch 23, Batch 120 loss: 0.0528682262636721\n",
            "Epoch 24, Batch 20 loss: 0.1028178330510855\n",
            "Epoch 24, Batch 40 loss: 0.0824345810338855\n",
            "Epoch 24, Batch 60 loss: 0.0961496663512662\n",
            "Epoch 24, Batch 80 loss: 0.0926873545162380\n",
            "Epoch 24, Batch 100 loss: 0.0992685476318002\n",
            "Epoch 24, Batch 120 loss: 0.0828947625006549\n",
            "Epoch 25, Batch 20 loss: 0.1147659021662548\n",
            "Epoch 25, Batch 40 loss: 0.1047363268793561\n",
            "Epoch 25, Batch 60 loss: 0.0973699733149260\n",
            "Epoch 25, Batch 80 loss: 0.1124669471755624\n",
            "Epoch 25, Batch 100 loss: 0.0792300417553633\n",
            "Epoch 25, Batch 120 loss: 0.0940837768372148\n",
            "Epoch 26, Batch 20 loss: 0.0694291377731133\n",
            "Epoch 26, Batch 40 loss: 0.0661997928284109\n",
            "Epoch 26, Batch 60 loss: 0.0777739383745939\n",
            "Epoch 26, Batch 80 loss: 0.0889870641520247\n",
            "Epoch 26, Batch 100 loss: 0.0850789005169645\n",
            "Epoch 26, Batch 120 loss: 0.0631512550171465\n",
            "Epoch 27, Batch 20 loss: 0.0561034322716296\n",
            "Epoch 27, Batch 40 loss: 0.0841929550981149\n",
            "Epoch 27, Batch 60 loss: 0.0963044697185978\n",
            "Epoch 27, Batch 80 loss: 0.1086708982591517\n",
            "Epoch 27, Batch 100 loss: 0.0948199535720050\n",
            "Epoch 27, Batch 120 loss: 0.0806371141225100\n",
            "Epoch 28, Batch 20 loss: 0.0756660224753432\n",
            "Epoch 28, Batch 40 loss: 0.0807878219988197\n",
            "Epoch 28, Batch 60 loss: 0.0598093189299107\n",
            "Epoch 28, Batch 80 loss: 0.0879291765508242\n",
            "Epoch 28, Batch 100 loss: 0.0804795791162178\n",
            "Epoch 28, Batch 120 loss: 0.1121461288072169\n",
            "Epoch 29, Batch 20 loss: 0.0716317344689742\n",
            "Epoch 29, Batch 40 loss: 0.0690163029823452\n",
            "Epoch 29, Batch 60 loss: 0.0872621004236862\n",
            "Epoch 29, Batch 80 loss: 0.0550402397755533\n",
            "Epoch 29, Batch 100 loss: 0.0605460569960996\n",
            "Epoch 29, Batch 120 loss: 0.0753693213220686\n",
            "Epoch 30, Batch 20 loss: 0.0660393485799432\n",
            "Epoch 30, Batch 40 loss: 0.0628656712477095\n",
            "Epoch 30, Batch 60 loss: 0.0744045918458141\n",
            "Epoch 30, Batch 80 loss: 0.0723088102880865\n",
            "Epoch 30, Batch 100 loss: 0.0439723217394203\n",
            "Epoch 30, Batch 120 loss: 0.0799806319293566\n",
            "Epoch 31, Batch 20 loss: 0.0359305494697765\n",
            "Epoch 31, Batch 40 loss: 0.0853882271912880\n",
            "Epoch 31, Batch 60 loss: 0.0912912567146122\n",
            "Epoch 31, Batch 80 loss: 0.0831992528052069\n",
            "Epoch 31, Batch 100 loss: 0.0939506352879107\n",
            "Epoch 31, Batch 120 loss: 0.0656114866607822\n",
            "Epoch 32, Batch 20 loss: 0.0623005007277243\n",
            "Epoch 32, Batch 40 loss: 0.0586397703387775\n",
            "Epoch 32, Batch 60 loss: 0.0840076735243201\n",
            "Epoch 32, Batch 80 loss: 0.0797516190679744\n",
            "Epoch 32, Batch 100 loss: 0.0506541623035446\n",
            "Epoch 32, Batch 120 loss: 0.0504445770522580\n",
            "Epoch 33, Batch 20 loss: 0.0334237402072176\n",
            "Epoch 33, Batch 40 loss: 0.0795356981689110\n",
            "Epoch 33, Batch 60 loss: 0.0536151208565570\n",
            "Epoch 33, Batch 80 loss: 0.0946879773109686\n",
            "Epoch 33, Batch 100 loss: 0.0632683734642342\n",
            "Epoch 33, Batch 120 loss: 0.0662208380526863\n",
            "Epoch 34, Batch 20 loss: 0.0415390582173131\n",
            "Epoch 34, Batch 40 loss: 0.0650609723292291\n",
            "Epoch 34, Batch 60 loss: 0.0603280965704471\n",
            "Epoch 34, Batch 80 loss: 0.0580545080360025\n",
            "Epoch 34, Batch 100 loss: 0.0651256643875968\n",
            "Epoch 34, Batch 120 loss: 0.0932617544604000\n",
            "Epoch 35, Batch 20 loss: 0.0502592050470412\n",
            "Epoch 35, Batch 40 loss: 0.0351718818070367\n",
            "Epoch 35, Batch 60 loss: 0.0736227992747445\n",
            "Epoch 35, Batch 80 loss: 0.0694392759818584\n",
            "Epoch 35, Batch 100 loss: 0.0532871613046154\n",
            "Epoch 35, Batch 120 loss: 0.0500654953648336\n",
            "Epoch 36, Batch 20 loss: 0.0671202415251173\n",
            "Epoch 36, Batch 40 loss: 0.0670587618835270\n",
            "Epoch 36, Batch 60 loss: 0.0665932004107162\n",
            "Epoch 36, Batch 80 loss: 0.0466236605658196\n",
            "Epoch 36, Batch 100 loss: 0.0360550731769763\n",
            "Epoch 36, Batch 120 loss: 0.0420073145942297\n",
            "Epoch 37, Batch 20 loss: 0.0438862864393741\n",
            "Epoch 37, Batch 40 loss: 0.0521959812147543\n",
            "Epoch 37, Batch 60 loss: 0.0527887426316738\n",
            "Epoch 37, Batch 80 loss: 0.0448844351805747\n",
            "Epoch 37, Batch 100 loss: 0.1223104941193014\n",
            "Epoch 37, Batch 120 loss: 0.0732711377670057\n",
            "Epoch 38, Batch 20 loss: 0.0634514842531644\n",
            "Epoch 38, Batch 40 loss: 0.0769563715904951\n",
            "Epoch 38, Batch 60 loss: 0.0560962546849623\n",
            "Epoch 38, Batch 80 loss: 0.0300840404117480\n",
            "Epoch 38, Batch 100 loss: 0.0376033308566548\n",
            "Epoch 38, Batch 120 loss: 0.0406999412924051\n",
            "Epoch 39, Batch 20 loss: 0.0725777028361335\n",
            "Epoch 39, Batch 40 loss: 0.0402424698346294\n",
            "Epoch 39, Batch 60 loss: 0.0474914014339447\n",
            "Epoch 39, Batch 80 loss: 0.0664527600340079\n",
            "Epoch 39, Batch 100 loss: 0.0411954223178327\n",
            "Epoch 39, Batch 120 loss: 0.0774222143460065\n",
            "Epoch 40, Batch 20 loss: 0.0670278309378773\n",
            "Epoch 40, Batch 40 loss: 0.0483971209323499\n",
            "Epoch 40, Batch 60 loss: 0.0552521233214065\n",
            "Epoch 40, Batch 80 loss: 0.0523725485429168\n",
            "Epoch 40, Batch 100 loss: 0.0235868649091572\n",
            "Epoch 40, Batch 120 loss: 0.1045776189770549\n",
            "Epoch 41, Batch 20 loss: 0.0747111647506244\n",
            "Epoch 41, Batch 40 loss: 0.0660809689667076\n",
            "Epoch 41, Batch 60 loss: 0.0532760986825451\n",
            "Epoch 41, Batch 80 loss: 0.0309129551053047\n",
            "Epoch 41, Batch 100 loss: 0.0680591058859136\n",
            "Epoch 41, Batch 120 loss: 0.0686191585846245\n",
            "Epoch 42, Batch 20 loss: 0.0485239994479343\n",
            "Epoch 42, Batch 40 loss: 0.0320861870655790\n",
            "Epoch 42, Batch 60 loss: 0.0763475074898452\n",
            "Epoch 42, Batch 80 loss: 0.0922120606759563\n",
            "Epoch 42, Batch 100 loss: 0.0540029657538980\n",
            "Epoch 42, Batch 120 loss: 0.0543175119557418\n",
            "Epoch 43, Batch 20 loss: 0.0625262268818915\n",
            "Epoch 43, Batch 40 loss: 0.0785983661306091\n",
            "Epoch 43, Batch 60 loss: 0.0428147358703427\n",
            "Epoch 43, Batch 80 loss: 0.0391638351138681\n",
            "Epoch 43, Batch 100 loss: 0.0368974270881154\n",
            "Epoch 43, Batch 120 loss: 0.0728138333535753\n",
            "Epoch 44, Batch 20 loss: 0.0653237756690942\n",
            "Epoch 44, Batch 40 loss: 0.0769852097146213\n",
            "Epoch 44, Batch 60 loss: 0.0470650119881611\n",
            "Epoch 44, Batch 80 loss: 0.0443578752223402\n",
            "Epoch 44, Batch 100 loss: 0.0651209492469206\n",
            "Epoch 44, Batch 120 loss: 0.0263841021340340\n",
            "Epoch 45, Batch 20 loss: 0.0663117186864838\n",
            "Epoch 45, Batch 40 loss: 0.0409289976581931\n",
            "Epoch 45, Batch 60 loss: 0.0285641559748910\n",
            "Epoch 45, Batch 80 loss: 0.0435362488613464\n",
            "Epoch 45, Batch 100 loss: 0.0328908366034739\n",
            "Epoch 45, Batch 120 loss: 0.0564987132325768\n",
            "Epoch 46, Batch 20 loss: 0.0433951182989404\n",
            "Epoch 46, Batch 40 loss: 0.0452941848605406\n",
            "Epoch 46, Batch 60 loss: 0.0616693901130930\n",
            "Epoch 46, Batch 80 loss: 0.0494540525134653\n",
            "Epoch 46, Batch 100 loss: 0.0540283176640514\n",
            "Epoch 46, Batch 120 loss: 0.0660867723170668\n",
            "Epoch 47, Batch 20 loss: 0.0374651318881661\n",
            "Epoch 47, Batch 40 loss: 0.0782573358272202\n",
            "Epoch 47, Batch 60 loss: 0.0408481940510683\n",
            "Epoch 47, Batch 80 loss: 0.0675154982251115\n",
            "Epoch 47, Batch 100 loss: 0.0422003280604258\n",
            "Epoch 47, Batch 120 loss: 0.0567825676873326\n",
            "Epoch 48, Batch 20 loss: 0.0476480467477813\n",
            "Epoch 48, Batch 40 loss: 0.0448296040529385\n",
            "Epoch 48, Batch 60 loss: 0.0606840246648062\n",
            "Epoch 48, Batch 80 loss: 0.0408354813698679\n",
            "Epoch 48, Batch 100 loss: 0.0671668296447024\n",
            "Epoch 48, Batch 120 loss: 0.0383532785344869\n",
            "Epoch 49, Batch 20 loss: 0.0413944104861002\n",
            "Epoch 49, Batch 40 loss: 0.0397769823786803\n",
            "Epoch 49, Batch 60 loss: 0.0737502742675133\n",
            "Epoch 49, Batch 80 loss: 0.0573271966190077\n",
            "Epoch 49, Batch 100 loss: 0.0328824921627529\n",
            "Epoch 49, Batch 120 loss: 0.0518451677402481\n",
            "Epoch 50, Batch 20 loss: 0.0414298263844103\n",
            "Epoch 50, Batch 40 loss: 0.0198405324888881\n",
            "Epoch 50, Batch 60 loss: 0.0818974695517682\n",
            "Epoch 50, Batch 80 loss: 0.0632979585323483\n",
            "Epoch 50, Batch 100 loss: 0.0531193214352243\n",
            "Epoch 50, Batch 120 loss: 0.0929669618373737\n"
          ]
        }
      ]
    },
    {
      "cell_type": "code",
      "metadata": {
        "id": "CfA7ZjLR1BZP",
        "colab": {
          "base_uri": "https://localhost:8080/",
          "height": 281
        },
        "outputId": "e7b95763-cfa1-4201-e817-1b1fc132877e"
      },
      "source": [
        "plt.plot(train_losses)\n",
        "plt.title(\"Training Loss\")\n",
        "plt.show()"
      ],
      "execution_count": 15,
      "outputs": [
        {
          "output_type": "display_data",
          "data": {
            "image/png": "[encoded data removed]",
            "text/plain": [
              "<Figure size 432x288 with 1 Axes>"
            ]
          },
          "metadata": {
            "needs_background": "light"
          }
        }
      ]
    },
    {
      "cell_type": "markdown",
      "metadata": {
        "id": "ItLyF9dQyJFL"
      },
      "source": [
        "Testing the model"
      ]
    },
    {
      "cell_type": "code",
      "metadata": {
        "id": "gGki98W3SoEW"
      },
      "source": [
        "from sklearn.metrics import precision_score, recall_score, f1_score, accuracy_score"
      ],
      "execution_count": 16,
      "outputs": []
    },
    {
      "cell_type": "code",
      "metadata": {
        "id": "xNavYOynyE6d",
        "colab": {
          "base_uri": "https://localhost:8080/"
        },
        "outputId": "ac66069c-7a8a-4296-a1c7-c893d0acfc68"
      },
      "source": [
        "# The test_model function is from model_testing python file\n",
        "test_loss, class_correct, class_total, labels, predictions = test_model(classes, resnet50, test_loader, criterion)\n",
        "\n",
        "# Test accuracy for each hieroglyph\n",
        "for i in range(len(classes)):\n",
        "    if class_total[i] > 0:\n",
        "        print('Test Accuracy of %5s: %2d%% (%2d/%2d)' % (classes[i], 100 * class_correct[i] / class_total[i], np.sum(class_correct[i]), np.sum(class_total[i])))\n",
        "    else:\n",
        "        print('Test Accuracy of %5s: N/A (no training examples)' % (classes[i]))\n",
        "\n",
        "# Total Test accuracy\n",
        "print(\"\\nAccuracy: {:.3%}\".format(accuracy_score(labels, predictions)))\n",
        "print(\"\\nPrecision: {:.3%}\".format(precision_score(labels, predictions, average = 'weighted')))\n",
        "print(\"\\nRecall: {:.3%}\".format(recall_score(labels, predictions, average = 'weighted')))\n",
        "print(\"\\nF1-score: {:.3%}\".format(f1_score(labels, predictions, average = 'weighted')))"
      ],
      "execution_count": 17,
      "outputs": [
        {
          "output_type": "stream",
          "name": "stdout",
          "text": [
            "Test Loss: 0.193166\n",
            "\n",
            "Test Accuracy of    D2: 100% (18/18)\n",
            "Test Accuracy of   D21: 94% (18/19)\n",
            "Test Accuracy of   D36: 77% ( 7/ 9)\n",
            "Test Accuracy of    D4: 100% (11/11)\n",
            "Test Accuracy of   D46: 76% (13/17)\n",
            "Test Accuracy of   D58: 84% (16/19)\n",
            "Test Accuracy of   E23: 73% (14/19)\n",
            "Test Accuracy of   E34: 100% (16/16)\n",
            "Test Accuracy of   F31: 100% (14/14)\n",
            "Test Accuracy of   F35: 100% (13/13)\n",
            "Test Accuracy of    G1: 87% (14/16)\n",
            "Test Accuracy of   G17: 95% (20/21)\n",
            "Test Accuracy of   G43: 100% (18/18)\n",
            "Test Accuracy of   I10: 100% (18/18)\n",
            "Test Accuracy of    I9: 100% (10/10)\n",
            "Test Accuracy of   M17: 100% (18/18)\n",
            "Test Accuracy of   M23: 100% (11/11)\n",
            "Test Accuracy of   N35: 100% (20/20)\n",
            "Test Accuracy of    O1: 100% (12/12)\n",
            "Test Accuracy of   O34: 80% (17/21)\n",
            "Test Accuracy of    O4: 100% (16/16)\n",
            "Test Accuracy of   O49: 100% (13/13)\n",
            "Test Accuracy of    Q1: 76% (13/17)\n",
            "Test Accuracy of    Q3: 93% (15/16)\n",
            "Test Accuracy of    R4: 100% (15/15)\n",
            "Test Accuracy of    R8: 100% (12/12)\n",
            "Test Accuracy of   S29: 100% (14/14)\n",
            "Test Accuracy of   S34: 100% (14/14)\n",
            "Test Accuracy of    U7: 100% (15/15)\n",
            "Test Accuracy of   V13: 92% (13/14)\n",
            "Test Accuracy of   V28: 89% (17/19)\n",
            "Test Accuracy of   V30: 70% (12/17)\n",
            "Test Accuracy of   V31: 93% (14/15)\n",
            "Test Accuracy of   W11: 77% (17/22)\n",
            "Test Accuracy of   W24: 81% ( 9/11)\n",
            "Test Accuracy of    X1: 100% (16/16)\n",
            "Test Accuracy of    X8: 100% (17/17)\n",
            "Test Accuracy of    Y1: 85% (12/14)\n",
            "Test Accuracy of    Y5: 100% (19/19)\n",
            "Test Accuracy of    Z1: 100% (17/17)\n",
            "\n",
            "Accuracy: 92.891%\n",
            "\n",
            "Precision: 93.452%\n",
            "\n",
            "Recall: 92.891%\n",
            "\n",
            "F1-score: 92.825%\n"
          ]
        }
      ]
    }
  ]
}