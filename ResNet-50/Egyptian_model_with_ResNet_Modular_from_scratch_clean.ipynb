{
  "nbformat": 4,
  "nbformat_minor": 0,
  "metadata": {
    "colab": {
      "name": "Egyptian_model_with_ResNet_Modular_from_scratch_clean.ipynb",
      "provenance": []
    },
    "kernelspec": {
      "name": "python3",
      "display_name": "Python 3"
    },
    "language_info": {
      "name": "python"
    },
    "accelerator": "GPU"
  },
  "cells": [
    {
      "cell_type": "code",
      "metadata": {
        "id": "8iEiGSblxJzW"
      },
      "source": [
        "import os, os.path\n",
        "import torch\n",
        "import numpy as np\n",
        "import torch.nn as nn\n",
        "import torch.optim as optim\n",
        "from pathlib import Path\n",
        "from torchvision import datasets, models, transforms\n",
        "\n",
        "# check if CUDA is available\n",
        "train_on_gpu = torch.cuda.is_available()"
      ],
      "execution_count": null,
      "outputs": []
    },
    {
      "cell_type": "markdown",
      "metadata": {
        "id": "Jd6KU8VMz6J3"
      },
      "source": [
        "Module: Load_data"
      ]
    },
    {
      "cell_type": "code",
      "metadata": {
        "id": "8lWX0BW_w_kC"
      },
      "source": [
        "def load_data(hieroglyph_directory_path, batch_size=20, num_workers=0):\n",
        "    train_dir = os.path.join(hieroglyph_directory_path, 'train/')\n",
        "    test_dir = os.path.join(hieroglyph_directory_path, 'test/')\n",
        "\n",
        "    classes = []\n",
        "\n",
        "    for filename in os.listdir(train_dir):\n",
        "        if filename == '.DS_Store':\n",
        "            pass\n",
        "        else:\n",
        "            classes.append(filename)\n",
        "\n",
        "    classes.sort()\n",
        "\n",
        "    # print(\"Our classes:\", classes)\n",
        "    # print(len(classes))\n",
        "\n",
        "    data_transform = transforms.Compose([transforms.ToTensor(),\n",
        "                                         transforms.RandomApply([transforms.RandomHorizontalFlip()]),\n",
        "                                         transforms.RandomRotation(degrees=(-10, 10)),\n",
        "                                         transforms.RandomAffine(degrees=0, translate=(.1, .1)),\n",
        "                                         transforms.RandomApply([transforms.ColorJitter(brightness=(1, 1.2),\n",
        "                                                                                        contrast=(1, 1.5),\n",
        "                                                                                        saturation=(1, 1.5),\n",
        "                                                                                        hue=(0, 0.5))]),\n",
        "                                         transforms.RandomErasing(p=0.5, scale=(0.05, 0.05), ratio=(0.3, 3.3), value=0,\n",
        "                                                                  inplace=False),\n",
        "                                         transforms.Normalize((0.5,), (0.5,))])\n",
        "\n",
        "    train_data = datasets.ImageFolder(train_dir, transform=data_transform)\n",
        "    test_data = datasets.ImageFolder(test_dir, transform=data_transform)\n",
        "\n",
        "    # print('Num training images: ', len(train_data))\n",
        "    # print('Num test images: ', len(test_data))\n",
        "\n",
        "    # prepare data loaders\n",
        "    train_loader = torch.utils.data.DataLoader(train_data, batch_size=batch_size,\n",
        "                                               num_workers=num_workers, shuffle=True)\n",
        "    test_loader = torch.utils.data.DataLoader(test_data, batch_size=batch_size,\n",
        "                                              num_workers=num_workers, shuffle=True)\n",
        "\n",
        "    return train_loader, test_loader, classes"
      ],
      "execution_count": null,
      "outputs": []
    },
    {
      "cell_type": "markdown",
      "metadata": {
        "id": "K4sXUrPPz7iF"
      },
      "source": [
        "Module: Train_model"
      ]
    },
    {
      "cell_type": "code",
      "metadata": {
        "id": "N2N_rnKLxN5c"
      },
      "source": [
        "def train_model(train_loader, optimizer, resnet50, criterion, my_lr_scheduler, n_epochs):\n",
        "    # track training loss over time\n",
        "    losses = []\n",
        "    \n",
        "    for epoch in range(1, n_epochs + 1):\n",
        "\n",
        "        # keep track of training and validation loss\n",
        "        train_loss = 0.0\n",
        "\n",
        "        # model by default is set to train\n",
        "        for batch_i, (data, target) in enumerate(train_loader):\n",
        "            # move tensors to GPU if CUDA is available\n",
        "            if train_on_gpu:\n",
        "                data, target = data.cuda(), target.cuda()\n",
        "            # clear the gradients of all optimized variables\n",
        "            optimizer.zero_grad()\n",
        "            # forward pass: compute predicted outputs by passing inputs to the model\n",
        "            output = resnet50(data)\n",
        "            # calculate the batch loss\n",
        "            loss = criterion(output, target)\n",
        "            # backward pass: compute gradient of the loss with respect to model parameters\n",
        "            loss.backward()\n",
        "            # perform a single optimization step (parameter update)\n",
        "            optimizer.step()\n",
        "            # update training loss\n",
        "            train_loss += loss.item()\n",
        "\n",
        "            my_lr_scheduler.step()\n",
        "\n",
        "            if batch_i % 20 == 19:  # print training loss every specified number of mini-batches\n",
        "                print('Epoch %d, Batch %d loss: %.16f' %\n",
        "                    (epoch, batch_i + 1, train_loss / 20))\n",
        "                losses.append(train_loss / 20)\n",
        "                train_loss = 0.0\n",
        "        \n",
        "        \n",
        "\n",
        "    return resnet50, losses"
      ],
      "execution_count": null,
      "outputs": []
    },
    {
      "cell_type": "markdown",
      "metadata": {
        "id": "-Rrxo5RDz96U"
      },
      "source": [
        "Module: Test_model"
      ]
    },
    {
      "cell_type": "code",
      "metadata": {
        "id": "Ay-HlMJnxU9v"
      },
      "source": [
        "def test_model(classes, resnet50, test_loader, criterion):\n",
        "    # track test loss\n",
        "    test_loss = 0.0\n",
        "    class_correct = list(0. for i in range(len(classes)))\n",
        "    class_total = list(0. for i in range(len(classes)))\n",
        "\n",
        "    resnet50.eval()  # eval mode\n",
        "\n",
        "    labels = []\n",
        "    predictions = []\n",
        "    # iterate over test data\n",
        "    for data, target in test_loader:\n",
        "        # move tensors to GPU if CUDA is available\n",
        "        if train_on_gpu:\n",
        "            data, target = data.cuda(), target.cuda()\n",
        "        # forward pass: compute predicted outputs by passing inputs to the model\n",
        "        output = resnet50(data)\n",
        "        # calculate the batch loss\n",
        "        loss = criterion(output, target)\n",
        "        # update  test loss\n",
        "        test_loss += loss.item() * data.size(0)\n",
        "        # convert output probabilities to predicted class\n",
        "        _, pred = torch.max(output, 1)\n",
        "        # compare predictions to true label\n",
        "        correct_tensor = pred.eq(target.data.view_as(pred))\n",
        "        correct = np.squeeze(correct_tensor.numpy()) if not train_on_gpu else np.squeeze(correct_tensor.cpu().numpy())\n",
        "        # calculate test accuracy for each object class\n",
        "        for i in range(len(target.data)):\n",
        "            label = target.data[i]\n",
        "            class_correct[label] += correct[i].item()\n",
        "            class_total[label] += 1\n",
        "        \n",
        "        # Will be used for calculating Recall, Precision, and F1-score\n",
        "        labels.extend(target.data.view_as(pred).tolist())\n",
        "        predictions.extend(pred.tolist())\n",
        "\n",
        "\n",
        "    # calculate avg test loss\n",
        "    test_loss = test_loss / len(test_loader.dataset)\n",
        "    print('Test Loss: {:.6f}\\n'.format(test_loss))\n",
        "\n",
        "    return test_loss, class_correct, class_total, labels, predictions"
      ],
      "execution_count": null,
      "outputs": []
    },
    {
      "cell_type": "markdown",
      "metadata": {
        "id": "xHh3PXE80Asa"
      },
      "source": [
        "Check whether CUDA is available (Change runtime type if not)"
      ]
    },
    {
      "cell_type": "code",
      "metadata": {
        "colab": {
          "base_uri": "https://localhost:8080/"
        },
        "id": "Q9TYPQH7x4zw",
        "outputId": "804e2423-cf6b-4d3d-e276-d072efc5b9e7"
      },
      "source": [
        "if not train_on_gpu:\n",
        "    print('CUDA is not available.  Training on CPU ...')\n",
        "else:\n",
        "    print('CUDA is available!  Training on GPU ...')"
      ],
      "execution_count": null,
      "outputs": [
        {
          "output_type": "stream",
          "name": "stdout",
          "text": [
            "CUDA is available!  Training on GPU ...\n"
          ]
        }
      ]
    },
    {
      "cell_type": "markdown",
      "metadata": {
        "id": "6lYw8EKVx8Q7"
      },
      "source": [
        "Load Hieroglyph Data"
      ]
    },
    {
      "cell_type": "code",
      "metadata": {
        "colab": {
          "base_uri": "https://localhost:8080/"
        },
        "id": "laLvoRy1yewl",
        "outputId": "4867cfec-b73c-4ae3-d93e-23e22bbff3d2"
      },
      "source": [
        "# Connecting and Mounting to the Google Drive\n",
        "from google.colab import drive\n",
        "drive.mount('/content/drive')"
      ],
      "execution_count": null,
      "outputs": [
        {
          "output_type": "stream",
          "name": "stdout",
          "text": [
            "Drive already mounted at /content/drive; to attempt to forcibly remount, call drive.mount(\"/content/drive\", force_remount=True).\n"
          ]
        }
      ]
    },
    {
      "cell_type": "code",
      "metadata": {
        "id": "odaoZt9GyfUt"
      },
      "source": [
        "data_dir = '/content/drive/MyDrive/EgyptianHieroglyphDataset_Original_Clean/'"
      ],
      "execution_count": null,
      "outputs": []
    },
    {
      "cell_type": "code",
      "metadata": {
        "colab": {
          "base_uri": "https://localhost:8080/"
        },
        "id": "dF22MAnmyiC1",
        "outputId": "2626a8fb-d5e8-421e-8640-d88407434a5f"
      },
      "source": [
        "hieroglyph_for_train = []\n",
        "file_count_list = []\n",
        "\n",
        "for name in os.listdir('/content/drive/MyDrive/EgyptianHieroglyphDataset_Original_Clean/train/'):\n",
        "  path, dirs, files = next(os.walk(\"/content/drive/MyDrive/EgyptianHieroglyphDataset_Original_Clean/train/\"+name))\n",
        "  file_count = len(files)\n",
        "  print(name, file_count)\n",
        "  file_count_list.append(file_count)\n",
        "  hieroglyph_for_train.append(name)\n",
        "\n",
        "hieroglyph_dict = dict(zip(hieroglyph_for_train, file_count_list))"
      ],
      "execution_count": null,
      "outputs": [
        {
          "output_type": "stream",
          "name": "stdout",
          "text": [
            "Y5 6\n",
            "I9 116\n",
            "O34 15\n",
            "V13 63\n",
            "U7 3\n",
            "D46 40\n",
            "E34 97\n",
            "G1 28\n",
            "V31 106\n",
            "S34 8\n",
            "D36 47\n",
            "Q1 13\n",
            "V30 6\n",
            "F35 2\n",
            "O4 11\n",
            "M23 30\n",
            "S29 212\n",
            "R8 53\n",
            "W11 4\n",
            "X1 185\n",
            "Y1 1\n",
            "D21 146\n",
            "D2 19\n",
            "E23 8\n",
            "X8 4\n",
            "Z1 39\n",
            "D4 29\n",
            "V28 28\n",
            "I10 32\n",
            "O1 16\n",
            "M17 291\n",
            "F31 6\n",
            "G43 157\n",
            "D58 28\n",
            "O49 10\n",
            "G17 156\n",
            "R4 2\n",
            "Q3 61\n",
            "W24 31\n",
            "N35 358\n"
          ]
        }
      ]
    },
    {
      "cell_type": "markdown",
      "metadata": {
        "id": "XeQQ7PjZzKd9"
      },
      "source": [
        "Number of images for each hieroglyph "
      ]
    },
    {
      "cell_type": "code",
      "metadata": {
        "colab": {
          "base_uri": "https://localhost:8080/",
          "height": 609
        },
        "id": "W6IzWR2RyjxM",
        "outputId": "8240132d-c461-44cb-973e-922cc445f147"
      },
      "source": [
        "import matplotlib.pyplot as plt\n",
        "import pandas as pd\n",
        "\n",
        "df = pd.DataFrame({\"Hieroglyph\":hieroglyph_for_train, \"Count\":file_count_list})\n",
        "\n",
        "df_sorted= df.sort_values('Count',ascending=False)\n",
        "\n",
        "plt.figure(figsize=(20,10))\n",
        "# make bar plot with matplotlib\n",
        "plt.bar('Hieroglyph', 'Count',data=df_sorted)"
      ],
      "execution_count": null,
      "outputs": [
        {
          "output_type": "execute_result",
          "data": {
            "text/plain": [
              "<BarContainer object of 40 artists>"
            ]
          },
          "metadata": {},
          "execution_count": 9
        },
        {
          "output_type": "display_data",
          "data": {
            "image/png": "[encoded data removed]",
            "text/plain": [
              "<Figure size 1440x720 with 1 Axes>"
            ]
          },
          "metadata": {
            "needs_background": "light"
          }
        }
      ]
    },
    {
      "cell_type": "code",
      "metadata": {
        "id": "-3oOm8rSx7tp"
      },
      "source": [
        "# Number of images processed in a single training\n",
        "batch_size = 20\n",
        "num_workers = 0\n",
        "\n",
        "# The load_data function is from hieroglyph_data_preparation python file\n",
        "train_loader, test_loader, classes = load_data(data_dir)"
      ],
      "execution_count": null,
      "outputs": []
    },
    {
      "cell_type": "markdown",
      "metadata": {
        "id": "BJm8sGiBx_q5"
      },
      "source": [
        "ResNet Model"
      ]
    },
    {
      "cell_type": "code",
      "metadata": {
        "id": "JkLXVJGkxemC"
      },
      "source": [
        "# Whether to extract features with the model\n",
        "feature_extract = False\n",
        "# Other selections\n",
        "loss_function = \"cross-entropy\"\n",
        "model_selection = \"resnet-50\"\n",
        "optim_selection = \"Adam\"\n",
        "\n",
        "# False if you want scratch model, True if you want pretrained model\n",
        "whether_to_pretrain = False\n",
        "\n",
        "# Load the model\n",
        "if model_selection == \"resnet-50\":\n",
        "    resnet50 = models.resnet50(pretrained=whether_to_pretrain)\n",
        "\n",
        "# Number of features in the last layer of resnet\n",
        "n_inputs = resnet50.fc.in_features\n",
        "\n",
        "# Add last linear layer (n_inputs -> 40 hieroglyph classes)\n",
        "# New layers automatically have requires_grad = True\n",
        "last_layer = nn.Sequential(\n",
        "                nn.Linear(n_inputs, len(classes)))\n",
        "\n",
        "resnet50.fc = last_layer\n",
        "\n",
        "# if GPU is available, move the model to GPU\n",
        "if train_on_gpu:\n",
        "    resnet50.cuda()\n",
        "\n",
        "# Specify loss function (categorical cross-entropy)\n",
        "if loss_function == \"cross-entropy\":\n",
        "    criterion = nn.CrossEntropyLoss()\n",
        "\n",
        "# Specify optimizer (Adam) and learning rate = 0.001\n",
        "if optim_selection == \"Adam\":\n",
        "    optimizer = optim.Adam(resnet50.parameters(), lr=0.001)\n",
        "\n",
        "# Exponential Decay to strengthen learning\n",
        "decayRate = 0.999\n",
        "my_lr_scheduler = torch.optim.lr_scheduler.ExponentialLR(optimizer=optimizer, gamma=decayRate)"
      ],
      "execution_count": null,
      "outputs": []
    },
    {
      "cell_type": "markdown",
      "metadata": {
        "id": "U2vnErB1yHmM"
      },
      "source": [
        "Training the model"
      ]
    },
    {
      "cell_type": "code",
      "metadata": {
        "colab": {
          "base_uri": "https://localhost:8080/"
        },
        "id": "dOB03noWyEvQ",
        "outputId": "440e7c75-f7f7-4b1d-9de9-9d86d2f2ccda"
      },
      "source": [
        "# number of epochs to train the model\n",
        "n_epochs = 50\n",
        "\n",
        "# The train_model function is from model_training python file\n",
        "resnet50, train_losses = train_model(train_loader, optimizer, resnet50, criterion, my_lr_scheduler, n_epochs)"
      ],
      "execution_count": null,
      "outputs": [
        {
          "output_type": "stream",
          "name": "stdout",
          "text": [
            "Epoch 1, Batch 20 loss: 0.0608522937400267\n",
            "Epoch 1, Batch 40 loss: 0.0663875580532476\n",
            "Epoch 1, Batch 60 loss: 0.0589523470262066\n",
            "Epoch 1, Batch 80 loss: 0.0469095168169588\n",
            "Epoch 1, Batch 100 loss: 0.1165152752306312\n",
            "Epoch 1, Batch 120 loss: 0.0822900404920801\n",
            "Epoch 2, Batch 20 loss: 0.0499367981334217\n",
            "Epoch 2, Batch 40 loss: 0.0628722558263689\n",
            "Epoch 2, Batch 60 loss: 0.0602863488486037\n",
            "Epoch 2, Batch 80 loss: 0.0683487574919127\n",
            "Epoch 2, Batch 100 loss: 0.0777487743645906\n",
            "Epoch 2, Batch 120 loss: 0.0665358336176723\n",
            "Epoch 3, Batch 20 loss: 0.0476199304219335\n",
            "Epoch 3, Batch 40 loss: 0.0430938094272278\n",
            "Epoch 3, Batch 60 loss: 0.0677478766767308\n",
            "Epoch 3, Batch 80 loss: 0.0990975851309486\n",
            "Epoch 3, Batch 100 loss: 0.0666639285162091\n",
            "Epoch 3, Batch 120 loss: 0.0719552603550255\n",
            "Epoch 4, Batch 20 loss: 0.0685536024626344\n",
            "Epoch 4, Batch 40 loss: 0.0726568937534466\n",
            "Epoch 4, Batch 60 loss: 0.0812611315515824\n",
            "Epoch 4, Batch 80 loss: 0.0758969750721008\n",
            "Epoch 4, Batch 100 loss: 0.0528914465336129\n",
            "Epoch 4, Batch 120 loss: 0.0541558618890122\n",
            "Epoch 5, Batch 20 loss: 0.0768219625111669\n",
            "Epoch 5, Batch 40 loss: 0.0545539125334471\n",
            "Epoch 5, Batch 60 loss: 0.0402943457360379\n",
            "Epoch 5, Batch 80 loss: 0.0841910953051411\n",
            "Epoch 5, Batch 100 loss: 0.0986670754151419\n",
            "Epoch 5, Batch 120 loss: 0.0584296183777042\n",
            "Epoch 6, Batch 20 loss: 0.0744326336425729\n",
            "Epoch 6, Batch 40 loss: 0.0915606124093756\n",
            "Epoch 6, Batch 60 loss: 0.0443992040585727\n",
            "Epoch 6, Batch 80 loss: 0.0593055001692846\n",
            "Epoch 6, Batch 100 loss: 0.0446544019039720\n",
            "Epoch 6, Batch 120 loss: 0.0776632868684828\n",
            "Epoch 7, Batch 20 loss: 0.0542532815597951\n",
            "Epoch 7, Batch 40 loss: 0.0609333140309900\n",
            "Epoch 7, Batch 60 loss: 0.0683894663292449\n",
            "Epoch 7, Batch 80 loss: 0.0571899507660419\n",
            "Epoch 7, Batch 100 loss: 0.0651307700667530\n",
            "Epoch 7, Batch 120 loss: 0.0505706984899007\n",
            "Epoch 8, Batch 20 loss: 0.0563901397399604\n",
            "Epoch 8, Batch 40 loss: 0.0585583257256076\n",
            "Epoch 8, Batch 60 loss: 0.0914541584905237\n",
            "Epoch 8, Batch 80 loss: 0.0945947097847238\n",
            "Epoch 8, Batch 100 loss: 0.0917138832039200\n",
            "Epoch 8, Batch 120 loss: 0.0588041215902194\n",
            "Epoch 9, Batch 20 loss: 0.1010372505988926\n",
            "Epoch 9, Batch 40 loss: 0.0931834200862795\n",
            "Epoch 9, Batch 60 loss: 0.0669768860097975\n",
            "Epoch 9, Batch 80 loss: 0.0917392738163471\n",
            "Epoch 9, Batch 100 loss: 0.0433233723510057\n",
            "Epoch 9, Batch 120 loss: 0.0799367042840458\n",
            "Epoch 10, Batch 20 loss: 0.0911582036060281\n",
            "Epoch 10, Batch 40 loss: 0.0822722018696368\n",
            "Epoch 10, Batch 60 loss: 0.0500558462808840\n",
            "Epoch 10, Batch 80 loss: 0.0891069635050371\n",
            "Epoch 10, Batch 100 loss: 0.0512320443755016\n",
            "Epoch 10, Batch 120 loss: 0.0656609937548637\n",
            "Epoch 11, Batch 20 loss: 0.0747600596398115\n",
            "Epoch 11, Batch 40 loss: 0.0832480120239779\n",
            "Epoch 11, Batch 60 loss: 0.0612066088942811\n",
            "Epoch 11, Batch 80 loss: 0.0689303549937904\n",
            "Epoch 11, Batch 100 loss: 0.0603085973649286\n",
            "Epoch 11, Batch 120 loss: 0.0817721768515185\n",
            "Epoch 12, Batch 20 loss: 0.0725633620051667\n",
            "Epoch 12, Batch 40 loss: 0.0395701949484646\n",
            "Epoch 12, Batch 60 loss: 0.0626121449749917\n",
            "Epoch 12, Batch 80 loss: 0.0576781888725236\n",
            "Epoch 12, Batch 100 loss: 0.1008363831788301\n",
            "Epoch 12, Batch 120 loss: 0.0538276387378573\n",
            "Epoch 13, Batch 20 loss: 0.0554675321327522\n",
            "Epoch 13, Batch 40 loss: 0.0612997159711085\n",
            "Epoch 13, Batch 60 loss: 0.0532721741823480\n",
            "Epoch 13, Batch 80 loss: 0.0658819053322077\n",
            "Epoch 13, Batch 100 loss: 0.0540333488024771\n",
            "Epoch 13, Batch 120 loss: 0.0406252090819180\n",
            "Epoch 14, Batch 20 loss: 0.0776858900440857\n",
            "Epoch 14, Batch 40 loss: 0.0662769643822685\n",
            "Epoch 14, Batch 60 loss: 0.0568990690400824\n",
            "Epoch 14, Batch 80 loss: 0.0775979557773098\n",
            "Epoch 14, Batch 100 loss: 0.0643203357933089\n",
            "Epoch 14, Batch 120 loss: 0.0336049168836325\n",
            "Epoch 15, Batch 20 loss: 0.0520475397119299\n",
            "Epoch 15, Batch 40 loss: 0.0334272203268483\n",
            "Epoch 15, Batch 60 loss: 0.0604296720353886\n",
            "Epoch 15, Batch 80 loss: 0.0631187040591612\n",
            "Epoch 15, Batch 100 loss: 0.1094498206046410\n",
            "Epoch 15, Batch 120 loss: 0.0809132298949407\n",
            "Epoch 16, Batch 20 loss: 0.0476167778018862\n",
            "Epoch 16, Batch 40 loss: 0.0716773326741531\n",
            "Epoch 16, Batch 60 loss: 0.0866459815646522\n",
            "Epoch 16, Batch 80 loss: 0.1082280557602644\n",
            "Epoch 16, Batch 100 loss: 0.0770892873872071\n",
            "Epoch 16, Batch 120 loss: 0.0474373607430607\n",
            "Epoch 17, Batch 20 loss: 0.0691951944842003\n",
            "Epoch 17, Batch 40 loss: 0.0723298649536446\n",
            "Epoch 17, Batch 60 loss: 0.1134789097122848\n",
            "Epoch 17, Batch 80 loss: 0.0731940851313993\n",
            "Epoch 17, Batch 100 loss: 0.0551538103958592\n",
            "Epoch 17, Batch 120 loss: 0.0755939967697486\n",
            "Epoch 18, Batch 20 loss: 0.0515272925957106\n",
            "Epoch 18, Batch 40 loss: 0.0490353686560411\n",
            "Epoch 18, Batch 60 loss: 0.0490924855927005\n",
            "Epoch 18, Batch 80 loss: 0.0740696839056909\n",
            "Epoch 18, Batch 100 loss: 0.1230633778730407\n",
            "Epoch 18, Batch 120 loss: 0.0650187574676238\n",
            "Epoch 19, Batch 20 loss: 0.0601412821095437\n",
            "Epoch 19, Batch 40 loss: 0.0805497441673651\n",
            "Epoch 19, Batch 60 loss: 0.0879527957877144\n",
            "Epoch 19, Batch 80 loss: 0.0894339694059454\n",
            "Epoch 19, Batch 100 loss: 0.0621475010644644\n",
            "Epoch 19, Batch 120 loss: 0.0641186397289857\n",
            "Epoch 20, Batch 20 loss: 0.0756226127501577\n",
            "Epoch 20, Batch 40 loss: 0.0559651307528839\n",
            "Epoch 20, Batch 60 loss: 0.0492042188066989\n",
            "Epoch 20, Batch 80 loss: 0.0735380101948977\n",
            "Epoch 20, Batch 100 loss: 0.0695001125219278\n",
            "Epoch 20, Batch 120 loss: 0.1083477830514312\n",
            "Epoch 21, Batch 20 loss: 0.0622543036704883\n",
            "Epoch 21, Batch 40 loss: 0.0835532522527501\n",
            "Epoch 21, Batch 60 loss: 0.0898799572372809\n",
            "Epoch 21, Batch 80 loss: 0.0663464266108349\n",
            "Epoch 21, Batch 100 loss: 0.0586226887069643\n",
            "Epoch 21, Batch 120 loss: 0.0443533346406184\n",
            "Epoch 22, Batch 20 loss: 0.0495502322213724\n",
            "Epoch 22, Batch 40 loss: 0.0905290581751615\n",
            "Epoch 22, Batch 60 loss: 0.0420351719250903\n",
            "Epoch 22, Batch 80 loss: 0.0528239344013855\n",
            "Epoch 22, Batch 100 loss: 0.0890887886751443\n",
            "Epoch 22, Batch 120 loss: 0.0746115141664632\n",
            "Epoch 23, Batch 20 loss: 0.0831384266261011\n",
            "Epoch 23, Batch 40 loss: 0.0808675163658336\n",
            "Epoch 23, Batch 60 loss: 0.0483233908191323\n",
            "Epoch 23, Batch 80 loss: 0.0651981925126165\n",
            "Epoch 23, Batch 100 loss: 0.1026311889523640\n",
            "Epoch 23, Batch 120 loss: 0.0800428821356036\n",
            "Epoch 24, Batch 20 loss: 0.0711984405992553\n",
            "Epoch 24, Batch 40 loss: 0.0627067228779197\n",
            "Epoch 24, Batch 60 loss: 0.0928460103692487\n",
            "Epoch 24, Batch 80 loss: 0.0772576722665690\n",
            "Epoch 24, Batch 100 loss: 0.0448639112059027\n",
            "Epoch 24, Batch 120 loss: 0.0736234507989138\n",
            "Epoch 25, Batch 20 loss: 0.0916005695704371\n",
            "Epoch 25, Batch 40 loss: 0.0473131603561342\n",
            "Epoch 25, Batch 60 loss: 0.0628446062561125\n",
            "Epoch 25, Batch 80 loss: 0.0404171631205827\n",
            "Epoch 25, Batch 100 loss: 0.0796960192034021\n",
            "Epoch 25, Batch 120 loss: 0.0618167155771516\n",
            "Epoch 26, Batch 20 loss: 0.1122651425190270\n",
            "Epoch 26, Batch 40 loss: 0.0637493140762672\n",
            "Epoch 26, Batch 60 loss: 0.0911029644543305\n",
            "Epoch 26, Batch 80 loss: 0.0690418625948951\n",
            "Epoch 26, Batch 100 loss: 0.0575649345177226\n",
            "Epoch 26, Batch 120 loss: 0.0754161431919783\n",
            "Epoch 27, Batch 20 loss: 0.0764051639533136\n",
            "Epoch 27, Batch 40 loss: 0.0482265351340175\n",
            "Epoch 27, Batch 60 loss: 0.0798470935085788\n",
            "Epoch 27, Batch 80 loss: 0.0775760231190361\n",
            "Epoch 27, Batch 100 loss: 0.0903317980584688\n",
            "Epoch 27, Batch 120 loss: 0.0642169033526443\n",
            "Epoch 28, Batch 20 loss: 0.0908097947714850\n",
            "Epoch 28, Batch 40 loss: 0.0983337609563023\n",
            "Epoch 28, Batch 60 loss: 0.0540146654006094\n",
            "Epoch 28, Batch 80 loss: 0.0615249360678718\n",
            "Epoch 28, Batch 100 loss: 0.0717982382047921\n",
            "Epoch 28, Batch 120 loss: 0.1164220033446327\n",
            "Epoch 29, Batch 20 loss: 0.0740387786878273\n",
            "Epoch 29, Batch 40 loss: 0.0510843383148313\n",
            "Epoch 29, Batch 60 loss: 0.1098845973727293\n",
            "Epoch 29, Batch 80 loss: 0.0955849791527726\n",
            "Epoch 29, Batch 100 loss: 0.0757297675125301\n",
            "Epoch 29, Batch 120 loss: 0.0563878711313009\n",
            "Epoch 30, Batch 20 loss: 0.0387565723387524\n",
            "Epoch 30, Batch 40 loss: 0.0739849315024912\n",
            "Epoch 30, Batch 60 loss: 0.0817184093408287\n",
            "Epoch 30, Batch 80 loss: 0.0874220045050606\n",
            "Epoch 30, Batch 100 loss: 0.0617895135655999\n",
            "Epoch 30, Batch 120 loss: 0.0813593481085263\n",
            "Epoch 31, Batch 20 loss: 0.0871703786775470\n",
            "Epoch 31, Batch 40 loss: 0.0761590633657761\n",
            "Epoch 31, Batch 60 loss: 0.0924133839085698\n",
            "Epoch 31, Batch 80 loss: 0.0822388006839901\n",
            "Epoch 31, Batch 100 loss: 0.0532109535532072\n",
            "Epoch 31, Batch 120 loss: 0.0666363233001903\n",
            "Epoch 32, Batch 20 loss: 0.0381164898164570\n",
            "Epoch 32, Batch 40 loss: 0.0555537797976285\n",
            "Epoch 32, Batch 60 loss: 0.0684174301801249\n",
            "Epoch 32, Batch 80 loss: 0.0937653559492901\n",
            "Epoch 32, Batch 100 loss: 0.0543895947514102\n",
            "Epoch 32, Batch 120 loss: 0.0701670798938721\n",
            "Epoch 33, Batch 20 loss: 0.0885432958952151\n",
            "Epoch 33, Batch 40 loss: 0.0651838780846447\n",
            "Epoch 33, Batch 60 loss: 0.0655691696330905\n",
            "Epoch 33, Batch 80 loss: 0.0390089057618752\n",
            "Epoch 33, Batch 100 loss: 0.1037083808914758\n",
            "Epoch 33, Batch 120 loss: 0.0388373082736507\n",
            "Epoch 34, Batch 20 loss: 0.0640297293197364\n",
            "Epoch 34, Batch 40 loss: 0.0664818223798647\n",
            "Epoch 34, Batch 60 loss: 0.0536997709074058\n",
            "Epoch 34, Batch 80 loss: 0.0770257430849597\n",
            "Epoch 34, Batch 100 loss: 0.0774213370168582\n",
            "Epoch 34, Batch 120 loss: 0.0512347364565358\n",
            "Epoch 35, Batch 20 loss: 0.0855335603060667\n",
            "Epoch 35, Batch 40 loss: 0.0463517671218142\n",
            "Epoch 35, Batch 60 loss: 0.0727088261162862\n",
            "Epoch 35, Batch 80 loss: 0.0860836634761654\n",
            "Epoch 35, Batch 100 loss: 0.0940877004293725\n",
            "Epoch 35, Batch 120 loss: 0.0631852058810182\n",
            "Epoch 36, Batch 20 loss: 0.0716410421533510\n",
            "Epoch 36, Batch 40 loss: 0.0922648688545451\n",
            "Epoch 36, Batch 60 loss: 0.0617586036096327\n",
            "Epoch 36, Batch 80 loss: 0.0630973578197882\n",
            "Epoch 36, Batch 100 loss: 0.0441563851200044\n",
            "Epoch 36, Batch 120 loss: 0.0464956843643449\n",
            "Epoch 37, Batch 20 loss: 0.1342498916666955\n",
            "Epoch 37, Batch 40 loss: 0.0846862283069640\n",
            "Epoch 37, Batch 60 loss: 0.0465236810734495\n",
            "Epoch 37, Batch 80 loss: 0.0731109434738755\n",
            "Epoch 37, Batch 100 loss: 0.0650419712765142\n",
            "Epoch 37, Batch 120 loss: 0.0698400142602622\n",
            "Epoch 38, Batch 20 loss: 0.0845033053075895\n",
            "Epoch 38, Batch 40 loss: 0.0695732212625444\n",
            "Epoch 38, Batch 60 loss: 0.0587881672661752\n",
            "Epoch 38, Batch 80 loss: 0.0695194986881688\n",
            "Epoch 38, Batch 100 loss: 0.0950113419443369\n",
            "Epoch 38, Batch 120 loss: 0.0607354145729914\n",
            "Epoch 39, Batch 20 loss: 0.0703012806596234\n",
            "Epoch 39, Batch 40 loss: 0.0871772075770423\n",
            "Epoch 39, Batch 60 loss: 0.0630264025647193\n",
            "Epoch 39, Batch 80 loss: 0.0464385581668466\n",
            "Epoch 39, Batch 100 loss: 0.0546324091032147\n",
            "Epoch 39, Batch 120 loss: 0.0852108977036551\n",
            "Epoch 40, Batch 20 loss: 0.0473591052461416\n",
            "Epoch 40, Batch 40 loss: 0.0791691467631608\n",
            "Epoch 40, Batch 60 loss: 0.0589541197987273\n",
            "Epoch 40, Batch 80 loss: 0.0901133127277717\n",
            "Epoch 40, Batch 100 loss: 0.0739433804061264\n",
            "Epoch 40, Batch 120 loss: 0.0685356107074767\n",
            "Epoch 41, Batch 20 loss: 0.0676374203059822\n",
            "Epoch 41, Batch 40 loss: 0.0732447170652449\n",
            "Epoch 41, Batch 60 loss: 0.0707504367339425\n",
            "Epoch 41, Batch 80 loss: 0.0370759272249416\n",
            "Epoch 41, Batch 100 loss: 0.0765056519769132\n",
            "Epoch 41, Batch 120 loss: 0.0734690112760290\n",
            "Epoch 42, Batch 20 loss: 0.0626394551480189\n",
            "Epoch 42, Batch 40 loss: 0.0635195940034464\n",
            "Epoch 42, Batch 60 loss: 0.0854433129541576\n",
            "Epoch 42, Batch 80 loss: 0.0635485822102055\n",
            "Epoch 42, Batch 100 loss: 0.0594982373761013\n",
            "Epoch 42, Batch 120 loss: 0.0693183736875653\n",
            "Epoch 43, Batch 20 loss: 0.0610453325673006\n",
            "Epoch 43, Batch 40 loss: 0.0510611712466925\n",
            "Epoch 43, Batch 60 loss: 0.0402408824767917\n",
            "Epoch 43, Batch 80 loss: 0.0560980739770457\n",
            "Epoch 43, Batch 100 loss: 0.0714131774497218\n",
            "Epoch 43, Batch 120 loss: 0.0388285501394421\n",
            "Epoch 44, Batch 20 loss: 0.0707449122914113\n",
            "Epoch 44, Batch 40 loss: 0.0531987045309506\n",
            "Epoch 44, Batch 60 loss: 0.0541272688773461\n",
            "Epoch 44, Batch 80 loss: 0.0658203222788870\n",
            "Epoch 44, Batch 100 loss: 0.0495836250367574\n",
            "Epoch 44, Batch 120 loss: 0.1048499458120205\n",
            "Epoch 45, Batch 20 loss: 0.0589416027069092\n",
            "Epoch 45, Batch 40 loss: 0.0756487893639132\n",
            "Epoch 45, Batch 60 loss: 0.1078580656670965\n",
            "Epoch 45, Batch 80 loss: 0.0671425632201135\n",
            "Epoch 45, Batch 100 loss: 0.0692149968002923\n",
            "Epoch 45, Batch 120 loss: 0.0672505819471553\n",
            "Epoch 46, Batch 20 loss: 0.0870661877328530\n",
            "Epoch 46, Batch 40 loss: 0.0572280716849491\n",
            "Epoch 46, Batch 60 loss: 0.1146619865787216\n",
            "Epoch 46, Batch 80 loss: 0.0495583932148293\n",
            "Epoch 46, Batch 100 loss: 0.0933406884549186\n",
            "Epoch 46, Batch 120 loss: 0.0446976394159719\n",
            "Epoch 47, Batch 20 loss: 0.0491565564763732\n",
            "Epoch 47, Batch 40 loss: 0.0854989041574299\n",
            "Epoch 47, Batch 60 loss: 0.0821386846015230\n",
            "Epoch 47, Batch 80 loss: 0.0472843974130228\n",
            "Epoch 47, Batch 100 loss: 0.0788532056962140\n",
            "Epoch 47, Batch 120 loss: 0.0926270067575388\n",
            "Epoch 48, Batch 20 loss: 0.1176778625231236\n",
            "Epoch 48, Batch 40 loss: 0.0865455452934839\n",
            "Epoch 48, Batch 60 loss: 0.0811514521250501\n",
            "Epoch 48, Batch 80 loss: 0.0431716405088082\n",
            "Epoch 48, Batch 100 loss: 0.0455747614731081\n",
            "Epoch 48, Batch 120 loss: 0.0721469704760239\n",
            "Epoch 49, Batch 20 loss: 0.0678494066931307\n",
            "Epoch 49, Batch 40 loss: 0.0454248951515183\n",
            "Epoch 49, Batch 60 loss: 0.0467805895488709\n",
            "Epoch 49, Batch 80 loss: 0.0766968616517261\n",
            "Epoch 49, Batch 100 loss: 0.0539888705068734\n",
            "Epoch 49, Batch 120 loss: 0.0609743707289454\n",
            "Epoch 50, Batch 20 loss: 0.0500641788588837\n",
            "Epoch 50, Batch 40 loss: 0.0870437671197578\n",
            "Epoch 50, Batch 60 loss: 0.0741477677831426\n",
            "Epoch 50, Batch 80 loss: 0.0736897475551814\n",
            "Epoch 50, Batch 100 loss: 0.0945963141508400\n",
            "Epoch 50, Batch 120 loss: 0.0533731617964804\n"
          ]
        }
      ]
    },
    {
      "cell_type": "code",
      "metadata": {
        "id": "CfA7ZjLR1BZP",
        "colab": {
          "base_uri": "https://localhost:8080/",
          "height": 281
        },
        "outputId": "3436c4df-5ced-4837-9256-808e3cc5879b"
      },
      "source": [
        "plt.plot(train_losses)\n",
        "plt.title(\"Training Loss\")\n",
        "plt.show()"
      ],
      "execution_count": null,
      "outputs": [
        {
          "output_type": "display_data",
          "data": {
            "image/png": "[encoded data removed]",
            "text/plain": [
              "<Figure size 432x288 with 1 Axes>"
            ]
          },
          "metadata": {
            "needs_background": "light"
          }
        }
      ]
    },
    {
      "cell_type": "markdown",
      "metadata": {
        "id": "ItLyF9dQyJFL"
      },
      "source": [
        "Testing the model"
      ]
    },
    {
      "cell_type": "code",
      "metadata": {
        "id": "gGki98W3SoEW"
      },
      "source": [
        "from sklearn.metrics import precision_score, recall_score, f1_score, accuracy_score"
      ],
      "execution_count": null,
      "outputs": []
    },
    {
      "cell_type": "code",
      "metadata": {
        "id": "xNavYOynyE6d",
        "colab": {
          "base_uri": "https://localhost:8080/"
        },
        "outputId": "9588b6ad-1711-480a-9cd6-53965cbfd225"
      },
      "source": [
        "# The test_model function is from model_testing python file\n",
        "test_loss, class_correct, class_total, labels, predictions = test_model(classes, resnet50, test_loader, criterion)\n",
        "\n",
        "# Test accuracy for each hieroglyph\n",
        "for i in range(len(classes)):\n",
        "    if class_total[i] > 0:\n",
        "        print('Test Accuracy of %5s: %2d%% (%2d/%2d)' % (classes[i], 100 * class_correct[i] / class_total[i], np.sum(class_correct[i]), np.sum(class_total[i])))\n",
        "    else:\n",
        "        print('Test Accuracy of %5s: N/A (no training examples)' % (classes[i]))\n",
        "\n",
        "# Total Test accuracy\n",
        "print(\"\\nAccuracy: {:.3%}\".format(accuracy_score(labels, predictions)))\n",
        "print(\"\\nPrecision: {:.3%}\".format(precision_score(labels, predictions, average = 'weighted')))\n",
        "print(\"\\nRecall: {:.3%}\".format(recall_score(labels, predictions, average = 'weighted')))\n",
        "print(\"\\nF1-score: {:.3%}\".format(f1_score(labels, predictions, average = 'weighted')))"
      ],
      "execution_count": null,
      "outputs": [
        {
          "output_type": "stream",
          "name": "stdout",
          "text": [
            "Test Loss: 0.090995\n",
            "\n",
            "Test Accuracy of    D2: 100% ( 5/ 5)\n",
            "Test Accuracy of   D21: 88% (32/36)\n",
            "Test Accuracy of   D36: 100% (12/12)\n",
            "Test Accuracy of    D4: 100% ( 8/ 8)\n",
            "Test Accuracy of   D46: 72% ( 8/11)\n",
            "Test Accuracy of   D58: 100% ( 8/ 8)\n",
            "Test Accuracy of   E23: 100% ( 2/ 2)\n",
            "Test Accuracy of   E34: 100% (25/25)\n",
            "Test Accuracy of   F31: 100% ( 2/ 2)\n",
            "Test Accuracy of   F35: 100% ( 1/ 1)\n",
            "Test Accuracy of    G1: 85% ( 6/ 7)\n",
            "Test Accuracy of   G17: 94% (37/39)\n",
            "Test Accuracy of   G43: 97% (39/40)\n",
            "Test Accuracy of   I10: 100% ( 9/ 9)\n",
            "Test Accuracy of    I9: 96% (29/30)\n",
            "Test Accuracy of   M17: 98% (72/73)\n",
            "Test Accuracy of   M23: 100% ( 8/ 8)\n",
            "Test Accuracy of   N35: 100% (90/90)\n",
            "Test Accuracy of    O1: 100% ( 4/ 4)\n",
            "Test Accuracy of   O34: 100% ( 4/ 4)\n",
            "Test Accuracy of    O4: 100% ( 3/ 3)\n",
            "Test Accuracy of   O49: 100% ( 3/ 3)\n",
            "Test Accuracy of    Q1: 100% ( 4/ 4)\n",
            "Test Accuracy of    Q3: 100% (16/16)\n",
            "Test Accuracy of    R4: 100% ( 1/ 1)\n",
            "Test Accuracy of    R8: 92% (13/14)\n",
            "Test Accuracy of   S29: 100% (53/53)\n",
            "Test Accuracy of   S34: 100% ( 2/ 2)\n",
            "Test Accuracy of    U7: 100% ( 1/ 1)\n",
            "Test Accuracy of   V13: 100% (16/16)\n",
            "Test Accuracy of   V28: 100% ( 8/ 8)\n",
            "Test Accuracy of   V30: 100% ( 2/ 2)\n",
            "Test Accuracy of   V31: 96% (26/27)\n",
            "Test Accuracy of   W11:  0% ( 0/ 1)\n",
            "Test Accuracy of   W24: 87% ( 7/ 8)\n",
            "Test Accuracy of    X1: 97% (46/47)\n",
            "Test Accuracy of    X8: 100% ( 1/ 1)\n",
            "Test Accuracy of    Y1:  0% ( 0/ 1)\n",
            "Test Accuracy of    Y5: 100% ( 2/ 2)\n",
            "Test Accuracy of    Z1: 100% (10/10)\n",
            "\n",
            "Accuracy: 97.003%\n",
            "\n",
            "Precision: 96.955%\n",
            "\n",
            "Recall: 97.003%\n",
            "\n",
            "F1-score: 96.904%\n"
          ]
        },
        {
          "output_type": "stream",
          "name": "stderr",
          "text": [
            "/usr/local/lib/python3.7/dist-packages/sklearn/metrics/_classification.py:1308: UndefinedMetricWarning: Precision is ill-defined and being set to 0.0 in labels with no predicted samples. Use `zero_division` parameter to control this behavior.\n",
            "  _warn_prf(average, modifier, msg_start, len(result))\n"
          ]
        }
      ]
    }
  ]
}