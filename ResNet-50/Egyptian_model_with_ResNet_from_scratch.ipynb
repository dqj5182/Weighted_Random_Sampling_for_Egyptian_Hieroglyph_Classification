{
  "nbformat": 4,
  "nbformat_minor": 0,
  "metadata": {
    "colab": {
      "name": "Egyptian_model_with_ResNet_from_scratch.ipynb",
      "provenance": []
    },
    "kernelspec": {
      "name": "python3",
      "display_name": "Python 3"
    },
    "language_info": {
      "name": "python"
    },
    "accelerator": "GPU"
  },
  "cells": [
    {
      "cell_type": "code",
      "metadata": {
        "id": "8iEiGSblxJzW"
      },
      "source": [
        "import os, os.path\n",
        "import torch\n",
        "import numpy as np\n",
        "import torch.nn as nn\n",
        "import torch.optim as optim\n",
        "from pathlib import Path\n",
        "from torchvision import datasets, models, transforms\n",
        "\n",
        "# check if CUDA is available\n",
        "train_on_gpu = torch.cuda.is_available()"
      ],
      "execution_count": 1,
      "outputs": []
    },
    {
      "cell_type": "markdown",
      "metadata": {
        "id": "Jd6KU8VMz6J3"
      },
      "source": [
        "Module: Load_data"
      ]
    },
    {
      "cell_type": "code",
      "metadata": {
        "id": "8lWX0BW_w_kC"
      },
      "source": [
        "def load_data(hieroglyph_directory_path, batch_size=20, num_workers=0):\n",
        "    train_dir = os.path.join(hieroglyph_directory_path, 'train/')\n",
        "    test_dir = os.path.join(hieroglyph_directory_path, 'test/')\n",
        "\n",
        "    classes = []\n",
        "\n",
        "    for filename in os.listdir(train_dir):\n",
        "        if filename == '.DS_Store':\n",
        "            pass\n",
        "        else:\n",
        "            classes.append(filename)\n",
        "\n",
        "    classes.sort()\n",
        "\n",
        "    # print(\"Our classes:\", classes)\n",
        "    # print(len(classes))\n",
        "\n",
        "    data_transform = transforms.Compose([transforms.ToTensor(),\n",
        "                                         transforms.RandomApply([transforms.RandomHorizontalFlip()]),\n",
        "                                         transforms.RandomRotation(degrees=(-10, 10)),\n",
        "                                         transforms.RandomAffine(degrees=0, translate=(.1, .1)),\n",
        "                                         transforms.RandomApply([transforms.ColorJitter(brightness=(1, 1.2),\n",
        "                                                                                        contrast=(1, 1.5),\n",
        "                                                                                        saturation=(1, 1.5),\n",
        "                                                                                        hue=(0, 0.5))]),\n",
        "                                         transforms.RandomErasing(p=0.5, scale=(0.05, 0.05), ratio=(0.3, 3.3), value=0,\n",
        "                                                                  inplace=False),\n",
        "                                         transforms.Normalize((0.5,), (0.5,))])\n",
        "\n",
        "    train_data = datasets.ImageFolder(train_dir, transform=data_transform)\n",
        "    test_data = datasets.ImageFolder(test_dir, transform=data_transform)\n",
        "\n",
        "    # print('Num training images: ', len(train_data))\n",
        "    # print('Num test images: ', len(test_data))\n",
        "\n",
        "    # prepare data loaders\n",
        "    train_loader = torch.utils.data.DataLoader(train_data, batch_size=batch_size,\n",
        "                                               num_workers=num_workers, shuffle=True)\n",
        "    test_loader = torch.utils.data.DataLoader(test_data, batch_size=batch_size,\n",
        "                                              num_workers=num_workers, shuffle=True)\n",
        "\n",
        "    return train_loader, test_loader, classes"
      ],
      "execution_count": 2,
      "outputs": []
    },
    {
      "cell_type": "markdown",
      "metadata": {
        "id": "K4sXUrPPz7iF"
      },
      "source": [
        "Module: Train_model"
      ]
    },
    {
      "cell_type": "code",
      "metadata": {
        "id": "N2N_rnKLxN5c"
      },
      "source": [
        "def train_model(train_loader, optimizer, resnet50, criterion, my_lr_scheduler, n_epochs):\n",
        "    # track training loss over time\n",
        "    losses = []\n",
        "    \n",
        "    for epoch in range(1, n_epochs + 1):\n",
        "\n",
        "        # keep track of training and validation loss\n",
        "        train_loss = 0.0\n",
        "\n",
        "        # model by default is set to train\n",
        "        for batch_i, (data, target) in enumerate(train_loader):\n",
        "            # move tensors to GPU if CUDA is available\n",
        "            if train_on_gpu:\n",
        "                data, target = data.cuda(), target.cuda()\n",
        "            # clear the gradients of all optimized variables\n",
        "            optimizer.zero_grad()\n",
        "            # forward pass: compute predicted outputs by passing inputs to the model\n",
        "            output = resnet50(data)\n",
        "            # calculate the batch loss\n",
        "            loss = criterion(output, target)\n",
        "            # backward pass: compute gradient of the loss with respect to model parameters\n",
        "            loss.backward()\n",
        "            # perform a single optimization step (parameter update)\n",
        "            optimizer.step()\n",
        "            # update training loss\n",
        "            train_loss += loss.item()\n",
        "\n",
        "            my_lr_scheduler.step()\n",
        "\n",
        "            if batch_i % 20 == 19:  # print training loss every specified number of mini-batches\n",
        "                print('Epoch %d, Batch %d loss: %.16f' %\n",
        "                    (epoch, batch_i + 1, train_loss / 20))\n",
        "                losses.append(train_loss / 20)\n",
        "                train_loss = 0.0\n",
        "        \n",
        "        \n",
        "\n",
        "    return resnet50, losses"
      ],
      "execution_count": 3,
      "outputs": []
    },
    {
      "cell_type": "markdown",
      "metadata": {
        "id": "-Rrxo5RDz96U"
      },
      "source": [
        "Module: Test_model"
      ]
    },
    {
      "cell_type": "code",
      "metadata": {
        "id": "Ay-HlMJnxU9v"
      },
      "source": [
        "def test_model(classes, resnet50, test_loader, criterion):\n",
        "    # track test loss\n",
        "    test_loss = 0.0\n",
        "    class_correct = list(0. for i in range(len(classes)))\n",
        "    class_total = list(0. for i in range(len(classes)))\n",
        "\n",
        "    resnet50.eval()  # eval mode\n",
        "\n",
        "    labels = []\n",
        "    predictions = []\n",
        "    # iterate over test data\n",
        "    for data, target in test_loader:\n",
        "        # move tensors to GPU if CUDA is available\n",
        "        if train_on_gpu:\n",
        "            data, target = data.cuda(), target.cuda()\n",
        "        # forward pass: compute predicted outputs by passing inputs to the model\n",
        "        output = resnet50(data)\n",
        "        # calculate the batch loss\n",
        "        loss = criterion(output, target)\n",
        "        # update  test loss\n",
        "        test_loss += loss.item() * data.size(0)\n",
        "        # convert output probabilities to predicted class\n",
        "        _, pred = torch.max(output, 1)\n",
        "        # compare predictions to true label\n",
        "        correct_tensor = pred.eq(target.data.view_as(pred))\n",
        "        correct = np.squeeze(correct_tensor.numpy()) if not train_on_gpu else np.squeeze(correct_tensor.cpu().numpy())\n",
        "        # calculate test accuracy for each object class\n",
        "        for i in range(len(target.data)):\n",
        "            label = target.data[i]\n",
        "            class_correct[label] += correct[i].item()\n",
        "            class_total[label] += 1\n",
        "        \n",
        "        # Will be used for calculating Recall, Precision, and F1-score\n",
        "        labels.extend(target.data.view_as(pred).tolist())\n",
        "        predictions.extend(pred.tolist())\n",
        "\n",
        "\n",
        "    # calculate avg test loss\n",
        "    test_loss = test_loss / len(test_loader.dataset)\n",
        "    print('Test Loss: {:.6f}\\n'.format(test_loss))\n",
        "\n",
        "    return test_loss, class_correct, class_total, labels, predictions"
      ],
      "execution_count": 4,
      "outputs": []
    },
    {
      "cell_type": "markdown",
      "metadata": {
        "id": "xHh3PXE80Asa"
      },
      "source": [
        "Check whether CUDA is available (Change runtime type if not)"
      ]
    },
    {
      "cell_type": "code",
      "metadata": {
        "colab": {
          "base_uri": "https://localhost:8080/"
        },
        "id": "Q9TYPQH7x4zw",
        "outputId": "ef7ed879-dec3-42e0-c6e1-fe551ca46cda"
      },
      "source": [
        "if not train_on_gpu:\n",
        "    print('CUDA is not available.  Training on CPU ...')\n",
        "else:\n",
        "    print('CUDA is available!  Training on GPU ...')"
      ],
      "execution_count": 5,
      "outputs": [
        {
          "output_type": "stream",
          "name": "stdout",
          "text": [
            "CUDA is available!  Training on GPU ...\n"
          ]
        }
      ]
    },
    {
      "cell_type": "markdown",
      "metadata": {
        "id": "6lYw8EKVx8Q7"
      },
      "source": [
        "Load Hieroglyph Data"
      ]
    },
    {
      "cell_type": "code",
      "metadata": {
        "colab": {
          "base_uri": "https://localhost:8080/"
        },
        "id": "laLvoRy1yewl",
        "outputId": "fdec5bc5-7680-4486-d44d-9cbb8b255a62"
      },
      "source": [
        "# Connecting and Mounting to the Google Drive\n",
        "from google.colab import drive\n",
        "drive.mount('/content/drive')"
      ],
      "execution_count": 6,
      "outputs": [
        {
          "output_type": "stream",
          "name": "stdout",
          "text": [
            "Drive already mounted at /content/drive; to attempt to forcibly remount, call drive.mount(\"/content/drive\", force_remount=True).\n"
          ]
        }
      ]
    },
    {
      "cell_type": "code",
      "metadata": {
        "id": "odaoZt9GyfUt"
      },
      "source": [
        "data_dir = '/content/drive/MyDrive/EgyptianHieroglyphDataset_Original/'"
      ],
      "execution_count": 7,
      "outputs": []
    },
    {
      "cell_type": "code",
      "metadata": {
        "colab": {
          "base_uri": "https://localhost:8080/"
        },
        "id": "dF22MAnmyiC1",
        "outputId": "8830089d-c3bd-444d-ee01-01fd75f79511"
      },
      "source": [
        "hieroglyph_for_train = []\n",
        "file_count_list = []\n",
        "\n",
        "for name in os.listdir('/content/drive/MyDrive/EgyptianHieroglyphDataset_Original/train/'):\n",
        "  path, dirs, files = next(os.walk(\"/content/drive/MyDrive/EgyptianHieroglyphDataset_Original/train/\"+name))\n",
        "  file_count = len(files)\n",
        "  print(name, file_count)\n",
        "  file_count_list.append(file_count)\n",
        "  hieroglyph_for_train.append(name)\n",
        "\n",
        "hieroglyph_dict = dict(zip(hieroglyph_for_train, file_count_list))"
      ],
      "execution_count": 8,
      "outputs": [
        {
          "output_type": "stream",
          "name": "stdout",
          "text": [
            "D4 29\n",
            "D2 19\n",
            "D46 40\n",
            "D36 47\n",
            "D21 146\n",
            "D58 28\n",
            "E34 97\n",
            "E23 8\n",
            "F31 6\n",
            "G1 28\n",
            "F35 2\n",
            "G17 156\n",
            "G43 157\n",
            "I10 32\n",
            "I9 116\n",
            "M23 30\n",
            "M17 291\n",
            "O1 16\n",
            "O34 15\n",
            "N35 358\n",
            "Q3 61\n",
            "O49 10\n",
            "Q1 13\n",
            "O4 11\n",
            "S34 8\n",
            "R4 2\n",
            "R8 53\n",
            "S29 212\n",
            "V13 63\n",
            "V28 28\n",
            "U7 3\n",
            "V30 6\n",
            "W11 4\n",
            "W24 31\n",
            "V31 106\n",
            "Y5 6\n",
            "X8 4\n",
            "Z1 39\n",
            "X1 185\n",
            "Y1 1\n"
          ]
        }
      ]
    },
    {
      "cell_type": "markdown",
      "metadata": {
        "id": "XeQQ7PjZzKd9"
      },
      "source": [
        "Number of images for each hieroglyph "
      ]
    },
    {
      "cell_type": "code",
      "metadata": {
        "colab": {
          "base_uri": "https://localhost:8080/",
          "height": 609
        },
        "id": "W6IzWR2RyjxM",
        "outputId": "8bde6315-9e03-4344-d47b-ea7cfdbb121e"
      },
      "source": [
        "import matplotlib.pyplot as plt\n",
        "import pandas as pd\n",
        "\n",
        "df = pd.DataFrame({\"Hieroglyph\":hieroglyph_for_train, \"Count\":file_count_list})\n",
        "\n",
        "df_sorted= df.sort_values('Count',ascending=False)\n",
        "\n",
        "plt.figure(figsize=(20,10))\n",
        "# make bar plot with matplotlib\n",
        "plt.bar('Hieroglyph', 'Count',data=df_sorted)"
      ],
      "execution_count": 9,
      "outputs": [
        {
          "output_type": "execute_result",
          "data": {
            "text/plain": [
              "<BarContainer object of 40 artists>"
            ]
          },
          "metadata": {},
          "execution_count": 9
        },
        {
          "output_type": "display_data",
          "data": {
            "image/png": "[encoded data removed]",
            "text/plain": [
              "<Figure size 1440x720 with 1 Axes>"
            ]
          },
          "metadata": {
            "needs_background": "light"
          }
        }
      ]
    },
    {
      "cell_type": "code",
      "metadata": {
        "id": "-3oOm8rSx7tp"
      },
      "source": [
        "# Number of images processed in a single training\n",
        "batch_size = 20\n",
        "num_workers = 0\n",
        "\n",
        "# The load_data function is from hieroglyph_data_preparation python file\n",
        "train_loader, test_loader, classes = load_data(data_dir)"
      ],
      "execution_count": 10,
      "outputs": []
    },
    {
      "cell_type": "markdown",
      "metadata": {
        "id": "BJm8sGiBx_q5"
      },
      "source": [
        "ResNet Model"
      ]
    },
    {
      "cell_type": "code",
      "metadata": {
        "id": "JkLXVJGkxemC"
      },
      "source": [
        "# Whether to extract features with the model\n",
        "feature_extract = False\n",
        "# Other selections\n",
        "loss_function = \"cross-entropy\"\n",
        "model_selection = \"resnet-50\"\n",
        "optim_selection = \"Adam\"\n",
        "\n",
        "# False if you want scratch model, True if you want pretrained model\n",
        "whether_to_pretrain = False\n",
        "\n",
        "# Load the model\n",
        "if model_selection == \"resnet-50\":\n",
        "    resnet50 = models.resnet50(pretrained=whether_to_pretrain)\n",
        "\n",
        "# Number of features in the last layer of resnet\n",
        "n_inputs = resnet50.fc.in_features\n",
        "\n",
        "# Add last linear layer (n_inputs -> 40 hieroglyph classes)\n",
        "# New layers automatically have requires_grad = True\n",
        "last_layer = nn.Sequential(\n",
        "                nn.Linear(n_inputs, len(classes)))\n",
        "\n",
        "resnet50.fc = last_layer\n",
        "\n",
        "# if GPU is available, move the model to GPU\n",
        "if train_on_gpu:\n",
        "    resnet50.cuda()\n",
        "\n",
        "# Specify loss function (categorical cross-entropy)\n",
        "if loss_function == \"cross-entropy\":\n",
        "    criterion = nn.CrossEntropyLoss()\n",
        "\n",
        "# Specify optimizer (Adam) and learning rate = 0.001\n",
        "if optim_selection == \"Adam\":\n",
        "    optimizer = optim.Adam(resnet50.parameters(), lr=0.001)\n",
        "\n",
        "# Exponential Decay to strengthen learning\n",
        "decayRate = 0.999\n",
        "my_lr_scheduler = torch.optim.lr_scheduler.ExponentialLR(optimizer=optimizer, gamma=decayRate)"
      ],
      "execution_count": 11,
      "outputs": []
    },
    {
      "cell_type": "markdown",
      "metadata": {
        "id": "U2vnErB1yHmM"
      },
      "source": [
        "Training the model"
      ]
    },
    {
      "cell_type": "code",
      "metadata": {
        "colab": {
          "base_uri": "https://localhost:8080/"
        },
        "id": "dOB03noWyEvQ",
        "outputId": "ed1e6033-7b1e-43ba-a207-dbe652358517"
      },
      "source": [
        "# number of epochs to train the model\n",
        "n_epochs = 50\n",
        "\n",
        "# The train_model function is from model_training python file\n",
        "resnet50, train_losses = train_model(train_loader, optimizer, resnet50, criterion, my_lr_scheduler, n_epochs)"
      ],
      "execution_count": 12,
      "outputs": [
        {
          "output_type": "stream",
          "name": "stdout",
          "text": [
            "Epoch 1, Batch 20 loss: 4.6956895232200626\n",
            "Epoch 1, Batch 40 loss: 4.0507528781890869\n",
            "Epoch 1, Batch 60 loss: 3.2342140913009643\n",
            "Epoch 1, Batch 80 loss: 3.1120088219642641\n",
            "Epoch 1, Batch 100 loss: 2.8531004190444946\n",
            "Epoch 1, Batch 120 loss: 2.5038884699344637\n",
            "Epoch 2, Batch 20 loss: 2.4888750314712524\n",
            "Epoch 2, Batch 40 loss: 2.3710653662681578\n",
            "Epoch 2, Batch 60 loss: 2.0419309735298157\n",
            "Epoch 2, Batch 80 loss: 1.8860107541084290\n",
            "Epoch 2, Batch 100 loss: 1.8485005021095275\n",
            "Epoch 2, Batch 120 loss: 1.8487040281295777\n",
            "Epoch 3, Batch 20 loss: 1.7774251818656921\n",
            "Epoch 3, Batch 40 loss: 1.5283051729202271\n",
            "Epoch 3, Batch 60 loss: 1.4139348179101945\n",
            "Epoch 3, Batch 80 loss: 1.5722999870777130\n",
            "Epoch 3, Batch 100 loss: 1.6894179463386536\n",
            "Epoch 3, Batch 120 loss: 1.2990058600902556\n",
            "Epoch 4, Batch 20 loss: 1.4063344180583954\n",
            "Epoch 4, Batch 40 loss: 1.3406311780214311\n",
            "Epoch 4, Batch 60 loss: 1.1933122172951698\n",
            "Epoch 4, Batch 80 loss: 1.1121811211109160\n",
            "Epoch 4, Batch 100 loss: 0.9535857141017914\n",
            "Epoch 4, Batch 120 loss: 1.0009065836668014\n",
            "Epoch 5, Batch 20 loss: 1.0601987451314927\n",
            "Epoch 5, Batch 40 loss: 0.8612238392233849\n",
            "Epoch 5, Batch 60 loss: 0.8752581402659416\n",
            "Epoch 5, Batch 80 loss: 0.9379450678825378\n",
            "Epoch 5, Batch 100 loss: 1.0383427903056144\n",
            "Epoch 5, Batch 120 loss: 0.7462489232420921\n",
            "Epoch 6, Batch 20 loss: 0.8030098378658295\n",
            "Epoch 6, Batch 40 loss: 0.7567950129508972\n",
            "Epoch 6, Batch 60 loss: 0.6907854318618775\n",
            "Epoch 6, Batch 80 loss: 0.8138368949294090\n",
            "Epoch 6, Batch 100 loss: 0.5710659921169281\n",
            "Epoch 6, Batch 120 loss: 0.6126555003225803\n",
            "Epoch 7, Batch 20 loss: 0.6226649001240731\n",
            "Epoch 7, Batch 40 loss: 0.5919667564332485\n",
            "Epoch 7, Batch 60 loss: 0.6098811298608779\n",
            "Epoch 7, Batch 80 loss: 0.5225426793098450\n",
            "Epoch 7, Batch 100 loss: 0.6273798875510692\n",
            "Epoch 7, Batch 120 loss: 0.6020942330360413\n",
            "Epoch 8, Batch 20 loss: 0.4787663016468287\n",
            "Epoch 8, Batch 40 loss: 0.4845399923622608\n",
            "Epoch 8, Batch 60 loss: 0.6364849690347910\n",
            "Epoch 8, Batch 80 loss: 0.4813672080636024\n",
            "Epoch 8, Batch 100 loss: 0.5280324429273605\n",
            "Epoch 8, Batch 120 loss: 0.5275479800999164\n",
            "Epoch 9, Batch 20 loss: 0.3853317968547344\n",
            "Epoch 9, Batch 40 loss: 0.5201567113399506\n",
            "Epoch 9, Batch 60 loss: 0.5071312047541141\n",
            "Epoch 9, Batch 80 loss: 0.4615447483956814\n",
            "Epoch 9, Batch 100 loss: 0.5436038345098495\n",
            "Epoch 9, Batch 120 loss: 0.4925910897552967\n",
            "Epoch 10, Batch 20 loss: 0.3269961982965469\n",
            "Epoch 10, Batch 40 loss: 0.4421748381108045\n",
            "Epoch 10, Batch 60 loss: 0.4186156779527664\n",
            "Epoch 10, Batch 80 loss: 0.3753907658159733\n",
            "Epoch 10, Batch 100 loss: 0.4244367249310017\n",
            "Epoch 10, Batch 120 loss: 0.4385466102510691\n",
            "Epoch 11, Batch 20 loss: 0.3517657149583101\n",
            "Epoch 11, Batch 40 loss: 0.3430885437875986\n",
            "Epoch 11, Batch 60 loss: 0.3134934455156326\n",
            "Epoch 11, Batch 80 loss: 0.3564107460901141\n",
            "Epoch 11, Batch 100 loss: 0.3896343499422074\n",
            "Epoch 11, Batch 120 loss: 0.3476781655102968\n",
            "Epoch 12, Batch 20 loss: 0.3006572652608156\n",
            "Epoch 12, Batch 40 loss: 0.3862715654075146\n",
            "Epoch 12, Batch 60 loss: 0.3601701468229294\n",
            "Epoch 12, Batch 80 loss: 0.3109352547675371\n",
            "Epoch 12, Batch 100 loss: 0.2761821083724499\n",
            "Epoch 12, Batch 120 loss: 0.3738563600927591\n",
            "Epoch 13, Batch 20 loss: 0.2669694719836116\n",
            "Epoch 13, Batch 40 loss: 0.3039645519107580\n",
            "Epoch 13, Batch 60 loss: 0.2822846118360758\n",
            "Epoch 13, Batch 80 loss: 0.2561890490353108\n",
            "Epoch 13, Batch 100 loss: 0.3337726157158613\n",
            "Epoch 13, Batch 120 loss: 0.3088884301483631\n",
            "Epoch 14, Batch 20 loss: 0.2912674564868212\n",
            "Epoch 14, Batch 40 loss: 0.2562869429588318\n",
            "Epoch 14, Batch 60 loss: 0.2813066698610783\n",
            "Epoch 14, Batch 80 loss: 0.3173049982637167\n",
            "Epoch 14, Batch 100 loss: 0.2863042686134577\n",
            "Epoch 14, Batch 120 loss: 0.3278110500425100\n",
            "Epoch 15, Batch 20 loss: 0.2366845196112990\n",
            "Epoch 15, Batch 40 loss: 0.2324103760533035\n",
            "Epoch 15, Batch 60 loss: 0.2284942207857966\n",
            "Epoch 15, Batch 80 loss: 0.2471238201484084\n",
            "Epoch 15, Batch 100 loss: 0.2284560667350888\n",
            "Epoch 15, Batch 120 loss: 0.2443824205547571\n",
            "Epoch 16, Batch 20 loss: 0.2800274230539799\n",
            "Epoch 16, Batch 40 loss: 0.2170084208250046\n",
            "Epoch 16, Batch 60 loss: 0.1306465238332749\n",
            "Epoch 16, Batch 80 loss: 0.2058017701841891\n",
            "Epoch 16, Batch 100 loss: 0.2174848058260977\n",
            "Epoch 16, Batch 120 loss: 0.2211289519444108\n",
            "Epoch 17, Batch 20 loss: 0.2054293562658131\n",
            "Epoch 17, Batch 40 loss: 0.2609434535726905\n",
            "Epoch 17, Batch 60 loss: 0.1612564213573933\n",
            "Epoch 17, Batch 80 loss: 0.2377530569210649\n",
            "Epoch 17, Batch 100 loss: 0.2508620830252767\n",
            "Epoch 17, Batch 120 loss: 0.2272297032177448\n",
            "Epoch 18, Batch 20 loss: 0.1822720188647509\n",
            "Epoch 18, Batch 40 loss: 0.2177090454846621\n",
            "Epoch 18, Batch 60 loss: 0.1719186265952885\n",
            "Epoch 18, Batch 80 loss: 0.1804429572075605\n",
            "Epoch 18, Batch 100 loss: 0.1026488458737731\n",
            "Epoch 18, Batch 120 loss: 0.2498156853020191\n",
            "Epoch 19, Batch 20 loss: 0.2305746233090758\n",
            "Epoch 19, Batch 40 loss: 0.1841550468467176\n",
            "Epoch 19, Batch 60 loss: 0.2136119216680527\n",
            "Epoch 19, Batch 80 loss: 0.1557225016877055\n",
            "Epoch 19, Batch 100 loss: 0.1832847456913441\n",
            "Epoch 19, Batch 120 loss: 0.1888741544447839\n",
            "Epoch 20, Batch 20 loss: 0.2195961390621960\n",
            "Epoch 20, Batch 40 loss: 0.1467227360233664\n",
            "Epoch 20, Batch 60 loss: 0.1376478651538491\n",
            "Epoch 20, Batch 80 loss: 0.1362951825838536\n",
            "Epoch 20, Batch 100 loss: 0.1812704513780773\n",
            "Epoch 20, Batch 120 loss: 0.1829797277227044\n",
            "Epoch 21, Batch 20 loss: 0.1726905297487974\n",
            "Epoch 21, Batch 40 loss: 0.1366628121118993\n",
            "Epoch 21, Batch 60 loss: 0.1421204371377826\n",
            "Epoch 21, Batch 80 loss: 0.1709204033017158\n",
            "Epoch 21, Batch 100 loss: 0.1517707803286612\n",
            "Epoch 21, Batch 120 loss: 0.1409593429416418\n",
            "Epoch 22, Batch 20 loss: 0.1366226369515061\n",
            "Epoch 22, Batch 40 loss: 0.1620152818970382\n",
            "Epoch 22, Batch 60 loss: 0.1261237254831940\n",
            "Epoch 22, Batch 80 loss: 0.1860331903677434\n",
            "Epoch 22, Batch 100 loss: 0.1271858854219317\n",
            "Epoch 22, Batch 120 loss: 0.1664956943131983\n",
            "Epoch 23, Batch 20 loss: 0.1035420526750386\n",
            "Epoch 23, Batch 40 loss: 0.1033347915858030\n",
            "Epoch 23, Batch 60 loss: 0.1108639244455844\n",
            "Epoch 23, Batch 80 loss: 0.1019011009484529\n",
            "Epoch 23, Batch 100 loss: 0.1580181525088847\n",
            "Epoch 23, Batch 120 loss: 0.1203186218161136\n",
            "Epoch 24, Batch 20 loss: 0.1208910574205220\n",
            "Epoch 24, Batch 40 loss: 0.1191442404873669\n",
            "Epoch 24, Batch 60 loss: 0.1364254617597908\n",
            "Epoch 24, Batch 80 loss: 0.1002667749300599\n",
            "Epoch 24, Batch 100 loss: 0.1324351620860398\n",
            "Epoch 24, Batch 120 loss: 0.1097547081764787\n",
            "Epoch 25, Batch 20 loss: 0.1356322628911585\n",
            "Epoch 25, Batch 40 loss: 0.1150834587402642\n",
            "Epoch 25, Batch 60 loss: 0.1230379522079602\n",
            "Epoch 25, Batch 80 loss: 0.1846064592711628\n",
            "Epoch 25, Batch 100 loss: 0.0826741612050682\n",
            "Epoch 25, Batch 120 loss: 0.1234807390719652\n",
            "Epoch 26, Batch 20 loss: 0.0736173282377422\n",
            "Epoch 26, Batch 40 loss: 0.1143950156867504\n",
            "Epoch 26, Batch 60 loss: 0.1333495792001486\n",
            "Epoch 26, Batch 80 loss: 0.1506015600170940\n",
            "Epoch 26, Batch 100 loss: 0.1570240089669824\n",
            "Epoch 26, Batch 120 loss: 0.1029409938491881\n",
            "Epoch 27, Batch 20 loss: 0.1485848534852266\n",
            "Epoch 27, Batch 40 loss: 0.0992780967615545\n",
            "Epoch 27, Batch 60 loss: 0.0789308419451118\n",
            "Epoch 27, Batch 80 loss: 0.1032929040025920\n",
            "Epoch 27, Batch 100 loss: 0.1203712748363614\n",
            "Epoch 27, Batch 120 loss: 0.1383464640937745\n",
            "Epoch 28, Batch 20 loss: 0.0923002679832280\n",
            "Epoch 28, Batch 40 loss: 0.1461971699609421\n",
            "Epoch 28, Batch 60 loss: 0.1031804849393666\n",
            "Epoch 28, Batch 80 loss: 0.0983548222109675\n",
            "Epoch 28, Batch 100 loss: 0.1218149559572339\n",
            "Epoch 28, Batch 120 loss: 0.1439618759322912\n",
            "Epoch 29, Batch 20 loss: 0.1279555756598711\n",
            "Epoch 29, Batch 40 loss: 0.1228741522878408\n",
            "Epoch 29, Batch 60 loss: 0.1500063585583121\n",
            "Epoch 29, Batch 80 loss: 0.1406495130620897\n",
            "Epoch 29, Batch 100 loss: 0.1021933102048933\n",
            "Epoch 29, Batch 120 loss: 0.1431798642501235\n",
            "Epoch 30, Batch 20 loss: 0.0569877890637144\n",
            "Epoch 30, Batch 40 loss: 0.0897453427314758\n",
            "Epoch 30, Batch 60 loss: 0.1144310347270221\n",
            "Epoch 30, Batch 80 loss: 0.1061613080557436\n",
            "Epoch 30, Batch 100 loss: 0.1023126752057578\n",
            "Epoch 30, Batch 120 loss: 0.0797729460755363\n",
            "Epoch 31, Batch 20 loss: 0.0796485324855894\n",
            "Epoch 31, Batch 40 loss: 0.0646441387943923\n",
            "Epoch 31, Batch 60 loss: 0.0801590703893453\n",
            "Epoch 31, Batch 80 loss: 0.1126934155821800\n",
            "Epoch 31, Batch 100 loss: 0.0800111234188080\n",
            "Epoch 31, Batch 120 loss: 0.1042623989051208\n",
            "Epoch 32, Batch 20 loss: 0.0737483589444310\n",
            "Epoch 32, Batch 40 loss: 0.0959595824126154\n",
            "Epoch 32, Batch 60 loss: 0.1002866606228054\n",
            "Epoch 32, Batch 80 loss: 0.0781575868837535\n",
            "Epoch 32, Batch 100 loss: 0.1074146064929664\n",
            "Epoch 32, Batch 120 loss: 0.0991210760083050\n",
            "Epoch 33, Batch 20 loss: 0.1183145888615400\n",
            "Epoch 33, Batch 40 loss: 0.1076171086635441\n",
            "Epoch 33, Batch 60 loss: 0.1113163797184825\n",
            "Epoch 33, Batch 80 loss: 0.0688059063162655\n",
            "Epoch 33, Batch 100 loss: 0.0971873126341961\n",
            "Epoch 33, Batch 120 loss: 0.1202487611910328\n",
            "Epoch 34, Batch 20 loss: 0.1050742920488119\n",
            "Epoch 34, Batch 40 loss: 0.0989670589100569\n",
            "Epoch 34, Batch 60 loss: 0.0998645897489041\n",
            "Epoch 34, Batch 80 loss: 0.0776783461682498\n",
            "Epoch 34, Batch 100 loss: 0.1005028766812757\n",
            "Epoch 34, Batch 120 loss: 0.0860236859414727\n",
            "Epoch 35, Batch 20 loss: 0.1028564916457981\n",
            "Epoch 35, Batch 40 loss: 0.1053017400670797\n",
            "Epoch 35, Batch 60 loss: 0.0954311565263197\n",
            "Epoch 35, Batch 80 loss: 0.0839222940383479\n",
            "Epoch 35, Batch 100 loss: 0.0504660969134420\n",
            "Epoch 35, Batch 120 loss: 0.0947544156457298\n",
            "Epoch 36, Batch 20 loss: 0.0884911823086441\n",
            "Epoch 36, Batch 40 loss: 0.1170605850638822\n",
            "Epoch 36, Batch 60 loss: 0.1082989834249020\n",
            "Epoch 36, Batch 80 loss: 0.0977058725431561\n",
            "Epoch 36, Batch 100 loss: 0.0530091289198026\n",
            "Epoch 36, Batch 120 loss: 0.0787845568032935\n",
            "Epoch 37, Batch 20 loss: 0.0603395493701100\n",
            "Epoch 37, Batch 40 loss: 0.0580861630383879\n",
            "Epoch 37, Batch 60 loss: 0.0585079295095056\n",
            "Epoch 37, Batch 80 loss: 0.1012283036950976\n",
            "Epoch 37, Batch 100 loss: 0.0906309261918068\n",
            "Epoch 37, Batch 120 loss: 0.0864066185895354\n",
            "Epoch 38, Batch 20 loss: 0.0864555300213397\n",
            "Epoch 38, Batch 40 loss: 0.0731193332467228\n",
            "Epoch 38, Batch 60 loss: 0.0856084553524852\n",
            "Epoch 38, Batch 80 loss: 0.0684588472126052\n",
            "Epoch 38, Batch 100 loss: 0.0814954181201756\n",
            "Epoch 38, Batch 120 loss: 0.0792450851760805\n",
            "Epoch 39, Batch 20 loss: 0.1188494623638690\n",
            "Epoch 39, Batch 40 loss: 0.0958348794607446\n",
            "Epoch 39, Batch 60 loss: 0.0900502447970211\n",
            "Epoch 39, Batch 80 loss: 0.0974819374969229\n",
            "Epoch 39, Batch 100 loss: 0.0708381016971543\n",
            "Epoch 39, Batch 120 loss: 0.0629785662982613\n",
            "Epoch 40, Batch 20 loss: 0.0933767199981958\n",
            "Epoch 40, Batch 40 loss: 0.0673036279156804\n",
            "Epoch 40, Batch 60 loss: 0.0827634855639190\n",
            "Epoch 40, Batch 80 loss: 0.0496689067687839\n",
            "Epoch 40, Batch 100 loss: 0.0792447417974472\n",
            "Epoch 40, Batch 120 loss: 0.0853181903250515\n",
            "Epoch 41, Batch 20 loss: 0.0943667060928419\n",
            "Epoch 41, Batch 40 loss: 0.0439340293407440\n",
            "Epoch 41, Batch 60 loss: 0.1323092256207019\n",
            "Epoch 41, Batch 80 loss: 0.0981187021126971\n",
            "Epoch 41, Batch 100 loss: 0.0824729407206178\n",
            "Epoch 41, Batch 120 loss: 0.0791844895575196\n",
            "Epoch 42, Batch 20 loss: 0.1102686114609241\n",
            "Epoch 42, Batch 40 loss: 0.0704983140341938\n",
            "Epoch 42, Batch 60 loss: 0.1009926577331498\n",
            "Epoch 42, Batch 80 loss: 0.0697933902614750\n",
            "Epoch 42, Batch 100 loss: 0.0865722299087793\n",
            "Epoch 42, Batch 120 loss: 0.0992229566676542\n",
            "Epoch 43, Batch 20 loss: 0.0820518160937354\n",
            "Epoch 43, Batch 40 loss: 0.0736618023365736\n",
            "Epoch 43, Batch 60 loss: 0.0634972817031667\n",
            "Epoch 43, Batch 80 loss: 0.0858140604919754\n",
            "Epoch 43, Batch 100 loss: 0.0527284326497465\n",
            "Epoch 43, Batch 120 loss: 0.0867245597997680\n",
            "Epoch 44, Batch 20 loss: 0.0617852078168653\n",
            "Epoch 44, Batch 40 loss: 0.0918290234636515\n",
            "Epoch 44, Batch 60 loss: 0.0743973061209545\n",
            "Epoch 44, Batch 80 loss: 0.0727963544661179\n",
            "Epoch 44, Batch 100 loss: 0.0573639551177621\n",
            "Epoch 44, Batch 120 loss: 0.0909866702742875\n",
            "Epoch 45, Batch 20 loss: 0.0700701423338614\n",
            "Epoch 45, Batch 40 loss: 0.0686609423719347\n",
            "Epoch 45, Batch 60 loss: 0.0544155435170978\n",
            "Epoch 45, Batch 80 loss: 0.0506164596183225\n",
            "Epoch 45, Batch 100 loss: 0.0669601281406358\n",
            "Epoch 45, Batch 120 loss: 0.0949010569136590\n",
            "Epoch 46, Batch 20 loss: 0.0638854879885912\n",
            "Epoch 46, Batch 40 loss: 0.0953076483681798\n",
            "Epoch 46, Batch 60 loss: 0.0520545094506815\n",
            "Epoch 46, Batch 80 loss: 0.0719971041427925\n",
            "Epoch 46, Batch 100 loss: 0.0732184427324682\n",
            "Epoch 46, Batch 120 loss: 0.0875251177698374\n",
            "Epoch 47, Batch 20 loss: 0.1139301934279501\n",
            "Epoch 47, Batch 40 loss: 0.0825788438087329\n",
            "Epoch 47, Batch 60 loss: 0.0981132757849991\n",
            "Epoch 47, Batch 80 loss: 0.0626587464706972\n",
            "Epoch 47, Batch 100 loss: 0.0973334333859384\n",
            "Epoch 47, Batch 120 loss: 0.0625853777397424\n",
            "Epoch 48, Batch 20 loss: 0.1184828831115738\n",
            "Epoch 48, Batch 40 loss: 0.0775908191222698\n",
            "Epoch 48, Batch 60 loss: 0.0807240423047915\n",
            "Epoch 48, Batch 80 loss: 0.0738788475282490\n",
            "Epoch 48, Batch 100 loss: 0.0950158777646720\n",
            "Epoch 48, Batch 120 loss: 0.0557676422409713\n",
            "Epoch 49, Batch 20 loss: 0.0755574264563620\n",
            "Epoch 49, Batch 40 loss: 0.0679482313105837\n",
            "Epoch 49, Batch 60 loss: 0.0955145563231781\n",
            "Epoch 49, Batch 80 loss: 0.0623223550617695\n",
            "Epoch 49, Batch 100 loss: 0.0872582584735937\n",
            "Epoch 49, Batch 120 loss: 0.0803033853415400\n",
            "Epoch 50, Batch 20 loss: 0.0805120047240052\n",
            "Epoch 50, Batch 40 loss: 0.0818022499093786\n",
            "Epoch 50, Batch 60 loss: 0.0764002430252731\n",
            "Epoch 50, Batch 80 loss: 0.0593018497573212\n",
            "Epoch 50, Batch 100 loss: 0.0894502662122250\n",
            "Epoch 50, Batch 120 loss: 0.0834946257760748\n"
          ]
        }
      ]
    },
    {
      "cell_type": "code",
      "metadata": {
        "id": "CfA7ZjLR1BZP",
        "colab": {
          "base_uri": "https://localhost:8080/",
          "height": 281
        },
        "outputId": "bf23dbdc-4119-420f-c87f-252977a2e544"
      },
      "source": [
        "plt.plot(train_losses)\n",
        "plt.title(\"Training Loss\")\n",
        "plt.show()"
      ],
      "execution_count": 13,
      "outputs": [
        {
          "output_type": "display_data",
          "data": {
            "image/png": "[encoded data removed]",
            "text/plain": [
              "<Figure size 432x288 with 1 Axes>"
            ]
          },
          "metadata": {
            "needs_background": "light"
          }
        }
      ]
    },
    {
      "cell_type": "markdown",
      "metadata": {
        "id": "ItLyF9dQyJFL"
      },
      "source": [
        "Testing the model"
      ]
    },
    {
      "cell_type": "code",
      "metadata": {
        "id": "gGki98W3SoEW"
      },
      "source": [
        "from sklearn.metrics import precision_score, recall_score, f1_score, accuracy_score"
      ],
      "execution_count": 14,
      "outputs": []
    },
    {
      "cell_type": "code",
      "metadata": {
        "id": "xNavYOynyE6d",
        "colab": {
          "base_uri": "https://localhost:8080/"
        },
        "outputId": "f78abf34-f332-4c8c-b833-2339a8c0332f"
      },
      "source": [
        "# The test_model function is from model_testing python file\n",
        "test_loss, class_correct, class_total, labels, predictions = test_model(classes, resnet50, test_loader, criterion)\n",
        "\n",
        "# Test accuracy for each hieroglyph\n",
        "for i in range(len(classes)):\n",
        "    if class_total[i] > 0:\n",
        "        print('Test Accuracy of %5s: %2d%% (%2d/%2d)' % (classes[i], 100 * class_correct[i] / class_total[i], np.sum(class_correct[i]), np.sum(class_total[i])))\n",
        "    else:\n",
        "        print('Test Accuracy of %5s: N/A (no training examples)' % (classes[i]))\n",
        "\n",
        "# Total Test accuracy\n",
        "print(\"\\nAccuracy: {:.3%}\".format(accuracy_score(labels, predictions)))\n",
        "print(\"\\nPrecision: {:.3%}\".format(precision_score(labels, predictions, average = 'weighted')))\n",
        "print(\"\\nRecall: {:.3%}\".format(recall_score(labels, predictions, average = 'weighted')))\n",
        "print(\"\\nF1-score: {:.3%}\".format(f1_score(labels, predictions, average = 'weighted')))"
      ],
      "execution_count": 15,
      "outputs": [
        {
          "output_type": "stream",
          "name": "stdout",
          "text": [
            "Test Loss: 0.137239\n",
            "\n",
            "Test Accuracy of    D2: 100% ( 5/ 5)\n",
            "Test Accuracy of   D21: 89% (33/37)\n",
            "Test Accuracy of   D36: 100% (12/12)\n",
            "Test Accuracy of    D4: 87% ( 7/ 8)\n",
            "Test Accuracy of   D46: 60% ( 6/10)\n",
            "Test Accuracy of   D58: 100% ( 8/ 8)\n",
            "Test Accuracy of   E23: 50% ( 1/ 2)\n",
            "Test Accuracy of   E34: 96% (24/25)\n",
            "Test Accuracy of   F31: 100% ( 2/ 2)\n",
            "Test Accuracy of   F35: 100% ( 1/ 1)\n",
            "Test Accuracy of    G1: 85% ( 6/ 7)\n",
            "Test Accuracy of   G17: 94% (37/39)\n",
            "Test Accuracy of   G43: 97% (39/40)\n",
            "Test Accuracy of   I10: 100% ( 9/ 9)\n",
            "Test Accuracy of    I9: 96% (29/30)\n",
            "Test Accuracy of   M17: 98% (72/73)\n",
            "Test Accuracy of   M23: 100% ( 8/ 8)\n",
            "Test Accuracy of   N35: 100% (90/90)\n",
            "Test Accuracy of    O1: 100% ( 4/ 4)\n",
            "Test Accuracy of   O34: 100% ( 4/ 4)\n",
            "Test Accuracy of    O4: 100% ( 3/ 3)\n",
            "Test Accuracy of   O49: 100% ( 3/ 3)\n",
            "Test Accuracy of    Q1: 75% ( 3/ 4)\n",
            "Test Accuracy of    Q3: 93% (15/16)\n",
            "Test Accuracy of    R4:  0% ( 0/ 1)\n",
            "Test Accuracy of    R8: 92% (13/14)\n",
            "Test Accuracy of   S29: 100% (53/53)\n",
            "Test Accuracy of   S34: 100% ( 2/ 2)\n",
            "Test Accuracy of    U7: 100% ( 1/ 1)\n",
            "Test Accuracy of   V13: 100% (16/16)\n",
            "Test Accuracy of   V28: 100% ( 8/ 8)\n",
            "Test Accuracy of   V30:  0% ( 0/ 2)\n",
            "Test Accuracy of   V31: 96% (26/27)\n",
            "Test Accuracy of   W11:  0% ( 0/ 1)\n",
            "Test Accuracy of   W24: 87% ( 7/ 8)\n",
            "Test Accuracy of    X1: 97% (46/47)\n",
            "Test Accuracy of    X8: 50% ( 1/ 2)\n",
            "Test Accuracy of    Y1:  0% ( 0/ 1)\n",
            "Test Accuracy of    Y5: 100% ( 2/ 2)\n",
            "Test Accuracy of    Z1: 100% (10/10)\n",
            "\n",
            "Accuracy: 95.433%\n",
            "\n",
            "Precision: 95.091%\n",
            "\n",
            "Recall: 95.433%\n",
            "\n",
            "F1-score: 95.143%\n"
          ]
        },
        {
          "output_type": "stream",
          "name": "stderr",
          "text": [
            "/usr/local/lib/python3.7/dist-packages/sklearn/metrics/_classification.py:1308: UndefinedMetricWarning: Precision is ill-defined and being set to 0.0 in labels with no predicted samples. Use `zero_division` parameter to control this behavior.\n",
            "  _warn_prf(average, modifier, msg_start, len(result))\n"
          ]
        }
      ]
    }
  ]
}