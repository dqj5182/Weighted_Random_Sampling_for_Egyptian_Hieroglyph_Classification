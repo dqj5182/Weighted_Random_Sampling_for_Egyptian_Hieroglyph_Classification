{
  "nbformat": 4,
  "nbformat_minor": 0,
  "metadata": {
    "colab": {
      "name": "Egyptian_model_with_Xception_from_scratch_Clean.ipynb",
      "provenance": []
    },
    "kernelspec": {
      "name": "python3",
      "display_name": "Python 3"
    },
    "language_info": {
      "name": "python"
    },
    "accelerator": "GPU"
  },
  "cells": [
    {
      "cell_type": "code",
      "metadata": {
        "colab": {
          "base_uri": "https://localhost:8080/"
        },
        "id": "Po0ZVacIYsP0",
        "outputId": "1e81c676-e429-473c-bbad-bd598946aa67"
      },
      "source": [
        "!pip install timm"
      ],
      "execution_count": 2,
      "outputs": [
        {
          "output_type": "stream",
          "name": "stdout",
          "text": [
            "Collecting timm\n",
            "  Downloading timm-0.4.12-py3-none-any.whl (376 kB)\n",
            "\u001b[?25l\r\u001b[K     |▉                               | 10 kB 30.0 MB/s eta 0:00:01\r\u001b[K     |█▊                              | 20 kB 26.6 MB/s eta 0:00:01\r\u001b[K     |██▋                             | 30 kB 18.3 MB/s eta 0:00:01\r\u001b[K     |███▌                            | 40 kB 15.6 MB/s eta 0:00:01\r\u001b[K     |████▍                           | 51 kB 7.9 MB/s eta 0:00:01\r\u001b[K     |█████▏                          | 61 kB 8.3 MB/s eta 0:00:01\r\u001b[K     |██████                          | 71 kB 7.2 MB/s eta 0:00:01\r\u001b[K     |███████                         | 81 kB 8.0 MB/s eta 0:00:01\r\u001b[K     |███████▉                        | 92 kB 8.2 MB/s eta 0:00:01\r\u001b[K     |████████▊                       | 102 kB 7.4 MB/s eta 0:00:01\r\u001b[K     |█████████▋                      | 112 kB 7.4 MB/s eta 0:00:01\r\u001b[K     |██████████▍                     | 122 kB 7.4 MB/s eta 0:00:01\r\u001b[K     |███████████▎                    | 133 kB 7.4 MB/s eta 0:00:01\r\u001b[K     |████████████▏                   | 143 kB 7.4 MB/s eta 0:00:01\r\u001b[K     |█████████████                   | 153 kB 7.4 MB/s eta 0:00:01\r\u001b[K     |██████████████                  | 163 kB 7.4 MB/s eta 0:00:01\r\u001b[K     |██████████████▊                 | 174 kB 7.4 MB/s eta 0:00:01\r\u001b[K     |███████████████▋                | 184 kB 7.4 MB/s eta 0:00:01\r\u001b[K     |████████████████▌               | 194 kB 7.4 MB/s eta 0:00:01\r\u001b[K     |█████████████████▍              | 204 kB 7.4 MB/s eta 0:00:01\r\u001b[K     |██████████████████▎             | 215 kB 7.4 MB/s eta 0:00:01\r\u001b[K     |███████████████████▏            | 225 kB 7.4 MB/s eta 0:00:01\r\u001b[K     |████████████████████            | 235 kB 7.4 MB/s eta 0:00:01\r\u001b[K     |████████████████████▉           | 245 kB 7.4 MB/s eta 0:00:01\r\u001b[K     |█████████████████████▊          | 256 kB 7.4 MB/s eta 0:00:01\r\u001b[K     |██████████████████████▋         | 266 kB 7.4 MB/s eta 0:00:01\r\u001b[K     |███████████████████████▌        | 276 kB 7.4 MB/s eta 0:00:01\r\u001b[K     |████████████████████████▍       | 286 kB 7.4 MB/s eta 0:00:01\r\u001b[K     |█████████████████████████▏      | 296 kB 7.4 MB/s eta 0:00:01\r\u001b[K     |██████████████████████████      | 307 kB 7.4 MB/s eta 0:00:01\r\u001b[K     |███████████████████████████     | 317 kB 7.4 MB/s eta 0:00:01\r\u001b[K     |███████████████████████████▉    | 327 kB 7.4 MB/s eta 0:00:01\r\u001b[K     |████████████████████████████▊   | 337 kB 7.4 MB/s eta 0:00:01\r\u001b[K     |█████████████████████████████▌  | 348 kB 7.4 MB/s eta 0:00:01\r\u001b[K     |██████████████████████████████▍ | 358 kB 7.4 MB/s eta 0:00:01\r\u001b[K     |███████████████████████████████▎| 368 kB 7.4 MB/s eta 0:00:01\r\u001b[K     |████████████████████████████████| 376 kB 7.4 MB/s \n",
            "\u001b[?25hRequirement already satisfied: torch>=1.4 in /usr/local/lib/python3.7/dist-packages (from timm) (1.10.0+cu111)\n",
            "Requirement already satisfied: torchvision in /usr/local/lib/python3.7/dist-packages (from timm) (0.11.1+cu111)\n",
            "Requirement already satisfied: typing-extensions in /usr/local/lib/python3.7/dist-packages (from torch>=1.4->timm) (3.10.0.2)\n",
            "Requirement already satisfied: pillow!=8.3.0,>=5.3.0 in /usr/local/lib/python3.7/dist-packages (from torchvision->timm) (7.1.2)\n",
            "Requirement already satisfied: numpy in /usr/local/lib/python3.7/dist-packages (from torchvision->timm) (1.19.5)\n",
            "Installing collected packages: timm\n",
            "Successfully installed timm-0.4.12\n"
          ]
        }
      ]
    },
    {
      "cell_type": "code",
      "metadata": {
        "id": "8iEiGSblxJzW"
      },
      "source": [
        "import os, os.path\n",
        "import torch\n",
        "import numpy as np\n",
        "import torch.nn as nn\n",
        "import torch.optim as optim\n",
        "from pathlib import Path\n",
        "from torchvision import datasets, models, transforms\n",
        "import timm\n",
        "\n",
        "# check if CUDA is available\n",
        "train_on_gpu = torch.cuda.is_available()"
      ],
      "execution_count": 3,
      "outputs": []
    },
    {
      "cell_type": "markdown",
      "metadata": {
        "id": "Jd6KU8VMz6J3"
      },
      "source": [
        "Module: Load_data"
      ]
    },
    {
      "cell_type": "code",
      "metadata": {
        "id": "8lWX0BW_w_kC"
      },
      "source": [
        "def load_data(hieroglyph_directory_path, batch_size=20, num_workers=0):\n",
        "    train_dir = os.path.join(hieroglyph_directory_path, 'train/')\n",
        "    test_dir = os.path.join(hieroglyph_directory_path, 'test/')\n",
        "\n",
        "    classes = []\n",
        "\n",
        "    for filename in os.listdir(train_dir):\n",
        "        if filename == '.DS_Store':\n",
        "            pass\n",
        "        else:\n",
        "            classes.append(filename)\n",
        "\n",
        "    classes.sort()\n",
        "\n",
        "    # print(\"Our classes:\", classes)\n",
        "    # print(len(classes))\n",
        "\n",
        "    data_transform = transforms.Compose([transforms.ToTensor(),\n",
        "                                         transforms.RandomApply([transforms.RandomHorizontalFlip()]),\n",
        "                                         transforms.RandomRotation(degrees=(-10, 10)),\n",
        "                                         transforms.RandomAffine(degrees=0, translate=(.1, .1)),\n",
        "                                         transforms.RandomApply([transforms.ColorJitter(brightness=(1, 1.2),\n",
        "                                                                                        contrast=(1, 1.5),\n",
        "                                                                                        saturation=(1, 1.5),\n",
        "                                                                                        hue=(0, 0.5))]),\n",
        "                                         transforms.RandomErasing(p=0.5, scale=(0.05, 0.05), ratio=(0.3, 3.3), value=0,\n",
        "                                                                  inplace=False),\n",
        "                                         transforms.Resize((75, 75)),\n",
        "                                         transforms.Normalize((0.5,), (0.5,))])\n",
        "\n",
        "    train_data = datasets.ImageFolder(train_dir, transform=data_transform)\n",
        "    test_data = datasets.ImageFolder(test_dir, transform=data_transform)\n",
        "\n",
        "    # print('Num training images: ', len(train_data))\n",
        "    # print('Num test images: ', len(test_data))\n",
        "\n",
        "    # prepare data loaders\n",
        "    train_loader = torch.utils.data.DataLoader(train_data, batch_size=batch_size,\n",
        "                                               num_workers=num_workers, shuffle=True)\n",
        "    test_loader = torch.utils.data.DataLoader(test_data, batch_size=batch_size,\n",
        "                                              num_workers=num_workers, shuffle=True)\n",
        "\n",
        "    return train_loader, test_loader, classes"
      ],
      "execution_count": 4,
      "outputs": []
    },
    {
      "cell_type": "markdown",
      "metadata": {
        "id": "K4sXUrPPz7iF"
      },
      "source": [
        "Module: Train_model"
      ]
    },
    {
      "cell_type": "code",
      "metadata": {
        "id": "N2N_rnKLxN5c"
      },
      "source": [
        "def train_model(train_loader, optimizer, conv_net_model, criterion, my_lr_scheduler, n_epochs):\n",
        "    # track training loss over time\n",
        "    losses = []\n",
        "    \n",
        "    for epoch in range(1, n_epochs + 1):\n",
        "\n",
        "        # keep track of training and validation loss\n",
        "        train_loss = 0.0\n",
        "\n",
        "        # model by default is set to train\n",
        "        for batch_i, (data, target) in enumerate(train_loader):\n",
        "            # move tensors to GPU if CUDA is available\n",
        "            if train_on_gpu:\n",
        "                data, target = data.cuda(), target.cuda()\n",
        "            # clear the gradients of all optimized variables\n",
        "            optimizer.zero_grad()\n",
        "            # forward pass: compute predicted outputs by passing inputs to the model\n",
        "            output = conv_net_model(data)\n",
        "            # calculate the batch loss\n",
        "            loss = criterion(output, target)\n",
        "            # backward pass: compute gradient of the loss with respect to model parameters\n",
        "            loss.backward()\n",
        "            # perform a single optimization step (parameter update)\n",
        "            optimizer.step()\n",
        "            # update training loss\n",
        "            train_loss += loss.item()\n",
        "\n",
        "            my_lr_scheduler.step()\n",
        "\n",
        "            if batch_i % 20 == 19:  # print training loss every specified number of mini-batches\n",
        "                print('Epoch %d, Batch %d loss: %.16f' %\n",
        "                    (epoch, batch_i + 1, train_loss / 20))\n",
        "                losses.append(train_loss / 20)\n",
        "                train_loss = 0.0\n",
        "\n",
        "    return conv_net_model, losses"
      ],
      "execution_count": 5,
      "outputs": []
    },
    {
      "cell_type": "markdown",
      "metadata": {
        "id": "-Rrxo5RDz96U"
      },
      "source": [
        "Module: Test_model"
      ]
    },
    {
      "cell_type": "code",
      "metadata": {
        "id": "Ay-HlMJnxU9v"
      },
      "source": [
        "def test_model(classes, conv_net_model, test_loader, criterion):\n",
        "    # track test loss\n",
        "    test_loss = 0.0\n",
        "    class_correct = list(0. for i in range(len(classes)))\n",
        "    class_total = list(0. for i in range(len(classes)))\n",
        "\n",
        "    conv_net_model.eval()  # eval mode\n",
        "\n",
        "    labels = []\n",
        "    predictions = []\n",
        "    # iterate over test data\n",
        "    for data, target in test_loader:\n",
        "        # move tensors to GPU if CUDA is available\n",
        "        if train_on_gpu:\n",
        "            data, target = data.cuda(), target.cuda()\n",
        "        # forward pass: compute predicted outputs by passing inputs to the model\n",
        "        output = conv_net_model(data)\n",
        "\n",
        "        # calculate the batch loss\n",
        "        loss = criterion(output, target)\n",
        "        # update  test loss\n",
        "        test_loss += loss.item() * data.size(0)\n",
        "        # convert output probabilities to predicted class\n",
        "        _, pred = torch.max(output, 1)\n",
        "        # compare predictions to true label\n",
        "        correct_tensor = pred.eq(target.data.view_as(pred))\n",
        "        correct = np.squeeze(correct_tensor.numpy()) if not train_on_gpu else np.squeeze(correct_tensor.cpu().numpy())\n",
        "        # calculate test accuracy for each object class\n",
        "        for i in range(len(target.data)):\n",
        "            label = target.data[i]\n",
        "            class_correct[label] += correct[i].item()\n",
        "            class_total[label] += 1\n",
        "        \n",
        "        # Will be used for calculating Recall, Precision, and F1-score\n",
        "        labels.extend(target.data.view_as(pred).tolist())\n",
        "        predictions.extend(pred.tolist())\n",
        "\n",
        "\n",
        "    # calculate avg test loss\n",
        "    test_loss = test_loss / len(test_loader.dataset)\n",
        "    print('Test Loss: {:.6f}\\n'.format(test_loss))\n",
        "\n",
        "    return test_loss, class_correct, class_total, labels, predictions"
      ],
      "execution_count": 6,
      "outputs": []
    },
    {
      "cell_type": "markdown",
      "metadata": {
        "id": "xHh3PXE80Asa"
      },
      "source": [
        "Check whether CUDA is available (Change runtime type if not)"
      ]
    },
    {
      "cell_type": "code",
      "metadata": {
        "colab": {
          "base_uri": "https://localhost:8080/"
        },
        "id": "Q9TYPQH7x4zw",
        "outputId": "57531ded-d86e-4f0b-8f8b-54e3c517fec3"
      },
      "source": [
        "if not train_on_gpu:\n",
        "    print('CUDA is not available.  Training on CPU ...')\n",
        "else:\n",
        "    print('CUDA is available!  Training on GPU ...')"
      ],
      "execution_count": 7,
      "outputs": [
        {
          "output_type": "stream",
          "name": "stdout",
          "text": [
            "CUDA is available!  Training on GPU ...\n"
          ]
        }
      ]
    },
    {
      "cell_type": "markdown",
      "metadata": {
        "id": "6lYw8EKVx8Q7"
      },
      "source": [
        "Load Hieroglyph Data"
      ]
    },
    {
      "cell_type": "code",
      "metadata": {
        "colab": {
          "base_uri": "https://localhost:8080/"
        },
        "id": "laLvoRy1yewl",
        "outputId": "d3e3bf37-675e-42bb-93e5-f32e3be5251d"
      },
      "source": [
        "# Connecting and Mounting to the Google Drive\n",
        "from google.colab import drive\n",
        "drive.mount('/content/drive')"
      ],
      "execution_count": 8,
      "outputs": [
        {
          "output_type": "stream",
          "name": "stdout",
          "text": [
            "Mounted at /content/drive\n"
          ]
        }
      ]
    },
    {
      "cell_type": "code",
      "metadata": {
        "id": "odaoZt9GyfUt"
      },
      "source": [
        "data_dir = '/content/drive/MyDrive/EgyptianHieroglyphDataset_Original_Clean/'"
      ],
      "execution_count": 9,
      "outputs": []
    },
    {
      "cell_type": "code",
      "metadata": {
        "colab": {
          "base_uri": "https://localhost:8080/"
        },
        "id": "dF22MAnmyiC1",
        "outputId": "e9cf218a-b473-48a9-ff5d-906dba6792ac"
      },
      "source": [
        "hieroglyph_for_train = []\n",
        "file_count_list = []\n",
        "\n",
        "for name in os.listdir('/content/drive/MyDrive/EgyptianHieroglyphDataset_Original_Clean/train/'):\n",
        "  path, dirs, files = next(os.walk(\"/content/drive/MyDrive/EgyptianHieroglyphDataset_Original_Clean/train/\"+name))\n",
        "  file_count = len(files)\n",
        "  print(name, file_count)\n",
        "  file_count_list.append(file_count)\n",
        "  hieroglyph_for_train.append(name)\n",
        "\n",
        "hieroglyph_dict = dict(zip(hieroglyph_for_train, file_count_list))"
      ],
      "execution_count": 10,
      "outputs": [
        {
          "output_type": "stream",
          "name": "stdout",
          "text": [
            "Y5 6\n",
            "I9 116\n",
            "O34 15\n",
            "V13 63\n",
            "U7 3\n",
            "D46 40\n",
            "E34 97\n",
            "G1 28\n",
            "V31 106\n",
            "S34 8\n",
            "D36 47\n",
            "Q1 13\n",
            "V30 6\n",
            "F35 2\n",
            "O4 11\n",
            "M23 30\n",
            "S29 212\n",
            "R8 53\n",
            "W11 4\n",
            "X1 185\n",
            "Y1 1\n",
            "D21 146\n",
            "D2 19\n",
            "E23 8\n",
            "X8 4\n",
            "Z1 39\n",
            "D4 29\n",
            "V28 28\n",
            "I10 32\n",
            "O1 16\n",
            "M17 291\n",
            "F31 6\n",
            "G43 157\n",
            "D58 28\n",
            "O49 10\n",
            "G17 156\n",
            "R4 2\n",
            "Q3 61\n",
            "W24 31\n",
            "N35 358\n"
          ]
        }
      ]
    },
    {
      "cell_type": "markdown",
      "metadata": {
        "id": "XeQQ7PjZzKd9"
      },
      "source": [
        "Number of images for each hieroglyph "
      ]
    },
    {
      "cell_type": "code",
      "metadata": {
        "colab": {
          "base_uri": "https://localhost:8080/",
          "height": 609
        },
        "id": "W6IzWR2RyjxM",
        "outputId": "e0e5722a-99af-4948-fd88-91f929f76589"
      },
      "source": [
        "import matplotlib.pyplot as plt\n",
        "import pandas as pd\n",
        "\n",
        "df = pd.DataFrame({\"Hieroglyph\":hieroglyph_for_train, \"Count\":file_count_list})\n",
        "\n",
        "df_sorted= df.sort_values('Count',ascending=False)\n",
        "\n",
        "plt.figure(figsize=(20,10))\n",
        "# make bar plot with matplotlib\n",
        "plt.bar('Hieroglyph', 'Count',data=df_sorted)"
      ],
      "execution_count": 11,
      "outputs": [
        {
          "output_type": "execute_result",
          "data": {
            "text/plain": [
              "<BarContainer object of 40 artists>"
            ]
          },
          "metadata": {},
          "execution_count": 11
        },
        {
          "output_type": "display_data",
          "data": {
            "image/png": "[encoded data removed]",
            "text/plain": [
              "<Figure size 1440x720 with 1 Axes>"
            ]
          },
          "metadata": {
            "needs_background": "light"
          }
        }
      ]
    },
    {
      "cell_type": "code",
      "metadata": {
        "id": "-3oOm8rSx7tp"
      },
      "source": [
        "# Number of images processed in a single training\n",
        "batch_size = 20\n",
        "num_workers = 0\n",
        "\n",
        "# The load_data function is from hieroglyph_data_preparation python file\n",
        "train_loader, test_loader, classes = load_data(data_dir)"
      ],
      "execution_count": 12,
      "outputs": []
    },
    {
      "cell_type": "markdown",
      "metadata": {
        "id": "BJm8sGiBx_q5"
      },
      "source": [
        "ResNet Model"
      ]
    },
    {
      "cell_type": "code",
      "metadata": {
        "id": "JkLXVJGkxemC"
      },
      "source": [
        "# Whether to extract features with the model\n",
        "feature_extract = False\n",
        "# Other selections\n",
        "loss_function = \"cross-entropy\"\n",
        "model_selection = \"xception\"\n",
        "optim_selection = \"Adam\"\n",
        "\n",
        "# False if you want scratch model, True if you want pretrained model\n",
        "whether_to_pretrain = False\n",
        "\n",
        "# Load the model\n",
        "if model_selection == \"resnet-50\":\n",
        "    resnet50 = models.resnet50(pretrained=whether_to_pretrain)\n",
        "    # Number of features in the last layer of resnet\n",
        "    n_inputs = resnet50.fc.in_features\n",
        "    # Add last linear layer (n_inputs -> 40 hieroglyph classes)\n",
        "    last_layer = nn.Sequential(\n",
        "                    nn.Linear(n_inputs, len(classes)))\n",
        "    resnet50.fc = last_layer\n",
        "    if train_on_gpu:\n",
        "      resnet50.cuda()\n",
        "    # Specify optimizer (Adam) and learning rate = 0.001\n",
        "    if optim_selection == \"Adam\":\n",
        "        optimizer = optim.Adam(resnet50.parameters(), lr=0.001)\n",
        "\n",
        "elif model_selection == \"inception-v3\":\n",
        "    inception_v3 = models.inception_v3(pretrained=whether_to_pretrain)\n",
        "    # Number of features in the last layer of resnet\n",
        "    n_inputs = inception_v3.fc.in_features\n",
        "    # Add last linear layer (n_inputs -> 40 hieroglyph classes)\n",
        "    last_layer = nn.Sequential(\n",
        "                    nn.Linear(n_inputs, len(classes)))\n",
        "    inception_v3.fc = last_layer\n",
        "    if train_on_gpu:\n",
        "      inception_v3.cuda()\n",
        "    # Specify optimizer (Adam) and learning rate = 0.001\n",
        "    if optim_selection == \"Adam\":\n",
        "        optimizer = optim.Adam(inception_v3.parameters(), lr=0.001)\n",
        "\n",
        "elif model_selection == \"xception\":\n",
        "    xception = timm.create_model('xception', pretrained=whether_to_pretrain)\n",
        "    # Number of features in the last layer of resnet\n",
        "    n_inputs = xception.fc.in_features\n",
        "    # Add last linear layer (n_inputs -> 40 hieroglyph classes)\n",
        "    last_layer = nn.Sequential(\n",
        "                    nn.Linear(n_inputs, len(classes)))\n",
        "    xception.fc = last_layer\n",
        "    if train_on_gpu:\n",
        "      xception.cuda()\n",
        "    # Specify optimizer (Adam) and learning rate = 0.001\n",
        "    if optim_selection == \"Adam\":\n",
        "        optimizer = optim.Adam(xception.parameters(), lr=0.001)\n",
        "\n",
        "# Specify loss function (categorical cross-entropy)\n",
        "if loss_function == \"cross-entropy\":\n",
        "    criterion = nn.CrossEntropyLoss()\n",
        "\n",
        "# Exponential Decay to strengthen learning\n",
        "decayRate = 0.999\n",
        "my_lr_scheduler = torch.optim.lr_scheduler.ExponentialLR(optimizer=optimizer, gamma=decayRate)"
      ],
      "execution_count": 13,
      "outputs": []
    },
    {
      "cell_type": "markdown",
      "metadata": {
        "id": "U2vnErB1yHmM"
      },
      "source": [
        "Training the model"
      ]
    },
    {
      "cell_type": "code",
      "metadata": {
        "colab": {
          "base_uri": "https://localhost:8080/"
        },
        "id": "dOB03noWyEvQ",
        "outputId": "ecb13d96-b75c-48ce-d0c9-1f2f4c4c9839"
      },
      "source": [
        "# number of epochs to train the model\n",
        "n_epochs = 50\n",
        "\n",
        "if model_selection == \"resnet-50\":\n",
        "  # The train_model function is from model_training python file\n",
        "  resnet50, train_losses = train_model(train_loader, optimizer, resnet50, criterion, my_lr_scheduler, n_epochs)\n",
        "elif model_selection == \"inception-v3\":\n",
        "  # The train_model function is from model_training python file\n",
        "  inception_v3, train_losses = train_model(train_loader, optimizer, inception_v3, criterion, my_lr_scheduler, n_epochs)\n",
        "elif model_selection == \"xception\":\n",
        "  # The train_model function is from model_training python file\n",
        "  xception, train_losses = train_model(train_loader, optimizer, xception, criterion, my_lr_scheduler, n_epochs)"
      ],
      "execution_count": 14,
      "outputs": [
        {
          "output_type": "stream",
          "name": "stdout",
          "text": [
            "Epoch 1, Batch 20 loss: 3.0023002982139588\n",
            "Epoch 1, Batch 40 loss: 2.3181262493133543\n",
            "Epoch 1, Batch 60 loss: 2.1284754991531374\n",
            "Epoch 1, Batch 80 loss: 1.7867491185665130\n",
            "Epoch 1, Batch 100 loss: 1.7283972501754761\n",
            "Epoch 1, Batch 120 loss: 1.6784208416938782\n",
            "Epoch 2, Batch 20 loss: 1.4400712937116622\n",
            "Epoch 2, Batch 40 loss: 1.3635779082775117\n",
            "Epoch 2, Batch 60 loss: 1.3326190531253814\n",
            "Epoch 2, Batch 80 loss: 1.2627807199954986\n",
            "Epoch 2, Batch 100 loss: 1.0412348791956902\n",
            "Epoch 2, Batch 120 loss: 1.0213209539651871\n",
            "Epoch 3, Batch 20 loss: 1.0171800792217254\n",
            "Epoch 3, Batch 40 loss: 1.0113363087177276\n",
            "Epoch 3, Batch 60 loss: 0.8209362119436264\n",
            "Epoch 3, Batch 80 loss: 0.8432414799928665\n",
            "Epoch 3, Batch 100 loss: 0.8327244669198990\n",
            "Epoch 3, Batch 120 loss: 0.7325773298740387\n",
            "Epoch 4, Batch 20 loss: 0.6612736806273460\n",
            "Epoch 4, Batch 40 loss: 0.6668655216693878\n",
            "Epoch 4, Batch 60 loss: 0.6522701784968377\n",
            "Epoch 4, Batch 80 loss: 0.6171225786209107\n",
            "Epoch 4, Batch 100 loss: 0.5963369093835353\n",
            "Epoch 4, Batch 120 loss: 0.6474350422620774\n",
            "Epoch 5, Batch 20 loss: 0.6204204954206943\n",
            "Epoch 5, Batch 40 loss: 0.5269377037882805\n",
            "Epoch 5, Batch 60 loss: 0.5194274492561817\n",
            "Epoch 5, Batch 80 loss: 0.5339176982641221\n",
            "Epoch 5, Batch 100 loss: 0.5917526088654995\n",
            "Epoch 5, Batch 120 loss: 0.4228366263210773\n",
            "Epoch 6, Batch 20 loss: 0.4744841337203979\n",
            "Epoch 6, Batch 40 loss: 0.4056372083723545\n",
            "Epoch 6, Batch 60 loss: 0.3480043627321720\n",
            "Epoch 6, Batch 80 loss: 0.4288869513198733\n",
            "Epoch 6, Batch 100 loss: 0.3486824728548527\n",
            "Epoch 6, Batch 120 loss: 0.4114226687699556\n",
            "Epoch 7, Batch 20 loss: 0.3444933231920004\n",
            "Epoch 7, Batch 40 loss: 0.3360916679725051\n",
            "Epoch 7, Batch 60 loss: 0.3121289415284991\n",
            "Epoch 7, Batch 80 loss: 0.3558207040652633\n",
            "Epoch 7, Batch 100 loss: 0.3420293562114239\n",
            "Epoch 7, Batch 120 loss: 0.3457297272980213\n",
            "Epoch 8, Batch 20 loss: 0.3243330899626017\n",
            "Epoch 8, Batch 40 loss: 0.2586439775303006\n",
            "Epoch 8, Batch 60 loss: 0.2455307070165872\n",
            "Epoch 8, Batch 80 loss: 0.2332153568044305\n",
            "Epoch 8, Batch 100 loss: 0.2299882497638464\n",
            "Epoch 8, Batch 120 loss: 0.2385434158146381\n",
            "Epoch 9, Batch 20 loss: 0.2297095997259021\n",
            "Epoch 9, Batch 40 loss: 0.2940006582066417\n",
            "Epoch 9, Batch 60 loss: 0.3154120966792107\n",
            "Epoch 9, Batch 80 loss: 0.3074403740465641\n",
            "Epoch 9, Batch 100 loss: 0.2376600023359060\n",
            "Epoch 9, Batch 120 loss: 0.2295965358614921\n",
            "Epoch 10, Batch 20 loss: 0.2320106953382492\n",
            "Epoch 10, Batch 40 loss: 0.2618064665235579\n",
            "Epoch 10, Batch 60 loss: 0.2709604521282017\n",
            "Epoch 10, Batch 80 loss: 0.1707550495862961\n",
            "Epoch 10, Batch 100 loss: 0.2275887966156006\n",
            "Epoch 10, Batch 120 loss: 0.2400086261332035\n",
            "Epoch 11, Batch 20 loss: 0.1483856595121324\n",
            "Epoch 11, Batch 40 loss: 0.1956990849226713\n",
            "Epoch 11, Batch 60 loss: 0.2747680842876434\n",
            "Epoch 11, Batch 80 loss: 0.1823652628809214\n",
            "Epoch 11, Batch 100 loss: 0.1702960863709450\n",
            "Epoch 11, Batch 120 loss: 0.1644555230624974\n",
            "Epoch 12, Batch 20 loss: 0.1421603666618466\n",
            "Epoch 12, Batch 40 loss: 0.2012506175786257\n",
            "Epoch 12, Batch 60 loss: 0.1250151298940182\n",
            "Epoch 12, Batch 80 loss: 0.1891973251476884\n",
            "Epoch 12, Batch 100 loss: 0.1927874807268381\n",
            "Epoch 12, Batch 120 loss: 0.1264774316456169\n",
            "Epoch 13, Batch 20 loss: 0.1491040687076747\n",
            "Epoch 13, Batch 40 loss: 0.1450733875855804\n",
            "Epoch 13, Batch 60 loss: 0.1569054450839758\n",
            "Epoch 13, Batch 80 loss: 0.1391246112063527\n",
            "Epoch 13, Batch 100 loss: 0.2146653389558196\n",
            "Epoch 13, Batch 120 loss: 0.1451479075476527\n",
            "Epoch 14, Batch 20 loss: 0.1436430524103343\n",
            "Epoch 14, Batch 40 loss: 0.1172923554666340\n",
            "Epoch 14, Batch 60 loss: 0.1263159236870706\n",
            "Epoch 14, Batch 80 loss: 0.1177041354123503\n",
            "Epoch 14, Batch 100 loss: 0.1424956026487053\n",
            "Epoch 14, Batch 120 loss: 0.1387223659316078\n",
            "Epoch 15, Batch 20 loss: 0.1098291150876321\n",
            "Epoch 15, Batch 40 loss: 0.1073536545038223\n",
            "Epoch 15, Batch 60 loss: 0.1354502460919321\n",
            "Epoch 15, Batch 80 loss: 0.1370136434677988\n",
            "Epoch 15, Batch 100 loss: 0.1391185619402677\n",
            "Epoch 15, Batch 120 loss: 0.1253650227561593\n",
            "Epoch 16, Batch 20 loss: 0.0831077967770398\n",
            "Epoch 16, Batch 40 loss: 0.1292816813103855\n",
            "Epoch 16, Batch 60 loss: 0.0608231106773019\n",
            "Epoch 16, Batch 80 loss: 0.1110135593917221\n",
            "Epoch 16, Batch 100 loss: 0.1524672792758793\n",
            "Epoch 16, Batch 120 loss: 0.1121501154266298\n",
            "Epoch 17, Batch 20 loss: 0.1147993538994342\n",
            "Epoch 17, Batch 40 loss: 0.0929190485738218\n",
            "Epoch 17, Batch 60 loss: 0.1081301672034897\n",
            "Epoch 17, Batch 80 loss: 0.0686620700405911\n",
            "Epoch 17, Batch 100 loss: 0.0792271699639969\n",
            "Epoch 17, Batch 120 loss: 0.1311980187194422\n",
            "Epoch 18, Batch 20 loss: 0.0796023427043110\n",
            "Epoch 18, Batch 40 loss: 0.0702033033827320\n",
            "Epoch 18, Batch 60 loss: 0.0813175138551742\n",
            "Epoch 18, Batch 80 loss: 0.0746691814856604\n",
            "Epoch 18, Batch 100 loss: 0.0938765098806471\n",
            "Epoch 18, Batch 120 loss: 0.0654488457832485\n",
            "Epoch 19, Batch 20 loss: 0.1010676302714273\n",
            "Epoch 19, Batch 40 loss: 0.0988021797500551\n",
            "Epoch 19, Batch 60 loss: 0.0538241587812081\n",
            "Epoch 19, Batch 80 loss: 0.0852240689331666\n",
            "Epoch 19, Batch 100 loss: 0.0522014920134097\n",
            "Epoch 19, Batch 120 loss: 0.0646713077789172\n",
            "Epoch 20, Batch 20 loss: 0.0749538930831477\n",
            "Epoch 20, Batch 40 loss: 0.0821074440609664\n",
            "Epoch 20, Batch 60 loss: 0.0618606596370228\n",
            "Epoch 20, Batch 80 loss: 0.0683432307094336\n",
            "Epoch 20, Batch 100 loss: 0.0605584789183922\n",
            "Epoch 20, Batch 120 loss: 0.0940161381848156\n",
            "Epoch 21, Batch 20 loss: 0.0398430055705830\n",
            "Epoch 21, Batch 40 loss: 0.0899356678361073\n",
            "Epoch 21, Batch 60 loss: 0.1012931546196341\n",
            "Epoch 21, Batch 80 loss: 0.0873069689609110\n",
            "Epoch 21, Batch 100 loss: 0.0936891076620668\n",
            "Epoch 21, Batch 120 loss: 0.0748959243181162\n",
            "Epoch 22, Batch 20 loss: 0.0762566049466841\n",
            "Epoch 22, Batch 40 loss: 0.0749759646249004\n",
            "Epoch 22, Batch 60 loss: 0.0694845201447606\n",
            "Epoch 22, Batch 80 loss: 0.0856373169110157\n",
            "Epoch 22, Batch 100 loss: 0.0674685473088175\n",
            "Epoch 22, Batch 120 loss: 0.0530950234271586\n",
            "Epoch 23, Batch 20 loss: 0.0483421701937914\n",
            "Epoch 23, Batch 40 loss: 0.0554866134421900\n",
            "Epoch 23, Batch 60 loss: 0.0623429642524570\n",
            "Epoch 23, Batch 80 loss: 0.0580977811012417\n",
            "Epoch 23, Batch 100 loss: 0.0614073837350588\n",
            "Epoch 23, Batch 120 loss: 0.0826697646873072\n",
            "Epoch 24, Batch 20 loss: 0.0529940795968287\n",
            "Epoch 24, Batch 40 loss: 0.0568929688422941\n",
            "Epoch 24, Batch 60 loss: 0.0515925836749375\n",
            "Epoch 24, Batch 80 loss: 0.0625672283698805\n",
            "Epoch 24, Batch 100 loss: 0.0788473462220281\n",
            "Epoch 24, Batch 120 loss: 0.0523671615868807\n",
            "Epoch 25, Batch 20 loss: 0.0461859366390854\n",
            "Epoch 25, Batch 40 loss: 0.0501224376494065\n",
            "Epoch 25, Batch 60 loss: 0.0401701418682933\n",
            "Epoch 25, Batch 80 loss: 0.0432718253228813\n",
            "Epoch 25, Batch 100 loss: 0.0359748429269530\n",
            "Epoch 25, Batch 120 loss: 0.0602691308129579\n",
            "Epoch 26, Batch 20 loss: 0.0711340914480388\n",
            "Epoch 26, Batch 40 loss: 0.0877234918763861\n",
            "Epoch 26, Batch 60 loss: 0.0537581524811685\n",
            "Epoch 26, Batch 80 loss: 0.0264180860307533\n",
            "Epoch 26, Batch 100 loss: 0.0694823762401938\n",
            "Epoch 26, Batch 120 loss: 0.0442931491998024\n",
            "Epoch 27, Batch 20 loss: 0.0463184529449791\n",
            "Epoch 27, Batch 40 loss: 0.0446213568153325\n",
            "Epoch 27, Batch 60 loss: 0.0415280678891577\n",
            "Epoch 27, Batch 80 loss: 0.0483407887397334\n",
            "Epoch 27, Batch 100 loss: 0.0236823069164529\n",
            "Epoch 27, Batch 120 loss: 0.0534393034991808\n",
            "Epoch 28, Batch 20 loss: 0.0532795373816043\n",
            "Epoch 28, Batch 40 loss: 0.0499279018491507\n",
            "Epoch 28, Batch 60 loss: 0.0532736603345256\n",
            "Epoch 28, Batch 80 loss: 0.0535899874055758\n",
            "Epoch 28, Batch 100 loss: 0.0219146554823965\n",
            "Epoch 28, Batch 120 loss: 0.0213055119966157\n",
            "Epoch 29, Batch 20 loss: 0.0381635138532147\n",
            "Epoch 29, Batch 40 loss: 0.0290538795175962\n",
            "Epoch 29, Batch 60 loss: 0.0462572767864913\n",
            "Epoch 29, Batch 80 loss: 0.0458699223207077\n",
            "Epoch 29, Batch 100 loss: 0.0436088197224308\n",
            "Epoch 29, Batch 120 loss: 0.0410568658844568\n",
            "Epoch 30, Batch 20 loss: 0.0492243564105593\n",
            "Epoch 30, Batch 40 loss: 0.0295877003081841\n",
            "Epoch 30, Batch 60 loss: 0.0453879187931307\n",
            "Epoch 30, Batch 80 loss: 0.0303780473303050\n",
            "Epoch 30, Batch 100 loss: 0.0479878114536405\n",
            "Epoch 30, Batch 120 loss: 0.0352556234691292\n",
            "Epoch 31, Batch 20 loss: 0.0432606621878222\n",
            "Epoch 31, Batch 40 loss: 0.0371492787264287\n",
            "Epoch 31, Batch 60 loss: 0.0348612076835707\n",
            "Epoch 31, Batch 80 loss: 0.0622126803791616\n",
            "Epoch 31, Batch 100 loss: 0.0234790229122154\n",
            "Epoch 31, Batch 120 loss: 0.0176062649115920\n",
            "Epoch 32, Batch 20 loss: 0.0220224704942666\n",
            "Epoch 32, Batch 40 loss: 0.0444588788843248\n",
            "Epoch 32, Batch 60 loss: 0.0428986970218830\n",
            "Epoch 32, Batch 80 loss: 0.0309159913158510\n",
            "Epoch 32, Batch 100 loss: 0.0552731778821908\n",
            "Epoch 32, Batch 120 loss: 0.0516781998565421\n",
            "Epoch 33, Batch 20 loss: 0.0524471512064338\n",
            "Epoch 33, Batch 40 loss: 0.0321353733481374\n",
            "Epoch 33, Batch 60 loss: 0.0275244506890886\n",
            "Epoch 33, Batch 80 loss: 0.0641132163000293\n",
            "Epoch 33, Batch 100 loss: 0.0266343350755051\n",
            "Epoch 33, Batch 120 loss: 0.0483122552977875\n",
            "Epoch 34, Batch 20 loss: 0.0728432824602351\n",
            "Epoch 34, Batch 40 loss: 0.0269877243437804\n",
            "Epoch 34, Batch 60 loss: 0.0167704024468549\n",
            "Epoch 34, Batch 80 loss: 0.0597499032621272\n",
            "Epoch 34, Batch 100 loss: 0.0514386798720807\n",
            "Epoch 34, Batch 120 loss: 0.0362577544292435\n",
            "Epoch 35, Batch 20 loss: 0.0259733052167576\n",
            "Epoch 35, Batch 40 loss: 0.0419786550803110\n",
            "Epoch 35, Batch 60 loss: 0.0441104311961681\n",
            "Epoch 35, Batch 80 loss: 0.0485684525978286\n",
            "Epoch 35, Batch 100 loss: 0.0521977529744618\n",
            "Epoch 35, Batch 120 loss: 0.0525734832044691\n",
            "Epoch 36, Batch 20 loss: 0.0196942550886888\n",
            "Epoch 36, Batch 40 loss: 0.0408301789022516\n",
            "Epoch 36, Batch 60 loss: 0.0406759687408339\n",
            "Epoch 36, Batch 80 loss: 0.0213304504053667\n",
            "Epoch 36, Batch 100 loss: 0.0510042128618807\n",
            "Epoch 36, Batch 120 loss: 0.0291870586224832\n",
            "Epoch 37, Batch 20 loss: 0.0460850187402684\n",
            "Epoch 37, Batch 40 loss: 0.0317762810795102\n",
            "Epoch 37, Batch 60 loss: 0.0564853638177738\n",
            "Epoch 37, Batch 80 loss: 0.0441901559010148\n",
            "Epoch 37, Batch 100 loss: 0.0323752307042014\n",
            "Epoch 37, Batch 120 loss: 0.0333510371856391\n",
            "Epoch 38, Batch 20 loss: 0.0357027048070449\n",
            "Epoch 38, Batch 40 loss: 0.0326124956947751\n",
            "Epoch 38, Batch 60 loss: 0.0269013732671738\n",
            "Epoch 38, Batch 80 loss: 0.0337287284492049\n",
            "Epoch 38, Batch 100 loss: 0.0186614233301952\n",
            "Epoch 38, Batch 120 loss: 0.0285464271437377\n",
            "Epoch 39, Batch 20 loss: 0.0250206761760637\n",
            "Epoch 39, Batch 40 loss: 0.0391865940357093\n",
            "Epoch 39, Batch 60 loss: 0.0289168854535092\n",
            "Epoch 39, Batch 80 loss: 0.0509635512833484\n",
            "Epoch 39, Batch 100 loss: 0.0417053383833263\n",
            "Epoch 39, Batch 120 loss: 0.0303387094987556\n",
            "Epoch 40, Batch 20 loss: 0.0257416515407385\n",
            "Epoch 40, Batch 40 loss: 0.0448602375341579\n",
            "Epoch 40, Batch 60 loss: 0.0156809011823498\n",
            "Epoch 40, Batch 80 loss: 0.0386566970322747\n",
            "Epoch 40, Batch 100 loss: 0.0293927392223850\n",
            "Epoch 40, Batch 120 loss: 0.0368243752309354\n",
            "Epoch 41, Batch 20 loss: 0.0286422964447411\n",
            "Epoch 41, Batch 40 loss: 0.0308894692105241\n",
            "Epoch 41, Batch 60 loss: 0.0397369559257641\n",
            "Epoch 41, Batch 80 loss: 0.0228638590197079\n",
            "Epoch 41, Batch 100 loss: 0.0272163024550537\n",
            "Epoch 41, Batch 120 loss: 0.0407115440932102\n",
            "Epoch 42, Batch 20 loss: 0.0384985369571950\n",
            "Epoch 42, Batch 40 loss: 0.0140205072239041\n",
            "Epoch 42, Batch 60 loss: 0.0318459058646113\n",
            "Epoch 42, Batch 80 loss: 0.0226869589183480\n",
            "Epoch 42, Batch 100 loss: 0.0303545782750007\n",
            "Epoch 42, Batch 120 loss: 0.0364119743520860\n",
            "Epoch 43, Batch 20 loss: 0.0098850217531435\n",
            "Epoch 43, Batch 40 loss: 0.0418455483915750\n",
            "Epoch 43, Batch 60 loss: 0.0228782867896371\n",
            "Epoch 43, Batch 80 loss: 0.0131588030024432\n",
            "Epoch 43, Batch 100 loss: 0.0405236834543757\n",
            "Epoch 43, Batch 120 loss: 0.0398852784186602\n",
            "Epoch 44, Batch 20 loss: 0.0658568394021131\n",
            "Epoch 44, Batch 40 loss: 0.0297540346684400\n",
            "Epoch 44, Batch 60 loss: 0.0390421685413457\n",
            "Epoch 44, Batch 80 loss: 0.0442063757742289\n",
            "Epoch 44, Batch 100 loss: 0.0225472805905156\n",
            "Epoch 44, Batch 120 loss: 0.0271243174094707\n",
            "Epoch 45, Batch 20 loss: 0.0247113030229229\n",
            "Epoch 45, Batch 40 loss: 0.0340631331317127\n",
            "Epoch 45, Batch 60 loss: 0.0469178049650509\n",
            "Epoch 45, Batch 80 loss: 0.0230363299720921\n",
            "Epoch 45, Batch 100 loss: 0.0155149027705193\n",
            "Epoch 45, Batch 120 loss: 0.0328297937521711\n",
            "Epoch 46, Batch 20 loss: 0.0484850312874187\n",
            "Epoch 46, Batch 40 loss: 0.0199853197904304\n",
            "Epoch 46, Batch 60 loss: 0.0402559182839468\n",
            "Epoch 46, Batch 80 loss: 0.0538070425041951\n",
            "Epoch 46, Batch 100 loss: 0.0362976845412049\n",
            "Epoch 46, Batch 120 loss: 0.0173826929880306\n",
            "Epoch 47, Batch 20 loss: 0.0422585507345502\n",
            "Epoch 47, Batch 40 loss: 0.0273121907317545\n",
            "Epoch 47, Batch 60 loss: 0.0296530611696653\n",
            "Epoch 47, Batch 80 loss: 0.0225142948911525\n",
            "Epoch 47, Batch 100 loss: 0.0476749820634723\n",
            "Epoch 47, Batch 120 loss: 0.0463595207431354\n",
            "Epoch 48, Batch 20 loss: 0.0291454820777290\n",
            "Epoch 48, Batch 40 loss: 0.0628607118676882\n",
            "Epoch 48, Batch 60 loss: 0.0173401011037640\n",
            "Epoch 48, Batch 80 loss: 0.0265747352968901\n",
            "Epoch 48, Batch 100 loss: 0.0262134275224525\n",
            "Epoch 48, Batch 120 loss: 0.0347854005056433\n",
            "Epoch 49, Batch 20 loss: 0.0407251367520075\n",
            "Epoch 49, Batch 40 loss: 0.0244337705487851\n",
            "Epoch 49, Batch 60 loss: 0.0491433725983370\n",
            "Epoch 49, Batch 80 loss: 0.0202888609259389\n",
            "Epoch 49, Batch 100 loss: 0.0248565543326549\n",
            "Epoch 49, Batch 120 loss: 0.0242853172705509\n",
            "Epoch 50, Batch 20 loss: 0.0499753060867079\n",
            "Epoch 50, Batch 40 loss: 0.0294803527183831\n",
            "Epoch 50, Batch 60 loss: 0.0382473383215256\n",
            "Epoch 50, Batch 80 loss: 0.0402672176045598\n",
            "Epoch 50, Batch 100 loss: 0.0251814836403355\n",
            "Epoch 50, Batch 120 loss: 0.0261212722340133\n"
          ]
        }
      ]
    },
    {
      "cell_type": "code",
      "metadata": {
        "id": "CfA7ZjLR1BZP",
        "colab": {
          "base_uri": "https://localhost:8080/",
          "height": 281
        },
        "outputId": "0d07ba19-2cfa-4d5e-b8cb-9a66064f9348"
      },
      "source": [
        "plt.plot(train_losses)\n",
        "plt.title(\"Training Loss\")\n",
        "plt.show()"
      ],
      "execution_count": 15,
      "outputs": [
        {
          "output_type": "display_data",
          "data": {
            "image/png": "[encoded data removed]",
            "text/plain": [
              "<Figure size 432x288 with 1 Axes>"
            ]
          },
          "metadata": {
            "needs_background": "light"
          }
        }
      ]
    },
    {
      "cell_type": "markdown",
      "metadata": {
        "id": "ItLyF9dQyJFL"
      },
      "source": [
        "Testing the model"
      ]
    },
    {
      "cell_type": "code",
      "metadata": {
        "id": "gGki98W3SoEW"
      },
      "source": [
        "from sklearn.metrics import precision_score, recall_score, f1_score, accuracy_score"
      ],
      "execution_count": 16,
      "outputs": []
    },
    {
      "cell_type": "code",
      "metadata": {
        "id": "xNavYOynyE6d",
        "colab": {
          "base_uri": "https://localhost:8080/"
        },
        "outputId": "83e82da4-8d64-48cb-f569-3de0d8ab4c6c"
      },
      "source": [
        "# The test_model function is from model_testing python file\n",
        "test_loss, class_correct, class_total, labels, predictions = test_model(classes, xception, test_loader, criterion)\n",
        "\n",
        "# Test accuracy for each hieroglyph\n",
        "for i in range(len(classes)):\n",
        "    if class_total[i] > 0:\n",
        "        print('Test Accuracy of %5s: %2d%% (%2d/%2d)' % (classes[i], 100 * class_correct[i] / class_total[i], np.sum(class_correct[i]), np.sum(class_total[i])))\n",
        "    else:\n",
        "        print('Test Accuracy of %5s: N/A (no training examples)' % (classes[i]))\n",
        "\n",
        "# Total Test accuracy\n",
        "print(\"\\nAccuracy: {:.3%}\".format(accuracy_score(labels, predictions)))\n",
        "print(\"\\nPrecision: {:.3%}\".format(precision_score(labels, predictions, average = 'weighted')))\n",
        "print(\"\\nRecall: {:.3%}\".format(recall_score(labels, predictions, average = 'weighted')))\n",
        "print(\"\\nF1-score: {:.3%}\".format(f1_score(labels, predictions, average = 'weighted')))"
      ],
      "execution_count": 17,
      "outputs": [
        {
          "output_type": "stream",
          "name": "stdout",
          "text": [
            "Test Loss: 0.054700\n",
            "\n",
            "Test Accuracy of    D2: 80% ( 4/ 5)\n",
            "Test Accuracy of   D21: 97% (35/36)\n",
            "Test Accuracy of   D36: 100% (12/12)\n",
            "Test Accuracy of    D4: 100% ( 8/ 8)\n",
            "Test Accuracy of   D46: 72% ( 8/11)\n",
            "Test Accuracy of   D58: 100% ( 8/ 8)\n",
            "Test Accuracy of   E23: 100% ( 2/ 2)\n",
            "Test Accuracy of   E34: 100% (25/25)\n",
            "Test Accuracy of   F31: 100% ( 2/ 2)\n",
            "Test Accuracy of   F35: 100% ( 1/ 1)\n",
            "Test Accuracy of    G1: 100% ( 7/ 7)\n",
            "Test Accuracy of   G17: 97% (38/39)\n",
            "Test Accuracy of   G43: 100% (40/40)\n",
            "Test Accuracy of   I10: 100% ( 9/ 9)\n",
            "Test Accuracy of    I9: 100% (30/30)\n",
            "Test Accuracy of   M17: 98% (72/73)\n",
            "Test Accuracy of   M23: 87% ( 7/ 8)\n",
            "Test Accuracy of   N35: 100% (90/90)\n",
            "Test Accuracy of    O1: 100% ( 4/ 4)\n",
            "Test Accuracy of   O34: 75% ( 3/ 4)\n",
            "Test Accuracy of    O4: 100% ( 3/ 3)\n",
            "Test Accuracy of   O49: 100% ( 3/ 3)\n",
            "Test Accuracy of    Q1: 75% ( 3/ 4)\n",
            "Test Accuracy of    Q3: 93% (15/16)\n",
            "Test Accuracy of    R4: 100% ( 1/ 1)\n",
            "Test Accuracy of    R8: 100% (14/14)\n",
            "Test Accuracy of   S29: 100% (53/53)\n",
            "Test Accuracy of   S34: 100% ( 2/ 2)\n",
            "Test Accuracy of    U7: 100% ( 1/ 1)\n",
            "Test Accuracy of   V13: 100% (16/16)\n",
            "Test Accuracy of   V28: 100% ( 8/ 8)\n",
            "Test Accuracy of   V30: 100% ( 2/ 2)\n",
            "Test Accuracy of   V31: 100% (27/27)\n",
            "Test Accuracy of   W11: 100% ( 1/ 1)\n",
            "Test Accuracy of   W24: 87% ( 7/ 8)\n",
            "Test Accuracy of    X1: 100% (47/47)\n",
            "Test Accuracy of    X8: 100% ( 1/ 1)\n",
            "Test Accuracy of    Y1:  0% ( 0/ 1)\n",
            "Test Accuracy of    Y5: 100% ( 2/ 2)\n",
            "Test Accuracy of    Z1: 100% (10/10)\n",
            "\n",
            "Accuracy: 0.979%\n",
            "\n",
            "Precision: 0.979%\n",
            "\n",
            "Recall: 0.979%\n",
            "\n",
            "F1-score: 0.979%\n"
          ]
        },
        {
          "output_type": "stream",
          "name": "stderr",
          "text": [
            "/usr/local/lib/python3.7/dist-packages/sklearn/metrics/_classification.py:1308: UndefinedMetricWarning: Precision is ill-defined and being set to 0.0 in labels with no predicted samples. Use `zero_division` parameter to control this behavior.\n",
            "  _warn_prf(average, modifier, msg_start, len(result))\n"
          ]
        }
      ]
    }
  ]
}