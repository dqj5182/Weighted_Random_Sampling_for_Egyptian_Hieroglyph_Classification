{
  "nbformat": 4,
  "nbformat_minor": 0,
  "metadata": {
    "colab": {
      "name": "Egyptian_model_with_Inception_v3_Pretrained_only_test_with_data_aug.ipynb",
      "provenance": []
    },
    "kernelspec": {
      "name": "python3",
      "display_name": "Python 3"
    },
    "language_info": {
      "name": "python"
    },
    "accelerator": "GPU",
    "widgets": {
      "application/vnd.jupyter.widget-state+json": {
        "183a8d79c0ef4eebb4a549f75e793d6e": {
          "model_module": "@jupyter-widgets/controls",
          "model_name": "HBoxModel",
          "model_module_version": "1.5.0",
          "state": {
            "_view_name": "HBoxView",
            "_dom_classes": [],
            "_model_name": "HBoxModel",
            "_view_module": "@jupyter-widgets/controls",
            "_model_module_version": "1.5.0",
            "_view_count": null,
            "_view_module_version": "1.5.0",
            "box_style": "",
            "layout": "IPY_MODEL_acf4957c0d6d461fb5d79ae5b57486c9",
            "_model_module": "@jupyter-widgets/controls",
            "children": [
              "IPY_MODEL_a348288b29e34dfb90b2a394e5b7421a",
              "IPY_MODEL_b70badded69c4adfb17bc395d0c9daa8",
              "IPY_MODEL_87e73b3492e9430492140ecab52ab06f"
            ]
          }
        },
        "acf4957c0d6d461fb5d79ae5b57486c9": {
          "model_module": "@jupyter-widgets/base",
          "model_name": "LayoutModel",
          "model_module_version": "1.2.0",
          "state": {
            "_view_name": "LayoutView",
            "grid_template_rows": null,
            "right": null,
            "justify_content": null,
            "_view_module": "@jupyter-widgets/base",
            "overflow": null,
            "_model_module_version": "1.2.0",
            "_view_count": null,
            "flex_flow": null,
            "width": null,
            "min_width": null,
            "border": null,
            "align_items": null,
            "bottom": null,
            "_model_module": "@jupyter-widgets/base",
            "top": null,
            "grid_column": null,
            "overflow_y": null,
            "overflow_x": null,
            "grid_auto_flow": null,
            "grid_area": null,
            "grid_template_columns": null,
            "flex": null,
            "_model_name": "LayoutModel",
            "justify_items": null,
            "grid_row": null,
            "max_height": null,
            "align_content": null,
            "visibility": null,
            "align_self": null,
            "height": null,
            "min_height": null,
            "padding": null,
            "grid_auto_rows": null,
            "grid_gap": null,
            "max_width": null,
            "order": null,
            "_view_module_version": "1.2.0",
            "grid_template_areas": null,
            "object_position": null,
            "object_fit": null,
            "grid_auto_columns": null,
            "margin": null,
            "display": null,
            "left": null
          }
        },
        "a348288b29e34dfb90b2a394e5b7421a": {
          "model_module": "@jupyter-widgets/controls",
          "model_name": "HTMLModel",
          "model_module_version": "1.5.0",
          "state": {
            "_view_name": "HTMLView",
            "style": "IPY_MODEL_755506d7462b45379db9fa1afe8fa5e5",
            "_dom_classes": [],
            "description": "",
            "_model_name": "HTMLModel",
            "placeholder": "​",
            "_view_module": "@jupyter-widgets/controls",
            "_model_module_version": "1.5.0",
            "value": "100%",
            "_view_count": null,
            "_view_module_version": "1.5.0",
            "description_tooltip": null,
            "_model_module": "@jupyter-widgets/controls",
            "layout": "IPY_MODEL_2f2ba40626f042859edea0cd2907b9e9"
          }
        },
        "b70badded69c4adfb17bc395d0c9daa8": {
          "model_module": "@jupyter-widgets/controls",
          "model_name": "FloatProgressModel",
          "model_module_version": "1.5.0",
          "state": {
            "_view_name": "ProgressView",
            "style": "IPY_MODEL_341ab1e6582943638c84f45241116d83",
            "_dom_classes": [],
            "description": "",
            "_model_name": "FloatProgressModel",
            "bar_style": "success",
            "max": 108949747,
            "_view_module": "@jupyter-widgets/controls",
            "_model_module_version": "1.5.0",
            "value": 108949747,
            "_view_count": null,
            "_view_module_version": "1.5.0",
            "orientation": "horizontal",
            "min": 0,
            "description_tooltip": null,
            "_model_module": "@jupyter-widgets/controls",
            "layout": "IPY_MODEL_deb12ed520214e07b382458546d06057"
          }
        },
        "87e73b3492e9430492140ecab52ab06f": {
          "model_module": "@jupyter-widgets/controls",
          "model_name": "HTMLModel",
          "model_module_version": "1.5.0",
          "state": {
            "_view_name": "HTMLView",
            "style": "IPY_MODEL_5b508e5d282a473c8296e7447b680b72",
            "_dom_classes": [],
            "description": "",
            "_model_name": "HTMLModel",
            "placeholder": "​",
            "_view_module": "@jupyter-widgets/controls",
            "_model_module_version": "1.5.0",
            "value": " 104M/104M [00:00&lt;00:00, 138MB/s]",
            "_view_count": null,
            "_view_module_version": "1.5.0",
            "description_tooltip": null,
            "_model_module": "@jupyter-widgets/controls",
            "layout": "IPY_MODEL_5b23334ba51e4280b54de8b8ae4193dd"
          }
        },
        "755506d7462b45379db9fa1afe8fa5e5": {
          "model_module": "@jupyter-widgets/controls",
          "model_name": "DescriptionStyleModel",
          "model_module_version": "1.5.0",
          "state": {
            "_view_name": "StyleView",
            "_model_name": "DescriptionStyleModel",
            "description_width": "",
            "_view_module": "@jupyter-widgets/base",
            "_model_module_version": "1.5.0",
            "_view_count": null,
            "_view_module_version": "1.2.0",
            "_model_module": "@jupyter-widgets/controls"
          }
        },
        "2f2ba40626f042859edea0cd2907b9e9": {
          "model_module": "@jupyter-widgets/base",
          "model_name": "LayoutModel",
          "model_module_version": "1.2.0",
          "state": {
            "_view_name": "LayoutView",
            "grid_template_rows": null,
            "right": null,
            "justify_content": null,
            "_view_module": "@jupyter-widgets/base",
            "overflow": null,
            "_model_module_version": "1.2.0",
            "_view_count": null,
            "flex_flow": null,
            "width": null,
            "min_width": null,
            "border": null,
            "align_items": null,
            "bottom": null,
            "_model_module": "@jupyter-widgets/base",
            "top": null,
            "grid_column": null,
            "overflow_y": null,
            "overflow_x": null,
            "grid_auto_flow": null,
            "grid_area": null,
            "grid_template_columns": null,
            "flex": null,
            "_model_name": "LayoutModel",
            "justify_items": null,
            "grid_row": null,
            "max_height": null,
            "align_content": null,
            "visibility": null,
            "align_self": null,
            "height": null,
            "min_height": null,
            "padding": null,
            "grid_auto_rows": null,
            "grid_gap": null,
            "max_width": null,
            "order": null,
            "_view_module_version": "1.2.0",
            "grid_template_areas": null,
            "object_position": null,
            "object_fit": null,
            "grid_auto_columns": null,
            "margin": null,
            "display": null,
            "left": null
          }
        },
        "341ab1e6582943638c84f45241116d83": {
          "model_module": "@jupyter-widgets/controls",
          "model_name": "ProgressStyleModel",
          "model_module_version": "1.5.0",
          "state": {
            "_view_name": "StyleView",
            "_model_name": "ProgressStyleModel",
            "description_width": "",
            "_view_module": "@jupyter-widgets/base",
            "_model_module_version": "1.5.0",
            "_view_count": null,
            "_view_module_version": "1.2.0",
            "bar_color": null,
            "_model_module": "@jupyter-widgets/controls"
          }
        },
        "deb12ed520214e07b382458546d06057": {
          "model_module": "@jupyter-widgets/base",
          "model_name": "LayoutModel",
          "model_module_version": "1.2.0",
          "state": {
            "_view_name": "LayoutView",
            "grid_template_rows": null,
            "right": null,
            "justify_content": null,
            "_view_module": "@jupyter-widgets/base",
            "overflow": null,
            "_model_module_version": "1.2.0",
            "_view_count": null,
            "flex_flow": null,
            "width": null,
            "min_width": null,
            "border": null,
            "align_items": null,
            "bottom": null,
            "_model_module": "@jupyter-widgets/base",
            "top": null,
            "grid_column": null,
            "overflow_y": null,
            "overflow_x": null,
            "grid_auto_flow": null,
            "grid_area": null,
            "grid_template_columns": null,
            "flex": null,
            "_model_name": "LayoutModel",
            "justify_items": null,
            "grid_row": null,
            "max_height": null,
            "align_content": null,
            "visibility": null,
            "align_self": null,
            "height": null,
            "min_height": null,
            "padding": null,
            "grid_auto_rows": null,
            "grid_gap": null,
            "max_width": null,
            "order": null,
            "_view_module_version": "1.2.0",
            "grid_template_areas": null,
            "object_position": null,
            "object_fit": null,
            "grid_auto_columns": null,
            "margin": null,
            "display": null,
            "left": null
          }
        },
        "5b508e5d282a473c8296e7447b680b72": {
          "model_module": "@jupyter-widgets/controls",
          "model_name": "DescriptionStyleModel",
          "model_module_version": "1.5.0",
          "state": {
            "_view_name": "StyleView",
            "_model_name": "DescriptionStyleModel",
            "description_width": "",
            "_view_module": "@jupyter-widgets/base",
            "_model_module_version": "1.5.0",
            "_view_count": null,
            "_view_module_version": "1.2.0",
            "_model_module": "@jupyter-widgets/controls"
          }
        },
        "5b23334ba51e4280b54de8b8ae4193dd": {
          "model_module": "@jupyter-widgets/base",
          "model_name": "LayoutModel",
          "model_module_version": "1.2.0",
          "state": {
            "_view_name": "LayoutView",
            "grid_template_rows": null,
            "right": null,
            "justify_content": null,
            "_view_module": "@jupyter-widgets/base",
            "overflow": null,
            "_model_module_version": "1.2.0",
            "_view_count": null,
            "flex_flow": null,
            "width": null,
            "min_width": null,
            "border": null,
            "align_items": null,
            "bottom": null,
            "_model_module": "@jupyter-widgets/base",
            "top": null,
            "grid_column": null,
            "overflow_y": null,
            "overflow_x": null,
            "grid_auto_flow": null,
            "grid_area": null,
            "grid_template_columns": null,
            "flex": null,
            "_model_name": "LayoutModel",
            "justify_items": null,
            "grid_row": null,
            "max_height": null,
            "align_content": null,
            "visibility": null,
            "align_self": null,
            "height": null,
            "min_height": null,
            "padding": null,
            "grid_auto_rows": null,
            "grid_gap": null,
            "max_width": null,
            "order": null,
            "_view_module_version": "1.2.0",
            "grid_template_areas": null,
            "object_position": null,
            "object_fit": null,
            "grid_auto_columns": null,
            "margin": null,
            "display": null,
            "left": null
          }
        }
      }
    }
  },
  "cells": [
    {
      "cell_type": "code",
      "metadata": {
        "id": "8iEiGSblxJzW"
      },
      "source": [
        "import os, os.path\n",
        "import torch\n",
        "import numpy as np\n",
        "import torch.nn as nn\n",
        "import torch.optim as optim\n",
        "from pathlib import Path\n",
        "from torchvision import datasets, models, transforms\n",
        "\n",
        "# check if CUDA is available\n",
        "train_on_gpu = torch.cuda.is_available()"
      ],
      "execution_count": 16,
      "outputs": []
    },
    {
      "cell_type": "markdown",
      "metadata": {
        "id": "Jd6KU8VMz6J3"
      },
      "source": [
        "Module: Load_data"
      ]
    },
    {
      "cell_type": "code",
      "metadata": {
        "id": "8lWX0BW_w_kC"
      },
      "source": [
        "def load_data(hieroglyph_directory_path, batch_size=20, num_workers=0):\n",
        "    train_dir = os.path.join(hieroglyph_directory_path, 'train/')\n",
        "    test_dir = os.path.join(hieroglyph_directory_path, 'test/')\n",
        "\n",
        "    classes = []\n",
        "\n",
        "    for filename in os.listdir(train_dir):\n",
        "        if filename == '.DS_Store':\n",
        "            pass\n",
        "        else:\n",
        "            classes.append(filename)\n",
        "\n",
        "    classes.sort()\n",
        "\n",
        "    # print(\"Our classes:\", classes)\n",
        "    # print(len(classes))\n",
        "\n",
        "    data_transform_train = transforms.Compose([transforms.ToTensor(),\n",
        "                                                  transforms.Resize((299, 299)),\n",
        "                                                  transforms.Normalize((0.5,), (0.5,))])\n",
        "\n",
        "    data_transform_test = transforms.Compose([transforms.ToTensor(),\n",
        "                                                  transforms.RandomApply([transforms.RandomHorizontalFlip()]),\n",
        "                                                  transforms.RandomRotation(degrees=(-10, 10)),\n",
        "                                                  transforms.RandomAffine(degrees=0, translate=(.1, .1)),\n",
        "                                                  transforms.RandomApply([transforms.ColorJitter(brightness=(1, 1.2),\n",
        "                                                                                                  contrast=(1, 1.5),\n",
        "                                                                                                  saturation=(1, 1.5),\n",
        "                                                                                                  hue=(0, 0.5))]),\n",
        "                                                  transforms.RandomErasing(p=0.5, scale=(0.05, 0.05), ratio=(0.3, 3.3), value=0,\n",
        "                                                                            inplace=False),\n",
        "                                                  transforms.Resize((299, 299)),\n",
        "                                                  transforms.Normalize((0.5,), (0.5,))])\n",
        "\n",
        "    train_data = datasets.ImageFolder(train_dir, transform=data_transform_train)\n",
        "    test_data = datasets.ImageFolder(test_dir, transform=data_transform_test)\n",
        "\n",
        "\n",
        "    # print('Num training images: ', len(train_data))\n",
        "    # print('Num test images: ', len(test_data))\n",
        "\n",
        "    # prepare data loaders\n",
        "    train_loader = torch.utils.data.DataLoader(train_data, batch_size=batch_size,\n",
        "                                               num_workers=num_workers, shuffle=True)\n",
        "    test_loader = torch.utils.data.DataLoader(test_data, batch_size=batch_size,\n",
        "                                              num_workers=num_workers, shuffle=True)\n",
        "\n",
        "    return train_loader, test_loader, classes"
      ],
      "execution_count": 17,
      "outputs": []
    },
    {
      "cell_type": "markdown",
      "metadata": {
        "id": "K4sXUrPPz7iF"
      },
      "source": [
        "Module: Train_model"
      ]
    },
    {
      "cell_type": "code",
      "metadata": {
        "id": "N2N_rnKLxN5c"
      },
      "source": [
        "def train_model(train_loader, optimizer, conv_net_model, criterion, my_lr_scheduler, n_epochs):\n",
        "    # track training loss over time\n",
        "    losses = []\n",
        "    \n",
        "    for epoch in range(1, n_epochs + 1):\n",
        "\n",
        "        # keep track of training and validation loss\n",
        "        train_loss = 0.0\n",
        "\n",
        "        # model by default is set to train\n",
        "        for batch_i, (data, target) in enumerate(train_loader):\n",
        "            # move tensors to GPU if CUDA is available\n",
        "            if train_on_gpu:\n",
        "                data, target = data.cuda(), target.cuda()\n",
        "            # clear the gradients of all optimized variables\n",
        "            optimizer.zero_grad()\n",
        "            # forward pass: compute predicted outputs by passing inputs to the model\n",
        "            output = conv_net_model(data)\n",
        "            # calculate the batch loss\n",
        "            loss = criterion(output.logits, target)\n",
        "            # backward pass: compute gradient of the loss with respect to model parameters\n",
        "            loss.backward()\n",
        "            # perform a single optimization step (parameter update)\n",
        "            optimizer.step()\n",
        "            # update training loss\n",
        "            train_loss += loss.item()\n",
        "\n",
        "            my_lr_scheduler.step()\n",
        "\n",
        "            if batch_i % 20 == 19:  # print training loss every specified number of mini-batches\n",
        "                print('Epoch %d, Batch %d loss: %.16f' %\n",
        "                    (epoch, batch_i + 1, train_loss / 20))\n",
        "                losses.append(train_loss / 20)\n",
        "                train_loss = 0.0\n",
        "\n",
        "    return conv_net_model, losses"
      ],
      "execution_count": 18,
      "outputs": []
    },
    {
      "cell_type": "markdown",
      "metadata": {
        "id": "-Rrxo5RDz96U"
      },
      "source": [
        "Module: Test_model"
      ]
    },
    {
      "cell_type": "code",
      "metadata": {
        "id": "Ay-HlMJnxU9v"
      },
      "source": [
        "def test_model(classes, conv_net_model, test_loader, criterion):\n",
        "    # track test loss\n",
        "    test_loss = 0.0\n",
        "    class_correct = list(0. for i in range(len(classes)))\n",
        "    class_total = list(0. for i in range(len(classes)))\n",
        "\n",
        "    conv_net_model.eval()  # eval mode\n",
        "\n",
        "    labels = []\n",
        "    predictions = []\n",
        "    # iterate over test data\n",
        "    for data, target in test_loader:\n",
        "        # move tensors to GPU if CUDA is available\n",
        "        if train_on_gpu:\n",
        "            data, target = data.cuda(), target.cuda()\n",
        "        # forward pass: compute predicted outputs by passing inputs to the model\n",
        "        output = conv_net_model(data)\n",
        "        # calculate the batch loss\n",
        "        loss = criterion(output, target)\n",
        "        # update  test loss\n",
        "        test_loss += loss.item() * data.size(0)\n",
        "        # convert output probabilities to predicted class\n",
        "        _, pred = torch.max(output, 1)\n",
        "        # compare predictions to true label\n",
        "        correct_tensor = pred.eq(target.data.view_as(pred))\n",
        "        correct = np.squeeze(correct_tensor.numpy()) if not train_on_gpu else np.squeeze(correct_tensor.cpu().numpy())\n",
        "        # calculate test accuracy for each object class\n",
        "        for i in range(len(target.data)):\n",
        "            label = target.data[i]\n",
        "            class_correct[label] += correct[i].item()\n",
        "            class_total[label] += 1\n",
        "        \n",
        "        # Will be used for calculating Recall, Precision, and F1-score\n",
        "        labels.extend(target.data.view_as(pred).tolist())\n",
        "        predictions.extend(pred.tolist())\n",
        "\n",
        "\n",
        "    # calculate avg test loss\n",
        "    test_loss = test_loss / len(test_loader.dataset)\n",
        "    print('Test Loss: {:.6f}\\n'.format(test_loss))\n",
        "\n",
        "    return test_loss, class_correct, class_total, labels, predictions"
      ],
      "execution_count": 19,
      "outputs": []
    },
    {
      "cell_type": "markdown",
      "metadata": {
        "id": "xHh3PXE80Asa"
      },
      "source": [
        "Check whether CUDA is available (Change runtime type if not)"
      ]
    },
    {
      "cell_type": "code",
      "metadata": {
        "colab": {
          "base_uri": "https://localhost:8080/"
        },
        "id": "Q9TYPQH7x4zw",
        "outputId": "2a162d76-4145-488c-9326-c082b66cf21e"
      },
      "source": [
        "if not train_on_gpu:\n",
        "    print('CUDA is not available.  Training on CPU ...')\n",
        "else:\n",
        "    print('CUDA is available!  Training on GPU ...')"
      ],
      "execution_count": 20,
      "outputs": [
        {
          "output_type": "stream",
          "name": "stdout",
          "text": [
            "CUDA is available!  Training on GPU ...\n"
          ]
        }
      ]
    },
    {
      "cell_type": "markdown",
      "metadata": {
        "id": "6lYw8EKVx8Q7"
      },
      "source": [
        "Load Hieroglyph Data"
      ]
    },
    {
      "cell_type": "code",
      "metadata": {
        "colab": {
          "base_uri": "https://localhost:8080/"
        },
        "id": "laLvoRy1yewl",
        "outputId": "bc02e394-48b4-4378-acba-904911039e16"
      },
      "source": [
        "# Connecting and Mounting to the Google Drive\n",
        "from google.colab import drive\n",
        "drive.mount('/content/drive')"
      ],
      "execution_count": 21,
      "outputs": [
        {
          "output_type": "stream",
          "name": "stdout",
          "text": [
            "Drive already mounted at /content/drive; to attempt to forcibly remount, call drive.mount(\"/content/drive\", force_remount=True).\n"
          ]
        }
      ]
    },
    {
      "cell_type": "code",
      "metadata": {
        "id": "odaoZt9GyfUt"
      },
      "source": [
        "data_dir = '/content/drive/MyDrive/EgyptianHieroglyphDataset_Original/'"
      ],
      "execution_count": 22,
      "outputs": []
    },
    {
      "cell_type": "code",
      "metadata": {
        "colab": {
          "base_uri": "https://localhost:8080/"
        },
        "id": "dF22MAnmyiC1",
        "outputId": "ea97ad8d-5648-4796-841c-dbe29cf9d150"
      },
      "source": [
        "hieroglyph_for_train = []\n",
        "file_count_list = []\n",
        "\n",
        "for name in os.listdir('/content/drive/MyDrive/EgyptianHieroglyphDataset_Original/train/'):\n",
        "  path, dirs, files = next(os.walk(\"/content/drive/MyDrive/EgyptianHieroglyphDataset_Original/train/\"+name))\n",
        "  file_count = len(files)\n",
        "  print(name, file_count)\n",
        "  file_count_list.append(file_count)\n",
        "  hieroglyph_for_train.append(name)\n",
        "\n",
        "hieroglyph_dict = dict(zip(hieroglyph_for_train, file_count_list))"
      ],
      "execution_count": 23,
      "outputs": [
        {
          "output_type": "stream",
          "name": "stdout",
          "text": [
            "D4 29\n",
            "D2 19\n",
            "D46 40\n",
            "D36 47\n",
            "D21 146\n",
            "D58 28\n",
            "E34 97\n",
            "E23 8\n",
            "F31 6\n",
            "G1 28\n",
            "F35 2\n",
            "G17 156\n",
            "G43 157\n",
            "I10 32\n",
            "I9 116\n",
            "M23 30\n",
            "M17 291\n",
            "O1 16\n",
            "O34 15\n",
            "N35 358\n",
            "Q3 61\n",
            "O49 10\n",
            "Q1 13\n",
            "O4 11\n",
            "S34 8\n",
            "R4 2\n",
            "R8 53\n",
            "S29 212\n",
            "V13 63\n",
            "V28 28\n",
            "U7 3\n",
            "V30 6\n",
            "W11 4\n",
            "W24 31\n",
            "V31 106\n",
            "Y5 6\n",
            "X8 4\n",
            "Z1 39\n",
            "X1 185\n",
            "Y1 1\n"
          ]
        }
      ]
    },
    {
      "cell_type": "markdown",
      "metadata": {
        "id": "XeQQ7PjZzKd9"
      },
      "source": [
        "Number of images for each hieroglyph "
      ]
    },
    {
      "cell_type": "code",
      "metadata": {
        "colab": {
          "base_uri": "https://localhost:8080/",
          "height": 609
        },
        "id": "W6IzWR2RyjxM",
        "outputId": "24176dce-937d-4cb1-a549-d843bfa250ae"
      },
      "source": [
        "import matplotlib.pyplot as plt\n",
        "import pandas as pd\n",
        "\n",
        "df = pd.DataFrame({\"Hieroglyph\":hieroglyph_for_train, \"Count\":file_count_list})\n",
        "\n",
        "df_sorted= df.sort_values('Count',ascending=False)\n",
        "\n",
        "plt.figure(figsize=(20,10))\n",
        "# make bar plot with matplotlib\n",
        "plt.bar('Hieroglyph', 'Count',data=df_sorted)"
      ],
      "execution_count": 24,
      "outputs": [
        {
          "output_type": "execute_result",
          "data": {
            "text/plain": [
              "<BarContainer object of 40 artists>"
            ]
          },
          "metadata": {},
          "execution_count": 24
        },
        {
          "output_type": "display_data",
          "data": {
            "image/png": "[encoded data removed]",
            "text/plain": [
              "<Figure size 1440x720 with 1 Axes>"
            ]
          },
          "metadata": {
            "needs_background": "light"
          }
        }
      ]
    },
    {
      "cell_type": "code",
      "metadata": {
        "id": "-3oOm8rSx7tp"
      },
      "source": [
        "# Number of images processed in a single training\n",
        "batch_size = 20\n",
        "num_workers = 0\n",
        "\n",
        "# The load_data function is from hieroglyph_data_preparation python file\n",
        "train_loader, test_loader, classes = load_data(data_dir)"
      ],
      "execution_count": 25,
      "outputs": []
    },
    {
      "cell_type": "markdown",
      "metadata": {
        "id": "BJm8sGiBx_q5"
      },
      "source": [
        "Inception-v3 Model"
      ]
    },
    {
      "cell_type": "code",
      "metadata": {
        "id": "JkLXVJGkxemC",
        "colab": {
          "base_uri": "https://localhost:8080/",
          "height": 66,
          "referenced_widgets": [
            "183a8d79c0ef4eebb4a549f75e793d6e",
            "acf4957c0d6d461fb5d79ae5b57486c9",
            "a348288b29e34dfb90b2a394e5b7421a",
            "b70badded69c4adfb17bc395d0c9daa8",
            "87e73b3492e9430492140ecab52ab06f",
            "755506d7462b45379db9fa1afe8fa5e5",
            "2f2ba40626f042859edea0cd2907b9e9",
            "341ab1e6582943638c84f45241116d83",
            "deb12ed520214e07b382458546d06057",
            "5b508e5d282a473c8296e7447b680b72",
            "5b23334ba51e4280b54de8b8ae4193dd"
          ]
        },
        "outputId": "25f4d897-5656-4ded-9291-ce2839e348ab"
      },
      "source": [
        "# Whether to extract features with the model\n",
        "feature_extract = False\n",
        "# Other selections\n",
        "loss_function = \"cross-entropy\"\n",
        "model_selection = \"inception-v3\"\n",
        "optim_selection = \"Adam\"\n",
        "\n",
        "# False if you want scratch model, True if you want pretrained model\n",
        "whether_to_pretrain = True\n",
        "\n",
        "# Load the model\n",
        "if model_selection == \"resnet-50\":\n",
        "    resnet50 = models.resnet50(pretrained=whether_to_pretrain)\n",
        "    # Number of features in the last layer of resnet\n",
        "    n_inputs = resnet50.fc.in_features\n",
        "    # Add last linear layer (n_inputs -> 40 hieroglyph classes)\n",
        "    last_layer = nn.Sequential(\n",
        "                    nn.Linear(n_inputs, len(classes)))\n",
        "    resnet50.fc = last_layer\n",
        "    if train_on_gpu:\n",
        "      resnet50.cuda()\n",
        "    # Specify optimizer (Adam) and learning rate = 0.001\n",
        "    if optim_selection == \"Adam\":\n",
        "        optimizer = optim.Adam(resnet50.parameters(), lr=0.001)\n",
        "\n",
        "elif model_selection == \"inception-v3\":\n",
        "    inception_v3 = models.inception_v3(pretrained=whether_to_pretrain)\n",
        "    # Number of features in the last layer of resnet\n",
        "    n_inputs = inception_v3.fc.in_features\n",
        "    # Add last linear layer (n_inputs -> 40 hieroglyph classes)\n",
        "    last_layer = nn.Sequential(\n",
        "                    nn.Linear(n_inputs, len(classes)))\n",
        "    inception_v3.fc = last_layer\n",
        "    if train_on_gpu:\n",
        "      inception_v3.cuda()\n",
        "    # Specify optimizer (Adam) and learning rate = 0.001\n",
        "    if optim_selection == \"Adam\":\n",
        "        optimizer = optim.Adam(inception_v3.parameters(), lr=0.001)\n",
        "\n",
        "\n",
        "# Specify loss function (categorical cross-entropy)\n",
        "if loss_function == \"cross-entropy\":\n",
        "    criterion = nn.CrossEntropyLoss()\n",
        "\n",
        "# Exponential Decay to strengthen learning\n",
        "decayRate = 0.999\n",
        "my_lr_scheduler = torch.optim.lr_scheduler.ExponentialLR(optimizer=optimizer, gamma=decayRate)"
      ],
      "execution_count": 26,
      "outputs": [
        {
          "output_type": "stream",
          "name": "stderr",
          "text": [
            "Downloading: \"https://download.pytorch.org/models/inception_v3_google-0cc3c7bd.pth\" to /root/.cache/torch/hub/checkpoints/inception_v3_google-0cc3c7bd.pth\n"
          ]
        },
        {
          "output_type": "display_data",
          "data": {
            "application/vnd.jupyter.widget-view+json": {
              "model_id": "183a8d79c0ef4eebb4a549f75e793d6e",
              "version_minor": 0,
              "version_major": 2
            },
            "text/plain": [
              "  0%|          | 0.00/104M [00:00<?, ?B/s]"
            ]
          },
          "metadata": {}
        }
      ]
    },
    {
      "cell_type": "markdown",
      "metadata": {
        "id": "U2vnErB1yHmM"
      },
      "source": [
        "Training the model"
      ]
    },
    {
      "cell_type": "code",
      "metadata": {
        "colab": {
          "base_uri": "https://localhost:8080/"
        },
        "id": "dOB03noWyEvQ",
        "outputId": "0a559e74-dc53-4988-cb05-5dd4b0f6e6ab"
      },
      "source": [
        "# number of epochs to train the model\n",
        "n_epochs = 50\n",
        "\n",
        "if model_selection == \"resnet-50\":\n",
        "  # The train_model function is from model_training python file\n",
        "  resnet50, train_losses = train_model(train_loader, optimizer, resnet50, criterion, my_lr_scheduler, n_epochs)\n",
        "elif model_selection == \"inception-v3\":\n",
        "  # The train_model function is from model_training python file\n",
        "  inception_v3, train_losses = train_model(train_loader, optimizer, inception_v3, criterion, my_lr_scheduler, n_epochs)"
      ],
      "execution_count": 27,
      "outputs": [
        {
          "output_type": "stream",
          "name": "stdout",
          "text": [
            "Epoch 1, Batch 20 loss: 2.1819873452186584\n",
            "Epoch 1, Batch 40 loss: 1.4288099139928818\n",
            "Epoch 1, Batch 60 loss: 1.1182278931140899\n",
            "Epoch 1, Batch 80 loss: 0.9012506991624832\n",
            "Epoch 1, Batch 100 loss: 0.6501369029283524\n",
            "Epoch 1, Batch 120 loss: 0.5032699804753065\n",
            "Epoch 2, Batch 20 loss: 0.5402047328650952\n",
            "Epoch 2, Batch 40 loss: 0.3650344733148813\n",
            "Epoch 2, Batch 60 loss: 0.3769673772156238\n",
            "Epoch 2, Batch 80 loss: 0.2703174945898354\n",
            "Epoch 2, Batch 100 loss: 0.2716304162517190\n",
            "Epoch 2, Batch 120 loss: 0.2800605583935976\n",
            "Epoch 3, Batch 20 loss: 0.1971803309395909\n",
            "Epoch 3, Batch 40 loss: 0.2043954672291875\n",
            "Epoch 3, Batch 60 loss: 0.1411708327475935\n",
            "Epoch 3, Batch 80 loss: 0.2074436591938138\n",
            "Epoch 3, Batch 100 loss: 0.1335328368470073\n",
            "Epoch 3, Batch 120 loss: 0.1368248040787876\n",
            "Epoch 4, Batch 20 loss: 0.0745524258818477\n",
            "Epoch 4, Batch 40 loss: 0.0755586450919509\n",
            "Epoch 4, Batch 60 loss: 0.0727970367297530\n",
            "Epoch 4, Batch 80 loss: 0.1002259036991745\n",
            "Epoch 4, Batch 100 loss: 0.1542914678342640\n",
            "Epoch 4, Batch 120 loss: 0.1016188103239983\n",
            "Epoch 5, Batch 20 loss: 0.2368537078611553\n",
            "Epoch 5, Batch 40 loss: 0.1060771402437240\n",
            "Epoch 5, Batch 60 loss: 0.2031856476329267\n",
            "Epoch 5, Batch 80 loss: 0.1083293884992600\n",
            "Epoch 5, Batch 100 loss: 0.1143442536704242\n",
            "Epoch 5, Batch 120 loss: 0.0547453378560021\n",
            "Epoch 6, Batch 20 loss: 0.1025197467533872\n",
            "Epoch 6, Batch 40 loss: 0.0674589839065447\n",
            "Epoch 6, Batch 60 loss: 0.0378582815523259\n",
            "Epoch 6, Batch 80 loss: 0.0255561797355767\n",
            "Epoch 6, Batch 100 loss: 0.0547184232505970\n",
            "Epoch 6, Batch 120 loss: 0.0210830778290983\n",
            "Epoch 7, Batch 20 loss: 0.0505473759083543\n",
            "Epoch 7, Batch 40 loss: 0.0277241443749517\n",
            "Epoch 7, Batch 60 loss: 0.0449903307482600\n",
            "Epoch 7, Batch 80 loss: 0.0303597848454956\n",
            "Epoch 7, Batch 100 loss: 0.0168871220492292\n",
            "Epoch 7, Batch 120 loss: 0.0134621296892874\n",
            "Epoch 8, Batch 20 loss: 0.0180012908065692\n",
            "Epoch 8, Batch 40 loss: 0.0191653258676524\n",
            "Epoch 8, Batch 60 loss: 0.0049849147239001\n",
            "Epoch 8, Batch 80 loss: 0.0264954855607357\n",
            "Epoch 8, Batch 100 loss: 0.0083731768245343\n",
            "Epoch 8, Batch 120 loss: 0.0049692065396812\n",
            "Epoch 9, Batch 20 loss: 0.0208860611019190\n",
            "Epoch 9, Batch 40 loss: 0.0160570771520725\n",
            "Epoch 9, Batch 60 loss: 0.0050248085317435\n",
            "Epoch 9, Batch 80 loss: 0.0028187016025186\n",
            "Epoch 9, Batch 100 loss: 0.0275746077313670\n",
            "Epoch 9, Batch 120 loss: 0.0122074071317911\n",
            "Epoch 10, Batch 20 loss: 0.0266557934752200\n",
            "Epoch 10, Batch 40 loss: 0.0207060071086744\n",
            "Epoch 10, Batch 60 loss: 0.0107435602578335\n",
            "Epoch 10, Batch 80 loss: 0.0096124272851739\n",
            "Epoch 10, Batch 100 loss: 0.0231046252505621\n",
            "Epoch 10, Batch 120 loss: 0.0167939338221913\n",
            "Epoch 11, Batch 20 loss: 0.0313256086461479\n",
            "Epoch 11, Batch 40 loss: 0.0366831840830855\n",
            "Epoch 11, Batch 60 loss: 0.0126528716878966\n",
            "Epoch 11, Batch 80 loss: 0.0138380465825321\n",
            "Epoch 11, Batch 100 loss: 0.0200391123100417\n",
            "Epoch 11, Batch 120 loss: 0.0042836909560720\n",
            "Epoch 12, Batch 20 loss: 0.0035839964635670\n",
            "Epoch 12, Batch 40 loss: 0.0038445567362942\n",
            "Epoch 12, Batch 60 loss: 0.0037103528302396\n",
            "Epoch 12, Batch 80 loss: 0.0032697692629881\n",
            "Epoch 12, Batch 100 loss: 0.0060343630902935\n",
            "Epoch 12, Batch 120 loss: 0.0025784182624193\n",
            "Epoch 13, Batch 20 loss: 0.0041053787266719\n",
            "Epoch 13, Batch 40 loss: 0.0032298196434567\n",
            "Epoch 13, Batch 60 loss: 0.0013962087308755\n",
            "Epoch 13, Batch 80 loss: 0.0038291367061902\n",
            "Epoch 13, Batch 100 loss: 0.0023129090113798\n",
            "Epoch 13, Batch 120 loss: 0.0028704393342196\n",
            "Epoch 14, Batch 20 loss: 0.0140889354777755\n",
            "Epoch 14, Batch 40 loss: 0.0049725455341104\n",
            "Epoch 14, Batch 60 loss: 0.0055949782894459\n",
            "Epoch 14, Batch 80 loss: 0.0051873544136470\n",
            "Epoch 14, Batch 100 loss: 0.0107763569612871\n",
            "Epoch 14, Batch 120 loss: 0.0066845187320723\n",
            "Epoch 15, Batch 20 loss: 0.0032440503913676\n",
            "Epoch 15, Batch 40 loss: 0.0040467633938533\n",
            "Epoch 15, Batch 60 loss: 0.0024234665484983\n",
            "Epoch 15, Batch 80 loss: 0.0020328569400590\n",
            "Epoch 15, Batch 100 loss: 0.0024275002193463\n",
            "Epoch 15, Batch 120 loss: 0.0323544259794289\n",
            "Epoch 16, Batch 20 loss: 0.0102121579344384\n",
            "Epoch 16, Batch 40 loss: 0.0041594989772420\n",
            "Epoch 16, Batch 60 loss: 0.0037607295860653\n",
            "Epoch 16, Batch 80 loss: 0.0080252184670826\n",
            "Epoch 16, Batch 100 loss: 0.0083101684940630\n",
            "Epoch 16, Batch 120 loss: 0.0013245244655991\n",
            "Epoch 17, Batch 20 loss: 0.0038006167291314\n",
            "Epoch 17, Batch 40 loss: 0.0012767192398314\n",
            "Epoch 17, Batch 60 loss: 0.0027192667104828\n",
            "Epoch 17, Batch 80 loss: 0.0016496628784807\n",
            "Epoch 17, Batch 100 loss: 0.0008529119790182\n",
            "Epoch 17, Batch 120 loss: 0.0037353266707214\n",
            "Epoch 18, Batch 20 loss: 0.0007565838088340\n",
            "Epoch 18, Batch 40 loss: 0.0012347408373898\n",
            "Epoch 18, Batch 60 loss: 0.0008383810079977\n",
            "Epoch 18, Batch 80 loss: 0.0013840778956364\n",
            "Epoch 18, Batch 100 loss: 0.0006132446258562\n",
            "Epoch 18, Batch 120 loss: 0.0010056121398520\n",
            "Epoch 19, Batch 20 loss: 0.0012514506044681\n",
            "Epoch 19, Batch 40 loss: 0.0015473795807338\n",
            "Epoch 19, Batch 60 loss: 0.0005557252905419\n",
            "Epoch 19, Batch 80 loss: 0.0012204194961669\n",
            "Epoch 19, Batch 100 loss: 0.0017380217239406\n",
            "Epoch 19, Batch 120 loss: 0.0006425658819353\n",
            "Epoch 20, Batch 20 loss: 0.0012288081015868\n",
            "Epoch 20, Batch 40 loss: 0.0004670882139180\n",
            "Epoch 20, Batch 60 loss: 0.0005579196680628\n",
            "Epoch 20, Batch 80 loss: 0.0007764153102471\n",
            "Epoch 20, Batch 100 loss: 0.0007289801371371\n",
            "Epoch 20, Batch 120 loss: 0.0004751397227665\n",
            "Epoch 21, Batch 20 loss: 0.0008964232063590\n",
            "Epoch 21, Batch 40 loss: 0.0006550447342306\n",
            "Epoch 21, Batch 60 loss: 0.0009675530389359\n",
            "Epoch 21, Batch 80 loss: 0.0006010982509906\n",
            "Epoch 21, Batch 100 loss: 0.0008264643838629\n",
            "Epoch 21, Batch 120 loss: 0.0009685900517070\n",
            "Epoch 22, Batch 20 loss: 0.0004477109345316\n",
            "Epoch 22, Batch 40 loss: 0.0013028480276262\n",
            "Epoch 22, Batch 60 loss: 0.0003986131050624\n",
            "Epoch 22, Batch 80 loss: 0.0007125919164537\n",
            "Epoch 22, Batch 100 loss: 0.0006317193227005\n",
            "Epoch 22, Batch 120 loss: 0.0012003514599201\n",
            "Epoch 23, Batch 20 loss: 0.0008893970185454\n",
            "Epoch 23, Batch 40 loss: 0.0006340759606246\n",
            "Epoch 23, Batch 60 loss: 0.0004742760800582\n",
            "Epoch 23, Batch 80 loss: 0.0006480961092166\n",
            "Epoch 23, Batch 100 loss: 0.0004363564701634\n",
            "Epoch 23, Batch 120 loss: 0.0004572996971547\n",
            "Epoch 24, Batch 20 loss: 0.0008488951432810\n",
            "Epoch 24, Batch 40 loss: 0.0004901727417746\n",
            "Epoch 24, Batch 60 loss: 0.0003397317708732\n",
            "Epoch 24, Batch 80 loss: 0.0006179044634337\n",
            "Epoch 24, Batch 100 loss: 0.0004360860377346\n",
            "Epoch 24, Batch 120 loss: 0.0004884031681286\n",
            "Epoch 25, Batch 20 loss: 0.0008271059687104\n",
            "Epoch 25, Batch 40 loss: 0.0008984252852315\n",
            "Epoch 25, Batch 60 loss: 0.0010571500690276\n",
            "Epoch 25, Batch 80 loss: 0.0004597273227773\n",
            "Epoch 25, Batch 100 loss: 0.0004981734356988\n",
            "Epoch 25, Batch 120 loss: 0.0005555516214372\n",
            "Epoch 26, Batch 20 loss: 0.0005099566365971\n",
            "Epoch 26, Batch 40 loss: 0.0005253220791928\n",
            "Epoch 26, Batch 60 loss: 0.0004604907455359\n",
            "Epoch 26, Batch 80 loss: 0.0003519070618495\n",
            "Epoch 26, Batch 100 loss: 0.0002554378472269\n",
            "Epoch 26, Batch 120 loss: 0.0017957657406441\n",
            "Epoch 27, Batch 20 loss: 0.0003990782717665\n",
            "Epoch 27, Batch 40 loss: 0.0005672805658833\n",
            "Epoch 27, Batch 60 loss: 0.0003163324323396\n",
            "Epoch 27, Batch 80 loss: 0.0005984573872411\n",
            "Epoch 27, Batch 100 loss: 0.0006563085793459\n",
            "Epoch 27, Batch 120 loss: 0.0004448359559319\n",
            "Epoch 28, Batch 20 loss: 0.0002640691853230\n",
            "Epoch 28, Batch 40 loss: 0.0009700712820631\n",
            "Epoch 28, Batch 60 loss: 0.0004253134506143\n",
            "Epoch 28, Batch 80 loss: 0.0003535818454111\n",
            "Epoch 28, Batch 100 loss: 0.0004824323979847\n",
            "Epoch 28, Batch 120 loss: 0.0007351223659498\n",
            "Epoch 29, Batch 20 loss: 0.0004126820291276\n",
            "Epoch 29, Batch 40 loss: 0.0006941832176381\n",
            "Epoch 29, Batch 60 loss: 0.0005741977562138\n",
            "Epoch 29, Batch 80 loss: 0.0006403614912415\n",
            "Epoch 29, Batch 100 loss: 0.0003786367029534\n",
            "Epoch 29, Batch 120 loss: 0.0005434943283035\n",
            "Epoch 30, Batch 20 loss: 0.0002551746480094\n",
            "Epoch 30, Batch 40 loss: 0.0009930703694408\n",
            "Epoch 30, Batch 60 loss: 0.0004827296123040\n",
            "Epoch 30, Batch 80 loss: 0.0003190334578903\n",
            "Epoch 30, Batch 100 loss: 0.0009313046066382\n",
            "Epoch 30, Batch 120 loss: 0.0004865602573773\n",
            "Epoch 31, Batch 20 loss: 0.0004853471309616\n",
            "Epoch 31, Batch 40 loss: 0.0003653078671050\n",
            "Epoch 31, Batch 60 loss: 0.0011963173896220\n",
            "Epoch 31, Batch 80 loss: 0.0004438061198016\n",
            "Epoch 31, Batch 100 loss: 0.0003550293833541\n",
            "Epoch 31, Batch 120 loss: 0.0006645936213317\n",
            "Epoch 32, Batch 20 loss: 0.0007245621982293\n",
            "Epoch 32, Batch 40 loss: 0.0002916591805842\n",
            "Epoch 32, Batch 60 loss: 0.0004413980957906\n",
            "Epoch 32, Batch 80 loss: 0.0004385751901282\n",
            "Epoch 32, Batch 100 loss: 0.0004809516343812\n",
            "Epoch 32, Batch 120 loss: 0.0006513540130982\n",
            "Epoch 33, Batch 20 loss: 0.0005965221384031\n",
            "Epoch 33, Batch 40 loss: 0.0012459126995964\n",
            "Epoch 33, Batch 60 loss: 0.0003011873777723\n",
            "Epoch 33, Batch 80 loss: 0.0004528800309345\n",
            "Epoch 33, Batch 100 loss: 0.0005081473087557\n",
            "Epoch 33, Batch 120 loss: 0.0003105582400167\n",
            "Epoch 34, Batch 20 loss: 0.0008637849554361\n",
            "Epoch 34, Batch 40 loss: 0.0002364692045376\n",
            "Epoch 34, Batch 60 loss: 0.0003328991013404\n",
            "Epoch 34, Batch 80 loss: 0.0004389903037008\n",
            "Epoch 34, Batch 100 loss: 0.0003551254500053\n",
            "Epoch 34, Batch 120 loss: 0.0006758546668607\n",
            "Epoch 35, Batch 20 loss: 0.0003046256246307\n",
            "Epoch 35, Batch 40 loss: 0.0002810306566971\n",
            "Epoch 35, Batch 60 loss: 0.0004087762896233\n",
            "Epoch 35, Batch 80 loss: 0.0004994477480068\n",
            "Epoch 35, Batch 100 loss: 0.0007114143463696\n",
            "Epoch 35, Batch 120 loss: 0.0005581887195149\n",
            "Epoch 36, Batch 20 loss: 0.0005391321388743\n",
            "Epoch 36, Batch 40 loss: 0.0003395176132472\n",
            "Epoch 36, Batch 60 loss: 0.0006465082347859\n",
            "Epoch 36, Batch 80 loss: 0.0005300070730300\n",
            "Epoch 36, Batch 100 loss: 0.0003974692715929\n",
            "Epoch 36, Batch 120 loss: 0.0003647833211289\n",
            "Epoch 37, Batch 20 loss: 0.0004193791053694\n",
            "Epoch 37, Batch 40 loss: 0.0003681725367642\n",
            "Epoch 37, Batch 60 loss: 0.0003732070086699\n",
            "Epoch 37, Batch 80 loss: 0.0005518647412828\n",
            "Epoch 37, Batch 100 loss: 0.0004142165922531\n",
            "Epoch 37, Batch 120 loss: 0.0001833704667661\n",
            "Epoch 38, Batch 20 loss: 0.0003280765675299\n",
            "Epoch 38, Batch 40 loss: 0.0002317407870578\n",
            "Epoch 38, Batch 60 loss: 0.0003352319705300\n",
            "Epoch 38, Batch 80 loss: 0.0004848564050917\n",
            "Epoch 38, Batch 100 loss: 0.0005328419334546\n",
            "Epoch 38, Batch 120 loss: 0.0002466597503371\n",
            "Epoch 39, Batch 20 loss: 0.0002921688537754\n",
            "Epoch 39, Batch 40 loss: 0.0004925017645292\n",
            "Epoch 39, Batch 60 loss: 0.0007125617452402\n",
            "Epoch 39, Batch 80 loss: 0.0006205694768141\n",
            "Epoch 39, Batch 100 loss: 0.0006449706921558\n",
            "Epoch 39, Batch 120 loss: 0.0003868842357406\n",
            "Epoch 40, Batch 20 loss: 0.0003600541807828\n",
            "Epoch 40, Batch 40 loss: 0.0004864059599640\n",
            "Epoch 40, Batch 60 loss: 0.0002806230369970\n",
            "Epoch 40, Batch 80 loss: 0.0002752153799520\n",
            "Epoch 40, Batch 100 loss: 0.0005492476529980\n",
            "Epoch 40, Batch 120 loss: 0.0003915302699170\n",
            "Epoch 41, Batch 20 loss: 0.0002706646890147\n",
            "Epoch 41, Batch 40 loss: 0.0003823596132861\n",
            "Epoch 41, Batch 60 loss: 0.0003764289609535\n",
            "Epoch 41, Batch 80 loss: 0.0003277035364590\n",
            "Epoch 41, Batch 100 loss: 0.0003312689490485\n",
            "Epoch 41, Batch 120 loss: 0.0005615131703962\n",
            "Epoch 42, Batch 20 loss: 0.0006883112189826\n",
            "Epoch 42, Batch 40 loss: 0.0003976957779741\n",
            "Epoch 42, Batch 60 loss: 0.0005630838248180\n",
            "Epoch 42, Batch 80 loss: 0.0004462391169000\n",
            "Epoch 42, Batch 100 loss: 0.0004534597308520\n",
            "Epoch 42, Batch 120 loss: 0.0001921527265949\n",
            "Epoch 43, Batch 20 loss: 0.0003917005553376\n",
            "Epoch 43, Batch 40 loss: 0.0004148403229919\n",
            "Epoch 43, Batch 60 loss: 0.0003319322317111\n",
            "Epoch 43, Batch 80 loss: 0.0004360680011814\n",
            "Epoch 43, Batch 100 loss: 0.0003383790637599\n",
            "Epoch 43, Batch 120 loss: 0.0002284144677105\n",
            "Epoch 44, Batch 20 loss: 0.0002821842599587\n",
            "Epoch 44, Batch 40 loss: 0.0002927125673523\n",
            "Epoch 44, Batch 60 loss: 0.0004907574482786\n",
            "Epoch 44, Batch 80 loss: 0.0010885362124100\n",
            "Epoch 44, Batch 100 loss: 0.0003570101551304\n",
            "Epoch 44, Batch 120 loss: 0.0003316537331557\n",
            "Epoch 45, Batch 20 loss: 0.0012374883855955\n",
            "Epoch 45, Batch 40 loss: 0.0003849919292406\n",
            "Epoch 45, Batch 60 loss: 0.0006288034965110\n",
            "Epoch 45, Batch 80 loss: 0.0003561837069356\n",
            "Epoch 45, Batch 100 loss: 0.0002840502593244\n",
            "Epoch 45, Batch 120 loss: 0.0003240324676881\n",
            "Epoch 46, Batch 20 loss: 0.0004049453084008\n",
            "Epoch 46, Batch 40 loss: 0.0003975780291512\n",
            "Epoch 46, Batch 60 loss: 0.0005548801642362\n",
            "Epoch 46, Batch 80 loss: 0.0061742499674438\n",
            "Epoch 46, Batch 100 loss: 0.0002725293592448\n",
            "Epoch 46, Batch 120 loss: 0.0005180081532671\n",
            "Epoch 47, Batch 20 loss: 0.0004359999603366\n",
            "Epoch 47, Batch 40 loss: 0.0002004898942687\n",
            "Epoch 47, Batch 60 loss: 0.0003782086907449\n",
            "Epoch 47, Batch 80 loss: 0.0006905876069141\n",
            "Epoch 47, Batch 100 loss: 0.0004708702410426\n",
            "Epoch 47, Batch 120 loss: 0.0003657203797047\n",
            "Epoch 48, Batch 20 loss: 0.0007101457264071\n",
            "Epoch 48, Batch 40 loss: 0.0003187299258570\n",
            "Epoch 48, Batch 60 loss: 0.0003867599196383\n",
            "Epoch 48, Batch 80 loss: 0.0003028306826309\n",
            "Epoch 48, Batch 100 loss: 0.0004360937047750\n",
            "Epoch 48, Batch 120 loss: 0.0004078059204403\n",
            "Epoch 49, Batch 20 loss: 0.0003247041498980\n",
            "Epoch 49, Batch 40 loss: 0.0002959090110380\n",
            "Epoch 49, Batch 60 loss: 0.0003289278733064\n",
            "Epoch 49, Batch 80 loss: 0.0005352566628062\n",
            "Epoch 49, Batch 100 loss: 0.0008555838057873\n",
            "Epoch 49, Batch 120 loss: 0.0003406425379580\n",
            "Epoch 50, Batch 20 loss: 0.0002115772565958\n",
            "Epoch 50, Batch 40 loss: 0.0004132461337576\n",
            "Epoch 50, Batch 60 loss: 0.0004202360520139\n",
            "Epoch 50, Batch 80 loss: 0.0006539379210153\n",
            "Epoch 50, Batch 100 loss: 0.0001980176541110\n",
            "Epoch 50, Batch 120 loss: 0.0005345560985916\n"
          ]
        }
      ]
    },
    {
      "cell_type": "code",
      "metadata": {
        "colab": {
          "base_uri": "https://localhost:8080/",
          "height": 281
        },
        "id": "CfA7ZjLR1BZP",
        "outputId": "30172960-5ae4-43bf-dbd2-4c179271db1a"
      },
      "source": [
        "plt.plot(train_losses)\n",
        "plt.title(\"Training Loss\")\n",
        "plt.show()"
      ],
      "execution_count": 28,
      "outputs": [
        {
          "output_type": "display_data",
          "data": {
            "image/png": "[encoded data removed]",
            "text/plain": [
              "<Figure size 432x288 with 1 Axes>"
            ]
          },
          "metadata": {
            "needs_background": "light"
          }
        }
      ]
    },
    {
      "cell_type": "markdown",
      "metadata": {
        "id": "ItLyF9dQyJFL"
      },
      "source": [
        "Testing the model"
      ]
    },
    {
      "cell_type": "code",
      "metadata": {
        "id": "gGki98W3SoEW"
      },
      "source": [
        "from sklearn.metrics import precision_score, recall_score, f1_score, accuracy_score"
      ],
      "execution_count": 29,
      "outputs": []
    },
    {
      "cell_type": "code",
      "metadata": {
        "colab": {
          "base_uri": "https://localhost:8080/"
        },
        "id": "xNavYOynyE6d",
        "outputId": "f7bc7b47-85a6-41ec-9c6b-23d727c6f311"
      },
      "source": [
        "# The test_model function is from model_testing python file\n",
        "test_loss, class_correct, class_total, labels, predictions = test_model(classes, inception_v3, test_loader, criterion)\n",
        "\n",
        "# Test accuracy for each hieroglyph\n",
        "for i in range(len(classes)):\n",
        "    if class_total[i] > 0:\n",
        "        print('Test Accuracy of %5s: %2d%% (%2d/%2d)' % (classes[i], 100 * class_correct[i] / class_total[i], np.sum(class_correct[i]), np.sum(class_total[i])))\n",
        "    else:\n",
        "        print('Test Accuracy of %5s: N/A (no training examples)' % (classes[i]))\n",
        "\n",
        "# Total Test accuracy\n",
        "print(\"\\nAccuracy: {:.3%}\".format(accuracy_score(labels, predictions)))\n",
        "print(\"\\nPrecision: {:.3%}\".format(precision_score(labels, predictions, average = 'weighted')))\n",
        "print(\"\\nRecall: {:.3%}\".format(recall_score(labels, predictions, average = 'weighted')))\n",
        "print(\"\\nF1-score: {:.3%}\".format(f1_score(labels, predictions, average = 'weighted')))"
      ],
      "execution_count": 30,
      "outputs": [
        {
          "output_type": "stream",
          "name": "stdout",
          "text": [
            "Test Loss: 0.962924\n",
            "\n",
            "Test Accuracy of    D2: 100% ( 5/ 5)\n",
            "Test Accuracy of   D21: 81% (30/37)\n",
            "Test Accuracy of   D36: 66% ( 8/12)\n",
            "Test Accuracy of    D4: 87% ( 7/ 8)\n",
            "Test Accuracy of   D46: 60% ( 6/10)\n",
            "Test Accuracy of   D58: 62% ( 5/ 8)\n",
            "Test Accuracy of   E23: 50% ( 1/ 2)\n",
            "Test Accuracy of   E34: 88% (22/25)\n",
            "Test Accuracy of   F31: 100% ( 2/ 2)\n",
            "Test Accuracy of   F35: 100% ( 1/ 1)\n",
            "Test Accuracy of    G1: 100% ( 7/ 7)\n",
            "Test Accuracy of   G17: 76% (30/39)\n",
            "Test Accuracy of   G43: 67% (27/40)\n",
            "Test Accuracy of   I10: 55% ( 5/ 9)\n",
            "Test Accuracy of    I9: 60% (18/30)\n",
            "Test Accuracy of   M17: 78% (57/73)\n",
            "Test Accuracy of   M23: 100% ( 8/ 8)\n",
            "Test Accuracy of   N35: 92% (83/90)\n",
            "Test Accuracy of    O1: 100% ( 4/ 4)\n",
            "Test Accuracy of   O34: 100% ( 4/ 4)\n",
            "Test Accuracy of    O4: 66% ( 2/ 3)\n",
            "Test Accuracy of   O49: 66% ( 2/ 3)\n",
            "Test Accuracy of    Q1: 100% ( 4/ 4)\n",
            "Test Accuracy of    Q3: 75% (12/16)\n",
            "Test Accuracy of    R4: 100% ( 1/ 1)\n",
            "Test Accuracy of    R8: 78% (11/14)\n",
            "Test Accuracy of   S29: 75% (40/53)\n",
            "Test Accuracy of   S34: 100% ( 2/ 2)\n",
            "Test Accuracy of    U7: 100% ( 1/ 1)\n",
            "Test Accuracy of   V13: 81% (13/16)\n",
            "Test Accuracy of   V28: 87% ( 7/ 8)\n",
            "Test Accuracy of   V30: 100% ( 2/ 2)\n",
            "Test Accuracy of   V31: 77% (21/27)\n",
            "Test Accuracy of   W11:  0% ( 0/ 1)\n",
            "Test Accuracy of   W24: 37% ( 3/ 8)\n",
            "Test Accuracy of    X1: 87% (41/47)\n",
            "Test Accuracy of    X8: 50% ( 1/ 2)\n",
            "Test Accuracy of    Y1: 100% ( 1/ 1)\n",
            "Test Accuracy of    Y5: 100% ( 2/ 2)\n",
            "Test Accuracy of    Z1: 30% ( 3/10)\n",
            "\n",
            "Accuracy: 78.583%\n",
            "\n",
            "Precision: 87.143%\n",
            "\n",
            "Recall: 78.583%\n",
            "\n",
            "F1-score: 80.790%\n"
          ]
        }
      ]
    }
  ]
}