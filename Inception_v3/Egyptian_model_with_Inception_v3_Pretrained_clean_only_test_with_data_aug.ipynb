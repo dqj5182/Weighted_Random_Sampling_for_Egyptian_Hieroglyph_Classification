{
  "nbformat": 4,
  "nbformat_minor": 0,
  "metadata": {
    "colab": {
      "name": "Egyptian_model_with_Inception_v3_Pretrained_clean_only_test_with_data_aug.ipynb",
      "provenance": []
    },
    "kernelspec": {
      "name": "python3",
      "display_name": "Python 3"
    },
    "language_info": {
      "name": "python"
    },
    "accelerator": "GPU"
  },
  "cells": [
    {
      "cell_type": "code",
      "metadata": {
        "id": "8iEiGSblxJzW"
      },
      "source": [
        "import os, os.path\n",
        "import torch\n",
        "import numpy as np\n",
        "import torch.nn as nn\n",
        "import torch.optim as optim\n",
        "from pathlib import Path\n",
        "from torchvision import datasets, models, transforms\n",
        "\n",
        "# check if CUDA is available\n",
        "train_on_gpu = torch.cuda.is_available()"
      ],
      "execution_count": 1,
      "outputs": []
    },
    {
      "cell_type": "markdown",
      "metadata": {
        "id": "Jd6KU8VMz6J3"
      },
      "source": [
        "Module: Load_data"
      ]
    },
    {
      "cell_type": "code",
      "metadata": {
        "id": "8lWX0BW_w_kC"
      },
      "source": [
        "def load_data(hieroglyph_directory_path, batch_size=20, num_workers=0):\n",
        "    train_dir = os.path.join(hieroglyph_directory_path, 'train/')\n",
        "    test_dir = os.path.join(hieroglyph_directory_path, 'test/')\n",
        "\n",
        "    classes = []\n",
        "\n",
        "    for filename in os.listdir(train_dir):\n",
        "        if filename == '.DS_Store':\n",
        "            pass\n",
        "        else:\n",
        "            classes.append(filename)\n",
        "\n",
        "    classes.sort()\n",
        "\n",
        "    # print(\"Our classes:\", classes)\n",
        "    # print(len(classes))\n",
        "\n",
        "    data_transform_train = transforms.Compose([transforms.ToTensor(),\n",
        "                                                  transforms.Resize((299, 299)),\n",
        "                                                  transforms.Normalize((0.5,), (0.5,))])\n",
        "\n",
        "    data_transform_test = transforms.Compose([transforms.ToTensor(),\n",
        "                                                  transforms.RandomApply([transforms.RandomHorizontalFlip()]),\n",
        "                                                  transforms.RandomRotation(degrees=(-10, 10)),\n",
        "                                                  transforms.RandomAffine(degrees=0, translate=(.1, .1)),\n",
        "                                                  transforms.RandomApply([transforms.ColorJitter(brightness=(1, 1.2),\n",
        "                                                                                                  contrast=(1, 1.5),\n",
        "                                                                                                  saturation=(1, 1.5),\n",
        "                                                                                                  hue=(0, 0.5))]),\n",
        "                                                  transforms.RandomErasing(p=0.5, scale=(0.05, 0.05), ratio=(0.3, 3.3), value=0,\n",
        "                                                                            inplace=False),\n",
        "                                                  transforms.Resize((299, 299)),\n",
        "                                                  transforms.Normalize((0.5,), (0.5,))])\n",
        "\n",
        "    train_data = datasets.ImageFolder(train_dir, transform=data_transform_train)\n",
        "    test_data = datasets.ImageFolder(test_dir, transform=data_transform_test)\n",
        "\n",
        "\n",
        "    # print('Num training images: ', len(train_data))\n",
        "    # print('Num test images: ', len(test_data))\n",
        "\n",
        "    # prepare data loaders\n",
        "    train_loader = torch.utils.data.DataLoader(train_data, batch_size=batch_size,\n",
        "                                               num_workers=num_workers, shuffle=True)\n",
        "    test_loader = torch.utils.data.DataLoader(test_data, batch_size=batch_size,\n",
        "                                              num_workers=num_workers, shuffle=True)\n",
        "\n",
        "    return train_loader, test_loader, classes"
      ],
      "execution_count": 2,
      "outputs": []
    },
    {
      "cell_type": "markdown",
      "metadata": {
        "id": "K4sXUrPPz7iF"
      },
      "source": [
        "Module: Train_model"
      ]
    },
    {
      "cell_type": "code",
      "metadata": {
        "id": "N2N_rnKLxN5c"
      },
      "source": [
        "def train_model(train_loader, optimizer, conv_net_model, criterion, my_lr_scheduler, n_epochs):\n",
        "    # track training loss over time\n",
        "    losses = []\n",
        "    \n",
        "    for epoch in range(1, n_epochs + 1):\n",
        "\n",
        "        # keep track of training and validation loss\n",
        "        train_loss = 0.0\n",
        "\n",
        "        # model by default is set to train\n",
        "        for batch_i, (data, target) in enumerate(train_loader):\n",
        "            # move tensors to GPU if CUDA is available\n",
        "            if train_on_gpu:\n",
        "                data, target = data.cuda(), target.cuda()\n",
        "            # clear the gradients of all optimized variables\n",
        "            optimizer.zero_grad()\n",
        "            # forward pass: compute predicted outputs by passing inputs to the model\n",
        "            output = conv_net_model(data)\n",
        "            # calculate the batch loss\n",
        "            loss = criterion(output.logits, target)\n",
        "            # backward pass: compute gradient of the loss with respect to model parameters\n",
        "            loss.backward()\n",
        "            # perform a single optimization step (parameter update)\n",
        "            optimizer.step()\n",
        "            # update training loss\n",
        "            train_loss += loss.item()\n",
        "\n",
        "            my_lr_scheduler.step()\n",
        "\n",
        "            if batch_i % 20 == 19:  # print training loss every specified number of mini-batches\n",
        "                print('Epoch %d, Batch %d loss: %.16f' %\n",
        "                    (epoch, batch_i + 1, train_loss / 20))\n",
        "                losses.append(train_loss / 20)\n",
        "                train_loss = 0.0\n",
        "\n",
        "    return conv_net_model, losses"
      ],
      "execution_count": 3,
      "outputs": []
    },
    {
      "cell_type": "markdown",
      "metadata": {
        "id": "-Rrxo5RDz96U"
      },
      "source": [
        "Module: Test_model"
      ]
    },
    {
      "cell_type": "code",
      "metadata": {
        "id": "Ay-HlMJnxU9v"
      },
      "source": [
        "def test_model(classes, conv_net_model, test_loader, criterion):\n",
        "    # track test loss\n",
        "    test_loss = 0.0\n",
        "    class_correct = list(0. for i in range(len(classes)))\n",
        "    class_total = list(0. for i in range(len(classes)))\n",
        "\n",
        "    conv_net_model.eval()  # eval mode\n",
        "\n",
        "    labels = []\n",
        "    predictions = []\n",
        "    # iterate over test data\n",
        "    for data, target in test_loader:\n",
        "        # move tensors to GPU if CUDA is available\n",
        "        if train_on_gpu:\n",
        "            data, target = data.cuda(), target.cuda()\n",
        "        # forward pass: compute predicted outputs by passing inputs to the model\n",
        "        output = conv_net_model(data)\n",
        "        # calculate the batch loss\n",
        "        loss = criterion(output, target)\n",
        "        # update  test loss\n",
        "        test_loss += loss.item() * data.size(0)\n",
        "        # convert output probabilities to predicted class\n",
        "        _, pred = torch.max(output, 1)\n",
        "        # compare predictions to true label\n",
        "        correct_tensor = pred.eq(target.data.view_as(pred))\n",
        "        correct = np.squeeze(correct_tensor.numpy()) if not train_on_gpu else np.squeeze(correct_tensor.cpu().numpy())\n",
        "        # calculate test accuracy for each object class\n",
        "        for i in range(len(target.data)):\n",
        "            label = target.data[i]\n",
        "            class_correct[label] += correct[i].item()\n",
        "            class_total[label] += 1\n",
        "        \n",
        "        # Will be used for calculating Recall, Precision, and F1-score\n",
        "        labels.extend(target.data.view_as(pred).tolist())\n",
        "        predictions.extend(pred.tolist())\n",
        "\n",
        "\n",
        "    # calculate avg test loss\n",
        "    test_loss = test_loss / len(test_loader.dataset)\n",
        "    print('Test Loss: {:.6f}\\n'.format(test_loss))\n",
        "\n",
        "    return test_loss, class_correct, class_total, labels, predictions"
      ],
      "execution_count": 4,
      "outputs": []
    },
    {
      "cell_type": "markdown",
      "metadata": {
        "id": "xHh3PXE80Asa"
      },
      "source": [
        "Check whether CUDA is available (Change runtime type if not)"
      ]
    },
    {
      "cell_type": "code",
      "metadata": {
        "colab": {
          "base_uri": "https://localhost:8080/"
        },
        "id": "Q9TYPQH7x4zw",
        "outputId": "f3bb09d8-7d5a-47c3-ed5f-11bcf8667d21"
      },
      "source": [
        "if not train_on_gpu:\n",
        "    print('CUDA is not available.  Training on CPU ...')\n",
        "else:\n",
        "    print('CUDA is available!  Training on GPU ...')"
      ],
      "execution_count": 5,
      "outputs": [
        {
          "output_type": "stream",
          "name": "stdout",
          "text": [
            "CUDA is available!  Training on GPU ...\n"
          ]
        }
      ]
    },
    {
      "cell_type": "markdown",
      "metadata": {
        "id": "6lYw8EKVx8Q7"
      },
      "source": [
        "Load Hieroglyph Data"
      ]
    },
    {
      "cell_type": "code",
      "metadata": {
        "colab": {
          "base_uri": "https://localhost:8080/"
        },
        "id": "laLvoRy1yewl",
        "outputId": "8cf8f8fa-11a4-4a30-8cd2-19a0b8cb55b2"
      },
      "source": [
        "# Connecting and Mounting to the Google Drive\n",
        "from google.colab import drive\n",
        "drive.mount('/content/drive')"
      ],
      "execution_count": 6,
      "outputs": [
        {
          "output_type": "stream",
          "name": "stdout",
          "text": [
            "Drive already mounted at /content/drive; to attempt to forcibly remount, call drive.mount(\"/content/drive\", force_remount=True).\n"
          ]
        }
      ]
    },
    {
      "cell_type": "code",
      "metadata": {
        "id": "odaoZt9GyfUt"
      },
      "source": [
        "data_dir = '/content/drive/MyDrive/EgyptianHieroglyphDataset_Original_Clean/'"
      ],
      "execution_count": 7,
      "outputs": []
    },
    {
      "cell_type": "code",
      "metadata": {
        "colab": {
          "base_uri": "https://localhost:8080/"
        },
        "id": "dF22MAnmyiC1",
        "outputId": "6804c5f4-0ab6-4e58-8b8f-feb4a5053de6"
      },
      "source": [
        "hieroglyph_for_train = []\n",
        "file_count_list = []\n",
        "\n",
        "for name in os.listdir('/content/drive/MyDrive/EgyptianHieroglyphDataset_Original_Clean/train/'):\n",
        "  path, dirs, files = next(os.walk(\"/content/drive/MyDrive/EgyptianHieroglyphDataset_Original_Clean/train/\"+name))\n",
        "  file_count = len(files)\n",
        "  print(name, file_count)\n",
        "  file_count_list.append(file_count)\n",
        "  hieroglyph_for_train.append(name)\n",
        "\n",
        "hieroglyph_dict = dict(zip(hieroglyph_for_train, file_count_list))"
      ],
      "execution_count": 8,
      "outputs": [
        {
          "output_type": "stream",
          "name": "stdout",
          "text": [
            "Y5 6\n",
            "I9 116\n",
            "O34 15\n",
            "V13 63\n",
            "U7 3\n",
            "D46 40\n",
            "E34 97\n",
            "G1 28\n",
            "V31 106\n",
            "S34 8\n",
            "D36 47\n",
            "Q1 13\n",
            "V30 6\n",
            "F35 2\n",
            "O4 11\n",
            "M23 30\n",
            "S29 212\n",
            "R8 53\n",
            "W11 4\n",
            "X1 185\n",
            "Y1 1\n",
            "D21 146\n",
            "D2 19\n",
            "E23 8\n",
            "X8 4\n",
            "Z1 39\n",
            "D4 29\n",
            "V28 28\n",
            "I10 32\n",
            "O1 16\n",
            "M17 291\n",
            "F31 6\n",
            "G43 157\n",
            "D58 28\n",
            "O49 10\n",
            "G17 156\n",
            "R4 2\n",
            "Q3 61\n",
            "W24 31\n",
            "N35 358\n"
          ]
        }
      ]
    },
    {
      "cell_type": "markdown",
      "metadata": {
        "id": "XeQQ7PjZzKd9"
      },
      "source": [
        "Number of images for each hieroglyph "
      ]
    },
    {
      "cell_type": "code",
      "metadata": {
        "colab": {
          "base_uri": "https://localhost:8080/",
          "height": 609
        },
        "id": "W6IzWR2RyjxM",
        "outputId": "7f71bdbb-2d30-4d0e-bf69-ffe4d83c0fa9"
      },
      "source": [
        "import matplotlib.pyplot as plt\n",
        "import pandas as pd\n",
        "\n",
        "df = pd.DataFrame({\"Hieroglyph\":hieroglyph_for_train, \"Count\":file_count_list})\n",
        "\n",
        "df_sorted= df.sort_values('Count',ascending=False)\n",
        "\n",
        "plt.figure(figsize=(20,10))\n",
        "# make bar plot with matplotlib\n",
        "plt.bar('Hieroglyph', 'Count',data=df_sorted)"
      ],
      "execution_count": 9,
      "outputs": [
        {
          "output_type": "execute_result",
          "data": {
            "text/plain": [
              "<BarContainer object of 40 artists>"
            ]
          },
          "metadata": {},
          "execution_count": 9
        },
        {
          "output_type": "display_data",
          "data": {
            "image/png": "[encoded data removed]",
            "text/plain": [
              "<Figure size 1440x720 with 1 Axes>"
            ]
          },
          "metadata": {
            "needs_background": "light"
          }
        }
      ]
    },
    {
      "cell_type": "code",
      "metadata": {
        "id": "-3oOm8rSx7tp"
      },
      "source": [
        "# Number of images processed in a single training\n",
        "batch_size = 20\n",
        "num_workers = 0\n",
        "\n",
        "# The load_data function is from hieroglyph_data_preparation python file\n",
        "train_loader, test_loader, classes = load_data(data_dir)"
      ],
      "execution_count": 10,
      "outputs": []
    },
    {
      "cell_type": "markdown",
      "metadata": {
        "id": "BJm8sGiBx_q5"
      },
      "source": [
        "ResNet Model"
      ]
    },
    {
      "cell_type": "code",
      "metadata": {
        "id": "JkLXVJGkxemC"
      },
      "source": [
        "# Whether to extract features with the model\n",
        "feature_extract = False\n",
        "# Other selections\n",
        "loss_function = \"cross-entropy\"\n",
        "model_selection = \"inception-v3\"\n",
        "optim_selection = \"Adam\"\n",
        "\n",
        "# False if you want scratch model, True if you want pretrained model\n",
        "whether_to_pretrain = True\n",
        "\n",
        "# Load the model\n",
        "if model_selection == \"resnet-50\":\n",
        "    resnet50 = models.resnet50(pretrained=whether_to_pretrain)\n",
        "    # Number of features in the last layer of resnet\n",
        "    n_inputs = resnet50.fc.in_features\n",
        "    # Add last linear layer (n_inputs -> 40 hieroglyph classes)\n",
        "    last_layer = nn.Sequential(\n",
        "                    nn.Linear(n_inputs, len(classes)))\n",
        "    resnet50.fc = last_layer\n",
        "    if train_on_gpu:\n",
        "      resnet50.cuda()\n",
        "    # Specify optimizer (Adam) and learning rate = 0.001\n",
        "    if optim_selection == \"Adam\":\n",
        "        optimizer = optim.Adam(resnet50.parameters(), lr=0.001)\n",
        "\n",
        "elif model_selection == \"inception-v3\":\n",
        "    inception_v3 = models.inception_v3(pretrained=whether_to_pretrain)\n",
        "    # Number of features in the last layer of resnet\n",
        "    n_inputs = inception_v3.fc.in_features\n",
        "    # Add last linear layer (n_inputs -> 40 hieroglyph classes)\n",
        "    last_layer = nn.Sequential(\n",
        "                    nn.Linear(n_inputs, len(classes)))\n",
        "    inception_v3.fc = last_layer\n",
        "    if train_on_gpu:\n",
        "      inception_v3.cuda()\n",
        "    # Specify optimizer (Adam) and learning rate = 0.001\n",
        "    if optim_selection == \"Adam\":\n",
        "        optimizer = optim.Adam(inception_v3.parameters(), lr=0.001)\n",
        "\n",
        "\n",
        "# Specify loss function (categorical cross-entropy)\n",
        "if loss_function == \"cross-entropy\":\n",
        "    criterion = nn.CrossEntropyLoss()\n",
        "\n",
        "# Exponential Decay to strengthen learning\n",
        "decayRate = 0.999\n",
        "my_lr_scheduler = torch.optim.lr_scheduler.ExponentialLR(optimizer=optimizer, gamma=decayRate)"
      ],
      "execution_count": 11,
      "outputs": []
    },
    {
      "cell_type": "markdown",
      "metadata": {
        "id": "U2vnErB1yHmM"
      },
      "source": [
        "Training the model"
      ]
    },
    {
      "cell_type": "code",
      "metadata": {
        "colab": {
          "base_uri": "https://localhost:8080/"
        },
        "id": "dOB03noWyEvQ",
        "outputId": "bb5f450c-83f3-4559-8084-9ef1615e0034"
      },
      "source": [
        "# number of epochs to train the model\n",
        "n_epochs = 50\n",
        "\n",
        "if model_selection == \"resnet-50\":\n",
        "  # The train_model function is from model_training python file\n",
        "  resnet50, train_losses = train_model(train_loader, optimizer, resnet50, criterion, my_lr_scheduler, n_epochs)\n",
        "elif model_selection == \"inception-v3\":\n",
        "  # The train_model function is from model_training python file\n",
        "  inception_v3, train_losses = train_model(train_loader, optimizer, inception_v3, criterion, my_lr_scheduler, n_epochs)"
      ],
      "execution_count": 12,
      "outputs": [
        {
          "output_type": "stream",
          "name": "stdout",
          "text": [
            "Epoch 1, Batch 20 loss: 1.9928580939769744\n",
            "Epoch 1, Batch 40 loss: 1.5486358135938645\n",
            "Epoch 1, Batch 60 loss: 1.1085415333509445\n",
            "Epoch 1, Batch 80 loss: 0.8569746933877468\n",
            "Epoch 1, Batch 100 loss: 0.8000308640301228\n",
            "Epoch 1, Batch 120 loss: 0.5716277658939362\n",
            "Epoch 2, Batch 20 loss: 0.4327285125851631\n",
            "Epoch 2, Batch 40 loss: 0.4298380553722382\n",
            "Epoch 2, Batch 60 loss: 0.3117905177175999\n",
            "Epoch 2, Batch 80 loss: 0.3790580235421658\n",
            "Epoch 2, Batch 100 loss: 0.3212074123322964\n",
            "Epoch 2, Batch 120 loss: 0.2738526731729508\n",
            "Epoch 3, Batch 20 loss: 0.2114297965541482\n",
            "Epoch 3, Batch 40 loss: 0.3067219639196992\n",
            "Epoch 3, Batch 60 loss: 0.1978140333667397\n",
            "Epoch 3, Batch 80 loss: 0.1473653168883175\n",
            "Epoch 3, Batch 100 loss: 0.1233176647685468\n",
            "Epoch 3, Batch 120 loss: 0.0996291553135961\n",
            "Epoch 4, Batch 20 loss: 0.1325585899408907\n",
            "Epoch 4, Batch 40 loss: 0.1476254047825933\n",
            "Epoch 4, Batch 60 loss: 0.1146716152143199\n",
            "Epoch 4, Batch 80 loss: 0.0912944599753246\n",
            "Epoch 4, Batch 100 loss: 0.1063990806229413\n",
            "Epoch 4, Batch 120 loss: 0.1348464293871075\n",
            "Epoch 5, Batch 20 loss: 0.1775788111612201\n",
            "Epoch 5, Batch 40 loss: 0.1131921508815140\n",
            "Epoch 5, Batch 60 loss: 0.1149783361703157\n",
            "Epoch 5, Batch 80 loss: 0.1183264503255486\n",
            "Epoch 5, Batch 100 loss: 0.1107863218523562\n",
            "Epoch 5, Batch 120 loss: 0.0373999725794420\n",
            "Epoch 6, Batch 20 loss: 0.0458880610938650\n",
            "Epoch 6, Batch 40 loss: 0.0598503139568493\n",
            "Epoch 6, Batch 60 loss: 0.0613300799159333\n",
            "Epoch 6, Batch 80 loss: 0.0647426399867982\n",
            "Epoch 6, Batch 100 loss: 0.0415033899829723\n",
            "Epoch 6, Batch 120 loss: 0.0212032909737900\n",
            "Epoch 7, Batch 20 loss: 0.0225043855607510\n",
            "Epoch 7, Batch 40 loss: 0.0138740877417149\n",
            "Epoch 7, Batch 60 loss: 0.0089322245970834\n",
            "Epoch 7, Batch 80 loss: 0.0092333566251909\n",
            "Epoch 7, Batch 100 loss: 0.0352495305880439\n",
            "Epoch 7, Batch 120 loss: 0.0324686499923700\n",
            "Epoch 8, Batch 20 loss: 0.0047350656095659\n",
            "Epoch 8, Batch 40 loss: 0.0264975595055148\n",
            "Epoch 8, Batch 60 loss: 0.0582653640973149\n",
            "Epoch 8, Batch 80 loss: 0.0187971357605420\n",
            "Epoch 8, Batch 100 loss: 0.0177347957040183\n",
            "Epoch 8, Batch 120 loss: 0.0160840280528646\n",
            "Epoch 9, Batch 20 loss: 0.0352361223311164\n",
            "Epoch 9, Batch 40 loss: 0.0125824792165076\n",
            "Epoch 9, Batch 60 loss: 0.0157657508156262\n",
            "Epoch 9, Batch 80 loss: 0.0093715110968333\n",
            "Epoch 9, Batch 100 loss: 0.0045527023306931\n",
            "Epoch 9, Batch 120 loss: 0.0237959095902625\n",
            "Epoch 10, Batch 20 loss: 0.0198014627792872\n",
            "Epoch 10, Batch 40 loss: 0.0181915716908406\n",
            "Epoch 10, Batch 60 loss: 0.0143423161876854\n",
            "Epoch 10, Batch 80 loss: 0.0050201894904603\n",
            "Epoch 10, Batch 100 loss: 0.0271795715700137\n",
            "Epoch 10, Batch 120 loss: 0.0179113520658575\n",
            "Epoch 11, Batch 20 loss: 0.0130171076292754\n",
            "Epoch 11, Batch 40 loss: 0.0086610972794006\n",
            "Epoch 11, Batch 60 loss: 0.0095743695768761\n",
            "Epoch 11, Batch 80 loss: 0.0108596070087515\n",
            "Epoch 11, Batch 100 loss: 0.0057260191068053\n",
            "Epoch 11, Batch 120 loss: 0.0021929648668447\n",
            "Epoch 12, Batch 20 loss: 0.0163911034294870\n",
            "Epoch 12, Batch 40 loss: 0.0015502947266214\n",
            "Epoch 12, Batch 60 loss: 0.0016506478903466\n",
            "Epoch 12, Batch 80 loss: 0.0070464021569933\n",
            "Epoch 12, Batch 100 loss: 0.0041094732776401\n",
            "Epoch 12, Batch 120 loss: 0.0027408368747274\n",
            "Epoch 13, Batch 20 loss: 0.0027085975467344\n",
            "Epoch 13, Batch 40 loss: 0.0015906099841231\n",
            "Epoch 13, Batch 60 loss: 0.0018751224401058\n",
            "Epoch 13, Batch 80 loss: 0.0029121649378794\n",
            "Epoch 13, Batch 100 loss: 0.0023210093509988\n",
            "Epoch 13, Batch 120 loss: 0.0016220727135078\n",
            "Epoch 14, Batch 20 loss: 0.0046979583399661\n",
            "Epoch 14, Batch 40 loss: 0.0011398682661820\n",
            "Epoch 14, Batch 60 loss: 0.0032277685408189\n",
            "Epoch 14, Batch 80 loss: 0.0035806466177746\n",
            "Epoch 14, Batch 100 loss: 0.0033652085992799\n",
            "Epoch 14, Batch 120 loss: 0.0032009531860240\n",
            "Epoch 15, Batch 20 loss: 0.0009212922035658\n",
            "Epoch 15, Batch 40 loss: 0.0013683273275092\n",
            "Epoch 15, Batch 60 loss: 0.0034693524277827\n",
            "Epoch 15, Batch 80 loss: 0.0023948592657689\n",
            "Epoch 15, Batch 100 loss: 0.0020498937949014\n",
            "Epoch 15, Batch 120 loss: 0.0028565235465067\n",
            "Epoch 16, Batch 20 loss: 0.0008903980873583\n",
            "Epoch 16, Batch 40 loss: 0.0009574148185493\n",
            "Epoch 16, Batch 60 loss: 0.0009231825635652\n",
            "Epoch 16, Batch 80 loss: 0.0018918913501693\n",
            "Epoch 16, Batch 100 loss: 0.0012444674473954\n",
            "Epoch 16, Batch 120 loss: 0.0008225369951106\n",
            "Epoch 17, Batch 20 loss: 0.0031298915317166\n",
            "Epoch 17, Batch 40 loss: 0.0014227317107725\n",
            "Epoch 17, Batch 60 loss: 0.0016597298348643\n",
            "Epoch 17, Batch 80 loss: 0.0026787512702867\n",
            "Epoch 17, Batch 100 loss: 0.0018987021641806\n",
            "Epoch 17, Batch 120 loss: 0.0008580693898693\n",
            "Epoch 18, Batch 20 loss: 0.0015287293681467\n",
            "Epoch 18, Batch 40 loss: 0.0011060303419072\n",
            "Epoch 18, Batch 60 loss: 0.0009322821540991\n",
            "Epoch 18, Batch 80 loss: 0.0010428416790091\n",
            "Epoch 18, Batch 100 loss: 0.0025058882070880\n",
            "Epoch 18, Batch 120 loss: 0.0015942631587677\n",
            "Epoch 19, Batch 20 loss: 0.0006598477655643\n",
            "Epoch 19, Batch 40 loss: 0.0007934642264445\n",
            "Epoch 19, Batch 60 loss: 0.0010195777605986\n",
            "Epoch 19, Batch 80 loss: 0.0008051822711423\n",
            "Epoch 19, Batch 100 loss: 0.0007404566335026\n",
            "Epoch 19, Batch 120 loss: 0.0006387891487975\n",
            "Epoch 20, Batch 20 loss: 0.0018863292170863\n",
            "Epoch 20, Batch 40 loss: 0.0013548836963309\n",
            "Epoch 20, Batch 60 loss: 0.0005382873994677\n",
            "Epoch 20, Batch 80 loss: 0.0004912371699902\n",
            "Epoch 20, Batch 100 loss: 0.0005084391996206\n",
            "Epoch 20, Batch 120 loss: 0.0004640459981601\n",
            "Epoch 21, Batch 20 loss: 0.0005804130050819\n",
            "Epoch 21, Batch 40 loss: 0.0007418002842314\n",
            "Epoch 21, Batch 60 loss: 0.0005126819916768\n",
            "Epoch 21, Batch 80 loss: 0.0004912685715681\n",
            "Epoch 21, Batch 100 loss: 0.0005388244780988\n",
            "Epoch 21, Batch 120 loss: 0.0006096676293964\n",
            "Epoch 22, Batch 20 loss: 0.0007221821546409\n",
            "Epoch 22, Batch 40 loss: 0.0003669299010653\n",
            "Epoch 22, Batch 60 loss: 0.0004500972238020\n",
            "Epoch 22, Batch 80 loss: 0.0005551743137403\n",
            "Epoch 22, Batch 100 loss: 0.0004825712421734\n",
            "Epoch 22, Batch 120 loss: 0.0005597076866252\n",
            "Epoch 23, Batch 20 loss: 0.0003544436736775\n",
            "Epoch 23, Batch 40 loss: 0.0009252117270080\n",
            "Epoch 23, Batch 60 loss: 0.0007950181752676\n",
            "Epoch 23, Batch 80 loss: 0.0002891389223805\n",
            "Epoch 23, Batch 100 loss: 0.0006001507925248\n",
            "Epoch 23, Batch 120 loss: 0.0006554567578860\n",
            "Epoch 24, Batch 20 loss: 0.0006115008778579\n",
            "Epoch 24, Batch 40 loss: 0.0004422729194630\n",
            "Epoch 24, Batch 60 loss: 0.0002835257346305\n",
            "Epoch 24, Batch 80 loss: 0.0005766371978098\n",
            "Epoch 24, Batch 100 loss: 0.0006391358307155\n",
            "Epoch 24, Batch 120 loss: 0.0002627130312248\n",
            "Epoch 25, Batch 20 loss: 0.0007171928969910\n",
            "Epoch 25, Batch 40 loss: 0.0007732228024906\n",
            "Epoch 25, Batch 60 loss: 0.0004147177962295\n",
            "Epoch 25, Batch 80 loss: 0.0004372454586701\n",
            "Epoch 25, Batch 100 loss: 0.0004705536317488\n",
            "Epoch 25, Batch 120 loss: 0.0004773982640472\n",
            "Epoch 26, Batch 20 loss: 0.0005136187122844\n",
            "Epoch 26, Batch 40 loss: 0.0004967602631950\n",
            "Epoch 26, Batch 60 loss: 0.0009015359915793\n",
            "Epoch 26, Batch 80 loss: 0.0008300997174956\n",
            "Epoch 26, Batch 100 loss: 0.0005956282959232\n",
            "Epoch 26, Batch 120 loss: 0.0004697251104517\n",
            "Epoch 27, Batch 20 loss: 0.0004964439522155\n",
            "Epoch 27, Batch 40 loss: 0.0003345336190250\n",
            "Epoch 27, Batch 60 loss: 0.0004881769935309\n",
            "Epoch 27, Batch 80 loss: 0.0004634635799448\n",
            "Epoch 27, Batch 100 loss: 0.0004289026299375\n",
            "Epoch 27, Batch 120 loss: 0.0002996493174578\n",
            "Epoch 28, Batch 20 loss: 0.0007480019188733\n",
            "Epoch 28, Batch 40 loss: 0.0004858672537011\n",
            "Epoch 28, Batch 60 loss: 0.0003044649572985\n",
            "Epoch 28, Batch 80 loss: 0.0008278056720883\n",
            "Epoch 28, Batch 100 loss: 0.0002534473911510\n",
            "Epoch 28, Batch 120 loss: 0.0005081312265247\n",
            "Epoch 29, Batch 20 loss: 0.0008974774002127\n",
            "Epoch 29, Batch 40 loss: 0.0003344240583829\n",
            "Epoch 29, Batch 60 loss: 0.0004739552841784\n",
            "Epoch 29, Batch 80 loss: 0.0006471178030552\n",
            "Epoch 29, Batch 100 loss: 0.0005621255453661\n",
            "Epoch 29, Batch 120 loss: 0.0006195374586241\n",
            "Epoch 30, Batch 20 loss: 0.0004029863048345\n",
            "Epoch 30, Batch 40 loss: 0.0003442004583121\n",
            "Epoch 30, Batch 60 loss: 0.0003665120737423\n",
            "Epoch 30, Batch 80 loss: 0.0004398608739393\n",
            "Epoch 30, Batch 100 loss: 0.0004736911851069\n",
            "Epoch 30, Batch 120 loss: 0.0023638335927899\n",
            "Epoch 31, Batch 20 loss: 0.0002933164038041\n",
            "Epoch 31, Batch 40 loss: 0.0004498708956817\n",
            "Epoch 31, Batch 60 loss: 0.0002729126235863\n",
            "Epoch 31, Batch 80 loss: 0.0002656043008756\n",
            "Epoch 31, Batch 100 loss: 0.0010688002550523\n",
            "Epoch 31, Batch 120 loss: 0.0004464627172638\n",
            "Epoch 32, Batch 20 loss: 0.0003535245494277\n",
            "Epoch 32, Batch 40 loss: 0.0003985872421254\n",
            "Epoch 32, Batch 60 loss: 0.0009074807743673\n",
            "Epoch 32, Batch 80 loss: 0.0003352436704517\n",
            "Epoch 32, Batch 100 loss: 0.0005537303615711\n",
            "Epoch 32, Batch 120 loss: 0.0008504609866577\n",
            "Epoch 33, Batch 20 loss: 0.0002797830107738\n",
            "Epoch 33, Batch 40 loss: 0.0003394600586034\n",
            "Epoch 33, Batch 60 loss: 0.0005642317722959\n",
            "Epoch 33, Batch 80 loss: 0.0004707894469902\n",
            "Epoch 33, Batch 100 loss: 0.0002242030499474\n",
            "Epoch 33, Batch 120 loss: 0.0007055323123495\n",
            "Epoch 34, Batch 20 loss: 0.0002028399107076\n",
            "Epoch 34, Batch 40 loss: 0.0004119407458347\n",
            "Epoch 34, Batch 60 loss: 0.0003197219650247\n",
            "Epoch 34, Batch 80 loss: 0.0002739226581980\n",
            "Epoch 34, Batch 100 loss: 0.0004498291364143\n",
            "Epoch 34, Batch 120 loss: 0.0005064275832410\n",
            "Epoch 35, Batch 20 loss: 0.0002061942139335\n",
            "Epoch 35, Batch 40 loss: 0.0003647344092315\n",
            "Epoch 35, Batch 60 loss: 0.0004711210138339\n",
            "Epoch 35, Batch 80 loss: 0.0003489238275506\n",
            "Epoch 35, Batch 100 loss: 0.0004079884907696\n",
            "Epoch 35, Batch 120 loss: 0.0005859188773684\n",
            "Epoch 36, Batch 20 loss: 0.0002663955179742\n",
            "Epoch 36, Batch 40 loss: 0.0004169459680270\n",
            "Epoch 36, Batch 60 loss: 0.0005126022311742\n",
            "Epoch 36, Batch 80 loss: 0.0004100609494344\n",
            "Epoch 36, Batch 100 loss: 0.0003562498877727\n",
            "Epoch 36, Batch 120 loss: 0.0007306150821023\n",
            "Epoch 37, Batch 20 loss: 0.0003018584857273\n",
            "Epoch 37, Batch 40 loss: 0.0004837696411414\n",
            "Epoch 37, Batch 60 loss: 0.0004279213364498\n",
            "Epoch 37, Batch 80 loss: 0.0005476680185893\n",
            "Epoch 37, Batch 100 loss: 0.0007686332926824\n",
            "Epoch 37, Batch 120 loss: 0.0003365676013345\n",
            "Epoch 38, Batch 20 loss: 0.0002556619923780\n",
            "Epoch 38, Batch 40 loss: 0.0003875382590195\n",
            "Epoch 38, Batch 60 loss: 0.0003963810328059\n",
            "Epoch 38, Batch 80 loss: 0.0003540823177900\n",
            "Epoch 38, Batch 100 loss: 0.0002814182491420\n",
            "Epoch 38, Batch 120 loss: 0.0005106979111588\n",
            "Epoch 39, Batch 20 loss: 0.0003915901786968\n",
            "Epoch 39, Batch 40 loss: 0.0003172638520482\n",
            "Epoch 39, Batch 60 loss: 0.0003429169864830\n",
            "Epoch 39, Batch 80 loss: 0.0003217768251488\n",
            "Epoch 39, Batch 100 loss: 0.0005180343938264\n",
            "Epoch 39, Batch 120 loss: 0.0004465297355637\n",
            "Epoch 40, Batch 20 loss: 0.0004734425696370\n",
            "Epoch 40, Batch 40 loss: 0.0003873283871144\n",
            "Epoch 40, Batch 60 loss: 0.0003362827614183\n",
            "Epoch 40, Batch 80 loss: 0.0004217248275381\n",
            "Epoch 40, Batch 100 loss: 0.0002935610336863\n",
            "Epoch 40, Batch 120 loss: 0.0003429281920035\n",
            "Epoch 41, Batch 20 loss: 0.0001990832528463\n",
            "Epoch 41, Batch 40 loss: 0.0005311007656928\n",
            "Epoch 41, Batch 60 loss: 0.0003213491256247\n",
            "Epoch 41, Batch 80 loss: 0.0001238276137883\n",
            "Epoch 41, Batch 100 loss: 0.0004708199583547\n",
            "Epoch 41, Batch 120 loss: 0.0002789009146909\n",
            "Epoch 42, Batch 20 loss: 0.0002258174397866\n",
            "Epoch 42, Batch 40 loss: 0.0002367318234974\n",
            "Epoch 42, Batch 60 loss: 0.0005557977492572\n",
            "Epoch 42, Batch 80 loss: 0.0007148923330533\n",
            "Epoch 42, Batch 100 loss: 0.0001912498919410\n",
            "Epoch 42, Batch 120 loss: 0.0003021874108526\n",
            "Epoch 43, Batch 20 loss: 0.0002712426608923\n",
            "Epoch 43, Batch 40 loss: 0.0004122014779568\n",
            "Epoch 43, Batch 60 loss: 0.0003851671588563\n",
            "Epoch 43, Batch 80 loss: 0.0004666964599892\n",
            "Epoch 43, Batch 100 loss: 0.0002709979100473\n",
            "Epoch 43, Batch 120 loss: 0.0002339466431295\n",
            "Epoch 44, Batch 20 loss: 0.0004062702431838\n",
            "Epoch 44, Batch 40 loss: 0.0004230825634295\n",
            "Epoch 44, Batch 60 loss: 0.0001956116673682\n",
            "Epoch 44, Batch 80 loss: 0.0006690781441648\n",
            "Epoch 44, Batch 100 loss: 0.0005386246641137\n",
            "Epoch 44, Batch 120 loss: 0.0003286955005024\n",
            "Epoch 45, Batch 20 loss: 0.0003249050918384\n",
            "Epoch 45, Batch 40 loss: 0.0003770848255954\n",
            "Epoch 45, Batch 60 loss: 0.0002633450498251\n",
            "Epoch 45, Batch 80 loss: 0.0002831247300492\n",
            "Epoch 45, Batch 100 loss: 0.0002133462501661\n",
            "Epoch 45, Batch 120 loss: 0.0004059045211761\n",
            "Epoch 46, Batch 20 loss: 0.0003031562415345\n",
            "Epoch 46, Batch 40 loss: 0.0002834433240423\n",
            "Epoch 46, Batch 60 loss: 0.0002165749038795\n",
            "Epoch 46, Batch 80 loss: 0.0006122136837803\n",
            "Epoch 46, Batch 100 loss: 0.0007686743214435\n",
            "Epoch 46, Batch 120 loss: 0.0002521848022297\n",
            "Epoch 47, Batch 20 loss: 0.0002596652891953\n",
            "Epoch 47, Batch 40 loss: 0.0003896227881341\n",
            "Epoch 47, Batch 60 loss: 0.0002599852110507\n",
            "Epoch 47, Batch 80 loss: 0.0004536941711194\n",
            "Epoch 47, Batch 100 loss: 0.0003565962626453\n",
            "Epoch 47, Batch 120 loss: 0.0003237108699977\n",
            "Epoch 48, Batch 20 loss: 0.0004206779996821\n",
            "Epoch 48, Batch 40 loss: 0.0007156552546803\n",
            "Epoch 48, Batch 60 loss: 0.0003974988294431\n",
            "Epoch 48, Batch 80 loss: 0.0002936858571047\n",
            "Epoch 48, Batch 100 loss: 0.0002826591371559\n",
            "Epoch 48, Batch 120 loss: 0.0004707690428404\n",
            "Epoch 49, Batch 20 loss: 0.0002747636481217\n",
            "Epoch 49, Batch 40 loss: 0.0002681317442693\n",
            "Epoch 49, Batch 60 loss: 0.0005795575132652\n",
            "Epoch 49, Batch 80 loss: 0.0002121853729477\n",
            "Epoch 49, Batch 100 loss: 0.0002518009790947\n",
            "Epoch 49, Batch 120 loss: 0.0003184513821907\n",
            "Epoch 50, Batch 20 loss: 0.0003870782804370\n",
            "Epoch 50, Batch 40 loss: 0.0003242609200242\n",
            "Epoch 50, Batch 60 loss: 0.0003214504382413\n",
            "Epoch 50, Batch 80 loss: 0.0002348781848923\n",
            "Epoch 50, Batch 100 loss: 0.0003108991097179\n",
            "Epoch 50, Batch 120 loss: 0.0003693018350532\n"
          ]
        }
      ]
    },
    {
      "cell_type": "code",
      "metadata": {
        "colab": {
          "base_uri": "https://localhost:8080/",
          "height": 281
        },
        "id": "CfA7ZjLR1BZP",
        "outputId": "ffbbc337-ae19-4cd9-c17a-122011a1e303"
      },
      "source": [
        "plt.plot(train_losses)\n",
        "plt.title(\"Training Loss\")\n",
        "plt.show()"
      ],
      "execution_count": 13,
      "outputs": [
        {
          "output_type": "display_data",
          "data": {
            "image/png": "[encoded data removed]",
            "text/plain": [
              "<Figure size 432x288 with 1 Axes>"
            ]
          },
          "metadata": {
            "needs_background": "light"
          }
        }
      ]
    },
    {
      "cell_type": "markdown",
      "metadata": {
        "id": "ItLyF9dQyJFL"
      },
      "source": [
        "Testing the model"
      ]
    },
    {
      "cell_type": "code",
      "metadata": {
        "id": "gGki98W3SoEW"
      },
      "source": [
        "from sklearn.metrics import precision_score, recall_score, f1_score, accuracy_score"
      ],
      "execution_count": 14,
      "outputs": []
    },
    {
      "cell_type": "code",
      "metadata": {
        "colab": {
          "base_uri": "https://localhost:8080/"
        },
        "id": "xNavYOynyE6d",
        "outputId": "17aa91b4-5546-4d2a-808b-76b43fc36183"
      },
      "source": [
        "# The test_model function is from model_testing python file\n",
        "test_loss, class_correct, class_total, labels, predictions = test_model(classes, inception_v3, test_loader, criterion)\n",
        "\n",
        "# Test accuracy for each hieroglyph\n",
        "for i in range(len(classes)):\n",
        "    if class_total[i] > 0:\n",
        "        print('Test Accuracy of %5s: %2d%% (%2d/%2d)' % (classes[i], 100 * class_correct[i] / class_total[i], np.sum(class_correct[i]), np.sum(class_total[i])))\n",
        "    else:\n",
        "        print('Test Accuracy of %5s: N/A (no training examples)' % (classes[i]))\n",
        "\n",
        "# Total Test accuracy\n",
        "print(\"\\nAccuracy: {:.3%}\".format(accuracy_score(labels, predictions)))\n",
        "print(\"\\nPrecision: {:.3%}\".format(precision_score(labels, predictions, average = 'weighted')))\n",
        "print(\"\\nRecall: {:.3%}\".format(recall_score(labels, predictions, average = 'weighted')))\n",
        "print(\"\\nF1-score: {:.3%}\".format(f1_score(labels, predictions, average = 'weighted')))"
      ],
      "execution_count": 15,
      "outputs": [
        {
          "output_type": "stream",
          "name": "stdout",
          "text": [
            "Test Loss: 1.002006\n",
            "\n",
            "Test Accuracy of    D2: 100% ( 5/ 5)\n",
            "Test Accuracy of   D21: 91% (33/36)\n",
            "Test Accuracy of   D36: 50% ( 6/12)\n",
            "Test Accuracy of    D4: 100% ( 8/ 8)\n",
            "Test Accuracy of   D46: 54% ( 6/11)\n",
            "Test Accuracy of   D58: 62% ( 5/ 8)\n",
            "Test Accuracy of   E23: 50% ( 1/ 2)\n",
            "Test Accuracy of   E34: 96% (24/25)\n",
            "Test Accuracy of   F31: 100% ( 2/ 2)\n",
            "Test Accuracy of   F35: 100% ( 1/ 1)\n",
            "Test Accuracy of    G1: 71% ( 5/ 7)\n",
            "Test Accuracy of   G17: 82% (32/39)\n",
            "Test Accuracy of   G43: 80% (32/40)\n",
            "Test Accuracy of   I10: 33% ( 3/ 9)\n",
            "Test Accuracy of    I9: 66% (20/30)\n",
            "Test Accuracy of   M17: 79% (58/73)\n",
            "Test Accuracy of   M23: 100% ( 8/ 8)\n",
            "Test Accuracy of   N35: 88% (80/90)\n",
            "Test Accuracy of    O1: 100% ( 4/ 4)\n",
            "Test Accuracy of   O34: 25% ( 1/ 4)\n",
            "Test Accuracy of    O4: 66% ( 2/ 3)\n",
            "Test Accuracy of   O49: 100% ( 3/ 3)\n",
            "Test Accuracy of    Q1: 50% ( 2/ 4)\n",
            "Test Accuracy of    Q3: 100% (16/16)\n",
            "Test Accuracy of    R4:  0% ( 0/ 1)\n",
            "Test Accuracy of    R8: 78% (11/14)\n",
            "Test Accuracy of   S29: 79% (42/53)\n",
            "Test Accuracy of   S34: 50% ( 1/ 2)\n",
            "Test Accuracy of    U7: 100% ( 1/ 1)\n",
            "Test Accuracy of   V13: 87% (14/16)\n",
            "Test Accuracy of   V28: 87% ( 7/ 8)\n",
            "Test Accuracy of   V30: 100% ( 2/ 2)\n",
            "Test Accuracy of   V31: 48% (13/27)\n",
            "Test Accuracy of   W11: 100% ( 1/ 1)\n",
            "Test Accuracy of   W24: 75% ( 6/ 8)\n",
            "Test Accuracy of    X1: 78% (37/47)\n",
            "Test Accuracy of    X8:  0% ( 0/ 1)\n",
            "Test Accuracy of    Y1: 100% ( 1/ 1)\n",
            "Test Accuracy of    Y5: 100% ( 2/ 2)\n",
            "Test Accuracy of    Z1: 60% ( 6/10)\n",
            "\n",
            "Accuracy: 79.022%\n",
            "\n",
            "Precision: 86.259%\n",
            "\n",
            "Recall: 79.022%\n",
            "\n",
            "F1-score: 80.744%\n"
          ]
        },
        {
          "output_type": "stream",
          "name": "stderr",
          "text": [
            "/usr/local/lib/python3.7/dist-packages/sklearn/metrics/_classification.py:1308: UndefinedMetricWarning: Precision is ill-defined and being set to 0.0 in labels with no predicted samples. Use `zero_division` parameter to control this behavior.\n",
            "  _warn_prf(average, modifier, msg_start, len(result))\n"
          ]
        }
      ]
    }
  ]
}