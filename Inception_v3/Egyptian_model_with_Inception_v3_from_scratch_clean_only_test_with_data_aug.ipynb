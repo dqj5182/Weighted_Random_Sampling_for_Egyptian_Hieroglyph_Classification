{
  "nbformat": 4,
  "nbformat_minor": 0,
  "metadata": {
    "colab": {
      "name": "Egyptian_model_with_Inception_v3_from_scratch_clean_only_test_with_data_aug.ipynb",
      "provenance": []
    },
    "kernelspec": {
      "name": "python3",
      "display_name": "Python 3"
    },
    "language_info": {
      "name": "python"
    },
    "accelerator": "GPU"
  },
  "cells": [
    {
      "cell_type": "code",
      "metadata": {
        "id": "8iEiGSblxJzW"
      },
      "source": [
        "import os, os.path\n",
        "import torch\n",
        "import numpy as np\n",
        "import torch.nn as nn\n",
        "import torch.optim as optim\n",
        "from pathlib import Path\n",
        "from torchvision import datasets, models, transforms\n",
        "\n",
        "# check if CUDA is available\n",
        "train_on_gpu = torch.cuda.is_available()"
      ],
      "execution_count": 1,
      "outputs": []
    },
    {
      "cell_type": "markdown",
      "metadata": {
        "id": "Jd6KU8VMz6J3"
      },
      "source": [
        "Module: Load_data"
      ]
    },
    {
      "cell_type": "code",
      "metadata": {
        "id": "8lWX0BW_w_kC"
      },
      "source": [
        "def load_data(hieroglyph_directory_path, batch_size=20, num_workers=0):\n",
        "    train_dir = os.path.join(hieroglyph_directory_path, 'train/')\n",
        "    test_dir = os.path.join(hieroglyph_directory_path, 'test/')\n",
        "\n",
        "    classes = []\n",
        "\n",
        "    for filename in os.listdir(train_dir):\n",
        "        if filename == '.DS_Store':\n",
        "            pass\n",
        "        else:\n",
        "            classes.append(filename)\n",
        "\n",
        "    classes.sort()\n",
        "\n",
        "    # print(\"Our classes:\", classes)\n",
        "    # print(len(classes))\n",
        "\n",
        "    data_transform_train = transforms.Compose([transforms.ToTensor(),\n",
        "                                                  transforms.Resize((299, 299)),\n",
        "                                                  transforms.Normalize((0.5,), (0.5,))])\n",
        "\n",
        "    data_transform_test = transforms.Compose([transforms.ToTensor(),\n",
        "                                                  transforms.RandomApply([transforms.RandomHorizontalFlip()]),\n",
        "                                                  transforms.RandomRotation(degrees=(-10, 10)),\n",
        "                                                  transforms.RandomAffine(degrees=0, translate=(.1, .1)),\n",
        "                                                  transforms.RandomApply([transforms.ColorJitter(brightness=(1, 1.2),\n",
        "                                                                                                  contrast=(1, 1.5),\n",
        "                                                                                                  saturation=(1, 1.5),\n",
        "                                                                                                  hue=(0, 0.5))]),\n",
        "                                                  transforms.RandomErasing(p=0.5, scale=(0.05, 0.05), ratio=(0.3, 3.3), value=0,\n",
        "                                                                            inplace=False),\n",
        "                                                  transforms.Resize((299, 299)),\n",
        "                                                  transforms.Normalize((0.5,), (0.5,))])\n",
        "\n",
        "    train_data = datasets.ImageFolder(train_dir, transform=data_transform_train)\n",
        "    test_data = datasets.ImageFolder(test_dir, transform=data_transform_test)\n",
        "\n",
        "\n",
        "    # print('Num training images: ', len(train_data))\n",
        "    # print('Num test images: ', len(test_data))\n",
        "\n",
        "    # prepare data loaders\n",
        "    train_loader = torch.utils.data.DataLoader(train_data, batch_size=batch_size,\n",
        "                                               num_workers=num_workers, shuffle=True)\n",
        "    test_loader = torch.utils.data.DataLoader(test_data, batch_size=batch_size,\n",
        "                                              num_workers=num_workers, shuffle=True)\n",
        "\n",
        "    return train_loader, test_loader, classes"
      ],
      "execution_count": 2,
      "outputs": []
    },
    {
      "cell_type": "markdown",
      "metadata": {
        "id": "K4sXUrPPz7iF"
      },
      "source": [
        "Module: Train_model"
      ]
    },
    {
      "cell_type": "code",
      "metadata": {
        "id": "N2N_rnKLxN5c"
      },
      "source": [
        "def train_model(train_loader, optimizer, conv_net_model, criterion, my_lr_scheduler, n_epochs):\n",
        "    # track training loss over time\n",
        "    losses = []\n",
        "    \n",
        "    for epoch in range(1, n_epochs + 1):\n",
        "\n",
        "        # keep track of training and validation loss\n",
        "        train_loss = 0.0\n",
        "\n",
        "        # model by default is set to train\n",
        "        for batch_i, (data, target) in enumerate(train_loader):\n",
        "            # move tensors to GPU if CUDA is available\n",
        "            if train_on_gpu:\n",
        "                data, target = data.cuda(), target.cuda()\n",
        "            # clear the gradients of all optimized variables\n",
        "            optimizer.zero_grad()\n",
        "            # forward pass: compute predicted outputs by passing inputs to the model\n",
        "            output = conv_net_model(data)\n",
        "            # calculate the batch loss\n",
        "            loss = criterion(output.logits, target)\n",
        "            # backward pass: compute gradient of the loss with respect to model parameters\n",
        "            loss.backward()\n",
        "            # perform a single optimization step (parameter update)\n",
        "            optimizer.step()\n",
        "            # update training loss\n",
        "            train_loss += loss.item()\n",
        "\n",
        "            my_lr_scheduler.step()\n",
        "\n",
        "            if batch_i % 20 == 19:  # print training loss every specified number of mini-batches\n",
        "                print('Epoch %d, Batch %d loss: %.16f' %\n",
        "                    (epoch, batch_i + 1, train_loss / 20))\n",
        "                losses.append(train_loss / 20)\n",
        "                train_loss = 0.0\n",
        "\n",
        "    return conv_net_model, losses"
      ],
      "execution_count": 3,
      "outputs": []
    },
    {
      "cell_type": "markdown",
      "metadata": {
        "id": "-Rrxo5RDz96U"
      },
      "source": [
        "Module: Test_model"
      ]
    },
    {
      "cell_type": "code",
      "metadata": {
        "id": "Ay-HlMJnxU9v"
      },
      "source": [
        "def test_model(classes, conv_net_model, test_loader, criterion):\n",
        "    # track test loss\n",
        "    test_loss = 0.0\n",
        "    class_correct = list(0. for i in range(len(classes)))\n",
        "    class_total = list(0. for i in range(len(classes)))\n",
        "\n",
        "    conv_net_model.eval()  # eval mode\n",
        "\n",
        "    labels = []\n",
        "    predictions = []\n",
        "    # iterate over test data\n",
        "    for data, target in test_loader:\n",
        "        # move tensors to GPU if CUDA is available\n",
        "        if train_on_gpu:\n",
        "            data, target = data.cuda(), target.cuda()\n",
        "        # forward pass: compute predicted outputs by passing inputs to the model\n",
        "        output = conv_net_model(data)\n",
        "        # calculate the batch loss\n",
        "        loss = criterion(output, target)\n",
        "        # update  test loss\n",
        "        test_loss += loss.item() * data.size(0)\n",
        "        # convert output probabilities to predicted class\n",
        "        _, pred = torch.max(output, 1)\n",
        "        # compare predictions to true label\n",
        "        correct_tensor = pred.eq(target.data.view_as(pred))\n",
        "        correct = np.squeeze(correct_tensor.numpy()) if not train_on_gpu else np.squeeze(correct_tensor.cpu().numpy())\n",
        "        # calculate test accuracy for each object class\n",
        "        for i in range(len(target.data)):\n",
        "            label = target.data[i]\n",
        "            class_correct[label] += correct[i].item()\n",
        "            class_total[label] += 1\n",
        "        \n",
        "        # Will be used for calculating Recall, Precision, and F1-score\n",
        "        labels.extend(target.data.view_as(pred).tolist())\n",
        "        predictions.extend(pred.tolist())\n",
        "\n",
        "\n",
        "    # calculate avg test loss\n",
        "    test_loss = test_loss / len(test_loader.dataset)\n",
        "    print('Test Loss: {:.6f}\\n'.format(test_loss))\n",
        "\n",
        "    return test_loss, class_correct, class_total, labels, predictions"
      ],
      "execution_count": 4,
      "outputs": []
    },
    {
      "cell_type": "markdown",
      "metadata": {
        "id": "xHh3PXE80Asa"
      },
      "source": [
        "Check whether CUDA is available (Change runtime type if not)"
      ]
    },
    {
      "cell_type": "code",
      "metadata": {
        "colab": {
          "base_uri": "https://localhost:8080/"
        },
        "id": "Q9TYPQH7x4zw",
        "outputId": "d2aedbd9-0115-42c4-ab63-2231011e483b"
      },
      "source": [
        "if not train_on_gpu:\n",
        "    print('CUDA is not available.  Training on CPU ...')\n",
        "else:\n",
        "    print('CUDA is available!  Training on GPU ...')"
      ],
      "execution_count": 5,
      "outputs": [
        {
          "output_type": "stream",
          "name": "stdout",
          "text": [
            "CUDA is available!  Training on GPU ...\n"
          ]
        }
      ]
    },
    {
      "cell_type": "markdown",
      "metadata": {
        "id": "6lYw8EKVx8Q7"
      },
      "source": [
        "Load Hieroglyph Data"
      ]
    },
    {
      "cell_type": "code",
      "metadata": {
        "colab": {
          "base_uri": "https://localhost:8080/"
        },
        "id": "laLvoRy1yewl",
        "outputId": "d8901178-66de-498a-c999-949f943ef2f7"
      },
      "source": [
        "# Connecting and Mounting to the Google Drive\n",
        "from google.colab import drive\n",
        "drive.mount('/content/drive')"
      ],
      "execution_count": 6,
      "outputs": [
        {
          "output_type": "stream",
          "name": "stdout",
          "text": [
            "Mounted at /content/drive\n"
          ]
        }
      ]
    },
    {
      "cell_type": "code",
      "metadata": {
        "id": "odaoZt9GyfUt"
      },
      "source": [
        "data_dir = '/content/drive/MyDrive/EgyptianHieroglyphDataset_Original_Clean/'"
      ],
      "execution_count": 7,
      "outputs": []
    },
    {
      "cell_type": "code",
      "metadata": {
        "colab": {
          "base_uri": "https://localhost:8080/"
        },
        "id": "dF22MAnmyiC1",
        "outputId": "3c506cc5-7932-4401-c20a-af98ef062770"
      },
      "source": [
        "hieroglyph_for_train = []\n",
        "file_count_list = []\n",
        "\n",
        "for name in os.listdir('/content/drive/MyDrive/EgyptianHieroglyphDataset_Original_Clean/train/'):\n",
        "  path, dirs, files = next(os.walk(\"/content/drive/MyDrive/EgyptianHieroglyphDataset_Original_Clean/train/\"+name))\n",
        "  file_count = len(files)\n",
        "  print(name, file_count)\n",
        "  file_count_list.append(file_count)\n",
        "  hieroglyph_for_train.append(name)\n",
        "\n",
        "hieroglyph_dict = dict(zip(hieroglyph_for_train, file_count_list))"
      ],
      "execution_count": 8,
      "outputs": [
        {
          "output_type": "stream",
          "name": "stdout",
          "text": [
            "Y5 6\n",
            "I9 116\n",
            "O34 15\n",
            "V13 63\n",
            "U7 3\n",
            "D46 40\n",
            "E34 97\n",
            "G1 28\n",
            "V31 106\n",
            "S34 8\n",
            "D36 47\n",
            "Q1 13\n",
            "V30 6\n",
            "F35 2\n",
            "O4 11\n",
            "M23 30\n",
            "S29 212\n",
            "R8 53\n",
            "W11 4\n",
            "X1 185\n",
            "Y1 1\n",
            "D21 146\n",
            "D2 19\n",
            "E23 8\n",
            "X8 4\n",
            "Z1 39\n",
            "D4 29\n",
            "V28 28\n",
            "I10 32\n",
            "O1 16\n",
            "M17 291\n",
            "F31 6\n",
            "G43 157\n",
            "D58 28\n",
            "O49 10\n",
            "G17 156\n",
            "R4 2\n",
            "Q3 61\n",
            "W24 31\n",
            "N35 358\n"
          ]
        }
      ]
    },
    {
      "cell_type": "markdown",
      "metadata": {
        "id": "XeQQ7PjZzKd9"
      },
      "source": [
        "Number of images for each hieroglyph "
      ]
    },
    {
      "cell_type": "code",
      "metadata": {
        "colab": {
          "base_uri": "https://localhost:8080/",
          "height": 609
        },
        "id": "W6IzWR2RyjxM",
        "outputId": "fcf077cd-1f4d-44d7-a427-2645bf904175"
      },
      "source": [
        "import matplotlib.pyplot as plt\n",
        "import pandas as pd\n",
        "\n",
        "df = pd.DataFrame({\"Hieroglyph\":hieroglyph_for_train, \"Count\":file_count_list})\n",
        "\n",
        "df_sorted= df.sort_values('Count',ascending=False)\n",
        "\n",
        "plt.figure(figsize=(20,10))\n",
        "# make bar plot with matplotlib\n",
        "plt.bar('Hieroglyph', 'Count',data=df_sorted)"
      ],
      "execution_count": 9,
      "outputs": [
        {
          "output_type": "execute_result",
          "data": {
            "text/plain": [
              "<BarContainer object of 40 artists>"
            ]
          },
          "metadata": {},
          "execution_count": 9
        },
        {
          "output_type": "display_data",
          "data": {
            "image/png": "[encoded data removed]",
            "text/plain": [
              "<Figure size 1440x720 with 1 Axes>"
            ]
          },
          "metadata": {
            "needs_background": "light"
          }
        }
      ]
    },
    {
      "cell_type": "code",
      "metadata": {
        "id": "-3oOm8rSx7tp"
      },
      "source": [
        "# Number of images processed in a single training\n",
        "batch_size = 20\n",
        "num_workers = 0\n",
        "\n",
        "# The load_data function is from hieroglyph_data_preparation python file\n",
        "train_loader, test_loader, classes = load_data(data_dir)"
      ],
      "execution_count": 10,
      "outputs": []
    },
    {
      "cell_type": "markdown",
      "metadata": {
        "id": "BJm8sGiBx_q5"
      },
      "source": [
        "ResNet Model"
      ]
    },
    {
      "cell_type": "code",
      "metadata": {
        "id": "JkLXVJGkxemC",
        "colab": {
          "base_uri": "https://localhost:8080/"
        },
        "outputId": "f4b1bf6e-54a0-4f01-8096-37b018cb3007"
      },
      "source": [
        "# Whether to extract features with the model\n",
        "feature_extract = False\n",
        "# Other selections\n",
        "loss_function = \"cross-entropy\"\n",
        "model_selection = \"inception-v3\"\n",
        "optim_selection = \"Adam\"\n",
        "\n",
        "# False if you want scratch model, True if you want pretrained model\n",
        "whether_to_pretrain = False\n",
        "\n",
        "# Load the model\n",
        "if model_selection == \"resnet-50\":\n",
        "    resnet50 = models.resnet50(pretrained=whether_to_pretrain)\n",
        "    # Number of features in the last layer of resnet\n",
        "    n_inputs = resnet50.fc.in_features\n",
        "    # Add last linear layer (n_inputs -> 40 hieroglyph classes)\n",
        "    last_layer = nn.Sequential(\n",
        "                    nn.Linear(n_inputs, len(classes)))\n",
        "    resnet50.fc = last_layer\n",
        "    if train_on_gpu:\n",
        "      resnet50.cuda()\n",
        "    # Specify optimizer (Adam) and learning rate = 0.001\n",
        "    if optim_selection == \"Adam\":\n",
        "        optimizer = optim.Adam(resnet50.parameters(), lr=0.001)\n",
        "\n",
        "elif model_selection == \"inception-v3\":\n",
        "    inception_v3 = models.inception_v3(pretrained=whether_to_pretrain)\n",
        "    # Number of features in the last layer of resnet\n",
        "    n_inputs = inception_v3.fc.in_features\n",
        "    # Add last linear layer (n_inputs -> 40 hieroglyph classes)\n",
        "    last_layer = nn.Sequential(\n",
        "                    nn.Linear(n_inputs, len(classes)))\n",
        "    inception_v3.fc = last_layer\n",
        "    if train_on_gpu:\n",
        "      inception_v3.cuda()\n",
        "    # Specify optimizer (Adam) and learning rate = 0.001\n",
        "    if optim_selection == \"Adam\":\n",
        "        optimizer = optim.Adam(inception_v3.parameters(), lr=0.001)\n",
        "\n",
        "\n",
        "# Specify loss function (categorical cross-entropy)\n",
        "if loss_function == \"cross-entropy\":\n",
        "    criterion = nn.CrossEntropyLoss()\n",
        "\n",
        "# Exponential Decay to strengthen learning\n",
        "decayRate = 0.999\n",
        "my_lr_scheduler = torch.optim.lr_scheduler.ExponentialLR(optimizer=optimizer, gamma=decayRate)"
      ],
      "execution_count": 11,
      "outputs": [
        {
          "output_type": "stream",
          "name": "stderr",
          "text": [
            "/usr/local/lib/python3.7/dist-packages/torchvision/models/inception.py:83: FutureWarning: The default weight initialization of inception_v3 will be changed in future releases of torchvision. If you wish to keep the old behavior (which leads to long initialization times due to scipy/scipy#11299), please set init_weights=True.\n",
            "  ' due to scipy/scipy#11299), please set init_weights=True.', FutureWarning)\n"
          ]
        }
      ]
    },
    {
      "cell_type": "markdown",
      "metadata": {
        "id": "U2vnErB1yHmM"
      },
      "source": [
        "Training the model"
      ]
    },
    {
      "cell_type": "code",
      "metadata": {
        "colab": {
          "base_uri": "https://localhost:8080/"
        },
        "id": "dOB03noWyEvQ",
        "outputId": "7254208d-5562-4ad9-f395-07481540193a"
      },
      "source": [
        "# number of epochs to train the model\n",
        "n_epochs = 50\n",
        "\n",
        "if model_selection == \"resnet-50\":\n",
        "  # The train_model function is from model_training python file\n",
        "  resnet50, train_losses = train_model(train_loader, optimizer, resnet50, criterion, my_lr_scheduler, n_epochs)\n",
        "elif model_selection == \"inception-v3\":\n",
        "  # The train_model function is from model_training python file\n",
        "  inception_v3, train_losses = train_model(train_loader, optimizer, inception_v3, criterion, my_lr_scheduler, n_epochs)"
      ],
      "execution_count": 12,
      "outputs": [
        {
          "output_type": "stream",
          "name": "stdout",
          "text": [
            "Epoch 1, Batch 20 loss: 2.9979039311408995\n",
            "Epoch 1, Batch 40 loss: 2.1964544653892517\n",
            "Epoch 1, Batch 60 loss: 1.8940430879592896\n",
            "Epoch 1, Batch 80 loss: 1.6821064591407775\n",
            "Epoch 1, Batch 100 loss: 1.3458652734756469\n",
            "Epoch 1, Batch 120 loss: 1.0415898561477661\n",
            "Epoch 2, Batch 20 loss: 0.8192220270633698\n",
            "Epoch 2, Batch 40 loss: 0.7252293854951859\n",
            "Epoch 2, Batch 60 loss: 0.6368287965655327\n",
            "Epoch 2, Batch 80 loss: 0.5326915219426155\n",
            "Epoch 2, Batch 100 loss: 0.5226840354502201\n",
            "Epoch 2, Batch 120 loss: 0.5475442640483379\n",
            "Epoch 3, Batch 20 loss: 0.4491027522832155\n",
            "Epoch 3, Batch 40 loss: 0.3591311492025852\n",
            "Epoch 3, Batch 60 loss: 0.3974968791007996\n",
            "Epoch 3, Batch 80 loss: 0.3312761381268501\n",
            "Epoch 3, Batch 100 loss: 0.2590435942634940\n",
            "Epoch 3, Batch 120 loss: 0.2546866804361343\n",
            "Epoch 4, Batch 20 loss: 0.1988150157965720\n",
            "Epoch 4, Batch 40 loss: 0.1720928514376283\n",
            "Epoch 4, Batch 60 loss: 0.2608037378638983\n",
            "Epoch 4, Batch 80 loss: 0.1825602341443300\n",
            "Epoch 4, Batch 100 loss: 0.2226401028688997\n",
            "Epoch 4, Batch 120 loss: 0.1726200046949088\n",
            "Epoch 5, Batch 20 loss: 0.1360652075149119\n",
            "Epoch 5, Batch 40 loss: 0.1911941413767636\n",
            "Epoch 5, Batch 60 loss: 0.1752915419172495\n",
            "Epoch 5, Batch 80 loss: 0.0760940054431558\n",
            "Epoch 5, Batch 100 loss: 0.1320025539491326\n",
            "Epoch 5, Batch 120 loss: 0.0954078577924520\n",
            "Epoch 6, Batch 20 loss: 0.1096705028321594\n",
            "Epoch 6, Batch 40 loss: 0.1001755831763148\n",
            "Epoch 6, Batch 60 loss: 0.0608606819994748\n",
            "Epoch 6, Batch 80 loss: 0.0926096716895699\n",
            "Epoch 6, Batch 100 loss: 0.0739495182875544\n",
            "Epoch 6, Batch 120 loss: 0.0954073425382376\n",
            "Epoch 7, Batch 20 loss: 0.1252958429977298\n",
            "Epoch 7, Batch 40 loss: 0.1246822914574295\n",
            "Epoch 7, Batch 60 loss: 0.0617894395953044\n",
            "Epoch 7, Batch 80 loss: 0.0602030977373943\n",
            "Epoch 7, Batch 100 loss: 0.0575593210291117\n",
            "Epoch 7, Batch 120 loss: 0.0562113496940583\n",
            "Epoch 8, Batch 20 loss: 0.0320863124099560\n",
            "Epoch 8, Batch 40 loss: 0.0549718787777238\n",
            "Epoch 8, Batch 60 loss: 0.0622224613325670\n",
            "Epoch 8, Batch 80 loss: 0.0686265109223314\n",
            "Epoch 8, Batch 100 loss: 0.0451392917777412\n",
            "Epoch 8, Batch 120 loss: 0.0299606586515438\n",
            "Epoch 9, Batch 20 loss: 0.0835763293318450\n",
            "Epoch 9, Batch 40 loss: 0.0791442056419328\n",
            "Epoch 9, Batch 60 loss: 0.0348800250096247\n",
            "Epoch 9, Batch 80 loss: 0.0591666616033763\n",
            "Epoch 9, Batch 100 loss: 0.0839988156221807\n",
            "Epoch 9, Batch 120 loss: 0.0727980887750164\n",
            "Epoch 10, Batch 20 loss: 0.0359540884383023\n",
            "Epoch 10, Batch 40 loss: 0.0290794956497848\n",
            "Epoch 10, Batch 60 loss: 0.0250661451253109\n",
            "Epoch 10, Batch 80 loss: 0.0494402141717728\n",
            "Epoch 10, Batch 100 loss: 0.0131383510248270\n",
            "Epoch 10, Batch 120 loss: 0.0332646807248238\n",
            "Epoch 11, Batch 20 loss: 0.0097395652381238\n",
            "Epoch 11, Batch 40 loss: 0.0062914590176661\n",
            "Epoch 11, Batch 60 loss: 0.0079899308388121\n",
            "Epoch 11, Batch 80 loss: 0.0086470345850103\n",
            "Epoch 11, Batch 100 loss: 0.0203435925883241\n",
            "Epoch 11, Batch 120 loss: 0.0129956340999343\n",
            "Epoch 12, Batch 20 loss: 0.0040491953724995\n",
            "Epoch 12, Batch 40 loss: 0.0100276910205139\n",
            "Epoch 12, Batch 60 loss: 0.0106029358226806\n",
            "Epoch 12, Batch 80 loss: 0.0107278082927223\n",
            "Epoch 12, Batch 100 loss: 0.0088115482561989\n",
            "Epoch 12, Batch 120 loss: 0.0094944601063617\n",
            "Epoch 13, Batch 20 loss: 0.0030758482549572\n",
            "Epoch 13, Batch 40 loss: 0.0042677671881393\n",
            "Epoch 13, Batch 60 loss: 0.0036464004821028\n",
            "Epoch 13, Batch 80 loss: 0.0052225160936359\n",
            "Epoch 13, Batch 100 loss: 0.0037716989667388\n",
            "Epoch 13, Batch 120 loss: 0.0036121199431363\n",
            "Epoch 14, Batch 20 loss: 0.0076482409698656\n",
            "Epoch 14, Batch 40 loss: 0.0154996372875758\n",
            "Epoch 14, Batch 60 loss: 0.0105410477437545\n",
            "Epoch 14, Batch 80 loss: 0.0540643741696840\n",
            "Epoch 14, Batch 100 loss: 0.0071891495026648\n",
            "Epoch 14, Batch 120 loss: 0.0074330004601507\n",
            "Epoch 15, Batch 20 loss: 0.0031790587498108\n",
            "Epoch 15, Batch 40 loss: 0.0051551243290305\n",
            "Epoch 15, Batch 60 loss: 0.0034828644886147\n",
            "Epoch 15, Batch 80 loss: 0.0044045953429304\n",
            "Epoch 15, Batch 100 loss: 0.0032495538063813\n",
            "Epoch 15, Batch 120 loss: 0.0057781293755397\n",
            "Epoch 16, Batch 20 loss: 0.0032864869965124\n",
            "Epoch 16, Batch 40 loss: 0.0026675678658648\n",
            "Epoch 16, Batch 60 loss: 0.0062983161973534\n",
            "Epoch 16, Batch 80 loss: 0.0057097405457171\n",
            "Epoch 16, Batch 100 loss: 0.0027872068283614\n",
            "Epoch 16, Batch 120 loss: 0.0016865781057277\n",
            "Epoch 17, Batch 20 loss: 0.0016586178782745\n",
            "Epoch 17, Batch 40 loss: 0.0027556665452721\n",
            "Epoch 17, Batch 60 loss: 0.0031320853129728\n",
            "Epoch 17, Batch 80 loss: 0.0034744179327390\n",
            "Epoch 17, Batch 100 loss: 0.0015759301611979\n",
            "Epoch 17, Batch 120 loss: 0.0027075726204203\n",
            "Epoch 18, Batch 20 loss: 0.0034061682745232\n",
            "Epoch 18, Batch 40 loss: 0.0021111677720910\n",
            "Epoch 18, Batch 60 loss: 0.0080815401423024\n",
            "Epoch 18, Batch 80 loss: 0.0054591580221313\n",
            "Epoch 18, Batch 100 loss: 0.0031537342612864\n",
            "Epoch 18, Batch 120 loss: 0.0025120384263573\n",
            "Epoch 19, Batch 20 loss: 0.0038866407907335\n",
            "Epoch 19, Batch 40 loss: 0.0026079998875502\n",
            "Epoch 19, Batch 60 loss: 0.0032616890224745\n",
            "Epoch 19, Batch 80 loss: 0.0015001357998699\n",
            "Epoch 19, Batch 100 loss: 0.0032325866355677\n",
            "Epoch 19, Batch 120 loss: 0.0033494137111120\n",
            "Epoch 20, Batch 20 loss: 0.0031218086587614\n",
            "Epoch 20, Batch 40 loss: 0.0024735651415540\n",
            "Epoch 20, Batch 60 loss: 0.0015220243265503\n",
            "Epoch 20, Batch 80 loss: 0.0023383830848616\n",
            "Epoch 20, Batch 100 loss: 0.0024132832215400\n",
            "Epoch 20, Batch 120 loss: 0.0024098851601593\n",
            "Epoch 21, Batch 20 loss: 0.0013046302425209\n",
            "Epoch 21, Batch 40 loss: 0.0018796211501467\n",
            "Epoch 21, Batch 60 loss: 0.0018933264247607\n",
            "Epoch 21, Batch 80 loss: 0.0013865231230739\n",
            "Epoch 21, Batch 100 loss: 0.0023424468308804\n",
            "Epoch 21, Batch 120 loss: 0.0011065210463130\n",
            "Epoch 22, Batch 20 loss: 0.0013849199254764\n",
            "Epoch 22, Batch 40 loss: 0.0046693474403583\n",
            "Epoch 22, Batch 60 loss: 0.0012399947823724\n",
            "Epoch 22, Batch 80 loss: 0.0007154585844546\n",
            "Epoch 22, Batch 100 loss: 0.0014075859769946\n",
            "Epoch 22, Batch 120 loss: 0.0011109488732473\n",
            "Epoch 23, Batch 20 loss: 0.0014440745260799\n",
            "Epoch 23, Batch 40 loss: 0.0012714841752313\n",
            "Epoch 23, Batch 60 loss: 0.0008038400585065\n",
            "Epoch 23, Batch 80 loss: 0.0016411693548434\n",
            "Epoch 23, Batch 100 loss: 0.0018044017997454\n",
            "Epoch 23, Batch 120 loss: 0.0011774586273532\n",
            "Epoch 24, Batch 20 loss: 0.0016177821671590\n",
            "Epoch 24, Batch 40 loss: 0.0018597043905174\n",
            "Epoch 24, Batch 60 loss: 0.0010108408241649\n",
            "Epoch 24, Batch 80 loss: 0.0016306743884343\n",
            "Epoch 24, Batch 100 loss: 0.0010750671332062\n",
            "Epoch 24, Batch 120 loss: 0.0014642630281742\n",
            "Epoch 25, Batch 20 loss: 0.0018495812008041\n",
            "Epoch 25, Batch 40 loss: 0.0006565640975168\n",
            "Epoch 25, Batch 60 loss: 0.0008038785083045\n",
            "Epoch 25, Batch 80 loss: 0.0010275495995302\n",
            "Epoch 25, Batch 100 loss: 0.0009723641102028\n",
            "Epoch 25, Batch 120 loss: 0.0011999922742689\n",
            "Epoch 26, Batch 20 loss: 0.0015566453250358\n",
            "Epoch 26, Batch 40 loss: 0.0009420695801964\n",
            "Epoch 26, Batch 60 loss: 0.0012651247234317\n",
            "Epoch 26, Batch 80 loss: 0.0010743358136097\n",
            "Epoch 26, Batch 100 loss: 0.0013483518159774\n",
            "Epoch 26, Batch 120 loss: 0.0012174869239971\n",
            "Epoch 27, Batch 20 loss: 0.0014262697892264\n",
            "Epoch 27, Batch 40 loss: 0.0014484024621197\n",
            "Epoch 27, Batch 60 loss: 0.0009224132161762\n",
            "Epoch 27, Batch 80 loss: 0.0008531115032383\n",
            "Epoch 27, Batch 100 loss: 0.0012038722481520\n",
            "Epoch 27, Batch 120 loss: 0.0016082766756881\n",
            "Epoch 28, Batch 20 loss: 0.0007878821175836\n",
            "Epoch 28, Batch 40 loss: 0.0013736565233557\n",
            "Epoch 28, Batch 60 loss: 0.0009597630734788\n",
            "Epoch 28, Batch 80 loss: 0.0028524648092571\n",
            "Epoch 28, Batch 100 loss: 0.0015709659943241\n",
            "Epoch 28, Batch 120 loss: 0.0011174183135154\n",
            "Epoch 29, Batch 20 loss: 0.0069954474914994\n",
            "Epoch 29, Batch 40 loss: 0.0035551065069740\n",
            "Epoch 29, Batch 60 loss: 0.0013644769147504\n",
            "Epoch 29, Batch 80 loss: 0.0021390165420598\n",
            "Epoch 29, Batch 100 loss: 0.0008369070506888\n",
            "Epoch 29, Batch 120 loss: 0.0010915832106548\n",
            "Epoch 30, Batch 20 loss: 0.0016215537958487\n",
            "Epoch 30, Batch 40 loss: 0.0012624637987756\n",
            "Epoch 30, Batch 60 loss: 0.0017503879600554\n",
            "Epoch 30, Batch 80 loss: 0.0010021003952716\n",
            "Epoch 30, Batch 100 loss: 0.0014218298354535\n",
            "Epoch 30, Batch 120 loss: 0.0014979515821324\n",
            "Epoch 31, Batch 20 loss: 0.0013112884866132\n",
            "Epoch 31, Batch 40 loss: 0.0010543851385592\n",
            "Epoch 31, Batch 60 loss: 0.0016402916895458\n",
            "Epoch 31, Batch 80 loss: 0.0021779221773613\n",
            "Epoch 31, Batch 100 loss: 0.0007583949722175\n",
            "Epoch 31, Batch 120 loss: 0.0011303011888231\n",
            "Epoch 32, Batch 20 loss: 0.0010434429961606\n",
            "Epoch 32, Batch 40 loss: 0.0016967676303466\n",
            "Epoch 32, Batch 60 loss: 0.0014183511819283\n",
            "Epoch 32, Batch 80 loss: 0.0019421823188168\n",
            "Epoch 32, Batch 100 loss: 0.0008272581391793\n",
            "Epoch 32, Batch 120 loss: 0.0014862248703139\n",
            "Epoch 33, Batch 20 loss: 0.0023305806382268\n",
            "Epoch 33, Batch 40 loss: 0.0010656445010682\n",
            "Epoch 33, Batch 60 loss: 0.0015587904657878\n",
            "Epoch 33, Batch 80 loss: 0.0007912308683444\n",
            "Epoch 33, Batch 100 loss: 0.0011956355010625\n",
            "Epoch 33, Batch 120 loss: 0.0016289457395033\n",
            "Epoch 34, Batch 20 loss: 0.0008554333275242\n",
            "Epoch 34, Batch 40 loss: 0.0023504078366386\n",
            "Epoch 34, Batch 60 loss: 0.0018608993676025\n",
            "Epoch 34, Batch 80 loss: 0.0025434807321290\n",
            "Epoch 34, Batch 100 loss: 0.0018422415312671\n",
            "Epoch 34, Batch 120 loss: 0.0010073836572701\n",
            "Epoch 35, Batch 20 loss: 0.0009788398907403\n",
            "Epoch 35, Batch 40 loss: 0.0011847772955662\n",
            "Epoch 35, Batch 60 loss: 0.0011710270358890\n",
            "Epoch 35, Batch 80 loss: 0.0006820713118941\n",
            "Epoch 35, Batch 100 loss: 0.0030429138401814\n",
            "Epoch 35, Batch 120 loss: 0.0011401234209188\n",
            "Epoch 36, Batch 20 loss: 0.0012110771647713\n",
            "Epoch 36, Batch 40 loss: 0.0010236955749860\n",
            "Epoch 36, Batch 60 loss: 0.0011070117347117\n",
            "Epoch 36, Batch 80 loss: 0.0015183336276095\n",
            "Epoch 36, Batch 100 loss: 0.0014621243622969\n",
            "Epoch 36, Batch 120 loss: 0.0016313716772856\n",
            "Epoch 37, Batch 20 loss: 0.0042129241148359\n",
            "Epoch 37, Batch 40 loss: 0.0007740737528366\n",
            "Epoch 37, Batch 60 loss: 0.0009533290183754\n",
            "Epoch 37, Batch 80 loss: 0.0008676816192747\n",
            "Epoch 37, Batch 100 loss: 0.0013165768752515\n",
            "Epoch 37, Batch 120 loss: 0.0008580395795434\n",
            "Epoch 38, Batch 20 loss: 0.0013514262551325\n",
            "Epoch 38, Batch 40 loss: 0.0006043981149560\n",
            "Epoch 38, Batch 60 loss: 0.0010025798153947\n",
            "Epoch 38, Batch 80 loss: 0.0012112068514398\n",
            "Epoch 38, Batch 100 loss: 0.0022541155492945\n",
            "Epoch 38, Batch 120 loss: 0.0008392369985813\n",
            "Epoch 39, Batch 20 loss: 0.0006521565504954\n",
            "Epoch 39, Batch 40 loss: 0.0007797296741046\n",
            "Epoch 39, Batch 60 loss: 0.0010166994194151\n",
            "Epoch 39, Batch 80 loss: 0.0010564394411631\n",
            "Epoch 39, Batch 100 loss: 0.0007881975245255\n",
            "Epoch 39, Batch 120 loss: 0.0014951958219172\n",
            "Epoch 40, Batch 20 loss: 0.0017483113020717\n",
            "Epoch 40, Batch 40 loss: 0.0012988202390261\n",
            "Epoch 40, Batch 60 loss: 0.0009941780364898\n",
            "Epoch 40, Batch 80 loss: 0.0006992077382165\n",
            "Epoch 40, Batch 100 loss: 0.0006577754844329\n",
            "Epoch 40, Batch 120 loss: 0.0010313397215214\n",
            "Epoch 41, Batch 20 loss: 0.0011109273509646\n",
            "Epoch 41, Batch 40 loss: 0.0008090181290754\n",
            "Epoch 41, Batch 60 loss: 0.0006237183763005\n",
            "Epoch 41, Batch 80 loss: 0.0012276475121325\n",
            "Epoch 41, Batch 100 loss: 0.0005934537133726\n",
            "Epoch 41, Batch 120 loss: 0.0008138561417582\n",
            "Epoch 42, Batch 20 loss: 0.0009266992034100\n",
            "Epoch 42, Batch 40 loss: 0.0010329918412026\n",
            "Epoch 42, Batch 60 loss: 0.0019890651812602\n",
            "Epoch 42, Batch 80 loss: 0.0007980251590197\n",
            "Epoch 42, Batch 100 loss: 0.0020132845216722\n",
            "Epoch 42, Batch 120 loss: 0.0007997814627743\n",
            "Epoch 43, Batch 20 loss: 0.0012363019020995\n",
            "Epoch 43, Batch 40 loss: 0.0008060692754952\n",
            "Epoch 43, Batch 60 loss: 0.0012929008371430\n",
            "Epoch 43, Batch 80 loss: 0.0009166681775241\n",
            "Epoch 43, Batch 100 loss: 0.0005094305939565\n",
            "Epoch 43, Batch 120 loss: 0.0007522554202296\n",
            "Epoch 44, Batch 20 loss: 0.0005481626547407\n",
            "Epoch 44, Batch 40 loss: 0.0012102198750654\n",
            "Epoch 44, Batch 60 loss: 0.0007806655994500\n",
            "Epoch 44, Batch 80 loss: 0.0014384602814971\n",
            "Epoch 44, Batch 100 loss: 0.0010313947226678\n",
            "Epoch 44, Batch 120 loss: 0.0009202489134623\n",
            "Epoch 45, Batch 20 loss: 0.0011130226317619\n",
            "Epoch 45, Batch 40 loss: 0.0008746839412197\n",
            "Epoch 45, Batch 60 loss: 0.0013088449013594\n",
            "Epoch 45, Batch 80 loss: 0.0005229979935393\n",
            "Epoch 45, Batch 100 loss: 0.0009514081604721\n",
            "Epoch 45, Batch 120 loss: 0.0010603014572553\n",
            "Epoch 46, Batch 20 loss: 0.0009418728157470\n",
            "Epoch 46, Batch 40 loss: 0.0006218666425411\n",
            "Epoch 46, Batch 60 loss: 0.0007997935252206\n",
            "Epoch 46, Batch 80 loss: 0.0009941961747245\n",
            "Epoch 46, Batch 100 loss: 0.0013016830747802\n",
            "Epoch 46, Batch 120 loss: 0.0006919151870534\n",
            "Epoch 47, Batch 20 loss: 0.0006513900530990\n",
            "Epoch 47, Batch 40 loss: 0.0007895821509010\n",
            "Epoch 47, Batch 60 loss: 0.0012376210492221\n",
            "Epoch 47, Batch 80 loss: 0.0010669765004423\n",
            "Epoch 47, Batch 100 loss: 0.0027887612028280\n",
            "Epoch 47, Batch 120 loss: 0.0005746987626480\n",
            "Epoch 48, Batch 20 loss: 0.0011186892603291\n",
            "Epoch 48, Batch 40 loss: 0.0008195549249649\n",
            "Epoch 48, Batch 60 loss: 0.0011850473762024\n",
            "Epoch 48, Batch 80 loss: 0.0006926037829544\n",
            "Epoch 48, Batch 100 loss: 0.0012284772521525\n",
            "Epoch 48, Batch 120 loss: 0.0009354817149870\n",
            "Epoch 49, Batch 20 loss: 0.0012958795399754\n",
            "Epoch 49, Batch 40 loss: 0.0007489402996725\n",
            "Epoch 49, Batch 60 loss: 0.0008444982828223\n",
            "Epoch 49, Batch 80 loss: 0.0008358233724721\n",
            "Epoch 49, Batch 100 loss: 0.0008374334989639\n",
            "Epoch 49, Batch 120 loss: 0.0007886017818237\n",
            "Epoch 50, Batch 20 loss: 0.0010767047089757\n",
            "Epoch 50, Batch 40 loss: 0.0006198374430824\n",
            "Epoch 50, Batch 60 loss: 0.0011381954842363\n",
            "Epoch 50, Batch 80 loss: 0.0005978139713989\n",
            "Epoch 50, Batch 100 loss: 0.0014940760156605\n",
            "Epoch 50, Batch 120 loss: 0.0006923258355528\n"
          ]
        }
      ]
    },
    {
      "cell_type": "code",
      "metadata": {
        "colab": {
          "base_uri": "https://localhost:8080/",
          "height": 281
        },
        "id": "CfA7ZjLR1BZP",
        "outputId": "874499f8-af3a-47b7-f858-4660a362f3b7"
      },
      "source": [
        "plt.plot(train_losses)\n",
        "plt.title(\"Training Loss\")\n",
        "plt.show()"
      ],
      "execution_count": 13,
      "outputs": [
        {
          "output_type": "display_data",
          "data": {
            "image/png": "[encoded data removed]",
            "text/plain": [
              "<Figure size 432x288 with 1 Axes>"
            ]
          },
          "metadata": {
            "needs_background": "light"
          }
        }
      ]
    },
    {
      "cell_type": "markdown",
      "metadata": {
        "id": "ItLyF9dQyJFL"
      },
      "source": [
        "Testing the model"
      ]
    },
    {
      "cell_type": "code",
      "metadata": {
        "id": "gGki98W3SoEW"
      },
      "source": [
        "from sklearn.metrics import precision_score, recall_score, f1_score, accuracy_score"
      ],
      "execution_count": 14,
      "outputs": []
    },
    {
      "cell_type": "code",
      "metadata": {
        "colab": {
          "base_uri": "https://localhost:8080/"
        },
        "id": "xNavYOynyE6d",
        "outputId": "f355349d-cf21-486c-fcf4-cb2e98fea707"
      },
      "source": [
        "# The test_model function is from model_testing python file\n",
        "test_loss, class_correct, class_total, labels, predictions = test_model(classes, inception_v3, test_loader, criterion)\n",
        "\n",
        "# Test accuracy for each hieroglyph\n",
        "for i in range(len(classes)):\n",
        "    if class_total[i] > 0:\n",
        "        print('Test Accuracy of %5s: %2d%% (%2d/%2d)' % (classes[i], 100 * class_correct[i] / class_total[i], np.sum(class_correct[i]), np.sum(class_total[i])))\n",
        "    else:\n",
        "        print('Test Accuracy of %5s: N/A (no training examples)' % (classes[i]))\n",
        "\n",
        "# Total Test accuracy\n",
        "print(\"\\nAccuracy: {:.3%}\".format(accuracy_score(labels, predictions)))\n",
        "print(\"\\nPrecision: {:.3%}\".format(precision_score(labels, predictions, average = 'weighted')))\n",
        "print(\"\\nRecall: {:.3%}\".format(recall_score(labels, predictions, average = 'weighted')))\n",
        "print(\"\\nF1-score: {:.3%}\".format(f1_score(labels, predictions, average = 'weighted')))"
      ],
      "execution_count": 15,
      "outputs": [
        {
          "output_type": "stream",
          "name": "stdout",
          "text": [
            "Test Loss: 1.854095\n",
            "\n",
            "Test Accuracy of    D2: 100% ( 5/ 5)\n",
            "Test Accuracy of   D21: 41% (15/36)\n",
            "Test Accuracy of   D36: 83% (10/12)\n",
            "Test Accuracy of    D4: 50% ( 4/ 8)\n",
            "Test Accuracy of   D46: 36% ( 4/11)\n",
            "Test Accuracy of   D58: 37% ( 3/ 8)\n",
            "Test Accuracy of   E23:  0% ( 0/ 2)\n",
            "Test Accuracy of   E34: 80% (20/25)\n",
            "Test Accuracy of   F31: 100% ( 2/ 2)\n",
            "Test Accuracy of   F35:  0% ( 0/ 1)\n",
            "Test Accuracy of    G1: 57% ( 4/ 7)\n",
            "Test Accuracy of   G17: 71% (28/39)\n",
            "Test Accuracy of   G43: 70% (28/40)\n",
            "Test Accuracy of   I10: 22% ( 2/ 9)\n",
            "Test Accuracy of    I9: 53% (16/30)\n",
            "Test Accuracy of   M17: 50% (37/73)\n",
            "Test Accuracy of   M23: 75% ( 6/ 8)\n",
            "Test Accuracy of   N35: 70% (63/90)\n",
            "Test Accuracy of    O1: 100% ( 4/ 4)\n",
            "Test Accuracy of   O34:  0% ( 0/ 4)\n",
            "Test Accuracy of    O4: 33% ( 1/ 3)\n",
            "Test Accuracy of   O49: 100% ( 3/ 3)\n",
            "Test Accuracy of    Q1: 25% ( 1/ 4)\n",
            "Test Accuracy of    Q3: 62% (10/16)\n",
            "Test Accuracy of    R4:  0% ( 0/ 1)\n",
            "Test Accuracy of    R8: 85% (12/14)\n",
            "Test Accuracy of   S29: 58% (31/53)\n",
            "Test Accuracy of   S34: 100% ( 2/ 2)\n",
            "Test Accuracy of    U7: 100% ( 1/ 1)\n",
            "Test Accuracy of   V13: 87% (14/16)\n",
            "Test Accuracy of   V28: 87% ( 7/ 8)\n",
            "Test Accuracy of   V30:  0% ( 0/ 2)\n",
            "Test Accuracy of   V31: 62% (17/27)\n",
            "Test Accuracy of   W11:  0% ( 0/ 1)\n",
            "Test Accuracy of   W24: 25% ( 2/ 8)\n",
            "Test Accuracy of    X1: 68% (32/47)\n",
            "Test Accuracy of    X8: 100% ( 1/ 1)\n",
            "Test Accuracy of    Y1:  0% ( 0/ 1)\n",
            "Test Accuracy of    Y5: 50% ( 1/ 2)\n",
            "Test Accuracy of    Z1: 30% ( 3/10)\n",
            "\n",
            "Accuracy: 61.356%\n",
            "\n",
            "Precision: 82.777%\n",
            "\n",
            "Recall: 61.356%\n",
            "\n",
            "F1-score: 67.186%\n"
          ]
        },
        {
          "output_type": "stream",
          "name": "stderr",
          "text": [
            "/usr/local/lib/python3.7/dist-packages/sklearn/metrics/_classification.py:1308: UndefinedMetricWarning: Precision is ill-defined and being set to 0.0 in labels with no predicted samples. Use `zero_division` parameter to control this behavior.\n",
            "  _warn_prf(average, modifier, msg_start, len(result))\n"
          ]
        }
      ]
    }
  ]
}