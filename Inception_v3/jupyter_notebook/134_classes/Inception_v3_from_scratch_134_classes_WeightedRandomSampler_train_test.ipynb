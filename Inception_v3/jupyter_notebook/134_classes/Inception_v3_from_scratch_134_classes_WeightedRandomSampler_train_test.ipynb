{
  "nbformat": 4,
  "nbformat_minor": 0,
  "metadata": {
    "colab": {
      "name": "Egyptian_model_with_Inception_v3_from_scratch_134_classes_WeightedRandomSampler_train_test.ipynb",
      "provenance": [],
      "collapsed_sections": []
    },
    "kernelspec": {
      "name": "python3",
      "display_name": "Python 3"
    },
    "language_info": {
      "name": "python"
    },
    "accelerator": "GPU"
  },
  "cells": [
    {
      "cell_type": "code",
      "metadata": {
        "id": "8iEiGSblxJzW"
      },
      "source": [
        "import os, os.path\n",
        "import torch\n",
        "import numpy as np\n",
        "import torch.nn as nn\n",
        "import torch.optim as optim\n",
        "from pathlib import Path\n",
        "from torchvision import datasets, models, transforms\n",
        "\n",
        "# check if CUDA is available\n",
        "train_on_gpu = torch.cuda.is_available()"
      ],
      "execution_count": 1,
      "outputs": []
    },
    {
      "cell_type": "markdown",
      "metadata": {
        "id": "Jd6KU8VMz6J3"
      },
      "source": [
        "Module: Load_data"
      ]
    },
    {
      "cell_type": "code",
      "metadata": {
        "id": "enB3iLoNDHFm"
      },
      "source": [
        "def get_class_distribution(dataset_obj, idx2class):\n",
        "    count_dict = {k:0 for k,v in dataset_obj.class_to_idx.items()}\n",
        "    \n",
        "    for element in dataset_obj:\n",
        "        y_lbl = element[1]\n",
        "        y_lbl = idx2class[y_lbl]\n",
        "        count_dict[y_lbl] += 1\n",
        "            \n",
        "    return count_dict"
      ],
      "execution_count": 2,
      "outputs": []
    },
    {
      "cell_type": "code",
      "metadata": {
        "id": "8lWX0BW_w_kC"
      },
      "source": [
        "def load_data(hieroglyph_directory_path, batch_size=20, num_workers=0):\n",
        "    train_dir = os.path.join(hieroglyph_directory_path, 'train/')\n",
        "    test_dir = os.path.join(hieroglyph_directory_path, 'test/')\n",
        "\n",
        "    classes = []\n",
        "\n",
        "    for filename in os.listdir(train_dir):\n",
        "        if filename == '.DS_Store':\n",
        "            pass\n",
        "        else:\n",
        "            classes.append(filename)\n",
        "\n",
        "    classes.sort()\n",
        "\n",
        "    # print(\"Our classes:\", classes)\n",
        "    # print(len(classes))\n",
        "\n",
        "    data_transform = transforms.Compose([transforms.ToTensor(),\n",
        "                                            transforms.RandomApply([transforms.RandomHorizontalFlip()]),\n",
        "                                            transforms.RandomRotation(degrees=(-10, 10)),\n",
        "                                            transforms.RandomAffine(degrees=0, translate=(.1, .1)),\n",
        "                                            transforms.RandomApply([transforms.ColorJitter(brightness=(1, 1.2),\n",
        "                                                                                            contrast=(1, 1.5),\n",
        "                                                                                            saturation=(1, 1.5),\n",
        "                                                                                            hue=(0, 0.5))]),\n",
        "                                            transforms.RandomErasing(p=0.5, scale=(0.05, 0.05), ratio=(0.3, 3.3), value=0,\n",
        "                                                                      inplace=False),\n",
        "                                            transforms.Resize((299, 299)),\n",
        "                                            transforms.Normalize((0.5,), (0.5,))])\n",
        "\n",
        "    train_data = datasets.ImageFolder(train_dir, transform=data_transform)\n",
        "    test_data = datasets.ImageFolder(test_dir, transform=data_transform)\n",
        "\n",
        "\n",
        "    # print('Num training images: ', len(train_data))\n",
        "    # print('Num test images: ', len(test_data))\n",
        "\n",
        "\n",
        "    # WeightedRandomSampler for train loader\n",
        "    idx2class = {v: k for k, v in train_data.class_to_idx.items()}\n",
        "\n",
        "    target_list = torch.tensor(train_data.targets)\n",
        "    class_count = [i for i in get_class_distribution(train_data, idx2class).values()]\n",
        "    class_weights = 1./torch.tensor(class_count, dtype=torch.float) \n",
        "    class_weights_all = class_weights[target_list]\n",
        "    weighted_sampler = torch.utils.data.WeightedRandomSampler(weights=class_weights_all, num_samples=len(class_weights_all), replacement=True)\n",
        "\n",
        "    # prepare data loaders\n",
        "    train_loader = torch.utils.data.DataLoader(train_data, batch_size=batch_size,\n",
        "                                               num_workers=num_workers, sampler=weighted_sampler, drop_last=True)\n",
        "    \n",
        "    # WeightedRandomSampler for test loader\n",
        "    idx2class_test = {v: k for k, v in test_data.class_to_idx.items()}\n",
        "\n",
        "    target_list_test = torch.tensor(test_data.targets)\n",
        "    class_count_test = [i for i in get_class_distribution(test_data, idx2class_test).values()]\n",
        "    class_weights_test = 1./torch.tensor(class_count_test, dtype=torch.float) \n",
        "    class_weights_all_test = class_weights_test[target_list_test]\n",
        "    weighted_sampler_test = torch.utils.data.WeightedRandomSampler(weights=class_weights_all_test, num_samples=len(class_weights_all_test), replacement=True)\n",
        "\n",
        "    test_loader = torch.utils.data.DataLoader(test_data, batch_size=batch_size,\n",
        "                                              num_workers=num_workers, sampler=weighted_sampler_test)\n",
        "\n",
        "    return train_loader, test_loader, classes"
      ],
      "execution_count": 3,
      "outputs": []
    },
    {
      "cell_type": "markdown",
      "metadata": {
        "id": "K4sXUrPPz7iF"
      },
      "source": [
        "Module: Train_model"
      ]
    },
    {
      "cell_type": "code",
      "metadata": {
        "id": "N2N_rnKLxN5c"
      },
      "source": [
        "def train_model(train_loader, optimizer, conv_net_model, criterion, my_lr_scheduler, n_epochs):\n",
        "    # track training loss over time\n",
        "    losses = []\n",
        "    \n",
        "    for epoch in range(1, n_epochs + 1):\n",
        "\n",
        "        # keep track of training and validation loss\n",
        "        train_loss = 0.0\n",
        "\n",
        "        # model by default is set to train\n",
        "        for batch_i, (data, target) in enumerate(train_loader):\n",
        "            # move tensors to GPU if CUDA is available\n",
        "            if train_on_gpu:\n",
        "                data, target = data.cuda(), target.cuda()\n",
        "            # clear the gradients of all optimized variables\n",
        "            optimizer.zero_grad()\n",
        "            # forward pass: compute predicted outputs by passing inputs to the model\n",
        "            output = conv_net_model(data)\n",
        "            # calculate the batch loss\n",
        "            loss = criterion(output.logits, target)\n",
        "            # backward pass: compute gradient of the loss with respect to model parameters\n",
        "            loss.backward()\n",
        "            # perform a single optimization step (parameter update)\n",
        "            optimizer.step()\n",
        "            # update training loss\n",
        "            train_loss += loss.item()\n",
        "\n",
        "            my_lr_scheduler.step()\n",
        "\n",
        "            if batch_i % 20 == 19:  # print training loss every specified number of mini-batches\n",
        "                print('Epoch %d, Batch %d loss: %.16f' %\n",
        "                    (epoch, batch_i + 1, train_loss / 20))\n",
        "                losses.append(train_loss / 20)\n",
        "                train_loss = 0.0\n",
        "\n",
        "    return conv_net_model, losses"
      ],
      "execution_count": 4,
      "outputs": []
    },
    {
      "cell_type": "markdown",
      "metadata": {
        "id": "-Rrxo5RDz96U"
      },
      "source": [
        "Module: Test_model"
      ]
    },
    {
      "cell_type": "code",
      "metadata": {
        "id": "Ay-HlMJnxU9v"
      },
      "source": [
        "def test_model(classes, conv_net_model, test_loader, criterion):\n",
        "    # track test loss\n",
        "    test_loss = 0.0\n",
        "    class_correct = list(0. for i in range(len(classes)))\n",
        "    class_total = list(0. for i in range(len(classes)))\n",
        "\n",
        "    conv_net_model.eval()  # eval mode\n",
        "\n",
        "    labels = []\n",
        "    predictions = []\n",
        "    # iterate over test data\n",
        "    for data, target in test_loader:\n",
        "        # move tensors to GPU if CUDA is available\n",
        "        if train_on_gpu:\n",
        "            data, target = data.cuda(), target.cuda()\n",
        "        # forward pass: compute predicted outputs by passing inputs to the model\n",
        "        output = conv_net_model(data)\n",
        "        # calculate the batch loss\n",
        "        loss = criterion(output, target)\n",
        "        # update  test loss\n",
        "        test_loss += loss.item() * data.size(0)\n",
        "        # convert output probabilities to predicted class\n",
        "        _, pred = torch.max(output, 1)\n",
        "        # compare predictions to true label\n",
        "        correct_tensor = pred.eq(target.data.view_as(pred))\n",
        "        correct = np.squeeze(correct_tensor.numpy()) if not train_on_gpu else np.squeeze(correct_tensor.cpu().numpy())\n",
        "        # calculate test accuracy for each object class\n",
        "        for i in range(len(target.data)):\n",
        "            label = target.data[i]\n",
        "            class_correct[label] += correct[i].item()\n",
        "            class_total[label] += 1\n",
        "        \n",
        "        # Will be used for calculating Recall, Precision, and F1-score\n",
        "        labels.extend(target.data.view_as(pred).tolist())\n",
        "        predictions.extend(pred.tolist())\n",
        "\n",
        "\n",
        "    # calculate avg test loss\n",
        "    test_loss = test_loss / len(test_loader.dataset)\n",
        "    print('Test Loss: {:.6f}\\n'.format(test_loss))\n",
        "\n",
        "    return test_loss, class_correct, class_total, labels, predictions"
      ],
      "execution_count": 5,
      "outputs": []
    },
    {
      "cell_type": "markdown",
      "metadata": {
        "id": "xHh3PXE80Asa"
      },
      "source": [
        "Check whether CUDA is available (Change runtime type if not)"
      ]
    },
    {
      "cell_type": "code",
      "metadata": {
        "colab": {
          "base_uri": "https://localhost:8080/"
        },
        "id": "Q9TYPQH7x4zw",
        "outputId": "1b347940-b48b-4095-bfe0-efdc268c3e71"
      },
      "source": [
        "if not train_on_gpu:\n",
        "    print('CUDA is not available.  Training on CPU ...')\n",
        "else:\n",
        "    print('CUDA is available!  Training on GPU ...')"
      ],
      "execution_count": 6,
      "outputs": [
        {
          "output_type": "stream",
          "name": "stdout",
          "text": [
            "CUDA is available!  Training on GPU ...\n"
          ]
        }
      ]
    },
    {
      "cell_type": "markdown",
      "metadata": {
        "id": "6lYw8EKVx8Q7"
      },
      "source": [
        "Load Hieroglyph Data"
      ]
    },
    {
      "cell_type": "code",
      "metadata": {
        "colab": {
          "base_uri": "https://localhost:8080/"
        },
        "id": "laLvoRy1yewl",
        "outputId": "93b6dffc-c20a-4644-eeb9-11b8aa990834"
      },
      "source": [
        "# Connecting and Mounting to the Google Drive\n",
        "from google.colab import drive\n",
        "drive.mount('/content/drive')"
      ],
      "execution_count": 7,
      "outputs": [
        {
          "output_type": "stream",
          "name": "stdout",
          "text": [
            "Drive already mounted at /content/drive; to attempt to forcibly remount, call drive.mount(\"/content/drive\", force_remount=True).\n"
          ]
        }
      ]
    },
    {
      "cell_type": "code",
      "metadata": {
        "id": "odaoZt9GyfUt"
      },
      "source": [
        "data_dir = '/content/drive/MyDrive/EgyptianHieroglyphDataset_134/'"
      ],
      "execution_count": 8,
      "outputs": []
    },
    {
      "cell_type": "code",
      "metadata": {
        "colab": {
          "base_uri": "https://localhost:8080/"
        },
        "id": "dF22MAnmyiC1",
        "outputId": "e3b2e888-4e62-4770-e4ac-74decfca6bd0"
      },
      "source": [
        "hieroglyph_for_train = []\n",
        "file_count_list = []\n",
        "\n",
        "for name in os.listdir('/content/drive/MyDrive/EgyptianHieroglyphDataset_134/train/'):\n",
        "  path, dirs, files = next(os.walk(\"/content/drive/MyDrive/EgyptianHieroglyphDataset_134/train/\"+name))\n",
        "  file_count = len(files)\n",
        "  if file_count == 0:\n",
        "    continue\n",
        "  else:\n",
        "    print(name, file_count)\n",
        "    file_count_list.append(file_count)\n",
        "    hieroglyph_for_train.append(name)\n",
        "\n",
        "hieroglyph_dict = dict(zip(hieroglyph_for_train, file_count_list))"
      ],
      "execution_count": 9,
      "outputs": [
        {
          "output_type": "stream",
          "name": "stdout",
          "text": [
            "Aa15 2\n",
            "Aa26 4\n",
            "Aa27 2\n",
            "Z1 39\n",
            "Z11 8\n",
            "Z7 3\n",
            "Y2 5\n",
            "Y3 2\n",
            "Y5 6\n",
            "E34 97\n",
            "E1 5\n",
            "E23 8\n",
            "E9 8\n",
            "W18 5\n",
            "W24 31\n",
            "W11 4\n",
            "W22 1\n",
            "W19 3\n",
            "W25 9\n",
            "D21 146\n",
            "D4 29\n",
            "D46 40\n",
            "D1 4\n",
            "D36 47\n",
            "D58 28\n",
            "D2 19\n",
            "D35 45\n",
            "D60 4\n",
            "D28 13\n",
            "D10 2\n",
            "D39 1\n",
            "D56 2\n",
            "D19 2\n",
            "D52 4\n",
            "D54 9\n",
            "D156 2\n",
            "X1 185\n",
            "X8 4\n",
            "U15 10\n",
            "U28 2\n",
            "U1 20\n",
            "U33 13\n",
            "U7 3\n",
            "T28 1\n",
            "T22 7\n",
            "T21 2\n",
            "T20 3\n",
            "T30 2\n",
            "V31 106\n",
            "V28 28\n",
            "V13 63\n",
            "V4 10\n",
            "V30 6\n",
            "V7 4\n",
            "V24 4\n",
            "V6 1\n",
            "R8 53\n",
            "R4 2\n",
            "Q3 61\n",
            "Q1 13\n",
            "Q7 2\n",
            "P8 12\n",
            "P6 2\n",
            "P98 4\n",
            "P1 4\n",
            "S29 212\n",
            "S34 8\n",
            "S24 1\n",
            "S28 1\n",
            "O50 84\n",
            "O49 10\n",
            "O28 8\n",
            "O34 15\n",
            "O1 16\n",
            "O31 5\n",
            "O4 11\n",
            "I9 116\n",
            "I10 32\n",
            "G17 156\n",
            "L1 2\n",
            "M17 291\n",
            "M44 5\n",
            "M42 4\n",
            "M1 2\n",
            "M12 2\n",
            "M18 10\n",
            "M195 2\n",
            "M20 2\n",
            "M23 30\n",
            "M41 2\n",
            "M3 3\n",
            "M16 1\n",
            "M8 1\n",
            "M40 2\n",
            "M29 2\n",
            "H6 5\n",
            "N35 358\n",
            "N5 16\n",
            "N1 14\n",
            "N37 24\n",
            "N14 11\n",
            "N31 13\n",
            "N17 6\n",
            "N29 14\n",
            "N18 15\n",
            "N41 2\n",
            "N30 9\n",
            "N25 1\n",
            "N36 1\n",
            "F13 6\n",
            "F16 5\n",
            "F35 2\n",
            "F34 8\n",
            "F31 6\n",
            "F4 3\n",
            "F40 1\n",
            "F18 4\n",
            "F9 2\n",
            "F26 3\n",
            "G39 16\n",
            "G43 157\n",
            "G5 24\n",
            "G40 6\n",
            "G7 8\n",
            "G35 30\n",
            "G1 28\n",
            "G21 1\n",
            "G25 21\n",
            "G36 7\n",
            "G4 6\n",
            "G14 1\n",
            "G26 1\n",
            "G29 2\n",
            "G37 2\n"
          ]
        }
      ]
    },
    {
      "cell_type": "markdown",
      "metadata": {
        "id": "XeQQ7PjZzKd9"
      },
      "source": [
        "Number of images for each hieroglyph "
      ]
    },
    {
      "cell_type": "code",
      "metadata": {
        "colab": {
          "base_uri": "https://localhost:8080/",
          "height": 169
        },
        "id": "W6IzWR2RyjxM",
        "outputId": "858f0769-5a69-443a-aca7-143c52bdfe15"
      },
      "source": [
        "import matplotlib.pyplot as plt\n",
        "import pandas as pd\n",
        "\n",
        "df = pd.DataFrame({\"Hieroglyph\":hieroglyph_for_train, \"Count\":file_count_list})\n",
        "\n",
        "df_sorted= df.sort_values('Count',ascending=False)\n",
        "\n",
        "plt.figure(figsize=(100,10))\n",
        "# make bar plot with matplotlib\n",
        "plt.bar('Hieroglyph', 'Count',data=df_sorted)"
      ],
      "execution_count": 10,
      "outputs": [
        {
          "output_type": "execute_result",
          "data": {
            "text/plain": [
              "<BarContainer object of 134 artists>"
            ]
          },
          "metadata": {},
          "execution_count": 10
        },
        {
          "output_type": "display_data",
          "data": {
            "image/png": "[encoded data removed]",
            "text/plain": [
              "<Figure size 7200x720 with 1 Axes>"
            ]
          },
          "metadata": {
            "needs_background": "light"
          }
        }
      ]
    },
    {
      "cell_type": "code",
      "metadata": {
        "colab": {
          "base_uri": "https://localhost:8080/"
        },
        "id": "xj7nMcJg2fsH",
        "outputId": "03d45661-d137-4641-bde0-022b7f7250e7"
      },
      "source": [
        "print(len(hieroglyph_for_train))"
      ],
      "execution_count": 11,
      "outputs": [
        {
          "output_type": "stream",
          "name": "stdout",
          "text": [
            "134\n"
          ]
        }
      ]
    },
    {
      "cell_type": "code",
      "metadata": {
        "colab": {
          "base_uri": "https://localhost:8080/"
        },
        "id": "hGXpsABT4sac",
        "outputId": "66b9e993-0c77-4647-f146-e93936a8f62e"
      },
      "source": [
        "print(hieroglyph_for_train)"
      ],
      "execution_count": 12,
      "outputs": [
        {
          "output_type": "stream",
          "name": "stdout",
          "text": [
            "['Aa15', 'Aa26', 'Aa27', 'Z1', 'Z11', 'Z7', 'Y2', 'Y3', 'Y5', 'E34', 'E1', 'E23', 'E9', 'W18', 'W24', 'W11', 'W22', 'W19', 'W25', 'D21', 'D4', 'D46', 'D1', 'D36', 'D58', 'D2', 'D35', 'D60', 'D28', 'D10', 'D39', 'D56', 'D19', 'D52', 'D54', 'D156', 'X1', 'X8', 'U15', 'U28', 'U1', 'U33', 'U7', 'T28', 'T22', 'T21', 'T20', 'T30', 'V31', 'V28', 'V13', 'V4', 'V30', 'V7', 'V24', 'V6', 'R8', 'R4', 'Q3', 'Q1', 'Q7', 'P8', 'P6', 'P98', 'P1', 'S29', 'S34', 'S24', 'S28', 'O50', 'O49', 'O28', 'O34', 'O1', 'O31', 'O4', 'I9', 'I10', 'G17', 'L1', 'M17', 'M44', 'M42', 'M1', 'M12', 'M18', 'M195', 'M20', 'M23', 'M41', 'M3', 'M16', 'M8', 'M40', 'M29', 'H6', 'N35', 'N5', 'N1', 'N37', 'N14', 'N31', 'N17', 'N29', 'N18', 'N41', 'N30', 'N25', 'N36', 'F13', 'F16', 'F35', 'F34', 'F31', 'F4', 'F40', 'F18', 'F9', 'F26', 'G39', 'G43', 'G5', 'G40', 'G7', 'G35', 'G1', 'G21', 'G25', 'G36', 'G4', 'G14', 'G26', 'G29', 'G37']\n"
          ]
        }
      ]
    },
    {
      "cell_type": "code",
      "metadata": {
        "id": "-3oOm8rSx7tp"
      },
      "source": [
        "# Number of images processed in a single training\n",
        "batch_size = 20\n",
        "num_workers = 0\n",
        "\n",
        "# The load_data function is from hieroglyph_data_preparation python file\n",
        "train_loader, test_loader, classes = load_data(data_dir)"
      ],
      "execution_count": 13,
      "outputs": []
    },
    {
      "cell_type": "markdown",
      "metadata": {
        "id": "BJm8sGiBx_q5"
      },
      "source": [
        "Inception-v3 Model"
      ]
    },
    {
      "cell_type": "code",
      "metadata": {
        "id": "dhoPdBITy6kP"
      },
      "source": [
        "import torch\n",
        "import torch.nn as nn\n",
        "import torch.nn.functional as F\n",
        "from torch.autograd import Variable\n",
        "\n",
        "class FocalLoss(nn.Module):\n",
        "    def __init__(self, gamma=0, alpha=None, size_average=True):\n",
        "        super(FocalLoss, self).__init__()\n",
        "        self.gamma = gamma\n",
        "        self.alpha = alpha\n",
        "        if isinstance(alpha,(float,int)): self.alpha = torch.Tensor([alpha,1-alpha])\n",
        "        if isinstance(alpha,list): self.alpha = torch.Tensor(alpha)\n",
        "        self.size_average = size_average\n",
        "\n",
        "    def forward(self, input, target):\n",
        "        if input.dim()>2:\n",
        "            input = input.view(input.size(0),input.size(1),-1)  # N,C,H,W => N,C,H*W\n",
        "            input = input.transpose(1,2)    # N,C,H*W => N,H*W,C\n",
        "            input = input.contiguous().view(-1,input.size(2))   # N,H*W,C => N*H*W,C\n",
        "        target = target.view(-1,1)\n",
        "\n",
        "        logpt = torch.nn.functional.log_softmax(input, -1)\n",
        "        logpt = logpt.gather(1,target)\n",
        "        logpt = logpt.view(-1)\n",
        "        pt = Variable(logpt.data.exp())\n",
        "\n",
        "        if self.alpha is not None:\n",
        "            if self.alpha.type()!=input.data.type():\n",
        "                self.alpha = self.alpha.type_as(input.data)\n",
        "            at = self.alpha.gather(0,target.data.view(-1))\n",
        "            logpt = logpt * Variable(at)\n",
        "\n",
        "        loss = -1 * (1-pt)**self.gamma * logpt\n",
        "        if self.size_average: return loss.mean()\n",
        "        else: return loss.sum()"
      ],
      "execution_count": 14,
      "outputs": []
    },
    {
      "cell_type": "code",
      "metadata": {
        "id": "JkLXVJGkxemC",
        "colab": {
          "base_uri": "https://localhost:8080/"
        },
        "outputId": "793ab66d-8e23-47a3-d40c-7bb7777d7032"
      },
      "source": [
        "# Whether to extract features with the model\n",
        "feature_extract = False\n",
        "# Other selections\n",
        "loss_function = \"cross-entropy\"\n",
        "model_selection = \"inception-v3\"\n",
        "optim_selection = \"Adam\"\n",
        "\n",
        "# False if you want scratch model, True if you want pretrained model\n",
        "whether_to_pretrain = False\n",
        "\n",
        "# Load the model\n",
        "if model_selection == \"resnet-50\":\n",
        "    resnet50 = models.resnet50(pretrained=whether_to_pretrain)\n",
        "    # Number of features in the last layer of resnet\n",
        "    n_inputs = resnet50.fc.in_features\n",
        "    # Add last linear layer (n_inputs -> 40 hieroglyph classes)\n",
        "    last_layer = nn.Sequential(\n",
        "                    nn.Linear(n_inputs, len(classes)))\n",
        "    resnet50.fc = last_layer\n",
        "    if train_on_gpu:\n",
        "      resnet50.cuda()\n",
        "    # Specify optimizer (Adam) and learning rate = 0.001\n",
        "    if optim_selection == \"Adam\":\n",
        "        optimizer = optim.Adam(resnet50.parameters(), lr=0.001)\n",
        "\n",
        "elif model_selection == \"inception-v3\":\n",
        "    inception_v3 = models.inception_v3(pretrained=whether_to_pretrain)\n",
        "    # Number of features in the last layer of resnet\n",
        "    n_inputs = inception_v3.fc.in_features\n",
        "    # Add last linear layer (n_inputs -> 40 hieroglyph classes)\n",
        "    last_layer = nn.Sequential(\n",
        "                    nn.Linear(n_inputs, len(classes)))\n",
        "    inception_v3.fc = last_layer\n",
        "    if train_on_gpu:\n",
        "      inception_v3.cuda()\n",
        "    # Specify optimizer (Adam) and learning rate = 0.001\n",
        "    if optim_selection == \"Adam\":\n",
        "        optimizer = optim.Adam(inception_v3.parameters(), lr=0.001)\n",
        "\n",
        "\n",
        "# Specify loss function (categorical cross-entropy)\n",
        "if loss_function == \"cross-entropy\":\n",
        "    criterion = nn.CrossEntropyLoss()\n",
        "elif loss_function == \"focal-loss\":\n",
        "    criterion = FocalLoss(gamma=0)\n",
        "\n",
        "# Exponential Decay to strengthen learning\n",
        "decayRate = 0.999\n",
        "my_lr_scheduler = torch.optim.lr_scheduler.ExponentialLR(optimizer=optimizer, gamma=decayRate)"
      ],
      "execution_count": 15,
      "outputs": [
        {
          "output_type": "stream",
          "name": "stderr",
          "text": [
            "/usr/local/lib/python3.7/dist-packages/torchvision/models/inception.py:83: FutureWarning: The default weight initialization of inception_v3 will be changed in future releases of torchvision. If you wish to keep the old behavior (which leads to long initialization times due to scipy/scipy#11299), please set init_weights=True.\n",
            "  ' due to scipy/scipy#11299), please set init_weights=True.', FutureWarning)\n"
          ]
        }
      ]
    },
    {
      "cell_type": "markdown",
      "metadata": {
        "id": "U2vnErB1yHmM"
      },
      "source": [
        "Training the model"
      ]
    },
    {
      "cell_type": "code",
      "metadata": {
        "colab": {
          "base_uri": "https://localhost:8080/"
        },
        "id": "dOB03noWyEvQ",
        "outputId": "369af18e-4d5c-4ec0-de03-d206cd067f80"
      },
      "source": [
        "# number of epochs to train the model\n",
        "n_epochs = 50\n",
        "\n",
        "if model_selection == \"resnet-50\":\n",
        "  # The train_model function is from model_training python file\n",
        "  resnet50, train_losses = train_model(train_loader, optimizer, resnet50, criterion, my_lr_scheduler, n_epochs)\n",
        "elif model_selection == \"inception-v3\":\n",
        "  # The train_model function is from model_training python file\n",
        "  inception_v3, train_losses = train_model(train_loader, optimizer, inception_v3, criterion, my_lr_scheduler, n_epochs)"
      ],
      "execution_count": 16,
      "outputs": [
        {
          "output_type": "stream",
          "name": "stdout",
          "text": [
            "Epoch 1, Batch 20 loss: 5.6506399154663089\n",
            "Epoch 1, Batch 40 loss: 5.2466676712036131\n",
            "Epoch 1, Batch 60 loss: 5.0096868753433226\n",
            "Epoch 1, Batch 80 loss: 4.9551847696304323\n",
            "Epoch 1, Batch 100 loss: 4.8240584135055542\n",
            "Epoch 1, Batch 120 loss: 4.6560475826263428\n",
            "Epoch 1, Batch 140 loss: 4.4875853061676025\n",
            "Epoch 2, Batch 20 loss: 4.2012892842292784\n",
            "Epoch 2, Batch 40 loss: 4.0723531603813168\n",
            "Epoch 2, Batch 60 loss: 3.8522953510284426\n",
            "Epoch 2, Batch 80 loss: 3.7620013117790223\n",
            "Epoch 2, Batch 100 loss: 3.6542630553245545\n",
            "Epoch 2, Batch 120 loss: 3.5224656939506529\n",
            "Epoch 2, Batch 140 loss: 3.4179273009300233\n",
            "Epoch 3, Batch 20 loss: 3.0996207952499391\n",
            "Epoch 3, Batch 40 loss: 3.1428140044212340\n",
            "Epoch 3, Batch 60 loss: 3.0748135805130006\n",
            "Epoch 3, Batch 80 loss: 2.8290295362472535\n",
            "Epoch 3, Batch 100 loss: 2.6106386423110961\n",
            "Epoch 3, Batch 120 loss: 2.4665161371231079\n",
            "Epoch 3, Batch 140 loss: 2.4714869439601896\n",
            "Epoch 4, Batch 20 loss: 2.3871259093284607\n",
            "Epoch 4, Batch 40 loss: 2.1823557019233704\n",
            "Epoch 4, Batch 60 loss: 2.0148648798465727\n",
            "Epoch 4, Batch 80 loss: 2.0652119100093840\n",
            "Epoch 4, Batch 100 loss: 1.8171698927879334\n",
            "Epoch 4, Batch 120 loss: 1.8093895971775056\n",
            "Epoch 4, Batch 140 loss: 1.7010787010192872\n",
            "Epoch 5, Batch 20 loss: 1.6745783627033233\n",
            "Epoch 5, Batch 40 loss: 1.5893609195947647\n",
            "Epoch 5, Batch 60 loss: 1.4544707298278809\n",
            "Epoch 5, Batch 80 loss: 1.3630623161792754\n",
            "Epoch 5, Batch 100 loss: 1.2833633273839951\n",
            "Epoch 5, Batch 120 loss: 1.2799845546483994\n",
            "Epoch 5, Batch 140 loss: 1.3233130782842637\n",
            "Epoch 6, Batch 20 loss: 1.0442387133836746\n",
            "Epoch 6, Batch 40 loss: 1.1333564877510072\n",
            "Epoch 6, Batch 60 loss: 1.1119277656078339\n",
            "Epoch 6, Batch 80 loss: 1.0228659242391587\n",
            "Epoch 6, Batch 100 loss: 1.0328254908323289\n",
            "Epoch 6, Batch 120 loss: 0.9975612789392472\n",
            "Epoch 6, Batch 140 loss: 1.0941433459520340\n",
            "Epoch 7, Batch 20 loss: 0.8714618965983391\n",
            "Epoch 7, Batch 40 loss: 0.7940884307026863\n",
            "Epoch 7, Batch 60 loss: 0.9075639232993126\n",
            "Epoch 7, Batch 80 loss: 0.7992832720279693\n",
            "Epoch 7, Batch 100 loss: 0.8239758238196373\n",
            "Epoch 7, Batch 120 loss: 0.6091897308826446\n",
            "Epoch 7, Batch 140 loss: 0.7022100582718849\n",
            "Epoch 8, Batch 20 loss: 0.7538230270147324\n",
            "Epoch 8, Batch 40 loss: 0.7292250260710716\n",
            "Epoch 8, Batch 60 loss: 0.6084051802754402\n",
            "Epoch 8, Batch 80 loss: 0.5117981687188149\n",
            "Epoch 8, Batch 100 loss: 0.5670300692319870\n",
            "Epoch 8, Batch 120 loss: 0.5197252526879310\n",
            "Epoch 8, Batch 140 loss: 0.5123824492096901\n",
            "Epoch 9, Batch 20 loss: 0.5365834072232246\n",
            "Epoch 9, Batch 40 loss: 0.5317322768270969\n",
            "Epoch 9, Batch 60 loss: 0.5183108612895012\n",
            "Epoch 9, Batch 80 loss: 0.4776122242212296\n",
            "Epoch 9, Batch 100 loss: 0.4431362487375736\n",
            "Epoch 9, Batch 120 loss: 0.5674650780856609\n",
            "Epoch 9, Batch 140 loss: 0.3776269346475601\n",
            "Epoch 10, Batch 20 loss: 0.4429634988307953\n",
            "Epoch 10, Batch 40 loss: 0.4618992567062378\n",
            "Epoch 10, Batch 60 loss: 0.3929444871842861\n",
            "Epoch 10, Batch 80 loss: 0.4153560489416123\n",
            "Epoch 10, Batch 100 loss: 0.3972268499433994\n",
            "Epoch 10, Batch 120 loss: 0.3920378036797046\n",
            "Epoch 10, Batch 140 loss: 0.3847114399075508\n",
            "Epoch 11, Batch 20 loss: 0.4180720504373312\n",
            "Epoch 11, Batch 40 loss: 0.4382262676954269\n",
            "Epoch 11, Batch 60 loss: 0.3959553774446249\n",
            "Epoch 11, Batch 80 loss: 0.3330297306180000\n",
            "Epoch 11, Batch 100 loss: 0.3446649767458439\n",
            "Epoch 11, Batch 120 loss: 0.4291203960776329\n",
            "Epoch 11, Batch 140 loss: 0.3939440131187439\n",
            "Epoch 12, Batch 20 loss: 0.3248151093721390\n",
            "Epoch 12, Batch 40 loss: 0.3085408296436071\n",
            "Epoch 12, Batch 60 loss: 0.2870350550860167\n",
            "Epoch 12, Batch 80 loss: 0.3434197664260864\n",
            "Epoch 12, Batch 100 loss: 0.2996129766106606\n",
            "Epoch 12, Batch 120 loss: 0.3477742142975330\n",
            "Epoch 12, Batch 140 loss: 0.2591863207519055\n",
            "Epoch 13, Batch 20 loss: 0.2925977092236280\n",
            "Epoch 13, Batch 40 loss: 0.2807621479034424\n",
            "Epoch 13, Batch 60 loss: 0.2630876557901501\n",
            "Epoch 13, Batch 80 loss: 0.2855064919218421\n",
            "Epoch 13, Batch 100 loss: 0.2589473418891430\n",
            "Epoch 13, Batch 120 loss: 0.2887971233576536\n",
            "Epoch 13, Batch 140 loss: 0.2646287951618433\n",
            "Epoch 14, Batch 20 loss: 0.2471524514257908\n",
            "Epoch 14, Batch 40 loss: 0.2645863033831120\n",
            "Epoch 14, Batch 60 loss: 0.2649036657065153\n",
            "Epoch 14, Batch 80 loss: 0.1918863194063306\n",
            "Epoch 14, Batch 100 loss: 0.2050236344337463\n",
            "Epoch 14, Batch 120 loss: 0.2414306327700615\n",
            "Epoch 14, Batch 140 loss: 0.2329515516757965\n",
            "Epoch 15, Batch 20 loss: 0.2218405108898878\n",
            "Epoch 15, Batch 40 loss: 0.2105765150859952\n",
            "Epoch 15, Batch 60 loss: 0.2572018958628178\n",
            "Epoch 15, Batch 80 loss: 0.2073909852653742\n",
            "Epoch 15, Batch 100 loss: 0.2333651341497898\n",
            "Epoch 15, Batch 120 loss: 0.2140336167067289\n",
            "Epoch 15, Batch 140 loss: 0.1882405642420054\n",
            "Epoch 16, Batch 20 loss: 0.1985694162547588\n",
            "Epoch 16, Batch 40 loss: 0.1960903208702803\n",
            "Epoch 16, Batch 60 loss: 0.1826726711355150\n",
            "Epoch 16, Batch 80 loss: 0.1945993747562170\n",
            "Epoch 16, Batch 100 loss: 0.2424923930317164\n",
            "Epoch 16, Batch 120 loss: 0.1714173583313823\n",
            "Epoch 16, Batch 140 loss: 0.1975740501657128\n",
            "Epoch 17, Batch 20 loss: 0.2016431368887424\n",
            "Epoch 17, Batch 40 loss: 0.1606257284991443\n",
            "Epoch 17, Batch 60 loss: 0.1934495612047613\n",
            "Epoch 17, Batch 80 loss: 0.1568898339755833\n",
            "Epoch 17, Batch 100 loss: 0.1706792620941996\n",
            "Epoch 17, Batch 120 loss: 0.1385452607646585\n",
            "Epoch 17, Batch 140 loss: 0.1941381934098899\n",
            "Epoch 18, Batch 20 loss: 0.1738141726702452\n",
            "Epoch 18, Batch 40 loss: 0.1756666656583548\n",
            "Epoch 18, Batch 60 loss: 0.1793258020654321\n",
            "Epoch 18, Batch 80 loss: 0.1739058208651841\n",
            "Epoch 18, Batch 100 loss: 0.2299839546903968\n",
            "Epoch 18, Batch 120 loss: 0.1914412591606379\n",
            "Epoch 18, Batch 140 loss: 0.1852088101208210\n",
            "Epoch 19, Batch 20 loss: 0.1344011314213276\n",
            "Epoch 19, Batch 40 loss: 0.1422895194962621\n",
            "Epoch 19, Batch 60 loss: 0.1528785580769181\n",
            "Epoch 19, Batch 80 loss: 0.1717354893684387\n",
            "Epoch 19, Batch 100 loss: 0.1446320034563541\n",
            "Epoch 19, Batch 120 loss: 0.1281459346413612\n",
            "Epoch 19, Batch 140 loss: 0.1533874488435686\n",
            "Epoch 20, Batch 20 loss: 0.1229927076026797\n",
            "Epoch 20, Batch 40 loss: 0.1761949008330703\n",
            "Epoch 20, Batch 60 loss: 0.1620006111450493\n",
            "Epoch 20, Batch 80 loss: 0.1110892437398434\n",
            "Epoch 20, Batch 100 loss: 0.1157149511389434\n",
            "Epoch 20, Batch 120 loss: 0.1726247774437070\n",
            "Epoch 20, Batch 140 loss: 0.1681881607510149\n",
            "Epoch 21, Batch 20 loss: 0.1333508333191276\n",
            "Epoch 21, Batch 40 loss: 0.1495955212041736\n",
            "Epoch 21, Batch 60 loss: 0.1129778686910868\n",
            "Epoch 21, Batch 80 loss: 0.1501230081543326\n",
            "Epoch 21, Batch 100 loss: 0.1472876654937863\n",
            "Epoch 21, Batch 120 loss: 0.1357828542590141\n",
            "Epoch 21, Batch 140 loss: 0.1480335913598538\n",
            "Epoch 22, Batch 20 loss: 0.1111136008054018\n",
            "Epoch 22, Batch 40 loss: 0.1336168306879699\n",
            "Epoch 22, Batch 60 loss: 0.1267514741048217\n",
            "Epoch 22, Batch 80 loss: 0.1289441891014576\n",
            "Epoch 22, Batch 100 loss: 0.1267605012282729\n",
            "Epoch 22, Batch 120 loss: 0.1260795267298818\n",
            "Epoch 22, Batch 140 loss: 0.1262817932292819\n",
            "Epoch 23, Batch 20 loss: 0.1294661593623459\n",
            "Epoch 23, Batch 40 loss: 0.0923688597045839\n",
            "Epoch 23, Batch 60 loss: 0.1384266134351492\n",
            "Epoch 23, Batch 80 loss: 0.1366516219452024\n",
            "Epoch 23, Batch 100 loss: 0.1360455009154976\n",
            "Epoch 23, Batch 120 loss: 0.1159792358055711\n",
            "Epoch 23, Batch 140 loss: 0.1579118406400085\n",
            "Epoch 24, Batch 20 loss: 0.1224741796031594\n",
            "Epoch 24, Batch 40 loss: 0.1379667827859521\n",
            "Epoch 24, Batch 60 loss: 0.1072095258161426\n",
            "Epoch 24, Batch 80 loss: 0.1378105496987700\n",
            "Epoch 24, Batch 100 loss: 0.1062596915289760\n",
            "Epoch 24, Batch 120 loss: 0.1277927237562835\n",
            "Epoch 24, Batch 140 loss: 0.0941164979711175\n",
            "Epoch 25, Batch 20 loss: 0.1070351662114263\n",
            "Epoch 25, Batch 40 loss: 0.1057660924270749\n",
            "Epoch 25, Batch 60 loss: 0.1069935931824148\n",
            "Epoch 25, Batch 80 loss: 0.1042386129498482\n",
            "Epoch 25, Batch 100 loss: 0.1226913394406438\n",
            "Epoch 25, Batch 120 loss: 0.1512440180405974\n",
            "Epoch 25, Batch 140 loss: 0.1033388420008123\n",
            "Epoch 26, Batch 20 loss: 0.1250723049044609\n",
            "Epoch 26, Batch 40 loss: 0.1090685419738293\n",
            "Epoch 26, Batch 60 loss: 0.1208764716051519\n",
            "Epoch 26, Batch 80 loss: 0.1140714094042778\n",
            "Epoch 26, Batch 100 loss: 0.0769873378798366\n",
            "Epoch 26, Batch 120 loss: 0.1334862222895026\n",
            "Epoch 26, Batch 140 loss: 0.0951809079386294\n",
            "Epoch 27, Batch 20 loss: 0.1134661627002060\n",
            "Epoch 27, Batch 40 loss: 0.1733538873493671\n",
            "Epoch 27, Batch 60 loss: 0.0794908942189068\n",
            "Epoch 27, Batch 80 loss: 0.0920636595226824\n",
            "Epoch 27, Batch 100 loss: 0.1286449083127081\n",
            "Epoch 27, Batch 120 loss: 0.1018340865150094\n",
            "Epoch 27, Batch 140 loss: 0.1393613023683429\n",
            "Epoch 28, Batch 20 loss: 0.1361113684251904\n",
            "Epoch 28, Batch 40 loss: 0.0860336378216743\n",
            "Epoch 28, Batch 60 loss: 0.0783064502291381\n",
            "Epoch 28, Batch 80 loss: 0.1057124970946461\n",
            "Epoch 28, Batch 100 loss: 0.0999460676684976\n",
            "Epoch 28, Batch 120 loss: 0.1207734532654285\n",
            "Epoch 28, Batch 140 loss: 0.1117384138517082\n",
            "Epoch 29, Batch 20 loss: 0.1232991275377572\n",
            "Epoch 29, Batch 40 loss: 0.0697043483145535\n",
            "Epoch 29, Batch 60 loss: 0.1003240060992539\n",
            "Epoch 29, Batch 80 loss: 0.1202412930317223\n",
            "Epoch 29, Batch 100 loss: 0.0936706291511655\n",
            "Epoch 29, Batch 120 loss: 0.0973380347248167\n",
            "Epoch 29, Batch 140 loss: 0.0804271453060210\n",
            "Epoch 30, Batch 20 loss: 0.0977866184897721\n",
            "Epoch 30, Batch 40 loss: 0.0878672454506159\n",
            "Epoch 30, Batch 60 loss: 0.1347440050914884\n",
            "Epoch 30, Batch 80 loss: 0.0887931231409311\n",
            "Epoch 30, Batch 100 loss: 0.1531100021675229\n",
            "Epoch 30, Batch 120 loss: 0.0910487543791532\n",
            "Epoch 30, Batch 140 loss: 0.0795858880504966\n",
            "Epoch 31, Batch 20 loss: 0.0810705495998263\n",
            "Epoch 31, Batch 40 loss: 0.1039619107265025\n",
            "Epoch 31, Batch 60 loss: 0.1081669840030372\n",
            "Epoch 31, Batch 80 loss: 0.0866274078609422\n",
            "Epoch 31, Batch 100 loss: 0.0982734035700560\n",
            "Epoch 31, Batch 120 loss: 0.1036461369134486\n",
            "Epoch 31, Batch 140 loss: 0.0942172711715102\n",
            "Epoch 32, Batch 20 loss: 0.0717296964954585\n",
            "Epoch 32, Batch 40 loss: 0.0854265601374209\n",
            "Epoch 32, Batch 60 loss: 0.1328041695058346\n",
            "Epoch 32, Batch 80 loss: 0.0981847046874464\n",
            "Epoch 32, Batch 100 loss: 0.1071917274035513\n",
            "Epoch 32, Batch 120 loss: 0.1122922075912356\n",
            "Epoch 32, Batch 140 loss: 0.0984127192758024\n",
            "Epoch 33, Batch 20 loss: 0.0814569175243378\n",
            "Epoch 33, Batch 40 loss: 0.1111198136117309\n",
            "Epoch 33, Batch 60 loss: 0.0871331363916397\n",
            "Epoch 33, Batch 80 loss: 0.0892152377404273\n",
            "Epoch 33, Batch 100 loss: 0.0988684700801969\n",
            "Epoch 33, Batch 120 loss: 0.0701121045276523\n",
            "Epoch 33, Batch 140 loss: 0.0738510982133448\n",
            "Epoch 34, Batch 20 loss: 0.0742530454881489\n",
            "Epoch 34, Batch 40 loss: 0.0753575289621949\n",
            "Epoch 34, Batch 60 loss: 0.1054213414900005\n",
            "Epoch 34, Batch 80 loss: 0.0810471234843135\n",
            "Epoch 34, Batch 100 loss: 0.0895858359057456\n",
            "Epoch 34, Batch 120 loss: 0.0833791190758348\n",
            "Epoch 34, Batch 140 loss: 0.0937687493395060\n",
            "Epoch 35, Batch 20 loss: 0.0798902350477874\n",
            "Epoch 35, Batch 40 loss: 0.0612150912173092\n",
            "Epoch 35, Batch 60 loss: 0.0906571885570884\n",
            "Epoch 35, Batch 80 loss: 0.0969519855454564\n",
            "Epoch 35, Batch 100 loss: 0.0988564264029264\n",
            "Epoch 35, Batch 120 loss: 0.0958342085592449\n",
            "Epoch 35, Batch 140 loss: 0.0712584689725190\n",
            "Epoch 36, Batch 20 loss: 0.0881258264183998\n",
            "Epoch 36, Batch 40 loss: 0.0752718603704125\n",
            "Epoch 36, Batch 60 loss: 0.0814514615572989\n",
            "Epoch 36, Batch 80 loss: 0.0795511425472796\n",
            "Epoch 36, Batch 100 loss: 0.1022445905022323\n",
            "Epoch 36, Batch 120 loss: 0.1058291411027312\n",
            "Epoch 36, Batch 140 loss: 0.0917095769196749\n",
            "Epoch 37, Batch 20 loss: 0.0748159070499241\n",
            "Epoch 37, Batch 40 loss: 0.0903499573469162\n",
            "Epoch 37, Batch 60 loss: 0.0734814618248492\n",
            "Epoch 37, Batch 80 loss: 0.0916976473294198\n",
            "Epoch 37, Batch 100 loss: 0.0909410526044667\n",
            "Epoch 37, Batch 120 loss: 0.0812099038623273\n",
            "Epoch 37, Batch 140 loss: 0.0897397704888135\n",
            "Epoch 38, Batch 20 loss: 0.0715376833453774\n",
            "Epoch 38, Batch 40 loss: 0.1070539174601436\n",
            "Epoch 38, Batch 60 loss: 0.1014269724488258\n",
            "Epoch 38, Batch 80 loss: 0.1042571086902171\n",
            "Epoch 38, Batch 100 loss: 0.0903647347353399\n",
            "Epoch 38, Batch 120 loss: 0.0867478735744953\n",
            "Epoch 38, Batch 140 loss: 0.0952661208808422\n",
            "Epoch 39, Batch 20 loss: 0.0857949620112777\n",
            "Epoch 39, Batch 40 loss: 0.0992688948754221\n",
            "Epoch 39, Batch 60 loss: 0.1083064140751958\n",
            "Epoch 39, Batch 80 loss: 0.0775670340284705\n",
            "Epoch 39, Batch 100 loss: 0.0861480555962771\n",
            "Epoch 39, Batch 120 loss: 0.0750421778764576\n",
            "Epoch 39, Batch 140 loss: 0.0880732728168368\n",
            "Epoch 40, Batch 20 loss: 0.0903509975876659\n",
            "Epoch 40, Batch 40 loss: 0.0953541995026171\n",
            "Epoch 40, Batch 60 loss: 0.0786695759743452\n",
            "Epoch 40, Batch 80 loss: 0.1208166136406362\n",
            "Epoch 40, Batch 100 loss: 0.0692516232375056\n",
            "Epoch 40, Batch 120 loss: 0.0962322583422065\n",
            "Epoch 40, Batch 140 loss: 0.0784918582066894\n",
            "Epoch 41, Batch 20 loss: 0.0774226098321378\n",
            "Epoch 41, Batch 40 loss: 0.0863143124617636\n",
            "Epoch 41, Batch 60 loss: 0.0877299708314240\n",
            "Epoch 41, Batch 80 loss: 0.0815314691513777\n",
            "Epoch 41, Batch 100 loss: 0.1172774177044630\n",
            "Epoch 41, Batch 120 loss: 0.1027962621301413\n",
            "Epoch 41, Batch 140 loss: 0.0722451617475599\n",
            "Epoch 42, Batch 20 loss: 0.0659201769623905\n",
            "Epoch 42, Batch 40 loss: 0.0898985653184354\n",
            "Epoch 42, Batch 60 loss: 0.1028415507636964\n",
            "Epoch 42, Batch 80 loss: 0.0791943462099880\n",
            "Epoch 42, Batch 100 loss: 0.1046848250553012\n",
            "Epoch 42, Batch 120 loss: 0.0847393933683634\n",
            "Epoch 42, Batch 140 loss: 0.0688058616593480\n",
            "Epoch 43, Batch 20 loss: 0.0923362270928919\n",
            "Epoch 43, Batch 40 loss: 0.0642559993080795\n",
            "Epoch 43, Batch 60 loss: 0.1162876239046454\n",
            "Epoch 43, Batch 80 loss: 0.0845657257363200\n",
            "Epoch 43, Batch 100 loss: 0.0756255773827434\n",
            "Epoch 43, Batch 120 loss: 0.1090689554810524\n",
            "Epoch 43, Batch 140 loss: 0.0946325878612697\n",
            "Epoch 44, Batch 20 loss: 0.0957947991788387\n",
            "Epoch 44, Batch 40 loss: 0.0856188307516277\n",
            "Epoch 44, Batch 60 loss: 0.1059778239578009\n",
            "Epoch 44, Batch 80 loss: 0.1133863242343068\n",
            "Epoch 44, Batch 100 loss: 0.0892026392742991\n",
            "Epoch 44, Batch 120 loss: 0.0967482585459948\n",
            "Epoch 44, Batch 140 loss: 0.0794896287377924\n",
            "Epoch 45, Batch 20 loss: 0.0948989409022033\n",
            "Epoch 45, Batch 40 loss: 0.0718384234234691\n",
            "Epoch 45, Batch 60 loss: 0.0953144434373826\n",
            "Epoch 45, Batch 80 loss: 0.0968113923445344\n",
            "Epoch 45, Batch 100 loss: 0.1015766340307891\n",
            "Epoch 45, Batch 120 loss: 0.0828770311549306\n",
            "Epoch 45, Batch 140 loss: 0.0884569560177624\n",
            "Epoch 46, Batch 20 loss: 0.1011334261856973\n",
            "Epoch 46, Batch 40 loss: 0.0574376968666911\n",
            "Epoch 46, Batch 60 loss: 0.0872640273533762\n",
            "Epoch 46, Batch 80 loss: 0.0971165450289845\n",
            "Epoch 46, Batch 100 loss: 0.0762110485695302\n",
            "Epoch 46, Batch 120 loss: 0.0904935870319605\n",
            "Epoch 46, Batch 140 loss: 0.1105389233678579\n",
            "Epoch 47, Batch 20 loss: 0.0903214406222105\n",
            "Epoch 47, Batch 40 loss: 0.0620245571248233\n",
            "Epoch 47, Batch 60 loss: 0.1442422306165099\n",
            "Epoch 47, Batch 80 loss: 0.0614376769633964\n",
            "Epoch 47, Batch 100 loss: 0.0782507532276213\n",
            "Epoch 47, Batch 120 loss: 0.0708121863426641\n",
            "Epoch 47, Batch 140 loss: 0.1085514325648546\n",
            "Epoch 48, Batch 20 loss: 0.0669633977115154\n",
            "Epoch 48, Batch 40 loss: 0.0889815285336226\n",
            "Epoch 48, Batch 60 loss: 0.1042420867830515\n",
            "Epoch 48, Batch 80 loss: 0.0962344884872437\n",
            "Epoch 48, Batch 100 loss: 0.0900027322582901\n",
            "Epoch 48, Batch 120 loss: 0.0951752008870244\n",
            "Epoch 48, Batch 140 loss: 0.0850107386708260\n",
            "Epoch 49, Batch 20 loss: 0.0774468567688018\n",
            "Epoch 49, Batch 40 loss: 0.0770501516759396\n",
            "Epoch 49, Batch 60 loss: 0.0774667295627296\n",
            "Epoch 49, Batch 80 loss: 0.0750546999275684\n",
            "Epoch 49, Batch 100 loss: 0.0706454582512379\n",
            "Epoch 49, Batch 120 loss: 0.0938880614005029\n",
            "Epoch 49, Batch 140 loss: 0.0619310572277755\n",
            "Epoch 50, Batch 20 loss: 0.0812179641798139\n",
            "Epoch 50, Batch 40 loss: 0.0761672023218125\n",
            "Epoch 50, Batch 60 loss: 0.0937096200883389\n",
            "Epoch 50, Batch 80 loss: 0.0936301238369197\n",
            "Epoch 50, Batch 100 loss: 0.0690990949980915\n",
            "Epoch 50, Batch 120 loss: 0.0927146255504340\n",
            "Epoch 50, Batch 140 loss: 0.0884115131571889\n"
          ]
        }
      ]
    },
    {
      "cell_type": "code",
      "metadata": {
        "colab": {
          "base_uri": "https://localhost:8080/",
          "height": 281
        },
        "id": "CfA7ZjLR1BZP",
        "outputId": "a7a45586-0aa5-414e-e955-dd5285b7c39a"
      },
      "source": [
        "plt.plot(train_losses)\n",
        "plt.title(\"Training Loss\")\n",
        "plt.show()"
      ],
      "execution_count": 17,
      "outputs": [
        {
          "output_type": "display_data",
          "data": {
            "image/png": "[encoded data removed]",
            "text/plain": [
              "<Figure size 432x288 with 1 Axes>"
            ]
          },
          "metadata": {
            "needs_background": "light"
          }
        }
      ]
    },
    {
      "cell_type": "markdown",
      "metadata": {
        "id": "ItLyF9dQyJFL"
      },
      "source": [
        "Testing the model"
      ]
    },
    {
      "cell_type": "code",
      "metadata": {
        "id": "gGki98W3SoEW"
      },
      "source": [
        "from sklearn.metrics import precision_score, recall_score, f1_score, accuracy_score"
      ],
      "execution_count": 18,
      "outputs": []
    },
    {
      "cell_type": "code",
      "metadata": {
        "colab": {
          "base_uri": "https://localhost:8080/"
        },
        "id": "xNavYOynyE6d",
        "outputId": "26689603-4b56-4f71-b1dc-3e0cc3d4d124"
      },
      "source": [
        "# The test_model function is from model_testing python file\n",
        "test_loss, class_correct, class_total, labels, predictions = test_model(classes, inception_v3, test_loader, criterion)\n",
        "\n",
        "# Test accuracy for each hieroglyph\n",
        "for i in range(len(classes)):\n",
        "    if class_total[i] > 0:\n",
        "        print('Test Accuracy of %5s: %2d%% (%2d/%2d)' % (classes[i], 100 * class_correct[i] / class_total[i], np.sum(class_correct[i]), np.sum(class_total[i])))\n",
        "    else:\n",
        "        print('Test Accuracy of %5s: N/A (no training examples)' % (classes[i]))\n",
        "\n",
        "# Total Test accuracy\n",
        "print(\"\\nAccuracy: {:.3%}\".format(accuracy_score(labels, predictions)))\n",
        "print(\"\\nPrecision: {:.3%}\".format(precision_score(labels, predictions, average = 'weighted')))\n",
        "print(\"\\nRecall: {:.3%}\".format(recall_score(labels, predictions, average = 'weighted')))\n",
        "print(\"\\nF1-score: {:.3%}\".format(f1_score(labels, predictions, average = 'weighted')))"
      ],
      "execution_count": 19,
      "outputs": [
        {
          "output_type": "stream",
          "name": "stdout",
          "text": [
            "Test Loss: 1.489465\n",
            "\n",
            "Test Accuracy of  Aa15: 87% ( 7/ 8)\n",
            "Test Accuracy of  Aa26: 100% ( 6/ 6)\n",
            "Test Accuracy of  Aa27:  0% ( 0/ 7)\n",
            "Test Accuracy of    D1: 50% ( 3/ 6)\n",
            "Test Accuracy of   D10:  0% ( 0/ 4)\n",
            "Test Accuracy of  D156: 33% ( 2/ 6)\n",
            "Test Accuracy of   D19: 16% ( 2/12)\n",
            "Test Accuracy of    D2: 100% ( 3/ 3)\n",
            "Test Accuracy of   D21: 100% ( 6/ 6)\n",
            "Test Accuracy of   D28: 100% ( 6/ 6)\n",
            "Test Accuracy of   D35: 100% ( 6/ 6)\n",
            "Test Accuracy of   D36: 100% ( 5/ 5)\n",
            "Test Accuracy of   D39: 100% ( 3/ 3)\n",
            "Test Accuracy of    D4: 100% ( 7/ 7)\n",
            "Test Accuracy of   D46: 66% ( 6/ 9)\n",
            "Test Accuracy of   D52: 100% ( 4/ 4)\n",
            "Test Accuracy of   D54: 100% ( 5/ 5)\n",
            "Test Accuracy of   D56:  0% ( 0/ 3)\n",
            "Test Accuracy of   D58: 100% (11/11)\n",
            "Test Accuracy of   D60: 100% ( 6/ 6)\n",
            "Test Accuracy of    E1: 100% ( 2/ 2)\n",
            "Test Accuracy of   E23: 54% ( 6/11)\n",
            "Test Accuracy of   E34: 100% ( 5/ 5)\n",
            "Test Accuracy of    E9: 33% ( 2/ 6)\n",
            "Test Accuracy of   F13: 66% ( 6/ 9)\n",
            "Test Accuracy of   F16: 100% ( 5/ 5)\n",
            "Test Accuracy of   F18: 55% ( 5/ 9)\n",
            "Test Accuracy of   F26: 100% ( 7/ 7)\n",
            "Test Accuracy of   F31: 100% (10/10)\n",
            "Test Accuracy of   F34: 100% ( 5/ 5)\n",
            "Test Accuracy of   F35: 100% ( 5/ 5)\n",
            "Test Accuracy of    F4: 100% ( 7/ 7)\n",
            "Test Accuracy of   F40: 100% ( 3/ 3)\n",
            "Test Accuracy of    F9: 33% ( 2/ 6)\n",
            "Test Accuracy of    G1: 36% ( 4/11)\n",
            "Test Accuracy of   G14: 71% ( 5/ 7)\n",
            "Test Accuracy of   G17: 100% ( 3/ 3)\n",
            "Test Accuracy of   G21: 75% ( 3/ 4)\n",
            "Test Accuracy of   G25: 66% ( 2/ 3)\n",
            "Test Accuracy of   G26: 28% ( 2/ 7)\n",
            "Test Accuracy of   G29:  0% ( 0/ 9)\n",
            "Test Accuracy of   G35: 85% ( 6/ 7)\n",
            "Test Accuracy of   G36: 80% ( 4/ 5)\n",
            "Test Accuracy of   G37: 66% ( 2/ 3)\n",
            "Test Accuracy of   G39: 100% ( 6/ 6)\n",
            "Test Accuracy of    G4: 62% ( 5/ 8)\n",
            "Test Accuracy of   G40: 100% ( 7/ 7)\n",
            "Test Accuracy of   G43: 100% ( 7/ 7)\n",
            "Test Accuracy of    G5: 80% ( 4/ 5)\n",
            "Test Accuracy of    G7: 100% ( 6/ 6)\n",
            "Test Accuracy of    H6: 83% ( 5/ 6)\n",
            "Test Accuracy of   I10: 100% ( 8/ 8)\n",
            "Test Accuracy of    I9: 100% ( 6/ 6)\n",
            "Test Accuracy of    L1: 66% ( 4/ 6)\n",
            "Test Accuracy of    M1:  0% ( 0/ 7)\n",
            "Test Accuracy of   M12: 100% ( 3/ 3)\n",
            "Test Accuracy of   M16: 100% ( 6/ 6)\n",
            "Test Accuracy of   M17: 66% ( 6/ 9)\n",
            "Test Accuracy of   M18: 100% ( 9/ 9)\n",
            "Test Accuracy of  M195:  0% ( 0/ 7)\n",
            "Test Accuracy of   M20: 100% ( 4/ 4)\n",
            "Test Accuracy of   M23: 100% ( 5/ 5)\n",
            "Test Accuracy of   M29:  0% ( 0/ 4)\n",
            "Test Accuracy of    M3:  0% ( 0/ 5)\n",
            "Test Accuracy of   M40: 100% ( 1/ 1)\n",
            "Test Accuracy of   M41: 100% (10/10)\n",
            "Test Accuracy of   M42: 42% ( 3/ 7)\n",
            "Test Accuracy of   M44:  0% ( 0/10)\n",
            "Test Accuracy of    M8: 92% (12/13)\n",
            "Test Accuracy of    N1: 100% ( 5/ 5)\n",
            "Test Accuracy of   N14: 100% ( 3/ 3)\n",
            "Test Accuracy of   N17: 45% ( 5/11)\n",
            "Test Accuracy of   N18: 85% ( 6/ 7)\n",
            "Test Accuracy of   N25: 100% ( 6/ 6)\n",
            "Test Accuracy of   N29: 77% ( 7/ 9)\n",
            "Test Accuracy of   N30: 100% ( 6/ 6)\n",
            "Test Accuracy of   N31: 100% ( 5/ 5)\n",
            "Test Accuracy of   N35: 100% ( 3/ 3)\n",
            "Test Accuracy of   N36:  0% ( 0/ 5)\n",
            "Test Accuracy of   N37: 100% ( 3/ 3)\n",
            "Test Accuracy of   N41:  0% ( 0/ 8)\n",
            "Test Accuracy of    N5: 100% ( 3/ 3)\n",
            "Test Accuracy of    O1: 100% ( 7/ 7)\n",
            "Test Accuracy of   O28: 57% ( 4/ 7)\n",
            "Test Accuracy of   O31: 33% ( 3/ 9)\n",
            "Test Accuracy of   O34: 100% ( 4/ 4)\n",
            "Test Accuracy of    O4: 70% ( 7/10)\n",
            "Test Accuracy of   O49: 100% (10/10)\n",
            "Test Accuracy of   O50: 66% ( 4/ 6)\n",
            "Test Accuracy of    P1:  0% ( 0/ 5)\n",
            "Test Accuracy of    P6: 100% ( 3/ 3)\n",
            "Test Accuracy of    P8: 66% ( 4/ 6)\n",
            "Test Accuracy of   P98: 100% ( 5/ 5)\n",
            "Test Accuracy of    Q1: 66% ( 6/ 9)\n",
            "Test Accuracy of    Q3: 100% ( 7/ 7)\n",
            "Test Accuracy of    Q7:  0% ( 0/ 9)\n",
            "Test Accuracy of    R4: 100% ( 8/ 8)\n",
            "Test Accuracy of    R8: 100% (10/10)\n",
            "Test Accuracy of   S24:  0% ( 0/ 3)\n",
            "Test Accuracy of   S28: 100% (12/12)\n",
            "Test Accuracy of   S29: 100% ( 5/ 5)\n",
            "Test Accuracy of   S34: 100% (10/10)\n",
            "Test Accuracy of   T20: 100% ( 9/ 9)\n",
            "Test Accuracy of   T21: 50% ( 4/ 8)\n",
            "Test Accuracy of   T22: 66% ( 2/ 3)\n",
            "Test Accuracy of   T28:  0% ( 0/ 9)\n",
            "Test Accuracy of   T30:  0% ( 0/12)\n",
            "Test Accuracy of    U1: 87% ( 7/ 8)\n",
            "Test Accuracy of   U15: 50% ( 3/ 6)\n",
            "Test Accuracy of   U28:  0% ( 0/10)\n",
            "Test Accuracy of   U33: 50% ( 1/ 2)\n",
            "Test Accuracy of    U7: 100% ( 8/ 8)\n",
            "Test Accuracy of   V13: 100% ( 8/ 8)\n",
            "Test Accuracy of   V24: 100% ( 3/ 3)\n",
            "Test Accuracy of   V28: 100% ( 5/ 5)\n",
            "Test Accuracy of   V30: 100% ( 7/ 7)\n",
            "Test Accuracy of   V31: 75% ( 6/ 8)\n",
            "Test Accuracy of    V4: 100% ( 6/ 6)\n",
            "Test Accuracy of    V6:  0% ( 0/ 5)\n",
            "Test Accuracy of    V7: 100% (11/11)\n",
            "Test Accuracy of   W11: 100% ( 5/ 5)\n",
            "Test Accuracy of   W18: 100% ( 3/ 3)\n",
            "Test Accuracy of   W19: 100% ( 3/ 3)\n",
            "Test Accuracy of   W22:  0% ( 0/ 4)\n",
            "Test Accuracy of   W24: 75% ( 3/ 4)\n",
            "Test Accuracy of   W25: 100% ( 6/ 6)\n",
            "Test Accuracy of    X1: 100% ( 5/ 5)\n",
            "Test Accuracy of    X8: 50% ( 1/ 2)\n",
            "Test Accuracy of    Y2:  0% ( 0/ 7)\n",
            "Test Accuracy of    Y3: 100% ( 4/ 4)\n",
            "Test Accuracy of    Y5: 100% ( 8/ 8)\n",
            "Test Accuracy of    Z1: 100% (10/10)\n",
            "Test Accuracy of   Z11: 25% ( 1/ 4)\n",
            "Test Accuracy of    Z7: 100% ( 4/ 4)\n",
            "\n",
            "Accuracy: 70.340%\n",
            "\n",
            "Precision: 68.969%\n",
            "\n",
            "Recall: 70.340%\n",
            "\n",
            "F1-score: 67.043%\n"
          ]
        },
        {
          "output_type": "stream",
          "name": "stderr",
          "text": [
            "/usr/local/lib/python3.7/dist-packages/sklearn/metrics/_classification.py:1308: UndefinedMetricWarning: Precision is ill-defined and being set to 0.0 in labels with no predicted samples. Use `zero_division` parameter to control this behavior.\n",
            "  _warn_prf(average, modifier, msg_start, len(result))\n"
          ]
        }
      ]
    }
  ]
}
