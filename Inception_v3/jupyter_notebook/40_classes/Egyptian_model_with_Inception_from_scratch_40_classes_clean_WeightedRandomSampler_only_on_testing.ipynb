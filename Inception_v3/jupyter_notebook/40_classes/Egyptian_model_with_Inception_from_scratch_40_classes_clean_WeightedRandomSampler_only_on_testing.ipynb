{
  "nbformat": 4,
  "nbformat_minor": 0,
  "metadata": {
    "colab": {
      "name": "Egyptian_model_with_Inception_from_scratch_40_classes_clean_WeightedRandomSampler_only_on_testing.ipynb",
      "provenance": [],
      "collapsed_sections": []
    },
    "kernelspec": {
      "name": "python3",
      "display_name": "Python 3"
    },
    "language_info": {
      "name": "python"
    },
    "accelerator": "GPU"
  },
  "cells": [
    {
      "cell_type": "code",
      "metadata": {
        "colab": {
          "base_uri": "https://localhost:8080/"
        },
        "id": "Po0ZVacIYsP0",
        "outputId": "f21e6e87-b0da-4789-f45e-1835dbb8dab6"
      },
      "source": [
        "!pip install timm"
      ],
      "execution_count": 1,
      "outputs": [
        {
          "output_type": "stream",
          "name": "stdout",
          "text": [
            "Requirement already satisfied: timm in /usr/local/lib/python3.7/dist-packages (0.4.12)\n",
            "Requirement already satisfied: torchvision in /usr/local/lib/python3.7/dist-packages (from timm) (0.11.1+cu111)\n",
            "Requirement already satisfied: torch>=1.4 in /usr/local/lib/python3.7/dist-packages (from timm) (1.10.0+cu111)\n",
            "Requirement already satisfied: typing-extensions in /usr/local/lib/python3.7/dist-packages (from torch>=1.4->timm) (3.10.0.2)\n",
            "Requirement already satisfied: pillow!=8.3.0,>=5.3.0 in /usr/local/lib/python3.7/dist-packages (from torchvision->timm) (7.1.2)\n",
            "Requirement already satisfied: numpy in /usr/local/lib/python3.7/dist-packages (from torchvision->timm) (1.19.5)\n"
          ]
        }
      ]
    },
    {
      "cell_type": "code",
      "metadata": {
        "id": "8iEiGSblxJzW"
      },
      "source": [
        "import os, os.path\n",
        "import torch\n",
        "import numpy as np\n",
        "import torch.nn as nn\n",
        "import torch.optim as optim\n",
        "from pathlib import Path\n",
        "from torchvision import datasets, models, transforms\n",
        "import timm\n",
        "\n",
        "# check if CUDA is available\n",
        "train_on_gpu = torch.cuda.is_available()"
      ],
      "execution_count": 2,
      "outputs": []
    },
    {
      "cell_type": "markdown",
      "metadata": {
        "id": "Jd6KU8VMz6J3"
      },
      "source": [
        "Module: Load_data"
      ]
    },
    {
      "cell_type": "code",
      "metadata": {
        "id": "CFTKwolqDOAG"
      },
      "source": [
        "def get_class_distribution(dataset_obj, idx2class):\n",
        "    count_dict = {k:0 for k,v in dataset_obj.class_to_idx.items()}\n",
        "    \n",
        "    for element in dataset_obj:\n",
        "        y_lbl = element[1]\n",
        "        y_lbl = idx2class[y_lbl]\n",
        "        count_dict[y_lbl] += 1\n",
        "            \n",
        "    return count_dict"
      ],
      "execution_count": 3,
      "outputs": []
    },
    {
      "cell_type": "code",
      "metadata": {
        "id": "8lWX0BW_w_kC"
      },
      "source": [
        "def load_data(hieroglyph_directory_path, batch_size=20, num_workers=0):\n",
        "    train_dir = os.path.join(hieroglyph_directory_path, 'train/')\n",
        "    test_dir = os.path.join(hieroglyph_directory_path, 'test/')\n",
        "\n",
        "    classes = []\n",
        "\n",
        "    for filename in os.listdir(train_dir):\n",
        "        if filename == '.DS_Store':\n",
        "            pass\n",
        "        else:\n",
        "            classes.append(filename)\n",
        "\n",
        "    classes.sort()\n",
        "\n",
        "    # print(\"Our classes:\", classes)\n",
        "    # print(len(classes))\n",
        "\n",
        "    data_transform = transforms.Compose([transforms.ToTensor(),\n",
        "                                            transforms.RandomApply([transforms.RandomHorizontalFlip()]),\n",
        "                                            transforms.RandomRotation(degrees=(-10, 10)),\n",
        "                                            transforms.RandomAffine(degrees=0, translate=(.1, .1)),\n",
        "                                            transforms.RandomApply([transforms.ColorJitter(brightness=(1, 1.2),\n",
        "                                                                                            contrast=(1, 1.5),\n",
        "                                                                                            saturation=(1, 1.5),\n",
        "                                                                                            hue=(0, 0.5))]),\n",
        "                                            transforms.RandomErasing(p=0.5, scale=(0.05, 0.05), ratio=(0.3, 3.3), value=0,\n",
        "                                                                      inplace=False),\n",
        "                                            transforms.Resize((299, 299)),\n",
        "                                            transforms.Normalize((0.5,), (0.5,))])\n",
        "\n",
        "    train_data = datasets.ImageFolder(train_dir, transform=data_transform)\n",
        "    test_data = datasets.ImageFolder(test_dir, transform=data_transform)\n",
        "\n",
        "\n",
        "    # print('Num training images: ', len(train_data))\n",
        "    # print('Num test images: ', len(test_data))\n",
        "\n",
        "    # prepare data loaders\n",
        "    train_loader = torch.utils.data.DataLoader(train_data, batch_size=batch_size,\n",
        "                                               num_workers=num_workers, shuffle=True)\n",
        "    \n",
        "    # WeightedRandomSampler for test loader\n",
        "    idx2class_test = {v: k for k, v in test_data.class_to_idx.items()}\n",
        "\n",
        "    target_list_test = torch.tensor(test_data.targets)\n",
        "    class_count_test = [i for i in get_class_distribution(test_data, idx2class_test).values()]\n",
        "    class_weights_test = 1./torch.tensor(class_count_test, dtype=torch.float) \n",
        "    class_weights_all_test = class_weights_test[target_list_test]\n",
        "    weighted_sampler_test = torch.utils.data.WeightedRandomSampler(weights=class_weights_all_test, num_samples=len(class_weights_all_test), replacement=True)\n",
        "\n",
        "    test_loader = torch.utils.data.DataLoader(test_data, batch_size=batch_size,\n",
        "                                              num_workers=num_workers, sampler=weighted_sampler_test)\n",
        "\n",
        "    return train_loader, test_loader, classes"
      ],
      "execution_count": 4,
      "outputs": []
    },
    {
      "cell_type": "markdown",
      "metadata": {
        "id": "K4sXUrPPz7iF"
      },
      "source": [
        "Module: Train_model"
      ]
    },
    {
      "cell_type": "code",
      "metadata": {
        "id": "N2N_rnKLxN5c"
      },
      "source": [
        "def train_model(train_loader, optimizer, conv_net_model, criterion, my_lr_scheduler, n_epochs):\n",
        "    # track training loss over time\n",
        "    losses = []\n",
        "    \n",
        "    for epoch in range(1, n_epochs + 1):\n",
        "\n",
        "        # keep track of training and validation loss\n",
        "        train_loss = 0.0\n",
        "\n",
        "        # model by default is set to train\n",
        "        for batch_i, (data, target) in enumerate(train_loader):\n",
        "            # move tensors to GPU if CUDA is available\n",
        "            if train_on_gpu:\n",
        "                data, target = data.cuda(), target.cuda()\n",
        "            # clear the gradients of all optimized variables\n",
        "            optimizer.zero_grad()\n",
        "            # forward pass: compute predicted outputs by passing inputs to the model\n",
        "            output = conv_net_model(data)\n",
        "            # calculate the batch loss\n",
        "            loss = criterion(output.logits, target)\n",
        "            # backward pass: compute gradient of the loss with respect to model parameters\n",
        "            loss.backward()\n",
        "            # perform a single optimization step (parameter update)\n",
        "            optimizer.step()\n",
        "            # update training loss\n",
        "            train_loss += loss.item()\n",
        "\n",
        "            my_lr_scheduler.step()\n",
        "\n",
        "            if batch_i % 20 == 19:  # print training loss every specified number of mini-batches\n",
        "                print('Epoch %d, Batch %d loss: %.16f' %\n",
        "                    (epoch, batch_i + 1, train_loss / 20))\n",
        "                losses.append(train_loss / 20)\n",
        "                train_loss = 0.0\n",
        "\n",
        "    return conv_net_model, losses"
      ],
      "execution_count": 5,
      "outputs": []
    },
    {
      "cell_type": "markdown",
      "metadata": {
        "id": "-Rrxo5RDz96U"
      },
      "source": [
        "Module: Test_model"
      ]
    },
    {
      "cell_type": "code",
      "metadata": {
        "id": "Ay-HlMJnxU9v"
      },
      "source": [
        "def test_model(classes, conv_net_model, test_loader, criterion):\n",
        "    # track test loss\n",
        "    test_loss = 0.0\n",
        "    class_correct = list(0. for i in range(len(classes)))\n",
        "    class_total = list(0. for i in range(len(classes)))\n",
        "\n",
        "    conv_net_model.eval()  # eval mode\n",
        "\n",
        "    labels = []\n",
        "    predictions = []\n",
        "    # iterate over test data\n",
        "    for data, target in test_loader:\n",
        "        # move tensors to GPU if CUDA is available\n",
        "        if train_on_gpu:\n",
        "            data, target = data.cuda(), target.cuda()\n",
        "        # forward pass: compute predicted outputs by passing inputs to the model\n",
        "        output = conv_net_model(data)\n",
        "        # calculate the batch loss\n",
        "        loss = criterion(output, target)\n",
        "        # update  test loss\n",
        "        test_loss += loss.item() * data.size(0)\n",
        "        # convert output probabilities to predicted class\n",
        "        _, pred = torch.max(output, 1)\n",
        "        # compare predictions to true label\n",
        "        correct_tensor = pred.eq(target.data.view_as(pred))\n",
        "        correct = np.squeeze(correct_tensor.numpy()) if not train_on_gpu else np.squeeze(correct_tensor.cpu().numpy())\n",
        "        # calculate test accuracy for each object class\n",
        "        for i in range(len(target.data)):\n",
        "            label = target.data[i]\n",
        "            class_correct[label] += correct[i].item()\n",
        "            class_total[label] += 1\n",
        "        \n",
        "        # Will be used for calculating Recall, Precision, and F1-score\n",
        "        labels.extend(target.data.view_as(pred).tolist())\n",
        "        predictions.extend(pred.tolist())\n",
        "\n",
        "\n",
        "    # calculate avg test loss\n",
        "    test_loss = test_loss / len(test_loader.dataset)\n",
        "    print('Test Loss: {:.6f}\\n'.format(test_loss))\n",
        "\n",
        "    return test_loss, class_correct, class_total, labels, predictions"
      ],
      "execution_count": 6,
      "outputs": []
    },
    {
      "cell_type": "markdown",
      "metadata": {
        "id": "xHh3PXE80Asa"
      },
      "source": [
        "Check whether CUDA is available (Change runtime type if not)"
      ]
    },
    {
      "cell_type": "code",
      "metadata": {
        "colab": {
          "base_uri": "https://localhost:8080/"
        },
        "id": "Q9TYPQH7x4zw",
        "outputId": "e9283230-19f8-40f3-ed26-c63d8aeba514"
      },
      "source": [
        "if not train_on_gpu:\n",
        "    print('CUDA is not available.  Training on CPU ...')\n",
        "else:\n",
        "    print('CUDA is available!  Training on GPU ...')"
      ],
      "execution_count": 7,
      "outputs": [
        {
          "output_type": "stream",
          "name": "stdout",
          "text": [
            "CUDA is available!  Training on GPU ...\n"
          ]
        }
      ]
    },
    {
      "cell_type": "markdown",
      "metadata": {
        "id": "6lYw8EKVx8Q7"
      },
      "source": [
        "Load Hieroglyph Data"
      ]
    },
    {
      "cell_type": "code",
      "metadata": {
        "colab": {
          "base_uri": "https://localhost:8080/"
        },
        "id": "laLvoRy1yewl",
        "outputId": "4bc4b723-7f54-484f-eae7-8fb3e4861840"
      },
      "source": [
        "# Connecting and Mounting to the Google Drive\n",
        "from google.colab import drive\n",
        "drive.mount('/content/drive')"
      ],
      "execution_count": 8,
      "outputs": [
        {
          "output_type": "stream",
          "name": "stdout",
          "text": [
            "Drive already mounted at /content/drive; to attempt to forcibly remount, call drive.mount(\"/content/drive\", force_remount=True).\n"
          ]
        }
      ]
    },
    {
      "cell_type": "code",
      "metadata": {
        "id": "odaoZt9GyfUt"
      },
      "source": [
        "data_dir = '/content/drive/MyDrive/EgyptianHieroglyphDataset_Original_Clean/'"
      ],
      "execution_count": 9,
      "outputs": []
    },
    {
      "cell_type": "code",
      "metadata": {
        "colab": {
          "base_uri": "https://localhost:8080/"
        },
        "id": "dF22MAnmyiC1",
        "outputId": "5e508718-24fe-42d5-cb64-c15b9c7c7148"
      },
      "source": [
        "hieroglyph_for_train = []\n",
        "file_count_list = []\n",
        "\n",
        "for name in os.listdir('/content/drive/MyDrive/EgyptianHieroglyphDataset_Original_Clean/train/'):\n",
        "  path, dirs, files = next(os.walk(\"/content/drive/MyDrive/EgyptianHieroglyphDataset_Original_Clean/train/\"+name))\n",
        "  file_count = len(files)\n",
        "  print(name, file_count)\n",
        "  file_count_list.append(file_count)\n",
        "  hieroglyph_for_train.append(name)\n",
        "\n",
        "hieroglyph_dict = dict(zip(hieroglyph_for_train, file_count_list))"
      ],
      "execution_count": 10,
      "outputs": [
        {
          "output_type": "stream",
          "name": "stdout",
          "text": [
            "Y5 6\n",
            "I9 116\n",
            "O34 15\n",
            "V13 63\n",
            "U7 3\n",
            "D46 40\n",
            "E34 97\n",
            "G1 28\n",
            "V31 106\n",
            "S34 8\n",
            "D36 47\n",
            "Q1 13\n",
            "V30 6\n",
            "F35 2\n",
            "O4 11\n",
            "M23 30\n",
            "S29 212\n",
            "R8 53\n",
            "W11 4\n",
            "X1 185\n",
            "Y1 1\n",
            "D21 146\n",
            "D2 19\n",
            "E23 8\n",
            "X8 4\n",
            "Z1 39\n",
            "D4 29\n",
            "V28 28\n",
            "I10 32\n",
            "O1 16\n",
            "M17 291\n",
            "F31 6\n",
            "G43 157\n",
            "D58 28\n",
            "O49 10\n",
            "G17 156\n",
            "R4 2\n",
            "Q3 61\n",
            "W24 31\n",
            "N35 358\n"
          ]
        }
      ]
    },
    {
      "cell_type": "markdown",
      "metadata": {
        "id": "XeQQ7PjZzKd9"
      },
      "source": [
        "Number of images for each hieroglyph "
      ]
    },
    {
      "cell_type": "code",
      "metadata": {
        "colab": {
          "base_uri": "https://localhost:8080/",
          "height": 609
        },
        "id": "W6IzWR2RyjxM",
        "outputId": "e56e585c-6838-4d6d-a350-0e3eec660709"
      },
      "source": [
        "import matplotlib.pyplot as plt\n",
        "import pandas as pd\n",
        "\n",
        "df = pd.DataFrame({\"Hieroglyph\":hieroglyph_for_train, \"Count\":file_count_list})\n",
        "\n",
        "df_sorted= df.sort_values('Count',ascending=False)\n",
        "\n",
        "plt.figure(figsize=(20,10))\n",
        "# make bar plot with matplotlib\n",
        "plt.bar('Hieroglyph', 'Count',data=df_sorted)"
      ],
      "execution_count": 11,
      "outputs": [
        {
          "output_type": "execute_result",
          "data": {
            "text/plain": [
              "<BarContainer object of 40 artists>"
            ]
          },
          "metadata": {},
          "execution_count": 11
        },
        {
          "output_type": "display_data",
          "data": {
            "image/png": "[encoded data removed]",
            "text/plain": [
              "<Figure size 1440x720 with 1 Axes>"
            ]
          },
          "metadata": {
            "needs_background": "light"
          }
        }
      ]
    },
    {
      "cell_type": "code",
      "metadata": {
        "id": "-3oOm8rSx7tp"
      },
      "source": [
        "# Number of images processed in a single training\n",
        "batch_size = 20\n",
        "num_workers = 0\n",
        "\n",
        "# The load_data function is from hieroglyph_data_preparation python file\n",
        "train_loader, test_loader, classes = load_data(data_dir)"
      ],
      "execution_count": 12,
      "outputs": []
    },
    {
      "cell_type": "markdown",
      "metadata": {
        "id": "BJm8sGiBx_q5"
      },
      "source": [
        "ResNet Model"
      ]
    },
    {
      "cell_type": "code",
      "metadata": {
        "id": "JkLXVJGkxemC",
        "colab": {
          "base_uri": "https://localhost:8080/"
        },
        "outputId": "37f2eac5-3255-4630-a803-c1195ce59a8e"
      },
      "source": [
        "# Whether to extract features with the model\n",
        "feature_extract = False\n",
        "# Other selections\n",
        "loss_function = \"cross-entropy\"\n",
        "model_selection = \"inception-v3\"\n",
        "optim_selection = \"Adam\"\n",
        "\n",
        "# False if you want scratch model, True if you want pretrained model\n",
        "whether_to_pretrain = False\n",
        "\n",
        "# Load the model\n",
        "if model_selection == \"resnet-50\":\n",
        "    resnet50 = models.resnet50(pretrained=whether_to_pretrain)\n",
        "    # Number of features in the last layer of resnet\n",
        "    n_inputs = resnet50.fc.in_features\n",
        "    # Add last linear layer (n_inputs -> 40 hieroglyph classes)\n",
        "    last_layer = nn.Sequential(\n",
        "                    nn.Linear(n_inputs, len(classes)))\n",
        "    resnet50.fc = last_layer\n",
        "    if train_on_gpu:\n",
        "      resnet50.cuda()\n",
        "    # Specify optimizer (Adam) and learning rate = 0.001\n",
        "    if optim_selection == \"Adam\":\n",
        "        optimizer = optim.Adam(resnet50.parameters(), lr=0.001)\n",
        "\n",
        "elif model_selection == \"inception-v3\":\n",
        "    inception_v3 = models.inception_v3(pretrained=whether_to_pretrain)\n",
        "    # Number of features in the last layer of resnet\n",
        "    n_inputs = inception_v3.fc.in_features\n",
        "    # Add last linear layer (n_inputs -> 40 hieroglyph classes)\n",
        "    last_layer = nn.Sequential(\n",
        "                    nn.Linear(n_inputs, len(classes)))\n",
        "    inception_v3.fc = last_layer\n",
        "    if train_on_gpu:\n",
        "      inception_v3.cuda()\n",
        "    # Specify optimizer (Adam) and learning rate = 0.001\n",
        "    if optim_selection == \"Adam\":\n",
        "        optimizer = optim.Adam(inception_v3.parameters(), lr=0.001)\n",
        "\n",
        "\n",
        "# Specify loss function (categorical cross-entropy)\n",
        "if loss_function == \"cross-entropy\":\n",
        "    criterion = nn.CrossEntropyLoss()\n",
        "\n",
        "# Exponential Decay to strengthen learning\n",
        "decayRate = 0.999\n",
        "my_lr_scheduler = torch.optim.lr_scheduler.ExponentialLR(optimizer=optimizer, gamma=decayRate)"
      ],
      "execution_count": 13,
      "outputs": [
        {
          "output_type": "stream",
          "name": "stderr",
          "text": [
            "/usr/local/lib/python3.7/dist-packages/torchvision/models/inception.py:83: FutureWarning: The default weight initialization of inception_v3 will be changed in future releases of torchvision. If you wish to keep the old behavior (which leads to long initialization times due to scipy/scipy#11299), please set init_weights=True.\n",
            "  ' due to scipy/scipy#11299), please set init_weights=True.', FutureWarning)\n"
          ]
        }
      ]
    },
    {
      "cell_type": "markdown",
      "metadata": {
        "id": "U2vnErB1yHmM"
      },
      "source": [
        "Training the model"
      ]
    },
    {
      "cell_type": "code",
      "metadata": {
        "colab": {
          "base_uri": "https://localhost:8080/"
        },
        "id": "dOB03noWyEvQ",
        "outputId": "2e4a5134-29ce-4699-c8dc-b48d193e8a80"
      },
      "source": [
        "# number of epochs to train the model\n",
        "n_epochs = 50\n",
        "\n",
        "if model_selection == \"resnet-50\":\n",
        "  # The train_model function is from model_training python file\n",
        "  resnet50, train_losses = train_model(train_loader, optimizer, resnet50, criterion, my_lr_scheduler, n_epochs)\n",
        "elif model_selection == \"inception-v3\":\n",
        "  # The train_model function is from model_training python file\n",
        "  inception_v3, train_losses = train_model(train_loader, optimizer, inception_v3, criterion, my_lr_scheduler, n_epochs)"
      ],
      "execution_count": 14,
      "outputs": [
        {
          "output_type": "stream",
          "name": "stdout",
          "text": [
            "Epoch 1, Batch 20 loss: 3.4277788758277894\n",
            "Epoch 1, Batch 40 loss: 2.8742035508155821\n",
            "Epoch 1, Batch 60 loss: 2.4463475942611694\n",
            "Epoch 1, Batch 80 loss: 2.1624605476856233\n",
            "Epoch 1, Batch 100 loss: 2.0901569485664369\n",
            "Epoch 1, Batch 120 loss: 1.8668932676315309\n",
            "Epoch 2, Batch 20 loss: 1.6663869798183442\n",
            "Epoch 2, Batch 40 loss: 1.6206442356109618\n",
            "Epoch 2, Batch 60 loss: 1.6313562929630279\n",
            "Epoch 2, Batch 80 loss: 1.5709500283002853\n",
            "Epoch 2, Batch 100 loss: 1.5027246147394180\n",
            "Epoch 2, Batch 120 loss: 1.2812798678874970\n",
            "Epoch 3, Batch 20 loss: 1.0484653562307358\n",
            "Epoch 3, Batch 40 loss: 0.8960501044988632\n",
            "Epoch 3, Batch 60 loss: 0.8781999930739403\n",
            "Epoch 3, Batch 80 loss: 0.9154065370559692\n",
            "Epoch 3, Batch 100 loss: 0.8277670592069626\n",
            "Epoch 3, Batch 120 loss: 0.8512092918157578\n",
            "Epoch 4, Batch 20 loss: 0.7360923945903778\n",
            "Epoch 4, Batch 40 loss: 0.6326663702726364\n",
            "Epoch 4, Batch 60 loss: 0.6296584635972977\n",
            "Epoch 4, Batch 80 loss: 0.6145032107830047\n",
            "Epoch 4, Batch 100 loss: 0.5133861526846886\n",
            "Epoch 4, Batch 120 loss: 0.6852559935301542\n",
            "Epoch 5, Batch 20 loss: 0.5969612658023834\n",
            "Epoch 5, Batch 40 loss: 0.5316508039832115\n",
            "Epoch 5, Batch 60 loss: 0.4641097038984299\n",
            "Epoch 5, Batch 80 loss: 0.4458296306431294\n",
            "Epoch 5, Batch 100 loss: 0.5296701297163964\n",
            "Epoch 5, Batch 120 loss: 0.4565079569816589\n",
            "Epoch 6, Batch 20 loss: 0.5212639406323433\n",
            "Epoch 6, Batch 40 loss: 0.4148289199918508\n",
            "Epoch 6, Batch 60 loss: 0.4309382434934378\n",
            "Epoch 6, Batch 80 loss: 0.3260887641459703\n",
            "Epoch 6, Batch 100 loss: 0.4342643678188324\n",
            "Epoch 6, Batch 120 loss: 0.3164652295410633\n",
            "Epoch 7, Batch 20 loss: 0.3046891897916794\n",
            "Epoch 7, Batch 40 loss: 0.3728129269555211\n",
            "Epoch 7, Batch 60 loss: 0.3496963448822498\n",
            "Epoch 7, Batch 80 loss: 0.3030812423676252\n",
            "Epoch 7, Batch 100 loss: 0.3312407158315182\n",
            "Epoch 7, Batch 120 loss: 0.2776259046047926\n",
            "Epoch 8, Batch 20 loss: 0.2529448466375470\n",
            "Epoch 8, Batch 40 loss: 0.2528996881097555\n",
            "Epoch 8, Batch 60 loss: 0.3083130734041333\n",
            "Epoch 8, Batch 80 loss: 0.2690382305532694\n",
            "Epoch 8, Batch 100 loss: 0.2282189041376114\n",
            "Epoch 8, Batch 120 loss: 0.2616543404757977\n",
            "Epoch 9, Batch 20 loss: 0.1905660517513752\n",
            "Epoch 9, Batch 40 loss: 0.2537086203694344\n",
            "Epoch 9, Batch 60 loss: 0.2086044467985630\n",
            "Epoch 9, Batch 80 loss: 0.2110030211508274\n",
            "Epoch 9, Batch 100 loss: 0.2189280685037374\n",
            "Epoch 9, Batch 120 loss: 0.1877791730687022\n",
            "Epoch 10, Batch 20 loss: 0.1718323294073343\n",
            "Epoch 10, Batch 40 loss: 0.1454068518243730\n",
            "Epoch 10, Batch 60 loss: 0.1401798831298947\n",
            "Epoch 10, Batch 80 loss: 0.1673912921920419\n",
            "Epoch 10, Batch 100 loss: 0.1608384703285992\n",
            "Epoch 10, Batch 120 loss: 0.1505642531439662\n",
            "Epoch 11, Batch 20 loss: 0.1463299294002354\n",
            "Epoch 11, Batch 40 loss: 0.1454438171349466\n",
            "Epoch 11, Batch 60 loss: 0.1022779318969697\n",
            "Epoch 11, Batch 80 loss: 0.1615653478540480\n",
            "Epoch 11, Batch 100 loss: 0.1843847929500043\n",
            "Epoch 11, Batch 120 loss: 0.1619105080142617\n",
            "Epoch 12, Batch 20 loss: 0.1634365526959300\n",
            "Epoch 12, Batch 40 loss: 0.1303503260016441\n",
            "Epoch 12, Batch 60 loss: 0.0901398752816021\n",
            "Epoch 12, Batch 80 loss: 0.1031088938005269\n",
            "Epoch 12, Batch 100 loss: 0.1312152966391295\n",
            "Epoch 12, Batch 120 loss: 0.0989698436111212\n",
            "Epoch 13, Batch 20 loss: 0.0964725276455283\n",
            "Epoch 13, Batch 40 loss: 0.0842154865153134\n",
            "Epoch 13, Batch 60 loss: 0.0976485650055110\n",
            "Epoch 13, Batch 80 loss: 0.0969979023095220\n",
            "Epoch 13, Batch 100 loss: 0.0905702479183674\n",
            "Epoch 13, Batch 120 loss: 0.1162284243386239\n",
            "Epoch 14, Batch 20 loss: 0.1038780238945037\n",
            "Epoch 14, Batch 40 loss: 0.0882155290571973\n",
            "Epoch 14, Batch 60 loss: 0.0787091755890287\n",
            "Epoch 14, Batch 80 loss: 0.0887645328883082\n",
            "Epoch 14, Batch 100 loss: 0.1121152270585299\n",
            "Epoch 14, Batch 120 loss: 0.0965605927165598\n",
            "Epoch 15, Batch 20 loss: 0.0634736520005390\n",
            "Epoch 15, Batch 40 loss: 0.1087208588141948\n",
            "Epoch 15, Batch 60 loss: 0.0677736575249583\n",
            "Epoch 15, Batch 80 loss: 0.0923683252884075\n",
            "Epoch 15, Batch 100 loss: 0.0470504217315465\n",
            "Epoch 15, Batch 120 loss: 0.0830663382075727\n",
            "Epoch 16, Batch 20 loss: 0.0759625335223973\n",
            "Epoch 16, Batch 40 loss: 0.0788869077106938\n",
            "Epoch 16, Batch 60 loss: 0.0770610578358173\n",
            "Epoch 16, Batch 80 loss: 0.0315355051308870\n",
            "Epoch 16, Batch 100 loss: 0.0874161151703447\n",
            "Epoch 16, Batch 120 loss: 0.0723451185040176\n",
            "Epoch 17, Batch 20 loss: 0.1044627512339503\n",
            "Epoch 17, Batch 40 loss: 0.0949213956482708\n",
            "Epoch 17, Batch 60 loss: 0.0698490008013323\n",
            "Epoch 17, Batch 80 loss: 0.0762044125120156\n",
            "Epoch 17, Batch 100 loss: 0.0889946113224141\n",
            "Epoch 17, Batch 120 loss: 0.1020482554798946\n",
            "Epoch 18, Batch 20 loss: 0.0368014034116641\n",
            "Epoch 18, Batch 40 loss: 0.0278344306396320\n",
            "Epoch 18, Batch 60 loss: 0.0774655362125486\n",
            "Epoch 18, Batch 80 loss: 0.0481887804577127\n",
            "Epoch 18, Batch 100 loss: 0.0886419111862779\n",
            "Epoch 18, Batch 120 loss: 0.0618468689499423\n",
            "Epoch 19, Batch 20 loss: 0.0648879760177806\n",
            "Epoch 19, Batch 40 loss: 0.0601450883783400\n",
            "Epoch 19, Batch 60 loss: 0.0436103831743822\n",
            "Epoch 19, Batch 80 loss: 0.0610540020279586\n",
            "Epoch 19, Batch 100 loss: 0.0492840894497931\n",
            "Epoch 19, Batch 120 loss: 0.0388573379488662\n",
            "Epoch 20, Batch 20 loss: 0.0882352048298344\n",
            "Epoch 20, Batch 40 loss: 0.0368327812058851\n",
            "Epoch 20, Batch 60 loss: 0.0293072332045995\n",
            "Epoch 20, Batch 80 loss: 0.0349148587556556\n",
            "Epoch 20, Batch 100 loss: 0.0538360281731002\n",
            "Epoch 20, Batch 120 loss: 0.0336388338939287\n",
            "Epoch 21, Batch 20 loss: 0.0346652905456722\n",
            "Epoch 21, Batch 40 loss: 0.0268166969064623\n",
            "Epoch 21, Batch 60 loss: 0.0767871546093375\n",
            "Epoch 21, Batch 80 loss: 0.0545843575848266\n",
            "Epoch 21, Batch 100 loss: 0.0428125912556425\n",
            "Epoch 21, Batch 120 loss: 0.0295905549661256\n",
            "Epoch 22, Batch 20 loss: 0.0417018080712296\n",
            "Epoch 22, Batch 40 loss: 0.0356757572502829\n",
            "Epoch 22, Batch 60 loss: 0.0564810813229997\n",
            "Epoch 22, Batch 80 loss: 0.0418225632049143\n",
            "Epoch 22, Batch 100 loss: 0.0276152682141401\n",
            "Epoch 22, Batch 120 loss: 0.0356473683146760\n",
            "Epoch 23, Batch 20 loss: 0.0273626335896552\n",
            "Epoch 23, Batch 40 loss: 0.0292574492050335\n",
            "Epoch 23, Batch 60 loss: 0.0396736339665949\n",
            "Epoch 23, Batch 80 loss: 0.0528253940865397\n",
            "Epoch 23, Batch 100 loss: 0.0215176944038831\n",
            "Epoch 23, Batch 120 loss: 0.0347682186402380\n",
            "Epoch 24, Batch 20 loss: 0.0271769769780803\n",
            "Epoch 24, Batch 40 loss: 0.0323682565940544\n",
            "Epoch 24, Batch 60 loss: 0.0337243749410845\n",
            "Epoch 24, Batch 80 loss: 0.0393562484649010\n",
            "Epoch 24, Batch 100 loss: 0.0168764289119281\n",
            "Epoch 24, Batch 120 loss: 0.0308004195569083\n",
            "Epoch 25, Batch 20 loss: 0.0273098690435290\n",
            "Epoch 25, Batch 40 loss: 0.0689597691758536\n",
            "Epoch 25, Batch 60 loss: 0.0167705161496997\n",
            "Epoch 25, Batch 80 loss: 0.0258474513189867\n",
            "Epoch 25, Batch 100 loss: 0.0391962897498161\n",
            "Epoch 25, Batch 120 loss: 0.0344613904948346\n",
            "Epoch 26, Batch 20 loss: 0.0269561670254916\n",
            "Epoch 26, Batch 40 loss: 0.0293035515642259\n",
            "Epoch 26, Batch 60 loss: 0.0276815319433808\n",
            "Epoch 26, Batch 80 loss: 0.0166945721837692\n",
            "Epoch 26, Batch 100 loss: 0.0321814041002654\n",
            "Epoch 26, Batch 120 loss: 0.0268370237317868\n",
            "Epoch 27, Batch 20 loss: 0.0662711911601946\n",
            "Epoch 27, Batch 40 loss: 0.0315469885128550\n",
            "Epoch 27, Batch 60 loss: 0.0283295623841695\n",
            "Epoch 27, Batch 80 loss: 0.0167985220090486\n",
            "Epoch 27, Batch 100 loss: 0.0337817965191789\n",
            "Epoch 27, Batch 120 loss: 0.0395616406807676\n",
            "Epoch 28, Batch 20 loss: 0.0161556867416948\n",
            "Epoch 28, Batch 40 loss: 0.0463686963543296\n",
            "Epoch 28, Batch 60 loss: 0.0118198432144709\n",
            "Epoch 28, Batch 80 loss: 0.0218432781402953\n",
            "Epoch 28, Batch 100 loss: 0.0429445818648674\n",
            "Epoch 28, Batch 120 loss: 0.0267847639857791\n",
            "Epoch 29, Batch 20 loss: 0.0285118997009704\n",
            "Epoch 29, Batch 40 loss: 0.0248667723906692\n",
            "Epoch 29, Batch 60 loss: 0.0354062972241081\n",
            "Epoch 29, Batch 80 loss: 0.0315489098080434\n",
            "Epoch 29, Batch 100 loss: 0.0255498455546331\n",
            "Epoch 29, Batch 120 loss: 0.0140822809538804\n",
            "Epoch 30, Batch 20 loss: 0.0289432957652025\n",
            "Epoch 30, Batch 40 loss: 0.0434615269652568\n",
            "Epoch 30, Batch 60 loss: 0.0297803171735723\n",
            "Epoch 30, Batch 80 loss: 0.0304731926851673\n",
            "Epoch 30, Batch 100 loss: 0.0173822172393557\n",
            "Epoch 30, Batch 120 loss: 0.0285262297606096\n",
            "Epoch 31, Batch 20 loss: 0.0249991900462192\n",
            "Epoch 31, Batch 40 loss: 0.0121287032845430\n",
            "Epoch 31, Batch 60 loss: 0.0126162582775578\n",
            "Epoch 31, Batch 80 loss: 0.0447230066754855\n",
            "Epoch 31, Batch 100 loss: 0.0209690632473212\n",
            "Epoch 31, Batch 120 loss: 0.0337347635882907\n",
            "Epoch 32, Batch 20 loss: 0.0391526976076420\n",
            "Epoch 32, Batch 40 loss: 0.0301393009547610\n",
            "Epoch 32, Batch 60 loss: 0.0259940892807208\n",
            "Epoch 32, Batch 80 loss: 0.0198190967028495\n",
            "Epoch 32, Batch 100 loss: 0.0285807006934192\n",
            "Epoch 32, Batch 120 loss: 0.0169244187534787\n",
            "Epoch 33, Batch 20 loss: 0.0296447256114334\n",
            "Epoch 33, Batch 40 loss: 0.0246091641660314\n",
            "Epoch 33, Batch 60 loss: 0.0335277390433475\n",
            "Epoch 33, Batch 80 loss: 0.0254137747455388\n",
            "Epoch 33, Batch 100 loss: 0.0162839110183995\n",
            "Epoch 33, Batch 120 loss: 0.0296452463429887\n",
            "Epoch 34, Batch 20 loss: 0.0185316109680571\n",
            "Epoch 34, Batch 40 loss: 0.0254057609708980\n",
            "Epoch 34, Batch 60 loss: 0.0203458585543558\n",
            "Epoch 34, Batch 80 loss: 0.0182940527563915\n",
            "Epoch 34, Batch 100 loss: 0.0185658965783659\n",
            "Epoch 34, Batch 120 loss: 0.0463549032894662\n",
            "Epoch 35, Batch 20 loss: 0.0194541640928946\n",
            "Epoch 35, Batch 40 loss: 0.0137538143608253\n",
            "Epoch 35, Batch 60 loss: 0.0174152106861584\n",
            "Epoch 35, Batch 80 loss: 0.0231678587559145\n",
            "Epoch 35, Batch 100 loss: 0.0277072234312072\n",
            "Epoch 35, Batch 120 loss: 0.0148134179296903\n",
            "Epoch 36, Batch 20 loss: 0.0102001737046521\n",
            "Epoch 36, Batch 40 loss: 0.0256836975342594\n",
            "Epoch 36, Batch 60 loss: 0.0193251604068791\n",
            "Epoch 36, Batch 80 loss: 0.0316255527199246\n",
            "Epoch 36, Batch 100 loss: 0.0223497726081405\n",
            "Epoch 36, Batch 120 loss: 0.0237975889991503\n",
            "Epoch 37, Batch 20 loss: 0.0230419914121740\n",
            "Epoch 37, Batch 40 loss: 0.0152832650928758\n",
            "Epoch 37, Batch 60 loss: 0.0162182884698268\n",
            "Epoch 37, Batch 80 loss: 0.0189150878984947\n",
            "Epoch 37, Batch 100 loss: 0.0234436841506977\n",
            "Epoch 37, Batch 120 loss: 0.0183087154640816\n",
            "Epoch 38, Batch 20 loss: 0.0371206520707347\n",
            "Epoch 38, Batch 40 loss: 0.0221787513582967\n",
            "Epoch 38, Batch 60 loss: 0.0165992961265147\n",
            "Epoch 38, Batch 80 loss: 0.0380763149354607\n",
            "Epoch 38, Batch 100 loss: 0.0159817436942831\n",
            "Epoch 38, Batch 120 loss: 0.0183157510706224\n",
            "Epoch 39, Batch 20 loss: 0.0159812467056327\n",
            "Epoch 39, Batch 40 loss: 0.0179423107445473\n",
            "Epoch 39, Batch 60 loss: 0.0370118196646217\n",
            "Epoch 39, Batch 80 loss: 0.0230777839373332\n",
            "Epoch 39, Batch 100 loss: 0.0251288806612138\n",
            "Epoch 39, Batch 120 loss: 0.0175588824320585\n",
            "Epoch 40, Batch 20 loss: 0.0189712453051470\n",
            "Epoch 40, Batch 40 loss: 0.0216587387956679\n",
            "Epoch 40, Batch 60 loss: 0.0342656302556861\n",
            "Epoch 40, Batch 80 loss: 0.0086035180138424\n",
            "Epoch 40, Batch 100 loss: 0.0086795014678501\n",
            "Epoch 40, Batch 120 loss: 0.0154905590927228\n",
            "Epoch 41, Batch 20 loss: 0.0076056583609898\n",
            "Epoch 41, Batch 40 loss: 0.0215743556880625\n",
            "Epoch 41, Batch 60 loss: 0.0284346320462646\n",
            "Epoch 41, Batch 80 loss: 0.0120254892681260\n",
            "Epoch 41, Batch 100 loss: 0.0080607996409526\n",
            "Epoch 41, Batch 120 loss: 0.0245604133757297\n",
            "Epoch 42, Batch 20 loss: 0.0281814160465729\n",
            "Epoch 42, Batch 40 loss: 0.0123815757731791\n",
            "Epoch 42, Batch 60 loss: 0.0403723462019116\n",
            "Epoch 42, Batch 80 loss: 0.0193828739109449\n",
            "Epoch 42, Batch 100 loss: 0.0093488028505817\n",
            "Epoch 42, Batch 120 loss: 0.0162332104053348\n",
            "Epoch 43, Batch 20 loss: 0.0109311443025945\n",
            "Epoch 43, Batch 40 loss: 0.0146337077836506\n",
            "Epoch 43, Batch 60 loss: 0.0247909733792767\n",
            "Epoch 43, Batch 80 loss: 0.0132067410973832\n",
            "Epoch 43, Batch 100 loss: 0.0228689024457708\n",
            "Epoch 43, Batch 120 loss: 0.0306371330050752\n",
            "Epoch 44, Batch 20 loss: 0.0168661491188686\n",
            "Epoch 44, Batch 40 loss: 0.0127085734915454\n",
            "Epoch 44, Batch 60 loss: 0.0148896122002043\n",
            "Epoch 44, Batch 80 loss: 0.0140487643133383\n",
            "Epoch 44, Batch 100 loss: 0.0102198077016510\n",
            "Epoch 44, Batch 120 loss: 0.0139075365092140\n",
            "Epoch 45, Batch 20 loss: 0.0094013539433945\n",
            "Epoch 45, Batch 40 loss: 0.0101589972473448\n",
            "Epoch 45, Batch 60 loss: 0.0083616872900166\n",
            "Epoch 45, Batch 80 loss: 0.0286349702917505\n",
            "Epoch 45, Batch 100 loss: 0.0087091758789029\n",
            "Epoch 45, Batch 120 loss: 0.0187387674697675\n",
            "Epoch 46, Batch 20 loss: 0.0216075947042555\n",
            "Epoch 46, Batch 40 loss: 0.0131382700579707\n",
            "Epoch 46, Batch 60 loss: 0.0203132289578207\n",
            "Epoch 46, Batch 80 loss: 0.0282510246732272\n",
            "Epoch 46, Batch 100 loss: 0.0179836994968355\n",
            "Epoch 46, Batch 120 loss: 0.0145382108981721\n",
            "Epoch 47, Batch 20 loss: 0.0270764170447364\n",
            "Epoch 47, Batch 40 loss: 0.0083641523553524\n",
            "Epoch 47, Batch 60 loss: 0.0169135834847111\n",
            "Epoch 47, Batch 80 loss: 0.0099408787442371\n",
            "Epoch 47, Batch 100 loss: 0.0199209822574630\n",
            "Epoch 47, Batch 120 loss: 0.0222958791651763\n",
            "Epoch 48, Batch 20 loss: 0.0121567754889838\n",
            "Epoch 48, Batch 40 loss: 0.0241289809986483\n",
            "Epoch 48, Batch 60 loss: 0.0103379920590669\n",
            "Epoch 48, Batch 80 loss: 0.0191484902636148\n",
            "Epoch 48, Batch 100 loss: 0.0218735236325301\n",
            "Epoch 48, Batch 120 loss: 0.0134427312208572\n",
            "Epoch 49, Batch 20 loss: 0.0154792864108458\n",
            "Epoch 49, Batch 40 loss: 0.0120478843920864\n",
            "Epoch 49, Batch 60 loss: 0.0143939934147056\n",
            "Epoch 49, Batch 80 loss: 0.0121325205022003\n",
            "Epoch 49, Batch 100 loss: 0.0123560564476065\n",
            "Epoch 49, Batch 120 loss: 0.0349190053093480\n",
            "Epoch 50, Batch 20 loss: 0.0200674404652091\n",
            "Epoch 50, Batch 40 loss: 0.0091445155849215\n",
            "Epoch 50, Batch 60 loss: 0.0142115446040407\n",
            "Epoch 50, Batch 80 loss: 0.0158040038833860\n",
            "Epoch 50, Batch 100 loss: 0.0277726941392757\n",
            "Epoch 50, Batch 120 loss: 0.0192850523453671\n"
          ]
        }
      ]
    },
    {
      "cell_type": "code",
      "metadata": {
        "id": "CfA7ZjLR1BZP",
        "colab": {
          "base_uri": "https://localhost:8080/",
          "height": 281
        },
        "outputId": "5b02df8b-ef51-4411-a8d4-2c3cf7d5a63f"
      },
      "source": [
        "plt.plot(train_losses)\n",
        "plt.title(\"Training Loss\")\n",
        "plt.show()"
      ],
      "execution_count": 15,
      "outputs": [
        {
          "output_type": "display_data",
          "data": {
            "image/png": "[encoded data removed]",
            "text/plain": [
              "<Figure size 432x288 with 1 Axes>"
            ]
          },
          "metadata": {
            "needs_background": "light"
          }
        }
      ]
    },
    {
      "cell_type": "markdown",
      "metadata": {
        "id": "ItLyF9dQyJFL"
      },
      "source": [
        "Testing the model"
      ]
    },
    {
      "cell_type": "code",
      "metadata": {
        "id": "gGki98W3SoEW"
      },
      "source": [
        "from sklearn.metrics import precision_score, recall_score, f1_score, accuracy_score"
      ],
      "execution_count": 16,
      "outputs": []
    },
    {
      "cell_type": "code",
      "metadata": {
        "id": "xNavYOynyE6d",
        "colab": {
          "base_uri": "https://localhost:8080/"
        },
        "outputId": "098a5a8f-d9c1-43a8-e458-f6366ec6365c"
      },
      "source": [
        "# The test_model function is from model_testing python file\n",
        "test_loss, class_correct, class_total, labels, predictions = test_model(classes, inception_v3, test_loader, criterion)\n",
        "\n",
        "# Test accuracy for each hieroglyph\n",
        "for i in range(len(classes)):\n",
        "    if class_total[i] > 0:\n",
        "        print('Test Accuracy of %5s: %2d%% (%2d/%2d)' % (classes[i], 100 * class_correct[i] / class_total[i], np.sum(class_correct[i]), np.sum(class_total[i])))\n",
        "    else:\n",
        "        print('Test Accuracy of %5s: N/A (no training examples)' % (classes[i]))\n",
        "\n",
        "# Total Test accuracy\n",
        "print(\"\\nAccuracy: {:.3%}\".format(accuracy_score(labels, predictions)))\n",
        "print(\"\\nPrecision: {:.3%}\".format(precision_score(labels, predictions, average = 'weighted')))\n",
        "print(\"\\nRecall: {:.3%}\".format(recall_score(labels, predictions, average = 'weighted')))\n",
        "print(\"\\nF1-score: {:.3%}\".format(f1_score(labels, predictions, average = 'weighted')))"
      ],
      "execution_count": 17,
      "outputs": [
        {
          "output_type": "stream",
          "name": "stdout",
          "text": [
            "Test Loss: 0.144955\n",
            "\n",
            "Test Accuracy of    D2: 100% (15/15)\n",
            "Test Accuracy of   D21: 100% (15/15)\n",
            "Test Accuracy of   D36: 100% (21/21)\n",
            "Test Accuracy of    D4: 100% (22/22)\n",
            "Test Accuracy of   D46: 86% (13/15)\n",
            "Test Accuracy of   D58: 100% (14/14)\n",
            "Test Accuracy of   E23: 96% (24/25)\n",
            "Test Accuracy of   E34: 100% (10/10)\n",
            "Test Accuracy of   F31: 100% ( 9/ 9)\n",
            "Test Accuracy of   F35: 100% (21/21)\n",
            "Test Accuracy of    G1: 100% (12/12)\n",
            "Test Accuracy of   G17: 85% (12/14)\n",
            "Test Accuracy of   G43: 100% (12/12)\n",
            "Test Accuracy of   I10: 100% (20/20)\n",
            "Test Accuracy of    I9: 100% (18/18)\n",
            "Test Accuracy of   M17: 100% (19/19)\n",
            "Test Accuracy of   M23: 100% (15/15)\n",
            "Test Accuracy of   N35: 100% (21/21)\n",
            "Test Accuracy of    O1: 100% (22/22)\n",
            "Test Accuracy of   O34: 100% (11/11)\n",
            "Test Accuracy of    O4: 100% (11/11)\n",
            "Test Accuracy of   O49: 100% (17/17)\n",
            "Test Accuracy of    Q1: 60% (15/25)\n",
            "Test Accuracy of    Q3: 100% (23/23)\n",
            "Test Accuracy of    R4: 100% (15/15)\n",
            "Test Accuracy of    R8: 100% (20/20)\n",
            "Test Accuracy of   S29: 100% ( 9/ 9)\n",
            "Test Accuracy of   S34: 100% (18/18)\n",
            "Test Accuracy of    U7: 100% (11/11)\n",
            "Test Accuracy of   V13: 100% (10/10)\n",
            "Test Accuracy of   V28: 100% (13/13)\n",
            "Test Accuracy of   V30: 26% ( 4/15)\n",
            "Test Accuracy of   V31: 100% (18/18)\n",
            "Test Accuracy of   W11: 66% (14/21)\n",
            "Test Accuracy of   W24: 100% (16/16)\n",
            "Test Accuracy of    X1: 100% ( 8/ 8)\n",
            "Test Accuracy of    X8: 100% (15/15)\n",
            "Test Accuracy of    Y1: 100% (12/12)\n",
            "Test Accuracy of    Y5: 100% (11/11)\n",
            "Test Accuracy of    Z1: 100% (14/14)\n",
            "\n",
            "Accuracy: 94.787%\n",
            "\n",
            "Precision: 96.258%\n",
            "\n",
            "Recall: 94.787%\n",
            "\n",
            "F1-score: 94.391%\n"
          ]
        }
      ]
    }
  ]
}