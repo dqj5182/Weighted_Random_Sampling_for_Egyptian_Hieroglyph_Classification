{
  "nbformat": 4,
  "nbformat_minor": 0,
  "metadata": {
    "colab": {
      "name": "Egyptian_model_with_Inception_Pretrained_40_classes_clean_WeightedRandomSampler_only_on_testing.ipynb",
      "provenance": [],
      "collapsed_sections": []
    },
    "kernelspec": {
      "name": "python3",
      "display_name": "Python 3"
    },
    "language_info": {
      "name": "python"
    },
    "accelerator": "GPU"
  },
  "cells": [
    {
      "cell_type": "code",
      "metadata": {
        "colab": {
          "base_uri": "https://localhost:8080/"
        },
        "id": "Po0ZVacIYsP0",
        "outputId": "5584ae29-1cb5-4385-adad-40c7527eb9e4"
      },
      "source": [
        "!pip install timm"
      ],
      "execution_count": 1,
      "outputs": [
        {
          "output_type": "stream",
          "name": "stdout",
          "text": [
            "Requirement already satisfied: timm in /usr/local/lib/python3.7/dist-packages (0.4.12)\n",
            "Requirement already satisfied: torchvision in /usr/local/lib/python3.7/dist-packages (from timm) (0.11.1+cu111)\n",
            "Requirement already satisfied: torch>=1.4 in /usr/local/lib/python3.7/dist-packages (from timm) (1.10.0+cu111)\n",
            "Requirement already satisfied: typing-extensions in /usr/local/lib/python3.7/dist-packages (from torch>=1.4->timm) (3.10.0.2)\n",
            "Requirement already satisfied: numpy in /usr/local/lib/python3.7/dist-packages (from torchvision->timm) (1.19.5)\n",
            "Requirement already satisfied: pillow!=8.3.0,>=5.3.0 in /usr/local/lib/python3.7/dist-packages (from torchvision->timm) (7.1.2)\n"
          ]
        }
      ]
    },
    {
      "cell_type": "code",
      "metadata": {
        "id": "8iEiGSblxJzW"
      },
      "source": [
        "import os, os.path\n",
        "import torch\n",
        "import numpy as np\n",
        "import torch.nn as nn\n",
        "import torch.optim as optim\n",
        "from pathlib import Path\n",
        "from torchvision import datasets, models, transforms\n",
        "import timm\n",
        "\n",
        "# check if CUDA is available\n",
        "train_on_gpu = torch.cuda.is_available()"
      ],
      "execution_count": 2,
      "outputs": []
    },
    {
      "cell_type": "markdown",
      "metadata": {
        "id": "Jd6KU8VMz6J3"
      },
      "source": [
        "Module: Load_data"
      ]
    },
    {
      "cell_type": "code",
      "metadata": {
        "id": "CFTKwolqDOAG"
      },
      "source": [
        "def get_class_distribution(dataset_obj, idx2class):\n",
        "    count_dict = {k:0 for k,v in dataset_obj.class_to_idx.items()}\n",
        "    \n",
        "    for element in dataset_obj:\n",
        "        y_lbl = element[1]\n",
        "        y_lbl = idx2class[y_lbl]\n",
        "        count_dict[y_lbl] += 1\n",
        "            \n",
        "    return count_dict"
      ],
      "execution_count": 3,
      "outputs": []
    },
    {
      "cell_type": "code",
      "metadata": {
        "id": "8lWX0BW_w_kC"
      },
      "source": [
        "def load_data(hieroglyph_directory_path, batch_size=20, num_workers=0):\n",
        "    train_dir = os.path.join(hieroglyph_directory_path, 'train/')\n",
        "    test_dir = os.path.join(hieroglyph_directory_path, 'test/')\n",
        "\n",
        "    classes = []\n",
        "\n",
        "    for filename in os.listdir(train_dir):\n",
        "        if filename == '.DS_Store':\n",
        "            pass\n",
        "        else:\n",
        "            classes.append(filename)\n",
        "\n",
        "    classes.sort()\n",
        "\n",
        "    # print(\"Our classes:\", classes)\n",
        "    # print(len(classes))\n",
        "\n",
        "    data_transform = transforms.Compose([transforms.ToTensor(),\n",
        "                                            transforms.RandomApply([transforms.RandomHorizontalFlip()]),\n",
        "                                            transforms.RandomRotation(degrees=(-10, 10)),\n",
        "                                            transforms.RandomAffine(degrees=0, translate=(.1, .1)),\n",
        "                                            transforms.RandomApply([transforms.ColorJitter(brightness=(1, 1.2),\n",
        "                                                                                            contrast=(1, 1.5),\n",
        "                                                                                            saturation=(1, 1.5),\n",
        "                                                                                            hue=(0, 0.5))]),\n",
        "                                            transforms.RandomErasing(p=0.5, scale=(0.05, 0.05), ratio=(0.3, 3.3), value=0,\n",
        "                                                                      inplace=False),\n",
        "                                            transforms.Resize((299, 299)),\n",
        "                                            transforms.Normalize((0.5,), (0.5,))])\n",
        "\n",
        "    train_data = datasets.ImageFolder(train_dir, transform=data_transform)\n",
        "    test_data = datasets.ImageFolder(test_dir, transform=data_transform)\n",
        "\n",
        "\n",
        "    # print('Num training images: ', len(train_data))\n",
        "    # print('Num test images: ', len(test_data))\n",
        "\n",
        "    # prepare data loaders\n",
        "    train_loader = torch.utils.data.DataLoader(train_data, batch_size=batch_size,\n",
        "                                               num_workers=num_workers, shuffle=True)\n",
        "    \n",
        "    # WeightedRandomSampler for test loader\n",
        "    idx2class_test = {v: k for k, v in test_data.class_to_idx.items()}\n",
        "\n",
        "    target_list_test = torch.tensor(test_data.targets)\n",
        "    class_count_test = [i for i in get_class_distribution(test_data, idx2class_test).values()]\n",
        "    class_weights_test = 1./torch.tensor(class_count_test, dtype=torch.float) \n",
        "    class_weights_all_test = class_weights_test[target_list_test]\n",
        "    weighted_sampler_test = torch.utils.data.WeightedRandomSampler(weights=class_weights_all_test, num_samples=len(class_weights_all_test), replacement=True)\n",
        "\n",
        "    test_loader = torch.utils.data.DataLoader(test_data, batch_size=batch_size,\n",
        "                                              num_workers=num_workers, sampler=weighted_sampler_test)\n",
        "\n",
        "    return train_loader, test_loader, classes"
      ],
      "execution_count": 4,
      "outputs": []
    },
    {
      "cell_type": "markdown",
      "metadata": {
        "id": "K4sXUrPPz7iF"
      },
      "source": [
        "Module: Train_model"
      ]
    },
    {
      "cell_type": "code",
      "metadata": {
        "id": "N2N_rnKLxN5c"
      },
      "source": [
        "def train_model(train_loader, optimizer, conv_net_model, criterion, my_lr_scheduler, n_epochs):\n",
        "    # track training loss over time\n",
        "    losses = []\n",
        "    \n",
        "    for epoch in range(1, n_epochs + 1):\n",
        "\n",
        "        # keep track of training and validation loss\n",
        "        train_loss = 0.0\n",
        "\n",
        "        # model by default is set to train\n",
        "        for batch_i, (data, target) in enumerate(train_loader):\n",
        "            # move tensors to GPU if CUDA is available\n",
        "            if train_on_gpu:\n",
        "                data, target = data.cuda(), target.cuda()\n",
        "            # clear the gradients of all optimized variables\n",
        "            optimizer.zero_grad()\n",
        "            # forward pass: compute predicted outputs by passing inputs to the model\n",
        "            output = conv_net_model(data)\n",
        "            # calculate the batch loss\n",
        "            loss = criterion(output.logits, target)\n",
        "            # backward pass: compute gradient of the loss with respect to model parameters\n",
        "            loss.backward()\n",
        "            # perform a single optimization step (parameter update)\n",
        "            optimizer.step()\n",
        "            # update training loss\n",
        "            train_loss += loss.item()\n",
        "\n",
        "            my_lr_scheduler.step()\n",
        "\n",
        "            if batch_i % 20 == 19:  # print training loss every specified number of mini-batches\n",
        "                print('Epoch %d, Batch %d loss: %.16f' %\n",
        "                    (epoch, batch_i + 1, train_loss / 20))\n",
        "                losses.append(train_loss / 20)\n",
        "                train_loss = 0.0\n",
        "\n",
        "    return conv_net_model, losses"
      ],
      "execution_count": 5,
      "outputs": []
    },
    {
      "cell_type": "markdown",
      "metadata": {
        "id": "-Rrxo5RDz96U"
      },
      "source": [
        "Module: Test_model"
      ]
    },
    {
      "cell_type": "code",
      "metadata": {
        "id": "Ay-HlMJnxU9v"
      },
      "source": [
        "def test_model(classes, conv_net_model, test_loader, criterion):\n",
        "    # track test loss\n",
        "    test_loss = 0.0\n",
        "    class_correct = list(0. for i in range(len(classes)))\n",
        "    class_total = list(0. for i in range(len(classes)))\n",
        "\n",
        "    conv_net_model.eval()  # eval mode\n",
        "\n",
        "    labels = []\n",
        "    predictions = []\n",
        "    # iterate over test data\n",
        "    for data, target in test_loader:\n",
        "        # move tensors to GPU if CUDA is available\n",
        "        if train_on_gpu:\n",
        "            data, target = data.cuda(), target.cuda()\n",
        "        # forward pass: compute predicted outputs by passing inputs to the model\n",
        "        output = conv_net_model(data)\n",
        "        # calculate the batch loss\n",
        "        loss = criterion(output, target)\n",
        "        # update  test loss\n",
        "        test_loss += loss.item() * data.size(0)\n",
        "        # convert output probabilities to predicted class\n",
        "        _, pred = torch.max(output, 1)\n",
        "        # compare predictions to true label\n",
        "        correct_tensor = pred.eq(target.data.view_as(pred))\n",
        "        correct = np.squeeze(correct_tensor.numpy()) if not train_on_gpu else np.squeeze(correct_tensor.cpu().numpy())\n",
        "        # calculate test accuracy for each object class\n",
        "        for i in range(len(target.data)):\n",
        "            label = target.data[i]\n",
        "            class_correct[label] += correct[i].item()\n",
        "            class_total[label] += 1\n",
        "        \n",
        "        # Will be used for calculating Recall, Precision, and F1-score\n",
        "        labels.extend(target.data.view_as(pred).tolist())\n",
        "        predictions.extend(pred.tolist())\n",
        "\n",
        "\n",
        "    # calculate avg test loss\n",
        "    test_loss = test_loss / len(test_loader.dataset)\n",
        "    print('Test Loss: {:.6f}\\n'.format(test_loss))\n",
        "\n",
        "    return test_loss, class_correct, class_total, labels, predictions"
      ],
      "execution_count": 6,
      "outputs": []
    },
    {
      "cell_type": "markdown",
      "metadata": {
        "id": "xHh3PXE80Asa"
      },
      "source": [
        "Check whether CUDA is available (Change runtime type if not)"
      ]
    },
    {
      "cell_type": "code",
      "metadata": {
        "colab": {
          "base_uri": "https://localhost:8080/"
        },
        "id": "Q9TYPQH7x4zw",
        "outputId": "24b3f44b-2f46-44ab-eb67-1d73e3458aba"
      },
      "source": [
        "if not train_on_gpu:\n",
        "    print('CUDA is not available.  Training on CPU ...')\n",
        "else:\n",
        "    print('CUDA is available!  Training on GPU ...')"
      ],
      "execution_count": 7,
      "outputs": [
        {
          "output_type": "stream",
          "name": "stdout",
          "text": [
            "CUDA is available!  Training on GPU ...\n"
          ]
        }
      ]
    },
    {
      "cell_type": "markdown",
      "metadata": {
        "id": "6lYw8EKVx8Q7"
      },
      "source": [
        "Load Hieroglyph Data"
      ]
    },
    {
      "cell_type": "code",
      "metadata": {
        "colab": {
          "base_uri": "https://localhost:8080/"
        },
        "id": "laLvoRy1yewl",
        "outputId": "03b46795-0cd4-42eb-9fab-379d4a0f4257"
      },
      "source": [
        "# Connecting and Mounting to the Google Drive\n",
        "from google.colab import drive\n",
        "drive.mount('/content/drive')"
      ],
      "execution_count": 8,
      "outputs": [
        {
          "output_type": "stream",
          "name": "stdout",
          "text": [
            "Drive already mounted at /content/drive; to attempt to forcibly remount, call drive.mount(\"/content/drive\", force_remount=True).\n"
          ]
        }
      ]
    },
    {
      "cell_type": "code",
      "metadata": {
        "id": "odaoZt9GyfUt"
      },
      "source": [
        "data_dir = '/content/drive/MyDrive/EgyptianHieroglyphDataset_Original_Clean/'"
      ],
      "execution_count": 9,
      "outputs": []
    },
    {
      "cell_type": "code",
      "metadata": {
        "colab": {
          "base_uri": "https://localhost:8080/"
        },
        "id": "dF22MAnmyiC1",
        "outputId": "b9d49bb5-04c4-407c-bc63-d53f05153522"
      },
      "source": [
        "hieroglyph_for_train = []\n",
        "file_count_list = []\n",
        "\n",
        "for name in os.listdir('/content/drive/MyDrive/EgyptianHieroglyphDataset_Original_Clean/train/'):\n",
        "  path, dirs, files = next(os.walk(\"/content/drive/MyDrive/EgyptianHieroglyphDataset_Original_Clean/train/\"+name))\n",
        "  file_count = len(files)\n",
        "  print(name, file_count)\n",
        "  file_count_list.append(file_count)\n",
        "  hieroglyph_for_train.append(name)\n",
        "\n",
        "hieroglyph_dict = dict(zip(hieroglyph_for_train, file_count_list))"
      ],
      "execution_count": 10,
      "outputs": [
        {
          "output_type": "stream",
          "name": "stdout",
          "text": [
            "Y5 6\n",
            "I9 116\n",
            "O34 15\n",
            "V13 63\n",
            "U7 3\n",
            "D46 40\n",
            "E34 97\n",
            "G1 28\n",
            "V31 106\n",
            "S34 8\n",
            "D36 47\n",
            "Q1 13\n",
            "V30 6\n",
            "F35 2\n",
            "O4 11\n",
            "M23 30\n",
            "S29 212\n",
            "R8 53\n",
            "W11 4\n",
            "X1 185\n",
            "Y1 1\n",
            "D21 146\n",
            "D2 19\n",
            "E23 8\n",
            "X8 4\n",
            "Z1 39\n",
            "D4 29\n",
            "V28 28\n",
            "I10 32\n",
            "O1 16\n",
            "M17 291\n",
            "F31 6\n",
            "G43 157\n",
            "D58 28\n",
            "O49 10\n",
            "G17 156\n",
            "R4 2\n",
            "Q3 61\n",
            "W24 31\n",
            "N35 358\n"
          ]
        }
      ]
    },
    {
      "cell_type": "markdown",
      "metadata": {
        "id": "XeQQ7PjZzKd9"
      },
      "source": [
        "Number of images for each hieroglyph "
      ]
    },
    {
      "cell_type": "code",
      "metadata": {
        "colab": {
          "base_uri": "https://localhost:8080/",
          "height": 609
        },
        "id": "W6IzWR2RyjxM",
        "outputId": "3eb7c3c0-1050-440c-a926-5c95ffb8c254"
      },
      "source": [
        "import matplotlib.pyplot as plt\n",
        "import pandas as pd\n",
        "\n",
        "df = pd.DataFrame({\"Hieroglyph\":hieroglyph_for_train, \"Count\":file_count_list})\n",
        "\n",
        "df_sorted= df.sort_values('Count',ascending=False)\n",
        "\n",
        "plt.figure(figsize=(20,10))\n",
        "# make bar plot with matplotlib\n",
        "plt.bar('Hieroglyph', 'Count',data=df_sorted)"
      ],
      "execution_count": 11,
      "outputs": [
        {
          "output_type": "execute_result",
          "data": {
            "text/plain": [
              "<BarContainer object of 40 artists>"
            ]
          },
          "metadata": {},
          "execution_count": 11
        },
        {
          "output_type": "display_data",
          "data": {
            "image/png": "[encoded data removed]",
            "text/plain": [
              "<Figure size 1440x720 with 1 Axes>"
            ]
          },
          "metadata": {
            "needs_background": "light"
          }
        }
      ]
    },
    {
      "cell_type": "code",
      "metadata": {
        "id": "-3oOm8rSx7tp"
      },
      "source": [
        "# Number of images processed in a single training\n",
        "batch_size = 20\n",
        "num_workers = 0\n",
        "\n",
        "# The load_data function is from hieroglyph_data_preparation python file\n",
        "train_loader, test_loader, classes = load_data(data_dir)"
      ],
      "execution_count": 12,
      "outputs": []
    },
    {
      "cell_type": "markdown",
      "metadata": {
        "id": "BJm8sGiBx_q5"
      },
      "source": [
        "ResNet Model"
      ]
    },
    {
      "cell_type": "code",
      "metadata": {
        "id": "JkLXVJGkxemC"
      },
      "source": [
        "# Whether to extract features with the model\n",
        "feature_extract = False\n",
        "# Other selections\n",
        "loss_function = \"cross-entropy\"\n",
        "model_selection = \"inception-v3\"\n",
        "optim_selection = \"Adam\"\n",
        "\n",
        "# False if you want scratch model, True if you want pretrained model\n",
        "whether_to_pretrain = True\n",
        "\n",
        "# Load the model\n",
        "if model_selection == \"resnet-50\":\n",
        "    resnet50 = models.resnet50(pretrained=whether_to_pretrain)\n",
        "    # Number of features in the last layer of resnet\n",
        "    n_inputs = resnet50.fc.in_features\n",
        "    # Add last linear layer (n_inputs -> 40 hieroglyph classes)\n",
        "    last_layer = nn.Sequential(\n",
        "                    nn.Linear(n_inputs, len(classes)))\n",
        "    resnet50.fc = last_layer\n",
        "    if train_on_gpu:\n",
        "      resnet50.cuda()\n",
        "    # Specify optimizer (Adam) and learning rate = 0.001\n",
        "    if optim_selection == \"Adam\":\n",
        "        optimizer = optim.Adam(resnet50.parameters(), lr=0.001)\n",
        "\n",
        "elif model_selection == \"inception-v3\":\n",
        "    inception_v3 = models.inception_v3(pretrained=whether_to_pretrain)\n",
        "    # Number of features in the last layer of resnet\n",
        "    n_inputs = inception_v3.fc.in_features\n",
        "    # Add last linear layer (n_inputs -> 40 hieroglyph classes)\n",
        "    last_layer = nn.Sequential(\n",
        "                    nn.Linear(n_inputs, len(classes)))\n",
        "    inception_v3.fc = last_layer\n",
        "    if train_on_gpu:\n",
        "      inception_v3.cuda()\n",
        "    # Specify optimizer (Adam) and learning rate = 0.001\n",
        "    if optim_selection == \"Adam\":\n",
        "        optimizer = optim.Adam(inception_v3.parameters(), lr=0.001)\n",
        "\n",
        "\n",
        "# Specify loss function (categorical cross-entropy)\n",
        "if loss_function == \"cross-entropy\":\n",
        "    criterion = nn.CrossEntropyLoss()\n",
        "\n",
        "# Exponential Decay to strengthen learning\n",
        "decayRate = 0.999\n",
        "my_lr_scheduler = torch.optim.lr_scheduler.ExponentialLR(optimizer=optimizer, gamma=decayRate)"
      ],
      "execution_count": 13,
      "outputs": []
    },
    {
      "cell_type": "markdown",
      "metadata": {
        "id": "U2vnErB1yHmM"
      },
      "source": [
        "Training the model"
      ]
    },
    {
      "cell_type": "code",
      "metadata": {
        "colab": {
          "base_uri": "https://localhost:8080/"
        },
        "id": "dOB03noWyEvQ",
        "outputId": "99778892-20e9-406b-a1b6-2783de4e3ef2"
      },
      "source": [
        "# number of epochs to train the model\n",
        "n_epochs = 50\n",
        "\n",
        "if model_selection == \"resnet-50\":\n",
        "  # The train_model function is from model_training python file\n",
        "  resnet50, train_losses = train_model(train_loader, optimizer, resnet50, criterion, my_lr_scheduler, n_epochs)\n",
        "elif model_selection == \"inception-v3\":\n",
        "  # The train_model function is from model_training python file\n",
        "  inception_v3, train_losses = train_model(train_loader, optimizer, inception_v3, criterion, my_lr_scheduler, n_epochs)"
      ],
      "execution_count": 14,
      "outputs": [
        {
          "output_type": "stream",
          "name": "stdout",
          "text": [
            "Epoch 1, Batch 20 loss: 2.3286866426467894\n",
            "Epoch 1, Batch 40 loss: 1.9227986812591553\n",
            "Epoch 1, Batch 60 loss: 1.5092933773994446\n",
            "Epoch 1, Batch 80 loss: 1.4797745048999786\n",
            "Epoch 1, Batch 100 loss: 1.1779940634965897\n",
            "Epoch 1, Batch 120 loss: 1.0026302501559257\n",
            "Epoch 2, Batch 20 loss: 0.6838447615504265\n",
            "Epoch 2, Batch 40 loss: 0.8292456462979316\n",
            "Epoch 2, Batch 60 loss: 0.6975572846829892\n",
            "Epoch 2, Batch 80 loss: 0.6554572358727455\n",
            "Epoch 2, Batch 100 loss: 0.5061354152858257\n",
            "Epoch 2, Batch 120 loss: 0.5819162372499704\n",
            "Epoch 3, Batch 20 loss: 0.4507746331393719\n",
            "Epoch 3, Batch 40 loss: 0.4397489704191685\n",
            "Epoch 3, Batch 60 loss: 0.4749912220984697\n",
            "Epoch 3, Batch 80 loss: 0.3702365119010210\n",
            "Epoch 3, Batch 100 loss: 0.4068174716085196\n",
            "Epoch 3, Batch 120 loss: 0.4138427391648293\n",
            "Epoch 4, Batch 20 loss: 0.4000759351998567\n",
            "Epoch 4, Batch 40 loss: 0.2881551954895258\n",
            "Epoch 4, Batch 60 loss: 0.2299682583659887\n",
            "Epoch 4, Batch 80 loss: 0.2569048661738634\n",
            "Epoch 4, Batch 100 loss: 0.2037839098833501\n",
            "Epoch 4, Batch 120 loss: 0.2920195620507002\n",
            "Epoch 5, Batch 20 loss: 0.2798437166959047\n",
            "Epoch 5, Batch 40 loss: 0.2423492111265659\n",
            "Epoch 5, Batch 60 loss: 0.2205912720412016\n",
            "Epoch 5, Batch 80 loss: 0.1235585209913552\n",
            "Epoch 5, Batch 100 loss: 0.1359425920061767\n",
            "Epoch 5, Batch 120 loss: 0.2161785399541259\n",
            "Epoch 6, Batch 20 loss: 0.1435858111828566\n",
            "Epoch 6, Batch 40 loss: 0.1011730417143553\n",
            "Epoch 6, Batch 60 loss: 0.1202027379535139\n",
            "Epoch 6, Batch 80 loss: 0.1424154347740114\n",
            "Epoch 6, Batch 100 loss: 0.1514962569810450\n",
            "Epoch 6, Batch 120 loss: 0.1200546836946160\n",
            "Epoch 7, Batch 20 loss: 0.1763116884045303\n",
            "Epoch 7, Batch 40 loss: 0.1358300081919879\n",
            "Epoch 7, Batch 60 loss: 0.1022412449121475\n",
            "Epoch 7, Batch 80 loss: 0.1696146655827761\n",
            "Epoch 7, Batch 100 loss: 0.1582112784497440\n",
            "Epoch 7, Batch 120 loss: 0.0805403430014849\n",
            "Epoch 8, Batch 20 loss: 0.0685501699335873\n",
            "Epoch 8, Batch 40 loss: 0.1126307867234573\n",
            "Epoch 8, Batch 60 loss: 0.0977006838191301\n",
            "Epoch 8, Batch 80 loss: 0.0710541238251608\n",
            "Epoch 8, Batch 100 loss: 0.1015812532976270\n",
            "Epoch 8, Batch 120 loss: 0.0478354175575078\n",
            "Epoch 9, Batch 20 loss: 0.0880951586179435\n",
            "Epoch 9, Batch 40 loss: 0.0765722960699350\n",
            "Epoch 9, Batch 60 loss: 0.0734407146461308\n",
            "Epoch 9, Batch 80 loss: 0.0561630041454919\n",
            "Epoch 9, Batch 100 loss: 0.0454206336289644\n",
            "Epoch 9, Batch 120 loss: 0.0823341223876923\n",
            "Epoch 10, Batch 20 loss: 0.0713740056962706\n",
            "Epoch 10, Batch 40 loss: 0.0860134960967116\n",
            "Epoch 10, Batch 60 loss: 0.0421390306379180\n",
            "Epoch 10, Batch 80 loss: 0.0572887081652880\n",
            "Epoch 10, Batch 100 loss: 0.0432219860143960\n",
            "Epoch 10, Batch 120 loss: 0.0614646101021208\n",
            "Epoch 11, Batch 20 loss: 0.0781795200542547\n",
            "Epoch 11, Batch 40 loss: 0.0589848396833986\n",
            "Epoch 11, Batch 60 loss: 0.0429844132682774\n",
            "Epoch 11, Batch 80 loss: 0.0500463774660602\n",
            "Epoch 11, Batch 100 loss: 0.0431463193730451\n",
            "Epoch 11, Batch 120 loss: 0.0291788872273173\n",
            "Epoch 12, Batch 20 loss: 0.0399940839153714\n",
            "Epoch 12, Batch 40 loss: 0.0247965308954008\n",
            "Epoch 12, Batch 60 loss: 0.0316628031141590\n",
            "Epoch 12, Batch 80 loss: 0.0399150623008609\n",
            "Epoch 12, Batch 100 loss: 0.0418642005650327\n",
            "Epoch 12, Batch 120 loss: 0.0561852489947341\n",
            "Epoch 13, Batch 20 loss: 0.0235205672244774\n",
            "Epoch 13, Batch 40 loss: 0.0388177348067984\n",
            "Epoch 13, Batch 60 loss: 0.0231083864171524\n",
            "Epoch 13, Batch 80 loss: 0.0574466232268605\n",
            "Epoch 13, Batch 100 loss: 0.0452150512923254\n",
            "Epoch 13, Batch 120 loss: 0.0376031548948959\n",
            "Epoch 14, Batch 20 loss: 0.0312837708741426\n",
            "Epoch 14, Batch 40 loss: 0.0390011371084256\n",
            "Epoch 14, Batch 60 loss: 0.0282548403192777\n",
            "Epoch 14, Batch 80 loss: 0.0700750092160888\n",
            "Epoch 14, Batch 100 loss: 0.0365284435916692\n",
            "Epoch 14, Batch 120 loss: 0.0288413020549342\n",
            "Epoch 15, Batch 20 loss: 0.0256882242392749\n",
            "Epoch 15, Batch 40 loss: 0.0435027233179426\n",
            "Epoch 15, Batch 60 loss: 0.0296171578811482\n",
            "Epoch 15, Batch 80 loss: 0.0295022816397250\n",
            "Epoch 15, Batch 100 loss: 0.0366204198624473\n",
            "Epoch 15, Batch 120 loss: 0.0468013537698425\n",
            "Epoch 16, Batch 20 loss: 0.0244674431975000\n",
            "Epoch 16, Batch 40 loss: 0.0338104521622881\n",
            "Epoch 16, Batch 60 loss: 0.0331017900200095\n",
            "Epoch 16, Batch 80 loss: 0.0396665360603947\n",
            "Epoch 16, Batch 100 loss: 0.0255497506383108\n",
            "Epoch 16, Batch 120 loss: 0.0303497879154747\n",
            "Epoch 17, Batch 20 loss: 0.0411490405327640\n",
            "Epoch 17, Batch 40 loss: 0.0310318089148495\n",
            "Epoch 17, Batch 60 loss: 0.0114202843979001\n",
            "Epoch 17, Batch 80 loss: 0.0147691831400152\n",
            "Epoch 17, Batch 100 loss: 0.0071901237795828\n",
            "Epoch 17, Batch 120 loss: 0.0140496909210924\n",
            "Epoch 18, Batch 20 loss: 0.0138199600041844\n",
            "Epoch 18, Batch 40 loss: 0.0104881235136418\n",
            "Epoch 18, Batch 60 loss: 0.0095616853621323\n",
            "Epoch 18, Batch 80 loss: 0.0258164601065801\n",
            "Epoch 18, Batch 100 loss: 0.0136599002318690\n",
            "Epoch 18, Batch 120 loss: 0.0309205727040535\n",
            "Epoch 19, Batch 20 loss: 0.0128244747917051\n",
            "Epoch 19, Batch 40 loss: 0.0192534797257395\n",
            "Epoch 19, Batch 60 loss: 0.0085896570744808\n",
            "Epoch 19, Batch 80 loss: 0.0174035863834433\n",
            "Epoch 19, Batch 100 loss: 0.0155298469195259\n",
            "Epoch 19, Batch 120 loss: 0.0119047622167273\n",
            "Epoch 20, Batch 20 loss: 0.0216999321797630\n",
            "Epoch 20, Batch 40 loss: 0.0114064834866440\n",
            "Epoch 20, Batch 60 loss: 0.0088483539497247\n",
            "Epoch 20, Batch 80 loss: 0.0097697300079744\n",
            "Epoch 20, Batch 100 loss: 0.0052431865537073\n",
            "Epoch 20, Batch 120 loss: 0.0180439092757297\n",
            "Epoch 21, Batch 20 loss: 0.0089511598285753\n",
            "Epoch 21, Batch 40 loss: 0.0347357905411627\n",
            "Epoch 21, Batch 60 loss: 0.0234037939866539\n",
            "Epoch 21, Batch 80 loss: 0.0051467950543156\n",
            "Epoch 21, Batch 100 loss: 0.0179728471426642\n",
            "Epoch 21, Batch 120 loss: 0.0222810432154802\n",
            "Epoch 22, Batch 20 loss: 0.0091602814325597\n",
            "Epoch 22, Batch 40 loss: 0.0086549018044025\n",
            "Epoch 22, Batch 60 loss: 0.0184427764819702\n",
            "Epoch 22, Batch 80 loss: 0.0193487599521177\n",
            "Epoch 22, Batch 100 loss: 0.0034575928730192\n",
            "Epoch 22, Batch 120 loss: 0.0188784403086174\n",
            "Epoch 23, Batch 20 loss: 0.0174204619368538\n",
            "Epoch 23, Batch 40 loss: 0.0030691020030645\n",
            "Epoch 23, Batch 60 loss: 0.0138455825450365\n",
            "Epoch 23, Batch 80 loss: 0.0103886913682800\n",
            "Epoch 23, Batch 100 loss: 0.0058565940882545\n",
            "Epoch 23, Batch 120 loss: 0.0103957174782408\n",
            "Epoch 24, Batch 20 loss: 0.0108268389041768\n",
            "Epoch 24, Batch 40 loss: 0.0148724829166895\n",
            "Epoch 24, Batch 60 loss: 0.0247635611434816\n",
            "Epoch 24, Batch 80 loss: 0.0104583736669156\n",
            "Epoch 24, Batch 100 loss: 0.0224423155304976\n",
            "Epoch 24, Batch 120 loss: 0.0048393196746474\n",
            "Epoch 25, Batch 20 loss: 0.0283535285911057\n",
            "Epoch 25, Batch 40 loss: 0.0181745699461317\n",
            "Epoch 25, Batch 60 loss: 0.0099961461790372\n",
            "Epoch 25, Batch 80 loss: 0.0085956369730411\n",
            "Epoch 25, Batch 100 loss: 0.0180692609515972\n",
            "Epoch 25, Batch 120 loss: 0.0133368540758966\n",
            "Epoch 26, Batch 20 loss: 0.0078353360673646\n",
            "Epoch 26, Batch 40 loss: 0.0041005658975337\n",
            "Epoch 26, Batch 60 loss: 0.0048153717332752\n",
            "Epoch 26, Batch 80 loss: 0.0111314406967722\n",
            "Epoch 26, Batch 100 loss: 0.0162908864731435\n",
            "Epoch 26, Batch 120 loss: 0.0152578580164118\n",
            "Epoch 27, Batch 20 loss: 0.0090611906052800\n",
            "Epoch 27, Batch 40 loss: 0.0126556288072607\n",
            "Epoch 27, Batch 60 loss: 0.0121243790927110\n",
            "Epoch 27, Batch 80 loss: 0.0059871687990380\n",
            "Epoch 27, Batch 100 loss: 0.0054066631739261\n",
            "Epoch 27, Batch 120 loss: 0.0102528520219494\n",
            "Epoch 28, Batch 20 loss: 0.0050621731483261\n",
            "Epoch 28, Batch 40 loss: 0.0235016338599962\n",
            "Epoch 28, Batch 60 loss: 0.0169821006798884\n",
            "Epoch 28, Batch 80 loss: 0.0070450202678330\n",
            "Epoch 28, Batch 100 loss: 0.0256409357360099\n",
            "Epoch 28, Batch 120 loss: 0.0044077851896873\n",
            "Epoch 29, Batch 20 loss: 0.0175975982550881\n",
            "Epoch 29, Batch 40 loss: 0.0028655991118285\n",
            "Epoch 29, Batch 60 loss: 0.0058712948171888\n",
            "Epoch 29, Batch 80 loss: 0.0035805668914691\n",
            "Epoch 29, Batch 100 loss: 0.0026506587280892\n",
            "Epoch 29, Batch 120 loss: 0.0057950382950366\n",
            "Epoch 30, Batch 20 loss: 0.0208564337423013\n",
            "Epoch 30, Batch 40 loss: 0.0071499476180179\n",
            "Epoch 30, Batch 60 loss: 0.0092119098582771\n",
            "Epoch 30, Batch 80 loss: 0.0040565659379354\n",
            "Epoch 30, Batch 100 loss: 0.0052347179749631\n",
            "Epoch 30, Batch 120 loss: 0.0027324824564857\n",
            "Epoch 31, Batch 20 loss: 0.0035377161155338\n",
            "Epoch 31, Batch 40 loss: 0.0075300049749785\n",
            "Epoch 31, Batch 60 loss: 0.0033711360978486\n",
            "Epoch 31, Batch 80 loss: 0.0080705919623142\n",
            "Epoch 31, Batch 100 loss: 0.0233394229304395\n",
            "Epoch 31, Batch 120 loss: 0.0037720840744441\n",
            "Epoch 32, Batch 20 loss: 0.0080378249607747\n",
            "Epoch 32, Batch 40 loss: 0.0139359037508257\n",
            "Epoch 32, Batch 60 loss: 0.0100514468911570\n",
            "Epoch 32, Batch 80 loss: 0.0173155700031202\n",
            "Epoch 32, Batch 100 loss: 0.0037533508089837\n",
            "Epoch 32, Batch 120 loss: 0.0035850988380844\n",
            "Epoch 33, Batch 20 loss: 0.0096615847884095\n",
            "Epoch 33, Batch 40 loss: 0.0091840833221795\n",
            "Epoch 33, Batch 60 loss: 0.0052279488387285\n",
            "Epoch 33, Batch 80 loss: 0.0027506746308063\n",
            "Epoch 33, Batch 100 loss: 0.0029689566712477\n",
            "Epoch 33, Batch 120 loss: 0.0043403613788541\n",
            "Epoch 34, Batch 20 loss: 0.0175393398254528\n",
            "Epoch 34, Batch 40 loss: 0.0127111843888997\n",
            "Epoch 34, Batch 60 loss: 0.0023979721750948\n",
            "Epoch 34, Batch 80 loss: 0.0057395583862672\n",
            "Epoch 34, Batch 100 loss: 0.0038673109957017\n",
            "Epoch 34, Batch 120 loss: 0.0123224240611307\n",
            "Epoch 35, Batch 20 loss: 0.0164052341788192\n",
            "Epoch 35, Batch 40 loss: 0.0042528188692813\n",
            "Epoch 35, Batch 60 loss: 0.0061313105929003\n",
            "Epoch 35, Batch 80 loss: 0.0058702610534965\n",
            "Epoch 35, Batch 100 loss: 0.0088993576544453\n",
            "Epoch 35, Batch 120 loss: 0.0078284838382388\n",
            "Epoch 36, Batch 20 loss: 0.0057561672831071\n",
            "Epoch 36, Batch 40 loss: 0.0062574126262916\n",
            "Epoch 36, Batch 60 loss: 0.0039116411411669\n",
            "Epoch 36, Batch 80 loss: 0.0025311792793218\n",
            "Epoch 36, Batch 100 loss: 0.0172697373876872\n",
            "Epoch 36, Batch 120 loss: 0.0070401022792794\n",
            "Epoch 37, Batch 20 loss: 0.0024143377348082\n",
            "Epoch 37, Batch 40 loss: 0.0016771961789345\n",
            "Epoch 37, Batch 60 loss: 0.0070072975227959\n",
            "Epoch 37, Batch 80 loss: 0.0149322394412593\n",
            "Epoch 37, Batch 100 loss: 0.0090744385088328\n",
            "Epoch 37, Batch 120 loss: 0.0082552101855981\n",
            "Epoch 38, Batch 20 loss: 0.0047115478228079\n",
            "Epoch 38, Batch 40 loss: 0.0065314945946739\n",
            "Epoch 38, Batch 60 loss: 0.0105495181502192\n",
            "Epoch 38, Batch 80 loss: 0.0024222894659033\n",
            "Epoch 38, Batch 100 loss: 0.0048720683094871\n",
            "Epoch 38, Batch 120 loss: 0.0139030126796570\n",
            "Epoch 39, Batch 20 loss: 0.0067884355201386\n",
            "Epoch 39, Batch 40 loss: 0.0039724744696287\n",
            "Epoch 39, Batch 60 loss: 0.0020757644451805\n",
            "Epoch 39, Batch 80 loss: 0.0019245950999903\n",
            "Epoch 39, Batch 100 loss: 0.0181326989812078\n",
            "Epoch 39, Batch 120 loss: 0.0037737480612122\n",
            "Epoch 40, Batch 20 loss: 0.0069701080356026\n",
            "Epoch 40, Batch 40 loss: 0.0194698568739113\n",
            "Epoch 40, Batch 60 loss: 0.0162975923820341\n",
            "Epoch 40, Batch 80 loss: 0.0041488656279398\n",
            "Epoch 40, Batch 100 loss: 0.0025107806424785\n",
            "Epoch 40, Batch 120 loss: 0.0163772446700023\n",
            "Epoch 41, Batch 20 loss: 0.0039865464212198\n",
            "Epoch 41, Batch 40 loss: 0.0020336206485808\n",
            "Epoch 41, Batch 60 loss: 0.0128529843801516\n",
            "Epoch 41, Batch 80 loss: 0.0017916194992722\n",
            "Epoch 41, Batch 100 loss: 0.0073119112581480\n",
            "Epoch 41, Batch 120 loss: 0.0013746023949352\n",
            "Epoch 42, Batch 20 loss: 0.0021904421650106\n",
            "Epoch 42, Batch 40 loss: 0.0070366576954257\n",
            "Epoch 42, Batch 60 loss: 0.0028154125626315\n",
            "Epoch 42, Batch 80 loss: 0.0031164628846454\n",
            "Epoch 42, Batch 100 loss: 0.0032635549760016\n",
            "Epoch 42, Batch 120 loss: 0.0154479809236364\n",
            "Epoch 43, Batch 20 loss: 0.0037083778035594\n",
            "Epoch 43, Batch 40 loss: 0.0064571272392641\n",
            "Epoch 43, Batch 60 loss: 0.0051236331899418\n",
            "Epoch 43, Batch 80 loss: 0.0062173983358662\n",
            "Epoch 43, Batch 100 loss: 0.0019593413089751\n",
            "Epoch 43, Batch 120 loss: 0.0149138943168509\n",
            "Epoch 44, Batch 20 loss: 0.0067469005574821\n",
            "Epoch 44, Batch 40 loss: 0.0132304147002287\n",
            "Epoch 44, Batch 60 loss: 0.0081290408314089\n",
            "Epoch 44, Batch 80 loss: 0.0019469615392154\n",
            "Epoch 44, Batch 100 loss: 0.0017981390534260\n",
            "Epoch 44, Batch 120 loss: 0.0036126655206317\n",
            "Epoch 45, Batch 20 loss: 0.0016134404388140\n",
            "Epoch 45, Batch 40 loss: 0.0076434799288108\n",
            "Epoch 45, Batch 60 loss: 0.0074591190263163\n",
            "Epoch 45, Batch 80 loss: 0.0039261270590941\n",
            "Epoch 45, Batch 100 loss: 0.0018307863138034\n",
            "Epoch 45, Batch 120 loss: 0.0071157332866278\n",
            "Epoch 46, Batch 20 loss: 0.0021033874058048\n",
            "Epoch 46, Batch 40 loss: 0.0022522188643052\n",
            "Epoch 46, Batch 60 loss: 0.0159380246070214\n",
            "Epoch 46, Batch 80 loss: 0.0132638846691407\n",
            "Epoch 46, Batch 100 loss: 0.0027435513635282\n",
            "Epoch 46, Batch 120 loss: 0.0088517589174444\n",
            "Epoch 47, Batch 20 loss: 0.0037427666677104\n",
            "Epoch 47, Batch 40 loss: 0.0019531468336936\n",
            "Epoch 47, Batch 60 loss: 0.0032592275063507\n",
            "Epoch 47, Batch 80 loss: 0.0035089823475573\n",
            "Epoch 47, Batch 100 loss: 0.0087067183325416\n",
            "Epoch 47, Batch 120 loss: 0.0080868802440818\n",
            "Epoch 48, Batch 20 loss: 0.0061130165471695\n",
            "Epoch 48, Batch 40 loss: 0.0029648189665750\n",
            "Epoch 48, Batch 60 loss: 0.0036043638079718\n",
            "Epoch 48, Batch 80 loss: 0.0137708305948763\n",
            "Epoch 48, Batch 100 loss: 0.0056801852580975\n",
            "Epoch 48, Batch 120 loss: 0.0065757342228608\n",
            "Epoch 49, Batch 20 loss: 0.0019194637628971\n",
            "Epoch 49, Batch 40 loss: 0.0033325693329971\n",
            "Epoch 49, Batch 60 loss: 0.0079445098388533\n",
            "Epoch 49, Batch 80 loss: 0.0049157803819980\n",
            "Epoch 49, Batch 100 loss: 0.0112371240727953\n",
            "Epoch 49, Batch 120 loss: 0.0123950063789380\n",
            "Epoch 50, Batch 20 loss: 0.0028716342028929\n",
            "Epoch 50, Batch 40 loss: 0.0028995404863963\n",
            "Epoch 50, Batch 60 loss: 0.0113631833592081\n",
            "Epoch 50, Batch 80 loss: 0.0035345358912309\n",
            "Epoch 50, Batch 100 loss: 0.0045703600437264\n",
            "Epoch 50, Batch 120 loss: 0.0073411884419329\n"
          ]
        }
      ]
    },
    {
      "cell_type": "code",
      "metadata": {
        "id": "CfA7ZjLR1BZP",
        "colab": {
          "base_uri": "https://localhost:8080/",
          "height": 281
        },
        "outputId": "9d3cd14f-1958-473b-c8ce-e6c579d508bf"
      },
      "source": [
        "plt.plot(train_losses)\n",
        "plt.title(\"Training Loss\")\n",
        "plt.show()"
      ],
      "execution_count": 15,
      "outputs": [
        {
          "output_type": "display_data",
          "data": {
            "image/png": "[encoded data removed]",
            "text/plain": [
              "<Figure size 432x288 with 1 Axes>"
            ]
          },
          "metadata": {
            "needs_background": "light"
          }
        }
      ]
    },
    {
      "cell_type": "markdown",
      "metadata": {
        "id": "ItLyF9dQyJFL"
      },
      "source": [
        "Testing the model"
      ]
    },
    {
      "cell_type": "code",
      "metadata": {
        "id": "gGki98W3SoEW"
      },
      "source": [
        "from sklearn.metrics import precision_score, recall_score, f1_score, accuracy_score"
      ],
      "execution_count": 16,
      "outputs": []
    },
    {
      "cell_type": "code",
      "metadata": {
        "id": "xNavYOynyE6d",
        "colab": {
          "base_uri": "https://localhost:8080/"
        },
        "outputId": "8e32a6ea-bcad-407e-9db2-ee85e929abe8"
      },
      "source": [
        "# The test_model function is from model_testing python file\n",
        "test_loss, class_correct, class_total, labels, predictions = test_model(classes, inception_v3, test_loader, criterion)\n",
        "\n",
        "# Test accuracy for each hieroglyph\n",
        "for i in range(len(classes)):\n",
        "    if class_total[i] > 0:\n",
        "        print('Test Accuracy of %5s: %2d%% (%2d/%2d)' % (classes[i], 100 * class_correct[i] / class_total[i], np.sum(class_correct[i]), np.sum(class_total[i])))\n",
        "    else:\n",
        "        print('Test Accuracy of %5s: N/A (no training examples)' % (classes[i]))\n",
        "\n",
        "# Total Test accuracy\n",
        "print(\"\\nAccuracy: {:.3%}\".format(accuracy_score(labels, predictions)))\n",
        "print(\"\\nPrecision: {:.3%}\".format(precision_score(labels, predictions, average = 'weighted')))\n",
        "print(\"\\nRecall: {:.3%}\".format(recall_score(labels, predictions, average = 'weighted')))\n",
        "print(\"\\nF1-score: {:.3%}\".format(f1_score(labels, predictions, average = 'weighted')))"
      ],
      "execution_count": 18,
      "outputs": [
        {
          "output_type": "stream",
          "name": "stdout",
          "text": [
            "Test Loss: 0.026213\n",
            "\n",
            "Test Accuracy of    D2: 100% (15/15)\n",
            "Test Accuracy of   D21: 100% ( 9/ 9)\n",
            "Test Accuracy of   D36: 100% (21/21)\n",
            "Test Accuracy of    D4: 100% (12/12)\n",
            "Test Accuracy of   D46: 90% ( 9/10)\n",
            "Test Accuracy of   D58: 100% ( 7/ 7)\n",
            "Test Accuracy of   E23: 100% (25/25)\n",
            "Test Accuracy of   E34: 100% (16/16)\n",
            "Test Accuracy of   F31: 100% (13/13)\n",
            "Test Accuracy of   F35: 100% (14/14)\n",
            "Test Accuracy of    G1: 100% (16/16)\n",
            "Test Accuracy of   G17: 100% (12/12)\n",
            "Test Accuracy of   G43: 100% (20/20)\n",
            "Test Accuracy of   I10: 100% (14/14)\n",
            "Test Accuracy of    I9: 100% (12/12)\n",
            "Test Accuracy of   M17: 91% (11/12)\n",
            "Test Accuracy of   M23: 100% (21/21)\n",
            "Test Accuracy of   N35: 100% (21/21)\n",
            "Test Accuracy of    O1: 100% (29/29)\n",
            "Test Accuracy of   O34: 100% (21/21)\n",
            "Test Accuracy of    O4: 100% (14/14)\n",
            "Test Accuracy of   O49: 100% (17/17)\n",
            "Test Accuracy of    Q1: 100% (20/20)\n",
            "Test Accuracy of    Q3: 100% (13/13)\n",
            "Test Accuracy of    R4: 100% (23/23)\n",
            "Test Accuracy of    R8: 100% (12/12)\n",
            "Test Accuracy of   S29: 100% ( 9/ 9)\n",
            "Test Accuracy of   S34: 100% (14/14)\n",
            "Test Accuracy of    U7: 100% (12/12)\n",
            "Test Accuracy of   V13: 100% (14/14)\n",
            "Test Accuracy of   V28: 100% (16/16)\n",
            "Test Accuracy of   V30: 76% (10/13)\n",
            "Test Accuracy of   V31: 100% (18/18)\n",
            "Test Accuracy of   W11: 100% (20/20)\n",
            "Test Accuracy of   W24: 100% (20/20)\n",
            "Test Accuracy of    X1: 100% (13/13)\n",
            "Test Accuracy of    X8: 100% (15/15)\n",
            "Test Accuracy of    Y1: 100% (19/19)\n",
            "Test Accuracy of    Y5: 100% (15/15)\n",
            "Test Accuracy of    Z1: 100% (16/16)\n",
            "\n",
            "Accuracy: 99.210%\n",
            "\n",
            "Precision: 99.309%\n",
            "\n",
            "Recall: 99.210%\n",
            "\n",
            "F1-score: 99.198%\n"
          ]
        }
      ]
    }
  ]
}