{
  "nbformat": 4,
  "nbformat_minor": 0,
  "metadata": {
    "colab": {
      "name": "Egyptian_model_with_Inception_v3_Pretrained_clean_40_classes_WeightedRandomSampler.ipynb",
      "provenance": [],
      "collapsed_sections": []
    },
    "kernelspec": {
      "name": "python3",
      "display_name": "Python 3"
    },
    "language_info": {
      "name": "python"
    },
    "accelerator": "GPU",
    "widgets": {
      "application/vnd.jupyter.widget-state+json": {
        "e38ab5e6624640a294ec181f0a41ffb4": {
          "model_module": "@jupyter-widgets/controls",
          "model_name": "HBoxModel",
          "model_module_version": "1.5.0",
          "state": {
            "_view_name": "HBoxView",
            "_dom_classes": [],
            "_model_name": "HBoxModel",
            "_view_module": "@jupyter-widgets/controls",
            "_model_module_version": "1.5.0",
            "_view_count": null,
            "_view_module_version": "1.5.0",
            "box_style": "",
            "layout": "IPY_MODEL_332a46acc9b5435b8a94f826d00fa549",
            "_model_module": "@jupyter-widgets/controls",
            "children": [
              "IPY_MODEL_21d6a0ba510148e7b9ee71f8c38e4a65",
              "IPY_MODEL_e7d4dae94cb746278c41d366d355816c",
              "IPY_MODEL_576a0099a18e4f7e86a1ad040c8d7520"
            ]
          }
        },
        "332a46acc9b5435b8a94f826d00fa549": {
          "model_module": "@jupyter-widgets/base",
          "model_name": "LayoutModel",
          "model_module_version": "1.2.0",
          "state": {
            "_view_name": "LayoutView",
            "grid_template_rows": null,
            "right": null,
            "justify_content": null,
            "_view_module": "@jupyter-widgets/base",
            "overflow": null,
            "_model_module_version": "1.2.0",
            "_view_count": null,
            "flex_flow": null,
            "width": null,
            "min_width": null,
            "border": null,
            "align_items": null,
            "bottom": null,
            "_model_module": "@jupyter-widgets/base",
            "top": null,
            "grid_column": null,
            "overflow_y": null,
            "overflow_x": null,
            "grid_auto_flow": null,
            "grid_area": null,
            "grid_template_columns": null,
            "flex": null,
            "_model_name": "LayoutModel",
            "justify_items": null,
            "grid_row": null,
            "max_height": null,
            "align_content": null,
            "visibility": null,
            "align_self": null,
            "height": null,
            "min_height": null,
            "padding": null,
            "grid_auto_rows": null,
            "grid_gap": null,
            "max_width": null,
            "order": null,
            "_view_module_version": "1.2.0",
            "grid_template_areas": null,
            "object_position": null,
            "object_fit": null,
            "grid_auto_columns": null,
            "margin": null,
            "display": null,
            "left": null
          }
        },
        "21d6a0ba510148e7b9ee71f8c38e4a65": {
          "model_module": "@jupyter-widgets/controls",
          "model_name": "HTMLModel",
          "model_module_version": "1.5.0",
          "state": {
            "_view_name": "HTMLView",
            "style": "IPY_MODEL_11fa51c1c9924d958f55d350da221269",
            "_dom_classes": [],
            "description": "",
            "_model_name": "HTMLModel",
            "placeholder": "​",
            "_view_module": "@jupyter-widgets/controls",
            "_model_module_version": "1.5.0",
            "value": "100%",
            "_view_count": null,
            "_view_module_version": "1.5.0",
            "description_tooltip": null,
            "_model_module": "@jupyter-widgets/controls",
            "layout": "IPY_MODEL_0c82d34f46fd4efca3ea1f93bba76869"
          }
        },
        "e7d4dae94cb746278c41d366d355816c": {
          "model_module": "@jupyter-widgets/controls",
          "model_name": "FloatProgressModel",
          "model_module_version": "1.5.0",
          "state": {
            "_view_name": "ProgressView",
            "style": "IPY_MODEL_a7edb1ebfa6b4e0fad46354e091a48c5",
            "_dom_classes": [],
            "description": "",
            "_model_name": "FloatProgressModel",
            "bar_style": "success",
            "max": 108949747,
            "_view_module": "@jupyter-widgets/controls",
            "_model_module_version": "1.5.0",
            "value": 108949747,
            "_view_count": null,
            "_view_module_version": "1.5.0",
            "orientation": "horizontal",
            "min": 0,
            "description_tooltip": null,
            "_model_module": "@jupyter-widgets/controls",
            "layout": "IPY_MODEL_ab51c379ffa24001a4a688e481afaf7c"
          }
        },
        "576a0099a18e4f7e86a1ad040c8d7520": {
          "model_module": "@jupyter-widgets/controls",
          "model_name": "HTMLModel",
          "model_module_version": "1.5.0",
          "state": {
            "_view_name": "HTMLView",
            "style": "IPY_MODEL_f5be264262e74c8485392aab028d2e9a",
            "_dom_classes": [],
            "description": "",
            "_model_name": "HTMLModel",
            "placeholder": "​",
            "_view_module": "@jupyter-widgets/controls",
            "_model_module_version": "1.5.0",
            "value": " 104M/104M [00:01&lt;00:00, 100MB/s]",
            "_view_count": null,
            "_view_module_version": "1.5.0",
            "description_tooltip": null,
            "_model_module": "@jupyter-widgets/controls",
            "layout": "IPY_MODEL_941fed33aa514adebbfb855a97428818"
          }
        },
        "11fa51c1c9924d958f55d350da221269": {
          "model_module": "@jupyter-widgets/controls",
          "model_name": "DescriptionStyleModel",
          "model_module_version": "1.5.0",
          "state": {
            "_view_name": "StyleView",
            "_model_name": "DescriptionStyleModel",
            "description_width": "",
            "_view_module": "@jupyter-widgets/base",
            "_model_module_version": "1.5.0",
            "_view_count": null,
            "_view_module_version": "1.2.0",
            "_model_module": "@jupyter-widgets/controls"
          }
        },
        "0c82d34f46fd4efca3ea1f93bba76869": {
          "model_module": "@jupyter-widgets/base",
          "model_name": "LayoutModel",
          "model_module_version": "1.2.0",
          "state": {
            "_view_name": "LayoutView",
            "grid_template_rows": null,
            "right": null,
            "justify_content": null,
            "_view_module": "@jupyter-widgets/base",
            "overflow": null,
            "_model_module_version": "1.2.0",
            "_view_count": null,
            "flex_flow": null,
            "width": null,
            "min_width": null,
            "border": null,
            "align_items": null,
            "bottom": null,
            "_model_module": "@jupyter-widgets/base",
            "top": null,
            "grid_column": null,
            "overflow_y": null,
            "overflow_x": null,
            "grid_auto_flow": null,
            "grid_area": null,
            "grid_template_columns": null,
            "flex": null,
            "_model_name": "LayoutModel",
            "justify_items": null,
            "grid_row": null,
            "max_height": null,
            "align_content": null,
            "visibility": null,
            "align_self": null,
            "height": null,
            "min_height": null,
            "padding": null,
            "grid_auto_rows": null,
            "grid_gap": null,
            "max_width": null,
            "order": null,
            "_view_module_version": "1.2.0",
            "grid_template_areas": null,
            "object_position": null,
            "object_fit": null,
            "grid_auto_columns": null,
            "margin": null,
            "display": null,
            "left": null
          }
        },
        "a7edb1ebfa6b4e0fad46354e091a48c5": {
          "model_module": "@jupyter-widgets/controls",
          "model_name": "ProgressStyleModel",
          "model_module_version": "1.5.0",
          "state": {
            "_view_name": "StyleView",
            "_model_name": "ProgressStyleModel",
            "description_width": "",
            "_view_module": "@jupyter-widgets/base",
            "_model_module_version": "1.5.0",
            "_view_count": null,
            "_view_module_version": "1.2.0",
            "bar_color": null,
            "_model_module": "@jupyter-widgets/controls"
          }
        },
        "ab51c379ffa24001a4a688e481afaf7c": {
          "model_module": "@jupyter-widgets/base",
          "model_name": "LayoutModel",
          "model_module_version": "1.2.0",
          "state": {
            "_view_name": "LayoutView",
            "grid_template_rows": null,
            "right": null,
            "justify_content": null,
            "_view_module": "@jupyter-widgets/base",
            "overflow": null,
            "_model_module_version": "1.2.0",
            "_view_count": null,
            "flex_flow": null,
            "width": null,
            "min_width": null,
            "border": null,
            "align_items": null,
            "bottom": null,
            "_model_module": "@jupyter-widgets/base",
            "top": null,
            "grid_column": null,
            "overflow_y": null,
            "overflow_x": null,
            "grid_auto_flow": null,
            "grid_area": null,
            "grid_template_columns": null,
            "flex": null,
            "_model_name": "LayoutModel",
            "justify_items": null,
            "grid_row": null,
            "max_height": null,
            "align_content": null,
            "visibility": null,
            "align_self": null,
            "height": null,
            "min_height": null,
            "padding": null,
            "grid_auto_rows": null,
            "grid_gap": null,
            "max_width": null,
            "order": null,
            "_view_module_version": "1.2.0",
            "grid_template_areas": null,
            "object_position": null,
            "object_fit": null,
            "grid_auto_columns": null,
            "margin": null,
            "display": null,
            "left": null
          }
        },
        "f5be264262e74c8485392aab028d2e9a": {
          "model_module": "@jupyter-widgets/controls",
          "model_name": "DescriptionStyleModel",
          "model_module_version": "1.5.0",
          "state": {
            "_view_name": "StyleView",
            "_model_name": "DescriptionStyleModel",
            "description_width": "",
            "_view_module": "@jupyter-widgets/base",
            "_model_module_version": "1.5.0",
            "_view_count": null,
            "_view_module_version": "1.2.0",
            "_model_module": "@jupyter-widgets/controls"
          }
        },
        "941fed33aa514adebbfb855a97428818": {
          "model_module": "@jupyter-widgets/base",
          "model_name": "LayoutModel",
          "model_module_version": "1.2.0",
          "state": {
            "_view_name": "LayoutView",
            "grid_template_rows": null,
            "right": null,
            "justify_content": null,
            "_view_module": "@jupyter-widgets/base",
            "overflow": null,
            "_model_module_version": "1.2.0",
            "_view_count": null,
            "flex_flow": null,
            "width": null,
            "min_width": null,
            "border": null,
            "align_items": null,
            "bottom": null,
            "_model_module": "@jupyter-widgets/base",
            "top": null,
            "grid_column": null,
            "overflow_y": null,
            "overflow_x": null,
            "grid_auto_flow": null,
            "grid_area": null,
            "grid_template_columns": null,
            "flex": null,
            "_model_name": "LayoutModel",
            "justify_items": null,
            "grid_row": null,
            "max_height": null,
            "align_content": null,
            "visibility": null,
            "align_self": null,
            "height": null,
            "min_height": null,
            "padding": null,
            "grid_auto_rows": null,
            "grid_gap": null,
            "max_width": null,
            "order": null,
            "_view_module_version": "1.2.0",
            "grid_template_areas": null,
            "object_position": null,
            "object_fit": null,
            "grid_auto_columns": null,
            "margin": null,
            "display": null,
            "left": null
          }
        }
      }
    }
  },
  "cells": [
    {
      "cell_type": "code",
      "metadata": {
        "id": "8iEiGSblxJzW"
      },
      "source": [
        "import os, os.path\n",
        "import torch\n",
        "import numpy as np\n",
        "import torch.nn as nn\n",
        "import torch.optim as optim\n",
        "from pathlib import Path\n",
        "from torchvision import datasets, models, transforms\n",
        "\n",
        "# check if CUDA is available\n",
        "train_on_gpu = torch.cuda.is_available()"
      ],
      "execution_count": 1,
      "outputs": []
    },
    {
      "cell_type": "markdown",
      "metadata": {
        "id": "Jd6KU8VMz6J3"
      },
      "source": [
        "Module: Load_data"
      ]
    },
    {
      "cell_type": "code",
      "metadata": {
        "id": "enB3iLoNDHFm"
      },
      "source": [
        "def get_class_distribution(dataset_obj, idx2class):\n",
        "    count_dict = {k:0 for k,v in dataset_obj.class_to_idx.items()}\n",
        "    \n",
        "    for element in dataset_obj:\n",
        "        y_lbl = element[1]\n",
        "        y_lbl = idx2class[y_lbl]\n",
        "        count_dict[y_lbl] += 1\n",
        "            \n",
        "    return count_dict"
      ],
      "execution_count": 2,
      "outputs": []
    },
    {
      "cell_type": "code",
      "metadata": {
        "id": "8lWX0BW_w_kC"
      },
      "source": [
        "def load_data(hieroglyph_directory_path, batch_size=20, num_workers=0):\n",
        "    train_dir = os.path.join(hieroglyph_directory_path, 'train/')\n",
        "    test_dir = os.path.join(hieroglyph_directory_path, 'test/')\n",
        "\n",
        "    classes = []\n",
        "\n",
        "    for filename in os.listdir(train_dir):\n",
        "        if filename == '.DS_Store':\n",
        "            pass\n",
        "        else:\n",
        "            classes.append(filename)\n",
        "\n",
        "    classes.sort()\n",
        "\n",
        "    # print(\"Our classes:\", classes)\n",
        "    # print(len(classes))\n",
        "\n",
        "    data_transform = transforms.Compose([transforms.ToTensor(),\n",
        "                                            transforms.RandomApply([transforms.RandomHorizontalFlip()]),\n",
        "                                            transforms.RandomRotation(degrees=(-10, 10)),\n",
        "                                            transforms.RandomAffine(degrees=0, translate=(.1, .1)),\n",
        "                                            transforms.RandomApply([transforms.ColorJitter(brightness=(1, 1.2),\n",
        "                                                                                            contrast=(1, 1.5),\n",
        "                                                                                            saturation=(1, 1.5),\n",
        "                                                                                            hue=(0, 0.5))]),\n",
        "                                            transforms.RandomErasing(p=0.5, scale=(0.05, 0.05), ratio=(0.3, 3.3), value=0,\n",
        "                                                                      inplace=False),\n",
        "                                            transforms.Resize((299, 299)),\n",
        "                                            transforms.Normalize((0.5,), (0.5,))])\n",
        "\n",
        "    train_data = datasets.ImageFolder(train_dir, transform=data_transform)\n",
        "    test_data = datasets.ImageFolder(test_dir, transform=data_transform)\n",
        "\n",
        "\n",
        "    # print('Num training images: ', len(train_data))\n",
        "    # print('Num test images: ', len(test_data))\n",
        "\n",
        "\n",
        "    # WeightedRandomSampler for train loader\n",
        "    idx2class = {v: k for k, v in train_data.class_to_idx.items()}\n",
        "\n",
        "    target_list = torch.tensor(train_data.targets)\n",
        "    class_count = [i for i in get_class_distribution(train_data, idx2class).values()]\n",
        "    class_weights = 1./torch.tensor(class_count, dtype=torch.float) \n",
        "    class_weights_all = class_weights[target_list]\n",
        "    weighted_sampler = torch.utils.data.WeightedRandomSampler(weights=class_weights_all, num_samples=len(class_weights_all), replacement=True)\n",
        "\n",
        "    # prepare data loaders\n",
        "    train_loader = torch.utils.data.DataLoader(train_data, batch_size=batch_size,\n",
        "                                               num_workers=num_workers, sampler=weighted_sampler, drop_last=True)\n",
        "    \n",
        "    # WeightedRandomSampler for test loader\n",
        "    idx2class_test = {v: k for k, v in test_data.class_to_idx.items()}\n",
        "\n",
        "    target_list_test = torch.tensor(test_data.targets)\n",
        "    class_count_test = [i for i in get_class_distribution(test_data, idx2class_test).values()]\n",
        "    class_weights_test = 1./torch.tensor(class_count_test, dtype=torch.float) \n",
        "    class_weights_all_test = class_weights_test[target_list_test]\n",
        "    weighted_sampler_test = torch.utils.data.WeightedRandomSampler(weights=class_weights_all_test, num_samples=len(class_weights_all_test), replacement=True)\n",
        "\n",
        "    test_loader = torch.utils.data.DataLoader(test_data, batch_size=batch_size,\n",
        "                                              num_workers=num_workers, sampler=weighted_sampler_test)\n",
        "\n",
        "    return train_loader, test_loader, classes"
      ],
      "execution_count": 3,
      "outputs": []
    },
    {
      "cell_type": "markdown",
      "metadata": {
        "id": "K4sXUrPPz7iF"
      },
      "source": [
        "Module: Train_model"
      ]
    },
    {
      "cell_type": "code",
      "metadata": {
        "id": "N2N_rnKLxN5c"
      },
      "source": [
        "def train_model(train_loader, optimizer, conv_net_model, criterion, my_lr_scheduler, n_epochs):\n",
        "    # track training loss over time\n",
        "    losses = []\n",
        "    \n",
        "    for epoch in range(1, n_epochs + 1):\n",
        "\n",
        "        # keep track of training and validation loss\n",
        "        train_loss = 0.0\n",
        "\n",
        "        # model by default is set to train\n",
        "        for batch_i, (data, target) in enumerate(train_loader):\n",
        "            # move tensors to GPU if CUDA is available\n",
        "            if train_on_gpu:\n",
        "                data, target = data.cuda(), target.cuda()\n",
        "            # clear the gradients of all optimized variables\n",
        "            optimizer.zero_grad()\n",
        "            # forward pass: compute predicted outputs by passing inputs to the model\n",
        "            output = conv_net_model(data)\n",
        "            # calculate the batch loss\n",
        "            loss = criterion(output.logits, target)\n",
        "            # backward pass: compute gradient of the loss with respect to model parameters\n",
        "            loss.backward()\n",
        "            # perform a single optimization step (parameter update)\n",
        "            optimizer.step()\n",
        "            # update training loss\n",
        "            train_loss += loss.item()\n",
        "\n",
        "            my_lr_scheduler.step()\n",
        "\n",
        "            if batch_i % 20 == 19:  # print training loss every specified number of mini-batches\n",
        "                print('Epoch %d, Batch %d loss: %.16f' %\n",
        "                    (epoch, batch_i + 1, train_loss / 20))\n",
        "                losses.append(train_loss / 20)\n",
        "                train_loss = 0.0\n",
        "\n",
        "    return conv_net_model, losses"
      ],
      "execution_count": 4,
      "outputs": []
    },
    {
      "cell_type": "markdown",
      "metadata": {
        "id": "-Rrxo5RDz96U"
      },
      "source": [
        "Module: Test_model"
      ]
    },
    {
      "cell_type": "code",
      "metadata": {
        "id": "Ay-HlMJnxU9v"
      },
      "source": [
        "def test_model(classes, conv_net_model, test_loader, criterion):\n",
        "    # track test loss\n",
        "    test_loss = 0.0\n",
        "    class_correct = list(0. for i in range(len(classes)))\n",
        "    class_total = list(0. for i in range(len(classes)))\n",
        "\n",
        "    conv_net_model.eval()  # eval mode\n",
        "\n",
        "    labels = []\n",
        "    predictions = []\n",
        "    # iterate over test data\n",
        "    for data, target in test_loader:\n",
        "        # move tensors to GPU if CUDA is available\n",
        "        if train_on_gpu:\n",
        "            data, target = data.cuda(), target.cuda()\n",
        "        # forward pass: compute predicted outputs by passing inputs to the model\n",
        "        output = conv_net_model(data)\n",
        "        # calculate the batch loss\n",
        "        loss = criterion(output, target)\n",
        "        # update  test loss\n",
        "        test_loss += loss.item() * data.size(0)\n",
        "        # convert output probabilities to predicted class\n",
        "        _, pred = torch.max(output, 1)\n",
        "        # compare predictions to true label\n",
        "        correct_tensor = pred.eq(target.data.view_as(pred))\n",
        "        correct = np.squeeze(correct_tensor.numpy()) if not train_on_gpu else np.squeeze(correct_tensor.cpu().numpy())\n",
        "        # calculate test accuracy for each object class\n",
        "        for i in range(len(target.data)):\n",
        "            label = target.data[i]\n",
        "            class_correct[label] += correct[i].item()\n",
        "            class_total[label] += 1\n",
        "        \n",
        "        # Will be used for calculating Recall, Precision, and F1-score\n",
        "        labels.extend(target.data.view_as(pred).tolist())\n",
        "        predictions.extend(pred.tolist())\n",
        "\n",
        "\n",
        "    # calculate avg test loss\n",
        "    test_loss = test_loss / len(test_loader.dataset)\n",
        "    print('Test Loss: {:.6f}\\n'.format(test_loss))\n",
        "\n",
        "    return test_loss, class_correct, class_total, labels, predictions"
      ],
      "execution_count": 5,
      "outputs": []
    },
    {
      "cell_type": "markdown",
      "metadata": {
        "id": "xHh3PXE80Asa"
      },
      "source": [
        "Check whether CUDA is available (Change runtime type if not)"
      ]
    },
    {
      "cell_type": "code",
      "metadata": {
        "colab": {
          "base_uri": "https://localhost:8080/"
        },
        "id": "Q9TYPQH7x4zw",
        "outputId": "da612c7a-f035-4ed0-c8fa-1e6d511b3a14"
      },
      "source": [
        "if not train_on_gpu:\n",
        "    print('CUDA is not available.  Training on CPU ...')\n",
        "else:\n",
        "    print('CUDA is available!  Training on GPU ...')"
      ],
      "execution_count": 6,
      "outputs": [
        {
          "output_type": "stream",
          "name": "stdout",
          "text": [
            "CUDA is available!  Training on GPU ...\n"
          ]
        }
      ]
    },
    {
      "cell_type": "markdown",
      "metadata": {
        "id": "6lYw8EKVx8Q7"
      },
      "source": [
        "Load Hieroglyph Data"
      ]
    },
    {
      "cell_type": "code",
      "metadata": {
        "colab": {
          "base_uri": "https://localhost:8080/"
        },
        "id": "laLvoRy1yewl",
        "outputId": "0a7a0a14-c955-4abb-cc34-5a4decb74287"
      },
      "source": [
        "# Connecting and Mounting to the Google Drive\n",
        "from google.colab import drive\n",
        "drive.mount('/content/drive')"
      ],
      "execution_count": 7,
      "outputs": [
        {
          "output_type": "stream",
          "name": "stdout",
          "text": [
            "Mounted at /content/drive\n"
          ]
        }
      ]
    },
    {
      "cell_type": "code",
      "metadata": {
        "id": "odaoZt9GyfUt"
      },
      "source": [
        "data_dir = '/content/drive/MyDrive/EgyptianHieroglyphDataset_Original_Clean/'"
      ],
      "execution_count": 8,
      "outputs": []
    },
    {
      "cell_type": "code",
      "metadata": {
        "colab": {
          "base_uri": "https://localhost:8080/"
        },
        "id": "dF22MAnmyiC1",
        "outputId": "c6ac8c24-fc23-41d2-a768-cc425ee8e3e6"
      },
      "source": [
        "hieroglyph_for_train = []\n",
        "file_count_list = []\n",
        "\n",
        "for name in os.listdir('/content/drive/MyDrive/EgyptianHieroglyphDataset_Original_Clean/train/'):\n",
        "  path, dirs, files = next(os.walk(\"/content/drive/MyDrive/EgyptianHieroglyphDataset_Original_Clean/train/\"+name))\n",
        "  file_count = len(files)\n",
        "  if file_count == 0:\n",
        "    continue\n",
        "  else:\n",
        "    print(name, file_count)\n",
        "    file_count_list.append(file_count)\n",
        "    hieroglyph_for_train.append(name)\n",
        "\n",
        "hieroglyph_dict = dict(zip(hieroglyph_for_train, file_count_list))"
      ],
      "execution_count": 9,
      "outputs": [
        {
          "output_type": "stream",
          "name": "stdout",
          "text": [
            "Y5 6\n",
            "I9 116\n",
            "O34 15\n",
            "V13 63\n",
            "U7 3\n",
            "D46 40\n",
            "E34 97\n",
            "G1 28\n",
            "V31 106\n",
            "S34 8\n",
            "D36 47\n",
            "Q1 13\n",
            "V30 6\n",
            "F35 2\n",
            "O4 11\n",
            "M23 30\n",
            "S29 212\n",
            "R8 53\n",
            "W11 4\n",
            "X1 185\n",
            "Y1 1\n",
            "D21 146\n",
            "D2 19\n",
            "E23 8\n",
            "X8 4\n",
            "Z1 39\n",
            "D4 29\n",
            "V28 28\n",
            "I10 32\n",
            "O1 16\n",
            "M17 291\n",
            "F31 6\n",
            "G43 157\n",
            "D58 28\n",
            "O49 10\n",
            "G17 156\n",
            "R4 2\n",
            "Q3 61\n",
            "W24 31\n",
            "N35 358\n"
          ]
        }
      ]
    },
    {
      "cell_type": "markdown",
      "metadata": {
        "id": "XeQQ7PjZzKd9"
      },
      "source": [
        "Number of images for each hieroglyph "
      ]
    },
    {
      "cell_type": "code",
      "metadata": {
        "colab": {
          "base_uri": "https://localhost:8080/",
          "height": 206
        },
        "id": "W6IzWR2RyjxM",
        "outputId": "fb42adf4-62dd-4e17-ff19-27fb3d221a29"
      },
      "source": [
        "import matplotlib.pyplot as plt\n",
        "import pandas as pd\n",
        "\n",
        "df = pd.DataFrame({\"Hieroglyph\":hieroglyph_for_train, \"Count\":file_count_list})\n",
        "\n",
        "df_sorted= df.sort_values('Count',ascending=False)\n",
        "\n",
        "plt.figure(figsize=(100,10))\n",
        "# make bar plot with matplotlib\n",
        "plt.bar('Hieroglyph', 'Count',data=df_sorted)"
      ],
      "execution_count": 10,
      "outputs": [
        {
          "output_type": "execute_result",
          "data": {
            "text/plain": [
              "<BarContainer object of 40 artists>"
            ]
          },
          "metadata": {},
          "execution_count": 10
        },
        {
          "output_type": "display_data",
          "data": {
            "image/png": "[encoded data removed]",
            "text/plain": [
              "<Figure size 7200x720 with 1 Axes>"
            ]
          },
          "metadata": {
            "needs_background": "light"
          }
        }
      ]
    },
    {
      "cell_type": "code",
      "metadata": {
        "colab": {
          "base_uri": "https://localhost:8080/"
        },
        "id": "xj7nMcJg2fsH",
        "outputId": "aee53882-addd-4291-a9b5-d0d8818179c9"
      },
      "source": [
        "print(len(hieroglyph_for_train))"
      ],
      "execution_count": 11,
      "outputs": [
        {
          "output_type": "stream",
          "name": "stdout",
          "text": [
            "40\n"
          ]
        }
      ]
    },
    {
      "cell_type": "code",
      "metadata": {
        "colab": {
          "base_uri": "https://localhost:8080/"
        },
        "id": "hGXpsABT4sac",
        "outputId": "6d9f49ee-9d20-495d-800b-cb70ac5461e1"
      },
      "source": [
        "print(hieroglyph_for_train)"
      ],
      "execution_count": 12,
      "outputs": [
        {
          "output_type": "stream",
          "name": "stdout",
          "text": [
            "['Y5', 'I9', 'O34', 'V13', 'U7', 'D46', 'E34', 'G1', 'V31', 'S34', 'D36', 'Q1', 'V30', 'F35', 'O4', 'M23', 'S29', 'R8', 'W11', 'X1', 'Y1', 'D21', 'D2', 'E23', 'X8', 'Z1', 'D4', 'V28', 'I10', 'O1', 'M17', 'F31', 'G43', 'D58', 'O49', 'G17', 'R4', 'Q3', 'W24', 'N35']\n"
          ]
        }
      ]
    },
    {
      "cell_type": "code",
      "metadata": {
        "id": "-3oOm8rSx7tp"
      },
      "source": [
        "# Number of images processed in a single training\n",
        "batch_size = 20\n",
        "num_workers = 0\n",
        "\n",
        "# The load_data function is from hieroglyph_data_preparation python file\n",
        "train_loader, test_loader, classes = load_data(data_dir)"
      ],
      "execution_count": 13,
      "outputs": []
    },
    {
      "cell_type": "markdown",
      "metadata": {
        "id": "BJm8sGiBx_q5"
      },
      "source": [
        "Inception-v3 Model"
      ]
    },
    {
      "cell_type": "code",
      "metadata": {
        "id": "dhoPdBITy6kP"
      },
      "source": [
        "import torch\n",
        "import torch.nn as nn\n",
        "import torch.nn.functional as F\n",
        "from torch.autograd import Variable\n",
        "\n",
        "class FocalLoss(nn.Module):\n",
        "    def __init__(self, gamma=0, alpha=None, size_average=True):\n",
        "        super(FocalLoss, self).__init__()\n",
        "        self.gamma = gamma\n",
        "        self.alpha = alpha\n",
        "        if isinstance(alpha,(float,int)): self.alpha = torch.Tensor([alpha,1-alpha])\n",
        "        if isinstance(alpha,list): self.alpha = torch.Tensor(alpha)\n",
        "        self.size_average = size_average\n",
        "\n",
        "    def forward(self, input, target):\n",
        "        if input.dim()>2:\n",
        "            input = input.view(input.size(0),input.size(1),-1)  # N,C,H,W => N,C,H*W\n",
        "            input = input.transpose(1,2)    # N,C,H*W => N,H*W,C\n",
        "            input = input.contiguous().view(-1,input.size(2))   # N,H*W,C => N*H*W,C\n",
        "        target = target.view(-1,1)\n",
        "\n",
        "        logpt = torch.nn.functional.log_softmax(input, -1)\n",
        "        logpt = logpt.gather(1,target)\n",
        "        logpt = logpt.view(-1)\n",
        "        pt = Variable(logpt.data.exp())\n",
        "\n",
        "        if self.alpha is not None:\n",
        "            if self.alpha.type()!=input.data.type():\n",
        "                self.alpha = self.alpha.type_as(input.data)\n",
        "            at = self.alpha.gather(0,target.data.view(-1))\n",
        "            logpt = logpt * Variable(at)\n",
        "\n",
        "        loss = -1 * (1-pt)**self.gamma * logpt\n",
        "        if self.size_average: return loss.mean()\n",
        "        else: return loss.sum()"
      ],
      "execution_count": 14,
      "outputs": []
    },
    {
      "cell_type": "code",
      "metadata": {
        "id": "JkLXVJGkxemC",
        "colab": {
          "base_uri": "https://localhost:8080/",
          "height": 66,
          "referenced_widgets": [
            "e38ab5e6624640a294ec181f0a41ffb4",
            "332a46acc9b5435b8a94f826d00fa549",
            "21d6a0ba510148e7b9ee71f8c38e4a65",
            "e7d4dae94cb746278c41d366d355816c",
            "576a0099a18e4f7e86a1ad040c8d7520",
            "11fa51c1c9924d958f55d350da221269",
            "0c82d34f46fd4efca3ea1f93bba76869",
            "a7edb1ebfa6b4e0fad46354e091a48c5",
            "ab51c379ffa24001a4a688e481afaf7c",
            "f5be264262e74c8485392aab028d2e9a",
            "941fed33aa514adebbfb855a97428818"
          ]
        },
        "outputId": "f0910656-9ccc-4499-dad4-021edb9b1908"
      },
      "source": [
        "# Whether to extract features with the model\n",
        "feature_extract = False\n",
        "# Other selections\n",
        "loss_function = \"cross-entropy\"\n",
        "model_selection = \"inception-v3\"\n",
        "optim_selection = \"Adam\"\n",
        "\n",
        "# False if you want scratch model, True if you want pretrained model\n",
        "whether_to_pretrain = True\n",
        "\n",
        "# Load the model\n",
        "if model_selection == \"resnet-50\":\n",
        "    resnet50 = models.resnet50(pretrained=whether_to_pretrain)\n",
        "    # Number of features in the last layer of resnet\n",
        "    n_inputs = resnet50.fc.in_features\n",
        "    # Add last linear layer (n_inputs -> 40 hieroglyph classes)\n",
        "    last_layer = nn.Sequential(\n",
        "                    nn.Linear(n_inputs, len(classes)))\n",
        "    resnet50.fc = last_layer\n",
        "    if train_on_gpu:\n",
        "      resnet50.cuda()\n",
        "    # Specify optimizer (Adam) and learning rate = 0.001\n",
        "    if optim_selection == \"Adam\":\n",
        "        optimizer = optim.Adam(resnet50.parameters(), lr=0.001)\n",
        "\n",
        "elif model_selection == \"inception-v3\":\n",
        "    inception_v3 = models.inception_v3(pretrained=whether_to_pretrain)\n",
        "    # Number of features in the last layer of resnet\n",
        "    n_inputs = inception_v3.fc.in_features\n",
        "    # Add last linear layer (n_inputs -> 40 hieroglyph classes)\n",
        "    last_layer = nn.Sequential(\n",
        "                    nn.Linear(n_inputs, len(classes)))\n",
        "    inception_v3.fc = last_layer\n",
        "    if train_on_gpu:\n",
        "      inception_v3.cuda()\n",
        "    # Specify optimizer (Adam) and learning rate = 0.001\n",
        "    if optim_selection == \"Adam\":\n",
        "        optimizer = optim.Adam(inception_v3.parameters(), lr=0.001)\n",
        "\n",
        "\n",
        "# Specify loss function (categorical cross-entropy)\n",
        "if loss_function == \"cross-entropy\":\n",
        "    criterion = nn.CrossEntropyLoss()\n",
        "elif loss_function == \"focal-loss\":\n",
        "    criterion = FocalLoss(gamma=0)\n",
        "\n",
        "# Exponential Decay to strengthen learning\n",
        "decayRate = 0.999\n",
        "my_lr_scheduler = torch.optim.lr_scheduler.ExponentialLR(optimizer=optimizer, gamma=decayRate)"
      ],
      "execution_count": 15,
      "outputs": [
        {
          "output_type": "stream",
          "name": "stderr",
          "text": [
            "Downloading: \"https://download.pytorch.org/models/inception_v3_google-0cc3c7bd.pth\" to /root/.cache/torch/hub/checkpoints/inception_v3_google-0cc3c7bd.pth\n"
          ]
        },
        {
          "output_type": "display_data",
          "data": {
            "application/vnd.jupyter.widget-view+json": {
              "model_id": "e38ab5e6624640a294ec181f0a41ffb4",
              "version_minor": 0,
              "version_major": 2
            },
            "text/plain": [
              "  0%|          | 0.00/104M [00:00<?, ?B/s]"
            ]
          },
          "metadata": {}
        }
      ]
    },
    {
      "cell_type": "markdown",
      "metadata": {
        "id": "U2vnErB1yHmM"
      },
      "source": [
        "Training the model"
      ]
    },
    {
      "cell_type": "code",
      "metadata": {
        "colab": {
          "base_uri": "https://localhost:8080/"
        },
        "id": "dOB03noWyEvQ",
        "outputId": "f4b6aa5e-0a14-4447-f654-de30e1577f79"
      },
      "source": [
        "# number of epochs to train the model\n",
        "n_epochs = 50\n",
        "\n",
        "if model_selection == \"resnet-50\":\n",
        "  # The train_model function is from model_training python file\n",
        "  resnet50, train_losses = train_model(train_loader, optimizer, resnet50, criterion, my_lr_scheduler, n_epochs)\n",
        "elif model_selection == \"inception-v3\":\n",
        "  # The train_model function is from model_training python file\n",
        "  inception_v3, train_losses = train_model(train_loader, optimizer, inception_v3, criterion, my_lr_scheduler, n_epochs)"
      ],
      "execution_count": 16,
      "outputs": [
        {
          "output_type": "stream",
          "name": "stdout",
          "text": [
            "Epoch 1, Batch 20 loss: 3.2287607312202455\n",
            "Epoch 1, Batch 40 loss: 1.8908149659633637\n",
            "Epoch 1, Batch 60 loss: 1.1297028183937072\n",
            "Epoch 1, Batch 80 loss: 0.9125934332609177\n",
            "Epoch 1, Batch 100 loss: 0.7235533446073532\n",
            "Epoch 1, Batch 120 loss: 0.7182320535182953\n",
            "Epoch 2, Batch 20 loss: 0.6428818307816982\n",
            "Epoch 2, Batch 40 loss: 0.4502937629818916\n",
            "Epoch 2, Batch 60 loss: 0.4687850110232830\n",
            "Epoch 2, Batch 80 loss: 0.5088986173272133\n",
            "Epoch 2, Batch 100 loss: 0.4011908225715161\n",
            "Epoch 2, Batch 120 loss: 0.2967351783066988\n",
            "Epoch 3, Batch 20 loss: 0.3019964251667261\n",
            "Epoch 3, Batch 40 loss: 0.3620263781398535\n",
            "Epoch 3, Batch 60 loss: 0.2887614347040653\n",
            "Epoch 3, Batch 80 loss: 0.2823568483814597\n",
            "Epoch 3, Batch 100 loss: 0.2665604006499052\n",
            "Epoch 3, Batch 120 loss: 0.2222433371469378\n",
            "Epoch 4, Batch 20 loss: 0.2048346783965826\n",
            "Epoch 4, Batch 40 loss: 0.1977473003789783\n",
            "Epoch 4, Batch 60 loss: 0.1561827568337321\n",
            "Epoch 4, Batch 80 loss: 0.2267471742816269\n",
            "Epoch 4, Batch 100 loss: 0.1733093986287713\n",
            "Epoch 4, Batch 120 loss: 0.1451433903537691\n",
            "Epoch 5, Batch 20 loss: 0.1237635512836277\n",
            "Epoch 5, Batch 40 loss: 0.1611530813388526\n",
            "Epoch 5, Batch 60 loss: 0.1428091120906174\n",
            "Epoch 5, Batch 80 loss: 0.0467323209159076\n",
            "Epoch 5, Batch 100 loss: 0.0558495161589235\n",
            "Epoch 5, Batch 120 loss: 0.0795486821793020\n",
            "Epoch 6, Batch 20 loss: 0.0827182719833218\n",
            "Epoch 6, Batch 40 loss: 0.1336546814069152\n",
            "Epoch 6, Batch 60 loss: 0.0937088636448607\n",
            "Epoch 6, Batch 80 loss: 0.1183140791021287\n",
            "Epoch 6, Batch 100 loss: 0.0813787421677262\n",
            "Epoch 6, Batch 120 loss: 0.0713919227011502\n",
            "Epoch 7, Batch 20 loss: 0.1044065972673707\n",
            "Epoch 7, Batch 40 loss: 0.1272720826789737\n",
            "Epoch 7, Batch 60 loss: 0.0733586294576526\n",
            "Epoch 7, Batch 80 loss: 0.0916618534829468\n",
            "Epoch 7, Batch 100 loss: 0.0636438773479313\n",
            "Epoch 7, Batch 120 loss: 0.0437375084962696\n",
            "Epoch 8, Batch 20 loss: 0.0852137736394070\n",
            "Epoch 8, Batch 40 loss: 0.0318572710268199\n",
            "Epoch 8, Batch 60 loss: 0.0395033248118125\n",
            "Epoch 8, Batch 80 loss: 0.0460739537375048\n",
            "Epoch 8, Batch 100 loss: 0.0418420005007647\n",
            "Epoch 8, Batch 120 loss: 0.0332727325614542\n",
            "Epoch 9, Batch 20 loss: 0.0862247724668123\n",
            "Epoch 9, Batch 40 loss: 0.0647582732141018\n",
            "Epoch 9, Batch 60 loss: 0.0440424132859334\n",
            "Epoch 9, Batch 80 loss: 0.0618465089239180\n",
            "Epoch 9, Batch 100 loss: 0.0380802490282804\n",
            "Epoch 9, Batch 120 loss: 0.0146395093586761\n",
            "Epoch 10, Batch 20 loss: 0.0674030793947168\n",
            "Epoch 10, Batch 40 loss: 0.0416908286802936\n",
            "Epoch 10, Batch 60 loss: 0.0510952453536447\n",
            "Epoch 10, Batch 80 loss: 0.0544271812774241\n",
            "Epoch 10, Batch 100 loss: 0.0427576002781279\n",
            "Epoch 10, Batch 120 loss: 0.0326019213767722\n",
            "Epoch 11, Batch 20 loss: 0.0164234345662408\n",
            "Epoch 11, Batch 40 loss: 0.0241608226904646\n",
            "Epoch 11, Batch 60 loss: 0.0405451622908004\n",
            "Epoch 11, Batch 80 loss: 0.0321405282476917\n",
            "Epoch 11, Batch 100 loss: 0.0519959448254667\n",
            "Epoch 11, Batch 120 loss: 0.0246525397873484\n",
            "Epoch 12, Batch 20 loss: 0.0170793661614880\n",
            "Epoch 12, Batch 40 loss: 0.0161023083841428\n",
            "Epoch 12, Batch 60 loss: 0.0278331545909168\n",
            "Epoch 12, Batch 80 loss: 0.0363564295286778\n",
            "Epoch 12, Batch 100 loss: 0.0409836301463656\n",
            "Epoch 12, Batch 120 loss: 0.0380166434450075\n",
            "Epoch 13, Batch 20 loss: 0.0494651337154210\n",
            "Epoch 13, Batch 40 loss: 0.0373237011313904\n",
            "Epoch 13, Batch 60 loss: 0.0321278703864664\n",
            "Epoch 13, Batch 80 loss: 0.0358809113648022\n",
            "Epoch 13, Batch 100 loss: 0.0170792583143339\n",
            "Epoch 13, Batch 120 loss: 0.0221025263934280\n",
            "Epoch 14, Batch 20 loss: 0.0133032901765546\n",
            "Epoch 14, Batch 40 loss: 0.0470070247072727\n",
            "Epoch 14, Batch 60 loss: 0.0269288990937639\n",
            "Epoch 14, Batch 80 loss: 0.0106579857005272\n",
            "Epoch 14, Batch 100 loss: 0.0063363519409904\n",
            "Epoch 14, Batch 120 loss: 0.0043718950008042\n",
            "Epoch 15, Batch 20 loss: 0.0514656430226751\n",
            "Epoch 15, Batch 40 loss: 0.0144507941673510\n",
            "Epoch 15, Batch 60 loss: 0.0107229713350534\n",
            "Epoch 15, Batch 80 loss: 0.0106156108391588\n",
            "Epoch 15, Batch 100 loss: 0.0308495707300608\n",
            "Epoch 15, Batch 120 loss: 0.0229661520337686\n",
            "Epoch 16, Batch 20 loss: 0.0122288421145640\n",
            "Epoch 16, Batch 40 loss: 0.0130572247435339\n",
            "Epoch 16, Batch 60 loss: 0.0043736150153563\n",
            "Epoch 16, Batch 80 loss: 0.0048072691628477\n",
            "Epoch 16, Batch 100 loss: 0.0162816239811946\n",
            "Epoch 16, Batch 120 loss: 0.0151198467749055\n",
            "Epoch 17, Batch 20 loss: 0.0065881491667824\n",
            "Epoch 17, Batch 40 loss: 0.0080535562010482\n",
            "Epoch 17, Batch 60 loss: 0.0048844122240553\n",
            "Epoch 17, Batch 80 loss: 0.0408974712801864\n",
            "Epoch 17, Batch 100 loss: 0.0205485129161389\n",
            "Epoch 17, Batch 120 loss: 0.0182299280189909\n",
            "Epoch 18, Batch 20 loss: 0.0108101685444126\n",
            "Epoch 18, Batch 40 loss: 0.0220705459476449\n",
            "Epoch 18, Batch 60 loss: 0.0094004005601164\n",
            "Epoch 18, Batch 80 loss: 0.0095412442475208\n",
            "Epoch 18, Batch 100 loss: 0.0045307804786717\n",
            "Epoch 18, Batch 120 loss: 0.0326545611111214\n",
            "Epoch 19, Batch 20 loss: 0.0080511274776654\n",
            "Epoch 19, Batch 40 loss: 0.0278834433411248\n",
            "Epoch 19, Batch 60 loss: 0.0166797169142228\n",
            "Epoch 19, Batch 80 loss: 0.0154536693764385\n",
            "Epoch 19, Batch 100 loss: 0.0109335350571200\n",
            "Epoch 19, Batch 120 loss: 0.0148084432323230\n",
            "Epoch 20, Batch 20 loss: 0.0126283686375245\n",
            "Epoch 20, Batch 40 loss: 0.0100704334618058\n",
            "Epoch 20, Batch 60 loss: 0.0090182249507052\n",
            "Epoch 20, Batch 80 loss: 0.0273993934373721\n",
            "Epoch 20, Batch 100 loss: 0.0048904138908256\n",
            "Epoch 20, Batch 120 loss: 0.0044705064850859\n",
            "Epoch 21, Batch 20 loss: 0.0164737652608892\n",
            "Epoch 21, Batch 40 loss: 0.0112809501297306\n",
            "Epoch 21, Batch 60 loss: 0.0173404989720439\n",
            "Epoch 21, Batch 80 loss: 0.0071901973002241\n",
            "Epoch 21, Batch 100 loss: 0.0329259514764999\n",
            "Epoch 21, Batch 120 loss: 0.0059750677493867\n",
            "Epoch 22, Batch 20 loss: 0.0244695460627554\n",
            "Epoch 22, Batch 40 loss: 0.0099476015573600\n",
            "Epoch 22, Batch 60 loss: 0.0064269176131347\n",
            "Epoch 22, Batch 80 loss: 0.0048544063858571\n",
            "Epoch 22, Batch 100 loss: 0.0225108903992805\n",
            "Epoch 22, Batch 120 loss: 0.0045976067543961\n",
            "Epoch 23, Batch 20 loss: 0.0057664566615131\n",
            "Epoch 23, Batch 40 loss: 0.0306713278245297\n",
            "Epoch 23, Batch 60 loss: 0.0058584510290530\n",
            "Epoch 23, Batch 80 loss: 0.0063425495914998\n",
            "Epoch 23, Batch 100 loss: 0.0077608239778783\n",
            "Epoch 23, Batch 120 loss: 0.0038178326758498\n",
            "Epoch 24, Batch 20 loss: 0.0158341063855914\n",
            "Epoch 24, Batch 40 loss: 0.0015593709526001\n",
            "Epoch 24, Batch 60 loss: 0.0183391148093506\n",
            "Epoch 24, Batch 80 loss: 0.0091840129396587\n",
            "Epoch 24, Batch 100 loss: 0.0024400834285188\n",
            "Epoch 24, Batch 120 loss: 0.0205188573854684\n",
            "Epoch 25, Batch 20 loss: 0.0107515041920124\n",
            "Epoch 25, Batch 40 loss: 0.0168758354615420\n",
            "Epoch 25, Batch 60 loss: 0.0091111307599931\n",
            "Epoch 25, Batch 80 loss: 0.0117612764042860\n",
            "Epoch 25, Batch 100 loss: 0.0029399822589767\n",
            "Epoch 25, Batch 120 loss: 0.0034558520565042\n",
            "Epoch 26, Batch 20 loss: 0.0024241802108008\n",
            "Epoch 26, Batch 40 loss: 0.0023670154565480\n",
            "Epoch 26, Batch 60 loss: 0.0035954231701908\n",
            "Epoch 26, Batch 80 loss: 0.0030837523881928\n",
            "Epoch 26, Batch 100 loss: 0.0092338323782315\n",
            "Epoch 26, Batch 120 loss: 0.0054610010149190\n",
            "Epoch 27, Batch 20 loss: 0.0252851796838513\n",
            "Epoch 27, Batch 40 loss: 0.0170720854905085\n",
            "Epoch 27, Batch 60 loss: 0.0025427862914512\n",
            "Epoch 27, Batch 80 loss: 0.0100286240456626\n",
            "Epoch 27, Batch 100 loss: 0.0033712792966980\n",
            "Epoch 27, Batch 120 loss: 0.0070524049937376\n",
            "Epoch 28, Batch 20 loss: 0.0151898379146587\n",
            "Epoch 28, Batch 40 loss: 0.0364424851490185\n",
            "Epoch 28, Batch 60 loss: 0.0062802008076687\n",
            "Epoch 28, Batch 80 loss: 0.0020837834657868\n",
            "Epoch 28, Batch 100 loss: 0.0128616876885644\n",
            "Epoch 28, Batch 120 loss: 0.0088513110356871\n",
            "Epoch 29, Batch 20 loss: 0.0037583991477732\n",
            "Epoch 29, Batch 40 loss: 0.0069171823946817\n",
            "Epoch 29, Batch 60 loss: 0.0074517947359709\n",
            "Epoch 29, Batch 80 loss: 0.0082482229991001\n",
            "Epoch 29, Batch 100 loss: 0.0107207913097227\n",
            "Epoch 29, Batch 120 loss: 0.0125168860875419\n",
            "Epoch 30, Batch 20 loss: 0.0104629151202971\n",
            "Epoch 30, Batch 40 loss: 0.0043125807991601\n",
            "Epoch 30, Batch 60 loss: 0.0063761646153580\n",
            "Epoch 30, Batch 80 loss: 0.0080093045136891\n",
            "Epoch 30, Batch 100 loss: 0.0050856069326983\n",
            "Epoch 30, Batch 120 loss: 0.0040042970475042\n",
            "Epoch 31, Batch 20 loss: 0.0026228396804072\n",
            "Epoch 31, Batch 40 loss: 0.0039463405424613\n",
            "Epoch 31, Batch 60 loss: 0.0108220591471763\n",
            "Epoch 31, Batch 80 loss: 0.0031801093260583\n",
            "Epoch 31, Batch 100 loss: 0.0036833864229266\n",
            "Epoch 31, Batch 120 loss: 0.0025275682113715\n",
            "Epoch 32, Batch 20 loss: 0.0107647304219427\n",
            "Epoch 32, Batch 40 loss: 0.0015087274456164\n",
            "Epoch 32, Batch 60 loss: 0.0027772152345278\n",
            "Epoch 32, Batch 80 loss: 0.0020517085220490\n",
            "Epoch 32, Batch 100 loss: 0.0286398948388523\n",
            "Epoch 32, Batch 120 loss: 0.0085929354128893\n",
            "Epoch 33, Batch 20 loss: 0.0024196706464863\n",
            "Epoch 33, Batch 40 loss: 0.0056970165460370\n",
            "Epoch 33, Batch 60 loss: 0.0033906772834598\n",
            "Epoch 33, Batch 80 loss: 0.0108310558134690\n",
            "Epoch 33, Batch 100 loss: 0.0334655808532261\n",
            "Epoch 33, Batch 120 loss: 0.0026585885185341\n",
            "Epoch 34, Batch 20 loss: 0.0142833169404184\n",
            "Epoch 34, Batch 40 loss: 0.0016886787550902\n",
            "Epoch 34, Batch 60 loss: 0.0023719474302197\n",
            "Epoch 34, Batch 80 loss: 0.0031099729065318\n",
            "Epoch 34, Batch 100 loss: 0.0014056926047488\n",
            "Epoch 34, Batch 120 loss: 0.0015204708775855\n",
            "Epoch 35, Batch 20 loss: 0.0124705481095589\n",
            "Epoch 35, Batch 40 loss: 0.0019561263208743\n",
            "Epoch 35, Batch 60 loss: 0.0166943459087634\n",
            "Epoch 35, Batch 80 loss: 0.0036297465820098\n",
            "Epoch 35, Batch 100 loss: 0.0045078347895469\n",
            "Epoch 35, Batch 120 loss: 0.0030272352028987\n",
            "Epoch 36, Batch 20 loss: 0.0046548782076570\n",
            "Epoch 36, Batch 40 loss: 0.0026615353301167\n",
            "Epoch 36, Batch 60 loss: 0.0067365119241003\n",
            "Epoch 36, Batch 80 loss: 0.0012783992249751\n",
            "Epoch 36, Batch 100 loss: 0.0023799748101737\n",
            "Epoch 36, Batch 120 loss: 0.0013534429570427\n",
            "Epoch 37, Batch 20 loss: 0.0014327801516629\n",
            "Epoch 37, Batch 40 loss: 0.0101056048239116\n",
            "Epoch 37, Batch 60 loss: 0.0029835121298674\n",
            "Epoch 37, Batch 80 loss: 0.0035213660783484\n",
            "Epoch 37, Batch 100 loss: 0.0013755682935880\n",
            "Epoch 37, Batch 120 loss: 0.0044438649070798\n",
            "Epoch 38, Batch 20 loss: 0.0144166328929714\n",
            "Epoch 38, Batch 40 loss: 0.0155511613018461\n",
            "Epoch 38, Batch 60 loss: 0.0020357229412184\n",
            "Epoch 38, Batch 80 loss: 0.0014916003885446\n",
            "Epoch 38, Batch 100 loss: 0.0039530637535790\n",
            "Epoch 38, Batch 120 loss: 0.0031058206426678\n",
            "Epoch 39, Batch 20 loss: 0.0043997195258271\n",
            "Epoch 39, Batch 40 loss: 0.0120404802335543\n",
            "Epoch 39, Batch 60 loss: 0.0046601516558439\n",
            "Epoch 39, Batch 80 loss: 0.0076692368544172\n",
            "Epoch 39, Batch 100 loss: 0.0028292995848460\n",
            "Epoch 39, Batch 120 loss: 0.0047344040998723\n",
            "Epoch 40, Batch 20 loss: 0.0027396113080613\n",
            "Epoch 40, Batch 40 loss: 0.0066824764653575\n",
            "Epoch 40, Batch 60 loss: 0.0012348171650956\n",
            "Epoch 40, Batch 80 loss: 0.0034888228212367\n",
            "Epoch 40, Batch 100 loss: 0.0033191504189745\n",
            "Epoch 40, Batch 120 loss: 0.0026956774934661\n",
            "Epoch 41, Batch 20 loss: 0.0018739299775916\n",
            "Epoch 41, Batch 40 loss: 0.0034114181384211\n",
            "Epoch 41, Batch 60 loss: 0.0010517203161726\n",
            "Epoch 41, Batch 80 loss: 0.0011951371998293\n",
            "Epoch 41, Batch 100 loss: 0.0009691707775346\n",
            "Epoch 41, Batch 120 loss: 0.0016482075559907\n",
            "Epoch 42, Batch 20 loss: 0.0042076661797182\n",
            "Epoch 42, Batch 40 loss: 0.0021487969392183\n",
            "Epoch 42, Batch 60 loss: 0.0012986051646294\n",
            "Epoch 42, Batch 80 loss: 0.0022083325602580\n",
            "Epoch 42, Batch 100 loss: 0.0014013314474141\n",
            "Epoch 42, Batch 120 loss: 0.0014222943369532\n",
            "Epoch 43, Batch 20 loss: 0.0154430064168992\n",
            "Epoch 43, Batch 40 loss: 0.0013904196355725\n",
            "Epoch 43, Batch 60 loss: 0.0044882168411277\n",
            "Epoch 43, Batch 80 loss: 0.0040047094909823\n",
            "Epoch 43, Batch 100 loss: 0.0013763698421826\n",
            "Epoch 43, Batch 120 loss: 0.0039008607061987\n",
            "Epoch 44, Batch 20 loss: 0.0015282485357602\n",
            "Epoch 44, Batch 40 loss: 0.0051829453099344\n",
            "Epoch 44, Batch 60 loss: 0.0116724515755777\n",
            "Epoch 44, Batch 80 loss: 0.0027293935912894\n",
            "Epoch 44, Batch 100 loss: 0.0031300551559980\n",
            "Epoch 44, Batch 120 loss: 0.0045855868938816\n",
            "Epoch 45, Batch 20 loss: 0.0019421647426498\n",
            "Epoch 45, Batch 40 loss: 0.0093035650381353\n",
            "Epoch 45, Batch 60 loss: 0.0028742505317496\n",
            "Epoch 45, Batch 80 loss: 0.0067730637456407\n",
            "Epoch 45, Batch 100 loss: 0.0055891229334520\n",
            "Epoch 45, Batch 120 loss: 0.0011502356770507\n",
            "Epoch 46, Batch 20 loss: 0.0064522337987000\n",
            "Epoch 46, Batch 40 loss: 0.0032476358290296\n",
            "Epoch 46, Batch 60 loss: 0.0017445901412430\n",
            "Epoch 46, Batch 80 loss: 0.0032703256521927\n",
            "Epoch 46, Batch 100 loss: 0.0010990147704433\n",
            "Epoch 46, Batch 120 loss: 0.0020709982098197\n",
            "Epoch 47, Batch 20 loss: 0.0019968122476712\n",
            "Epoch 47, Batch 40 loss: 0.0120056235347874\n",
            "Epoch 47, Batch 60 loss: 0.0036498929104710\n",
            "Epoch 47, Batch 80 loss: 0.0010127352106792\n",
            "Epoch 47, Batch 100 loss: 0.0031753429379023\n",
            "Epoch 47, Batch 120 loss: 0.0025163889724354\n",
            "Epoch 48, Batch 20 loss: 0.0036781370086828\n",
            "Epoch 48, Batch 40 loss: 0.0015189179626759\n",
            "Epoch 48, Batch 60 loss: 0.0018331444742216\n",
            "Epoch 48, Batch 80 loss: 0.0016796239811811\n",
            "Epoch 48, Batch 100 loss: 0.0099941157925059\n",
            "Epoch 48, Batch 120 loss: 0.0011069988555391\n",
            "Epoch 49, Batch 20 loss: 0.0025497195041680\n",
            "Epoch 49, Batch 40 loss: 0.0017880479565065\n",
            "Epoch 49, Batch 60 loss: 0.0015079528900969\n",
            "Epoch 49, Batch 80 loss: 0.0189859038211580\n",
            "Epoch 49, Batch 100 loss: 0.0024349263869226\n",
            "Epoch 49, Batch 120 loss: 0.0094300550372282\n",
            "Epoch 50, Batch 20 loss: 0.0109838190630398\n",
            "Epoch 50, Batch 40 loss: 0.0025524104385113\n",
            "Epoch 50, Batch 60 loss: 0.0079964913122240\n",
            "Epoch 50, Batch 80 loss: 0.0021175275345740\n",
            "Epoch 50, Batch 100 loss: 0.0088732843600155\n",
            "Epoch 50, Batch 120 loss: 0.0098702152645274\n"
          ]
        }
      ]
    },
    {
      "cell_type": "code",
      "metadata": {
        "colab": {
          "base_uri": "https://localhost:8080/",
          "height": 281
        },
        "id": "CfA7ZjLR1BZP",
        "outputId": "2911410f-5eac-4c50-95bf-67ecc201811c"
      },
      "source": [
        "plt.plot(train_losses)\n",
        "plt.title(\"Training Loss\")\n",
        "plt.show()"
      ],
      "execution_count": 17,
      "outputs": [
        {
          "output_type": "display_data",
          "data": {
            "image/png": "[encoded data removed]",
            "text/plain": [
              "<Figure size 432x288 with 1 Axes>"
            ]
          },
          "metadata": {
            "needs_background": "light"
          }
        }
      ]
    },
    {
      "cell_type": "markdown",
      "metadata": {
        "id": "ItLyF9dQyJFL"
      },
      "source": [
        "Testing the model"
      ]
    },
    {
      "cell_type": "code",
      "metadata": {
        "id": "gGki98W3SoEW"
      },
      "source": [
        "from sklearn.metrics import precision_score, recall_score, f1_score, accuracy_score"
      ],
      "execution_count": 18,
      "outputs": []
    },
    {
      "cell_type": "code",
      "metadata": {
        "colab": {
          "base_uri": "https://localhost:8080/"
        },
        "id": "xNavYOynyE6d",
        "outputId": "942a7296-17f1-43fe-b7a2-4f79dae14c71"
      },
      "source": [
        "# The test_model function is from model_testing python file\n",
        "test_loss, class_correct, class_total, labels, predictions = test_model(classes, inception_v3, test_loader, criterion)\n",
        "\n",
        "# Test accuracy for each hieroglyph\n",
        "for i in range(len(classes)):\n",
        "    if class_total[i] > 0:\n",
        "        print('Test Accuracy of %5s: %2d%% (%2d/%2d)' % (classes[i], 100 * class_correct[i] / class_total[i], np.sum(class_correct[i]), np.sum(class_total[i])))\n",
        "    else:\n",
        "        print('Test Accuracy of %5s: N/A (no training examples)' % (classes[i]))\n",
        "\n",
        "# Total Test accuracy\n",
        "print(\"\\nAccuracy: {:.3%}\".format(accuracy_score(labels, predictions)))\n",
        "print(\"\\nPrecision: {:.3%}\".format(precision_score(labels, predictions, average = 'weighted')))\n",
        "print(\"\\nRecall: {:.3%}\".format(recall_score(labels, predictions, average = 'weighted')))\n",
        "print(\"\\nF1-score: {:.3%}\".format(f1_score(labels, predictions, average = 'weighted')))"
      ],
      "execution_count": 19,
      "outputs": [
        {
          "output_type": "stream",
          "name": "stdout",
          "text": [
            "Test Loss: 0.004545\n",
            "\n",
            "Test Accuracy of    D2: 100% (16/16)\n",
            "Test Accuracy of   D21: 100% (18/18)\n",
            "Test Accuracy of   D36: 100% (17/17)\n",
            "Test Accuracy of    D4: 100% (16/16)\n",
            "Test Accuracy of   D46: 100% (17/17)\n",
            "Test Accuracy of   D58: 100% (16/16)\n",
            "Test Accuracy of   E23: 100% (12/12)\n",
            "Test Accuracy of   E34: 100% ( 8/ 8)\n",
            "Test Accuracy of   F31: 100% (17/17)\n",
            "Test Accuracy of   F35: 100% (10/10)\n",
            "Test Accuracy of    G1: 100% (13/13)\n",
            "Test Accuracy of   G17: 100% (17/17)\n",
            "Test Accuracy of   G43: 100% (14/14)\n",
            "Test Accuracy of   I10: 100% (23/23)\n",
            "Test Accuracy of    I9: 100% (18/18)\n",
            "Test Accuracy of   M17: 100% (14/14)\n",
            "Test Accuracy of   M23: 100% (21/21)\n",
            "Test Accuracy of   N35: 100% (14/14)\n",
            "Test Accuracy of    O1: 100% (10/10)\n",
            "Test Accuracy of   O34: 100% (13/13)\n",
            "Test Accuracy of    O4: 100% (10/10)\n",
            "Test Accuracy of   O49: 100% (14/14)\n",
            "Test Accuracy of    Q1: 100% (18/18)\n",
            "Test Accuracy of    Q3: 100% (16/16)\n",
            "Test Accuracy of    R4: 100% (16/16)\n",
            "Test Accuracy of    R8: 100% (15/15)\n",
            "Test Accuracy of   S29: 100% (19/19)\n",
            "Test Accuracy of   S34: 100% (16/16)\n",
            "Test Accuracy of    U7: 100% (19/19)\n",
            "Test Accuracy of   V13: 100% (15/15)\n",
            "Test Accuracy of   V28: 100% (21/21)\n",
            "Test Accuracy of   V30: 100% (18/18)\n",
            "Test Accuracy of   V31: 100% (17/17)\n",
            "Test Accuracy of   W11: 100% (11/11)\n",
            "Test Accuracy of   W24: 100% (23/23)\n",
            "Test Accuracy of    X1: 100% (17/17)\n",
            "Test Accuracy of    X8: 100% (13/13)\n",
            "Test Accuracy of    Y1: 100% (21/21)\n",
            "Test Accuracy of    Y5: 100% (16/16)\n",
            "Test Accuracy of    Z1: 100% (14/14)\n",
            "\n",
            "Accuracy: 100.000%\n",
            "\n",
            "Precision: 100.000%\n",
            "\n",
            "Recall: 100.000%\n",
            "\n",
            "F1-score: 100.000%\n"
          ]
        }
      ]
    }
  ]
}