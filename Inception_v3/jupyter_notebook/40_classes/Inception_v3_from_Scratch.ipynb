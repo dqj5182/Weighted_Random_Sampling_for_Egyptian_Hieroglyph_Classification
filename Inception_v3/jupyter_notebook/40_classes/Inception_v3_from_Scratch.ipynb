{
  "nbformat": 4,
  "nbformat_minor": 0,
  "metadata": {
    "colab": {
      "name": "Egyptian_model_with_Inception_v3_from_Scratch.ipynb",
      "provenance": []
    },
    "kernelspec": {
      "name": "python3",
      "display_name": "Python 3"
    },
    "language_info": {
      "name": "python"
    },
    "accelerator": "GPU"
  },
  "cells": [
    {
      "cell_type": "code",
      "metadata": {
        "id": "8iEiGSblxJzW"
      },
      "source": [
        "import os, os.path\n",
        "import torch\n",
        "import numpy as np\n",
        "import torch.nn as nn\n",
        "import torch.optim as optim\n",
        "from pathlib import Path\n",
        "from torchvision import datasets, models, transforms\n",
        "\n",
        "# check if CUDA is available\n",
        "train_on_gpu = torch.cuda.is_available()"
      ],
      "execution_count": null,
      "outputs": []
    },
    {
      "cell_type": "markdown",
      "metadata": {
        "id": "Jd6KU8VMz6J3"
      },
      "source": [
        "Module: Load_data"
      ]
    },
    {
      "cell_type": "code",
      "metadata": {
        "id": "8lWX0BW_w_kC"
      },
      "source": [
        "def load_data(hieroglyph_directory_path, batch_size=20, num_workers=0):\n",
        "    train_dir = os.path.join(hieroglyph_directory_path, 'train/')\n",
        "    test_dir = os.path.join(hieroglyph_directory_path, 'test/')\n",
        "\n",
        "    classes = []\n",
        "\n",
        "    for filename in os.listdir(train_dir):\n",
        "        if filename == '.DS_Store':\n",
        "            pass\n",
        "        else:\n",
        "            classes.append(filename)\n",
        "\n",
        "    classes.sort()\n",
        "\n",
        "    # print(\"Our classes:\", classes)\n",
        "    # print(len(classes))\n",
        "\n",
        "    data_transform = transforms.Compose([transforms.ToTensor(),\n",
        "                                         transforms.RandomApply([transforms.RandomHorizontalFlip()]),\n",
        "                                         transforms.RandomRotation(degrees=(-10, 10)),\n",
        "                                         transforms.RandomAffine(degrees=0, translate=(.1, .1)),\n",
        "                                         transforms.RandomApply([transforms.ColorJitter(brightness=(1, 1.2),\n",
        "                                                                                        contrast=(1, 1.5),\n",
        "                                                                                        saturation=(1, 1.5),\n",
        "                                                                                        hue=(0, 0.5))]),\n",
        "                                         transforms.RandomErasing(p=0.5, scale=(0.05, 0.05), ratio=(0.3, 3.3), value=0,\n",
        "                                                                  inplace=False),\n",
        "                                         transforms.Resize((299, 299)),\n",
        "                                         transforms.Normalize((0.5,), (0.5,))])\n",
        "\n",
        "    train_data = datasets.ImageFolder(train_dir, transform=data_transform)\n",
        "    test_data = datasets.ImageFolder(test_dir, transform=data_transform)\n",
        "\n",
        "    # print('Num training images: ', len(train_data))\n",
        "    # print('Num test images: ', len(test_data))\n",
        "\n",
        "    # prepare data loaders\n",
        "    train_loader = torch.utils.data.DataLoader(train_data, batch_size=batch_size,\n",
        "                                               num_workers=num_workers, shuffle=True)\n",
        "    test_loader = torch.utils.data.DataLoader(test_data, batch_size=batch_size,\n",
        "                                              num_workers=num_workers, shuffle=True)\n",
        "\n",
        "    return train_loader, test_loader, classes"
      ],
      "execution_count": null,
      "outputs": []
    },
    {
      "cell_type": "markdown",
      "metadata": {
        "id": "K4sXUrPPz7iF"
      },
      "source": [
        "Module: Train_model"
      ]
    },
    {
      "cell_type": "code",
      "metadata": {
        "id": "N2N_rnKLxN5c"
      },
      "source": [
        "def train_model(train_loader, optimizer, conv_net_model, criterion, my_lr_scheduler, n_epochs):\n",
        "    # track training loss over time\n",
        "    losses = []\n",
        "    \n",
        "    for epoch in range(1, n_epochs + 1):\n",
        "\n",
        "        # keep track of training and validation loss\n",
        "        train_loss = 0.0\n",
        "\n",
        "        # model by default is set to train\n",
        "        for batch_i, (data, target) in enumerate(train_loader):\n",
        "            # move tensors to GPU if CUDA is available\n",
        "            if train_on_gpu:\n",
        "                data, target = data.cuda(), target.cuda()\n",
        "            # clear the gradients of all optimized variables\n",
        "            optimizer.zero_grad()\n",
        "            # forward pass: compute predicted outputs by passing inputs to the model\n",
        "            output = conv_net_model(data)\n",
        "            # calculate the batch loss\n",
        "            loss = criterion(output.logits, target)\n",
        "            # backward pass: compute gradient of the loss with respect to model parameters\n",
        "            loss.backward()\n",
        "            # perform a single optimization step (parameter update)\n",
        "            optimizer.step()\n",
        "            # update training loss\n",
        "            train_loss += loss.item()\n",
        "\n",
        "            my_lr_scheduler.step()\n",
        "\n",
        "            if batch_i % 20 == 19:  # print training loss every specified number of mini-batches\n",
        "                print('Epoch %d, Batch %d loss: %.16f' %\n",
        "                    (epoch, batch_i + 1, train_loss / 20))\n",
        "                losses.append(train_loss / 20)\n",
        "                train_loss = 0.0\n",
        "\n",
        "    return conv_net_model, losses"
      ],
      "execution_count": null,
      "outputs": []
    },
    {
      "cell_type": "markdown",
      "metadata": {
        "id": "-Rrxo5RDz96U"
      },
      "source": [
        "Module: Test_model"
      ]
    },
    {
      "cell_type": "code",
      "metadata": {
        "id": "Ay-HlMJnxU9v"
      },
      "source": [
        "def test_model(classes, conv_net_model, test_loader, criterion):\n",
        "    # track test loss\n",
        "    test_loss = 0.0\n",
        "    class_correct = list(0. for i in range(len(classes)))\n",
        "    class_total = list(0. for i in range(len(classes)))\n",
        "\n",
        "    conv_net_model.eval()  # eval mode\n",
        "\n",
        "    labels = []\n",
        "    predictions = []\n",
        "    # iterate over test data\n",
        "    for data, target in test_loader:\n",
        "        # move tensors to GPU if CUDA is available\n",
        "        if train_on_gpu:\n",
        "            data, target = data.cuda(), target.cuda()\n",
        "        # forward pass: compute predicted outputs by passing inputs to the model\n",
        "        output = conv_net_model(data)\n",
        "        # calculate the batch loss\n",
        "        loss = criterion(output, target)\n",
        "        # update  test loss\n",
        "        test_loss += loss.item() * data.size(0)\n",
        "        # convert output probabilities to predicted class\n",
        "        _, pred = torch.max(output, 1)\n",
        "        # compare predictions to true label\n",
        "        correct_tensor = pred.eq(target.data.view_as(pred))\n",
        "        correct = np.squeeze(correct_tensor.numpy()) if not train_on_gpu else np.squeeze(correct_tensor.cpu().numpy())\n",
        "        # calculate test accuracy for each object class\n",
        "        for i in range(len(target.data)):\n",
        "            label = target.data[i]\n",
        "            class_correct[label] += correct[i].item()\n",
        "            class_total[label] += 1\n",
        "        \n",
        "        # Will be used for calculating Recall, Precision, and F1-score\n",
        "        labels.extend(target.data.view_as(pred).tolist())\n",
        "        predictions.extend(pred.tolist())\n",
        "\n",
        "\n",
        "    # calculate avg test loss\n",
        "    test_loss = test_loss / len(test_loader.dataset)\n",
        "    print('Test Loss: {:.6f}\\n'.format(test_loss))\n",
        "\n",
        "    return test_loss, class_correct, class_total, labels, predictions"
      ],
      "execution_count": null,
      "outputs": []
    },
    {
      "cell_type": "markdown",
      "metadata": {
        "id": "xHh3PXE80Asa"
      },
      "source": [
        "Check whether CUDA is available (Change runtime type if not)"
      ]
    },
    {
      "cell_type": "code",
      "metadata": {
        "colab": {
          "base_uri": "https://localhost:8080/"
        },
        "id": "Q9TYPQH7x4zw",
        "outputId": "791077a6-438b-4975-8796-03b840f275c9"
      },
      "source": [
        "if not train_on_gpu:\n",
        "    print('CUDA is not available.  Training on CPU ...')\n",
        "else:\n",
        "    print('CUDA is available!  Training on GPU ...')"
      ],
      "execution_count": null,
      "outputs": [
        {
          "output_type": "stream",
          "name": "stdout",
          "text": [
            "CUDA is available!  Training on GPU ...\n"
          ]
        }
      ]
    },
    {
      "cell_type": "markdown",
      "metadata": {
        "id": "6lYw8EKVx8Q7"
      },
      "source": [
        "Load Hieroglyph Data"
      ]
    },
    {
      "cell_type": "code",
      "metadata": {
        "colab": {
          "base_uri": "https://localhost:8080/"
        },
        "id": "laLvoRy1yewl",
        "outputId": "885dce18-8afc-48cf-fadf-30af3c62c224"
      },
      "source": [
        "# Connecting and Mounting to the Google Drive\n",
        "from google.colab import drive\n",
        "drive.mount('/content/drive')"
      ],
      "execution_count": null,
      "outputs": [
        {
          "output_type": "stream",
          "name": "stdout",
          "text": [
            "Mounted at /content/drive\n"
          ]
        }
      ]
    },
    {
      "cell_type": "code",
      "metadata": {
        "id": "odaoZt9GyfUt"
      },
      "source": [
        "data_dir = '/content/drive/MyDrive/EgyptianHieroglyphDataset_Original/'"
      ],
      "execution_count": null,
      "outputs": []
    },
    {
      "cell_type": "code",
      "metadata": {
        "colab": {
          "base_uri": "https://localhost:8080/"
        },
        "id": "dF22MAnmyiC1",
        "outputId": "2b9de653-dd17-418a-eb49-3a542e1bda67"
      },
      "source": [
        "hieroglyph_for_train = []\n",
        "file_count_list = []\n",
        "\n",
        "for name in os.listdir('/content/drive/MyDrive/EgyptianHieroglyphDataset_Original/train/'):\n",
        "  path, dirs, files = next(os.walk(\"/content/drive/MyDrive/EgyptianHieroglyphDataset_Original/train/\"+name))\n",
        "  file_count = len(files)\n",
        "  print(name, file_count)\n",
        "  file_count_list.append(file_count)\n",
        "  hieroglyph_for_train.append(name)\n",
        "\n",
        "hieroglyph_dict = dict(zip(hieroglyph_for_train, file_count_list))"
      ],
      "execution_count": null,
      "outputs": [
        {
          "output_type": "stream",
          "name": "stdout",
          "text": [
            "D4 29\n",
            "D2 19\n",
            "D46 40\n",
            "D36 47\n",
            "D21 146\n",
            "D58 28\n",
            "E34 97\n",
            "E23 8\n",
            "F31 6\n",
            "G1 28\n",
            "F35 2\n",
            "G17 156\n",
            "G43 157\n",
            "I10 32\n",
            "I9 116\n",
            "M23 30\n",
            "M17 291\n",
            "O1 16\n",
            "O34 15\n",
            "N35 358\n",
            "Q3 61\n",
            "O49 10\n",
            "Q1 13\n",
            "O4 11\n",
            "S34 8\n",
            "R4 2\n",
            "R8 53\n",
            "S29 212\n",
            "V13 63\n",
            "V28 28\n",
            "U7 3\n",
            "V30 6\n",
            "W11 4\n",
            "W24 31\n",
            "V31 106\n",
            "Y5 6\n",
            "X8 4\n",
            "Z1 39\n",
            "X1 185\n",
            "Y1 1\n"
          ]
        }
      ]
    },
    {
      "cell_type": "markdown",
      "metadata": {
        "id": "XeQQ7PjZzKd9"
      },
      "source": [
        "Number of images for each hieroglyph "
      ]
    },
    {
      "cell_type": "code",
      "metadata": {
        "colab": {
          "base_uri": "https://localhost:8080/",
          "height": 609
        },
        "id": "W6IzWR2RyjxM",
        "outputId": "b9517fb7-de8f-468b-b21a-87f5dba0631c"
      },
      "source": [
        "import matplotlib.pyplot as plt\n",
        "import pandas as pd\n",
        "\n",
        "df = pd.DataFrame({\"Hieroglyph\":hieroglyph_for_train, \"Count\":file_count_list})\n",
        "\n",
        "df_sorted= df.sort_values('Count',ascending=False)\n",
        "\n",
        "plt.figure(figsize=(20,10))\n",
        "# make bar plot with matplotlib\n",
        "plt.bar('Hieroglyph', 'Count',data=df_sorted)"
      ],
      "execution_count": null,
      "outputs": [
        {
          "output_type": "execute_result",
          "data": {
            "text/plain": [
              "<BarContainer object of 40 artists>"
            ]
          },
          "metadata": {},
          "execution_count": 9
        },
        {
          "output_type": "display_data",
          "data": {
            "image/png": "[encoded data removed]",
            "text/plain": [
              "<Figure size 1440x720 with 1 Axes>"
            ]
          },
          "metadata": {
            "needs_background": "light"
          }
        }
      ]
    },
    {
      "cell_type": "code",
      "metadata": {
        "id": "-3oOm8rSx7tp"
      },
      "source": [
        "# Number of images processed in a single training\n",
        "batch_size = 20\n",
        "num_workers = 0\n",
        "\n",
        "# The load_data function is from hieroglyph_data_preparation python file\n",
        "train_loader, test_loader, classes = load_data(data_dir)"
      ],
      "execution_count": null,
      "outputs": []
    },
    {
      "cell_type": "markdown",
      "metadata": {
        "id": "BJm8sGiBx_q5"
      },
      "source": [
        "ResNet Model"
      ]
    },
    {
      "cell_type": "code",
      "metadata": {
        "id": "JkLXVJGkxemC",
        "colab": {
          "base_uri": "https://localhost:8080/"
        },
        "outputId": "811621e4-9022-40c1-82ce-5572baafb3e9"
      },
      "source": [
        "# Whether to extract features with the model\n",
        "feature_extract = False\n",
        "# Other selections\n",
        "loss_function = \"cross-entropy\"\n",
        "model_selection = \"inception-v3\"\n",
        "optim_selection = \"Adam\"\n",
        "\n",
        "# False if you want scratch model, True if you want pretrained model\n",
        "whether_to_pretrain = False\n",
        "\n",
        "# Load the model\n",
        "if model_selection == \"resnet-50\":\n",
        "    resnet50 = models.resnet50(pretrained=whether_to_pretrain)\n",
        "    # Number of features in the last layer of resnet\n",
        "    n_inputs = resnet50.fc.in_features\n",
        "    # Add last linear layer (n_inputs -> 40 hieroglyph classes)\n",
        "    last_layer = nn.Sequential(\n",
        "                    nn.Linear(n_inputs, len(classes)))\n",
        "    resnet50.fc = last_layer\n",
        "    if train_on_gpu:\n",
        "      resnet50.cuda()\n",
        "    # Specify optimizer (Adam) and learning rate = 0.001\n",
        "    if optim_selection == \"Adam\":\n",
        "        optimizer = optim.Adam(resnet50.parameters(), lr=0.001)\n",
        "\n",
        "elif model_selection == \"inception-v3\":\n",
        "    inception_v3 = models.inception_v3(pretrained=whether_to_pretrain)\n",
        "    # Number of features in the last layer of resnet\n",
        "    n_inputs = inception_v3.fc.in_features\n",
        "    # Add last linear layer (n_inputs -> 40 hieroglyph classes)\n",
        "    last_layer = nn.Sequential(\n",
        "                    nn.Linear(n_inputs, len(classes)))\n",
        "    inception_v3.fc = last_layer\n",
        "    if train_on_gpu:\n",
        "      inception_v3.cuda()\n",
        "    # Specify optimizer (Adam) and learning rate = 0.001\n",
        "    if optim_selection == \"Adam\":\n",
        "        optimizer = optim.Adam(inception_v3.parameters(), lr=0.001)\n",
        "\n",
        "\n",
        "# Specify loss function (categorical cross-entropy)\n",
        "if loss_function == \"cross-entropy\":\n",
        "    criterion = nn.CrossEntropyLoss()\n",
        "\n",
        "# Exponential Decay to strengthen learning\n",
        "decayRate = 0.999\n",
        "my_lr_scheduler = torch.optim.lr_scheduler.ExponentialLR(optimizer=optimizer, gamma=decayRate)"
      ],
      "execution_count": null,
      "outputs": [
        {
          "output_type": "stream",
          "name": "stderr",
          "text": [
            "/usr/local/lib/python3.7/dist-packages/torchvision/models/inception.py:83: FutureWarning: The default weight initialization of inception_v3 will be changed in future releases of torchvision. If you wish to keep the old behavior (which leads to long initialization times due to scipy/scipy#11299), please set init_weights=True.\n",
            "  ' due to scipy/scipy#11299), please set init_weights=True.', FutureWarning)\n"
          ]
        }
      ]
    },
    {
      "cell_type": "markdown",
      "metadata": {
        "id": "U2vnErB1yHmM"
      },
      "source": [
        "Training the model"
      ]
    },
    {
      "cell_type": "code",
      "metadata": {
        "colab": {
          "base_uri": "https://localhost:8080/"
        },
        "id": "dOB03noWyEvQ",
        "outputId": "1924f5c5-04f3-4e8b-dfb5-d8e0e4ad78cb"
      },
      "source": [
        "# number of epochs to train the model\n",
        "n_epochs = 50\n",
        "\n",
        "if model_selection == \"resnet-50\":\n",
        "  # The train_model function is from model_training python file\n",
        "  resnet50, train_losses = train_model(train_loader, optimizer, resnet50, criterion, my_lr_scheduler, n_epochs)\n",
        "elif model_selection == \"inception-v3\":\n",
        "  # The train_model function is from model_training python file\n",
        "  inception_v3, train_losses = train_model(train_loader, optimizer, inception_v3, criterion, my_lr_scheduler, n_epochs)"
      ],
      "execution_count": null,
      "outputs": [
        {
          "output_type": "stream",
          "name": "stdout",
          "text": [
            "Epoch 1, Batch 20 loss: 3.3070049762725828\n",
            "Epoch 1, Batch 40 loss: 2.5647743463516237\n",
            "Epoch 1, Batch 60 loss: 2.3100758075714110\n",
            "Epoch 1, Batch 80 loss: 1.8490095615386963\n",
            "Epoch 1, Batch 100 loss: 1.7737611532211304\n",
            "Epoch 1, Batch 120 loss: 1.8572655916213989\n",
            "Epoch 2, Batch 20 loss: 1.4046132147312165\n",
            "Epoch 2, Batch 40 loss: 1.5475057065486908\n",
            "Epoch 2, Batch 60 loss: 1.3442437797784805\n",
            "Epoch 2, Batch 80 loss: 1.2792984902858735\n",
            "Epoch 2, Batch 100 loss: 1.1165226787328719\n",
            "Epoch 2, Batch 120 loss: 1.0838677138090134\n",
            "Epoch 3, Batch 20 loss: 0.9539087712764740\n",
            "Epoch 3, Batch 40 loss: 0.8937238499522209\n",
            "Epoch 3, Batch 60 loss: 0.7819853022694587\n",
            "Epoch 3, Batch 80 loss: 0.8102143257856369\n",
            "Epoch 3, Batch 100 loss: 0.8315253168344497\n",
            "Epoch 3, Batch 120 loss: 0.7971304684877396\n",
            "Epoch 4, Batch 20 loss: 0.6575006276369095\n",
            "Epoch 4, Batch 40 loss: 0.6212151184678077\n",
            "Epoch 4, Batch 60 loss: 0.6122960790991783\n",
            "Epoch 4, Batch 80 loss: 0.6932121284306050\n",
            "Epoch 4, Batch 100 loss: 0.5187399461865425\n",
            "Epoch 4, Batch 120 loss: 0.5444168493151664\n",
            "Epoch 5, Batch 20 loss: 0.4346867255866528\n",
            "Epoch 5, Batch 40 loss: 0.4961721904575825\n",
            "Epoch 5, Batch 60 loss: 0.5197084065526724\n",
            "Epoch 5, Batch 80 loss: 0.4954290509223938\n",
            "Epoch 5, Batch 100 loss: 0.4425503574311733\n",
            "Epoch 5, Batch 120 loss: 0.5474575325846672\n",
            "Epoch 6, Batch 20 loss: 0.3714854508638382\n",
            "Epoch 6, Batch 40 loss: 0.3996670240536332\n",
            "Epoch 6, Batch 60 loss: 0.3802514277398586\n",
            "Epoch 6, Batch 80 loss: 0.4092010818421841\n",
            "Epoch 6, Batch 100 loss: 0.4080124013125896\n",
            "Epoch 6, Batch 120 loss: 0.3462218318134546\n",
            "Epoch 7, Batch 20 loss: 0.3291526033543050\n",
            "Epoch 7, Batch 40 loss: 0.3526032064110041\n",
            "Epoch 7, Batch 60 loss: 0.2702752061188221\n",
            "Epoch 7, Batch 80 loss: 0.2953200969845057\n",
            "Epoch 7, Batch 100 loss: 0.3806823730468750\n",
            "Epoch 7, Batch 120 loss: 0.3162224601954222\n",
            "Epoch 8, Batch 20 loss: 0.3827310379594565\n",
            "Epoch 8, Batch 40 loss: 0.3180745474994183\n",
            "Epoch 8, Batch 60 loss: 0.2614538967609406\n",
            "Epoch 8, Batch 80 loss: 0.1761155294254422\n",
            "Epoch 8, Batch 100 loss: 0.2415189199149609\n",
            "Epoch 8, Batch 120 loss: 0.2366421051323414\n",
            "Epoch 9, Batch 20 loss: 0.2444993011653423\n",
            "Epoch 9, Batch 40 loss: 0.2695197504013777\n",
            "Epoch 9, Batch 60 loss: 0.2010167243890464\n",
            "Epoch 9, Batch 80 loss: 0.2018780993297696\n",
            "Epoch 9, Batch 100 loss: 0.2165292782709002\n",
            "Epoch 9, Batch 120 loss: 0.1956058759242296\n",
            "Epoch 10, Batch 20 loss: 0.1615832408890128\n",
            "Epoch 10, Batch 40 loss: 0.1420233203098178\n",
            "Epoch 10, Batch 60 loss: 0.1100901282392442\n",
            "Epoch 10, Batch 80 loss: 0.1516055414453149\n",
            "Epoch 10, Batch 100 loss: 0.1518590138759464\n",
            "Epoch 10, Batch 120 loss: 0.1669784606900066\n",
            "Epoch 11, Batch 20 loss: 0.1268115887418389\n",
            "Epoch 11, Batch 40 loss: 0.1441098523326218\n",
            "Epoch 11, Batch 60 loss: 0.1398891408927739\n",
            "Epoch 11, Batch 80 loss: 0.1469170268625021\n",
            "Epoch 11, Batch 100 loss: 0.1740593615919352\n",
            "Epoch 11, Batch 120 loss: 0.1527415602467954\n",
            "Epoch 12, Batch 20 loss: 0.1218669520225376\n",
            "Epoch 12, Batch 40 loss: 0.1466568066272885\n",
            "Epoch 12, Batch 60 loss: 0.0989964046515524\n",
            "Epoch 12, Batch 80 loss: 0.1240760318003595\n",
            "Epoch 12, Batch 100 loss: 0.1221832909621298\n",
            "Epoch 12, Batch 120 loss: 0.1031033089384437\n",
            "Epoch 13, Batch 20 loss: 0.0906445288565010\n",
            "Epoch 13, Batch 40 loss: 0.0451968229841441\n",
            "Epoch 13, Batch 60 loss: 0.0951512969797477\n",
            "Epoch 13, Batch 80 loss: 0.1203026271192357\n",
            "Epoch 13, Batch 100 loss: 0.1289454536512494\n",
            "Epoch 13, Batch 120 loss: 0.1059382242150605\n",
            "Epoch 14, Batch 20 loss: 0.1269710473716259\n",
            "Epoch 14, Batch 40 loss: 0.0969023359473795\n",
            "Epoch 14, Batch 60 loss: 0.0642897007986903\n",
            "Epoch 14, Batch 80 loss: 0.1138659399002790\n",
            "Epoch 14, Batch 100 loss: 0.0969285331666470\n",
            "Epoch 14, Batch 120 loss: 0.0770952322520316\n",
            "Epoch 15, Batch 20 loss: 0.0735431657172740\n",
            "Epoch 15, Batch 40 loss: 0.0797647128347307\n",
            "Epoch 15, Batch 60 loss: 0.0995950012584217\n",
            "Epoch 15, Batch 80 loss: 0.1015973240602761\n",
            "Epoch 15, Batch 100 loss: 0.0917577558662742\n",
            "Epoch 15, Batch 120 loss: 0.0931357156485319\n",
            "Epoch 16, Batch 20 loss: 0.0760998530546203\n",
            "Epoch 16, Batch 40 loss: 0.0671586707700044\n",
            "Epoch 16, Batch 60 loss: 0.0729826640337706\n",
            "Epoch 16, Batch 80 loss: 0.0875616214354522\n",
            "Epoch 16, Batch 100 loss: 0.0321300453273579\n",
            "Epoch 16, Batch 120 loss: 0.0501785705564544\n",
            "Epoch 17, Batch 20 loss: 0.0716544604394585\n",
            "Epoch 17, Batch 40 loss: 0.0702110099256970\n",
            "Epoch 17, Batch 60 loss: 0.0503299695439637\n",
            "Epoch 17, Batch 80 loss: 0.0457512183231302\n",
            "Epoch 17, Batch 100 loss: 0.0450184169225395\n",
            "Epoch 17, Batch 120 loss: 0.0563738924684003\n",
            "Epoch 18, Batch 20 loss: 0.0679859507828951\n",
            "Epoch 18, Batch 40 loss: 0.0523834735853598\n",
            "Epoch 18, Batch 60 loss: 0.0721089648082852\n",
            "Epoch 18, Batch 80 loss: 0.0919779878575355\n",
            "Epoch 18, Batch 100 loss: 0.0674277400597930\n",
            "Epoch 18, Batch 120 loss: 0.0559165401849896\n",
            "Epoch 19, Batch 20 loss: 0.0427893137792125\n",
            "Epoch 19, Batch 40 loss: 0.0632696994813159\n",
            "Epoch 19, Batch 60 loss: 0.0590867506456561\n",
            "Epoch 19, Batch 80 loss: 0.0552878765156493\n",
            "Epoch 19, Batch 100 loss: 0.0486249409150332\n",
            "Epoch 19, Batch 120 loss: 0.0533269400941208\n",
            "Epoch 20, Batch 20 loss: 0.0306175927165896\n",
            "Epoch 20, Batch 40 loss: 0.0374794511357322\n",
            "Epoch 20, Batch 60 loss: 0.0421763545135036\n",
            "Epoch 20, Batch 80 loss: 0.0570484497817233\n",
            "Epoch 20, Batch 100 loss: 0.0517427567392588\n",
            "Epoch 20, Batch 120 loss: 0.0492941941367462\n",
            "Epoch 21, Batch 20 loss: 0.0295916458591819\n",
            "Epoch 21, Batch 40 loss: 0.0231655870273244\n",
            "Epoch 21, Batch 60 loss: 0.0348337275907397\n",
            "Epoch 21, Batch 80 loss: 0.0373706310172565\n",
            "Epoch 21, Batch 100 loss: 0.0462979158153757\n",
            "Epoch 21, Batch 120 loss: 0.0358368492103182\n",
            "Epoch 22, Batch 20 loss: 0.0275578016182408\n",
            "Epoch 22, Batch 40 loss: 0.0282258690684102\n",
            "Epoch 22, Batch 60 loss: 0.0752110780798830\n",
            "Epoch 22, Batch 80 loss: 0.0364494345849380\n",
            "Epoch 22, Batch 100 loss: 0.0515488800592721\n",
            "Epoch 22, Batch 120 loss: 0.0336537594906986\n",
            "Epoch 23, Batch 20 loss: 0.0358499309746549\n",
            "Epoch 23, Batch 40 loss: 0.0475328159169294\n",
            "Epoch 23, Batch 60 loss: 0.0123462460411247\n",
            "Epoch 23, Batch 80 loss: 0.0563119819154963\n",
            "Epoch 23, Batch 100 loss: 0.0539591990644112\n",
            "Epoch 23, Batch 120 loss: 0.0393459809129126\n",
            "Epoch 24, Batch 20 loss: 0.0226633139536716\n",
            "Epoch 24, Batch 40 loss: 0.0212146411999129\n",
            "Epoch 24, Batch 60 loss: 0.0512820639123674\n",
            "Epoch 24, Batch 80 loss: 0.0614531434606761\n",
            "Epoch 24, Batch 100 loss: 0.0304888579295948\n",
            "Epoch 24, Batch 120 loss: 0.0347318111918867\n",
            "Epoch 25, Batch 20 loss: 0.0199818784720264\n",
            "Epoch 25, Batch 40 loss: 0.0138806169154122\n",
            "Epoch 25, Batch 60 loss: 0.0228847555932589\n",
            "Epoch 25, Batch 80 loss: 0.0290423967875540\n",
            "Epoch 25, Batch 100 loss: 0.0283652664744295\n",
            "Epoch 25, Batch 120 loss: 0.0483662729384378\n",
            "Epoch 26, Batch 20 loss: 0.0299650071887299\n",
            "Epoch 26, Batch 40 loss: 0.0283834021887742\n",
            "Epoch 26, Batch 60 loss: 0.0379206337034702\n",
            "Epoch 26, Batch 80 loss: 0.0372580792871304\n",
            "Epoch 26, Batch 100 loss: 0.0267102835176047\n",
            "Epoch 26, Batch 120 loss: 0.0505773044686066\n",
            "Epoch 27, Batch 20 loss: 0.0258630238357000\n",
            "Epoch 27, Batch 40 loss: 0.0284190798003692\n",
            "Epoch 27, Batch 60 loss: 0.0620658569736406\n",
            "Epoch 27, Batch 80 loss: 0.0241056796861812\n",
            "Epoch 27, Batch 100 loss: 0.0312884623184800\n",
            "Epoch 27, Batch 120 loss: 0.0189439601846971\n",
            "Epoch 28, Batch 20 loss: 0.0352456812397577\n",
            "Epoch 28, Batch 40 loss: 0.0347958024998661\n",
            "Epoch 28, Batch 60 loss: 0.0300213209819049\n",
            "Epoch 28, Batch 80 loss: 0.0242288068169728\n",
            "Epoch 28, Batch 100 loss: 0.0451202690484934\n",
            "Epoch 28, Batch 120 loss: 0.0259830835333560\n",
            "Epoch 29, Batch 20 loss: 0.0162509547488298\n",
            "Epoch 29, Batch 40 loss: 0.0343758720380720\n",
            "Epoch 29, Batch 60 loss: 0.0355052524479106\n",
            "Epoch 29, Batch 80 loss: 0.0146699469187297\n",
            "Epoch 29, Batch 100 loss: 0.0243827526457608\n",
            "Epoch 29, Batch 120 loss: 0.0184972200455377\n",
            "Epoch 30, Batch 20 loss: 0.0204353686072864\n",
            "Epoch 30, Batch 40 loss: 0.0356534140417352\n",
            "Epoch 30, Batch 60 loss: 0.0298326185671613\n",
            "Epoch 30, Batch 80 loss: 0.0173355057951994\n",
            "Epoch 30, Batch 100 loss: 0.0489935815334320\n",
            "Epoch 30, Batch 120 loss: 0.0529955955920741\n",
            "Epoch 31, Batch 20 loss: 0.0250491461949423\n",
            "Epoch 31, Batch 40 loss: 0.0211086076160427\n",
            "Epoch 31, Batch 60 loss: 0.0167934703233186\n",
            "Epoch 31, Batch 80 loss: 0.0185200276260730\n",
            "Epoch 31, Batch 100 loss: 0.0260088436305523\n",
            "Epoch 31, Batch 120 loss: 0.0399291342124343\n",
            "Epoch 32, Batch 20 loss: 0.0203797578229569\n",
            "Epoch 32, Batch 40 loss: 0.0125681251171045\n",
            "Epoch 32, Batch 60 loss: 0.0134176868246868\n",
            "Epoch 32, Batch 80 loss: 0.0106263931433205\n",
            "Epoch 32, Batch 100 loss: 0.0351261643896578\n",
            "Epoch 32, Batch 120 loss: 0.0196070796169806\n",
            "Epoch 33, Batch 20 loss: 0.0075305177422706\n",
            "Epoch 33, Batch 40 loss: 0.0234402133850381\n",
            "Epoch 33, Batch 60 loss: 0.0184528003912419\n",
            "Epoch 33, Batch 80 loss: 0.0381986428285018\n",
            "Epoch 33, Batch 100 loss: 0.0269131988403387\n",
            "Epoch 33, Batch 120 loss: 0.0321411557029933\n",
            "Epoch 34, Batch 20 loss: 0.0219542321574409\n",
            "Epoch 34, Batch 40 loss: 0.0166246324108215\n",
            "Epoch 34, Batch 60 loss: 0.0280670430161990\n",
            "Epoch 34, Batch 80 loss: 0.0380230973300058\n",
            "Epoch 34, Batch 100 loss: 0.0155923284764867\n",
            "Epoch 34, Batch 120 loss: 0.0186813155771233\n",
            "Epoch 35, Batch 20 loss: 0.0167900271684630\n",
            "Epoch 35, Batch 40 loss: 0.0145612983498722\n",
            "Epoch 35, Batch 60 loss: 0.0304093980987091\n",
            "Epoch 35, Batch 80 loss: 0.0224605031951796\n",
            "Epoch 35, Batch 100 loss: 0.0277435471478384\n",
            "Epoch 35, Batch 120 loss: 0.0147071858635172\n",
            "Epoch 36, Batch 20 loss: 0.0302109003067017\n",
            "Epoch 36, Batch 40 loss: 0.0140450416191015\n",
            "Epoch 36, Batch 60 loss: 0.0232656260777730\n",
            "Epoch 36, Batch 80 loss: 0.0285720764426515\n",
            "Epoch 36, Batch 100 loss: 0.0131770030071493\n",
            "Epoch 36, Batch 120 loss: 0.0328974027477670\n",
            "Epoch 37, Batch 20 loss: 0.0086765384359751\n",
            "Epoch 37, Batch 40 loss: 0.0104182361712446\n",
            "Epoch 37, Batch 60 loss: 0.0194534285168629\n",
            "Epoch 37, Batch 80 loss: 0.0072921944141854\n",
            "Epoch 37, Batch 100 loss: 0.0189845082320971\n",
            "Epoch 37, Batch 120 loss: 0.0206078421673737\n",
            "Epoch 38, Batch 20 loss: 0.0116407142253593\n",
            "Epoch 38, Batch 40 loss: 0.0214594638149720\n",
            "Epoch 38, Batch 60 loss: 0.0236345215060282\n",
            "Epoch 38, Batch 80 loss: 0.0154129138274584\n",
            "Epoch 38, Batch 100 loss: 0.0269360424426850\n",
            "Epoch 38, Batch 120 loss: 0.0125609373790212\n",
            "Epoch 39, Batch 20 loss: 0.0126592014392372\n",
            "Epoch 39, Batch 40 loss: 0.0167404030624311\n",
            "Epoch 39, Batch 60 loss: 0.0188876203203108\n",
            "Epoch 39, Batch 80 loss: 0.0217322515411070\n",
            "Epoch 39, Batch 100 loss: 0.0097371424373705\n",
            "Epoch 39, Batch 120 loss: 0.0079693070350913\n",
            "Epoch 40, Batch 20 loss: 0.0118636245722882\n",
            "Epoch 40, Batch 40 loss: 0.0205917308107018\n",
            "Epoch 40, Batch 60 loss: 0.0198396578954998\n",
            "Epoch 40, Batch 80 loss: 0.0246297972917091\n",
            "Epoch 40, Batch 100 loss: 0.0174730437924154\n",
            "Epoch 40, Batch 120 loss: 0.0176398910582066\n",
            "Epoch 41, Batch 20 loss: 0.0214001811575145\n",
            "Epoch 41, Batch 40 loss: 0.0598197261395399\n",
            "Epoch 41, Batch 60 loss: 0.0313976745237596\n",
            "Epoch 41, Batch 80 loss: 0.0119998662848957\n",
            "Epoch 41, Batch 100 loss: 0.0168134230014402\n",
            "Epoch 41, Batch 120 loss: 0.0130343788332539\n",
            "Epoch 42, Batch 20 loss: 0.0140290961426217\n",
            "Epoch 42, Batch 40 loss: 0.0067286263685673\n",
            "Epoch 42, Batch 60 loss: 0.0114672045456246\n",
            "Epoch 42, Batch 80 loss: 0.0194612491555745\n",
            "Epoch 42, Batch 100 loss: 0.0269709384272574\n",
            "Epoch 42, Batch 120 loss: 0.0215168470749632\n",
            "Epoch 43, Batch 20 loss: 0.0321722601773217\n",
            "Epoch 43, Batch 40 loss: 0.0130391180864535\n",
            "Epoch 43, Batch 60 loss: 0.0192132298834622\n",
            "Epoch 43, Batch 80 loss: 0.0110421259247232\n",
            "Epoch 43, Batch 100 loss: 0.0224731256894302\n",
            "Epoch 43, Batch 120 loss: 0.0396629664930515\n",
            "Epoch 44, Batch 20 loss: 0.0088540125405416\n",
            "Epoch 44, Batch 40 loss: 0.0253907924634404\n",
            "Epoch 44, Batch 60 loss: 0.0261525383219123\n",
            "Epoch 44, Batch 80 loss: 0.0315283022529911\n",
            "Epoch 44, Batch 100 loss: 0.0354950704495423\n",
            "Epoch 44, Batch 120 loss: 0.0084810601430945\n",
            "Epoch 45, Batch 20 loss: 0.0129366029519588\n",
            "Epoch 45, Batch 40 loss: 0.0193786441930570\n",
            "Epoch 45, Batch 60 loss: 0.0207667005888652\n",
            "Epoch 45, Batch 80 loss: 0.0346884672297165\n",
            "Epoch 45, Batch 100 loss: 0.0114682908111718\n",
            "Epoch 45, Batch 120 loss: 0.0107498942816164\n",
            "Epoch 46, Batch 20 loss: 0.0211418460326968\n",
            "Epoch 46, Batch 40 loss: 0.0120296148641501\n",
            "Epoch 46, Batch 60 loss: 0.0078198563482147\n",
            "Epoch 46, Batch 80 loss: 0.0147071635292377\n",
            "Epoch 46, Batch 100 loss: 0.0318145514815114\n",
            "Epoch 46, Batch 120 loss: 0.0138315038755536\n",
            "Epoch 47, Batch 20 loss: 0.0189832521311473\n",
            "Epoch 47, Batch 40 loss: 0.0139794986229390\n",
            "Epoch 47, Batch 60 loss: 0.0214259625819977\n",
            "Epoch 47, Batch 80 loss: 0.0236593352048658\n",
            "Epoch 47, Batch 100 loss: 0.0175905851647258\n",
            "Epoch 47, Batch 120 loss: 0.0212980211043032\n",
            "Epoch 48, Batch 20 loss: 0.0154368383868132\n",
            "Epoch 48, Batch 40 loss: 0.0096952397085261\n",
            "Epoch 48, Batch 60 loss: 0.0257997435051948\n",
            "Epoch 48, Batch 80 loss: 0.0151688862388255\n",
            "Epoch 48, Batch 100 loss: 0.0353308513702359\n",
            "Epoch 48, Batch 120 loss: 0.0093277772655711\n",
            "Epoch 49, Batch 20 loss: 0.0243252373649739\n",
            "Epoch 49, Batch 40 loss: 0.0238266908418154\n",
            "Epoch 49, Batch 60 loss: 0.0182099648402072\n",
            "Epoch 49, Batch 80 loss: 0.0276955927023664\n",
            "Epoch 49, Batch 100 loss: 0.0127363734005485\n",
            "Epoch 49, Batch 120 loss: 0.0212086190236732\n",
            "Epoch 50, Batch 20 loss: 0.0100177147251088\n",
            "Epoch 50, Batch 40 loss: 0.0190726791915949\n",
            "Epoch 50, Batch 60 loss: 0.0109299036907032\n",
            "Epoch 50, Batch 80 loss: 0.0118038702814374\n",
            "Epoch 50, Batch 100 loss: 0.0080671411065850\n",
            "Epoch 50, Batch 120 loss: 0.0231374516122742\n"
          ]
        }
      ]
    },
    {
      "cell_type": "code",
      "metadata": {
        "colab": {
          "base_uri": "https://localhost:8080/",
          "height": 281
        },
        "id": "CfA7ZjLR1BZP",
        "outputId": "e2027277-7ed6-43d8-eb20-da325529ba06"
      },
      "source": [
        "plt.plot(train_losses)\n",
        "plt.title(\"Training Loss\")\n",
        "plt.show()"
      ],
      "execution_count": null,
      "outputs": [
        {
          "output_type": "display_data",
          "data": {
            "image/png": "[encoded data removed]",
            "text/plain": [
              "<Figure size 432x288 with 1 Axes>"
            ]
          },
          "metadata": {
            "needs_background": "light"
          }
        }
      ]
    },
    {
      "cell_type": "markdown",
      "metadata": {
        "id": "ItLyF9dQyJFL"
      },
      "source": [
        "Testing the model"
      ]
    },
    {
      "cell_type": "code",
      "metadata": {
        "id": "gGki98W3SoEW"
      },
      "source": [
        "from sklearn.metrics import precision_score, recall_score, f1_score, accuracy_score"
      ],
      "execution_count": null,
      "outputs": []
    },
    {
      "cell_type": "code",
      "metadata": {
        "colab": {
          "base_uri": "https://localhost:8080/"
        },
        "id": "xNavYOynyE6d",
        "outputId": "73677669-94d2-448a-97be-f6fb9ce52960"
      },
      "source": [
        "# The test_model function is from model_testing python file\n",
        "test_loss, class_correct, class_total, labels, predictions = test_model(classes, inception_v3, test_loader, criterion)\n",
        "\n",
        "# Test accuracy for each hieroglyph\n",
        "for i in range(len(classes)):\n",
        "    if class_total[i] > 0:\n",
        "        print('Test Accuracy of %5s: %2d%% (%2d/%2d)' % (classes[i], 100 * class_correct[i] / class_total[i], np.sum(class_correct[i]), np.sum(class_total[i])))\n",
        "    else:\n",
        "        print('Test Accuracy of %5s: N/A (no training examples)' % (classes[i]))\n",
        "\n",
        "# Total Test accuracy\n",
        "print(\"\\nAccuracy: {:.3%}\".format(accuracy_score(labels, predictions)))\n",
        "print(\"\\nPrecision: {:.3%}\".format(precision_score(labels, predictions, average = 'weighted')))\n",
        "print(\"\\nRecall: {:.3%}\".format(recall_score(labels, predictions, average = 'weighted')))\n",
        "print(\"\\nF1-score: {:.3%}\".format(f1_score(labels, predictions, average = 'weighted')))"
      ],
      "execution_count": null,
      "outputs": [
        {
          "output_type": "stream",
          "name": "stdout",
          "text": [
            "Test Loss: 0.053632\n",
            "\n",
            "Test Accuracy of    D2: 100% ( 5/ 5)\n",
            "Test Accuracy of   D21: 94% (35/37)\n",
            "Test Accuracy of   D36: 100% (12/12)\n",
            "Test Accuracy of    D4: 87% ( 7/ 8)\n",
            "Test Accuracy of   D46: 100% (10/10)\n",
            "Test Accuracy of   D58: 100% ( 8/ 8)\n",
            "Test Accuracy of   E23: 100% ( 2/ 2)\n",
            "Test Accuracy of   E34: 100% (25/25)\n",
            "Test Accuracy of   F31: 100% ( 2/ 2)\n",
            "Test Accuracy of   F35: 100% ( 1/ 1)\n",
            "Test Accuracy of    G1: 100% ( 7/ 7)\n",
            "Test Accuracy of   G17: 94% (37/39)\n",
            "Test Accuracy of   G43: 100% (40/40)\n",
            "Test Accuracy of   I10: 100% ( 9/ 9)\n",
            "Test Accuracy of    I9: 100% (30/30)\n",
            "Test Accuracy of   M17: 100% (73/73)\n",
            "Test Accuracy of   M23: 100% ( 8/ 8)\n",
            "Test Accuracy of   N35: 100% (90/90)\n",
            "Test Accuracy of    O1: 100% ( 4/ 4)\n",
            "Test Accuracy of   O34: 100% ( 4/ 4)\n",
            "Test Accuracy of    O4: 66% ( 2/ 3)\n",
            "Test Accuracy of   O49: 100% ( 3/ 3)\n",
            "Test Accuracy of    Q1: 75% ( 3/ 4)\n",
            "Test Accuracy of    Q3: 100% (16/16)\n",
            "Test Accuracy of    R4: 100% ( 1/ 1)\n",
            "Test Accuracy of    R8: 100% (14/14)\n",
            "Test Accuracy of   S29: 100% (53/53)\n",
            "Test Accuracy of   S34: 100% ( 2/ 2)\n",
            "Test Accuracy of    U7: 100% ( 1/ 1)\n",
            "Test Accuracy of   V13: 100% (16/16)\n",
            "Test Accuracy of   V28: 100% ( 8/ 8)\n",
            "Test Accuracy of   V30:  0% ( 0/ 2)\n",
            "Test Accuracy of   V31: 100% (27/27)\n",
            "Test Accuracy of   W11: 100% ( 1/ 1)\n",
            "Test Accuracy of   W24: 100% ( 8/ 8)\n",
            "Test Accuracy of    X1: 97% (46/47)\n",
            "Test Accuracy of    X8: 50% ( 1/ 2)\n",
            "Test Accuracy of    Y1: 100% ( 1/ 1)\n",
            "Test Accuracy of    Y5: 100% ( 2/ 2)\n",
            "Test Accuracy of    Z1: 100% (10/10)\n",
            "\n",
            "Accuracy: 98.268%\n",
            "\n",
            "Precision: 98.133%\n",
            "\n",
            "Recall: 98.268%\n",
            "\n",
            "F1-score: 98.112%\n"
          ]
        },
        {
          "output_type": "stream",
          "name": "stderr",
          "text": [
            "/usr/local/lib/python3.7/dist-packages/sklearn/metrics/_classification.py:1308: UndefinedMetricWarning: Precision is ill-defined and being set to 0.0 in labels with no predicted samples. Use `zero_division` parameter to control this behavior.\n",
            "  _warn_prf(average, modifier, msg_start, len(result))\n"
          ]
        }
      ]
    }
  ]
}
