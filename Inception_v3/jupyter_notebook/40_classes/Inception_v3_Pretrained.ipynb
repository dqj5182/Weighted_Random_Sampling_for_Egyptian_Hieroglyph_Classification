{
  "nbformat": 4,
  "nbformat_minor": 0,
  "metadata": {
    "colab": {
      "name": "Egyptian_model_with_Inception_v3_Pretrained.ipynb",
      "provenance": []
    },
    "kernelspec": {
      "name": "python3",
      "display_name": "Python 3"
    },
    "language_info": {
      "name": "python"
    },
    "accelerator": "GPU"
  },
  "cells": [
    {
      "cell_type": "code",
      "metadata": {
        "id": "8iEiGSblxJzW"
      },
      "source": [
        "import os, os.path\n",
        "import torch\n",
        "import numpy as np\n",
        "import torch.nn as nn\n",
        "import torch.optim as optim\n",
        "from pathlib import Path\n",
        "from torchvision import datasets, models, transforms\n",
        "\n",
        "# check if CUDA is available\n",
        "train_on_gpu = torch.cuda.is_available()"
      ],
      "execution_count": 17,
      "outputs": []
    },
    {
      "cell_type": "markdown",
      "metadata": {
        "id": "Jd6KU8VMz6J3"
      },
      "source": [
        "Module: Load_data"
      ]
    },
    {
      "cell_type": "code",
      "metadata": {
        "id": "8lWX0BW_w_kC"
      },
      "source": [
        "def load_data(hieroglyph_directory_path, batch_size=20, num_workers=0):\n",
        "    train_dir = os.path.join(hieroglyph_directory_path, 'train/')\n",
        "    test_dir = os.path.join(hieroglyph_directory_path, 'test/')\n",
        "\n",
        "    classes = []\n",
        "\n",
        "    for filename in os.listdir(train_dir):\n",
        "        if filename == '.DS_Store':\n",
        "            pass\n",
        "        else:\n",
        "            classes.append(filename)\n",
        "\n",
        "    classes.sort()\n",
        "\n",
        "    # print(\"Our classes:\", classes)\n",
        "    # print(len(classes))\n",
        "\n",
        "    data_transform = transforms.Compose([transforms.ToTensor(),\n",
        "                                         transforms.RandomApply([transforms.RandomHorizontalFlip()]),\n",
        "                                         transforms.RandomRotation(degrees=(-10, 10)),\n",
        "                                         transforms.RandomAffine(degrees=0, translate=(.1, .1)),\n",
        "                                         transforms.RandomApply([transforms.ColorJitter(brightness=(1, 1.2),\n",
        "                                                                                        contrast=(1, 1.5),\n",
        "                                                                                        saturation=(1, 1.5),\n",
        "                                                                                        hue=(0, 0.5))]),\n",
        "                                         transforms.RandomErasing(p=0.5, scale=(0.05, 0.05), ratio=(0.3, 3.3), value=0,\n",
        "                                                                  inplace=False),\n",
        "                                         transforms.Resize((299, 299)),\n",
        "                                         transforms.Normalize((0.5,), (0.5,))])\n",
        "\n",
        "    train_data = datasets.ImageFolder(train_dir, transform=data_transform)\n",
        "    test_data = datasets.ImageFolder(test_dir, transform=data_transform)\n",
        "\n",
        "    # print('Num training images: ', len(train_data))\n",
        "    # print('Num test images: ', len(test_data))\n",
        "\n",
        "    # prepare data loaders\n",
        "    train_loader = torch.utils.data.DataLoader(train_data, batch_size=batch_size,\n",
        "                                               num_workers=num_workers, shuffle=True)\n",
        "    test_loader = torch.utils.data.DataLoader(test_data, batch_size=batch_size,\n",
        "                                              num_workers=num_workers, shuffle=True)\n",
        "\n",
        "    return train_loader, test_loader, classes"
      ],
      "execution_count": 18,
      "outputs": []
    },
    {
      "cell_type": "markdown",
      "metadata": {
        "id": "K4sXUrPPz7iF"
      },
      "source": [
        "Module: Train_model"
      ]
    },
    {
      "cell_type": "code",
      "metadata": {
        "id": "N2N_rnKLxN5c"
      },
      "source": [
        "def train_model(train_loader, optimizer, conv_net_model, criterion, my_lr_scheduler, n_epochs):\n",
        "    # track training loss over time\n",
        "    losses = []\n",
        "    \n",
        "    for epoch in range(1, n_epochs + 1):\n",
        "\n",
        "        # keep track of training and validation loss\n",
        "        train_loss = 0.0\n",
        "\n",
        "        # model by default is set to train\n",
        "        for batch_i, (data, target) in enumerate(train_loader):\n",
        "            # move tensors to GPU if CUDA is available\n",
        "            if train_on_gpu:\n",
        "                data, target = data.cuda(), target.cuda()\n",
        "            # clear the gradients of all optimized variables\n",
        "            optimizer.zero_grad()\n",
        "            # forward pass: compute predicted outputs by passing inputs to the model\n",
        "            output = conv_net_model(data)\n",
        "            # calculate the batch loss\n",
        "            loss = criterion(output.logits, target)\n",
        "            # backward pass: compute gradient of the loss with respect to model parameters\n",
        "            loss.backward()\n",
        "            # perform a single optimization step (parameter update)\n",
        "            optimizer.step()\n",
        "            # update training loss\n",
        "            train_loss += loss.item()\n",
        "\n",
        "            my_lr_scheduler.step()\n",
        "\n",
        "            if batch_i % 20 == 19:  # print training loss every specified number of mini-batches\n",
        "                print('Epoch %d, Batch %d loss: %.16f' %\n",
        "                    (epoch, batch_i + 1, train_loss / 20))\n",
        "                losses.append(train_loss / 20)\n",
        "                train_loss = 0.0\n",
        "\n",
        "    return conv_net_model, losses"
      ],
      "execution_count": 31,
      "outputs": []
    },
    {
      "cell_type": "markdown",
      "metadata": {
        "id": "-Rrxo5RDz96U"
      },
      "source": [
        "Module: Test_model"
      ]
    },
    {
      "cell_type": "code",
      "metadata": {
        "id": "Ay-HlMJnxU9v"
      },
      "source": [
        "def test_model(classes, conv_net_model, test_loader, criterion):\n",
        "    # track test loss\n",
        "    test_loss = 0.0\n",
        "    class_correct = list(0. for i in range(len(classes)))\n",
        "    class_total = list(0. for i in range(len(classes)))\n",
        "\n",
        "    conv_net_model.eval()  # eval mode\n",
        "\n",
        "    labels = []\n",
        "    predictions = []\n",
        "    # iterate over test data\n",
        "    for data, target in test_loader:\n",
        "        # move tensors to GPU if CUDA is available\n",
        "        if train_on_gpu:\n",
        "            data, target = data.cuda(), target.cuda()\n",
        "        # forward pass: compute predicted outputs by passing inputs to the model\n",
        "        output = conv_net_model(data)\n",
        "        # calculate the batch loss\n",
        "        loss = criterion(output, target)\n",
        "        # update  test loss\n",
        "        test_loss += loss.item() * data.size(0)\n",
        "        # convert output probabilities to predicted class\n",
        "        _, pred = torch.max(output, 1)\n",
        "        # compare predictions to true label\n",
        "        correct_tensor = pred.eq(target.data.view_as(pred))\n",
        "        correct = np.squeeze(correct_tensor.numpy()) if not train_on_gpu else np.squeeze(correct_tensor.cpu().numpy())\n",
        "        # calculate test accuracy for each object class\n",
        "        for i in range(len(target.data)):\n",
        "            label = target.data[i]\n",
        "            class_correct[label] += correct[i].item()\n",
        "            class_total[label] += 1\n",
        "        \n",
        "        # Will be used for calculating Recall, Precision, and F1-score\n",
        "        labels.extend(target.data.view_as(pred).tolist())\n",
        "        predictions.extend(pred.tolist())\n",
        "\n",
        "\n",
        "    # calculate avg test loss\n",
        "    test_loss = test_loss / len(test_loader.dataset)\n",
        "    print('Test Loss: {:.6f}\\n'.format(test_loss))\n",
        "\n",
        "    return test_loss, class_correct, class_total, labels, predictions"
      ],
      "execution_count": 37,
      "outputs": []
    },
    {
      "cell_type": "markdown",
      "metadata": {
        "id": "xHh3PXE80Asa"
      },
      "source": [
        "Check whether CUDA is available (Change runtime type if not)"
      ]
    },
    {
      "cell_type": "code",
      "metadata": {
        "colab": {
          "base_uri": "https://localhost:8080/"
        },
        "id": "Q9TYPQH7x4zw",
        "outputId": "c492dfb6-93d6-4d16-d3a5-0ad643ced41b"
      },
      "source": [
        "if not train_on_gpu:\n",
        "    print('CUDA is not available.  Training on CPU ...')\n",
        "else:\n",
        "    print('CUDA is available!  Training on GPU ...')"
      ],
      "execution_count": 21,
      "outputs": [
        {
          "output_type": "stream",
          "name": "stdout",
          "text": [
            "CUDA is available!  Training on GPU ...\n"
          ]
        }
      ]
    },
    {
      "cell_type": "markdown",
      "metadata": {
        "id": "6lYw8EKVx8Q7"
      },
      "source": [
        "Load Hieroglyph Data"
      ]
    },
    {
      "cell_type": "code",
      "metadata": {
        "colab": {
          "base_uri": "https://localhost:8080/"
        },
        "id": "laLvoRy1yewl",
        "outputId": "7411c33d-ce8e-49ff-c017-6cf4bc700df1"
      },
      "source": [
        "# Connecting and Mounting to the Google Drive\n",
        "from google.colab import drive\n",
        "drive.mount('/content/drive')"
      ],
      "execution_count": 22,
      "outputs": [
        {
          "output_type": "stream",
          "name": "stdout",
          "text": [
            "Drive already mounted at /content/drive; to attempt to forcibly remount, call drive.mount(\"/content/drive\", force_remount=True).\n"
          ]
        }
      ]
    },
    {
      "cell_type": "code",
      "metadata": {
        "id": "odaoZt9GyfUt"
      },
      "source": [
        "data_dir = '/content/drive/MyDrive/EgyptianHieroglyphDataset_Original/'"
      ],
      "execution_count": 23,
      "outputs": []
    },
    {
      "cell_type": "code",
      "metadata": {
        "colab": {
          "base_uri": "https://localhost:8080/"
        },
        "id": "dF22MAnmyiC1",
        "outputId": "de2a2ec2-09b8-4246-cc46-07d5557a77ef"
      },
      "source": [
        "hieroglyph_for_train = []\n",
        "file_count_list = []\n",
        "\n",
        "for name in os.listdir('/content/drive/MyDrive/EgyptianHieroglyphDataset_Original/train/'):\n",
        "  path, dirs, files = next(os.walk(\"/content/drive/MyDrive/EgyptianHieroglyphDataset_Original/train/\"+name))\n",
        "  file_count = len(files)\n",
        "  print(name, file_count)\n",
        "  file_count_list.append(file_count)\n",
        "  hieroglyph_for_train.append(name)\n",
        "\n",
        "hieroglyph_dict = dict(zip(hieroglyph_for_train, file_count_list))"
      ],
      "execution_count": 24,
      "outputs": [
        {
          "output_type": "stream",
          "name": "stdout",
          "text": [
            "D4 29\n",
            "D2 19\n",
            "D46 40\n",
            "D36 47\n",
            "D21 146\n",
            "D58 28\n",
            "E34 97\n",
            "E23 8\n",
            "F31 6\n",
            "G1 28\n",
            "F35 2\n",
            "G17 156\n",
            "G43 157\n",
            "I10 32\n",
            "I9 116\n",
            "M23 30\n",
            "M17 291\n",
            "O1 16\n",
            "O34 15\n",
            "N35 358\n",
            "Q3 61\n",
            "O49 10\n",
            "Q1 13\n",
            "O4 11\n",
            "S34 8\n",
            "R4 2\n",
            "R8 53\n",
            "S29 212\n",
            "V13 63\n",
            "V28 28\n",
            "U7 3\n",
            "V30 6\n",
            "W11 4\n",
            "W24 31\n",
            "V31 106\n",
            "Y5 6\n",
            "X8 4\n",
            "Z1 39\n",
            "X1 185\n",
            "Y1 1\n"
          ]
        }
      ]
    },
    {
      "cell_type": "markdown",
      "metadata": {
        "id": "XeQQ7PjZzKd9"
      },
      "source": [
        "Number of images for each hieroglyph "
      ]
    },
    {
      "cell_type": "code",
      "metadata": {
        "colab": {
          "base_uri": "https://localhost:8080/",
          "height": 609
        },
        "id": "W6IzWR2RyjxM",
        "outputId": "3b24a850-7738-4f44-d596-22e2a4ba9251"
      },
      "source": [
        "import matplotlib.pyplot as plt\n",
        "import pandas as pd\n",
        "\n",
        "df = pd.DataFrame({\"Hieroglyph\":hieroglyph_for_train, \"Count\":file_count_list})\n",
        "\n",
        "df_sorted= df.sort_values('Count',ascending=False)\n",
        "\n",
        "plt.figure(figsize=(20,10))\n",
        "# make bar plot with matplotlib\n",
        "plt.bar('Hieroglyph', 'Count',data=df_sorted)"
      ],
      "execution_count": 25,
      "outputs": [
        {
          "output_type": "execute_result",
          "data": {
            "text/plain": [
              "<BarContainer object of 40 artists>"
            ]
          },
          "metadata": {},
          "execution_count": 25
        },
        {
          "output_type": "display_data",
          "data": {
            "image/png": "[encoded data removed]",
            "text/plain": [
              "<Figure size 1440x720 with 1 Axes>"
            ]
          },
          "metadata": {
            "needs_background": "light"
          }
        }
      ]
    },
    {
      "cell_type": "code",
      "metadata": {
        "id": "-3oOm8rSx7tp"
      },
      "source": [
        "# Number of images processed in a single training\n",
        "batch_size = 20\n",
        "num_workers = 0\n",
        "\n",
        "# The load_data function is from hieroglyph_data_preparation python file\n",
        "train_loader, test_loader, classes = load_data(data_dir)"
      ],
      "execution_count": 26,
      "outputs": []
    },
    {
      "cell_type": "markdown",
      "metadata": {
        "id": "BJm8sGiBx_q5"
      },
      "source": [
        "ResNet Model"
      ]
    },
    {
      "cell_type": "code",
      "metadata": {
        "id": "JkLXVJGkxemC"
      },
      "source": [
        "# Whether to extract features with the model\n",
        "feature_extract = False\n",
        "# Other selections\n",
        "loss_function = \"cross-entropy\"\n",
        "model_selection = \"inception-v3\"\n",
        "optim_selection = \"Adam\"\n",
        "\n",
        "# False if you want scratch model, True if you want pretrained model\n",
        "whether_to_pretrain = True\n",
        "\n",
        "# Load the model\n",
        "if model_selection == \"resnet-50\":\n",
        "    resnet50 = models.resnet50(pretrained=whether_to_pretrain)\n",
        "    # Number of features in the last layer of resnet\n",
        "    n_inputs = resnet50.fc.in_features\n",
        "    # Add last linear layer (n_inputs -> 40 hieroglyph classes)\n",
        "    last_layer = nn.Sequential(\n",
        "                    nn.Linear(n_inputs, len(classes)))\n",
        "    resnet50.fc = last_layer\n",
        "    if train_on_gpu:\n",
        "      resnet50.cuda()\n",
        "    # Specify optimizer (Adam) and learning rate = 0.001\n",
        "    if optim_selection == \"Adam\":\n",
        "        optimizer = optim.Adam(resnet50.parameters(), lr=0.001)\n",
        "\n",
        "elif model_selection == \"inception-v3\":\n",
        "    inception_v3 = models.inception_v3(pretrained=whether_to_pretrain)\n",
        "    # Number of features in the last layer of resnet\n",
        "    n_inputs = inception_v3.fc.in_features\n",
        "    # Add last linear layer (n_inputs -> 40 hieroglyph classes)\n",
        "    last_layer = nn.Sequential(\n",
        "                    nn.Linear(n_inputs, len(classes)))\n",
        "    inception_v3.fc = last_layer\n",
        "    if train_on_gpu:\n",
        "      inception_v3.cuda()\n",
        "    # Specify optimizer (Adam) and learning rate = 0.001\n",
        "    if optim_selection == \"Adam\":\n",
        "        optimizer = optim.Adam(inception_v3.parameters(), lr=0.001)\n",
        "\n",
        "\n",
        "# Specify loss function (categorical cross-entropy)\n",
        "if loss_function == \"cross-entropy\":\n",
        "    criterion = nn.CrossEntropyLoss()\n",
        "\n",
        "# Exponential Decay to strengthen learning\n",
        "decayRate = 0.999\n",
        "my_lr_scheduler = torch.optim.lr_scheduler.ExponentialLR(optimizer=optimizer, gamma=decayRate)"
      ],
      "execution_count": 27,
      "outputs": []
    },
    {
      "cell_type": "markdown",
      "metadata": {
        "id": "U2vnErB1yHmM"
      },
      "source": [
        "Training the model"
      ]
    },
    {
      "cell_type": "code",
      "metadata": {
        "colab": {
          "base_uri": "https://localhost:8080/"
        },
        "id": "dOB03noWyEvQ",
        "outputId": "f5f319b2-a848-4ff0-c486-097792d18df3"
      },
      "source": [
        "# number of epochs to train the model\n",
        "n_epochs = 50\n",
        "\n",
        "if model_selection == \"resnet-50\":\n",
        "  # The train_model function is from model_training python file\n",
        "  resnet50, train_losses = train_model(train_loader, optimizer, resnet50, criterion, my_lr_scheduler, n_epochs)\n",
        "elif model_selection == \"inception-v3\":\n",
        "  # The train_model function is from model_training python file\n",
        "  inception_v3, train_losses = train_model(train_loader, optimizer, inception_v3, criterion, my_lr_scheduler, n_epochs)"
      ],
      "execution_count": 32,
      "outputs": [
        {
          "output_type": "stream",
          "name": "stdout",
          "text": [
            "Epoch 1, Batch 20 loss: 2.3591030955314638\n",
            "Epoch 1, Batch 40 loss: 1.8697969317436218\n",
            "Epoch 1, Batch 60 loss: 1.6811494171619414\n",
            "Epoch 1, Batch 80 loss: 1.4218052506446839\n",
            "Epoch 1, Batch 100 loss: 1.2945217698812486\n",
            "Epoch 1, Batch 120 loss: 0.9876347452402114\n",
            "Epoch 2, Batch 20 loss: 0.8004555001854896\n",
            "Epoch 2, Batch 40 loss: 0.8283780992031098\n",
            "Epoch 2, Batch 60 loss: 0.7853803530335426\n",
            "Epoch 2, Batch 80 loss: 0.7519065812230110\n",
            "Epoch 2, Batch 100 loss: 0.4602487340569496\n",
            "Epoch 2, Batch 120 loss: 0.5676537826657295\n",
            "Epoch 3, Batch 20 loss: 0.4821148052811622\n",
            "Epoch 3, Batch 40 loss: 0.4026315987110138\n",
            "Epoch 3, Batch 60 loss: 0.5179034393280745\n",
            "Epoch 3, Batch 80 loss: 0.3797934483736753\n",
            "Epoch 3, Batch 100 loss: 0.2728525329381227\n",
            "Epoch 3, Batch 120 loss: 0.2831620406359434\n",
            "Epoch 4, Batch 20 loss: 0.3596200931817293\n",
            "Epoch 4, Batch 40 loss: 0.2938964179717004\n",
            "Epoch 4, Batch 60 loss: 0.2112850572913885\n",
            "Epoch 4, Batch 80 loss: 0.3651138704270124\n",
            "Epoch 4, Batch 100 loss: 0.2589112784713506\n",
            "Epoch 4, Batch 120 loss: 0.2336807148531079\n",
            "Epoch 5, Batch 20 loss: 0.1876434277743101\n",
            "Epoch 5, Batch 40 loss: 0.2324791985563934\n",
            "Epoch 5, Batch 60 loss: 0.2241856064647436\n",
            "Epoch 5, Batch 80 loss: 0.1595850739628077\n",
            "Epoch 5, Batch 100 loss: 0.3150288240984082\n",
            "Epoch 5, Batch 120 loss: 0.1869136415421963\n",
            "Epoch 6, Batch 20 loss: 0.1769077176228166\n",
            "Epoch 6, Batch 40 loss: 0.1678840708918869\n",
            "Epoch 6, Batch 60 loss: 0.1560469898860902\n",
            "Epoch 6, Batch 80 loss: 0.1260296958964318\n",
            "Epoch 6, Batch 100 loss: 0.1145797017961740\n",
            "Epoch 6, Batch 120 loss: 0.1282670591957867\n",
            "Epoch 7, Batch 20 loss: 0.1208006867207587\n",
            "Epoch 7, Batch 40 loss: 0.1126051338855177\n",
            "Epoch 7, Batch 60 loss: 0.1842975352425128\n",
            "Epoch 7, Batch 80 loss: 0.0775599630549550\n",
            "Epoch 7, Batch 100 loss: 0.0515082744881511\n",
            "Epoch 7, Batch 120 loss: 0.1019326036330312\n",
            "Epoch 8, Batch 20 loss: 0.0744041762780398\n",
            "Epoch 8, Batch 40 loss: 0.1100105609279126\n",
            "Epoch 8, Batch 60 loss: 0.0877543660812080\n",
            "Epoch 8, Batch 80 loss: 0.0911061813123524\n",
            "Epoch 8, Batch 100 loss: 0.0794408823130652\n",
            "Epoch 8, Batch 120 loss: 0.1114632826764137\n",
            "Epoch 9, Batch 20 loss: 0.0814461328554899\n",
            "Epoch 9, Batch 40 loss: 0.1024065439123660\n",
            "Epoch 9, Batch 60 loss: 0.0594142848392949\n",
            "Epoch 9, Batch 80 loss: 0.0531805581413209\n",
            "Epoch 9, Batch 100 loss: 0.0951434646383859\n",
            "Epoch 9, Batch 120 loss: 0.1020814618328586\n",
            "Epoch 10, Batch 20 loss: 0.0419049057643861\n",
            "Epoch 10, Batch 40 loss: 0.0691904383711517\n",
            "Epoch 10, Batch 60 loss: 0.0733680099714547\n",
            "Epoch 10, Batch 80 loss: 0.0675950509903487\n",
            "Epoch 10, Batch 100 loss: 0.0339204013813287\n",
            "Epoch 10, Batch 120 loss: 0.0379040457890369\n",
            "Epoch 11, Batch 20 loss: 0.0159800618537702\n",
            "Epoch 11, Batch 40 loss: 0.0308951815706678\n",
            "Epoch 11, Batch 60 loss: 0.0294366235262714\n",
            "Epoch 11, Batch 80 loss: 0.0727105193072930\n",
            "Epoch 11, Batch 100 loss: 0.0423845949233510\n",
            "Epoch 11, Batch 120 loss: 0.0801183633389883\n",
            "Epoch 12, Batch 20 loss: 0.0406022740527987\n",
            "Epoch 12, Batch 40 loss: 0.0545009894238319\n",
            "Epoch 12, Batch 60 loss: 0.0154047871590592\n",
            "Epoch 12, Batch 80 loss: 0.0383704921812750\n",
            "Epoch 12, Batch 100 loss: 0.0494810715550557\n",
            "Epoch 12, Batch 120 loss: 0.0445163761731237\n",
            "Epoch 13, Batch 20 loss: 0.0255115758976899\n",
            "Epoch 13, Batch 40 loss: 0.0389032233157195\n",
            "Epoch 13, Batch 60 loss: 0.0448397043423029\n",
            "Epoch 13, Batch 80 loss: 0.0455100169754587\n",
            "Epoch 13, Batch 100 loss: 0.0558375210268423\n",
            "Epoch 13, Batch 120 loss: 0.0330979823484086\n",
            "Epoch 14, Batch 20 loss: 0.0416536034783348\n",
            "Epoch 14, Batch 40 loss: 0.0229816706967540\n",
            "Epoch 14, Batch 60 loss: 0.0232776171702426\n",
            "Epoch 14, Batch 80 loss: 0.0452775906538591\n",
            "Epoch 14, Batch 100 loss: 0.0218972357979510\n",
            "Epoch 14, Batch 120 loss: 0.0092860860284418\n",
            "Epoch 15, Batch 20 loss: 0.0316409339924576\n",
            "Epoch 15, Batch 40 loss: 0.0372821369674057\n",
            "Epoch 15, Batch 60 loss: 0.0245103774301242\n",
            "Epoch 15, Batch 80 loss: 0.0395792655413970\n",
            "Epoch 15, Batch 100 loss: 0.0297109248815104\n",
            "Epoch 15, Batch 120 loss: 0.0301309359900188\n",
            "Epoch 16, Batch 20 loss: 0.0342164239264093\n",
            "Epoch 16, Batch 40 loss: 0.0309589369979221\n",
            "Epoch 16, Batch 60 loss: 0.0169440004508942\n",
            "Epoch 16, Batch 80 loss: 0.0154065821261611\n",
            "Epoch 16, Batch 100 loss: 0.0157681985831005\n",
            "Epoch 16, Batch 120 loss: 0.0196939072542591\n",
            "Epoch 17, Batch 20 loss: 0.0152931897348026\n",
            "Epoch 17, Batch 40 loss: 0.0295455382147338\n",
            "Epoch 17, Batch 60 loss: 0.0519158113049343\n",
            "Epoch 17, Batch 80 loss: 0.0095455939881504\n",
            "Epoch 17, Batch 100 loss: 0.0092624328506645\n",
            "Epoch 17, Batch 120 loss: 0.0167125024134293\n",
            "Epoch 18, Batch 20 loss: 0.0325374622247182\n",
            "Epoch 18, Batch 40 loss: 0.0186027150950395\n",
            "Epoch 18, Batch 60 loss: 0.0146569517586613\n",
            "Epoch 18, Batch 80 loss: 0.0175541050208267\n",
            "Epoch 18, Batch 100 loss: 0.0137762268866936\n",
            "Epoch 18, Batch 120 loss: 0.0154750803601928\n",
            "Epoch 19, Batch 20 loss: 0.0142470643942943\n",
            "Epoch 19, Batch 40 loss: 0.0235611088748556\n",
            "Epoch 19, Batch 60 loss: 0.0598034172027837\n",
            "Epoch 19, Batch 80 loss: 0.0117197020677850\n",
            "Epoch 19, Batch 100 loss: 0.0097058387662400\n",
            "Epoch 19, Batch 120 loss: 0.0095280313777039\n",
            "Epoch 20, Batch 20 loss: 0.0451663238694891\n",
            "Epoch 20, Batch 40 loss: 0.0128648187848739\n",
            "Epoch 20, Batch 60 loss: 0.0097987468296196\n",
            "Epoch 20, Batch 80 loss: 0.0329022964171600\n",
            "Epoch 20, Batch 100 loss: 0.0096530562615953\n",
            "Epoch 20, Batch 120 loss: 0.0157605878426693\n",
            "Epoch 21, Batch 20 loss: 0.0051828950032359\n",
            "Epoch 21, Batch 40 loss: 0.0060708911652910\n",
            "Epoch 21, Batch 60 loss: 0.0042668331909226\n",
            "Epoch 21, Batch 80 loss: 0.0189148315897910\n",
            "Epoch 21, Batch 100 loss: 0.0075290357373888\n",
            "Epoch 21, Batch 120 loss: 0.0064552174531855\n",
            "Epoch 22, Batch 20 loss: 0.0058436305058422\n",
            "Epoch 22, Batch 40 loss: 0.0150879779626848\n",
            "Epoch 22, Batch 60 loss: 0.0043202688160818\n",
            "Epoch 22, Batch 80 loss: 0.0122125487716403\n",
            "Epoch 22, Batch 100 loss: 0.0126132524688728\n",
            "Epoch 22, Batch 120 loss: 0.0072353230163571\n",
            "Epoch 23, Batch 20 loss: 0.0068710879277205\n",
            "Epoch 23, Batch 40 loss: 0.0185181544846273\n",
            "Epoch 23, Batch 60 loss: 0.0040180407144362\n",
            "Epoch 23, Batch 80 loss: 0.0246287081739865\n",
            "Epoch 23, Batch 100 loss: 0.0049361526209395\n",
            "Epoch 23, Batch 120 loss: 0.0114373352291295\n",
            "Epoch 24, Batch 20 loss: 0.0129764337310917\n",
            "Epoch 24, Batch 40 loss: 0.0048821725809830\n",
            "Epoch 24, Batch 60 loss: 0.0023030575976009\n",
            "Epoch 24, Batch 80 loss: 0.0037787682973430\n",
            "Epoch 24, Batch 100 loss: 0.0164070504339179\n",
            "Epoch 24, Batch 120 loss: 0.0159838070714613\n",
            "Epoch 25, Batch 20 loss: 0.0093614372475713\n",
            "Epoch 25, Batch 40 loss: 0.0324339853206766\n",
            "Epoch 25, Batch 60 loss: 0.0084023658782826\n",
            "Epoch 25, Batch 80 loss: 0.0151991389488103\n",
            "Epoch 25, Batch 100 loss: 0.0052570313426259\n",
            "Epoch 25, Batch 120 loss: 0.0064374002729892\n",
            "Epoch 26, Batch 20 loss: 0.0059500503804884\n",
            "Epoch 26, Batch 40 loss: 0.0161920131533407\n",
            "Epoch 26, Batch 60 loss: 0.0078690201524296\n",
            "Epoch 26, Batch 80 loss: 0.0020549075401505\n",
            "Epoch 26, Batch 100 loss: 0.0089732855878538\n",
            "Epoch 26, Batch 120 loss: 0.0159351823385805\n",
            "Epoch 27, Batch 20 loss: 0.0276983500487404\n",
            "Epoch 27, Batch 40 loss: 0.0053854892903473\n",
            "Epoch 27, Batch 60 loss: 0.0048499121417990\n",
            "Epoch 27, Batch 80 loss: 0.0041232255112845\n",
            "Epoch 27, Batch 100 loss: 0.0071272501314525\n",
            "Epoch 27, Batch 120 loss: 0.0076384791653254\n",
            "Epoch 28, Batch 20 loss: 0.0123549595387885\n",
            "Epoch 28, Batch 40 loss: 0.0140690002474003\n",
            "Epoch 28, Batch 60 loss: 0.0204279776080512\n",
            "Epoch 28, Batch 80 loss: 0.0080268352263374\n",
            "Epoch 28, Batch 100 loss: 0.0099202849494759\n",
            "Epoch 28, Batch 120 loss: 0.0097436458614538\n",
            "Epoch 29, Batch 20 loss: 0.0131523827047204\n",
            "Epoch 29, Batch 40 loss: 0.0108188434373005\n",
            "Epoch 29, Batch 60 loss: 0.0038912778065423\n",
            "Epoch 29, Batch 80 loss: 0.0115825441986090\n",
            "Epoch 29, Batch 100 loss: 0.0124725298388512\n",
            "Epoch 29, Batch 120 loss: 0.0031977012724383\n",
            "Epoch 30, Batch 20 loss: 0.0037579301701044\n",
            "Epoch 30, Batch 40 loss: 0.0129318986204453\n",
            "Epoch 30, Batch 60 loss: 0.0220543778501451\n",
            "Epoch 30, Batch 80 loss: 0.0051882849293179\n",
            "Epoch 30, Batch 100 loss: 0.0031379935418954\n",
            "Epoch 30, Batch 120 loss: 0.0044388282447471\n",
            "Epoch 31, Batch 20 loss: 0.0053319448546972\n",
            "Epoch 31, Batch 40 loss: 0.0021715623865020\n",
            "Epoch 31, Batch 60 loss: 0.0026262408937328\n",
            "Epoch 31, Batch 80 loss: 0.0174939105403610\n",
            "Epoch 31, Batch 100 loss: 0.0052078482374782\n",
            "Epoch 31, Batch 120 loss: 0.0021086083754199\n",
            "Epoch 32, Batch 20 loss: 0.0312730855119298\n",
            "Epoch 32, Batch 40 loss: 0.0072898013575468\n",
            "Epoch 32, Batch 60 loss: 0.0043415337044280\n",
            "Epoch 32, Batch 80 loss: 0.0032605384301860\n",
            "Epoch 32, Batch 100 loss: 0.0069668158626882\n",
            "Epoch 32, Batch 120 loss: 0.0037137313192943\n",
            "Epoch 33, Batch 20 loss: 0.0034322858191445\n",
            "Epoch 33, Batch 40 loss: 0.0036757288602530\n",
            "Epoch 33, Batch 60 loss: 0.0152074140190962\n",
            "Epoch 33, Batch 80 loss: 0.0026258027821314\n",
            "Epoch 33, Batch 100 loss: 0.0022947816833039\n",
            "Epoch 33, Batch 120 loss: 0.0022658548434265\n",
            "Epoch 34, Batch 20 loss: 0.0074677186028566\n",
            "Epoch 34, Batch 40 loss: 0.0050697740516625\n",
            "Epoch 34, Batch 60 loss: 0.0243297632106987\n",
            "Epoch 34, Batch 80 loss: 0.0046530668623745\n",
            "Epoch 34, Batch 100 loss: 0.0025350372292451\n",
            "Epoch 34, Batch 120 loss: 0.0034565910886158\n",
            "Epoch 35, Batch 20 loss: 0.0028586973290658\n",
            "Epoch 35, Batch 40 loss: 0.0132497252168832\n",
            "Epoch 35, Batch 60 loss: 0.0029505335216527\n",
            "Epoch 35, Batch 80 loss: 0.0054660796813550\n",
            "Epoch 35, Batch 100 loss: 0.0025059953448363\n",
            "Epoch 35, Batch 120 loss: 0.0038051883297157\n",
            "Epoch 36, Batch 20 loss: 0.0075446033646585\n",
            "Epoch 36, Batch 40 loss: 0.0046774529007962\n",
            "Epoch 36, Batch 60 loss: 0.0039030657084368\n",
            "Epoch 36, Batch 80 loss: 0.0020201042701956\n",
            "Epoch 36, Batch 100 loss: 0.0336189729801845\n",
            "Epoch 36, Batch 120 loss: 0.0099281264003366\n",
            "Epoch 37, Batch 20 loss: 0.0055389585613739\n",
            "Epoch 37, Batch 40 loss: 0.0032943016936770\n",
            "Epoch 37, Batch 60 loss: 0.0056194137840066\n",
            "Epoch 37, Batch 80 loss: 0.0030762506619794\n",
            "Epoch 37, Batch 100 loss: 0.0021345581975766\n",
            "Epoch 37, Batch 120 loss: 0.0083287929228391\n",
            "Epoch 38, Batch 20 loss: 0.0062701388393180\n",
            "Epoch 38, Batch 40 loss: 0.0013201604699134\n",
            "Epoch 38, Batch 60 loss: 0.0058946779172402\n",
            "Epoch 38, Batch 80 loss: 0.0021575473147095\n",
            "Epoch 38, Batch 100 loss: 0.0018765164335491\n",
            "Epoch 38, Batch 120 loss: 0.0121969655127032\n",
            "Epoch 39, Batch 20 loss: 0.0034093989605026\n",
            "Epoch 39, Batch 40 loss: 0.0099378904036712\n",
            "Epoch 39, Batch 60 loss: 0.0018387373449514\n",
            "Epoch 39, Batch 80 loss: 0.0017883236941998\n",
            "Epoch 39, Batch 100 loss: 0.0207070348034904\n",
            "Epoch 39, Batch 120 loss: 0.0018610254453961\n",
            "Epoch 40, Batch 20 loss: 0.0022482097265311\n",
            "Epoch 40, Batch 40 loss: 0.0157354423776269\n",
            "Epoch 40, Batch 60 loss: 0.0019799551329925\n",
            "Epoch 40, Batch 80 loss: 0.0027307111973641\n",
            "Epoch 40, Batch 100 loss: 0.0059987456261297\n",
            "Epoch 40, Batch 120 loss: 0.0085212074845913\n",
            "Epoch 41, Batch 20 loss: 0.0162506657390622\n",
            "Epoch 41, Batch 40 loss: 0.0277405248605646\n",
            "Epoch 41, Batch 60 loss: 0.0041151328816341\n",
            "Epoch 41, Batch 80 loss: 0.0044701523671392\n",
            "Epoch 41, Batch 100 loss: 0.0045505570022215\n",
            "Epoch 41, Batch 120 loss: 0.0028370495012496\n",
            "Epoch 42, Batch 20 loss: 0.0117816883226624\n",
            "Epoch 42, Batch 40 loss: 0.0021285606300808\n",
            "Epoch 42, Batch 60 loss: 0.0070511628931854\n",
            "Epoch 42, Batch 80 loss: 0.0025746101833647\n",
            "Epoch 42, Batch 100 loss: 0.0186431545007508\n",
            "Epoch 42, Batch 120 loss: 0.0081343633868528\n",
            "Epoch 43, Batch 20 loss: 0.0024477443541400\n",
            "Epoch 43, Batch 40 loss: 0.0148208725790028\n",
            "Epoch 43, Batch 60 loss: 0.0123363683866046\n",
            "Epoch 43, Batch 80 loss: 0.0027622475172393\n",
            "Epoch 43, Batch 100 loss: 0.0039672449929640\n",
            "Epoch 43, Batch 120 loss: 0.0022220779821509\n",
            "Epoch 44, Batch 20 loss: 0.0013716178204049\n",
            "Epoch 44, Batch 40 loss: 0.0031876008870313\n",
            "Epoch 44, Batch 60 loss: 0.0041170342272380\n",
            "Epoch 44, Batch 80 loss: 0.0227549839924905\n",
            "Epoch 44, Batch 100 loss: 0.0027622889363556\n",
            "Epoch 44, Batch 120 loss: 0.0031371326913359\n",
            "Epoch 45, Batch 20 loss: 0.0016827579966048\n",
            "Epoch 45, Batch 40 loss: 0.0029390794370556\n",
            "Epoch 45, Batch 60 loss: 0.0051365171922953\n",
            "Epoch 45, Batch 80 loss: 0.0031812856570468\n",
            "Epoch 45, Batch 100 loss: 0.0022981229238212\n",
            "Epoch 45, Batch 120 loss: 0.0123642551698140\n",
            "Epoch 46, Batch 20 loss: 0.0075426749841427\n",
            "Epoch 46, Batch 40 loss: 0.0166281803831225\n",
            "Epoch 46, Batch 60 loss: 0.0100552620169765\n",
            "Epoch 46, Batch 80 loss: 0.0013958904164610\n",
            "Epoch 46, Batch 100 loss: 0.0033716701582307\n",
            "Epoch 46, Batch 120 loss: 0.0019398684547923\n",
            "Epoch 47, Batch 20 loss: 0.0026716541469796\n",
            "Epoch 47, Batch 40 loss: 0.0147325357997033\n",
            "Epoch 47, Batch 60 loss: 0.0060537258439581\n",
            "Epoch 47, Batch 80 loss: 0.0017225773932296\n",
            "Epoch 47, Batch 100 loss: 0.0241108437759976\n",
            "Epoch 47, Batch 120 loss: 0.0063324077375000\n",
            "Epoch 48, Batch 20 loss: 0.0028391024876328\n",
            "Epoch 48, Batch 40 loss: 0.0033351165657223\n",
            "Epoch 48, Batch 60 loss: 0.0032050868576334\n",
            "Epoch 48, Batch 80 loss: 0.0128861486911774\n",
            "Epoch 48, Batch 100 loss: 0.0072316054800467\n",
            "Epoch 48, Batch 120 loss: 0.0123692235531053\n",
            "Epoch 49, Batch 20 loss: 0.0038147398823639\n",
            "Epoch 49, Batch 40 loss: 0.0014876872388413\n",
            "Epoch 49, Batch 60 loss: 0.0084012808612897\n",
            "Epoch 49, Batch 80 loss: 0.0019306750844407\n",
            "Epoch 49, Batch 100 loss: 0.0137924274225952\n",
            "Epoch 49, Batch 120 loss: 0.0023562014728668\n",
            "Epoch 50, Batch 20 loss: 0.0056003396384767\n",
            "Epoch 50, Batch 40 loss: 0.0132842120343412\n",
            "Epoch 50, Batch 60 loss: 0.0048674129953724\n",
            "Epoch 50, Batch 80 loss: 0.0014505067971186\n",
            "Epoch 50, Batch 100 loss: 0.0028561645754962\n",
            "Epoch 50, Batch 120 loss: 0.0052932014688849\n"
          ]
        }
      ]
    },
    {
      "cell_type": "code",
      "metadata": {
        "colab": {
          "base_uri": "https://localhost:8080/",
          "height": 281
        },
        "id": "CfA7ZjLR1BZP",
        "outputId": "b1a49cf8-3008-4ff7-a625-5e454fbd6f7c"
      },
      "source": [
        "plt.plot(train_losses)\n",
        "plt.title(\"Training Loss\")\n",
        "plt.show()"
      ],
      "execution_count": 34,
      "outputs": [
        {
          "output_type": "display_data",
          "data": {
            "image/png": "[encoded data removed]",
            "text/plain": [
              "<Figure size 432x288 with 1 Axes>"
            ]
          },
          "metadata": {
            "needs_background": "light"
          }
        }
      ]
    },
    {
      "cell_type": "markdown",
      "metadata": {
        "id": "ItLyF9dQyJFL"
      },
      "source": [
        "Testing the model"
      ]
    },
    {
      "cell_type": "code",
      "metadata": {
        "id": "gGki98W3SoEW"
      },
      "source": [
        "from sklearn.metrics import precision_score, recall_score, f1_score, accuracy_score"
      ],
      "execution_count": 35,
      "outputs": []
    },
    {
      "cell_type": "code",
      "metadata": {
        "colab": {
          "base_uri": "https://localhost:8080/"
        },
        "id": "xNavYOynyE6d",
        "outputId": "46700c11-0879-427c-ae98-b9455bded6ff"
      },
      "source": [
        "# The test_model function is from model_testing python file\n",
        "test_loss, class_correct, class_total, labels, predictions = test_model(classes, inception_v3, test_loader, criterion)\n",
        "\n",
        "# Test accuracy for each hieroglyph\n",
        "for i in range(len(classes)):\n",
        "    if class_total[i] > 0:\n",
        "        print('Test Accuracy of %5s: %2d%% (%2d/%2d)' % (classes[i], 100 * class_correct[i] / class_total[i], np.sum(class_correct[i]), np.sum(class_total[i])))\n",
        "    else:\n",
        "        print('Test Accuracy of %5s: N/A (no training examples)' % (classes[i]))\n",
        "\n",
        "# Total Test accuracy\n",
        "print(\"\\nAccuracy: {:.3%}\".format(accuracy_score(labels, predictions)/100))\n",
        "print(\"\\nPrecision: {:.3%}\".format(precision_score(labels, predictions, average = 'weighted')/100))\n",
        "print(\"\\nRecall: {:.3%}\".format(recall_score(labels, predictions, average = 'weighted')/100))\n",
        "print(\"\\nF1-score: {:.3%}\".format(f1_score(labels, predictions, average = 'weighted')/100))"
      ],
      "execution_count": 38,
      "outputs": [
        {
          "output_type": "stream",
          "name": "stdout",
          "text": [
            "Test Loss: 0.042563\n",
            "\n",
            "Test Accuracy of    D2: 100% ( 5/ 5)\n",
            "Test Accuracy of   D21: 97% (36/37)\n",
            "Test Accuracy of   D36: 100% (12/12)\n",
            "Test Accuracy of    D4: 100% ( 8/ 8)\n",
            "Test Accuracy of   D46: 90% ( 9/10)\n",
            "Test Accuracy of   D58: 100% ( 8/ 8)\n",
            "Test Accuracy of   E23: 50% ( 1/ 2)\n",
            "Test Accuracy of   E34: 100% (25/25)\n",
            "Test Accuracy of   F31: 100% ( 2/ 2)\n",
            "Test Accuracy of   F35: 100% ( 1/ 1)\n",
            "Test Accuracy of    G1: 100% ( 7/ 7)\n",
            "Test Accuracy of   G17: 97% (38/39)\n",
            "Test Accuracy of   G43: 100% (40/40)\n",
            "Test Accuracy of   I10: 100% ( 9/ 9)\n",
            "Test Accuracy of    I9: 100% (30/30)\n",
            "Test Accuracy of   M17: 100% (73/73)\n",
            "Test Accuracy of   M23: 100% ( 8/ 8)\n",
            "Test Accuracy of   N35: 100% (90/90)\n",
            "Test Accuracy of    O1: 100% ( 4/ 4)\n",
            "Test Accuracy of   O34: 100% ( 4/ 4)\n",
            "Test Accuracy of    O4: 100% ( 3/ 3)\n",
            "Test Accuracy of   O49: 100% ( 3/ 3)\n",
            "Test Accuracy of    Q1: 100% ( 4/ 4)\n",
            "Test Accuracy of    Q3: 100% (16/16)\n",
            "Test Accuracy of    R4: 100% ( 1/ 1)\n",
            "Test Accuracy of    R8: 100% (14/14)\n",
            "Test Accuracy of   S29: 100% (53/53)\n",
            "Test Accuracy of   S34: 100% ( 2/ 2)\n",
            "Test Accuracy of    U7: 100% ( 1/ 1)\n",
            "Test Accuracy of   V13: 100% (16/16)\n",
            "Test Accuracy of   V28: 100% ( 8/ 8)\n",
            "Test Accuracy of   V30: 100% ( 2/ 2)\n",
            "Test Accuracy of   V31: 100% (27/27)\n",
            "Test Accuracy of   W11: 100% ( 1/ 1)\n",
            "Test Accuracy of   W24: 100% ( 8/ 8)\n",
            "Test Accuracy of    X1: 100% (47/47)\n",
            "Test Accuracy of    X8: 50% ( 1/ 2)\n",
            "Test Accuracy of    Y1: 100% ( 1/ 1)\n",
            "Test Accuracy of    Y5: 100% ( 2/ 2)\n",
            "Test Accuracy of    Z1: 100% (10/10)\n",
            "\n",
            "Accuracy: 0.992%\n",
            "\n",
            "Precision: 0.993%\n",
            "\n",
            "Recall: 0.992%\n",
            "\n",
            "F1-score: 0.992%\n"
          ]
        }
      ]
    }
  ]
}
