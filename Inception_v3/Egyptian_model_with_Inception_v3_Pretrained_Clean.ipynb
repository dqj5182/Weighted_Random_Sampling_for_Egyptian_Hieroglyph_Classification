{
  "nbformat": 4,
  "nbformat_minor": 0,
  "metadata": {
    "colab": {
      "name": "Egyptian_model_with_Inception_v3_Pretrained_Clean.ipynb",
      "provenance": []
    },
    "kernelspec": {
      "name": "python3",
      "display_name": "Python 3"
    },
    "language_info": {
      "name": "python"
    },
    "accelerator": "GPU",
    "widgets": {
      "application/vnd.jupyter.widget-state+json": {
        "452854588b1b49a28a94bd6b1cbec921": {
          "model_module": "@jupyter-widgets/controls",
          "model_name": "HBoxModel",
          "model_module_version": "1.5.0",
          "state": {
            "_view_name": "HBoxView",
            "_dom_classes": [],
            "_model_name": "HBoxModel",
            "_view_module": "@jupyter-widgets/controls",
            "_model_module_version": "1.5.0",
            "_view_count": null,
            "_view_module_version": "1.5.0",
            "box_style": "",
            "layout": "IPY_MODEL_d4129f1115f745228c10571c8d1d41e6",
            "_model_module": "@jupyter-widgets/controls",
            "children": [
              "IPY_MODEL_d23cc6d55f30490eb2131d02e720269e",
              "IPY_MODEL_a767974f27c1408dbe81b188b10d95a4",
              "IPY_MODEL_2cf13f1c28c644b49efb3541bba069b0"
            ]
          }
        },
        "d4129f1115f745228c10571c8d1d41e6": {
          "model_module": "@jupyter-widgets/base",
          "model_name": "LayoutModel",
          "model_module_version": "1.2.0",
          "state": {
            "_view_name": "LayoutView",
            "grid_template_rows": null,
            "right": null,
            "justify_content": null,
            "_view_module": "@jupyter-widgets/base",
            "overflow": null,
            "_model_module_version": "1.2.0",
            "_view_count": null,
            "flex_flow": null,
            "width": null,
            "min_width": null,
            "border": null,
            "align_items": null,
            "bottom": null,
            "_model_module": "@jupyter-widgets/base",
            "top": null,
            "grid_column": null,
            "overflow_y": null,
            "overflow_x": null,
            "grid_auto_flow": null,
            "grid_area": null,
            "grid_template_columns": null,
            "flex": null,
            "_model_name": "LayoutModel",
            "justify_items": null,
            "grid_row": null,
            "max_height": null,
            "align_content": null,
            "visibility": null,
            "align_self": null,
            "height": null,
            "min_height": null,
            "padding": null,
            "grid_auto_rows": null,
            "grid_gap": null,
            "max_width": null,
            "order": null,
            "_view_module_version": "1.2.0",
            "grid_template_areas": null,
            "object_position": null,
            "object_fit": null,
            "grid_auto_columns": null,
            "margin": null,
            "display": null,
            "left": null
          }
        },
        "d23cc6d55f30490eb2131d02e720269e": {
          "model_module": "@jupyter-widgets/controls",
          "model_name": "HTMLModel",
          "model_module_version": "1.5.0",
          "state": {
            "_view_name": "HTMLView",
            "style": "IPY_MODEL_503cb2c32c774af896855ebab0e7ba46",
            "_dom_classes": [],
            "description": "",
            "_model_name": "HTMLModel",
            "placeholder": "​",
            "_view_module": "@jupyter-widgets/controls",
            "_model_module_version": "1.5.0",
            "value": "100%",
            "_view_count": null,
            "_view_module_version": "1.5.0",
            "description_tooltip": null,
            "_model_module": "@jupyter-widgets/controls",
            "layout": "IPY_MODEL_0203d723be95458ab3de813392cbfba6"
          }
        },
        "a767974f27c1408dbe81b188b10d95a4": {
          "model_module": "@jupyter-widgets/controls",
          "model_name": "FloatProgressModel",
          "model_module_version": "1.5.0",
          "state": {
            "_view_name": "ProgressView",
            "style": "IPY_MODEL_50965188c8f94731a7884c9be64b0f53",
            "_dom_classes": [],
            "description": "",
            "_model_name": "FloatProgressModel",
            "bar_style": "success",
            "max": 108949747,
            "_view_module": "@jupyter-widgets/controls",
            "_model_module_version": "1.5.0",
            "value": 108949747,
            "_view_count": null,
            "_view_module_version": "1.5.0",
            "orientation": "horizontal",
            "min": 0,
            "description_tooltip": null,
            "_model_module": "@jupyter-widgets/controls",
            "layout": "IPY_MODEL_66e64a29de834fdfbb0d7088eedcab8f"
          }
        },
        "2cf13f1c28c644b49efb3541bba069b0": {
          "model_module": "@jupyter-widgets/controls",
          "model_name": "HTMLModel",
          "model_module_version": "1.5.0",
          "state": {
            "_view_name": "HTMLView",
            "style": "IPY_MODEL_df933e55beb147199df1f7987a43860d",
            "_dom_classes": [],
            "description": "",
            "_model_name": "HTMLModel",
            "placeholder": "​",
            "_view_module": "@jupyter-widgets/controls",
            "_model_module_version": "1.5.0",
            "value": " 104M/104M [00:00&lt;00:00, 130MB/s]",
            "_view_count": null,
            "_view_module_version": "1.5.0",
            "description_tooltip": null,
            "_model_module": "@jupyter-widgets/controls",
            "layout": "IPY_MODEL_3528846f649045c9b617b9d634115c9c"
          }
        },
        "503cb2c32c774af896855ebab0e7ba46": {
          "model_module": "@jupyter-widgets/controls",
          "model_name": "DescriptionStyleModel",
          "model_module_version": "1.5.0",
          "state": {
            "_view_name": "StyleView",
            "_model_name": "DescriptionStyleModel",
            "description_width": "",
            "_view_module": "@jupyter-widgets/base",
            "_model_module_version": "1.5.0",
            "_view_count": null,
            "_view_module_version": "1.2.0",
            "_model_module": "@jupyter-widgets/controls"
          }
        },
        "0203d723be95458ab3de813392cbfba6": {
          "model_module": "@jupyter-widgets/base",
          "model_name": "LayoutModel",
          "model_module_version": "1.2.0",
          "state": {
            "_view_name": "LayoutView",
            "grid_template_rows": null,
            "right": null,
            "justify_content": null,
            "_view_module": "@jupyter-widgets/base",
            "overflow": null,
            "_model_module_version": "1.2.0",
            "_view_count": null,
            "flex_flow": null,
            "width": null,
            "min_width": null,
            "border": null,
            "align_items": null,
            "bottom": null,
            "_model_module": "@jupyter-widgets/base",
            "top": null,
            "grid_column": null,
            "overflow_y": null,
            "overflow_x": null,
            "grid_auto_flow": null,
            "grid_area": null,
            "grid_template_columns": null,
            "flex": null,
            "_model_name": "LayoutModel",
            "justify_items": null,
            "grid_row": null,
            "max_height": null,
            "align_content": null,
            "visibility": null,
            "align_self": null,
            "height": null,
            "min_height": null,
            "padding": null,
            "grid_auto_rows": null,
            "grid_gap": null,
            "max_width": null,
            "order": null,
            "_view_module_version": "1.2.0",
            "grid_template_areas": null,
            "object_position": null,
            "object_fit": null,
            "grid_auto_columns": null,
            "margin": null,
            "display": null,
            "left": null
          }
        },
        "50965188c8f94731a7884c9be64b0f53": {
          "model_module": "@jupyter-widgets/controls",
          "model_name": "ProgressStyleModel",
          "model_module_version": "1.5.0",
          "state": {
            "_view_name": "StyleView",
            "_model_name": "ProgressStyleModel",
            "description_width": "",
            "_view_module": "@jupyter-widgets/base",
            "_model_module_version": "1.5.0",
            "_view_count": null,
            "_view_module_version": "1.2.0",
            "bar_color": null,
            "_model_module": "@jupyter-widgets/controls"
          }
        },
        "66e64a29de834fdfbb0d7088eedcab8f": {
          "model_module": "@jupyter-widgets/base",
          "model_name": "LayoutModel",
          "model_module_version": "1.2.0",
          "state": {
            "_view_name": "LayoutView",
            "grid_template_rows": null,
            "right": null,
            "justify_content": null,
            "_view_module": "@jupyter-widgets/base",
            "overflow": null,
            "_model_module_version": "1.2.0",
            "_view_count": null,
            "flex_flow": null,
            "width": null,
            "min_width": null,
            "border": null,
            "align_items": null,
            "bottom": null,
            "_model_module": "@jupyter-widgets/base",
            "top": null,
            "grid_column": null,
            "overflow_y": null,
            "overflow_x": null,
            "grid_auto_flow": null,
            "grid_area": null,
            "grid_template_columns": null,
            "flex": null,
            "_model_name": "LayoutModel",
            "justify_items": null,
            "grid_row": null,
            "max_height": null,
            "align_content": null,
            "visibility": null,
            "align_self": null,
            "height": null,
            "min_height": null,
            "padding": null,
            "grid_auto_rows": null,
            "grid_gap": null,
            "max_width": null,
            "order": null,
            "_view_module_version": "1.2.0",
            "grid_template_areas": null,
            "object_position": null,
            "object_fit": null,
            "grid_auto_columns": null,
            "margin": null,
            "display": null,
            "left": null
          }
        },
        "df933e55beb147199df1f7987a43860d": {
          "model_module": "@jupyter-widgets/controls",
          "model_name": "DescriptionStyleModel",
          "model_module_version": "1.5.0",
          "state": {
            "_view_name": "StyleView",
            "_model_name": "DescriptionStyleModel",
            "description_width": "",
            "_view_module": "@jupyter-widgets/base",
            "_model_module_version": "1.5.0",
            "_view_count": null,
            "_view_module_version": "1.2.0",
            "_model_module": "@jupyter-widgets/controls"
          }
        },
        "3528846f649045c9b617b9d634115c9c": {
          "model_module": "@jupyter-widgets/base",
          "model_name": "LayoutModel",
          "model_module_version": "1.2.0",
          "state": {
            "_view_name": "LayoutView",
            "grid_template_rows": null,
            "right": null,
            "justify_content": null,
            "_view_module": "@jupyter-widgets/base",
            "overflow": null,
            "_model_module_version": "1.2.0",
            "_view_count": null,
            "flex_flow": null,
            "width": null,
            "min_width": null,
            "border": null,
            "align_items": null,
            "bottom": null,
            "_model_module": "@jupyter-widgets/base",
            "top": null,
            "grid_column": null,
            "overflow_y": null,
            "overflow_x": null,
            "grid_auto_flow": null,
            "grid_area": null,
            "grid_template_columns": null,
            "flex": null,
            "_model_name": "LayoutModel",
            "justify_items": null,
            "grid_row": null,
            "max_height": null,
            "align_content": null,
            "visibility": null,
            "align_self": null,
            "height": null,
            "min_height": null,
            "padding": null,
            "grid_auto_rows": null,
            "grid_gap": null,
            "max_width": null,
            "order": null,
            "_view_module_version": "1.2.0",
            "grid_template_areas": null,
            "object_position": null,
            "object_fit": null,
            "grid_auto_columns": null,
            "margin": null,
            "display": null,
            "left": null
          }
        }
      }
    }
  },
  "cells": [
    {
      "cell_type": "code",
      "metadata": {
        "id": "8iEiGSblxJzW"
      },
      "source": [
        "import os, os.path\n",
        "import torch\n",
        "import numpy as np\n",
        "import torch.nn as nn\n",
        "import torch.optim as optim\n",
        "from pathlib import Path\n",
        "from torchvision import datasets, models, transforms\n",
        "\n",
        "# check if CUDA is available\n",
        "train_on_gpu = torch.cuda.is_available()"
      ],
      "execution_count": 1,
      "outputs": []
    },
    {
      "cell_type": "markdown",
      "metadata": {
        "id": "Jd6KU8VMz6J3"
      },
      "source": [
        "Module: Load_data"
      ]
    },
    {
      "cell_type": "code",
      "metadata": {
        "id": "8lWX0BW_w_kC"
      },
      "source": [
        "def load_data(hieroglyph_directory_path, batch_size=20, num_workers=0):\n",
        "    train_dir = os.path.join(hieroglyph_directory_path, 'train/')\n",
        "    test_dir = os.path.join(hieroglyph_directory_path, 'test/')\n",
        "\n",
        "    classes = []\n",
        "\n",
        "    for filename in os.listdir(train_dir):\n",
        "        if filename == '.DS_Store':\n",
        "            pass\n",
        "        else:\n",
        "            classes.append(filename)\n",
        "\n",
        "    classes.sort()\n",
        "\n",
        "    # print(\"Our classes:\", classes)\n",
        "    # print(len(classes))\n",
        "\n",
        "    data_transform = transforms.Compose([transforms.ToTensor(),\n",
        "                                         transforms.RandomApply([transforms.RandomHorizontalFlip()]),\n",
        "                                         transforms.RandomRotation(degrees=(-10, 10)),\n",
        "                                         transforms.RandomAffine(degrees=0, translate=(.1, .1)),\n",
        "                                         transforms.RandomApply([transforms.ColorJitter(brightness=(1, 1.2),\n",
        "                                                                                        contrast=(1, 1.5),\n",
        "                                                                                        saturation=(1, 1.5),\n",
        "                                                                                        hue=(0, 0.5))]),\n",
        "                                         transforms.RandomErasing(p=0.5, scale=(0.05, 0.05), ratio=(0.3, 3.3), value=0,\n",
        "                                                                  inplace=False),\n",
        "                                         transforms.Resize((299, 299)),\n",
        "                                         transforms.Normalize((0.5,), (0.5,))])\n",
        "\n",
        "    train_data = datasets.ImageFolder(train_dir, transform=data_transform)\n",
        "    test_data = datasets.ImageFolder(test_dir, transform=data_transform)\n",
        "\n",
        "    # print('Num training images: ', len(train_data))\n",
        "    # print('Num test images: ', len(test_data))\n",
        "\n",
        "    # prepare data loaders\n",
        "    train_loader = torch.utils.data.DataLoader(train_data, batch_size=batch_size,\n",
        "                                               num_workers=num_workers, shuffle=True)\n",
        "    test_loader = torch.utils.data.DataLoader(test_data, batch_size=batch_size,\n",
        "                                              num_workers=num_workers, shuffle=True)\n",
        "\n",
        "    return train_loader, test_loader, classes"
      ],
      "execution_count": 2,
      "outputs": []
    },
    {
      "cell_type": "markdown",
      "metadata": {
        "id": "K4sXUrPPz7iF"
      },
      "source": [
        "Module: Train_model"
      ]
    },
    {
      "cell_type": "code",
      "metadata": {
        "id": "N2N_rnKLxN5c"
      },
      "source": [
        "def train_model(train_loader, optimizer, conv_net_model, criterion, my_lr_scheduler, n_epochs):\n",
        "    # track training loss over time\n",
        "    losses = []\n",
        "    \n",
        "    for epoch in range(1, n_epochs + 1):\n",
        "\n",
        "        # keep track of training and validation loss\n",
        "        train_loss = 0.0\n",
        "\n",
        "        # model by default is set to train\n",
        "        for batch_i, (data, target) in enumerate(train_loader):\n",
        "            # move tensors to GPU if CUDA is available\n",
        "            if train_on_gpu:\n",
        "                data, target = data.cuda(), target.cuda()\n",
        "            # clear the gradients of all optimized variables\n",
        "            optimizer.zero_grad()\n",
        "            # forward pass: compute predicted outputs by passing inputs to the model\n",
        "            output = conv_net_model(data)\n",
        "            # calculate the batch loss\n",
        "            loss = criterion(output.logits, target)\n",
        "            # backward pass: compute gradient of the loss with respect to model parameters\n",
        "            loss.backward()\n",
        "            # perform a single optimization step (parameter update)\n",
        "            optimizer.step()\n",
        "            # update training loss\n",
        "            train_loss += loss.item()\n",
        "\n",
        "            my_lr_scheduler.step()\n",
        "\n",
        "            if batch_i % 20 == 19:  # print training loss every specified number of mini-batches\n",
        "                print('Epoch %d, Batch %d loss: %.16f' %\n",
        "                    (epoch, batch_i + 1, train_loss / 20))\n",
        "                losses.append(train_loss / 20)\n",
        "                train_loss = 0.0\n",
        "\n",
        "    return conv_net_model, losses"
      ],
      "execution_count": 3,
      "outputs": []
    },
    {
      "cell_type": "markdown",
      "metadata": {
        "id": "-Rrxo5RDz96U"
      },
      "source": [
        "Module: Test_model"
      ]
    },
    {
      "cell_type": "code",
      "metadata": {
        "id": "Ay-HlMJnxU9v"
      },
      "source": [
        "def test_model(classes, conv_net_model, test_loader, criterion):\n",
        "    # track test loss\n",
        "    test_loss = 0.0\n",
        "    class_correct = list(0. for i in range(len(classes)))\n",
        "    class_total = list(0. for i in range(len(classes)))\n",
        "\n",
        "    conv_net_model.eval()  # eval mode\n",
        "\n",
        "    labels = []\n",
        "    predictions = []\n",
        "    # iterate over test data\n",
        "    for data, target in test_loader:\n",
        "        # move tensors to GPU if CUDA is available\n",
        "        if train_on_gpu:\n",
        "            data, target = data.cuda(), target.cuda()\n",
        "        # forward pass: compute predicted outputs by passing inputs to the model\n",
        "        output = conv_net_model(data)\n",
        "        # calculate the batch loss\n",
        "        loss = criterion(output, target)\n",
        "        # update  test loss\n",
        "        test_loss += loss.item() * data.size(0)\n",
        "        # convert output probabilities to predicted class\n",
        "        _, pred = torch.max(output, 1)\n",
        "        # compare predictions to true label\n",
        "        correct_tensor = pred.eq(target.data.view_as(pred))\n",
        "        correct = np.squeeze(correct_tensor.numpy()) if not train_on_gpu else np.squeeze(correct_tensor.cpu().numpy())\n",
        "        # calculate test accuracy for each object class\n",
        "        for i in range(len(target.data)):\n",
        "            label = target.data[i]\n",
        "            class_correct[label] += correct[i].item()\n",
        "            class_total[label] += 1\n",
        "        \n",
        "        # Will be used for calculating Recall, Precision, and F1-score\n",
        "        labels.extend(target.data.view_as(pred).tolist())\n",
        "        predictions.extend(pred.tolist())\n",
        "\n",
        "\n",
        "    # calculate avg test loss\n",
        "    test_loss = test_loss / len(test_loader.dataset)\n",
        "    print('Test Loss: {:.6f}\\n'.format(test_loss))\n",
        "\n",
        "    return test_loss, class_correct, class_total, labels, predictions"
      ],
      "execution_count": 4,
      "outputs": []
    },
    {
      "cell_type": "markdown",
      "metadata": {
        "id": "xHh3PXE80Asa"
      },
      "source": [
        "Check whether CUDA is available (Change runtime type if not)"
      ]
    },
    {
      "cell_type": "code",
      "metadata": {
        "colab": {
          "base_uri": "https://localhost:8080/"
        },
        "id": "Q9TYPQH7x4zw",
        "outputId": "0e039246-89da-4b21-8722-efb27d1f4ccd"
      },
      "source": [
        "if not train_on_gpu:\n",
        "    print('CUDA is not available.  Training on CPU ...')\n",
        "else:\n",
        "    print('CUDA is available!  Training on GPU ...')"
      ],
      "execution_count": 5,
      "outputs": [
        {
          "output_type": "stream",
          "name": "stdout",
          "text": [
            "CUDA is available!  Training on GPU ...\n"
          ]
        }
      ]
    },
    {
      "cell_type": "markdown",
      "metadata": {
        "id": "6lYw8EKVx8Q7"
      },
      "source": [
        "Load Hieroglyph Data"
      ]
    },
    {
      "cell_type": "code",
      "metadata": {
        "colab": {
          "base_uri": "https://localhost:8080/"
        },
        "id": "laLvoRy1yewl",
        "outputId": "473051ec-ca98-4478-eb1a-d0158f1d88cc"
      },
      "source": [
        "# Connecting and Mounting to the Google Drive\n",
        "from google.colab import drive\n",
        "drive.mount('/content/drive')"
      ],
      "execution_count": 6,
      "outputs": [
        {
          "output_type": "stream",
          "name": "stdout",
          "text": [
            "Mounted at /content/drive\n"
          ]
        }
      ]
    },
    {
      "cell_type": "code",
      "metadata": {
        "id": "odaoZt9GyfUt"
      },
      "source": [
        "data_dir = '/content/drive/MyDrive/EgyptianHieroglyphDataset_Original_Clean/'"
      ],
      "execution_count": 7,
      "outputs": []
    },
    {
      "cell_type": "code",
      "metadata": {
        "colab": {
          "base_uri": "https://localhost:8080/"
        },
        "id": "dF22MAnmyiC1",
        "outputId": "37a94709-9ec5-453c-ffa4-6e4d1fa9649f"
      },
      "source": [
        "hieroglyph_for_train = []\n",
        "file_count_list = []\n",
        "\n",
        "for name in os.listdir('/content/drive/MyDrive/EgyptianHieroglyphDataset_Original_Clean/train/'):\n",
        "  path, dirs, files = next(os.walk(\"/content/drive/MyDrive/EgyptianHieroglyphDataset_Original_Clean/train/\"+name))\n",
        "  file_count = len(files)\n",
        "  print(name, file_count)\n",
        "  file_count_list.append(file_count)\n",
        "  hieroglyph_for_train.append(name)\n",
        "\n",
        "hieroglyph_dict = dict(zip(hieroglyph_for_train, file_count_list))"
      ],
      "execution_count": 8,
      "outputs": [
        {
          "output_type": "stream",
          "name": "stdout",
          "text": [
            "Y5 6\n",
            "I9 116\n",
            "O34 15\n",
            "V13 63\n",
            "U7 3\n",
            "D46 40\n",
            "E34 97\n",
            "G1 28\n",
            "V31 106\n",
            "S34 8\n",
            "D36 47\n",
            "Q1 13\n",
            "V30 6\n",
            "F35 2\n",
            "O4 11\n",
            "M23 30\n",
            "S29 212\n",
            "R8 53\n",
            "W11 4\n",
            "X1 185\n",
            "Y1 1\n",
            "D21 146\n",
            "D2 19\n",
            "E23 8\n",
            "X8 4\n",
            "Z1 39\n",
            "D4 29\n",
            "V28 28\n",
            "I10 32\n",
            "O1 16\n",
            "M17 291\n",
            "F31 6\n",
            "G43 157\n",
            "D58 28\n",
            "O49 10\n",
            "G17 156\n",
            "R4 2\n",
            "Q3 61\n",
            "W24 31\n",
            "N35 358\n"
          ]
        }
      ]
    },
    {
      "cell_type": "markdown",
      "metadata": {
        "id": "XeQQ7PjZzKd9"
      },
      "source": [
        "Number of images for each hieroglyph "
      ]
    },
    {
      "cell_type": "code",
      "metadata": {
        "colab": {
          "base_uri": "https://localhost:8080/",
          "height": 609
        },
        "id": "W6IzWR2RyjxM",
        "outputId": "203e8407-f81d-4f33-f701-a39616247270"
      },
      "source": [
        "import matplotlib.pyplot as plt\n",
        "import pandas as pd\n",
        "\n",
        "df = pd.DataFrame({\"Hieroglyph\":hieroglyph_for_train, \"Count\":file_count_list})\n",
        "\n",
        "df_sorted= df.sort_values('Count',ascending=False)\n",
        "\n",
        "plt.figure(figsize=(20,10))\n",
        "# make bar plot with matplotlib\n",
        "plt.bar('Hieroglyph', 'Count',data=df_sorted)"
      ],
      "execution_count": 9,
      "outputs": [
        {
          "output_type": "execute_result",
          "data": {
            "text/plain": [
              "<BarContainer object of 40 artists>"
            ]
          },
          "metadata": {},
          "execution_count": 9
        },
        {
          "output_type": "display_data",
          "data": {
            "image/png": "[encoded data removed]",
            "text/plain": [
              "<Figure size 1440x720 with 1 Axes>"
            ]
          },
          "metadata": {
            "needs_background": "light"
          }
        }
      ]
    },
    {
      "cell_type": "code",
      "metadata": {
        "id": "-3oOm8rSx7tp"
      },
      "source": [
        "# Number of images processed in a single training\n",
        "batch_size = 20\n",
        "num_workers = 0\n",
        "\n",
        "# The load_data function is from hieroglyph_data_preparation python file\n",
        "train_loader, test_loader, classes = load_data(data_dir)"
      ],
      "execution_count": 10,
      "outputs": []
    },
    {
      "cell_type": "markdown",
      "metadata": {
        "id": "BJm8sGiBx_q5"
      },
      "source": [
        "ResNet Model"
      ]
    },
    {
      "cell_type": "code",
      "metadata": {
        "id": "JkLXVJGkxemC",
        "colab": {
          "base_uri": "https://localhost:8080/",
          "height": 66,
          "referenced_widgets": [
            "452854588b1b49a28a94bd6b1cbec921",
            "d4129f1115f745228c10571c8d1d41e6",
            "d23cc6d55f30490eb2131d02e720269e",
            "a767974f27c1408dbe81b188b10d95a4",
            "2cf13f1c28c644b49efb3541bba069b0",
            "503cb2c32c774af896855ebab0e7ba46",
            "0203d723be95458ab3de813392cbfba6",
            "50965188c8f94731a7884c9be64b0f53",
            "66e64a29de834fdfbb0d7088eedcab8f",
            "df933e55beb147199df1f7987a43860d",
            "3528846f649045c9b617b9d634115c9c"
          ]
        },
        "outputId": "67d044f1-10bc-4cf3-b3b8-d8f1d1c1b406"
      },
      "source": [
        "# Whether to extract features with the model\n",
        "feature_extract = False\n",
        "# Other selections\n",
        "loss_function = \"cross-entropy\"\n",
        "model_selection = \"inception-v3\"\n",
        "optim_selection = \"Adam\"\n",
        "\n",
        "# False if you want scratch model, True if you want pretrained model\n",
        "whether_to_pretrain = True\n",
        "\n",
        "# Load the model\n",
        "if model_selection == \"resnet-50\":\n",
        "    resnet50 = models.resnet50(pretrained=whether_to_pretrain)\n",
        "    # Number of features in the last layer of resnet\n",
        "    n_inputs = resnet50.fc.in_features\n",
        "    # Add last linear layer (n_inputs -> 40 hieroglyph classes)\n",
        "    last_layer = nn.Sequential(\n",
        "                    nn.Linear(n_inputs, len(classes)))\n",
        "    resnet50.fc = last_layer\n",
        "    if train_on_gpu:\n",
        "      resnet50.cuda()\n",
        "    # Specify optimizer (Adam) and learning rate = 0.001\n",
        "    if optim_selection == \"Adam\":\n",
        "        optimizer = optim.Adam(resnet50.parameters(), lr=0.001)\n",
        "\n",
        "elif model_selection == \"inception-v3\":\n",
        "    inception_v3 = models.inception_v3(pretrained=whether_to_pretrain)\n",
        "    # Number of features in the last layer of resnet\n",
        "    n_inputs = inception_v3.fc.in_features\n",
        "    # Add last linear layer (n_inputs -> 40 hieroglyph classes)\n",
        "    last_layer = nn.Sequential(\n",
        "                    nn.Linear(n_inputs, len(classes)))\n",
        "    inception_v3.fc = last_layer\n",
        "    if train_on_gpu:\n",
        "      inception_v3.cuda()\n",
        "    # Specify optimizer (Adam) and learning rate = 0.001\n",
        "    if optim_selection == \"Adam\":\n",
        "        optimizer = optim.Adam(inception_v3.parameters(), lr=0.001)\n",
        "\n",
        "\n",
        "# Specify loss function (categorical cross-entropy)\n",
        "if loss_function == \"cross-entropy\":\n",
        "    criterion = nn.CrossEntropyLoss()\n",
        "\n",
        "# Exponential Decay to strengthen learning\n",
        "decayRate = 0.999\n",
        "my_lr_scheduler = torch.optim.lr_scheduler.ExponentialLR(optimizer=optimizer, gamma=decayRate)"
      ],
      "execution_count": 11,
      "outputs": [
        {
          "output_type": "stream",
          "name": "stderr",
          "text": [
            "Downloading: \"https://download.pytorch.org/models/inception_v3_google-0cc3c7bd.pth\" to /root/.cache/torch/hub/checkpoints/inception_v3_google-0cc3c7bd.pth\n"
          ]
        },
        {
          "output_type": "display_data",
          "data": {
            "application/vnd.jupyter.widget-view+json": {
              "model_id": "452854588b1b49a28a94bd6b1cbec921",
              "version_minor": 0,
              "version_major": 2
            },
            "text/plain": [
              "  0%|          | 0.00/104M [00:00<?, ?B/s]"
            ]
          },
          "metadata": {}
        }
      ]
    },
    {
      "cell_type": "markdown",
      "metadata": {
        "id": "U2vnErB1yHmM"
      },
      "source": [
        "Training the model"
      ]
    },
    {
      "cell_type": "code",
      "metadata": {
        "colab": {
          "base_uri": "https://localhost:8080/"
        },
        "id": "dOB03noWyEvQ",
        "outputId": "3979d546-845f-4ca2-862a-561b7e3080fd"
      },
      "source": [
        "# number of epochs to train the model\n",
        "n_epochs = 50\n",
        "\n",
        "if model_selection == \"resnet-50\":\n",
        "  # The train_model function is from model_training python file\n",
        "  resnet50, train_losses = train_model(train_loader, optimizer, resnet50, criterion, my_lr_scheduler, n_epochs)\n",
        "elif model_selection == \"inception-v3\":\n",
        "  # The train_model function is from model_training python file\n",
        "  inception_v3, train_losses = train_model(train_loader, optimizer, inception_v3, criterion, my_lr_scheduler, n_epochs)"
      ],
      "execution_count": 12,
      "outputs": [
        {
          "output_type": "stream",
          "name": "stdout",
          "text": [
            "Epoch 1, Batch 20 loss: 2.2558188498020173\n",
            "Epoch 1, Batch 40 loss: 1.7127627015113831\n",
            "Epoch 1, Batch 60 loss: 1.5462031632661819\n",
            "Epoch 1, Batch 80 loss: 1.2804776608943940\n",
            "Epoch 1, Batch 100 loss: 1.0939416497945786\n",
            "Epoch 1, Batch 120 loss: 0.8015389993786812\n",
            "Epoch 2, Batch 20 loss: 0.7979068309068680\n",
            "Epoch 2, Batch 40 loss: 0.6836221210658551\n",
            "Epoch 2, Batch 60 loss: 0.6591203391551972\n",
            "Epoch 2, Batch 80 loss: 0.5482798032462597\n",
            "Epoch 2, Batch 100 loss: 0.5846048619598150\n",
            "Epoch 2, Batch 120 loss: 0.4642918899655342\n",
            "Epoch 3, Batch 20 loss: 0.5033218756318092\n",
            "Epoch 3, Batch 40 loss: 0.4109968826174736\n",
            "Epoch 3, Batch 60 loss: 0.3043638285249471\n",
            "Epoch 3, Batch 80 loss: 0.3830842312425375\n",
            "Epoch 3, Batch 100 loss: 0.2817552248016000\n",
            "Epoch 3, Batch 120 loss: 0.4026389982551336\n",
            "Epoch 4, Batch 20 loss: 0.3215474680066109\n",
            "Epoch 4, Batch 40 loss: 0.2948027759790420\n",
            "Epoch 4, Batch 60 loss: 0.3050298474729061\n",
            "Epoch 4, Batch 80 loss: 0.2099021084606648\n",
            "Epoch 4, Batch 100 loss: 0.2094363061711192\n",
            "Epoch 4, Batch 120 loss: 0.2268971844576299\n",
            "Epoch 5, Batch 20 loss: 0.1452646519988775\n",
            "Epoch 5, Batch 40 loss: 0.2072126582264900\n",
            "Epoch 5, Batch 60 loss: 0.2093744868412614\n",
            "Epoch 5, Batch 80 loss: 0.1714504342526197\n",
            "Epoch 5, Batch 100 loss: 0.1118562278803438\n",
            "Epoch 5, Batch 120 loss: 0.1788393523544073\n",
            "Epoch 6, Batch 20 loss: 0.1643041735514998\n",
            "Epoch 6, Batch 40 loss: 0.1267615051008761\n",
            "Epoch 6, Batch 60 loss: 0.0949547426775098\n",
            "Epoch 6, Batch 80 loss: 0.1427548874635249\n",
            "Epoch 6, Batch 100 loss: 0.0855297097004950\n",
            "Epoch 6, Batch 120 loss: 0.1132059067487717\n",
            "Epoch 7, Batch 20 loss: 0.0788905057590455\n",
            "Epoch 7, Batch 40 loss: 0.0991145173553377\n",
            "Epoch 7, Batch 60 loss: 0.1087895527482033\n",
            "Epoch 7, Batch 80 loss: 0.0545723783317953\n",
            "Epoch 7, Batch 100 loss: 0.0784334694268182\n",
            "Epoch 7, Batch 120 loss: 0.1035901698982343\n",
            "Epoch 8, Batch 20 loss: 0.0821503243874759\n",
            "Epoch 8, Batch 40 loss: 0.0630018646596000\n",
            "Epoch 8, Batch 60 loss: 0.0784687776817009\n",
            "Epoch 8, Batch 80 loss: 0.1024963477626443\n",
            "Epoch 8, Batch 100 loss: 0.0730297446716577\n",
            "Epoch 8, Batch 120 loss: 0.1005949664511718\n",
            "Epoch 9, Batch 20 loss: 0.0751459413557313\n",
            "Epoch 9, Batch 40 loss: 0.0419819433707744\n",
            "Epoch 9, Batch 60 loss: 0.0327547931519803\n",
            "Epoch 9, Batch 80 loss: 0.0636056945077144\n",
            "Epoch 9, Batch 100 loss: 0.0922612380702049\n",
            "Epoch 9, Batch 120 loss: 0.0899029685417190\n",
            "Epoch 10, Batch 20 loss: 0.0883348641917110\n",
            "Epoch 10, Batch 40 loss: 0.0859412485500798\n",
            "Epoch 10, Batch 60 loss: 0.0490051812026650\n",
            "Epoch 10, Batch 80 loss: 0.1014459826983511\n",
            "Epoch 10, Batch 100 loss: 0.0657061137957498\n",
            "Epoch 10, Batch 120 loss: 0.0781369572505355\n",
            "Epoch 11, Batch 20 loss: 0.0590036195935681\n",
            "Epoch 11, Batch 40 loss: 0.0862137355143204\n",
            "Epoch 11, Batch 60 loss: 0.0296026835450903\n",
            "Epoch 11, Batch 80 loss: 0.0391872837673873\n",
            "Epoch 11, Batch 100 loss: 0.0424013911164366\n",
            "Epoch 11, Batch 120 loss: 0.0761950135463849\n",
            "Epoch 12, Batch 20 loss: 0.0185666496399790\n",
            "Epoch 12, Batch 40 loss: 0.0254531762562692\n",
            "Epoch 12, Batch 60 loss: 0.0296732841234189\n",
            "Epoch 12, Batch 80 loss: 0.0602464862167835\n",
            "Epoch 12, Batch 100 loss: 0.0724097943108063\n",
            "Epoch 12, Batch 120 loss: 0.0533826790750027\n",
            "Epoch 13, Batch 20 loss: 0.0506061230553314\n",
            "Epoch 13, Batch 40 loss: 0.0227723586780485\n",
            "Epoch 13, Batch 60 loss: 0.0410128657938913\n",
            "Epoch 13, Batch 80 loss: 0.0588773175462848\n",
            "Epoch 13, Batch 100 loss: 0.0423023112874944\n",
            "Epoch 13, Batch 120 loss: 0.0290431281493511\n",
            "Epoch 14, Batch 20 loss: 0.0176588442176580\n",
            "Epoch 14, Batch 40 loss: 0.0409081205987604\n",
            "Epoch 14, Batch 60 loss: 0.0249405862763524\n",
            "Epoch 14, Batch 80 loss: 0.0328946527821245\n",
            "Epoch 14, Batch 100 loss: 0.0236771180410869\n",
            "Epoch 14, Batch 120 loss: 0.0251350929291220\n",
            "Epoch 15, Batch 20 loss: 0.0385156364005525\n",
            "Epoch 15, Batch 40 loss: 0.0315245007514022\n",
            "Epoch 15, Batch 60 loss: 0.0279935748199932\n",
            "Epoch 15, Batch 80 loss: 0.0365596270014066\n",
            "Epoch 15, Batch 100 loss: 0.0379723144753370\n",
            "Epoch 15, Batch 120 loss: 0.0195155209803488\n",
            "Epoch 16, Batch 20 loss: 0.0177727372618392\n",
            "Epoch 16, Batch 40 loss: 0.0137668096096604\n",
            "Epoch 16, Batch 60 loss: 0.0097101374529302\n",
            "Epoch 16, Batch 80 loss: 0.0187665234436281\n",
            "Epoch 16, Batch 100 loss: 0.0123742537049111\n",
            "Epoch 16, Batch 120 loss: 0.0200469993695151\n",
            "Epoch 17, Batch 20 loss: 0.0343016375845764\n",
            "Epoch 17, Batch 40 loss: 0.0223795637954026\n",
            "Epoch 17, Batch 60 loss: 0.0169829976395704\n",
            "Epoch 17, Batch 80 loss: 0.0213244247948751\n",
            "Epoch 17, Batch 100 loss: 0.0288697011274053\n",
            "Epoch 17, Batch 120 loss: 0.0173312934290152\n",
            "Epoch 18, Batch 20 loss: 0.0282944945676718\n",
            "Epoch 18, Batch 40 loss: 0.0223279626254225\n",
            "Epoch 18, Batch 60 loss: 0.0109465203626314\n",
            "Epoch 18, Batch 80 loss: 0.0132310726679862\n",
            "Epoch 18, Batch 100 loss: 0.0116995182441315\n",
            "Epoch 18, Batch 120 loss: 0.0074230853701010\n",
            "Epoch 19, Batch 20 loss: 0.0191672418586677\n",
            "Epoch 19, Batch 40 loss: 0.0198671907593962\n",
            "Epoch 19, Batch 60 loss: 0.0280796615639701\n",
            "Epoch 19, Batch 80 loss: 0.0105305715551367\n",
            "Epoch 19, Batch 100 loss: 0.0241351905162446\n",
            "Epoch 19, Batch 120 loss: 0.0141429179115221\n",
            "Epoch 20, Batch 20 loss: 0.0285664723400259\n",
            "Epoch 20, Batch 40 loss: 0.0261448416393250\n",
            "Epoch 20, Batch 60 loss: 0.0099027485761326\n",
            "Epoch 20, Batch 80 loss: 0.0237103031671722\n",
            "Epoch 20, Batch 100 loss: 0.0152333978796378\n",
            "Epoch 20, Batch 120 loss: 0.0141519080993021\n",
            "Epoch 21, Batch 20 loss: 0.0064013016002718\n",
            "Epoch 21, Batch 40 loss: 0.0171547987702070\n",
            "Epoch 21, Batch 60 loss: 0.0169281310430961\n",
            "Epoch 21, Batch 80 loss: 0.0174707552883774\n",
            "Epoch 21, Batch 100 loss: 0.0133609558601165\n",
            "Epoch 21, Batch 120 loss: 0.0048360630637035\n",
            "Epoch 22, Batch 20 loss: 0.0073550862274715\n",
            "Epoch 22, Batch 40 loss: 0.0050296026776778\n",
            "Epoch 22, Batch 60 loss: 0.0401561890816083\n",
            "Epoch 22, Batch 80 loss: 0.0039432691613911\n",
            "Epoch 22, Batch 100 loss: 0.0174575106182601\n",
            "Epoch 22, Batch 120 loss: 0.0046299623354571\n",
            "Epoch 23, Batch 20 loss: 0.0061448916967493\n",
            "Epoch 23, Batch 40 loss: 0.0137648869247641\n",
            "Epoch 23, Batch 60 loss: 0.0038139426847920\n",
            "Epoch 23, Batch 80 loss: 0.0048370681615779\n",
            "Epoch 23, Batch 100 loss: 0.0090315680543426\n",
            "Epoch 23, Batch 120 loss: 0.0151995806547347\n",
            "Epoch 24, Batch 20 loss: 0.0095801299932646\n",
            "Epoch 24, Batch 40 loss: 0.0306360140893958\n",
            "Epoch 24, Batch 60 loss: 0.0041410159203224\n",
            "Epoch 24, Batch 80 loss: 0.0061672757379711\n",
            "Epoch 24, Batch 100 loss: 0.0066030108253472\n",
            "Epoch 24, Batch 120 loss: 0.0223819579754490\n",
            "Epoch 25, Batch 20 loss: 0.0176973509078380\n",
            "Epoch 25, Batch 40 loss: 0.0049088811167167\n",
            "Epoch 25, Batch 60 loss: 0.0305499907582998\n",
            "Epoch 25, Batch 80 loss: 0.0054974062266410\n",
            "Epoch 25, Batch 100 loss: 0.0084767994805588\n",
            "Epoch 25, Batch 120 loss: 0.0072730717714876\n",
            "Epoch 26, Batch 20 loss: 0.0225182552079787\n",
            "Epoch 26, Batch 40 loss: 0.0108625434862915\n",
            "Epoch 26, Batch 60 loss: 0.0039031571533997\n",
            "Epoch 26, Batch 80 loss: 0.0102163883100729\n",
            "Epoch 26, Batch 100 loss: 0.0034816249244614\n",
            "Epoch 26, Batch 120 loss: 0.0022444200672908\n",
            "Epoch 27, Batch 20 loss: 0.0137751041707816\n",
            "Epoch 27, Batch 40 loss: 0.0239005522729713\n",
            "Epoch 27, Batch 60 loss: 0.0031584590993589\n",
            "Epoch 27, Batch 80 loss: 0.0027308599412208\n",
            "Epoch 27, Batch 100 loss: 0.0092995004903059\n",
            "Epoch 27, Batch 120 loss: 0.0050937195584993\n",
            "Epoch 28, Batch 20 loss: 0.0145292002154747\n",
            "Epoch 28, Batch 40 loss: 0.0042496139707509\n",
            "Epoch 28, Batch 60 loss: 0.0074152185989078\n",
            "Epoch 28, Batch 80 loss: 0.0036996642767917\n",
            "Epoch 28, Batch 100 loss: 0.0106424802943366\n",
            "Epoch 28, Batch 120 loss: 0.0023579657310620\n",
            "Epoch 29, Batch 20 loss: 0.0142267494200496\n",
            "Epoch 29, Batch 40 loss: 0.0108767273981357\n",
            "Epoch 29, Batch 60 loss: 0.0054333340041921\n",
            "Epoch 29, Batch 80 loss: 0.0040291821613209\n",
            "Epoch 29, Batch 100 loss: 0.0025908914758475\n",
            "Epoch 29, Batch 120 loss: 0.0076700287943822\n",
            "Epoch 30, Batch 20 loss: 0.0021951117043500\n",
            "Epoch 30, Batch 40 loss: 0.0054932898856350\n",
            "Epoch 30, Batch 60 loss: 0.0074883529843646\n",
            "Epoch 30, Batch 80 loss: 0.0041118934619590\n",
            "Epoch 30, Batch 100 loss: 0.0265545946283964\n",
            "Epoch 30, Batch 120 loss: 0.0075910531362751\n",
            "Epoch 31, Batch 20 loss: 0.0106441604933934\n",
            "Epoch 31, Batch 40 loss: 0.0098735871753888\n",
            "Epoch 31, Batch 60 loss: 0.0041912652784958\n",
            "Epoch 31, Batch 80 loss: 0.0084495700517436\n",
            "Epoch 31, Batch 100 loss: 0.0034333025672822\n",
            "Epoch 31, Batch 120 loss: 0.0036314602184575\n",
            "Epoch 32, Batch 20 loss: 0.0065798308598460\n",
            "Epoch 32, Batch 40 loss: 0.0075413057013066\n",
            "Epoch 32, Batch 60 loss: 0.0053181281284196\n",
            "Epoch 32, Batch 80 loss: 0.0032137138085091\n",
            "Epoch 32, Batch 100 loss: 0.0033300675655482\n",
            "Epoch 32, Batch 120 loss: 0.0134913707617670\n",
            "Epoch 33, Batch 20 loss: 0.0024103654490318\n",
            "Epoch 33, Batch 40 loss: 0.0091081997125002\n",
            "Epoch 33, Batch 60 loss: 0.0024695059342775\n",
            "Epoch 33, Batch 80 loss: 0.0075748689574539\n",
            "Epoch 33, Batch 100 loss: 0.0160844925849233\n",
            "Epoch 33, Batch 120 loss: 0.0200747821771074\n",
            "Epoch 34, Batch 20 loss: 0.0047680970630608\n",
            "Epoch 34, Batch 40 loss: 0.0151056117247208\n",
            "Epoch 34, Batch 60 loss: 0.0021808266821608\n",
            "Epoch 34, Batch 80 loss: 0.0051061548394500\n",
            "Epoch 34, Batch 100 loss: 0.0140094157068233\n",
            "Epoch 34, Batch 120 loss: 0.0030605230480433\n",
            "Epoch 35, Batch 20 loss: 0.0049896464057383\n",
            "Epoch 35, Batch 40 loss: 0.0296140100181219\n",
            "Epoch 35, Batch 60 loss: 0.0147931340936339\n",
            "Epoch 35, Batch 80 loss: 0.0036428711668123\n",
            "Epoch 35, Batch 100 loss: 0.0023989794222871\n",
            "Epoch 35, Batch 120 loss: 0.0020022728065669\n",
            "Epoch 36, Batch 20 loss: 0.0031646944975364\n",
            "Epoch 36, Batch 40 loss: 0.0141520837292774\n",
            "Epoch 36, Batch 60 loss: 0.0069919789093547\n",
            "Epoch 36, Batch 80 loss: 0.0035909555590479\n",
            "Epoch 36, Batch 100 loss: 0.0092550593471969\n",
            "Epoch 36, Batch 120 loss: 0.0024045659018157\n",
            "Epoch 37, Batch 20 loss: 0.0022856946387037\n",
            "Epoch 37, Batch 40 loss: 0.0075545047322521\n",
            "Epoch 37, Batch 60 loss: 0.0092359483576729\n",
            "Epoch 37, Batch 80 loss: 0.0035293702676427\n",
            "Epoch 37, Batch 100 loss: 0.0021719764830777\n",
            "Epoch 37, Batch 120 loss: 0.0101917303669325\n",
            "Epoch 38, Batch 20 loss: 0.0044158108619740\n",
            "Epoch 38, Batch 40 loss: 0.0099504636775237\n",
            "Epoch 38, Batch 60 loss: 0.0033115314305178\n",
            "Epoch 38, Batch 80 loss: 0.0031020529582747\n",
            "Epoch 38, Batch 100 loss: 0.0025333578654681\n",
            "Epoch 38, Batch 120 loss: 0.0034129836451029\n",
            "Epoch 39, Batch 20 loss: 0.0015022706706077\n",
            "Epoch 39, Batch 40 loss: 0.0079581884376239\n",
            "Epoch 39, Batch 60 loss: 0.0031345648996648\n",
            "Epoch 39, Batch 80 loss: 0.0100062162149698\n",
            "Epoch 39, Batch 100 loss: 0.0031197810050799\n",
            "Epoch 39, Batch 120 loss: 0.0026072973108967\n",
            "Epoch 40, Batch 20 loss: 0.0080539913309622\n",
            "Epoch 40, Batch 40 loss: 0.0046339286534931\n",
            "Epoch 40, Batch 60 loss: 0.0167636618629331\n",
            "Epoch 40, Batch 80 loss: 0.0034348753259110\n",
            "Epoch 40, Batch 100 loss: 0.0020174022443825\n",
            "Epoch 40, Batch 120 loss: 0.0040037095197476\n",
            "Epoch 41, Batch 20 loss: 0.0014693958000862\n",
            "Epoch 41, Batch 40 loss: 0.0027790930107585\n",
            "Epoch 41, Batch 60 loss: 0.0173943179252092\n",
            "Epoch 41, Batch 80 loss: 0.0017670996312518\n",
            "Epoch 41, Batch 100 loss: 0.0071403740526875\n",
            "Epoch 41, Batch 120 loss: 0.0036185146338539\n",
            "Epoch 42, Batch 20 loss: 0.0035703414599993\n",
            "Epoch 42, Batch 40 loss: 0.0077094921420212\n",
            "Epoch 42, Batch 60 loss: 0.0081636909424560\n",
            "Epoch 42, Batch 80 loss: 0.0047129295009654\n",
            "Epoch 42, Batch 100 loss: 0.0059950438415399\n",
            "Epoch 42, Batch 120 loss: 0.0045143342460506\n",
            "Epoch 43, Batch 20 loss: 0.0015143956137763\n",
            "Epoch 43, Batch 40 loss: 0.0212111810978968\n",
            "Epoch 43, Batch 60 loss: 0.0047255424316972\n",
            "Epoch 43, Batch 80 loss: 0.0036088276421651\n",
            "Epoch 43, Batch 100 loss: 0.0022259648347244\n",
            "Epoch 43, Batch 120 loss: 0.0021372369301389\n",
            "Epoch 44, Batch 20 loss: 0.0064978112641256\n",
            "Epoch 44, Batch 40 loss: 0.0031559349998133\n",
            "Epoch 44, Batch 60 loss: 0.0025202502409229\n",
            "Epoch 44, Batch 80 loss: 0.0090238503238652\n",
            "Epoch 44, Batch 100 loss: 0.0041357738708030\n",
            "Epoch 44, Batch 120 loss: 0.0169286355023360\n",
            "Epoch 45, Batch 20 loss: 0.0044581858630409\n",
            "Epoch 45, Batch 40 loss: 0.0021518715133425\n",
            "Epoch 45, Batch 60 loss: 0.0064517954371695\n",
            "Epoch 45, Batch 80 loss: 0.0026983103787643\n",
            "Epoch 45, Batch 100 loss: 0.0191281284438446\n",
            "Epoch 45, Batch 120 loss: 0.0073967286851257\n",
            "Epoch 46, Batch 20 loss: 0.0112904917055857\n",
            "Epoch 46, Batch 40 loss: 0.0052680567285279\n",
            "Epoch 46, Batch 60 loss: 0.0026768532727147\n",
            "Epoch 46, Batch 80 loss: 0.0015904858435533\n",
            "Epoch 46, Batch 100 loss: 0.0052935507832444\n",
            "Epoch 46, Batch 120 loss: 0.0043600055243587\n",
            "Epoch 47, Batch 20 loss: 0.0052525502309436\n",
            "Epoch 47, Batch 40 loss: 0.0030014396164916\n",
            "Epoch 47, Batch 60 loss: 0.0032975929374516\n",
            "Epoch 47, Batch 80 loss: 0.0045022596088529\n",
            "Epoch 47, Batch 100 loss: 0.0031334420164058\n",
            "Epoch 47, Batch 120 loss: 0.0024888714950066\n",
            "Epoch 48, Batch 20 loss: 0.0073013686400373\n",
            "Epoch 48, Batch 40 loss: 0.0038481557901832\n",
            "Epoch 48, Batch 60 loss: 0.0098561334598344\n",
            "Epoch 48, Batch 80 loss: 0.0017161628187750\n",
            "Epoch 48, Batch 100 loss: 0.0104430992636480\n",
            "Epoch 48, Batch 120 loss: 0.0027040690059948\n",
            "Epoch 49, Batch 20 loss: 0.0106415654852753\n",
            "Epoch 49, Batch 40 loss: 0.0034008894013823\n",
            "Epoch 49, Batch 60 loss: 0.0017015610617818\n",
            "Epoch 49, Batch 80 loss: 0.0014398886385607\n",
            "Epoch 49, Batch 100 loss: 0.0020402679248946\n",
            "Epoch 49, Batch 120 loss: 0.0168201586995565\n",
            "Epoch 50, Batch 20 loss: 0.0090887569851475\n",
            "Epoch 50, Batch 40 loss: 0.0032708605962398\n",
            "Epoch 50, Batch 60 loss: 0.0132712866063230\n",
            "Epoch 50, Batch 80 loss: 0.0056351291379542\n",
            "Epoch 50, Batch 100 loss: 0.0089767854922684\n",
            "Epoch 50, Batch 120 loss: 0.0008896845705749\n"
          ]
        }
      ]
    },
    {
      "cell_type": "code",
      "metadata": {
        "colab": {
          "base_uri": "https://localhost:8080/",
          "height": 281
        },
        "id": "CfA7ZjLR1BZP",
        "outputId": "7e17c73a-9e29-45cf-c2b8-6188556d33c7"
      },
      "source": [
        "plt.plot(train_losses)\n",
        "plt.title(\"Training Loss\")\n",
        "plt.show()"
      ],
      "execution_count": 13,
      "outputs": [
        {
          "output_type": "display_data",
          "data": {
            "image/png": "[encoded data removed]",
            "text/plain": [
              "<Figure size 432x288 with 1 Axes>"
            ]
          },
          "metadata": {
            "needs_background": "light"
          }
        }
      ]
    },
    {
      "cell_type": "markdown",
      "metadata": {
        "id": "ItLyF9dQyJFL"
      },
      "source": [
        "Testing the model"
      ]
    },
    {
      "cell_type": "code",
      "metadata": {
        "id": "gGki98W3SoEW"
      },
      "source": [
        "from sklearn.metrics import precision_score, recall_score, f1_score, accuracy_score"
      ],
      "execution_count": 14,
      "outputs": []
    },
    {
      "cell_type": "code",
      "metadata": {
        "colab": {
          "base_uri": "https://localhost:8080/"
        },
        "id": "xNavYOynyE6d",
        "outputId": "37b40a0b-7381-450b-8d07-20aa275a8f96"
      },
      "source": [
        "# The test_model function is from model_testing python file\n",
        "test_loss, class_correct, class_total, labels, predictions = test_model(classes, inception_v3, test_loader, criterion)\n",
        "\n",
        "# Test accuracy for each hieroglyph\n",
        "for i in range(len(classes)):\n",
        "    if class_total[i] > 0:\n",
        "        print('Test Accuracy of %5s: %2d%% (%2d/%2d)' % (classes[i], 100 * class_correct[i] / class_total[i], np.sum(class_correct[i]), np.sum(class_total[i])))\n",
        "    else:\n",
        "        print('Test Accuracy of %5s: N/A (no training examples)' % (classes[i]))\n",
        "\n",
        "# Total Test accuracy\n",
        "print(\"\\nAccuracy: {:.3%}\".format(accuracy_score(labels, predictions)/100))\n",
        "print(\"\\nPrecision: {:.3%}\".format(precision_score(labels, predictions, average = 'weighted')/100))\n",
        "print(\"\\nRecall: {:.3%}\".format(recall_score(labels, predictions, average = 'weighted')/100))\n",
        "print(\"\\nF1-score: {:.3%}\".format(f1_score(labels, predictions, average = 'weighted')/100))"
      ],
      "execution_count": 15,
      "outputs": [
        {
          "output_type": "stream",
          "name": "stdout",
          "text": [
            "Test Loss: 0.016379\n",
            "\n",
            "Test Accuracy of    D2: 100% ( 5/ 5)\n",
            "Test Accuracy of   D21: 97% (35/36)\n",
            "Test Accuracy of   D36: 100% (12/12)\n",
            "Test Accuracy of    D4: 100% ( 8/ 8)\n",
            "Test Accuracy of   D46: 100% (11/11)\n",
            "Test Accuracy of   D58: 100% ( 8/ 8)\n",
            "Test Accuracy of   E23: 50% ( 1/ 2)\n",
            "Test Accuracy of   E34: 100% (25/25)\n",
            "Test Accuracy of   F31: 100% ( 2/ 2)\n",
            "Test Accuracy of   F35: 100% ( 1/ 1)\n",
            "Test Accuracy of    G1: 100% ( 7/ 7)\n",
            "Test Accuracy of   G17: 97% (38/39)\n",
            "Test Accuracy of   G43: 100% (40/40)\n",
            "Test Accuracy of   I10: 100% ( 9/ 9)\n",
            "Test Accuracy of    I9: 100% (30/30)\n",
            "Test Accuracy of   M17: 98% (72/73)\n",
            "Test Accuracy of   M23: 100% ( 8/ 8)\n",
            "Test Accuracy of   N35: 100% (90/90)\n",
            "Test Accuracy of    O1: 100% ( 4/ 4)\n",
            "Test Accuracy of   O34: 100% ( 4/ 4)\n",
            "Test Accuracy of    O4: 100% ( 3/ 3)\n",
            "Test Accuracy of   O49: 100% ( 3/ 3)\n",
            "Test Accuracy of    Q1: 100% ( 4/ 4)\n",
            "Test Accuracy of    Q3: 100% (16/16)\n",
            "Test Accuracy of    R4: 100% ( 1/ 1)\n",
            "Test Accuracy of    R8: 100% (14/14)\n",
            "Test Accuracy of   S29: 100% (53/53)\n",
            "Test Accuracy of   S34: 100% ( 2/ 2)\n",
            "Test Accuracy of    U7: 100% ( 1/ 1)\n",
            "Test Accuracy of   V13: 100% (16/16)\n",
            "Test Accuracy of   V28: 100% ( 8/ 8)\n",
            "Test Accuracy of   V30: 100% ( 2/ 2)\n",
            "Test Accuracy of   V31: 100% (27/27)\n",
            "Test Accuracy of   W11: 100% ( 1/ 1)\n",
            "Test Accuracy of   W24: 100% ( 8/ 8)\n",
            "Test Accuracy of    X1: 100% (47/47)\n",
            "Test Accuracy of    X8: 100% ( 1/ 1)\n",
            "Test Accuracy of    Y1: 100% ( 1/ 1)\n",
            "Test Accuracy of    Y5: 100% ( 2/ 2)\n",
            "Test Accuracy of    Z1: 100% (10/10)\n",
            "\n",
            "Accuracy: 0.994%\n",
            "\n",
            "Precision: 0.994%\n",
            "\n",
            "Recall: 0.994%\n",
            "\n",
            "F1-score: 0.993%\n"
          ]
        }
      ]
    }
  ]
}