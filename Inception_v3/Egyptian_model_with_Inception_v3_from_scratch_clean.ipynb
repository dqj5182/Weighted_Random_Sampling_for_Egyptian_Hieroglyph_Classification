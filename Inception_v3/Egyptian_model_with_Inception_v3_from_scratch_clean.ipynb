{
  "nbformat": 4,
  "nbformat_minor": 0,
  "metadata": {
    "colab": {
      "name": "Egyptian_model_with_Inception_v3_from_scratch_clean.ipynb",
      "provenance": []
    },
    "kernelspec": {
      "name": "python3",
      "display_name": "Python 3"
    },
    "language_info": {
      "name": "python"
    },
    "accelerator": "GPU"
  },
  "cells": [
    {
      "cell_type": "code",
      "metadata": {
        "id": "8iEiGSblxJzW"
      },
      "source": [
        "import os, os.path\n",
        "import torch\n",
        "import numpy as np\n",
        "import torch.nn as nn\n",
        "import torch.optim as optim\n",
        "from pathlib import Path\n",
        "from torchvision import datasets, models, transforms\n",
        "\n",
        "# check if CUDA is available\n",
        "train_on_gpu = torch.cuda.is_available()"
      ],
      "execution_count": 1,
      "outputs": []
    },
    {
      "cell_type": "markdown",
      "metadata": {
        "id": "Jd6KU8VMz6J3"
      },
      "source": [
        "Module: Load_data"
      ]
    },
    {
      "cell_type": "code",
      "metadata": {
        "id": "8lWX0BW_w_kC"
      },
      "source": [
        "def load_data(hieroglyph_directory_path, batch_size=20, num_workers=0):\n",
        "    train_dir = os.path.join(hieroglyph_directory_path, 'train/')\n",
        "    test_dir = os.path.join(hieroglyph_directory_path, 'test/')\n",
        "\n",
        "    classes = []\n",
        "\n",
        "    for filename in os.listdir(train_dir):\n",
        "        if filename == '.DS_Store':\n",
        "            pass\n",
        "        else:\n",
        "            classes.append(filename)\n",
        "\n",
        "    classes.sort()\n",
        "\n",
        "    # print(\"Our classes:\", classes)\n",
        "    # print(len(classes))\n",
        "\n",
        "    data_transform = transforms.Compose([transforms.ToTensor(),\n",
        "                                         transforms.RandomApply([transforms.RandomHorizontalFlip()]),\n",
        "                                         transforms.RandomRotation(degrees=(-10, 10)),\n",
        "                                         transforms.RandomAffine(degrees=0, translate=(.1, .1)),\n",
        "                                         transforms.RandomApply([transforms.ColorJitter(brightness=(1, 1.2),\n",
        "                                                                                        contrast=(1, 1.5),\n",
        "                                                                                        saturation=(1, 1.5),\n",
        "                                                                                        hue=(0, 0.5))]),\n",
        "                                         transforms.RandomErasing(p=0.5, scale=(0.05, 0.05), ratio=(0.3, 3.3), value=0,\n",
        "                                                                  inplace=False),\n",
        "                                         transforms.Resize((299, 299)),\n",
        "                                         transforms.Normalize((0.5,), (0.5,))])\n",
        "\n",
        "    train_data = datasets.ImageFolder(train_dir, transform=data_transform)\n",
        "    test_data = datasets.ImageFolder(test_dir, transform=data_transform)\n",
        "\n",
        "    # print('Num training images: ', len(train_data))\n",
        "    # print('Num test images: ', len(test_data))\n",
        "\n",
        "    # prepare data loaders\n",
        "    train_loader = torch.utils.data.DataLoader(train_data, batch_size=batch_size,\n",
        "                                               num_workers=num_workers, shuffle=True)\n",
        "    test_loader = torch.utils.data.DataLoader(test_data, batch_size=batch_size,\n",
        "                                              num_workers=num_workers, shuffle=True)\n",
        "\n",
        "    return train_loader, test_loader, classes"
      ],
      "execution_count": 2,
      "outputs": []
    },
    {
      "cell_type": "markdown",
      "metadata": {
        "id": "K4sXUrPPz7iF"
      },
      "source": [
        "Module: Train_model"
      ]
    },
    {
      "cell_type": "code",
      "metadata": {
        "id": "N2N_rnKLxN5c"
      },
      "source": [
        "def train_model(train_loader, optimizer, conv_net_model, criterion, my_lr_scheduler, n_epochs):\n",
        "    # track training loss over time\n",
        "    losses = []\n",
        "    \n",
        "    for epoch in range(1, n_epochs + 1):\n",
        "\n",
        "        # keep track of training and validation loss\n",
        "        train_loss = 0.0\n",
        "\n",
        "        # model by default is set to train\n",
        "        for batch_i, (data, target) in enumerate(train_loader):\n",
        "            # move tensors to GPU if CUDA is available\n",
        "            if train_on_gpu:\n",
        "                data, target = data.cuda(), target.cuda()\n",
        "            # clear the gradients of all optimized variables\n",
        "            optimizer.zero_grad()\n",
        "            # forward pass: compute predicted outputs by passing inputs to the model\n",
        "            output = conv_net_model(data)\n",
        "            # calculate the batch loss\n",
        "            loss = criterion(output.logits, target)\n",
        "            # backward pass: compute gradient of the loss with respect to model parameters\n",
        "            loss.backward()\n",
        "            # perform a single optimization step (parameter update)\n",
        "            optimizer.step()\n",
        "            # update training loss\n",
        "            train_loss += loss.item()\n",
        "\n",
        "            my_lr_scheduler.step()\n",
        "\n",
        "            if batch_i % 20 == 19:  # print training loss every specified number of mini-batches\n",
        "                print('Epoch %d, Batch %d loss: %.16f' %\n",
        "                    (epoch, batch_i + 1, train_loss / 20))\n",
        "                losses.append(train_loss / 20)\n",
        "                train_loss = 0.0\n",
        "\n",
        "    return conv_net_model, losses"
      ],
      "execution_count": 3,
      "outputs": []
    },
    {
      "cell_type": "markdown",
      "metadata": {
        "id": "-Rrxo5RDz96U"
      },
      "source": [
        "Module: Test_model"
      ]
    },
    {
      "cell_type": "code",
      "metadata": {
        "id": "Ay-HlMJnxU9v"
      },
      "source": [
        "def test_model(classes, conv_net_model, test_loader, criterion):\n",
        "    # track test loss\n",
        "    test_loss = 0.0\n",
        "    class_correct = list(0. for i in range(len(classes)))\n",
        "    class_total = list(0. for i in range(len(classes)))\n",
        "\n",
        "    conv_net_model.eval()  # eval mode\n",
        "\n",
        "    labels = []\n",
        "    predictions = []\n",
        "    # iterate over test data\n",
        "    for data, target in test_loader:\n",
        "        # move tensors to GPU if CUDA is available\n",
        "        if train_on_gpu:\n",
        "            data, target = data.cuda(), target.cuda()\n",
        "        # forward pass: compute predicted outputs by passing inputs to the model\n",
        "        output = conv_net_model(data)\n",
        "        # calculate the batch loss\n",
        "        loss = criterion(output, target)\n",
        "        # update  test loss\n",
        "        test_loss += loss.item() * data.size(0)\n",
        "        # convert output probabilities to predicted class\n",
        "        _, pred = torch.max(output, 1)\n",
        "        # compare predictions to true label\n",
        "        correct_tensor = pred.eq(target.data.view_as(pred))\n",
        "        correct = np.squeeze(correct_tensor.numpy()) if not train_on_gpu else np.squeeze(correct_tensor.cpu().numpy())\n",
        "        # calculate test accuracy for each object class\n",
        "        for i in range(len(target.data)):\n",
        "            label = target.data[i]\n",
        "            class_correct[label] += correct[i].item()\n",
        "            class_total[label] += 1\n",
        "        \n",
        "        # Will be used for calculating Recall, Precision, and F1-score\n",
        "        labels.extend(target.data.view_as(pred).tolist())\n",
        "        predictions.extend(pred.tolist())\n",
        "\n",
        "\n",
        "    # calculate avg test loss\n",
        "    test_loss = test_loss / len(test_loader.dataset)\n",
        "    print('Test Loss: {:.6f}\\n'.format(test_loss))\n",
        "\n",
        "    return test_loss, class_correct, class_total, labels, predictions"
      ],
      "execution_count": 4,
      "outputs": []
    },
    {
      "cell_type": "markdown",
      "metadata": {
        "id": "xHh3PXE80Asa"
      },
      "source": [
        "Check whether CUDA is available (Change runtime type if not)"
      ]
    },
    {
      "cell_type": "code",
      "metadata": {
        "colab": {
          "base_uri": "https://localhost:8080/"
        },
        "id": "Q9TYPQH7x4zw",
        "outputId": "65c01cdc-38d3-4b52-eef4-c2045337d628"
      },
      "source": [
        "if not train_on_gpu:\n",
        "    print('CUDA is not available.  Training on CPU ...')\n",
        "else:\n",
        "    print('CUDA is available!  Training on GPU ...')"
      ],
      "execution_count": 5,
      "outputs": [
        {
          "output_type": "stream",
          "name": "stdout",
          "text": [
            "CUDA is available!  Training on GPU ...\n"
          ]
        }
      ]
    },
    {
      "cell_type": "markdown",
      "metadata": {
        "id": "6lYw8EKVx8Q7"
      },
      "source": [
        "Load Hieroglyph Data"
      ]
    },
    {
      "cell_type": "code",
      "metadata": {
        "colab": {
          "base_uri": "https://localhost:8080/"
        },
        "id": "laLvoRy1yewl",
        "outputId": "ad1896ec-f1bd-4046-e2ac-3cae9aa5b987"
      },
      "source": [
        "# Connecting and Mounting to the Google Drive\n",
        "from google.colab import drive\n",
        "drive.mount('/content/drive')"
      ],
      "execution_count": 6,
      "outputs": [
        {
          "output_type": "stream",
          "name": "stdout",
          "text": [
            "Drive already mounted at /content/drive; to attempt to forcibly remount, call drive.mount(\"/content/drive\", force_remount=True).\n"
          ]
        }
      ]
    },
    {
      "cell_type": "code",
      "metadata": {
        "id": "odaoZt9GyfUt"
      },
      "source": [
        "data_dir = '/content/drive/MyDrive/EgyptianHieroglyphDataset_Original_Clean/'"
      ],
      "execution_count": 7,
      "outputs": []
    },
    {
      "cell_type": "code",
      "metadata": {
        "colab": {
          "base_uri": "https://localhost:8080/"
        },
        "id": "dF22MAnmyiC1",
        "outputId": "ea56c926-66bd-4931-c991-669c69d2e52a"
      },
      "source": [
        "hieroglyph_for_train = []\n",
        "file_count_list = []\n",
        "\n",
        "for name in os.listdir('/content/drive/MyDrive/EgyptianHieroglyphDataset_Original_Clean/train/'):\n",
        "  path, dirs, files = next(os.walk(\"/content/drive/MyDrive/EgyptianHieroglyphDataset_Original_Clean/train/\"+name))\n",
        "  file_count = len(files)\n",
        "  print(name, file_count)\n",
        "  file_count_list.append(file_count)\n",
        "  hieroglyph_for_train.append(name)\n",
        "\n",
        "hieroglyph_dict = dict(zip(hieroglyph_for_train, file_count_list))"
      ],
      "execution_count": 8,
      "outputs": [
        {
          "output_type": "stream",
          "name": "stdout",
          "text": [
            "W11 4\n",
            "Y5 6\n",
            "I9 116\n",
            "O34 15\n",
            "V13 63\n",
            "U7 3\n",
            "D46 40\n",
            "E34 97\n",
            "G1 28\n",
            "V31 106\n",
            "S34 8\n",
            "D36 47\n",
            "Q1 13\n",
            "V30 6\n",
            "F35 2\n",
            "O4 11\n",
            "M23 30\n",
            "S29 212\n",
            "R8 53\n",
            "X1 185\n",
            "Y1 1\n",
            "D21 146\n",
            "D2 19\n",
            "E23 8\n",
            "X8 4\n",
            "Z1 39\n",
            "D4 29\n",
            "V28 28\n",
            "I10 32\n",
            "O1 16\n",
            "M17 291\n",
            "F31 6\n",
            "G43 157\n",
            "D58 28\n",
            "O49 10\n",
            "G17 156\n",
            "R4 2\n",
            "Q3 61\n",
            "W24 31\n",
            "N35 358\n"
          ]
        }
      ]
    },
    {
      "cell_type": "markdown",
      "metadata": {
        "id": "XeQQ7PjZzKd9"
      },
      "source": [
        "Number of images for each hieroglyph "
      ]
    },
    {
      "cell_type": "code",
      "metadata": {
        "colab": {
          "base_uri": "https://localhost:8080/",
          "height": 609
        },
        "id": "W6IzWR2RyjxM",
        "outputId": "0196f5ab-d1ae-426b-a668-36cc815ad8c7"
      },
      "source": [
        "import matplotlib.pyplot as plt\n",
        "import pandas as pd\n",
        "\n",
        "df = pd.DataFrame({\"Hieroglyph\":hieroglyph_for_train, \"Count\":file_count_list})\n",
        "\n",
        "df_sorted= df.sort_values('Count',ascending=False)\n",
        "\n",
        "plt.figure(figsize=(20,10))\n",
        "# make bar plot with matplotlib\n",
        "plt.bar('Hieroglyph', 'Count',data=df_sorted)"
      ],
      "execution_count": 9,
      "outputs": [
        {
          "output_type": "execute_result",
          "data": {
            "text/plain": [
              "<BarContainer object of 40 artists>"
            ]
          },
          "metadata": {},
          "execution_count": 9
        },
        {
          "output_type": "display_data",
          "data": {
            "image/png": "[encoded data removed]",
            "text/plain": [
              "<Figure size 1440x720 with 1 Axes>"
            ]
          },
          "metadata": {
            "needs_background": "light"
          }
        }
      ]
    },
    {
      "cell_type": "code",
      "metadata": {
        "id": "-3oOm8rSx7tp"
      },
      "source": [
        "# Number of images processed in a single training\n",
        "batch_size = 20\n",
        "num_workers = 0\n",
        "\n",
        "# The load_data function is from hieroglyph_data_preparation python file\n",
        "train_loader, test_loader, classes = load_data(data_dir)"
      ],
      "execution_count": 10,
      "outputs": []
    },
    {
      "cell_type": "markdown",
      "metadata": {
        "id": "BJm8sGiBx_q5"
      },
      "source": [
        "ResNet Model"
      ]
    },
    {
      "cell_type": "code",
      "metadata": {
        "id": "JkLXVJGkxemC",
        "colab": {
          "base_uri": "https://localhost:8080/"
        },
        "outputId": "bc6d6ae5-e5e9-48ca-fe5f-e0e984280fdc"
      },
      "source": [
        "# Whether to extract features with the model\n",
        "feature_extract = False\n",
        "# Other selections\n",
        "loss_function = \"cross-entropy\"\n",
        "model_selection = \"inception-v3\"\n",
        "optim_selection = \"Adam\"\n",
        "\n",
        "# False if you want scratch model, True if you want pretrained model\n",
        "whether_to_pretrain = False\n",
        "\n",
        "# Load the model\n",
        "if model_selection == \"resnet-50\":\n",
        "    resnet50 = models.resnet50(pretrained=whether_to_pretrain)\n",
        "    # Number of features in the last layer of resnet\n",
        "    n_inputs = resnet50.fc.in_features\n",
        "    # Add last linear layer (n_inputs -> 40 hieroglyph classes)\n",
        "    last_layer = nn.Sequential(\n",
        "                    nn.Linear(n_inputs, len(classes)))\n",
        "    resnet50.fc = last_layer\n",
        "    if train_on_gpu:\n",
        "      resnet50.cuda()\n",
        "    # Specify optimizer (Adam) and learning rate = 0.001\n",
        "    if optim_selection == \"Adam\":\n",
        "        optimizer = optim.Adam(resnet50.parameters(), lr=0.001)\n",
        "\n",
        "elif model_selection == \"inception-v3\":\n",
        "    inception_v3 = models.inception_v3(pretrained=whether_to_pretrain)\n",
        "    # Number of features in the last layer of resnet\n",
        "    n_inputs = inception_v3.fc.in_features\n",
        "    # Add last linear layer (n_inputs -> 40 hieroglyph classes)\n",
        "    last_layer = nn.Sequential(\n",
        "                    nn.Linear(n_inputs, len(classes)))\n",
        "    inception_v3.fc = last_layer\n",
        "    if train_on_gpu:\n",
        "      inception_v3.cuda()\n",
        "    # Specify optimizer (Adam) and learning rate = 0.001\n",
        "    if optim_selection == \"Adam\":\n",
        "        optimizer = optim.Adam(inception_v3.parameters(), lr=0.001)\n",
        "\n",
        "\n",
        "# Specify loss function (categorical cross-entropy)\n",
        "if loss_function == \"cross-entropy\":\n",
        "    criterion = nn.CrossEntropyLoss()\n",
        "\n",
        "# Exponential Decay to strengthen learning\n",
        "decayRate = 0.999\n",
        "my_lr_scheduler = torch.optim.lr_scheduler.ExponentialLR(optimizer=optimizer, gamma=decayRate)"
      ],
      "execution_count": 11,
      "outputs": [
        {
          "output_type": "stream",
          "name": "stderr",
          "text": [
            "/usr/local/lib/python3.7/dist-packages/torchvision/models/inception.py:83: FutureWarning: The default weight initialization of inception_v3 will be changed in future releases of torchvision. If you wish to keep the old behavior (which leads to long initialization times due to scipy/scipy#11299), please set init_weights=True.\n",
            "  ' due to scipy/scipy#11299), please set init_weights=True.', FutureWarning)\n"
          ]
        }
      ]
    },
    {
      "cell_type": "markdown",
      "metadata": {
        "id": "U2vnErB1yHmM"
      },
      "source": [
        "Training the model"
      ]
    },
    {
      "cell_type": "code",
      "metadata": {
        "colab": {
          "base_uri": "https://localhost:8080/"
        },
        "id": "dOB03noWyEvQ",
        "outputId": "c9c71544-120f-4870-fcd7-be6387261da1"
      },
      "source": [
        "# number of epochs to train the model\n",
        "n_epochs = 50\n",
        "\n",
        "if model_selection == \"resnet-50\":\n",
        "  # The train_model function is from model_training python file\n",
        "  resnet50, train_losses = train_model(train_loader, optimizer, resnet50, criterion, my_lr_scheduler, n_epochs)\n",
        "elif model_selection == \"inception-v3\":\n",
        "  # The train_model function is from model_training python file\n",
        "  inception_v3, train_losses = train_model(train_loader, optimizer, inception_v3, criterion, my_lr_scheduler, n_epochs)"
      ],
      "execution_count": 12,
      "outputs": [
        {
          "output_type": "stream",
          "name": "stdout",
          "text": [
            "Epoch 1, Batch 20 loss: 3.3499971508979796\n",
            "Epoch 1, Batch 40 loss: 2.8580201268196106\n",
            "Epoch 1, Batch 60 loss: 2.4635213851928710\n",
            "Epoch 1, Batch 80 loss: 2.2440373063087464\n",
            "Epoch 1, Batch 100 loss: 2.0199793040752412\n",
            "Epoch 1, Batch 120 loss: 1.9148196816444396\n",
            "Epoch 2, Batch 20 loss: 1.6720816612243652\n",
            "Epoch 2, Batch 40 loss: 1.4267249435186387\n",
            "Epoch 2, Batch 60 loss: 1.4235769212245941\n",
            "Epoch 2, Batch 80 loss: 1.4072246342897414\n",
            "Epoch 2, Batch 100 loss: 1.3117017686367034\n",
            "Epoch 2, Batch 120 loss: 1.1647419244050981\n",
            "Epoch 3, Batch 20 loss: 1.1938307851552963\n",
            "Epoch 3, Batch 40 loss: 0.9546618133783340\n",
            "Epoch 3, Batch 60 loss: 0.9571488589048386\n",
            "Epoch 3, Batch 80 loss: 0.9174798756837845\n",
            "Epoch 3, Batch 100 loss: 0.9977341532707215\n",
            "Epoch 3, Batch 120 loss: 0.8617316886782647\n",
            "Epoch 4, Batch 20 loss: 0.6380244225263596\n",
            "Epoch 4, Batch 40 loss: 0.7151079997420311\n",
            "Epoch 4, Batch 60 loss: 0.7935828626155853\n",
            "Epoch 4, Batch 80 loss: 0.7134573474526406\n",
            "Epoch 4, Batch 100 loss: 0.5912117138504982\n",
            "Epoch 4, Batch 120 loss: 0.5679844468832016\n",
            "Epoch 5, Batch 20 loss: 0.5628545269370079\n",
            "Epoch 5, Batch 40 loss: 0.4910009451210499\n",
            "Epoch 5, Batch 60 loss: 0.5783941239118576\n",
            "Epoch 5, Batch 80 loss: 0.5400558046996593\n",
            "Epoch 5, Batch 100 loss: 0.4674035310745239\n",
            "Epoch 5, Batch 120 loss: 0.4472064338624477\n",
            "Epoch 6, Batch 20 loss: 0.3815355293452740\n",
            "Epoch 6, Batch 40 loss: 0.3588934198021889\n",
            "Epoch 6, Batch 60 loss: 0.4182910226285458\n",
            "Epoch 6, Batch 80 loss: 0.3019621744751930\n",
            "Epoch 6, Batch 100 loss: 0.3643398806452751\n",
            "Epoch 6, Batch 120 loss: 0.4022062443196773\n",
            "Epoch 7, Batch 20 loss: 0.4379289217293262\n",
            "Epoch 7, Batch 40 loss: 0.3713569723069668\n",
            "Epoch 7, Batch 60 loss: 0.3185537107288837\n",
            "Epoch 7, Batch 80 loss: 0.3035833120346069\n",
            "Epoch 7, Batch 100 loss: 0.2468218166381121\n",
            "Epoch 7, Batch 120 loss: 0.2848987521603704\n",
            "Epoch 8, Batch 20 loss: 0.2532249631360173\n",
            "Epoch 8, Batch 40 loss: 0.2973459322005511\n",
            "Epoch 8, Batch 60 loss: 0.2597130768001080\n",
            "Epoch 8, Batch 80 loss: 0.2270846329629421\n",
            "Epoch 8, Batch 100 loss: 0.2799776460975408\n",
            "Epoch 8, Batch 120 loss: 0.2604387799277902\n",
            "Epoch 9, Batch 20 loss: 0.2021396100521088\n",
            "Epoch 9, Batch 40 loss: 0.2604870967566967\n",
            "Epoch 9, Batch 60 loss: 0.1620172886177897\n",
            "Epoch 9, Batch 80 loss: 0.2447153121232986\n",
            "Epoch 9, Batch 100 loss: 0.1807194601744413\n",
            "Epoch 9, Batch 120 loss: 0.2227702571079135\n",
            "Epoch 10, Batch 20 loss: 0.2380097523331642\n",
            "Epoch 10, Batch 40 loss: 0.2053372161462903\n",
            "Epoch 10, Batch 60 loss: 0.2561510252766311\n",
            "Epoch 10, Batch 80 loss: 0.2007934879511595\n",
            "Epoch 10, Batch 100 loss: 0.1937964041717350\n",
            "Epoch 10, Batch 120 loss: 0.1053093967959285\n",
            "Epoch 11, Batch 20 loss: 0.1276822662446648\n",
            "Epoch 11, Batch 40 loss: 0.1402444382198155\n",
            "Epoch 11, Batch 60 loss: 0.1212159259244800\n",
            "Epoch 11, Batch 80 loss: 0.1801070149987936\n",
            "Epoch 11, Batch 100 loss: 0.1703010946512222\n",
            "Epoch 11, Batch 120 loss: 0.1261172465048730\n",
            "Epoch 12, Batch 20 loss: 0.1887330869212747\n",
            "Epoch 12, Batch 40 loss: 0.1023900933563709\n",
            "Epoch 12, Batch 60 loss: 0.1682152053806931\n",
            "Epoch 12, Batch 80 loss: 0.0826846572570503\n",
            "Epoch 12, Batch 100 loss: 0.1237904876004905\n",
            "Epoch 12, Batch 120 loss: 0.1147247568471357\n",
            "Epoch 13, Batch 20 loss: 0.0873319704551250\n",
            "Epoch 13, Batch 40 loss: 0.1134022057056427\n",
            "Epoch 13, Batch 60 loss: 0.0964025494642556\n",
            "Epoch 13, Batch 80 loss: 0.0823075626976788\n",
            "Epoch 13, Batch 100 loss: 0.0801246932242066\n",
            "Epoch 13, Batch 120 loss: 0.0869217238388956\n",
            "Epoch 14, Batch 20 loss: 0.0655834017088637\n",
            "Epoch 14, Batch 40 loss: 0.0654157763812691\n",
            "Epoch 14, Batch 60 loss: 0.0753371968865395\n",
            "Epoch 14, Batch 80 loss: 0.1043596840929240\n",
            "Epoch 14, Batch 100 loss: 0.0628352294676006\n",
            "Epoch 14, Batch 120 loss: 0.0794623464113101\n",
            "Epoch 15, Batch 20 loss: 0.0852724189404398\n",
            "Epoch 15, Batch 40 loss: 0.0543223672546446\n",
            "Epoch 15, Batch 60 loss: 0.0621232418809086\n",
            "Epoch 15, Batch 80 loss: 0.0853306949604303\n",
            "Epoch 15, Batch 100 loss: 0.0797090763924643\n",
            "Epoch 15, Batch 120 loss: 0.0952146937604994\n",
            "Epoch 16, Batch 20 loss: 0.1006958766374737\n",
            "Epoch 16, Batch 40 loss: 0.0845333553384990\n",
            "Epoch 16, Batch 60 loss: 0.0813795911613852\n",
            "Epoch 16, Batch 80 loss: 0.0636590502224863\n",
            "Epoch 16, Batch 100 loss: 0.0784904003608972\n",
            "Epoch 16, Batch 120 loss: 0.0646058126119897\n",
            "Epoch 17, Batch 20 loss: 0.0576525448122993\n",
            "Epoch 17, Batch 40 loss: 0.0673706919886172\n",
            "Epoch 17, Batch 60 loss: 0.0619064067257568\n",
            "Epoch 17, Batch 80 loss: 0.0742715800879523\n",
            "Epoch 17, Batch 100 loss: 0.0631458757212386\n",
            "Epoch 17, Batch 120 loss: 0.0407860246370546\n",
            "Epoch 18, Batch 20 loss: 0.0682744499645196\n",
            "Epoch 18, Batch 40 loss: 0.0302822970319539\n",
            "Epoch 18, Batch 60 loss: 0.0389417781494558\n",
            "Epoch 18, Batch 80 loss: 0.0772670195437968\n",
            "Epoch 18, Batch 100 loss: 0.0358835084130988\n",
            "Epoch 18, Batch 120 loss: 0.0289760535233654\n",
            "Epoch 19, Batch 20 loss: 0.0548531730426475\n",
            "Epoch 19, Batch 40 loss: 0.0362049656105228\n",
            "Epoch 19, Batch 60 loss: 0.0659302413580008\n",
            "Epoch 19, Batch 80 loss: 0.0480674071121030\n",
            "Epoch 19, Batch 100 loss: 0.0358726761769503\n",
            "Epoch 19, Batch 120 loss: 0.0708380802068859\n",
            "Epoch 20, Batch 20 loss: 0.0640374920796603\n",
            "Epoch 20, Batch 40 loss: 0.0581509612035006\n",
            "Epoch 20, Batch 60 loss: 0.0273274333099835\n",
            "Epoch 20, Batch 80 loss: 0.0379500515060499\n",
            "Epoch 20, Batch 100 loss: 0.0485250977450050\n",
            "Epoch 20, Batch 120 loss: 0.0273880519904196\n",
            "Epoch 21, Batch 20 loss: 0.0524500702857040\n",
            "Epoch 21, Batch 40 loss: 0.0262844731914811\n",
            "Epoch 21, Batch 60 loss: 0.0338104421738535\n",
            "Epoch 21, Batch 80 loss: 0.0339416066301055\n",
            "Epoch 21, Batch 100 loss: 0.0375185311422683\n",
            "Epoch 21, Batch 120 loss: 0.0265325643005781\n",
            "Epoch 22, Batch 20 loss: 0.0275379272177815\n",
            "Epoch 22, Batch 40 loss: 0.0234019083552994\n",
            "Epoch 22, Batch 60 loss: 0.0561111423769034\n",
            "Epoch 22, Batch 80 loss: 0.0347396037075669\n",
            "Epoch 22, Batch 100 loss: 0.0360423366073519\n",
            "Epoch 22, Batch 120 loss: 0.0319190943497233\n",
            "Epoch 23, Batch 20 loss: 0.0254162038909271\n",
            "Epoch 23, Batch 40 loss: 0.0296682804182637\n",
            "Epoch 23, Batch 60 loss: 0.0175142095074989\n",
            "Epoch 23, Batch 80 loss: 0.0391852567438036\n",
            "Epoch 23, Batch 100 loss: 0.0271426054183394\n",
            "Epoch 23, Batch 120 loss: 0.0218403504084563\n",
            "Epoch 24, Batch 20 loss: 0.0448143177549355\n",
            "Epoch 24, Batch 40 loss: 0.0383582708833273\n",
            "Epoch 24, Batch 60 loss: 0.0318949922570027\n",
            "Epoch 24, Batch 80 loss: 0.0253298876807094\n",
            "Epoch 24, Batch 100 loss: 0.0348064521327615\n",
            "Epoch 24, Batch 120 loss: 0.0486340412870050\n",
            "Epoch 25, Batch 20 loss: 0.0383894901489839\n",
            "Epoch 25, Batch 40 loss: 0.0281809539999813\n",
            "Epoch 25, Batch 60 loss: 0.0267020480358042\n",
            "Epoch 25, Batch 80 loss: 0.0555557454819791\n",
            "Epoch 25, Batch 100 loss: 0.0292435621144250\n",
            "Epoch 25, Batch 120 loss: 0.0360547248157673\n",
            "Epoch 26, Batch 20 loss: 0.0386780813627411\n",
            "Epoch 26, Batch 40 loss: 0.0251048662350513\n",
            "Epoch 26, Batch 60 loss: 0.0354767982382327\n",
            "Epoch 26, Batch 80 loss: 0.0196167053363752\n",
            "Epoch 26, Batch 100 loss: 0.0209457502642181\n",
            "Epoch 26, Batch 120 loss: 0.0242243334534578\n",
            "Epoch 27, Batch 20 loss: 0.0134103438700549\n",
            "Epoch 27, Batch 40 loss: 0.0316422917065211\n",
            "Epoch 27, Batch 60 loss: 0.0247094343503704\n",
            "Epoch 27, Batch 80 loss: 0.0200228344241623\n",
            "Epoch 27, Batch 100 loss: 0.0551136451365892\n",
            "Epoch 27, Batch 120 loss: 0.0284199792891741\n",
            "Epoch 28, Batch 20 loss: 0.0254877374274656\n",
            "Epoch 28, Batch 40 loss: 0.0284643552149646\n",
            "Epoch 28, Batch 60 loss: 0.0301298526639584\n",
            "Epoch 28, Batch 80 loss: 0.0341219773807097\n",
            "Epoch 28, Batch 100 loss: 0.0346933822846040\n",
            "Epoch 28, Batch 120 loss: 0.0173414338612929\n",
            "Epoch 29, Batch 20 loss: 0.0163026795024052\n",
            "Epoch 29, Batch 40 loss: 0.0283971666067373\n",
            "Epoch 29, Batch 60 loss: 0.0238699991197791\n",
            "Epoch 29, Batch 80 loss: 0.0270466978370678\n",
            "Epoch 29, Batch 100 loss: 0.0126317154266872\n",
            "Epoch 29, Batch 120 loss: 0.0212059611541918\n",
            "Epoch 30, Batch 20 loss: 0.0167911506548990\n",
            "Epoch 30, Batch 40 loss: 0.0251187577378005\n",
            "Epoch 30, Batch 60 loss: 0.0270672689541243\n",
            "Epoch 30, Batch 80 loss: 0.0286427767830901\n",
            "Epoch 30, Batch 100 loss: 0.0283174105192302\n",
            "Epoch 30, Batch 120 loss: 0.0216515203297604\n",
            "Epoch 31, Batch 20 loss: 0.0279918198590167\n",
            "Epoch 31, Batch 40 loss: 0.0173820426629391\n",
            "Epoch 31, Batch 60 loss: 0.0278259910875931\n",
            "Epoch 31, Batch 80 loss: 0.0504744503414258\n",
            "Epoch 31, Batch 100 loss: 0.0149558870936744\n",
            "Epoch 31, Batch 120 loss: 0.0315126183326356\n",
            "Epoch 32, Batch 20 loss: 0.0218484264623839\n",
            "Epoch 32, Batch 40 loss: 0.0125263742113020\n",
            "Epoch 32, Batch 60 loss: 0.0179746215348132\n",
            "Epoch 32, Batch 80 loss: 0.0215734885889106\n",
            "Epoch 32, Batch 100 loss: 0.0176754914340563\n",
            "Epoch 32, Batch 120 loss: 0.0156266985984985\n",
            "Epoch 33, Batch 20 loss: 0.0305865104601253\n",
            "Epoch 33, Batch 40 loss: 0.0217271170171443\n",
            "Epoch 33, Batch 60 loss: 0.0238440551271196\n",
            "Epoch 33, Batch 80 loss: 0.0308003341546282\n",
            "Epoch 33, Batch 100 loss: 0.0269982845522463\n",
            "Epoch 33, Batch 120 loss: 0.0285230723151471\n",
            "Epoch 34, Batch 20 loss: 0.0195163248165045\n",
            "Epoch 34, Batch 40 loss: 0.0077554872434121\n",
            "Epoch 34, Batch 60 loss: 0.0302305544028059\n",
            "Epoch 34, Batch 80 loss: 0.0112781696021557\n",
            "Epoch 34, Batch 100 loss: 0.0118473262176849\n",
            "Epoch 34, Batch 120 loss: 0.0185912442801055\n",
            "Epoch 35, Batch 20 loss: 0.0168647362617776\n",
            "Epoch 35, Batch 40 loss: 0.0124800218211021\n",
            "Epoch 35, Batch 60 loss: 0.0181724089081399\n",
            "Epoch 35, Batch 80 loss: 0.0179216154618189\n",
            "Epoch 35, Batch 100 loss: 0.0410420198924839\n",
            "Epoch 35, Batch 120 loss: 0.0121154867869336\n",
            "Epoch 36, Batch 20 loss: 0.0217600734380540\n",
            "Epoch 36, Batch 40 loss: 0.0146052062395029\n",
            "Epoch 36, Batch 60 loss: 0.0176730681210756\n",
            "Epoch 36, Batch 80 loss: 0.0108888141839998\n",
            "Epoch 36, Batch 100 loss: 0.0153502580011263\n",
            "Epoch 36, Batch 120 loss: 0.0079794247518294\n",
            "Epoch 37, Batch 20 loss: 0.0135520277253818\n",
            "Epoch 37, Batch 40 loss: 0.0242054473201279\n",
            "Epoch 37, Batch 60 loss: 0.0488906435552053\n",
            "Epoch 37, Batch 80 loss: 0.0146254869410768\n",
            "Epoch 37, Batch 100 loss: 0.0220570839825086\n",
            "Epoch 37, Batch 120 loss: 0.0170187665527919\n",
            "Epoch 38, Batch 20 loss: 0.0105256613576785\n",
            "Epoch 38, Batch 40 loss: 0.0112610896176193\n",
            "Epoch 38, Batch 60 loss: 0.0201924539811444\n",
            "Epoch 38, Batch 80 loss: 0.0248179518617690\n",
            "Epoch 38, Batch 100 loss: 0.0066053342190571\n",
            "Epoch 38, Batch 120 loss: 0.0275216255337000\n",
            "Epoch 39, Batch 20 loss: 0.0103959536878392\n",
            "Epoch 39, Batch 40 loss: 0.0077258802310098\n",
            "Epoch 39, Batch 60 loss: 0.0196501332568005\n",
            "Epoch 39, Batch 80 loss: 0.0161003537417855\n",
            "Epoch 39, Batch 100 loss: 0.0130116212880239\n",
            "Epoch 39, Batch 120 loss: 0.0177924088959116\n",
            "Epoch 40, Batch 20 loss: 0.0122618437861092\n",
            "Epoch 40, Batch 40 loss: 0.0083934302849229\n",
            "Epoch 40, Batch 60 loss: 0.0226277829904575\n",
            "Epoch 40, Batch 80 loss: 0.0203550241596531\n",
            "Epoch 40, Batch 100 loss: 0.0224303386406973\n",
            "Epoch 40, Batch 120 loss: 0.0273500938084908\n",
            "Epoch 41, Batch 20 loss: 0.0113163596892264\n",
            "Epoch 41, Batch 40 loss: 0.0056450435979059\n",
            "Epoch 41, Batch 60 loss: 0.0071551125380211\n",
            "Epoch 41, Batch 80 loss: 0.0318970786291175\n",
            "Epoch 41, Batch 100 loss: 0.0252556638180977\n",
            "Epoch 41, Batch 120 loss: 0.0167868947042734\n",
            "Epoch 42, Batch 20 loss: 0.0060948830185225\n",
            "Epoch 42, Batch 40 loss: 0.0271599119354505\n",
            "Epoch 42, Batch 60 loss: 0.0112363807274960\n",
            "Epoch 42, Batch 80 loss: 0.0082697277917759\n",
            "Epoch 42, Batch 100 loss: 0.0229272186115850\n",
            "Epoch 42, Batch 120 loss: 0.0163472632470075\n",
            "Epoch 43, Batch 20 loss: 0.0264461322542047\n",
            "Epoch 43, Batch 40 loss: 0.0208203773479909\n",
            "Epoch 43, Batch 60 loss: 0.0139726487628650\n",
            "Epoch 43, Batch 80 loss: 0.0151132365863305\n",
            "Epoch 43, Batch 100 loss: 0.0112233500927687\n",
            "Epoch 43, Batch 120 loss: 0.0057594270067057\n",
            "Epoch 44, Batch 20 loss: 0.0179039589769673\n",
            "Epoch 44, Batch 40 loss: 0.0155157669389155\n",
            "Epoch 44, Batch 60 loss: 0.0180159562965855\n",
            "Epoch 44, Batch 80 loss: 0.0102761166868731\n",
            "Epoch 44, Batch 100 loss: 0.0082693090254907\n",
            "Epoch 44, Batch 120 loss: 0.0107180038292427\n",
            "Epoch 45, Batch 20 loss: 0.0132091804145603\n",
            "Epoch 45, Batch 40 loss: 0.0210161003982648\n",
            "Epoch 45, Batch 60 loss: 0.0136466107680462\n",
            "Epoch 45, Batch 80 loss: 0.0131589360593352\n",
            "Epoch 45, Batch 100 loss: 0.0241528651793487\n",
            "Epoch 45, Batch 120 loss: 0.0188386870082468\n",
            "Epoch 46, Batch 20 loss: 0.0267803835275117\n",
            "Epoch 46, Batch 40 loss: 0.0104730789753376\n",
            "Epoch 46, Batch 60 loss: 0.0234028416394722\n",
            "Epoch 46, Batch 80 loss: 0.0136275289813057\n",
            "Epoch 46, Batch 100 loss: 0.0176581834210083\n",
            "Epoch 46, Batch 120 loss: 0.0062441238202155\n",
            "Epoch 47, Batch 20 loss: 0.0092903592711082\n",
            "Epoch 47, Batch 40 loss: 0.0260282154020388\n",
            "Epoch 47, Batch 60 loss: 0.0116592465143185\n",
            "Epoch 47, Batch 80 loss: 0.0177223931765184\n",
            "Epoch 47, Batch 100 loss: 0.0122213253693189\n",
            "Epoch 47, Batch 120 loss: 0.0071971309953369\n",
            "Epoch 48, Batch 20 loss: 0.0103192579874303\n",
            "Epoch 48, Batch 40 loss: 0.0108025793306297\n",
            "Epoch 48, Batch 60 loss: 0.0110446306876838\n",
            "Epoch 48, Batch 80 loss: 0.0134952061867807\n",
            "Epoch 48, Batch 100 loss: 0.0210029631329235\n",
            "Epoch 48, Batch 120 loss: 0.0140261869993992\n",
            "Epoch 49, Batch 20 loss: 0.0144310017174575\n",
            "Epoch 49, Batch 40 loss: 0.0189185908820946\n",
            "Epoch 49, Batch 60 loss: 0.0179733255237807\n",
            "Epoch 49, Batch 80 loss: 0.0129564693517750\n",
            "Epoch 49, Batch 100 loss: 0.0159916345262900\n",
            "Epoch 49, Batch 120 loss: 0.0144414053793298\n",
            "Epoch 50, Batch 20 loss: 0.0139754351810552\n",
            "Epoch 50, Batch 40 loss: 0.0156732784234919\n",
            "Epoch 50, Batch 60 loss: 0.0071516163530760\n",
            "Epoch 50, Batch 80 loss: 0.0122420982806943\n",
            "Epoch 50, Batch 100 loss: 0.0231617532437667\n",
            "Epoch 50, Batch 120 loss: 0.0186236148176249\n"
          ]
        }
      ]
    },
    {
      "cell_type": "code",
      "metadata": {
        "colab": {
          "base_uri": "https://localhost:8080/",
          "height": 281
        },
        "id": "CfA7ZjLR1BZP",
        "outputId": "e2853109-959e-4a7e-a958-03ee218f8896"
      },
      "source": [
        "plt.plot(train_losses)\n",
        "plt.title(\"Training Loss\")\n",
        "plt.show()"
      ],
      "execution_count": 13,
      "outputs": [
        {
          "output_type": "display_data",
          "data": {
            "image/png": "[encoded data removed]",
            "text/plain": [
              "<Figure size 432x288 with 1 Axes>"
            ]
          },
          "metadata": {
            "needs_background": "light"
          }
        }
      ]
    },
    {
      "cell_type": "markdown",
      "metadata": {
        "id": "ItLyF9dQyJFL"
      },
      "source": [
        "Testing the model"
      ]
    },
    {
      "cell_type": "code",
      "metadata": {
        "id": "gGki98W3SoEW"
      },
      "source": [
        "from sklearn.metrics import precision_score, recall_score, f1_score, accuracy_score"
      ],
      "execution_count": 14,
      "outputs": []
    },
    {
      "cell_type": "code",
      "metadata": {
        "colab": {
          "base_uri": "https://localhost:8080/"
        },
        "id": "xNavYOynyE6d",
        "outputId": "ee789d93-148e-48d9-aa12-1c47d7f0849d"
      },
      "source": [
        "# The test_model function is from model_testing python file\n",
        "test_loss, class_correct, class_total, labels, predictions = test_model(classes, inception_v3, test_loader, criterion)\n",
        "\n",
        "# Test accuracy for each hieroglyph\n",
        "for i in range(len(classes)):\n",
        "    if class_total[i] > 0:\n",
        "        print('Test Accuracy of %5s: %2d%% (%2d/%2d)' % (classes[i], 100 * class_correct[i] / class_total[i], np.sum(class_correct[i]), np.sum(class_total[i])))\n",
        "    else:\n",
        "        print('Test Accuracy of %5s: N/A (no training examples)' % (classes[i]))\n",
        "\n",
        "# Total Test accuracy\n",
        "print(\"\\nAccuracy: {:.3%}\".format(accuracy_score(labels, predictions)/100))\n",
        "print(\"\\nPrecision: {:.3%}\".format(precision_score(labels, predictions, average = 'weighted')/100))\n",
        "print(\"\\nRecall: {:.3%}\".format(recall_score(labels, predictions, average = 'weighted')/100))\n",
        "print(\"\\nF1-score: {:.3%}\".format(f1_score(labels, predictions, average = 'weighted')/100))"
      ],
      "execution_count": 15,
      "outputs": [
        {
          "output_type": "stream",
          "name": "stdout",
          "text": [
            "Test Loss: 0.042728\n",
            "\n",
            "Test Accuracy of    D2: 100% ( 5/ 5)\n",
            "Test Accuracy of   D21: 100% (36/36)\n",
            "Test Accuracy of   D36: 100% (12/12)\n",
            "Test Accuracy of    D4: 100% ( 8/ 8)\n",
            "Test Accuracy of   D46: 90% (10/11)\n",
            "Test Accuracy of   D58: 100% ( 8/ 8)\n",
            "Test Accuracy of   E23: 100% ( 2/ 2)\n",
            "Test Accuracy of   E34: 100% (25/25)\n",
            "Test Accuracy of   F31: 100% ( 2/ 2)\n",
            "Test Accuracy of   F35: 100% ( 1/ 1)\n",
            "Test Accuracy of    G1: 100% ( 7/ 7)\n",
            "Test Accuracy of   G17: 97% (38/39)\n",
            "Test Accuracy of   G43: 97% (39/40)\n",
            "Test Accuracy of   I10: 100% ( 9/ 9)\n",
            "Test Accuracy of    I9: 100% (30/30)\n",
            "Test Accuracy of   M17: 98% (72/73)\n",
            "Test Accuracy of   M23: 100% ( 8/ 8)\n",
            "Test Accuracy of   N35: 100% (90/90)\n",
            "Test Accuracy of    O1: 100% ( 4/ 4)\n",
            "Test Accuracy of   O34: 100% ( 4/ 4)\n",
            "Test Accuracy of    O4: 100% ( 3/ 3)\n",
            "Test Accuracy of   O49: 100% ( 3/ 3)\n",
            "Test Accuracy of    Q1: 75% ( 3/ 4)\n",
            "Test Accuracy of    Q3: 93% (15/16)\n",
            "Test Accuracy of    R4: 100% ( 1/ 1)\n",
            "Test Accuracy of    R8: 100% (14/14)\n",
            "Test Accuracy of   S29: 100% (53/53)\n",
            "Test Accuracy of   S34: 100% ( 2/ 2)\n",
            "Test Accuracy of    U7: 100% ( 1/ 1)\n",
            "Test Accuracy of   V13: 100% (16/16)\n",
            "Test Accuracy of   V28: 100% ( 8/ 8)\n",
            "Test Accuracy of   V30: 50% ( 1/ 2)\n",
            "Test Accuracy of   V31: 96% (26/27)\n",
            "Test Accuracy of   W11:  0% ( 0/ 1)\n",
            "Test Accuracy of   W24: 100% ( 8/ 8)\n",
            "Test Accuracy of    X1: 97% (46/47)\n",
            "Test Accuracy of    X8: 100% ( 1/ 1)\n",
            "Test Accuracy of    Y1: 100% ( 1/ 1)\n",
            "Test Accuracy of    Y5: 100% ( 2/ 2)\n",
            "Test Accuracy of    Z1: 100% (10/10)\n",
            "\n",
            "Accuracy: 0.984%\n",
            "\n",
            "Precision: 0.984%\n",
            "\n",
            "Recall: 0.984%\n",
            "\n",
            "F1-score: 0.983%\n"
          ]
        },
        {
          "output_type": "stream",
          "name": "stderr",
          "text": [
            "/usr/local/lib/python3.7/dist-packages/sklearn/metrics/_classification.py:1308: UndefinedMetricWarning: Precision is ill-defined and being set to 0.0 in labels with no predicted samples. Use `zero_division` parameter to control this behavior.\n",
            "  _warn_prf(average, modifier, msg_start, len(result))\n"
          ]
        }
      ]
    }
  ]
}