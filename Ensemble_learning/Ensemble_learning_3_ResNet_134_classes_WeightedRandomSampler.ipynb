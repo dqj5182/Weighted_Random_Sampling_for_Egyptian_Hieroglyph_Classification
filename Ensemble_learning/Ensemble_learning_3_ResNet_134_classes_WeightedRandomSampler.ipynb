{
  "nbformat": 4,
  "nbformat_minor": 0,
  "metadata": {
    "colab": {
      "name": "Egyptian_model_with_Ensemble_learning_3_ResNet_134_classes_WeightedRandomSampler.ipynb",
      "provenance": [],
      "collapsed_sections": []
    },
    "kernelspec": {
      "name": "python3",
      "display_name": "Python 3"
    },
    "language_info": {
      "name": "python"
    },
    "accelerator": "GPU"
  },
  "cells": [
    {
      "cell_type": "code",
      "metadata": {
        "colab": {
          "base_uri": "https://localhost:8080/"
        },
        "id": "Y8nXOuR-IIqk",
        "outputId": "5747e8e3-f5d5-47c2-cd7a-bc929c0b5794"
      },
      "source": [
        "!pip install torchensemble"
      ],
      "execution_count": 1,
      "outputs": [
        {
          "output_type": "stream",
          "name": "stdout",
          "text": [
            "Requirement already satisfied: torchensemble in /usr/local/lib/python3.7/dist-packages (0.1.6)\n",
            "Requirement already satisfied: torchvision>=0.2.2 in /usr/local/lib/python3.7/dist-packages (from torchensemble) (0.11.1+cu111)\n",
            "Requirement already satisfied: scikit-learn>=0.23.0 in /usr/local/lib/python3.7/dist-packages (from torchensemble) (1.0.1)\n",
            "Requirement already satisfied: torch>=1.4.0 in /usr/local/lib/python3.7/dist-packages (from torchensemble) (1.10.0+cu111)\n",
            "Requirement already satisfied: threadpoolctl>=2.0.0 in /usr/local/lib/python3.7/dist-packages (from scikit-learn>=0.23.0->torchensemble) (3.0.0)\n",
            "Requirement already satisfied: joblib>=0.11 in /usr/local/lib/python3.7/dist-packages (from scikit-learn>=0.23.0->torchensemble) (1.1.0)\n",
            "Requirement already satisfied: scipy>=1.1.0 in /usr/local/lib/python3.7/dist-packages (from scikit-learn>=0.23.0->torchensemble) (1.4.1)\n",
            "Requirement already satisfied: numpy>=1.14.6 in /usr/local/lib/python3.7/dist-packages (from scikit-learn>=0.23.0->torchensemble) (1.19.5)\n",
            "Requirement already satisfied: typing-extensions in /usr/local/lib/python3.7/dist-packages (from torch>=1.4.0->torchensemble) (3.10.0.2)\n",
            "Requirement already satisfied: pillow!=8.3.0,>=5.3.0 in /usr/local/lib/python3.7/dist-packages (from torchvision>=0.2.2->torchensemble) (7.1.2)\n"
          ]
        }
      ]
    },
    {
      "cell_type": "code",
      "metadata": {
        "id": "bnVsU472H-GM"
      },
      "source": [
        "import torch\n",
        "import torch.nn as nn\n",
        "from torch.nn import functional as F\n",
        "import os, os.path\n",
        "import numpy as np\n",
        "import torch.optim as optim\n",
        "from pathlib import Path\n",
        "from torchvision import datasets, models, transforms\n",
        "\n",
        "from torchensemble import VotingClassifier\n",
        "from torchensemble.utils.logging import set_logger\n",
        "\n",
        "# check if CUDA is available\n",
        "train_on_gpu = torch.cuda.is_available()"
      ],
      "execution_count": 2,
      "outputs": []
    },
    {
      "cell_type": "code",
      "metadata": {
        "colab": {
          "base_uri": "https://localhost:8080/"
        },
        "id": "RCkkbuJbLYEn",
        "outputId": "ddae1285-91d2-4671-bc4b-a9035d8bebe8"
      },
      "source": [
        "if not train_on_gpu:\n",
        "    print('CUDA is not available.  Training on CPU ...')\n",
        "else:\n",
        "    print('CUDA is available!  Training on GPU ...')"
      ],
      "execution_count": 3,
      "outputs": [
        {
          "output_type": "stream",
          "name": "stdout",
          "text": [
            "CUDA is available!  Training on GPU ...\n"
          ]
        }
      ]
    },
    {
      "cell_type": "code",
      "metadata": {
        "colab": {
          "base_uri": "https://localhost:8080/"
        },
        "id": "P_L0mn9xLcJZ",
        "outputId": "c30d7e4e-0b47-452c-fde4-15b352266aa9"
      },
      "source": [
        "# Connecting and Mounting to the Google Drive\n",
        "from google.colab import drive\n",
        "drive.mount('/content/drive')"
      ],
      "execution_count": 4,
      "outputs": [
        {
          "output_type": "stream",
          "name": "stdout",
          "text": [
            "Drive already mounted at /content/drive; to attempt to forcibly remount, call drive.mount(\"/content/drive\", force_remount=True).\n"
          ]
        }
      ]
    },
    {
      "cell_type": "code",
      "metadata": {
        "id": "5ONZtfs_LSQQ"
      },
      "source": [
        "def get_class_distribution(dataset_obj, idx2class):\n",
        "    count_dict = {k:0 for k,v in dataset_obj.class_to_idx.items()}\n",
        "    \n",
        "    for element in dataset_obj:\n",
        "        y_lbl = element[1]\n",
        "        y_lbl = idx2class[y_lbl]\n",
        "        count_dict[y_lbl] += 1\n",
        "            \n",
        "    return count_dict"
      ],
      "execution_count": 5,
      "outputs": []
    },
    {
      "cell_type": "code",
      "metadata": {
        "id": "XwxUjnYtLS18"
      },
      "source": [
        "def load_data(hieroglyph_directory_path, batch_size=20, num_workers=0):\n",
        "    train_dir = os.path.join(hieroglyph_directory_path, 'train/')\n",
        "    test_dir = os.path.join(hieroglyph_directory_path, 'test/')\n",
        "\n",
        "    classes = []\n",
        "\n",
        "    for filename in os.listdir(train_dir):\n",
        "        if filename == '.DS_Store':\n",
        "            pass\n",
        "        else:\n",
        "            classes.append(filename)\n",
        "\n",
        "    classes.sort()\n",
        "\n",
        "    # print(\"Our classes:\", classes)\n",
        "    # print(len(classes))\n",
        "\n",
        "    data_transform = transforms.Compose([transforms.ToTensor(),\n",
        "                                            transforms.RandomApply([transforms.RandomHorizontalFlip()]),\n",
        "                                            transforms.RandomRotation(degrees=(-10, 10)),\n",
        "                                            transforms.RandomAffine(degrees=0, translate=(.1, .1)),\n",
        "                                            transforms.RandomApply([transforms.ColorJitter(brightness=(1, 1.2),\n",
        "                                                                                            contrast=(1, 1.5),\n",
        "                                                                                            saturation=(1, 1.5),\n",
        "                                                                                            hue=(0, 0.5))]),\n",
        "                                            transforms.RandomErasing(p=0.5, scale=(0.05, 0.05), ratio=(0.3, 3.3), value=0,\n",
        "                                                                      inplace=False),\n",
        "                                            transforms.Normalize((0.5,), (0.5,))])\n",
        "\n",
        "    train_data = datasets.ImageFolder(train_dir, transform=data_transform)\n",
        "    test_data = datasets.ImageFolder(test_dir, transform=data_transform)\n",
        "\n",
        "    # print('Num training images: ', len(train_data))\n",
        "    # print('Num test images: ', len(test_data))\n",
        "\n",
        "    # WeightedRandomSampler for train loader\n",
        "    idx2class = {v: k for k, v in train_data.class_to_idx.items()}\n",
        "\n",
        "    target_list = torch.tensor(train_data.targets)\n",
        "    class_count = [i for i in get_class_distribution(train_data, idx2class).values()]\n",
        "    class_weights = 1./torch.tensor(class_count, dtype=torch.float) \n",
        "    class_weights_all = class_weights[target_list]\n",
        "    weighted_sampler = torch.utils.data.WeightedRandomSampler(weights=class_weights_all, num_samples=len(class_weights_all), replacement=True)\n",
        "\n",
        "    # prepare data loaders\n",
        "    train_loader = torch.utils.data.DataLoader(train_data, batch_size=batch_size,\n",
        "                                               num_workers=num_workers, sampler=weighted_sampler, drop_last=True)\n",
        "    \n",
        "    # WeightedRandomSampler for test loader\n",
        "    idx2class_test = {v: k for k, v in test_data.class_to_idx.items()}\n",
        "\n",
        "    target_list_test = torch.tensor(test_data.targets)\n",
        "    class_count_test = [i for i in get_class_distribution(test_data, idx2class_test).values()]\n",
        "    class_weights_test = 1./torch.tensor(class_count_test, dtype=torch.float) \n",
        "    class_weights_all_test = class_weights_test[target_list_test]\n",
        "    weighted_sampler_test = torch.utils.data.WeightedRandomSampler(weights=class_weights_all_test, num_samples=len(class_weights_all_test), replacement=True)\n",
        "\n",
        "    test_loader = torch.utils.data.DataLoader(test_data, batch_size=batch_size,\n",
        "                                              num_workers=num_workers, sampler=weighted_sampler_test)\n",
        "\n",
        "    return train_loader, test_loader, classes"
      ],
      "execution_count": 6,
      "outputs": []
    },
    {
      "cell_type": "code",
      "metadata": {
        "colab": {
          "base_uri": "https://localhost:8080/"
        },
        "id": "AXC_WypPLdnL",
        "outputId": "b9bba309-a4b1-4999-ca11-00757d9f50a2"
      },
      "source": [
        "data_dir = '/content/drive/MyDrive/EgyptianHieroglyphDataset_134/'\n",
        "\n",
        "hieroglyph_for_train = []\n",
        "file_count_list = []\n",
        "\n",
        "for name in os.listdir('/content/drive/MyDrive/EgyptianHieroglyphDataset_134/train/'):\n",
        "  path, dirs, files = next(os.walk(\"/content/drive/MyDrive/EgyptianHieroglyphDataset_134/train/\"+name))\n",
        "  file_count = len(files)\n",
        "  print(name, file_count)\n",
        "  file_count_list.append(file_count)\n",
        "  hieroglyph_for_train.append(name)\n",
        "\n",
        "hieroglyph_dict = dict(zip(hieroglyph_for_train, file_count_list))"
      ],
      "execution_count": 7,
      "outputs": [
        {
          "metadata": {
            "tags": null
          },
          "name": "stdout",
          "output_type": "stream",
          "text": [
            "Aa15 2\n",
            "Aa26 4\n",
            "Aa27 2\n",
            "Z1 39\n",
            "Z11 8\n",
            "Z7 3\n",
            "Y2 5\n",
            "Y3 2\n",
            "Y5 6\n",
            "E34 97\n",
            "E1 5\n",
            "E23 8\n",
            "E9 8\n",
            "W18 5\n",
            "W24 31\n",
            "W11 4\n",
            "W22 1\n",
            "W19 3\n",
            "W25 9\n",
            "D21 146\n",
            "D4 29\n",
            "D46 40\n",
            "D1 4\n",
            "D36 47\n",
            "D58 28\n",
            "D2 19\n",
            "D35 45\n",
            "D60 4\n",
            "D28 13\n",
            "D10 2\n",
            "D39 1\n",
            "D56 2\n",
            "D19 2\n",
            "D52 4\n",
            "D54 9\n",
            "D156 2\n",
            "X1 185\n",
            "X8 4\n",
            "U15 10\n",
            "U28 2\n",
            "U1 20\n",
            "U33 13\n",
            "U7 3\n",
            "T28 1\n",
            "T22 7\n",
            "T21 2\n",
            "T20 3\n",
            "T30 2\n",
            "V31 106\n",
            "V28 28\n",
            "V13 63\n",
            "V4 10\n",
            "V30 6\n",
            "V7 4\n",
            "V24 4\n",
            "V6 1\n",
            "R8 53\n",
            "R4 2\n",
            "Q3 61\n",
            "Q1 13\n",
            "Q7 2\n",
            "P8 12\n",
            "P6 2\n",
            "P98 4\n",
            "P1 4\n",
            "S29 212\n",
            "S34 8\n",
            "S24 1\n",
            "S28 1\n",
            "O50 84\n",
            "O49 10\n",
            "O28 8\n",
            "O34 15\n",
            "O1 16\n",
            "O31 5\n",
            "O4 11\n",
            "I9 116\n",
            "I10 32\n",
            "G17 156\n",
            "L1 2\n",
            "M17 291\n",
            "M44 5\n",
            "M42 4\n",
            "M1 2\n",
            "M12 2\n",
            "M18 10\n",
            "M195 2\n",
            "M20 2\n",
            "M23 30\n",
            "M41 2\n",
            "M3 3\n",
            "M16 1\n",
            "M8 1\n",
            "M40 2\n",
            "M29 2\n",
            "H6 5\n",
            "N35 358\n",
            "N5 16\n",
            "N1 14\n",
            "N37 24\n",
            "N14 11\n",
            "N31 13\n",
            "N17 6\n",
            "N29 14\n",
            "N18 15\n",
            "N41 2\n",
            "N30 9\n",
            "N25 1\n",
            "N36 1\n",
            "F13 6\n",
            "F16 5\n",
            "F35 2\n",
            "F34 8\n",
            "F31 6\n",
            "F4 3\n",
            "F40 1\n",
            "F18 4\n",
            "F9 2\n",
            "F26 3\n",
            "G39 16\n",
            "G43 157\n",
            "G5 24\n",
            "G40 6\n",
            "G7 8\n",
            "G35 30\n",
            "G1 28\n",
            "G21 1\n",
            "G25 21\n",
            "G36 7\n",
            "G4 6\n",
            "G14 1\n",
            "G26 1\n",
            "G29 2\n",
            "G37 2\n"
          ]
        }
      ]
    },
    {
      "cell_type": "code",
      "metadata": {
        "colab": {
          "base_uri": "https://localhost:8080/",
          "height": 609
        },
        "id": "sDWANMEdLhF9",
        "outputId": "02959a88-9c96-411f-aef8-84d2f91c0b15"
      },
      "source": [
        "import matplotlib.pyplot as plt\n",
        "import pandas as pd\n",
        "\n",
        "df = pd.DataFrame({\"Hieroglyph\":hieroglyph_for_train, \"Count\":file_count_list})\n",
        "\n",
        "df_sorted= df.sort_values('Count',ascending=False)\n",
        "\n",
        "plt.figure(figsize=(20,10))\n",
        "# make bar plot with matplotlib\n",
        "plt.bar('Hieroglyph', 'Count',data=df_sorted)"
      ],
      "execution_count": 8,
      "outputs": [
        {
          "data": {
            "text/plain": [
              "<BarContainer object of 134 artists>"
            ]
          },
          "execution_count": null,
          "metadata": {},
          "output_type": "execute_result"
        },
        {
          "data": {
            "image/png": "[encoded data removed]",
            "text/plain": [
              "<Figure size 1440x720 with 1 Axes>"
            ]
          },
          "metadata": {},
          "output_type": "display_data"
        }
      ]
    },
    {
      "cell_type": "code",
      "metadata": {
        "id": "goisPc6eLi3L"
      },
      "source": [
        "# Number of images processed in a single training\n",
        "batch_size = 20\n",
        "num_workers = 0\n",
        "\n",
        "# The load_data function is from hieroglyph_data_preparation python file\n",
        "train_loader, test_loader, classes = load_data(data_dir)"
      ],
      "execution_count": 9,
      "outputs": []
    },
    {
      "cell_type": "code",
      "metadata": {
        "id": "cIFr3iYkLrQ-"
      },
      "source": [
        "# Whether to extract features with the model\n",
        "feature_extract = False\n",
        "\n",
        "model_selection = \"resnet-50\"\n",
        "\n",
        "# False if you want scratch model, True if you want pretrained model\n",
        "whether_to_pretrain = True\n",
        "\n",
        "# Load the model\n",
        "if model_selection == \"resnet-50\":\n",
        "    resnet50 = models.resnet50(pretrained=whether_to_pretrain)\n",
        "\n",
        "# Number of features in the last layer of resnet\n",
        "n_inputs = resnet50.fc.in_features\n",
        "\n",
        "# Add last linear layer (n_inputs -> 40 hieroglyph classes)\n",
        "# New layers automatically have requires_grad = True\n",
        "last_layer = nn.Sequential(\n",
        "                nn.Linear(n_inputs, len(classes)))\n",
        "\n",
        "resnet50.fc = last_layer\n",
        "\n",
        "# if GPU is available, move the model to GPU\n",
        "if train_on_gpu:\n",
        "    resnet50.cuda()"
      ],
      "execution_count": null,
      "outputs": []
    },
    {
      "cell_type": "code",
      "metadata": {
        "colab": {
          "base_uri": "https://localhost:8080/",
          "height": 1000
        },
        "id": "Suq5RBD6K4O0",
        "outputId": "599cc38a-be0b-419e-9ad5-0f057c60718d"
      },
      "source": [
        "epochs = 10\n",
        "\n",
        "# Define the ensemble\n",
        "ensemble = VotingClassifier(\n",
        "    estimator=resnet50,               # here is your deep learning model\n",
        "    n_estimators=3,                        # number of base estimators\n",
        "    cuda=True\n",
        ")\n",
        "\n",
        "# Set the optimizer\n",
        "ensemble.set_optimizer(\n",
        "    \"Adam\",                                 # type of parameter optimizer\n",
        "    lr=1e-3,                       # learning rate of parameter optimizer\n",
        "    weight_decay=5e-4,              # weight decay of parameter optimizer\n",
        ")\n",
        "\n",
        "# Set the learning rate scheduler\n",
        "ensemble.set_scheduler(\n",
        "    \"CosineAnnealingLR\",                    # type of learning rate scheduler\n",
        "    T_max=epochs,                           # additional arguments on the scheduler\n",
        ")\n",
        "\n",
        "# Train the ensemble\n",
        "ensemble.fit(\n",
        "    train_loader,\n",
        "    epochs=epochs,                          # number of training epochs\n",
        ")\n",
        "\n",
        "# Evaluate the ensemble\n",
        "acc = ensemble.predict(test_loader)         # testing accuracy"
      ],
      "execution_count": 12,
      "outputs": [
        {
          "output_type": "stream",
          "name": "stdout",
          "text": [
            "Estimator: 000 | Epoch: 000 | Batch: 000 | Loss: 4.87594 | Correct: 0/20\n",
            "Estimator: 000 | Epoch: 000 | Batch: 100 | Loss: 4.11115 | Correct: 0/20\n",
            "Estimator: 001 | Epoch: 000 | Batch: 000 | Loss: 4.99940 | Correct: 1/20\n",
            "Estimator: 001 | Epoch: 000 | Batch: 100 | Loss: 4.96798 | Correct: 0/20\n",
            "Estimator: 002 | Epoch: 000 | Batch: 000 | Loss: 4.94050 | Correct: 0/20\n",
            "Estimator: 002 | Epoch: 000 | Batch: 100 | Loss: 4.91137 | Correct: 1/20\n",
            "Estimator: 000 | Epoch: 001 | Batch: 000 | Loss: 3.70306 | Correct: 4/20\n",
            "Estimator: 000 | Epoch: 001 | Batch: 100 | Loss: 3.31236 | Correct: 2/20\n",
            "Estimator: 001 | Epoch: 001 | Batch: 000 | Loss: 4.59641 | Correct: 0/20\n",
            "Estimator: 001 | Epoch: 001 | Batch: 100 | Loss: 4.32559 | Correct: 0/20\n",
            "Estimator: 002 | Epoch: 001 | Batch: 000 | Loss: 4.56380 | Correct: 0/20\n",
            "Estimator: 002 | Epoch: 001 | Batch: 100 | Loss: 3.84820 | Correct: 2/20\n",
            "Estimator: 000 | Epoch: 002 | Batch: 000 | Loss: 2.32794 | Correct: 6/20\n",
            "Estimator: 000 | Epoch: 002 | Batch: 100 | Loss: 1.73776 | Correct: 11/20\n",
            "Estimator: 001 | Epoch: 002 | Batch: 000 | Loss: 3.49725 | Correct: 3/20\n",
            "Estimator: 001 | Epoch: 002 | Batch: 100 | Loss: 3.64368 | Correct: 0/20\n",
            "Estimator: 002 | Epoch: 002 | Batch: 000 | Loss: 3.57039 | Correct: 1/20\n",
            "Estimator: 002 | Epoch: 002 | Batch: 100 | Loss: 3.35221 | Correct: 3/20\n",
            "Estimator: 000 | Epoch: 003 | Batch: 000 | Loss: 1.62853 | Correct: 11/20\n",
            "Estimator: 000 | Epoch: 003 | Batch: 100 | Loss: 1.59633 | Correct: 7/20\n",
            "Estimator: 001 | Epoch: 003 | Batch: 000 | Loss: 3.25104 | Correct: 2/20\n",
            "Estimator: 001 | Epoch: 003 | Batch: 100 | Loss: 2.93685 | Correct: 6/20\n",
            "Estimator: 002 | Epoch: 003 | Batch: 000 | Loss: 3.33038 | Correct: 2/20\n",
            "Estimator: 002 | Epoch: 003 | Batch: 100 | Loss: 2.21129 | Correct: 9/20\n",
            "Estimator: 000 | Epoch: 004 | Batch: 000 | Loss: 1.51466 | Correct: 10/20\n",
            "Estimator: 000 | Epoch: 004 | Batch: 100 | Loss: 1.08815 | Correct: 15/20\n",
            "Estimator: 001 | Epoch: 004 | Batch: 000 | Loss: 3.22700 | Correct: 1/20\n",
            "Estimator: 001 | Epoch: 004 | Batch: 100 | Loss: 2.65058 | Correct: 5/20\n",
            "Estimator: 002 | Epoch: 004 | Batch: 000 | Loss: 2.22638 | Correct: 8/20\n",
            "Estimator: 002 | Epoch: 004 | Batch: 100 | Loss: 2.29124 | Correct: 7/20\n",
            "Estimator: 000 | Epoch: 005 | Batch: 000 | Loss: 0.89858 | Correct: 15/20\n",
            "Estimator: 000 | Epoch: 005 | Batch: 100 | Loss: 0.39003 | Correct: 19/20\n",
            "Estimator: 001 | Epoch: 005 | Batch: 000 | Loss: 2.09666 | Correct: 5/20\n",
            "Estimator: 001 | Epoch: 005 | Batch: 100 | Loss: 1.58617 | Correct: 9/20\n",
            "Estimator: 002 | Epoch: 005 | Batch: 000 | Loss: 1.54814 | Correct: 10/20\n",
            "Estimator: 002 | Epoch: 005 | Batch: 100 | Loss: 1.41333 | Correct: 10/20\n",
            "Estimator: 000 | Epoch: 006 | Batch: 000 | Loss: 0.72315 | Correct: 15/20\n",
            "Estimator: 000 | Epoch: 006 | Batch: 100 | Loss: 0.77907 | Correct: 14/20\n",
            "Estimator: 001 | Epoch: 006 | Batch: 000 | Loss: 2.06122 | Correct: 6/20\n",
            "Estimator: 001 | Epoch: 006 | Batch: 100 | Loss: 2.17100 | Correct: 8/20\n",
            "Estimator: 002 | Epoch: 006 | Batch: 000 | Loss: 1.25667 | Correct: 14/20\n",
            "Estimator: 002 | Epoch: 006 | Batch: 100 | Loss: 1.48709 | Correct: 11/20\n",
            "Estimator: 000 | Epoch: 007 | Batch: 000 | Loss: 0.57676 | Correct: 16/20\n",
            "Estimator: 000 | Epoch: 007 | Batch: 100 | Loss: 0.44469 | Correct: 17/20\n",
            "Estimator: 001 | Epoch: 007 | Batch: 000 | Loss: 1.92611 | Correct: 9/20\n",
            "Estimator: 001 | Epoch: 007 | Batch: 100 | Loss: 1.63249 | Correct: 10/20\n",
            "Estimator: 002 | Epoch: 007 | Batch: 000 | Loss: 0.53559 | Correct: 16/20\n",
            "Estimator: 002 | Epoch: 007 | Batch: 100 | Loss: 0.83288 | Correct: 15/20\n",
            "Estimator: 000 | Epoch: 008 | Batch: 000 | Loss: 0.13189 | Correct: 19/20\n",
            "Estimator: 000 | Epoch: 008 | Batch: 100 | Loss: 0.38194 | Correct: 18/20\n",
            "Estimator: 001 | Epoch: 008 | Batch: 000 | Loss: 1.58387 | Correct: 10/20\n",
            "Estimator: 001 | Epoch: 008 | Batch: 100 | Loss: 1.02313 | Correct: 15/20\n",
            "Estimator: 002 | Epoch: 008 | Batch: 000 | Loss: 0.59665 | Correct: 18/20\n",
            "Estimator: 002 | Epoch: 008 | Batch: 100 | Loss: 0.33315 | Correct: 19/20\n",
            "Estimator: 000 | Epoch: 009 | Batch: 000 | Loss: 0.25472 | Correct: 19/20\n",
            "Estimator: 000 | Epoch: 009 | Batch: 100 | Loss: 0.17492 | Correct: 20/20\n",
            "Estimator: 001 | Epoch: 009 | Batch: 000 | Loss: 1.07837 | Correct: 13/20\n",
            "Estimator: 001 | Epoch: 009 | Batch: 100 | Loss: 0.95818 | Correct: 13/20\n",
            "Estimator: 002 | Epoch: 009 | Batch: 000 | Loss: 0.52940 | Correct: 17/20\n",
            "Estimator: 002 | Epoch: 009 | Batch: 100 | Loss: 0.85773 | Correct: 15/20\n"
          ]
        },
        {
          "output_type": "error",
          "ename": "ValueError",
          "evalue": "ignored",
          "traceback": [
            "\u001b[0;31m---------------------------------------------------------------------------\u001b[0m",
            "\u001b[0;31mValueError\u001b[0m                                Traceback (most recent call last)",
            "\u001b[0;32m<ipython-input-12-2156e25463c5>\u001b[0m in \u001b[0;36m<module>\u001b[0;34m()\u001b[0m\n\u001b[1;32m     28\u001b[0m \u001b[0;34m\u001b[0m\u001b[0m\n\u001b[1;32m     29\u001b[0m \u001b[0;31m# Evaluate the ensemble\u001b[0m\u001b[0;34m\u001b[0m\u001b[0;34m\u001b[0m\u001b[0;34m\u001b[0m\u001b[0m\n\u001b[0;32m---> 30\u001b[0;31m \u001b[0macc\u001b[0m \u001b[0;34m=\u001b[0m \u001b[0mensemble\u001b[0m\u001b[0;34m.\u001b[0m\u001b[0mpredict\u001b[0m\u001b[0;34m(\u001b[0m\u001b[0mtest_loader\u001b[0m\u001b[0;34m)\u001b[0m         \u001b[0;31m# testing accuracy\u001b[0m\u001b[0;34m\u001b[0m\u001b[0;34m\u001b[0m\u001b[0m\n\u001b[0m",
            "\u001b[0;32m/usr/local/lib/python3.7/dist-packages/torchensemble/voting.py\u001b[0m in \u001b[0;36mpredict\u001b[0;34m(self, *x)\u001b[0m\n\u001b[1;32m    255\u001b[0m     \u001b[0;34m@\u001b[0m\u001b[0mtorchensemble_model_doc\u001b[0m\u001b[0;34m(\u001b[0m\u001b[0mitem\u001b[0m\u001b[0;34m=\u001b[0m\u001b[0;34m\"predict\"\u001b[0m\u001b[0;34m)\u001b[0m\u001b[0;34m\u001b[0m\u001b[0;34m\u001b[0m\u001b[0m\n\u001b[1;32m    256\u001b[0m     \u001b[0;32mdef\u001b[0m \u001b[0mpredict\u001b[0m\u001b[0;34m(\u001b[0m\u001b[0mself\u001b[0m\u001b[0;34m,\u001b[0m \u001b[0;34m*\u001b[0m\u001b[0mx\u001b[0m\u001b[0;34m)\u001b[0m\u001b[0;34m:\u001b[0m\u001b[0;34m\u001b[0m\u001b[0;34m\u001b[0m\u001b[0m\n\u001b[0;32m--> 257\u001b[0;31m         \u001b[0;32mreturn\u001b[0m \u001b[0msuper\u001b[0m\u001b[0;34m(\u001b[0m\u001b[0;34m)\u001b[0m\u001b[0;34m.\u001b[0m\u001b[0mpredict\u001b[0m\u001b[0;34m(\u001b[0m\u001b[0;34m*\u001b[0m\u001b[0mx\u001b[0m\u001b[0;34m)\u001b[0m\u001b[0;34m\u001b[0m\u001b[0;34m\u001b[0m\u001b[0m\n\u001b[0m\u001b[1;32m    258\u001b[0m \u001b[0;34m\u001b[0m\u001b[0m\n\u001b[1;32m    259\u001b[0m \u001b[0;34m\u001b[0m\u001b[0m\n",
            "\u001b[0;32m/usr/local/lib/python3.7/dist-packages/torch/autograd/grad_mode.py\u001b[0m in \u001b[0;36mdecorate_context\u001b[0;34m(*args, **kwargs)\u001b[0m\n\u001b[1;32m     26\u001b[0m         \u001b[0;32mdef\u001b[0m \u001b[0mdecorate_context\u001b[0m\u001b[0;34m(\u001b[0m\u001b[0;34m*\u001b[0m\u001b[0margs\u001b[0m\u001b[0;34m,\u001b[0m \u001b[0;34m**\u001b[0m\u001b[0mkwargs\u001b[0m\u001b[0;34m)\u001b[0m\u001b[0;34m:\u001b[0m\u001b[0;34m\u001b[0m\u001b[0;34m\u001b[0m\u001b[0m\n\u001b[1;32m     27\u001b[0m             \u001b[0;32mwith\u001b[0m \u001b[0mself\u001b[0m\u001b[0;34m.\u001b[0m\u001b[0m__class__\u001b[0m\u001b[0;34m(\u001b[0m\u001b[0;34m)\u001b[0m\u001b[0;34m:\u001b[0m\u001b[0;34m\u001b[0m\u001b[0;34m\u001b[0m\u001b[0m\n\u001b[0;32m---> 28\u001b[0;31m                 \u001b[0;32mreturn\u001b[0m \u001b[0mfunc\u001b[0m\u001b[0;34m(\u001b[0m\u001b[0;34m*\u001b[0m\u001b[0margs\u001b[0m\u001b[0;34m,\u001b[0m \u001b[0;34m**\u001b[0m\u001b[0mkwargs\u001b[0m\u001b[0;34m)\u001b[0m\u001b[0;34m\u001b[0m\u001b[0;34m\u001b[0m\u001b[0m\n\u001b[0m\u001b[1;32m     29\u001b[0m         \u001b[0;32mreturn\u001b[0m \u001b[0mcast\u001b[0m\u001b[0;34m(\u001b[0m\u001b[0mF\u001b[0m\u001b[0;34m,\u001b[0m \u001b[0mdecorate_context\u001b[0m\u001b[0;34m)\u001b[0m\u001b[0;34m\u001b[0m\u001b[0;34m\u001b[0m\u001b[0m\n\u001b[1;32m     30\u001b[0m \u001b[0;34m\u001b[0m\u001b[0m\n",
            "\u001b[0;32m/usr/local/lib/python3.7/dist-packages/torchensemble/_base.py\u001b[0m in \u001b[0;36mpredict\u001b[0;34m(self, *x)\u001b[0m\n\u001b[1;32m    188\u001b[0m                     \u001b[0;34m\" np.ndarray}}.\"\u001b[0m\u001b[0;34m\u001b[0m\u001b[0;34m\u001b[0m\u001b[0m\n\u001b[1;32m    189\u001b[0m                 )\n\u001b[0;32m--> 190\u001b[0;31m                 \u001b[0;32mraise\u001b[0m \u001b[0mValueError\u001b[0m\u001b[0;34m(\u001b[0m\u001b[0mmsg\u001b[0m\u001b[0;34m)\u001b[0m\u001b[0;34m\u001b[0m\u001b[0;34m\u001b[0m\u001b[0m\n\u001b[0m\u001b[1;32m    191\u001b[0m \u001b[0;34m\u001b[0m\u001b[0m\n\u001b[1;32m    192\u001b[0m         \u001b[0mpred\u001b[0m \u001b[0;34m=\u001b[0m \u001b[0mself\u001b[0m\u001b[0;34m.\u001b[0m\u001b[0mforward\u001b[0m\u001b[0;34m(\u001b[0m\u001b[0;34m*\u001b[0m\u001b[0mx_device\u001b[0m\u001b[0;34m)\u001b[0m\u001b[0;34m\u001b[0m\u001b[0;34m\u001b[0m\u001b[0m\n",
            "\u001b[0;31mValueError\u001b[0m: The type of input X should be one of {{torch.Tensor, np.ndarray}}."
          ]
        }
      ]
    },
    {
      "cell_type": "code",
      "metadata": {
        "id": "7oeFAcQiTSlU"
      },
      "source": [
        "def test_model(classes, resnet50, test_loader, criterion):\n",
        "    # track test loss\n",
        "    test_loss = 0.0\n",
        "    class_correct = list(0. for i in range(len(classes)))\n",
        "    class_total = list(0. for i in range(len(classes)))\n",
        "\n",
        "    resnet50.eval()  # eval mode\n",
        "\n",
        "    labels = []\n",
        "    predictions = []\n",
        "    # iterate over test data\n",
        "    for data, target in test_loader:\n",
        "        # move tensors to GPU if CUDA is available\n",
        "        if train_on_gpu:\n",
        "            data, target = data.cuda(), target.cuda()\n",
        "        # forward pass: compute predicted outputs by passing inputs to the model\n",
        "        output = resnet50(data)\n",
        "        # calculate the batch loss\n",
        "        loss = criterion(output, target)\n",
        "        # update  test loss\n",
        "        test_loss += loss.item() * data.size(0)\n",
        "        # convert output probabilities to predicted class\n",
        "        _, pred = torch.max(output, 1)\n",
        "        # compare predictions to true label\n",
        "        correct_tensor = pred.eq(target.data.view_as(pred))\n",
        "        correct = np.squeeze(correct_tensor.numpy()) if not train_on_gpu else np.squeeze(correct_tensor.cpu().numpy())\n",
        "        # calculate test accuracy for each object class\n",
        "        for i in range(len(target.data)):\n",
        "            label = target.data[i]\n",
        "            class_correct[label] += correct[i].item()\n",
        "            class_total[label] += 1\n",
        "        \n",
        "        # Will be used for calculating Recall, Precision, and F1-score\n",
        "        labels.extend(target.data.view_as(pred).tolist())\n",
        "        predictions.extend(pred.tolist())\n",
        "\n",
        "\n",
        "    # calculate avg test loss\n",
        "    test_loss = test_loss / len(test_loader.dataset)\n",
        "    print('Test Loss: {:.6f}\\n'.format(test_loss))\n",
        "\n",
        "    return test_loss, class_correct, class_total, labels, predictions"
      ],
      "execution_count": 14,
      "outputs": []
    },
    {
      "cell_type": "code",
      "metadata": {
        "id": "gYJie1OQTj7x"
      },
      "source": [
        "criterion = nn.CrossEntropyLoss()"
      ],
      "execution_count": 16,
      "outputs": []
    },
    {
      "cell_type": "code",
      "metadata": {
        "colab": {
          "base_uri": "https://localhost:8080/"
        },
        "id": "C-cBRomUTUSW",
        "outputId": "d83ab3f6-4cc7-400c-e093-d065f46b281f"
      },
      "source": [
        "test_loss, class_correct, class_total, labels, predictions = test_model(classes, ensemble, test_loader, criterion)"
      ],
      "execution_count": 17,
      "outputs": [
        {
          "output_type": "stream",
          "name": "stdout",
          "text": [
            "Test Loss: 4.319453\n",
            "\n"
          ]
        }
      ]
    },
    {
      "cell_type": "code",
      "metadata": {
        "id": "Ae_JIsO3Ts2f"
      },
      "source": [
        "from sklearn.metrics import precision_score, recall_score, f1_score, accuracy_score"
      ],
      "execution_count": 19,
      "outputs": []
    },
    {
      "cell_type": "code",
      "metadata": {
        "colab": {
          "base_uri": "https://localhost:8080/"
        },
        "id": "PudutYWPTp5f",
        "outputId": "0e9f7e12-5d3e-4ec8-ccfa-f5beba9b82b0"
      },
      "source": [
        "# Test accuracy for each hieroglyph\n",
        "for i in range(len(classes)):\n",
        "    if class_total[i] > 0:\n",
        "        print('Test Accuracy of %5s: %2d%% (%2d/%2d)' % (classes[i], 100 * class_correct[i] / class_total[i], np.sum(class_correct[i]), np.sum(class_total[i])))\n",
        "    else:\n",
        "        print('Test Accuracy of %5s: N/A (no training examples)' % (classes[i]))\n",
        "\n",
        "# Total Test accuracy\n",
        "print(\"\\nAccuracy: {:.3%}\".format(accuracy_score(labels, predictions)))\n",
        "print(\"\\nPrecision: {:.3%}\".format(precision_score(labels, predictions, average = 'weighted')))\n",
        "print(\"\\nRecall: {:.3%}\".format(recall_score(labels, predictions, average = 'weighted')))\n",
        "print(\"\\nF1-score: {:.3%}\".format(f1_score(labels, predictions, average = 'weighted')))"
      ],
      "execution_count": 20,
      "outputs": [
        {
          "output_type": "stream",
          "name": "stdout",
          "text": [
            "Test Accuracy of  Aa15: 100% ( 4/ 4)\n",
            "Test Accuracy of  Aa26: 80% ( 4/ 5)\n",
            "Test Accuracy of  Aa27: 87% ( 7/ 8)\n",
            "Test Accuracy of    D1: 77% ( 7/ 9)\n",
            "Test Accuracy of   D10: 75% ( 3/ 4)\n",
            "Test Accuracy of  D156: 50% ( 4/ 8)\n",
            "Test Accuracy of   D19:  0% ( 0/ 3)\n",
            "Test Accuracy of    D2: 100% ( 5/ 5)\n",
            "Test Accuracy of   D21: 90% (10/11)\n",
            "Test Accuracy of   D28: 50% ( 2/ 4)\n",
            "Test Accuracy of   D35: 100% ( 7/ 7)\n",
            "Test Accuracy of   D36: 100% ( 8/ 8)\n",
            "Test Accuracy of   D39: 100% ( 7/ 7)\n",
            "Test Accuracy of    D4: 100% (19/19)\n",
            "Test Accuracy of   D46: 100% ( 7/ 7)\n",
            "Test Accuracy of   D52: 100% ( 8/ 8)\n",
            "Test Accuracy of   D54: 100% ( 8/ 8)\n",
            "Test Accuracy of   D56: 100% ( 7/ 7)\n",
            "Test Accuracy of   D58: 100% ( 7/ 7)\n",
            "Test Accuracy of   D60: 100% ( 5/ 5)\n",
            "Test Accuracy of    E1: 100% ( 5/ 5)\n",
            "Test Accuracy of   E23: 100% ( 4/ 4)\n",
            "Test Accuracy of   E34: 100% ( 5/ 5)\n",
            "Test Accuracy of    E9: 66% ( 2/ 3)\n",
            "Test Accuracy of   F13: 100% ( 7/ 7)\n",
            "Test Accuracy of   F16: 92% (12/13)\n",
            "Test Accuracy of   F18: 80% ( 4/ 5)\n",
            "Test Accuracy of   F26: 100% ( 2/ 2)\n",
            "Test Accuracy of   F31: 100% ( 6/ 6)\n",
            "Test Accuracy of   F34: 100% ( 3/ 3)\n",
            "Test Accuracy of   F35: 100% ( 7/ 7)\n",
            "Test Accuracy of    F4: 100% ( 3/ 3)\n",
            "Test Accuracy of   F40: 100% ( 9/ 9)\n",
            "Test Accuracy of    F9: 45% ( 5/11)\n",
            "Test Accuracy of    G1: 40% ( 4/10)\n",
            "Test Accuracy of   G14:  0% ( 0/ 7)\n",
            "Test Accuracy of   G17: 60% ( 6/10)\n",
            "Test Accuracy of   G21: 100% ( 5/ 5)\n",
            "Test Accuracy of   G25: 83% ( 5/ 6)\n",
            "Test Accuracy of   G26: 100% ( 5/ 5)\n",
            "Test Accuracy of   G29:  0% ( 0/ 4)\n",
            "Test Accuracy of   G35:  0% ( 0/ 4)\n",
            "Test Accuracy of   G36: 60% ( 3/ 5)\n",
            "Test Accuracy of   G37: 100% ( 8/ 8)\n",
            "Test Accuracy of   G39: 100% ( 9/ 9)\n",
            "Test Accuracy of    G4: 100% ( 3/ 3)\n",
            "Test Accuracy of   G40: 100% ( 4/ 4)\n",
            "Test Accuracy of   G43: 100% ( 4/ 4)\n",
            "Test Accuracy of    G5: 83% ( 5/ 6)\n",
            "Test Accuracy of    G7: 100% (10/10)\n",
            "Test Accuracy of    H6: 14% ( 1/ 7)\n",
            "Test Accuracy of   I10: 100% ( 5/ 5)\n",
            "Test Accuracy of    I9: 100% ( 3/ 3)\n",
            "Test Accuracy of    L1: 100% ( 4/ 4)\n",
            "Test Accuracy of    M1: 25% ( 2/ 8)\n",
            "Test Accuracy of   M12: 90% ( 9/10)\n",
            "Test Accuracy of   M16: 100% ( 5/ 5)\n",
            "Test Accuracy of   M17: 50% ( 2/ 4)\n",
            "Test Accuracy of   M18: 100% (10/10)\n",
            "Test Accuracy of  M195:  0% ( 0/ 8)\n",
            "Test Accuracy of   M20: 100% ( 5/ 5)\n",
            "Test Accuracy of   M23: 100% ( 9/ 9)\n",
            "Test Accuracy of   M29: 22% ( 2/ 9)\n",
            "Test Accuracy of    M3:  0% ( 0/14)\n",
            "Test Accuracy of   M40: 100% ( 6/ 6)\n",
            "Test Accuracy of   M41: 100% ( 4/ 4)\n",
            "Test Accuracy of   M42: 27% ( 3/11)\n",
            "Test Accuracy of   M44:  0% ( 0/ 6)\n",
            "Test Accuracy of    M8: 100% ( 3/ 3)\n",
            "Test Accuracy of    N1: 40% ( 2/ 5)\n",
            "Test Accuracy of   N14: 100% (13/13)\n",
            "Test Accuracy of   N17: 40% ( 4/10)\n",
            "Test Accuracy of   N18: 25% ( 1/ 4)\n",
            "Test Accuracy of   N25: 100% ( 3/ 3)\n",
            "Test Accuracy of   N29: 100% ( 4/ 4)\n",
            "Test Accuracy of   N30: 100% ( 8/ 8)\n",
            "Test Accuracy of   N31: 100% ( 5/ 5)\n",
            "Test Accuracy of   N35: 88% ( 8/ 9)\n",
            "Test Accuracy of   N36:  0% ( 0/ 4)\n",
            "Test Accuracy of   N37: 100% ( 6/ 6)\n",
            "Test Accuracy of   N41: 100% (10/10)\n",
            "Test Accuracy of    N5: 83% ( 5/ 6)\n",
            "Test Accuracy of    O1: 100% (10/10)\n",
            "Test Accuracy of   O28: 100% ( 5/ 5)\n",
            "Test Accuracy of   O31: 25% ( 1/ 4)\n",
            "Test Accuracy of   O34: 66% ( 6/ 9)\n",
            "Test Accuracy of    O4: 87% ( 7/ 8)\n",
            "Test Accuracy of   O49: 71% ( 5/ 7)\n",
            "Test Accuracy of   O50: 100% ( 6/ 6)\n",
            "Test Accuracy of    P1: 100% ( 4/ 4)\n",
            "Test Accuracy of    P6: 100% ( 5/ 5)\n",
            "Test Accuracy of    P8: 40% ( 6/15)\n",
            "Test Accuracy of   P98: 100% ( 5/ 5)\n",
            "Test Accuracy of    Q1: 71% ( 5/ 7)\n",
            "Test Accuracy of    Q3: 66% ( 2/ 3)\n",
            "Test Accuracy of    Q7:  0% ( 0/ 3)\n",
            "Test Accuracy of    R4: 100% (10/10)\n",
            "Test Accuracy of    R8: 100% ( 8/ 8)\n",
            "Test Accuracy of   S24: 66% ( 4/ 6)\n",
            "Test Accuracy of   S28: 100% ( 7/ 7)\n",
            "Test Accuracy of   S29: 100% ( 8/ 8)\n",
            "Test Accuracy of   S34: 100% ( 5/ 5)\n",
            "Test Accuracy of   T20: 100% ( 9/ 9)\n",
            "Test Accuracy of   T21: 100% ( 1/ 1)\n",
            "Test Accuracy of   T22: 100% (10/10)\n",
            "Test Accuracy of   T28: 80% ( 4/ 5)\n",
            "Test Accuracy of   T30: 40% ( 2/ 5)\n",
            "Test Accuracy of    U1: 100% ( 5/ 5)\n",
            "Test Accuracy of   U15: 100% ( 5/ 5)\n",
            "Test Accuracy of   U28:  0% ( 0/ 6)\n",
            "Test Accuracy of   U33: 75% ( 3/ 4)\n",
            "Test Accuracy of    U7: 100% ( 2/ 2)\n",
            "Test Accuracy of   V13: 100% ( 5/ 5)\n",
            "Test Accuracy of   V24: 100% ( 5/ 5)\n",
            "Test Accuracy of   V28: 100% ( 4/ 4)\n",
            "Test Accuracy of   V30: 100% ( 6/ 6)\n",
            "Test Accuracy of   V31: 100% ( 7/ 7)\n",
            "Test Accuracy of    V4: 100% ( 3/ 3)\n",
            "Test Accuracy of    V6:  0% ( 0/ 5)\n",
            "Test Accuracy of    V7: 60% ( 3/ 5)\n",
            "Test Accuracy of   W11: 66% ( 2/ 3)\n",
            "Test Accuracy of   W18: 100% ( 8/ 8)\n",
            "Test Accuracy of   W19: 100% ( 4/ 4)\n",
            "Test Accuracy of   W22:  0% ( 0/ 3)\n",
            "Test Accuracy of   W24: 75% ( 6/ 8)\n",
            "Test Accuracy of   W25: 100% ( 5/ 5)\n",
            "Test Accuracy of    X1: 85% ( 6/ 7)\n",
            "Test Accuracy of    X8: 66% ( 4/ 6)\n",
            "Test Accuracy of    Y2: 66% ( 2/ 3)\n",
            "Test Accuracy of    Y3: 100% (15/15)\n",
            "Test Accuracy of    Y5: 100% ( 3/ 3)\n",
            "Test Accuracy of    Z1: 100% ( 6/ 6)\n",
            "Test Accuracy of   Z11: 100% ( 7/ 7)\n",
            "Test Accuracy of    Z7: 100% ( 3/ 3)\n",
            "\n",
            "Accuracy: 78.546%\n",
            "\n",
            "Precision: 77.587%\n",
            "\n",
            "Recall: 78.546%\n",
            "\n",
            "F1-score: 76.214%\n"
          ]
        },
        {
          "output_type": "stream",
          "name": "stderr",
          "text": [
            "/usr/local/lib/python3.7/dist-packages/sklearn/metrics/_classification.py:1308: UndefinedMetricWarning: Precision is ill-defined and being set to 0.0 in labels with no predicted samples. Use `zero_division` parameter to control this behavior.\n",
            "  _warn_prf(average, modifier, msg_start, len(result))\n"
          ]
        }
      ]
    }
  ]
}
