{
  "nbformat": 4,
  "nbformat_minor": 0,
  "metadata": {
    "colab": {
      "name": "Egyptian_model_with_Xception_Pretrained_40_classes_clean_WeightedRandomSampler_only_on_testing.ipynb",
      "provenance": [],
      "collapsed_sections": []
    },
    "kernelspec": {
      "name": "python3",
      "display_name": "Python 3"
    },
    "language_info": {
      "name": "python"
    },
    "accelerator": "GPU"
  },
  "cells": [
    {
      "cell_type": "code",
      "metadata": {
        "colab": {
          "base_uri": "https://localhost:8080/"
        },
        "id": "Po0ZVacIYsP0",
        "outputId": "72fbf74b-1f05-4c3d-8c07-1ff58d8f12c5"
      },
      "source": [
        "!pip install timm"
      ],
      "execution_count": 1,
      "outputs": [
        {
          "output_type": "stream",
          "name": "stdout",
          "text": [
            "Requirement already satisfied: timm in /usr/local/lib/python3.7/dist-packages (0.4.12)\n",
            "Requirement already satisfied: torchvision in /usr/local/lib/python3.7/dist-packages (from timm) (0.11.1+cu111)\n",
            "Requirement already satisfied: torch>=1.4 in /usr/local/lib/python3.7/dist-packages (from timm) (1.10.0+cu111)\n",
            "Requirement already satisfied: typing-extensions in /usr/local/lib/python3.7/dist-packages (from torch>=1.4->timm) (3.10.0.2)\n",
            "Requirement already satisfied: pillow!=8.3.0,>=5.3.0 in /usr/local/lib/python3.7/dist-packages (from torchvision->timm) (7.1.2)\n",
            "Requirement already satisfied: numpy in /usr/local/lib/python3.7/dist-packages (from torchvision->timm) (1.19.5)\n"
          ]
        }
      ]
    },
    {
      "cell_type": "code",
      "metadata": {
        "id": "8iEiGSblxJzW"
      },
      "source": [
        "import os, os.path\n",
        "import torch\n",
        "import numpy as np\n",
        "import torch.nn as nn\n",
        "import torch.optim as optim\n",
        "from pathlib import Path\n",
        "from torchvision import datasets, models, transforms\n",
        "import timm\n",
        "\n",
        "# check if CUDA is available\n",
        "train_on_gpu = torch.cuda.is_available()"
      ],
      "execution_count": 2,
      "outputs": []
    },
    {
      "cell_type": "markdown",
      "metadata": {
        "id": "Jd6KU8VMz6J3"
      },
      "source": [
        "Module: Load_data"
      ]
    },
    {
      "cell_type": "code",
      "metadata": {
        "id": "CFTKwolqDOAG"
      },
      "source": [
        "def get_class_distribution(dataset_obj, idx2class):\n",
        "    count_dict = {k:0 for k,v in dataset_obj.class_to_idx.items()}\n",
        "    \n",
        "    for element in dataset_obj:\n",
        "        y_lbl = element[1]\n",
        "        y_lbl = idx2class[y_lbl]\n",
        "        count_dict[y_lbl] += 1\n",
        "            \n",
        "    return count_dict"
      ],
      "execution_count": 3,
      "outputs": []
    },
    {
      "cell_type": "code",
      "metadata": {
        "id": "8lWX0BW_w_kC"
      },
      "source": [
        "def load_data(hieroglyph_directory_path, batch_size=20, num_workers=0):\n",
        "    train_dir = os.path.join(hieroglyph_directory_path, 'train/')\n",
        "    test_dir = os.path.join(hieroglyph_directory_path, 'test/')\n",
        "\n",
        "    classes = []\n",
        "\n",
        "    for filename in os.listdir(train_dir):\n",
        "        if filename == '.DS_Store':\n",
        "            pass\n",
        "        else:\n",
        "            classes.append(filename)\n",
        "\n",
        "    classes.sort()\n",
        "\n",
        "    # print(\"Our classes:\", classes)\n",
        "    # print(len(classes))\n",
        "\n",
        "    data_transform = transforms.Compose([transforms.ToTensor(),\n",
        "                                              transforms.RandomApply([transforms.RandomHorizontalFlip()]),\n",
        "                                              transforms.RandomRotation(degrees=(-10, 10)),\n",
        "                                              transforms.RandomAffine(degrees=0, translate=(.1, .1)),\n",
        "                                              transforms.RandomApply([transforms.ColorJitter(brightness=(1, 1.2),\n",
        "                                                                                              contrast=(1, 1.5),\n",
        "                                                                                              saturation=(1, 1.5),\n",
        "                                                                                              hue=(0, 0.5))]),\n",
        "                                              transforms.RandomErasing(p=0.5, scale=(0.05, 0.05), ratio=(0.3, 3.3), value=0,\n",
        "                                                                        inplace=False),\n",
        "                                              transforms.Resize((75, 75)),\n",
        "                                              transforms.Normalize((0.5,), (0.5,))])\n",
        "\n",
        "    train_data = datasets.ImageFolder(train_dir, transform=data_transform)\n",
        "    test_data = datasets.ImageFolder(test_dir, transform=data_transform)\n",
        "\n",
        "    # print('Num training images: ', len(train_data))\n",
        "    # print('Num test images: ', len(test_data))\n",
        "\n",
        "    # prepare data loaders\n",
        "    train_loader = torch.utils.data.DataLoader(train_data, batch_size=batch_size,\n",
        "                                               num_workers=num_workers, shuffle=True)\n",
        "    \n",
        "    # WeightedRandomSampler for test loader\n",
        "    idx2class_test = {v: k for k, v in test_data.class_to_idx.items()}\n",
        "\n",
        "    target_list_test = torch.tensor(test_data.targets)\n",
        "    class_count_test = [i for i in get_class_distribution(test_data, idx2class_test).values()]\n",
        "    class_weights_test = 1./torch.tensor(class_count_test, dtype=torch.float) \n",
        "    class_weights_all_test = class_weights_test[target_list_test]\n",
        "    weighted_sampler_test = torch.utils.data.WeightedRandomSampler(weights=class_weights_all_test, num_samples=len(class_weights_all_test), replacement=True)\n",
        "\n",
        "    test_loader = torch.utils.data.DataLoader(test_data, batch_size=batch_size,\n",
        "                                              num_workers=num_workers, sampler=weighted_sampler_test)\n",
        "\n",
        "    return train_loader, test_loader, classes"
      ],
      "execution_count": 4,
      "outputs": []
    },
    {
      "cell_type": "markdown",
      "metadata": {
        "id": "K4sXUrPPz7iF"
      },
      "source": [
        "Module: Train_model"
      ]
    },
    {
      "cell_type": "code",
      "metadata": {
        "id": "N2N_rnKLxN5c"
      },
      "source": [
        "def train_model(train_loader, optimizer, conv_net_model, criterion, my_lr_scheduler, n_epochs):\n",
        "    # track training loss over time\n",
        "    losses = []\n",
        "    \n",
        "    for epoch in range(1, n_epochs + 1):\n",
        "\n",
        "        # keep track of training and validation loss\n",
        "        train_loss = 0.0\n",
        "\n",
        "        # model by default is set to train\n",
        "        for batch_i, (data, target) in enumerate(train_loader):\n",
        "            # move tensors to GPU if CUDA is available\n",
        "            if train_on_gpu:\n",
        "                data, target = data.cuda(), target.cuda()\n",
        "            # clear the gradients of all optimized variables\n",
        "            optimizer.zero_grad()\n",
        "            # forward pass: compute predicted outputs by passing inputs to the model\n",
        "            output = conv_net_model(data)\n",
        "            # calculate the batch loss\n",
        "            loss = criterion(output, target)\n",
        "            # backward pass: compute gradient of the loss with respect to model parameters\n",
        "            loss.backward()\n",
        "            # perform a single optimization step (parameter update)\n",
        "            optimizer.step()\n",
        "            # update training loss\n",
        "            train_loss += loss.item()\n",
        "\n",
        "            my_lr_scheduler.step()\n",
        "\n",
        "            if batch_i % 20 == 19:  # print training loss every specified number of mini-batches\n",
        "                print('Epoch %d, Batch %d loss: %.16f' %\n",
        "                    (epoch, batch_i + 1, train_loss / 20))\n",
        "                losses.append(train_loss / 20)\n",
        "                train_loss = 0.0\n",
        "\n",
        "    return conv_net_model, losses"
      ],
      "execution_count": 5,
      "outputs": []
    },
    {
      "cell_type": "markdown",
      "metadata": {
        "id": "-Rrxo5RDz96U"
      },
      "source": [
        "Module: Test_model"
      ]
    },
    {
      "cell_type": "code",
      "metadata": {
        "id": "Ay-HlMJnxU9v"
      },
      "source": [
        "def test_model(classes, conv_net_model, test_loader, criterion):\n",
        "    # track test loss\n",
        "    test_loss = 0.0\n",
        "    class_correct = list(0. for i in range(len(classes)))\n",
        "    class_total = list(0. for i in range(len(classes)))\n",
        "\n",
        "    conv_net_model.eval()  # eval mode\n",
        "\n",
        "    labels = []\n",
        "    predictions = []\n",
        "    # iterate over test data\n",
        "    for data, target in test_loader:\n",
        "        # move tensors to GPU if CUDA is available\n",
        "        if train_on_gpu:\n",
        "            data, target = data.cuda(), target.cuda()\n",
        "        # forward pass: compute predicted outputs by passing inputs to the model\n",
        "        output = conv_net_model(data)\n",
        "\n",
        "        # calculate the batch loss\n",
        "        loss = criterion(output, target)\n",
        "        # update  test loss\n",
        "        test_loss += loss.item() * data.size(0)\n",
        "        # convert output probabilities to predicted class\n",
        "        _, pred = torch.max(output, 1)\n",
        "        # compare predictions to true label\n",
        "        correct_tensor = pred.eq(target.data.view_as(pred))\n",
        "        correct = np.squeeze(correct_tensor.numpy()) if not train_on_gpu else np.squeeze(correct_tensor.cpu().numpy())\n",
        "        # calculate test accuracy for each object class\n",
        "        for i in range(len(target.data)):\n",
        "            label = target.data[i]\n",
        "            class_correct[label] += correct[i].item()\n",
        "            class_total[label] += 1\n",
        "        \n",
        "        # Will be used for calculating Recall, Precision, and F1-score\n",
        "        labels.extend(target.data.view_as(pred).tolist())\n",
        "        predictions.extend(pred.tolist())\n",
        "\n",
        "\n",
        "    # calculate avg test loss\n",
        "    test_loss = test_loss / len(test_loader.dataset)\n",
        "    print('Test Loss: {:.6f}\\n'.format(test_loss))\n",
        "\n",
        "    return test_loss, class_correct, class_total, labels, predictions"
      ],
      "execution_count": 6,
      "outputs": []
    },
    {
      "cell_type": "markdown",
      "metadata": {
        "id": "xHh3PXE80Asa"
      },
      "source": [
        "Check whether CUDA is available (Change runtime type if not)"
      ]
    },
    {
      "cell_type": "code",
      "metadata": {
        "colab": {
          "base_uri": "https://localhost:8080/"
        },
        "id": "Q9TYPQH7x4zw",
        "outputId": "8632ed41-686f-4526-c8d9-4c2f4cb6a228"
      },
      "source": [
        "if not train_on_gpu:\n",
        "    print('CUDA is not available.  Training on CPU ...')\n",
        "else:\n",
        "    print('CUDA is available!  Training on GPU ...')"
      ],
      "execution_count": 7,
      "outputs": [
        {
          "output_type": "stream",
          "name": "stdout",
          "text": [
            "CUDA is available!  Training on GPU ...\n"
          ]
        }
      ]
    },
    {
      "cell_type": "markdown",
      "metadata": {
        "id": "6lYw8EKVx8Q7"
      },
      "source": [
        "Load Hieroglyph Data"
      ]
    },
    {
      "cell_type": "code",
      "metadata": {
        "colab": {
          "base_uri": "https://localhost:8080/"
        },
        "id": "laLvoRy1yewl",
        "outputId": "62913f21-be8d-4312-db0d-9c4e78ebed5a"
      },
      "source": [
        "# Connecting and Mounting to the Google Drive\n",
        "from google.colab import drive\n",
        "drive.mount('/content/drive')"
      ],
      "execution_count": 8,
      "outputs": [
        {
          "output_type": "stream",
          "name": "stdout",
          "text": [
            "Drive already mounted at /content/drive; to attempt to forcibly remount, call drive.mount(\"/content/drive\", force_remount=True).\n"
          ]
        }
      ]
    },
    {
      "cell_type": "code",
      "metadata": {
        "id": "odaoZt9GyfUt"
      },
      "source": [
        "data_dir = '/content/drive/MyDrive/EgyptianHieroglyphDataset_Original_Clean/'"
      ],
      "execution_count": 9,
      "outputs": []
    },
    {
      "cell_type": "code",
      "metadata": {
        "colab": {
          "base_uri": "https://localhost:8080/"
        },
        "id": "dF22MAnmyiC1",
        "outputId": "7a7e4f11-b2a9-478c-e176-44a6abddb992"
      },
      "source": [
        "hieroglyph_for_train = []\n",
        "file_count_list = []\n",
        "\n",
        "for name in os.listdir('/content/drive/MyDrive/EgyptianHieroglyphDataset_Original_Clean/train/'):\n",
        "  path, dirs, files = next(os.walk(\"/content/drive/MyDrive/EgyptianHieroglyphDataset_Original_Clean/train/\"+name))\n",
        "  file_count = len(files)\n",
        "  print(name, file_count)\n",
        "  file_count_list.append(file_count)\n",
        "  hieroglyph_for_train.append(name)\n",
        "\n",
        "hieroglyph_dict = dict(zip(hieroglyph_for_train, file_count_list))"
      ],
      "execution_count": 10,
      "outputs": [
        {
          "output_type": "stream",
          "name": "stdout",
          "text": [
            "Y5 6\n",
            "I9 116\n",
            "O34 15\n",
            "V13 63\n",
            "U7 3\n",
            "D46 40\n",
            "E34 97\n",
            "G1 28\n",
            "V31 106\n",
            "S34 8\n",
            "D36 47\n",
            "Q1 13\n",
            "V30 6\n",
            "F35 2\n",
            "O4 11\n",
            "M23 30\n",
            "S29 212\n",
            "R8 53\n",
            "W11 4\n",
            "X1 185\n",
            "Y1 1\n",
            "D21 146\n",
            "D2 19\n",
            "E23 8\n",
            "X8 4\n",
            "Z1 39\n",
            "D4 29\n",
            "V28 28\n",
            "I10 32\n",
            "O1 16\n",
            "M17 291\n",
            "F31 6\n",
            "G43 157\n",
            "D58 28\n",
            "O49 10\n",
            "G17 156\n",
            "R4 2\n",
            "Q3 61\n",
            "W24 31\n",
            "N35 358\n"
          ]
        }
      ]
    },
    {
      "cell_type": "markdown",
      "metadata": {
        "id": "XeQQ7PjZzKd9"
      },
      "source": [
        "Number of images for each hieroglyph "
      ]
    },
    {
      "cell_type": "code",
      "metadata": {
        "colab": {
          "base_uri": "https://localhost:8080/",
          "height": 609
        },
        "id": "W6IzWR2RyjxM",
        "outputId": "200ada71-5919-46fb-8eed-fbdd69ac96f7"
      },
      "source": [
        "import matplotlib.pyplot as plt\n",
        "import pandas as pd\n",
        "\n",
        "df = pd.DataFrame({\"Hieroglyph\":hieroglyph_for_train, \"Count\":file_count_list})\n",
        "\n",
        "df_sorted= df.sort_values('Count',ascending=False)\n",
        "\n",
        "plt.figure(figsize=(20,10))\n",
        "# make bar plot with matplotlib\n",
        "plt.bar('Hieroglyph', 'Count',data=df_sorted)"
      ],
      "execution_count": 11,
      "outputs": [
        {
          "output_type": "execute_result",
          "data": {
            "text/plain": [
              "<BarContainer object of 40 artists>"
            ]
          },
          "metadata": {},
          "execution_count": 11
        },
        {
          "output_type": "display_data",
          "data": {
            "image/png": "[encoded data removed]",
            "text/plain": [
              "<Figure size 1440x720 with 1 Axes>"
            ]
          },
          "metadata": {
            "needs_background": "light"
          }
        }
      ]
    },
    {
      "cell_type": "code",
      "metadata": {
        "id": "-3oOm8rSx7tp"
      },
      "source": [
        "# Number of images processed in a single training\n",
        "batch_size = 20\n",
        "num_workers = 0\n",
        "\n",
        "# The load_data function is from hieroglyph_data_preparation python file\n",
        "train_loader, test_loader, classes = load_data(data_dir)"
      ],
      "execution_count": 12,
      "outputs": []
    },
    {
      "cell_type": "markdown",
      "metadata": {
        "id": "BJm8sGiBx_q5"
      },
      "source": [
        "ResNet Model"
      ]
    },
    {
      "cell_type": "code",
      "metadata": {
        "id": "JkLXVJGkxemC",
        "colab": {
          "base_uri": "https://localhost:8080/"
        },
        "outputId": "fd1e3e43-567c-440d-db9e-7a707b3638dc"
      },
      "source": [
        "# Whether to extract features with the model\n",
        "feature_extract = False\n",
        "# Other selections\n",
        "loss_function = \"cross-entropy\"\n",
        "model_selection = \"xception\"\n",
        "optim_selection = \"Adam\"\n",
        "\n",
        "# False if you want scratch model, True if you want pretrained model\n",
        "whether_to_pretrain = True\n",
        "\n",
        "# Load the model\n",
        "if model_selection == \"resnet-50\":\n",
        "    resnet50 = models.resnet50(pretrained=whether_to_pretrain)\n",
        "    # Number of features in the last layer of resnet\n",
        "    n_inputs = resnet50.fc.in_features\n",
        "    # Add last linear layer (n_inputs -> 40 hieroglyph classes)\n",
        "    last_layer = nn.Sequential(\n",
        "                    nn.Linear(n_inputs, len(classes)))\n",
        "    resnet50.fc = last_layer\n",
        "    if train_on_gpu:\n",
        "      resnet50.cuda()\n",
        "    # Specify optimizer (Adam) and learning rate = 0.001\n",
        "    if optim_selection == \"Adam\":\n",
        "        optimizer = optim.Adam(resnet50.parameters(), lr=0.001)\n",
        "\n",
        "elif model_selection == \"inception-v3\":\n",
        "    inception_v3 = models.inception_v3(pretrained=whether_to_pretrain)\n",
        "    # Number of features in the last layer of resnet\n",
        "    n_inputs = inception_v3.fc.in_features\n",
        "    # Add last linear layer (n_inputs -> 40 hieroglyph classes)\n",
        "    last_layer = nn.Sequential(\n",
        "                    nn.Linear(n_inputs, len(classes)))\n",
        "    inception_v3.fc = last_layer\n",
        "    if train_on_gpu:\n",
        "      inception_v3.cuda()\n",
        "    # Specify optimizer (Adam) and learning rate = 0.001\n",
        "    if optim_selection == \"Adam\":\n",
        "        optimizer = optim.Adam(inception_v3.parameters(), lr=0.001)\n",
        "\n",
        "elif model_selection == \"xception\":\n",
        "    xception = timm.create_model('xception', pretrained=whether_to_pretrain)\n",
        "    # Number of features in the last layer of resnet\n",
        "    n_inputs = xception.fc.in_features\n",
        "    # Add last linear layer (n_inputs -> 40 hieroglyph classes)\n",
        "    last_layer = nn.Sequential(\n",
        "                    nn.Linear(n_inputs, len(classes)))\n",
        "    xception.fc = last_layer\n",
        "    if train_on_gpu:\n",
        "      xception.cuda()\n",
        "    # Specify optimizer (Adam) and learning rate = 0.001\n",
        "    if optim_selection == \"Adam\":\n",
        "        optimizer = optim.Adam(xception.parameters(), lr=0.001)\n",
        "\n",
        "# Specify loss function (categorical cross-entropy)\n",
        "if loss_function == \"cross-entropy\":\n",
        "    criterion = nn.CrossEntropyLoss()\n",
        "\n",
        "# Exponential Decay to strengthen learning\n",
        "decayRate = 0.999\n",
        "my_lr_scheduler = torch.optim.lr_scheduler.ExponentialLR(optimizer=optimizer, gamma=decayRate)"
      ],
      "execution_count": 13,
      "outputs": [
        {
          "output_type": "stream",
          "name": "stderr",
          "text": [
            "Downloading: \"https://github.com/rwightman/pytorch-image-models/releases/download/v0.1-cadene/xception-43020ad28.pth\" to /root/.cache/torch/hub/checkpoints/xception-43020ad28.pth\n"
          ]
        }
      ]
    },
    {
      "cell_type": "markdown",
      "metadata": {
        "id": "U2vnErB1yHmM"
      },
      "source": [
        "Training the model"
      ]
    },
    {
      "cell_type": "code",
      "metadata": {
        "colab": {
          "base_uri": "https://localhost:8080/"
        },
        "id": "dOB03noWyEvQ",
        "outputId": "36c79837-81f0-4ffb-e26d-0c3f35fea127"
      },
      "source": [
        "# number of epochs to train the model\n",
        "n_epochs = 50\n",
        "\n",
        "if model_selection == \"resnet-50\":\n",
        "  # The train_model function is from model_training python file\n",
        "  resnet50, train_losses = train_model(train_loader, optimizer, resnet50, criterion, my_lr_scheduler, n_epochs)\n",
        "elif model_selection == \"inception-v3\":\n",
        "  # The train_model function is from model_training python file\n",
        "  inception_v3, train_losses = train_model(train_loader, optimizer, inception_v3, criterion, my_lr_scheduler, n_epochs)\n",
        "elif model_selection == \"xception\":\n",
        "  # The train_model function is from model_training python file\n",
        "  xception, train_losses = train_model(train_loader, optimizer, xception, criterion, my_lr_scheduler, n_epochs)"
      ],
      "execution_count": 14,
      "outputs": [
        {
          "output_type": "stream",
          "name": "stdout",
          "text": [
            "Epoch 1, Batch 20 loss: 3.0527265429496766\n",
            "Epoch 1, Batch 40 loss: 2.1011162161827088\n",
            "Epoch 1, Batch 60 loss: 1.8063490271568299\n",
            "Epoch 1, Batch 80 loss: 1.4583723843097687\n",
            "Epoch 1, Batch 100 loss: 1.2595904320478439\n",
            "Epoch 1, Batch 120 loss: 0.9375923335552215\n",
            "Epoch 2, Batch 20 loss: 0.8522078126668930\n",
            "Epoch 2, Batch 40 loss: 0.8879494279623031\n",
            "Epoch 2, Batch 60 loss: 0.5844945278018713\n",
            "Epoch 2, Batch 80 loss: 0.6153681300580501\n",
            "Epoch 2, Batch 100 loss: 0.5585336282849311\n",
            "Epoch 2, Batch 120 loss: 0.5366791401058435\n",
            "Epoch 3, Batch 20 loss: 0.4546315059065819\n",
            "Epoch 3, Batch 40 loss: 0.4820230972021818\n",
            "Epoch 3, Batch 60 loss: 0.3559795584529638\n",
            "Epoch 3, Batch 80 loss: 0.4079102683812380\n",
            "Epoch 3, Batch 100 loss: 0.3825573168694973\n",
            "Epoch 3, Batch 120 loss: 0.3851323626935482\n",
            "Epoch 4, Batch 20 loss: 0.3219784649088979\n",
            "Epoch 4, Batch 40 loss: 0.3838900968432427\n",
            "Epoch 4, Batch 60 loss: 0.2833077954128385\n",
            "Epoch 4, Batch 80 loss: 0.2944459349848330\n",
            "Epoch 4, Batch 100 loss: 0.2346938582137227\n",
            "Epoch 4, Batch 120 loss: 0.2315551923587918\n",
            "Epoch 5, Batch 20 loss: 0.2169025195762515\n",
            "Epoch 5, Batch 40 loss: 0.1217841116711497\n",
            "Epoch 5, Batch 60 loss: 0.1707778860814869\n",
            "Epoch 5, Batch 80 loss: 0.2261538737220690\n",
            "Epoch 5, Batch 100 loss: 0.2502056628465653\n",
            "Epoch 5, Batch 120 loss: 0.2646116334944963\n",
            "Epoch 6, Batch 20 loss: 0.1975804959423840\n",
            "Epoch 6, Batch 40 loss: 0.1267376412637532\n",
            "Epoch 6, Batch 60 loss: 0.1630016653798521\n",
            "Epoch 6, Batch 80 loss: 0.1502974134404212\n",
            "Epoch 6, Batch 100 loss: 0.1070064822677523\n",
            "Epoch 6, Batch 120 loss: 0.2007734850049019\n",
            "Epoch 7, Batch 20 loss: 0.1808079222217202\n",
            "Epoch 7, Batch 40 loss: 0.1445332168601453\n",
            "Epoch 7, Batch 60 loss: 0.1646647665649653\n",
            "Epoch 7, Batch 80 loss: 0.1448313532629982\n",
            "Epoch 7, Batch 100 loss: 0.0831401254050434\n",
            "Epoch 7, Batch 120 loss: 0.1135838341433555\n",
            "Epoch 8, Batch 20 loss: 0.1239802498370409\n",
            "Epoch 8, Batch 40 loss: 0.1025443572783843\n",
            "Epoch 8, Batch 60 loss: 0.0898133050184697\n",
            "Epoch 8, Batch 80 loss: 0.0803381455363706\n",
            "Epoch 8, Batch 100 loss: 0.0612883542897180\n",
            "Epoch 8, Batch 120 loss: 0.0818048714194447\n",
            "Epoch 9, Batch 20 loss: 0.1345581629313529\n",
            "Epoch 9, Batch 40 loss: 0.0830177441006526\n",
            "Epoch 9, Batch 60 loss: 0.0693566240137443\n",
            "Epoch 9, Batch 80 loss: 0.0850321805337444\n",
            "Epoch 9, Batch 100 loss: 0.0733809145633131\n",
            "Epoch 9, Batch 120 loss: 0.0552995714242570\n",
            "Epoch 10, Batch 20 loss: 0.0774560046382248\n",
            "Epoch 10, Batch 40 loss: 0.0814181789522991\n",
            "Epoch 10, Batch 60 loss: 0.0731452704872936\n",
            "Epoch 10, Batch 80 loss: 0.0327606153790839\n",
            "Epoch 10, Batch 100 loss: 0.0496212843805552\n",
            "Epoch 10, Batch 120 loss: 0.0746866493078414\n",
            "Epoch 11, Batch 20 loss: 0.0858070516726002\n",
            "Epoch 11, Batch 40 loss: 0.0543944291654043\n",
            "Epoch 11, Batch 60 loss: 0.0642987846804317\n",
            "Epoch 11, Batch 80 loss: 0.0511371853412129\n",
            "Epoch 11, Batch 100 loss: 0.0634695990476757\n",
            "Epoch 11, Batch 120 loss: 0.0548852089559659\n",
            "Epoch 12, Batch 20 loss: 0.0423801284108777\n",
            "Epoch 12, Batch 40 loss: 0.0546161134087015\n",
            "Epoch 12, Batch 60 loss: 0.0553607640555128\n",
            "Epoch 12, Batch 80 loss: 0.0491455792216584\n",
            "Epoch 12, Batch 100 loss: 0.0624982027104124\n",
            "Epoch 12, Batch 120 loss: 0.0393496590491850\n",
            "Epoch 13, Batch 20 loss: 0.0501756594283506\n",
            "Epoch 13, Batch 40 loss: 0.0363207647344097\n",
            "Epoch 13, Batch 60 loss: 0.0672672276617959\n",
            "Epoch 13, Batch 80 loss: 0.0391091059660539\n",
            "Epoch 13, Batch 100 loss: 0.0439740627421997\n",
            "Epoch 13, Batch 120 loss: 0.0728786190215032\n",
            "Epoch 14, Batch 20 loss: 0.0628876312344801\n",
            "Epoch 14, Batch 40 loss: 0.0332767057465389\n",
            "Epoch 14, Batch 60 loss: 0.0303677080199122\n",
            "Epoch 14, Batch 80 loss: 0.0358570981217781\n",
            "Epoch 14, Batch 100 loss: 0.0562155864550732\n",
            "Epoch 14, Batch 120 loss: 0.0384093311266042\n",
            "Epoch 15, Batch 20 loss: 0.0240926667465828\n",
            "Epoch 15, Batch 40 loss: 0.0262123663560487\n",
            "Epoch 15, Batch 60 loss: 0.0331661313772202\n",
            "Epoch 15, Batch 80 loss: 0.0378623677941505\n",
            "Epoch 15, Batch 100 loss: 0.0447309962706640\n",
            "Epoch 15, Batch 120 loss: 0.0477650412882213\n",
            "Epoch 16, Batch 20 loss: 0.0597220034222119\n",
            "Epoch 16, Batch 40 loss: 0.0567197427270003\n",
            "Epoch 16, Batch 60 loss: 0.0254572205594741\n",
            "Epoch 16, Batch 80 loss: 0.0166939662187360\n",
            "Epoch 16, Batch 100 loss: 0.0175794420210877\n",
            "Epoch 16, Batch 120 loss: 0.0224961107422132\n",
            "Epoch 17, Batch 20 loss: 0.0297286977292970\n",
            "Epoch 17, Batch 40 loss: 0.0093025320267770\n",
            "Epoch 17, Batch 60 loss: 0.0153467252588598\n",
            "Epoch 17, Batch 80 loss: 0.0217083142517367\n",
            "Epoch 17, Batch 100 loss: 0.0212604364089202\n",
            "Epoch 17, Batch 120 loss: 0.0291979675734183\n",
            "Epoch 18, Batch 20 loss: 0.0195071848516818\n",
            "Epoch 18, Batch 40 loss: 0.0419917138002347\n",
            "Epoch 18, Batch 60 loss: 0.0151527026115218\n",
            "Epoch 18, Batch 80 loss: 0.0198007692175452\n",
            "Epoch 18, Batch 100 loss: 0.0461990508687450\n",
            "Epoch 18, Batch 120 loss: 0.0329140673740767\n",
            "Epoch 19, Batch 20 loss: 0.0209515683294740\n",
            "Epoch 19, Batch 40 loss: 0.0368825068988372\n",
            "Epoch 19, Batch 60 loss: 0.0466520256886724\n",
            "Epoch 19, Batch 80 loss: 0.0092401046393206\n",
            "Epoch 19, Batch 100 loss: 0.0186587773903739\n",
            "Epoch 19, Batch 120 loss: 0.0228931270714384\n",
            "Epoch 20, Batch 20 loss: 0.0216272594610928\n",
            "Epoch 20, Batch 40 loss: 0.0398908764414955\n",
            "Epoch 20, Batch 60 loss: 0.0607908852398396\n",
            "Epoch 20, Batch 80 loss: 0.0389834902569419\n",
            "Epoch 20, Batch 100 loss: 0.0316054534778232\n",
            "Epoch 20, Batch 120 loss: 0.0789670362777542\n",
            "Epoch 21, Batch 20 loss: 0.0111545602703700\n",
            "Epoch 21, Batch 40 loss: 0.0256768708233722\n",
            "Epoch 21, Batch 60 loss: 0.0234050531580579\n",
            "Epoch 21, Batch 80 loss: 0.0091618978301994\n",
            "Epoch 21, Batch 100 loss: 0.0240862657170510\n",
            "Epoch 21, Batch 120 loss: 0.0319694204372354\n",
            "Epoch 22, Batch 20 loss: 0.0233391753747128\n",
            "Epoch 22, Batch 40 loss: 0.0492007183085661\n",
            "Epoch 22, Batch 60 loss: 0.0593211497412994\n",
            "Epoch 22, Batch 80 loss: 0.0107876514201052\n",
            "Epoch 22, Batch 100 loss: 0.0206452482423629\n",
            "Epoch 22, Batch 120 loss: 0.0198020067851758\n",
            "Epoch 23, Batch 20 loss: 0.0147220906510483\n",
            "Epoch 23, Batch 40 loss: 0.0107688398114988\n",
            "Epoch 23, Batch 60 loss: 0.0090385976756806\n",
            "Epoch 23, Batch 80 loss: 0.0058107821052545\n",
            "Epoch 23, Batch 100 loss: 0.0238789088238264\n",
            "Epoch 23, Batch 120 loss: 0.0046026164083742\n",
            "Epoch 24, Batch 20 loss: 0.0185422258276958\n",
            "Epoch 24, Batch 40 loss: 0.0108884099521674\n",
            "Epoch 24, Batch 60 loss: 0.0230784998624586\n",
            "Epoch 24, Batch 80 loss: 0.0383915625192458\n",
            "Epoch 24, Batch 100 loss: 0.0175629257399123\n",
            "Epoch 24, Batch 120 loss: 0.0333172232902143\n",
            "Epoch 25, Batch 20 loss: 0.0225157552704331\n",
            "Epoch 25, Batch 40 loss: 0.0263768077420536\n",
            "Epoch 25, Batch 60 loss: 0.0266166306537343\n",
            "Epoch 25, Batch 80 loss: 0.0108693457528716\n",
            "Epoch 25, Batch 100 loss: 0.0243611354439054\n",
            "Epoch 25, Batch 120 loss: 0.0041174326441251\n",
            "Epoch 26, Batch 20 loss: 0.0252815364045091\n",
            "Epoch 26, Batch 40 loss: 0.0259108635655139\n",
            "Epoch 26, Batch 60 loss: 0.0244886262356886\n",
            "Epoch 26, Batch 80 loss: 0.0108694631839171\n",
            "Epoch 26, Batch 100 loss: 0.0239924068766413\n",
            "Epoch 26, Batch 120 loss: 0.0027493148896610\n",
            "Epoch 27, Batch 20 loss: 0.0227348008716945\n",
            "Epoch 27, Batch 40 loss: 0.0205027559350128\n",
            "Epoch 27, Batch 60 loss: 0.0034989735562704\n",
            "Epoch 27, Batch 80 loss: 0.0062613523652544\n",
            "Epoch 27, Batch 100 loss: 0.0187495477119228\n",
            "Epoch 27, Batch 120 loss: 0.0052629793077358\n",
            "Epoch 28, Batch 20 loss: 0.0218013099598465\n",
            "Epoch 28, Batch 40 loss: 0.0232292654138291\n",
            "Epoch 28, Batch 60 loss: 0.0069852675165748\n",
            "Epoch 28, Batch 80 loss: 0.0173245256984956\n",
            "Epoch 28, Batch 100 loss: 0.0075217799090751\n",
            "Epoch 28, Batch 120 loss: 0.0145719528271002\n",
            "Epoch 29, Batch 20 loss: 0.0283944934140891\n",
            "Epoch 29, Batch 40 loss: 0.0222106682369486\n",
            "Epoch 29, Batch 60 loss: 0.0206647753948346\n",
            "Epoch 29, Batch 80 loss: 0.0080632731638616\n",
            "Epoch 29, Batch 100 loss: 0.0249030815495644\n",
            "Epoch 29, Batch 120 loss: 0.0082860251990496\n",
            "Epoch 30, Batch 20 loss: 0.0078470100386767\n",
            "Epoch 30, Batch 40 loss: 0.0473075090616476\n",
            "Epoch 30, Batch 60 loss: 0.0163040588391596\n",
            "Epoch 30, Batch 80 loss: 0.0045093053093296\n",
            "Epoch 30, Batch 100 loss: 0.0240620147931622\n",
            "Epoch 30, Batch 120 loss: 0.0390401731317979\n",
            "Epoch 31, Batch 20 loss: 0.0072758033871651\n",
            "Epoch 31, Batch 40 loss: 0.0072632082199561\n",
            "Epoch 31, Batch 60 loss: 0.0195936738789896\n",
            "Epoch 31, Batch 80 loss: 0.0272341780888382\n",
            "Epoch 31, Batch 100 loss: 0.0091913404743536\n",
            "Epoch 31, Batch 120 loss: 0.0156017307599541\n",
            "Epoch 32, Batch 20 loss: 0.0080038738786243\n",
            "Epoch 32, Batch 40 loss: 0.0116000447829720\n",
            "Epoch 32, Batch 60 loss: 0.0321536844901857\n",
            "Epoch 32, Batch 80 loss: 0.0288761413161410\n",
            "Epoch 32, Batch 100 loss: 0.0041751566546736\n",
            "Epoch 32, Batch 120 loss: 0.0087570204748772\n",
            "Epoch 33, Batch 20 loss: 0.0047255916055292\n",
            "Epoch 33, Batch 40 loss: 0.0200014443165855\n",
            "Epoch 33, Batch 60 loss: 0.0074787544202991\n",
            "Epoch 33, Batch 80 loss: 0.0198094139923342\n",
            "Epoch 33, Batch 100 loss: 0.0106367878266610\n",
            "Epoch 33, Batch 120 loss: 0.0071139283987577\n",
            "Epoch 34, Batch 20 loss: 0.0262431082635885\n",
            "Epoch 34, Batch 40 loss: 0.0095375127959414\n",
            "Epoch 34, Batch 60 loss: 0.0050916260122904\n",
            "Epoch 34, Batch 80 loss: 0.0074960570287658\n",
            "Epoch 34, Batch 100 loss: 0.0105808066524332\n",
            "Epoch 34, Batch 120 loss: 0.0333298616445973\n",
            "Epoch 35, Batch 20 loss: 0.0083881395185017\n",
            "Epoch 35, Batch 40 loss: 0.0087060846351960\n",
            "Epoch 35, Batch 60 loss: 0.0104337299002509\n",
            "Epoch 35, Batch 80 loss: 0.0090583561323001\n",
            "Epoch 35, Batch 100 loss: 0.0068914151277568\n",
            "Epoch 35, Batch 120 loss: 0.0202886710030725\n",
            "Epoch 36, Batch 20 loss: 0.0182206641737139\n",
            "Epoch 36, Batch 40 loss: 0.0095326251641382\n",
            "Epoch 36, Batch 60 loss: 0.0189581873964926\n",
            "Epoch 36, Batch 80 loss: 0.0074737942486536\n",
            "Epoch 36, Batch 100 loss: 0.0075011684413766\n",
            "Epoch 36, Batch 120 loss: 0.0055407514926628\n",
            "Epoch 37, Batch 20 loss: 0.0053619404847268\n",
            "Epoch 37, Batch 40 loss: 0.0277349794487236\n",
            "Epoch 37, Batch 60 loss: 0.0133718056742509\n",
            "Epoch 37, Batch 80 loss: 0.0166642113341368\n",
            "Epoch 37, Batch 100 loss: 0.0077885169739602\n",
            "Epoch 37, Batch 120 loss: 0.0041138564993162\n",
            "Epoch 38, Batch 20 loss: 0.0032617271164781\n",
            "Epoch 38, Batch 40 loss: 0.0028814235978643\n",
            "Epoch 38, Batch 60 loss: 0.0034543526489870\n",
            "Epoch 38, Batch 80 loss: 0.0379778583883308\n",
            "Epoch 38, Batch 100 loss: 0.0165670618036529\n",
            "Epoch 38, Batch 120 loss: 0.0115041485754773\n",
            "Epoch 39, Batch 20 loss: 0.0165661345425178\n",
            "Epoch 39, Batch 40 loss: 0.0113232313044136\n",
            "Epoch 39, Batch 60 loss: 0.0119555015160586\n",
            "Epoch 39, Batch 80 loss: 0.0041273263705079\n",
            "Epoch 39, Batch 100 loss: 0.0104334372270387\n",
            "Epoch 39, Batch 120 loss: 0.0085125757774222\n",
            "Epoch 40, Batch 20 loss: 0.0081168008997338\n",
            "Epoch 40, Batch 40 loss: 0.0043583393766312\n",
            "Epoch 40, Batch 60 loss: 0.0247449958100333\n",
            "Epoch 40, Batch 80 loss: 0.0108155639172764\n",
            "Epoch 40, Batch 100 loss: 0.0112310611308203\n",
            "Epoch 40, Batch 120 loss: 0.0106102810852462\n",
            "Epoch 41, Batch 20 loss: 0.0180469660583185\n",
            "Epoch 41, Batch 40 loss: 0.0100207983385189\n",
            "Epoch 41, Batch 60 loss: 0.0030260561929026\n",
            "Epoch 41, Batch 80 loss: 0.0167413167837367\n",
            "Epoch 41, Batch 100 loss: 0.0075460589228896\n",
            "Epoch 41, Batch 120 loss: 0.0043919514369918\n",
            "Epoch 42, Batch 20 loss: 0.0054293995068292\n",
            "Epoch 42, Batch 40 loss: 0.0205157932592556\n",
            "Epoch 42, Batch 60 loss: 0.0116224369456177\n",
            "Epoch 42, Batch 80 loss: 0.0105708564195083\n",
            "Epoch 42, Batch 100 loss: 0.0072522442453192\n",
            "Epoch 42, Batch 120 loss: 0.0062630183558213\n",
            "Epoch 43, Batch 20 loss: 0.0113374742802989\n",
            "Epoch 43, Batch 40 loss: 0.0049218100233702\n",
            "Epoch 43, Batch 60 loss: 0.0084604178693553\n",
            "Epoch 43, Batch 80 loss: 0.0056723160145339\n",
            "Epoch 43, Batch 100 loss: 0.0156879204558209\n",
            "Epoch 43, Batch 120 loss: 0.0050076195882866\n",
            "Epoch 44, Batch 20 loss: 0.0084243708814029\n",
            "Epoch 44, Batch 40 loss: 0.0274614952373668\n",
            "Epoch 44, Batch 60 loss: 0.0117508871881000\n",
            "Epoch 44, Batch 80 loss: 0.0192491167457774\n",
            "Epoch 44, Batch 100 loss: 0.0028739933186444\n",
            "Epoch 44, Batch 120 loss: 0.0061380552026094\n",
            "Epoch 45, Batch 20 loss: 0.0027750855129852\n",
            "Epoch 45, Batch 40 loss: 0.0289816291566240\n",
            "Epoch 45, Batch 60 loss: 0.0375124230609799\n",
            "Epoch 45, Batch 80 loss: 0.0063580343514332\n",
            "Epoch 45, Batch 100 loss: 0.0122471632173983\n",
            "Epoch 45, Batch 120 loss: 0.0255044845660450\n",
            "Epoch 46, Batch 20 loss: 0.0213341824062809\n",
            "Epoch 46, Batch 40 loss: 0.0203423836770526\n",
            "Epoch 46, Batch 60 loss: 0.0095243782809121\n",
            "Epoch 46, Batch 80 loss: 0.0126998194813495\n",
            "Epoch 46, Batch 100 loss: 0.0027838598995004\n",
            "Epoch 46, Batch 120 loss: 0.0137446602384443\n",
            "Epoch 47, Batch 20 loss: 0.0042762502736878\n",
            "Epoch 47, Batch 40 loss: 0.0123356564581627\n",
            "Epoch 47, Batch 60 loss: 0.0339769222886389\n",
            "Epoch 47, Batch 80 loss: 0.0129778933274793\n",
            "Epoch 47, Batch 100 loss: 0.0039628292339330\n",
            "Epoch 47, Batch 120 loss: 0.0068141261115670\n",
            "Epoch 48, Batch 20 loss: 0.0133496178706991\n",
            "Epoch 48, Batch 40 loss: 0.0027950658943155\n",
            "Epoch 48, Batch 60 loss: 0.0226393814198673\n",
            "Epoch 48, Batch 80 loss: 0.0037176634796197\n",
            "Epoch 48, Batch 100 loss: 0.0171308190299897\n",
            "Epoch 48, Batch 120 loss: 0.0125643002887955\n",
            "Epoch 49, Batch 20 loss: 0.0038599794002948\n",
            "Epoch 49, Batch 40 loss: 0.0124762991719763\n",
            "Epoch 49, Batch 60 loss: 0.0205152726688539\n",
            "Epoch 49, Batch 80 loss: 0.0071275923575740\n",
            "Epoch 49, Batch 100 loss: 0.0190610291785561\n",
            "Epoch 49, Batch 120 loss: 0.0118460176054214\n",
            "Epoch 50, Batch 20 loss: 0.0091930935144774\n",
            "Epoch 50, Batch 40 loss: 0.0129537474218523\n",
            "Epoch 50, Batch 60 loss: 0.0128600323281717\n",
            "Epoch 50, Batch 80 loss: 0.0170176096784417\n",
            "Epoch 50, Batch 100 loss: 0.0037579027237371\n",
            "Epoch 50, Batch 120 loss: 0.0077737434316077\n"
          ]
        }
      ]
    },
    {
      "cell_type": "code",
      "metadata": {
        "id": "CfA7ZjLR1BZP",
        "colab": {
          "base_uri": "https://localhost:8080/",
          "height": 281
        },
        "outputId": "80932544-68d8-4f72-a960-1be98aa3cba9"
      },
      "source": [
        "plt.plot(train_losses)\n",
        "plt.title(\"Training Loss\")\n",
        "plt.show()"
      ],
      "execution_count": 15,
      "outputs": [
        {
          "output_type": "display_data",
          "data": {
            "image/png": "[encoded data removed]",
            "text/plain": [
              "<Figure size 432x288 with 1 Axes>"
            ]
          },
          "metadata": {
            "needs_background": "light"
          }
        }
      ]
    },
    {
      "cell_type": "markdown",
      "metadata": {
        "id": "ItLyF9dQyJFL"
      },
      "source": [
        "Testing the model"
      ]
    },
    {
      "cell_type": "code",
      "metadata": {
        "id": "gGki98W3SoEW"
      },
      "source": [
        "from sklearn.metrics import precision_score, recall_score, f1_score, accuracy_score"
      ],
      "execution_count": 16,
      "outputs": []
    },
    {
      "cell_type": "code",
      "metadata": {
        "id": "xNavYOynyE6d",
        "colab": {
          "base_uri": "https://localhost:8080/"
        },
        "outputId": "008006d1-b6b8-466e-d5d2-25dbdcc43c0a"
      },
      "source": [
        "# The test_model function is from model_testing python file\n",
        "test_loss, class_correct, class_total, labels, predictions = test_model(classes, xception, test_loader, criterion)\n",
        "\n",
        "# Test accuracy for each hieroglyph\n",
        "for i in range(len(classes)):\n",
        "    if class_total[i] > 0:\n",
        "        print('Test Accuracy of %5s: %2d%% (%2d/%2d)' % (classes[i], 100 * class_correct[i] / class_total[i], np.sum(class_correct[i]), np.sum(class_total[i])))\n",
        "    else:\n",
        "        print('Test Accuracy of %5s: N/A (no training examples)' % (classes[i]))\n",
        "\n",
        "# Total Test accuracy\n",
        "print(\"\\nAccuracy: {:.3%}\".format(accuracy_score(labels, predictions)))\n",
        "print(\"\\nPrecision: {:.3%}\".format(precision_score(labels, predictions, average = 'weighted')))\n",
        "print(\"\\nRecall: {:.3%}\".format(recall_score(labels, predictions, average = 'weighted')))\n",
        "print(\"\\nF1-score: {:.3%}\".format(f1_score(labels, predictions, average = 'weighted')))"
      ],
      "execution_count": 17,
      "outputs": [
        {
          "output_type": "stream",
          "name": "stdout",
          "text": [
            "Test Loss: 0.065598\n",
            "\n",
            "Test Accuracy of    D2: 95% (20/21)\n",
            "Test Accuracy of   D21: 84% (11/13)\n",
            "Test Accuracy of   D36: 100% (17/17)\n",
            "Test Accuracy of    D4: 100% (11/11)\n",
            "Test Accuracy of   D46: 100% (12/12)\n",
            "Test Accuracy of   D58: 94% (17/18)\n",
            "Test Accuracy of   E23: 77% (14/18)\n",
            "Test Accuracy of   E34: 100% (22/22)\n",
            "Test Accuracy of   F31: 100% (12/12)\n",
            "Test Accuracy of   F35: 100% (18/18)\n",
            "Test Accuracy of    G1: 93% (15/16)\n",
            "Test Accuracy of   G17: 92% (12/13)\n",
            "Test Accuracy of   G43: 100% (15/15)\n",
            "Test Accuracy of   I10: 100% (20/20)\n",
            "Test Accuracy of    I9: 100% (17/17)\n",
            "Test Accuracy of   M17: 100% (14/14)\n",
            "Test Accuracy of   M23: 100% (12/12)\n",
            "Test Accuracy of   N35: 100% ( 9/ 9)\n",
            "Test Accuracy of    O1: 100% (18/18)\n",
            "Test Accuracy of   O34: 100% (18/18)\n",
            "Test Accuracy of    O4: 100% (21/21)\n",
            "Test Accuracy of   O49: 95% (23/24)\n",
            "Test Accuracy of    Q1: 100% (19/19)\n",
            "Test Accuracy of    Q3: 95% (20/21)\n",
            "Test Accuracy of    R4: 90% ( 9/10)\n",
            "Test Accuracy of    R8: 100% (15/15)\n",
            "Test Accuracy of   S29: 100% (17/17)\n",
            "Test Accuracy of   S34: 100% (18/18)\n",
            "Test Accuracy of    U7: 100% (14/14)\n",
            "Test Accuracy of   V13: 100% (19/19)\n",
            "Test Accuracy of   V28: 100% ( 8/ 8)\n",
            "Test Accuracy of   V30: 91% (11/12)\n",
            "Test Accuracy of   V31: 100% (10/10)\n",
            "Test Accuracy of   W11: 88% (16/18)\n",
            "Test Accuracy of   W24: 100% ( 9/ 9)\n",
            "Test Accuracy of    X1: 100% (25/25)\n",
            "Test Accuracy of    X8: 100% (12/12)\n",
            "Test Accuracy of    Y1: 78% (15/19)\n",
            "Test Accuracy of    Y5: 93% (14/15)\n",
            "Test Accuracy of    Z1: 100% (13/13)\n",
            "\n",
            "Accuracy: 96.682%\n",
            "\n",
            "Precision: 97.039%\n",
            "\n",
            "Recall: 96.682%\n",
            "\n",
            "F1-score: 96.689%\n"
          ]
        }
      ]
    }
  ]
}