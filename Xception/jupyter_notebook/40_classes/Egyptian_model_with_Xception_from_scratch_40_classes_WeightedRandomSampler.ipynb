{
  "nbformat": 4,
  "nbformat_minor": 0,
  "metadata": {
    "colab": {
      "name": "Egyptian_model_with_Xception_from_scratch_40_classes_WeightedRandomSampler.ipynb",
      "provenance": [],
      "collapsed_sections": []
    },
    "kernelspec": {
      "name": "python3",
      "display_name": "Python 3"
    },
    "language_info": {
      "name": "python"
    },
    "accelerator": "GPU"
  },
  "cells": [
    {
      "cell_type": "code",
      "metadata": {
        "colab": {
          "base_uri": "https://localhost:8080/"
        },
        "id": "Po0ZVacIYsP0",
        "outputId": "23b6d858-40cf-4672-b510-600a2dfe77ee"
      },
      "source": [
        "!pip install timm"
      ],
      "execution_count": 1,
      "outputs": [
        {
          "output_type": "stream",
          "name": "stdout",
          "text": [
            "Collecting timm\n",
            "  Downloading timm-0.4.12-py3-none-any.whl (376 kB)\n",
            "\u001b[?25l\r\u001b[K     |▉                               | 10 kB 18.1 MB/s eta 0:00:01\r\u001b[K     |█▊                              | 20 kB 23.0 MB/s eta 0:00:01\r\u001b[K     |██▋                             | 30 kB 25.0 MB/s eta 0:00:01\r\u001b[K     |███▌                            | 40 kB 26.9 MB/s eta 0:00:01\r\u001b[K     |████▍                           | 51 kB 8.0 MB/s eta 0:00:01\r\u001b[K     |█████▏                          | 61 kB 9.1 MB/s eta 0:00:01\r\u001b[K     |██████                          | 71 kB 10.3 MB/s eta 0:00:01\r\u001b[K     |███████                         | 81 kB 11.5 MB/s eta 0:00:01\r\u001b[K     |███████▉                        | 92 kB 12.6 MB/s eta 0:00:01\r\u001b[K     |████████▊                       | 102 kB 10.0 MB/s eta 0:00:01\r\u001b[K     |█████████▋                      | 112 kB 10.0 MB/s eta 0:00:01\r\u001b[K     |██████████▍                     | 122 kB 10.0 MB/s eta 0:00:01\r\u001b[K     |███████████▎                    | 133 kB 10.0 MB/s eta 0:00:01\r\u001b[K     |████████████▏                   | 143 kB 10.0 MB/s eta 0:00:01\r\u001b[K     |█████████████                   | 153 kB 10.0 MB/s eta 0:00:01\r\u001b[K     |██████████████                  | 163 kB 10.0 MB/s eta 0:00:01\r\u001b[K     |██████████████▊                 | 174 kB 10.0 MB/s eta 0:00:01\r\u001b[K     |███████████████▋                | 184 kB 10.0 MB/s eta 0:00:01\r\u001b[K     |████████████████▌               | 194 kB 10.0 MB/s eta 0:00:01\r\u001b[K     |█████████████████▍              | 204 kB 10.0 MB/s eta 0:00:01\r\u001b[K     |██████████████████▎             | 215 kB 10.0 MB/s eta 0:00:01\r\u001b[K     |███████████████████▏            | 225 kB 10.0 MB/s eta 0:00:01\r\u001b[K     |████████████████████            | 235 kB 10.0 MB/s eta 0:00:01\r\u001b[K     |████████████████████▉           | 245 kB 10.0 MB/s eta 0:00:01\r\u001b[K     |█████████████████████▊          | 256 kB 10.0 MB/s eta 0:00:01\r\u001b[K     |██████████████████████▋         | 266 kB 10.0 MB/s eta 0:00:01\r\u001b[K     |███████████████████████▌        | 276 kB 10.0 MB/s eta 0:00:01\r\u001b[K     |████████████████████████▍       | 286 kB 10.0 MB/s eta 0:00:01\r\u001b[K     |█████████████████████████▏      | 296 kB 10.0 MB/s eta 0:00:01\r\u001b[K     |██████████████████████████      | 307 kB 10.0 MB/s eta 0:00:01\r\u001b[K     |███████████████████████████     | 317 kB 10.0 MB/s eta 0:00:01\r\u001b[K     |███████████████████████████▉    | 327 kB 10.0 MB/s eta 0:00:01\r\u001b[K     |████████████████████████████▊   | 337 kB 10.0 MB/s eta 0:00:01\r\u001b[K     |█████████████████████████████▌  | 348 kB 10.0 MB/s eta 0:00:01\r\u001b[K     |██████████████████████████████▍ | 358 kB 10.0 MB/s eta 0:00:01\r\u001b[K     |███████████████████████████████▎| 368 kB 10.0 MB/s eta 0:00:01\r\u001b[K     |████████████████████████████████| 376 kB 10.0 MB/s \n",
            "\u001b[?25hRequirement already satisfied: torchvision in /usr/local/lib/python3.7/dist-packages (from timm) (0.11.1+cu111)\n",
            "Requirement already satisfied: torch>=1.4 in /usr/local/lib/python3.7/dist-packages (from timm) (1.10.0+cu111)\n",
            "Requirement already satisfied: typing-extensions in /usr/local/lib/python3.7/dist-packages (from torch>=1.4->timm) (3.10.0.2)\n",
            "Requirement already satisfied: numpy in /usr/local/lib/python3.7/dist-packages (from torchvision->timm) (1.19.5)\n",
            "Requirement already satisfied: pillow!=8.3.0,>=5.3.0 in /usr/local/lib/python3.7/dist-packages (from torchvision->timm) (7.1.2)\n",
            "Installing collected packages: timm\n",
            "Successfully installed timm-0.4.12\n"
          ]
        }
      ]
    },
    {
      "cell_type": "code",
      "metadata": {
        "id": "8iEiGSblxJzW"
      },
      "source": [
        "import os, os.path\n",
        "import torch\n",
        "import numpy as np\n",
        "import torch.nn as nn\n",
        "import torch.optim as optim\n",
        "from pathlib import Path\n",
        "from torchvision import datasets, models, transforms\n",
        "import timm\n",
        "\n",
        "# check if CUDA is available\n",
        "train_on_gpu = torch.cuda.is_available()"
      ],
      "execution_count": 2,
      "outputs": []
    },
    {
      "cell_type": "markdown",
      "metadata": {
        "id": "Jd6KU8VMz6J3"
      },
      "source": [
        "Module: Load_data"
      ]
    },
    {
      "cell_type": "code",
      "metadata": {
        "id": "CFTKwolqDOAG"
      },
      "source": [
        "def get_class_distribution(dataset_obj, idx2class):\n",
        "    count_dict = {k:0 for k,v in dataset_obj.class_to_idx.items()}\n",
        "    \n",
        "    for element in dataset_obj:\n",
        "        y_lbl = element[1]\n",
        "        y_lbl = idx2class[y_lbl]\n",
        "        count_dict[y_lbl] += 1\n",
        "            \n",
        "    return count_dict"
      ],
      "execution_count": 3,
      "outputs": []
    },
    {
      "cell_type": "code",
      "metadata": {
        "id": "8lWX0BW_w_kC"
      },
      "source": [
        "def load_data(hieroglyph_directory_path, batch_size=20, num_workers=0):\n",
        "    train_dir = os.path.join(hieroglyph_directory_path, 'train/')\n",
        "    test_dir = os.path.join(hieroglyph_directory_path, 'test/')\n",
        "\n",
        "    classes = []\n",
        "\n",
        "    for filename in os.listdir(train_dir):\n",
        "        if filename == '.DS_Store':\n",
        "            pass\n",
        "        else:\n",
        "            classes.append(filename)\n",
        "\n",
        "    classes.sort()\n",
        "\n",
        "    # print(\"Our classes:\", classes)\n",
        "    # print(len(classes))\n",
        "\n",
        "    data_transform = transforms.Compose([transforms.ToTensor(),\n",
        "                                              transforms.RandomApply([transforms.RandomHorizontalFlip()]),\n",
        "                                              transforms.RandomRotation(degrees=(-10, 10)),\n",
        "                                              transforms.RandomAffine(degrees=0, translate=(.1, .1)),\n",
        "                                              transforms.RandomApply([transforms.ColorJitter(brightness=(1, 1.2),\n",
        "                                                                                              contrast=(1, 1.5),\n",
        "                                                                                              saturation=(1, 1.5),\n",
        "                                                                                              hue=(0, 0.5))]),\n",
        "                                              transforms.RandomErasing(p=0.5, scale=(0.05, 0.05), ratio=(0.3, 3.3), value=0,\n",
        "                                                                        inplace=False),\n",
        "                                              transforms.Resize((75, 75)),\n",
        "                                              transforms.Normalize((0.5,), (0.5,))])\n",
        "\n",
        "    train_data = datasets.ImageFolder(train_dir, transform=data_transform)\n",
        "    test_data = datasets.ImageFolder(test_dir, transform=data_transform)\n",
        "\n",
        "    # print('Num training images: ', len(train_data))\n",
        "    # print('Num test images: ', len(test_data))\n",
        "\n",
        "    # WeightedRandomSampler for train loader\n",
        "    idx2class = {v: k for k, v in train_data.class_to_idx.items()}\n",
        "\n",
        "    target_list = torch.tensor(train_data.targets)\n",
        "    class_count = [i for i in get_class_distribution(train_data, idx2class).values()]\n",
        "    class_weights = 1./torch.tensor(class_count, dtype=torch.float) \n",
        "    class_weights_all = class_weights[target_list]\n",
        "    weighted_sampler = torch.utils.data.WeightedRandomSampler(weights=class_weights_all, num_samples=len(class_weights_all), replacement=True)\n",
        "\n",
        "    # prepare data loaders\n",
        "    train_loader = torch.utils.data.DataLoader(train_data, batch_size=batch_size,\n",
        "                                               num_workers=num_workers, sampler=weighted_sampler, drop_last=True)\n",
        "    \n",
        "    # WeightedRandomSampler for test loader\n",
        "    idx2class_test = {v: k for k, v in test_data.class_to_idx.items()}\n",
        "\n",
        "    target_list_test = torch.tensor(test_data.targets)\n",
        "    class_count_test = [i for i in get_class_distribution(test_data, idx2class_test).values()]\n",
        "    class_weights_test = 1./torch.tensor(class_count_test, dtype=torch.float) \n",
        "    class_weights_all_test = class_weights_test[target_list_test]\n",
        "    weighted_sampler_test = torch.utils.data.WeightedRandomSampler(weights=class_weights_all_test, num_samples=len(class_weights_all_test), replacement=True)\n",
        "\n",
        "    test_loader = torch.utils.data.DataLoader(test_data, batch_size=batch_size,\n",
        "                                              num_workers=num_workers, sampler=weighted_sampler_test)\n",
        "\n",
        "    return train_loader, test_loader, classes"
      ],
      "execution_count": 4,
      "outputs": []
    },
    {
      "cell_type": "markdown",
      "metadata": {
        "id": "K4sXUrPPz7iF"
      },
      "source": [
        "Module: Train_model"
      ]
    },
    {
      "cell_type": "code",
      "metadata": {
        "id": "N2N_rnKLxN5c"
      },
      "source": [
        "def train_model(train_loader, optimizer, conv_net_model, criterion, my_lr_scheduler, n_epochs):\n",
        "    # track training loss over time\n",
        "    losses = []\n",
        "    \n",
        "    for epoch in range(1, n_epochs + 1):\n",
        "\n",
        "        # keep track of training and validation loss\n",
        "        train_loss = 0.0\n",
        "\n",
        "        # model by default is set to train\n",
        "        for batch_i, (data, target) in enumerate(train_loader):\n",
        "            # move tensors to GPU if CUDA is available\n",
        "            if train_on_gpu:\n",
        "                data, target = data.cuda(), target.cuda()\n",
        "            # clear the gradients of all optimized variables\n",
        "            optimizer.zero_grad()\n",
        "            # forward pass: compute predicted outputs by passing inputs to the model\n",
        "            output = conv_net_model(data)\n",
        "            # calculate the batch loss\n",
        "            loss = criterion(output, target)\n",
        "            # backward pass: compute gradient of the loss with respect to model parameters\n",
        "            loss.backward()\n",
        "            # perform a single optimization step (parameter update)\n",
        "            optimizer.step()\n",
        "            # update training loss\n",
        "            train_loss += loss.item()\n",
        "\n",
        "            my_lr_scheduler.step()\n",
        "\n",
        "            if batch_i % 20 == 19:  # print training loss every specified number of mini-batches\n",
        "                print('Epoch %d, Batch %d loss: %.16f' %\n",
        "                    (epoch, batch_i + 1, train_loss / 20))\n",
        "                losses.append(train_loss / 20)\n",
        "                train_loss = 0.0\n",
        "\n",
        "    return conv_net_model, losses"
      ],
      "execution_count": 5,
      "outputs": []
    },
    {
      "cell_type": "markdown",
      "metadata": {
        "id": "-Rrxo5RDz96U"
      },
      "source": [
        "Module: Test_model"
      ]
    },
    {
      "cell_type": "code",
      "metadata": {
        "id": "Ay-HlMJnxU9v"
      },
      "source": [
        "def test_model(classes, conv_net_model, test_loader, criterion):\n",
        "    # track test loss\n",
        "    test_loss = 0.0\n",
        "    class_correct = list(0. for i in range(len(classes)))\n",
        "    class_total = list(0. for i in range(len(classes)))\n",
        "\n",
        "    conv_net_model.eval()  # eval mode\n",
        "\n",
        "    labels = []\n",
        "    predictions = []\n",
        "    # iterate over test data\n",
        "    for data, target in test_loader:\n",
        "        # move tensors to GPU if CUDA is available\n",
        "        if train_on_gpu:\n",
        "            data, target = data.cuda(), target.cuda()\n",
        "        # forward pass: compute predicted outputs by passing inputs to the model\n",
        "        output = conv_net_model(data)\n",
        "\n",
        "        # calculate the batch loss\n",
        "        loss = criterion(output, target)\n",
        "        # update  test loss\n",
        "        test_loss += loss.item() * data.size(0)\n",
        "        # convert output probabilities to predicted class\n",
        "        _, pred = torch.max(output, 1)\n",
        "        # compare predictions to true label\n",
        "        correct_tensor = pred.eq(target.data.view_as(pred))\n",
        "        correct = np.squeeze(correct_tensor.numpy()) if not train_on_gpu else np.squeeze(correct_tensor.cpu().numpy())\n",
        "        # calculate test accuracy for each object class\n",
        "        for i in range(len(target.data)):\n",
        "            label = target.data[i]\n",
        "            class_correct[label] += correct[i].item()\n",
        "            class_total[label] += 1\n",
        "        \n",
        "        # Will be used for calculating Recall, Precision, and F1-score\n",
        "        labels.extend(target.data.view_as(pred).tolist())\n",
        "        predictions.extend(pred.tolist())\n",
        "\n",
        "\n",
        "    # calculate avg test loss\n",
        "    test_loss = test_loss / len(test_loader.dataset)\n",
        "    print('Test Loss: {:.6f}\\n'.format(test_loss))\n",
        "\n",
        "    return test_loss, class_correct, class_total, labels, predictions"
      ],
      "execution_count": 6,
      "outputs": []
    },
    {
      "cell_type": "markdown",
      "metadata": {
        "id": "xHh3PXE80Asa"
      },
      "source": [
        "Check whether CUDA is available (Change runtime type if not)"
      ]
    },
    {
      "cell_type": "code",
      "metadata": {
        "colab": {
          "base_uri": "https://localhost:8080/"
        },
        "id": "Q9TYPQH7x4zw",
        "outputId": "be2c95cb-5f38-4c5e-934b-5bf3cd99d011"
      },
      "source": [
        "if not train_on_gpu:\n",
        "    print('CUDA is not available.  Training on CPU ...')\n",
        "else:\n",
        "    print('CUDA is available!  Training on GPU ...')"
      ],
      "execution_count": 7,
      "outputs": [
        {
          "output_type": "stream",
          "name": "stdout",
          "text": [
            "CUDA is available!  Training on GPU ...\n"
          ]
        }
      ]
    },
    {
      "cell_type": "markdown",
      "metadata": {
        "id": "6lYw8EKVx8Q7"
      },
      "source": [
        "Load Hieroglyph Data"
      ]
    },
    {
      "cell_type": "code",
      "metadata": {
        "colab": {
          "base_uri": "https://localhost:8080/"
        },
        "id": "laLvoRy1yewl",
        "outputId": "9d5a01b3-b59b-4703-bb87-969130250cc7"
      },
      "source": [
        "# Connecting and Mounting to the Google Drive\n",
        "from google.colab import drive\n",
        "drive.mount('/content/drive')"
      ],
      "execution_count": 8,
      "outputs": [
        {
          "output_type": "stream",
          "name": "stdout",
          "text": [
            "Mounted at /content/drive\n"
          ]
        }
      ]
    },
    {
      "cell_type": "code",
      "metadata": {
        "id": "odaoZt9GyfUt"
      },
      "source": [
        "data_dir = '/content/drive/MyDrive/EgyptianHieroglyphDataset_Original_Clean/'"
      ],
      "execution_count": 9,
      "outputs": []
    },
    {
      "cell_type": "code",
      "metadata": {
        "colab": {
          "base_uri": "https://localhost:8080/"
        },
        "id": "dF22MAnmyiC1",
        "outputId": "d5b612c2-a69d-4772-cfc5-bae8c4dad048"
      },
      "source": [
        "hieroglyph_for_train = []\n",
        "file_count_list = []\n",
        "\n",
        "for name in os.listdir('/content/drive/MyDrive/EgyptianHieroglyphDataset_Original_Clean/train/'):\n",
        "  path, dirs, files = next(os.walk(\"/content/drive/MyDrive/EgyptianHieroglyphDataset_Original_Clean/train/\"+name))\n",
        "  file_count = len(files)\n",
        "  print(name, file_count)\n",
        "  file_count_list.append(file_count)\n",
        "  hieroglyph_for_train.append(name)\n",
        "\n",
        "hieroglyph_dict = dict(zip(hieroglyph_for_train, file_count_list))"
      ],
      "execution_count": 10,
      "outputs": [
        {
          "output_type": "stream",
          "name": "stdout",
          "text": [
            "Y5 6\n",
            "I9 116\n",
            "O34 15\n",
            "V13 63\n",
            "U7 3\n",
            "D46 40\n",
            "E34 97\n",
            "G1 28\n",
            "V31 106\n",
            "S34 8\n",
            "D36 47\n",
            "Q1 13\n",
            "V30 6\n",
            "F35 2\n",
            "O4 11\n",
            "M23 30\n",
            "S29 212\n",
            "R8 53\n",
            "W11 4\n",
            "X1 185\n",
            "Y1 1\n",
            "D21 146\n",
            "D2 19\n",
            "E23 8\n",
            "X8 4\n",
            "Z1 39\n",
            "D4 29\n",
            "V28 28\n",
            "I10 32\n",
            "O1 16\n",
            "M17 291\n",
            "F31 6\n",
            "G43 157\n",
            "D58 28\n",
            "O49 10\n",
            "G17 156\n",
            "R4 2\n",
            "Q3 61\n",
            "W24 31\n",
            "N35 358\n"
          ]
        }
      ]
    },
    {
      "cell_type": "markdown",
      "metadata": {
        "id": "XeQQ7PjZzKd9"
      },
      "source": [
        "Number of images for each hieroglyph "
      ]
    },
    {
      "cell_type": "code",
      "metadata": {
        "colab": {
          "base_uri": "https://localhost:8080/",
          "height": 609
        },
        "id": "W6IzWR2RyjxM",
        "outputId": "67aca62b-63c0-4ff8-a300-4b9862d9bf7f"
      },
      "source": [
        "import matplotlib.pyplot as plt\n",
        "import pandas as pd\n",
        "\n",
        "df = pd.DataFrame({\"Hieroglyph\":hieroglyph_for_train, \"Count\":file_count_list})\n",
        "\n",
        "df_sorted= df.sort_values('Count',ascending=False)\n",
        "\n",
        "plt.figure(figsize=(20,10))\n",
        "# make bar plot with matplotlib\n",
        "plt.bar('Hieroglyph', 'Count',data=df_sorted)"
      ],
      "execution_count": 11,
      "outputs": [
        {
          "output_type": "execute_result",
          "data": {
            "text/plain": [
              "<BarContainer object of 40 artists>"
            ]
          },
          "metadata": {},
          "execution_count": 11
        },
        {
          "output_type": "display_data",
          "data": {
            "image/png": "[encoded data removed]",
            "text/plain": [
              "<Figure size 1440x720 with 1 Axes>"
            ]
          },
          "metadata": {
            "needs_background": "light"
          }
        }
      ]
    },
    {
      "cell_type": "code",
      "metadata": {
        "id": "-3oOm8rSx7tp"
      },
      "source": [
        "# Number of images processed in a single training\n",
        "batch_size = 20\n",
        "num_workers = 0\n",
        "\n",
        "# The load_data function is from hieroglyph_data_preparation python file\n",
        "train_loader, test_loader, classes = load_data(data_dir)"
      ],
      "execution_count": 12,
      "outputs": []
    },
    {
      "cell_type": "markdown",
      "metadata": {
        "id": "BJm8sGiBx_q5"
      },
      "source": [
        "ResNet Model"
      ]
    },
    {
      "cell_type": "code",
      "metadata": {
        "id": "JkLXVJGkxemC"
      },
      "source": [
        "# Whether to extract features with the model\n",
        "feature_extract = False\n",
        "# Other selections\n",
        "loss_function = \"cross-entropy\"\n",
        "model_selection = \"xception\"\n",
        "optim_selection = \"Adam\"\n",
        "\n",
        "# False if you want scratch model, True if you want pretrained model\n",
        "whether_to_pretrain = False\n",
        "\n",
        "# Load the model\n",
        "if model_selection == \"resnet-50\":\n",
        "    resnet50 = models.resnet50(pretrained=whether_to_pretrain)\n",
        "    # Number of features in the last layer of resnet\n",
        "    n_inputs = resnet50.fc.in_features\n",
        "    # Add last linear layer (n_inputs -> 40 hieroglyph classes)\n",
        "    last_layer = nn.Sequential(\n",
        "                    nn.Linear(n_inputs, len(classes)))\n",
        "    resnet50.fc = last_layer\n",
        "    if train_on_gpu:\n",
        "      resnet50.cuda()\n",
        "    # Specify optimizer (Adam) and learning rate = 0.001\n",
        "    if optim_selection == \"Adam\":\n",
        "        optimizer = optim.Adam(resnet50.parameters(), lr=0.001)\n",
        "\n",
        "elif model_selection == \"inception-v3\":\n",
        "    inception_v3 = models.inception_v3(pretrained=whether_to_pretrain)\n",
        "    # Number of features in the last layer of resnet\n",
        "    n_inputs = inception_v3.fc.in_features\n",
        "    # Add last linear layer (n_inputs -> 40 hieroglyph classes)\n",
        "    last_layer = nn.Sequential(\n",
        "                    nn.Linear(n_inputs, len(classes)))\n",
        "    inception_v3.fc = last_layer\n",
        "    if train_on_gpu:\n",
        "      inception_v3.cuda()\n",
        "    # Specify optimizer (Adam) and learning rate = 0.001\n",
        "    if optim_selection == \"Adam\":\n",
        "        optimizer = optim.Adam(inception_v3.parameters(), lr=0.001)\n",
        "\n",
        "elif model_selection == \"xception\":\n",
        "    xception = timm.create_model('xception', pretrained=whether_to_pretrain)\n",
        "    # Number of features in the last layer of resnet\n",
        "    n_inputs = xception.fc.in_features\n",
        "    # Add last linear layer (n_inputs -> 40 hieroglyph classes)\n",
        "    last_layer = nn.Sequential(\n",
        "                    nn.Linear(n_inputs, len(classes)))\n",
        "    xception.fc = last_layer\n",
        "    if train_on_gpu:\n",
        "      xception.cuda()\n",
        "    # Specify optimizer (Adam) and learning rate = 0.001\n",
        "    if optim_selection == \"Adam\":\n",
        "        optimizer = optim.Adam(xception.parameters(), lr=0.001)\n",
        "\n",
        "# Specify loss function (categorical cross-entropy)\n",
        "if loss_function == \"cross-entropy\":\n",
        "    criterion = nn.CrossEntropyLoss()\n",
        "\n",
        "# Exponential Decay to strengthen learning\n",
        "decayRate = 0.999\n",
        "my_lr_scheduler = torch.optim.lr_scheduler.ExponentialLR(optimizer=optimizer, gamma=decayRate)"
      ],
      "execution_count": 13,
      "outputs": []
    },
    {
      "cell_type": "markdown",
      "metadata": {
        "id": "U2vnErB1yHmM"
      },
      "source": [
        "Training the model"
      ]
    },
    {
      "cell_type": "code",
      "metadata": {
        "colab": {
          "base_uri": "https://localhost:8080/"
        },
        "id": "dOB03noWyEvQ",
        "outputId": "1d0b15e6-2bba-4213-e588-0c7eb9a436a0"
      },
      "source": [
        "# number of epochs to train the model\n",
        "n_epochs = 50\n",
        "\n",
        "if model_selection == \"resnet-50\":\n",
        "  # The train_model function is from model_training python file\n",
        "  resnet50, train_losses = train_model(train_loader, optimizer, resnet50, criterion, my_lr_scheduler, n_epochs)\n",
        "elif model_selection == \"inception-v3\":\n",
        "  # The train_model function is from model_training python file\n",
        "  inception_v3, train_losses = train_model(train_loader, optimizer, inception_v3, criterion, my_lr_scheduler, n_epochs)\n",
        "elif model_selection == \"xception\":\n",
        "  # The train_model function is from model_training python file\n",
        "  xception, train_losses = train_model(train_loader, optimizer, xception, criterion, my_lr_scheduler, n_epochs)"
      ],
      "execution_count": 14,
      "outputs": [
        {
          "output_type": "stream",
          "name": "stdout",
          "text": [
            "Epoch 1, Batch 20 loss: 3.9702412128448485\n",
            "Epoch 1, Batch 40 loss: 3.2212871551513671\n",
            "Epoch 1, Batch 60 loss: 2.7169313669204711\n",
            "Epoch 1, Batch 80 loss: 2.2162891924381256\n",
            "Epoch 1, Batch 100 loss: 2.0296949148178101\n",
            "Epoch 1, Batch 120 loss: 2.0447482585906984\n",
            "Epoch 2, Batch 20 loss: 1.8297812163829803\n",
            "Epoch 2, Batch 40 loss: 1.5970235705375670\n",
            "Epoch 2, Batch 60 loss: 1.4399920880794526\n",
            "Epoch 2, Batch 80 loss: 1.3531704723834992\n",
            "Epoch 2, Batch 100 loss: 1.4014508008956910\n",
            "Epoch 2, Batch 120 loss: 1.2840940177440643\n",
            "Epoch 3, Batch 20 loss: 1.1935512542724609\n",
            "Epoch 3, Batch 40 loss: 0.9872215896844864\n",
            "Epoch 3, Batch 60 loss: 1.1516738265752793\n",
            "Epoch 3, Batch 80 loss: 0.9052804768085480\n",
            "Epoch 3, Batch 100 loss: 0.8701593726873398\n",
            "Epoch 3, Batch 120 loss: 0.8103170886635780\n",
            "Epoch 4, Batch 20 loss: 0.8547838911414146\n",
            "Epoch 4, Batch 40 loss: 0.7441535815596581\n",
            "Epoch 4, Batch 60 loss: 0.7568545654416085\n",
            "Epoch 4, Batch 80 loss: 0.8037465810775757\n",
            "Epoch 4, Batch 100 loss: 0.6473048403859138\n",
            "Epoch 4, Batch 120 loss: 0.5665270239114761\n",
            "Epoch 5, Batch 20 loss: 0.5063689008355141\n",
            "Epoch 5, Batch 40 loss: 0.5092889323830605\n",
            "Epoch 5, Batch 60 loss: 0.4800344333052635\n",
            "Epoch 5, Batch 80 loss: 0.5586463540792466\n",
            "Epoch 5, Batch 100 loss: 0.5081667255610227\n",
            "Epoch 5, Batch 120 loss: 0.4643117696046829\n",
            "Epoch 6, Batch 20 loss: 0.4422078087925911\n",
            "Epoch 6, Batch 40 loss: 0.4154310300946236\n",
            "Epoch 6, Batch 60 loss: 0.3192353855818510\n",
            "Epoch 6, Batch 80 loss: 0.3432617895305157\n",
            "Epoch 6, Batch 100 loss: 0.3562819361686707\n",
            "Epoch 6, Batch 120 loss: 0.3626052465289831\n",
            "Epoch 7, Batch 20 loss: 0.2784044668078423\n",
            "Epoch 7, Batch 40 loss: 0.3787624616175890\n",
            "Epoch 7, Batch 60 loss: 0.2828193688765168\n",
            "Epoch 7, Batch 80 loss: 0.3427045889198780\n",
            "Epoch 7, Batch 100 loss: 0.3105255514383316\n",
            "Epoch 7, Batch 120 loss: 0.3488980434834957\n",
            "Epoch 8, Batch 20 loss: 0.2783729787915945\n",
            "Epoch 8, Batch 40 loss: 0.2552500549703837\n",
            "Epoch 8, Batch 60 loss: 0.3705981276929379\n",
            "Epoch 8, Batch 80 loss: 0.2945364106446505\n",
            "Epoch 8, Batch 100 loss: 0.2408960431814194\n",
            "Epoch 8, Batch 120 loss: 0.2406854847446084\n",
            "Epoch 9, Batch 20 loss: 0.1937812861055136\n",
            "Epoch 9, Batch 40 loss: 0.2271192748099566\n",
            "Epoch 9, Batch 60 loss: 0.2505838559940458\n",
            "Epoch 9, Batch 80 loss: 0.2314375909045339\n",
            "Epoch 9, Batch 100 loss: 0.2952843111008406\n",
            "Epoch 9, Batch 120 loss: 0.2673428636975587\n",
            "Epoch 10, Batch 20 loss: 0.1906638767570257\n",
            "Epoch 10, Batch 40 loss: 0.2005015732720494\n",
            "Epoch 10, Batch 60 loss: 0.1650656204670668\n",
            "Epoch 10, Batch 80 loss: 0.1123812921345234\n",
            "Epoch 10, Batch 100 loss: 0.1410697454586625\n",
            "Epoch 10, Batch 120 loss: 0.2253499960526824\n",
            "Epoch 11, Batch 20 loss: 0.1990061568096280\n",
            "Epoch 11, Batch 40 loss: 0.1549828791990876\n",
            "Epoch 11, Batch 60 loss: 0.1702824234962463\n",
            "Epoch 11, Batch 80 loss: 0.1696947768330574\n",
            "Epoch 11, Batch 100 loss: 0.1947922944091260\n",
            "Epoch 11, Batch 120 loss: 0.2146734621375799\n",
            "Epoch 12, Batch 20 loss: 0.1605443134903908\n",
            "Epoch 12, Batch 40 loss: 0.1455419811420143\n",
            "Epoch 12, Batch 60 loss: 0.1172576601617038\n",
            "Epoch 12, Batch 80 loss: 0.1394961044192314\n",
            "Epoch 12, Batch 100 loss: 0.1596935857087374\n",
            "Epoch 12, Batch 120 loss: 0.1296105151064694\n",
            "Epoch 13, Batch 20 loss: 0.0884582936763763\n",
            "Epoch 13, Batch 40 loss: 0.1266958279535174\n",
            "Epoch 13, Batch 60 loss: 0.1036696440540254\n",
            "Epoch 13, Batch 80 loss: 0.1159157426329330\n",
            "Epoch 13, Batch 100 loss: 0.1608923410065472\n",
            "Epoch 13, Batch 120 loss: 0.1201341240201145\n",
            "Epoch 14, Batch 20 loss: 0.0935239940416068\n",
            "Epoch 14, Batch 40 loss: 0.1333527375943959\n",
            "Epoch 14, Batch 60 loss: 0.1333223210880533\n",
            "Epoch 14, Batch 80 loss: 0.1404592641629279\n",
            "Epoch 14, Batch 100 loss: 0.1173013052903116\n",
            "Epoch 14, Batch 120 loss: 0.1112548755947500\n",
            "Epoch 15, Batch 20 loss: 0.1045732812490314\n",
            "Epoch 15, Batch 40 loss: 0.1394943296909332\n",
            "Epoch 15, Batch 60 loss: 0.1130232534138486\n",
            "Epoch 15, Batch 80 loss: 0.1146906333044171\n",
            "Epoch 15, Batch 100 loss: 0.0913001810666174\n",
            "Epoch 15, Batch 120 loss: 0.1031564573640935\n",
            "Epoch 16, Batch 20 loss: 0.1169876737520099\n",
            "Epoch 16, Batch 40 loss: 0.0537125493166968\n",
            "Epoch 16, Batch 60 loss: 0.0808587621897459\n",
            "Epoch 16, Batch 80 loss: 0.0678826165851206\n",
            "Epoch 16, Batch 100 loss: 0.0988559155957773\n",
            "Epoch 16, Batch 120 loss: 0.0735666751861572\n",
            "Epoch 17, Batch 20 loss: 0.0666765272617340\n",
            "Epoch 17, Batch 40 loss: 0.0830505433492363\n",
            "Epoch 17, Batch 60 loss: 0.1037394293351099\n",
            "Epoch 17, Batch 80 loss: 0.1003841534722596\n",
            "Epoch 17, Batch 100 loss: 0.0911914797965437\n",
            "Epoch 17, Batch 120 loss: 0.0602120271883905\n",
            "Epoch 18, Batch 20 loss: 0.0580424283165485\n",
            "Epoch 18, Batch 40 loss: 0.0601457042386755\n",
            "Epoch 18, Batch 60 loss: 0.0705296286731027\n",
            "Epoch 18, Batch 80 loss: 0.0759599414188415\n",
            "Epoch 18, Batch 100 loss: 0.0845260460395366\n",
            "Epoch 18, Batch 120 loss: 0.0588991214521229\n",
            "Epoch 19, Batch 20 loss: 0.0782574611250311\n",
            "Epoch 19, Batch 40 loss: 0.0743852882180363\n",
            "Epoch 19, Batch 60 loss: 0.1092083817115053\n",
            "Epoch 19, Batch 80 loss: 0.0593528837431222\n",
            "Epoch 19, Batch 100 loss: 0.0993700799532235\n",
            "Epoch 19, Batch 120 loss: 0.0746855394681916\n",
            "Epoch 20, Batch 20 loss: 0.0879169984720647\n",
            "Epoch 20, Batch 40 loss: 0.0842062703799456\n",
            "Epoch 20, Batch 60 loss: 0.0433983329450712\n",
            "Epoch 20, Batch 80 loss: 0.0926215178100392\n",
            "Epoch 20, Batch 100 loss: 0.0497911037644371\n",
            "Epoch 20, Batch 120 loss: 0.0726424254244193\n",
            "Epoch 21, Batch 20 loss: 0.0826932671247050\n",
            "Epoch 21, Batch 40 loss: 0.0464854637160897\n",
            "Epoch 21, Batch 60 loss: 0.0775077364407480\n",
            "Epoch 21, Batch 80 loss: 0.0521263135480694\n",
            "Epoch 21, Batch 100 loss: 0.0597838281188160\n",
            "Epoch 21, Batch 120 loss: 0.0456864090170711\n",
            "Epoch 22, Batch 20 loss: 0.1005959702597465\n",
            "Epoch 22, Batch 40 loss: 0.0434196143643931\n",
            "Epoch 22, Batch 60 loss: 0.0355803662096150\n",
            "Epoch 22, Batch 80 loss: 0.0346314069116488\n",
            "Epoch 22, Batch 100 loss: 0.0227965261670761\n",
            "Epoch 22, Batch 120 loss: 0.0697020197985694\n",
            "Epoch 23, Batch 20 loss: 0.0729634857038036\n",
            "Epoch 23, Batch 40 loss: 0.0650434088311158\n",
            "Epoch 23, Batch 60 loss: 0.0563948319351766\n",
            "Epoch 23, Batch 80 loss: 0.0583052617032081\n",
            "Epoch 23, Batch 100 loss: 0.0142456627101637\n",
            "Epoch 23, Batch 120 loss: 0.0625571133103222\n",
            "Epoch 24, Batch 20 loss: 0.0383304483257234\n",
            "Epoch 24, Batch 40 loss: 0.0499426256399602\n",
            "Epoch 24, Batch 60 loss: 0.0459462905651890\n",
            "Epoch 24, Batch 80 loss: 0.0305556359468028\n",
            "Epoch 24, Batch 100 loss: 0.0369018938392401\n",
            "Epoch 24, Batch 120 loss: 0.0730103244655766\n",
            "Epoch 25, Batch 20 loss: 0.0414399640634656\n",
            "Epoch 25, Batch 40 loss: 0.0313296635402367\n",
            "Epoch 25, Batch 60 loss: 0.0606006937799975\n",
            "Epoch 25, Batch 80 loss: 0.0511516668368131\n",
            "Epoch 25, Batch 100 loss: 0.0773435634560883\n",
            "Epoch 25, Batch 120 loss: 0.0468303326459136\n",
            "Epoch 26, Batch 20 loss: 0.0322056429693475\n",
            "Epoch 26, Batch 40 loss: 0.0871916461735964\n",
            "Epoch 26, Batch 60 loss: 0.0370963447494432\n",
            "Epoch 26, Batch 80 loss: 0.0284827543655410\n",
            "Epoch 26, Batch 100 loss: 0.0510130050126463\n",
            "Epoch 26, Batch 120 loss: 0.0479694207780994\n",
            "Epoch 27, Batch 20 loss: 0.0669110523769632\n",
            "Epoch 27, Batch 40 loss: 0.0290158541407436\n",
            "Epoch 27, Batch 60 loss: 0.0576909789582714\n",
            "Epoch 27, Batch 80 loss: 0.0311195544898510\n",
            "Epoch 27, Batch 100 loss: 0.0263748384255450\n",
            "Epoch 27, Batch 120 loss: 0.0558567354863044\n",
            "Epoch 28, Batch 20 loss: 0.0390958251198754\n",
            "Epoch 28, Batch 40 loss: 0.0316399954608642\n",
            "Epoch 28, Batch 60 loss: 0.0418533828342333\n",
            "Epoch 28, Batch 80 loss: 0.0464358716271818\n",
            "Epoch 28, Batch 100 loss: 0.0401550484879408\n",
            "Epoch 28, Batch 120 loss: 0.0361815108743031\n",
            "Epoch 29, Batch 20 loss: 0.0602340378565714\n",
            "Epoch 29, Batch 40 loss: 0.0474462623358704\n",
            "Epoch 29, Batch 60 loss: 0.0367216765414923\n",
            "Epoch 29, Batch 80 loss: 0.0525940005842131\n",
            "Epoch 29, Batch 100 loss: 0.0393729615490884\n",
            "Epoch 29, Batch 120 loss: 0.0685968894744292\n",
            "Epoch 30, Batch 20 loss: 0.0437533635413274\n",
            "Epoch 30, Batch 40 loss: 0.0758464210666716\n",
            "Epoch 30, Batch 60 loss: 0.0551675097551197\n",
            "Epoch 30, Batch 80 loss: 0.0238989209523425\n",
            "Epoch 30, Batch 100 loss: 0.0293568943510763\n",
            "Epoch 30, Batch 120 loss: 0.0436583341564983\n",
            "Epoch 31, Batch 20 loss: 0.0392233471269719\n",
            "Epoch 31, Batch 40 loss: 0.0381719952682033\n",
            "Epoch 31, Batch 60 loss: 0.0329779246822000\n",
            "Epoch 31, Batch 80 loss: 0.0443619355675764\n",
            "Epoch 31, Batch 100 loss: 0.0345333038712852\n",
            "Epoch 31, Batch 120 loss: 0.0320361069578212\n",
            "Epoch 32, Batch 20 loss: 0.0307117691147141\n",
            "Epoch 32, Batch 40 loss: 0.0623001274652779\n",
            "Epoch 32, Batch 60 loss: 0.0506854473496787\n",
            "Epoch 32, Batch 80 loss: 0.0284157503687311\n",
            "Epoch 32, Batch 100 loss: 0.0489116646000184\n",
            "Epoch 32, Batch 120 loss: 0.0365219432162121\n",
            "Epoch 33, Batch 20 loss: 0.0321144594985526\n",
            "Epoch 33, Batch 40 loss: 0.0452508667658549\n",
            "Epoch 33, Batch 60 loss: 0.0568209586141165\n",
            "Epoch 33, Batch 80 loss: 0.0418497541686520\n",
            "Epoch 33, Batch 100 loss: 0.0196950390702114\n",
            "Epoch 33, Batch 120 loss: 0.0626544751343317\n",
            "Epoch 34, Batch 20 loss: 0.0397591956076212\n",
            "Epoch 34, Batch 40 loss: 0.0495830370346084\n",
            "Epoch 34, Batch 60 loss: 0.0244502215471584\n",
            "Epoch 34, Batch 80 loss: 0.0461928235483356\n",
            "Epoch 34, Batch 100 loss: 0.0306024480843917\n",
            "Epoch 34, Batch 120 loss: 0.0349044068483636\n",
            "Epoch 35, Batch 20 loss: 0.0638488655211404\n",
            "Epoch 35, Batch 40 loss: 0.0477378026756924\n",
            "Epoch 35, Batch 60 loss: 0.0493266289064195\n",
            "Epoch 35, Batch 80 loss: 0.0488796729769092\n",
            "Epoch 35, Batch 100 loss: 0.0411488798388746\n",
            "Epoch 35, Batch 120 loss: 0.0464687831467018\n",
            "Epoch 36, Batch 20 loss: 0.0199252852005884\n",
            "Epoch 36, Batch 40 loss: 0.0390588407288305\n",
            "Epoch 36, Batch 60 loss: 0.0562964860931970\n",
            "Epoch 36, Batch 80 loss: 0.0369098808325361\n",
            "Epoch 36, Batch 100 loss: 0.0339550611446612\n",
            "Epoch 36, Batch 120 loss: 0.0321716734673828\n",
            "Epoch 37, Batch 20 loss: 0.0276049850217532\n",
            "Epoch 37, Batch 40 loss: 0.0349490697379224\n",
            "Epoch 37, Batch 60 loss: 0.0452266985434107\n",
            "Epoch 37, Batch 80 loss: 0.0418736511492170\n",
            "Epoch 37, Batch 100 loss: 0.0249699000851251\n",
            "Epoch 37, Batch 120 loss: 0.0320080599398352\n",
            "Epoch 38, Batch 20 loss: 0.0524453731137328\n",
            "Epoch 38, Batch 40 loss: 0.0694878973416053\n",
            "Epoch 38, Batch 60 loss: 0.0508036514976993\n",
            "Epoch 38, Batch 80 loss: 0.0376710889628157\n",
            "Epoch 38, Batch 100 loss: 0.0306604997953400\n",
            "Epoch 38, Batch 120 loss: 0.0488039153104182\n",
            "Epoch 39, Batch 20 loss: 0.0508457654505037\n",
            "Epoch 39, Batch 40 loss: 0.0263060612312984\n",
            "Epoch 39, Batch 60 loss: 0.0679400931228884\n",
            "Epoch 39, Batch 80 loss: 0.0397167849936523\n",
            "Epoch 39, Batch 100 loss: 0.0254914668039419\n",
            "Epoch 39, Batch 120 loss: 0.0459501536970492\n",
            "Epoch 40, Batch 20 loss: 0.0251435390906408\n",
            "Epoch 40, Batch 40 loss: 0.0185935106710531\n",
            "Epoch 40, Batch 60 loss: 0.0436710676236544\n",
            "Epoch 40, Batch 80 loss: 0.0389185345731676\n",
            "Epoch 40, Batch 100 loss: 0.0375316201243550\n",
            "Epoch 40, Batch 120 loss: 0.0440043395385146\n",
            "Epoch 41, Batch 20 loss: 0.0182485529978294\n",
            "Epoch 41, Batch 40 loss: 0.0409189077559859\n",
            "Epoch 41, Batch 60 loss: 0.0495924571529031\n",
            "Epoch 41, Batch 80 loss: 0.0469102597213350\n",
            "Epoch 41, Batch 100 loss: 0.0476074432372116\n",
            "Epoch 41, Batch 120 loss: 0.0352246991475113\n",
            "Epoch 42, Batch 20 loss: 0.0439693674561568\n",
            "Epoch 42, Batch 40 loss: 0.0575145154027268\n",
            "Epoch 42, Batch 60 loss: 0.0482502522412688\n",
            "Epoch 42, Batch 80 loss: 0.0303355680312961\n",
            "Epoch 42, Batch 100 loss: 0.0447054683812894\n",
            "Epoch 42, Batch 120 loss: 0.0957407314737793\n",
            "Epoch 43, Batch 20 loss: 0.0317779866338242\n",
            "Epoch 43, Batch 40 loss: 0.0414167363895103\n",
            "Epoch 43, Batch 60 loss: 0.0539308008272201\n",
            "Epoch 43, Batch 80 loss: 0.0197424494661391\n",
            "Epoch 43, Batch 100 loss: 0.0269493512460031\n",
            "Epoch 43, Batch 120 loss: 0.0261345975333825\n",
            "Epoch 44, Batch 20 loss: 0.0272226302215131\n",
            "Epoch 44, Batch 40 loss: 0.0520693172758911\n",
            "Epoch 44, Batch 60 loss: 0.0499316813191399\n",
            "Epoch 44, Batch 80 loss: 0.0421482745150570\n",
            "Epoch 44, Batch 100 loss: 0.0319623083778424\n",
            "Epoch 44, Batch 120 loss: 0.0312115264066961\n",
            "Epoch 45, Batch 20 loss: 0.0551094865310006\n",
            "Epoch 45, Batch 40 loss: 0.0455769159365445\n",
            "Epoch 45, Batch 60 loss: 0.0261025166371837\n",
            "Epoch 45, Batch 80 loss: 0.0287503993400605\n",
            "Epoch 45, Batch 100 loss: 0.0249592499691062\n",
            "Epoch 45, Batch 120 loss: 0.0374502048944123\n",
            "Epoch 46, Batch 20 loss: 0.0522255822084844\n",
            "Epoch 46, Batch 40 loss: 0.0154562329989858\n",
            "Epoch 46, Batch 60 loss: 0.0428580939653330\n",
            "Epoch 46, Batch 80 loss: 0.0213560458156280\n",
            "Epoch 46, Batch 100 loss: 0.0383809157123324\n",
            "Epoch 46, Batch 120 loss: 0.0190239200106589\n",
            "Epoch 47, Batch 20 loss: 0.0465648783836514\n",
            "Epoch 47, Batch 40 loss: 0.0285251556837466\n",
            "Epoch 47, Batch 60 loss: 0.0256118704914115\n",
            "Epoch 47, Batch 80 loss: 0.0313744683546247\n",
            "Epoch 47, Batch 100 loss: 0.0645975654129870\n",
            "Epoch 47, Batch 120 loss: 0.0289576190407388\n",
            "Epoch 48, Batch 20 loss: 0.0303667650150601\n",
            "Epoch 48, Batch 40 loss: 0.0324221926159225\n",
            "Epoch 48, Batch 60 loss: 0.0393610776634887\n",
            "Epoch 48, Batch 80 loss: 0.0137579190079123\n",
            "Epoch 48, Batch 100 loss: 0.0201396742486395\n",
            "Epoch 48, Batch 120 loss: 0.0413787427591160\n",
            "Epoch 49, Batch 20 loss: 0.0267005512141623\n",
            "Epoch 49, Batch 40 loss: 0.0341652006609365\n",
            "Epoch 49, Batch 60 loss: 0.0178745248646010\n",
            "Epoch 49, Batch 80 loss: 0.0447269750002306\n",
            "Epoch 49, Batch 100 loss: 0.0241409716138151\n",
            "Epoch 49, Batch 120 loss: 0.0411396481154952\n",
            "Epoch 50, Batch 20 loss: 0.0218686006439384\n",
            "Epoch 50, Batch 40 loss: 0.0249106788425706\n",
            "Epoch 50, Batch 60 loss: 0.0178458814043552\n",
            "Epoch 50, Batch 80 loss: 0.0135013950755820\n",
            "Epoch 50, Batch 100 loss: 0.0264726577268448\n",
            "Epoch 50, Batch 120 loss: 0.0497992856544442\n"
          ]
        }
      ]
    },
    {
      "cell_type": "code",
      "metadata": {
        "id": "CfA7ZjLR1BZP",
        "colab": {
          "base_uri": "https://localhost:8080/",
          "height": 281
        },
        "outputId": "34995ae3-825d-4db3-a7c8-673848cfbe54"
      },
      "source": [
        "plt.plot(train_losses)\n",
        "plt.title(\"Training Loss\")\n",
        "plt.show()"
      ],
      "execution_count": 15,
      "outputs": [
        {
          "output_type": "display_data",
          "data": {
            "image/png": "[encoded data removed]",
            "text/plain": [
              "<Figure size 432x288 with 1 Axes>"
            ]
          },
          "metadata": {
            "needs_background": "light"
          }
        }
      ]
    },
    {
      "cell_type": "markdown",
      "metadata": {
        "id": "ItLyF9dQyJFL"
      },
      "source": [
        "Testing the model"
      ]
    },
    {
      "cell_type": "code",
      "metadata": {
        "id": "gGki98W3SoEW"
      },
      "source": [
        "from sklearn.metrics import precision_score, recall_score, f1_score, accuracy_score"
      ],
      "execution_count": 16,
      "outputs": []
    },
    {
      "cell_type": "code",
      "metadata": {
        "id": "xNavYOynyE6d",
        "colab": {
          "base_uri": "https://localhost:8080/"
        },
        "outputId": "300a33bf-5e0b-4b84-8cc8-0b5bd8c19f53"
      },
      "source": [
        "# The test_model function is from model_testing python file\n",
        "test_loss, class_correct, class_total, labels, predictions = test_model(classes, xception, test_loader, criterion)\n",
        "\n",
        "# Test accuracy for each hieroglyph\n",
        "for i in range(len(classes)):\n",
        "    if class_total[i] > 0:\n",
        "        print('Test Accuracy of %5s: %2d%% (%2d/%2d)' % (classes[i], 100 * class_correct[i] / class_total[i], np.sum(class_correct[i]), np.sum(class_total[i])))\n",
        "    else:\n",
        "        print('Test Accuracy of %5s: N/A (no training examples)' % (classes[i]))\n",
        "\n",
        "# Total Test accuracy\n",
        "print(\"\\nAccuracy: {:.3%}\".format(accuracy_score(labels, predictions)))\n",
        "print(\"\\nPrecision: {:.3%}\".format(precision_score(labels, predictions, average = 'weighted')))\n",
        "print(\"\\nRecall: {:.3%}\".format(recall_score(labels, predictions, average = 'weighted')))\n",
        "print(\"\\nF1-score: {:.3%}\".format(f1_score(labels, predictions, average = 'weighted')))"
      ],
      "execution_count": 17,
      "outputs": [
        {
          "output_type": "stream",
          "name": "stdout",
          "text": [
            "Test Loss: 0.076272\n",
            "\n",
            "Test Accuracy of    D2: 100% (19/19)\n",
            "Test Accuracy of   D21: 85% (12/14)\n",
            "Test Accuracy of   D36: 100% (15/15)\n",
            "Test Accuracy of    D4: 100% (10/10)\n",
            "Test Accuracy of   D46: 85% (12/14)\n",
            "Test Accuracy of   D58: 100% (13/13)\n",
            "Test Accuracy of   E23: 100% (18/18)\n",
            "Test Accuracy of   E34: 100% ( 8/ 8)\n",
            "Test Accuracy of   F31: 100% (12/12)\n",
            "Test Accuracy of   F35: 100% ( 8/ 8)\n",
            "Test Accuracy of    G1: 100% (17/17)\n",
            "Test Accuracy of   G17: 80% ( 8/10)\n",
            "Test Accuracy of   G43: 100% (19/19)\n",
            "Test Accuracy of   I10: 100% (26/26)\n",
            "Test Accuracy of    I9: 94% (17/18)\n",
            "Test Accuracy of   M17: 100% (19/19)\n",
            "Test Accuracy of   M23: 100% (13/13)\n",
            "Test Accuracy of   N35: 100% (11/11)\n",
            "Test Accuracy of    O1: 100% (14/14)\n",
            "Test Accuracy of   O34: 92% (13/14)\n",
            "Test Accuracy of    O4: 100% (14/14)\n",
            "Test Accuracy of   O49: 100% (10/10)\n",
            "Test Accuracy of    Q1: 92% (12/13)\n",
            "Test Accuracy of    Q3: 100% (16/16)\n",
            "Test Accuracy of    R4: 100% (12/12)\n",
            "Test Accuracy of    R8: 95% (23/24)\n",
            "Test Accuracy of   S29: 100% (18/18)\n",
            "Test Accuracy of   S34: 100% (21/21)\n",
            "Test Accuracy of    U7: 100% (13/13)\n",
            "Test Accuracy of   V13: 100% (23/23)\n",
            "Test Accuracy of   V28: 100% (14/14)\n",
            "Test Accuracy of   V30: 80% (12/15)\n",
            "Test Accuracy of   V31: 95% (19/20)\n",
            "Test Accuracy of   W11: 83% (10/12)\n",
            "Test Accuracy of   W24: 100% (17/17)\n",
            "Test Accuracy of    X1: 100% (13/13)\n",
            "Test Accuracy of    X8: 100% (29/29)\n",
            "Test Accuracy of    Y1: 100% (28/28)\n",
            "Test Accuracy of    Y5: 100% (12/12)\n",
            "Test Accuracy of    Z1: 100% (18/18)\n",
            "\n",
            "Accuracy: 97.476%\n",
            "\n",
            "Precision: 97.605%\n",
            "\n",
            "Recall: 97.476%\n",
            "\n",
            "F1-score: 97.456%\n"
          ]
        }
      ]
    }
  ]
}