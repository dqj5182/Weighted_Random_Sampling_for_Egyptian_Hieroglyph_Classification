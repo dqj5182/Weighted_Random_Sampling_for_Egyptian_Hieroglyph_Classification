{
  "nbformat": 4,
  "nbformat_minor": 0,
  "metadata": {
    "colab": {
      "name": "Egyptian_model_with_Xception_Pretrained_Clean.ipynb",
      "provenance": []
    },
    "kernelspec": {
      "name": "python3",
      "display_name": "Python 3"
    },
    "language_info": {
      "name": "python"
    },
    "accelerator": "GPU"
  },
  "cells": [
    {
      "cell_type": "code",
      "metadata": {
        "colab": {
          "base_uri": "https://localhost:8080/"
        },
        "id": "Po0ZVacIYsP0",
        "outputId": "4b1fd67b-06e8-4b9d-b771-e1de13a7d4d5"
      },
      "source": [
        "!pip install timm"
      ],
      "execution_count": 1,
      "outputs": [
        {
          "output_type": "stream",
          "name": "stdout",
          "text": [
            "Requirement already satisfied: timm in /usr/local/lib/python3.7/dist-packages (0.4.12)\n",
            "Requirement already satisfied: torchvision in /usr/local/lib/python3.7/dist-packages (from timm) (0.11.1+cu111)\n",
            "Requirement already satisfied: torch>=1.4 in /usr/local/lib/python3.7/dist-packages (from timm) (1.10.0+cu111)\n",
            "Requirement already satisfied: typing-extensions in /usr/local/lib/python3.7/dist-packages (from torch>=1.4->timm) (3.10.0.2)\n",
            "Requirement already satisfied: numpy in /usr/local/lib/python3.7/dist-packages (from torchvision->timm) (1.19.5)\n",
            "Requirement already satisfied: pillow!=8.3.0,>=5.3.0 in /usr/local/lib/python3.7/dist-packages (from torchvision->timm) (7.1.2)\n"
          ]
        }
      ]
    },
    {
      "cell_type": "code",
      "metadata": {
        "id": "8iEiGSblxJzW"
      },
      "source": [
        "import os, os.path\n",
        "import torch\n",
        "import numpy as np\n",
        "import torch.nn as nn\n",
        "import torch.optim as optim\n",
        "from pathlib import Path\n",
        "from torchvision import datasets, models, transforms\n",
        "import timm\n",
        "\n",
        "# check if CUDA is available\n",
        "train_on_gpu = torch.cuda.is_available()"
      ],
      "execution_count": 2,
      "outputs": []
    },
    {
      "cell_type": "markdown",
      "metadata": {
        "id": "Jd6KU8VMz6J3"
      },
      "source": [
        "Module: Load_data"
      ]
    },
    {
      "cell_type": "code",
      "metadata": {
        "id": "8lWX0BW_w_kC"
      },
      "source": [
        "def load_data(hieroglyph_directory_path, batch_size=20, num_workers=0):\n",
        "    train_dir = os.path.join(hieroglyph_directory_path, 'train/')\n",
        "    test_dir = os.path.join(hieroglyph_directory_path, 'test/')\n",
        "\n",
        "    classes = []\n",
        "\n",
        "    for filename in os.listdir(train_dir):\n",
        "        if filename == '.DS_Store':\n",
        "            pass\n",
        "        else:\n",
        "            classes.append(filename)\n",
        "\n",
        "    classes.sort()\n",
        "\n",
        "    # print(\"Our classes:\", classes)\n",
        "    # print(len(classes))\n",
        "\n",
        "    data_transform = transforms.Compose([transforms.ToTensor(),\n",
        "                                         transforms.RandomApply([transforms.RandomHorizontalFlip()]),\n",
        "                                         transforms.RandomRotation(degrees=(-10, 10)),\n",
        "                                         transforms.RandomAffine(degrees=0, translate=(.1, .1)),\n",
        "                                         transforms.RandomApply([transforms.ColorJitter(brightness=(1, 1.2),\n",
        "                                                                                        contrast=(1, 1.5),\n",
        "                                                                                        saturation=(1, 1.5),\n",
        "                                                                                        hue=(0, 0.5))]),\n",
        "                                         transforms.RandomErasing(p=0.5, scale=(0.05, 0.05), ratio=(0.3, 3.3), value=0,\n",
        "                                                                  inplace=False),\n",
        "                                         transforms.Resize((75, 75)),\n",
        "                                         transforms.Normalize((0.5,), (0.5,))])\n",
        "\n",
        "    train_data = datasets.ImageFolder(train_dir, transform=data_transform)\n",
        "    test_data = datasets.ImageFolder(test_dir, transform=data_transform)\n",
        "\n",
        "    # print('Num training images: ', len(train_data))\n",
        "    # print('Num test images: ', len(test_data))\n",
        "\n",
        "    # prepare data loaders\n",
        "    train_loader = torch.utils.data.DataLoader(train_data, batch_size=batch_size,\n",
        "                                               num_workers=num_workers, shuffle=True)\n",
        "    test_loader = torch.utils.data.DataLoader(test_data, batch_size=batch_size,\n",
        "                                              num_workers=num_workers, shuffle=True)\n",
        "\n",
        "    return train_loader, test_loader, classes"
      ],
      "execution_count": 3,
      "outputs": []
    },
    {
      "cell_type": "markdown",
      "metadata": {
        "id": "K4sXUrPPz7iF"
      },
      "source": [
        "Module: Train_model"
      ]
    },
    {
      "cell_type": "code",
      "metadata": {
        "id": "N2N_rnKLxN5c"
      },
      "source": [
        "def train_model(train_loader, optimizer, conv_net_model, criterion, my_lr_scheduler, n_epochs):\n",
        "    # track training loss over time\n",
        "    losses = []\n",
        "    \n",
        "    for epoch in range(1, n_epochs + 1):\n",
        "\n",
        "        # keep track of training and validation loss\n",
        "        train_loss = 0.0\n",
        "\n",
        "        # model by default is set to train\n",
        "        for batch_i, (data, target) in enumerate(train_loader):\n",
        "            # move tensors to GPU if CUDA is available\n",
        "            if train_on_gpu:\n",
        "                data, target = data.cuda(), target.cuda()\n",
        "            # clear the gradients of all optimized variables\n",
        "            optimizer.zero_grad()\n",
        "            # forward pass: compute predicted outputs by passing inputs to the model\n",
        "            output = conv_net_model(data)\n",
        "            # calculate the batch loss\n",
        "            loss = criterion(output, target)\n",
        "            # backward pass: compute gradient of the loss with respect to model parameters\n",
        "            loss.backward()\n",
        "            # perform a single optimization step (parameter update)\n",
        "            optimizer.step()\n",
        "            # update training loss\n",
        "            train_loss += loss.item()\n",
        "\n",
        "            my_lr_scheduler.step()\n",
        "\n",
        "            if batch_i % 20 == 19:  # print training loss every specified number of mini-batches\n",
        "                print('Epoch %d, Batch %d loss: %.16f' %\n",
        "                    (epoch, batch_i + 1, train_loss / 20))\n",
        "                losses.append(train_loss / 20)\n",
        "                train_loss = 0.0\n",
        "\n",
        "    return conv_net_model, losses"
      ],
      "execution_count": 4,
      "outputs": []
    },
    {
      "cell_type": "markdown",
      "metadata": {
        "id": "-Rrxo5RDz96U"
      },
      "source": [
        "Module: Test_model"
      ]
    },
    {
      "cell_type": "code",
      "metadata": {
        "id": "Ay-HlMJnxU9v"
      },
      "source": [
        "def test_model(classes, conv_net_model, test_loader, criterion):\n",
        "    # track test loss\n",
        "    test_loss = 0.0\n",
        "    class_correct = list(0. for i in range(len(classes)))\n",
        "    class_total = list(0. for i in range(len(classes)))\n",
        "\n",
        "    conv_net_model.eval()  # eval mode\n",
        "\n",
        "    labels = []\n",
        "    predictions = []\n",
        "    # iterate over test data\n",
        "    for data, target in test_loader:\n",
        "        # move tensors to GPU if CUDA is available\n",
        "        if train_on_gpu:\n",
        "            data, target = data.cuda(), target.cuda()\n",
        "        # forward pass: compute predicted outputs by passing inputs to the model\n",
        "        output = conv_net_model(data)\n",
        "\n",
        "        # calculate the batch loss\n",
        "        loss = criterion(output, target)\n",
        "        # update  test loss\n",
        "        test_loss += loss.item() * data.size(0)\n",
        "        # convert output probabilities to predicted class\n",
        "        _, pred = torch.max(output, 1)\n",
        "        # compare predictions to true label\n",
        "        correct_tensor = pred.eq(target.data.view_as(pred))\n",
        "        correct = np.squeeze(correct_tensor.numpy()) if not train_on_gpu else np.squeeze(correct_tensor.cpu().numpy())\n",
        "        # calculate test accuracy for each object class\n",
        "        for i in range(len(target.data)):\n",
        "            label = target.data[i]\n",
        "            class_correct[label] += correct[i].item()\n",
        "            class_total[label] += 1\n",
        "        \n",
        "        # Will be used for calculating Recall, Precision, and F1-score\n",
        "        labels.extend(target.data.view_as(pred).tolist())\n",
        "        predictions.extend(pred.tolist())\n",
        "\n",
        "\n",
        "    # calculate avg test loss\n",
        "    test_loss = test_loss / len(test_loader.dataset)\n",
        "    print('Test Loss: {:.6f}\\n'.format(test_loss))\n",
        "\n",
        "    return test_loss, class_correct, class_total, labels, predictions"
      ],
      "execution_count": 5,
      "outputs": []
    },
    {
      "cell_type": "markdown",
      "metadata": {
        "id": "xHh3PXE80Asa"
      },
      "source": [
        "Check whether CUDA is available (Change runtime type if not)"
      ]
    },
    {
      "cell_type": "code",
      "metadata": {
        "colab": {
          "base_uri": "https://localhost:8080/"
        },
        "id": "Q9TYPQH7x4zw",
        "outputId": "f25d8319-0ffa-479e-e8ae-47b052d566e8"
      },
      "source": [
        "if not train_on_gpu:\n",
        "    print('CUDA is not available.  Training on CPU ...')\n",
        "else:\n",
        "    print('CUDA is available!  Training on GPU ...')"
      ],
      "execution_count": 6,
      "outputs": [
        {
          "output_type": "stream",
          "name": "stdout",
          "text": [
            "CUDA is available!  Training on GPU ...\n"
          ]
        }
      ]
    },
    {
      "cell_type": "markdown",
      "metadata": {
        "id": "6lYw8EKVx8Q7"
      },
      "source": [
        "Load Hieroglyph Data"
      ]
    },
    {
      "cell_type": "code",
      "metadata": {
        "colab": {
          "base_uri": "https://localhost:8080/"
        },
        "id": "laLvoRy1yewl",
        "outputId": "aee4b568-ae39-4ff2-b58f-1d7f14f8060c"
      },
      "source": [
        "# Connecting and Mounting to the Google Drive\n",
        "from google.colab import drive\n",
        "drive.mount('/content/drive')"
      ],
      "execution_count": 7,
      "outputs": [
        {
          "output_type": "stream",
          "name": "stdout",
          "text": [
            "Drive already mounted at /content/drive; to attempt to forcibly remount, call drive.mount(\"/content/drive\", force_remount=True).\n"
          ]
        }
      ]
    },
    {
      "cell_type": "code",
      "metadata": {
        "id": "odaoZt9GyfUt"
      },
      "source": [
        "data_dir = '/content/drive/MyDrive/EgyptianHieroglyphDataset_Original_Clean/'"
      ],
      "execution_count": 8,
      "outputs": []
    },
    {
      "cell_type": "code",
      "metadata": {
        "colab": {
          "base_uri": "https://localhost:8080/"
        },
        "id": "dF22MAnmyiC1",
        "outputId": "158207af-0302-4cdd-b7c3-24eb7b5f8464"
      },
      "source": [
        "hieroglyph_for_train = []\n",
        "file_count_list = []\n",
        "\n",
        "for name in os.listdir('/content/drive/MyDrive/EgyptianHieroglyphDataset_Original_Clean/train/'):\n",
        "  path, dirs, files = next(os.walk(\"/content/drive/MyDrive/EgyptianHieroglyphDataset_Original_Clean/train/\"+name))\n",
        "  file_count = len(files)\n",
        "  print(name, file_count)\n",
        "  file_count_list.append(file_count)\n",
        "  hieroglyph_for_train.append(name)\n",
        "\n",
        "hieroglyph_dict = dict(zip(hieroglyph_for_train, file_count_list))"
      ],
      "execution_count": 9,
      "outputs": [
        {
          "output_type": "stream",
          "name": "stdout",
          "text": [
            "Y5 6\n",
            "I9 116\n",
            "O34 15\n",
            "V13 63\n",
            "U7 3\n",
            "D46 40\n",
            "E34 97\n",
            "G1 28\n",
            "V31 106\n",
            "S34 8\n",
            "D36 47\n",
            "Q1 13\n",
            "V30 6\n",
            "F35 2\n",
            "O4 11\n",
            "M23 30\n",
            "S29 212\n",
            "R8 53\n",
            "W11 4\n",
            "X1 185\n",
            "Y1 1\n",
            "D21 146\n",
            "D2 19\n",
            "E23 8\n",
            "X8 4\n",
            "Z1 39\n",
            "D4 29\n",
            "V28 28\n",
            "I10 32\n",
            "O1 16\n",
            "M17 291\n",
            "F31 6\n",
            "G43 157\n",
            "D58 28\n",
            "O49 10\n",
            "G17 156\n",
            "R4 2\n",
            "Q3 61\n",
            "W24 31\n",
            "N35 358\n"
          ]
        }
      ]
    },
    {
      "cell_type": "markdown",
      "metadata": {
        "id": "XeQQ7PjZzKd9"
      },
      "source": [
        "Number of images for each hieroglyph "
      ]
    },
    {
      "cell_type": "code",
      "metadata": {
        "colab": {
          "base_uri": "https://localhost:8080/",
          "height": 609
        },
        "id": "W6IzWR2RyjxM",
        "outputId": "6702e912-97f0-4239-d2be-45f655039d2c"
      },
      "source": [
        "import matplotlib.pyplot as plt\n",
        "import pandas as pd\n",
        "\n",
        "df = pd.DataFrame({\"Hieroglyph\":hieroglyph_for_train, \"Count\":file_count_list})\n",
        "\n",
        "df_sorted= df.sort_values('Count',ascending=False)\n",
        "\n",
        "plt.figure(figsize=(20,10))\n",
        "# make bar plot with matplotlib\n",
        "plt.bar('Hieroglyph', 'Count',data=df_sorted)"
      ],
      "execution_count": 10,
      "outputs": [
        {
          "output_type": "execute_result",
          "data": {
            "text/plain": [
              "<BarContainer object of 40 artists>"
            ]
          },
          "metadata": {},
          "execution_count": 10
        },
        {
          "output_type": "display_data",
          "data": {
            "image/png": "[encoded data removed]",
            "text/plain": [
              "<Figure size 1440x720 with 1 Axes>"
            ]
          },
          "metadata": {
            "needs_background": "light"
          }
        }
      ]
    },
    {
      "cell_type": "code",
      "metadata": {
        "id": "-3oOm8rSx7tp"
      },
      "source": [
        "# Number of images processed in a single training\n",
        "batch_size = 20\n",
        "num_workers = 0\n",
        "\n",
        "# The load_data function is from hieroglyph_data_preparation python file\n",
        "train_loader, test_loader, classes = load_data(data_dir)"
      ],
      "execution_count": 11,
      "outputs": []
    },
    {
      "cell_type": "markdown",
      "metadata": {
        "id": "BJm8sGiBx_q5"
      },
      "source": [
        "ResNet Model"
      ]
    },
    {
      "cell_type": "code",
      "metadata": {
        "id": "JkLXVJGkxemC"
      },
      "source": [
        "# Whether to extract features with the model\n",
        "feature_extract = False\n",
        "# Other selections\n",
        "loss_function = \"cross-entropy\"\n",
        "model_selection = \"xception\"\n",
        "optim_selection = \"Adam\"\n",
        "\n",
        "# False if you want scratch model, True if you want pretrained model\n",
        "whether_to_pretrain = True\n",
        "\n",
        "# Load the model\n",
        "if model_selection == \"resnet-50\":\n",
        "    resnet50 = models.resnet50(pretrained=whether_to_pretrain)\n",
        "    # Number of features in the last layer of resnet\n",
        "    n_inputs = resnet50.fc.in_features\n",
        "    # Add last linear layer (n_inputs -> 40 hieroglyph classes)\n",
        "    last_layer = nn.Sequential(\n",
        "                    nn.Linear(n_inputs, len(classes)))\n",
        "    resnet50.fc = last_layer\n",
        "    if train_on_gpu:\n",
        "      resnet50.cuda()\n",
        "    # Specify optimizer (Adam) and learning rate = 0.001\n",
        "    if optim_selection == \"Adam\":\n",
        "        optimizer = optim.Adam(resnet50.parameters(), lr=0.001)\n",
        "\n",
        "elif model_selection == \"inception-v3\":\n",
        "    inception_v3 = models.inception_v3(pretrained=whether_to_pretrain)\n",
        "    # Number of features in the last layer of resnet\n",
        "    n_inputs = inception_v3.fc.in_features\n",
        "    # Add last linear layer (n_inputs -> 40 hieroglyph classes)\n",
        "    last_layer = nn.Sequential(\n",
        "                    nn.Linear(n_inputs, len(classes)))\n",
        "    inception_v3.fc = last_layer\n",
        "    if train_on_gpu:\n",
        "      inception_v3.cuda()\n",
        "    # Specify optimizer (Adam) and learning rate = 0.001\n",
        "    if optim_selection == \"Adam\":\n",
        "        optimizer = optim.Adam(inception_v3.parameters(), lr=0.001)\n",
        "\n",
        "elif model_selection == \"xception\":\n",
        "    xception = timm.create_model('xception', pretrained=whether_to_pretrain)\n",
        "    # Number of features in the last layer of resnet\n",
        "    n_inputs = xception.fc.in_features\n",
        "    # Add last linear layer (n_inputs -> 40 hieroglyph classes)\n",
        "    last_layer = nn.Sequential(\n",
        "                    nn.Linear(n_inputs, len(classes)))\n",
        "    xception.fc = last_layer\n",
        "    if train_on_gpu:\n",
        "      xception.cuda()\n",
        "    # Specify optimizer (Adam) and learning rate = 0.001\n",
        "    if optim_selection == \"Adam\":\n",
        "        optimizer = optim.Adam(xception.parameters(), lr=0.001)\n",
        "\n",
        "# Specify loss function (categorical cross-entropy)\n",
        "if loss_function == \"cross-entropy\":\n",
        "    criterion = nn.CrossEntropyLoss()\n",
        "\n",
        "# Exponential Decay to strengthen learning\n",
        "decayRate = 0.999\n",
        "my_lr_scheduler = torch.optim.lr_scheduler.ExponentialLR(optimizer=optimizer, gamma=decayRate)"
      ],
      "execution_count": 12,
      "outputs": []
    },
    {
      "cell_type": "markdown",
      "metadata": {
        "id": "U2vnErB1yHmM"
      },
      "source": [
        "Training the model"
      ]
    },
    {
      "cell_type": "code",
      "metadata": {
        "colab": {
          "base_uri": "https://localhost:8080/"
        },
        "id": "dOB03noWyEvQ",
        "outputId": "c6f98393-8761-4866-d334-7a67dedb7d23"
      },
      "source": [
        "# number of epochs to train the model\n",
        "n_epochs = 50\n",
        "\n",
        "if model_selection == \"resnet-50\":\n",
        "  # The train_model function is from model_training python file\n",
        "  resnet50, train_losses = train_model(train_loader, optimizer, resnet50, criterion, my_lr_scheduler, n_epochs)\n",
        "elif model_selection == \"inception-v3\":\n",
        "  # The train_model function is from model_training python file\n",
        "  inception_v3, train_losses = train_model(train_loader, optimizer, inception_v3, criterion, my_lr_scheduler, n_epochs)\n",
        "elif model_selection == \"xception\":\n",
        "  # The train_model function is from model_training python file\n",
        "  xception, train_losses = train_model(train_loader, optimizer, xception, criterion, my_lr_scheduler, n_epochs)"
      ],
      "execution_count": 13,
      "outputs": [
        {
          "output_type": "stream",
          "name": "stdout",
          "text": [
            "Epoch 1, Batch 20 loss: 2.9576941251754763\n",
            "Epoch 1, Batch 40 loss: 2.0346982657909392\n",
            "Epoch 1, Batch 60 loss: 1.4043995261192321\n",
            "Epoch 1, Batch 80 loss: 1.3907929927110672\n",
            "Epoch 1, Batch 100 loss: 1.1284920394420623\n",
            "Epoch 1, Batch 120 loss: 0.8265347346663475\n",
            "Epoch 2, Batch 20 loss: 0.6228891119360924\n",
            "Epoch 2, Batch 40 loss: 0.6908666431903839\n",
            "Epoch 2, Batch 60 loss: 0.6145129084587098\n",
            "Epoch 2, Batch 80 loss: 0.5690177500247955\n",
            "Epoch 2, Batch 100 loss: 0.4537651741877198\n",
            "Epoch 2, Batch 120 loss: 0.5110934145748616\n",
            "Epoch 3, Batch 20 loss: 0.4070918295532465\n",
            "Epoch 3, Batch 40 loss: 0.4873363606631756\n",
            "Epoch 3, Batch 60 loss: 0.2705429056659341\n",
            "Epoch 3, Batch 80 loss: 0.2474053192883730\n",
            "Epoch 3, Batch 100 loss: 0.3330134883522987\n",
            "Epoch 3, Batch 120 loss: 0.3401603393256664\n",
            "Epoch 4, Batch 20 loss: 0.4213178617879748\n",
            "Epoch 4, Batch 40 loss: 0.2295572927221656\n",
            "Epoch 4, Batch 60 loss: 0.2667301109991967\n",
            "Epoch 4, Batch 80 loss: 0.2158933592960239\n",
            "Epoch 4, Batch 100 loss: 0.2182169276755303\n",
            "Epoch 4, Batch 120 loss: 0.2055645441636443\n",
            "Epoch 5, Batch 20 loss: 0.2136214466765523\n",
            "Epoch 5, Batch 40 loss: 0.2053022732958198\n",
            "Epoch 5, Batch 60 loss: 0.1880336688831448\n",
            "Epoch 5, Batch 80 loss: 0.2839570336043835\n",
            "Epoch 5, Batch 100 loss: 0.2375674640759826\n",
            "Epoch 5, Batch 120 loss: 0.1931709227152169\n",
            "Epoch 6, Batch 20 loss: 0.1242258707992732\n",
            "Epoch 6, Batch 40 loss: 0.1385688497219235\n",
            "Epoch 6, Batch 60 loss: 0.1549472296610475\n",
            "Epoch 6, Batch 80 loss: 0.2165208112448454\n",
            "Epoch 6, Batch 100 loss: 0.1382356389425695\n",
            "Epoch 6, Batch 120 loss: 0.1544353705830872\n",
            "Epoch 7, Batch 20 loss: 0.1470886416733265\n",
            "Epoch 7, Batch 40 loss: 0.0857921815477312\n",
            "Epoch 7, Batch 60 loss: 0.0405036686919630\n",
            "Epoch 7, Batch 80 loss: 0.0724136845208704\n",
            "Epoch 7, Batch 100 loss: 0.0660763544496149\n",
            "Epoch 7, Batch 120 loss: 0.2197104927850887\n",
            "Epoch 8, Batch 20 loss: 0.1201508094556630\n",
            "Epoch 8, Batch 40 loss: 0.1404973551398143\n",
            "Epoch 8, Batch 60 loss: 0.1045941196382046\n",
            "Epoch 8, Batch 80 loss: 0.0738364524906501\n",
            "Epoch 8, Batch 100 loss: 0.0846580273471773\n",
            "Epoch 8, Batch 120 loss: 0.0957319510402158\n",
            "Epoch 9, Batch 20 loss: 0.0824620191822760\n",
            "Epoch 9, Batch 40 loss: 0.0818716870620847\n",
            "Epoch 9, Batch 60 loss: 0.0995816912036389\n",
            "Epoch 9, Batch 80 loss: 0.0597586011514068\n",
            "Epoch 9, Batch 100 loss: 0.0827175838232506\n",
            "Epoch 9, Batch 120 loss: 0.0701388122979552\n",
            "Epoch 10, Batch 20 loss: 0.0628070220118389\n",
            "Epoch 10, Batch 40 loss: 0.0609105946263298\n",
            "Epoch 10, Batch 60 loss: 0.0633899581269361\n",
            "Epoch 10, Batch 80 loss: 0.0612475157366134\n",
            "Epoch 10, Batch 100 loss: 0.0491736919851974\n",
            "Epoch 10, Batch 120 loss: 0.0932080284808762\n",
            "Epoch 11, Batch 20 loss: 0.0548927568481304\n",
            "Epoch 11, Batch 40 loss: 0.0753416453604586\n",
            "Epoch 11, Batch 60 loss: 0.0919177554780617\n",
            "Epoch 11, Batch 80 loss: 0.0593588954536244\n",
            "Epoch 11, Batch 100 loss: 0.0663222602684982\n",
            "Epoch 11, Batch 120 loss: 0.0509053797519300\n",
            "Epoch 12, Batch 20 loss: 0.0500330726383254\n",
            "Epoch 12, Batch 40 loss: 0.0522375384491170\n",
            "Epoch 12, Batch 60 loss: 0.0580945907859132\n",
            "Epoch 12, Batch 80 loss: 0.0619194282451645\n",
            "Epoch 12, Batch 100 loss: 0.0383676591911353\n",
            "Epoch 12, Batch 120 loss: 0.0532368818880059\n",
            "Epoch 13, Batch 20 loss: 0.0741276934160851\n",
            "Epoch 13, Batch 40 loss: 0.0476806941500399\n",
            "Epoch 13, Batch 60 loss: 0.0219436875544488\n",
            "Epoch 13, Batch 80 loss: 0.0480803902551997\n",
            "Epoch 13, Batch 100 loss: 0.0283806942694355\n",
            "Epoch 13, Batch 120 loss: 0.0335820819949731\n",
            "Epoch 14, Batch 20 loss: 0.0403466110932641\n",
            "Epoch 14, Batch 40 loss: 0.0365564779436681\n",
            "Epoch 14, Batch 60 loss: 0.0281460359983612\n",
            "Epoch 14, Batch 80 loss: 0.0374124018358998\n",
            "Epoch 14, Batch 100 loss: 0.0225305220752489\n",
            "Epoch 14, Batch 120 loss: 0.0291785719920881\n",
            "Epoch 15, Batch 20 loss: 0.0074593886674847\n",
            "Epoch 15, Batch 40 loss: 0.0285313276865054\n",
            "Epoch 15, Batch 60 loss: 0.0257375008281088\n",
            "Epoch 15, Batch 80 loss: 0.0492561035905965\n",
            "Epoch 15, Batch 100 loss: 0.0579563705687178\n",
            "Epoch 15, Batch 120 loss: 0.0512081135355402\n",
            "Epoch 16, Batch 20 loss: 0.0345940218656324\n",
            "Epoch 16, Batch 40 loss: 0.0364982450089883\n",
            "Epoch 16, Batch 60 loss: 0.0282940242905170\n",
            "Epoch 16, Batch 80 loss: 0.0345501060481183\n",
            "Epoch 16, Batch 100 loss: 0.0138846219284460\n",
            "Epoch 16, Batch 120 loss: 0.0140749781567138\n",
            "Epoch 17, Batch 20 loss: 0.0149778019578662\n",
            "Epoch 17, Batch 40 loss: 0.0231233354425058\n",
            "Epoch 17, Batch 60 loss: 0.0191291183728026\n",
            "Epoch 17, Batch 80 loss: 0.0133400431135669\n",
            "Epoch 17, Batch 100 loss: 0.0372302219329868\n",
            "Epoch 17, Batch 120 loss: 0.0277780815522419\n",
            "Epoch 18, Batch 20 loss: 0.0171609144716058\n",
            "Epoch 18, Batch 40 loss: 0.0247190081048757\n",
            "Epoch 18, Batch 60 loss: 0.0171945390058681\n",
            "Epoch 18, Batch 80 loss: 0.0427976077073254\n",
            "Epoch 18, Batch 100 loss: 0.0111000286065973\n",
            "Epoch 18, Batch 120 loss: 0.0228342692775186\n",
            "Epoch 19, Batch 20 loss: 0.0167612434393959\n",
            "Epoch 19, Batch 40 loss: 0.0511212796205655\n",
            "Epoch 19, Batch 60 loss: 0.0148063690998242\n",
            "Epoch 19, Batch 80 loss: 0.0142783301707823\n",
            "Epoch 19, Batch 100 loss: 0.0151600275887176\n",
            "Epoch 19, Batch 120 loss: 0.0247039384528762\n",
            "Epoch 20, Batch 20 loss: 0.0097393217118224\n",
            "Epoch 20, Batch 40 loss: 0.0295741657042527\n",
            "Epoch 20, Batch 60 loss: 0.0175925313058542\n",
            "Epoch 20, Batch 80 loss: 0.0227486414165469\n",
            "Epoch 20, Batch 100 loss: 0.0284504874129198\n",
            "Epoch 20, Batch 120 loss: 0.0229924093320733\n",
            "Epoch 21, Batch 20 loss: 0.0517525201285025\n",
            "Epoch 21, Batch 40 loss: 0.0186182738048956\n",
            "Epoch 21, Batch 60 loss: 0.0222223559365375\n",
            "Epoch 21, Batch 80 loss: 0.0110222956165671\n",
            "Epoch 21, Batch 100 loss: 0.0250794278690591\n",
            "Epoch 21, Batch 120 loss: 0.0209696735459147\n",
            "Epoch 22, Batch 20 loss: 0.0244764601549832\n",
            "Epoch 22, Batch 40 loss: 0.0162834451271920\n",
            "Epoch 22, Batch 60 loss: 0.0236093823099509\n",
            "Epoch 22, Batch 80 loss: 0.0404460439429386\n",
            "Epoch 22, Batch 100 loss: 0.0128611148335040\n",
            "Epoch 22, Batch 120 loss: 0.0379995132214390\n",
            "Epoch 23, Batch 20 loss: 0.0194608831545338\n",
            "Epoch 23, Batch 40 loss: 0.0308365513541503\n",
            "Epoch 23, Batch 60 loss: 0.0144885805799277\n",
            "Epoch 23, Batch 80 loss: 0.0168126426346134\n",
            "Epoch 23, Batch 100 loss: 0.0156879121874226\n",
            "Epoch 23, Batch 120 loss: 0.0150002298556501\n",
            "Epoch 24, Batch 20 loss: 0.0303938596072840\n",
            "Epoch 24, Batch 40 loss: 0.0178804214694537\n",
            "Epoch 24, Batch 60 loss: 0.0088401437824359\n",
            "Epoch 24, Batch 80 loss: 0.0304888635640964\n",
            "Epoch 24, Batch 100 loss: 0.0113419790111948\n",
            "Epoch 24, Batch 120 loss: 0.0105166465218645\n",
            "Epoch 25, Batch 20 loss: 0.0286624898930313\n",
            "Epoch 25, Batch 40 loss: 0.0321856369904708\n",
            "Epoch 25, Batch 60 loss: 0.0252327353344299\n",
            "Epoch 25, Batch 80 loss: 0.0138257845028420\n",
            "Epoch 25, Batch 100 loss: 0.0314294745738152\n",
            "Epoch 25, Batch 120 loss: 0.0124187606794294\n",
            "Epoch 26, Batch 20 loss: 0.0074552381716785\n",
            "Epoch 26, Batch 40 loss: 0.0052630836580647\n",
            "Epoch 26, Batch 60 loss: 0.0193588912661653\n",
            "Epoch 26, Batch 80 loss: 0.0079093259817455\n",
            "Epoch 26, Batch 100 loss: 0.0220124328479869\n",
            "Epoch 26, Batch 120 loss: 0.0167769327090355\n",
            "Epoch 27, Batch 20 loss: 0.0168393990694312\n",
            "Epoch 27, Batch 40 loss: 0.0212067594737164\n",
            "Epoch 27, Batch 60 loss: 0.0411118907242781\n",
            "Epoch 27, Batch 80 loss: 0.0074404929444427\n",
            "Epoch 27, Batch 100 loss: 0.0225940090036602\n",
            "Epoch 27, Batch 120 loss: 0.0069720626226626\n",
            "Epoch 28, Batch 20 loss: 0.0049699782233802\n",
            "Epoch 28, Batch 40 loss: 0.0188587752432795\n",
            "Epoch 28, Batch 60 loss: 0.0034745736382320\n",
            "Epoch 28, Batch 80 loss: 0.0063155032214127\n",
            "Epoch 28, Batch 100 loss: 0.0378560144381481\n",
            "Epoch 28, Batch 120 loss: 0.0063261760384194\n",
            "Epoch 29, Batch 20 loss: 0.0136961729411269\n",
            "Epoch 29, Batch 40 loss: 0.0033597344779992\n",
            "Epoch 29, Batch 60 loss: 0.0146504028496565\n",
            "Epoch 29, Batch 80 loss: 0.0389593224652344\n",
            "Epoch 29, Batch 100 loss: 0.0098465772520285\n",
            "Epoch 29, Batch 120 loss: 0.0133844657568261\n",
            "Epoch 30, Batch 20 loss: 0.0056791476949002\n",
            "Epoch 30, Batch 40 loss: 0.0140412223030580\n",
            "Epoch 30, Batch 60 loss: 0.0153518496343167\n",
            "Epoch 30, Batch 80 loss: 0.0140808870055480\n",
            "Epoch 30, Batch 100 loss: 0.0087285567671643\n",
            "Epoch 30, Batch 120 loss: 0.0061382539613987\n",
            "Epoch 31, Batch 20 loss: 0.0089877864782466\n",
            "Epoch 31, Batch 40 loss: 0.0156358089952846\n",
            "Epoch 31, Batch 60 loss: 0.0097654187615262\n",
            "Epoch 31, Batch 80 loss: 0.0088318174050073\n",
            "Epoch 31, Batch 100 loss: 0.0129677461052779\n",
            "Epoch 31, Batch 120 loss: 0.0277523177268449\n",
            "Epoch 32, Batch 20 loss: 0.0106364578998182\n",
            "Epoch 32, Batch 40 loss: 0.0120510537934024\n",
            "Epoch 32, Batch 60 loss: 0.0036382230522577\n",
            "Epoch 32, Batch 80 loss: 0.0080532615931588\n",
            "Epoch 32, Batch 100 loss: 0.0278802081331378\n",
            "Epoch 32, Batch 120 loss: 0.0284255090969964\n",
            "Epoch 33, Batch 20 loss: 0.0122921278700233\n",
            "Epoch 33, Batch 40 loss: 0.0056749479044811\n",
            "Epoch 33, Batch 60 loss: 0.0106240555236582\n",
            "Epoch 33, Batch 80 loss: 0.0279268572805449\n",
            "Epoch 33, Batch 100 loss: 0.0219126060881536\n",
            "Epoch 33, Batch 120 loss: 0.0057657842146000\n",
            "Epoch 34, Batch 20 loss: 0.0094798590755090\n",
            "Epoch 34, Batch 40 loss: 0.0200501045954297\n",
            "Epoch 34, Batch 60 loss: 0.0127339283557376\n",
            "Epoch 34, Batch 80 loss: 0.0185822763683973\n",
            "Epoch 34, Batch 100 loss: 0.0128467825401458\n",
            "Epoch 34, Batch 120 loss: 0.0156569051876431\n",
            "Epoch 35, Batch 20 loss: 0.0253614779081545\n",
            "Epoch 35, Batch 40 loss: 0.0106113484551315\n",
            "Epoch 35, Batch 60 loss: 0.0239328846408171\n",
            "Epoch 35, Batch 80 loss: 0.0187299692974193\n",
            "Epoch 35, Batch 100 loss: 0.0041866631523590\n",
            "Epoch 35, Batch 120 loss: 0.0089406283092103\n",
            "Epoch 36, Batch 20 loss: 0.0233952219699859\n",
            "Epoch 36, Batch 40 loss: 0.0069044168223627\n",
            "Epoch 36, Batch 60 loss: 0.0186603381996974\n",
            "Epoch 36, Batch 80 loss: 0.0050273778222618\n",
            "Epoch 36, Batch 100 loss: 0.0115183145317133\n",
            "Epoch 36, Batch 120 loss: 0.0158916951128049\n",
            "Epoch 37, Batch 20 loss: 0.0259838566678809\n",
            "Epoch 37, Batch 40 loss: 0.0185536052391399\n",
            "Epoch 37, Batch 60 loss: 0.0106406288832659\n",
            "Epoch 37, Batch 80 loss: 0.0152493602741743\n",
            "Epoch 37, Batch 100 loss: 0.0085433782754990\n",
            "Epoch 37, Batch 120 loss: 0.0093184652534546\n",
            "Epoch 38, Batch 20 loss: 0.0125478912319522\n",
            "Epoch 38, Batch 40 loss: 0.0146957695294986\n",
            "Epoch 38, Batch 60 loss: 0.0303979732838343\n",
            "Epoch 38, Batch 80 loss: 0.0052483852625301\n",
            "Epoch 38, Batch 100 loss: 0.0039959914371138\n",
            "Epoch 38, Batch 120 loss: 0.0155660100863315\n",
            "Epoch 39, Batch 20 loss: 0.0086631967722496\n",
            "Epoch 39, Batch 40 loss: 0.0063847771671135\n",
            "Epoch 39, Batch 60 loss: 0.0189984009281034\n",
            "Epoch 39, Batch 80 loss: 0.0049826832815597\n",
            "Epoch 39, Batch 100 loss: 0.0092372243350837\n",
            "Epoch 39, Batch 120 loss: 0.0046892634476535\n",
            "Epoch 40, Batch 20 loss: 0.0042306704213843\n",
            "Epoch 40, Batch 40 loss: 0.0151943123491947\n",
            "Epoch 40, Batch 60 loss: 0.0117224360496039\n",
            "Epoch 40, Batch 80 loss: 0.0258943992987042\n",
            "Epoch 40, Batch 100 loss: 0.0045505619942560\n",
            "Epoch 40, Batch 120 loss: 0.0177918268222129\n",
            "Epoch 41, Batch 20 loss: 0.0077466768736485\n",
            "Epoch 41, Batch 40 loss: 0.0182371900664293\n",
            "Epoch 41, Batch 60 loss: 0.0105458530626493\n",
            "Epoch 41, Batch 80 loss: 0.0047240454179700\n",
            "Epoch 41, Batch 100 loss: 0.0124451453069923\n",
            "Epoch 41, Batch 120 loss: 0.0243665224683355\n",
            "Epoch 42, Batch 20 loss: 0.0084896076354198\n",
            "Epoch 42, Batch 40 loss: 0.0252642828869284\n",
            "Epoch 42, Batch 60 loss: 0.0226732864015503\n",
            "Epoch 42, Batch 80 loss: 0.0073161735926988\n",
            "Epoch 42, Batch 100 loss: 0.0090727958988282\n",
            "Epoch 42, Batch 120 loss: 0.0127237148641143\n",
            "Epoch 43, Batch 20 loss: 0.0090883642464178\n",
            "Epoch 43, Batch 40 loss: 0.0155674125533551\n",
            "Epoch 43, Batch 60 loss: 0.0156159998557996\n",
            "Epoch 43, Batch 80 loss: 0.0217141152941622\n",
            "Epoch 43, Batch 100 loss: 0.0043598580756225\n",
            "Epoch 43, Batch 120 loss: 0.0029842755946447\n",
            "Epoch 44, Batch 20 loss: 0.0100419630121905\n",
            "Epoch 44, Batch 40 loss: 0.0111807003646391\n",
            "Epoch 44, Batch 60 loss: 0.0170909145235782\n",
            "Epoch 44, Batch 80 loss: 0.0276089708218933\n",
            "Epoch 44, Batch 100 loss: 0.0167454378504772\n",
            "Epoch 44, Batch 120 loss: 0.0120849152473966\n",
            "Epoch 45, Batch 20 loss: 0.0210870428207272\n",
            "Epoch 45, Batch 40 loss: 0.0130669778467563\n",
            "Epoch 45, Batch 60 loss: 0.0170538677833974\n",
            "Epoch 45, Batch 80 loss: 0.0097693059666199\n",
            "Epoch 45, Batch 100 loss: 0.0079236047240556\n",
            "Epoch 45, Batch 120 loss: 0.0031859000329860\n",
            "Epoch 46, Batch 20 loss: 0.0230869663151680\n",
            "Epoch 46, Batch 40 loss: 0.0100397298432654\n",
            "Epoch 46, Batch 60 loss: 0.0174324383653584\n",
            "Epoch 46, Batch 80 loss: 0.0065931193050346\n",
            "Epoch 46, Batch 100 loss: 0.0185439894048613\n",
            "Epoch 46, Batch 120 loss: 0.0318003481370397\n",
            "Epoch 47, Batch 20 loss: 0.0059632783610141\n",
            "Epoch 47, Batch 40 loss: 0.0048929165481240\n",
            "Epoch 47, Batch 60 loss: 0.0165357719626627\n",
            "Epoch 47, Batch 80 loss: 0.0121458254070603\n",
            "Epoch 47, Batch 100 loss: 0.0130930953564530\n",
            "Epoch 47, Batch 120 loss: 0.0100400899929809\n",
            "Epoch 48, Batch 20 loss: 0.0070231084784609\n",
            "Epoch 48, Batch 40 loss: 0.0077628869301407\n",
            "Epoch 48, Batch 60 loss: 0.0088858472976426\n",
            "Epoch 48, Batch 80 loss: 0.0123908278212184\n",
            "Epoch 48, Batch 100 loss: 0.0056211266230093\n",
            "Epoch 48, Batch 120 loss: 0.0089419453215669\n",
            "Epoch 49, Batch 20 loss: 0.0078189363950514\n",
            "Epoch 49, Batch 40 loss: 0.0075528630710323\n",
            "Epoch 49, Batch 60 loss: 0.0145072179177077\n",
            "Epoch 49, Batch 80 loss: 0.0046983411964902\n",
            "Epoch 49, Batch 100 loss: 0.0037435042177094\n",
            "Epoch 49, Batch 120 loss: 0.0075481822670554\n",
            "Epoch 50, Batch 20 loss: 0.0294585339885089\n",
            "Epoch 50, Batch 40 loss: 0.0158048163415515\n",
            "Epoch 50, Batch 60 loss: 0.0104922620921570\n",
            "Epoch 50, Batch 80 loss: 0.0061965192333446\n",
            "Epoch 50, Batch 100 loss: 0.0098578050557990\n",
            "Epoch 50, Batch 120 loss: 0.0131403489416698\n"
          ]
        }
      ]
    },
    {
      "cell_type": "code",
      "metadata": {
        "id": "CfA7ZjLR1BZP",
        "colab": {
          "base_uri": "https://localhost:8080/",
          "height": 281
        },
        "outputId": "3bf17252-ec8c-444d-e112-0cbee6085733"
      },
      "source": [
        "plt.plot(train_losses)\n",
        "plt.title(\"Training Loss\")\n",
        "plt.show()"
      ],
      "execution_count": 14,
      "outputs": [
        {
          "output_type": "display_data",
          "data": {
            "image/png": "[encoded data removed]",
            "text/plain": [
              "<Figure size 432x288 with 1 Axes>"
            ]
          },
          "metadata": {
            "needs_background": "light"
          }
        }
      ]
    },
    {
      "cell_type": "markdown",
      "metadata": {
        "id": "ItLyF9dQyJFL"
      },
      "source": [
        "Testing the model"
      ]
    },
    {
      "cell_type": "code",
      "metadata": {
        "id": "gGki98W3SoEW"
      },
      "source": [
        "from sklearn.metrics import precision_score, recall_score, f1_score, accuracy_score"
      ],
      "execution_count": 15,
      "outputs": []
    },
    {
      "cell_type": "code",
      "metadata": {
        "id": "xNavYOynyE6d",
        "colab": {
          "base_uri": "https://localhost:8080/"
        },
        "outputId": "7a7c2cbe-6bf5-4699-a68f-7cc625e2611e"
      },
      "source": [
        "# The test_model function is from model_testing python file\n",
        "test_loss, class_correct, class_total, labels, predictions = test_model(classes, xception, test_loader, criterion)\n",
        "\n",
        "# Test accuracy for each hieroglyph\n",
        "for i in range(len(classes)):\n",
        "    if class_total[i] > 0:\n",
        "        print('Test Accuracy of %5s: %2d%% (%2d/%2d)' % (classes[i], 100 * class_correct[i] / class_total[i], np.sum(class_correct[i]), np.sum(class_total[i])))\n",
        "    else:\n",
        "        print('Test Accuracy of %5s: N/A (no training examples)' % (classes[i]))\n",
        "\n",
        "# Total Test accuracy\n",
        "print(\"\\nAccuracy: {:.3%}\".format(accuracy_score(labels, predictions)))\n",
        "print(\"\\nPrecision: {:.3%}\".format(precision_score(labels, predictions, average = 'weighted')))\n",
        "print(\"\\nRecall: {:.3%}\".format(recall_score(labels, predictions, average = 'weighted')))\n",
        "print(\"\\nF1-score: {:.3%}\".format(f1_score(labels, predictions, average = 'weighted')))"
      ],
      "execution_count": 16,
      "outputs": [
        {
          "output_type": "stream",
          "name": "stdout",
          "text": [
            "Test Loss: 0.025711\n",
            "\n",
            "Test Accuracy of    D2: 100% ( 5/ 5)\n",
            "Test Accuracy of   D21: 97% (35/36)\n",
            "Test Accuracy of   D36: 100% (12/12)\n",
            "Test Accuracy of    D4: 100% ( 8/ 8)\n",
            "Test Accuracy of   D46: 81% ( 9/11)\n",
            "Test Accuracy of   D58: 100% ( 8/ 8)\n",
            "Test Accuracy of   E23: 100% ( 2/ 2)\n",
            "Test Accuracy of   E34: 100% (25/25)\n",
            "Test Accuracy of   F31: 100% ( 2/ 2)\n",
            "Test Accuracy of   F35: 100% ( 1/ 1)\n",
            "Test Accuracy of    G1: 100% ( 7/ 7)\n",
            "Test Accuracy of   G17: 97% (38/39)\n",
            "Test Accuracy of   G43: 100% (40/40)\n",
            "Test Accuracy of   I10: 100% ( 9/ 9)\n",
            "Test Accuracy of    I9: 96% (29/30)\n",
            "Test Accuracy of   M17: 100% (73/73)\n",
            "Test Accuracy of   M23: 100% ( 8/ 8)\n",
            "Test Accuracy of   N35: 100% (90/90)\n",
            "Test Accuracy of    O1: 100% ( 4/ 4)\n",
            "Test Accuracy of   O34: 100% ( 4/ 4)\n",
            "Test Accuracy of    O4: 100% ( 3/ 3)\n",
            "Test Accuracy of   O49: 100% ( 3/ 3)\n",
            "Test Accuracy of    Q1: 100% ( 4/ 4)\n",
            "Test Accuracy of    Q3: 100% (16/16)\n",
            "Test Accuracy of    R4: 100% ( 1/ 1)\n",
            "Test Accuracy of    R8: 100% (14/14)\n",
            "Test Accuracy of   S29: 100% (53/53)\n",
            "Test Accuracy of   S34: 100% ( 2/ 2)\n",
            "Test Accuracy of    U7: 100% ( 1/ 1)\n",
            "Test Accuracy of   V13: 100% (16/16)\n",
            "Test Accuracy of   V28: 100% ( 8/ 8)\n",
            "Test Accuracy of   V30: 100% ( 2/ 2)\n",
            "Test Accuracy of   V31: 100% (27/27)\n",
            "Test Accuracy of   W11: 100% ( 1/ 1)\n",
            "Test Accuracy of   W24: 100% ( 8/ 8)\n",
            "Test Accuracy of    X1: 100% (47/47)\n",
            "Test Accuracy of    X8: 100% ( 1/ 1)\n",
            "Test Accuracy of    Y1: 100% ( 1/ 1)\n",
            "Test Accuracy of    Y5: 100% ( 2/ 2)\n",
            "Test Accuracy of    Z1: 100% (10/10)\n",
            "\n",
            "Accuracy: 99.211%\n",
            "\n",
            "Precision: 99.240%\n",
            "\n",
            "Recall: 99.211%\n",
            "\n",
            "F1-score: 99.217%\n"
          ]
        }
      ]
    }
  ]
}