{
  "nbformat": 4,
  "nbformat_minor": 0,
  "metadata": {
    "colab": {
      "name": "Egyptian_model_with_Xception_Pretrained_clean_only_test_with_data_aug.ipynb",
      "provenance": []
    },
    "kernelspec": {
      "name": "python3",
      "display_name": "Python 3"
    },
    "language_info": {
      "name": "python"
    },
    "accelerator": "GPU"
  },
  "cells": [
    {
      "cell_type": "code",
      "metadata": {
        "colab": {
          "base_uri": "https://localhost:8080/"
        },
        "id": "Po0ZVacIYsP0",
        "outputId": "35203f82-8479-4770-edbc-01d840896490"
      },
      "source": [
        "!pip install timm"
      ],
      "execution_count": 1,
      "outputs": [
        {
          "output_type": "stream",
          "name": "stdout",
          "text": [
            "Collecting timm\n",
            "  Downloading timm-0.4.12-py3-none-any.whl (376 kB)\n",
            "\u001b[?25l\r\u001b[K     |▉                               | 10 kB 27.5 MB/s eta 0:00:01\r\u001b[K     |█▊                              | 20 kB 30.8 MB/s eta 0:00:01\r\u001b[K     |██▋                             | 30 kB 21.7 MB/s eta 0:00:01\r\u001b[K     |███▌                            | 40 kB 17.8 MB/s eta 0:00:01\r\u001b[K     |████▍                           | 51 kB 15.6 MB/s eta 0:00:01\r\u001b[K     |█████▏                          | 61 kB 14.7 MB/s eta 0:00:01\r\u001b[K     |██████                          | 71 kB 14.2 MB/s eta 0:00:01\r\u001b[K     |███████                         | 81 kB 15.6 MB/s eta 0:00:01\r\u001b[K     |███████▉                        | 92 kB 15.6 MB/s eta 0:00:01\r\u001b[K     |████████▊                       | 102 kB 9.8 MB/s eta 0:00:01\r\u001b[K     |█████████▋                      | 112 kB 9.8 MB/s eta 0:00:01\r\u001b[K     |██████████▍                     | 122 kB 9.8 MB/s eta 0:00:01\r\u001b[K     |███████████▎                    | 133 kB 9.8 MB/s eta 0:00:01\r\u001b[K     |████████████▏                   | 143 kB 9.8 MB/s eta 0:00:01\r\u001b[K     |█████████████                   | 153 kB 9.8 MB/s eta 0:00:01\r\u001b[K     |██████████████                  | 163 kB 9.8 MB/s eta 0:00:01\r\u001b[K     |██████████████▊                 | 174 kB 9.8 MB/s eta 0:00:01\r\u001b[K     |███████████████▋                | 184 kB 9.8 MB/s eta 0:00:01\r\u001b[K     |████████████████▌               | 194 kB 9.8 MB/s eta 0:00:01\r\u001b[K     |█████████████████▍              | 204 kB 9.8 MB/s eta 0:00:01\r\u001b[K     |██████████████████▎             | 215 kB 9.8 MB/s eta 0:00:01\r\u001b[K     |███████████████████▏            | 225 kB 9.8 MB/s eta 0:00:01\r\u001b[K     |████████████████████            | 235 kB 9.8 MB/s eta 0:00:01\r\u001b[K     |████████████████████▉           | 245 kB 9.8 MB/s eta 0:00:01\r\u001b[K     |█████████████████████▊          | 256 kB 9.8 MB/s eta 0:00:01\r\u001b[K     |██████████████████████▋         | 266 kB 9.8 MB/s eta 0:00:01\r\u001b[K     |███████████████████████▌        | 276 kB 9.8 MB/s eta 0:00:01\r\u001b[K     |████████████████████████▍       | 286 kB 9.8 MB/s eta 0:00:01\r\u001b[K     |█████████████████████████▏      | 296 kB 9.8 MB/s eta 0:00:01\r\u001b[K     |██████████████████████████      | 307 kB 9.8 MB/s eta 0:00:01\r\u001b[K     |███████████████████████████     | 317 kB 9.8 MB/s eta 0:00:01\r\u001b[K     |███████████████████████████▉    | 327 kB 9.8 MB/s eta 0:00:01\r\u001b[K     |████████████████████████████▊   | 337 kB 9.8 MB/s eta 0:00:01\r\u001b[K     |█████████████████████████████▌  | 348 kB 9.8 MB/s eta 0:00:01\r\u001b[K     |██████████████████████████████▍ | 358 kB 9.8 MB/s eta 0:00:01\r\u001b[K     |███████████████████████████████▎| 368 kB 9.8 MB/s eta 0:00:01\r\u001b[K     |████████████████████████████████| 376 kB 9.8 MB/s \n",
            "\u001b[?25hRequirement already satisfied: torch>=1.4 in /usr/local/lib/python3.7/dist-packages (from timm) (1.10.0+cu111)\n",
            "Requirement already satisfied: torchvision in /usr/local/lib/python3.7/dist-packages (from timm) (0.11.1+cu111)\n",
            "Requirement already satisfied: typing-extensions in /usr/local/lib/python3.7/dist-packages (from torch>=1.4->timm) (3.10.0.2)\n",
            "Requirement already satisfied: numpy in /usr/local/lib/python3.7/dist-packages (from torchvision->timm) (1.19.5)\n",
            "Requirement already satisfied: pillow!=8.3.0,>=5.3.0 in /usr/local/lib/python3.7/dist-packages (from torchvision->timm) (7.1.2)\n",
            "Installing collected packages: timm\n",
            "Successfully installed timm-0.4.12\n"
          ]
        }
      ]
    },
    {
      "cell_type": "code",
      "metadata": {
        "id": "8iEiGSblxJzW"
      },
      "source": [
        "import os, os.path\n",
        "import torch\n",
        "import numpy as np\n",
        "import torch.nn as nn\n",
        "import torch.optim as optim\n",
        "from pathlib import Path\n",
        "from torchvision import datasets, models, transforms\n",
        "import timm\n",
        "\n",
        "# check if CUDA is available\n",
        "train_on_gpu = torch.cuda.is_available()"
      ],
      "execution_count": 2,
      "outputs": []
    },
    {
      "cell_type": "markdown",
      "metadata": {
        "id": "Jd6KU8VMz6J3"
      },
      "source": [
        "Module: Load_data"
      ]
    },
    {
      "cell_type": "code",
      "metadata": {
        "id": "8lWX0BW_w_kC"
      },
      "source": [
        "def load_data(hieroglyph_directory_path, batch_size=20, num_workers=0):\n",
        "    train_dir = os.path.join(hieroglyph_directory_path, 'train/')\n",
        "    test_dir = os.path.join(hieroglyph_directory_path, 'test/')\n",
        "\n",
        "    classes = []\n",
        "\n",
        "    for filename in os.listdir(train_dir):\n",
        "        if filename == '.DS_Store':\n",
        "            pass\n",
        "        else:\n",
        "            classes.append(filename)\n",
        "\n",
        "    classes.sort()\n",
        "\n",
        "    # print(\"Our classes:\", classes)\n",
        "    # print(len(classes))\n",
        "\n",
        "    data_transform_train = transforms.Compose([transforms.ToTensor(),\n",
        "                                                  transforms.Resize((75, 75)),\n",
        "                                                  transforms.Normalize((0.5,), (0.5,))]) \n",
        "\n",
        "    data_transform_test = transforms.Compose([transforms.ToTensor(),\n",
        "                                                  transforms.RandomApply([transforms.RandomHorizontalFlip()]),\n",
        "                                                  transforms.RandomRotation(degrees=(-10, 10)),\n",
        "                                                  transforms.RandomAffine(degrees=0, translate=(.1, .1)),\n",
        "                                                  transforms.RandomApply([transforms.ColorJitter(brightness=(1, 1.2),\n",
        "                                                                                                  contrast=(1, 1.5),\n",
        "                                                                                                  saturation=(1, 1.5),\n",
        "                                                                                                  hue=(0, 0.5))]),\n",
        "                                                  transforms.RandomErasing(p=0.5, scale=(0.05, 0.05), ratio=(0.3, 3.3), value=0,\n",
        "                                                                            inplace=False),\n",
        "                                                  transforms.Resize((75, 75)),\n",
        "                                                  transforms.Normalize((0.5,), (0.5,))])\n",
        "\n",
        "    train_data = datasets.ImageFolder(train_dir, transform=data_transform_train)\n",
        "    test_data = datasets.ImageFolder(test_dir, transform=data_transform_test)\n",
        "\n",
        "    # print('Num training images: ', len(train_data))\n",
        "    # print('Num test images: ', len(test_data))\n",
        "\n",
        "    # prepare data loaders\n",
        "    train_loader = torch.utils.data.DataLoader(train_data, batch_size=batch_size,\n",
        "                                               num_workers=num_workers, shuffle=True)\n",
        "    test_loader = torch.utils.data.DataLoader(test_data, batch_size=batch_size,\n",
        "                                              num_workers=num_workers, shuffle=True)\n",
        "\n",
        "    return train_loader, test_loader, classes"
      ],
      "execution_count": 3,
      "outputs": []
    },
    {
      "cell_type": "markdown",
      "metadata": {
        "id": "K4sXUrPPz7iF"
      },
      "source": [
        "Module: Train_model"
      ]
    },
    {
      "cell_type": "code",
      "metadata": {
        "id": "N2N_rnKLxN5c"
      },
      "source": [
        "def train_model(train_loader, optimizer, conv_net_model, criterion, my_lr_scheduler, n_epochs):\n",
        "    # track training loss over time\n",
        "    losses = []\n",
        "    \n",
        "    for epoch in range(1, n_epochs + 1):\n",
        "\n",
        "        # keep track of training and validation loss\n",
        "        train_loss = 0.0\n",
        "\n",
        "        # model by default is set to train\n",
        "        for batch_i, (data, target) in enumerate(train_loader):\n",
        "            # move tensors to GPU if CUDA is available\n",
        "            if train_on_gpu:\n",
        "                data, target = data.cuda(), target.cuda()\n",
        "            # clear the gradients of all optimized variables\n",
        "            optimizer.zero_grad()\n",
        "            # forward pass: compute predicted outputs by passing inputs to the model\n",
        "            output = conv_net_model(data)\n",
        "            # calculate the batch loss\n",
        "            loss = criterion(output, target)\n",
        "            # backward pass: compute gradient of the loss with respect to model parameters\n",
        "            loss.backward()\n",
        "            # perform a single optimization step (parameter update)\n",
        "            optimizer.step()\n",
        "            # update training loss\n",
        "            train_loss += loss.item()\n",
        "\n",
        "            my_lr_scheduler.step()\n",
        "\n",
        "            if batch_i % 20 == 19:  # print training loss every specified number of mini-batches\n",
        "                print('Epoch %d, Batch %d loss: %.16f' %\n",
        "                    (epoch, batch_i + 1, train_loss / 20))\n",
        "                losses.append(train_loss / 20)\n",
        "                train_loss = 0.0\n",
        "\n",
        "    return conv_net_model, losses"
      ],
      "execution_count": 4,
      "outputs": []
    },
    {
      "cell_type": "markdown",
      "metadata": {
        "id": "-Rrxo5RDz96U"
      },
      "source": [
        "Module: Test_model"
      ]
    },
    {
      "cell_type": "code",
      "metadata": {
        "id": "Ay-HlMJnxU9v"
      },
      "source": [
        "def test_model(classes, conv_net_model, test_loader, criterion):\n",
        "    # track test loss\n",
        "    test_loss = 0.0\n",
        "    class_correct = list(0. for i in range(len(classes)))\n",
        "    class_total = list(0. for i in range(len(classes)))\n",
        "\n",
        "    conv_net_model.eval()  # eval mode\n",
        "\n",
        "    labels = []\n",
        "    predictions = []\n",
        "    # iterate over test data\n",
        "    for data, target in test_loader:\n",
        "        # move tensors to GPU if CUDA is available\n",
        "        if train_on_gpu:\n",
        "            data, target = data.cuda(), target.cuda()\n",
        "        # forward pass: compute predicted outputs by passing inputs to the model\n",
        "        output = conv_net_model(data)\n",
        "\n",
        "        # calculate the batch loss\n",
        "        loss = criterion(output, target)\n",
        "        # update  test loss\n",
        "        test_loss += loss.item() * data.size(0)\n",
        "        # convert output probabilities to predicted class\n",
        "        _, pred = torch.max(output, 1)\n",
        "        # compare predictions to true label\n",
        "        correct_tensor = pred.eq(target.data.view_as(pred))\n",
        "        correct = np.squeeze(correct_tensor.numpy()) if not train_on_gpu else np.squeeze(correct_tensor.cpu().numpy())\n",
        "        # calculate test accuracy for each object class\n",
        "        for i in range(len(target.data)):\n",
        "            label = target.data[i]\n",
        "            class_correct[label] += correct[i].item()\n",
        "            class_total[label] += 1\n",
        "        \n",
        "        # Will be used for calculating Recall, Precision, and F1-score\n",
        "        labels.extend(target.data.view_as(pred).tolist())\n",
        "        predictions.extend(pred.tolist())\n",
        "\n",
        "\n",
        "    # calculate avg test loss\n",
        "    test_loss = test_loss / len(test_loader.dataset)\n",
        "    print('Test Loss: {:.6f}\\n'.format(test_loss))\n",
        "\n",
        "    return test_loss, class_correct, class_total, labels, predictions"
      ],
      "execution_count": 5,
      "outputs": []
    },
    {
      "cell_type": "markdown",
      "metadata": {
        "id": "xHh3PXE80Asa"
      },
      "source": [
        "Check whether CUDA is available (Change runtime type if not)"
      ]
    },
    {
      "cell_type": "code",
      "metadata": {
        "colab": {
          "base_uri": "https://localhost:8080/"
        },
        "id": "Q9TYPQH7x4zw",
        "outputId": "d9683b8f-97b0-499c-d518-0e4992c29640"
      },
      "source": [
        "if not train_on_gpu:\n",
        "    print('CUDA is not available.  Training on CPU ...')\n",
        "else:\n",
        "    print('CUDA is available!  Training on GPU ...')"
      ],
      "execution_count": 6,
      "outputs": [
        {
          "output_type": "stream",
          "name": "stdout",
          "text": [
            "CUDA is available!  Training on GPU ...\n"
          ]
        }
      ]
    },
    {
      "cell_type": "markdown",
      "metadata": {
        "id": "6lYw8EKVx8Q7"
      },
      "source": [
        "Load Hieroglyph Data"
      ]
    },
    {
      "cell_type": "code",
      "metadata": {
        "colab": {
          "base_uri": "https://localhost:8080/"
        },
        "id": "laLvoRy1yewl",
        "outputId": "cb703772-e2f3-440d-8ec0-004e9f742315"
      },
      "source": [
        "# Connecting and Mounting to the Google Drive\n",
        "from google.colab import drive\n",
        "drive.mount('/content/drive')"
      ],
      "execution_count": 7,
      "outputs": [
        {
          "output_type": "stream",
          "name": "stdout",
          "text": [
            "Mounted at /content/drive\n"
          ]
        }
      ]
    },
    {
      "cell_type": "code",
      "metadata": {
        "id": "odaoZt9GyfUt"
      },
      "source": [
        "data_dir = '/content/drive/MyDrive/EgyptianHieroglyphDataset_Original_Clean/'"
      ],
      "execution_count": 8,
      "outputs": []
    },
    {
      "cell_type": "code",
      "metadata": {
        "colab": {
          "base_uri": "https://localhost:8080/"
        },
        "id": "dF22MAnmyiC1",
        "outputId": "4ffcc9e6-163d-423b-a5cb-cf6ba40c586a"
      },
      "source": [
        "hieroglyph_for_train = []\n",
        "file_count_list = []\n",
        "\n",
        "for name in os.listdir('/content/drive/MyDrive/EgyptianHieroglyphDataset_Original_Clean/train/'):\n",
        "  path, dirs, files = next(os.walk(\"/content/drive/MyDrive/EgyptianHieroglyphDataset_Original_Clean/train/\"+name))\n",
        "  file_count = len(files)\n",
        "  print(name, file_count)\n",
        "  file_count_list.append(file_count)\n",
        "  hieroglyph_for_train.append(name)\n",
        "\n",
        "hieroglyph_dict = dict(zip(hieroglyph_for_train, file_count_list))"
      ],
      "execution_count": 9,
      "outputs": [
        {
          "output_type": "stream",
          "name": "stdout",
          "text": [
            "Y5 6\n",
            "I9 116\n",
            "O34 15\n",
            "V13 63\n",
            "U7 3\n",
            "D46 40\n",
            "E34 97\n",
            "G1 28\n",
            "V31 106\n",
            "S34 8\n",
            "D36 47\n",
            "Q1 13\n",
            "V30 6\n",
            "F35 2\n",
            "O4 11\n",
            "M23 30\n",
            "S29 212\n",
            "R8 53\n",
            "W11 4\n",
            "X1 185\n",
            "Y1 1\n",
            "D21 146\n",
            "D2 19\n",
            "E23 8\n",
            "X8 4\n",
            "Z1 39\n",
            "D4 29\n",
            "V28 28\n",
            "I10 32\n",
            "O1 16\n",
            "M17 291\n",
            "F31 6\n",
            "G43 157\n",
            "D58 28\n",
            "O49 10\n",
            "G17 156\n",
            "R4 2\n",
            "Q3 61\n",
            "W24 31\n",
            "N35 358\n"
          ]
        }
      ]
    },
    {
      "cell_type": "markdown",
      "metadata": {
        "id": "XeQQ7PjZzKd9"
      },
      "source": [
        "Number of images for each hieroglyph "
      ]
    },
    {
      "cell_type": "code",
      "metadata": {
        "colab": {
          "base_uri": "https://localhost:8080/",
          "height": 609
        },
        "id": "W6IzWR2RyjxM",
        "outputId": "7ec053db-c137-489d-fe93-7590b63a8d9f"
      },
      "source": [
        "import matplotlib.pyplot as plt\n",
        "import pandas as pd\n",
        "\n",
        "df = pd.DataFrame({\"Hieroglyph\":hieroglyph_for_train, \"Count\":file_count_list})\n",
        "\n",
        "df_sorted= df.sort_values('Count',ascending=False)\n",
        "\n",
        "plt.figure(figsize=(20,10))\n",
        "# make bar plot with matplotlib\n",
        "plt.bar('Hieroglyph', 'Count',data=df_sorted)"
      ],
      "execution_count": 10,
      "outputs": [
        {
          "output_type": "execute_result",
          "data": {
            "text/plain": [
              "<BarContainer object of 40 artists>"
            ]
          },
          "metadata": {},
          "execution_count": 10
        },
        {
          "output_type": "display_data",
          "data": {
            "image/png": "[encoded data removed]",
            "text/plain": [
              "<Figure size 1440x720 with 1 Axes>"
            ]
          },
          "metadata": {
            "needs_background": "light"
          }
        }
      ]
    },
    {
      "cell_type": "code",
      "metadata": {
        "id": "-3oOm8rSx7tp"
      },
      "source": [
        "# Number of images processed in a single training\n",
        "batch_size = 20\n",
        "num_workers = 0\n",
        "\n",
        "# The load_data function is from hieroglyph_data_preparation python file\n",
        "train_loader, test_loader, classes = load_data(data_dir)"
      ],
      "execution_count": 11,
      "outputs": []
    },
    {
      "cell_type": "markdown",
      "metadata": {
        "id": "BJm8sGiBx_q5"
      },
      "source": [
        "ResNet Model"
      ]
    },
    {
      "cell_type": "code",
      "metadata": {
        "id": "JkLXVJGkxemC",
        "colab": {
          "base_uri": "https://localhost:8080/"
        },
        "outputId": "2f334043-9d5d-4409-9ad1-09466f6d40f2"
      },
      "source": [
        "# Whether to extract features with the model\n",
        "feature_extract = False\n",
        "# Other selections\n",
        "loss_function = \"cross-entropy\"\n",
        "model_selection = \"xception\"\n",
        "optim_selection = \"Adam\"\n",
        "\n",
        "# False if you want scratch model, True if you want pretrained model\n",
        "whether_to_pretrain = True\n",
        "\n",
        "# Load the model\n",
        "if model_selection == \"resnet-50\":\n",
        "    resnet50 = models.resnet50(pretrained=whether_to_pretrain)\n",
        "    # Number of features in the last layer of resnet\n",
        "    n_inputs = resnet50.fc.in_features\n",
        "    # Add last linear layer (n_inputs -> 40 hieroglyph classes)\n",
        "    last_layer = nn.Sequential(\n",
        "                    nn.Linear(n_inputs, len(classes)))\n",
        "    resnet50.fc = last_layer\n",
        "    if train_on_gpu:\n",
        "      resnet50.cuda()\n",
        "    # Specify optimizer (Adam) and learning rate = 0.001\n",
        "    if optim_selection == \"Adam\":\n",
        "        optimizer = optim.Adam(resnet50.parameters(), lr=0.001)\n",
        "\n",
        "elif model_selection == \"inception-v3\":\n",
        "    inception_v3 = models.inception_v3(pretrained=whether_to_pretrain)\n",
        "    # Number of features in the last layer of resnet\n",
        "    n_inputs = inception_v3.fc.in_features\n",
        "    # Add last linear layer (n_inputs -> 40 hieroglyph classes)\n",
        "    last_layer = nn.Sequential(\n",
        "                    nn.Linear(n_inputs, len(classes)))\n",
        "    inception_v3.fc = last_layer\n",
        "    if train_on_gpu:\n",
        "      inception_v3.cuda()\n",
        "    # Specify optimizer (Adam) and learning rate = 0.001\n",
        "    if optim_selection == \"Adam\":\n",
        "        optimizer = optim.Adam(inception_v3.parameters(), lr=0.001)\n",
        "\n",
        "elif model_selection == \"xception\":\n",
        "    xception = timm.create_model('xception', pretrained=whether_to_pretrain)\n",
        "    # Number of features in the last layer of resnet\n",
        "    n_inputs = xception.fc.in_features\n",
        "    # Add last linear layer (n_inputs -> 40 hieroglyph classes)\n",
        "    last_layer = nn.Sequential(\n",
        "                    nn.Linear(n_inputs, len(classes)))\n",
        "    xception.fc = last_layer\n",
        "    if train_on_gpu:\n",
        "      xception.cuda()\n",
        "    # Specify optimizer (Adam) and learning rate = 0.001\n",
        "    if optim_selection == \"Adam\":\n",
        "        optimizer = optim.Adam(xception.parameters(), lr=0.001)\n",
        "\n",
        "# Specify loss function (categorical cross-entropy)\n",
        "if loss_function == \"cross-entropy\":\n",
        "    criterion = nn.CrossEntropyLoss()\n",
        "\n",
        "# Exponential Decay to strengthen learning\n",
        "decayRate = 0.999\n",
        "my_lr_scheduler = torch.optim.lr_scheduler.ExponentialLR(optimizer=optimizer, gamma=decayRate)"
      ],
      "execution_count": 12,
      "outputs": [
        {
          "output_type": "stream",
          "name": "stderr",
          "text": [
            "Downloading: \"https://github.com/rwightman/pytorch-image-models/releases/download/v0.1-cadene/xception-43020ad28.pth\" to /root/.cache/torch/hub/checkpoints/xception-43020ad28.pth\n"
          ]
        }
      ]
    },
    {
      "cell_type": "markdown",
      "metadata": {
        "id": "U2vnErB1yHmM"
      },
      "source": [
        "Training the model"
      ]
    },
    {
      "cell_type": "code",
      "metadata": {
        "colab": {
          "base_uri": "https://localhost:8080/"
        },
        "id": "dOB03noWyEvQ",
        "outputId": "6a241e12-98fc-4b4d-9376-3f2beb860ccf"
      },
      "source": [
        "# number of epochs to train the model\n",
        "n_epochs = 50\n",
        "\n",
        "if model_selection == \"resnet-50\":\n",
        "  # The train_model function is from model_training python file\n",
        "  resnet50, train_losses = train_model(train_loader, optimizer, resnet50, criterion, my_lr_scheduler, n_epochs)\n",
        "elif model_selection == \"inception-v3\":\n",
        "  # The train_model function is from model_training python file\n",
        "  inception_v3, train_losses = train_model(train_loader, optimizer, inception_v3, criterion, my_lr_scheduler, n_epochs)\n",
        "elif model_selection == \"xception\":\n",
        "  # The train_model function is from model_training python file\n",
        "  xception, train_losses = train_model(train_loader, optimizer, xception, criterion, my_lr_scheduler, n_epochs)"
      ],
      "execution_count": 13,
      "outputs": [
        {
          "output_type": "stream",
          "name": "stdout",
          "text": [
            "Epoch 1, Batch 20 loss: 2.6176290631294252\n",
            "Epoch 1, Batch 40 loss: 1.6993423119187354\n",
            "Epoch 1, Batch 60 loss: 0.9630623117089272\n",
            "Epoch 1, Batch 80 loss: 0.8400672495365142\n",
            "Epoch 1, Batch 100 loss: 0.6109192758798599\n",
            "Epoch 1, Batch 120 loss: 0.4345896311104298\n",
            "Epoch 2, Batch 20 loss: 0.3674893323332071\n",
            "Epoch 2, Batch 40 loss: 0.3610881556756794\n",
            "Epoch 2, Batch 60 loss: 0.1756015697494149\n",
            "Epoch 2, Batch 80 loss: 0.3392086315900087\n",
            "Epoch 2, Batch 100 loss: 0.1752583656460047\n",
            "Epoch 2, Batch 120 loss: 0.1879287692252546\n",
            "Epoch 3, Batch 20 loss: 0.3210610626265407\n",
            "Epoch 3, Batch 40 loss: 0.2339249645825476\n",
            "Epoch 3, Batch 60 loss: 0.2005654882639646\n",
            "Epoch 3, Batch 80 loss: 0.1281044806819409\n",
            "Epoch 3, Batch 100 loss: 0.1344615009147674\n",
            "Epoch 3, Batch 120 loss: 0.1554901029914618\n",
            "Epoch 4, Batch 20 loss: 0.1548865105258301\n",
            "Epoch 4, Batch 40 loss: 0.0516705224756151\n",
            "Epoch 4, Batch 60 loss: 0.0844992306199856\n",
            "Epoch 4, Batch 80 loss: 0.0629068907233886\n",
            "Epoch 4, Batch 100 loss: 0.0754297417995986\n",
            "Epoch 4, Batch 120 loss: 0.0490141031914391\n",
            "Epoch 5, Batch 20 loss: 0.0524786590074655\n",
            "Epoch 5, Batch 40 loss: 0.0352276287623681\n",
            "Epoch 5, Batch 60 loss: 0.0159546454087831\n",
            "Epoch 5, Batch 80 loss: 0.0274721636902541\n",
            "Epoch 5, Batch 100 loss: 0.0696605527540669\n",
            "Epoch 5, Batch 120 loss: 0.0170283393614227\n",
            "Epoch 6, Batch 20 loss: 0.0209328509547049\n",
            "Epoch 6, Batch 40 loss: 0.0183215266064508\n",
            "Epoch 6, Batch 60 loss: 0.0300512069487013\n",
            "Epoch 6, Batch 80 loss: 0.0118352303368738\n",
            "Epoch 6, Batch 100 loss: 0.0276965438024490\n",
            "Epoch 6, Batch 120 loss: 0.0315600227782852\n",
            "Epoch 7, Batch 20 loss: 0.0137279704737011\n",
            "Epoch 7, Batch 40 loss: 0.0203423460741760\n",
            "Epoch 7, Batch 60 loss: 0.0389673598925583\n",
            "Epoch 7, Batch 80 loss: 0.0126640053815208\n",
            "Epoch 7, Batch 100 loss: 0.0193131117732264\n",
            "Epoch 7, Batch 120 loss: 0.0148221016876050\n",
            "Epoch 8, Batch 20 loss: 0.0077276217678445\n",
            "Epoch 8, Batch 40 loss: 0.0123822819412453\n",
            "Epoch 8, Batch 60 loss: 0.0224710852024145\n",
            "Epoch 8, Batch 80 loss: 0.0239699324854882\n",
            "Epoch 8, Batch 100 loss: 0.0101579785230570\n",
            "Epoch 8, Batch 120 loss: 0.0162472482217709\n",
            "Epoch 9, Batch 20 loss: 0.0033756346361770\n",
            "Epoch 9, Batch 40 loss: 0.0035769718157098\n",
            "Epoch 9, Batch 60 loss: 0.0083139458696678\n",
            "Epoch 9, Batch 80 loss: 0.0020565042352246\n",
            "Epoch 9, Batch 100 loss: 0.0170159064153268\n",
            "Epoch 9, Batch 120 loss: 0.0060795474186307\n",
            "Epoch 10, Batch 20 loss: 0.0054071466365713\n",
            "Epoch 10, Batch 40 loss: 0.0056815722498868\n",
            "Epoch 10, Batch 60 loss: 0.0029400682222331\n",
            "Epoch 10, Batch 80 loss: 0.0098864782630699\n",
            "Epoch 10, Batch 100 loss: 0.0008558831948903\n",
            "Epoch 10, Batch 120 loss: 0.0022199486502359\n",
            "Epoch 11, Batch 20 loss: 0.0248066755055333\n",
            "Epoch 11, Batch 40 loss: 0.0446305038989522\n",
            "Epoch 11, Batch 60 loss: 0.0085995793851907\n",
            "Epoch 11, Batch 80 loss: 0.0041571119945729\n",
            "Epoch 11, Batch 100 loss: 0.0173518646362936\n",
            "Epoch 11, Batch 120 loss: 0.0104189843452332\n",
            "Epoch 12, Batch 20 loss: 0.0047762440506631\n",
            "Epoch 12, Batch 40 loss: 0.0039142529654782\n",
            "Epoch 12, Batch 60 loss: 0.0049428524314862\n",
            "Epoch 12, Batch 80 loss: 0.0030584242831537\n",
            "Epoch 12, Batch 100 loss: 0.0099862267627032\n",
            "Epoch 12, Batch 120 loss: 0.0061047538263665\n",
            "Epoch 13, Batch 20 loss: 0.0019181921143172\n",
            "Epoch 13, Batch 40 loss: 0.0027855707045092\n",
            "Epoch 13, Batch 60 loss: 0.0029419312730170\n",
            "Epoch 13, Batch 80 loss: 0.0037601080875902\n",
            "Epoch 13, Batch 100 loss: 0.0006423602386349\n",
            "Epoch 13, Batch 120 loss: 0.0037305687950720\n",
            "Epoch 14, Batch 20 loss: 0.0006181526121509\n",
            "Epoch 14, Batch 40 loss: 0.0013674267436727\n",
            "Epoch 14, Batch 60 loss: 0.0013361036779315\n",
            "Epoch 14, Batch 80 loss: 0.0012111859854485\n",
            "Epoch 14, Batch 100 loss: 0.0023269727145816\n",
            "Epoch 14, Batch 120 loss: 0.0007421892294587\n",
            "Epoch 15, Batch 20 loss: 0.0002496359542420\n",
            "Epoch 15, Batch 40 loss: 0.0026795793549354\n",
            "Epoch 15, Batch 60 loss: 0.0016749677095504\n",
            "Epoch 15, Batch 80 loss: 0.0005905384128710\n",
            "Epoch 15, Batch 100 loss: 0.0017089664544983\n",
            "Epoch 15, Batch 120 loss: 0.0004826250080441\n",
            "Epoch 16, Batch 20 loss: 0.0013758481112745\n",
            "Epoch 16, Batch 40 loss: 0.0006139772869574\n",
            "Epoch 16, Batch 60 loss: 0.0016078810467661\n",
            "Epoch 16, Batch 80 loss: 0.0010620937495332\n",
            "Epoch 16, Batch 100 loss: 0.0009489812880929\n",
            "Epoch 16, Batch 120 loss: 0.0004991049212549\n",
            "Epoch 17, Batch 20 loss: 0.0008309817465488\n",
            "Epoch 17, Batch 40 loss: 0.0008959543709352\n",
            "Epoch 17, Batch 60 loss: 0.0016257638268144\n",
            "Epoch 17, Batch 80 loss: 0.0009764775399162\n",
            "Epoch 17, Batch 100 loss: 0.0009889795263007\n",
            "Epoch 17, Batch 120 loss: 0.0006061621857953\n",
            "Epoch 18, Batch 20 loss: 0.0006482368855359\n",
            "Epoch 18, Batch 40 loss: 0.0008250158793089\n",
            "Epoch 18, Batch 60 loss: 0.0008982879920950\n",
            "Epoch 18, Batch 80 loss: 0.0004449578391359\n",
            "Epoch 18, Batch 100 loss: 0.0005881499781026\n",
            "Epoch 18, Batch 120 loss: 0.0006231374820345\n",
            "Epoch 19, Batch 20 loss: 0.0021279990840412\n",
            "Epoch 19, Batch 40 loss: 0.0002473046812156\n",
            "Epoch 19, Batch 60 loss: 0.0004931757041049\n",
            "Epoch 19, Batch 80 loss: 0.0002696054753869\n",
            "Epoch 19, Batch 100 loss: 0.0003260975553530\n",
            "Epoch 19, Batch 120 loss: 0.0005824418558404\n",
            "Epoch 20, Batch 20 loss: 0.0006119331324953\n",
            "Epoch 20, Batch 40 loss: 0.0004208858913444\n",
            "Epoch 20, Batch 60 loss: 0.0004135133316595\n",
            "Epoch 20, Batch 80 loss: 0.0003070780487178\n",
            "Epoch 20, Batch 100 loss: 0.0021507960751478\n",
            "Epoch 20, Batch 120 loss: 0.0002923295316577\n",
            "Epoch 21, Batch 20 loss: 0.0011895538458703\n",
            "Epoch 21, Batch 40 loss: 0.0005916580914345\n",
            "Epoch 21, Batch 60 loss: 0.0005231137801275\n",
            "Epoch 21, Batch 80 loss: 0.0005103944053189\n",
            "Epoch 21, Batch 100 loss: 0.0008046488945183\n",
            "Epoch 21, Batch 120 loss: 0.0001794630320092\n",
            "Epoch 22, Batch 20 loss: 0.0007927993536214\n",
            "Epoch 22, Batch 40 loss: 0.0003040855841391\n",
            "Epoch 22, Batch 60 loss: 0.0003285246169980\n",
            "Epoch 22, Batch 80 loss: 0.0002676785437870\n",
            "Epoch 22, Batch 100 loss: 0.0003251487203670\n",
            "Epoch 22, Batch 120 loss: 0.0004083911211637\n",
            "Epoch 23, Batch 20 loss: 0.0006442480105761\n",
            "Epoch 23, Batch 40 loss: 0.0005948960972091\n",
            "Epoch 23, Batch 60 loss: 0.0008538198042515\n",
            "Epoch 23, Batch 80 loss: 0.0002383542087045\n",
            "Epoch 23, Batch 100 loss: 0.0001850885771091\n",
            "Epoch 23, Batch 120 loss: 0.0004480174199671\n",
            "Epoch 24, Batch 20 loss: 0.0002953798808448\n",
            "Epoch 24, Batch 40 loss: 0.0003219279495625\n",
            "Epoch 24, Batch 60 loss: 0.0004063730898906\n",
            "Epoch 24, Batch 80 loss: 0.0006787170877942\n",
            "Epoch 24, Batch 100 loss: 0.0005056749901996\n",
            "Epoch 24, Batch 120 loss: 0.0004225862858220\n",
            "Epoch 25, Batch 20 loss: 0.0003483354926175\n",
            "Epoch 25, Batch 40 loss: 0.0002786260525681\n",
            "Epoch 25, Batch 60 loss: 0.0003452365996054\n",
            "Epoch 25, Batch 80 loss: 0.0002264032579660\n",
            "Epoch 25, Batch 100 loss: 0.0002952446273412\n",
            "Epoch 25, Batch 120 loss: 0.0003543562494997\n",
            "Epoch 26, Batch 20 loss: 0.0003274553109804\n",
            "Epoch 26, Batch 40 loss: 0.0005032204912368\n",
            "Epoch 26, Batch 60 loss: 0.0003601178123972\n",
            "Epoch 26, Batch 80 loss: 0.0001297865626839\n",
            "Epoch 26, Batch 100 loss: 0.0002739623322668\n",
            "Epoch 26, Batch 120 loss: 0.0001566308666042\n",
            "Epoch 27, Batch 20 loss: 0.0002892359707403\n",
            "Epoch 27, Batch 40 loss: 0.0003293897348158\n",
            "Epoch 27, Batch 60 loss: 0.0007308746339731\n",
            "Epoch 27, Batch 80 loss: 0.0004452822835447\n",
            "Epoch 27, Batch 100 loss: 0.0016301541870234\n",
            "Epoch 27, Batch 120 loss: 0.0003456118366557\n",
            "Epoch 28, Batch 20 loss: 0.0000801270998636\n",
            "Epoch 28, Batch 40 loss: 0.0004324837913373\n",
            "Epoch 28, Batch 60 loss: 0.0003479394490569\n",
            "Epoch 28, Batch 80 loss: 0.0002904213262809\n",
            "Epoch 28, Batch 100 loss: 0.0002129105918357\n",
            "Epoch 28, Batch 120 loss: 0.0001399587631113\n",
            "Epoch 29, Batch 20 loss: 0.0001311746184456\n",
            "Epoch 29, Batch 40 loss: 0.0003462546979790\n",
            "Epoch 29, Batch 60 loss: 0.0001543739639601\n",
            "Epoch 29, Batch 80 loss: 0.0018110172341039\n",
            "Epoch 29, Batch 100 loss: 0.0003086681861078\n",
            "Epoch 29, Batch 120 loss: 0.0002362010331126\n",
            "Epoch 30, Batch 20 loss: 0.0003871092029385\n",
            "Epoch 30, Batch 40 loss: 0.0001602910394467\n",
            "Epoch 30, Batch 60 loss: 0.0033061313632061\n",
            "Epoch 30, Batch 80 loss: 0.0002260958020088\n",
            "Epoch 30, Batch 100 loss: 0.0002579732679806\n",
            "Epoch 30, Batch 120 loss: 0.0004489206836297\n",
            "Epoch 31, Batch 20 loss: 0.0002417500306365\n",
            "Epoch 31, Batch 40 loss: 0.0006338653242437\n",
            "Epoch 31, Batch 60 loss: 0.0003836392845187\n",
            "Epoch 31, Batch 80 loss: 0.0061091992973161\n",
            "Epoch 31, Batch 100 loss: 0.0001670645034665\n",
            "Epoch 31, Batch 120 loss: 0.0002086513499307\n",
            "Epoch 32, Batch 20 loss: 0.0003379351584954\n",
            "Epoch 32, Batch 40 loss: 0.0002867109581530\n",
            "Epoch 32, Batch 60 loss: 0.0002428300843349\n",
            "Epoch 32, Batch 80 loss: 0.0002248875211080\n",
            "Epoch 32, Batch 100 loss: 0.0004683732259764\n",
            "Epoch 32, Batch 120 loss: 0.0003998877659797\n",
            "Epoch 33, Batch 20 loss: 0.0002071763429740\n",
            "Epoch 33, Batch 40 loss: 0.0004993684158762\n",
            "Epoch 33, Batch 60 loss: 0.0002162441976907\n",
            "Epoch 33, Batch 80 loss: 0.0013644440361531\n",
            "Epoch 33, Batch 100 loss: 0.0004546477937765\n",
            "Epoch 33, Batch 120 loss: 0.0005385237015616\n",
            "Epoch 34, Batch 20 loss: 0.0001848274298936\n",
            "Epoch 34, Batch 40 loss: 0.0002413074584183\n",
            "Epoch 34, Batch 60 loss: 0.0002283544009515\n",
            "Epoch 34, Batch 80 loss: 0.0005605941698377\n",
            "Epoch 34, Batch 100 loss: 0.0002475862296251\n",
            "Epoch 34, Batch 120 loss: 0.0012585992409186\n",
            "Epoch 35, Batch 20 loss: 0.0003857826131934\n",
            "Epoch 35, Batch 40 loss: 0.0002334606880140\n",
            "Epoch 35, Batch 60 loss: 0.0004402267408295\n",
            "Epoch 35, Batch 80 loss: 0.0001993724753447\n",
            "Epoch 35, Batch 100 loss: 0.0001667406991146\n",
            "Epoch 35, Batch 120 loss: 0.0002247827561405\n",
            "Epoch 36, Batch 20 loss: 0.0001730507827233\n",
            "Epoch 36, Batch 40 loss: 0.0002385770016190\n",
            "Epoch 36, Batch 60 loss: 0.0002288695501193\n",
            "Epoch 36, Batch 80 loss: 0.0003139630665828\n",
            "Epoch 36, Batch 100 loss: 0.0005726951762881\n",
            "Epoch 36, Batch 120 loss: 0.0002467059729497\n",
            "Epoch 37, Batch 20 loss: 0.0003861741355195\n",
            "Epoch 37, Batch 40 loss: 0.0001276231094380\n",
            "Epoch 37, Batch 60 loss: 0.0002812822532633\n",
            "Epoch 37, Batch 80 loss: 0.0004425663979418\n",
            "Epoch 37, Batch 100 loss: 0.0001254088399946\n",
            "Epoch 37, Batch 120 loss: 0.0001556901568620\n",
            "Epoch 38, Batch 20 loss: 0.0002955049994853\n",
            "Epoch 38, Batch 40 loss: 0.0002900873605540\n",
            "Epoch 38, Batch 60 loss: 0.0003385775502466\n",
            "Epoch 38, Batch 80 loss: 0.0002970364134853\n",
            "Epoch 38, Batch 100 loss: 0.0001509047515356\n",
            "Epoch 38, Batch 120 loss: 0.0004922990521663\n",
            "Epoch 39, Batch 20 loss: 0.0002746955643488\n",
            "Epoch 39, Batch 40 loss: 0.0001838046127887\n",
            "Epoch 39, Batch 60 loss: 0.0002586315265944\n",
            "Epoch 39, Batch 80 loss: 0.0001762482853337\n",
            "Epoch 39, Batch 100 loss: 0.0002142790274775\n",
            "Epoch 39, Batch 120 loss: 0.0002981320501931\n",
            "Epoch 40, Batch 20 loss: 0.0014959445082241\n",
            "Epoch 40, Batch 40 loss: 0.0003628104301242\n",
            "Epoch 40, Batch 60 loss: 0.0002955111402571\n",
            "Epoch 40, Batch 80 loss: 0.0002598475589366\n",
            "Epoch 40, Batch 100 loss: 0.0001896469499115\n",
            "Epoch 40, Batch 120 loss: 0.0001466643956519\n",
            "Epoch 41, Batch 20 loss: 0.0003536049067861\n",
            "Epoch 41, Batch 40 loss: 0.0004791008403117\n",
            "Epoch 41, Batch 60 loss: 0.0002806191148920\n",
            "Epoch 41, Batch 80 loss: 0.0002534467137139\n",
            "Epoch 41, Batch 100 loss: 0.0003620011632393\n",
            "Epoch 41, Batch 120 loss: 0.0003730733458724\n",
            "Epoch 42, Batch 20 loss: 0.0002513411686778\n",
            "Epoch 42, Batch 40 loss: 0.0004782542567682\n",
            "Epoch 42, Batch 60 loss: 0.0002353942832087\n",
            "Epoch 42, Batch 80 loss: 0.0045149100703384\n",
            "Epoch 42, Batch 100 loss: 0.0000806123742223\n",
            "Epoch 42, Batch 120 loss: 0.0001731293882585\n",
            "Epoch 43, Batch 20 loss: 0.0010731796617620\n",
            "Epoch 43, Batch 40 loss: 0.0002108635697368\n",
            "Epoch 43, Batch 60 loss: 0.0002986194968798\n",
            "Epoch 43, Batch 80 loss: 0.0004103381030291\n",
            "Epoch 43, Batch 100 loss: 0.0002100107400111\n",
            "Epoch 43, Batch 120 loss: 0.0004579085321893\n",
            "Epoch 44, Batch 20 loss: 0.0014079414810112\n",
            "Epoch 44, Batch 40 loss: 0.0002214284827915\n",
            "Epoch 44, Batch 60 loss: 0.0003489866419841\n",
            "Epoch 44, Batch 80 loss: 0.0008518841758359\n",
            "Epoch 44, Batch 100 loss: 0.0003603617828958\n",
            "Epoch 44, Batch 120 loss: 0.0001586331396538\n",
            "Epoch 45, Batch 20 loss: 0.0003396016040824\n",
            "Epoch 45, Batch 40 loss: 0.0001898487495055\n",
            "Epoch 45, Batch 60 loss: 0.0003026069473890\n",
            "Epoch 45, Batch 80 loss: 0.0003881359466959\n",
            "Epoch 45, Batch 100 loss: 0.0001006102548217\n",
            "Epoch 45, Batch 120 loss: 0.0003121912131064\n",
            "Epoch 46, Batch 20 loss: 0.0008031622736780\n",
            "Epoch 46, Batch 40 loss: 0.0002468385117027\n",
            "Epoch 46, Batch 60 loss: 0.0001422051147983\n",
            "Epoch 46, Batch 80 loss: 0.0000993568412014\n",
            "Epoch 46, Batch 100 loss: 0.0004003013767033\n",
            "Epoch 46, Batch 120 loss: 0.0003101897352735\n",
            "Epoch 47, Batch 20 loss: 0.0002900837920606\n",
            "Epoch 47, Batch 40 loss: 0.0003909772836778\n",
            "Epoch 47, Batch 60 loss: 0.0003232013763409\n",
            "Epoch 47, Batch 80 loss: 0.0002058743779344\n",
            "Epoch 47, Batch 100 loss: 0.0003362606586052\n",
            "Epoch 47, Batch 120 loss: 0.0002724092281824\n",
            "Epoch 48, Batch 20 loss: 0.0006315426667243\n",
            "Epoch 48, Batch 40 loss: 0.0006933904623111\n",
            "Epoch 48, Batch 60 loss: 0.0002755678463927\n",
            "Epoch 48, Batch 80 loss: 0.0004775166647505\n",
            "Epoch 48, Batch 100 loss: 0.0002603442110740\n",
            "Epoch 48, Batch 120 loss: 0.0004929720961172\n",
            "Epoch 49, Batch 20 loss: 0.0001890385259685\n",
            "Epoch 49, Batch 40 loss: 0.0001752731233864\n",
            "Epoch 49, Batch 60 loss: 0.0002287439975134\n",
            "Epoch 49, Batch 80 loss: 0.0006541410942191\n",
            "Epoch 49, Batch 100 loss: 0.0009242369248568\n",
            "Epoch 49, Batch 120 loss: 0.0001368711678879\n",
            "Epoch 50, Batch 20 loss: 0.0000903341850062\n",
            "Epoch 50, Batch 40 loss: 0.0001737119129757\n",
            "Epoch 50, Batch 60 loss: 0.0003267737705755\n",
            "Epoch 50, Batch 80 loss: 0.0003888332412316\n",
            "Epoch 50, Batch 100 loss: 0.0001267216039196\n",
            "Epoch 50, Batch 120 loss: 0.0003286934164862\n"
          ]
        }
      ]
    },
    {
      "cell_type": "code",
      "metadata": {
        "id": "CfA7ZjLR1BZP",
        "colab": {
          "base_uri": "https://localhost:8080/",
          "height": 281
        },
        "outputId": "5bff7647-b545-4f14-be2e-5033bfe1a17a"
      },
      "source": [
        "plt.plot(train_losses)\n",
        "plt.title(\"Training Loss\")\n",
        "plt.show()"
      ],
      "execution_count": 14,
      "outputs": [
        {
          "output_type": "display_data",
          "data": {
            "image/png": "[encoded data removed]",
            "text/plain": [
              "<Figure size 432x288 with 1 Axes>"
            ]
          },
          "metadata": {
            "needs_background": "light"
          }
        }
      ]
    },
    {
      "cell_type": "markdown",
      "metadata": {
        "id": "ItLyF9dQyJFL"
      },
      "source": [
        "Testing the model"
      ]
    },
    {
      "cell_type": "code",
      "metadata": {
        "id": "gGki98W3SoEW"
      },
      "source": [
        "from sklearn.metrics import precision_score, recall_score, f1_score, accuracy_score"
      ],
      "execution_count": 15,
      "outputs": []
    },
    {
      "cell_type": "code",
      "metadata": {
        "id": "xNavYOynyE6d",
        "colab": {
          "base_uri": "https://localhost:8080/"
        },
        "outputId": "71f00edd-6594-41be-bf2e-b8d1b1562875"
      },
      "source": [
        "# The test_model function is from model_testing python file\n",
        "test_loss, class_correct, class_total, labels, predictions = test_model(classes, xception, test_loader, criterion)\n",
        "\n",
        "# Test accuracy for each hieroglyph\n",
        "for i in range(len(classes)):\n",
        "    if class_total[i] > 0:\n",
        "        print('Test Accuracy of %5s: %2d%% (%2d/%2d)' % (classes[i], 100 * class_correct[i] / class_total[i], np.sum(class_correct[i]), np.sum(class_total[i])))\n",
        "    else:\n",
        "        print('Test Accuracy of %5s: N/A (no training examples)' % (classes[i]))\n",
        "\n",
        "# Total Test accuracy\n",
        "print(\"\\nAccuracy: {:.3%}\".format(accuracy_score(labels, predictions)))\n",
        "print(\"\\nPrecision: {:.3%}\".format(precision_score(labels, predictions, average = 'weighted')))\n",
        "print(\"\\nRecall: {:.3%}\".format(recall_score(labels, predictions, average = 'weighted')))\n",
        "print(\"\\nF1-score: {:.3%}\".format(f1_score(labels, predictions, average = 'weighted')))"
      ],
      "execution_count": 16,
      "outputs": [
        {
          "output_type": "stream",
          "name": "stdout",
          "text": [
            "Test Loss: 2.512969\n",
            "\n",
            "Test Accuracy of    D2: 40% ( 2/ 5)\n",
            "Test Accuracy of   D21: 36% (13/36)\n",
            "Test Accuracy of   D36: 50% ( 6/12)\n",
            "Test Accuracy of    D4: 37% ( 3/ 8)\n",
            "Test Accuracy of   D46:  0% ( 0/11)\n",
            "Test Accuracy of   D58: 37% ( 3/ 8)\n",
            "Test Accuracy of   E23:  0% ( 0/ 2)\n",
            "Test Accuracy of   E34: 40% (10/25)\n",
            "Test Accuracy of   F31:  0% ( 0/ 2)\n",
            "Test Accuracy of   F35:  0% ( 0/ 1)\n",
            "Test Accuracy of    G1: 14% ( 1/ 7)\n",
            "Test Accuracy of   G17: 38% (15/39)\n",
            "Test Accuracy of   G43: 47% (19/40)\n",
            "Test Accuracy of   I10: 55% ( 5/ 9)\n",
            "Test Accuracy of    I9: 23% ( 7/30)\n",
            "Test Accuracy of   M17: 27% (20/73)\n",
            "Test Accuracy of   M23: 75% ( 6/ 8)\n",
            "Test Accuracy of   N35: 98% (89/90)\n",
            "Test Accuracy of    O1: 75% ( 3/ 4)\n",
            "Test Accuracy of   O34: 50% ( 2/ 4)\n",
            "Test Accuracy of    O4: 100% ( 3/ 3)\n",
            "Test Accuracy of   O49: 66% ( 2/ 3)\n",
            "Test Accuracy of    Q1: 100% ( 4/ 4)\n",
            "Test Accuracy of    Q3: 37% ( 6/16)\n",
            "Test Accuracy of    R4:  0% ( 0/ 1)\n",
            "Test Accuracy of    R8: 50% ( 7/14)\n",
            "Test Accuracy of   S29: 30% (16/53)\n",
            "Test Accuracy of   S34: 50% ( 1/ 2)\n",
            "Test Accuracy of    U7: 100% ( 1/ 1)\n",
            "Test Accuracy of   V13: 50% ( 8/16)\n",
            "Test Accuracy of   V28: 87% ( 7/ 8)\n",
            "Test Accuracy of   V30: 100% ( 2/ 2)\n",
            "Test Accuracy of   V31: 77% (21/27)\n",
            "Test Accuracy of   W11:  0% ( 0/ 1)\n",
            "Test Accuracy of   W24: 25% ( 2/ 8)\n",
            "Test Accuracy of    X1: 40% (19/47)\n",
            "Test Accuracy of    X8: 100% ( 1/ 1)\n",
            "Test Accuracy of    Y1:  0% ( 0/ 1)\n",
            "Test Accuracy of    Y5: 50% ( 1/ 2)\n",
            "Test Accuracy of    Z1: 10% ( 1/10)\n",
            "\n",
            "Accuracy: 48.265%\n",
            "\n",
            "Precision: 78.580%\n",
            "\n",
            "Recall: 48.265%\n",
            "\n",
            "F1-score: 50.566%\n"
          ]
        },
        {
          "output_type": "stream",
          "name": "stderr",
          "text": [
            "/usr/local/lib/python3.7/dist-packages/sklearn/metrics/_classification.py:1308: UndefinedMetricWarning: Precision is ill-defined and being set to 0.0 in labels with no predicted samples. Use `zero_division` parameter to control this behavior.\n",
            "  _warn_prf(average, modifier, msg_start, len(result))\n"
          ]
        }
      ]
    }
  ]
}
