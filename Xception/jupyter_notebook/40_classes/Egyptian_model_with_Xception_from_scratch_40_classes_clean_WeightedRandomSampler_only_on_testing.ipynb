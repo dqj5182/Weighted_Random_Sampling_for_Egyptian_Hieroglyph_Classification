{
  "nbformat": 4,
  "nbformat_minor": 0,
  "metadata": {
    "colab": {
      "name": "Egyptian_model_with_Xception_from_scratch_40_classes_clean_WeightedRandomSampler_only_on_testing.ipynb",
      "provenance": [],
      "collapsed_sections": []
    },
    "kernelspec": {
      "name": "python3",
      "display_name": "Python 3"
    },
    "language_info": {
      "name": "python"
    },
    "accelerator": "GPU"
  },
  "cells": [
    {
      "cell_type": "code",
      "metadata": {
        "colab": {
          "base_uri": "https://localhost:8080/"
        },
        "id": "Po0ZVacIYsP0",
        "outputId": "3550c302-ed4f-4a2f-8469-31e8ba9a2ef0"
      },
      "source": [
        "!pip install timm"
      ],
      "execution_count": 1,
      "outputs": [
        {
          "output_type": "stream",
          "name": "stdout",
          "text": [
            "Requirement already satisfied: timm in /usr/local/lib/python3.7/dist-packages (0.4.12)\n",
            "Requirement already satisfied: torch>=1.4 in /usr/local/lib/python3.7/dist-packages (from timm) (1.10.0+cu111)\n",
            "Requirement already satisfied: torchvision in /usr/local/lib/python3.7/dist-packages (from timm) (0.11.1+cu111)\n",
            "Requirement already satisfied: typing-extensions in /usr/local/lib/python3.7/dist-packages (from torch>=1.4->timm) (3.10.0.2)\n",
            "Requirement already satisfied: pillow!=8.3.0,>=5.3.0 in /usr/local/lib/python3.7/dist-packages (from torchvision->timm) (7.1.2)\n",
            "Requirement already satisfied: numpy in /usr/local/lib/python3.7/dist-packages (from torchvision->timm) (1.19.5)\n"
          ]
        }
      ]
    },
    {
      "cell_type": "code",
      "metadata": {
        "id": "8iEiGSblxJzW"
      },
      "source": [
        "import os, os.path\n",
        "import torch\n",
        "import numpy as np\n",
        "import torch.nn as nn\n",
        "import torch.optim as optim\n",
        "from pathlib import Path\n",
        "from torchvision import datasets, models, transforms\n",
        "import timm\n",
        "\n",
        "# check if CUDA is available\n",
        "train_on_gpu = torch.cuda.is_available()"
      ],
      "execution_count": 2,
      "outputs": []
    },
    {
      "cell_type": "markdown",
      "metadata": {
        "id": "Jd6KU8VMz6J3"
      },
      "source": [
        "Module: Load_data"
      ]
    },
    {
      "cell_type": "code",
      "metadata": {
        "id": "CFTKwolqDOAG"
      },
      "source": [
        "def get_class_distribution(dataset_obj, idx2class):\n",
        "    count_dict = {k:0 for k,v in dataset_obj.class_to_idx.items()}\n",
        "    \n",
        "    for element in dataset_obj:\n",
        "        y_lbl = element[1]\n",
        "        y_lbl = idx2class[y_lbl]\n",
        "        count_dict[y_lbl] += 1\n",
        "            \n",
        "    return count_dict"
      ],
      "execution_count": 3,
      "outputs": []
    },
    {
      "cell_type": "code",
      "metadata": {
        "id": "8lWX0BW_w_kC"
      },
      "source": [
        "def load_data(hieroglyph_directory_path, batch_size=20, num_workers=0):\n",
        "    train_dir = os.path.join(hieroglyph_directory_path, 'train/')\n",
        "    test_dir = os.path.join(hieroglyph_directory_path, 'test/')\n",
        "\n",
        "    classes = []\n",
        "\n",
        "    for filename in os.listdir(train_dir):\n",
        "        if filename == '.DS_Store':\n",
        "            pass\n",
        "        else:\n",
        "            classes.append(filename)\n",
        "\n",
        "    classes.sort()\n",
        "\n",
        "    # print(\"Our classes:\", classes)\n",
        "    # print(len(classes))\n",
        "\n",
        "    data_transform = transforms.Compose([transforms.ToTensor(),\n",
        "                                              transforms.RandomApply([transforms.RandomHorizontalFlip()]),\n",
        "                                              transforms.RandomRotation(degrees=(-10, 10)),\n",
        "                                              transforms.RandomAffine(degrees=0, translate=(.1, .1)),\n",
        "                                              transforms.RandomApply([transforms.ColorJitter(brightness=(1, 1.2),\n",
        "                                                                                              contrast=(1, 1.5),\n",
        "                                                                                              saturation=(1, 1.5),\n",
        "                                                                                              hue=(0, 0.5))]),\n",
        "                                              transforms.RandomErasing(p=0.5, scale=(0.05, 0.05), ratio=(0.3, 3.3), value=0,\n",
        "                                                                        inplace=False),\n",
        "                                              transforms.Resize((75, 75)),\n",
        "                                              transforms.Normalize((0.5,), (0.5,))])\n",
        "\n",
        "    train_data = datasets.ImageFolder(train_dir, transform=data_transform)\n",
        "    test_data = datasets.ImageFolder(test_dir, transform=data_transform)\n",
        "\n",
        "    # print('Num training images: ', len(train_data))\n",
        "    # print('Num test images: ', len(test_data))\n",
        "\n",
        "    # prepare data loaders\n",
        "    train_loader = torch.utils.data.DataLoader(train_data, batch_size=batch_size,\n",
        "                                               num_workers=num_workers, shuffle=True)\n",
        "    \n",
        "    # WeightedRandomSampler for test loader\n",
        "    idx2class_test = {v: k for k, v in test_data.class_to_idx.items()}\n",
        "\n",
        "    target_list_test = torch.tensor(test_data.targets)\n",
        "    class_count_test = [i for i in get_class_distribution(test_data, idx2class_test).values()]\n",
        "    class_weights_test = 1./torch.tensor(class_count_test, dtype=torch.float) \n",
        "    class_weights_all_test = class_weights_test[target_list_test]\n",
        "    weighted_sampler_test = torch.utils.data.WeightedRandomSampler(weights=class_weights_all_test, num_samples=len(class_weights_all_test), replacement=True)\n",
        "\n",
        "    test_loader = torch.utils.data.DataLoader(test_data, batch_size=batch_size,\n",
        "                                              num_workers=num_workers, sampler=weighted_sampler_test)\n",
        "\n",
        "    return train_loader, test_loader, classes"
      ],
      "execution_count": 4,
      "outputs": []
    },
    {
      "cell_type": "markdown",
      "metadata": {
        "id": "K4sXUrPPz7iF"
      },
      "source": [
        "Module: Train_model"
      ]
    },
    {
      "cell_type": "code",
      "metadata": {
        "id": "N2N_rnKLxN5c"
      },
      "source": [
        "def train_model(train_loader, optimizer, conv_net_model, criterion, my_lr_scheduler, n_epochs):\n",
        "    # track training loss over time\n",
        "    losses = []\n",
        "    \n",
        "    for epoch in range(1, n_epochs + 1):\n",
        "\n",
        "        # keep track of training and validation loss\n",
        "        train_loss = 0.0\n",
        "\n",
        "        # model by default is set to train\n",
        "        for batch_i, (data, target) in enumerate(train_loader):\n",
        "            # move tensors to GPU if CUDA is available\n",
        "            if train_on_gpu:\n",
        "                data, target = data.cuda(), target.cuda()\n",
        "            # clear the gradients of all optimized variables\n",
        "            optimizer.zero_grad()\n",
        "            # forward pass: compute predicted outputs by passing inputs to the model\n",
        "            output = conv_net_model(data)\n",
        "            # calculate the batch loss\n",
        "            loss = criterion(output, target)\n",
        "            # backward pass: compute gradient of the loss with respect to model parameters\n",
        "            loss.backward()\n",
        "            # perform a single optimization step (parameter update)\n",
        "            optimizer.step()\n",
        "            # update training loss\n",
        "            train_loss += loss.item()\n",
        "\n",
        "            my_lr_scheduler.step()\n",
        "\n",
        "            if batch_i % 20 == 19:  # print training loss every specified number of mini-batches\n",
        "                print('Epoch %d, Batch %d loss: %.16f' %\n",
        "                    (epoch, batch_i + 1, train_loss / 20))\n",
        "                losses.append(train_loss / 20)\n",
        "                train_loss = 0.0\n",
        "\n",
        "    return conv_net_model, losses"
      ],
      "execution_count": 5,
      "outputs": []
    },
    {
      "cell_type": "markdown",
      "metadata": {
        "id": "-Rrxo5RDz96U"
      },
      "source": [
        "Module: Test_model"
      ]
    },
    {
      "cell_type": "code",
      "metadata": {
        "id": "Ay-HlMJnxU9v"
      },
      "source": [
        "def test_model(classes, conv_net_model, test_loader, criterion):\n",
        "    # track test loss\n",
        "    test_loss = 0.0\n",
        "    class_correct = list(0. for i in range(len(classes)))\n",
        "    class_total = list(0. for i in range(len(classes)))\n",
        "\n",
        "    conv_net_model.eval()  # eval mode\n",
        "\n",
        "    labels = []\n",
        "    predictions = []\n",
        "    # iterate over test data\n",
        "    for data, target in test_loader:\n",
        "        # move tensors to GPU if CUDA is available\n",
        "        if train_on_gpu:\n",
        "            data, target = data.cuda(), target.cuda()\n",
        "        # forward pass: compute predicted outputs by passing inputs to the model\n",
        "        output = conv_net_model(data)\n",
        "\n",
        "        # calculate the batch loss\n",
        "        loss = criterion(output, target)\n",
        "        # update  test loss\n",
        "        test_loss += loss.item() * data.size(0)\n",
        "        # convert output probabilities to predicted class\n",
        "        _, pred = torch.max(output, 1)\n",
        "        # compare predictions to true label\n",
        "        correct_tensor = pred.eq(target.data.view_as(pred))\n",
        "        correct = np.squeeze(correct_tensor.numpy()) if not train_on_gpu else np.squeeze(correct_tensor.cpu().numpy())\n",
        "        # calculate test accuracy for each object class\n",
        "        for i in range(len(target.data)):\n",
        "            label = target.data[i]\n",
        "            class_correct[label] += correct[i].item()\n",
        "            class_total[label] += 1\n",
        "        \n",
        "        # Will be used for calculating Recall, Precision, and F1-score\n",
        "        labels.extend(target.data.view_as(pred).tolist())\n",
        "        predictions.extend(pred.tolist())\n",
        "\n",
        "\n",
        "    # calculate avg test loss\n",
        "    test_loss = test_loss / len(test_loader.dataset)\n",
        "    print('Test Loss: {:.6f}\\n'.format(test_loss))\n",
        "\n",
        "    return test_loss, class_correct, class_total, labels, predictions"
      ],
      "execution_count": 6,
      "outputs": []
    },
    {
      "cell_type": "markdown",
      "metadata": {
        "id": "xHh3PXE80Asa"
      },
      "source": [
        "Check whether CUDA is available (Change runtime type if not)"
      ]
    },
    {
      "cell_type": "code",
      "metadata": {
        "colab": {
          "base_uri": "https://localhost:8080/"
        },
        "id": "Q9TYPQH7x4zw",
        "outputId": "2c68c963-24ff-4a89-b28a-bbe4ad6b93b0"
      },
      "source": [
        "if not train_on_gpu:\n",
        "    print('CUDA is not available.  Training on CPU ...')\n",
        "else:\n",
        "    print('CUDA is available!  Training on GPU ...')"
      ],
      "execution_count": 7,
      "outputs": [
        {
          "output_type": "stream",
          "name": "stdout",
          "text": [
            "CUDA is available!  Training on GPU ...\n"
          ]
        }
      ]
    },
    {
      "cell_type": "markdown",
      "metadata": {
        "id": "6lYw8EKVx8Q7"
      },
      "source": [
        "Load Hieroglyph Data"
      ]
    },
    {
      "cell_type": "code",
      "metadata": {
        "colab": {
          "base_uri": "https://localhost:8080/"
        },
        "id": "laLvoRy1yewl",
        "outputId": "8159e9ae-1bad-41f6-8574-10339b6dab61"
      },
      "source": [
        "# Connecting and Mounting to the Google Drive\n",
        "from google.colab import drive\n",
        "drive.mount('/content/drive')"
      ],
      "execution_count": 8,
      "outputs": [
        {
          "output_type": "stream",
          "name": "stdout",
          "text": [
            "Drive already mounted at /content/drive; to attempt to forcibly remount, call drive.mount(\"/content/drive\", force_remount=True).\n"
          ]
        }
      ]
    },
    {
      "cell_type": "code",
      "metadata": {
        "id": "odaoZt9GyfUt"
      },
      "source": [
        "data_dir = '/content/drive/MyDrive/EgyptianHieroglyphDataset_Original_Clean/'"
      ],
      "execution_count": 9,
      "outputs": []
    },
    {
      "cell_type": "code",
      "metadata": {
        "colab": {
          "base_uri": "https://localhost:8080/"
        },
        "id": "dF22MAnmyiC1",
        "outputId": "3a26c02f-d389-492a-c1e4-2b7e2ec98433"
      },
      "source": [
        "hieroglyph_for_train = []\n",
        "file_count_list = []\n",
        "\n",
        "for name in os.listdir('/content/drive/MyDrive/EgyptianHieroglyphDataset_Original_Clean/train/'):\n",
        "  path, dirs, files = next(os.walk(\"/content/drive/MyDrive/EgyptianHieroglyphDataset_Original_Clean/train/\"+name))\n",
        "  file_count = len(files)\n",
        "  print(name, file_count)\n",
        "  file_count_list.append(file_count)\n",
        "  hieroglyph_for_train.append(name)\n",
        "\n",
        "hieroglyph_dict = dict(zip(hieroglyph_for_train, file_count_list))"
      ],
      "execution_count": 10,
      "outputs": [
        {
          "output_type": "stream",
          "name": "stdout",
          "text": [
            "Y5 6\n",
            "I9 116\n",
            "O34 15\n",
            "V13 63\n",
            "U7 3\n",
            "D46 40\n",
            "E34 97\n",
            "G1 28\n",
            "V31 106\n",
            "S34 8\n",
            "D36 47\n",
            "Q1 13\n",
            "V30 6\n",
            "F35 2\n",
            "O4 11\n",
            "M23 30\n",
            "S29 212\n",
            "R8 53\n",
            "W11 4\n",
            "X1 185\n",
            "Y1 1\n",
            "D21 146\n",
            "D2 19\n",
            "E23 8\n",
            "X8 4\n",
            "Z1 39\n",
            "D4 29\n",
            "V28 28\n",
            "I10 32\n",
            "O1 16\n",
            "M17 291\n",
            "F31 6\n",
            "G43 157\n",
            "D58 28\n",
            "O49 10\n",
            "G17 156\n",
            "R4 2\n",
            "Q3 61\n",
            "W24 31\n",
            "N35 358\n"
          ]
        }
      ]
    },
    {
      "cell_type": "markdown",
      "metadata": {
        "id": "XeQQ7PjZzKd9"
      },
      "source": [
        "Number of images for each hieroglyph "
      ]
    },
    {
      "cell_type": "code",
      "metadata": {
        "colab": {
          "base_uri": "https://localhost:8080/",
          "height": 609
        },
        "id": "W6IzWR2RyjxM",
        "outputId": "53a4de57-2932-4881-a150-5f8c3920a3c7"
      },
      "source": [
        "import matplotlib.pyplot as plt\n",
        "import pandas as pd\n",
        "\n",
        "df = pd.DataFrame({\"Hieroglyph\":hieroglyph_for_train, \"Count\":file_count_list})\n",
        "\n",
        "df_sorted= df.sort_values('Count',ascending=False)\n",
        "\n",
        "plt.figure(figsize=(20,10))\n",
        "# make bar plot with matplotlib\n",
        "plt.bar('Hieroglyph', 'Count',data=df_sorted)"
      ],
      "execution_count": 11,
      "outputs": [
        {
          "output_type": "execute_result",
          "data": {
            "text/plain": [
              "<BarContainer object of 40 artists>"
            ]
          },
          "metadata": {},
          "execution_count": 11
        },
        {
          "output_type": "display_data",
          "data": {
            "image/png": "[encoded data removed]",
            "text/plain": [
              "<Figure size 1440x720 with 1 Axes>"
            ]
          },
          "metadata": {
            "needs_background": "light"
          }
        }
      ]
    },
    {
      "cell_type": "code",
      "metadata": {
        "id": "-3oOm8rSx7tp"
      },
      "source": [
        "# Number of images processed in a single training\n",
        "batch_size = 20\n",
        "num_workers = 0\n",
        "\n",
        "# The load_data function is from hieroglyph_data_preparation python file\n",
        "train_loader, test_loader, classes = load_data(data_dir)"
      ],
      "execution_count": 12,
      "outputs": []
    },
    {
      "cell_type": "markdown",
      "metadata": {
        "id": "BJm8sGiBx_q5"
      },
      "source": [
        "ResNet Model"
      ]
    },
    {
      "cell_type": "code",
      "metadata": {
        "id": "JkLXVJGkxemC"
      },
      "source": [
        "# Whether to extract features with the model\n",
        "feature_extract = False\n",
        "# Other selections\n",
        "loss_function = \"cross-entropy\"\n",
        "model_selection = \"xception\"\n",
        "optim_selection = \"Adam\"\n",
        "\n",
        "# False if you want scratch model, True if you want pretrained model\n",
        "whether_to_pretrain = False\n",
        "\n",
        "# Load the model\n",
        "if model_selection == \"resnet-50\":\n",
        "    resnet50 = models.resnet50(pretrained=whether_to_pretrain)\n",
        "    # Number of features in the last layer of resnet\n",
        "    n_inputs = resnet50.fc.in_features\n",
        "    # Add last linear layer (n_inputs -> 40 hieroglyph classes)\n",
        "    last_layer = nn.Sequential(\n",
        "                    nn.Linear(n_inputs, len(classes)))\n",
        "    resnet50.fc = last_layer\n",
        "    if train_on_gpu:\n",
        "      resnet50.cuda()\n",
        "    # Specify optimizer (Adam) and learning rate = 0.001\n",
        "    if optim_selection == \"Adam\":\n",
        "        optimizer = optim.Adam(resnet50.parameters(), lr=0.001)\n",
        "\n",
        "elif model_selection == \"inception-v3\":\n",
        "    inception_v3 = models.inception_v3(pretrained=whether_to_pretrain)\n",
        "    # Number of features in the last layer of resnet\n",
        "    n_inputs = inception_v3.fc.in_features\n",
        "    # Add last linear layer (n_inputs -> 40 hieroglyph classes)\n",
        "    last_layer = nn.Sequential(\n",
        "                    nn.Linear(n_inputs, len(classes)))\n",
        "    inception_v3.fc = last_layer\n",
        "    if train_on_gpu:\n",
        "      inception_v3.cuda()\n",
        "    # Specify optimizer (Adam) and learning rate = 0.001\n",
        "    if optim_selection == \"Adam\":\n",
        "        optimizer = optim.Adam(inception_v3.parameters(), lr=0.001)\n",
        "\n",
        "elif model_selection == \"xception\":\n",
        "    xception = timm.create_model('xception', pretrained=whether_to_pretrain)\n",
        "    # Number of features in the last layer of resnet\n",
        "    n_inputs = xception.fc.in_features\n",
        "    # Add last linear layer (n_inputs -> 40 hieroglyph classes)\n",
        "    last_layer = nn.Sequential(\n",
        "                    nn.Linear(n_inputs, len(classes)))\n",
        "    xception.fc = last_layer\n",
        "    if train_on_gpu:\n",
        "      xception.cuda()\n",
        "    # Specify optimizer (Adam) and learning rate = 0.001\n",
        "    if optim_selection == \"Adam\":\n",
        "        optimizer = optim.Adam(xception.parameters(), lr=0.001)\n",
        "\n",
        "# Specify loss function (categorical cross-entropy)\n",
        "if loss_function == \"cross-entropy\":\n",
        "    criterion = nn.CrossEntropyLoss()\n",
        "\n",
        "# Exponential Decay to strengthen learning\n",
        "decayRate = 0.999\n",
        "my_lr_scheduler = torch.optim.lr_scheduler.ExponentialLR(optimizer=optimizer, gamma=decayRate)"
      ],
      "execution_count": 13,
      "outputs": []
    },
    {
      "cell_type": "markdown",
      "metadata": {
        "id": "U2vnErB1yHmM"
      },
      "source": [
        "Training the model"
      ]
    },
    {
      "cell_type": "code",
      "metadata": {
        "colab": {
          "base_uri": "https://localhost:8080/"
        },
        "id": "dOB03noWyEvQ",
        "outputId": "1d40f45b-d62b-4b66-8201-f07db1cd5090"
      },
      "source": [
        "# number of epochs to train the model\n",
        "n_epochs = 50\n",
        "\n",
        "if model_selection == \"resnet-50\":\n",
        "  # The train_model function is from model_training python file\n",
        "  resnet50, train_losses = train_model(train_loader, optimizer, resnet50, criterion, my_lr_scheduler, n_epochs)\n",
        "elif model_selection == \"inception-v3\":\n",
        "  # The train_model function is from model_training python file\n",
        "  inception_v3, train_losses = train_model(train_loader, optimizer, inception_v3, criterion, my_lr_scheduler, n_epochs)\n",
        "elif model_selection == \"xception\":\n",
        "  # The train_model function is from model_training python file\n",
        "  xception, train_losses = train_model(train_loader, optimizer, xception, criterion, my_lr_scheduler, n_epochs)"
      ],
      "execution_count": 14,
      "outputs": [
        {
          "output_type": "stream",
          "name": "stdout",
          "text": [
            "Epoch 1, Batch 20 loss: 3.3699395298957824\n",
            "Epoch 1, Batch 40 loss: 2.4153997480869291\n",
            "Epoch 1, Batch 60 loss: 2.3052905380725859\n",
            "Epoch 1, Batch 80 loss: 1.9366100192070008\n",
            "Epoch 1, Batch 100 loss: 1.9259658157825470\n",
            "Epoch 1, Batch 120 loss: 1.7214813530445099\n",
            "Epoch 2, Batch 20 loss: 1.5121270179748536\n",
            "Epoch 2, Batch 40 loss: 1.3191479116678237\n",
            "Epoch 2, Batch 60 loss: 1.4275958359241485\n",
            "Epoch 2, Batch 80 loss: 1.3188104629516602\n",
            "Epoch 2, Batch 100 loss: 1.0512556970119475\n",
            "Epoch 2, Batch 120 loss: 1.0854221433401108\n",
            "Epoch 3, Batch 20 loss: 0.9336461782455444\n",
            "Epoch 3, Batch 40 loss: 1.0004982084035874\n",
            "Epoch 3, Batch 60 loss: 0.9925806045532226\n",
            "Epoch 3, Batch 80 loss: 0.8341348022222519\n",
            "Epoch 3, Batch 100 loss: 0.7223461627960205\n",
            "Epoch 3, Batch 120 loss: 0.8181039482355118\n",
            "Epoch 4, Batch 20 loss: 0.8342987820506096\n",
            "Epoch 4, Batch 40 loss: 0.7146990135312080\n",
            "Epoch 4, Batch 60 loss: 0.8040168836712838\n",
            "Epoch 4, Batch 80 loss: 0.7113302394747734\n",
            "Epoch 4, Batch 100 loss: 0.6920501440763474\n",
            "Epoch 4, Batch 120 loss: 0.5737214535474777\n",
            "Epoch 5, Batch 20 loss: 0.6174380153417587\n",
            "Epoch 5, Batch 40 loss: 0.6665904700756073\n",
            "Epoch 5, Batch 60 loss: 0.6676625080406666\n",
            "Epoch 5, Batch 80 loss: 0.6002912223339081\n",
            "Epoch 5, Batch 100 loss: 0.5102066025137901\n",
            "Epoch 5, Batch 120 loss: 0.3878363862633705\n",
            "Epoch 6, Batch 20 loss: 0.4935865461826324\n",
            "Epoch 6, Batch 40 loss: 0.5420780353248119\n",
            "Epoch 6, Batch 60 loss: 0.5097196895629168\n",
            "Epoch 6, Batch 80 loss: 0.3927054800093174\n",
            "Epoch 6, Batch 100 loss: 0.4760588839650154\n",
            "Epoch 6, Batch 120 loss: 0.4845089450478554\n",
            "Epoch 7, Batch 20 loss: 0.3230979830026627\n",
            "Epoch 7, Batch 40 loss: 0.4280936099588871\n",
            "Epoch 7, Batch 60 loss: 0.3944482609629631\n",
            "Epoch 7, Batch 80 loss: 0.3618040751665831\n",
            "Epoch 7, Batch 100 loss: 0.4162551064044237\n",
            "Epoch 7, Batch 120 loss: 0.4201482623815537\n",
            "Epoch 8, Batch 20 loss: 0.2575529515743256\n",
            "Epoch 8, Batch 40 loss: 0.3357740942388773\n",
            "Epoch 8, Batch 60 loss: 0.3239552810788154\n",
            "Epoch 8, Batch 80 loss: 0.3071451719850302\n",
            "Epoch 8, Batch 100 loss: 0.2251669652760029\n",
            "Epoch 8, Batch 120 loss: 0.3064136281609535\n",
            "Epoch 9, Batch 20 loss: 0.3107316695153713\n",
            "Epoch 9, Batch 40 loss: 0.2318878343328833\n",
            "Epoch 9, Batch 60 loss: 0.2733832251280546\n",
            "Epoch 9, Batch 80 loss: 0.2382516317069530\n",
            "Epoch 9, Batch 100 loss: 0.2599374687299132\n",
            "Epoch 9, Batch 120 loss: 0.2391224359162152\n",
            "Epoch 10, Batch 20 loss: 0.1798739990219474\n",
            "Epoch 10, Batch 40 loss: 0.2483586199581623\n",
            "Epoch 10, Batch 60 loss: 0.2757353479042649\n",
            "Epoch 10, Batch 80 loss: 0.2491832859814167\n",
            "Epoch 10, Batch 100 loss: 0.2414880007505417\n",
            "Epoch 10, Batch 120 loss: 0.2415496911853552\n",
            "Epoch 11, Batch 20 loss: 0.2019593402743340\n",
            "Epoch 11, Batch 40 loss: 0.2146637372672558\n",
            "Epoch 11, Batch 60 loss: 0.2165789829567075\n",
            "Epoch 11, Batch 80 loss: 0.2033684765920043\n",
            "Epoch 11, Batch 100 loss: 0.2324171386659145\n",
            "Epoch 11, Batch 120 loss: 0.1831151099875569\n",
            "Epoch 12, Batch 20 loss: 0.1998533427715302\n",
            "Epoch 12, Batch 40 loss: 0.1939216319471598\n",
            "Epoch 12, Batch 60 loss: 0.1873881574720144\n",
            "Epoch 12, Batch 80 loss: 0.1727631304413080\n",
            "Epoch 12, Batch 100 loss: 0.2378091177903116\n",
            "Epoch 12, Batch 120 loss: 0.1738871132023632\n",
            "Epoch 13, Batch 20 loss: 0.1596520197577775\n",
            "Epoch 13, Batch 40 loss: 0.2472744941711426\n",
            "Epoch 13, Batch 60 loss: 0.1226152351126075\n",
            "Epoch 13, Batch 80 loss: 0.1574621780775488\n",
            "Epoch 13, Batch 100 loss: 0.1604456736706197\n",
            "Epoch 13, Batch 120 loss: 0.1123454339802265\n",
            "Epoch 14, Batch 20 loss: 0.1619370992295444\n",
            "Epoch 14, Batch 40 loss: 0.1423531491309404\n",
            "Epoch 14, Batch 60 loss: 0.1112156345043331\n",
            "Epoch 14, Batch 80 loss: 0.1174103467725217\n",
            "Epoch 14, Batch 100 loss: 0.1105130971409380\n",
            "Epoch 14, Batch 120 loss: 0.1309499251190573\n",
            "Epoch 15, Batch 20 loss: 0.1500518631190061\n",
            "Epoch 15, Batch 40 loss: 0.1617834854871035\n",
            "Epoch 15, Batch 60 loss: 0.1636476533487439\n",
            "Epoch 15, Batch 80 loss: 0.1613866135478020\n",
            "Epoch 15, Batch 100 loss: 0.1631906412541866\n",
            "Epoch 15, Batch 120 loss: 0.1154701616615057\n",
            "Epoch 16, Batch 20 loss: 0.0816026823129505\n",
            "Epoch 16, Batch 40 loss: 0.0867283740546554\n",
            "Epoch 16, Batch 60 loss: 0.1650172427296638\n",
            "Epoch 16, Batch 80 loss: 0.1246065074345097\n",
            "Epoch 16, Batch 100 loss: 0.1709509972482920\n",
            "Epoch 16, Batch 120 loss: 0.1654967509210110\n",
            "Epoch 17, Batch 20 loss: 0.0986617273651063\n",
            "Epoch 17, Batch 40 loss: 0.1066162411356345\n",
            "Epoch 17, Batch 60 loss: 0.1004337052349001\n",
            "Epoch 17, Batch 80 loss: 0.1161047652130947\n",
            "Epoch 17, Batch 100 loss: 0.1339898142963648\n",
            "Epoch 17, Batch 120 loss: 0.1467600595438853\n",
            "Epoch 18, Batch 20 loss: 0.0854313927702606\n",
            "Epoch 18, Batch 40 loss: 0.0835974162444472\n",
            "Epoch 18, Batch 60 loss: 0.1002006811089814\n",
            "Epoch 18, Batch 80 loss: 0.1551107979379594\n",
            "Epoch 18, Batch 100 loss: 0.1049846620764583\n",
            "Epoch 18, Batch 120 loss: 0.1348528909031302\n",
            "Epoch 19, Batch 20 loss: 0.1022210841765627\n",
            "Epoch 19, Batch 40 loss: 0.0886548057198524\n",
            "Epoch 19, Batch 60 loss: 0.1263007010333240\n",
            "Epoch 19, Batch 80 loss: 0.1332965818233788\n",
            "Epoch 19, Batch 100 loss: 0.1030142588075250\n",
            "Epoch 19, Batch 120 loss: 0.1073471300769597\n",
            "Epoch 20, Batch 20 loss: 0.0837528839474544\n",
            "Epoch 20, Batch 40 loss: 0.0567011471837759\n",
            "Epoch 20, Batch 60 loss: 0.0638925678562373\n",
            "Epoch 20, Batch 80 loss: 0.0777102137450129\n",
            "Epoch 20, Batch 100 loss: 0.0931565639097243\n",
            "Epoch 20, Batch 120 loss: 0.1174801263958216\n",
            "Epoch 21, Batch 20 loss: 0.1089985212776810\n",
            "Epoch 21, Batch 40 loss: 0.0539251031354070\n",
            "Epoch 21, Batch 60 loss: 0.0805680258548818\n",
            "Epoch 21, Batch 80 loss: 0.0506938395090401\n",
            "Epoch 21, Batch 100 loss: 0.0703657864592969\n",
            "Epoch 21, Batch 120 loss: 0.1195891943294555\n",
            "Epoch 22, Batch 20 loss: 0.0819038749206811\n",
            "Epoch 22, Batch 40 loss: 0.0601372762816027\n",
            "Epoch 22, Batch 60 loss: 0.0641650463454425\n",
            "Epoch 22, Batch 80 loss: 0.0848900651559234\n",
            "Epoch 22, Batch 100 loss: 0.0727660186588764\n",
            "Epoch 22, Batch 120 loss: 0.0701577800558880\n",
            "Epoch 23, Batch 20 loss: 0.0798995731864125\n",
            "Epoch 23, Batch 40 loss: 0.0819587549660355\n",
            "Epoch 23, Batch 60 loss: 0.0498110823333263\n",
            "Epoch 23, Batch 80 loss: 0.0678637663368136\n",
            "Epoch 23, Batch 100 loss: 0.0833517993800342\n",
            "Epoch 23, Batch 120 loss: 0.0691816957434639\n",
            "Epoch 24, Batch 20 loss: 0.0486933513660915\n",
            "Epoch 24, Batch 40 loss: 0.0390338819706813\n",
            "Epoch 24, Batch 60 loss: 0.0776809728238732\n",
            "Epoch 24, Batch 80 loss: 0.0608703776379116\n",
            "Epoch 24, Batch 100 loss: 0.0772363391006365\n",
            "Epoch 24, Batch 120 loss: 0.1304896413697861\n",
            "Epoch 25, Batch 20 loss: 0.0778310221619904\n",
            "Epoch 25, Batch 40 loss: 0.0434147470397875\n",
            "Epoch 25, Batch 60 loss: 0.0465311093721539\n",
            "Epoch 25, Batch 80 loss: 0.0488183490931988\n",
            "Epoch 25, Batch 100 loss: 0.0698641967494041\n",
            "Epoch 25, Batch 120 loss: 0.0752335230819881\n",
            "Epoch 26, Batch 20 loss: 0.0517259311978705\n",
            "Epoch 26, Batch 40 loss: 0.0577846028725617\n",
            "Epoch 26, Batch 60 loss: 0.0579671669052914\n",
            "Epoch 26, Batch 80 loss: 0.0346293406095356\n",
            "Epoch 26, Batch 100 loss: 0.0597520712180994\n",
            "Epoch 26, Batch 120 loss: 0.0586709116119891\n",
            "Epoch 27, Batch 20 loss: 0.0348987579345703\n",
            "Epoch 27, Batch 40 loss: 0.0592902032542042\n",
            "Epoch 27, Batch 60 loss: 0.0685654937173240\n",
            "Epoch 27, Batch 80 loss: 0.0805699232965708\n",
            "Epoch 27, Batch 100 loss: 0.0388148233992979\n",
            "Epoch 27, Batch 120 loss: 0.0250587152549997\n",
            "Epoch 28, Batch 20 loss: 0.0498902067774907\n",
            "Epoch 28, Batch 40 loss: 0.0869566634180956\n",
            "Epoch 28, Batch 60 loss: 0.0561342804692686\n",
            "Epoch 28, Batch 80 loss: 0.0793904954567552\n",
            "Epoch 28, Batch 100 loss: 0.0512932808720507\n",
            "Epoch 28, Batch 120 loss: 0.0451861320296302\n",
            "Epoch 29, Batch 20 loss: 0.0252264334936626\n",
            "Epoch 29, Batch 40 loss: 0.0396601118380204\n",
            "Epoch 29, Batch 60 loss: 0.0580710331792943\n",
            "Epoch 29, Batch 80 loss: 0.0677076088381000\n",
            "Epoch 29, Batch 100 loss: 0.0520185156492516\n",
            "Epoch 29, Batch 120 loss: 0.0481593705597334\n",
            "Epoch 30, Batch 20 loss: 0.0660548321902752\n",
            "Epoch 30, Batch 40 loss: 0.0600658323150128\n",
            "Epoch 30, Batch 60 loss: 0.0646797292167321\n",
            "Epoch 30, Batch 80 loss: 0.0341501583112404\n",
            "Epoch 30, Batch 100 loss: 0.0569786893320270\n",
            "Epoch 30, Batch 120 loss: 0.0455232885549776\n",
            "Epoch 31, Batch 20 loss: 0.0213718080311082\n",
            "Epoch 31, Batch 40 loss: 0.0542102563777007\n",
            "Epoch 31, Batch 60 loss: 0.0403536081896163\n",
            "Epoch 31, Batch 80 loss: 0.0596482930472121\n",
            "Epoch 31, Batch 100 loss: 0.0359910269500688\n",
            "Epoch 31, Batch 120 loss: 0.0510846624849364\n",
            "Epoch 32, Batch 20 loss: 0.0347486459999345\n",
            "Epoch 32, Batch 40 loss: 0.0619715234264731\n",
            "Epoch 32, Batch 60 loss: 0.0413245478644967\n",
            "Epoch 32, Batch 80 loss: 0.0342840316472575\n",
            "Epoch 32, Batch 100 loss: 0.0344903512625024\n",
            "Epoch 32, Batch 120 loss: 0.0288377161545213\n",
            "Epoch 33, Batch 20 loss: 0.0457698615617119\n",
            "Epoch 33, Batch 40 loss: 0.0485235096653923\n",
            "Epoch 33, Batch 60 loss: 0.0634384603472427\n",
            "Epoch 33, Batch 80 loss: 0.0712826482136734\n",
            "Epoch 33, Batch 100 loss: 0.0544492125744000\n",
            "Epoch 33, Batch 120 loss: 0.0386230380041525\n",
            "Epoch 34, Batch 20 loss: 0.0560825806809589\n",
            "Epoch 34, Batch 40 loss: 0.0420869098859839\n",
            "Epoch 34, Batch 60 loss: 0.0487611474003643\n",
            "Epoch 34, Batch 80 loss: 0.0372837680624798\n",
            "Epoch 34, Batch 100 loss: 0.0285879197181202\n",
            "Epoch 34, Batch 120 loss: 0.0536086494626943\n",
            "Epoch 35, Batch 20 loss: 0.0860361086670309\n",
            "Epoch 35, Batch 40 loss: 0.0249528411077335\n",
            "Epoch 35, Batch 60 loss: 0.0328213718894403\n",
            "Epoch 35, Batch 80 loss: 0.0565833167172968\n",
            "Epoch 35, Batch 100 loss: 0.0614267708850093\n",
            "Epoch 35, Batch 120 loss: 0.0625122974277474\n",
            "Epoch 36, Batch 20 loss: 0.0209599989582784\n",
            "Epoch 36, Batch 40 loss: 0.0263011699309573\n",
            "Epoch 36, Batch 60 loss: 0.0435743266949430\n",
            "Epoch 36, Batch 80 loss: 0.0793639967218041\n",
            "Epoch 36, Batch 100 loss: 0.0317840560339391\n",
            "Epoch 36, Batch 120 loss: 0.0477687428006902\n",
            "Epoch 37, Batch 20 loss: 0.0391148329246789\n",
            "Epoch 37, Batch 40 loss: 0.0340221220103558\n",
            "Epoch 37, Batch 60 loss: 0.0366402095532976\n",
            "Epoch 37, Batch 80 loss: 0.0467242846265435\n",
            "Epoch 37, Batch 100 loss: 0.0374453097232617\n",
            "Epoch 37, Batch 120 loss: 0.0475770490244031\n",
            "Epoch 38, Batch 20 loss: 0.0459691407624632\n",
            "Epoch 38, Batch 40 loss: 0.0311271672719158\n",
            "Epoch 38, Batch 60 loss: 0.0568940380180720\n",
            "Epoch 38, Batch 80 loss: 0.0265492651378736\n",
            "Epoch 38, Batch 100 loss: 0.0507094948377926\n",
            "Epoch 38, Batch 120 loss: 0.0380080276285298\n",
            "Epoch 39, Batch 20 loss: 0.0315032272133976\n",
            "Epoch 39, Batch 40 loss: 0.0320130082312971\n",
            "Epoch 39, Batch 60 loss: 0.0402013978105970\n",
            "Epoch 39, Batch 80 loss: 0.0882231927476823\n",
            "Epoch 39, Batch 100 loss: 0.0722411764087156\n",
            "Epoch 39, Batch 120 loss: 0.0217346558580175\n",
            "Epoch 40, Batch 20 loss: 0.0406085712602362\n",
            "Epoch 40, Batch 40 loss: 0.0438481393503025\n",
            "Epoch 40, Batch 60 loss: 0.0385863051691558\n",
            "Epoch 40, Batch 80 loss: 0.0303122784011066\n",
            "Epoch 40, Batch 100 loss: 0.0384699878515676\n",
            "Epoch 40, Batch 120 loss: 0.0558936820598319\n",
            "Epoch 41, Batch 20 loss: 0.0277675304561853\n",
            "Epoch 41, Batch 40 loss: 0.0455938438186422\n",
            "Epoch 41, Batch 60 loss: 0.0170270552625880\n",
            "Epoch 41, Batch 80 loss: 0.0425056361127645\n",
            "Epoch 41, Batch 100 loss: 0.0360830501071177\n",
            "Epoch 41, Batch 120 loss: 0.0443159835296683\n",
            "Epoch 42, Batch 20 loss: 0.0416929896280635\n",
            "Epoch 42, Batch 40 loss: 0.0323931354563683\n",
            "Epoch 42, Batch 60 loss: 0.0308957365807146\n",
            "Epoch 42, Batch 80 loss: 0.0400590731296688\n",
            "Epoch 42, Batch 100 loss: 0.0346982184215449\n",
            "Epoch 42, Batch 120 loss: 0.0231141963449772\n",
            "Epoch 43, Batch 20 loss: 0.0597069687966723\n",
            "Epoch 43, Batch 40 loss: 0.0403945095313247\n",
            "Epoch 43, Batch 60 loss: 0.0301068935426883\n",
            "Epoch 43, Batch 80 loss: 0.0384320350072812\n",
            "Epoch 43, Batch 100 loss: 0.0372133927186951\n",
            "Epoch 43, Batch 120 loss: 0.0255499011836946\n",
            "Epoch 44, Batch 20 loss: 0.0231385723920539\n",
            "Epoch 44, Batch 40 loss: 0.0292958931648172\n",
            "Epoch 44, Batch 60 loss: 0.0575577786425129\n",
            "Epoch 44, Batch 80 loss: 0.0352635627030395\n",
            "Epoch 44, Batch 100 loss: 0.0513587374822237\n",
            "Epoch 44, Batch 120 loss: 0.0495309493737295\n",
            "Epoch 45, Batch 20 loss: 0.0375540934968740\n",
            "Epoch 45, Batch 40 loss: 0.0381527373450808\n",
            "Epoch 45, Batch 60 loss: 0.0503290580236353\n",
            "Epoch 45, Batch 80 loss: 0.0272377503686585\n",
            "Epoch 45, Batch 100 loss: 0.0350528825772926\n",
            "Epoch 45, Batch 120 loss: 0.0722906560404226\n",
            "Epoch 46, Batch 20 loss: 0.0374185547349043\n",
            "Epoch 46, Batch 40 loss: 0.0473711294238456\n",
            "Epoch 46, Batch 60 loss: 0.0466999139345717\n",
            "Epoch 46, Batch 80 loss: 0.0476760427933186\n",
            "Epoch 46, Batch 100 loss: 0.0391898122383282\n",
            "Epoch 46, Batch 120 loss: 0.0365220084786415\n",
            "Epoch 47, Batch 20 loss: 0.0534239558968693\n",
            "Epoch 47, Batch 40 loss: 0.0289863261044957\n",
            "Epoch 47, Batch 60 loss: 0.0642056958749890\n",
            "Epoch 47, Batch 80 loss: 0.0280651262961328\n",
            "Epoch 47, Batch 100 loss: 0.0299282104941085\n",
            "Epoch 47, Batch 120 loss: 0.0445673034177162\n",
            "Epoch 48, Batch 20 loss: 0.0235749174025841\n",
            "Epoch 48, Batch 40 loss: 0.0209240719676018\n",
            "Epoch 48, Batch 60 loss: 0.0232521185185760\n",
            "Epoch 48, Batch 80 loss: 0.0464539449429140\n",
            "Epoch 48, Batch 100 loss: 0.0448524264269508\n",
            "Epoch 48, Batch 120 loss: 0.0295663182972930\n",
            "Epoch 49, Batch 20 loss: 0.0450570315937512\n",
            "Epoch 49, Batch 40 loss: 0.0470552117913030\n",
            "Epoch 49, Batch 60 loss: 0.0434548555058427\n",
            "Epoch 49, Batch 80 loss: 0.0302438940503634\n",
            "Epoch 49, Batch 100 loss: 0.0285624941578135\n",
            "Epoch 49, Batch 120 loss: 0.0435579190845601\n",
            "Epoch 50, Batch 20 loss: 0.0458597611752339\n",
            "Epoch 50, Batch 40 loss: 0.0345125039923005\n",
            "Epoch 50, Batch 60 loss: 0.0529063716530800\n",
            "Epoch 50, Batch 80 loss: 0.0359647030360065\n",
            "Epoch 50, Batch 100 loss: 0.0350643972167745\n",
            "Epoch 50, Batch 120 loss: 0.0395921181421727\n"
          ]
        }
      ]
    },
    {
      "cell_type": "code",
      "metadata": {
        "id": "CfA7ZjLR1BZP",
        "colab": {
          "base_uri": "https://localhost:8080/",
          "height": 281
        },
        "outputId": "d8c4905d-94c3-4e74-d5cf-2d13c770cff9"
      },
      "source": [
        "plt.plot(train_losses)\n",
        "plt.title(\"Training Loss\")\n",
        "plt.show()"
      ],
      "execution_count": 15,
      "outputs": [
        {
          "output_type": "display_data",
          "data": {
            "image/png": "[encoded data removed]",
            "text/plain": [
              "<Figure size 432x288 with 1 Axes>"
            ]
          },
          "metadata": {
            "needs_background": "light"
          }
        }
      ]
    },
    {
      "cell_type": "markdown",
      "metadata": {
        "id": "ItLyF9dQyJFL"
      },
      "source": [
        "Testing the model"
      ]
    },
    {
      "cell_type": "code",
      "metadata": {
        "id": "gGki98W3SoEW"
      },
      "source": [
        "from sklearn.metrics import precision_score, recall_score, f1_score, accuracy_score"
      ],
      "execution_count": 16,
      "outputs": []
    },
    {
      "cell_type": "code",
      "metadata": {
        "id": "xNavYOynyE6d",
        "colab": {
          "base_uri": "https://localhost:8080/"
        },
        "outputId": "b31b2c14-0b19-46a4-b4b9-acfe7d791af1"
      },
      "source": [
        "# The test_model function is from model_testing python file\n",
        "test_loss, class_correct, class_total, labels, predictions = test_model(classes, xception, test_loader, criterion)\n",
        "\n",
        "# Test accuracy for each hieroglyph\n",
        "for i in range(len(classes)):\n",
        "    if class_total[i] > 0:\n",
        "        print('Test Accuracy of %5s: %2d%% (%2d/%2d)' % (classes[i], 100 * class_correct[i] / class_total[i], np.sum(class_correct[i]), np.sum(class_total[i])))\n",
        "    else:\n",
        "        print('Test Accuracy of %5s: N/A (no training examples)' % (classes[i]))\n",
        "\n",
        "# Total Test accuracy\n",
        "print(\"\\nAccuracy: {:.3%}\".format(accuracy_score(labels, predictions)))\n",
        "print(\"\\nPrecision: {:.3%}\".format(precision_score(labels, predictions, average = 'weighted')))\n",
        "print(\"\\nRecall: {:.3%}\".format(recall_score(labels, predictions, average = 'weighted')))\n",
        "print(\"\\nF1-score: {:.3%}\".format(f1_score(labels, predictions, average = 'weighted')))"
      ],
      "execution_count": 17,
      "outputs": [
        {
          "output_type": "stream",
          "name": "stdout",
          "text": [
            "Test Loss: 0.152069\n",
            "\n",
            "Test Accuracy of    D2: 100% (14/14)\n",
            "Test Accuracy of   D21: 91% (11/12)\n",
            "Test Accuracy of   D36: 100% (12/12)\n",
            "Test Accuracy of    D4: 100% (12/12)\n",
            "Test Accuracy of   D46: 75% ( 9/12)\n",
            "Test Accuracy of   D58: 100% (24/24)\n",
            "Test Accuracy of   E23: 94% (16/17)\n",
            "Test Accuracy of   E34: 92% (13/14)\n",
            "Test Accuracy of   F31: 100% (17/17)\n",
            "Test Accuracy of   F35: 77% ( 7/ 9)\n",
            "Test Accuracy of    G1: 92% (12/13)\n",
            "Test Accuracy of   G17: 100% (18/18)\n",
            "Test Accuracy of   G43: 100% (18/18)\n",
            "Test Accuracy of   I10: 100% (22/22)\n",
            "Test Accuracy of    I9: 100% (23/23)\n",
            "Test Accuracy of   M17: 100% (12/12)\n",
            "Test Accuracy of   M23: 100% (16/16)\n",
            "Test Accuracy of   N35: 100% ( 9/ 9)\n",
            "Test Accuracy of    O1: 100% (16/16)\n",
            "Test Accuracy of   O34: 86% (13/15)\n",
            "Test Accuracy of    O4: 100% (21/21)\n",
            "Test Accuracy of   O49: 100% (16/16)\n",
            "Test Accuracy of    Q1: 76% (13/17)\n",
            "Test Accuracy of    Q3: 85% (12/14)\n",
            "Test Accuracy of    R4: 100% (11/11)\n",
            "Test Accuracy of    R8: 94% (17/18)\n",
            "Test Accuracy of   S29: 100% (21/21)\n",
            "Test Accuracy of   S34: 100% (18/18)\n",
            "Test Accuracy of    U7: 93% (14/15)\n",
            "Test Accuracy of   V13: 100% (11/11)\n",
            "Test Accuracy of   V28: 92% (13/14)\n",
            "Test Accuracy of   V30:  0% ( 0/11)\n",
            "Test Accuracy of   V31: 100% (20/20)\n",
            "Test Accuracy of   W11: 82% (14/17)\n",
            "Test Accuracy of   W24: 95% (23/24)\n",
            "Test Accuracy of    X1: 90% ( 9/10)\n",
            "Test Accuracy of    X8: 100% (22/22)\n",
            "Test Accuracy of    Y1: 75% (12/16)\n",
            "Test Accuracy of    Y5: 100% (13/13)\n",
            "Test Accuracy of    Z1: 100% (19/19)\n",
            "\n",
            "Accuracy: 93.681%\n",
            "\n",
            "Precision: 92.896%\n",
            "\n",
            "Recall: 93.681%\n",
            "\n",
            "F1-score: 92.964%\n"
          ]
        },
        {
          "output_type": "stream",
          "name": "stderr",
          "text": [
            "/usr/local/lib/python3.7/dist-packages/sklearn/metrics/_classification.py:1308: UndefinedMetricWarning: Precision is ill-defined and being set to 0.0 in labels with no predicted samples. Use `zero_division` parameter to control this behavior.\n",
            "  _warn_prf(average, modifier, msg_start, len(result))\n"
          ]
        }
      ]
    }
  ]
}