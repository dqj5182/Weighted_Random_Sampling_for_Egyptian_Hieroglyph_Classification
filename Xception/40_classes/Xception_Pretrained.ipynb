{
  "nbformat": 4,
  "nbformat_minor": 0,
  "metadata": {
    "colab": {
      "name": "Egyptian_model_with_Xception_Pretrained.ipynb",
      "provenance": []
    },
    "kernelspec": {
      "name": "python3",
      "display_name": "Python 3"
    },
    "language_info": {
      "name": "python"
    },
    "accelerator": "GPU"
  },
  "cells": [
    {
      "cell_type": "code",
      "metadata": {
        "colab": {
          "base_uri": "https://localhost:8080/"
        },
        "id": "Po0ZVacIYsP0",
        "outputId": "741056c2-29dc-4650-d10d-50c366a0a4f4"
      },
      "source": [
        "!pip install timm"
      ],
      "execution_count": 17,
      "outputs": [
        {
          "output_type": "stream",
          "name": "stdout",
          "text": [
            "Requirement already satisfied: timm in /usr/local/lib/python3.7/dist-packages (0.4.12)\n",
            "Requirement already satisfied: torchvision in /usr/local/lib/python3.7/dist-packages (from timm) (0.11.1+cu111)\n",
            "Requirement already satisfied: torch>=1.4 in /usr/local/lib/python3.7/dist-packages (from timm) (1.10.0+cu111)\n",
            "Requirement already satisfied: typing-extensions in /usr/local/lib/python3.7/dist-packages (from torch>=1.4->timm) (3.10.0.2)\n",
            "Requirement already satisfied: pillow!=8.3.0,>=5.3.0 in /usr/local/lib/python3.7/dist-packages (from torchvision->timm) (7.1.2)\n",
            "Requirement already satisfied: numpy in /usr/local/lib/python3.7/dist-packages (from torchvision->timm) (1.19.5)\n"
          ]
        }
      ]
    },
    {
      "cell_type": "code",
      "metadata": {
        "id": "8iEiGSblxJzW"
      },
      "source": [
        "import os, os.path\n",
        "import torch\n",
        "import numpy as np\n",
        "import torch.nn as nn\n",
        "import torch.optim as optim\n",
        "from pathlib import Path\n",
        "from torchvision import datasets, models, transforms\n",
        "import timm\n",
        "\n",
        "# check if CUDA is available\n",
        "train_on_gpu = torch.cuda.is_available()"
      ],
      "execution_count": 18,
      "outputs": []
    },
    {
      "cell_type": "markdown",
      "metadata": {
        "id": "Jd6KU8VMz6J3"
      },
      "source": [
        "Module: Load_data"
      ]
    },
    {
      "cell_type": "code",
      "metadata": {
        "id": "8lWX0BW_w_kC"
      },
      "source": [
        "def load_data(hieroglyph_directory_path, batch_size=20, num_workers=0):\n",
        "    train_dir = os.path.join(hieroglyph_directory_path, 'train/')\n",
        "    test_dir = os.path.join(hieroglyph_directory_path, 'test/')\n",
        "\n",
        "    classes = []\n",
        "\n",
        "    for filename in os.listdir(train_dir):\n",
        "        if filename == '.DS_Store':\n",
        "            pass\n",
        "        else:\n",
        "            classes.append(filename)\n",
        "\n",
        "    classes.sort()\n",
        "\n",
        "    # print(\"Our classes:\", classes)\n",
        "    # print(len(classes))\n",
        "\n",
        "    data_transform = transforms.Compose([transforms.ToTensor(),\n",
        "                                         transforms.RandomApply([transforms.RandomHorizontalFlip()]),\n",
        "                                         transforms.RandomRotation(degrees=(-10, 10)),\n",
        "                                         transforms.RandomAffine(degrees=0, translate=(.1, .1)),\n",
        "                                         transforms.RandomApply([transforms.ColorJitter(brightness=(1, 1.2),\n",
        "                                                                                        contrast=(1, 1.5),\n",
        "                                                                                        saturation=(1, 1.5),\n",
        "                                                                                        hue=(0, 0.5))]),\n",
        "                                         transforms.RandomErasing(p=0.5, scale=(0.05, 0.05), ratio=(0.3, 3.3), value=0,\n",
        "                                                                  inplace=False),\n",
        "                                         transforms.Resize((75, 75)),\n",
        "                                         transforms.Normalize((0.5,), (0.5,))])\n",
        "\n",
        "    train_data = datasets.ImageFolder(train_dir, transform=data_transform)\n",
        "    test_data = datasets.ImageFolder(test_dir, transform=data_transform)\n",
        "\n",
        "    # print('Num training images: ', len(train_data))\n",
        "    # print('Num test images: ', len(test_data))\n",
        "\n",
        "    # prepare data loaders\n",
        "    train_loader = torch.utils.data.DataLoader(train_data, batch_size=batch_size,\n",
        "                                               num_workers=num_workers, shuffle=True)\n",
        "    test_loader = torch.utils.data.DataLoader(test_data, batch_size=batch_size,\n",
        "                                              num_workers=num_workers, shuffle=True)\n",
        "\n",
        "    return train_loader, test_loader, classes"
      ],
      "execution_count": 19,
      "outputs": []
    },
    {
      "cell_type": "markdown",
      "metadata": {
        "id": "K4sXUrPPz7iF"
      },
      "source": [
        "Module: Train_model"
      ]
    },
    {
      "cell_type": "code",
      "metadata": {
        "id": "N2N_rnKLxN5c"
      },
      "source": [
        "def train_model(train_loader, optimizer, conv_net_model, criterion, my_lr_scheduler, n_epochs):\n",
        "    # track training loss over time\n",
        "    losses = []\n",
        "    \n",
        "    for epoch in range(1, n_epochs + 1):\n",
        "\n",
        "        # keep track of training and validation loss\n",
        "        train_loss = 0.0\n",
        "\n",
        "        # model by default is set to train\n",
        "        for batch_i, (data, target) in enumerate(train_loader):\n",
        "            # move tensors to GPU if CUDA is available\n",
        "            if train_on_gpu:\n",
        "                data, target = data.cuda(), target.cuda()\n",
        "            # clear the gradients of all optimized variables\n",
        "            optimizer.zero_grad()\n",
        "            # forward pass: compute predicted outputs by passing inputs to the model\n",
        "            output = conv_net_model(data)\n",
        "            # calculate the batch loss\n",
        "            loss = criterion(output, target)\n",
        "            # backward pass: compute gradient of the loss with respect to model parameters\n",
        "            loss.backward()\n",
        "            # perform a single optimization step (parameter update)\n",
        "            optimizer.step()\n",
        "            # update training loss\n",
        "            train_loss += loss.item()\n",
        "\n",
        "            my_lr_scheduler.step()\n",
        "\n",
        "            if batch_i % 20 == 19:  # print training loss every specified number of mini-batches\n",
        "                print('Epoch %d, Batch %d loss: %.16f' %\n",
        "                    (epoch, batch_i + 1, train_loss / 20))\n",
        "                losses.append(train_loss / 20)\n",
        "                train_loss = 0.0\n",
        "\n",
        "    return conv_net_model, losses"
      ],
      "execution_count": 20,
      "outputs": []
    },
    {
      "cell_type": "markdown",
      "metadata": {
        "id": "-Rrxo5RDz96U"
      },
      "source": [
        "Module: Test_model"
      ]
    },
    {
      "cell_type": "code",
      "metadata": {
        "id": "Ay-HlMJnxU9v"
      },
      "source": [
        "def test_model(classes, conv_net_model, test_loader, criterion):\n",
        "    # track test loss\n",
        "    test_loss = 0.0\n",
        "    class_correct = list(0. for i in range(len(classes)))\n",
        "    class_total = list(0. for i in range(len(classes)))\n",
        "\n",
        "    conv_net_model.eval()  # eval mode\n",
        "\n",
        "    labels = []\n",
        "    predictions = []\n",
        "    # iterate over test data\n",
        "    for data, target in test_loader:\n",
        "        # move tensors to GPU if CUDA is available\n",
        "        if train_on_gpu:\n",
        "            data, target = data.cuda(), target.cuda()\n",
        "        # forward pass: compute predicted outputs by passing inputs to the model\n",
        "        output = conv_net_model(data)\n",
        "\n",
        "        # calculate the batch loss\n",
        "        loss = criterion(output, target)\n",
        "        # update  test loss\n",
        "        test_loss += loss.item() * data.size(0)\n",
        "        # convert output probabilities to predicted class\n",
        "        _, pred = torch.max(output, 1)\n",
        "        # compare predictions to true label\n",
        "        correct_tensor = pred.eq(target.data.view_as(pred))\n",
        "        correct = np.squeeze(correct_tensor.numpy()) if not train_on_gpu else np.squeeze(correct_tensor.cpu().numpy())\n",
        "        # calculate test accuracy for each object class\n",
        "        for i in range(len(target.data)):\n",
        "            label = target.data[i]\n",
        "            class_correct[label] += correct[i].item()\n",
        "            class_total[label] += 1\n",
        "        \n",
        "        # Will be used for calculating Recall, Precision, and F1-score\n",
        "        labels.extend(target.data.view_as(pred).tolist())\n",
        "        predictions.extend(pred.tolist())\n",
        "\n",
        "\n",
        "    # calculate avg test loss\n",
        "    test_loss = test_loss / len(test_loader.dataset)\n",
        "    print('Test Loss: {:.6f}\\n'.format(test_loss))\n",
        "\n",
        "    return test_loss, class_correct, class_total, labels, predictions"
      ],
      "execution_count": 21,
      "outputs": []
    },
    {
      "cell_type": "markdown",
      "metadata": {
        "id": "xHh3PXE80Asa"
      },
      "source": [
        "Check whether CUDA is available (Change runtime type if not)"
      ]
    },
    {
      "cell_type": "code",
      "metadata": {
        "colab": {
          "base_uri": "https://localhost:8080/"
        },
        "id": "Q9TYPQH7x4zw",
        "outputId": "c899625c-58b7-4a25-dd40-0bf8860fe99c"
      },
      "source": [
        "if not train_on_gpu:\n",
        "    print('CUDA is not available.  Training on CPU ...')\n",
        "else:\n",
        "    print('CUDA is available!  Training on GPU ...')"
      ],
      "execution_count": 22,
      "outputs": [
        {
          "output_type": "stream",
          "name": "stdout",
          "text": [
            "CUDA is available!  Training on GPU ...\n"
          ]
        }
      ]
    },
    {
      "cell_type": "markdown",
      "metadata": {
        "id": "6lYw8EKVx8Q7"
      },
      "source": [
        "Load Hieroglyph Data"
      ]
    },
    {
      "cell_type": "code",
      "metadata": {
        "colab": {
          "base_uri": "https://localhost:8080/"
        },
        "id": "laLvoRy1yewl",
        "outputId": "d52f5a33-97eb-43d3-ca78-8892f5438a39"
      },
      "source": [
        "# Connecting and Mounting to the Google Drive\n",
        "from google.colab import drive\n",
        "drive.mount('/content/drive')"
      ],
      "execution_count": 23,
      "outputs": [
        {
          "output_type": "stream",
          "name": "stdout",
          "text": [
            "Drive already mounted at /content/drive; to attempt to forcibly remount, call drive.mount(\"/content/drive\", force_remount=True).\n"
          ]
        }
      ]
    },
    {
      "cell_type": "code",
      "metadata": {
        "id": "odaoZt9GyfUt"
      },
      "source": [
        "data_dir = '/content/drive/MyDrive/EgyptianHieroglyphDataset_Original/'"
      ],
      "execution_count": 24,
      "outputs": []
    },
    {
      "cell_type": "code",
      "metadata": {
        "colab": {
          "base_uri": "https://localhost:8080/"
        },
        "id": "dF22MAnmyiC1",
        "outputId": "4bc4faf4-6460-456f-9cba-0d5307bdda6a"
      },
      "source": [
        "hieroglyph_for_train = []\n",
        "file_count_list = []\n",
        "\n",
        "for name in os.listdir('/content/drive/MyDrive/EgyptianHieroglyphDataset_Original/train/'):\n",
        "  path, dirs, files = next(os.walk(\"/content/drive/MyDrive/EgyptianHieroglyphDataset_Original/train/\"+name))\n",
        "  file_count = len(files)\n",
        "  print(name, file_count)\n",
        "  file_count_list.append(file_count)\n",
        "  hieroglyph_for_train.append(name)\n",
        "\n",
        "hieroglyph_dict = dict(zip(hieroglyph_for_train, file_count_list))"
      ],
      "execution_count": 25,
      "outputs": [
        {
          "output_type": "stream",
          "name": "stdout",
          "text": [
            "D4 29\n",
            "D2 19\n",
            "D46 40\n",
            "D36 47\n",
            "D21 146\n",
            "D58 28\n",
            "E34 97\n",
            "E23 8\n",
            "F31 6\n",
            "G1 28\n",
            "F35 2\n",
            "G17 156\n",
            "G43 157\n",
            "I10 32\n",
            "I9 116\n",
            "M23 30\n",
            "M17 291\n",
            "O1 16\n",
            "O34 15\n",
            "N35 358\n",
            "Q3 61\n",
            "O49 10\n",
            "Q1 13\n",
            "O4 11\n",
            "S34 8\n",
            "R4 2\n",
            "R8 53\n",
            "S29 212\n",
            "V13 63\n",
            "V28 28\n",
            "U7 3\n",
            "V30 6\n",
            "W11 4\n",
            "W24 31\n",
            "V31 106\n",
            "Y5 6\n",
            "X8 4\n",
            "Z1 39\n",
            "X1 185\n",
            "Y1 1\n"
          ]
        }
      ]
    },
    {
      "cell_type": "markdown",
      "metadata": {
        "id": "XeQQ7PjZzKd9"
      },
      "source": [
        "Number of images for each hieroglyph "
      ]
    },
    {
      "cell_type": "code",
      "metadata": {
        "colab": {
          "base_uri": "https://localhost:8080/",
          "height": 609
        },
        "id": "W6IzWR2RyjxM",
        "outputId": "3d459cc1-b9a7-4fbf-dd89-c774230b1361"
      },
      "source": [
        "import matplotlib.pyplot as plt\n",
        "import pandas as pd\n",
        "\n",
        "df = pd.DataFrame({\"Hieroglyph\":hieroglyph_for_train, \"Count\":file_count_list})\n",
        "\n",
        "df_sorted= df.sort_values('Count',ascending=False)\n",
        "\n",
        "plt.figure(figsize=(20,10))\n",
        "# make bar plot with matplotlib\n",
        "plt.bar('Hieroglyph', 'Count',data=df_sorted)"
      ],
      "execution_count": 26,
      "outputs": [
        {
          "output_type": "execute_result",
          "data": {
            "text/plain": [
              "<BarContainer object of 40 artists>"
            ]
          },
          "metadata": {},
          "execution_count": 26
        },
        {
          "output_type": "display_data",
          "data": {
            "image/png": "[encoded data removed]",
            "text/plain": [
              "<Figure size 1440x720 with 1 Axes>"
            ]
          },
          "metadata": {
            "needs_background": "light"
          }
        }
      ]
    },
    {
      "cell_type": "code",
      "metadata": {
        "id": "-3oOm8rSx7tp"
      },
      "source": [
        "# Number of images processed in a single training\n",
        "batch_size = 20\n",
        "num_workers = 0\n",
        "\n",
        "# The load_data function is from hieroglyph_data_preparation python file\n",
        "train_loader, test_loader, classes = load_data(data_dir)"
      ],
      "execution_count": 27,
      "outputs": []
    },
    {
      "cell_type": "markdown",
      "metadata": {
        "id": "BJm8sGiBx_q5"
      },
      "source": [
        "ResNet Model"
      ]
    },
    {
      "cell_type": "code",
      "metadata": {
        "id": "JkLXVJGkxemC",
        "colab": {
          "base_uri": "https://localhost:8080/"
        },
        "outputId": "c06c12d7-2ae5-403b-8989-e178a70c5219"
      },
      "source": [
        "# Whether to extract features with the model\n",
        "feature_extract = False\n",
        "# Other selections\n",
        "loss_function = \"cross-entropy\"\n",
        "model_selection = \"xception\"\n",
        "optim_selection = \"Adam\"\n",
        "\n",
        "# False if you want scratch model, True if you want pretrained model\n",
        "whether_to_pretrain = True\n",
        "\n",
        "# Load the model\n",
        "if model_selection == \"resnet-50\":\n",
        "    resnet50 = models.resnet50(pretrained=whether_to_pretrain)\n",
        "    # Number of features in the last layer of resnet\n",
        "    n_inputs = resnet50.fc.in_features\n",
        "    # Add last linear layer (n_inputs -> 40 hieroglyph classes)\n",
        "    last_layer = nn.Sequential(\n",
        "                    nn.Linear(n_inputs, len(classes)))\n",
        "    resnet50.fc = last_layer\n",
        "    if train_on_gpu:\n",
        "      resnet50.cuda()\n",
        "    # Specify optimizer (Adam) and learning rate = 0.001\n",
        "    if optim_selection == \"Adam\":\n",
        "        optimizer = optim.Adam(resnet50.parameters(), lr=0.001)\n",
        "\n",
        "elif model_selection == \"inception-v3\":\n",
        "    inception_v3 = models.inception_v3(pretrained=whether_to_pretrain)\n",
        "    # Number of features in the last layer of resnet\n",
        "    n_inputs = inception_v3.fc.in_features\n",
        "    # Add last linear layer (n_inputs -> 40 hieroglyph classes)\n",
        "    last_layer = nn.Sequential(\n",
        "                    nn.Linear(n_inputs, len(classes)))\n",
        "    inception_v3.fc = last_layer\n",
        "    if train_on_gpu:\n",
        "      inception_v3.cuda()\n",
        "    # Specify optimizer (Adam) and learning rate = 0.001\n",
        "    if optim_selection == \"Adam\":\n",
        "        optimizer = optim.Adam(inception_v3.parameters(), lr=0.001)\n",
        "\n",
        "elif model_selection == \"xception\":\n",
        "    xception = timm.create_model('xception', pretrained=whether_to_pretrain)\n",
        "    # Number of features in the last layer of resnet\n",
        "    n_inputs = xception.fc.in_features\n",
        "    # Add last linear layer (n_inputs -> 40 hieroglyph classes)\n",
        "    last_layer = nn.Sequential(\n",
        "                    nn.Linear(n_inputs, len(classes)))\n",
        "    xception.fc = last_layer\n",
        "    if train_on_gpu:\n",
        "      xception.cuda()\n",
        "    # Specify optimizer (Adam) and learning rate = 0.001\n",
        "    if optim_selection == \"Adam\":\n",
        "        optimizer = optim.Adam(xception.parameters(), lr=0.001)\n",
        "\n",
        "# Specify loss function (categorical cross-entropy)\n",
        "if loss_function == \"cross-entropy\":\n",
        "    criterion = nn.CrossEntropyLoss()\n",
        "\n",
        "# Exponential Decay to strengthen learning\n",
        "decayRate = 0.999\n",
        "my_lr_scheduler = torch.optim.lr_scheduler.ExponentialLR(optimizer=optimizer, gamma=decayRate)"
      ],
      "execution_count": 28,
      "outputs": [
        {
          "output_type": "stream",
          "name": "stderr",
          "text": [
            "Downloading: \"https://github.com/rwightman/pytorch-image-models/releases/download/v0.1-cadene/xception-43020ad28.pth\" to /root/.cache/torch/hub/checkpoints/xception-43020ad28.pth\n"
          ]
        }
      ]
    },
    {
      "cell_type": "markdown",
      "metadata": {
        "id": "U2vnErB1yHmM"
      },
      "source": [
        "Training the model"
      ]
    },
    {
      "cell_type": "code",
      "metadata": {
        "colab": {
          "base_uri": "https://localhost:8080/"
        },
        "id": "dOB03noWyEvQ",
        "outputId": "84bcaa81-a101-4671-80fb-ac07418d2731"
      },
      "source": [
        "# number of epochs to train the model\n",
        "n_epochs = 50\n",
        "\n",
        "if model_selection == \"resnet-50\":\n",
        "  # The train_model function is from model_training python file\n",
        "  resnet50, train_losses = train_model(train_loader, optimizer, resnet50, criterion, my_lr_scheduler, n_epochs)\n",
        "elif model_selection == \"inception-v3\":\n",
        "  # The train_model function is from model_training python file\n",
        "  inception_v3, train_losses = train_model(train_loader, optimizer, inception_v3, criterion, my_lr_scheduler, n_epochs)\n",
        "elif model_selection == \"xception\":\n",
        "  # The train_model function is from model_training python file\n",
        "  xception, train_losses = train_model(train_loader, optimizer, xception, criterion, my_lr_scheduler, n_epochs)"
      ],
      "execution_count": 29,
      "outputs": [
        {
          "output_type": "stream",
          "name": "stdout",
          "text": [
            "Epoch 1, Batch 20 loss: 2.9801099479198454\n",
            "Epoch 1, Batch 40 loss: 2.1131659328937529\n",
            "Epoch 1, Batch 60 loss: 1.6664759576320649\n",
            "Epoch 1, Batch 80 loss: 1.4834161400794983\n",
            "Epoch 1, Batch 100 loss: 0.9871331751346588\n",
            "Epoch 1, Batch 120 loss: 0.9612022951245308\n",
            "Epoch 2, Batch 20 loss: 0.8857695236802101\n",
            "Epoch 2, Batch 40 loss: 0.7378532394766808\n",
            "Epoch 2, Batch 60 loss: 0.5815480478107929\n",
            "Epoch 2, Batch 80 loss: 0.7346460595726967\n",
            "Epoch 2, Batch 100 loss: 0.6137152463197708\n",
            "Epoch 2, Batch 120 loss: 0.5612181637436151\n",
            "Epoch 3, Batch 20 loss: 0.4852159596979618\n",
            "Epoch 3, Batch 40 loss: 0.3681561082601547\n",
            "Epoch 3, Batch 60 loss: 0.4217991519719362\n",
            "Epoch 3, Batch 80 loss: 0.4167604971677065\n",
            "Epoch 3, Batch 100 loss: 0.3842675201594830\n",
            "Epoch 3, Batch 120 loss: 0.2791948817670346\n",
            "Epoch 4, Batch 20 loss: 0.2749099222943187\n",
            "Epoch 4, Batch 40 loss: 0.2942583095282316\n",
            "Epoch 4, Batch 60 loss: 0.3141938526183367\n",
            "Epoch 4, Batch 80 loss: 0.3203189015388489\n",
            "Epoch 4, Batch 100 loss: 0.2797822980210185\n",
            "Epoch 4, Batch 120 loss: 0.2034002075903118\n",
            "Epoch 5, Batch 20 loss: 0.2455757457762957\n",
            "Epoch 5, Batch 40 loss: 0.1982492640614510\n",
            "Epoch 5, Batch 60 loss: 0.2007428403943777\n",
            "Epoch 5, Batch 80 loss: 0.2146510375663638\n",
            "Epoch 5, Batch 100 loss: 0.1523514463566244\n",
            "Epoch 5, Batch 120 loss: 0.1745225901715458\n",
            "Epoch 6, Batch 20 loss: 0.2198911752086133\n",
            "Epoch 6, Batch 40 loss: 0.2095189580693841\n",
            "Epoch 6, Batch 60 loss: 0.1046460993587971\n",
            "Epoch 6, Batch 80 loss: 0.0986693887040019\n",
            "Epoch 6, Batch 100 loss: 0.1447574949357659\n",
            "Epoch 6, Batch 120 loss: 0.2049969188403338\n",
            "Epoch 7, Batch 20 loss: 0.0693625071318820\n",
            "Epoch 7, Batch 40 loss: 0.0939487639581785\n",
            "Epoch 7, Batch 60 loss: 0.1372521557845175\n",
            "Epoch 7, Batch 80 loss: 0.1200970426667482\n",
            "Epoch 7, Batch 100 loss: 0.1344737242907286\n",
            "Epoch 7, Batch 120 loss: 0.1244341127108783\n",
            "Epoch 8, Batch 20 loss: 0.0684777333401144\n",
            "Epoch 8, Batch 40 loss: 0.1394997963681817\n",
            "Epoch 8, Batch 60 loss: 0.1154872136190534\n",
            "Epoch 8, Batch 80 loss: 0.0554844760801643\n",
            "Epoch 8, Batch 100 loss: 0.0781348800053820\n",
            "Epoch 8, Batch 120 loss: 0.1403001387137920\n",
            "Epoch 9, Batch 20 loss: 0.0855656391242519\n",
            "Epoch 9, Batch 40 loss: 0.0866465708706528\n",
            "Epoch 9, Batch 60 loss: 0.0910317034926265\n",
            "Epoch 9, Batch 80 loss: 0.0622786540072411\n",
            "Epoch 9, Batch 100 loss: 0.0799886407912709\n",
            "Epoch 9, Batch 120 loss: 0.0786113966139965\n",
            "Epoch 10, Batch 20 loss: 0.0765904558124021\n",
            "Epoch 10, Batch 40 loss: 0.0484630090184510\n",
            "Epoch 10, Batch 60 loss: 0.0587845040252432\n",
            "Epoch 10, Batch 80 loss: 0.0704682347830385\n",
            "Epoch 10, Batch 100 loss: 0.0569890405633487\n",
            "Epoch 10, Batch 120 loss: 0.0741285489755683\n",
            "Epoch 11, Batch 20 loss: 0.0862115131691098\n",
            "Epoch 11, Batch 40 loss: 0.0766637225169688\n",
            "Epoch 11, Batch 60 loss: 0.0521077806130052\n",
            "Epoch 11, Batch 80 loss: 0.0426127295009792\n",
            "Epoch 11, Batch 100 loss: 0.0753905039629899\n",
            "Epoch 11, Batch 120 loss: 0.0574888186529279\n",
            "Epoch 12, Batch 20 loss: 0.0564927522325888\n",
            "Epoch 12, Batch 40 loss: 0.0337907661218196\n",
            "Epoch 12, Batch 60 loss: 0.0451733153313398\n",
            "Epoch 12, Batch 80 loss: 0.0548189198249020\n",
            "Epoch 12, Batch 100 loss: 0.0569489976740442\n",
            "Epoch 12, Batch 120 loss: 0.0661443949356908\n",
            "Epoch 13, Batch 20 loss: 0.0337886630499270\n",
            "Epoch 13, Batch 40 loss: 0.0643982663401403\n",
            "Epoch 13, Batch 60 loss: 0.0606461127055809\n",
            "Epoch 13, Batch 80 loss: 0.0295482397545129\n",
            "Epoch 13, Batch 100 loss: 0.0302769644709770\n",
            "Epoch 13, Batch 120 loss: 0.0235502993862610\n",
            "Epoch 14, Batch 20 loss: 0.0388853611017112\n",
            "Epoch 14, Batch 40 loss: 0.0739671726245433\n",
            "Epoch 14, Batch 60 loss: 0.0705559793859720\n",
            "Epoch 14, Batch 80 loss: 0.0524777041515335\n",
            "Epoch 14, Batch 100 loss: 0.0136409027618356\n",
            "Epoch 14, Batch 120 loss: 0.0461040701833554\n",
            "Epoch 15, Batch 20 loss: 0.0198470851057209\n",
            "Epoch 15, Batch 40 loss: 0.0165244300209451\n",
            "Epoch 15, Batch 60 loss: 0.0276859648583923\n",
            "Epoch 15, Batch 80 loss: 0.0294258503941819\n",
            "Epoch 15, Batch 100 loss: 0.0606561357708415\n",
            "Epoch 15, Batch 120 loss: 0.0211152007716009\n",
            "Epoch 16, Batch 20 loss: 0.0329779988707742\n",
            "Epoch 16, Batch 40 loss: 0.0349449074827135\n",
            "Epoch 16, Batch 60 loss: 0.0397141368361190\n",
            "Epoch 16, Batch 80 loss: 0.0497900955786463\n",
            "Epoch 16, Batch 100 loss: 0.0384525679750368\n",
            "Epoch 16, Batch 120 loss: 0.0388138179318048\n",
            "Epoch 17, Batch 20 loss: 0.0291507380548865\n",
            "Epoch 17, Batch 40 loss: 0.0218109940935392\n",
            "Epoch 17, Batch 60 loss: 0.0220260587637313\n",
            "Epoch 17, Batch 80 loss: 0.0275991144182626\n",
            "Epoch 17, Batch 100 loss: 0.0641342335205991\n",
            "Epoch 17, Batch 120 loss: 0.0158870412444230\n",
            "Epoch 18, Batch 20 loss: 0.0336529784079175\n",
            "Epoch 18, Batch 40 loss: 0.0310849029774545\n",
            "Epoch 18, Batch 60 loss: 0.0234037027403247\n",
            "Epoch 18, Batch 80 loss: 0.0369934511138126\n",
            "Epoch 18, Batch 100 loss: 0.0241934279387351\n",
            "Epoch 18, Batch 120 loss: 0.0239559443085454\n",
            "Epoch 19, Batch 20 loss: 0.0304005447629606\n",
            "Epoch 19, Batch 40 loss: 0.0292423028935445\n",
            "Epoch 19, Batch 60 loss: 0.0150568322031177\n",
            "Epoch 19, Batch 80 loss: 0.0112931577954441\n",
            "Epoch 19, Batch 100 loss: 0.0435738674306776\n",
            "Epoch 19, Batch 120 loss: 0.0296315132465679\n",
            "Epoch 20, Batch 20 loss: 0.0404202080360847\n",
            "Epoch 20, Batch 40 loss: 0.0243602355243638\n",
            "Epoch 20, Batch 60 loss: 0.0324722999852384\n",
            "Epoch 20, Batch 80 loss: 0.0264208120584954\n",
            "Epoch 20, Batch 100 loss: 0.0129602036264259\n",
            "Epoch 20, Batch 120 loss: 0.0058331506501418\n",
            "Epoch 21, Batch 20 loss: 0.0276571207388770\n",
            "Epoch 21, Batch 40 loss: 0.0309356702258810\n",
            "Epoch 21, Batch 60 loss: 0.0344067530240864\n",
            "Epoch 21, Batch 80 loss: 0.0184995282761520\n",
            "Epoch 21, Batch 100 loss: 0.0073344087926671\n",
            "Epoch 21, Batch 120 loss: 0.0256975972035434\n",
            "Epoch 22, Batch 20 loss: 0.0187312954512890\n",
            "Epoch 22, Batch 40 loss: 0.0278652545704972\n",
            "Epoch 22, Batch 60 loss: 0.0118713775533251\n",
            "Epoch 22, Batch 80 loss: 0.0207541234878590\n",
            "Epoch 22, Batch 100 loss: 0.0220809849852230\n",
            "Epoch 22, Batch 120 loss: 0.0098149342724355\n",
            "Epoch 23, Batch 20 loss: 0.0235633101576241\n",
            "Epoch 23, Batch 40 loss: 0.0069320597569458\n",
            "Epoch 23, Batch 60 loss: 0.0170401733834296\n",
            "Epoch 23, Batch 80 loss: 0.0131689878529869\n",
            "Epoch 23, Batch 100 loss: 0.0115464425995015\n",
            "Epoch 23, Batch 120 loss: 0.0076521938695805\n",
            "Epoch 24, Batch 20 loss: 0.0234829915803857\n",
            "Epoch 24, Batch 40 loss: 0.0255931592866546\n",
            "Epoch 24, Batch 60 loss: 0.0129475265450310\n",
            "Epoch 24, Batch 80 loss: 0.0255808147718199\n",
            "Epoch 24, Batch 100 loss: 0.0087601499020820\n",
            "Epoch 24, Batch 120 loss: 0.0148765875113895\n",
            "Epoch 25, Batch 20 loss: 0.0127834872415406\n",
            "Epoch 25, Batch 40 loss: 0.0098143333831104\n",
            "Epoch 25, Batch 60 loss: 0.0127540281915572\n",
            "Epoch 25, Batch 80 loss: 0.0190717509205570\n",
            "Epoch 25, Batch 100 loss: 0.0076296238767100\n",
            "Epoch 25, Batch 120 loss: 0.0138394740992226\n",
            "Epoch 26, Batch 20 loss: 0.0228016464519897\n",
            "Epoch 26, Batch 40 loss: 0.0093515331682283\n",
            "Epoch 26, Batch 60 loss: 0.0275366742629558\n",
            "Epoch 26, Batch 80 loss: 0.0266450388415251\n",
            "Epoch 26, Batch 100 loss: 0.0155685336227180\n",
            "Epoch 26, Batch 120 loss: 0.0073997873114422\n",
            "Epoch 27, Batch 20 loss: 0.0096855592215434\n",
            "Epoch 27, Batch 40 loss: 0.0103217708499869\n",
            "Epoch 27, Batch 60 loss: 0.0177501513506286\n",
            "Epoch 27, Batch 80 loss: 0.0083965092489962\n",
            "Epoch 27, Batch 100 loss: 0.0268391424775473\n",
            "Epoch 27, Batch 120 loss: 0.0153151375794550\n",
            "Epoch 28, Batch 20 loss: 0.0089214447434642\n",
            "Epoch 28, Batch 40 loss: 0.0262636188344914\n",
            "Epoch 28, Batch 60 loss: 0.0097632388016791\n",
            "Epoch 28, Batch 80 loss: 0.0059367190129706\n",
            "Epoch 28, Batch 100 loss: 0.0339855126338080\n",
            "Epoch 28, Batch 120 loss: 0.0094096072367392\n",
            "Epoch 29, Batch 20 loss: 0.0222240004601190\n",
            "Epoch 29, Batch 40 loss: 0.0124179710139288\n",
            "Epoch 29, Batch 60 loss: 0.0138465989788529\n",
            "Epoch 29, Batch 80 loss: 0.0222395897362730\n",
            "Epoch 29, Batch 100 loss: 0.0111192326556193\n",
            "Epoch 29, Batch 120 loss: 0.0118657321436331\n",
            "Epoch 30, Batch 20 loss: 0.0084384409085033\n",
            "Epoch 30, Batch 40 loss: 0.0042145064799115\n",
            "Epoch 30, Batch 60 loss: 0.0187881356447178\n",
            "Epoch 30, Batch 80 loss: 0.0196446672722232\n",
            "Epoch 30, Batch 100 loss: 0.0097441848585731\n",
            "Epoch 30, Batch 120 loss: 0.0103714373646653\n",
            "Epoch 31, Batch 20 loss: 0.0088055259329849\n",
            "Epoch 31, Batch 40 loss: 0.0140392678571516\n",
            "Epoch 31, Batch 60 loss: 0.0154776394745568\n",
            "Epoch 31, Batch 80 loss: 0.0080323797039455\n",
            "Epoch 31, Batch 100 loss: 0.0074317815437098\n",
            "Epoch 31, Batch 120 loss: 0.0080570832127705\n",
            "Epoch 32, Batch 20 loss: 0.0183263118931791\n",
            "Epoch 32, Batch 40 loss: 0.0229008354930556\n",
            "Epoch 32, Batch 60 loss: 0.0212745330209145\n",
            "Epoch 32, Batch 80 loss: 0.0036378694057930\n",
            "Epoch 32, Batch 100 loss: 0.0106729265346075\n",
            "Epoch 32, Batch 120 loss: 0.0111956636363175\n",
            "Epoch 33, Batch 20 loss: 0.0130376832472393\n",
            "Epoch 33, Batch 40 loss: 0.0316878986574011\n",
            "Epoch 33, Batch 60 loss: 0.0131555453874171\n",
            "Epoch 33, Batch 80 loss: 0.0333139289563405\n",
            "Epoch 33, Batch 100 loss: 0.0044743544363882\n",
            "Epoch 33, Batch 120 loss: 0.0289694946375675\n",
            "Epoch 34, Batch 20 loss: 0.0038658620745991\n",
            "Epoch 34, Batch 40 loss: 0.0023839522458729\n",
            "Epoch 34, Batch 60 loss: 0.0087206463009352\n",
            "Epoch 34, Batch 80 loss: 0.0310141547102830\n",
            "Epoch 34, Batch 100 loss: 0.0156614289742720\n",
            "Epoch 34, Batch 120 loss: 0.0068902219965821\n",
            "Epoch 35, Batch 20 loss: 0.0096471099212067\n",
            "Epoch 35, Batch 40 loss: 0.0192023274372332\n",
            "Epoch 35, Batch 60 loss: 0.0033492835966172\n",
            "Epoch 35, Batch 80 loss: 0.0043142783746589\n",
            "Epoch 35, Batch 100 loss: 0.0186795445217285\n",
            "Epoch 35, Batch 120 loss: 0.0113023940299172\n",
            "Epoch 36, Batch 20 loss: 0.0022470951342257\n",
            "Epoch 36, Batch 40 loss: 0.0051465724594891\n",
            "Epoch 36, Batch 60 loss: 0.0086754180665594\n",
            "Epoch 36, Batch 80 loss: 0.0334870113816578\n",
            "Epoch 36, Batch 100 loss: 0.0118865658580035\n",
            "Epoch 36, Batch 120 loss: 0.0207835856272141\n",
            "Epoch 37, Batch 20 loss: 0.0050837876842706\n",
            "Epoch 37, Batch 40 loss: 0.0056584560647025\n",
            "Epoch 37, Batch 60 loss: 0.0331860979989870\n",
            "Epoch 37, Batch 80 loss: 0.0034366932799458\n",
            "Epoch 37, Batch 100 loss: 0.0042539726739051\n",
            "Epoch 37, Batch 120 loss: 0.0067091362012434\n",
            "Epoch 38, Batch 20 loss: 0.0133176327115507\n",
            "Epoch 38, Batch 40 loss: 0.0128861154167680\n",
            "Epoch 38, Batch 60 loss: 0.0050788131236914\n",
            "Epoch 38, Batch 80 loss: 0.0099454538707505\n",
            "Epoch 38, Batch 100 loss: 0.0179976993167656\n",
            "Epoch 38, Batch 120 loss: 0.0166172300785547\n",
            "Epoch 39, Batch 20 loss: 0.0130863758269697\n",
            "Epoch 39, Batch 40 loss: 0.0184446951447171\n",
            "Epoch 39, Batch 60 loss: 0.0103478179764352\n",
            "Epoch 39, Batch 80 loss: 0.0063227196020307\n",
            "Epoch 39, Batch 100 loss: 0.0161170606537780\n",
            "Epoch 39, Batch 120 loss: 0.0046845610835589\n",
            "Epoch 40, Batch 20 loss: 0.0241522257667384\n",
            "Epoch 40, Batch 40 loss: 0.0228069367542048\n",
            "Epoch 40, Batch 60 loss: 0.0036491920720437\n",
            "Epoch 40, Batch 80 loss: 0.0093623185792239\n",
            "Epoch 40, Batch 100 loss: 0.0274328417668585\n",
            "Epoch 40, Batch 120 loss: 0.0047258151738788\n",
            "Epoch 41, Batch 20 loss: 0.0028028949636791\n",
            "Epoch 41, Batch 40 loss: 0.0320765539232525\n",
            "Epoch 41, Batch 60 loss: 0.0097231211067992\n",
            "Epoch 41, Batch 80 loss: 0.0047706647004816\n",
            "Epoch 41, Batch 100 loss: 0.0032663822348695\n",
            "Epoch 41, Batch 120 loss: 0.0271658689809556\n",
            "Epoch 42, Batch 20 loss: 0.0149052895838395\n",
            "Epoch 42, Batch 40 loss: 0.0126047302910592\n",
            "Epoch 42, Batch 60 loss: 0.0089309285831405\n",
            "Epoch 42, Batch 80 loss: 0.0031353980899439\n",
            "Epoch 42, Batch 100 loss: 0.0051232002879260\n",
            "Epoch 42, Batch 120 loss: 0.0047186839190545\n",
            "Epoch 43, Batch 20 loss: 0.0144831830053590\n",
            "Epoch 43, Batch 40 loss: 0.0139481983482256\n",
            "Epoch 43, Batch 60 loss: 0.0028736119464156\n",
            "Epoch 43, Batch 80 loss: 0.0118026253490825\n",
            "Epoch 43, Batch 100 loss: 0.0029964915112942\n",
            "Epoch 43, Batch 120 loss: 0.0200986544747138\n",
            "Epoch 44, Batch 20 loss: 0.0126543845035485\n",
            "Epoch 44, Batch 40 loss: 0.0027203847275814\n",
            "Epoch 44, Batch 60 loss: 0.0068010641567525\n",
            "Epoch 44, Batch 80 loss: 0.0218828025754192\n",
            "Epoch 44, Batch 100 loss: 0.0021597718383418\n",
            "Epoch 44, Batch 120 loss: 0.0121369273387245\n",
            "Epoch 45, Batch 20 loss: 0.0068300570303109\n",
            "Epoch 45, Batch 40 loss: 0.0169057259045076\n",
            "Epoch 45, Batch 60 loss: 0.0026261809369316\n",
            "Epoch 45, Batch 80 loss: 0.0134753150865436\n",
            "Epoch 45, Batch 100 loss: 0.0121001171923126\n",
            "Epoch 45, Batch 120 loss: 0.0212909289577510\n",
            "Epoch 46, Batch 20 loss: 0.0017526328723761\n",
            "Epoch 46, Batch 40 loss: 0.0139550942345522\n",
            "Epoch 46, Batch 60 loss: 0.0074002855420986\n",
            "Epoch 46, Batch 80 loss: 0.0102440986840520\n",
            "Epoch 46, Batch 100 loss: 0.0085031467562658\n",
            "Epoch 46, Batch 120 loss: 0.0040974351533805\n",
            "Epoch 47, Batch 20 loss: 0.0119592346396530\n",
            "Epoch 47, Batch 40 loss: 0.0123339774130727\n",
            "Epoch 47, Batch 60 loss: 0.0328877680200094\n",
            "Epoch 47, Batch 80 loss: 0.0115664077049587\n",
            "Epoch 47, Batch 100 loss: 0.0035535789997084\n",
            "Epoch 47, Batch 120 loss: 0.0188355535079609\n",
            "Epoch 48, Batch 20 loss: 0.0118780285833054\n",
            "Epoch 48, Batch 40 loss: 0.0079059335534112\n",
            "Epoch 48, Batch 60 loss: 0.0120165782835102\n",
            "Epoch 48, Batch 80 loss: 0.0135243256052490\n",
            "Epoch 48, Batch 100 loss: 0.0095563845796278\n",
            "Epoch 48, Batch 120 loss: 0.0101712013587530\n",
            "Epoch 49, Batch 20 loss: 0.0191247701746761\n",
            "Epoch 49, Batch 40 loss: 0.0105990988238773\n",
            "Epoch 49, Batch 60 loss: 0.0175643721602682\n",
            "Epoch 49, Batch 80 loss: 0.0018391333505861\n",
            "Epoch 49, Batch 100 loss: 0.0026308440239518\n",
            "Epoch 49, Batch 120 loss: 0.0035928344033891\n",
            "Epoch 50, Batch 20 loss: 0.0116304860275704\n",
            "Epoch 50, Batch 40 loss: 0.0028590565008926\n",
            "Epoch 50, Batch 60 loss: 0.0020947264536517\n",
            "Epoch 50, Batch 80 loss: 0.0382299677206902\n",
            "Epoch 50, Batch 100 loss: 0.0071706651986460\n",
            "Epoch 50, Batch 120 loss: 0.0021799808120704\n"
          ]
        }
      ]
    },
    {
      "cell_type": "code",
      "metadata": {
        "id": "CfA7ZjLR1BZP",
        "colab": {
          "base_uri": "https://localhost:8080/",
          "height": 281
        },
        "outputId": "ccabe39e-1563-4a8c-8262-3c381f489efc"
      },
      "source": [
        "plt.plot(train_losses)\n",
        "plt.title(\"Training Loss\")\n",
        "plt.show()"
      ],
      "execution_count": 30,
      "outputs": [
        {
          "output_type": "display_data",
          "data": {
            "image/png": "[encoded data removed]",
            "text/plain": [
              "<Figure size 432x288 with 1 Axes>"
            ]
          },
          "metadata": {
            "needs_background": "light"
          }
        }
      ]
    },
    {
      "cell_type": "markdown",
      "metadata": {
        "id": "ItLyF9dQyJFL"
      },
      "source": [
        "Testing the model"
      ]
    },
    {
      "cell_type": "code",
      "metadata": {
        "id": "gGki98W3SoEW"
      },
      "source": [
        "from sklearn.metrics import precision_score, recall_score, f1_score, accuracy_score"
      ],
      "execution_count": 31,
      "outputs": []
    },
    {
      "cell_type": "code",
      "metadata": {
        "id": "xNavYOynyE6d",
        "colab": {
          "base_uri": "https://localhost:8080/"
        },
        "outputId": "c9ac6b9b-8ce9-4b41-dbfc-ce682c1667fd"
      },
      "source": [
        "# The test_model function is from model_testing python file\n",
        "test_loss, class_correct, class_total, labels, predictions = test_model(classes, xception, test_loader, criterion)\n",
        "\n",
        "# Test accuracy for each hieroglyph\n",
        "for i in range(len(classes)):\n",
        "    if class_total[i] > 0:\n",
        "        print('Test Accuracy of %5s: %2d%% (%2d/%2d)' % (classes[i], 100 * class_correct[i] / class_total[i], np.sum(class_correct[i]), np.sum(class_total[i])))\n",
        "    else:\n",
        "        print('Test Accuracy of %5s: N/A (no training examples)' % (classes[i]))\n",
        "\n",
        "# Total Test accuracy\n",
        "print(\"\\nAccuracy: {:.3%}\".format(accuracy_score(labels, predictions)))\n",
        "print(\"\\nPrecision: {:.3%}\".format(precision_score(labels, predictions, average = 'weighted')))\n",
        "print(\"\\nRecall: {:.3%}\".format(recall_score(labels, predictions, average = 'weighted')))\n",
        "print(\"\\nF1-score: {:.3%}\".format(f1_score(labels, predictions, average = 'weighted')))"
      ],
      "execution_count": 32,
      "outputs": [
        {
          "output_type": "stream",
          "name": "stdout",
          "text": [
            "Test Loss: 0.049459\n",
            "\n",
            "Test Accuracy of    D2: 100% ( 5/ 5)\n",
            "Test Accuracy of   D21: 97% (36/37)\n",
            "Test Accuracy of   D36: 100% (12/12)\n",
            "Test Accuracy of    D4: 100% ( 8/ 8)\n",
            "Test Accuracy of   D46: 90% ( 9/10)\n",
            "Test Accuracy of   D58: 100% ( 8/ 8)\n",
            "Test Accuracy of   E23: 100% ( 2/ 2)\n",
            "Test Accuracy of   E34: 100% (25/25)\n",
            "Test Accuracy of   F31: 100% ( 2/ 2)\n",
            "Test Accuracy of   F35: 100% ( 1/ 1)\n",
            "Test Accuracy of    G1: 100% ( 7/ 7)\n",
            "Test Accuracy of   G17: 94% (37/39)\n",
            "Test Accuracy of   G43: 97% (39/40)\n",
            "Test Accuracy of   I10: 100% ( 9/ 9)\n",
            "Test Accuracy of    I9: 100% (30/30)\n",
            "Test Accuracy of   M17: 98% (72/73)\n",
            "Test Accuracy of   M23: 100% ( 8/ 8)\n",
            "Test Accuracy of   N35: 100% (90/90)\n",
            "Test Accuracy of    O1: 100% ( 4/ 4)\n",
            "Test Accuracy of   O34: 100% ( 4/ 4)\n",
            "Test Accuracy of    O4: 66% ( 2/ 3)\n",
            "Test Accuracy of   O49: 100% ( 3/ 3)\n",
            "Test Accuracy of    Q1: 100% ( 4/ 4)\n",
            "Test Accuracy of    Q3: 100% (16/16)\n",
            "Test Accuracy of    R4: 100% ( 1/ 1)\n",
            "Test Accuracy of    R8: 100% (14/14)\n",
            "Test Accuracy of   S29: 100% (53/53)\n",
            "Test Accuracy of   S34: 100% ( 2/ 2)\n",
            "Test Accuracy of    U7: 100% ( 1/ 1)\n",
            "Test Accuracy of   V13: 100% (16/16)\n",
            "Test Accuracy of   V28: 100% ( 8/ 8)\n",
            "Test Accuracy of   V30: 100% ( 2/ 2)\n",
            "Test Accuracy of   V31: 100% (27/27)\n",
            "Test Accuracy of   W11: 100% ( 1/ 1)\n",
            "Test Accuracy of   W24: 100% ( 8/ 8)\n",
            "Test Accuracy of    X1: 100% (47/47)\n",
            "Test Accuracy of    X8: 50% ( 1/ 2)\n",
            "Test Accuracy of    Y1: 100% ( 1/ 1)\n",
            "Test Accuracy of    Y5: 100% ( 2/ 2)\n",
            "Test Accuracy of    Z1: 100% (10/10)\n",
            "\n",
            "Accuracy: 98.740%\n",
            "\n",
            "Precision: 98.881%\n",
            "\n",
            "Recall: 98.740%\n",
            "\n",
            "F1-score: 98.733%\n"
          ]
        }
      ]
    }
  ]
}
