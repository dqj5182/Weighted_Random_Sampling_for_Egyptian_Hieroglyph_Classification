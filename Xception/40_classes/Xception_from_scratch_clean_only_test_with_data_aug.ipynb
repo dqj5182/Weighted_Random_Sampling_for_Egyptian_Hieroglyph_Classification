{
  "nbformat": 4,
  "nbformat_minor": 0,
  "metadata": {
    "colab": {
      "name": "Egyptian_model_with_Xception_from_scratch_clean_only_test_with_data_aug.ipynb",
      "provenance": []
    },
    "kernelspec": {
      "name": "python3",
      "display_name": "Python 3"
    },
    "language_info": {
      "name": "python"
    },
    "accelerator": "GPU"
  },
  "cells": [
    {
      "cell_type": "code",
      "metadata": {
        "colab": {
          "base_uri": "https://localhost:8080/"
        },
        "id": "Po0ZVacIYsP0",
        "outputId": "da0285cb-bd4d-49a1-baa6-fcd3d53ca50e"
      },
      "source": [
        "!pip install timm"
      ],
      "execution_count": 1,
      "outputs": [
        {
          "output_type": "stream",
          "name": "stdout",
          "text": [
            "Collecting timm\n",
            "  Downloading timm-0.4.12-py3-none-any.whl (376 kB)\n",
            "\u001b[?25l\r\u001b[K     |▉                               | 10 kB 35.2 MB/s eta 0:00:01\r\u001b[K     |█▊                              | 20 kB 30.7 MB/s eta 0:00:01\r\u001b[K     |██▋                             | 30 kB 17.9 MB/s eta 0:00:01\r\u001b[K     |███▌                            | 40 kB 15.9 MB/s eta 0:00:01\r\u001b[K     |████▍                           | 51 kB 9.2 MB/s eta 0:00:01\r\u001b[K     |█████▏                          | 61 kB 9.0 MB/s eta 0:00:01\r\u001b[K     |██████                          | 71 kB 9.2 MB/s eta 0:00:01\r\u001b[K     |███████                         | 81 kB 10.3 MB/s eta 0:00:01\r\u001b[K     |███████▉                        | 92 kB 8.0 MB/s eta 0:00:01\r\u001b[K     |████████▊                       | 102 kB 8.7 MB/s eta 0:00:01\r\u001b[K     |█████████▋                      | 112 kB 8.7 MB/s eta 0:00:01\r\u001b[K     |██████████▍                     | 122 kB 8.7 MB/s eta 0:00:01\r\u001b[K     |███████████▎                    | 133 kB 8.7 MB/s eta 0:00:01\r\u001b[K     |████████████▏                   | 143 kB 8.7 MB/s eta 0:00:01\r\u001b[K     |█████████████                   | 153 kB 8.7 MB/s eta 0:00:01\r\u001b[K     |██████████████                  | 163 kB 8.7 MB/s eta 0:00:01\r\u001b[K     |██████████████▊                 | 174 kB 8.7 MB/s eta 0:00:01\r\u001b[K     |███████████████▋                | 184 kB 8.7 MB/s eta 0:00:01\r\u001b[K     |████████████████▌               | 194 kB 8.7 MB/s eta 0:00:01\r\u001b[K     |█████████████████▍              | 204 kB 8.7 MB/s eta 0:00:01\r\u001b[K     |██████████████████▎             | 215 kB 8.7 MB/s eta 0:00:01\r\u001b[K     |███████████████████▏            | 225 kB 8.7 MB/s eta 0:00:01\r\u001b[K     |████████████████████            | 235 kB 8.7 MB/s eta 0:00:01\r\u001b[K     |████████████████████▉           | 245 kB 8.7 MB/s eta 0:00:01\r\u001b[K     |█████████████████████▊          | 256 kB 8.7 MB/s eta 0:00:01\r\u001b[K     |██████████████████████▋         | 266 kB 8.7 MB/s eta 0:00:01\r\u001b[K     |███████████████████████▌        | 276 kB 8.7 MB/s eta 0:00:01\r\u001b[K     |████████████████████████▍       | 286 kB 8.7 MB/s eta 0:00:01\r\u001b[K     |█████████████████████████▏      | 296 kB 8.7 MB/s eta 0:00:01\r\u001b[K     |██████████████████████████      | 307 kB 8.7 MB/s eta 0:00:01\r\u001b[K     |███████████████████████████     | 317 kB 8.7 MB/s eta 0:00:01\r\u001b[K     |███████████████████████████▉    | 327 kB 8.7 MB/s eta 0:00:01\r\u001b[K     |████████████████████████████▊   | 337 kB 8.7 MB/s eta 0:00:01\r\u001b[K     |█████████████████████████████▌  | 348 kB 8.7 MB/s eta 0:00:01\r\u001b[K     |██████████████████████████████▍ | 358 kB 8.7 MB/s eta 0:00:01\r\u001b[K     |███████████████████████████████▎| 368 kB 8.7 MB/s eta 0:00:01\r\u001b[K     |████████████████████████████████| 376 kB 8.7 MB/s \n",
            "\u001b[?25hRequirement already satisfied: torchvision in /usr/local/lib/python3.7/dist-packages (from timm) (0.11.1+cu111)\n",
            "Requirement already satisfied: torch>=1.4 in /usr/local/lib/python3.7/dist-packages (from timm) (1.10.0+cu111)\n",
            "Requirement already satisfied: typing-extensions in /usr/local/lib/python3.7/dist-packages (from torch>=1.4->timm) (3.10.0.2)\n",
            "Requirement already satisfied: numpy in /usr/local/lib/python3.7/dist-packages (from torchvision->timm) (1.19.5)\n",
            "Requirement already satisfied: pillow!=8.3.0,>=5.3.0 in /usr/local/lib/python3.7/dist-packages (from torchvision->timm) (7.1.2)\n",
            "Installing collected packages: timm\n",
            "Successfully installed timm-0.4.12\n"
          ]
        }
      ]
    },
    {
      "cell_type": "code",
      "metadata": {
        "id": "8iEiGSblxJzW"
      },
      "source": [
        "import os, os.path\n",
        "import torch\n",
        "import numpy as np\n",
        "import torch.nn as nn\n",
        "import torch.optim as optim\n",
        "from pathlib import Path\n",
        "from torchvision import datasets, models, transforms\n",
        "import timm\n",
        "\n",
        "# check if CUDA is available\n",
        "train_on_gpu = torch.cuda.is_available()"
      ],
      "execution_count": 2,
      "outputs": []
    },
    {
      "cell_type": "markdown",
      "metadata": {
        "id": "Jd6KU8VMz6J3"
      },
      "source": [
        "Module: Load_data"
      ]
    },
    {
      "cell_type": "code",
      "metadata": {
        "id": "8lWX0BW_w_kC"
      },
      "source": [
        "def load_data(hieroglyph_directory_path, batch_size=20, num_workers=0):\n",
        "    train_dir = os.path.join(hieroglyph_directory_path, 'train/')\n",
        "    test_dir = os.path.join(hieroglyph_directory_path, 'test/')\n",
        "\n",
        "    classes = []\n",
        "\n",
        "    for filename in os.listdir(train_dir):\n",
        "        if filename == '.DS_Store':\n",
        "            pass\n",
        "        else:\n",
        "            classes.append(filename)\n",
        "\n",
        "    classes.sort()\n",
        "\n",
        "    # print(\"Our classes:\", classes)\n",
        "    # print(len(classes))\n",
        "\n",
        "    data_transform_train = transforms.Compose([transforms.ToTensor(),\n",
        "                                                  transforms.Resize((75, 75)),\n",
        "                                                  transforms.Normalize((0.5,), (0.5,))]) \n",
        "\n",
        "    data_transform_test = transforms.Compose([transforms.ToTensor(),\n",
        "                                                  transforms.RandomApply([transforms.RandomHorizontalFlip()]),\n",
        "                                                  transforms.RandomRotation(degrees=(-10, 10)),\n",
        "                                                  transforms.RandomAffine(degrees=0, translate=(.1, .1)),\n",
        "                                                  transforms.RandomApply([transforms.ColorJitter(brightness=(1, 1.2),\n",
        "                                                                                                  contrast=(1, 1.5),\n",
        "                                                                                                  saturation=(1, 1.5),\n",
        "                                                                                                  hue=(0, 0.5))]),\n",
        "                                                  transforms.RandomErasing(p=0.5, scale=(0.05, 0.05), ratio=(0.3, 3.3), value=0,\n",
        "                                                                            inplace=False),\n",
        "                                                  transforms.Resize((75, 75)),\n",
        "                                                  transforms.Normalize((0.5,), (0.5,))])\n",
        "\n",
        "    train_data = datasets.ImageFolder(train_dir, transform=data_transform_train)\n",
        "    test_data = datasets.ImageFolder(test_dir, transform=data_transform_test)\n",
        "\n",
        "    # print('Num training images: ', len(train_data))\n",
        "    # print('Num test images: ', len(test_data))\n",
        "\n",
        "    # prepare data loaders\n",
        "    train_loader = torch.utils.data.DataLoader(train_data, batch_size=batch_size,\n",
        "                                               num_workers=num_workers, shuffle=True)\n",
        "    test_loader = torch.utils.data.DataLoader(test_data, batch_size=batch_size,\n",
        "                                              num_workers=num_workers, shuffle=True)\n",
        "\n",
        "    return train_loader, test_loader, classes"
      ],
      "execution_count": 3,
      "outputs": []
    },
    {
      "cell_type": "markdown",
      "metadata": {
        "id": "K4sXUrPPz7iF"
      },
      "source": [
        "Module: Train_model"
      ]
    },
    {
      "cell_type": "code",
      "metadata": {
        "id": "N2N_rnKLxN5c"
      },
      "source": [
        "def train_model(train_loader, optimizer, conv_net_model, criterion, my_lr_scheduler, n_epochs):\n",
        "    # track training loss over time\n",
        "    losses = []\n",
        "    \n",
        "    for epoch in range(1, n_epochs + 1):\n",
        "\n",
        "        # keep track of training and validation loss\n",
        "        train_loss = 0.0\n",
        "\n",
        "        # model by default is set to train\n",
        "        for batch_i, (data, target) in enumerate(train_loader):\n",
        "            # move tensors to GPU if CUDA is available\n",
        "            if train_on_gpu:\n",
        "                data, target = data.cuda(), target.cuda()\n",
        "            # clear the gradients of all optimized variables\n",
        "            optimizer.zero_grad()\n",
        "            # forward pass: compute predicted outputs by passing inputs to the model\n",
        "            output = conv_net_model(data)\n",
        "            # calculate the batch loss\n",
        "            loss = criterion(output, target)\n",
        "            # backward pass: compute gradient of the loss with respect to model parameters\n",
        "            loss.backward()\n",
        "            # perform a single optimization step (parameter update)\n",
        "            optimizer.step()\n",
        "            # update training loss\n",
        "            train_loss += loss.item()\n",
        "\n",
        "            my_lr_scheduler.step()\n",
        "\n",
        "            if batch_i % 20 == 19:  # print training loss every specified number of mini-batches\n",
        "                print('Epoch %d, Batch %d loss: %.16f' %\n",
        "                    (epoch, batch_i + 1, train_loss / 20))\n",
        "                losses.append(train_loss / 20)\n",
        "                train_loss = 0.0\n",
        "\n",
        "    return conv_net_model, losses"
      ],
      "execution_count": 4,
      "outputs": []
    },
    {
      "cell_type": "markdown",
      "metadata": {
        "id": "-Rrxo5RDz96U"
      },
      "source": [
        "Module: Test_model"
      ]
    },
    {
      "cell_type": "code",
      "metadata": {
        "id": "Ay-HlMJnxU9v"
      },
      "source": [
        "def test_model(classes, conv_net_model, test_loader, criterion):\n",
        "    # track test loss\n",
        "    test_loss = 0.0\n",
        "    class_correct = list(0. for i in range(len(classes)))\n",
        "    class_total = list(0. for i in range(len(classes)))\n",
        "\n",
        "    conv_net_model.eval()  # eval mode\n",
        "\n",
        "    labels = []\n",
        "    predictions = []\n",
        "    # iterate over test data\n",
        "    for data, target in test_loader:\n",
        "        # move tensors to GPU if CUDA is available\n",
        "        if train_on_gpu:\n",
        "            data, target = data.cuda(), target.cuda()\n",
        "        # forward pass: compute predicted outputs by passing inputs to the model\n",
        "        output = conv_net_model(data)\n",
        "\n",
        "        # calculate the batch loss\n",
        "        loss = criterion(output, target)\n",
        "        # update  test loss\n",
        "        test_loss += loss.item() * data.size(0)\n",
        "        # convert output probabilities to predicted class\n",
        "        _, pred = torch.max(output, 1)\n",
        "        # compare predictions to true label\n",
        "        correct_tensor = pred.eq(target.data.view_as(pred))\n",
        "        correct = np.squeeze(correct_tensor.numpy()) if not train_on_gpu else np.squeeze(correct_tensor.cpu().numpy())\n",
        "        # calculate test accuracy for each object class\n",
        "        for i in range(len(target.data)):\n",
        "            label = target.data[i]\n",
        "            class_correct[label] += correct[i].item()\n",
        "            class_total[label] += 1\n",
        "        \n",
        "        # Will be used for calculating Recall, Precision, and F1-score\n",
        "        labels.extend(target.data.view_as(pred).tolist())\n",
        "        predictions.extend(pred.tolist())\n",
        "\n",
        "\n",
        "    # calculate avg test loss\n",
        "    test_loss = test_loss / len(test_loader.dataset)\n",
        "    print('Test Loss: {:.6f}\\n'.format(test_loss))\n",
        "\n",
        "    return test_loss, class_correct, class_total, labels, predictions"
      ],
      "execution_count": 5,
      "outputs": []
    },
    {
      "cell_type": "markdown",
      "metadata": {
        "id": "xHh3PXE80Asa"
      },
      "source": [
        "Check whether CUDA is available (Change runtime type if not)"
      ]
    },
    {
      "cell_type": "code",
      "metadata": {
        "colab": {
          "base_uri": "https://localhost:8080/"
        },
        "id": "Q9TYPQH7x4zw",
        "outputId": "14ad9db7-09d3-4b38-8963-b3fdb17dcb9b"
      },
      "source": [
        "if not train_on_gpu:\n",
        "    print('CUDA is not available.  Training on CPU ...')\n",
        "else:\n",
        "    print('CUDA is available!  Training on GPU ...')"
      ],
      "execution_count": 6,
      "outputs": [
        {
          "output_type": "stream",
          "name": "stdout",
          "text": [
            "CUDA is available!  Training on GPU ...\n"
          ]
        }
      ]
    },
    {
      "cell_type": "markdown",
      "metadata": {
        "id": "6lYw8EKVx8Q7"
      },
      "source": [
        "Load Hieroglyph Data"
      ]
    },
    {
      "cell_type": "code",
      "metadata": {
        "colab": {
          "base_uri": "https://localhost:8080/"
        },
        "id": "laLvoRy1yewl",
        "outputId": "92c93043-3a14-4a9f-fc0f-f197c215728d"
      },
      "source": [
        "# Connecting and Mounting to the Google Drive\n",
        "from google.colab import drive\n",
        "drive.mount('/content/drive')"
      ],
      "execution_count": 7,
      "outputs": [
        {
          "output_type": "stream",
          "name": "stdout",
          "text": [
            "Mounted at /content/drive\n"
          ]
        }
      ]
    },
    {
      "cell_type": "code",
      "metadata": {
        "id": "odaoZt9GyfUt"
      },
      "source": [
        "data_dir = '/content/drive/MyDrive/EgyptianHieroglyphDataset_Original_Clean/'"
      ],
      "execution_count": 8,
      "outputs": []
    },
    {
      "cell_type": "code",
      "metadata": {
        "colab": {
          "base_uri": "https://localhost:8080/"
        },
        "id": "dF22MAnmyiC1",
        "outputId": "75185ddc-73d6-47ff-b546-5a1b0b7f1ba1"
      },
      "source": [
        "hieroglyph_for_train = []\n",
        "file_count_list = []\n",
        "\n",
        "for name in os.listdir('/content/drive/MyDrive/EgyptianHieroglyphDataset_Original_Clean/train/'):\n",
        "  path, dirs, files = next(os.walk(\"/content/drive/MyDrive/EgyptianHieroglyphDataset_Original_Clean/train/\"+name))\n",
        "  file_count = len(files)\n",
        "  print(name, file_count)\n",
        "  file_count_list.append(file_count)\n",
        "  hieroglyph_for_train.append(name)\n",
        "\n",
        "hieroglyph_dict = dict(zip(hieroglyph_for_train, file_count_list))"
      ],
      "execution_count": 9,
      "outputs": [
        {
          "output_type": "stream",
          "name": "stdout",
          "text": [
            "Y5 6\n",
            "I9 116\n",
            "O34 15\n",
            "V13 63\n",
            "U7 3\n",
            "D46 40\n",
            "E34 97\n",
            "G1 28\n",
            "V31 106\n",
            "S34 8\n",
            "D36 47\n",
            "Q1 13\n",
            "V30 6\n",
            "F35 2\n",
            "O4 11\n",
            "M23 30\n",
            "S29 212\n",
            "R8 53\n",
            "W11 4\n",
            "X1 185\n",
            "Y1 1\n",
            "D21 146\n",
            "D2 19\n",
            "E23 8\n",
            "X8 4\n",
            "Z1 39\n",
            "D4 29\n",
            "V28 28\n",
            "I10 32\n",
            "O1 16\n",
            "M17 291\n",
            "F31 6\n",
            "G43 157\n",
            "D58 28\n",
            "O49 10\n",
            "G17 156\n",
            "R4 2\n",
            "Q3 61\n",
            "W24 31\n",
            "N35 358\n"
          ]
        }
      ]
    },
    {
      "cell_type": "markdown",
      "metadata": {
        "id": "XeQQ7PjZzKd9"
      },
      "source": [
        "Number of images for each hieroglyph "
      ]
    },
    {
      "cell_type": "code",
      "metadata": {
        "colab": {
          "base_uri": "https://localhost:8080/",
          "height": 609
        },
        "id": "W6IzWR2RyjxM",
        "outputId": "3175d788-b6a7-46e9-c73e-6f9d76c87513"
      },
      "source": [
        "import matplotlib.pyplot as plt\n",
        "import pandas as pd\n",
        "\n",
        "df = pd.DataFrame({\"Hieroglyph\":hieroglyph_for_train, \"Count\":file_count_list})\n",
        "\n",
        "df_sorted= df.sort_values('Count',ascending=False)\n",
        "\n",
        "plt.figure(figsize=(20,10))\n",
        "# make bar plot with matplotlib\n",
        "plt.bar('Hieroglyph', 'Count',data=df_sorted)"
      ],
      "execution_count": 10,
      "outputs": [
        {
          "output_type": "execute_result",
          "data": {
            "text/plain": [
              "<BarContainer object of 40 artists>"
            ]
          },
          "metadata": {},
          "execution_count": 10
        },
        {
          "output_type": "display_data",
          "data": {
            "image/png": "[encoded data removed]",
            "text/plain": [
              "<Figure size 1440x720 with 1 Axes>"
            ]
          },
          "metadata": {
            "needs_background": "light"
          }
        }
      ]
    },
    {
      "cell_type": "code",
      "metadata": {
        "id": "-3oOm8rSx7tp"
      },
      "source": [
        "# Number of images processed in a single training\n",
        "batch_size = 20\n",
        "num_workers = 0\n",
        "\n",
        "# The load_data function is from hieroglyph_data_preparation python file\n",
        "train_loader, test_loader, classes = load_data(data_dir)"
      ],
      "execution_count": 11,
      "outputs": []
    },
    {
      "cell_type": "markdown",
      "metadata": {
        "id": "BJm8sGiBx_q5"
      },
      "source": [
        "ResNet Model"
      ]
    },
    {
      "cell_type": "code",
      "metadata": {
        "id": "JkLXVJGkxemC"
      },
      "source": [
        "# Whether to extract features with the model\n",
        "feature_extract = False\n",
        "# Other selections\n",
        "loss_function = \"cross-entropy\"\n",
        "model_selection = \"xception\"\n",
        "optim_selection = \"Adam\"\n",
        "\n",
        "# False if you want scratch model, True if you want pretrained model\n",
        "whether_to_pretrain = False\n",
        "\n",
        "# Load the model\n",
        "if model_selection == \"resnet-50\":\n",
        "    resnet50 = models.resnet50(pretrained=whether_to_pretrain)\n",
        "    # Number of features in the last layer of resnet\n",
        "    n_inputs = resnet50.fc.in_features\n",
        "    # Add last linear layer (n_inputs -> 40 hieroglyph classes)\n",
        "    last_layer = nn.Sequential(\n",
        "                    nn.Linear(n_inputs, len(classes)))\n",
        "    resnet50.fc = last_layer\n",
        "    if train_on_gpu:\n",
        "      resnet50.cuda()\n",
        "    # Specify optimizer (Adam) and learning rate = 0.001\n",
        "    if optim_selection == \"Adam\":\n",
        "        optimizer = optim.Adam(resnet50.parameters(), lr=0.001)\n",
        "\n",
        "elif model_selection == \"inception-v3\":\n",
        "    inception_v3 = models.inception_v3(pretrained=whether_to_pretrain)\n",
        "    # Number of features in the last layer of resnet\n",
        "    n_inputs = inception_v3.fc.in_features\n",
        "    # Add last linear layer (n_inputs -> 40 hieroglyph classes)\n",
        "    last_layer = nn.Sequential(\n",
        "                    nn.Linear(n_inputs, len(classes)))\n",
        "    inception_v3.fc = last_layer\n",
        "    if train_on_gpu:\n",
        "      inception_v3.cuda()\n",
        "    # Specify optimizer (Adam) and learning rate = 0.001\n",
        "    if optim_selection == \"Adam\":\n",
        "        optimizer = optim.Adam(inception_v3.parameters(), lr=0.001)\n",
        "\n",
        "elif model_selection == \"xception\":\n",
        "    xception = timm.create_model('xception', pretrained=whether_to_pretrain)\n",
        "    # Number of features in the last layer of resnet\n",
        "    n_inputs = xception.fc.in_features\n",
        "    # Add last linear layer (n_inputs -> 40 hieroglyph classes)\n",
        "    last_layer = nn.Sequential(\n",
        "                    nn.Linear(n_inputs, len(classes)))\n",
        "    xception.fc = last_layer\n",
        "    if train_on_gpu:\n",
        "      xception.cuda()\n",
        "    # Specify optimizer (Adam) and learning rate = 0.001\n",
        "    if optim_selection == \"Adam\":\n",
        "        optimizer = optim.Adam(xception.parameters(), lr=0.001)\n",
        "\n",
        "# Specify loss function (categorical cross-entropy)\n",
        "if loss_function == \"cross-entropy\":\n",
        "    criterion = nn.CrossEntropyLoss()\n",
        "\n",
        "# Exponential Decay to strengthen learning\n",
        "decayRate = 0.999\n",
        "my_lr_scheduler = torch.optim.lr_scheduler.ExponentialLR(optimizer=optimizer, gamma=decayRate)"
      ],
      "execution_count": 12,
      "outputs": []
    },
    {
      "cell_type": "markdown",
      "metadata": {
        "id": "U2vnErB1yHmM"
      },
      "source": [
        "Training the model"
      ]
    },
    {
      "cell_type": "code",
      "metadata": {
        "colab": {
          "base_uri": "https://localhost:8080/"
        },
        "id": "dOB03noWyEvQ",
        "outputId": "5dfb3446-b5db-48fc-ff89-e45d43528f93"
      },
      "source": [
        "# number of epochs to train the model\n",
        "n_epochs = 50\n",
        "\n",
        "if model_selection == \"resnet-50\":\n",
        "  # The train_model function is from model_training python file\n",
        "  resnet50, train_losses = train_model(train_loader, optimizer, resnet50, criterion, my_lr_scheduler, n_epochs)\n",
        "elif model_selection == \"inception-v3\":\n",
        "  # The train_model function is from model_training python file\n",
        "  inception_v3, train_losses = train_model(train_loader, optimizer, inception_v3, criterion, my_lr_scheduler, n_epochs)\n",
        "elif model_selection == \"xception\":\n",
        "  # The train_model function is from model_training python file\n",
        "  xception, train_losses = train_model(train_loader, optimizer, xception, criterion, my_lr_scheduler, n_epochs)"
      ],
      "execution_count": 13,
      "outputs": [
        {
          "output_type": "stream",
          "name": "stdout",
          "text": [
            "Epoch 1, Batch 20 loss: 2.4065572798252104\n",
            "Epoch 1, Batch 40 loss: 1.6284008890390396\n",
            "Epoch 1, Batch 60 loss: 1.0905306845903397\n",
            "Epoch 1, Batch 80 loss: 0.8884687304496766\n",
            "Epoch 1, Batch 100 loss: 0.5725506320595741\n",
            "Epoch 1, Batch 120 loss: 0.5768405921757221\n",
            "Epoch 2, Batch 20 loss: 0.5147686164826155\n",
            "Epoch 2, Batch 40 loss: 0.4173340182751417\n",
            "Epoch 2, Batch 60 loss: 0.3820113305002451\n",
            "Epoch 2, Batch 80 loss: 0.3127524405717850\n",
            "Epoch 2, Batch 100 loss: 0.4414155596867204\n",
            "Epoch 2, Batch 120 loss: 0.3418464247137308\n",
            "Epoch 3, Batch 20 loss: 0.2587347570806742\n",
            "Epoch 3, Batch 40 loss: 0.2150918954983354\n",
            "Epoch 3, Batch 60 loss: 0.1773556711152196\n",
            "Epoch 3, Batch 80 loss: 0.1541251705959439\n",
            "Epoch 3, Batch 100 loss: 0.1865206963382661\n",
            "Epoch 3, Batch 120 loss: 0.2758012723177671\n",
            "Epoch 4, Batch 20 loss: 0.2184716286137700\n",
            "Epoch 4, Batch 40 loss: 0.1541680643334985\n",
            "Epoch 4, Batch 60 loss: 0.1405236531049013\n",
            "Epoch 4, Batch 80 loss: 0.0878265812294558\n",
            "Epoch 4, Batch 100 loss: 0.1054003539029509\n",
            "Epoch 4, Batch 120 loss: 0.1294516210007714\n",
            "Epoch 5, Batch 20 loss: 0.1096334525384009\n",
            "Epoch 5, Batch 40 loss: 0.1312293355003931\n",
            "Epoch 5, Batch 60 loss: 0.0563529364997521\n",
            "Epoch 5, Batch 80 loss: 0.0396047254675068\n",
            "Epoch 5, Batch 100 loss: 0.0846624547149986\n",
            "Epoch 5, Batch 120 loss: 0.0781928580836393\n",
            "Epoch 6, Batch 20 loss: 0.0236005694139749\n",
            "Epoch 6, Batch 40 loss: 0.0276864282262977\n",
            "Epoch 6, Batch 60 loss: 0.0289744302397594\n",
            "Epoch 6, Batch 80 loss: 0.0546072240686044\n",
            "Epoch 6, Batch 100 loss: 0.0544763076410163\n",
            "Epoch 6, Batch 120 loss: 0.0327659654023591\n",
            "Epoch 7, Batch 20 loss: 0.0086802443838678\n",
            "Epoch 7, Batch 40 loss: 0.0357262008939870\n",
            "Epoch 7, Batch 60 loss: 0.0129276753810700\n",
            "Epoch 7, Batch 80 loss: 0.0317349434189964\n",
            "Epoch 7, Batch 100 loss: 0.0106383636710234\n",
            "Epoch 7, Batch 120 loss: 0.0142021969310008\n",
            "Epoch 8, Batch 20 loss: 0.0062675193039468\n",
            "Epoch 8, Batch 40 loss: 0.0164258238626644\n",
            "Epoch 8, Batch 60 loss: 0.0407652437890647\n",
            "Epoch 8, Batch 80 loss: 0.0049185951065738\n",
            "Epoch 8, Batch 100 loss: 0.0180141583870864\n",
            "Epoch 8, Batch 120 loss: 0.0202691458398476\n",
            "Epoch 9, Batch 20 loss: 0.0048616703781590\n",
            "Epoch 9, Batch 40 loss: 0.0038604228408076\n",
            "Epoch 9, Batch 60 loss: 0.0022008477841155\n",
            "Epoch 9, Batch 80 loss: 0.0028423264913727\n",
            "Epoch 9, Batch 100 loss: 0.0026887821433775\n",
            "Epoch 9, Batch 120 loss: 0.0032718217029469\n",
            "Epoch 10, Batch 20 loss: 0.0015606406865118\n",
            "Epoch 10, Batch 40 loss: 0.0022767446564103\n",
            "Epoch 10, Batch 60 loss: 0.0009169213175483\n",
            "Epoch 10, Batch 80 loss: 0.0012924940521771\n",
            "Epoch 10, Batch 100 loss: 0.0016403552792326\n",
            "Epoch 10, Batch 120 loss: 0.0021517278153624\n",
            "Epoch 11, Batch 20 loss: 0.0012424816421117\n",
            "Epoch 11, Batch 40 loss: 0.0010455912539328\n",
            "Epoch 11, Batch 60 loss: 0.0007849576930312\n",
            "Epoch 11, Batch 80 loss: 0.0009391700994456\n",
            "Epoch 11, Batch 100 loss: 0.0008066993068496\n",
            "Epoch 11, Batch 120 loss: 0.0011677140904794\n",
            "Epoch 12, Batch 20 loss: 0.0007697226268647\n",
            "Epoch 12, Batch 40 loss: 0.0029571121413028\n",
            "Epoch 12, Batch 60 loss: 0.0020701632805867\n",
            "Epoch 12, Batch 80 loss: 0.0032691105865524\n",
            "Epoch 12, Batch 100 loss: 0.0006410496873286\n",
            "Epoch 12, Batch 120 loss: 0.0006788512684579\n",
            "Epoch 13, Batch 20 loss: 0.0037738641916803\n",
            "Epoch 13, Batch 40 loss: 0.0029959413543111\n",
            "Epoch 13, Batch 60 loss: 0.0008631470671389\n",
            "Epoch 13, Batch 80 loss: 0.0016932502941927\n",
            "Epoch 13, Batch 100 loss: 0.0012129884169553\n",
            "Epoch 13, Batch 120 loss: 0.0008794666289759\n",
            "Epoch 14, Batch 20 loss: 0.0012635018789297\n",
            "Epoch 14, Batch 40 loss: 0.0156173759562080\n",
            "Epoch 14, Batch 60 loss: 0.0020225215805112\n",
            "Epoch 14, Batch 80 loss: 0.0093810568665504\n",
            "Epoch 14, Batch 100 loss: 0.0077250455549802\n",
            "Epoch 14, Batch 120 loss: 0.0021079701502458\n",
            "Epoch 15, Batch 20 loss: 0.0006461048957135\n",
            "Epoch 15, Batch 40 loss: 0.0012510585853306\n",
            "Epoch 15, Batch 60 loss: 0.0016027809397201\n",
            "Epoch 15, Batch 80 loss: 0.0014572855274309\n",
            "Epoch 15, Batch 100 loss: 0.0009065976337297\n",
            "Epoch 15, Batch 120 loss: 0.0010781387405586\n",
            "Epoch 16, Batch 20 loss: 0.0007746193525236\n",
            "Epoch 16, Batch 40 loss: 0.0008097474747046\n",
            "Epoch 16, Batch 60 loss: 0.0007793411823513\n",
            "Epoch 16, Batch 80 loss: 0.0014246982675104\n",
            "Epoch 16, Batch 100 loss: 0.0006789952571125\n",
            "Epoch 16, Batch 120 loss: 0.0010819784256455\n",
            "Epoch 17, Batch 20 loss: 0.0005388590128860\n",
            "Epoch 17, Batch 40 loss: 0.0004546057010884\n",
            "Epoch 17, Batch 60 loss: 0.0003831135883956\n",
            "Epoch 17, Batch 80 loss: 0.0005053567667346\n",
            "Epoch 17, Batch 100 loss: 0.0004223595035000\n",
            "Epoch 17, Batch 120 loss: 0.0003657765177195\n",
            "Epoch 18, Batch 20 loss: 0.0005005052473280\n",
            "Epoch 18, Batch 40 loss: 0.0003618796388764\n",
            "Epoch 18, Batch 60 loss: 0.0006041620519682\n",
            "Epoch 18, Batch 80 loss: 0.0013915603391069\n",
            "Epoch 18, Batch 100 loss: 0.0008641440301290\n",
            "Epoch 18, Batch 120 loss: 0.0004641029387130\n",
            "Epoch 19, Batch 20 loss: 0.0002991411456605\n",
            "Epoch 19, Batch 40 loss: 0.0005627661565086\n",
            "Epoch 19, Batch 60 loss: 0.0005523643398192\n",
            "Epoch 19, Batch 80 loss: 0.0003238583882194\n",
            "Epoch 19, Batch 100 loss: 0.0009571947393852\n",
            "Epoch 19, Batch 120 loss: 0.0003516756434692\n",
            "Epoch 20, Batch 20 loss: 0.0007974544951139\n",
            "Epoch 20, Batch 40 loss: 0.0003623366359534\n",
            "Epoch 20, Batch 60 loss: 0.0003861805413180\n",
            "Epoch 20, Batch 80 loss: 0.0003088279383519\n",
            "Epoch 20, Batch 100 loss: 0.0006065898302040\n",
            "Epoch 20, Batch 120 loss: 0.0003698470140080\n",
            "Epoch 21, Batch 20 loss: 0.0003460976249698\n",
            "Epoch 21, Batch 40 loss: 0.0005187034286791\n",
            "Epoch 21, Batch 60 loss: 0.0004003988022305\n",
            "Epoch 21, Batch 80 loss: 0.0007547783861810\n",
            "Epoch 21, Batch 100 loss: 0.0006214317294507\n",
            "Epoch 21, Batch 120 loss: 0.0004554926797937\n",
            "Epoch 22, Batch 20 loss: 0.0012079521638952\n",
            "Epoch 22, Batch 40 loss: 0.0004377718742035\n",
            "Epoch 22, Batch 60 loss: 0.0004224180651363\n",
            "Epoch 22, Batch 80 loss: 0.0006924834717211\n",
            "Epoch 22, Batch 100 loss: 0.0003916078043403\n",
            "Epoch 22, Batch 120 loss: 0.0003460113715846\n",
            "Epoch 23, Batch 20 loss: 0.0004376704531751\n",
            "Epoch 23, Batch 40 loss: 0.0003696386496813\n",
            "Epoch 23, Batch 60 loss: 0.0002874257221265\n",
            "Epoch 23, Batch 80 loss: 0.0002756201789452\n",
            "Epoch 23, Batch 100 loss: 0.0006462728790211\n",
            "Epoch 23, Batch 120 loss: 0.0003883609777404\n",
            "Epoch 24, Batch 20 loss: 0.0005381818675232\n",
            "Epoch 24, Batch 40 loss: 0.0004785234530573\n",
            "Epoch 24, Batch 60 loss: 0.0006285535695497\n",
            "Epoch 24, Batch 80 loss: 0.0002126170376869\n",
            "Epoch 24, Batch 100 loss: 0.0003591329452320\n",
            "Epoch 24, Batch 120 loss: 0.0002978424920002\n",
            "Epoch 25, Batch 20 loss: 0.0002894491401094\n",
            "Epoch 25, Batch 40 loss: 0.0002677337626665\n",
            "Epoch 25, Batch 60 loss: 0.0004864313757935\n",
            "Epoch 25, Batch 80 loss: 0.0003730373839062\n",
            "Epoch 25, Batch 100 loss: 0.0008572761322284\n",
            "Epoch 25, Batch 120 loss: 0.0002600147498015\n",
            "Epoch 26, Batch 20 loss: 0.0003805797778114\n",
            "Epoch 26, Batch 40 loss: 0.0002701112833165\n",
            "Epoch 26, Batch 60 loss: 0.0003437508416027\n",
            "Epoch 26, Batch 80 loss: 0.0002722126633671\n",
            "Epoch 26, Batch 100 loss: 0.0010842582098121\n",
            "Epoch 26, Batch 120 loss: 0.0003484390665108\n",
            "Epoch 27, Batch 20 loss: 0.0003552377178494\n",
            "Epoch 27, Batch 40 loss: 0.0002026761227171\n",
            "Epoch 27, Batch 60 loss: 0.0003298738229205\n",
            "Epoch 27, Batch 80 loss: 0.0003317699483887\n",
            "Epoch 27, Batch 100 loss: 0.0005442007422971\n",
            "Epoch 27, Batch 120 loss: 0.0004466166021302\n",
            "Epoch 28, Batch 20 loss: 0.0002643195988639\n",
            "Epoch 28, Batch 40 loss: 0.0002648587998920\n",
            "Epoch 28, Batch 60 loss: 0.0002334731600058\n",
            "Epoch 28, Batch 80 loss: 0.0002515888721973\n",
            "Epoch 28, Batch 100 loss: 0.0003159894065902\n",
            "Epoch 28, Batch 120 loss: 0.0004123675093979\n",
            "Epoch 29, Batch 20 loss: 0.0003878170922690\n",
            "Epoch 29, Batch 40 loss: 0.0002576895836683\n",
            "Epoch 29, Batch 60 loss: 0.0003645875300208\n",
            "Epoch 29, Batch 80 loss: 0.0003668374705740\n",
            "Epoch 29, Batch 100 loss: 0.0002458661336277\n",
            "Epoch 29, Batch 120 loss: 0.0003332822463562\n",
            "Epoch 30, Batch 20 loss: 0.0002924597456513\n",
            "Epoch 30, Batch 40 loss: 0.0001811333895603\n",
            "Epoch 30, Batch 60 loss: 0.0003551024648914\n",
            "Epoch 30, Batch 80 loss: 0.0002242367611871\n",
            "Epoch 30, Batch 100 loss: 0.0001844357137088\n",
            "Epoch 30, Batch 120 loss: 0.0002840607683538\n",
            "Epoch 31, Batch 20 loss: 0.0003439225787588\n",
            "Epoch 31, Batch 40 loss: 0.0006424893190342\n",
            "Epoch 31, Batch 60 loss: 0.0002945799043118\n",
            "Epoch 31, Batch 80 loss: 0.0003878389503370\n",
            "Epoch 31, Batch 100 loss: 0.0003114764742350\n",
            "Epoch 31, Batch 120 loss: 0.0004319880590629\n",
            "Epoch 32, Batch 20 loss: 0.0002892169679399\n",
            "Epoch 32, Batch 40 loss: 0.0002182535114116\n",
            "Epoch 32, Batch 60 loss: 0.0002555449679676\n",
            "Epoch 32, Batch 80 loss: 0.0002861349306841\n",
            "Epoch 32, Batch 100 loss: 0.0002686649950192\n",
            "Epoch 32, Batch 120 loss: 0.0003084395464612\n",
            "Epoch 33, Batch 20 loss: 0.0002639513309987\n",
            "Epoch 33, Batch 40 loss: 0.0005640050179863\n",
            "Epoch 33, Batch 60 loss: 0.0003514112964695\n",
            "Epoch 33, Batch 80 loss: 0.0002309252977284\n",
            "Epoch 33, Batch 100 loss: 0.0002067754590826\n",
            "Epoch 33, Batch 120 loss: 0.0001843096617449\n",
            "Epoch 34, Batch 20 loss: 0.0002397508758804\n",
            "Epoch 34, Batch 40 loss: 0.0001698510022834\n",
            "Epoch 34, Batch 60 loss: 0.0001627089599424\n",
            "Epoch 34, Batch 80 loss: 0.0002517825791074\n",
            "Epoch 34, Batch 100 loss: 0.0002152958697479\n",
            "Epoch 34, Batch 120 loss: 0.0002065583070362\n",
            "Epoch 35, Batch 20 loss: 0.0002471068764862\n",
            "Epoch 35, Batch 40 loss: 0.0001870393073659\n",
            "Epoch 35, Batch 60 loss: 0.0002383995062701\n",
            "Epoch 35, Batch 80 loss: 0.0005031623697505\n",
            "Epoch 35, Batch 100 loss: 0.0003066830977332\n",
            "Epoch 35, Batch 120 loss: 0.0002248590921226\n",
            "Epoch 36, Batch 20 loss: 0.0001709644295261\n",
            "Epoch 36, Batch 40 loss: 0.0002414096332359\n",
            "Epoch 36, Batch 60 loss: 0.0003836897658402\n",
            "Epoch 36, Batch 80 loss: 0.0002275952767377\n",
            "Epoch 36, Batch 100 loss: 0.0002617803062094\n",
            "Epoch 36, Batch 120 loss: 0.0002128764695954\n",
            "Epoch 37, Batch 20 loss: 0.0001753234488206\n",
            "Epoch 37, Batch 40 loss: 0.0003045557825317\n",
            "Epoch 37, Batch 60 loss: 0.0001654089648582\n",
            "Epoch 37, Batch 80 loss: 0.0003515350903399\n",
            "Epoch 37, Batch 100 loss: 0.0002659444571691\n",
            "Epoch 37, Batch 120 loss: 0.0002578359461040\n",
            "Epoch 38, Batch 20 loss: 0.0005544557057874\n",
            "Epoch 38, Batch 40 loss: 0.0002102221589666\n",
            "Epoch 38, Batch 60 loss: 0.0003474482642559\n",
            "Epoch 38, Batch 80 loss: 0.0001887180724225\n",
            "Epoch 38, Batch 100 loss: 0.0002987385765664\n",
            "Epoch 38, Batch 120 loss: 0.0003013798655957\n",
            "Epoch 39, Batch 20 loss: 0.0001694636272987\n",
            "Epoch 39, Batch 40 loss: 0.0001902870548292\n",
            "Epoch 39, Batch 60 loss: 0.0001863650748419\n",
            "Epoch 39, Batch 80 loss: 0.0002798095703838\n",
            "Epoch 39, Batch 100 loss: 0.0003248459219321\n",
            "Epoch 39, Batch 120 loss: 0.0001882126221972\n",
            "Epoch 40, Batch 20 loss: 0.0001811170168367\n",
            "Epoch 40, Batch 40 loss: 0.0001303395816649\n",
            "Epoch 40, Batch 60 loss: 0.0003930377519282\n",
            "Epoch 40, Batch 80 loss: 0.0002902135555814\n",
            "Epoch 40, Batch 100 loss: 0.0003650538375950\n",
            "Epoch 40, Batch 120 loss: 0.0002260300914713\n",
            "Epoch 41, Batch 20 loss: 0.0002741505325503\n",
            "Epoch 41, Batch 40 loss: 0.0002608862382658\n",
            "Epoch 41, Batch 60 loss: 0.0002033493393355\n",
            "Epoch 41, Batch 80 loss: 0.0001995351549340\n",
            "Epoch 41, Batch 100 loss: 0.0002363467416217\n",
            "Epoch 41, Batch 120 loss: 0.0002227722635325\n",
            "Epoch 42, Batch 20 loss: 0.0003876990425852\n",
            "Epoch 42, Batch 40 loss: 0.0002262130670715\n",
            "Epoch 42, Batch 60 loss: 0.0002533200364269\n",
            "Epoch 42, Batch 80 loss: 0.0002058789197690\n",
            "Epoch 42, Batch 100 loss: 0.0002723138219153\n",
            "Epoch 42, Batch 120 loss: 0.0001882458784166\n",
            "Epoch 43, Batch 20 loss: 0.0001985595843507\n",
            "Epoch 43, Batch 40 loss: 0.0005287676617627\n",
            "Epoch 43, Batch 60 loss: 0.0002089874731610\n",
            "Epoch 43, Batch 80 loss: 0.0002077640614516\n",
            "Epoch 43, Batch 100 loss: 0.0003763512839214\n",
            "Epoch 43, Batch 120 loss: 0.0001940689912772\n",
            "Epoch 44, Batch 20 loss: 0.0002578674473625\n",
            "Epoch 44, Batch 40 loss: 0.0001763366688465\n",
            "Epoch 44, Batch 60 loss: 0.0002852195519154\n",
            "Epoch 44, Batch 80 loss: 0.0002320327993402\n",
            "Epoch 44, Batch 100 loss: 0.0001349080563159\n",
            "Epoch 44, Batch 120 loss: 0.0002026192471021\n",
            "Epoch 45, Batch 20 loss: 0.0003026369498912\n",
            "Epoch 45, Batch 40 loss: 0.0002080116495563\n",
            "Epoch 45, Batch 60 loss: 0.0002529570949264\n",
            "Epoch 45, Batch 80 loss: 0.0002152282494535\n",
            "Epoch 45, Batch 100 loss: 0.0005842737586136\n",
            "Epoch 45, Batch 120 loss: 0.0002414618953480\n",
            "Epoch 46, Batch 20 loss: 0.0001710290971459\n",
            "Epoch 46, Batch 40 loss: 0.0002460182211507\n",
            "Epoch 46, Batch 60 loss: 0.0002591050781120\n",
            "Epoch 46, Batch 80 loss: 0.0002513079742130\n",
            "Epoch 46, Batch 100 loss: 0.0001536656456665\n",
            "Epoch 46, Batch 120 loss: 0.0002323118063941\n",
            "Epoch 47, Batch 20 loss: 0.0003158696781611\n",
            "Epoch 47, Batch 40 loss: 0.0002813788420099\n",
            "Epoch 47, Batch 60 loss: 0.0004066330491696\n",
            "Epoch 47, Batch 80 loss: 0.0002686000922949\n",
            "Epoch 47, Batch 100 loss: 0.0002146155809896\n",
            "Epoch 47, Batch 120 loss: 0.0001482694617152\n",
            "Epoch 48, Batch 20 loss: 0.0002454171260979\n",
            "Epoch 48, Batch 40 loss: 0.0002448533221468\n",
            "Epoch 48, Batch 60 loss: 0.0003359123407790\n",
            "Epoch 48, Batch 80 loss: 0.0005143317906004\n",
            "Epoch 48, Batch 100 loss: 0.0002423181782433\n",
            "Epoch 48, Batch 120 loss: 0.0002251456914564\n",
            "Epoch 49, Batch 20 loss: 0.0001744709537888\n",
            "Epoch 49, Batch 40 loss: 0.0001189962853459\n",
            "Epoch 49, Batch 60 loss: 0.0001950234660399\n",
            "Epoch 49, Batch 80 loss: 0.0001877893886558\n",
            "Epoch 49, Batch 100 loss: 0.0001666563686740\n",
            "Epoch 49, Batch 120 loss: 0.0001636605864405\n",
            "Epoch 50, Batch 20 loss: 0.0003090361489740\n",
            "Epoch 50, Batch 40 loss: 0.0001880000032543\n",
            "Epoch 50, Batch 60 loss: 0.0002104184874952\n",
            "Epoch 50, Batch 80 loss: 0.0001538293821795\n",
            "Epoch 50, Batch 100 loss: 0.0001942450933711\n",
            "Epoch 50, Batch 120 loss: 0.0002024103447184\n"
          ]
        }
      ]
    },
    {
      "cell_type": "code",
      "metadata": {
        "id": "CfA7ZjLR1BZP",
        "colab": {
          "base_uri": "https://localhost:8080/",
          "height": 281
        },
        "outputId": "1cb353ba-bbe6-4377-b479-bb10a675f543"
      },
      "source": [
        "plt.plot(train_losses)\n",
        "plt.title(\"Training Loss\")\n",
        "plt.show()"
      ],
      "execution_count": 14,
      "outputs": [
        {
          "output_type": "display_data",
          "data": {
            "image/png": "[encoded data removed]",
            "text/plain": [
              "<Figure size 432x288 with 1 Axes>"
            ]
          },
          "metadata": {
            "needs_background": "light"
          }
        }
      ]
    },
    {
      "cell_type": "markdown",
      "metadata": {
        "id": "ItLyF9dQyJFL"
      },
      "source": [
        "Testing the model"
      ]
    },
    {
      "cell_type": "code",
      "metadata": {
        "id": "gGki98W3SoEW"
      },
      "source": [
        "from sklearn.metrics import precision_score, recall_score, f1_score, accuracy_score"
      ],
      "execution_count": 15,
      "outputs": []
    },
    {
      "cell_type": "code",
      "metadata": {
        "id": "xNavYOynyE6d",
        "colab": {
          "base_uri": "https://localhost:8080/"
        },
        "outputId": "649bf38a-15b2-49d9-afdf-d4d919464521"
      },
      "source": [
        "# The test_model function is from model_testing python file\n",
        "test_loss, class_correct, class_total, labels, predictions = test_model(classes, xception, test_loader, criterion)\n",
        "\n",
        "# Test accuracy for each hieroglyph\n",
        "for i in range(len(classes)):\n",
        "    if class_total[i] > 0:\n",
        "        print('Test Accuracy of %5s: %2d%% (%2d/%2d)' % (classes[i], 100 * class_correct[i] / class_total[i], np.sum(class_correct[i]), np.sum(class_total[i])))\n",
        "    else:\n",
        "        print('Test Accuracy of %5s: N/A (no training examples)' % (classes[i]))\n",
        "\n",
        "# Total Test accuracy\n",
        "print(\"\\nAccuracy: {:.3%}\".format(accuracy_score(labels, predictions)))\n",
        "print(\"\\nPrecision: {:.3%}\".format(precision_score(labels, predictions, average = 'weighted')))\n",
        "print(\"\\nRecall: {:.3%}\".format(recall_score(labels, predictions, average = 'weighted')))\n",
        "print(\"\\nF1-score: {:.3%}\".format(f1_score(labels, predictions, average = 'weighted')))"
      ],
      "execution_count": 16,
      "outputs": [
        {
          "output_type": "stream",
          "name": "stdout",
          "text": [
            "Test Loss: 2.802920\n",
            "\n",
            "Test Accuracy of    D2: 60% ( 3/ 5)\n",
            "Test Accuracy of   D21: 11% ( 4/36)\n",
            "Test Accuracy of   D36: 25% ( 3/12)\n",
            "Test Accuracy of    D4:  0% ( 0/ 8)\n",
            "Test Accuracy of   D46:  9% ( 1/11)\n",
            "Test Accuracy of   D58: 62% ( 5/ 8)\n",
            "Test Accuracy of   E23:  0% ( 0/ 2)\n",
            "Test Accuracy of   E34: 48% (12/25)\n",
            "Test Accuracy of   F31: 50% ( 1/ 2)\n",
            "Test Accuracy of   F35: 100% ( 1/ 1)\n",
            "Test Accuracy of    G1: 85% ( 6/ 7)\n",
            "Test Accuracy of   G17: 28% (11/39)\n",
            "Test Accuracy of   G43: 45% (18/40)\n",
            "Test Accuracy of   I10: 11% ( 1/ 9)\n",
            "Test Accuracy of    I9: 30% ( 9/30)\n",
            "Test Accuracy of   M17: 58% (43/73)\n",
            "Test Accuracy of   M23: 50% ( 4/ 8)\n",
            "Test Accuracy of   N35: 71% (64/90)\n",
            "Test Accuracy of    O1: 75% ( 3/ 4)\n",
            "Test Accuracy of   O34:  0% ( 0/ 4)\n",
            "Test Accuracy of    O4: 33% ( 1/ 3)\n",
            "Test Accuracy of   O49: 66% ( 2/ 3)\n",
            "Test Accuracy of    Q1: 100% ( 4/ 4)\n",
            "Test Accuracy of    Q3: 43% ( 7/16)\n",
            "Test Accuracy of    R4:  0% ( 0/ 1)\n",
            "Test Accuracy of    R8: 28% ( 4/14)\n",
            "Test Accuracy of   S29: 37% (20/53)\n",
            "Test Accuracy of   S34: 50% ( 1/ 2)\n",
            "Test Accuracy of    U7: 100% ( 1/ 1)\n",
            "Test Accuracy of   V13:  6% ( 1/16)\n",
            "Test Accuracy of   V28: 50% ( 4/ 8)\n",
            "Test Accuracy of   V30:  0% ( 0/ 2)\n",
            "Test Accuracy of   V31: 37% (10/27)\n",
            "Test Accuracy of   W11:  0% ( 0/ 1)\n",
            "Test Accuracy of   W24: 25% ( 2/ 8)\n",
            "Test Accuracy of    X1: 51% (24/47)\n",
            "Test Accuracy of    X8:  0% ( 0/ 1)\n",
            "Test Accuracy of    Y1:  0% ( 0/ 1)\n",
            "Test Accuracy of    Y5:  0% ( 0/ 2)\n",
            "Test Accuracy of    Z1: 20% ( 2/10)\n",
            "\n",
            "Accuracy: 42.902%\n",
            "\n",
            "Precision: 59.300%\n",
            "\n",
            "Recall: 42.902%\n",
            "\n",
            "F1-score: 45.738%\n"
          ]
        },
        {
          "output_type": "stream",
          "name": "stderr",
          "text": [
            "/usr/local/lib/python3.7/dist-packages/sklearn/metrics/_classification.py:1308: UndefinedMetricWarning: Precision is ill-defined and being set to 0.0 in labels with no predicted samples. Use `zero_division` parameter to control this behavior.\n",
            "  _warn_prf(average, modifier, msg_start, len(result))\n"
          ]
        }
      ]
    }
  ]
}
