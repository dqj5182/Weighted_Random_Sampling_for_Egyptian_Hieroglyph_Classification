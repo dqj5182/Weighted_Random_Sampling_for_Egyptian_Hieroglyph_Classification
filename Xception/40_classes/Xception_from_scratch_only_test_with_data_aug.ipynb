{
  "nbformat": 4,
  "nbformat_minor": 0,
  "metadata": {
    "colab": {
      "name": "Egyptian_model_with_Xception_from_scratch_only_test_with_data_aug.ipynb",
      "provenance": []
    },
    "kernelspec": {
      "name": "python3",
      "display_name": "Python 3"
    },
    "language_info": {
      "name": "python"
    },
    "accelerator": "GPU"
  },
  "cells": [
    {
      "cell_type": "code",
      "metadata": {
        "colab": {
          "base_uri": "https://localhost:8080/"
        },
        "id": "Po0ZVacIYsP0",
        "outputId": "72d37a05-b6bc-46c9-ed10-ab7af3d1a83e"
      },
      "source": [
        "!pip install timm"
      ],
      "execution_count": 1,
      "outputs": [
        {
          "output_type": "stream",
          "name": "stdout",
          "text": [
            "Requirement already satisfied: timm in /usr/local/lib/python3.7/dist-packages (0.4.12)\n",
            "Requirement already satisfied: torchvision in /usr/local/lib/python3.7/dist-packages (from timm) (0.11.1+cu111)\n",
            "Requirement already satisfied: torch>=1.4 in /usr/local/lib/python3.7/dist-packages (from timm) (1.10.0+cu111)\n",
            "Requirement already satisfied: typing-extensions in /usr/local/lib/python3.7/dist-packages (from torch>=1.4->timm) (3.10.0.2)\n",
            "Requirement already satisfied: numpy in /usr/local/lib/python3.7/dist-packages (from torchvision->timm) (1.19.5)\n",
            "Requirement already satisfied: pillow!=8.3.0,>=5.3.0 in /usr/local/lib/python3.7/dist-packages (from torchvision->timm) (7.1.2)\n"
          ]
        }
      ]
    },
    {
      "cell_type": "code",
      "metadata": {
        "id": "8iEiGSblxJzW"
      },
      "source": [
        "import os, os.path\n",
        "import torch\n",
        "import numpy as np\n",
        "import torch.nn as nn\n",
        "import torch.optim as optim\n",
        "from pathlib import Path\n",
        "from torchvision import datasets, models, transforms\n",
        "import timm\n",
        "\n",
        "# check if CUDA is available\n",
        "train_on_gpu = torch.cuda.is_available()"
      ],
      "execution_count": 2,
      "outputs": []
    },
    {
      "cell_type": "markdown",
      "metadata": {
        "id": "Jd6KU8VMz6J3"
      },
      "source": [
        "Module: Load_data"
      ]
    },
    {
      "cell_type": "code",
      "metadata": {
        "id": "8lWX0BW_w_kC"
      },
      "source": [
        "def load_data(hieroglyph_directory_path, batch_size=20, num_workers=0):\n",
        "    train_dir = os.path.join(hieroglyph_directory_path, 'train/')\n",
        "    test_dir = os.path.join(hieroglyph_directory_path, 'test/')\n",
        "\n",
        "    classes = []\n",
        "\n",
        "    for filename in os.listdir(train_dir):\n",
        "        if filename == '.DS_Store':\n",
        "            pass\n",
        "        else:\n",
        "            classes.append(filename)\n",
        "\n",
        "    classes.sort()\n",
        "\n",
        "    # print(\"Our classes:\", classes)\n",
        "    # print(len(classes))\n",
        "\n",
        "    data_transform_train = transforms.Compose([transforms.ToTensor(),\n",
        "                                                  transforms.Resize((75, 75)),\n",
        "                                                  transforms.Normalize((0.5,), (0.5,))]) \n",
        "\n",
        "    data_transform_test = transforms.Compose([transforms.ToTensor(),\n",
        "                                                  transforms.RandomApply([transforms.RandomHorizontalFlip()]),\n",
        "                                                  transforms.RandomRotation(degrees=(-10, 10)),\n",
        "                                                  transforms.RandomAffine(degrees=0, translate=(.1, .1)),\n",
        "                                                  transforms.RandomApply([transforms.ColorJitter(brightness=(1, 1.2),\n",
        "                                                                                                  contrast=(1, 1.5),\n",
        "                                                                                                  saturation=(1, 1.5),\n",
        "                                                                                                  hue=(0, 0.5))]),\n",
        "                                                  transforms.RandomErasing(p=0.5, scale=(0.05, 0.05), ratio=(0.3, 3.3), value=0,\n",
        "                                                                            inplace=False),\n",
        "                                                  transforms.Resize((75, 75)),\n",
        "                                                  transforms.Normalize((0.5,), (0.5,))])\n",
        "\n",
        "    train_data = datasets.ImageFolder(train_dir, transform=data_transform_train)\n",
        "    test_data = datasets.ImageFolder(test_dir, transform=data_transform_test)\n",
        "\n",
        "    # print('Num training images: ', len(train_data))\n",
        "    # print('Num test images: ', len(test_data))\n",
        "\n",
        "    # prepare data loaders\n",
        "    train_loader = torch.utils.data.DataLoader(train_data, batch_size=batch_size,\n",
        "                                               num_workers=num_workers, shuffle=True)\n",
        "    test_loader = torch.utils.data.DataLoader(test_data, batch_size=batch_size,\n",
        "                                              num_workers=num_workers, shuffle=True)\n",
        "\n",
        "    return train_loader, test_loader, classes"
      ],
      "execution_count": 3,
      "outputs": []
    },
    {
      "cell_type": "markdown",
      "metadata": {
        "id": "K4sXUrPPz7iF"
      },
      "source": [
        "Module: Train_model"
      ]
    },
    {
      "cell_type": "code",
      "metadata": {
        "id": "N2N_rnKLxN5c"
      },
      "source": [
        "def train_model(train_loader, optimizer, conv_net_model, criterion, my_lr_scheduler, n_epochs):\n",
        "    # track training loss over time\n",
        "    losses = []\n",
        "    \n",
        "    for epoch in range(1, n_epochs + 1):\n",
        "\n",
        "        # keep track of training and validation loss\n",
        "        train_loss = 0.0\n",
        "\n",
        "        # model by default is set to train\n",
        "        for batch_i, (data, target) in enumerate(train_loader):\n",
        "            # move tensors to GPU if CUDA is available\n",
        "            if train_on_gpu:\n",
        "                data, target = data.cuda(), target.cuda()\n",
        "            # clear the gradients of all optimized variables\n",
        "            optimizer.zero_grad()\n",
        "            # forward pass: compute predicted outputs by passing inputs to the model\n",
        "            output = conv_net_model(data)\n",
        "            # calculate the batch loss\n",
        "            loss = criterion(output, target)\n",
        "            # backward pass: compute gradient of the loss with respect to model parameters\n",
        "            loss.backward()\n",
        "            # perform a single optimization step (parameter update)\n",
        "            optimizer.step()\n",
        "            # update training loss\n",
        "            train_loss += loss.item()\n",
        "\n",
        "            my_lr_scheduler.step()\n",
        "\n",
        "            if batch_i % 20 == 19:  # print training loss every specified number of mini-batches\n",
        "                print('Epoch %d, Batch %d loss: %.16f' %\n",
        "                    (epoch, batch_i + 1, train_loss / 20))\n",
        "                losses.append(train_loss / 20)\n",
        "                train_loss = 0.0\n",
        "\n",
        "    return conv_net_model, losses"
      ],
      "execution_count": 4,
      "outputs": []
    },
    {
      "cell_type": "markdown",
      "metadata": {
        "id": "-Rrxo5RDz96U"
      },
      "source": [
        "Module: Test_model"
      ]
    },
    {
      "cell_type": "code",
      "metadata": {
        "id": "Ay-HlMJnxU9v"
      },
      "source": [
        "def test_model(classes, conv_net_model, test_loader, criterion):\n",
        "    # track test loss\n",
        "    test_loss = 0.0\n",
        "    class_correct = list(0. for i in range(len(classes)))\n",
        "    class_total = list(0. for i in range(len(classes)))\n",
        "\n",
        "    conv_net_model.eval()  # eval mode\n",
        "\n",
        "    labels = []\n",
        "    predictions = []\n",
        "    # iterate over test data\n",
        "    for data, target in test_loader:\n",
        "        # move tensors to GPU if CUDA is available\n",
        "        if train_on_gpu:\n",
        "            data, target = data.cuda(), target.cuda()\n",
        "        # forward pass: compute predicted outputs by passing inputs to the model\n",
        "        output = conv_net_model(data)\n",
        "\n",
        "        # calculate the batch loss\n",
        "        loss = criterion(output, target)\n",
        "        # update  test loss\n",
        "        test_loss += loss.item() * data.size(0)\n",
        "        # convert output probabilities to predicted class\n",
        "        _, pred = torch.max(output, 1)\n",
        "        # compare predictions to true label\n",
        "        correct_tensor = pred.eq(target.data.view_as(pred))\n",
        "        correct = np.squeeze(correct_tensor.numpy()) if not train_on_gpu else np.squeeze(correct_tensor.cpu().numpy())\n",
        "        # calculate test accuracy for each object class\n",
        "        for i in range(len(target.data)):\n",
        "            label = target.data[i]\n",
        "            class_correct[label] += correct[i].item()\n",
        "            class_total[label] += 1\n",
        "        \n",
        "        # Will be used for calculating Recall, Precision, and F1-score\n",
        "        labels.extend(target.data.view_as(pred).tolist())\n",
        "        predictions.extend(pred.tolist())\n",
        "\n",
        "\n",
        "    # calculate avg test loss\n",
        "    test_loss = test_loss / len(test_loader.dataset)\n",
        "    print('Test Loss: {:.6f}\\n'.format(test_loss))\n",
        "\n",
        "    return test_loss, class_correct, class_total, labels, predictions"
      ],
      "execution_count": 5,
      "outputs": []
    },
    {
      "cell_type": "markdown",
      "metadata": {
        "id": "xHh3PXE80Asa"
      },
      "source": [
        "Check whether CUDA is available (Change runtime type if not)"
      ]
    },
    {
      "cell_type": "code",
      "metadata": {
        "colab": {
          "base_uri": "https://localhost:8080/"
        },
        "id": "Q9TYPQH7x4zw",
        "outputId": "154ff19d-7f43-4620-edf7-c5265240ed13"
      },
      "source": [
        "if not train_on_gpu:\n",
        "    print('CUDA is not available.  Training on CPU ...')\n",
        "else:\n",
        "    print('CUDA is available!  Training on GPU ...')"
      ],
      "execution_count": 6,
      "outputs": [
        {
          "output_type": "stream",
          "name": "stdout",
          "text": [
            "CUDA is available!  Training on GPU ...\n"
          ]
        }
      ]
    },
    {
      "cell_type": "markdown",
      "metadata": {
        "id": "6lYw8EKVx8Q7"
      },
      "source": [
        "Load Hieroglyph Data"
      ]
    },
    {
      "cell_type": "code",
      "metadata": {
        "colab": {
          "base_uri": "https://localhost:8080/"
        },
        "id": "laLvoRy1yewl",
        "outputId": "087428d9-b49b-4eb7-9a4b-86962a7e2800"
      },
      "source": [
        "# Connecting and Mounting to the Google Drive\n",
        "from google.colab import drive\n",
        "drive.mount('/content/drive')"
      ],
      "execution_count": 7,
      "outputs": [
        {
          "output_type": "stream",
          "name": "stdout",
          "text": [
            "Drive already mounted at /content/drive; to attempt to forcibly remount, call drive.mount(\"/content/drive\", force_remount=True).\n"
          ]
        }
      ]
    },
    {
      "cell_type": "code",
      "metadata": {
        "id": "odaoZt9GyfUt"
      },
      "source": [
        "data_dir = '/content/drive/MyDrive/EgyptianHieroglyphDataset_Original/'"
      ],
      "execution_count": 8,
      "outputs": []
    },
    {
      "cell_type": "code",
      "metadata": {
        "colab": {
          "base_uri": "https://localhost:8080/"
        },
        "id": "dF22MAnmyiC1",
        "outputId": "72d8bcd2-f5da-4aea-98d1-868629dfb0bf"
      },
      "source": [
        "hieroglyph_for_train = []\n",
        "file_count_list = []\n",
        "\n",
        "for name in os.listdir('/content/drive/MyDrive/EgyptianHieroglyphDataset_Original/train/'):\n",
        "  path, dirs, files = next(os.walk(\"/content/drive/MyDrive/EgyptianHieroglyphDataset_Original/train/\"+name))\n",
        "  file_count = len(files)\n",
        "  print(name, file_count)\n",
        "  file_count_list.append(file_count)\n",
        "  hieroglyph_for_train.append(name)\n",
        "\n",
        "hieroglyph_dict = dict(zip(hieroglyph_for_train, file_count_list))"
      ],
      "execution_count": 9,
      "outputs": [
        {
          "output_type": "stream",
          "name": "stdout",
          "text": [
            "D4 29\n",
            "D2 19\n",
            "D46 40\n",
            "D36 47\n",
            "D21 146\n",
            "D58 28\n",
            "E34 97\n",
            "E23 8\n",
            "F31 6\n",
            "G1 28\n",
            "F35 2\n",
            "G17 156\n",
            "G43 157\n",
            "I10 32\n",
            "I9 116\n",
            "M23 30\n",
            "M17 291\n",
            "O1 16\n",
            "O34 15\n",
            "N35 358\n",
            "Q3 61\n",
            "O49 10\n",
            "Q1 13\n",
            "O4 11\n",
            "S34 8\n",
            "R4 2\n",
            "R8 53\n",
            "S29 212\n",
            "V13 63\n",
            "V28 28\n",
            "U7 3\n",
            "V30 6\n",
            "W11 4\n",
            "W24 31\n",
            "V31 106\n",
            "Y5 6\n",
            "X8 4\n",
            "Z1 39\n",
            "X1 185\n",
            "Y1 1\n"
          ]
        }
      ]
    },
    {
      "cell_type": "markdown",
      "metadata": {
        "id": "XeQQ7PjZzKd9"
      },
      "source": [
        "Number of images for each hieroglyph "
      ]
    },
    {
      "cell_type": "code",
      "metadata": {
        "colab": {
          "base_uri": "https://localhost:8080/",
          "height": 609
        },
        "id": "W6IzWR2RyjxM",
        "outputId": "43993eff-ec57-45f2-c57b-6640eed1f97a"
      },
      "source": [
        "import matplotlib.pyplot as plt\n",
        "import pandas as pd\n",
        "\n",
        "df = pd.DataFrame({\"Hieroglyph\":hieroglyph_for_train, \"Count\":file_count_list})\n",
        "\n",
        "df_sorted= df.sort_values('Count',ascending=False)\n",
        "\n",
        "plt.figure(figsize=(20,10))\n",
        "# make bar plot with matplotlib\n",
        "plt.bar('Hieroglyph', 'Count',data=df_sorted)"
      ],
      "execution_count": 10,
      "outputs": [
        {
          "output_type": "execute_result",
          "data": {
            "text/plain": [
              "<BarContainer object of 40 artists>"
            ]
          },
          "metadata": {},
          "execution_count": 10
        },
        {
          "output_type": "display_data",
          "data": {
            "image/png": "[encoded data removed]",
            "text/plain": [
              "<Figure size 1440x720 with 1 Axes>"
            ]
          },
          "metadata": {
            "needs_background": "light"
          }
        }
      ]
    },
    {
      "cell_type": "code",
      "metadata": {
        "id": "-3oOm8rSx7tp"
      },
      "source": [
        "# Number of images processed in a single training\n",
        "batch_size = 20\n",
        "num_workers = 0\n",
        "\n",
        "# The load_data function is from hieroglyph_data_preparation python file\n",
        "train_loader, test_loader, classes = load_data(data_dir)"
      ],
      "execution_count": 11,
      "outputs": []
    },
    {
      "cell_type": "markdown",
      "metadata": {
        "id": "BJm8sGiBx_q5"
      },
      "source": [
        "ResNet Model"
      ]
    },
    {
      "cell_type": "code",
      "metadata": {
        "id": "JkLXVJGkxemC"
      },
      "source": [
        "# Whether to extract features with the model\n",
        "feature_extract = False\n",
        "# Other selections\n",
        "loss_function = \"cross-entropy\"\n",
        "model_selection = \"xception\"\n",
        "optim_selection = \"Adam\"\n",
        "\n",
        "# False if you want scratch model, True if you want pretrained model\n",
        "whether_to_pretrain = False\n",
        "\n",
        "# Load the model\n",
        "if model_selection == \"resnet-50\":\n",
        "    resnet50 = models.resnet50(pretrained=whether_to_pretrain)\n",
        "    # Number of features in the last layer of resnet\n",
        "    n_inputs = resnet50.fc.in_features\n",
        "    # Add last linear layer (n_inputs -> 40 hieroglyph classes)\n",
        "    last_layer = nn.Sequential(\n",
        "                    nn.Linear(n_inputs, len(classes)))\n",
        "    resnet50.fc = last_layer\n",
        "    if train_on_gpu:\n",
        "      resnet50.cuda()\n",
        "    # Specify optimizer (Adam) and learning rate = 0.001\n",
        "    if optim_selection == \"Adam\":\n",
        "        optimizer = optim.Adam(resnet50.parameters(), lr=0.001)\n",
        "\n",
        "elif model_selection == \"inception-v3\":\n",
        "    inception_v3 = models.inception_v3(pretrained=whether_to_pretrain)\n",
        "    # Number of features in the last layer of resnet\n",
        "    n_inputs = inception_v3.fc.in_features\n",
        "    # Add last linear layer (n_inputs -> 40 hieroglyph classes)\n",
        "    last_layer = nn.Sequential(\n",
        "                    nn.Linear(n_inputs, len(classes)))\n",
        "    inception_v3.fc = last_layer\n",
        "    if train_on_gpu:\n",
        "      inception_v3.cuda()\n",
        "    # Specify optimizer (Adam) and learning rate = 0.001\n",
        "    if optim_selection == \"Adam\":\n",
        "        optimizer = optim.Adam(inception_v3.parameters(), lr=0.001)\n",
        "\n",
        "elif model_selection == \"xception\":\n",
        "    xception = timm.create_model('xception', pretrained=whether_to_pretrain)\n",
        "    # Number of features in the last layer of resnet\n",
        "    n_inputs = xception.fc.in_features\n",
        "    # Add last linear layer (n_inputs -> 40 hieroglyph classes)\n",
        "    last_layer = nn.Sequential(\n",
        "                    nn.Linear(n_inputs, len(classes)))\n",
        "    xception.fc = last_layer\n",
        "    if train_on_gpu:\n",
        "      xception.cuda()\n",
        "    # Specify optimizer (Adam) and learning rate = 0.001\n",
        "    if optim_selection == \"Adam\":\n",
        "        optimizer = optim.Adam(xception.parameters(), lr=0.001)\n",
        "\n",
        "# Specify loss function (categorical cross-entropy)\n",
        "if loss_function == \"cross-entropy\":\n",
        "    criterion = nn.CrossEntropyLoss()\n",
        "\n",
        "# Exponential Decay to strengthen learning\n",
        "decayRate = 0.999\n",
        "my_lr_scheduler = torch.optim.lr_scheduler.ExponentialLR(optimizer=optimizer, gamma=decayRate)"
      ],
      "execution_count": 12,
      "outputs": []
    },
    {
      "cell_type": "markdown",
      "metadata": {
        "id": "U2vnErB1yHmM"
      },
      "source": [
        "Training the model"
      ]
    },
    {
      "cell_type": "code",
      "metadata": {
        "colab": {
          "base_uri": "https://localhost:8080/"
        },
        "id": "dOB03noWyEvQ",
        "outputId": "59a5c55d-4222-4d7f-d078-af25a91291b7"
      },
      "source": [
        "# number of epochs to train the model\n",
        "n_epochs = 50\n",
        "\n",
        "if model_selection == \"resnet-50\":\n",
        "  # The train_model function is from model_training python file\n",
        "  resnet50, train_losses = train_model(train_loader, optimizer, resnet50, criterion, my_lr_scheduler, n_epochs)\n",
        "elif model_selection == \"inception-v3\":\n",
        "  # The train_model function is from model_training python file\n",
        "  inception_v3, train_losses = train_model(train_loader, optimizer, inception_v3, criterion, my_lr_scheduler, n_epochs)\n",
        "elif model_selection == \"xception\":\n",
        "  # The train_model function is from model_training python file\n",
        "  xception, train_losses = train_model(train_loader, optimizer, xception, criterion, my_lr_scheduler, n_epochs)"
      ],
      "execution_count": 13,
      "outputs": [
        {
          "output_type": "stream",
          "name": "stdout",
          "text": [
            "Epoch 1, Batch 20 loss: 2.3355473935604096\n",
            "Epoch 1, Batch 40 loss: 1.4478117972612381\n",
            "Epoch 1, Batch 60 loss: 0.8731333419680596\n",
            "Epoch 1, Batch 80 loss: 0.7128203369677066\n",
            "Epoch 1, Batch 100 loss: 0.6596039526164532\n",
            "Epoch 1, Batch 120 loss: 0.6312897495925427\n",
            "Epoch 2, Batch 20 loss: 0.5730644006282091\n",
            "Epoch 2, Batch 40 loss: 0.3487930204719305\n",
            "Epoch 2, Batch 60 loss: 0.3997931048274040\n",
            "Epoch 2, Batch 80 loss: 0.3967630468308926\n",
            "Epoch 2, Batch 100 loss: 0.2627795951440930\n",
            "Epoch 2, Batch 120 loss: 0.2910519640892744\n",
            "Epoch 3, Batch 20 loss: 0.2590019395574927\n",
            "Epoch 3, Batch 40 loss: 0.1966686159372330\n",
            "Epoch 3, Batch 60 loss: 0.1822174769826233\n",
            "Epoch 3, Batch 80 loss: 0.2101776273921132\n",
            "Epoch 3, Batch 100 loss: 0.1990408739075065\n",
            "Epoch 3, Batch 120 loss: 0.2209163572639227\n",
            "Epoch 4, Batch 20 loss: 0.2370244164019823\n",
            "Epoch 4, Batch 40 loss: 0.1451987903565168\n",
            "Epoch 4, Batch 60 loss: 0.1333784321323037\n",
            "Epoch 4, Batch 80 loss: 0.0954665678553283\n",
            "Epoch 4, Batch 100 loss: 0.1352302919141948\n",
            "Epoch 4, Batch 120 loss: 0.2121254725381732\n",
            "Epoch 5, Batch 20 loss: 0.1664342792239040\n",
            "Epoch 5, Batch 40 loss: 0.0841054895194247\n",
            "Epoch 5, Batch 60 loss: 0.0802368200616911\n",
            "Epoch 5, Batch 80 loss: 0.1095276329200715\n",
            "Epoch 5, Batch 100 loss: 0.1164628816535696\n",
            "Epoch 5, Batch 120 loss: 0.0666243818588555\n",
            "Epoch 6, Batch 20 loss: 0.0328613335965201\n",
            "Epoch 6, Batch 40 loss: 0.0206933208799455\n",
            "Epoch 6, Batch 60 loss: 0.0351511215441860\n",
            "Epoch 6, Batch 80 loss: 0.0312102739873808\n",
            "Epoch 6, Batch 100 loss: 0.0272544218751136\n",
            "Epoch 6, Batch 120 loss: 0.0776619011303410\n",
            "Epoch 7, Batch 20 loss: 0.0476538595859893\n",
            "Epoch 7, Batch 40 loss: 0.0174386459984817\n",
            "Epoch 7, Batch 60 loss: 0.0230006875382969\n",
            "Epoch 7, Batch 80 loss: 0.0139291211031377\n",
            "Epoch 7, Batch 100 loss: 0.0222890482807998\n",
            "Epoch 7, Batch 120 loss: 0.0129016778315417\n",
            "Epoch 8, Batch 20 loss: 0.0394979239921668\n",
            "Epoch 8, Batch 40 loss: 0.0057388340326725\n",
            "Epoch 8, Batch 60 loss: 0.0054404693219112\n",
            "Epoch 8, Batch 80 loss: 0.0017750097191310\n",
            "Epoch 8, Batch 100 loss: 0.0055657613600488\n",
            "Epoch 8, Batch 120 loss: 0.0213973190649995\n",
            "Epoch 9, Batch 20 loss: 0.0022497376106912\n",
            "Epoch 9, Batch 40 loss: 0.0037574836052954\n",
            "Epoch 9, Batch 60 loss: 0.0250104961291072\n",
            "Epoch 9, Batch 80 loss: 0.0132474357844330\n",
            "Epoch 9, Batch 100 loss: 0.0083041516045341\n",
            "Epoch 9, Batch 120 loss: 0.0057855966224452\n",
            "Epoch 10, Batch 20 loss: 0.0020517106691841\n",
            "Epoch 10, Batch 40 loss: 0.0016916409498663\n",
            "Epoch 10, Batch 60 loss: 0.0036178161550197\n",
            "Epoch 10, Batch 80 loss: 0.0017524466937175\n",
            "Epoch 10, Batch 100 loss: 0.0011465802599560\n",
            "Epoch 10, Batch 120 loss: 0.0110396615884383\n",
            "Epoch 11, Batch 20 loss: 0.0055855981438071\n",
            "Epoch 11, Batch 40 loss: 0.0020040437746502\n",
            "Epoch 11, Batch 60 loss: 0.0014155865472276\n",
            "Epoch 11, Batch 80 loss: 0.0009910001987009\n",
            "Epoch 11, Batch 100 loss: 0.0006102244333306\n",
            "Epoch 11, Batch 120 loss: 0.0007279388832103\n",
            "Epoch 12, Batch 20 loss: 0.0012253275541298\n",
            "Epoch 12, Batch 40 loss: 0.0005465337097121\n",
            "Epoch 12, Batch 60 loss: 0.0013320948994078\n",
            "Epoch 12, Batch 80 loss: 0.0013831904354447\n",
            "Epoch 12, Batch 100 loss: 0.0012379129479086\n",
            "Epoch 12, Batch 120 loss: 0.0006048427780115\n",
            "Epoch 13, Batch 20 loss: 0.0007159843586123\n",
            "Epoch 13, Batch 40 loss: 0.0011796925431554\n",
            "Epoch 13, Batch 60 loss: 0.0006317465424218\n",
            "Epoch 13, Batch 80 loss: 0.0005047715887486\n",
            "Epoch 13, Batch 100 loss: 0.0019690461558639\n",
            "Epoch 13, Batch 120 loss: 0.0005544331092096\n",
            "Epoch 14, Batch 20 loss: 0.0007804574794136\n",
            "Epoch 14, Batch 40 loss: 0.0006804728567658\n",
            "Epoch 14, Batch 60 loss: 0.0008261395276350\n",
            "Epoch 14, Batch 80 loss: 0.0009810610594286\n",
            "Epoch 14, Batch 100 loss: 0.0007215475719931\n",
            "Epoch 14, Batch 120 loss: 0.0006463055178756\n",
            "Epoch 15, Batch 20 loss: 0.0010784126741783\n",
            "Epoch 15, Batch 40 loss: 0.0011986578276264\n",
            "Epoch 15, Batch 60 loss: 0.0005372062394599\n",
            "Epoch 15, Batch 80 loss: 0.0007297902531718\n",
            "Epoch 15, Batch 100 loss: 0.0004284289152565\n",
            "Epoch 15, Batch 120 loss: 0.0006883178655698\n",
            "Epoch 16, Batch 20 loss: 0.0005601166234555\n",
            "Epoch 16, Batch 40 loss: 0.0005674403542798\n",
            "Epoch 16, Batch 60 loss: 0.0003042504064069\n",
            "Epoch 16, Batch 80 loss: 0.0008543443320377\n",
            "Epoch 16, Batch 100 loss: 0.0004889683477813\n",
            "Epoch 16, Batch 120 loss: 0.0023451538501831\n",
            "Epoch 17, Batch 20 loss: 0.0006190880631038\n",
            "Epoch 17, Batch 40 loss: 0.0008859339075570\n",
            "Epoch 17, Batch 60 loss: 0.0016481250328070\n",
            "Epoch 17, Batch 80 loss: 0.0018661360085389\n",
            "Epoch 17, Batch 100 loss: 0.0007039934374916\n",
            "Epoch 17, Batch 120 loss: 0.0003772507716349\n",
            "Epoch 18, Batch 20 loss: 0.0006226238616364\n",
            "Epoch 18, Batch 40 loss: 0.0005108750414365\n",
            "Epoch 18, Batch 60 loss: 0.0004731344090033\n",
            "Epoch 18, Batch 80 loss: 0.0004143632999330\n",
            "Epoch 18, Batch 100 loss: 0.0005068643940831\n",
            "Epoch 18, Batch 120 loss: 0.0006183321864228\n",
            "Epoch 19, Batch 20 loss: 0.0007875128574597\n",
            "Epoch 19, Batch 40 loss: 0.0004104456533241\n",
            "Epoch 19, Batch 60 loss: 0.0006608230840357\n",
            "Epoch 19, Batch 80 loss: 0.0005436141171231\n",
            "Epoch 19, Batch 100 loss: 0.0004197964794002\n",
            "Epoch 19, Batch 120 loss: 0.0004473827792026\n",
            "Epoch 20, Batch 20 loss: 0.0002687752981728\n",
            "Epoch 20, Batch 40 loss: 0.0002563537560491\n",
            "Epoch 20, Batch 60 loss: 0.0005025597911299\n",
            "Epoch 20, Batch 80 loss: 0.0003643327763712\n",
            "Epoch 20, Batch 100 loss: 0.0007301393732632\n",
            "Epoch 20, Batch 120 loss: 0.0007488728824683\n",
            "Epoch 21, Batch 20 loss: 0.0003946766899389\n",
            "Epoch 21, Batch 40 loss: 0.0003212287308997\n",
            "Epoch 21, Batch 60 loss: 0.0004730512773676\n",
            "Epoch 21, Batch 80 loss: 0.0002912219795689\n",
            "Epoch 21, Batch 100 loss: 0.0002778517722618\n",
            "Epoch 21, Batch 120 loss: 0.0003538885532180\n",
            "Epoch 22, Batch 20 loss: 0.0002863956560759\n",
            "Epoch 22, Batch 40 loss: 0.0004123549333599\n",
            "Epoch 22, Batch 60 loss: 0.0003279673306679\n",
            "Epoch 22, Batch 80 loss: 0.0003802287041253\n",
            "Epoch 22, Batch 100 loss: 0.0002286322131113\n",
            "Epoch 22, Batch 120 loss: 0.0002291088101629\n",
            "Epoch 23, Batch 20 loss: 0.0002318369035493\n",
            "Epoch 23, Batch 40 loss: 0.0002675217005162\n",
            "Epoch 23, Batch 60 loss: 0.0002163915954952\n",
            "Epoch 23, Batch 80 loss: 0.0003176785892720\n",
            "Epoch 23, Batch 100 loss: 0.0003447312834396\n",
            "Epoch 23, Batch 120 loss: 0.0003014255522430\n",
            "Epoch 24, Batch 20 loss: 0.0002293751829711\n",
            "Epoch 24, Batch 40 loss: 0.0001559404125146\n",
            "Epoch 24, Batch 60 loss: 0.0001491557246482\n",
            "Epoch 24, Batch 80 loss: 0.0003593982153689\n",
            "Epoch 24, Batch 100 loss: 0.0002686145675398\n",
            "Epoch 24, Batch 120 loss: 0.0002989011336467\n",
            "Epoch 25, Batch 20 loss: 0.0002467993408573\n",
            "Epoch 25, Batch 40 loss: 0.0003944408883399\n",
            "Epoch 25, Batch 60 loss: 0.0003295843120213\n",
            "Epoch 25, Batch 80 loss: 0.0002238246748675\n",
            "Epoch 25, Batch 100 loss: 0.0003886074777256\n",
            "Epoch 25, Batch 120 loss: 0.0004468747376450\n",
            "Epoch 26, Batch 20 loss: 0.0002416905141217\n",
            "Epoch 26, Batch 40 loss: 0.0005919909777731\n",
            "Epoch 26, Batch 60 loss: 0.0002862850284146\n",
            "Epoch 26, Batch 80 loss: 0.0002989865281052\n",
            "Epoch 26, Batch 100 loss: 0.0002311562093382\n",
            "Epoch 26, Batch 120 loss: 0.0002434245054246\n",
            "Epoch 27, Batch 20 loss: 0.0003195788707671\n",
            "Epoch 27, Batch 40 loss: 0.0002938473242466\n",
            "Epoch 27, Batch 60 loss: 0.0002483100477548\n",
            "Epoch 27, Batch 80 loss: 0.0002969258181110\n",
            "Epoch 27, Batch 100 loss: 0.0001633694862903\n",
            "Epoch 27, Batch 120 loss: 0.0002496738459740\n",
            "Epoch 28, Batch 20 loss: 0.0002243530768283\n",
            "Epoch 28, Batch 40 loss: 0.0003037244337975\n",
            "Epoch 28, Batch 60 loss: 0.0003245940863053\n",
            "Epoch 28, Batch 80 loss: 0.0001653697174334\n",
            "Epoch 28, Batch 100 loss: 0.0003479317883830\n",
            "Epoch 28, Batch 120 loss: 0.0002792022341964\n",
            "Epoch 29, Batch 20 loss: 0.0001985578463064\n",
            "Epoch 29, Batch 40 loss: 0.0001466411835281\n",
            "Epoch 29, Batch 60 loss: 0.0001770809649315\n",
            "Epoch 29, Batch 80 loss: 0.0002234979350760\n",
            "Epoch 29, Batch 100 loss: 0.0004188897218228\n",
            "Epoch 29, Batch 120 loss: 0.0001779308391633\n",
            "Epoch 30, Batch 20 loss: 0.0001605799403478\n",
            "Epoch 30, Batch 40 loss: 0.0002657749844730\n",
            "Epoch 30, Batch 60 loss: 0.0003477745332930\n",
            "Epoch 30, Batch 80 loss: 0.0005027823091950\n",
            "Epoch 30, Batch 100 loss: 0.0006017935926138\n",
            "Epoch 30, Batch 120 loss: 0.0001970057843209\n",
            "Epoch 31, Batch 20 loss: 0.0002700865456973\n",
            "Epoch 31, Batch 40 loss: 0.0002099438690493\n",
            "Epoch 31, Batch 60 loss: 0.0002649310705237\n",
            "Epoch 31, Batch 80 loss: 0.0001913937296194\n",
            "Epoch 31, Batch 100 loss: 0.0002604245149996\n",
            "Epoch 31, Batch 120 loss: 0.0002201295134000\n",
            "Epoch 32, Batch 20 loss: 0.0003223179646739\n",
            "Epoch 32, Batch 40 loss: 0.0001734104105708\n",
            "Epoch 32, Batch 60 loss: 0.0001330370118922\n",
            "Epoch 32, Batch 80 loss: 0.0002287701076057\n",
            "Epoch 32, Batch 100 loss: 0.0002029086337643\n",
            "Epoch 32, Batch 120 loss: 0.0003072404342674\n",
            "Epoch 33, Batch 20 loss: 0.0003040779165531\n",
            "Epoch 33, Batch 40 loss: 0.0003640694546448\n",
            "Epoch 33, Batch 60 loss: 0.0004336346466516\n",
            "Epoch 33, Batch 80 loss: 0.0002284436428454\n",
            "Epoch 33, Batch 100 loss: 0.0001266409296477\n",
            "Epoch 33, Batch 120 loss: 0.0003079270280068\n",
            "Epoch 34, Batch 20 loss: 0.0002356303057240\n",
            "Epoch 34, Batch 40 loss: 0.0002730300740041\n",
            "Epoch 34, Batch 60 loss: 0.0002760842120551\n",
            "Epoch 34, Batch 80 loss: 0.0002675366071344\n",
            "Epoch 34, Batch 100 loss: 0.0002626552073707\n",
            "Epoch 34, Batch 120 loss: 0.0005230075079453\n",
            "Epoch 35, Batch 20 loss: 0.0001643240606427\n",
            "Epoch 35, Batch 40 loss: 0.0001875112354355\n",
            "Epoch 35, Batch 60 loss: 0.0002870539759897\n",
            "Epoch 35, Batch 80 loss: 0.0002589805077150\n",
            "Epoch 35, Batch 100 loss: 0.0001834118796978\n",
            "Epoch 35, Batch 120 loss: 0.0001911694478622\n",
            "Epoch 36, Batch 20 loss: 0.0001924717431393\n",
            "Epoch 36, Batch 40 loss: 0.0003250092533563\n",
            "Epoch 36, Batch 60 loss: 0.0002293817195095\n",
            "Epoch 36, Batch 80 loss: 0.0002470532261214\n",
            "Epoch 36, Batch 100 loss: 0.0001828646554713\n",
            "Epoch 36, Batch 120 loss: 0.0001941209928191\n",
            "Epoch 37, Batch 20 loss: 0.0001713318932161\n",
            "Epoch 37, Batch 40 loss: 0.0005924788518314\n",
            "Epoch 37, Batch 60 loss: 0.0002238222959932\n",
            "Epoch 37, Batch 80 loss: 0.0003282125910118\n",
            "Epoch 37, Batch 100 loss: 0.0003472837735899\n",
            "Epoch 37, Batch 120 loss: 0.0002698158225940\n",
            "Epoch 38, Batch 20 loss: 0.0002156729060516\n",
            "Epoch 38, Batch 40 loss: 0.0002593265599899\n",
            "Epoch 38, Batch 60 loss: 0.0002318609565918\n",
            "Epoch 38, Batch 80 loss: 0.0002990561926708\n",
            "Epoch 38, Batch 100 loss: 0.0002042420592261\n",
            "Epoch 38, Batch 120 loss: 0.0002329062577701\n",
            "Epoch 39, Batch 20 loss: 0.0001902983182845\n",
            "Epoch 39, Batch 40 loss: 0.0001853470525020\n",
            "Epoch 39, Batch 60 loss: 0.0002198413050792\n",
            "Epoch 39, Batch 80 loss: 0.0002109332051987\n",
            "Epoch 39, Batch 100 loss: 0.0001558618958370\n",
            "Epoch 39, Batch 120 loss: 0.0002127789315637\n",
            "Epoch 40, Batch 20 loss: 0.0003399493634788\n",
            "Epoch 40, Batch 40 loss: 0.0003350185341333\n",
            "Epoch 40, Batch 60 loss: 0.0001915338294566\n",
            "Epoch 40, Batch 80 loss: 0.0002861160888642\n",
            "Epoch 40, Batch 100 loss: 0.0001760991020092\n",
            "Epoch 40, Batch 120 loss: 0.0002195804216171\n",
            "Epoch 41, Batch 20 loss: 0.0001991715700569\n",
            "Epoch 41, Batch 40 loss: 0.0001990152883991\n",
            "Epoch 41, Batch 60 loss: 0.0002402986113339\n",
            "Epoch 41, Batch 80 loss: 0.0002435394977510\n",
            "Epoch 41, Batch 100 loss: 0.0002078674820041\n",
            "Epoch 41, Batch 120 loss: 0.0002142889549759\n",
            "Epoch 42, Batch 20 loss: 0.0002772402702249\n",
            "Epoch 42, Batch 40 loss: 0.0002396212143140\n",
            "Epoch 42, Batch 60 loss: 0.0001736682026603\n",
            "Epoch 42, Batch 80 loss: 0.0001735695925163\n",
            "Epoch 42, Batch 100 loss: 0.0002889543782658\n",
            "Epoch 42, Batch 120 loss: 0.0001859392130427\n",
            "Epoch 43, Batch 20 loss: 0.0003381410710062\n",
            "Epoch 43, Batch 40 loss: 0.0001347797415292\n",
            "Epoch 43, Batch 60 loss: 0.0002675418661966\n",
            "Epoch 43, Batch 80 loss: 0.0001971905770006\n",
            "Epoch 43, Batch 100 loss: 0.0003846281580081\n",
            "Epoch 43, Batch 120 loss: 0.0002751356985755\n",
            "Epoch 44, Batch 20 loss: 0.0003513599891448\n",
            "Epoch 44, Batch 40 loss: 0.0001958142112926\n",
            "Epoch 44, Batch 60 loss: 0.0001889543937068\n",
            "Epoch 44, Batch 80 loss: 0.0002572721506112\n",
            "Epoch 44, Batch 100 loss: 0.0001704195040475\n",
            "Epoch 44, Batch 120 loss: 0.0001638532663492\n",
            "Epoch 45, Batch 20 loss: 0.0001903866123030\n",
            "Epoch 45, Batch 40 loss: 0.0002172880707803\n",
            "Epoch 45, Batch 60 loss: 0.0003421001903916\n",
            "Epoch 45, Batch 80 loss: 0.0004420746896358\n",
            "Epoch 45, Batch 100 loss: 0.0002106414218360\n",
            "Epoch 45, Batch 120 loss: 0.0003142731497974\n",
            "Epoch 46, Batch 20 loss: 0.0001656799238845\n",
            "Epoch 46, Batch 40 loss: 0.0001735674787597\n",
            "Epoch 46, Batch 60 loss: 0.0003252972803239\n",
            "Epoch 46, Batch 80 loss: 0.0002155469055651\n",
            "Epoch 46, Batch 100 loss: 0.0002320698007679\n",
            "Epoch 46, Batch 120 loss: 0.0001803859015126\n",
            "Epoch 47, Batch 20 loss: 0.0004147007410211\n",
            "Epoch 47, Batch 40 loss: 0.0001604476379725\n",
            "Epoch 47, Batch 60 loss: 0.0002111569119734\n",
            "Epoch 47, Batch 80 loss: 0.0001198847278829\n",
            "Epoch 47, Batch 100 loss: 0.0002474924658600\n",
            "Epoch 47, Batch 120 loss: 0.0002191962889810\n",
            "Epoch 48, Batch 20 loss: 0.0004300548388528\n",
            "Epoch 48, Batch 40 loss: 0.0001686528761638\n",
            "Epoch 48, Batch 60 loss: 0.0001547031584778\n",
            "Epoch 48, Batch 80 loss: 0.0002642955703777\n",
            "Epoch 48, Batch 100 loss: 0.0002609642705465\n",
            "Epoch 48, Batch 120 loss: 0.0001606409006854\n",
            "Epoch 49, Batch 20 loss: 0.0001907793526698\n",
            "Epoch 49, Batch 40 loss: 0.0002031993784840\n",
            "Epoch 49, Batch 60 loss: 0.0002214528421973\n",
            "Epoch 49, Batch 80 loss: 0.0002730398140557\n",
            "Epoch 49, Batch 100 loss: 0.0001462322599764\n",
            "Epoch 49, Batch 120 loss: 0.0003055094874071\n",
            "Epoch 50, Batch 20 loss: 0.0001905324510517\n",
            "Epoch 50, Batch 40 loss: 0.0003246047173889\n",
            "Epoch 50, Batch 60 loss: 0.0004168774004938\n",
            "Epoch 50, Batch 80 loss: 0.0002324101819795\n",
            "Epoch 50, Batch 100 loss: 0.0001968650449271\n",
            "Epoch 50, Batch 120 loss: 0.0004085468683115\n"
          ]
        }
      ]
    },
    {
      "cell_type": "code",
      "metadata": {
        "id": "CfA7ZjLR1BZP",
        "colab": {
          "base_uri": "https://localhost:8080/",
          "height": 281
        },
        "outputId": "063a2d5a-9212-413d-e2e6-3ee35dd1fdf5"
      },
      "source": [
        "plt.plot(train_losses)\n",
        "plt.title(\"Training Loss\")\n",
        "plt.show()"
      ],
      "execution_count": 14,
      "outputs": [
        {
          "output_type": "display_data",
          "data": {
            "image/png": "[encoded data removed]",
            "text/plain": [
              "<Figure size 432x288 with 1 Axes>"
            ]
          },
          "metadata": {
            "needs_background": "light"
          }
        }
      ]
    },
    {
      "cell_type": "markdown",
      "metadata": {
        "id": "ItLyF9dQyJFL"
      },
      "source": [
        "Testing the model"
      ]
    },
    {
      "cell_type": "code",
      "metadata": {
        "id": "gGki98W3SoEW"
      },
      "source": [
        "from sklearn.metrics import precision_score, recall_score, f1_score, accuracy_score"
      ],
      "execution_count": 15,
      "outputs": []
    },
    {
      "cell_type": "code",
      "metadata": {
        "id": "xNavYOynyE6d",
        "colab": {
          "base_uri": "https://localhost:8080/"
        },
        "outputId": "40373246-0201-49fc-dee6-70fef70e9429"
      },
      "source": [
        "# The test_model function is from model_testing python file\n",
        "test_loss, class_correct, class_total, labels, predictions = test_model(classes, xception, test_loader, criterion)\n",
        "\n",
        "# Test accuracy for each hieroglyph\n",
        "for i in range(len(classes)):\n",
        "    if class_total[i] > 0:\n",
        "        print('Test Accuracy of %5s: %2d%% (%2d/%2d)' % (classes[i], 100 * class_correct[i] / class_total[i], np.sum(class_correct[i]), np.sum(class_total[i])))\n",
        "    else:\n",
        "        print('Test Accuracy of %5s: N/A (no training examples)' % (classes[i]))\n",
        "\n",
        "# Total Test accuracy\n",
        "print(\"\\nAccuracy: {:.3%}\".format(accuracy_score(labels, predictions)))\n",
        "print(\"\\nPrecision: {:.3%}\".format(precision_score(labels, predictions, average = 'weighted')))\n",
        "print(\"\\nRecall: {:.3%}\".format(recall_score(labels, predictions, average = 'weighted')))\n",
        "print(\"\\nF1-score: {:.3%}\".format(f1_score(labels, predictions, average = 'weighted')))"
      ],
      "execution_count": 16,
      "outputs": [
        {
          "output_type": "stream",
          "name": "stdout",
          "text": [
            "Test Loss: 2.718547\n",
            "\n",
            "Test Accuracy of    D2: 40% ( 2/ 5)\n",
            "Test Accuracy of   D21: 35% (13/37)\n",
            "Test Accuracy of   D36: 50% ( 6/12)\n",
            "Test Accuracy of    D4:  0% ( 0/ 8)\n",
            "Test Accuracy of   D46: 40% ( 4/10)\n",
            "Test Accuracy of   D58: 75% ( 6/ 8)\n",
            "Test Accuracy of   E23:  0% ( 0/ 2)\n",
            "Test Accuracy of   E34: 40% (10/25)\n",
            "Test Accuracy of   F31: 100% ( 2/ 2)\n",
            "Test Accuracy of   F35:  0% ( 0/ 1)\n",
            "Test Accuracy of    G1: 14% ( 1/ 7)\n",
            "Test Accuracy of   G17: 46% (18/39)\n",
            "Test Accuracy of   G43: 47% (19/40)\n",
            "Test Accuracy of   I10: 33% ( 3/ 9)\n",
            "Test Accuracy of    I9: 33% (10/30)\n",
            "Test Accuracy of   M17: 64% (47/73)\n",
            "Test Accuracy of   M23: 25% ( 2/ 8)\n",
            "Test Accuracy of   N35: 72% (65/90)\n",
            "Test Accuracy of    O1: 50% ( 2/ 4)\n",
            "Test Accuracy of   O34:  0% ( 0/ 4)\n",
            "Test Accuracy of    O4: 66% ( 2/ 3)\n",
            "Test Accuracy of   O49: 33% ( 1/ 3)\n",
            "Test Accuracy of    Q1: 75% ( 3/ 4)\n",
            "Test Accuracy of    Q3: 18% ( 3/16)\n",
            "Test Accuracy of    R4: 100% ( 1/ 1)\n",
            "Test Accuracy of    R8: 50% ( 7/14)\n",
            "Test Accuracy of   S29: 33% (18/53)\n",
            "Test Accuracy of   S34: 50% ( 1/ 2)\n",
            "Test Accuracy of    U7: 100% ( 1/ 1)\n",
            "Test Accuracy of   V13: 37% ( 6/16)\n",
            "Test Accuracy of   V28: 62% ( 5/ 8)\n",
            "Test Accuracy of   V30:  0% ( 0/ 2)\n",
            "Test Accuracy of   V31: 37% (10/27)\n",
            "Test Accuracy of   W11:  0% ( 0/ 1)\n",
            "Test Accuracy of   W24: 25% ( 2/ 8)\n",
            "Test Accuracy of    X1: 40% (19/47)\n",
            "Test Accuracy of    X8:  0% ( 0/ 2)\n",
            "Test Accuracy of    Y1:  0% ( 0/ 1)\n",
            "Test Accuracy of    Y5: 50% ( 1/ 2)\n",
            "Test Accuracy of    Z1: 60% ( 6/10)\n",
            "\n",
            "Accuracy: 46.614%\n",
            "\n",
            "Precision: 61.332%\n",
            "\n",
            "Recall: 46.614%\n",
            "\n",
            "F1-score: 50.437%\n"
          ]
        },
        {
          "output_type": "stream",
          "name": "stderr",
          "text": [
            "/usr/local/lib/python3.7/dist-packages/sklearn/metrics/_classification.py:1308: UndefinedMetricWarning: Precision is ill-defined and being set to 0.0 in labels with no predicted samples. Use `zero_division` parameter to control this behavior.\n",
            "  _warn_prf(average, modifier, msg_start, len(result))\n"
          ]
        }
      ]
    }
  ]
}
