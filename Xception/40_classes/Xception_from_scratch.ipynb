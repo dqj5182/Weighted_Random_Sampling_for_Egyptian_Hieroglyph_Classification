{
  "nbformat": 4,
  "nbformat_minor": 0,
  "metadata": {
    "colab": {
      "name": "Egyptian_model_with_Xception_from_scratch.ipynb",
      "provenance": []
    },
    "kernelspec": {
      "name": "python3",
      "display_name": "Python 3"
    },
    "language_info": {
      "name": "python"
    },
    "accelerator": "GPU"
  },
  "cells": [
    {
      "cell_type": "code",
      "metadata": {
        "colab": {
          "base_uri": "https://localhost:8080/"
        },
        "id": "Po0ZVacIYsP0",
        "outputId": "25639212-b6f1-4548-bacd-27fe22f7df76"
      },
      "source": [
        "!pip install timm"
      ],
      "execution_count": 1,
      "outputs": [
        {
          "output_type": "stream",
          "name": "stdout",
          "text": [
            "Collecting timm\n",
            "  Downloading timm-0.4.12-py3-none-any.whl (376 kB)\n",
            "\u001b[?25l\r\u001b[K     |▉                               | 10 kB 27.0 MB/s eta 0:00:01\r\u001b[K     |█▊                              | 20 kB 29.5 MB/s eta 0:00:01\r\u001b[K     |██▋                             | 30 kB 14.4 MB/s eta 0:00:01\r\u001b[K     |███▌                            | 40 kB 11.2 MB/s eta 0:00:01\r\u001b[K     |████▍                           | 51 kB 5.7 MB/s eta 0:00:01\r\u001b[K     |█████▏                          | 61 kB 5.8 MB/s eta 0:00:01\r\u001b[K     |██████                          | 71 kB 5.5 MB/s eta 0:00:01\r\u001b[K     |███████                         | 81 kB 6.1 MB/s eta 0:00:01\r\u001b[K     |███████▉                        | 92 kB 5.9 MB/s eta 0:00:01\r\u001b[K     |████████▊                       | 102 kB 5.4 MB/s eta 0:00:01\r\u001b[K     |█████████▋                      | 112 kB 5.4 MB/s eta 0:00:01\r\u001b[K     |██████████▍                     | 122 kB 5.4 MB/s eta 0:00:01\r\u001b[K     |███████████▎                    | 133 kB 5.4 MB/s eta 0:00:01\r\u001b[K     |████████████▏                   | 143 kB 5.4 MB/s eta 0:00:01\r\u001b[K     |█████████████                   | 153 kB 5.4 MB/s eta 0:00:01\r\u001b[K     |██████████████                  | 163 kB 5.4 MB/s eta 0:00:01\r\u001b[K     |██████████████▊                 | 174 kB 5.4 MB/s eta 0:00:01\r\u001b[K     |███████████████▋                | 184 kB 5.4 MB/s eta 0:00:01\r\u001b[K     |████████████████▌               | 194 kB 5.4 MB/s eta 0:00:01\r\u001b[K     |█████████████████▍              | 204 kB 5.4 MB/s eta 0:00:01\r\u001b[K     |██████████████████▎             | 215 kB 5.4 MB/s eta 0:00:01\r\u001b[K     |███████████████████▏            | 225 kB 5.4 MB/s eta 0:00:01\r\u001b[K     |████████████████████            | 235 kB 5.4 MB/s eta 0:00:01\r\u001b[K     |████████████████████▉           | 245 kB 5.4 MB/s eta 0:00:01\r\u001b[K     |█████████████████████▊          | 256 kB 5.4 MB/s eta 0:00:01\r\u001b[K     |██████████████████████▋         | 266 kB 5.4 MB/s eta 0:00:01\r\u001b[K     |███████████████████████▌        | 276 kB 5.4 MB/s eta 0:00:01\r\u001b[K     |████████████████████████▍       | 286 kB 5.4 MB/s eta 0:00:01\r\u001b[K     |█████████████████████████▏      | 296 kB 5.4 MB/s eta 0:00:01\r\u001b[K     |██████████████████████████      | 307 kB 5.4 MB/s eta 0:00:01\r\u001b[K     |███████████████████████████     | 317 kB 5.4 MB/s eta 0:00:01\r\u001b[K     |███████████████████████████▉    | 327 kB 5.4 MB/s eta 0:00:01\r\u001b[K     |████████████████████████████▊   | 337 kB 5.4 MB/s eta 0:00:01\r\u001b[K     |█████████████████████████████▌  | 348 kB 5.4 MB/s eta 0:00:01\r\u001b[K     |██████████████████████████████▍ | 358 kB 5.4 MB/s eta 0:00:01\r\u001b[K     |███████████████████████████████▎| 368 kB 5.4 MB/s eta 0:00:01\r\u001b[K     |████████████████████████████████| 376 kB 5.4 MB/s \n",
            "\u001b[?25hRequirement already satisfied: torchvision in /usr/local/lib/python3.7/dist-packages (from timm) (0.11.1+cu111)\n",
            "Requirement already satisfied: torch>=1.4 in /usr/local/lib/python3.7/dist-packages (from timm) (1.10.0+cu111)\n",
            "Requirement already satisfied: typing-extensions in /usr/local/lib/python3.7/dist-packages (from torch>=1.4->timm) (3.10.0.2)\n",
            "Requirement already satisfied: numpy in /usr/local/lib/python3.7/dist-packages (from torchvision->timm) (1.19.5)\n",
            "Requirement already satisfied: pillow!=8.3.0,>=5.3.0 in /usr/local/lib/python3.7/dist-packages (from torchvision->timm) (7.1.2)\n",
            "Installing collected packages: timm\n",
            "Successfully installed timm-0.4.12\n"
          ]
        }
      ]
    },
    {
      "cell_type": "code",
      "metadata": {
        "id": "8iEiGSblxJzW"
      },
      "source": [
        "import os, os.path\n",
        "import torch\n",
        "import numpy as np\n",
        "import torch.nn as nn\n",
        "import torch.optim as optim\n",
        "from pathlib import Path\n",
        "from torchvision import datasets, models, transforms\n",
        "import timm\n",
        "\n",
        "# check if CUDA is available\n",
        "train_on_gpu = torch.cuda.is_available()"
      ],
      "execution_count": 2,
      "outputs": []
    },
    {
      "cell_type": "markdown",
      "metadata": {
        "id": "Jd6KU8VMz6J3"
      },
      "source": [
        "Module: Load_data"
      ]
    },
    {
      "cell_type": "code",
      "metadata": {
        "id": "8lWX0BW_w_kC"
      },
      "source": [
        "def load_data(hieroglyph_directory_path, batch_size=20, num_workers=0):\n",
        "    train_dir = os.path.join(hieroglyph_directory_path, 'train/')\n",
        "    test_dir = os.path.join(hieroglyph_directory_path, 'test/')\n",
        "\n",
        "    classes = []\n",
        "\n",
        "    for filename in os.listdir(train_dir):\n",
        "        if filename == '.DS_Store':\n",
        "            pass\n",
        "        else:\n",
        "            classes.append(filename)\n",
        "\n",
        "    classes.sort()\n",
        "\n",
        "    # print(\"Our classes:\", classes)\n",
        "    # print(len(classes))\n",
        "\n",
        "    data_transform = transforms.Compose([transforms.ToTensor(),\n",
        "                                         transforms.RandomApply([transforms.RandomHorizontalFlip()]),\n",
        "                                         transforms.RandomRotation(degrees=(-10, 10)),\n",
        "                                         transforms.RandomAffine(degrees=0, translate=(.1, .1)),\n",
        "                                         transforms.RandomApply([transforms.ColorJitter(brightness=(1, 1.2),\n",
        "                                                                                        contrast=(1, 1.5),\n",
        "                                                                                        saturation=(1, 1.5),\n",
        "                                                                                        hue=(0, 0.5))]),\n",
        "                                         transforms.RandomErasing(p=0.5, scale=(0.05, 0.05), ratio=(0.3, 3.3), value=0,\n",
        "                                                                  inplace=False),\n",
        "                                         transforms.Resize((75, 75)),\n",
        "                                         transforms.Normalize((0.5,), (0.5,))])\n",
        "\n",
        "    train_data = datasets.ImageFolder(train_dir, transform=data_transform)\n",
        "    test_data = datasets.ImageFolder(test_dir, transform=data_transform)\n",
        "\n",
        "    # print('Num training images: ', len(train_data))\n",
        "    # print('Num test images: ', len(test_data))\n",
        "\n",
        "    # prepare data loaders\n",
        "    train_loader = torch.utils.data.DataLoader(train_data, batch_size=batch_size,\n",
        "                                               num_workers=num_workers, shuffle=True)\n",
        "    test_loader = torch.utils.data.DataLoader(test_data, batch_size=batch_size,\n",
        "                                              num_workers=num_workers, shuffle=True)\n",
        "\n",
        "    return train_loader, test_loader, classes"
      ],
      "execution_count": 3,
      "outputs": []
    },
    {
      "cell_type": "markdown",
      "metadata": {
        "id": "K4sXUrPPz7iF"
      },
      "source": [
        "Module: Train_model"
      ]
    },
    {
      "cell_type": "code",
      "metadata": {
        "id": "N2N_rnKLxN5c"
      },
      "source": [
        "def train_model(train_loader, optimizer, conv_net_model, criterion, my_lr_scheduler, n_epochs):\n",
        "    # track training loss over time\n",
        "    losses = []\n",
        "    \n",
        "    for epoch in range(1, n_epochs + 1):\n",
        "\n",
        "        # keep track of training and validation loss\n",
        "        train_loss = 0.0\n",
        "\n",
        "        # model by default is set to train\n",
        "        for batch_i, (data, target) in enumerate(train_loader):\n",
        "            # move tensors to GPU if CUDA is available\n",
        "            if train_on_gpu:\n",
        "                data, target = data.cuda(), target.cuda()\n",
        "            # clear the gradients of all optimized variables\n",
        "            optimizer.zero_grad()\n",
        "            # forward pass: compute predicted outputs by passing inputs to the model\n",
        "            output = conv_net_model(data)\n",
        "            # calculate the batch loss\n",
        "            loss = criterion(output, target)\n",
        "            # backward pass: compute gradient of the loss with respect to model parameters\n",
        "            loss.backward()\n",
        "            # perform a single optimization step (parameter update)\n",
        "            optimizer.step()\n",
        "            # update training loss\n",
        "            train_loss += loss.item()\n",
        "\n",
        "            my_lr_scheduler.step()\n",
        "\n",
        "            if batch_i % 20 == 19:  # print training loss every specified number of mini-batches\n",
        "                print('Epoch %d, Batch %d loss: %.16f' %\n",
        "                    (epoch, batch_i + 1, train_loss / 20))\n",
        "                losses.append(train_loss / 20)\n",
        "                train_loss = 0.0\n",
        "\n",
        "    return conv_net_model, losses"
      ],
      "execution_count": 4,
      "outputs": []
    },
    {
      "cell_type": "markdown",
      "metadata": {
        "id": "-Rrxo5RDz96U"
      },
      "source": [
        "Module: Test_model"
      ]
    },
    {
      "cell_type": "code",
      "metadata": {
        "id": "Ay-HlMJnxU9v"
      },
      "source": [
        "def test_model(classes, conv_net_model, test_loader, criterion):\n",
        "    # track test loss\n",
        "    test_loss = 0.0\n",
        "    class_correct = list(0. for i in range(len(classes)))\n",
        "    class_total = list(0. for i in range(len(classes)))\n",
        "\n",
        "    conv_net_model.eval()  # eval mode\n",
        "\n",
        "    labels = []\n",
        "    predictions = []\n",
        "    # iterate over test data\n",
        "    for data, target in test_loader:\n",
        "        # move tensors to GPU if CUDA is available\n",
        "        if train_on_gpu:\n",
        "            data, target = data.cuda(), target.cuda()\n",
        "        # forward pass: compute predicted outputs by passing inputs to the model\n",
        "        output = conv_net_model(data)\n",
        "\n",
        "        # calculate the batch loss\n",
        "        loss = criterion(output, target)\n",
        "        # update  test loss\n",
        "        test_loss += loss.item() * data.size(0)\n",
        "        # convert output probabilities to predicted class\n",
        "        _, pred = torch.max(output, 1)\n",
        "        # compare predictions to true label\n",
        "        correct_tensor = pred.eq(target.data.view_as(pred))\n",
        "        correct = np.squeeze(correct_tensor.numpy()) if not train_on_gpu else np.squeeze(correct_tensor.cpu().numpy())\n",
        "        # calculate test accuracy for each object class\n",
        "        for i in range(len(target.data)):\n",
        "            label = target.data[i]\n",
        "            class_correct[label] += correct[i].item()\n",
        "            class_total[label] += 1\n",
        "        \n",
        "        # Will be used for calculating Recall, Precision, and F1-score\n",
        "        labels.extend(target.data.view_as(pred).tolist())\n",
        "        predictions.extend(pred.tolist())\n",
        "\n",
        "\n",
        "    # calculate avg test loss\n",
        "    test_loss = test_loss / len(test_loader.dataset)\n",
        "    print('Test Loss: {:.6f}\\n'.format(test_loss))\n",
        "\n",
        "    return test_loss, class_correct, class_total, labels, predictions"
      ],
      "execution_count": 5,
      "outputs": []
    },
    {
      "cell_type": "markdown",
      "metadata": {
        "id": "xHh3PXE80Asa"
      },
      "source": [
        "Check whether CUDA is available (Change runtime type if not)"
      ]
    },
    {
      "cell_type": "code",
      "metadata": {
        "colab": {
          "base_uri": "https://localhost:8080/"
        },
        "id": "Q9TYPQH7x4zw",
        "outputId": "2f2ab5f9-fb10-4859-f60b-840e9c11f3f3"
      },
      "source": [
        "if not train_on_gpu:\n",
        "    print('CUDA is not available.  Training on CPU ...')\n",
        "else:\n",
        "    print('CUDA is available!  Training on GPU ...')"
      ],
      "execution_count": 6,
      "outputs": [
        {
          "output_type": "stream",
          "name": "stdout",
          "text": [
            "CUDA is available!  Training on GPU ...\n"
          ]
        }
      ]
    },
    {
      "cell_type": "markdown",
      "metadata": {
        "id": "6lYw8EKVx8Q7"
      },
      "source": [
        "Load Hieroglyph Data"
      ]
    },
    {
      "cell_type": "code",
      "metadata": {
        "colab": {
          "base_uri": "https://localhost:8080/"
        },
        "id": "laLvoRy1yewl",
        "outputId": "916637e3-d214-40f5-a301-71a2e9e8f237"
      },
      "source": [
        "# Connecting and Mounting to the Google Drive\n",
        "from google.colab import drive\n",
        "drive.mount('/content/drive')"
      ],
      "execution_count": 7,
      "outputs": [
        {
          "output_type": "stream",
          "name": "stdout",
          "text": [
            "Mounted at /content/drive\n"
          ]
        }
      ]
    },
    {
      "cell_type": "code",
      "metadata": {
        "id": "odaoZt9GyfUt"
      },
      "source": [
        "data_dir = '/content/drive/MyDrive/EgyptianHieroglyphDataset_Original/'"
      ],
      "execution_count": 8,
      "outputs": []
    },
    {
      "cell_type": "code",
      "metadata": {
        "colab": {
          "base_uri": "https://localhost:8080/"
        },
        "id": "dF22MAnmyiC1",
        "outputId": "0ee4e5f1-15ba-4752-8f73-ecfbf2f431fd"
      },
      "source": [
        "hieroglyph_for_train = []\n",
        "file_count_list = []\n",
        "\n",
        "for name in os.listdir('/content/drive/MyDrive/EgyptianHieroglyphDataset_Original/train/'):\n",
        "  path, dirs, files = next(os.walk(\"/content/drive/MyDrive/EgyptianHieroglyphDataset_Original/train/\"+name))\n",
        "  file_count = len(files)\n",
        "  print(name, file_count)\n",
        "  file_count_list.append(file_count)\n",
        "  hieroglyph_for_train.append(name)\n",
        "\n",
        "hieroglyph_dict = dict(zip(hieroglyph_for_train, file_count_list))"
      ],
      "execution_count": 9,
      "outputs": [
        {
          "output_type": "stream",
          "name": "stdout",
          "text": [
            "D4 29\n",
            "D2 19\n",
            "D46 40\n",
            "D36 47\n",
            "D21 146\n",
            "D58 28\n",
            "E34 97\n",
            "E23 8\n",
            "F31 6\n",
            "G1 28\n",
            "F35 2\n",
            "G17 156\n",
            "G43 157\n",
            "I10 32\n",
            "I9 116\n",
            "M23 30\n",
            "M17 291\n",
            "O1 16\n",
            "O34 15\n",
            "N35 358\n",
            "Q3 61\n",
            "O49 10\n",
            "Q1 13\n",
            "O4 11\n",
            "S34 8\n",
            "R4 2\n",
            "R8 53\n",
            "S29 212\n",
            "V13 63\n",
            "V28 28\n",
            "U7 3\n",
            "V30 6\n",
            "W11 4\n",
            "W24 31\n",
            "V31 106\n",
            "Y5 6\n",
            "X8 4\n",
            "Z1 39\n",
            "X1 185\n",
            "Y1 1\n"
          ]
        }
      ]
    },
    {
      "cell_type": "markdown",
      "metadata": {
        "id": "XeQQ7PjZzKd9"
      },
      "source": [
        "Number of images for each hieroglyph "
      ]
    },
    {
      "cell_type": "code",
      "metadata": {
        "colab": {
          "base_uri": "https://localhost:8080/",
          "height": 609
        },
        "id": "W6IzWR2RyjxM",
        "outputId": "3cd37da3-3605-4ba9-fa9e-83928ccb1284"
      },
      "source": [
        "import matplotlib.pyplot as plt\n",
        "import pandas as pd\n",
        "\n",
        "df = pd.DataFrame({\"Hieroglyph\":hieroglyph_for_train, \"Count\":file_count_list})\n",
        "\n",
        "df_sorted= df.sort_values('Count',ascending=False)\n",
        "\n",
        "plt.figure(figsize=(20,10))\n",
        "# make bar plot with matplotlib\n",
        "plt.bar('Hieroglyph', 'Count',data=df_sorted)"
      ],
      "execution_count": 10,
      "outputs": [
        {
          "output_type": "execute_result",
          "data": {
            "text/plain": [
              "<BarContainer object of 40 artists>"
            ]
          },
          "metadata": {},
          "execution_count": 10
        },
        {
          "output_type": "display_data",
          "data": {
            "image/png": "[encoded data removed]",
            "text/plain": [
              "<Figure size 1440x720 with 1 Axes>"
            ]
          },
          "metadata": {
            "needs_background": "light"
          }
        }
      ]
    },
    {
      "cell_type": "code",
      "metadata": {
        "id": "-3oOm8rSx7tp"
      },
      "source": [
        "# Number of images processed in a single training\n",
        "batch_size = 20\n",
        "num_workers = 0\n",
        "\n",
        "# The load_data function is from hieroglyph_data_preparation python file\n",
        "train_loader, test_loader, classes = load_data(data_dir)"
      ],
      "execution_count": 11,
      "outputs": []
    },
    {
      "cell_type": "markdown",
      "metadata": {
        "id": "BJm8sGiBx_q5"
      },
      "source": [
        "ResNet Model"
      ]
    },
    {
      "cell_type": "code",
      "metadata": {
        "id": "JkLXVJGkxemC"
      },
      "source": [
        "# Whether to extract features with the model\n",
        "feature_extract = False\n",
        "# Other selections\n",
        "loss_function = \"cross-entropy\"\n",
        "model_selection = \"xception\"\n",
        "optim_selection = \"Adam\"\n",
        "\n",
        "# False if you want scratch model, True if you want pretrained model\n",
        "whether_to_pretrain = False\n",
        "\n",
        "# Load the model\n",
        "if model_selection == \"resnet-50\":\n",
        "    resnet50 = models.resnet50(pretrained=whether_to_pretrain)\n",
        "    # Number of features in the last layer of resnet\n",
        "    n_inputs = resnet50.fc.in_features\n",
        "    # Add last linear layer (n_inputs -> 40 hieroglyph classes)\n",
        "    last_layer = nn.Sequential(\n",
        "                    nn.Linear(n_inputs, len(classes)))\n",
        "    resnet50.fc = last_layer\n",
        "    if train_on_gpu:\n",
        "      resnet50.cuda()\n",
        "    # Specify optimizer (Adam) and learning rate = 0.001\n",
        "    if optim_selection == \"Adam\":\n",
        "        optimizer = optim.Adam(resnet50.parameters(), lr=0.001)\n",
        "\n",
        "elif model_selection == \"inception-v3\":\n",
        "    inception_v3 = models.inception_v3(pretrained=whether_to_pretrain)\n",
        "    # Number of features in the last layer of resnet\n",
        "    n_inputs = inception_v3.fc.in_features\n",
        "    # Add last linear layer (n_inputs -> 40 hieroglyph classes)\n",
        "    last_layer = nn.Sequential(\n",
        "                    nn.Linear(n_inputs, len(classes)))\n",
        "    inception_v3.fc = last_layer\n",
        "    if train_on_gpu:\n",
        "      inception_v3.cuda()\n",
        "    # Specify optimizer (Adam) and learning rate = 0.001\n",
        "    if optim_selection == \"Adam\":\n",
        "        optimizer = optim.Adam(inception_v3.parameters(), lr=0.001)\n",
        "\n",
        "elif model_selection == \"xception\":\n",
        "    xception = timm.create_model('xception', pretrained=whether_to_pretrain)\n",
        "    # Number of features in the last layer of resnet\n",
        "    n_inputs = xception.fc.in_features\n",
        "    # Add last linear layer (n_inputs -> 40 hieroglyph classes)\n",
        "    last_layer = nn.Sequential(\n",
        "                    nn.Linear(n_inputs, len(classes)))\n",
        "    xception.fc = last_layer\n",
        "    if train_on_gpu:\n",
        "      xception.cuda()\n",
        "    # Specify optimizer (Adam) and learning rate = 0.001\n",
        "    if optim_selection == \"Adam\":\n",
        "        optimizer = optim.Adam(xception.parameters(), lr=0.001)\n",
        "\n",
        "# Specify loss function (categorical cross-entropy)\n",
        "if loss_function == \"cross-entropy\":\n",
        "    criterion = nn.CrossEntropyLoss()\n",
        "\n",
        "# Exponential Decay to strengthen learning\n",
        "decayRate = 0.999\n",
        "my_lr_scheduler = torch.optim.lr_scheduler.ExponentialLR(optimizer=optimizer, gamma=decayRate)"
      ],
      "execution_count": 12,
      "outputs": []
    },
    {
      "cell_type": "markdown",
      "metadata": {
        "id": "U2vnErB1yHmM"
      },
      "source": [
        "Training the model"
      ]
    },
    {
      "cell_type": "code",
      "metadata": {
        "colab": {
          "base_uri": "https://localhost:8080/"
        },
        "id": "dOB03noWyEvQ",
        "outputId": "4d08aad8-90bc-4e02-8091-89a01fe3c8ab"
      },
      "source": [
        "# number of epochs to train the model\n",
        "n_epochs = 50\n",
        "\n",
        "if model_selection == \"resnet-50\":\n",
        "  # The train_model function is from model_training python file\n",
        "  resnet50, train_losses = train_model(train_loader, optimizer, resnet50, criterion, my_lr_scheduler, n_epochs)\n",
        "elif model_selection == \"inception-v3\":\n",
        "  # The train_model function is from model_training python file\n",
        "  inception_v3, train_losses = train_model(train_loader, optimizer, inception_v3, criterion, my_lr_scheduler, n_epochs)\n",
        "elif model_selection == \"xception\":\n",
        "  # The train_model function is from model_training python file\n",
        "  xception, train_losses = train_model(train_loader, optimizer, xception, criterion, my_lr_scheduler, n_epochs)"
      ],
      "execution_count": 13,
      "outputs": [
        {
          "output_type": "stream",
          "name": "stdout",
          "text": [
            "Epoch 1, Batch 20 loss: 3.1972071290016175\n",
            "Epoch 1, Batch 40 loss: 2.4625214278697967\n",
            "Epoch 1, Batch 60 loss: 2.1482198536396027\n",
            "Epoch 1, Batch 80 loss: 1.8754331946372986\n",
            "Epoch 1, Batch 100 loss: 1.7922559440135957\n",
            "Epoch 1, Batch 120 loss: 1.6853487044572830\n",
            "Epoch 2, Batch 20 loss: 1.4019046366214751\n",
            "Epoch 2, Batch 40 loss: 1.5230745911598205\n",
            "Epoch 2, Batch 60 loss: 1.3917068004608155\n",
            "Epoch 2, Batch 80 loss: 1.2393773853778840\n",
            "Epoch 2, Batch 100 loss: 1.0896812349557876\n",
            "Epoch 2, Batch 120 loss: 1.0608234480023384\n",
            "Epoch 3, Batch 20 loss: 0.9079688161611557\n",
            "Epoch 3, Batch 40 loss: 0.9140228614211082\n",
            "Epoch 3, Batch 60 loss: 0.8558674439787864\n",
            "Epoch 3, Batch 80 loss: 0.9413219705224037\n",
            "Epoch 3, Batch 100 loss: 0.8222154945135116\n",
            "Epoch 3, Batch 120 loss: 0.9804748773574830\n",
            "Epoch 4, Batch 20 loss: 0.7646018385887146\n",
            "Epoch 4, Batch 40 loss: 0.6790466368198395\n",
            "Epoch 4, Batch 60 loss: 0.7710168346762657\n",
            "Epoch 4, Batch 80 loss: 0.6717165477573872\n",
            "Epoch 4, Batch 100 loss: 0.5915543846786022\n",
            "Epoch 4, Batch 120 loss: 0.7246536016464233\n",
            "Epoch 5, Batch 20 loss: 0.6281247481703758\n",
            "Epoch 5, Batch 40 loss: 0.5583492189645767\n",
            "Epoch 5, Batch 60 loss: 0.5805695511400699\n",
            "Epoch 5, Batch 80 loss: 0.5912207737565041\n",
            "Epoch 5, Batch 100 loss: 0.5511634744703769\n",
            "Epoch 5, Batch 120 loss: 0.4507091715931892\n",
            "Epoch 6, Batch 20 loss: 0.3873439356684685\n",
            "Epoch 6, Batch 40 loss: 0.4804550167173147\n",
            "Epoch 6, Batch 60 loss: 0.3763047400861979\n",
            "Epoch 6, Batch 80 loss: 0.4559716030955315\n",
            "Epoch 6, Batch 100 loss: 0.4097490824759006\n",
            "Epoch 6, Batch 120 loss: 0.3694364383816719\n",
            "Epoch 7, Batch 20 loss: 0.3914327073842287\n",
            "Epoch 7, Batch 40 loss: 0.5313357256352902\n",
            "Epoch 7, Batch 60 loss: 0.3690125979483128\n",
            "Epoch 7, Batch 80 loss: 0.3284012019634247\n",
            "Epoch 7, Batch 100 loss: 0.3090912647545337\n",
            "Epoch 7, Batch 120 loss: 0.3974618054926395\n",
            "Epoch 8, Batch 20 loss: 0.3171244118362665\n",
            "Epoch 8, Batch 40 loss: 0.2766205266118050\n",
            "Epoch 8, Batch 60 loss: 0.3709356002509594\n",
            "Epoch 8, Batch 80 loss: 0.3263558119535446\n",
            "Epoch 8, Batch 100 loss: 0.3362562786787748\n",
            "Epoch 8, Batch 120 loss: 0.2734304416924715\n",
            "Epoch 9, Batch 20 loss: 0.3307798098772764\n",
            "Epoch 9, Batch 40 loss: 0.3217732030898333\n",
            "Epoch 9, Batch 60 loss: 0.2635948857292533\n",
            "Epoch 9, Batch 80 loss: 0.2103694793768227\n",
            "Epoch 9, Batch 100 loss: 0.2265281844884157\n",
            "Epoch 9, Batch 120 loss: 0.2188183721154928\n",
            "Epoch 10, Batch 20 loss: 0.2456885652616620\n",
            "Epoch 10, Batch 40 loss: 0.2758178178220987\n",
            "Epoch 10, Batch 60 loss: 0.2745009332895279\n",
            "Epoch 10, Batch 80 loss: 0.2523461362347007\n",
            "Epoch 10, Batch 100 loss: 0.2210367351770401\n",
            "Epoch 10, Batch 120 loss: 0.1649580754339695\n",
            "Epoch 11, Batch 20 loss: 0.1754294848069549\n",
            "Epoch 11, Batch 40 loss: 0.2181042768061161\n",
            "Epoch 11, Batch 60 loss: 0.2088612254709005\n",
            "Epoch 11, Batch 80 loss: 0.1788997324183583\n",
            "Epoch 11, Batch 100 loss: 0.2247063727118075\n",
            "Epoch 11, Batch 120 loss: 0.2085735185071826\n",
            "Epoch 12, Batch 20 loss: 0.1779165573418141\n",
            "Epoch 12, Batch 40 loss: 0.1520027451217175\n",
            "Epoch 12, Batch 60 loss: 0.1857424771413207\n",
            "Epoch 12, Batch 80 loss: 0.2364897771505639\n",
            "Epoch 12, Batch 100 loss: 0.1795297157019377\n",
            "Epoch 12, Batch 120 loss: 0.1838888635858894\n",
            "Epoch 13, Batch 20 loss: 0.1576003015041351\n",
            "Epoch 13, Batch 40 loss: 0.1905953042209148\n",
            "Epoch 13, Batch 60 loss: 0.1789797838777304\n",
            "Epoch 13, Batch 80 loss: 0.1444386666640639\n",
            "Epoch 13, Batch 100 loss: 0.1474032288417220\n",
            "Epoch 13, Batch 120 loss: 0.2044553468935192\n",
            "Epoch 14, Batch 20 loss: 0.1147503528743982\n",
            "Epoch 14, Batch 40 loss: 0.1088769858703017\n",
            "Epoch 14, Batch 60 loss: 0.1524726347997785\n",
            "Epoch 14, Batch 80 loss: 0.1201305505819619\n",
            "Epoch 14, Batch 100 loss: 0.1324653155170381\n",
            "Epoch 14, Batch 120 loss: 0.1234927637036890\n",
            "Epoch 15, Batch 20 loss: 0.1289964802563190\n",
            "Epoch 15, Batch 40 loss: 0.1090941039845347\n",
            "Epoch 15, Batch 60 loss: 0.1569964835885912\n",
            "Epoch 15, Batch 80 loss: 0.1080744643695652\n",
            "Epoch 15, Batch 100 loss: 0.1378201838582754\n",
            "Epoch 15, Batch 120 loss: 0.1435166013427079\n",
            "Epoch 16, Batch 20 loss: 0.0902447559870780\n",
            "Epoch 16, Batch 40 loss: 0.1137547386810183\n",
            "Epoch 16, Batch 60 loss: 0.1034598468337208\n",
            "Epoch 16, Batch 80 loss: 0.1193614891730249\n",
            "Epoch 16, Batch 100 loss: 0.0607339433860034\n",
            "Epoch 16, Batch 120 loss: 0.1049617402488366\n",
            "Epoch 17, Batch 20 loss: 0.0888656565919518\n",
            "Epoch 17, Batch 40 loss: 0.0804007974918932\n",
            "Epoch 17, Batch 60 loss: 0.1491446377942339\n",
            "Epoch 17, Batch 80 loss: 0.0918440015055239\n",
            "Epoch 17, Batch 100 loss: 0.1137895600870252\n",
            "Epoch 17, Batch 120 loss: 0.0954984643962234\n",
            "Epoch 18, Batch 20 loss: 0.0812337982468307\n",
            "Epoch 18, Batch 40 loss: 0.0864354975521564\n",
            "Epoch 18, Batch 60 loss: 0.0539889250881970\n",
            "Epoch 18, Batch 80 loss: 0.0950829369947314\n",
            "Epoch 18, Batch 100 loss: 0.0762554225279018\n",
            "Epoch 18, Batch 120 loss: 0.0714414564776234\n",
            "Epoch 19, Batch 20 loss: 0.0717209802241996\n",
            "Epoch 19, Batch 40 loss: 0.0731643463950604\n",
            "Epoch 19, Batch 60 loss: 0.0821814853698015\n",
            "Epoch 19, Batch 80 loss: 0.0838980956701562\n",
            "Epoch 19, Batch 100 loss: 0.0880637011490762\n",
            "Epoch 19, Batch 120 loss: 0.0779214255511761\n",
            "Epoch 20, Batch 20 loss: 0.0758738976903260\n",
            "Epoch 20, Batch 40 loss: 0.0961515605100431\n",
            "Epoch 20, Batch 60 loss: 0.0867375078145415\n",
            "Epoch 20, Batch 80 loss: 0.0716181559488177\n",
            "Epoch 20, Batch 100 loss: 0.0634826065506786\n",
            "Epoch 20, Batch 120 loss: 0.0739003591472283\n",
            "Epoch 21, Batch 20 loss: 0.0501453280216083\n",
            "Epoch 21, Batch 40 loss: 0.0744839588180184\n",
            "Epoch 21, Batch 60 loss: 0.0962613621726632\n",
            "Epoch 21, Batch 80 loss: 0.0236452220007777\n",
            "Epoch 21, Batch 100 loss: 0.0834423970431089\n",
            "Epoch 21, Batch 120 loss: 0.0731411580229178\n",
            "Epoch 22, Batch 20 loss: 0.0625764906639233\n",
            "Epoch 22, Batch 40 loss: 0.0443293070187792\n",
            "Epoch 22, Batch 60 loss: 0.0617168797878549\n",
            "Epoch 22, Batch 80 loss: 0.0616548579768278\n",
            "Epoch 22, Batch 100 loss: 0.0769325513043441\n",
            "Epoch 22, Batch 120 loss: 0.0819147853646427\n",
            "Epoch 23, Batch 20 loss: 0.0510095198638737\n",
            "Epoch 23, Batch 40 loss: 0.0464372544782236\n",
            "Epoch 23, Batch 60 loss: 0.0651534207630902\n",
            "Epoch 23, Batch 80 loss: 0.0681252438109368\n",
            "Epoch 23, Batch 100 loss: 0.0676627844688483\n",
            "Epoch 23, Batch 120 loss: 0.0438228693208657\n",
            "Epoch 24, Batch 20 loss: 0.0578486101701856\n",
            "Epoch 24, Batch 40 loss: 0.0516584563883953\n",
            "Epoch 24, Batch 60 loss: 0.0684970952104777\n",
            "Epoch 24, Batch 80 loss: 0.0500190680148080\n",
            "Epoch 24, Batch 100 loss: 0.0257160512148403\n",
            "Epoch 24, Batch 120 loss: 0.0394275522092357\n",
            "Epoch 25, Batch 20 loss: 0.0679087859520223\n",
            "Epoch 25, Batch 40 loss: 0.0422385074547492\n",
            "Epoch 25, Batch 60 loss: 0.0454076613998041\n",
            "Epoch 25, Batch 80 loss: 0.0769529341952875\n",
            "Epoch 25, Batch 100 loss: 0.0336495368974283\n",
            "Epoch 25, Batch 120 loss: 0.0562092771055177\n",
            "Epoch 26, Batch 20 loss: 0.0561969954927918\n",
            "Epoch 26, Batch 40 loss: 0.0421514355344698\n",
            "Epoch 26, Batch 60 loss: 0.0313863119343296\n",
            "Epoch 26, Batch 80 loss: 0.0723896477255039\n",
            "Epoch 26, Batch 100 loss: 0.0613052599597722\n",
            "Epoch 26, Batch 120 loss: 0.0373378290561959\n",
            "Epoch 27, Batch 20 loss: 0.0653102747397497\n",
            "Epoch 27, Batch 40 loss: 0.0353177597746253\n",
            "Epoch 27, Batch 60 loss: 0.0880124151939526\n",
            "Epoch 27, Batch 80 loss: 0.0341759245609865\n",
            "Epoch 27, Batch 100 loss: 0.0482190535636619\n",
            "Epoch 27, Batch 120 loss: 0.0512946968898177\n",
            "Epoch 28, Batch 20 loss: 0.0385512747510802\n",
            "Epoch 28, Batch 40 loss: 0.0492567468434572\n",
            "Epoch 28, Batch 60 loss: 0.0607141573738772\n",
            "Epoch 28, Batch 80 loss: 0.0340357580338605\n",
            "Epoch 28, Batch 100 loss: 0.0472356613026932\n",
            "Epoch 28, Batch 120 loss: 0.0788560672313906\n",
            "Epoch 29, Batch 20 loss: 0.0625694629386999\n",
            "Epoch 29, Batch 40 loss: 0.0313388821785338\n",
            "Epoch 29, Batch 60 loss: 0.0688560866285115\n",
            "Epoch 29, Batch 80 loss: 0.0586377015279140\n",
            "Epoch 29, Batch 100 loss: 0.0292086456436664\n",
            "Epoch 29, Batch 120 loss: 0.0261359788477421\n",
            "Epoch 30, Batch 20 loss: 0.0489290727768093\n",
            "Epoch 30, Batch 40 loss: 0.0665144183672965\n",
            "Epoch 30, Batch 60 loss: 0.0506159832119010\n",
            "Epoch 30, Batch 80 loss: 0.0519744522986002\n",
            "Epoch 30, Batch 100 loss: 0.0733343573985621\n",
            "Epoch 30, Batch 120 loss: 0.0383525771787390\n",
            "Epoch 31, Batch 20 loss: 0.0373898441437632\n",
            "Epoch 31, Batch 40 loss: 0.0661886732443236\n",
            "Epoch 31, Batch 60 loss: 0.0459729049820453\n",
            "Epoch 31, Batch 80 loss: 0.0425551588181406\n",
            "Epoch 31, Batch 100 loss: 0.0511469454271719\n",
            "Epoch 31, Batch 120 loss: 0.0576632397191133\n",
            "Epoch 32, Batch 20 loss: 0.0534398590796627\n",
            "Epoch 32, Batch 40 loss: 0.0428546100039966\n",
            "Epoch 32, Batch 60 loss: 0.0313020555186085\n",
            "Epoch 32, Batch 80 loss: 0.0301641576574184\n",
            "Epoch 32, Batch 100 loss: 0.0433802582731005\n",
            "Epoch 32, Batch 120 loss: 0.0451212213549297\n",
            "Epoch 33, Batch 20 loss: 0.0394932037102990\n",
            "Epoch 33, Batch 40 loss: 0.0358293596305884\n",
            "Epoch 33, Batch 60 loss: 0.0498601058265194\n",
            "Epoch 33, Batch 80 loss: 0.0294544631673489\n",
            "Epoch 33, Batch 100 loss: 0.0316963140037842\n",
            "Epoch 33, Batch 120 loss: 0.0340620675764512\n",
            "Epoch 34, Batch 20 loss: 0.0120059454580769\n",
            "Epoch 34, Batch 40 loss: 0.0381644503911957\n",
            "Epoch 34, Batch 60 loss: 0.0473954145098105\n",
            "Epoch 34, Batch 80 loss: 0.0395083974348381\n",
            "Epoch 34, Batch 100 loss: 0.0274761723354459\n",
            "Epoch 34, Batch 120 loss: 0.0526663112686947\n",
            "Epoch 35, Batch 20 loss: 0.0630657704896294\n",
            "Epoch 35, Batch 40 loss: 0.0313303904142231\n",
            "Epoch 35, Batch 60 loss: 0.0386958945717197\n",
            "Epoch 35, Batch 80 loss: 0.0278689407976344\n",
            "Epoch 35, Batch 100 loss: 0.0383980653539766\n",
            "Epoch 35, Batch 120 loss: 0.0197446601465344\n",
            "Epoch 36, Batch 20 loss: 0.0388146193814464\n",
            "Epoch 36, Batch 40 loss: 0.0268275720125530\n",
            "Epoch 36, Batch 60 loss: 0.0494032790069468\n",
            "Epoch 36, Batch 80 loss: 0.0387320311856456\n",
            "Epoch 36, Batch 100 loss: 0.0136787916126195\n",
            "Epoch 36, Batch 120 loss: 0.0315929333562963\n",
            "Epoch 37, Batch 20 loss: 0.0315714502590708\n",
            "Epoch 37, Batch 40 loss: 0.0374360108980909\n",
            "Epoch 37, Batch 60 loss: 0.0356038086116314\n",
            "Epoch 37, Batch 80 loss: 0.0304850131738931\n",
            "Epoch 37, Batch 100 loss: 0.0332047138013877\n",
            "Epoch 37, Batch 120 loss: 0.0653740184614435\n",
            "Epoch 38, Batch 20 loss: 0.0390214116778225\n",
            "Epoch 38, Batch 40 loss: 0.0380638725240715\n",
            "Epoch 38, Batch 60 loss: 0.0414787800866179\n",
            "Epoch 38, Batch 80 loss: 0.0408512913621962\n",
            "Epoch 38, Batch 100 loss: 0.0436221633455716\n",
            "Epoch 38, Batch 120 loss: 0.0357512740185484\n",
            "Epoch 39, Batch 20 loss: 0.0420190755103249\n",
            "Epoch 39, Batch 40 loss: 0.0258623140514828\n",
            "Epoch 39, Batch 60 loss: 0.0343623313819990\n",
            "Epoch 39, Batch 80 loss: 0.0430296334408922\n",
            "Epoch 39, Batch 100 loss: 0.0311722943675704\n",
            "Epoch 39, Batch 120 loss: 0.0588305908488110\n",
            "Epoch 40, Batch 20 loss: 0.0232286756698159\n",
            "Epoch 40, Batch 40 loss: 0.0199338591541164\n",
            "Epoch 40, Batch 60 loss: 0.0403287099674344\n",
            "Epoch 40, Batch 80 loss: 0.0411278874147683\n",
            "Epoch 40, Batch 100 loss: 0.0417073109070770\n",
            "Epoch 40, Batch 120 loss: 0.0583743550931104\n",
            "Epoch 41, Batch 20 loss: 0.0298782865167595\n",
            "Epoch 41, Batch 40 loss: 0.0347868430661038\n",
            "Epoch 41, Batch 60 loss: 0.0321490653848741\n",
            "Epoch 41, Batch 80 loss: 0.0371327921107877\n",
            "Epoch 41, Batch 100 loss: 0.0339811394573189\n",
            "Epoch 41, Batch 120 loss: 0.0288683995255269\n",
            "Epoch 42, Batch 20 loss: 0.0243178938224446\n",
            "Epoch 42, Batch 40 loss: 0.0403960939962417\n",
            "Epoch 42, Batch 60 loss: 0.0591293428791687\n",
            "Epoch 42, Batch 80 loss: 0.0470822602394037\n",
            "Epoch 42, Batch 100 loss: 0.0533280852425378\n",
            "Epoch 42, Batch 120 loss: 0.0392056362412404\n",
            "Epoch 43, Batch 20 loss: 0.0213224945066031\n",
            "Epoch 43, Batch 40 loss: 0.0401485115406103\n",
            "Epoch 43, Batch 60 loss: 0.0383843005460221\n",
            "Epoch 43, Batch 80 loss: 0.0418081777403131\n",
            "Epoch 43, Batch 100 loss: 0.0427822027937509\n",
            "Epoch 43, Batch 120 loss: 0.0338461857463699\n",
            "Epoch 44, Batch 20 loss: 0.0356802387337666\n",
            "Epoch 44, Batch 40 loss: 0.0375440519594122\n",
            "Epoch 44, Batch 60 loss: 0.0495017620734870\n",
            "Epoch 44, Batch 80 loss: 0.0264821762568317\n",
            "Epoch 44, Batch 100 loss: 0.0362923564971425\n",
            "Epoch 44, Batch 120 loss: 0.0669970744871534\n",
            "Epoch 45, Batch 20 loss: 0.0540184480953030\n",
            "Epoch 45, Batch 40 loss: 0.0311094349191990\n",
            "Epoch 45, Batch 60 loss: 0.0307964956562500\n",
            "Epoch 45, Batch 80 loss: 0.0305862642067950\n",
            "Epoch 45, Batch 100 loss: 0.0288650666247122\n",
            "Epoch 45, Batch 120 loss: 0.0414646176854149\n",
            "Epoch 46, Batch 20 loss: 0.0354798075277358\n",
            "Epoch 46, Batch 40 loss: 0.0535257735638879\n",
            "Epoch 46, Batch 60 loss: 0.0244510205113329\n",
            "Epoch 46, Batch 80 loss: 0.0270806535554584\n",
            "Epoch 46, Batch 100 loss: 0.0439160785521381\n",
            "Epoch 46, Batch 120 loss: 0.0297512794495560\n",
            "Epoch 47, Batch 20 loss: 0.0278681330615655\n",
            "Epoch 47, Batch 40 loss: 0.0311027389310766\n",
            "Epoch 47, Batch 60 loss: 0.0391514991701115\n",
            "Epoch 47, Batch 80 loss: 0.0350101104006171\n",
            "Epoch 47, Batch 100 loss: 0.0291142622765619\n",
            "Epoch 47, Batch 120 loss: 0.0428569050156511\n",
            "Epoch 48, Batch 20 loss: 0.0470219070237363\n",
            "Epoch 48, Batch 40 loss: 0.0246717688860372\n",
            "Epoch 48, Batch 60 loss: 0.0400799012510106\n",
            "Epoch 48, Batch 80 loss: 0.0283526267681736\n",
            "Epoch 48, Batch 100 loss: 0.0367948041181080\n",
            "Epoch 48, Batch 120 loss: 0.0308710520621389\n",
            "Epoch 49, Batch 20 loss: 0.0614215873240028\n",
            "Epoch 49, Batch 40 loss: 0.0380726732430048\n",
            "Epoch 49, Batch 60 loss: 0.0253464348439593\n",
            "Epoch 49, Batch 80 loss: 0.0474663272732869\n",
            "Epoch 49, Batch 100 loss: 0.0333588125882670\n",
            "Epoch 49, Batch 120 loss: 0.0219775115256198\n",
            "Epoch 50, Batch 20 loss: 0.0254717160016298\n",
            "Epoch 50, Batch 40 loss: 0.0406928542070091\n",
            "Epoch 50, Batch 60 loss: 0.0421587696182542\n",
            "Epoch 50, Batch 80 loss: 0.0339222487760708\n",
            "Epoch 50, Batch 100 loss: 0.0260809412895469\n",
            "Epoch 50, Batch 120 loss: 0.0309584371105302\n"
          ]
        }
      ]
    },
    {
      "cell_type": "code",
      "metadata": {
        "id": "CfA7ZjLR1BZP",
        "colab": {
          "base_uri": "https://localhost:8080/",
          "height": 281
        },
        "outputId": "0495f4d4-de23-4bcf-bb44-e5a1528f7b79"
      },
      "source": [
        "plt.plot(train_losses)\n",
        "plt.title(\"Training Loss\")\n",
        "plt.show()"
      ],
      "execution_count": 14,
      "outputs": [
        {
          "output_type": "display_data",
          "data": {
            "image/png": "[encoded data removed]",
            "text/plain": [
              "<Figure size 432x288 with 1 Axes>"
            ]
          },
          "metadata": {
            "needs_background": "light"
          }
        }
      ]
    },
    {
      "cell_type": "markdown",
      "metadata": {
        "id": "ItLyF9dQyJFL"
      },
      "source": [
        "Testing the model"
      ]
    },
    {
      "cell_type": "code",
      "metadata": {
        "id": "gGki98W3SoEW"
      },
      "source": [
        "from sklearn.metrics import precision_score, recall_score, f1_score, accuracy_score"
      ],
      "execution_count": 15,
      "outputs": []
    },
    {
      "cell_type": "code",
      "metadata": {
        "id": "xNavYOynyE6d",
        "colab": {
          "base_uri": "https://localhost:8080/"
        },
        "outputId": "c47fad5d-5ac8-49dd-bd31-2d67f506e229"
      },
      "source": [
        "# The test_model function is from model_testing python file\n",
        "test_loss, class_correct, class_total, labels, predictions = test_model(classes, xception, test_loader, criterion)\n",
        "\n",
        "# Test accuracy for each hieroglyph\n",
        "for i in range(len(classes)):\n",
        "    if class_total[i] > 0:\n",
        "        print('Test Accuracy of %5s: %2d%% (%2d/%2d)' % (classes[i], 100 * class_correct[i] / class_total[i], np.sum(class_correct[i]), np.sum(class_total[i])))\n",
        "    else:\n",
        "        print('Test Accuracy of %5s: N/A (no training examples)' % (classes[i]))\n",
        "\n",
        "# Total Test accuracy\n",
        "print(\"\\nAccuracy: {:.3%}\".format(accuracy_score(labels, predictions)))\n",
        "print(\"\\nPrecision: {:.3%}\".format(precision_score(labels, predictions, average = 'weighted')))\n",
        "print(\"\\nRecall: {:.3%}\".format(recall_score(labels, predictions, average = 'weighted')))\n",
        "print(\"\\nF1-score: {:.3%}\".format(f1_score(labels, predictions, average = 'weighted')))"
      ],
      "execution_count": 16,
      "outputs": [
        {
          "output_type": "stream",
          "name": "stdout",
          "text": [
            "Test Loss: 0.083423\n",
            "\n",
            "Test Accuracy of    D2: 100% ( 5/ 5)\n",
            "Test Accuracy of   D21: 94% (35/37)\n",
            "Test Accuracy of   D36: 100% (12/12)\n",
            "Test Accuracy of    D4: 87% ( 7/ 8)\n",
            "Test Accuracy of   D46: 80% ( 8/10)\n",
            "Test Accuracy of   D58: 87% ( 7/ 8)\n",
            "Test Accuracy of   E23: 100% ( 2/ 2)\n",
            "Test Accuracy of   E34: 100% (25/25)\n",
            "Test Accuracy of   F31: 100% ( 2/ 2)\n",
            "Test Accuracy of   F35: 100% ( 1/ 1)\n",
            "Test Accuracy of    G1: 57% ( 4/ 7)\n",
            "Test Accuracy of   G17: 97% (38/39)\n",
            "Test Accuracy of   G43: 97% (39/40)\n",
            "Test Accuracy of   I10: 100% ( 9/ 9)\n",
            "Test Accuracy of    I9: 96% (29/30)\n",
            "Test Accuracy of   M17: 100% (73/73)\n",
            "Test Accuracy of   M23: 100% ( 8/ 8)\n",
            "Test Accuracy of   N35: 100% (90/90)\n",
            "Test Accuracy of    O1: 100% ( 4/ 4)\n",
            "Test Accuracy of   O34: 100% ( 4/ 4)\n",
            "Test Accuracy of    O4: 100% ( 3/ 3)\n",
            "Test Accuracy of   O49: 100% ( 3/ 3)\n",
            "Test Accuracy of    Q1: 100% ( 4/ 4)\n",
            "Test Accuracy of    Q3: 93% (15/16)\n",
            "Test Accuracy of    R4: 100% ( 1/ 1)\n",
            "Test Accuracy of    R8: 100% (14/14)\n",
            "Test Accuracy of   S29: 100% (53/53)\n",
            "Test Accuracy of   S34: 100% ( 2/ 2)\n",
            "Test Accuracy of    U7: 100% ( 1/ 1)\n",
            "Test Accuracy of   V13: 100% (16/16)\n",
            "Test Accuracy of   V28: 100% ( 8/ 8)\n",
            "Test Accuracy of   V30: 50% ( 1/ 2)\n",
            "Test Accuracy of   V31: 100% (27/27)\n",
            "Test Accuracy of   W11:  0% ( 0/ 1)\n",
            "Test Accuracy of   W24: 100% ( 8/ 8)\n",
            "Test Accuracy of    X1: 100% (47/47)\n",
            "Test Accuracy of    X8: 50% ( 1/ 2)\n",
            "Test Accuracy of    Y1: 100% ( 1/ 1)\n",
            "Test Accuracy of    Y5: 100% ( 2/ 2)\n",
            "Test Accuracy of    Z1: 100% (10/10)\n",
            "\n",
            "Accuracy: 97.480%\n",
            "\n",
            "Precision: 97.392%\n",
            "\n",
            "Recall: 97.480%\n",
            "\n",
            "F1-score: 97.325%\n"
          ]
        },
        {
          "output_type": "stream",
          "name": "stderr",
          "text": [
            "/usr/local/lib/python3.7/dist-packages/sklearn/metrics/_classification.py:1308: UndefinedMetricWarning: Precision is ill-defined and being set to 0.0 in labels with no predicted samples. Use `zero_division` parameter to control this behavior.\n",
            "  _warn_prf(average, modifier, msg_start, len(result))\n"
          ]
        }
      ]
    }
  ]
}
