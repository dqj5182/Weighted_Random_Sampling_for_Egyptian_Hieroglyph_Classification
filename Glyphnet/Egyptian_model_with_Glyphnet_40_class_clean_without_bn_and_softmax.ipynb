{
  "nbformat": 4,
  "nbformat_minor": 0,
  "metadata": {
    "accelerator": "GPU",
    "colab": {
      "name": "Egyptian_model_with_Glyphnet_40_class_clean_without_bn_and_softmax.ipynb",
      "provenance": [],
      "collapsed_sections": []
    },
    "kernelspec": {
      "display_name": "Python 3",
      "name": "python3"
    },
    "language_info": {
      "name": "python"
    }
  },
  "cells": [
    {
      "cell_type": "code",
      "metadata": {
        "id": "8iEiGSblxJzW"
      },
      "source": [
        "import os, os.path\n",
        "import torch\n",
        "import numpy as np\n",
        "import torch.nn as nn\n",
        "import torch.nn.functional as F\n",
        "import torch.optim as optim\n",
        "from pathlib import Path\n",
        "from torchvision import datasets, models, transforms\n",
        "\n",
        "# check if CUDA is available\n",
        "train_on_gpu = torch.cuda.is_available()"
      ],
      "execution_count": 1,
      "outputs": []
    },
    {
      "cell_type": "markdown",
      "metadata": {
        "id": "Jd6KU8VMz6J3"
      },
      "source": [
        "Module: Load_data"
      ]
    },
    {
      "cell_type": "code",
      "metadata": {
        "id": "8lWX0BW_w_kC"
      },
      "source": [
        "def load_data(hieroglyph_directory_path, batch_size=20, num_workers=0):\n",
        "    train_dir = os.path.join(hieroglyph_directory_path, 'train/')\n",
        "    test_dir = os.path.join(hieroglyph_directory_path, 'test/')\n",
        "\n",
        "    classes = []\n",
        "\n",
        "    for filename in os.listdir(train_dir):\n",
        "        if filename == '.DS_Store':\n",
        "            pass\n",
        "        else:\n",
        "            classes.append(filename)\n",
        "\n",
        "    classes.sort()\n",
        "\n",
        "    # print(\"Our classes:\", classes)\n",
        "    # print(len(classes))\n",
        "\n",
        "    data_transform = transforms.Compose([transforms.ToTensor(),\n",
        "                                                transforms.RandomApply([transforms.RandomHorizontalFlip()]),\n",
        "                                                transforms.RandomRotation(degrees=(-10, 10)),\n",
        "                                                transforms.RandomAffine(degrees=0, translate=(.1, .1)),\n",
        "                                                transforms.RandomApply([transforms.ColorJitter(brightness=(1, 1.2),\n",
        "                                                                                                contrast=(1, 1.5),\n",
        "                                                                                                saturation=(1, 1.5),\n",
        "                                                                                                hue=(0, 0.5))]),\n",
        "                                                transforms.RandomErasing(p=0.5, scale=(0.05, 0.05), ratio=(0.3, 3.3), value=0,\n",
        "                                                                          inplace=False),\n",
        "                                                transforms.Resize((100, 100)),\n",
        "                                                transforms.Normalize((0.5,), (0.5,))])\n",
        "\n",
        "    train_data = datasets.ImageFolder(train_dir, transform=data_transform)\n",
        "    test_data = datasets.ImageFolder(test_dir, transform=data_transform)\n",
        "\n",
        "    # print('Num training images: ', len(train_data))\n",
        "    # print('Num test images: ', len(test_data))\n",
        "\n",
        "    # prepare data loaders\n",
        "    train_loader = torch.utils.data.DataLoader(train_data, batch_size=batch_size,\n",
        "                                               num_workers=num_workers, shuffle=True)\n",
        "    test_loader = torch.utils.data.DataLoader(test_data, batch_size=batch_size,\n",
        "                                              num_workers=num_workers, shuffle=True)\n",
        "\n",
        "    return train_loader, test_loader, classes"
      ],
      "execution_count": 2,
      "outputs": []
    },
    {
      "cell_type": "markdown",
      "metadata": {
        "id": "K4sXUrPPz7iF"
      },
      "source": [
        "Module: Train_model"
      ]
    },
    {
      "cell_type": "code",
      "metadata": {
        "id": "N2N_rnKLxN5c"
      },
      "source": [
        "def train_model(train_loader, optimizer, conv_net, criterion, my_lr_scheduler, n_epochs):\n",
        "    # track training loss over time\n",
        "    losses = []\n",
        "    \n",
        "    for epoch in range(1, n_epochs + 1):\n",
        "\n",
        "        # keep track of training and validation loss\n",
        "        train_loss = 0.0\n",
        "\n",
        "        # model by default is set to train\n",
        "        for batch_i, (data, target) in enumerate(train_loader):\n",
        "            # move tensors to GPU if CUDA is available\n",
        "            if train_on_gpu:\n",
        "                data, target = data.cuda(), target.cuda()\n",
        "            # clear the gradients of all optimized variables\n",
        "            optimizer.zero_grad()\n",
        "            # forward pass: compute predicted outputs by passing inputs to the model\n",
        "            output = conv_net(data)\n",
        "\n",
        "            # calculate the batch loss\n",
        "            loss = criterion(output, target)\n",
        "            # backward pass: compute gradient of the loss with respect to model parameters\n",
        "            loss.backward()\n",
        "            # perform a single optimization step (parameter update)\n",
        "            optimizer.step()\n",
        "            # update training loss\n",
        "            train_loss += loss.item()\n",
        "\n",
        "            my_lr_scheduler.step()\n",
        "\n",
        "            if batch_i % 20 == 19:  # print training loss every specified number of mini-batches\n",
        "                print('Epoch %d, Batch %d loss: %.16f' %\n",
        "                    (epoch, batch_i + 1, train_loss / 20))\n",
        "                losses.append(train_loss / 20)\n",
        "                train_loss = 0.0\n",
        "        \n",
        "        \n",
        "\n",
        "    return conv_net, losses"
      ],
      "execution_count": 3,
      "outputs": []
    },
    {
      "cell_type": "markdown",
      "metadata": {
        "id": "-Rrxo5RDz96U"
      },
      "source": [
        "Module: Test_model"
      ]
    },
    {
      "cell_type": "code",
      "metadata": {
        "id": "Ay-HlMJnxU9v"
      },
      "source": [
        "def test_model(classes, conv_net, test_loader, criterion):\n",
        "    # track test loss\n",
        "    test_loss = 0.0\n",
        "    class_correct = list(0. for i in range(len(classes)))\n",
        "    class_total = list(0. for i in range(len(classes)))\n",
        "\n",
        "    conv_net.eval()  # eval mode\n",
        "\n",
        "    labels = []\n",
        "    predictions = []\n",
        "    # iterate over test data\n",
        "    for data, target in test_loader:\n",
        "        # move tensors to GPU if CUDA is available\n",
        "        if train_on_gpu:\n",
        "            data, target = data.cuda(), target.cuda()\n",
        "        # forward pass: compute predicted outputs by passing inputs to the model\n",
        "        output = conv_net(data)\n",
        "        # calculate the batch loss\n",
        "        loss = criterion(output, target)\n",
        "        # update  test loss\n",
        "        test_loss += loss.item() * data.size(0)\n",
        "        # convert output probabilities to predicted class\n",
        "        _, pred = torch.max(output, 1)\n",
        "\n",
        "        # compare predictions to true label\n",
        "        correct_tensor = pred.eq(target.data.view_as(pred))\n",
        "        correct = np.squeeze(correct_tensor.numpy()) if not train_on_gpu else np.squeeze(correct_tensor.cpu().numpy())\n",
        "        # calculate test accuracy for each object class\n",
        "        for i in range(len(target.data)):\n",
        "            label = target.data[i]\n",
        "            class_correct[label] += correct[i].item()\n",
        "            class_total[label] += 1\n",
        "        \n",
        "        # Will be used for calculating Recall, Precision, and F1-score\n",
        "        labels.extend(target.data.view_as(pred).tolist())\n",
        "        predictions.extend(pred.tolist())\n",
        "\n",
        "\n",
        "    # calculate avg test loss\n",
        "    test_loss = test_loss / len(test_loader.dataset)\n",
        "    print('Test Loss: {:.6f}\\n'.format(test_loss))\n",
        "\n",
        "    return test_loss, class_correct, class_total, labels, predictions"
      ],
      "execution_count": 4,
      "outputs": []
    },
    {
      "cell_type": "markdown",
      "metadata": {
        "id": "xHh3PXE80Asa"
      },
      "source": [
        "Check whether CUDA is available (Change runtime type if not)"
      ]
    },
    {
      "cell_type": "code",
      "metadata": {
        "colab": {
          "base_uri": "https://localhost:8080/"
        },
        "id": "Q9TYPQH7x4zw",
        "outputId": "ac1b5e8a-d940-48d2-ace5-3802f863ddfc"
      },
      "source": [
        "if not train_on_gpu:\n",
        "    print('CUDA is not available.  Training on CPU ...')\n",
        "else:\n",
        "    print('CUDA is available!  Training on GPU ...')"
      ],
      "execution_count": 5,
      "outputs": [
        {
          "output_type": "stream",
          "name": "stdout",
          "text": [
            "CUDA is available!  Training on GPU ...\n"
          ]
        }
      ]
    },
    {
      "cell_type": "markdown",
      "metadata": {
        "id": "6lYw8EKVx8Q7"
      },
      "source": [
        "Load Hieroglyph Data"
      ]
    },
    {
      "cell_type": "code",
      "metadata": {
        "colab": {
          "base_uri": "https://localhost:8080/"
        },
        "id": "laLvoRy1yewl",
        "outputId": "bfc70951-f3da-425d-d01f-ff105feda28f"
      },
      "source": [
        "# Connecting and Mounting to the Google Drive\n",
        "from google.colab import drive\n",
        "drive.mount('/content/drive')"
      ],
      "execution_count": 6,
      "outputs": [
        {
          "output_type": "stream",
          "name": "stdout",
          "text": [
            "Drive already mounted at /content/drive; to attempt to forcibly remount, call drive.mount(\"/content/drive\", force_remount=True).\n"
          ]
        }
      ]
    },
    {
      "cell_type": "code",
      "metadata": {
        "id": "odaoZt9GyfUt"
      },
      "source": [
        "data_dir = '/content/drive/MyDrive/EgyptianHieroglyphDataset_Original_Clean/'"
      ],
      "execution_count": 7,
      "outputs": []
    },
    {
      "cell_type": "code",
      "metadata": {
        "colab": {
          "base_uri": "https://localhost:8080/"
        },
        "id": "dF22MAnmyiC1",
        "outputId": "96817ad8-44b5-49e1-f31c-b8ca61fc07cc"
      },
      "source": [
        "hieroglyph_for_train = []\n",
        "file_count_list = []\n",
        "\n",
        "for name in os.listdir('/content/drive/MyDrive/EgyptianHieroglyphDataset_Original_Clean/train/'):\n",
        "  path, dirs, files = next(os.walk(\"/content/drive/MyDrive/EgyptianHieroglyphDataset_Original_Clean/train/\"+name))\n",
        "  file_count = len(files)\n",
        "  print(name, file_count)\n",
        "  file_count_list.append(file_count)\n",
        "  hieroglyph_for_train.append(name)\n",
        "\n",
        "hieroglyph_dict = dict(zip(hieroglyph_for_train, file_count_list))"
      ],
      "execution_count": 8,
      "outputs": [
        {
          "output_type": "stream",
          "name": "stdout",
          "text": [
            "Y5 6\n",
            "I9 116\n",
            "O34 15\n",
            "V13 63\n",
            "U7 3\n",
            "D46 40\n",
            "E34 97\n",
            "G1 28\n",
            "V31 106\n",
            "S34 8\n",
            "D36 47\n",
            "Q1 13\n",
            "V30 6\n",
            "F35 2\n",
            "O4 11\n",
            "M23 30\n",
            "S29 212\n",
            "R8 53\n",
            "W11 4\n",
            "X1 185\n",
            "Y1 1\n",
            "D21 146\n",
            "D2 19\n",
            "E23 8\n",
            "X8 4\n",
            "Z1 39\n",
            "D4 29\n",
            "V28 28\n",
            "I10 32\n",
            "O1 16\n",
            "M17 291\n",
            "F31 6\n",
            "G43 157\n",
            "D58 28\n",
            "O49 10\n",
            "G17 156\n",
            "R4 2\n",
            "Q3 61\n",
            "W24 31\n",
            "N35 358\n"
          ]
        }
      ]
    },
    {
      "cell_type": "markdown",
      "metadata": {
        "id": "XeQQ7PjZzKd9"
      },
      "source": [
        "Number of images for each hieroglyph "
      ]
    },
    {
      "cell_type": "code",
      "metadata": {
        "colab": {
          "base_uri": "https://localhost:8080/",
          "height": 609
        },
        "id": "W6IzWR2RyjxM",
        "outputId": "e31f805f-eff1-4ac6-ecec-fca095d51c7c"
      },
      "source": [
        "import matplotlib.pyplot as plt\n",
        "import pandas as pd\n",
        "\n",
        "df = pd.DataFrame({\"Hieroglyph\":hieroglyph_for_train, \"Count\":file_count_list})\n",
        "\n",
        "df_sorted= df.sort_values('Count',ascending=False)\n",
        "\n",
        "plt.figure(figsize=(20,10))\n",
        "# make bar plot with matplotlib\n",
        "plt.bar('Hieroglyph', 'Count',data=df_sorted)"
      ],
      "execution_count": 9,
      "outputs": [
        {
          "output_type": "execute_result",
          "data": {
            "text/plain": [
              "<BarContainer object of 40 artists>"
            ]
          },
          "metadata": {},
          "execution_count": 9
        },
        {
          "output_type": "display_data",
          "data": {
            "image/png": "[encoded data removed]",
            "text/plain": [
              "<Figure size 1440x720 with 1 Axes>"
            ]
          },
          "metadata": {
            "needs_background": "light"
          }
        }
      ]
    },
    {
      "cell_type": "code",
      "metadata": {
        "id": "-3oOm8rSx7tp"
      },
      "source": [
        "# Number of images processed in a single training\n",
        "batch_size = 20\n",
        "num_workers = 0\n",
        "\n",
        "# The load_data function is from hieroglyph_data_preparation python file\n",
        "train_loader, test_loader, classes = load_data(data_dir)"
      ],
      "execution_count": 10,
      "outputs": []
    },
    {
      "cell_type": "markdown",
      "metadata": {
        "id": "BJm8sGiBx_q5"
      },
      "source": [
        "ResNet Model"
      ]
    },
    {
      "cell_type": "code",
      "metadata": {
        "id": "ii1UaV8yPvW_"
      },
      "source": [
        "class SeparableConv2d(nn.Module):\n",
        "    def __init__(self,in_channels,out_channels,kernel_size=3,stride=1,padding=0,dilation=1,bias=False):\n",
        "        super(SeparableConv2d,self).__init__()\n",
        "\n",
        "        self.conv1 = nn.Conv2d(in_channels,in_channels,kernel_size,stride,padding,dilation,groups=in_channels,bias=bias)\n",
        "        self.pointwise = nn.Conv2d(in_channels,out_channels,1,1,0,1,1,bias=bias)\n",
        "    \n",
        "    def forward(self,x):\n",
        "        x = self.conv1(x)\n",
        "        x = self.pointwise(x)\n",
        "        return x"
      ],
      "execution_count": 11,
      "outputs": []
    },
    {
      "cell_type": "code",
      "metadata": {
        "id": "-hnE4jAAPbnX"
      },
      "source": [
        "from torch.nn import Linear, ReLU, CrossEntropyLoss, Sequential, Conv2d, MaxPool2d, Module, Softmax, BatchNorm2d, Dropout"
      ],
      "execution_count": 12,
      "outputs": []
    },
    {
      "cell_type": "code",
      "metadata": {
        "colab": {
          "base_uri": "https://localhost:8080/",
          "height": 140
        },
        "id": "oXpu43oPMyor",
        "outputId": "f14f7561-480d-4c15-861f-6f77d7dd4ad2"
      },
      "source": [
        "'''\n",
        "class Glyphnet(torch.nn.Module):   \n",
        "    def __init__(self):\n",
        "        super(Glyphnet, self).__init__()\n",
        "\n",
        "        self.conv1 = torch.nn.Conv2d(3, 64, kernel_size = 3, stride = 1, padding = 0)\n",
        "        self.maxpool1 = MaxPool2d(kernel_size=2, stride=2)\n",
        "        self.conv2 = torch.nn.Conv2d(64, 64, kernel_size = 3, stride = 1, padding = 0)\n",
        "        self.maxpool2 = MaxPool2d(kernel_size=3, stride=2)\n",
        "\n",
        "        self.fc1 = Linear(23 * 23 * 64, 40)\n",
        "\n",
        "        #self.conv1 = torch.nn.Conv2d(3, 64, kernel_size = 3, stride = 1, padding = 0)\n",
        "        #self.conv2 = torch.nn.Conv2d(64, 64, kernel_size = 3, stride = 1, padding = 0)\n",
        "        #self.maxpool = torch.nn.MaxPool2d(kernel_size = 3, stride = 1, padding = 0)\n",
        "        #self.avgpool = torch.nn.AvgPool2d(kernel_size=66)\n",
        "\n",
        "        #self.bn1 = torch.nn.BatchNorm2d(64)\n",
        "        #self.bn2 = torch.nn.BatchNorm2d(128)\n",
        "        #self.bn3 = torch.nn.BatchNorm2d(256)\n",
        "        #self.bn4 = torch.nn.BatchNorm2d(512)\n",
        "\n",
        "        #self.separableconv1 = SeparableConv2d(64,128)\n",
        "        #self.separableconv2 = SeparableConv2d(128,128)\n",
        "        #self.separableconv3 = SeparableConv2d(128,256)\n",
        "        #self.separableconv4 = SeparableConv2d(256,256)\n",
        "        #self.separableconv5 = SeparableConv2d(256,512)\n",
        "\n",
        "        #self.drop_layer = nn.Dropout(p=0.15)\n",
        "        #self.fc1 = torch.nn.Linear(512, 40) # Should change 64 part\n",
        "        self.softmax = nn.Softmax(dim=1)\n",
        "\n",
        "    # Defining the forward pass    \n",
        "    def forward(self, x):\n",
        "        x = self.conv1(x)\n",
        "        x = self.maxpool1(x)\n",
        "        x = self.conv2(x)\n",
        "        x = self.maxpool2(x)\n",
        "\n",
        "        x = x.view(x.size(0), -1)\n",
        "        x = self.fc1(x)\n",
        "        # x = self.softmax(x) # Not a good idea (the model is trained really slow)\n",
        "\n",
        "        return x\n",
        "'''"
      ],
      "execution_count": 13,
      "outputs": [
        {
          "output_type": "execute_result",
          "data": {
            "application/vnd.google.colaboratory.intrinsic+json": {
              "type": "string"
            },
            "text/plain": [
              "'\\nclass Glyphnet(torch.nn.Module):   \\n    def __init__(self):\\n        super(Glyphnet, self).__init__()\\n\\n        self.conv1 = torch.nn.Conv2d(3, 64, kernel_size = 3, stride = 1, padding = 0)\\n        self.maxpool1 = MaxPool2d(kernel_size=2, stride=2)\\n        self.conv2 = torch.nn.Conv2d(64, 64, kernel_size = 3, stride = 1, padding = 0)\\n        self.maxpool2 = MaxPool2d(kernel_size=3, stride=2)\\n\\n        self.fc1 = Linear(23 * 23 * 64, 40)\\n\\n        #self.conv1 = torch.nn.Conv2d(3, 64, kernel_size = 3, stride = 1, padding = 0)\\n        #self.conv2 = torch.nn.Conv2d(64, 64, kernel_size = 3, stride = 1, padding = 0)\\n        #self.maxpool = torch.nn.MaxPool2d(kernel_size = 3, stride = 1, padding = 0)\\n        #self.avgpool = torch.nn.AvgPool2d(kernel_size=66)\\n\\n        #self.bn1 = torch.nn.BatchNorm2d(64)\\n        #self.bn2 = torch.nn.BatchNorm2d(128)\\n        #self.bn3 = torch.nn.BatchNorm2d(256)\\n        #self.bn4 = torch.nn.BatchNorm2d(512)\\n\\n        #self.separableconv1 = SeparableConv2d(64,128)\\n        #self.separableconv2 = SeparableConv2d(128,128)\\n        #self.separableconv3 = SeparableConv2d(128,256)\\n        #self.separableconv4 = SeparableConv2d(256,256)\\n        #self.separableconv5 = SeparableConv2d(256,512)\\n\\n        #self.drop_layer = nn.Dropout(p=0.15)\\n        #self.fc1 = torch.nn.Linear(512, 40) # Should change 64 part\\n        self.softmax = nn.Softmax(dim=1)\\n\\n    # Defining the forward pass    \\n    def forward(self, x):\\n        x = self.conv1(x)\\n        x = self.maxpool1(x)\\n        x = self.conv2(x)\\n        x = self.maxpool2(x)\\n\\n        x = x.view(x.size(0), -1)\\n        x = self.fc1(x)\\n        # x = self.softmax(x) # Not a good idea (the model is trained really slow)\\n\\n        return x\\n'"
            ]
          },
          "metadata": {},
          "execution_count": 13
        }
      ]
    },
    {
      "cell_type": "code",
      "metadata": {
        "id": "Mik3vFrCSeTd"
      },
      "source": [
        "class Glyphnet(torch.nn.Module):\n",
        "   def __init__(self):\n",
        "      super(Glyphnet, self).__init__()\n",
        "      \n",
        "      self.conv1 = torch.nn.Conv2d(3, 64, kernel_size = 3, stride = 1, padding = 0)\n",
        "      self.conv2 = torch.nn.Conv2d(64, 64, kernel_size = 3, stride = 1, padding = 0)\n",
        "      self.maxpool = torch.nn.MaxPool2d(kernel_size = 3, stride = 1, padding = 0)\n",
        "      self.avgpool = torch.nn.AvgPool2d(kernel_size=66)\n",
        "\n",
        "      self.bn1 = torch.nn.BatchNorm2d(64)\n",
        "      self.bn2 = torch.nn.BatchNorm2d(128)\n",
        "      self.bn3 = torch.nn.BatchNorm2d(256)\n",
        "      self.bn4 = torch.nn.BatchNorm2d(512)\n",
        "\n",
        "      self.separableconv1 = SeparableConv2d(64,128)\n",
        "      self.separableconv2 = SeparableConv2d(128,128)\n",
        "      self.separableconv3 = SeparableConv2d(128,256)\n",
        "      self.separableconv4 = SeparableConv2d(256,256)\n",
        "      self.separableconv5 = SeparableConv2d(256,512)\n",
        "\n",
        "      self.drop_layer = nn.Dropout(p=0.15)\n",
        "      self.fc1 = torch.nn.Linear(512, 40) # Should change\n",
        "      self.softmax = nn.Softmax(dim=1)\n",
        "\n",
        "   def forward(self, x): # Input: 100 x 100 x 3\n",
        "      # First block\n",
        "      x = self.conv1(x) # Output: 98 x 98 x 64\n",
        "      x = F.relu(self.maxpool(x)) # Output: 96 x 96 x 64\n",
        "      x = self.conv2(x) # Output: 94 x 94 x 64\n",
        "      x = F.relu(self.maxpool(x)) # Output: 92 x 92 x 64\n",
        "      \n",
        "      # Second block\n",
        "      x = F.relu(self.separableconv1(x)) # Output: 90 x 90 x 128\n",
        "      x = self.separableconv2(x) # Output: 88 x 88 x 128\n",
        "      x = F.relu(self.maxpool(x)) # Output: 86 x 86 x 128\n",
        "      \n",
        "      # Third block\n",
        "      x = F.relu(self.separableconv2(x)) # Output: 84 x 84 x 128\n",
        "      x = self.separableconv2(x) # Output: 82 x 82 x 128\n",
        "      x = F.relu(self.maxpool(x)) # Output: 80 x 80 x 128\n",
        "      \n",
        "      # Fourth block\n",
        "      x = F.relu(self.separableconv3(x)) # Output: 78 x 78 x 256\n",
        "      x = self.separableconv4(x) # Output: 76 x 76 x 256\n",
        "      x = F.relu(self.maxpool(x)) # Output: 74 x 74 x 256\n",
        "      \n",
        "      # Fifth block\n",
        "      x = F.relu(self.separableconv4(x)) # Output: 72 x 72 x 256\n",
        "      x = self.separableconv4(x) # Output: 70 x 70 x 256\n",
        "      x = F.relu(self.maxpool(x)) # Output: 68 x 68 x 256\n",
        "      \n",
        "      # Sixth block\n",
        "      x = F.relu(self.separableconv5(x)) # Output: 66 x 66 x 512\n",
        "      \n",
        "      x = self.avgpool(x) # Global Average Pooling; Output: 512\n",
        "      \n",
        "      x = self.drop_layer(x) # Dropout Layer; Output: 512\n",
        "      \n",
        "      # Fully Connected Layer; Output: 512\n",
        "      x = x.view(x.size(0), -1)\n",
        "      x = self.fc1(x)\n",
        "\n",
        "      #x = self.softmax(x) # Softmax; Output: 512\n",
        "      \n",
        "      return(x)"
      ],
      "execution_count": 14,
      "outputs": []
    },
    {
      "cell_type": "code",
      "metadata": {
        "id": "JkLXVJGkxemC"
      },
      "source": [
        "# Whether to extract features with the model\n",
        "feature_extract = False\n",
        "# Other selections\n",
        "loss_function = \"cross-entropy\"\n",
        "model_selection = \"glyphnet\"\n",
        "optim_selection = \"Adam\"\n",
        "\n",
        "# Load the model\n",
        "if model_selection == \"glyphnet\":\n",
        "    glyphnet = Glyphnet()\n",
        "\n",
        "# if GPU is available, move the model to GPU\n",
        "if train_on_gpu:\n",
        "    glyphnet.cuda()\n",
        "\n",
        "# Specify loss function (categorical cross-entropy)\n",
        "if loss_function == \"cross-entropy\":\n",
        "    criterion = nn.CrossEntropyLoss()\n",
        "\n",
        "# Specify optimizer (Adam) and learning rate = 0.001\n",
        "if optim_selection == \"Adam\":\n",
        "    optimizer = optim.Adam(glyphnet.parameters(), lr=0.001)\n",
        "\n",
        "# Exponential Decay to strengthen learning\n",
        "decayRate = 0.999\n",
        "my_lr_scheduler = torch.optim.lr_scheduler.ExponentialLR(optimizer=optimizer, gamma=decayRate)"
      ],
      "execution_count": 15,
      "outputs": []
    },
    {
      "cell_type": "markdown",
      "metadata": {
        "id": "U2vnErB1yHmM"
      },
      "source": [
        "Training the model"
      ]
    },
    {
      "cell_type": "code",
      "metadata": {
        "id": "dOB03noWyEvQ",
        "colab": {
          "base_uri": "https://localhost:8080/"
        },
        "outputId": "576e7abe-27b2-4093-d592-1d92338672d1"
      },
      "source": [
        "# number of epochs to train the model\n",
        "n_epochs = 50\n",
        "\n",
        "# The train_model function is from model_training python file\n",
        "glyphnet, train_losses = train_model(train_loader, optimizer, glyphnet, criterion, my_lr_scheduler, n_epochs)"
      ],
      "execution_count": 16,
      "outputs": [
        {
          "output_type": "stream",
          "name": "stdout",
          "text": [
            "Epoch 1, Batch 20 loss: 3.6584636449813841\n",
            "Epoch 1, Batch 40 loss: 3.3380442976951601\n",
            "Epoch 1, Batch 60 loss: 3.1162764310836790\n",
            "Epoch 1, Batch 80 loss: 3.0457292199134827\n",
            "Epoch 1, Batch 100 loss: 3.0629717826843263\n",
            "Epoch 1, Batch 120 loss: 3.1103985428810121\n",
            "Epoch 2, Batch 20 loss: 3.1359084725379942\n",
            "Epoch 2, Batch 40 loss: 3.1299172282218932\n",
            "Epoch 2, Batch 60 loss: 3.0846861720085146\n",
            "Epoch 2, Batch 80 loss: 2.9695508241653443\n",
            "Epoch 2, Batch 100 loss: 3.0347047924995421\n",
            "Epoch 2, Batch 120 loss: 3.0541006207466124\n",
            "Epoch 3, Batch 20 loss: 3.0837584257125856\n",
            "Epoch 3, Batch 40 loss: 2.9755336642265320\n",
            "Epoch 3, Batch 60 loss: 3.0985632777214049\n",
            "Epoch 3, Batch 80 loss: 2.9769061326980593\n",
            "Epoch 3, Batch 100 loss: 3.0614796996116640\n",
            "Epoch 3, Batch 120 loss: 3.0741909265518190\n",
            "Epoch 4, Batch 20 loss: 3.0365611553192138\n",
            "Epoch 4, Batch 40 loss: 3.0279438495635986\n",
            "Epoch 4, Batch 60 loss: 3.0284646749496460\n",
            "Epoch 4, Batch 80 loss: 3.0728445529937742\n",
            "Epoch 4, Batch 100 loss: 2.9807858824729920\n",
            "Epoch 4, Batch 120 loss: 3.0439455270767213\n",
            "Epoch 5, Batch 20 loss: 3.0661710977554320\n",
            "Epoch 5, Batch 40 loss: 3.1048632860183716\n",
            "Epoch 5, Batch 60 loss: 2.9961367368698122\n",
            "Epoch 5, Batch 80 loss: 3.0502464890480043\n",
            "Epoch 5, Batch 100 loss: 3.0147179365158081\n",
            "Epoch 5, Batch 120 loss: 3.0714618682861330\n",
            "Epoch 6, Batch 20 loss: 3.0782291293144226\n",
            "Epoch 6, Batch 40 loss: 3.0438977599143984\n",
            "Epoch 6, Batch 60 loss: 3.0454026699066161\n",
            "Epoch 6, Batch 80 loss: 3.0213852763175963\n",
            "Epoch 6, Batch 100 loss: 2.9579528927803040\n",
            "Epoch 6, Batch 120 loss: 3.0785311222076417\n",
            "Epoch 7, Batch 20 loss: 3.0877466797828674\n",
            "Epoch 7, Batch 40 loss: 2.9147241473197938\n",
            "Epoch 7, Batch 60 loss: 2.9681847572326658\n",
            "Epoch 7, Batch 80 loss: 3.1176667809486389\n",
            "Epoch 7, Batch 100 loss: 3.0292141437530518\n",
            "Epoch 7, Batch 120 loss: 3.0339406728744507\n",
            "Epoch 8, Batch 20 loss: 2.9814959645271299\n",
            "Epoch 8, Batch 40 loss: 3.0340844631195067\n",
            "Epoch 8, Batch 60 loss: 3.0265300512313842\n",
            "Epoch 8, Batch 80 loss: 2.9649768352508543\n",
            "Epoch 8, Batch 100 loss: 3.0459231495857240\n",
            "Epoch 8, Batch 120 loss: 3.0824840784072878\n",
            "Epoch 9, Batch 20 loss: 3.0173033475875854\n",
            "Epoch 9, Batch 40 loss: 2.9624940514564515\n",
            "Epoch 9, Batch 60 loss: 3.0085101962089538\n",
            "Epoch 9, Batch 80 loss: 3.0336218833923341\n",
            "Epoch 9, Batch 100 loss: 3.0154487729072570\n",
            "Epoch 9, Batch 120 loss: 3.0391174197196960\n",
            "Epoch 10, Batch 20 loss: 3.0083775043487551\n",
            "Epoch 10, Batch 40 loss: 3.0668846964836121\n",
            "Epoch 10, Batch 60 loss: 2.9523161292076110\n",
            "Epoch 10, Batch 80 loss: 3.0752874732017519\n",
            "Epoch 10, Batch 100 loss: 3.0452746152877808\n",
            "Epoch 10, Batch 120 loss: 2.9164244771003722\n",
            "Epoch 11, Batch 20 loss: 2.9264309644699096\n",
            "Epoch 11, Batch 40 loss: 3.0237417459487914\n",
            "Epoch 11, Batch 60 loss: 2.9881346702575682\n",
            "Epoch 11, Batch 80 loss: 3.1203763842582704\n",
            "Epoch 11, Batch 100 loss: 2.9428082466125489\n",
            "Epoch 11, Batch 120 loss: 3.0291745424270631\n",
            "Epoch 12, Batch 20 loss: 2.9245934128761291\n",
            "Epoch 12, Batch 40 loss: 3.0148951053619384\n",
            "Epoch 12, Batch 60 loss: 3.0362117290496826\n",
            "Epoch 12, Batch 80 loss: 3.0565965175628662\n",
            "Epoch 12, Batch 100 loss: 2.8345051050186156\n",
            "Epoch 12, Batch 120 loss: 3.0350645303726198\n",
            "Epoch 13, Batch 20 loss: 2.9411483526229860\n",
            "Epoch 13, Batch 40 loss: 2.9636135697364807\n",
            "Epoch 13, Batch 60 loss: 2.9568128943443299\n",
            "Epoch 13, Batch 80 loss: 3.0176814675331114\n",
            "Epoch 13, Batch 100 loss: 2.9960830688476561\n",
            "Epoch 13, Batch 120 loss: 2.9526226878166200\n",
            "Epoch 14, Batch 20 loss: 2.8939754605293273\n",
            "Epoch 14, Batch 40 loss: 2.9076198935508728\n",
            "Epoch 14, Batch 60 loss: 2.9292142033576964\n",
            "Epoch 14, Batch 80 loss: 3.1037752151489260\n",
            "Epoch 14, Batch 100 loss: 2.9365115165710449\n",
            "Epoch 14, Batch 120 loss: 2.9173842191696169\n",
            "Epoch 15, Batch 20 loss: 2.9316302180290221\n",
            "Epoch 15, Batch 40 loss: 2.9875643491744994\n",
            "Epoch 15, Batch 60 loss: 2.8703041434288026\n",
            "Epoch 15, Batch 80 loss: 3.0022576093673705\n",
            "Epoch 15, Batch 100 loss: 2.9401439428329468\n",
            "Epoch 15, Batch 120 loss: 2.8385126709938051\n",
            "Epoch 16, Batch 20 loss: 3.0121891260147096\n",
            "Epoch 16, Batch 40 loss: 2.9216780304908752\n",
            "Epoch 16, Batch 60 loss: 2.9857198119163515\n",
            "Epoch 16, Batch 80 loss: 2.9670170068740847\n",
            "Epoch 16, Batch 100 loss: 2.7791584730148315\n",
            "Epoch 16, Batch 120 loss: 2.7383769154548645\n",
            "Epoch 17, Batch 20 loss: 2.8665271520614626\n",
            "Epoch 17, Batch 40 loss: 2.8636430025100710\n",
            "Epoch 17, Batch 60 loss: 2.8488596439361573\n",
            "Epoch 17, Batch 80 loss: 3.0056622624397278\n",
            "Epoch 17, Batch 100 loss: 2.8489350199699404\n",
            "Epoch 17, Batch 120 loss: 2.7433855772018432\n",
            "Epoch 18, Batch 20 loss: 2.6966731667518617\n",
            "Epoch 18, Batch 40 loss: 2.8152968645095826\n",
            "Epoch 18, Batch 60 loss: 2.7393862009048462\n",
            "Epoch 18, Batch 80 loss: 2.7527895689010622\n",
            "Epoch 18, Batch 100 loss: 2.7078828454017638\n",
            "Epoch 18, Batch 120 loss: 2.5938623547554016\n",
            "Epoch 19, Batch 20 loss: 2.5527878284454344\n",
            "Epoch 19, Batch 40 loss: 2.5822280049324036\n",
            "Epoch 19, Batch 60 loss: 2.7055188417434692\n",
            "Epoch 19, Batch 80 loss: 2.7262735366821289\n",
            "Epoch 19, Batch 100 loss: 2.7777099013328552\n",
            "Epoch 19, Batch 120 loss: 2.6146085739135740\n",
            "Epoch 20, Batch 20 loss: 2.5925216436386109\n",
            "Epoch 20, Batch 40 loss: 2.5346878588199617\n",
            "Epoch 20, Batch 60 loss: 2.6697719931602477\n",
            "Epoch 20, Batch 80 loss: 2.5328253507614136\n",
            "Epoch 20, Batch 100 loss: 2.7021576523780824\n",
            "Epoch 20, Batch 120 loss: 2.5758596420288087\n",
            "Epoch 21, Batch 20 loss: 2.7416277766227721\n",
            "Epoch 21, Batch 40 loss: 2.6427162408828737\n",
            "Epoch 21, Batch 60 loss: 2.4541260600090027\n",
            "Epoch 21, Batch 80 loss: 2.5283485651016235\n",
            "Epoch 21, Batch 100 loss: 2.6152557492256165\n",
            "Epoch 21, Batch 120 loss: 2.4577578186988829\n",
            "Epoch 22, Batch 20 loss: 2.4894043684005736\n",
            "Epoch 22, Batch 40 loss: 2.5796471953392031\n",
            "Epoch 22, Batch 60 loss: 2.5888827800750733\n",
            "Epoch 22, Batch 80 loss: 2.5098675489425659\n",
            "Epoch 22, Batch 100 loss: 2.4414579868316650\n",
            "Epoch 22, Batch 120 loss: 2.5024760961532593\n",
            "Epoch 23, Batch 20 loss: 2.6091053605079653\n",
            "Epoch 23, Batch 40 loss: 2.5009541630744936\n",
            "Epoch 23, Batch 60 loss: 2.3849615573883058\n",
            "Epoch 23, Batch 80 loss: 2.4393911600112914\n",
            "Epoch 23, Batch 100 loss: 2.2981088161468506\n",
            "Epoch 23, Batch 120 loss: 2.4383426666259767\n",
            "Epoch 24, Batch 20 loss: 2.1951441347599028\n",
            "Epoch 24, Batch 40 loss: 2.4004984617233278\n",
            "Epoch 24, Batch 60 loss: 2.3997394561767580\n",
            "Epoch 24, Batch 80 loss: 2.3499953985214233\n",
            "Epoch 24, Batch 100 loss: 2.4161342859268187\n",
            "Epoch 24, Batch 120 loss: 2.3426056385040281\n",
            "Epoch 25, Batch 20 loss: 2.3270689725875853\n",
            "Epoch 25, Batch 40 loss: 2.3681802153587341\n",
            "Epoch 25, Batch 60 loss: 2.2090164661407470\n",
            "Epoch 25, Batch 80 loss: 2.2608283817768098\n",
            "Epoch 25, Batch 100 loss: 2.1925912320613863\n",
            "Epoch 25, Batch 120 loss: 2.2103929877281190\n",
            "Epoch 26, Batch 20 loss: 2.2333761572837831\n",
            "Epoch 26, Batch 40 loss: 2.2086859345436096\n",
            "Epoch 26, Batch 60 loss: 2.1996102333068848\n",
            "Epoch 26, Batch 80 loss: 2.1102091193199159\n",
            "Epoch 26, Batch 100 loss: 2.1754638910293580\n",
            "Epoch 26, Batch 120 loss: 2.1239289402961732\n",
            "Epoch 27, Batch 20 loss: 2.1930417656898498\n",
            "Epoch 27, Batch 40 loss: 2.3087984859943389\n",
            "Epoch 27, Batch 60 loss: 2.0231149971485136\n",
            "Epoch 27, Batch 80 loss: 2.1488520026206972\n",
            "Epoch 27, Batch 100 loss: 2.0363975882530214\n",
            "Epoch 27, Batch 120 loss: 2.0742328345775602\n",
            "Epoch 28, Batch 20 loss: 2.1254030048847197\n",
            "Epoch 28, Batch 40 loss: 2.1152882933616639\n",
            "Epoch 28, Batch 60 loss: 2.1472284674644468\n",
            "Epoch 28, Batch 80 loss: 2.0867347240448000\n",
            "Epoch 28, Batch 100 loss: 2.0214569389820101\n",
            "Epoch 28, Batch 120 loss: 2.1249044179916381\n",
            "Epoch 29, Batch 20 loss: 1.9847837328910827\n",
            "Epoch 29, Batch 40 loss: 2.0090542495250703\n",
            "Epoch 29, Batch 60 loss: 2.0746633231639864\n",
            "Epoch 29, Batch 80 loss: 2.0436033725738527\n",
            "Epoch 29, Batch 100 loss: 2.0889975428581238\n",
            "Epoch 29, Batch 120 loss: 2.0946665465831757\n",
            "Epoch 30, Batch 20 loss: 1.9724114716053009\n",
            "Epoch 30, Batch 40 loss: 2.0980677902698517\n",
            "Epoch 30, Batch 60 loss: 2.0872432231903075\n",
            "Epoch 30, Batch 80 loss: 1.9242825269699098\n",
            "Epoch 30, Batch 100 loss: 2.1304209530353546\n",
            "Epoch 30, Batch 120 loss: 1.9648244857788086\n",
            "Epoch 31, Batch 20 loss: 1.9976927876472472\n",
            "Epoch 31, Batch 40 loss: 2.0596964061260223\n",
            "Epoch 31, Batch 60 loss: 2.0938458442687988\n",
            "Epoch 31, Batch 80 loss: 1.9401905298233033\n",
            "Epoch 31, Batch 100 loss: 1.9441244900226593\n",
            "Epoch 31, Batch 120 loss: 2.0170217752456665\n",
            "Epoch 32, Batch 20 loss: 2.0162204921245577\n",
            "Epoch 32, Batch 40 loss: 1.9446240007877349\n",
            "Epoch 32, Batch 60 loss: 2.0436821162700651\n",
            "Epoch 32, Batch 80 loss: 2.0713898777961730\n",
            "Epoch 32, Batch 100 loss: 1.9364839732646941\n",
            "Epoch 32, Batch 120 loss: 1.9337490618228912\n",
            "Epoch 33, Batch 20 loss: 1.9616727292537690\n",
            "Epoch 33, Batch 40 loss: 1.8892974853515625\n",
            "Epoch 33, Batch 60 loss: 2.0823169112205506\n",
            "Epoch 33, Batch 80 loss: 2.0223300516605378\n",
            "Epoch 33, Batch 100 loss: 2.0136853754520416\n",
            "Epoch 33, Batch 120 loss: 1.9487453043460845\n",
            "Epoch 34, Batch 20 loss: 1.8767946898937224\n",
            "Epoch 34, Batch 40 loss: 1.8702698647975922\n",
            "Epoch 34, Batch 60 loss: 2.0670364439487456\n",
            "Epoch 34, Batch 80 loss: 2.0256558775901796\n",
            "Epoch 34, Batch 100 loss: 1.9607838094234467\n",
            "Epoch 34, Batch 120 loss: 1.8987057209014893\n",
            "Epoch 35, Batch 20 loss: 2.0302269339561461\n",
            "Epoch 35, Batch 40 loss: 1.9032218217849732\n",
            "Epoch 35, Batch 60 loss: 1.9701435744762421\n",
            "Epoch 35, Batch 80 loss: 2.0115252196788789\n",
            "Epoch 35, Batch 100 loss: 1.9099500179290771\n",
            "Epoch 35, Batch 120 loss: 2.0346678197383881\n",
            "Epoch 36, Batch 20 loss: 1.8188153207302094\n",
            "Epoch 36, Batch 40 loss: 1.8806763768196106\n",
            "Epoch 36, Batch 60 loss: 1.9509902358055116\n",
            "Epoch 36, Batch 80 loss: 1.9417265653610229\n",
            "Epoch 36, Batch 100 loss: 2.0007762849330901\n",
            "Epoch 36, Batch 120 loss: 2.0678987562656403\n",
            "Epoch 37, Batch 20 loss: 1.9869844138622283\n",
            "Epoch 37, Batch 40 loss: 1.9777231216430664\n",
            "Epoch 37, Batch 60 loss: 1.8698956906795501\n",
            "Epoch 37, Batch 80 loss: 1.8562964379787446\n",
            "Epoch 37, Batch 100 loss: 1.9479438662528992\n",
            "Epoch 37, Batch 120 loss: 1.9893043816089631\n",
            "Epoch 38, Batch 20 loss: 1.8392071902751923\n",
            "Epoch 38, Batch 40 loss: 1.9907433927059173\n",
            "Epoch 38, Batch 60 loss: 1.9004998505115509\n",
            "Epoch 38, Batch 80 loss: 2.1284196674823761\n",
            "Epoch 38, Batch 100 loss: 1.6916375219821931\n",
            "Epoch 38, Batch 120 loss: 1.9242473661899566\n",
            "Epoch 39, Batch 20 loss: 1.8697698831558227\n",
            "Epoch 39, Batch 40 loss: 2.0465016603469848\n",
            "Epoch 39, Batch 60 loss: 1.8865709364414216\n",
            "Epoch 39, Batch 80 loss: 1.9174761772155762\n",
            "Epoch 39, Batch 100 loss: 1.9873644471168519\n",
            "Epoch 39, Batch 120 loss: 1.9391714692115785\n",
            "Epoch 40, Batch 20 loss: 1.8901353418827056\n",
            "Epoch 40, Batch 40 loss: 1.8864817440509796\n",
            "Epoch 40, Batch 60 loss: 1.9429949283599854\n",
            "Epoch 40, Batch 80 loss: 1.9825444579124452\n",
            "Epoch 40, Batch 100 loss: 1.9506301164627076\n",
            "Epoch 40, Batch 120 loss: 1.8676818549633025\n",
            "Epoch 41, Batch 20 loss: 1.9296970367431641\n",
            "Epoch 41, Batch 40 loss: 1.8524550795555115\n",
            "Epoch 41, Batch 60 loss: 1.8565156757831573\n",
            "Epoch 41, Batch 80 loss: 1.8219030618667602\n",
            "Epoch 41, Batch 100 loss: 2.0158120214939119\n",
            "Epoch 41, Batch 120 loss: 2.0089110493659974\n",
            "Epoch 42, Batch 20 loss: 1.8321571111679078\n",
            "Epoch 42, Batch 40 loss: 1.9557710766792298\n",
            "Epoch 42, Batch 60 loss: 1.9304524302482604\n",
            "Epoch 42, Batch 80 loss: 1.8782060503959657\n",
            "Epoch 42, Batch 100 loss: 1.8316616117954254\n",
            "Epoch 42, Batch 120 loss: 1.9635423362255096\n",
            "Epoch 43, Batch 20 loss: 1.8217948138713838\n",
            "Epoch 43, Batch 40 loss: 1.8476550757884980\n",
            "Epoch 43, Batch 60 loss: 1.9205433785915376\n",
            "Epoch 43, Batch 80 loss: 1.9649773895740510\n",
            "Epoch 43, Batch 100 loss: 1.9300137281417846\n",
            "Epoch 43, Batch 120 loss: 1.9535898685455322\n",
            "Epoch 44, Batch 20 loss: 1.9493752717971802\n",
            "Epoch 44, Batch 40 loss: 1.9733459115028382\n",
            "Epoch 44, Batch 60 loss: 1.9819468080997467\n",
            "Epoch 44, Batch 80 loss: 1.9338360548019409\n",
            "Epoch 44, Batch 100 loss: 1.8076059281826020\n",
            "Epoch 44, Batch 120 loss: 1.9120204925537110\n",
            "Epoch 45, Batch 20 loss: 1.8956223726272583\n",
            "Epoch 45, Batch 40 loss: 2.0199292421340944\n",
            "Epoch 45, Batch 60 loss: 1.7392863810062409\n",
            "Epoch 45, Batch 80 loss: 2.0513699173927309\n",
            "Epoch 45, Batch 100 loss: 1.7973786413669586\n",
            "Epoch 45, Batch 120 loss: 1.9166445255279541\n",
            "Epoch 46, Batch 20 loss: 1.7984050512313843\n",
            "Epoch 46, Batch 40 loss: 1.8432942628860474\n",
            "Epoch 46, Batch 60 loss: 1.9156510949134826\n",
            "Epoch 46, Batch 80 loss: 2.0473815143108367\n",
            "Epoch 46, Batch 100 loss: 1.8784482419490813\n",
            "Epoch 46, Batch 120 loss: 1.8246075510978699\n",
            "Epoch 47, Batch 20 loss: 2.0151309669017792\n",
            "Epoch 47, Batch 40 loss: 1.7189253985881805\n",
            "Epoch 47, Batch 60 loss: 2.0173444271087648\n",
            "Epoch 47, Batch 80 loss: 1.9308717072010040\n",
            "Epoch 47, Batch 100 loss: 1.9586913049221040\n",
            "Epoch 47, Batch 120 loss: 1.8397929549217225\n",
            "Epoch 48, Batch 20 loss: 1.8545253098011016\n",
            "Epoch 48, Batch 40 loss: 1.7828272342681886\n",
            "Epoch 48, Batch 60 loss: 1.9484616100788117\n",
            "Epoch 48, Batch 80 loss: 1.8873719096183776\n",
            "Epoch 48, Batch 100 loss: 1.9576325893402100\n",
            "Epoch 48, Batch 120 loss: 2.0218697845935822\n",
            "Epoch 49, Batch 20 loss: 2.0004016697406768\n",
            "Epoch 49, Batch 40 loss: 1.9944201827049255\n",
            "Epoch 49, Batch 60 loss: 1.8224971950054170\n",
            "Epoch 49, Batch 80 loss: 1.7856236636638640\n",
            "Epoch 49, Batch 100 loss: 1.7546434164047242\n",
            "Epoch 49, Batch 120 loss: 2.0281808674335480\n",
            "Epoch 50, Batch 20 loss: 1.9638949155807495\n",
            "Epoch 50, Batch 40 loss: 1.8346902251243591\n",
            "Epoch 50, Batch 60 loss: 2.0146631479263304\n",
            "Epoch 50, Batch 80 loss: 1.9271643877029419\n",
            "Epoch 50, Batch 100 loss: 1.7456410169601440\n",
            "Epoch 50, Batch 120 loss: 1.9439680576324463\n"
          ]
        }
      ]
    },
    {
      "cell_type": "code",
      "metadata": {
        "id": "CfA7ZjLR1BZP",
        "colab": {
          "base_uri": "https://localhost:8080/",
          "height": 281
        },
        "outputId": "c05f94c8-d6b8-4858-80f7-f1ff6b66424f"
      },
      "source": [
        "plt.plot(train_losses)\n",
        "plt.title(\"Training Loss\")\n",
        "plt.show()"
      ],
      "execution_count": 17,
      "outputs": [
        {
          "output_type": "display_data",
          "data": {
            "image/png": "[encoded data removed]",
            "text/plain": [
              "<Figure size 432x288 with 1 Axes>"
            ]
          },
          "metadata": {
            "needs_background": "light"
          }
        }
      ]
    },
    {
      "cell_type": "markdown",
      "metadata": {
        "id": "ItLyF9dQyJFL"
      },
      "source": [
        "Testing the model"
      ]
    },
    {
      "cell_type": "code",
      "metadata": {
        "id": "gGki98W3SoEW"
      },
      "source": [
        "from sklearn.metrics import precision_score, recall_score, f1_score, accuracy_score"
      ],
      "execution_count": 18,
      "outputs": []
    },
    {
      "cell_type": "code",
      "metadata": {
        "id": "xNavYOynyE6d",
        "colab": {
          "base_uri": "https://localhost:8080/"
        },
        "outputId": "8ecd50e4-e8c4-4ac5-bb6f-1084f65e9f7a"
      },
      "source": [
        "# The test_model function is from model_testing python file\n",
        "test_loss, class_correct, class_total, labels, predictions = test_model(classes, glyphnet, test_loader, criterion)\n",
        "\n",
        "# Test accuracy for each hieroglyph\n",
        "for i in range(len(classes)):\n",
        "    if class_total[i] > 0:\n",
        "        print('Test Accuracy of %5s: %2d%% (%2d/%2d)' % (classes[i], 100 * class_correct[i] / class_total[i], np.sum(class_correct[i]), np.sum(class_total[i])))\n",
        "    else:\n",
        "        print('Test Accuracy of %5s: N/A (no training examples)' % (classes[i]))\n",
        "\n",
        "# Total Test accuracy\n",
        "print(\"\\nAccuracy: {:.3%}\".format(accuracy_score(labels, predictions)))\n",
        "print(\"\\nPrecision: {:.3%}\".format(precision_score(labels, predictions, average = 'weighted')))\n",
        "print(\"\\nRecall: {:.3%}\".format(recall_score(labels, predictions, average = 'weighted')))\n",
        "print(\"\\nF1-score: {:.3%}\".format(f1_score(labels, predictions, average = 'weighted')))"
      ],
      "execution_count": 19,
      "outputs": [
        {
          "output_type": "stream",
          "name": "stdout",
          "text": [
            "Test Loss: 1.941729\n",
            "\n",
            "Test Accuracy of    D2:  0% ( 0/ 5)\n",
            "Test Accuracy of   D21: 33% (12/36)\n",
            "Test Accuracy of   D36:  0% ( 0/12)\n",
            "Test Accuracy of    D4:  0% ( 0/ 8)\n",
            "Test Accuracy of   D46:  0% ( 0/11)\n",
            "Test Accuracy of   D58:  0% ( 0/ 8)\n",
            "Test Accuracy of   E23:  0% ( 0/ 2)\n",
            "Test Accuracy of   E34: 12% ( 3/25)\n",
            "Test Accuracy of   F31:  0% ( 0/ 2)\n",
            "Test Accuracy of   F35:  0% ( 0/ 1)\n",
            "Test Accuracy of    G1:  0% ( 0/ 7)\n",
            "Test Accuracy of   G17: 61% (24/39)\n",
            "Test Accuracy of   G43: 25% (10/40)\n",
            "Test Accuracy of   I10:  0% ( 0/ 9)\n",
            "Test Accuracy of    I9:  0% ( 0/30)\n",
            "Test Accuracy of   M17: 76% (56/73)\n",
            "Test Accuracy of   M23:  0% ( 0/ 8)\n",
            "Test Accuracy of   N35: 97% (88/90)\n",
            "Test Accuracy of    O1:  0% ( 0/ 4)\n",
            "Test Accuracy of   O34:  0% ( 0/ 4)\n",
            "Test Accuracy of    O4:  0% ( 0/ 2)\n",
            "Test Accuracy of   O49:  0% ( 0/ 3)\n",
            "Test Accuracy of    Q1:  0% ( 0/ 4)\n",
            "Test Accuracy of    Q3:  0% ( 0/16)\n",
            "Test Accuracy of    R4:  0% ( 0/ 1)\n",
            "Test Accuracy of    R8:  0% ( 0/14)\n",
            "Test Accuracy of   S29: 79% (42/53)\n",
            "Test Accuracy of   S34:  0% ( 0/ 2)\n",
            "Test Accuracy of    U7:  0% ( 0/ 1)\n",
            "Test Accuracy of   V13:  0% ( 0/16)\n",
            "Test Accuracy of   V28:  0% ( 0/ 8)\n",
            "Test Accuracy of   V30:  0% ( 0/ 2)\n",
            "Test Accuracy of   V31:  0% ( 0/27)\n",
            "Test Accuracy of   W11:  0% ( 0/ 1)\n",
            "Test Accuracy of   W24:  0% ( 0/ 8)\n",
            "Test Accuracy of    X1: 89% (42/47)\n",
            "Test Accuracy of    X8:  0% ( 0/ 1)\n",
            "Test Accuracy of    Y1:  0% ( 0/ 1)\n",
            "Test Accuracy of    Y5:  0% ( 0/ 2)\n",
            "Test Accuracy of    Z1:  0% ( 0/10)\n",
            "\n",
            "Accuracy: 43.760%\n",
            "\n",
            "Precision: 29.913%\n",
            "\n",
            "Recall: 43.760%\n",
            "\n",
            "F1-score: 34.112%\n"
          ]
        },
        {
          "output_type": "stream",
          "name": "stderr",
          "text": [
            "/usr/local/lib/python3.7/dist-packages/sklearn/metrics/_classification.py:1308: UndefinedMetricWarning: Precision is ill-defined and being set to 0.0 in labels with no predicted samples. Use `zero_division` parameter to control this behavior.\n",
            "  _warn_prf(average, modifier, msg_start, len(result))\n"
          ]
        }
      ]
    }
  ]
}