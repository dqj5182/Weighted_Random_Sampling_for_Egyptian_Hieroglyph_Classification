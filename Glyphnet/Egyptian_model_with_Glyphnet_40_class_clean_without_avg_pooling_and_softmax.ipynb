{
  "nbformat": 4,
  "nbformat_minor": 0,
  "metadata": {
    "accelerator": "GPU",
    "colab": {
      "name": "Egyptian_model_with_Glyphnet_40_class_clean_without_avg_pooling_and_softmax.ipynb",
      "provenance": [],
      "collapsed_sections": []
    },
    "kernelspec": {
      "display_name": "Python 3",
      "name": "python3"
    },
    "language_info": {
      "name": "python"
    }
  },
  "cells": [
    {
      "cell_type": "code",
      "metadata": {
        "id": "8iEiGSblxJzW"
      },
      "source": [
        "import os, os.path\n",
        "import torch\n",
        "import numpy as np\n",
        "import torch.nn as nn\n",
        "import torch.nn.functional as F\n",
        "import torch.optim as optim\n",
        "from pathlib import Path\n",
        "from torchvision import datasets, models, transforms\n",
        "\n",
        "# check if CUDA is available\n",
        "train_on_gpu = torch.cuda.is_available()"
      ],
      "execution_count": 1,
      "outputs": []
    },
    {
      "cell_type": "markdown",
      "metadata": {
        "id": "Jd6KU8VMz6J3"
      },
      "source": [
        "Module: Load_data"
      ]
    },
    {
      "cell_type": "code",
      "metadata": {
        "id": "8lWX0BW_w_kC"
      },
      "source": [
        "def load_data(hieroglyph_directory_path, batch_size=20, num_workers=0):\n",
        "    train_dir = os.path.join(hieroglyph_directory_path, 'train/')\n",
        "    test_dir = os.path.join(hieroglyph_directory_path, 'test/')\n",
        "\n",
        "    classes = []\n",
        "\n",
        "    for filename in os.listdir(train_dir):\n",
        "        if filename == '.DS_Store':\n",
        "            pass\n",
        "        else:\n",
        "            classes.append(filename)\n",
        "\n",
        "    classes.sort()\n",
        "\n",
        "    # print(\"Our classes:\", classes)\n",
        "    # print(len(classes))\n",
        "\n",
        "    data_transform = transforms.Compose([transforms.ToTensor(),\n",
        "                                                transforms.RandomApply([transforms.RandomHorizontalFlip()]),\n",
        "                                                transforms.RandomRotation(degrees=(-10, 10)),\n",
        "                                                transforms.RandomAffine(degrees=0, translate=(.1, .1)),\n",
        "                                                transforms.RandomApply([transforms.ColorJitter(brightness=(1, 1.2),\n",
        "                                                                                                contrast=(1, 1.5),\n",
        "                                                                                                saturation=(1, 1.5),\n",
        "                                                                                                hue=(0, 0.5))]),\n",
        "                                                transforms.RandomErasing(p=0.5, scale=(0.05, 0.05), ratio=(0.3, 3.3), value=0,\n",
        "                                                                          inplace=False),\n",
        "                                                transforms.Resize((100, 100)),\n",
        "                                                transforms.Normalize((0.5,), (0.5,))])\n",
        "\n",
        "    train_data = datasets.ImageFolder(train_dir, transform=data_transform)\n",
        "    test_data = datasets.ImageFolder(test_dir, transform=data_transform)\n",
        "\n",
        "    # print('Num training images: ', len(train_data))\n",
        "    # print('Num test images: ', len(test_data))\n",
        "\n",
        "    # prepare data loaders\n",
        "    train_loader = torch.utils.data.DataLoader(train_data, batch_size=batch_size,\n",
        "                                               num_workers=num_workers, shuffle=True)\n",
        "    test_loader = torch.utils.data.DataLoader(test_data, batch_size=batch_size,\n",
        "                                              num_workers=num_workers, shuffle=True)\n",
        "\n",
        "    return train_loader, test_loader, classes"
      ],
      "execution_count": 2,
      "outputs": []
    },
    {
      "cell_type": "markdown",
      "metadata": {
        "id": "K4sXUrPPz7iF"
      },
      "source": [
        "Module: Train_model"
      ]
    },
    {
      "cell_type": "code",
      "metadata": {
        "id": "N2N_rnKLxN5c"
      },
      "source": [
        "def train_model(train_loader, optimizer, conv_net, criterion, my_lr_scheduler, n_epochs):\n",
        "    # track training loss over time\n",
        "    losses = []\n",
        "    \n",
        "    for epoch in range(1, n_epochs + 1):\n",
        "\n",
        "        # keep track of training and validation loss\n",
        "        train_loss = 0.0\n",
        "\n",
        "        # model by default is set to train\n",
        "        for batch_i, (data, target) in enumerate(train_loader):\n",
        "            # move tensors to GPU if CUDA is available\n",
        "            if train_on_gpu:\n",
        "                data, target = data.cuda(), target.cuda()\n",
        "            # clear the gradients of all optimized variables\n",
        "            optimizer.zero_grad()\n",
        "            # forward pass: compute predicted outputs by passing inputs to the model\n",
        "            output = conv_net(data)\n",
        "\n",
        "            # calculate the batch loss\n",
        "            loss = criterion(output, target)\n",
        "            # backward pass: compute gradient of the loss with respect to model parameters\n",
        "            loss.backward()\n",
        "            # perform a single optimization step (parameter update)\n",
        "            optimizer.step()\n",
        "            # update training loss\n",
        "            train_loss += loss.item()\n",
        "\n",
        "            my_lr_scheduler.step()\n",
        "\n",
        "            if batch_i % 20 == 19:  # print training loss every specified number of mini-batches\n",
        "                print('Epoch %d, Batch %d loss: %.16f' %\n",
        "                    (epoch, batch_i + 1, train_loss / 20))\n",
        "                losses.append(train_loss / 20)\n",
        "                train_loss = 0.0\n",
        "        \n",
        "        \n",
        "\n",
        "    return conv_net, losses"
      ],
      "execution_count": 3,
      "outputs": []
    },
    {
      "cell_type": "markdown",
      "metadata": {
        "id": "-Rrxo5RDz96U"
      },
      "source": [
        "Module: Test_model"
      ]
    },
    {
      "cell_type": "code",
      "metadata": {
        "id": "Ay-HlMJnxU9v"
      },
      "source": [
        "def test_model(classes, conv_net, test_loader, criterion):\n",
        "    # track test loss\n",
        "    test_loss = 0.0\n",
        "    class_correct = list(0. for i in range(len(classes)))\n",
        "    class_total = list(0. for i in range(len(classes)))\n",
        "\n",
        "    conv_net.eval()  # eval mode\n",
        "\n",
        "    labels = []\n",
        "    predictions = []\n",
        "    # iterate over test data\n",
        "    for data, target in test_loader:\n",
        "        # move tensors to GPU if CUDA is available\n",
        "        if train_on_gpu:\n",
        "            data, target = data.cuda(), target.cuda()\n",
        "        # forward pass: compute predicted outputs by passing inputs to the model\n",
        "        output = conv_net(data)\n",
        "        # calculate the batch loss\n",
        "        loss = criterion(output, target)\n",
        "        # update  test loss\n",
        "        test_loss += loss.item() * data.size(0)\n",
        "        # convert output probabilities to predicted class\n",
        "        _, pred = torch.max(output, 1)\n",
        "\n",
        "        # compare predictions to true label\n",
        "        correct_tensor = pred.eq(target.data.view_as(pred))\n",
        "        correct = np.squeeze(correct_tensor.numpy()) if not train_on_gpu else np.squeeze(correct_tensor.cpu().numpy())\n",
        "        # calculate test accuracy for each object class\n",
        "        for i in range(len(target.data)):\n",
        "            label = target.data[i]\n",
        "            class_correct[label] += correct[i].item()\n",
        "            class_total[label] += 1\n",
        "        \n",
        "        # Will be used for calculating Recall, Precision, and F1-score\n",
        "        labels.extend(target.data.view_as(pred).tolist())\n",
        "        predictions.extend(pred.tolist())\n",
        "\n",
        "\n",
        "    # calculate avg test loss\n",
        "    test_loss = test_loss / len(test_loader.dataset)\n",
        "    print('Test Loss: {:.6f}\\n'.format(test_loss))\n",
        "\n",
        "    return test_loss, class_correct, class_total, labels, predictions"
      ],
      "execution_count": 4,
      "outputs": []
    },
    {
      "cell_type": "markdown",
      "metadata": {
        "id": "xHh3PXE80Asa"
      },
      "source": [
        "Check whether CUDA is available (Change runtime type if not)"
      ]
    },
    {
      "cell_type": "code",
      "metadata": {
        "colab": {
          "base_uri": "https://localhost:8080/"
        },
        "id": "Q9TYPQH7x4zw",
        "outputId": "c16c83c6-e1c8-47e0-b156-22dc4dfb7e86"
      },
      "source": [
        "if not train_on_gpu:\n",
        "    print('CUDA is not available.  Training on CPU ...')\n",
        "else:\n",
        "    print('CUDA is available!  Training on GPU ...')"
      ],
      "execution_count": 5,
      "outputs": [
        {
          "output_type": "stream",
          "name": "stdout",
          "text": [
            "CUDA is available!  Training on GPU ...\n"
          ]
        }
      ]
    },
    {
      "cell_type": "markdown",
      "metadata": {
        "id": "6lYw8EKVx8Q7"
      },
      "source": [
        "Load Hieroglyph Data"
      ]
    },
    {
      "cell_type": "code",
      "metadata": {
        "colab": {
          "base_uri": "https://localhost:8080/"
        },
        "id": "laLvoRy1yewl",
        "outputId": "5b393cc0-5606-472f-dcfd-07a965e8c491"
      },
      "source": [
        "# Connecting and Mounting to the Google Drive\n",
        "from google.colab import drive\n",
        "drive.mount('/content/drive')"
      ],
      "execution_count": 6,
      "outputs": [
        {
          "output_type": "stream",
          "name": "stdout",
          "text": [
            "Drive already mounted at /content/drive; to attempt to forcibly remount, call drive.mount(\"/content/drive\", force_remount=True).\n"
          ]
        }
      ]
    },
    {
      "cell_type": "code",
      "metadata": {
        "id": "odaoZt9GyfUt"
      },
      "source": [
        "data_dir = '/content/drive/MyDrive/EgyptianHieroglyphDataset_Original_Clean/'"
      ],
      "execution_count": 7,
      "outputs": []
    },
    {
      "cell_type": "code",
      "metadata": {
        "colab": {
          "base_uri": "https://localhost:8080/"
        },
        "id": "dF22MAnmyiC1",
        "outputId": "f47149a8-3c7c-451d-db79-0fc60499fdd7"
      },
      "source": [
        "hieroglyph_for_train = []\n",
        "file_count_list = []\n",
        "\n",
        "for name in os.listdir('/content/drive/MyDrive/EgyptianHieroglyphDataset_Original_Clean/train/'):\n",
        "  path, dirs, files = next(os.walk(\"/content/drive/MyDrive/EgyptianHieroglyphDataset_Original_Clean/train/\"+name))\n",
        "  file_count = len(files)\n",
        "  print(name, file_count)\n",
        "  file_count_list.append(file_count)\n",
        "  hieroglyph_for_train.append(name)\n",
        "\n",
        "hieroglyph_dict = dict(zip(hieroglyph_for_train, file_count_list))"
      ],
      "execution_count": 8,
      "outputs": [
        {
          "output_type": "stream",
          "name": "stdout",
          "text": [
            "Y5 6\n",
            "I9 116\n",
            "O34 15\n",
            "V13 63\n",
            "U7 3\n",
            "D46 40\n",
            "E34 97\n",
            "G1 28\n",
            "V31 106\n",
            "S34 8\n",
            "D36 47\n",
            "Q1 13\n",
            "V30 6\n",
            "F35 2\n",
            "O4 11\n",
            "M23 30\n",
            "S29 212\n",
            "R8 53\n",
            "W11 4\n",
            "X1 185\n",
            "Y1 1\n",
            "D21 146\n",
            "D2 19\n",
            "E23 8\n",
            "X8 4\n",
            "Z1 39\n",
            "D4 29\n",
            "V28 28\n",
            "I10 32\n",
            "O1 16\n",
            "M17 291\n",
            "F31 6\n",
            "G43 157\n",
            "D58 28\n",
            "O49 10\n",
            "G17 156\n",
            "R4 2\n",
            "Q3 61\n",
            "W24 31\n",
            "N35 358\n"
          ]
        }
      ]
    },
    {
      "cell_type": "markdown",
      "metadata": {
        "id": "XeQQ7PjZzKd9"
      },
      "source": [
        "Number of images for each hieroglyph "
      ]
    },
    {
      "cell_type": "code",
      "metadata": {
        "colab": {
          "base_uri": "https://localhost:8080/",
          "height": 609
        },
        "id": "W6IzWR2RyjxM",
        "outputId": "349be75a-cac4-4af4-956c-bcf23676fc13"
      },
      "source": [
        "import matplotlib.pyplot as plt\n",
        "import pandas as pd\n",
        "\n",
        "df = pd.DataFrame({\"Hieroglyph\":hieroglyph_for_train, \"Count\":file_count_list})\n",
        "\n",
        "df_sorted= df.sort_values('Count',ascending=False)\n",
        "\n",
        "plt.figure(figsize=(20,10))\n",
        "# make bar plot with matplotlib\n",
        "plt.bar('Hieroglyph', 'Count',data=df_sorted)"
      ],
      "execution_count": 9,
      "outputs": [
        {
          "output_type": "execute_result",
          "data": {
            "text/plain": [
              "<BarContainer object of 40 artists>"
            ]
          },
          "metadata": {},
          "execution_count": 9
        },
        {
          "output_type": "display_data",
          "data": {
            "image/png": "[encoded data removed]",
            "text/plain": [
              "<Figure size 1440x720 with 1 Axes>"
            ]
          },
          "metadata": {
            "needs_background": "light"
          }
        }
      ]
    },
    {
      "cell_type": "code",
      "metadata": {
        "id": "-3oOm8rSx7tp"
      },
      "source": [
        "# Number of images processed in a single training\n",
        "batch_size = 20\n",
        "num_workers = 0\n",
        "\n",
        "# The load_data function is from hieroglyph_data_preparation python file\n",
        "train_loader, test_loader, classes = load_data(data_dir)"
      ],
      "execution_count": 10,
      "outputs": []
    },
    {
      "cell_type": "markdown",
      "metadata": {
        "id": "BJm8sGiBx_q5"
      },
      "source": [
        "ResNet Model"
      ]
    },
    {
      "cell_type": "code",
      "metadata": {
        "id": "ii1UaV8yPvW_"
      },
      "source": [
        "class SeparableConv2d(nn.Module):\n",
        "    def __init__(self,in_channels,out_channels,kernel_size=3,stride=1,padding=0,dilation=1,bias=False):\n",
        "        super(SeparableConv2d,self).__init__()\n",
        "\n",
        "        self.conv1 = nn.Conv2d(in_channels,in_channels,kernel_size,stride,padding,dilation,groups=in_channels,bias=bias)\n",
        "        self.pointwise = nn.Conv2d(in_channels,out_channels,1,1,0,1,1,bias=bias)\n",
        "    \n",
        "    def forward(self,x):\n",
        "        x = self.conv1(x)\n",
        "        x = self.pointwise(x)\n",
        "        return x"
      ],
      "execution_count": 11,
      "outputs": []
    },
    {
      "cell_type": "code",
      "metadata": {
        "id": "-hnE4jAAPbnX"
      },
      "source": [
        "from torch.nn import Linear, ReLU, CrossEntropyLoss, Sequential, Conv2d, MaxPool2d, Module, Softmax, BatchNorm2d, Dropout"
      ],
      "execution_count": 12,
      "outputs": []
    },
    {
      "cell_type": "code",
      "metadata": {
        "colab": {
          "base_uri": "https://localhost:8080/",
          "height": 140
        },
        "id": "oXpu43oPMyor",
        "outputId": "026ce5af-56a7-4072-eca5-37b52ca5b6e2"
      },
      "source": [
        "'''\n",
        "class Glyphnet(torch.nn.Module):   \n",
        "    def __init__(self):\n",
        "        super(Glyphnet, self).__init__()\n",
        "\n",
        "        self.conv1 = torch.nn.Conv2d(3, 64, kernel_size = 3, stride = 1, padding = 0)\n",
        "        self.maxpool1 = MaxPool2d(kernel_size=2, stride=2)\n",
        "        self.conv2 = torch.nn.Conv2d(64, 64, kernel_size = 3, stride = 1, padding = 0)\n",
        "        self.maxpool2 = MaxPool2d(kernel_size=3, stride=2)\n",
        "\n",
        "        self.fc1 = Linear(23 * 23 * 64, 40)\n",
        "\n",
        "        #self.conv1 = torch.nn.Conv2d(3, 64, kernel_size = 3, stride = 1, padding = 0)\n",
        "        #self.conv2 = torch.nn.Conv2d(64, 64, kernel_size = 3, stride = 1, padding = 0)\n",
        "        #self.maxpool = torch.nn.MaxPool2d(kernel_size = 3, stride = 1, padding = 0)\n",
        "        #self.avgpool = torch.nn.AvgPool2d(kernel_size=66)\n",
        "\n",
        "        #self.bn1 = torch.nn.BatchNorm2d(64)\n",
        "        #self.bn2 = torch.nn.BatchNorm2d(128)\n",
        "        #self.bn3 = torch.nn.BatchNorm2d(256)\n",
        "        #self.bn4 = torch.nn.BatchNorm2d(512)\n",
        "\n",
        "        #self.separableconv1 = SeparableConv2d(64,128)\n",
        "        #self.separableconv2 = SeparableConv2d(128,128)\n",
        "        #self.separableconv3 = SeparableConv2d(128,256)\n",
        "        #self.separableconv4 = SeparableConv2d(256,256)\n",
        "        #self.separableconv5 = SeparableConv2d(256,512)\n",
        "\n",
        "        #self.drop_layer = nn.Dropout(p=0.15)\n",
        "        #self.fc1 = torch.nn.Linear(512, 40) # Should change 64 part\n",
        "        self.softmax = nn.Softmax(dim=1)\n",
        "\n",
        "    # Defining the forward pass    \n",
        "    def forward(self, x):\n",
        "        x = self.conv1(x)\n",
        "        x = self.maxpool1(x)\n",
        "        x = self.conv2(x)\n",
        "        x = self.maxpool2(x)\n",
        "\n",
        "        x = x.view(x.size(0), -1)\n",
        "        x = self.fc1(x)\n",
        "        # x = self.softmax(x) # Not a good idea (the model is trained really slow)\n",
        "\n",
        "        return x\n",
        "'''"
      ],
      "execution_count": 13,
      "outputs": [
        {
          "output_type": "execute_result",
          "data": {
            "application/vnd.google.colaboratory.intrinsic+json": {
              "type": "string"
            },
            "text/plain": [
              "'\\nclass Glyphnet(torch.nn.Module):   \\n    def __init__(self):\\n        super(Glyphnet, self).__init__()\\n\\n        self.conv1 = torch.nn.Conv2d(3, 64, kernel_size = 3, stride = 1, padding = 0)\\n        self.maxpool1 = MaxPool2d(kernel_size=2, stride=2)\\n        self.conv2 = torch.nn.Conv2d(64, 64, kernel_size = 3, stride = 1, padding = 0)\\n        self.maxpool2 = MaxPool2d(kernel_size=3, stride=2)\\n\\n        self.fc1 = Linear(23 * 23 * 64, 40)\\n\\n        #self.conv1 = torch.nn.Conv2d(3, 64, kernel_size = 3, stride = 1, padding = 0)\\n        #self.conv2 = torch.nn.Conv2d(64, 64, kernel_size = 3, stride = 1, padding = 0)\\n        #self.maxpool = torch.nn.MaxPool2d(kernel_size = 3, stride = 1, padding = 0)\\n        #self.avgpool = torch.nn.AvgPool2d(kernel_size=66)\\n\\n        #self.bn1 = torch.nn.BatchNorm2d(64)\\n        #self.bn2 = torch.nn.BatchNorm2d(128)\\n        #self.bn3 = torch.nn.BatchNorm2d(256)\\n        #self.bn4 = torch.nn.BatchNorm2d(512)\\n\\n        #self.separableconv1 = SeparableConv2d(64,128)\\n        #self.separableconv2 = SeparableConv2d(128,128)\\n        #self.separableconv3 = SeparableConv2d(128,256)\\n        #self.separableconv4 = SeparableConv2d(256,256)\\n        #self.separableconv5 = SeparableConv2d(256,512)\\n\\n        #self.drop_layer = nn.Dropout(p=0.15)\\n        #self.fc1 = torch.nn.Linear(512, 40) # Should change 64 part\\n        self.softmax = nn.Softmax(dim=1)\\n\\n    # Defining the forward pass    \\n    def forward(self, x):\\n        x = self.conv1(x)\\n        x = self.maxpool1(x)\\n        x = self.conv2(x)\\n        x = self.maxpool2(x)\\n\\n        x = x.view(x.size(0), -1)\\n        x = self.fc1(x)\\n        # x = self.softmax(x) # Not a good idea (the model is trained really slow)\\n\\n        return x\\n'"
            ]
          },
          "metadata": {},
          "execution_count": 13
        }
      ]
    },
    {
      "cell_type": "code",
      "metadata": {
        "id": "Mik3vFrCSeTd"
      },
      "source": [
        "class Glyphnet(torch.nn.Module):\n",
        "   def __init__(self):\n",
        "      super(Glyphnet, self).__init__()\n",
        "      \n",
        "      self.conv1 = torch.nn.Conv2d(3, 64, kernel_size = 3, stride = 1, padding = 0)\n",
        "      self.conv2 = torch.nn.Conv2d(64, 64, kernel_size = 3, stride = 1, padding = 0)\n",
        "      self.maxpool = torch.nn.MaxPool2d(kernel_size = 3, stride = 1, padding = 0)\n",
        "      self.avgpool = torch.nn.AvgPool2d(kernel_size=66)\n",
        "\n",
        "      self.bn1 = torch.nn.BatchNorm2d(64)\n",
        "      self.bn2 = torch.nn.BatchNorm2d(128)\n",
        "      self.bn3 = torch.nn.BatchNorm2d(256)\n",
        "      self.bn4 = torch.nn.BatchNorm2d(512)\n",
        "\n",
        "      self.separableconv1 = SeparableConv2d(64,128)\n",
        "      self.separableconv2 = SeparableConv2d(128,128)\n",
        "      self.separableconv3 = SeparableConv2d(128,256)\n",
        "      self.separableconv4 = SeparableConv2d(256,256)\n",
        "      self.separableconv5 = SeparableConv2d(256,512)\n",
        "\n",
        "      self.drop_layer = nn.Dropout(p=0.15)\n",
        "      self.fc1 = torch.nn.Linear(66*66*512, 40) # Should change 64 part\n",
        "      self.softmax = nn.Softmax(dim=1)\n",
        "\n",
        "   def forward(self, x): # Input: 100 x 100 x 3\n",
        "      \n",
        "      # First block\n",
        "      x = self.bn1(self.conv1(x)) # Output: 98 x 98 x 64\n",
        "      x = F.relu(self.maxpool(x)) # Output: 96 x 96 x 64\n",
        "      x = self.bn1(self.conv2(x)) # Output: 94 x 94 x 64\n",
        "      x = F.relu(self.maxpool(x)) # Output: 92 x 92 x 64\n",
        "      \n",
        "      # Second block\n",
        "      x = F.relu(self.bn2(self.separableconv1(x))) # Output: 90 x 90 x 128\n",
        "      x = self.bn2(self.separableconv2(x)) # Output: 88 x 88 x 128\n",
        "      x = F.relu(self.maxpool(x)) # Output: 86 x 86 x 128\n",
        "\n",
        "      # Third block\n",
        "      x = F.relu(self.bn2(self.separableconv2(x))) # Output: 84 x 84 x 128\n",
        "      x = self.bn2(self.separableconv2(x)) # Output: 82 x 82 x 128\n",
        "      x = F.relu(self.maxpool(x)) # Output: 80 x 80 x 128\n",
        "\n",
        "      # Fourth block\n",
        "      x = F.relu(self.bn3(self.separableconv3(x))) # Output: 78 x 78 x 256\n",
        "      x = self.bn3(self.separableconv4(x)) # Output: 76 x 76 x 256\n",
        "      x = F.relu(self.maxpool(x)) # Output: 74 x 74 x 256\n",
        "\n",
        "      # Fifth block\n",
        "      x = F.relu(self.bn3(self.separableconv4(x))) # Output: 72 x 72 x 256\n",
        "      x = self.bn3(self.separableconv4(x)) # Output: 70 x 70 x 256\n",
        "      x = F.relu(self.maxpool(x)) # Output: 68 x 68 x 256\n",
        "\n",
        "      # Sixth block\n",
        "      x = F.relu(self.bn4(self.separableconv5(x))) # Output: 66 x 66 x 512\n",
        "\n",
        "      # x = self.avgpool(x) # Global Average Pooling; Output: 512\n",
        "\n",
        "      x = self.drop_layer(x) # Dropout Layer; Output: 512\n",
        "      \n",
        "      # Fully Connected Layer; Output: 512\n",
        "      x = x.view(x.size(0), -1)\n",
        "      x = self.fc1(x)\n",
        "\n",
        "      # x = self.softmax(x) # Softmax; Output: 512\n",
        "      \n",
        "      return(x)"
      ],
      "execution_count": 14,
      "outputs": []
    },
    {
      "cell_type": "code",
      "metadata": {
        "id": "JkLXVJGkxemC"
      },
      "source": [
        "# Whether to extract features with the model\n",
        "feature_extract = False\n",
        "# Other selections\n",
        "loss_function = \"cross-entropy\"\n",
        "model_selection = \"glyphnet\"\n",
        "optim_selection = \"Adam\"\n",
        "\n",
        "# Load the model\n",
        "if model_selection == \"glyphnet\":\n",
        "    glyphnet = Glyphnet()\n",
        "\n",
        "# if GPU is available, move the model to GPU\n",
        "if train_on_gpu:\n",
        "    glyphnet.cuda()\n",
        "\n",
        "# Specify loss function (categorical cross-entropy)\n",
        "if loss_function == \"cross-entropy\":\n",
        "    criterion = nn.CrossEntropyLoss()\n",
        "\n",
        "# Specify optimizer (Adam) and learning rate = 0.001\n",
        "if optim_selection == \"Adam\":\n",
        "    optimizer = optim.Adam(glyphnet.parameters(), lr=0.001)\n",
        "\n",
        "# Exponential Decay to strengthen learning\n",
        "decayRate = 0.999\n",
        "my_lr_scheduler = torch.optim.lr_scheduler.ExponentialLR(optimizer=optimizer, gamma=decayRate)"
      ],
      "execution_count": 15,
      "outputs": []
    },
    {
      "cell_type": "markdown",
      "metadata": {
        "id": "U2vnErB1yHmM"
      },
      "source": [
        "Training the model"
      ]
    },
    {
      "cell_type": "code",
      "metadata": {
        "id": "dOB03noWyEvQ",
        "colab": {
          "base_uri": "https://localhost:8080/"
        },
        "outputId": "c6c2545e-9634-4971-b960-c1270e7e9548"
      },
      "source": [
        "# number of epochs to train the model\n",
        "n_epochs = 50\n",
        "\n",
        "# The train_model function is from model_training python file\n",
        "glyphnet, train_losses = train_model(train_loader, optimizer, glyphnet, criterion, my_lr_scheduler, n_epochs)"
      ],
      "execution_count": 16,
      "outputs": [
        {
          "output_type": "stream",
          "name": "stdout",
          "text": [
            "Epoch 1, Batch 20 loss: 503.8103143930435408\n",
            "Epoch 1, Batch 40 loss: 106.8050039291381808\n",
            "Epoch 1, Batch 60 loss: 25.2648444175720215\n",
            "Epoch 1, Batch 80 loss: 7.2778836488723755\n",
            "Epoch 1, Batch 100 loss: 4.8998905777931210\n",
            "Epoch 1, Batch 120 loss: 3.0318630933761597\n",
            "Epoch 2, Batch 20 loss: 2.3345012009143828\n",
            "Epoch 2, Batch 40 loss: 2.3191961467266085\n",
            "Epoch 2, Batch 60 loss: 2.1083032131195067\n",
            "Epoch 2, Batch 80 loss: 4.9072824418544769\n",
            "Epoch 2, Batch 100 loss: 3.9134532630443575\n",
            "Epoch 2, Batch 120 loss: 4.3211573243141173\n",
            "Epoch 3, Batch 20 loss: 2.2051327347755434\n",
            "Epoch 3, Batch 40 loss: 2.0125870048999785\n",
            "Epoch 3, Batch 60 loss: 1.9946253120899200\n",
            "Epoch 3, Batch 80 loss: 2.1006899058818815\n",
            "Epoch 3, Batch 100 loss: 1.8797883152961732\n",
            "Epoch 3, Batch 120 loss: 1.9081024408340455\n",
            "Epoch 4, Batch 20 loss: 1.6850611627101899\n",
            "Epoch 4, Batch 40 loss: 1.8555836677551270\n",
            "Epoch 4, Batch 60 loss: 1.7946158051490784\n",
            "Epoch 4, Batch 80 loss: 1.6192289739847183\n",
            "Epoch 4, Batch 100 loss: 11.9566056519746784\n",
            "Epoch 4, Batch 120 loss: 14.2757535457611091\n",
            "Epoch 5, Batch 20 loss: 4.3282569229602812\n",
            "Epoch 5, Batch 40 loss: 3.0364151775836943\n",
            "Epoch 5, Batch 60 loss: 2.2053865909576418\n",
            "Epoch 5, Batch 80 loss: 2.0870480895042420\n",
            "Epoch 5, Batch 100 loss: 1.9449596703052521\n",
            "Epoch 5, Batch 120 loss: 1.7473812878131867\n",
            "Epoch 6, Batch 20 loss: 2.1124123394489289\n",
            "Epoch 6, Batch 40 loss: 1.7066168844699861\n",
            "Epoch 6, Batch 60 loss: 1.5349006593227386\n",
            "Epoch 6, Batch 80 loss: 1.5884679257869720\n",
            "Epoch 6, Batch 100 loss: 1.4691385060548783\n",
            "Epoch 6, Batch 120 loss: 1.5156638652086258\n",
            "Epoch 7, Batch 20 loss: 1.4032670438289643\n",
            "Epoch 7, Batch 40 loss: 1.4057997077703477\n",
            "Epoch 7, Batch 60 loss: 1.3063660830259323\n",
            "Epoch 7, Batch 80 loss: 1.5430596768856049\n",
            "Epoch 7, Batch 100 loss: 1.1686201632022857\n",
            "Epoch 7, Batch 120 loss: 1.3754570931196213\n",
            "Epoch 8, Batch 20 loss: 1.2711404412984848\n",
            "Epoch 8, Batch 40 loss: 1.4288454532623291\n",
            "Epoch 8, Batch 60 loss: 1.1231684595346452\n",
            "Epoch 8, Batch 80 loss: 1.1597522407770158\n",
            "Epoch 8, Batch 100 loss: 1.1720403164625168\n",
            "Epoch 8, Batch 120 loss: 1.1587790191173553\n",
            "Epoch 9, Batch 20 loss: 1.1727086335420609\n",
            "Epoch 9, Batch 40 loss: 1.2902627170085907\n",
            "Epoch 9, Batch 60 loss: 1.1694512486457824\n",
            "Epoch 9, Batch 80 loss: 0.8718132987618447\n",
            "Epoch 9, Batch 100 loss: 1.0450771421194076\n",
            "Epoch 9, Batch 120 loss: 1.0429345041513443\n",
            "Epoch 10, Batch 20 loss: 0.9969870582222938\n",
            "Epoch 10, Batch 40 loss: 1.0915314346551894\n",
            "Epoch 10, Batch 60 loss: 0.9718375891447067\n",
            "Epoch 10, Batch 80 loss: 1.1878626227378846\n",
            "Epoch 10, Batch 100 loss: 1.1509742647409440\n",
            "Epoch 10, Batch 120 loss: 1.0785071820020675\n",
            "Epoch 11, Batch 20 loss: 0.9584146291017532\n",
            "Epoch 11, Batch 40 loss: 1.0264210253953934\n",
            "Epoch 11, Batch 60 loss: 0.8896287873387336\n",
            "Epoch 11, Batch 80 loss: 0.9508516728878021\n",
            "Epoch 11, Batch 100 loss: 0.7785803288221359\n",
            "Epoch 11, Batch 120 loss: 0.8413853034377098\n",
            "Epoch 12, Batch 20 loss: 0.9461889743804932\n",
            "Epoch 12, Batch 40 loss: 0.8523067533969879\n",
            "Epoch 12, Batch 60 loss: 0.8598321050405502\n",
            "Epoch 12, Batch 80 loss: 0.8591718152165413\n",
            "Epoch 12, Batch 100 loss: 0.8875218778848648\n",
            "Epoch 12, Batch 120 loss: 0.7723712965846061\n",
            "Epoch 13, Batch 20 loss: 12.5532354980707161\n",
            "Epoch 13, Batch 40 loss: 1.6171015113592149\n",
            "Epoch 13, Batch 60 loss: 1.3285080403089524\n",
            "Epoch 13, Batch 80 loss: 1.1415862798690797\n",
            "Epoch 13, Batch 100 loss: 1.0915980309247970\n",
            "Epoch 13, Batch 120 loss: 1.1916424006223678\n",
            "Epoch 14, Batch 20 loss: 0.9686584472656250\n",
            "Epoch 14, Batch 40 loss: 0.9512072205543518\n",
            "Epoch 14, Batch 60 loss: 1.0173012703657149\n",
            "Epoch 14, Batch 80 loss: 0.8806387931108475\n",
            "Epoch 14, Batch 100 loss: 2.0178132325410845\n",
            "Epoch 14, Batch 120 loss: 1.2174962192773819\n",
            "Epoch 15, Batch 20 loss: 0.9757699966430664\n",
            "Epoch 15, Batch 40 loss: 0.9998057425022125\n",
            "Epoch 15, Batch 60 loss: 0.8482193663716316\n",
            "Epoch 15, Batch 80 loss: 0.6924960717558861\n",
            "Epoch 15, Batch 100 loss: 0.8943937152624131\n",
            "Epoch 15, Batch 120 loss: 0.9333559408783912\n",
            "Epoch 16, Batch 20 loss: 0.9435071572661400\n",
            "Epoch 16, Batch 40 loss: 0.9421855941414833\n",
            "Epoch 16, Batch 60 loss: 0.8323662966489792\n",
            "Epoch 16, Batch 80 loss: 0.7347973957657814\n",
            "Epoch 16, Batch 100 loss: 0.9292335152626038\n",
            "Epoch 16, Batch 120 loss: 0.8204968094825744\n",
            "Epoch 17, Batch 20 loss: 0.8228450611233711\n",
            "Epoch 17, Batch 40 loss: 0.8005695238709449\n",
            "Epoch 17, Batch 60 loss: 0.7108258634805680\n",
            "Epoch 17, Batch 80 loss: 0.8875189989805221\n",
            "Epoch 17, Batch 100 loss: 0.9024552300572395\n",
            "Epoch 17, Batch 120 loss: 0.7602231219410897\n",
            "Epoch 18, Batch 20 loss: 0.6248249769210815\n",
            "Epoch 18, Batch 40 loss: 0.7082264035940170\n",
            "Epoch 18, Batch 60 loss: 0.7007245987653732\n",
            "Epoch 18, Batch 80 loss: 0.7811579972505569\n",
            "Epoch 18, Batch 100 loss: 0.7580972343683243\n",
            "Epoch 18, Batch 120 loss: 0.7220283403992653\n",
            "Epoch 19, Batch 20 loss: 0.8365084826946259\n",
            "Epoch 19, Batch 40 loss: 0.7029604971408844\n",
            "Epoch 19, Batch 60 loss: 0.8133362337946892\n",
            "Epoch 19, Batch 80 loss: 0.8425098627805709\n",
            "Epoch 19, Batch 100 loss: 0.7590929910540580\n",
            "Epoch 19, Batch 120 loss: 0.6604089334607124\n",
            "Epoch 20, Batch 20 loss: 0.8217495918273926\n",
            "Epoch 20, Batch 40 loss: 0.7351003959774971\n",
            "Epoch 20, Batch 60 loss: 0.6747792482376098\n",
            "Epoch 20, Batch 80 loss: 0.6486024796962738\n",
            "Epoch 20, Batch 100 loss: 0.6193993330001831\n",
            "Epoch 20, Batch 120 loss: 0.8020754836499691\n",
            "Epoch 21, Batch 20 loss: 0.8112539604306221\n",
            "Epoch 21, Batch 40 loss: 0.7814135491847992\n",
            "Epoch 21, Batch 60 loss: 0.6997940137982368\n",
            "Epoch 21, Batch 80 loss: 0.7673507884144783\n",
            "Epoch 21, Batch 100 loss: 0.6136048890650272\n",
            "Epoch 21, Batch 120 loss: 0.6558477148413658\n",
            "Epoch 22, Batch 20 loss: 0.6567660570144653\n",
            "Epoch 22, Batch 40 loss: 0.7215172931551933\n",
            "Epoch 22, Batch 60 loss: 0.6313730746507644\n",
            "Epoch 22, Batch 80 loss: 0.6334225162863731\n",
            "Epoch 22, Batch 100 loss: 0.5203196264803409\n",
            "Epoch 22, Batch 120 loss: 0.8547135666012764\n",
            "Epoch 23, Batch 20 loss: 0.5602683290839195\n",
            "Epoch 23, Batch 40 loss: 0.6353255808353424\n",
            "Epoch 23, Batch 60 loss: 0.5484683312475681\n",
            "Epoch 23, Batch 80 loss: 0.6679536364972591\n",
            "Epoch 23, Batch 100 loss: 0.6744140587747097\n",
            "Epoch 23, Batch 120 loss: 0.6115759234875441\n",
            "Epoch 24, Batch 20 loss: 0.6762495845556259\n",
            "Epoch 24, Batch 40 loss: 0.6907022371888161\n",
            "Epoch 24, Batch 60 loss: 0.6579278096556663\n",
            "Epoch 24, Batch 80 loss: 0.5910299092531204\n",
            "Epoch 24, Batch 100 loss: 0.5496976315975189\n",
            "Epoch 24, Batch 120 loss: 0.5836400754749775\n",
            "Epoch 25, Batch 20 loss: 0.5377859503030777\n",
            "Epoch 25, Batch 40 loss: 0.5357329092919827\n",
            "Epoch 25, Batch 60 loss: 0.6712249696254731\n",
            "Epoch 25, Batch 80 loss: 0.6026447385549545\n",
            "Epoch 25, Batch 100 loss: 0.5925026036798954\n",
            "Epoch 25, Batch 120 loss: 0.6674744516611100\n",
            "Epoch 26, Batch 20 loss: 0.5880652397871018\n",
            "Epoch 26, Batch 40 loss: 0.5783567622303962\n",
            "Epoch 26, Batch 60 loss: 0.5399962060153485\n",
            "Epoch 26, Batch 80 loss: 0.5343615114688873\n",
            "Epoch 26, Batch 100 loss: 0.6804210335016251\n",
            "Epoch 26, Batch 120 loss: 0.5605835527181625\n",
            "Epoch 27, Batch 20 loss: 0.5977724507451058\n",
            "Epoch 27, Batch 40 loss: 0.7375731766223907\n",
            "Epoch 27, Batch 60 loss: 0.6267255350947381\n",
            "Epoch 27, Batch 80 loss: 0.5394504591822624\n",
            "Epoch 27, Batch 100 loss: 0.6134142875671387\n",
            "Epoch 27, Batch 120 loss: 0.5459695667028427\n",
            "Epoch 28, Batch 20 loss: 0.4821289703249931\n",
            "Epoch 28, Batch 40 loss: 0.5491341903805733\n",
            "Epoch 28, Batch 60 loss: 0.6404557317495346\n",
            "Epoch 28, Batch 80 loss: 0.5621837466955185\n",
            "Epoch 28, Batch 100 loss: 0.6138078525662423\n",
            "Epoch 28, Batch 120 loss: 0.5684490323066711\n",
            "Epoch 29, Batch 20 loss: 0.4647044263780117\n",
            "Epoch 29, Batch 40 loss: 0.6025851845741272\n",
            "Epoch 29, Batch 60 loss: 0.6127450853586197\n",
            "Epoch 29, Batch 80 loss: 0.5700195819139481\n",
            "Epoch 29, Batch 100 loss: 0.5735896512866020\n",
            "Epoch 29, Batch 120 loss: 0.6572531387209892\n",
            "Epoch 30, Batch 20 loss: 0.5602777570486068\n",
            "Epoch 30, Batch 40 loss: 0.4901248201727867\n",
            "Epoch 30, Batch 60 loss: 0.5155065815895796\n",
            "Epoch 30, Batch 80 loss: 0.5903110355138779\n",
            "Epoch 30, Batch 100 loss: 0.5984458580613137\n",
            "Epoch 30, Batch 120 loss: 0.5553342215716839\n",
            "Epoch 31, Batch 20 loss: 0.5926272355020046\n",
            "Epoch 31, Batch 40 loss: 0.6054002650082111\n",
            "Epoch 31, Batch 60 loss: 0.5375735521316528\n",
            "Epoch 31, Batch 80 loss: 0.5648429155349731\n",
            "Epoch 31, Batch 100 loss: 0.4148136153817177\n",
            "Epoch 31, Batch 120 loss: 0.5409158218652010\n",
            "Epoch 32, Batch 20 loss: 0.6188506111502647\n",
            "Epoch 32, Batch 40 loss: 0.4904561441391707\n",
            "Epoch 32, Batch 60 loss: 0.5989627175033092\n",
            "Epoch 32, Batch 80 loss: 0.5328677892684937\n",
            "Epoch 32, Batch 100 loss: 0.5584064483642578\n",
            "Epoch 32, Batch 120 loss: 0.5577811770141125\n",
            "Epoch 33, Batch 20 loss: 0.5154158048331737\n",
            "Epoch 33, Batch 40 loss: 0.5205805562436581\n",
            "Epoch 33, Batch 60 loss: 0.5744900546967984\n",
            "Epoch 33, Batch 80 loss: 0.6144042909145355\n",
            "Epoch 33, Batch 100 loss: 0.5791790686547756\n",
            "Epoch 33, Batch 120 loss: 0.5231524236500263\n",
            "Epoch 34, Batch 20 loss: 0.4345087245106697\n",
            "Epoch 34, Batch 40 loss: 0.5828488253057003\n",
            "Epoch 34, Batch 60 loss: 0.5579403266310692\n",
            "Epoch 34, Batch 80 loss: 0.4781978029757738\n",
            "Epoch 34, Batch 100 loss: 0.4994690068066120\n",
            "Epoch 34, Batch 120 loss: 0.5375943019986152\n",
            "Epoch 35, Batch 20 loss: 0.4535781741142273\n",
            "Epoch 35, Batch 40 loss: 0.6955446437001228\n",
            "Epoch 35, Batch 60 loss: 0.4245793066918850\n",
            "Epoch 35, Batch 80 loss: 0.6044196143746376\n",
            "Epoch 35, Batch 100 loss: 0.5763616934418678\n",
            "Epoch 35, Batch 120 loss: 0.4950099490582943\n",
            "Epoch 36, Batch 20 loss: 0.5631111405789853\n",
            "Epoch 36, Batch 40 loss: 0.4985934667289257\n",
            "Epoch 36, Batch 60 loss: 0.4899065077304840\n",
            "Epoch 36, Batch 80 loss: 0.5150103140622377\n",
            "Epoch 36, Batch 100 loss: 0.4425141833722591\n",
            "Epoch 36, Batch 120 loss: 0.5229317329823970\n",
            "Epoch 37, Batch 20 loss: 0.4216914474964142\n",
            "Epoch 37, Batch 40 loss: 0.6039094381034374\n",
            "Epoch 37, Batch 60 loss: 0.4317423045635224\n",
            "Epoch 37, Batch 80 loss: 0.6112908206880092\n",
            "Epoch 37, Batch 100 loss: 0.4302459135651588\n",
            "Epoch 37, Batch 120 loss: 0.5343244388699532\n",
            "Epoch 38, Batch 20 loss: 0.5526529498398304\n",
            "Epoch 38, Batch 40 loss: 0.5316926315426826\n",
            "Epoch 38, Batch 60 loss: 0.5553297668695449\n",
            "Epoch 38, Batch 80 loss: 0.5085363946855068\n",
            "Epoch 38, Batch 100 loss: 0.6083981752395630\n",
            "Epoch 38, Batch 120 loss: 0.5037502959370613\n",
            "Epoch 39, Batch 20 loss: 0.4824711751192808\n",
            "Epoch 39, Batch 40 loss: 0.4645200610160828\n",
            "Epoch 39, Batch 60 loss: 0.5781464874744415\n",
            "Epoch 39, Batch 80 loss: 0.5077432379126549\n",
            "Epoch 39, Batch 100 loss: 0.4785957202315331\n",
            "Epoch 39, Batch 120 loss: 0.4695510461926460\n",
            "Epoch 40, Batch 20 loss: 0.5718320310115814\n",
            "Epoch 40, Batch 40 loss: 0.4935915425419807\n",
            "Epoch 40, Batch 60 loss: 0.4677428208291531\n",
            "Epoch 40, Batch 80 loss: 0.4180142439901829\n",
            "Epoch 40, Batch 100 loss: 0.6273444406688213\n",
            "Epoch 40, Batch 120 loss: 0.4620819628238678\n",
            "Epoch 41, Batch 20 loss: 0.5006834004074335\n",
            "Epoch 41, Batch 40 loss: 0.5824546255171299\n",
            "Epoch 41, Batch 60 loss: 0.5273027904331684\n",
            "Epoch 41, Batch 80 loss: 0.4429265655577183\n",
            "Epoch 41, Batch 100 loss: 0.4431933358311653\n",
            "Epoch 41, Batch 120 loss: 0.4623401440680027\n",
            "Epoch 42, Batch 20 loss: 0.4147806011140346\n",
            "Epoch 42, Batch 40 loss: 0.4651676177978515\n",
            "Epoch 42, Batch 60 loss: 0.4790218137204647\n",
            "Epoch 42, Batch 80 loss: 0.5692128837108612\n",
            "Epoch 42, Batch 100 loss: 0.5728037636727095\n",
            "Epoch 42, Batch 120 loss: 0.5290651723742485\n",
            "Epoch 43, Batch 20 loss: 0.4514331400394440\n",
            "Epoch 43, Batch 40 loss: 0.5223347462713719\n",
            "Epoch 43, Batch 60 loss: 0.5396870881319046\n",
            "Epoch 43, Batch 80 loss: 0.4375258859246969\n",
            "Epoch 43, Batch 100 loss: 0.5141090057790280\n",
            "Epoch 43, Batch 120 loss: 0.4843122117221356\n",
            "Epoch 44, Batch 20 loss: 0.5578581482172013\n",
            "Epoch 44, Batch 40 loss: 0.4678306773304939\n",
            "Epoch 44, Batch 60 loss: 0.4285956963896752\n",
            "Epoch 44, Batch 80 loss: 0.5482503999024629\n",
            "Epoch 44, Batch 100 loss: 0.5239391840994359\n",
            "Epoch 44, Batch 120 loss: 0.6520211443305015\n",
            "Epoch 45, Batch 20 loss: 0.5598970539867878\n",
            "Epoch 45, Batch 40 loss: 0.5796794667840004\n",
            "Epoch 45, Batch 60 loss: 0.5701502837240696\n",
            "Epoch 45, Batch 80 loss: 0.4509761393070221\n",
            "Epoch 45, Batch 100 loss: 0.5047360740602016\n",
            "Epoch 45, Batch 120 loss: 0.4893468111753464\n",
            "Epoch 46, Batch 20 loss: 0.5574425786733628\n",
            "Epoch 46, Batch 40 loss: 0.5246118642389774\n",
            "Epoch 46, Batch 60 loss: 0.4705287255346775\n",
            "Epoch 46, Batch 80 loss: 0.5422684721648693\n",
            "Epoch 46, Batch 100 loss: 0.5055059600621462\n",
            "Epoch 46, Batch 120 loss: 0.4832564570009709\n",
            "Epoch 47, Batch 20 loss: 0.5265041187405586\n",
            "Epoch 47, Batch 40 loss: 0.4575201515108347\n",
            "Epoch 47, Batch 60 loss: 0.4413553684949875\n",
            "Epoch 47, Batch 80 loss: 0.5932188317179680\n",
            "Epoch 47, Batch 100 loss: 0.5200567767024040\n",
            "Epoch 47, Batch 120 loss: 0.5226550310850143\n",
            "Epoch 48, Batch 20 loss: 0.5399055093526840\n",
            "Epoch 48, Batch 40 loss: 0.4701161198318005\n",
            "Epoch 48, Batch 60 loss: 0.5082219377160072\n",
            "Epoch 48, Batch 80 loss: 0.4876385688781738\n",
            "Epoch 48, Batch 100 loss: 0.4653655901551247\n",
            "Epoch 48, Batch 120 loss: 0.6021242842078209\n",
            "Epoch 49, Batch 20 loss: 0.5778575450181961\n",
            "Epoch 49, Batch 40 loss: 0.4292042687535286\n",
            "Epoch 49, Batch 60 loss: 0.5275722473859787\n",
            "Epoch 49, Batch 80 loss: 0.5745775967836380\n",
            "Epoch 49, Batch 100 loss: 0.4822220794856548\n",
            "Epoch 49, Batch 120 loss: 0.4538252577185631\n",
            "Epoch 50, Batch 20 loss: 0.5464704930782318\n",
            "Epoch 50, Batch 40 loss: 0.4971724376082420\n",
            "Epoch 50, Batch 60 loss: 0.4661533497273922\n",
            "Epoch 50, Batch 80 loss: 0.4655744358897209\n",
            "Epoch 50, Batch 100 loss: 0.4820414036512375\n",
            "Epoch 50, Batch 120 loss: 0.3917975962162018\n"
          ]
        }
      ]
    },
    {
      "cell_type": "code",
      "metadata": {
        "id": "CfA7ZjLR1BZP",
        "colab": {
          "base_uri": "https://localhost:8080/",
          "height": 281
        },
        "outputId": "8072ca0d-860e-438a-e0f8-10efbe34df0e"
      },
      "source": [
        "plt.plot(train_losses)\n",
        "plt.title(\"Training Loss\")\n",
        "plt.show()"
      ],
      "execution_count": 17,
      "outputs": [
        {
          "output_type": "display_data",
          "data": {
            "image/png": "[encoded data removed]",
            "text/plain": [
              "<Figure size 432x288 with 1 Axes>"
            ]
          },
          "metadata": {
            "needs_background": "light"
          }
        }
      ]
    },
    {
      "cell_type": "markdown",
      "metadata": {
        "id": "ItLyF9dQyJFL"
      },
      "source": [
        "Testing the model"
      ]
    },
    {
      "cell_type": "code",
      "metadata": {
        "id": "gGki98W3SoEW"
      },
      "source": [
        "from sklearn.metrics import precision_score, recall_score, f1_score, accuracy_score"
      ],
      "execution_count": 18,
      "outputs": []
    },
    {
      "cell_type": "code",
      "metadata": {
        "id": "xNavYOynyE6d",
        "colab": {
          "base_uri": "https://localhost:8080/"
        },
        "outputId": "1335dd9d-6954-4aab-f59a-b23b4c9a7434"
      },
      "source": [
        "# The test_model function is from model_testing python file\n",
        "test_loss, class_correct, class_total, labels, predictions = test_model(classes, glyphnet, test_loader, criterion)\n",
        "\n",
        "# Test accuracy for each hieroglyph\n",
        "for i in range(len(classes)):\n",
        "    if class_total[i] > 0:\n",
        "        print('Test Accuracy of %5s: %2d%% (%2d/%2d)' % (classes[i], 100 * class_correct[i] / class_total[i], np.sum(class_correct[i]), np.sum(class_total[i])))\n",
        "    else:\n",
        "        print('Test Accuracy of %5s: N/A (no training examples)' % (classes[i]))\n",
        "\n",
        "# Total Test accuracy\n",
        "print(\"\\nAccuracy: {:.3%}\".format(accuracy_score(labels, predictions)))\n",
        "print(\"\\nPrecision: {:.3%}\".format(precision_score(labels, predictions, average = 'weighted')))\n",
        "print(\"\\nRecall: {:.3%}\".format(recall_score(labels, predictions, average = 'weighted')))\n",
        "print(\"\\nF1-score: {:.3%}\".format(f1_score(labels, predictions, average = 'weighted')))"
      ],
      "execution_count": 19,
      "outputs": [
        {
          "output_type": "stream",
          "name": "stdout",
          "text": [
            "Test Loss: 8.654627\n",
            "\n",
            "Test Accuracy of    D2:  0% ( 0/ 5)\n",
            "Test Accuracy of   D21:  0% ( 0/36)\n",
            "Test Accuracy of   D36:  0% ( 0/12)\n",
            "Test Accuracy of    D4:  0% ( 0/ 8)\n",
            "Test Accuracy of   D46:  0% ( 0/11)\n",
            "Test Accuracy of   D58:  0% ( 0/ 8)\n",
            "Test Accuracy of   E23:  0% ( 0/ 2)\n",
            "Test Accuracy of   E34:  0% ( 0/25)\n",
            "Test Accuracy of   F31:  0% ( 0/ 2)\n",
            "Test Accuracy of   F35:  0% ( 0/ 1)\n",
            "Test Accuracy of    G1:  0% ( 0/ 7)\n",
            "Test Accuracy of   G17:  0% ( 0/39)\n",
            "Test Accuracy of   G43: 87% (35/40)\n",
            "Test Accuracy of   I10:  0% ( 0/ 9)\n",
            "Test Accuracy of    I9:  0% ( 0/30)\n",
            "Test Accuracy of   M17:  0% ( 0/73)\n",
            "Test Accuracy of   M23:  0% ( 0/ 8)\n",
            "Test Accuracy of   N35:  0% ( 0/90)\n",
            "Test Accuracy of    O1:  0% ( 0/ 4)\n",
            "Test Accuracy of   O34:  0% ( 0/ 4)\n",
            "Test Accuracy of    O4:  0% ( 0/ 2)\n",
            "Test Accuracy of   O49: 66% ( 2/ 3)\n",
            "Test Accuracy of    Q1:  0% ( 0/ 4)\n",
            "Test Accuracy of    Q3:  0% ( 0/16)\n",
            "Test Accuracy of    R4:  0% ( 0/ 1)\n",
            "Test Accuracy of    R8:  0% ( 0/14)\n",
            "Test Accuracy of   S29:  0% ( 0/53)\n",
            "Test Accuracy of   S34:  0% ( 0/ 2)\n",
            "Test Accuracy of    U7:  0% ( 0/ 1)\n",
            "Test Accuracy of   V13:  0% ( 0/16)\n",
            "Test Accuracy of   V28:  0% ( 0/ 8)\n",
            "Test Accuracy of   V30:  0% ( 0/ 2)\n",
            "Test Accuracy of   V31:  0% ( 0/27)\n",
            "Test Accuracy of   W11:  0% ( 0/ 1)\n",
            "Test Accuracy of   W24:  0% ( 0/ 8)\n",
            "Test Accuracy of    X1:  0% ( 0/47)\n",
            "Test Accuracy of    X8:  0% ( 0/ 1)\n",
            "Test Accuracy of    Y1:  0% ( 0/ 1)\n",
            "Test Accuracy of    Y5:  0% ( 0/ 2)\n",
            "Test Accuracy of    Z1:  0% ( 0/10)\n",
            "\n",
            "Accuracy: 5.845%\n",
            "\n",
            "Precision: 0.408%\n",
            "\n",
            "Recall: 5.845%\n",
            "\n",
            "F1-score: 0.763%\n"
          ]
        },
        {
          "output_type": "stream",
          "name": "stderr",
          "text": [
            "/usr/local/lib/python3.7/dist-packages/sklearn/metrics/_classification.py:1308: UndefinedMetricWarning: Precision is ill-defined and being set to 0.0 in labels with no predicted samples. Use `zero_division` parameter to control this behavior.\n",
            "  _warn_prf(average, modifier, msg_start, len(result))\n"
          ]
        }
      ]
    }
  ]
}