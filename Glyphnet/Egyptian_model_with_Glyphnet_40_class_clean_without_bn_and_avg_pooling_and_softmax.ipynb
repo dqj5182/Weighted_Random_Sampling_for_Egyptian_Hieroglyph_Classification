{
  "nbformat": 4,
  "nbformat_minor": 0,
  "metadata": {
    "accelerator": "GPU",
    "colab": {
      "name": "Egyptian_model_with_Glyphnet_40_class_clean_without_bn_and_avg_pooling.ipynb",
      "provenance": [],
      "collapsed_sections": []
    },
    "kernelspec": {
      "display_name": "Python 3",
      "name": "python3"
    },
    "language_info": {
      "name": "python"
    }
  },
  "cells": [
    {
      "cell_type": "code",
      "metadata": {
        "id": "8iEiGSblxJzW"
      },
      "source": [
        "import os, os.path\n",
        "import torch\n",
        "import numpy as np\n",
        "import torch.nn as nn\n",
        "import torch.nn.functional as F\n",
        "import torch.optim as optim\n",
        "from pathlib import Path\n",
        "from torchvision import datasets, models, transforms\n",
        "\n",
        "# check if CUDA is available\n",
        "train_on_gpu = torch.cuda.is_available()"
      ],
      "execution_count": 1,
      "outputs": []
    },
    {
      "cell_type": "markdown",
      "metadata": {
        "id": "Jd6KU8VMz6J3"
      },
      "source": [
        "Module: Load_data"
      ]
    },
    {
      "cell_type": "code",
      "metadata": {
        "id": "8lWX0BW_w_kC"
      },
      "source": [
        "def load_data(hieroglyph_directory_path, batch_size=20, num_workers=0):\n",
        "    train_dir = os.path.join(hieroglyph_directory_path, 'train/')\n",
        "    test_dir = os.path.join(hieroglyph_directory_path, 'test/')\n",
        "\n",
        "    classes = []\n",
        "\n",
        "    for filename in os.listdir(train_dir):\n",
        "        if filename == '.DS_Store':\n",
        "            pass\n",
        "        else:\n",
        "            classes.append(filename)\n",
        "\n",
        "    classes.sort()\n",
        "\n",
        "    # print(\"Our classes:\", classes)\n",
        "    # print(len(classes))\n",
        "\n",
        "    data_transform = transforms.Compose([transforms.ToTensor(),\n",
        "                                                transforms.RandomApply([transforms.RandomHorizontalFlip()]),\n",
        "                                                transforms.RandomRotation(degrees=(-10, 10)),\n",
        "                                                transforms.RandomAffine(degrees=0, translate=(.1, .1)),\n",
        "                                                transforms.RandomApply([transforms.ColorJitter(brightness=(1, 1.2),\n",
        "                                                                                                contrast=(1, 1.5),\n",
        "                                                                                                saturation=(1, 1.5),\n",
        "                                                                                                hue=(0, 0.5))]),\n",
        "                                                transforms.RandomErasing(p=0.5, scale=(0.05, 0.05), ratio=(0.3, 3.3), value=0,\n",
        "                                                                          inplace=False),\n",
        "                                                transforms.Resize((100, 100)),\n",
        "                                                transforms.Normalize((0.5,), (0.5,))])\n",
        "\n",
        "    train_data = datasets.ImageFolder(train_dir, transform=data_transform)\n",
        "    test_data = datasets.ImageFolder(test_dir, transform=data_transform)\n",
        "\n",
        "    # print('Num training images: ', len(train_data))\n",
        "    # print('Num test images: ', len(test_data))\n",
        "\n",
        "    # prepare data loaders\n",
        "    train_loader = torch.utils.data.DataLoader(train_data, batch_size=batch_size,\n",
        "                                               num_workers=num_workers, shuffle=True)\n",
        "    test_loader = torch.utils.data.DataLoader(test_data, batch_size=batch_size,\n",
        "                                              num_workers=num_workers, shuffle=True)\n",
        "\n",
        "    return train_loader, test_loader, classes"
      ],
      "execution_count": 2,
      "outputs": []
    },
    {
      "cell_type": "markdown",
      "metadata": {
        "id": "K4sXUrPPz7iF"
      },
      "source": [
        "Module: Train_model"
      ]
    },
    {
      "cell_type": "code",
      "metadata": {
        "id": "N2N_rnKLxN5c"
      },
      "source": [
        "def train_model(train_loader, optimizer, conv_net, criterion, my_lr_scheduler, n_epochs):\n",
        "    # track training loss over time\n",
        "    losses = []\n",
        "    \n",
        "    for epoch in range(1, n_epochs + 1):\n",
        "\n",
        "        # keep track of training and validation loss\n",
        "        train_loss = 0.0\n",
        "\n",
        "        # model by default is set to train\n",
        "        for batch_i, (data, target) in enumerate(train_loader):\n",
        "            # move tensors to GPU if CUDA is available\n",
        "            if train_on_gpu:\n",
        "                data, target = data.cuda(), target.cuda()\n",
        "            # clear the gradients of all optimized variables\n",
        "            optimizer.zero_grad()\n",
        "            # forward pass: compute predicted outputs by passing inputs to the model\n",
        "            output = conv_net(data)\n",
        "\n",
        "            # calculate the batch loss\n",
        "            loss = criterion(output, target)\n",
        "            # backward pass: compute gradient of the loss with respect to model parameters\n",
        "            loss.backward()\n",
        "            # perform a single optimization step (parameter update)\n",
        "            optimizer.step()\n",
        "            # update training loss\n",
        "            train_loss += loss.item()\n",
        "\n",
        "            my_lr_scheduler.step()\n",
        "\n",
        "            if batch_i % 20 == 19:  # print training loss every specified number of mini-batches\n",
        "                print('Epoch %d, Batch %d loss: %.16f' %\n",
        "                    (epoch, batch_i + 1, train_loss / 20))\n",
        "                losses.append(train_loss / 20)\n",
        "                train_loss = 0.0\n",
        "        \n",
        "        \n",
        "\n",
        "    return conv_net, losses"
      ],
      "execution_count": 3,
      "outputs": []
    },
    {
      "cell_type": "markdown",
      "metadata": {
        "id": "-Rrxo5RDz96U"
      },
      "source": [
        "Module: Test_model"
      ]
    },
    {
      "cell_type": "code",
      "metadata": {
        "id": "Ay-HlMJnxU9v"
      },
      "source": [
        "def test_model(classes, conv_net, test_loader, criterion):\n",
        "    # track test loss\n",
        "    test_loss = 0.0\n",
        "    class_correct = list(0. for i in range(len(classes)))\n",
        "    class_total = list(0. for i in range(len(classes)))\n",
        "\n",
        "    conv_net.eval()  # eval mode\n",
        "\n",
        "    labels = []\n",
        "    predictions = []\n",
        "    # iterate over test data\n",
        "    for data, target in test_loader:\n",
        "        # move tensors to GPU if CUDA is available\n",
        "        if train_on_gpu:\n",
        "            data, target = data.cuda(), target.cuda()\n",
        "        # forward pass: compute predicted outputs by passing inputs to the model\n",
        "        output = conv_net(data)\n",
        "        # calculate the batch loss\n",
        "        loss = criterion(output, target)\n",
        "        # update  test loss\n",
        "        test_loss += loss.item() * data.size(0)\n",
        "        # convert output probabilities to predicted class\n",
        "        _, pred = torch.max(output, 1)\n",
        "\n",
        "        # compare predictions to true label\n",
        "        correct_tensor = pred.eq(target.data.view_as(pred))\n",
        "        correct = np.squeeze(correct_tensor.numpy()) if not train_on_gpu else np.squeeze(correct_tensor.cpu().numpy())\n",
        "        # calculate test accuracy for each object class\n",
        "        for i in range(len(target.data)):\n",
        "            label = target.data[i]\n",
        "            class_correct[label] += correct[i].item()\n",
        "            class_total[label] += 1\n",
        "        \n",
        "        # Will be used for calculating Recall, Precision, and F1-score\n",
        "        labels.extend(target.data.view_as(pred).tolist())\n",
        "        predictions.extend(pred.tolist())\n",
        "\n",
        "\n",
        "    # calculate avg test loss\n",
        "    test_loss = test_loss / len(test_loader.dataset)\n",
        "    print('Test Loss: {:.6f}\\n'.format(test_loss))\n",
        "\n",
        "    return test_loss, class_correct, class_total, labels, predictions"
      ],
      "execution_count": 4,
      "outputs": []
    },
    {
      "cell_type": "markdown",
      "metadata": {
        "id": "xHh3PXE80Asa"
      },
      "source": [
        "Check whether CUDA is available (Change runtime type if not)"
      ]
    },
    {
      "cell_type": "code",
      "metadata": {
        "colab": {
          "base_uri": "https://localhost:8080/"
        },
        "id": "Q9TYPQH7x4zw",
        "outputId": "acf59fca-a24c-4b7e-f0e9-4c539e419df6"
      },
      "source": [
        "if not train_on_gpu:\n",
        "    print('CUDA is not available.  Training on CPU ...')\n",
        "else:\n",
        "    print('CUDA is available!  Training on GPU ...')"
      ],
      "execution_count": 5,
      "outputs": [
        {
          "output_type": "stream",
          "name": "stdout",
          "text": [
            "CUDA is available!  Training on GPU ...\n"
          ]
        }
      ]
    },
    {
      "cell_type": "markdown",
      "metadata": {
        "id": "6lYw8EKVx8Q7"
      },
      "source": [
        "Load Hieroglyph Data"
      ]
    },
    {
      "cell_type": "code",
      "metadata": {
        "colab": {
          "base_uri": "https://localhost:8080/"
        },
        "id": "laLvoRy1yewl",
        "outputId": "0dd25274-16e2-4191-fc28-9d5dc7ade2cc"
      },
      "source": [
        "# Connecting and Mounting to the Google Drive\n",
        "from google.colab import drive\n",
        "drive.mount('/content/drive')"
      ],
      "execution_count": 6,
      "outputs": [
        {
          "output_type": "stream",
          "name": "stdout",
          "text": [
            "Mounted at /content/drive\n"
          ]
        }
      ]
    },
    {
      "cell_type": "code",
      "metadata": {
        "id": "odaoZt9GyfUt"
      },
      "source": [
        "data_dir = '/content/drive/MyDrive/EgyptianHieroglyphDataset_Original_Clean/'"
      ],
      "execution_count": 7,
      "outputs": []
    },
    {
      "cell_type": "code",
      "metadata": {
        "colab": {
          "base_uri": "https://localhost:8080/"
        },
        "id": "dF22MAnmyiC1",
        "outputId": "377b018d-14f2-4a8e-d25f-c8b84293f4be"
      },
      "source": [
        "hieroglyph_for_train = []\n",
        "file_count_list = []\n",
        "\n",
        "for name in os.listdir('/content/drive/MyDrive/EgyptianHieroglyphDataset_Original_Clean/train/'):\n",
        "  path, dirs, files = next(os.walk(\"/content/drive/MyDrive/EgyptianHieroglyphDataset_Original_Clean/train/\"+name))\n",
        "  file_count = len(files)\n",
        "  print(name, file_count)\n",
        "  file_count_list.append(file_count)\n",
        "  hieroglyph_for_train.append(name)\n",
        "\n",
        "hieroglyph_dict = dict(zip(hieroglyph_for_train, file_count_list))"
      ],
      "execution_count": 8,
      "outputs": [
        {
          "output_type": "stream",
          "name": "stdout",
          "text": [
            "Y5 6\n",
            "I9 116\n",
            "O34 15\n",
            "V13 63\n",
            "U7 3\n",
            "D46 40\n",
            "E34 97\n",
            "G1 28\n",
            "V31 106\n",
            "S34 8\n",
            "D36 47\n",
            "Q1 13\n",
            "V30 6\n",
            "F35 2\n",
            "O4 11\n",
            "M23 30\n",
            "S29 212\n",
            "R8 53\n",
            "W11 4\n",
            "X1 185\n",
            "Y1 1\n",
            "D21 146\n",
            "D2 19\n",
            "E23 8\n",
            "X8 4\n",
            "Z1 39\n",
            "D4 29\n",
            "V28 28\n",
            "I10 32\n",
            "O1 16\n",
            "M17 291\n",
            "F31 6\n",
            "G43 157\n",
            "D58 28\n",
            "O49 10\n",
            "G17 156\n",
            "R4 2\n",
            "Q3 61\n",
            "W24 31\n",
            "N35 358\n"
          ]
        }
      ]
    },
    {
      "cell_type": "markdown",
      "metadata": {
        "id": "XeQQ7PjZzKd9"
      },
      "source": [
        "Number of images for each hieroglyph "
      ]
    },
    {
      "cell_type": "code",
      "metadata": {
        "colab": {
          "base_uri": "https://localhost:8080/",
          "height": 609
        },
        "id": "W6IzWR2RyjxM",
        "outputId": "803f4fe5-fd2c-49e5-fd07-8d47aec4363b"
      },
      "source": [
        "import matplotlib.pyplot as plt\n",
        "import pandas as pd\n",
        "\n",
        "df = pd.DataFrame({\"Hieroglyph\":hieroglyph_for_train, \"Count\":file_count_list})\n",
        "\n",
        "df_sorted= df.sort_values('Count',ascending=False)\n",
        "\n",
        "plt.figure(figsize=(20,10))\n",
        "# make bar plot with matplotlib\n",
        "plt.bar('Hieroglyph', 'Count',data=df_sorted)"
      ],
      "execution_count": 9,
      "outputs": [
        {
          "output_type": "execute_result",
          "data": {
            "text/plain": [
              "<BarContainer object of 40 artists>"
            ]
          },
          "metadata": {},
          "execution_count": 9
        },
        {
          "output_type": "display_data",
          "data": {
            "image/png": "[encoded data removed]",
            "text/plain": [
              "<Figure size 1440x720 with 1 Axes>"
            ]
          },
          "metadata": {
            "needs_background": "light"
          }
        }
      ]
    },
    {
      "cell_type": "code",
      "metadata": {
        "id": "-3oOm8rSx7tp"
      },
      "source": [
        "# Number of images processed in a single training\n",
        "batch_size = 20\n",
        "num_workers = 0\n",
        "\n",
        "# The load_data function is from hieroglyph_data_preparation python file\n",
        "train_loader, test_loader, classes = load_data(data_dir)"
      ],
      "execution_count": 10,
      "outputs": []
    },
    {
      "cell_type": "markdown",
      "metadata": {
        "id": "BJm8sGiBx_q5"
      },
      "source": [
        "ResNet Model"
      ]
    },
    {
      "cell_type": "code",
      "metadata": {
        "id": "ii1UaV8yPvW_"
      },
      "source": [
        "class SeparableConv2d(nn.Module):\n",
        "    def __init__(self,in_channels,out_channels,kernel_size=3,stride=1,padding=0,dilation=1,bias=False):\n",
        "        super(SeparableConv2d,self).__init__()\n",
        "\n",
        "        self.conv1 = nn.Conv2d(in_channels,in_channels,kernel_size,stride,padding,dilation,groups=in_channels,bias=bias)\n",
        "        self.pointwise = nn.Conv2d(in_channels,out_channels,1,1,0,1,1,bias=bias)\n",
        "    \n",
        "    def forward(self,x):\n",
        "        x = self.conv1(x)\n",
        "        x = self.pointwise(x)\n",
        "        return x"
      ],
      "execution_count": 11,
      "outputs": []
    },
    {
      "cell_type": "code",
      "metadata": {
        "id": "-hnE4jAAPbnX"
      },
      "source": [
        "from torch.nn import Linear, ReLU, CrossEntropyLoss, Sequential, Conv2d, MaxPool2d, Module, Softmax, BatchNorm2d, Dropout"
      ],
      "execution_count": 12,
      "outputs": []
    },
    {
      "cell_type": "code",
      "metadata": {
        "colab": {
          "base_uri": "https://localhost:8080/",
          "height": 140
        },
        "id": "oXpu43oPMyor",
        "outputId": "dd8e265c-7395-49a9-93fb-111a6420064f"
      },
      "source": [
        "'''\n",
        "class Glyphnet(torch.nn.Module):   \n",
        "    def __init__(self):\n",
        "        super(Glyphnet, self).__init__()\n",
        "\n",
        "        self.conv1 = torch.nn.Conv2d(3, 64, kernel_size = 3, stride = 1, padding = 0)\n",
        "        self.maxpool1 = MaxPool2d(kernel_size=2, stride=2)\n",
        "        self.conv2 = torch.nn.Conv2d(64, 64, kernel_size = 3, stride = 1, padding = 0)\n",
        "        self.maxpool2 = MaxPool2d(kernel_size=3, stride=2)\n",
        "\n",
        "        self.fc1 = Linear(23 * 23 * 64, 40)\n",
        "\n",
        "        #self.conv1 = torch.nn.Conv2d(3, 64, kernel_size = 3, stride = 1, padding = 0)\n",
        "        #self.conv2 = torch.nn.Conv2d(64, 64, kernel_size = 3, stride = 1, padding = 0)\n",
        "        #self.maxpool = torch.nn.MaxPool2d(kernel_size = 3, stride = 1, padding = 0)\n",
        "        #self.avgpool = torch.nn.AvgPool2d(kernel_size=66)\n",
        "\n",
        "        #self.bn1 = torch.nn.BatchNorm2d(64)\n",
        "        #self.bn2 = torch.nn.BatchNorm2d(128)\n",
        "        #self.bn3 = torch.nn.BatchNorm2d(256)\n",
        "        #self.bn4 = torch.nn.BatchNorm2d(512)\n",
        "\n",
        "        #self.separableconv1 = SeparableConv2d(64,128)\n",
        "        #self.separableconv2 = SeparableConv2d(128,128)\n",
        "        #self.separableconv3 = SeparableConv2d(128,256)\n",
        "        #self.separableconv4 = SeparableConv2d(256,256)\n",
        "        #self.separableconv5 = SeparableConv2d(256,512)\n",
        "\n",
        "        #self.drop_layer = nn.Dropout(p=0.15)\n",
        "        #self.fc1 = torch.nn.Linear(512, 40) # Should change 64 part\n",
        "        self.softmax = nn.Softmax(dim=1)\n",
        "\n",
        "    # Defining the forward pass    \n",
        "    def forward(self, x):\n",
        "        x = self.conv1(x)\n",
        "        x = self.maxpool1(x)\n",
        "        x = self.conv2(x)\n",
        "        x = self.maxpool2(x)\n",
        "\n",
        "        x = x.view(x.size(0), -1)\n",
        "        x = self.fc1(x)\n",
        "        # x = self.softmax(x) # Not a good idea (the model is trained really slow)\n",
        "\n",
        "        return x\n",
        "'''"
      ],
      "execution_count": 13,
      "outputs": [
        {
          "output_type": "execute_result",
          "data": {
            "application/vnd.google.colaboratory.intrinsic+json": {
              "type": "string"
            },
            "text/plain": [
              "'\\nclass Glyphnet(torch.nn.Module):   \\n    def __init__(self):\\n        super(Glyphnet, self).__init__()\\n\\n        self.conv1 = torch.nn.Conv2d(3, 64, kernel_size = 3, stride = 1, padding = 0)\\n        self.maxpool1 = MaxPool2d(kernel_size=2, stride=2)\\n        self.conv2 = torch.nn.Conv2d(64, 64, kernel_size = 3, stride = 1, padding = 0)\\n        self.maxpool2 = MaxPool2d(kernel_size=3, stride=2)\\n\\n        self.fc1 = Linear(23 * 23 * 64, 40)\\n\\n        #self.conv1 = torch.nn.Conv2d(3, 64, kernel_size = 3, stride = 1, padding = 0)\\n        #self.conv2 = torch.nn.Conv2d(64, 64, kernel_size = 3, stride = 1, padding = 0)\\n        #self.maxpool = torch.nn.MaxPool2d(kernel_size = 3, stride = 1, padding = 0)\\n        #self.avgpool = torch.nn.AvgPool2d(kernel_size=66)\\n\\n        #self.bn1 = torch.nn.BatchNorm2d(64)\\n        #self.bn2 = torch.nn.BatchNorm2d(128)\\n        #self.bn3 = torch.nn.BatchNorm2d(256)\\n        #self.bn4 = torch.nn.BatchNorm2d(512)\\n\\n        #self.separableconv1 = SeparableConv2d(64,128)\\n        #self.separableconv2 = SeparableConv2d(128,128)\\n        #self.separableconv3 = SeparableConv2d(128,256)\\n        #self.separableconv4 = SeparableConv2d(256,256)\\n        #self.separableconv5 = SeparableConv2d(256,512)\\n\\n        #self.drop_layer = nn.Dropout(p=0.15)\\n        #self.fc1 = torch.nn.Linear(512, 40) # Should change 64 part\\n        self.softmax = nn.Softmax(dim=1)\\n\\n    # Defining the forward pass    \\n    def forward(self, x):\\n        x = self.conv1(x)\\n        x = self.maxpool1(x)\\n        x = self.conv2(x)\\n        x = self.maxpool2(x)\\n\\n        x = x.view(x.size(0), -1)\\n        x = self.fc1(x)\\n        # x = self.softmax(x) # Not a good idea (the model is trained really slow)\\n\\n        return x\\n'"
            ]
          },
          "metadata": {},
          "execution_count": 13
        }
      ]
    },
    {
      "cell_type": "code",
      "metadata": {
        "id": "Mik3vFrCSeTd"
      },
      "source": [
        "class Glyphnet(torch.nn.Module):\n",
        "   def __init__(self):\n",
        "      super(Glyphnet, self).__init__()\n",
        "      \n",
        "      self.conv1 = torch.nn.Conv2d(3, 64, kernel_size = 3, stride = 1, padding = 0)\n",
        "      self.conv2 = torch.nn.Conv2d(64, 64, kernel_size = 3, stride = 1, padding = 0)\n",
        "      self.maxpool = torch.nn.MaxPool2d(kernel_size = 3, stride = 1, padding = 0)\n",
        "      self.avgpool = torch.nn.AvgPool2d(kernel_size=66)\n",
        "\n",
        "      self.bn1 = torch.nn.BatchNorm2d(64)\n",
        "      self.bn2 = torch.nn.BatchNorm2d(128)\n",
        "      self.bn3 = torch.nn.BatchNorm2d(256)\n",
        "      self.bn4 = torch.nn.BatchNorm2d(512)\n",
        "\n",
        "      self.separableconv1 = SeparableConv2d(64,128)\n",
        "      self.separableconv2 = SeparableConv2d(128,128)\n",
        "      self.separableconv3 = SeparableConv2d(128,256)\n",
        "      self.separableconv4 = SeparableConv2d(256,256)\n",
        "      self.separableconv5 = SeparableConv2d(256,512)\n",
        "\n",
        "      self.drop_layer = nn.Dropout(p=0.15)\n",
        "      self.fc1 = torch.nn.Linear(66*66*512, 40) # Should change\n",
        "      self.softmax = nn.Softmax(dim=1)\n",
        "\n",
        "   def forward(self, x): # Input: 100 x 100 x 3\n",
        "      # First block\n",
        "      x = self.conv1(x) # Output: 98 x 98 x 64\n",
        "      x = F.relu(self.maxpool(x)) # Output: 96 x 96 x 64\n",
        "      x = self.conv2(x) # Output: 94 x 94 x 64\n",
        "      x = F.relu(self.maxpool(x)) # Output: 92 x 92 x 64\n",
        "      \n",
        "      # Second block\n",
        "      x = F.relu(self.separableconv1(x)) # Output: 90 x 90 x 128\n",
        "      x = self.separableconv2(x) # Output: 88 x 88 x 128\n",
        "      x = F.relu(self.maxpool(x)) # Output: 86 x 86 x 128\n",
        "      \n",
        "      # Third block\n",
        "      x = F.relu(self.separableconv2(x)) # Output: 84 x 84 x 128\n",
        "      x = self.separableconv2(x) # Output: 82 x 82 x 128\n",
        "      x = F.relu(self.maxpool(x)) # Output: 80 x 80 x 128\n",
        "      \n",
        "      # Fourth block\n",
        "      x = F.relu(self.separableconv3(x)) # Output: 78 x 78 x 256\n",
        "      x = self.separableconv4(x) # Output: 76 x 76 x 256\n",
        "      x = F.relu(self.maxpool(x)) # Output: 74 x 74 x 256\n",
        "      \n",
        "      # Fifth block\n",
        "      x = F.relu(self.separableconv4(x)) # Output: 72 x 72 x 256\n",
        "      x = self.separableconv4(x) # Output: 70 x 70 x 256\n",
        "      x = F.relu(self.maxpool(x)) # Output: 68 x 68 x 256\n",
        "      \n",
        "      # Sixth block\n",
        "      x = F.relu(self.separableconv5(x)) # Output: 66 x 66 x 512\n",
        "      '''\n",
        "      x = self.avgpool(x) # Global Average Pooling; Output: 512\n",
        "      '''\n",
        "      x = self.drop_layer(x) # Dropout Layer; Output: 512\n",
        "      \n",
        "      # Fully Connected Layer; Output: 512\n",
        "      x = x.view(x.size(0), -1)\n",
        "      x = self.fc1(x)\n",
        "\n",
        "      #x = self.softmax(x) # Softmax; Output: 512\n",
        "      \n",
        "      return(x)"
      ],
      "execution_count": 14,
      "outputs": []
    },
    {
      "cell_type": "code",
      "metadata": {
        "id": "JkLXVJGkxemC"
      },
      "source": [
        "# Whether to extract features with the model\n",
        "feature_extract = False\n",
        "# Other selections\n",
        "loss_function = \"cross-entropy\"\n",
        "model_selection = \"glyphnet\"\n",
        "optim_selection = \"Adam\"\n",
        "\n",
        "# Load the model\n",
        "if model_selection == \"glyphnet\":\n",
        "    glyphnet = Glyphnet()\n",
        "\n",
        "# if GPU is available, move the model to GPU\n",
        "if train_on_gpu:\n",
        "    glyphnet.cuda()\n",
        "\n",
        "# Specify loss function (categorical cross-entropy)\n",
        "if loss_function == \"cross-entropy\":\n",
        "    criterion = nn.CrossEntropyLoss()\n",
        "\n",
        "# Specify optimizer (Adam) and learning rate = 0.001\n",
        "if optim_selection == \"Adam\":\n",
        "    optimizer = optim.Adam(glyphnet.parameters(), lr=0.001)\n",
        "\n",
        "# Exponential Decay to strengthen learning\n",
        "decayRate = 0.999\n",
        "my_lr_scheduler = torch.optim.lr_scheduler.ExponentialLR(optimizer=optimizer, gamma=decayRate)"
      ],
      "execution_count": 15,
      "outputs": []
    },
    {
      "cell_type": "markdown",
      "metadata": {
        "id": "U2vnErB1yHmM"
      },
      "source": [
        "Training the model"
      ]
    },
    {
      "cell_type": "code",
      "metadata": {
        "id": "dOB03noWyEvQ",
        "colab": {
          "base_uri": "https://localhost:8080/"
        },
        "outputId": "1f017673-80cc-4ea1-e3c2-e866fb52354d"
      },
      "source": [
        "# number of epochs to train the model\n",
        "n_epochs = 50\n",
        "\n",
        "# The train_model function is from model_training python file\n",
        "glyphnet, train_losses = train_model(train_loader, optimizer, glyphnet, criterion, my_lr_scheduler, n_epochs)"
      ],
      "execution_count": 16,
      "outputs": [
        {
          "output_type": "stream",
          "name": "stdout",
          "text": [
            "Epoch 1, Batch 20 loss: 3.3741699695587157\n",
            "Epoch 1, Batch 40 loss: 3.1470972418785097\n",
            "Epoch 1, Batch 60 loss: 3.0460447549819945\n",
            "Epoch 1, Batch 80 loss: 3.1238366246223448\n",
            "Epoch 1, Batch 100 loss: 3.0797991752624512\n",
            "Epoch 1, Batch 120 loss: 2.8496110677719115\n",
            "Epoch 2, Batch 20 loss: 2.4858649611473083\n",
            "Epoch 2, Batch 40 loss: 2.3643209874629973\n",
            "Epoch 2, Batch 60 loss: 2.5828206419944761\n",
            "Epoch 2, Batch 80 loss: 2.1812419652938844\n",
            "Epoch 2, Batch 100 loss: 2.1335908353328703\n",
            "Epoch 2, Batch 120 loss: 1.8545552134513854\n",
            "Epoch 3, Batch 20 loss: 1.8311907112598420\n",
            "Epoch 3, Batch 40 loss: 1.7443771302700042\n",
            "Epoch 3, Batch 60 loss: 1.6499415397644044\n",
            "Epoch 3, Batch 80 loss: 1.5078110575675965\n",
            "Epoch 3, Batch 100 loss: 1.6853362083435059\n",
            "Epoch 3, Batch 120 loss: 1.4966688156127930\n",
            "Epoch 4, Batch 20 loss: 1.3708594471216202\n",
            "Epoch 4, Batch 40 loss: 1.4257298588752747\n",
            "Epoch 4, Batch 60 loss: 1.3317591398954391\n",
            "Epoch 4, Batch 80 loss: 1.2207402408123016\n",
            "Epoch 4, Batch 100 loss: 1.1673826605081559\n",
            "Epoch 4, Batch 120 loss: 1.1843102067708968\n",
            "Epoch 5, Batch 20 loss: 1.2429419755935669\n",
            "Epoch 5, Batch 40 loss: 1.1505922317504882\n",
            "Epoch 5, Batch 60 loss: 1.0125742793083190\n",
            "Epoch 5, Batch 80 loss: 1.0814163893461228\n",
            "Epoch 5, Batch 100 loss: 1.0559901505708695\n",
            "Epoch 5, Batch 120 loss: 1.1009759843349456\n",
            "Epoch 6, Batch 20 loss: 1.0404772639274598\n",
            "Epoch 6, Batch 40 loss: 0.8911538481712341\n",
            "Epoch 6, Batch 60 loss: 0.9615603029727936\n",
            "Epoch 6, Batch 80 loss: 0.9314868271350860\n",
            "Epoch 6, Batch 100 loss: 0.9616132244467736\n",
            "Epoch 6, Batch 120 loss: 1.0872303515672683\n",
            "Epoch 7, Batch 20 loss: 0.9164550364017486\n",
            "Epoch 7, Batch 40 loss: 0.8626486152410507\n",
            "Epoch 7, Batch 60 loss: 0.8864675909280777\n",
            "Epoch 7, Batch 80 loss: 0.9978494852781296\n",
            "Epoch 7, Batch 100 loss: 0.9156271815299988\n",
            "Epoch 7, Batch 120 loss: 0.8178806498646736\n",
            "Epoch 8, Batch 20 loss: 0.8187187179923058\n",
            "Epoch 8, Batch 40 loss: 0.7642179071903229\n",
            "Epoch 8, Batch 60 loss: 0.8270266592502594\n",
            "Epoch 8, Batch 80 loss: 0.6627557262778282\n",
            "Epoch 8, Batch 100 loss: 0.8822141140699387\n",
            "Epoch 8, Batch 120 loss: 0.9385901391506195\n",
            "Epoch 9, Batch 20 loss: 0.8568821981549263\n",
            "Epoch 9, Batch 40 loss: 0.8021512895822525\n",
            "Epoch 9, Batch 60 loss: 0.7193024173378945\n",
            "Epoch 9, Batch 80 loss: 0.8275930836796761\n",
            "Epoch 9, Batch 100 loss: 0.8235271334648132\n",
            "Epoch 9, Batch 120 loss: 0.6371850848197937\n",
            "Epoch 10, Batch 20 loss: 0.6741160608828067\n",
            "Epoch 10, Batch 40 loss: 0.7808690264821052\n",
            "Epoch 10, Batch 60 loss: 0.7613988250494004\n",
            "Epoch 10, Batch 80 loss: 0.7241815611720085\n",
            "Epoch 10, Batch 100 loss: 0.6421074643731117\n",
            "Epoch 10, Batch 120 loss: 0.6748312965035439\n",
            "Epoch 11, Batch 20 loss: 0.6981732144951820\n",
            "Epoch 11, Batch 40 loss: 0.6851316034793854\n",
            "Epoch 11, Batch 60 loss: 0.7539778597652912\n",
            "Epoch 11, Batch 80 loss: 0.6641089215874671\n",
            "Epoch 11, Batch 100 loss: 0.6337489791214466\n",
            "Epoch 11, Batch 120 loss: 0.5488203287124633\n",
            "Epoch 12, Batch 20 loss: 0.6598702773451806\n",
            "Epoch 12, Batch 40 loss: 0.6062497407197952\n",
            "Epoch 12, Batch 60 loss: 0.7301628962159157\n",
            "Epoch 12, Batch 80 loss: 0.5683468185365200\n",
            "Epoch 12, Batch 100 loss: 0.5509010978043080\n",
            "Epoch 12, Batch 120 loss: 0.6349634140729904\n",
            "Epoch 13, Batch 20 loss: 0.5541461318731308\n",
            "Epoch 13, Batch 40 loss: 0.6254726976156235\n",
            "Epoch 13, Batch 60 loss: 0.4918871320784092\n",
            "Epoch 13, Batch 80 loss: 0.5117477715015412\n",
            "Epoch 13, Batch 100 loss: 0.5602532595396041\n",
            "Epoch 13, Batch 120 loss: 0.6421704038977623\n",
            "Epoch 14, Batch 20 loss: 0.4554289214313030\n",
            "Epoch 14, Batch 40 loss: 0.5522083945572376\n",
            "Epoch 14, Batch 60 loss: 0.6238910779356956\n",
            "Epoch 14, Batch 80 loss: 0.4054910272359848\n",
            "Epoch 14, Batch 100 loss: 0.5827186867594719\n",
            "Epoch 14, Batch 120 loss: 0.5656553618609905\n",
            "Epoch 15, Batch 20 loss: 0.5322161041200161\n",
            "Epoch 15, Batch 40 loss: 0.4877417840063572\n",
            "Epoch 15, Batch 60 loss: 0.5315311819314956\n",
            "Epoch 15, Batch 80 loss: 0.4695358991622925\n",
            "Epoch 15, Batch 100 loss: 0.5745831131935120\n",
            "Epoch 15, Batch 120 loss: 0.4166714478284120\n",
            "Epoch 16, Batch 20 loss: 0.4034452103078365\n",
            "Epoch 16, Batch 40 loss: 0.6232939571142196\n",
            "Epoch 16, Batch 60 loss: 0.5321249559521675\n",
            "Epoch 16, Batch 80 loss: 0.4504732947796583\n",
            "Epoch 16, Batch 100 loss: 0.5308931518346072\n",
            "Epoch 16, Batch 120 loss: 0.4534668229520321\n",
            "Epoch 17, Batch 20 loss: 0.3817906990647316\n",
            "Epoch 17, Batch 40 loss: 0.4480854697525501\n",
            "Epoch 17, Batch 60 loss: 0.5001224331557751\n",
            "Epoch 17, Batch 80 loss: 0.5143882028758526\n",
            "Epoch 17, Batch 100 loss: 0.3887485429644585\n",
            "Epoch 17, Batch 120 loss: 0.4615331552922726\n",
            "Epoch 18, Batch 20 loss: 0.4142456829547882\n",
            "Epoch 18, Batch 40 loss: 0.3675161533057690\n",
            "Epoch 18, Batch 60 loss: 0.4732515692710876\n",
            "Epoch 18, Batch 80 loss: 0.4867134742438793\n",
            "Epoch 18, Batch 100 loss: 0.4603281155228615\n",
            "Epoch 18, Batch 120 loss: 0.3919195968657732\n",
            "Epoch 19, Batch 20 loss: 0.3199473902583122\n",
            "Epoch 19, Batch 40 loss: 0.3991749756038189\n",
            "Epoch 19, Batch 60 loss: 0.4482069395482540\n",
            "Epoch 19, Batch 80 loss: 0.4772780243307352\n",
            "Epoch 19, Batch 100 loss: 0.4428146682679653\n",
            "Epoch 19, Batch 120 loss: 0.4187053591012955\n",
            "Epoch 20, Batch 20 loss: 0.4851079657673836\n",
            "Epoch 20, Batch 40 loss: 0.4058294270187616\n",
            "Epoch 20, Batch 60 loss: 0.4293567076325416\n",
            "Epoch 20, Batch 80 loss: 0.3785631686449051\n",
            "Epoch 20, Batch 100 loss: 0.4539256270974875\n",
            "Epoch 20, Batch 120 loss: 0.3426674112677574\n",
            "Epoch 21, Batch 20 loss: 0.4126724744215607\n",
            "Epoch 21, Batch 40 loss: 0.4787262931466102\n",
            "Epoch 21, Batch 60 loss: 0.3622335113584995\n",
            "Epoch 21, Batch 80 loss: 0.4469245690852404\n",
            "Epoch 21, Batch 100 loss: 0.3591396283358336\n",
            "Epoch 21, Batch 120 loss: 0.4682474162429571\n",
            "Epoch 22, Batch 20 loss: 0.3781764019280672\n",
            "Epoch 22, Batch 40 loss: 0.3291392982006073\n",
            "Epoch 22, Batch 60 loss: 0.3963497146964073\n",
            "Epoch 22, Batch 80 loss: 0.3145595718175173\n",
            "Epoch 22, Batch 100 loss: 0.4140089612454176\n",
            "Epoch 22, Batch 120 loss: 0.4751050468534231\n",
            "Epoch 23, Batch 20 loss: 0.4242867141962051\n",
            "Epoch 23, Batch 40 loss: 0.3909102093428373\n",
            "Epoch 23, Batch 60 loss: 0.3086312249302864\n",
            "Epoch 23, Batch 80 loss: 0.3979261916130781\n",
            "Epoch 23, Batch 100 loss: 0.3425671707838774\n",
            "Epoch 23, Batch 120 loss: 0.5090875625610352\n",
            "Epoch 24, Batch 20 loss: 0.3670352663844824\n",
            "Epoch 24, Batch 40 loss: 0.3923505239188671\n",
            "Epoch 24, Batch 60 loss: 0.4133462168276310\n",
            "Epoch 24, Batch 80 loss: 0.3409954275935888\n",
            "Epoch 24, Batch 100 loss: 0.3556368114426732\n",
            "Epoch 24, Batch 120 loss: 0.3150412991642952\n",
            "Epoch 25, Batch 20 loss: 0.3323867317289114\n",
            "Epoch 25, Batch 40 loss: 0.3460088569670915\n",
            "Epoch 25, Batch 60 loss: 0.4112536616623402\n",
            "Epoch 25, Batch 80 loss: 0.3200666759163141\n",
            "Epoch 25, Batch 100 loss: 0.4921474300324917\n",
            "Epoch 25, Batch 120 loss: 0.3801915287971497\n",
            "Epoch 26, Batch 20 loss: 0.3501472204923630\n",
            "Epoch 26, Batch 40 loss: 0.3991539977490902\n",
            "Epoch 26, Batch 60 loss: 0.3108480211347341\n",
            "Epoch 26, Batch 80 loss: 0.2877343576401472\n",
            "Epoch 26, Batch 100 loss: 0.3632611334323883\n",
            "Epoch 26, Batch 120 loss: 0.3542307224124670\n",
            "Epoch 27, Batch 20 loss: 0.4524790707975626\n",
            "Epoch 27, Batch 40 loss: 0.3982281394302845\n",
            "Epoch 27, Batch 60 loss: 0.3030005536973476\n",
            "Epoch 27, Batch 80 loss: 0.3651539467275143\n",
            "Epoch 27, Batch 100 loss: 0.3692609474062920\n",
            "Epoch 27, Batch 120 loss: 0.3921564705669880\n",
            "Epoch 28, Batch 20 loss: 0.3790701217949390\n",
            "Epoch 28, Batch 40 loss: 0.4048252627253532\n",
            "Epoch 28, Batch 60 loss: 0.3139309439808130\n",
            "Epoch 28, Batch 80 loss: 0.3350949637591839\n",
            "Epoch 28, Batch 100 loss: 0.4215803883969784\n",
            "Epoch 28, Batch 120 loss: 0.3848402049392462\n",
            "Epoch 29, Batch 20 loss: 0.3662736445665359\n",
            "Epoch 29, Batch 40 loss: 0.3288074523210526\n",
            "Epoch 29, Batch 60 loss: 0.3569956850260496\n",
            "Epoch 29, Batch 80 loss: 0.4091431759297848\n",
            "Epoch 29, Batch 100 loss: 0.4217790216207504\n",
            "Epoch 29, Batch 120 loss: 0.2995518747717142\n",
            "Epoch 30, Batch 20 loss: 0.3578814640641212\n",
            "Epoch 30, Batch 40 loss: 0.4453625828027725\n",
            "Epoch 30, Batch 60 loss: 0.3583582513034343\n",
            "Epoch 30, Batch 80 loss: 0.2941599104553461\n",
            "Epoch 30, Batch 100 loss: 0.3743341842666268\n",
            "Epoch 30, Batch 120 loss: 0.4622195027768612\n",
            "Epoch 31, Batch 20 loss: 0.3816658399999142\n",
            "Epoch 31, Batch 40 loss: 0.3094848353415728\n",
            "Epoch 31, Batch 60 loss: 0.3181316651403904\n",
            "Epoch 31, Batch 80 loss: 0.3866683959960938\n",
            "Epoch 31, Batch 100 loss: 0.3954052925109863\n",
            "Epoch 31, Batch 120 loss: 0.3273121777921915\n",
            "Epoch 32, Batch 20 loss: 0.3805611774325371\n",
            "Epoch 32, Batch 40 loss: 0.3097681641578675\n",
            "Epoch 32, Batch 60 loss: 0.3737809460610151\n",
            "Epoch 32, Batch 80 loss: 0.3064679682254791\n",
            "Epoch 32, Batch 100 loss: 0.3521883424371481\n",
            "Epoch 32, Batch 120 loss: 0.2855397388339043\n",
            "Epoch 33, Batch 20 loss: 0.3213658474385738\n",
            "Epoch 33, Batch 40 loss: 0.3200435973703861\n",
            "Epoch 33, Batch 60 loss: 0.3842384640127420\n",
            "Epoch 33, Batch 80 loss: 0.2878789164125919\n",
            "Epoch 33, Batch 100 loss: 0.4235747616738081\n",
            "Epoch 33, Batch 120 loss: 0.3525965213775635\n",
            "Epoch 34, Batch 20 loss: 0.3887871842831373\n",
            "Epoch 34, Batch 40 loss: 0.3290012046694756\n",
            "Epoch 34, Batch 60 loss: 0.4453900478780269\n",
            "Epoch 34, Batch 80 loss: 0.3194232106208801\n",
            "Epoch 34, Batch 100 loss: 0.2939489476382732\n",
            "Epoch 34, Batch 120 loss: 0.3206322059035301\n",
            "Epoch 35, Batch 20 loss: 0.3538725662976503\n",
            "Epoch 35, Batch 40 loss: 0.2946615952998400\n",
            "Epoch 35, Batch 60 loss: 0.3255175389349461\n",
            "Epoch 35, Batch 80 loss: 0.2721570737659931\n",
            "Epoch 35, Batch 100 loss: 0.2984787531197071\n",
            "Epoch 35, Batch 120 loss: 0.2977241959422827\n",
            "Epoch 36, Batch 20 loss: 0.4089065926149488\n",
            "Epoch 36, Batch 40 loss: 0.3374559234827757\n",
            "Epoch 36, Batch 60 loss: 0.2719674758613110\n",
            "Epoch 36, Batch 80 loss: 0.3452280487865210\n",
            "Epoch 36, Batch 100 loss: 0.3160196635872126\n",
            "Epoch 36, Batch 120 loss: 0.2776477124541998\n",
            "Epoch 37, Batch 20 loss: 0.4589631147682667\n",
            "Epoch 37, Batch 40 loss: 0.3358429938554764\n",
            "Epoch 37, Batch 60 loss: 0.2999340850859881\n",
            "Epoch 37, Batch 80 loss: 0.3576486669480801\n",
            "Epoch 37, Batch 100 loss: 0.3517248302698135\n",
            "Epoch 37, Batch 120 loss: 0.3946179714053869\n",
            "Epoch 38, Batch 20 loss: 0.3030093811452389\n",
            "Epoch 38, Batch 40 loss: 0.3377218738198280\n",
            "Epoch 38, Batch 60 loss: 0.3604456217959523\n",
            "Epoch 38, Batch 80 loss: 0.2915605410933494\n",
            "Epoch 38, Batch 100 loss: 0.3562029011547566\n",
            "Epoch 38, Batch 120 loss: 0.2835309013724327\n",
            "Epoch 39, Batch 20 loss: 0.2946843197569251\n",
            "Epoch 39, Batch 40 loss: 0.3580395473167300\n",
            "Epoch 39, Batch 60 loss: 0.3413142466917634\n",
            "Epoch 39, Batch 80 loss: 0.3654440701007843\n",
            "Epoch 39, Batch 100 loss: 0.3759292790666223\n",
            "Epoch 39, Batch 120 loss: 0.2559041835367680\n",
            "Epoch 40, Batch 20 loss: 0.3518828727304936\n",
            "Epoch 40, Batch 40 loss: 0.3049713898450136\n",
            "Epoch 40, Batch 60 loss: 0.2704613916575909\n",
            "Epoch 40, Batch 80 loss: 0.2063909564167261\n",
            "Epoch 40, Batch 100 loss: 0.3729524262249470\n",
            "Epoch 40, Batch 120 loss: 0.3573241654783487\n",
            "Epoch 41, Batch 20 loss: 0.3073928751051426\n",
            "Epoch 41, Batch 40 loss: 0.2931105153635144\n",
            "Epoch 41, Batch 60 loss: 0.2439886756241322\n",
            "Epoch 41, Batch 80 loss: 0.2975530259311199\n",
            "Epoch 41, Batch 100 loss: 0.3733870983123779\n",
            "Epoch 41, Batch 120 loss: 0.3766918879002333\n",
            "Epoch 42, Batch 20 loss: 0.2821030020713806\n",
            "Epoch 42, Batch 40 loss: 0.3348112262785435\n",
            "Epoch 42, Batch 60 loss: 0.3134727291762829\n",
            "Epoch 42, Batch 80 loss: 0.2923573743551969\n",
            "Epoch 42, Batch 100 loss: 0.3046672232449055\n",
            "Epoch 42, Batch 120 loss: 0.3749796781688929\n",
            "Epoch 43, Batch 20 loss: 0.3480482883751392\n",
            "Epoch 43, Batch 40 loss: 0.2727102311328053\n",
            "Epoch 43, Batch 60 loss: 0.3258203502744436\n",
            "Epoch 43, Batch 80 loss: 0.3216704886406660\n",
            "Epoch 43, Batch 100 loss: 0.3660394974052906\n",
            "Epoch 43, Batch 120 loss: 0.3167023211717606\n",
            "Epoch 44, Batch 20 loss: 0.3914176721125841\n",
            "Epoch 44, Batch 40 loss: 0.3481073465198278\n",
            "Epoch 44, Batch 60 loss: 0.2704076241701842\n",
            "Epoch 44, Batch 80 loss: 0.3186126168817282\n",
            "Epoch 44, Batch 100 loss: 0.3186727765947580\n",
            "Epoch 44, Batch 120 loss: 0.3871944177895784\n",
            "Epoch 45, Batch 20 loss: 0.3368943359702826\n",
            "Epoch 45, Batch 40 loss: 0.3347596200183034\n",
            "Epoch 45, Batch 60 loss: 0.3279903544113040\n",
            "Epoch 45, Batch 80 loss: 0.3233072359114885\n",
            "Epoch 45, Batch 100 loss: 0.3232669342309237\n",
            "Epoch 45, Batch 120 loss: 0.2841127360239625\n",
            "Epoch 46, Batch 20 loss: 0.3256243035197258\n",
            "Epoch 46, Batch 40 loss: 0.3014640081673861\n",
            "Epoch 46, Batch 60 loss: 0.3105061843991280\n",
            "Epoch 46, Batch 80 loss: 0.2708575857803225\n",
            "Epoch 46, Batch 100 loss: 0.3817557785660028\n",
            "Epoch 46, Batch 120 loss: 0.3381849007681012\n",
            "Epoch 47, Batch 20 loss: 0.3636503564193845\n",
            "Epoch 47, Batch 40 loss: 0.3760854639112949\n",
            "Epoch 47, Batch 60 loss: 0.3334421399980784\n",
            "Epoch 47, Batch 80 loss: 0.2989595066756010\n",
            "Epoch 47, Batch 100 loss: 0.3857349455356598\n",
            "Epoch 47, Batch 120 loss: 0.2607178322970867\n",
            "Epoch 48, Batch 20 loss: 0.2850102964788676\n",
            "Epoch 48, Batch 40 loss: 0.3650320529937744\n",
            "Epoch 48, Batch 60 loss: 0.3477652452886105\n",
            "Epoch 48, Batch 80 loss: 0.3263795755803585\n",
            "Epoch 48, Batch 100 loss: 0.2808208905160427\n",
            "Epoch 48, Batch 120 loss: 0.2815529586747288\n",
            "Epoch 49, Batch 20 loss: 0.2591034080833197\n",
            "Epoch 49, Batch 40 loss: 0.2955107364803553\n",
            "Epoch 49, Batch 60 loss: 0.3349231172353029\n",
            "Epoch 49, Batch 80 loss: 0.2830691505223513\n",
            "Epoch 49, Batch 100 loss: 0.2470818839967251\n",
            "Epoch 49, Batch 120 loss: 0.3479162156581879\n",
            "Epoch 50, Batch 20 loss: 0.3043601162731647\n",
            "Epoch 50, Batch 40 loss: 0.3723505809903145\n",
            "Epoch 50, Batch 60 loss: 0.3537376292049885\n",
            "Epoch 50, Batch 80 loss: 0.2939342912286520\n",
            "Epoch 50, Batch 100 loss: 0.2669076260179281\n",
            "Epoch 50, Batch 120 loss: 0.2696103554219008\n"
          ]
        }
      ]
    },
    {
      "cell_type": "code",
      "metadata": {
        "id": "CfA7ZjLR1BZP",
        "colab": {
          "base_uri": "https://localhost:8080/",
          "height": 281
        },
        "outputId": "4ad6730e-9c8b-4519-c116-6b87739093f1"
      },
      "source": [
        "plt.plot(train_losses)\n",
        "plt.title(\"Training Loss\")\n",
        "plt.show()"
      ],
      "execution_count": 17,
      "outputs": [
        {
          "output_type": "display_data",
          "data": {
            "image/png": "[encoded data removed]",
            "text/plain": [
              "<Figure size 432x288 with 1 Axes>"
            ]
          },
          "metadata": {
            "needs_background": "light"
          }
        }
      ]
    },
    {
      "cell_type": "markdown",
      "metadata": {
        "id": "ItLyF9dQyJFL"
      },
      "source": [
        "Testing the model"
      ]
    },
    {
      "cell_type": "code",
      "metadata": {
        "id": "gGki98W3SoEW"
      },
      "source": [
        "from sklearn.metrics import precision_score, recall_score, f1_score, accuracy_score"
      ],
      "execution_count": 18,
      "outputs": []
    },
    {
      "cell_type": "code",
      "metadata": {
        "id": "xNavYOynyE6d",
        "colab": {
          "base_uri": "https://localhost:8080/"
        },
        "outputId": "6f938343-5fdf-4be0-c051-23a17c160b38"
      },
      "source": [
        "# The test_model function is from model_testing python file\n",
        "test_loss, class_correct, class_total, labels, predictions = test_model(classes, glyphnet, test_loader, criterion)\n",
        "\n",
        "# Test accuracy for each hieroglyph\n",
        "for i in range(len(classes)):\n",
        "    if class_total[i] > 0:\n",
        "        print('Test Accuracy of %5s: %2d%% (%2d/%2d)' % (classes[i], 100 * class_correct[i] / class_total[i], np.sum(class_correct[i]), np.sum(class_total[i])))\n",
        "    else:\n",
        "        print('Test Accuracy of %5s: N/A (no training examples)' % (classes[i]))\n",
        "\n",
        "# Total Test accuracy\n",
        "print(\"\\nAccuracy: {:.3%}\".format(accuracy_score(labels, predictions)))\n",
        "print(\"\\nPrecision: {:.3%}\".format(precision_score(labels, predictions, average = 'weighted')))\n",
        "print(\"\\nRecall: {:.3%}\".format(recall_score(labels, predictions, average = 'weighted')))\n",
        "print(\"\\nF1-score: {:.3%}\".format(f1_score(labels, predictions, average = 'weighted')))"
      ],
      "execution_count": 19,
      "outputs": [
        {
          "output_type": "stream",
          "name": "stdout",
          "text": [
            "Test Loss: 0.470072\n",
            "\n",
            "Test Accuracy of    D2: 80% ( 4/ 5)\n",
            "Test Accuracy of   D21: 97% (35/36)\n",
            "Test Accuracy of   D36: 50% ( 6/12)\n",
            "Test Accuracy of    D4: 75% ( 6/ 8)\n",
            "Test Accuracy of   D46: 18% ( 2/11)\n",
            "Test Accuracy of   D58: 75% ( 6/ 8)\n",
            "Test Accuracy of   E23:  0% ( 0/ 2)\n",
            "Test Accuracy of   E34: 92% (23/25)\n",
            "Test Accuracy of   F31: 50% ( 1/ 2)\n",
            "Test Accuracy of   F35:  0% ( 0/ 1)\n",
            "Test Accuracy of    G1: 71% ( 5/ 7)\n",
            "Test Accuracy of   G17: 94% (37/39)\n",
            "Test Accuracy of   G43: 95% (38/40)\n",
            "Test Accuracy of   I10: 88% ( 8/ 9)\n",
            "Test Accuracy of    I9: 93% (28/30)\n",
            "Test Accuracy of   M17: 97% (71/73)\n",
            "Test Accuracy of   M23: 87% ( 7/ 8)\n",
            "Test Accuracy of   N35: 98% (89/90)\n",
            "Test Accuracy of    O1: 100% ( 4/ 4)\n",
            "Test Accuracy of   O34: 50% ( 2/ 4)\n",
            "Test Accuracy of    O4: 100% ( 2/ 2)\n",
            "Test Accuracy of   O49: 33% ( 1/ 3)\n",
            "Test Accuracy of    Q1: 75% ( 3/ 4)\n",
            "Test Accuracy of    Q3: 68% (11/16)\n",
            "Test Accuracy of    R4: 100% ( 1/ 1)\n",
            "Test Accuracy of    R8: 78% (11/14)\n",
            "Test Accuracy of   S29: 94% (50/53)\n",
            "Test Accuracy of   S34: 100% ( 2/ 2)\n",
            "Test Accuracy of    U7:  0% ( 0/ 1)\n",
            "Test Accuracy of   V13: 87% (14/16)\n",
            "Test Accuracy of   V28: 100% ( 8/ 8)\n",
            "Test Accuracy of   V30: 50% ( 1/ 2)\n",
            "Test Accuracy of   V31: 85% (23/27)\n",
            "Test Accuracy of   W11:  0% ( 0/ 1)\n",
            "Test Accuracy of   W24: 87% ( 7/ 8)\n",
            "Test Accuracy of    X1: 82% (39/47)\n",
            "Test Accuracy of    X8: 100% ( 1/ 1)\n",
            "Test Accuracy of    Y1:  0% ( 0/ 1)\n",
            "Test Accuracy of    Y5:  0% ( 0/ 2)\n",
            "Test Accuracy of    Z1: 100% (10/10)\n",
            "\n",
            "Accuracy: 87.836%\n",
            "\n",
            "Precision: 87.184%\n",
            "\n",
            "Recall: 87.836%\n",
            "\n",
            "F1-score: 86.908%\n"
          ]
        },
        {
          "output_type": "stream",
          "name": "stderr",
          "text": [
            "/usr/local/lib/python3.7/dist-packages/sklearn/metrics/_classification.py:1308: UndefinedMetricWarning: Precision is ill-defined and being set to 0.0 in labels with no predicted samples. Use `zero_division` parameter to control this behavior.\n",
            "  _warn_prf(average, modifier, msg_start, len(result))\n"
          ]
        }
      ]
    }
  ]
}
