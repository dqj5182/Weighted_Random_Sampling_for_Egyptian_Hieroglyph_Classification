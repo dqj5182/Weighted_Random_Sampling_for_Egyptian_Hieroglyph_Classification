{
  "nbformat": 4,
  "nbformat_minor": 0,
  "metadata": {
    "accelerator": "GPU",
    "colab": {
      "name": "Egyptian_model_with_Glyphnet_40_class_clean_without_bn_and_avg_pooling_and_softmax_with_WeightRandomSampler.ipynb",
      "provenance": [],
      "collapsed_sections": []
    },
    "kernelspec": {
      "display_name": "Python 3",
      "name": "python3"
    },
    "language_info": {
      "name": "python"
    }
  },
  "cells": [
    {
      "cell_type": "code",
      "metadata": {
        "id": "8iEiGSblxJzW"
      },
      "source": [
        "import os, os.path\n",
        "import torch\n",
        "import numpy as np\n",
        "import torch.nn as nn\n",
        "import torch.nn.functional as F\n",
        "import torch.optim as optim\n",
        "from pathlib import Path\n",
        "from torchvision import datasets, models, transforms\n",
        "\n",
        "# check if CUDA is available\n",
        "train_on_gpu = torch.cuda.is_available()"
      ],
      "execution_count": 1,
      "outputs": []
    },
    {
      "cell_type": "markdown",
      "metadata": {
        "id": "Jd6KU8VMz6J3"
      },
      "source": [
        "Module: Load_data"
      ]
    },
    {
      "cell_type": "code",
      "metadata": {
        "id": "Ax7SyaiwER5o"
      },
      "source": [
        "def get_class_distribution(dataset_obj, idx2class):\n",
        "    count_dict = {k:0 for k,v in dataset_obj.class_to_idx.items()}\n",
        "    \n",
        "    for element in dataset_obj:\n",
        "        y_lbl = element[1]\n",
        "        y_lbl = idx2class[y_lbl]\n",
        "        count_dict[y_lbl] += 1\n",
        "            \n",
        "    return count_dict"
      ],
      "execution_count": 2,
      "outputs": []
    },
    {
      "cell_type": "code",
      "metadata": {
        "id": "8lWX0BW_w_kC"
      },
      "source": [
        "def load_data(hieroglyph_directory_path, batch_size=20, num_workers=0):\n",
        "    train_dir = os.path.join(hieroglyph_directory_path, 'train/')\n",
        "    test_dir = os.path.join(hieroglyph_directory_path, 'test/')\n",
        "\n",
        "    classes = []\n",
        "\n",
        "    for filename in os.listdir(train_dir):\n",
        "        if filename == '.DS_Store':\n",
        "            pass\n",
        "        else:\n",
        "            classes.append(filename)\n",
        "\n",
        "    classes.sort()\n",
        "\n",
        "    # print(\"Our classes:\", classes)\n",
        "    # print(len(classes))\n",
        "\n",
        "    data_transform = transforms.Compose([transforms.ToTensor(),\n",
        "                                                transforms.RandomApply([transforms.RandomHorizontalFlip()]),\n",
        "                                                transforms.RandomRotation(degrees=(-10, 10)),\n",
        "                                                transforms.RandomAffine(degrees=0, translate=(.1, .1)),\n",
        "                                                transforms.RandomApply([transforms.ColorJitter(brightness=(1, 1.2),\n",
        "                                                                                                contrast=(1, 1.5),\n",
        "                                                                                                saturation=(1, 1.5),\n",
        "                                                                                                hue=(0, 0.5))]),\n",
        "                                                transforms.RandomErasing(p=0.5, scale=(0.05, 0.05), ratio=(0.3, 3.3), value=0,\n",
        "                                                                          inplace=False),\n",
        "                                                transforms.Resize((100, 100)),\n",
        "                                                transforms.Normalize((0.5,), (0.5,))])\n",
        "\n",
        "    train_data = datasets.ImageFolder(train_dir, transform=data_transform)\n",
        "    test_data = datasets.ImageFolder(test_dir, transform=data_transform)\n",
        "\n",
        "    # print('Num training images: ', len(train_data))\n",
        "    # print('Num test images: ', len(test_data))\n",
        "\n",
        "    # WeightedRandomSampler for train loader\n",
        "    idx2class = {v: k for k, v in train_data.class_to_idx.items()}\n",
        "\n",
        "    target_list = torch.tensor(train_data.targets)\n",
        "    class_count = [i for i in get_class_distribution(train_data, idx2class).values()]\n",
        "    class_weights = 1./torch.tensor(class_count, dtype=torch.float) \n",
        "    class_weights_all = class_weights[target_list]\n",
        "    weighted_sampler = torch.utils.data.WeightedRandomSampler(weights=class_weights_all, num_samples=len(class_weights_all), replacement=True)\n",
        "\n",
        "    # prepare data loaders\n",
        "    train_loader = torch.utils.data.DataLoader(train_data, batch_size=batch_size,\n",
        "                                               num_workers=num_workers, sampler=weighted_sampler, drop_last=True)\n",
        "    \n",
        "    # WeightedRandomSampler for test loader\n",
        "    idx2class_test = {v: k for k, v in test_data.class_to_idx.items()}\n",
        "\n",
        "    target_list_test = torch.tensor(test_data.targets)\n",
        "    class_count_test = [i for i in get_class_distribution(test_data, idx2class_test).values()]\n",
        "    class_weights_test = 1./torch.tensor(class_count_test, dtype=torch.float) \n",
        "    class_weights_all_test = class_weights_test[target_list_test]\n",
        "    weighted_sampler_test = torch.utils.data.WeightedRandomSampler(weights=class_weights_all_test, num_samples=len(class_weights_all_test), replacement=True)\n",
        "\n",
        "    test_loader = torch.utils.data.DataLoader(test_data, batch_size=batch_size,\n",
        "                                              num_workers=num_workers, sampler=weighted_sampler_test)\n",
        "    return train_loader, test_loader, classes"
      ],
      "execution_count": 3,
      "outputs": []
    },
    {
      "cell_type": "markdown",
      "metadata": {
        "id": "K4sXUrPPz7iF"
      },
      "source": [
        "Module: Train_model"
      ]
    },
    {
      "cell_type": "code",
      "metadata": {
        "id": "N2N_rnKLxN5c"
      },
      "source": [
        "def train_model(train_loader, optimizer, conv_net, criterion, my_lr_scheduler, n_epochs):\n",
        "    # track training loss over time\n",
        "    losses = []\n",
        "    \n",
        "    for epoch in range(1, n_epochs + 1):\n",
        "\n",
        "        # keep track of training and validation loss\n",
        "        train_loss = 0.0\n",
        "\n",
        "        # model by default is set to train\n",
        "        for batch_i, (data, target) in enumerate(train_loader):\n",
        "            # move tensors to GPU if CUDA is available\n",
        "            if train_on_gpu:\n",
        "                data, target = data.cuda(), target.cuda()\n",
        "            # clear the gradients of all optimized variables\n",
        "            optimizer.zero_grad()\n",
        "            # forward pass: compute predicted outputs by passing inputs to the model\n",
        "            output = conv_net(data)\n",
        "\n",
        "            # calculate the batch loss\n",
        "            loss = criterion(output, target)\n",
        "            # backward pass: compute gradient of the loss with respect to model parameters\n",
        "            loss.backward()\n",
        "            # perform a single optimization step (parameter update)\n",
        "            optimizer.step()\n",
        "            # update training loss\n",
        "            train_loss += loss.item()\n",
        "\n",
        "            my_lr_scheduler.step()\n",
        "\n",
        "            if batch_i % 20 == 19:  # print training loss every specified number of mini-batches\n",
        "                print('Epoch %d, Batch %d loss: %.16f' %\n",
        "                    (epoch, batch_i + 1, train_loss / 20))\n",
        "                losses.append(train_loss / 20)\n",
        "                train_loss = 0.0\n",
        "        \n",
        "        \n",
        "\n",
        "    return conv_net, losses"
      ],
      "execution_count": 4,
      "outputs": []
    },
    {
      "cell_type": "markdown",
      "metadata": {
        "id": "-Rrxo5RDz96U"
      },
      "source": [
        "Module: Test_model"
      ]
    },
    {
      "cell_type": "code",
      "metadata": {
        "id": "Ay-HlMJnxU9v"
      },
      "source": [
        "def test_model(classes, conv_net, test_loader, criterion):\n",
        "    # track test loss\n",
        "    test_loss = 0.0\n",
        "    class_correct = list(0. for i in range(len(classes)))\n",
        "    class_total = list(0. for i in range(len(classes)))\n",
        "\n",
        "    conv_net.eval()  # eval mode\n",
        "\n",
        "    labels = []\n",
        "    predictions = []\n",
        "    # iterate over test data\n",
        "    for data, target in test_loader:\n",
        "        # move tensors to GPU if CUDA is available\n",
        "        if train_on_gpu:\n",
        "            data, target = data.cuda(), target.cuda()\n",
        "        # forward pass: compute predicted outputs by passing inputs to the model\n",
        "        output = conv_net(data)\n",
        "        # calculate the batch loss\n",
        "        loss = criterion(output, target)\n",
        "        # update  test loss\n",
        "        test_loss += loss.item() * data.size(0)\n",
        "        # convert output probabilities to predicted class\n",
        "        _, pred = torch.max(output, 1)\n",
        "\n",
        "        # compare predictions to true label\n",
        "        correct_tensor = pred.eq(target.data.view_as(pred))\n",
        "        correct = np.squeeze(correct_tensor.numpy()) if not train_on_gpu else np.squeeze(correct_tensor.cpu().numpy())\n",
        "        # calculate test accuracy for each object class\n",
        "        for i in range(len(target.data)):\n",
        "            label = target.data[i]\n",
        "            class_correct[label] += correct[i].item()\n",
        "            class_total[label] += 1\n",
        "        \n",
        "        # Will be used for calculating Recall, Precision, and F1-score\n",
        "        labels.extend(target.data.view_as(pred).tolist())\n",
        "        predictions.extend(pred.tolist())\n",
        "\n",
        "\n",
        "    # calculate avg test loss\n",
        "    test_loss = test_loss / len(test_loader.dataset)\n",
        "    print('Test Loss: {:.6f}\\n'.format(test_loss))\n",
        "\n",
        "    return test_loss, class_correct, class_total, labels, predictions"
      ],
      "execution_count": 5,
      "outputs": []
    },
    {
      "cell_type": "markdown",
      "metadata": {
        "id": "xHh3PXE80Asa"
      },
      "source": [
        "Check whether CUDA is available (Change runtime type if not)"
      ]
    },
    {
      "cell_type": "code",
      "metadata": {
        "colab": {
          "base_uri": "https://localhost:8080/"
        },
        "id": "Q9TYPQH7x4zw",
        "outputId": "29e9675a-dd0d-4b9d-dc59-7d6b6f1e87cb"
      },
      "source": [
        "if not train_on_gpu:\n",
        "    print('CUDA is not available.  Training on CPU ...')\n",
        "else:\n",
        "    print('CUDA is available!  Training on GPU ...')"
      ],
      "execution_count": 6,
      "outputs": [
        {
          "output_type": "stream",
          "name": "stdout",
          "text": [
            "CUDA is available!  Training on GPU ...\n"
          ]
        }
      ]
    },
    {
      "cell_type": "markdown",
      "metadata": {
        "id": "6lYw8EKVx8Q7"
      },
      "source": [
        "Load Hieroglyph Data"
      ]
    },
    {
      "cell_type": "code",
      "metadata": {
        "colab": {
          "base_uri": "https://localhost:8080/"
        },
        "id": "laLvoRy1yewl",
        "outputId": "c13bfef4-2438-48c8-c1b1-559da7bb7cc1"
      },
      "source": [
        "# Connecting and Mounting to the Google Drive\n",
        "from google.colab import drive\n",
        "drive.mount('/content/drive')"
      ],
      "execution_count": 7,
      "outputs": [
        {
          "output_type": "stream",
          "name": "stdout",
          "text": [
            "Mounted at /content/drive\n"
          ]
        }
      ]
    },
    {
      "cell_type": "code",
      "metadata": {
        "id": "odaoZt9GyfUt"
      },
      "source": [
        "data_dir = '/content/drive/MyDrive/EgyptianHieroglyphDataset_Original_Clean/'"
      ],
      "execution_count": 8,
      "outputs": []
    },
    {
      "cell_type": "code",
      "metadata": {
        "colab": {
          "base_uri": "https://localhost:8080/"
        },
        "id": "dF22MAnmyiC1",
        "outputId": "5b05c4e9-399c-4f80-bc5f-c3909b0c1b5e"
      },
      "source": [
        "hieroglyph_for_train = []\n",
        "file_count_list = []\n",
        "\n",
        "for name in os.listdir('/content/drive/MyDrive/EgyptianHieroglyphDataset_Original_Clean/train/'):\n",
        "  path, dirs, files = next(os.walk(\"/content/drive/MyDrive/EgyptianHieroglyphDataset_Original_Clean/train/\"+name))\n",
        "  file_count = len(files)\n",
        "  print(name, file_count)\n",
        "  file_count_list.append(file_count)\n",
        "  hieroglyph_for_train.append(name)\n",
        "\n",
        "hieroglyph_dict = dict(zip(hieroglyph_for_train, file_count_list))"
      ],
      "execution_count": 9,
      "outputs": [
        {
          "output_type": "stream",
          "name": "stdout",
          "text": [
            "Y5 6\n",
            "I9 116\n",
            "O34 15\n",
            "V13 63\n",
            "U7 3\n",
            "D46 40\n",
            "E34 97\n",
            "G1 28\n",
            "V31 106\n",
            "S34 8\n",
            "D36 47\n",
            "Q1 13\n",
            "V30 6\n",
            "F35 2\n",
            "O4 11\n",
            "M23 30\n",
            "S29 212\n",
            "R8 53\n",
            "W11 4\n",
            "X1 185\n",
            "Y1 1\n",
            "D21 146\n",
            "D2 19\n",
            "E23 8\n",
            "X8 4\n",
            "Z1 39\n",
            "D4 29\n",
            "V28 28\n",
            "I10 32\n",
            "O1 16\n",
            "M17 291\n",
            "F31 6\n",
            "G43 157\n",
            "D58 28\n",
            "O49 10\n",
            "G17 156\n",
            "R4 2\n",
            "Q3 61\n",
            "W24 31\n",
            "N35 358\n"
          ]
        }
      ]
    },
    {
      "cell_type": "markdown",
      "metadata": {
        "id": "XeQQ7PjZzKd9"
      },
      "source": [
        "Number of images for each hieroglyph "
      ]
    },
    {
      "cell_type": "code",
      "metadata": {
        "colab": {
          "base_uri": "https://localhost:8080/",
          "height": 609
        },
        "id": "W6IzWR2RyjxM",
        "outputId": "57cd8004-db34-4aa2-a369-91429a723fa8"
      },
      "source": [
        "import matplotlib.pyplot as plt\n",
        "import pandas as pd\n",
        "\n",
        "df = pd.DataFrame({\"Hieroglyph\":hieroglyph_for_train, \"Count\":file_count_list})\n",
        "\n",
        "df_sorted= df.sort_values('Count',ascending=False)\n",
        "\n",
        "plt.figure(figsize=(20,10))\n",
        "# make bar plot with matplotlib\n",
        "plt.bar('Hieroglyph', 'Count',data=df_sorted)"
      ],
      "execution_count": 10,
      "outputs": [
        {
          "output_type": "execute_result",
          "data": {
            "text/plain": [
              "<BarContainer object of 40 artists>"
            ]
          },
          "metadata": {},
          "execution_count": 10
        },
        {
          "output_type": "display_data",
          "data": {
            "image/png": "[encoded data removed]",
            "text/plain": [
              "<Figure size 1440x720 with 1 Axes>"
            ]
          },
          "metadata": {
            "needs_background": "light"
          }
        }
      ]
    },
    {
      "cell_type": "code",
      "metadata": {
        "id": "-3oOm8rSx7tp"
      },
      "source": [
        "# Number of images processed in a single training\n",
        "batch_size = 20\n",
        "num_workers = 0\n",
        "\n",
        "# The load_data function is from hieroglyph_data_preparation python file\n",
        "train_loader, test_loader, classes = load_data(data_dir)"
      ],
      "execution_count": 11,
      "outputs": []
    },
    {
      "cell_type": "markdown",
      "metadata": {
        "id": "BJm8sGiBx_q5"
      },
      "source": [
        "ResNet Model"
      ]
    },
    {
      "cell_type": "code",
      "metadata": {
        "id": "ii1UaV8yPvW_"
      },
      "source": [
        "class SeparableConv2d(nn.Module):\n",
        "    def __init__(self,in_channels,out_channels,kernel_size=3,stride=1,padding=0,dilation=1,bias=False):\n",
        "        super(SeparableConv2d,self).__init__()\n",
        "\n",
        "        self.conv1 = nn.Conv2d(in_channels,in_channels,kernel_size,stride,padding,dilation,groups=in_channels,bias=bias)\n",
        "        self.pointwise = nn.Conv2d(in_channels,out_channels,1,1,0,1,1,bias=bias)\n",
        "    \n",
        "    def forward(self,x):\n",
        "        x = self.conv1(x)\n",
        "        x = self.pointwise(x)\n",
        "        return x"
      ],
      "execution_count": 12,
      "outputs": []
    },
    {
      "cell_type": "code",
      "metadata": {
        "id": "-hnE4jAAPbnX"
      },
      "source": [
        "from torch.nn import Linear, ReLU, CrossEntropyLoss, Sequential, Conv2d, MaxPool2d, Module, Softmax, BatchNorm2d, Dropout"
      ],
      "execution_count": 13,
      "outputs": []
    },
    {
      "cell_type": "code",
      "metadata": {
        "colab": {
          "base_uri": "https://localhost:8080/",
          "height": 140
        },
        "id": "oXpu43oPMyor",
        "outputId": "2d87d11c-42de-489b-f271-88e6eee89d59"
      },
      "source": [
        "'''\n",
        "class Glyphnet(torch.nn.Module):   \n",
        "    def __init__(self):\n",
        "        super(Glyphnet, self).__init__()\n",
        "\n",
        "        self.conv1 = torch.nn.Conv2d(3, 64, kernel_size = 3, stride = 1, padding = 0)\n",
        "        self.maxpool1 = MaxPool2d(kernel_size=2, stride=2)\n",
        "        self.conv2 = torch.nn.Conv2d(64, 64, kernel_size = 3, stride = 1, padding = 0)\n",
        "        self.maxpool2 = MaxPool2d(kernel_size=3, stride=2)\n",
        "\n",
        "        self.fc1 = Linear(23 * 23 * 64, 40)\n",
        "\n",
        "        #self.conv1 = torch.nn.Conv2d(3, 64, kernel_size = 3, stride = 1, padding = 0)\n",
        "        #self.conv2 = torch.nn.Conv2d(64, 64, kernel_size = 3, stride = 1, padding = 0)\n",
        "        #self.maxpool = torch.nn.MaxPool2d(kernel_size = 3, stride = 1, padding = 0)\n",
        "        #self.avgpool = torch.nn.AvgPool2d(kernel_size=66)\n",
        "\n",
        "        #self.bn1 = torch.nn.BatchNorm2d(64)\n",
        "        #self.bn2 = torch.nn.BatchNorm2d(128)\n",
        "        #self.bn3 = torch.nn.BatchNorm2d(256)\n",
        "        #self.bn4 = torch.nn.BatchNorm2d(512)\n",
        "\n",
        "        #self.separableconv1 = SeparableConv2d(64,128)\n",
        "        #self.separableconv2 = SeparableConv2d(128,128)\n",
        "        #self.separableconv3 = SeparableConv2d(128,256)\n",
        "        #self.separableconv4 = SeparableConv2d(256,256)\n",
        "        #self.separableconv5 = SeparableConv2d(256,512)\n",
        "\n",
        "        #self.drop_layer = nn.Dropout(p=0.15)\n",
        "        #self.fc1 = torch.nn.Linear(512, 40) # Should change 64 part\n",
        "        self.softmax = nn.Softmax(dim=1)\n",
        "\n",
        "    # Defining the forward pass    \n",
        "    def forward(self, x):\n",
        "        x = self.conv1(x)\n",
        "        x = self.maxpool1(x)\n",
        "        x = self.conv2(x)\n",
        "        x = self.maxpool2(x)\n",
        "\n",
        "        x = x.view(x.size(0), -1)\n",
        "        x = self.fc1(x)\n",
        "        # x = self.softmax(x) # Not a good idea (the model is trained really slow)\n",
        "\n",
        "        return x\n",
        "'''"
      ],
      "execution_count": 14,
      "outputs": [
        {
          "output_type": "execute_result",
          "data": {
            "application/vnd.google.colaboratory.intrinsic+json": {
              "type": "string"
            },
            "text/plain": [
              "'\\nclass Glyphnet(torch.nn.Module):   \\n    def __init__(self):\\n        super(Glyphnet, self).__init__()\\n\\n        self.conv1 = torch.nn.Conv2d(3, 64, kernel_size = 3, stride = 1, padding = 0)\\n        self.maxpool1 = MaxPool2d(kernel_size=2, stride=2)\\n        self.conv2 = torch.nn.Conv2d(64, 64, kernel_size = 3, stride = 1, padding = 0)\\n        self.maxpool2 = MaxPool2d(kernel_size=3, stride=2)\\n\\n        self.fc1 = Linear(23 * 23 * 64, 40)\\n\\n        #self.conv1 = torch.nn.Conv2d(3, 64, kernel_size = 3, stride = 1, padding = 0)\\n        #self.conv2 = torch.nn.Conv2d(64, 64, kernel_size = 3, stride = 1, padding = 0)\\n        #self.maxpool = torch.nn.MaxPool2d(kernel_size = 3, stride = 1, padding = 0)\\n        #self.avgpool = torch.nn.AvgPool2d(kernel_size=66)\\n\\n        #self.bn1 = torch.nn.BatchNorm2d(64)\\n        #self.bn2 = torch.nn.BatchNorm2d(128)\\n        #self.bn3 = torch.nn.BatchNorm2d(256)\\n        #self.bn4 = torch.nn.BatchNorm2d(512)\\n\\n        #self.separableconv1 = SeparableConv2d(64,128)\\n        #self.separableconv2 = SeparableConv2d(128,128)\\n        #self.separableconv3 = SeparableConv2d(128,256)\\n        #self.separableconv4 = SeparableConv2d(256,256)\\n        #self.separableconv5 = SeparableConv2d(256,512)\\n\\n        #self.drop_layer = nn.Dropout(p=0.15)\\n        #self.fc1 = torch.nn.Linear(512, 40) # Should change 64 part\\n        self.softmax = nn.Softmax(dim=1)\\n\\n    # Defining the forward pass    \\n    def forward(self, x):\\n        x = self.conv1(x)\\n        x = self.maxpool1(x)\\n        x = self.conv2(x)\\n        x = self.maxpool2(x)\\n\\n        x = x.view(x.size(0), -1)\\n        x = self.fc1(x)\\n        # x = self.softmax(x) # Not a good idea (the model is trained really slow)\\n\\n        return x\\n'"
            ]
          },
          "metadata": {},
          "execution_count": 14
        }
      ]
    },
    {
      "cell_type": "code",
      "metadata": {
        "id": "Mik3vFrCSeTd"
      },
      "source": [
        "class Glyphnet(torch.nn.Module):\n",
        "   def __init__(self):\n",
        "      super(Glyphnet, self).__init__()\n",
        "      \n",
        "      self.conv1 = torch.nn.Conv2d(3, 64, kernel_size = 3, stride = 1, padding = 0)\n",
        "      self.conv2 = torch.nn.Conv2d(64, 64, kernel_size = 3, stride = 1, padding = 0)\n",
        "      self.maxpool = torch.nn.MaxPool2d(kernel_size = 3, stride = 1, padding = 0)\n",
        "      self.avgpool = torch.nn.AvgPool2d(kernel_size=66)\n",
        "\n",
        "      self.bn1 = torch.nn.BatchNorm2d(64)\n",
        "      self.bn2 = torch.nn.BatchNorm2d(128)\n",
        "      self.bn3 = torch.nn.BatchNorm2d(256)\n",
        "      self.bn4 = torch.nn.BatchNorm2d(512)\n",
        "\n",
        "      self.separableconv1 = SeparableConv2d(64,128)\n",
        "      self.separableconv2 = SeparableConv2d(128,128)\n",
        "      self.separableconv3 = SeparableConv2d(128,256)\n",
        "      self.separableconv4 = SeparableConv2d(256,256)\n",
        "      self.separableconv5 = SeparableConv2d(256,512)\n",
        "\n",
        "      self.drop_layer = nn.Dropout(p=0.15)\n",
        "      self.fc1 = torch.nn.Linear(512, 40) # Should change 64 part\n",
        "      self.softmax = nn.Softmax(dim=1)\n",
        "\n",
        "   def forward(self, x): # Input: 100 x 100 x 3\n",
        "      \n",
        "      # First block\n",
        "      x = self.bn1(self.conv1(x)) # Output: 98 x 98 x 64\n",
        "      x = F.relu(self.maxpool(x)) # Output: 96 x 96 x 64\n",
        "      x = self.bn1(self.conv2(x)) # Output: 94 x 94 x 64\n",
        "      x = F.relu(self.maxpool(x)) # Output: 92 x 92 x 64\n",
        "      \n",
        "      # Second block\n",
        "      x = F.relu(self.bn2(self.separableconv1(x))) # Output: 90 x 90 x 128\n",
        "      x = self.bn2(self.separableconv2(x)) # Output: 88 x 88 x 128\n",
        "      x = F.relu(self.maxpool(x)) # Output: 86 x 86 x 128\n",
        "\n",
        "      # Third block\n",
        "      x = F.relu(self.bn2(self.separableconv2(x))) # Output: 84 x 84 x 128\n",
        "      x = self.bn2(self.separableconv2(x)) # Output: 82 x 82 x 128\n",
        "      x = F.relu(self.maxpool(x)) # Output: 80 x 80 x 128\n",
        "\n",
        "      # Fourth block\n",
        "      x = F.relu(self.bn3(self.separableconv3(x))) # Output: 78 x 78 x 256\n",
        "      x = self.bn3(self.separableconv4(x)) # Output: 76 x 76 x 256\n",
        "      x = F.relu(self.maxpool(x)) # Output: 74 x 74 x 256\n",
        "\n",
        "      # Fifth block\n",
        "      x = F.relu(self.bn3(self.separableconv4(x))) # Output: 72 x 72 x 256\n",
        "      x = self.bn3(self.separableconv4(x)) # Output: 70 x 70 x 256\n",
        "      x = F.relu(self.maxpool(x)) # Output: 68 x 68 x 256\n",
        "\n",
        "      # Sixth block\n",
        "      x = F.relu(self.bn4(self.separableconv5(x))) # Output: 66 x 66 x 512\n",
        "\n",
        "      x = self.avgpool(x) # Global Average Pooling; Output: 512\n",
        "\n",
        "      x = self.drop_layer(x) # Dropout Layer; Output: 512\n",
        "      \n",
        "      # Fully Connected Layer; Output: 512\n",
        "      x = x.view(x.size(0), -1)\n",
        "      x = self.fc1(x)\n",
        "\n",
        "      x = self.softmax(x) # Softmax; Output: 512\n",
        "      \n",
        "      return(x)"
      ],
      "execution_count": 15,
      "outputs": []
    },
    {
      "cell_type": "code",
      "metadata": {
        "id": "JkLXVJGkxemC"
      },
      "source": [
        "# Whether to extract features with the model\n",
        "feature_extract = False\n",
        "# Other selections\n",
        "loss_function = \"cross-entropy\"\n",
        "model_selection = \"glyphnet\"\n",
        "optim_selection = \"Adam\"\n",
        "\n",
        "# Load the model\n",
        "if model_selection == \"glyphnet\":\n",
        "    glyphnet = Glyphnet()\n",
        "\n",
        "# if GPU is available, move the model to GPU\n",
        "if train_on_gpu:\n",
        "    glyphnet.cuda()\n",
        "\n",
        "# Specify loss function (categorical cross-entropy)\n",
        "if loss_function == \"cross-entropy\":\n",
        "    criterion = nn.CrossEntropyLoss()\n",
        "\n",
        "# Specify optimizer (Adam) and learning rate = 0.001\n",
        "if optim_selection == \"Adam\":\n",
        "    optimizer = optim.Adam(glyphnet.parameters(), lr=0.001)\n",
        "\n",
        "# Exponential Decay to strengthen learning\n",
        "decayRate = 0.999\n",
        "my_lr_scheduler = torch.optim.lr_scheduler.ExponentialLR(optimizer=optimizer, gamma=decayRate)"
      ],
      "execution_count": 16,
      "outputs": []
    },
    {
      "cell_type": "markdown",
      "metadata": {
        "id": "U2vnErB1yHmM"
      },
      "source": [
        "Training the model"
      ]
    },
    {
      "cell_type": "code",
      "metadata": {
        "id": "dOB03noWyEvQ",
        "colab": {
          "base_uri": "https://localhost:8080/"
        },
        "outputId": "b4c0e41f-47ff-4ff6-d7e5-33b949a80579"
      },
      "source": [
        "# number of epochs to train the model\n",
        "n_epochs = 50\n",
        "\n",
        "# The train_model function is from model_training python file\n",
        "glyphnet, train_losses = train_model(train_loader, optimizer, glyphnet, criterion, my_lr_scheduler, n_epochs)"
      ],
      "execution_count": 17,
      "outputs": [
        {
          "output_type": "stream",
          "name": "stdout",
          "text": [
            "Epoch 1, Batch 20 loss: 3.6824443578720092\n",
            "Epoch 1, Batch 40 loss: 3.6665638208389284\n",
            "Epoch 1, Batch 60 loss: 3.6699670791625976\n",
            "Epoch 1, Batch 80 loss: 3.6577907562255860\n",
            "Epoch 1, Batch 100 loss: 3.6458096742630004\n",
            "Epoch 1, Batch 120 loss: 3.6313915967941286\n",
            "Epoch 2, Batch 20 loss: 3.6055100917816163\n",
            "Epoch 2, Batch 40 loss: 3.5792318344116212\n",
            "Epoch 2, Batch 60 loss: 3.6050444722175596\n",
            "Epoch 2, Batch 80 loss: 3.5976884603500365\n",
            "Epoch 2, Batch 100 loss: 3.5611370801925659\n",
            "Epoch 2, Batch 120 loss: 3.5838352084159850\n",
            "Epoch 3, Batch 20 loss: 3.5750214576721193\n",
            "Epoch 3, Batch 40 loss: 3.5587122559547426\n",
            "Epoch 3, Batch 60 loss: 3.5448166251182558\n",
            "Epoch 3, Batch 80 loss: 3.5229262828826906\n",
            "Epoch 3, Batch 100 loss: 3.5156610369682313\n",
            "Epoch 3, Batch 120 loss: 3.5295091867446899\n",
            "Epoch 4, Batch 20 loss: 3.5175605535507204\n",
            "Epoch 4, Batch 40 loss: 3.4812143564224245\n",
            "Epoch 4, Batch 60 loss: 3.5091297030448914\n",
            "Epoch 4, Batch 80 loss: 3.4807792305946350\n",
            "Epoch 4, Batch 100 loss: 3.4801833629608154\n",
            "Epoch 4, Batch 120 loss: 3.5113036513328550\n",
            "Epoch 5, Batch 20 loss: 3.4810848951339723\n",
            "Epoch 5, Batch 40 loss: 3.4603223562240601\n",
            "Epoch 5, Batch 60 loss: 3.4472741484642029\n",
            "Epoch 5, Batch 80 loss: 3.4517603993415831\n",
            "Epoch 5, Batch 100 loss: 3.4091633915901185\n",
            "Epoch 5, Batch 120 loss: 3.4444827079772948\n",
            "Epoch 6, Batch 20 loss: 3.4133533835411072\n",
            "Epoch 6, Batch 40 loss: 3.4040360331535338\n",
            "Epoch 6, Batch 60 loss: 3.4099744200706481\n",
            "Epoch 6, Batch 80 loss: 3.3904404401779176\n",
            "Epoch 6, Batch 100 loss: 3.4187047481536865\n",
            "Epoch 6, Batch 120 loss: 3.3883800506591797\n",
            "Epoch 7, Batch 20 loss: 3.3393532276153564\n",
            "Epoch 7, Batch 40 loss: 3.4094079256057741\n",
            "Epoch 7, Batch 60 loss: 3.3824879646301271\n",
            "Epoch 7, Batch 80 loss: 3.3729635000228884\n",
            "Epoch 7, Batch 100 loss: 3.3411675095558167\n",
            "Epoch 7, Batch 120 loss: 3.3649942159652708\n",
            "Epoch 8, Batch 20 loss: 3.3536486625671387\n",
            "Epoch 8, Batch 40 loss: 3.3806478738784791\n",
            "Epoch 8, Batch 60 loss: 3.3729132175445558\n",
            "Epoch 8, Batch 80 loss: 3.4153024673461916\n",
            "Epoch 8, Batch 100 loss: 3.3505429744720461\n",
            "Epoch 8, Batch 120 loss: 3.3554647922515870\n",
            "Epoch 9, Batch 20 loss: 3.3898161172866823\n",
            "Epoch 9, Batch 40 loss: 3.3764353036880492\n",
            "Epoch 9, Batch 60 loss: 3.3509408116340635\n",
            "Epoch 9, Batch 80 loss: 3.3464638471603392\n",
            "Epoch 9, Batch 100 loss: 3.3789125561714171\n",
            "Epoch 9, Batch 120 loss: 3.3659348011016847\n",
            "Epoch 10, Batch 20 loss: 3.3479467391967774\n",
            "Epoch 10, Batch 40 loss: 3.3323752880096436\n",
            "Epoch 10, Batch 60 loss: 3.3347285985946655\n",
            "Epoch 10, Batch 80 loss: 3.3408707261085508\n",
            "Epoch 10, Batch 100 loss: 3.3112836480140686\n",
            "Epoch 10, Batch 120 loss: 3.3466151595115661\n",
            "Epoch 11, Batch 20 loss: 3.3146568536758423\n",
            "Epoch 11, Batch 40 loss: 3.3373113632202149\n",
            "Epoch 11, Batch 60 loss: 3.3436541914939881\n",
            "Epoch 11, Batch 80 loss: 3.3754390716552733\n",
            "Epoch 11, Batch 100 loss: 3.2842522978782656\n",
            "Epoch 11, Batch 120 loss: 3.3371475100517274\n",
            "Epoch 12, Batch 20 loss: 3.3143324851989746\n",
            "Epoch 12, Batch 40 loss: 3.3583973050117493\n",
            "Epoch 12, Batch 60 loss: 3.3230503439903258\n",
            "Epoch 12, Batch 80 loss: 3.3094740271568299\n",
            "Epoch 12, Batch 100 loss: 3.2818589448928832\n",
            "Epoch 12, Batch 120 loss: 3.3095783829689025\n",
            "Epoch 13, Batch 20 loss: 3.3078806042671203\n",
            "Epoch 13, Batch 40 loss: 3.3330159068107603\n",
            "Epoch 13, Batch 60 loss: 3.3055915236473083\n",
            "Epoch 13, Batch 80 loss: 3.3102713227272034\n",
            "Epoch 13, Batch 100 loss: 3.3138980388641359\n",
            "Epoch 13, Batch 120 loss: 3.3337714791297914\n",
            "Epoch 14, Batch 20 loss: 3.3028919219970705\n",
            "Epoch 14, Batch 40 loss: 3.3348351001739500\n",
            "Epoch 14, Batch 60 loss: 3.3390026807785036\n",
            "Epoch 14, Batch 80 loss: 3.3415545821189880\n",
            "Epoch 14, Batch 100 loss: 3.3264238119125364\n",
            "Epoch 14, Batch 120 loss: 3.3288989901542663\n",
            "Epoch 15, Batch 20 loss: 3.2920490264892579\n",
            "Epoch 15, Batch 40 loss: 3.2854309439659120\n",
            "Epoch 15, Batch 60 loss: 3.3163857698440551\n",
            "Epoch 15, Batch 80 loss: 3.3006619930267336\n",
            "Epoch 15, Batch 100 loss: 3.3326320648193359\n",
            "Epoch 15, Batch 120 loss: 3.3113121151924134\n",
            "Epoch 16, Batch 20 loss: 3.2820896863937379\n",
            "Epoch 16, Batch 40 loss: 3.2656296968460081\n",
            "Epoch 16, Batch 60 loss: 3.2856389999389650\n",
            "Epoch 16, Batch 80 loss: 3.2763386845588682\n",
            "Epoch 16, Batch 100 loss: 3.2498800516128541\n",
            "Epoch 16, Batch 120 loss: 3.2927577018737795\n",
            "Epoch 17, Batch 20 loss: 3.2879037857055664\n",
            "Epoch 17, Batch 40 loss: 3.2772737145423889\n",
            "Epoch 17, Batch 60 loss: 3.2933316707611082\n",
            "Epoch 17, Batch 80 loss: 3.2999999403953550\n",
            "Epoch 17, Batch 100 loss: 3.2768203258514403\n",
            "Epoch 17, Batch 120 loss: 3.2746608853340149\n",
            "Epoch 18, Batch 20 loss: 3.2953793883323668\n",
            "Epoch 18, Batch 40 loss: 3.3044165492057802\n",
            "Epoch 18, Batch 60 loss: 3.2688979268074037\n",
            "Epoch 18, Batch 80 loss: 3.2736109137535094\n",
            "Epoch 18, Batch 100 loss: 3.2915755867958070\n",
            "Epoch 18, Batch 120 loss: 3.3121212124824524\n",
            "Epoch 19, Batch 20 loss: 3.3384926319122314\n",
            "Epoch 19, Batch 40 loss: 3.2803853631019591\n",
            "Epoch 19, Batch 60 loss: 3.3146596908569337\n",
            "Epoch 19, Batch 80 loss: 3.2613784193992617\n",
            "Epoch 19, Batch 100 loss: 3.3097086191177367\n",
            "Epoch 19, Batch 120 loss: 3.2920263648033141\n",
            "Epoch 20, Batch 20 loss: 3.3106886386871337\n",
            "Epoch 20, Batch 40 loss: 3.3159410238265989\n",
            "Epoch 20, Batch 60 loss: 3.3014265418052675\n",
            "Epoch 20, Batch 80 loss: 3.2859161496162415\n",
            "Epoch 20, Batch 100 loss: 3.2808290243148805\n",
            "Epoch 20, Batch 120 loss: 3.2984467267990114\n",
            "Epoch 21, Batch 20 loss: 3.3113028526306154\n",
            "Epoch 21, Batch 40 loss: 3.2600427031517030\n",
            "Epoch 21, Batch 60 loss: 3.2933397412300112\n",
            "Epoch 21, Batch 80 loss: 3.3017789721488953\n",
            "Epoch 21, Batch 100 loss: 3.2528467774391174\n",
            "Epoch 21, Batch 120 loss: 3.2594511628150942\n",
            "Epoch 22, Batch 20 loss: 3.2819979906082155\n",
            "Epoch 22, Batch 40 loss: 3.3106398344039918\n",
            "Epoch 22, Batch 60 loss: 3.2398615360260008\n",
            "Epoch 22, Batch 80 loss: 3.2724443197250368\n",
            "Epoch 22, Batch 100 loss: 3.3118004083633421\n",
            "Epoch 22, Batch 120 loss: 3.2832556962966919\n",
            "Epoch 23, Batch 20 loss: 3.2769770622253418\n",
            "Epoch 23, Batch 40 loss: 3.2923442363739013\n",
            "Epoch 23, Batch 60 loss: 3.2911284327507020\n",
            "Epoch 23, Batch 80 loss: 3.2721923232078551\n",
            "Epoch 23, Batch 100 loss: 3.2567073225975038\n",
            "Epoch 23, Batch 120 loss: 3.2799504637718200\n",
            "Epoch 24, Batch 20 loss: 3.2856220602989197\n",
            "Epoch 24, Batch 40 loss: 3.3137819051742552\n",
            "Epoch 24, Batch 60 loss: 3.2787032008171080\n",
            "Epoch 24, Batch 80 loss: 3.2848912477493286\n",
            "Epoch 24, Batch 100 loss: 3.3253162503242493\n",
            "Epoch 24, Batch 120 loss: 3.2313417673110960\n",
            "Epoch 25, Batch 20 loss: 3.2655004382133486\n",
            "Epoch 25, Batch 40 loss: 3.2565178632736207\n",
            "Epoch 25, Batch 60 loss: 3.2537112355232241\n",
            "Epoch 25, Batch 80 loss: 3.2947598695755005\n",
            "Epoch 25, Batch 100 loss: 3.2780375480651855\n",
            "Epoch 25, Batch 120 loss: 3.2746664881706238\n",
            "Epoch 26, Batch 20 loss: 3.2135194659233095\n",
            "Epoch 26, Batch 40 loss: 3.3062616705894472\n",
            "Epoch 26, Batch 60 loss: 3.2811760187149046\n",
            "Epoch 26, Batch 80 loss: 3.2530531287193298\n",
            "Epoch 26, Batch 100 loss: 3.2589421391487123\n",
            "Epoch 26, Batch 120 loss: 3.2731919050216676\n",
            "Epoch 27, Batch 20 loss: 3.2717464327812196\n",
            "Epoch 27, Batch 40 loss: 3.2949318766593931\n",
            "Epoch 27, Batch 60 loss: 3.2781563282012938\n",
            "Epoch 27, Batch 80 loss: 3.2880296230316164\n",
            "Epoch 27, Batch 100 loss: 3.2874770283699037\n",
            "Epoch 27, Batch 120 loss: 3.2831244111061095\n",
            "Epoch 28, Batch 20 loss: 3.2879431962966921\n",
            "Epoch 28, Batch 40 loss: 3.2577496647834776\n",
            "Epoch 28, Batch 60 loss: 3.2890578746795653\n",
            "Epoch 28, Batch 80 loss: 3.2631568193435667\n",
            "Epoch 28, Batch 100 loss: 3.2894405007362364\n",
            "Epoch 28, Batch 120 loss: 3.2814036011695862\n",
            "Epoch 29, Batch 20 loss: 3.2631460070610045\n",
            "Epoch 29, Batch 40 loss: 3.2727618098258970\n",
            "Epoch 29, Batch 60 loss: 3.2508190393447878\n",
            "Epoch 29, Batch 80 loss: 3.2902817487716676\n",
            "Epoch 29, Batch 100 loss: 3.2711236715316772\n",
            "Epoch 29, Batch 120 loss: 3.2508017778396607\n",
            "Epoch 30, Batch 20 loss: 3.2780952095985412\n",
            "Epoch 30, Batch 40 loss: 3.2457496047019960\n",
            "Epoch 30, Batch 60 loss: 3.2356453299522401\n",
            "Epoch 30, Batch 80 loss: 3.2899454832077026\n",
            "Epoch 30, Batch 100 loss: 3.2718929529190062\n",
            "Epoch 30, Batch 120 loss: 3.2457465291023255\n",
            "Epoch 31, Batch 20 loss: 3.2705776929855346\n",
            "Epoch 31, Batch 40 loss: 3.2810534358024599\n",
            "Epoch 31, Batch 60 loss: 3.2810524582862852\n",
            "Epoch 31, Batch 80 loss: 3.2694552779197692\n",
            "Epoch 31, Batch 100 loss: 3.2590525746345520\n",
            "Epoch 31, Batch 120 loss: 3.2893538475036621\n",
            "Epoch 32, Batch 20 loss: 3.2849996924400329\n",
            "Epoch 32, Batch 40 loss: 3.2303529858589171\n",
            "Epoch 32, Batch 60 loss: 3.2125597953796388\n",
            "Epoch 32, Batch 80 loss: 3.3047531247138977\n",
            "Epoch 32, Batch 100 loss: 3.2479799628257751\n",
            "Epoch 32, Batch 120 loss: 3.2656891822814940\n",
            "Epoch 33, Batch 20 loss: 3.2965199112892152\n",
            "Epoch 33, Batch 40 loss: 3.2568906903266908\n",
            "Epoch 33, Batch 60 loss: 3.2509047746658326\n",
            "Epoch 33, Batch 80 loss: 3.2793621540069582\n",
            "Epoch 33, Batch 100 loss: 3.2619150757789610\n",
            "Epoch 33, Batch 120 loss: 3.2250990390777590\n",
            "Epoch 34, Batch 20 loss: 3.2637540340423583\n",
            "Epoch 34, Batch 40 loss: 3.2718603610992432\n",
            "Epoch 34, Batch 60 loss: 3.2906109929084777\n",
            "Epoch 34, Batch 80 loss: 3.2750297784805298\n",
            "Epoch 34, Batch 100 loss: 3.2898849844932556\n",
            "Epoch 34, Batch 120 loss: 3.2650139331817627\n",
            "Epoch 35, Batch 20 loss: 3.2638948917388917\n",
            "Epoch 35, Batch 40 loss: 3.2117216825485229\n",
            "Epoch 35, Batch 60 loss: 3.2454917550086977\n",
            "Epoch 35, Batch 80 loss: 3.2477176904678347\n",
            "Epoch 35, Batch 100 loss: 3.2569052338600160\n",
            "Epoch 35, Batch 120 loss: 3.2845872163772585\n",
            "Epoch 36, Batch 20 loss: 3.2905230879783631\n",
            "Epoch 36, Batch 40 loss: 3.2238363385200501\n",
            "Epoch 36, Batch 60 loss: 3.2731307506561280\n",
            "Epoch 36, Batch 80 loss: 3.2629908084869386\n",
            "Epoch 36, Batch 100 loss: 3.2624070405960084\n",
            "Epoch 36, Batch 120 loss: 3.2658285617828371\n",
            "Epoch 37, Batch 20 loss: 3.2742942452430723\n",
            "Epoch 37, Batch 40 loss: 3.2439014911651611\n",
            "Epoch 37, Batch 60 loss: 3.2078994393348692\n",
            "Epoch 37, Batch 80 loss: 3.2920530200004579\n",
            "Epoch 37, Batch 100 loss: 3.2999819755554198\n",
            "Epoch 37, Batch 120 loss: 3.2524360060691833\n",
            "Epoch 38, Batch 20 loss: 3.2410051345825197\n",
            "Epoch 38, Batch 40 loss: 3.2567981243133546\n",
            "Epoch 38, Batch 60 loss: 3.2629484057426454\n",
            "Epoch 38, Batch 80 loss: 3.2734687328338623\n",
            "Epoch 38, Batch 100 loss: 3.2718760609626769\n",
            "Epoch 38, Batch 120 loss: 3.2907527804374697\n",
            "Epoch 39, Batch 20 loss: 3.2796406984329223\n",
            "Epoch 39, Batch 40 loss: 3.2530853867530825\n",
            "Epoch 39, Batch 60 loss: 3.2393536925315858\n",
            "Epoch 39, Batch 80 loss: 3.2534608125686644\n",
            "Epoch 39, Batch 100 loss: 3.2152403831481933\n",
            "Epoch 39, Batch 120 loss: 3.2304737567901611\n",
            "Epoch 40, Batch 20 loss: 3.2408985853195191\n",
            "Epoch 40, Batch 40 loss: 3.2329585075378420\n",
            "Epoch 40, Batch 60 loss: 3.3281243324279783\n",
            "Epoch 40, Batch 80 loss: 3.2386046767234804\n",
            "Epoch 40, Batch 100 loss: 3.2695241928100587\n",
            "Epoch 40, Batch 120 loss: 3.2760597705841064\n",
            "Epoch 41, Batch 20 loss: 3.2318000316619875\n",
            "Epoch 41, Batch 40 loss: 3.2868406414985656\n",
            "Epoch 41, Batch 60 loss: 3.2285307526588438\n",
            "Epoch 41, Batch 80 loss: 3.2303658723831177\n",
            "Epoch 41, Batch 100 loss: 3.2430074214935303\n",
            "Epoch 41, Batch 120 loss: 3.2683656811714172\n",
            "Epoch 42, Batch 20 loss: 3.2689509391784668\n",
            "Epoch 42, Batch 40 loss: 3.2995887041091918\n",
            "Epoch 42, Batch 60 loss: 3.2545350670814512\n",
            "Epoch 42, Batch 80 loss: 3.2582376241683959\n",
            "Epoch 42, Batch 100 loss: 3.2825087666511537\n",
            "Epoch 42, Batch 120 loss: 3.2476024270057677\n",
            "Epoch 43, Batch 20 loss: 3.2781407475471496\n",
            "Epoch 43, Batch 40 loss: 3.2609299421310425\n",
            "Epoch 43, Batch 60 loss: 3.2816839933395388\n",
            "Epoch 43, Batch 80 loss: 3.2571252346038819\n",
            "Epoch 43, Batch 100 loss: 3.3023553729057311\n",
            "Epoch 43, Batch 120 loss: 3.2652183532714845\n",
            "Epoch 44, Batch 20 loss: 3.2374113798141479\n",
            "Epoch 44, Batch 40 loss: 3.2652014493942261\n",
            "Epoch 44, Batch 60 loss: 3.2430890202522278\n",
            "Epoch 44, Batch 80 loss: 3.2437409520149232\n",
            "Epoch 44, Batch 100 loss: 3.2690720081329347\n",
            "Epoch 44, Batch 120 loss: 3.2651206374168398\n",
            "Epoch 45, Batch 20 loss: 3.2611026406288146\n",
            "Epoch 45, Batch 40 loss: 3.2807795882225035\n",
            "Epoch 45, Batch 60 loss: 3.2846056580543519\n",
            "Epoch 45, Batch 80 loss: 3.2829595565795899\n",
            "Epoch 45, Batch 100 loss: 3.2545807719230653\n",
            "Epoch 45, Batch 120 loss: 3.2644734144210816\n",
            "Epoch 46, Batch 20 loss: 3.2656640052795409\n",
            "Epoch 46, Batch 40 loss: 3.2411135077476501\n",
            "Epoch 46, Batch 60 loss: 3.2618945837020874\n",
            "Epoch 46, Batch 80 loss: 3.2429494142532347\n",
            "Epoch 46, Batch 100 loss: 3.3074227094650270\n",
            "Epoch 46, Batch 120 loss: 3.2775819420814516\n",
            "Epoch 47, Batch 20 loss: 3.2916311502456663\n",
            "Epoch 47, Batch 40 loss: 3.2527557730674745\n",
            "Epoch 47, Batch 60 loss: 3.2808429837226867\n",
            "Epoch 47, Batch 80 loss: 3.2640943765640258\n",
            "Epoch 47, Batch 100 loss: 3.2614622473716737\n",
            "Epoch 47, Batch 120 loss: 3.2817419052124022\n",
            "Epoch 48, Batch 20 loss: 3.2954060196876527\n",
            "Epoch 48, Batch 40 loss: 3.2636652350425721\n",
            "Epoch 48, Batch 60 loss: 3.2740694284439087\n",
            "Epoch 48, Batch 80 loss: 3.2420974969863892\n",
            "Epoch 48, Batch 100 loss: 3.2041847109794617\n",
            "Epoch 48, Batch 120 loss: 3.2377112627029421\n",
            "Epoch 49, Batch 20 loss: 3.2605024933815003\n",
            "Epoch 49, Batch 40 loss: 3.2782369375228884\n",
            "Epoch 49, Batch 60 loss: 3.2385671257972719\n",
            "Epoch 49, Batch 80 loss: 3.2275584578514098\n",
            "Epoch 49, Batch 100 loss: 3.2665329694747927\n",
            "Epoch 49, Batch 120 loss: 3.2816448092460631\n",
            "Epoch 50, Batch 20 loss: 3.2894672513008119\n",
            "Epoch 50, Batch 40 loss: 3.2187794446945190\n",
            "Epoch 50, Batch 60 loss: 3.2715088009834288\n",
            "Epoch 50, Batch 80 loss: 3.2985782384872437\n",
            "Epoch 50, Batch 100 loss: 3.2244662284851073\n",
            "Epoch 50, Batch 120 loss: 3.3054833292961119\n"
          ]
        }
      ]
    },
    {
      "cell_type": "code",
      "metadata": {
        "id": "CfA7ZjLR1BZP",
        "colab": {
          "base_uri": "https://localhost:8080/",
          "height": 281
        },
        "outputId": "64a79b2a-ee94-4e59-83b3-105b88ae8341"
      },
      "source": [
        "plt.plot(train_losses)\n",
        "plt.title(\"Training Loss\")\n",
        "plt.show()"
      ],
      "execution_count": 18,
      "outputs": [
        {
          "output_type": "display_data",
          "data": {
            "image/png": "[encoded data removed]",
            "text/plain": [
              "<Figure size 432x288 with 1 Axes>"
            ]
          },
          "metadata": {
            "needs_background": "light"
          }
        }
      ]
    },
    {
      "cell_type": "markdown",
      "metadata": {
        "id": "ItLyF9dQyJFL"
      },
      "source": [
        "Testing the model"
      ]
    },
    {
      "cell_type": "code",
      "metadata": {
        "id": "gGki98W3SoEW"
      },
      "source": [
        "from sklearn.metrics import precision_score, recall_score, f1_score, accuracy_score"
      ],
      "execution_count": 19,
      "outputs": []
    },
    {
      "cell_type": "code",
      "metadata": {
        "id": "xNavYOynyE6d",
        "colab": {
          "base_uri": "https://localhost:8080/"
        },
        "outputId": "cc7bbbb6-29b8-4f28-cb88-796cd140fed9"
      },
      "source": [
        "# The test_model function is from model_testing python file\n",
        "test_loss, class_correct, class_total, labels, predictions = test_model(classes, glyphnet, test_loader, criterion)\n",
        "\n",
        "# Test accuracy for each hieroglyph\n",
        "for i in range(len(classes)):\n",
        "    if class_total[i] > 0:\n",
        "        print('Test Accuracy of %5s: %2d%% (%2d/%2d)' % (classes[i], 100 * class_correct[i] / class_total[i], np.sum(class_correct[i]), np.sum(class_total[i])))\n",
        "    else:\n",
        "        print('Test Accuracy of %5s: N/A (no training examples)' % (classes[i]))\n",
        "\n",
        "# Total Test accuracy\n",
        "print(\"\\nAccuracy: {:.3%}\".format(accuracy_score(labels, predictions)))\n",
        "print(\"\\nPrecision: {:.3%}\".format(precision_score(labels, predictions, average = 'weighted')))\n",
        "print(\"\\nRecall: {:.3%}\".format(recall_score(labels, predictions, average = 'weighted')))\n",
        "print(\"\\nF1-score: {:.3%}\".format(f1_score(labels, predictions, average = 'weighted')))"
      ],
      "execution_count": 20,
      "outputs": [
        {
          "output_type": "stream",
          "name": "stdout",
          "text": [
            "Test Loss: 3.690299\n",
            "\n",
            "Test Accuracy of    D2:  0% ( 0/14)\n",
            "Test Accuracy of   D21:  0% ( 0/15)\n",
            "Test Accuracy of   D36:  0% ( 0/14)\n",
            "Test Accuracy of    D4:  0% ( 0/15)\n",
            "Test Accuracy of   D46:  0% ( 0/17)\n",
            "Test Accuracy of   D58:  0% ( 0/21)\n",
            "Test Accuracy of   E23:  0% ( 0/17)\n",
            "Test Accuracy of   E34:  0% ( 0/15)\n",
            "Test Accuracy of   F31:  0% ( 0/20)\n",
            "Test Accuracy of   F35:  0% ( 0/14)\n",
            "Test Accuracy of    G1:  0% ( 0/ 6)\n",
            "Test Accuracy of   G17:  0% ( 0/15)\n",
            "Test Accuracy of   G43:  0% ( 0/16)\n",
            "Test Accuracy of   I10:  0% ( 0/10)\n",
            "Test Accuracy of    I9:  0% ( 0/20)\n",
            "Test Accuracy of   M17:  0% ( 0/10)\n",
            "Test Accuracy of   M23:  0% ( 0/21)\n",
            "Test Accuracy of   N35:  0% ( 0/14)\n",
            "Test Accuracy of    O1:  0% ( 0/12)\n",
            "Test Accuracy of   O34:  0% ( 0/24)\n",
            "Test Accuracy of    O4:  0% ( 0/16)\n",
            "Test Accuracy of   O49:  0% ( 0/20)\n",
            "Test Accuracy of    Q1:  0% ( 0/18)\n",
            "Test Accuracy of    Q3:  0% ( 0/17)\n",
            "Test Accuracy of    R4:  0% ( 0/23)\n",
            "Test Accuracy of    R8:  0% ( 0/13)\n",
            "Test Accuracy of   S29:  0% ( 0/11)\n",
            "Test Accuracy of   S34:  0% ( 0/23)\n",
            "Test Accuracy of    U7:  0% ( 0/17)\n",
            "Test Accuracy of   V13:  0% ( 0/ 7)\n",
            "Test Accuracy of   V28:  0% ( 0/16)\n",
            "Test Accuracy of   V30:  0% ( 0/18)\n",
            "Test Accuracy of   V31:  0% ( 0/18)\n",
            "Test Accuracy of   W11:  0% ( 0/ 8)\n",
            "Test Accuracy of   W24:  0% ( 0/24)\n",
            "Test Accuracy of    X1:  0% ( 0/ 7)\n",
            "Test Accuracy of    X8:  0% ( 0/24)\n",
            "Test Accuracy of    Y1: 100% (16/16)\n",
            "Test Accuracy of    Y5:  5% ( 1/17)\n",
            "Test Accuracy of    Z1:  0% ( 0/10)\n",
            "\n",
            "Accuracy: 2.686%\n",
            "\n",
            "Precision: 0.107%\n",
            "\n",
            "Recall: 2.686%\n",
            "\n",
            "F1-score: 0.198%\n"
          ]
        },
        {
          "output_type": "stream",
          "name": "stderr",
          "text": [
            "/usr/local/lib/python3.7/dist-packages/sklearn/metrics/_classification.py:1308: UndefinedMetricWarning: Precision is ill-defined and being set to 0.0 in labels with no predicted samples. Use `zero_division` parameter to control this behavior.\n",
            "  _warn_prf(average, modifier, msg_start, len(result))\n"
          ]
        }
      ]
    }
  ]
}