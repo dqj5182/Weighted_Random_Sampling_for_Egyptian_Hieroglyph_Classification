{
  "nbformat": 4,
  "nbformat_minor": 0,
  "metadata": {
    "accelerator": "GPU",
    "colab": {
      "name": "Egyptian_model_with_Glyphnet_40_class_clean_without_bn_and_avg_pooling_and_softmax_with_WeightRandomSampler.ipynb",
      "provenance": [],
      "collapsed_sections": []
    },
    "kernelspec": {
      "display_name": "Python 3",
      "name": "python3"
    },
    "language_info": {
      "name": "python"
    }
  },
  "cells": [
    {
      "cell_type": "code",
      "metadata": {
        "id": "8iEiGSblxJzW"
      },
      "source": [
        "import os, os.path\n",
        "import torch\n",
        "import numpy as np\n",
        "import torch.nn as nn\n",
        "import torch.nn.functional as F\n",
        "import torch.optim as optim\n",
        "from pathlib import Path\n",
        "from torchvision import datasets, models, transforms\n",
        "\n",
        "# check if CUDA is available\n",
        "train_on_gpu = torch.cuda.is_available()"
      ],
      "execution_count": 1,
      "outputs": []
    },
    {
      "cell_type": "markdown",
      "metadata": {
        "id": "Jd6KU8VMz6J3"
      },
      "source": [
        "Module: Load_data"
      ]
    },
    {
      "cell_type": "code",
      "metadata": {
        "id": "Ax7SyaiwER5o"
      },
      "source": [
        "def get_class_distribution(dataset_obj, idx2class):\n",
        "    count_dict = {k:0 for k,v in dataset_obj.class_to_idx.items()}\n",
        "    \n",
        "    for element in dataset_obj:\n",
        "        y_lbl = element[1]\n",
        "        y_lbl = idx2class[y_lbl]\n",
        "        count_dict[y_lbl] += 1\n",
        "            \n",
        "    return count_dict"
      ],
      "execution_count": 2,
      "outputs": []
    },
    {
      "cell_type": "code",
      "metadata": {
        "id": "8lWX0BW_w_kC"
      },
      "source": [
        "def load_data(hieroglyph_directory_path, batch_size=20, num_workers=0):\n",
        "    train_dir = os.path.join(hieroglyph_directory_path, 'train/')\n",
        "    test_dir = os.path.join(hieroglyph_directory_path, 'test/')\n",
        "\n",
        "    classes = []\n",
        "\n",
        "    for filename in os.listdir(train_dir):\n",
        "        if filename == '.DS_Store':\n",
        "            pass\n",
        "        else:\n",
        "            classes.append(filename)\n",
        "\n",
        "    classes.sort()\n",
        "\n",
        "    # print(\"Our classes:\", classes)\n",
        "    # print(len(classes))\n",
        "\n",
        "    data_transform = transforms.Compose([transforms.ToTensor(),\n",
        "                                                transforms.RandomApply([transforms.RandomHorizontalFlip()]),\n",
        "                                                transforms.RandomRotation(degrees=(-10, 10)),\n",
        "                                                transforms.RandomAffine(degrees=0, translate=(.1, .1)),\n",
        "                                                transforms.RandomApply([transforms.ColorJitter(brightness=(1, 1.2),\n",
        "                                                                                                contrast=(1, 1.5),\n",
        "                                                                                                saturation=(1, 1.5),\n",
        "                                                                                                hue=(0, 0.5))]),\n",
        "                                                transforms.RandomErasing(p=0.5, scale=(0.05, 0.05), ratio=(0.3, 3.3), value=0,\n",
        "                                                                          inplace=False),\n",
        "                                                transforms.Resize((100, 100)),\n",
        "                                                transforms.Normalize((0.5,), (0.5,))])\n",
        "\n",
        "    train_data = datasets.ImageFolder(train_dir, transform=data_transform)\n",
        "    test_data = datasets.ImageFolder(test_dir, transform=data_transform)\n",
        "\n",
        "    # print('Num training images: ', len(train_data))\n",
        "    # print('Num test images: ', len(test_data))\n",
        "\n",
        "    # WeightedRandomSampler for train loader\n",
        "    idx2class = {v: k for k, v in train_data.class_to_idx.items()}\n",
        "\n",
        "    target_list = torch.tensor(train_data.targets)\n",
        "    class_count = [i for i in get_class_distribution(train_data, idx2class).values()]\n",
        "    class_weights = 1./torch.tensor(class_count, dtype=torch.float) \n",
        "    class_weights_all = class_weights[target_list]\n",
        "    weighted_sampler = torch.utils.data.WeightedRandomSampler(weights=class_weights_all, num_samples=len(class_weights_all), replacement=True)\n",
        "\n",
        "    # prepare data loaders\n",
        "    train_loader = torch.utils.data.DataLoader(train_data, batch_size=batch_size,\n",
        "                                               num_workers=num_workers, sampler=weighted_sampler, drop_last=True)\n",
        "    \n",
        "    # WeightedRandomSampler for test loader\n",
        "    idx2class_test = {v: k for k, v in test_data.class_to_idx.items()}\n",
        "\n",
        "    target_list_test = torch.tensor(test_data.targets)\n",
        "    class_count_test = [i for i in get_class_distribution(test_data, idx2class_test).values()]\n",
        "    class_weights_test = 1./torch.tensor(class_count_test, dtype=torch.float) \n",
        "    class_weights_all_test = class_weights_test[target_list_test]\n",
        "    weighted_sampler_test = torch.utils.data.WeightedRandomSampler(weights=class_weights_all_test, num_samples=len(class_weights_all_test), replacement=True)\n",
        "\n",
        "    test_loader = torch.utils.data.DataLoader(test_data, batch_size=batch_size,\n",
        "                                              num_workers=num_workers, sampler=weighted_sampler_test)\n",
        "    return train_loader, test_loader, classes"
      ],
      "execution_count": 3,
      "outputs": []
    },
    {
      "cell_type": "markdown",
      "metadata": {
        "id": "K4sXUrPPz7iF"
      },
      "source": [
        "Module: Train_model"
      ]
    },
    {
      "cell_type": "code",
      "metadata": {
        "id": "N2N_rnKLxN5c"
      },
      "source": [
        "def train_model(train_loader, optimizer, conv_net, criterion, my_lr_scheduler, n_epochs):\n",
        "    # track training loss over time\n",
        "    losses = []\n",
        "    \n",
        "    for epoch in range(1, n_epochs + 1):\n",
        "\n",
        "        # keep track of training and validation loss\n",
        "        train_loss = 0.0\n",
        "\n",
        "        # model by default is set to train\n",
        "        for batch_i, (data, target) in enumerate(train_loader):\n",
        "            # move tensors to GPU if CUDA is available\n",
        "            if train_on_gpu:\n",
        "                data, target = data.cuda(), target.cuda()\n",
        "            # clear the gradients of all optimized variables\n",
        "            optimizer.zero_grad()\n",
        "            # forward pass: compute predicted outputs by passing inputs to the model\n",
        "            output = conv_net(data)\n",
        "\n",
        "            # calculate the batch loss\n",
        "            loss = criterion(output, target)\n",
        "            # backward pass: compute gradient of the loss with respect to model parameters\n",
        "            loss.backward()\n",
        "            # perform a single optimization step (parameter update)\n",
        "            optimizer.step()\n",
        "            # update training loss\n",
        "            train_loss += loss.item()\n",
        "\n",
        "            my_lr_scheduler.step()\n",
        "\n",
        "            if batch_i % 20 == 19:  # print training loss every specified number of mini-batches\n",
        "                print('Epoch %d, Batch %d loss: %.16f' %\n",
        "                    (epoch, batch_i + 1, train_loss / 20))\n",
        "                losses.append(train_loss / 20)\n",
        "                train_loss = 0.0\n",
        "        \n",
        "        \n",
        "\n",
        "    return conv_net, losses"
      ],
      "execution_count": 4,
      "outputs": []
    },
    {
      "cell_type": "markdown",
      "metadata": {
        "id": "-Rrxo5RDz96U"
      },
      "source": [
        "Module: Test_model"
      ]
    },
    {
      "cell_type": "code",
      "metadata": {
        "id": "Ay-HlMJnxU9v"
      },
      "source": [
        "def test_model(classes, conv_net, test_loader, criterion):\n",
        "    # track test loss\n",
        "    test_loss = 0.0\n",
        "    class_correct = list(0. for i in range(len(classes)))\n",
        "    class_total = list(0. for i in range(len(classes)))\n",
        "\n",
        "    conv_net.eval()  # eval mode\n",
        "\n",
        "    labels = []\n",
        "    predictions = []\n",
        "    # iterate over test data\n",
        "    for data, target in test_loader:\n",
        "        # move tensors to GPU if CUDA is available\n",
        "        if train_on_gpu:\n",
        "            data, target = data.cuda(), target.cuda()\n",
        "        # forward pass: compute predicted outputs by passing inputs to the model\n",
        "        output = conv_net(data)\n",
        "        # calculate the batch loss\n",
        "        loss = criterion(output, target)\n",
        "        # update  test loss\n",
        "        test_loss += loss.item() * data.size(0)\n",
        "        # convert output probabilities to predicted class\n",
        "        _, pred = torch.max(output, 1)\n",
        "\n",
        "        # compare predictions to true label\n",
        "        correct_tensor = pred.eq(target.data.view_as(pred))\n",
        "        correct = np.squeeze(correct_tensor.numpy()) if not train_on_gpu else np.squeeze(correct_tensor.cpu().numpy())\n",
        "        # calculate test accuracy for each object class\n",
        "        for i in range(len(target.data)):\n",
        "            label = target.data[i]\n",
        "            class_correct[label] += correct[i].item()\n",
        "            class_total[label] += 1\n",
        "        \n",
        "        # Will be used for calculating Recall, Precision, and F1-score\n",
        "        labels.extend(target.data.view_as(pred).tolist())\n",
        "        predictions.extend(pred.tolist())\n",
        "\n",
        "\n",
        "    # calculate avg test loss\n",
        "    test_loss = test_loss / len(test_loader.dataset)\n",
        "    print('Test Loss: {:.6f}\\n'.format(test_loss))\n",
        "\n",
        "    return test_loss, class_correct, class_total, labels, predictions"
      ],
      "execution_count": 5,
      "outputs": []
    },
    {
      "cell_type": "markdown",
      "metadata": {
        "id": "xHh3PXE80Asa"
      },
      "source": [
        "Check whether CUDA is available (Change runtime type if not)"
      ]
    },
    {
      "cell_type": "code",
      "metadata": {
        "colab": {
          "base_uri": "https://localhost:8080/"
        },
        "id": "Q9TYPQH7x4zw",
        "outputId": "7fee65d6-3ead-4bd9-93c5-1d34b4cae50b"
      },
      "source": [
        "if not train_on_gpu:\n",
        "    print('CUDA is not available.  Training on CPU ...')\n",
        "else:\n",
        "    print('CUDA is available!  Training on GPU ...')"
      ],
      "execution_count": 6,
      "outputs": [
        {
          "output_type": "stream",
          "name": "stdout",
          "text": [
            "CUDA is available!  Training on GPU ...\n"
          ]
        }
      ]
    },
    {
      "cell_type": "markdown",
      "metadata": {
        "id": "6lYw8EKVx8Q7"
      },
      "source": [
        "Load Hieroglyph Data"
      ]
    },
    {
      "cell_type": "code",
      "metadata": {
        "colab": {
          "base_uri": "https://localhost:8080/"
        },
        "id": "laLvoRy1yewl",
        "outputId": "893a4c7a-1574-4db6-cd4d-f2b93f5024ca"
      },
      "source": [
        "# Connecting and Mounting to the Google Drive\n",
        "from google.colab import drive\n",
        "drive.mount('/content/drive')"
      ],
      "execution_count": 7,
      "outputs": [
        {
          "output_type": "stream",
          "name": "stdout",
          "text": [
            "Mounted at /content/drive\n"
          ]
        }
      ]
    },
    {
      "cell_type": "code",
      "metadata": {
        "id": "odaoZt9GyfUt"
      },
      "source": [
        "data_dir = '/content/drive/MyDrive/EgyptianHieroglyphDataset_Original_Clean/'"
      ],
      "execution_count": 8,
      "outputs": []
    },
    {
      "cell_type": "code",
      "metadata": {
        "colab": {
          "base_uri": "https://localhost:8080/"
        },
        "id": "dF22MAnmyiC1",
        "outputId": "4d351aca-b72a-4fc9-baf3-93378e6b74d7"
      },
      "source": [
        "hieroglyph_for_train = []\n",
        "file_count_list = []\n",
        "\n",
        "for name in os.listdir('/content/drive/MyDrive/EgyptianHieroglyphDataset_Original_Clean/train/'):\n",
        "  path, dirs, files = next(os.walk(\"/content/drive/MyDrive/EgyptianHieroglyphDataset_Original_Clean/train/\"+name))\n",
        "  file_count = len(files)\n",
        "  print(name, file_count)\n",
        "  file_count_list.append(file_count)\n",
        "  hieroglyph_for_train.append(name)\n",
        "\n",
        "hieroglyph_dict = dict(zip(hieroglyph_for_train, file_count_list))"
      ],
      "execution_count": 9,
      "outputs": [
        {
          "output_type": "stream",
          "name": "stdout",
          "text": [
            "Y5 6\n",
            "I9 116\n",
            "O34 15\n",
            "V13 63\n",
            "U7 3\n",
            "D46 40\n",
            "E34 97\n",
            "G1 28\n",
            "V31 106\n",
            "S34 8\n",
            "D36 47\n",
            "Q1 13\n",
            "V30 6\n",
            "F35 2\n",
            "O4 11\n",
            "M23 30\n",
            "S29 212\n",
            "R8 53\n",
            "W11 4\n",
            "X1 185\n",
            "Y1 1\n",
            "D21 146\n",
            "D2 19\n",
            "E23 8\n",
            "X8 4\n",
            "Z1 39\n",
            "D4 29\n",
            "V28 28\n",
            "I10 32\n",
            "O1 16\n",
            "M17 291\n",
            "F31 6\n",
            "G43 157\n",
            "D58 28\n",
            "O49 10\n",
            "G17 156\n",
            "R4 2\n",
            "Q3 61\n",
            "W24 31\n",
            "N35 358\n"
          ]
        }
      ]
    },
    {
      "cell_type": "markdown",
      "metadata": {
        "id": "XeQQ7PjZzKd9"
      },
      "source": [
        "Number of images for each hieroglyph "
      ]
    },
    {
      "cell_type": "code",
      "metadata": {
        "colab": {
          "base_uri": "https://localhost:8080/",
          "height": 609
        },
        "id": "W6IzWR2RyjxM",
        "outputId": "bff3a99d-c5d2-4de2-cd9f-60d34e35bf7f"
      },
      "source": [
        "import matplotlib.pyplot as plt\n",
        "import pandas as pd\n",
        "\n",
        "df = pd.DataFrame({\"Hieroglyph\":hieroglyph_for_train, \"Count\":file_count_list})\n",
        "\n",
        "df_sorted= df.sort_values('Count',ascending=False)\n",
        "\n",
        "plt.figure(figsize=(20,10))\n",
        "# make bar plot with matplotlib\n",
        "plt.bar('Hieroglyph', 'Count',data=df_sorted)"
      ],
      "execution_count": 10,
      "outputs": [
        {
          "output_type": "execute_result",
          "data": {
            "text/plain": [
              "<BarContainer object of 40 artists>"
            ]
          },
          "metadata": {},
          "execution_count": 10
        },
        {
          "output_type": "display_data",
          "data": {
            "image/png": "[encoded data removed]",
            "text/plain": [
              "<Figure size 1440x720 with 1 Axes>"
            ]
          },
          "metadata": {
            "needs_background": "light"
          }
        }
      ]
    },
    {
      "cell_type": "code",
      "metadata": {
        "id": "-3oOm8rSx7tp"
      },
      "source": [
        "# Number of images processed in a single training\n",
        "batch_size = 20\n",
        "num_workers = 0\n",
        "\n",
        "# The load_data function is from hieroglyph_data_preparation python file\n",
        "train_loader, test_loader, classes = load_data(data_dir)"
      ],
      "execution_count": 11,
      "outputs": []
    },
    {
      "cell_type": "markdown",
      "metadata": {
        "id": "BJm8sGiBx_q5"
      },
      "source": [
        "ResNet Model"
      ]
    },
    {
      "cell_type": "code",
      "metadata": {
        "id": "ii1UaV8yPvW_"
      },
      "source": [
        "class SeparableConv2d(nn.Module):\n",
        "    def __init__(self,in_channels,out_channels,kernel_size=3,stride=1,padding=0,dilation=1,bias=False):\n",
        "        super(SeparableConv2d,self).__init__()\n",
        "\n",
        "        self.conv1 = nn.Conv2d(in_channels,in_channels,kernel_size,stride,padding,dilation,groups=in_channels,bias=bias)\n",
        "        self.pointwise = nn.Conv2d(in_channels,out_channels,1,1,0,1,1,bias=bias)\n",
        "    \n",
        "    def forward(self,x):\n",
        "        x = self.conv1(x)\n",
        "        x = self.pointwise(x)\n",
        "        return x"
      ],
      "execution_count": 12,
      "outputs": []
    },
    {
      "cell_type": "code",
      "metadata": {
        "id": "-hnE4jAAPbnX"
      },
      "source": [
        "from torch.nn import Linear, ReLU, CrossEntropyLoss, Sequential, Conv2d, MaxPool2d, Module, Softmax, BatchNorm2d, Dropout"
      ],
      "execution_count": 13,
      "outputs": []
    },
    {
      "cell_type": "code",
      "metadata": {
        "colab": {
          "base_uri": "https://localhost:8080/",
          "height": 140
        },
        "id": "oXpu43oPMyor",
        "outputId": "9f425dfc-35ac-4223-ab9b-73fb069dfcc6"
      },
      "source": [
        "'''\n",
        "class Glyphnet(torch.nn.Module):   \n",
        "    def __init__(self):\n",
        "        super(Glyphnet, self).__init__()\n",
        "\n",
        "        self.conv1 = torch.nn.Conv2d(3, 64, kernel_size = 3, stride = 1, padding = 0)\n",
        "        self.maxpool1 = MaxPool2d(kernel_size=2, stride=2)\n",
        "        self.conv2 = torch.nn.Conv2d(64, 64, kernel_size = 3, stride = 1, padding = 0)\n",
        "        self.maxpool2 = MaxPool2d(kernel_size=3, stride=2)\n",
        "\n",
        "        self.fc1 = Linear(23 * 23 * 64, 40)\n",
        "\n",
        "        #self.conv1 = torch.nn.Conv2d(3, 64, kernel_size = 3, stride = 1, padding = 0)\n",
        "        #self.conv2 = torch.nn.Conv2d(64, 64, kernel_size = 3, stride = 1, padding = 0)\n",
        "        #self.maxpool = torch.nn.MaxPool2d(kernel_size = 3, stride = 1, padding = 0)\n",
        "        #self.avgpool = torch.nn.AvgPool2d(kernel_size=66)\n",
        "\n",
        "        #self.bn1 = torch.nn.BatchNorm2d(64)\n",
        "        #self.bn2 = torch.nn.BatchNorm2d(128)\n",
        "        #self.bn3 = torch.nn.BatchNorm2d(256)\n",
        "        #self.bn4 = torch.nn.BatchNorm2d(512)\n",
        "\n",
        "        #self.separableconv1 = SeparableConv2d(64,128)\n",
        "        #self.separableconv2 = SeparableConv2d(128,128)\n",
        "        #self.separableconv3 = SeparableConv2d(128,256)\n",
        "        #self.separableconv4 = SeparableConv2d(256,256)\n",
        "        #self.separableconv5 = SeparableConv2d(256,512)\n",
        "\n",
        "        #self.drop_layer = nn.Dropout(p=0.15)\n",
        "        #self.fc1 = torch.nn.Linear(512, 40) # Should change 64 part\n",
        "        self.softmax = nn.Softmax(dim=1)\n",
        "\n",
        "    # Defining the forward pass    \n",
        "    def forward(self, x):\n",
        "        x = self.conv1(x)\n",
        "        x = self.maxpool1(x)\n",
        "        x = self.conv2(x)\n",
        "        x = self.maxpool2(x)\n",
        "\n",
        "        x = x.view(x.size(0), -1)\n",
        "        x = self.fc1(x)\n",
        "        # x = self.softmax(x) # Not a good idea (the model is trained really slow)\n",
        "\n",
        "        return x\n",
        "'''"
      ],
      "execution_count": 14,
      "outputs": [
        {
          "output_type": "execute_result",
          "data": {
            "application/vnd.google.colaboratory.intrinsic+json": {
              "type": "string"
            },
            "text/plain": [
              "'\\nclass Glyphnet(torch.nn.Module):   \\n    def __init__(self):\\n        super(Glyphnet, self).__init__()\\n\\n        self.conv1 = torch.nn.Conv2d(3, 64, kernel_size = 3, stride = 1, padding = 0)\\n        self.maxpool1 = MaxPool2d(kernel_size=2, stride=2)\\n        self.conv2 = torch.nn.Conv2d(64, 64, kernel_size = 3, stride = 1, padding = 0)\\n        self.maxpool2 = MaxPool2d(kernel_size=3, stride=2)\\n\\n        self.fc1 = Linear(23 * 23 * 64, 40)\\n\\n        #self.conv1 = torch.nn.Conv2d(3, 64, kernel_size = 3, stride = 1, padding = 0)\\n        #self.conv2 = torch.nn.Conv2d(64, 64, kernel_size = 3, stride = 1, padding = 0)\\n        #self.maxpool = torch.nn.MaxPool2d(kernel_size = 3, stride = 1, padding = 0)\\n        #self.avgpool = torch.nn.AvgPool2d(kernel_size=66)\\n\\n        #self.bn1 = torch.nn.BatchNorm2d(64)\\n        #self.bn2 = torch.nn.BatchNorm2d(128)\\n        #self.bn3 = torch.nn.BatchNorm2d(256)\\n        #self.bn4 = torch.nn.BatchNorm2d(512)\\n\\n        #self.separableconv1 = SeparableConv2d(64,128)\\n        #self.separableconv2 = SeparableConv2d(128,128)\\n        #self.separableconv3 = SeparableConv2d(128,256)\\n        #self.separableconv4 = SeparableConv2d(256,256)\\n        #self.separableconv5 = SeparableConv2d(256,512)\\n\\n        #self.drop_layer = nn.Dropout(p=0.15)\\n        #self.fc1 = torch.nn.Linear(512, 40) # Should change 64 part\\n        self.softmax = nn.Softmax(dim=1)\\n\\n    # Defining the forward pass    \\n    def forward(self, x):\\n        x = self.conv1(x)\\n        x = self.maxpool1(x)\\n        x = self.conv2(x)\\n        x = self.maxpool2(x)\\n\\n        x = x.view(x.size(0), -1)\\n        x = self.fc1(x)\\n        # x = self.softmax(x) # Not a good idea (the model is trained really slow)\\n\\n        return x\\n'"
            ]
          },
          "metadata": {},
          "execution_count": 14
        }
      ]
    },
    {
      "cell_type": "code",
      "metadata": {
        "id": "Mik3vFrCSeTd"
      },
      "source": [
        "class Glyphnet(torch.nn.Module):\n",
        "   def __init__(self):\n",
        "      super(Glyphnet, self).__init__()\n",
        "      \n",
        "      self.conv1 = torch.nn.Conv2d(3, 64, kernel_size = 3, stride = 1, padding = 0)\n",
        "      self.conv2 = torch.nn.Conv2d(64, 64, kernel_size = 3, stride = 1, padding = 0)\n",
        "      self.maxpool = torch.nn.MaxPool2d(kernel_size = 3, stride = 1, padding = 0)\n",
        "      self.avgpool = torch.nn.AvgPool2d(kernel_size=66)\n",
        "\n",
        "      self.bn1 = torch.nn.BatchNorm2d(64)\n",
        "      self.bn2 = torch.nn.BatchNorm2d(128)\n",
        "      self.bn3 = torch.nn.BatchNorm2d(256)\n",
        "      self.bn4 = torch.nn.BatchNorm2d(512)\n",
        "\n",
        "      self.separableconv1 = SeparableConv2d(64,128)\n",
        "      self.separableconv2 = SeparableConv2d(128,128)\n",
        "      self.separableconv3 = SeparableConv2d(128,256)\n",
        "      self.separableconv4 = SeparableConv2d(256,256)\n",
        "      self.separableconv5 = SeparableConv2d(256,512)\n",
        "\n",
        "      self.drop_layer = nn.Dropout(p=0.15)\n",
        "      self.fc1 = torch.nn.Linear(66*66*512, 40) # Should change\n",
        "      self.softmax = nn.Softmax(dim=1)\n",
        "\n",
        "   def forward(self, x): # Input: 100 x 100 x 3\n",
        "      # First block\n",
        "      x = self.conv1(x) # Output: 98 x 98 x 64\n",
        "      x = F.relu(self.maxpool(x)) # Output: 96 x 96 x 64\n",
        "      x = self.conv2(x) # Output: 94 x 94 x 64\n",
        "      x = F.relu(self.maxpool(x)) # Output: 92 x 92 x 64\n",
        "      \n",
        "      # Second block\n",
        "      x = F.relu(self.separableconv1(x)) # Output: 90 x 90 x 128\n",
        "      x = self.separableconv2(x) # Output: 88 x 88 x 128\n",
        "      x = F.relu(self.maxpool(x)) # Output: 86 x 86 x 128\n",
        "      \n",
        "      # Third block\n",
        "      x = F.relu(self.separableconv2(x)) # Output: 84 x 84 x 128\n",
        "      x = self.separableconv2(x) # Output: 82 x 82 x 128\n",
        "      x = F.relu(self.maxpool(x)) # Output: 80 x 80 x 128\n",
        "      \n",
        "      # Fourth block\n",
        "      x = F.relu(self.separableconv3(x)) # Output: 78 x 78 x 256\n",
        "      x = self.separableconv4(x) # Output: 76 x 76 x 256\n",
        "      x = F.relu(self.maxpool(x)) # Output: 74 x 74 x 256\n",
        "      \n",
        "      # Fifth block\n",
        "      x = F.relu(self.separableconv4(x)) # Output: 72 x 72 x 256\n",
        "      x = self.separableconv4(x) # Output: 70 x 70 x 256\n",
        "      x = F.relu(self.maxpool(x)) # Output: 68 x 68 x 256\n",
        "      \n",
        "      # Sixth block\n",
        "      x = F.relu(self.separableconv5(x)) # Output: 66 x 66 x 512\n",
        "      '''\n",
        "      x = self.avgpool(x) # Global Average Pooling; Output: 512\n",
        "      '''\n",
        "      x = self.drop_layer(x) # Dropout Layer; Output: 512\n",
        "      \n",
        "      # Fully Connected Layer; Output: 512\n",
        "      x = x.view(x.size(0), -1)\n",
        "      x = self.fc1(x)\n",
        "\n",
        "      #x = self.softmax(x) # Softmax; Output: 512\n",
        "      \n",
        "      return(x)"
      ],
      "execution_count": 15,
      "outputs": []
    },
    {
      "cell_type": "code",
      "metadata": {
        "id": "JkLXVJGkxemC"
      },
      "source": [
        "# Whether to extract features with the model\n",
        "feature_extract = False\n",
        "# Other selections\n",
        "loss_function = \"cross-entropy\"\n",
        "model_selection = \"glyphnet\"\n",
        "optim_selection = \"Adam\"\n",
        "\n",
        "# Load the model\n",
        "if model_selection == \"glyphnet\":\n",
        "    glyphnet = Glyphnet()\n",
        "\n",
        "# if GPU is available, move the model to GPU\n",
        "if train_on_gpu:\n",
        "    glyphnet.cuda()\n",
        "\n",
        "# Specify loss function (categorical cross-entropy)\n",
        "if loss_function == \"cross-entropy\":\n",
        "    criterion = nn.CrossEntropyLoss()\n",
        "\n",
        "# Specify optimizer (Adam) and learning rate = 0.001\n",
        "if optim_selection == \"Adam\":\n",
        "    optimizer = optim.Adam(glyphnet.parameters(), lr=0.001)\n",
        "\n",
        "# Exponential Decay to strengthen learning\n",
        "decayRate = 0.999\n",
        "my_lr_scheduler = torch.optim.lr_scheduler.ExponentialLR(optimizer=optimizer, gamma=decayRate)"
      ],
      "execution_count": 16,
      "outputs": []
    },
    {
      "cell_type": "markdown",
      "metadata": {
        "id": "U2vnErB1yHmM"
      },
      "source": [
        "Training the model"
      ]
    },
    {
      "cell_type": "code",
      "metadata": {
        "id": "dOB03noWyEvQ",
        "colab": {
          "base_uri": "https://localhost:8080/"
        },
        "outputId": "287c9061-b5f5-488b-f47e-67029e8b071e"
      },
      "source": [
        "# number of epochs to train the model\n",
        "n_epochs = 50\n",
        "\n",
        "# The train_model function is from model_training python file\n",
        "glyphnet, train_losses = train_model(train_loader, optimizer, glyphnet, criterion, my_lr_scheduler, n_epochs)"
      ],
      "execution_count": 17,
      "outputs": [
        {
          "output_type": "stream",
          "name": "stdout",
          "text": [
            "Epoch 1, Batch 20 loss: 3.6907404303550719\n",
            "Epoch 1, Batch 40 loss: 3.6888384103775023\n",
            "Epoch 1, Batch 60 loss: 3.6893877267837523\n",
            "Epoch 1, Batch 80 loss: 3.6465485095977783\n",
            "Epoch 1, Batch 100 loss: 3.3982840061187742\n",
            "Epoch 1, Batch 120 loss: 2.8730958700180054\n",
            "Epoch 2, Batch 20 loss: 2.6054693341255186\n",
            "Epoch 2, Batch 40 loss: 2.3326382696628571\n",
            "Epoch 2, Batch 60 loss: 2.2291457891464233\n",
            "Epoch 2, Batch 80 loss: 2.1194868981838226\n",
            "Epoch 2, Batch 100 loss: 2.0279319107532503\n",
            "Epoch 2, Batch 120 loss: 1.9602937638759612\n",
            "Epoch 3, Batch 20 loss: 1.8152748584747314\n",
            "Epoch 3, Batch 40 loss: 1.6941969633102416\n",
            "Epoch 3, Batch 60 loss: 1.6416109874844551\n",
            "Epoch 3, Batch 80 loss: 1.5369522511959075\n",
            "Epoch 3, Batch 100 loss: 1.5928093910217285\n",
            "Epoch 3, Batch 120 loss: 1.3915257751941681\n",
            "Epoch 4, Batch 20 loss: 1.3236552149057388\n",
            "Epoch 4, Batch 40 loss: 1.4003478407859802\n",
            "Epoch 4, Batch 60 loss: 1.3085645556449890\n",
            "Epoch 4, Batch 80 loss: 1.4997094929218293\n",
            "Epoch 4, Batch 100 loss: 1.2610675185918807\n",
            "Epoch 4, Batch 120 loss: 1.2374621003866195\n",
            "Epoch 5, Batch 20 loss: 1.3346212506294250\n",
            "Epoch 5, Batch 40 loss: 1.0826581299304963\n",
            "Epoch 5, Batch 60 loss: 1.3143503785133361\n",
            "Epoch 5, Batch 80 loss: 1.1535178482532502\n",
            "Epoch 5, Batch 100 loss: 1.1878869116306305\n",
            "Epoch 5, Batch 120 loss: 1.1493039727210999\n",
            "Epoch 6, Batch 20 loss: 0.9558267742395401\n",
            "Epoch 6, Batch 40 loss: 0.9153402864933013\n",
            "Epoch 6, Batch 60 loss: 0.9800309121608735\n",
            "Epoch 6, Batch 80 loss: 0.9400254130363465\n",
            "Epoch 6, Batch 100 loss: 0.9174897789955139\n",
            "Epoch 6, Batch 120 loss: 0.7929770156741143\n",
            "Epoch 7, Batch 20 loss: 0.8831501394510269\n",
            "Epoch 7, Batch 40 loss: 0.7688278362154961\n",
            "Epoch 7, Batch 60 loss: 0.7572552815079689\n",
            "Epoch 7, Batch 80 loss: 0.8007121294736862\n",
            "Epoch 7, Batch 100 loss: 0.8247243300080299\n",
            "Epoch 7, Batch 120 loss: 0.8468231469392776\n",
            "Epoch 8, Batch 20 loss: 0.7837147191166878\n",
            "Epoch 8, Batch 40 loss: 0.7568497717380523\n",
            "Epoch 8, Batch 60 loss: 0.6927629947662354\n",
            "Epoch 8, Batch 80 loss: 0.6654354825615882\n",
            "Epoch 8, Batch 100 loss: 0.5460127711296081\n",
            "Epoch 8, Batch 120 loss: 0.7014191180467606\n",
            "Epoch 9, Batch 20 loss: 0.6156564697623252\n",
            "Epoch 9, Batch 40 loss: 0.7019217349588871\n",
            "Epoch 9, Batch 60 loss: 0.5464088238775731\n",
            "Epoch 9, Batch 80 loss: 0.7148382306098938\n",
            "Epoch 9, Batch 100 loss: 0.5945600211620331\n",
            "Epoch 9, Batch 120 loss: 0.6772982642054558\n",
            "Epoch 10, Batch 20 loss: 0.6473198860883713\n",
            "Epoch 10, Batch 40 loss: 0.4787732310593128\n",
            "Epoch 10, Batch 60 loss: 0.5764142870903015\n",
            "Epoch 10, Batch 80 loss: 0.5828030072152615\n",
            "Epoch 10, Batch 100 loss: 0.5810513511300087\n",
            "Epoch 10, Batch 120 loss: 0.5143796496093274\n",
            "Epoch 11, Batch 20 loss: 0.5209464907646180\n",
            "Epoch 11, Batch 40 loss: 0.5074111886322499\n",
            "Epoch 11, Batch 60 loss: 0.4911940321326256\n",
            "Epoch 11, Batch 80 loss: 0.4468053169548512\n",
            "Epoch 11, Batch 100 loss: 0.4657975874841213\n",
            "Epoch 11, Batch 120 loss: 0.5062993682920933\n",
            "Epoch 12, Batch 20 loss: 0.4106422789394856\n",
            "Epoch 12, Batch 40 loss: 0.3668268091976642\n",
            "Epoch 12, Batch 60 loss: 0.4491665512323380\n",
            "Epoch 12, Batch 80 loss: 0.4518588587641716\n",
            "Epoch 12, Batch 100 loss: 0.3914153821766376\n",
            "Epoch 12, Batch 120 loss: 0.4186465322971344\n",
            "Epoch 13, Batch 20 loss: 0.4641676865518093\n",
            "Epoch 13, Batch 40 loss: 0.5156115673482418\n",
            "Epoch 13, Batch 60 loss: 0.4706933915615082\n",
            "Epoch 13, Batch 80 loss: 0.3892232414335012\n",
            "Epoch 13, Batch 100 loss: 0.4531906150281430\n",
            "Epoch 13, Batch 120 loss: 0.3816003125160933\n",
            "Epoch 14, Batch 20 loss: 0.4757814623415470\n",
            "Epoch 14, Batch 40 loss: 0.4337670393288136\n",
            "Epoch 14, Batch 60 loss: 0.3582441948354244\n",
            "Epoch 14, Batch 80 loss: 0.4119178172200918\n",
            "Epoch 14, Batch 100 loss: 0.3380961291491985\n",
            "Epoch 14, Batch 120 loss: 0.3813662130385637\n",
            "Epoch 15, Batch 20 loss: 0.3163998233154416\n",
            "Epoch 15, Batch 40 loss: 0.3167995270341635\n",
            "Epoch 15, Batch 60 loss: 0.2999601535499096\n",
            "Epoch 15, Batch 80 loss: 0.4123743176460266\n",
            "Epoch 15, Batch 100 loss: 0.4043594192713499\n",
            "Epoch 15, Batch 120 loss: 0.3406302213668823\n",
            "Epoch 16, Batch 20 loss: 0.4074724357575178\n",
            "Epoch 16, Batch 40 loss: 0.2500796983018517\n",
            "Epoch 16, Batch 60 loss: 0.4602903939783573\n",
            "Epoch 16, Batch 80 loss: 0.3927453991025686\n",
            "Epoch 16, Batch 100 loss: 0.3732169650495052\n",
            "Epoch 16, Batch 120 loss: 0.4046415444463491\n",
            "Epoch 17, Batch 20 loss: 0.3391624443233013\n",
            "Epoch 17, Batch 40 loss: 0.3308953430503607\n",
            "Epoch 17, Batch 60 loss: 0.3074197590351105\n",
            "Epoch 17, Batch 80 loss: 0.3959804780781269\n",
            "Epoch 17, Batch 100 loss: 0.3770703896880150\n",
            "Epoch 17, Batch 120 loss: 0.3204518973827362\n",
            "Epoch 18, Batch 20 loss: 0.3268674220889807\n",
            "Epoch 18, Batch 40 loss: 0.2741362610831857\n",
            "Epoch 18, Batch 60 loss: 0.2776296282187104\n",
            "Epoch 18, Batch 80 loss: 0.3583455169573426\n",
            "Epoch 18, Batch 100 loss: 0.3507654804736376\n",
            "Epoch 18, Batch 120 loss: 0.3278883486986161\n",
            "Epoch 19, Batch 20 loss: 0.2557144891470671\n",
            "Epoch 19, Batch 40 loss: 0.2893200220540166\n",
            "Epoch 19, Batch 60 loss: 0.2615866888314485\n",
            "Epoch 19, Batch 80 loss: 0.2462051890790463\n",
            "Epoch 19, Batch 100 loss: 0.2457890979945660\n",
            "Epoch 19, Batch 120 loss: 0.3027685636654496\n",
            "Epoch 20, Batch 20 loss: 0.2702406277880073\n",
            "Epoch 20, Batch 40 loss: 0.2603887090459466\n",
            "Epoch 20, Batch 60 loss: 0.3110682530328631\n",
            "Epoch 20, Batch 80 loss: 0.3348549649119377\n",
            "Epoch 20, Batch 100 loss: 0.3322956740856171\n",
            "Epoch 20, Batch 120 loss: 0.2910695381462574\n",
            "Epoch 21, Batch 20 loss: 0.2714930070564151\n",
            "Epoch 21, Batch 40 loss: 0.2583527173846960\n",
            "Epoch 21, Batch 60 loss: 0.2513579206541180\n",
            "Epoch 21, Batch 80 loss: 0.2481142079457641\n",
            "Epoch 21, Batch 100 loss: 0.3557671055197716\n",
            "Epoch 21, Batch 120 loss: 0.3441409651190043\n",
            "Epoch 22, Batch 20 loss: 0.2976101062260568\n",
            "Epoch 22, Batch 40 loss: 0.2387944981455803\n",
            "Epoch 22, Batch 60 loss: 0.2809171661734581\n",
            "Epoch 22, Batch 80 loss: 0.3491203818470240\n",
            "Epoch 22, Batch 100 loss: 0.2790239661931991\n",
            "Epoch 22, Batch 120 loss: 0.2944383356720209\n",
            "Epoch 23, Batch 20 loss: 0.2662225745618343\n",
            "Epoch 23, Batch 40 loss: 0.3214583560824394\n",
            "Epoch 23, Batch 60 loss: 0.3135420352220535\n",
            "Epoch 23, Batch 80 loss: 0.3425281837582588\n",
            "Epoch 23, Batch 100 loss: 0.2721353180706501\n",
            "Epoch 23, Batch 120 loss: 0.2701787484809756\n",
            "Epoch 24, Batch 20 loss: 0.2925181629136205\n",
            "Epoch 24, Batch 40 loss: 0.2564082071185112\n",
            "Epoch 24, Batch 60 loss: 0.2540043782442808\n",
            "Epoch 24, Batch 80 loss: 0.2850409843027591\n",
            "Epoch 24, Batch 100 loss: 0.2837794675491750\n",
            "Epoch 24, Batch 120 loss: 0.2189595841802657\n",
            "Epoch 25, Batch 20 loss: 0.3132505387067795\n",
            "Epoch 25, Batch 40 loss: 0.3318462776020169\n",
            "Epoch 25, Batch 60 loss: 0.2272058416157961\n",
            "Epoch 25, Batch 80 loss: 0.2850129783153534\n",
            "Epoch 25, Batch 100 loss: 0.2190983928740025\n",
            "Epoch 25, Batch 120 loss: 0.2849390871822834\n",
            "Epoch 26, Batch 20 loss: 0.2270051069557667\n",
            "Epoch 26, Batch 40 loss: 0.2826009865850210\n",
            "Epoch 26, Batch 60 loss: 0.2287113487720490\n",
            "Epoch 26, Batch 80 loss: 0.2364525834098458\n",
            "Epoch 26, Batch 100 loss: 0.2598480150103569\n",
            "Epoch 26, Batch 120 loss: 0.2809429336339235\n",
            "Epoch 27, Batch 20 loss: 0.3860377848148346\n",
            "Epoch 27, Batch 40 loss: 0.2469325996935368\n",
            "Epoch 27, Batch 60 loss: 0.2966539274901152\n",
            "Epoch 27, Batch 80 loss: 0.2436927314847708\n",
            "Epoch 27, Batch 100 loss: 0.2817421397194266\n",
            "Epoch 27, Batch 120 loss: 0.2490557035431266\n",
            "Epoch 28, Batch 20 loss: 0.2584803206846118\n",
            "Epoch 28, Batch 40 loss: 0.2061288878321648\n",
            "Epoch 28, Batch 60 loss: 0.2537529685534537\n",
            "Epoch 28, Batch 80 loss: 0.3440412275493145\n",
            "Epoch 28, Batch 100 loss: 0.2626140497624874\n",
            "Epoch 28, Batch 120 loss: 0.2953881751745939\n",
            "Epoch 29, Batch 20 loss: 0.2785909242928028\n",
            "Epoch 29, Batch 40 loss: 0.2521564628928900\n",
            "Epoch 29, Batch 60 loss: 0.2797111405991018\n",
            "Epoch 29, Batch 80 loss: 0.2278974363580346\n",
            "Epoch 29, Batch 100 loss: 0.2491478093899787\n",
            "Epoch 29, Batch 120 loss: 0.2621869603171945\n",
            "Epoch 30, Batch 20 loss: 0.2816425837576390\n",
            "Epoch 30, Batch 40 loss: 0.2571995517238975\n",
            "Epoch 30, Batch 60 loss: 0.1868925958871842\n",
            "Epoch 30, Batch 80 loss: 0.2279373876750469\n",
            "Epoch 30, Batch 100 loss: 0.2327571645379067\n",
            "Epoch 30, Batch 120 loss: 0.2208312014117837\n",
            "Epoch 31, Batch 20 loss: 0.1883848376572132\n",
            "Epoch 31, Batch 40 loss: 0.2071964134462178\n",
            "Epoch 31, Batch 60 loss: 0.2232720799744129\n",
            "Epoch 31, Batch 80 loss: 0.1728155252523720\n",
            "Epoch 31, Batch 100 loss: 0.2083427313715220\n",
            "Epoch 31, Batch 120 loss: 0.2162080775946379\n",
            "Epoch 32, Batch 20 loss: 0.2213620833121240\n",
            "Epoch 32, Batch 40 loss: 0.3017651166766882\n",
            "Epoch 32, Batch 60 loss: 0.1823755091987550\n",
            "Epoch 32, Batch 80 loss: 0.2953375414013862\n",
            "Epoch 32, Batch 100 loss: 0.3742450099438429\n",
            "Epoch 32, Batch 120 loss: 0.2531840416137129\n",
            "Epoch 33, Batch 20 loss: 0.2257405281066895\n",
            "Epoch 33, Batch 40 loss: 0.1825342817232013\n",
            "Epoch 33, Batch 60 loss: 0.2417662989348173\n",
            "Epoch 33, Batch 80 loss: 0.2843413779512048\n",
            "Epoch 33, Batch 100 loss: 0.2483709434047341\n",
            "Epoch 33, Batch 120 loss: 0.2539116656407714\n",
            "Epoch 34, Batch 20 loss: 0.3452609691768885\n",
            "Epoch 34, Batch 40 loss: 0.2137928224168718\n",
            "Epoch 34, Batch 60 loss: 0.2771160855889320\n",
            "Epoch 34, Batch 80 loss: 0.2303490089252591\n",
            "Epoch 34, Batch 100 loss: 0.2224094629287720\n",
            "Epoch 34, Batch 120 loss: 0.2427486289292574\n",
            "Epoch 35, Batch 20 loss: 0.2397229931317270\n",
            "Epoch 35, Batch 40 loss: 0.2182049660943449\n",
            "Epoch 35, Batch 60 loss: 0.2590394798666239\n",
            "Epoch 35, Batch 80 loss: 0.2406992135569453\n",
            "Epoch 35, Batch 100 loss: 0.3182868327945471\n",
            "Epoch 35, Batch 120 loss: 0.2746435809880495\n",
            "Epoch 36, Batch 20 loss: 0.2125045570544898\n",
            "Epoch 36, Batch 40 loss: 0.2360977936536074\n",
            "Epoch 36, Batch 60 loss: 0.1893867636099458\n",
            "Epoch 36, Batch 80 loss: 0.2022469367831946\n",
            "Epoch 36, Batch 100 loss: 0.3356250727549195\n",
            "Epoch 36, Batch 120 loss: 0.2029424434527755\n",
            "Epoch 37, Batch 20 loss: 0.1827922299504280\n",
            "Epoch 37, Batch 40 loss: 0.2433138893917203\n",
            "Epoch 37, Batch 60 loss: 0.2122477584984153\n",
            "Epoch 37, Batch 80 loss: 0.3030703647062182\n",
            "Epoch 37, Batch 100 loss: 0.2210374260321259\n",
            "Epoch 37, Batch 120 loss: 0.2036444730125368\n",
            "Epoch 38, Batch 20 loss: 0.2265254008583724\n",
            "Epoch 38, Batch 40 loss: 0.2353136375546455\n",
            "Epoch 38, Batch 60 loss: 0.2598838472738862\n",
            "Epoch 38, Batch 80 loss: 0.2599666319787503\n",
            "Epoch 38, Batch 100 loss: 0.2800538420677185\n",
            "Epoch 38, Batch 120 loss: 0.2429215185344219\n",
            "Epoch 39, Batch 20 loss: 0.2132943332195282\n",
            "Epoch 39, Batch 40 loss: 0.2478087496012449\n",
            "Epoch 39, Batch 60 loss: 0.1650281440466642\n",
            "Epoch 39, Batch 80 loss: 0.1912693411111832\n",
            "Epoch 39, Batch 100 loss: 0.2457513524219394\n",
            "Epoch 39, Batch 120 loss: 0.2381369011476636\n",
            "Epoch 40, Batch 20 loss: 0.2144859664142132\n",
            "Epoch 40, Batch 40 loss: 0.2753273230046034\n",
            "Epoch 40, Batch 60 loss: 0.2521477231755853\n",
            "Epoch 40, Batch 80 loss: 0.2465786412358284\n",
            "Epoch 40, Batch 100 loss: 0.1755220390856266\n",
            "Epoch 40, Batch 120 loss: 0.2417571060359478\n",
            "Epoch 41, Batch 20 loss: 0.2618062466382980\n",
            "Epoch 41, Batch 40 loss: 0.3292836558073759\n",
            "Epoch 41, Batch 60 loss: 0.2964407626539469\n",
            "Epoch 41, Batch 80 loss: 0.3237026184797287\n",
            "Epoch 41, Batch 100 loss: 0.2263233569450676\n",
            "Epoch 41, Batch 120 loss: 0.2242721682414412\n",
            "Epoch 42, Batch 20 loss: 0.1796471167355776\n",
            "Epoch 42, Batch 40 loss: 0.2911199558526277\n",
            "Epoch 42, Batch 60 loss: 0.2045069349929690\n",
            "Epoch 42, Batch 80 loss: 0.2103747863322497\n",
            "Epoch 42, Batch 100 loss: 0.3101409866474569\n",
            "Epoch 42, Batch 120 loss: 0.2311927365139127\n",
            "Epoch 43, Batch 20 loss: 0.2082336772233248\n",
            "Epoch 43, Batch 40 loss: 0.2906824573874474\n",
            "Epoch 43, Batch 60 loss: 0.2342139190994203\n",
            "Epoch 43, Batch 80 loss: 0.2877199232578277\n",
            "Epoch 43, Batch 100 loss: 0.2868891684338450\n",
            "Epoch 43, Batch 120 loss: 0.2108081943355501\n",
            "Epoch 44, Batch 20 loss: 0.2516320277005434\n",
            "Epoch 44, Batch 40 loss: 0.2295986443758011\n",
            "Epoch 44, Batch 60 loss: 0.2135927849449217\n",
            "Epoch 44, Batch 80 loss: 0.2045051123946905\n",
            "Epoch 44, Batch 100 loss: 0.1528956561349332\n",
            "Epoch 44, Batch 120 loss: 0.2288281334564090\n",
            "Epoch 45, Batch 20 loss: 0.2013516167178750\n",
            "Epoch 45, Batch 40 loss: 0.2780117342248559\n",
            "Epoch 45, Batch 60 loss: 0.2267167343758047\n",
            "Epoch 45, Batch 80 loss: 0.2169152922928333\n",
            "Epoch 45, Batch 100 loss: 0.2354136545211077\n",
            "Epoch 45, Batch 120 loss: 0.1899344401434064\n",
            "Epoch 46, Batch 20 loss: 0.2007268071174622\n",
            "Epoch 46, Batch 40 loss: 0.2379165463149548\n",
            "Epoch 46, Batch 60 loss: 0.2322523586452007\n",
            "Epoch 46, Batch 80 loss: 0.2705405742861330\n",
            "Epoch 46, Batch 100 loss: 0.2276639370247722\n",
            "Epoch 46, Batch 120 loss: 0.2451676143333316\n",
            "Epoch 47, Batch 20 loss: 0.2306123316287994\n",
            "Epoch 47, Batch 40 loss: 0.2729124188423157\n",
            "Epoch 47, Batch 60 loss: 0.2631644527427852\n",
            "Epoch 47, Batch 80 loss: 0.2518031286075711\n",
            "Epoch 47, Batch 100 loss: 0.2299765016883612\n",
            "Epoch 47, Batch 120 loss: 0.3083777029067278\n",
            "Epoch 48, Batch 20 loss: 0.2503155924379826\n",
            "Epoch 48, Batch 40 loss: 0.1865598387084901\n",
            "Epoch 48, Batch 60 loss: 0.2322269502095878\n",
            "Epoch 48, Batch 80 loss: 0.2554904863238335\n",
            "Epoch 48, Batch 100 loss: 0.2454472735524177\n",
            "Epoch 48, Batch 120 loss: 0.2171878237277269\n",
            "Epoch 49, Batch 20 loss: 0.2181321909651160\n",
            "Epoch 49, Batch 40 loss: 0.2212162680923939\n",
            "Epoch 49, Batch 60 loss: 0.2586970537900924\n",
            "Epoch 49, Batch 80 loss: 0.2904505973681807\n",
            "Epoch 49, Batch 100 loss: 0.1683017553761602\n",
            "Epoch 49, Batch 120 loss: 0.2226807789877057\n",
            "Epoch 50, Batch 20 loss: 0.2341900857165456\n",
            "Epoch 50, Batch 40 loss: 0.2205590663477778\n",
            "Epoch 50, Batch 60 loss: 0.1483987962827086\n",
            "Epoch 50, Batch 80 loss: 0.1995308957993984\n",
            "Epoch 50, Batch 100 loss: 0.2305559992790222\n",
            "Epoch 50, Batch 120 loss: 0.2296192938461900\n"
          ]
        }
      ]
    },
    {
      "cell_type": "code",
      "metadata": {
        "id": "CfA7ZjLR1BZP",
        "colab": {
          "base_uri": "https://localhost:8080/",
          "height": 281
        },
        "outputId": "568a2180-73fd-4df5-d72a-df0c62298dc0"
      },
      "source": [
        "plt.plot(train_losses)\n",
        "plt.title(\"Training Loss\")\n",
        "plt.show()"
      ],
      "execution_count": 18,
      "outputs": [
        {
          "output_type": "display_data",
          "data": {
            "image/png": "[encoded data removed]",
            "text/plain": [
              "<Figure size 432x288 with 1 Axes>"
            ]
          },
          "metadata": {
            "needs_background": "light"
          }
        }
      ]
    },
    {
      "cell_type": "markdown",
      "metadata": {
        "id": "ItLyF9dQyJFL"
      },
      "source": [
        "Testing the model"
      ]
    },
    {
      "cell_type": "code",
      "metadata": {
        "id": "gGki98W3SoEW"
      },
      "source": [
        "from sklearn.metrics import precision_score, recall_score, f1_score, accuracy_score"
      ],
      "execution_count": 19,
      "outputs": []
    },
    {
      "cell_type": "code",
      "metadata": {
        "id": "xNavYOynyE6d",
        "colab": {
          "base_uri": "https://localhost:8080/"
        },
        "outputId": "ced483b5-67ea-4f99-daa2-b402a7f9e428"
      },
      "source": [
        "# The test_model function is from model_testing python file\n",
        "test_loss, class_correct, class_total, labels, predictions = test_model(classes, glyphnet, test_loader, criterion)\n",
        "\n",
        "# Test accuracy for each hieroglyph\n",
        "for i in range(len(classes)):\n",
        "    if class_total[i] > 0:\n",
        "        print('Test Accuracy of %5s: %2d%% (%2d/%2d)' % (classes[i], 100 * class_correct[i] / class_total[i], np.sum(class_correct[i]), np.sum(class_total[i])))\n",
        "    else:\n",
        "        print('Test Accuracy of %5s: N/A (no training examples)' % (classes[i]))\n",
        "\n",
        "# Total Test accuracy\n",
        "print(\"\\nAccuracy: {:.3%}\".format(accuracy_score(labels, predictions)))\n",
        "print(\"\\nPrecision: {:.3%}\".format(precision_score(labels, predictions, average = 'weighted')))\n",
        "print(\"\\nRecall: {:.3%}\".format(recall_score(labels, predictions, average = 'weighted')))\n",
        "print(\"\\nF1-score: {:.3%}\".format(f1_score(labels, predictions, average = 'weighted')))"
      ],
      "execution_count": 20,
      "outputs": [
        {
          "output_type": "stream",
          "name": "stdout",
          "text": [
            "Test Loss: 0.427609\n",
            "\n",
            "Test Accuracy of    D2: 76% (13/17)\n",
            "Test Accuracy of   D21: 61% ( 8/13)\n",
            "Test Accuracy of   D36: 100% (24/24)\n",
            "Test Accuracy of    D4: 91% (11/12)\n",
            "Test Accuracy of   D46: 100% ( 7/ 7)\n",
            "Test Accuracy of   D58: 70% (12/17)\n",
            "Test Accuracy of   E23: 69% ( 9/13)\n",
            "Test Accuracy of   E34: 80% ( 8/10)\n",
            "Test Accuracy of   F31: 71% (10/14)\n",
            "Test Accuracy of   F35: 66% (10/15)\n",
            "Test Accuracy of    G1: 90% ( 9/10)\n",
            "Test Accuracy of   G17: 66% (10/15)\n",
            "Test Accuracy of   G43: 84% (11/13)\n",
            "Test Accuracy of   I10: 100% (23/23)\n",
            "Test Accuracy of    I9: 68% (13/19)\n",
            "Test Accuracy of   M17: 93% (15/16)\n",
            "Test Accuracy of   M23: 93% (14/15)\n",
            "Test Accuracy of   N35: 100% (11/11)\n",
            "Test Accuracy of    O1: 100% (16/16)\n",
            "Test Accuracy of   O34: 72% (13/18)\n",
            "Test Accuracy of    O4: 100% (19/19)\n",
            "Test Accuracy of   O49: 100% (15/15)\n",
            "Test Accuracy of    Q1: 94% (17/18)\n",
            "Test Accuracy of    Q3: 83% (15/18)\n",
            "Test Accuracy of    R4: 68% (11/16)\n",
            "Test Accuracy of    R8: 89% (17/19)\n",
            "Test Accuracy of   S29: 95% (22/23)\n",
            "Test Accuracy of   S34: 81% (13/16)\n",
            "Test Accuracy of    U7: 85% (12/14)\n",
            "Test Accuracy of   V13: 90% (18/20)\n",
            "Test Accuracy of   V28: 100% (17/17)\n",
            "Test Accuracy of   V30: 61% ( 8/13)\n",
            "Test Accuracy of   V31: 62% (10/16)\n",
            "Test Accuracy of   W11: 55% (10/18)\n",
            "Test Accuracy of   W24: 84% (16/19)\n",
            "Test Accuracy of    X1: 100% ( 9/ 9)\n",
            "Test Accuracy of    X8: 100% (21/21)\n",
            "Test Accuracy of    Y1: 100% (11/11)\n",
            "Test Accuracy of    Y5: 100% (15/15)\n",
            "Test Accuracy of    Z1: 100% (18/18)\n",
            "\n",
            "Accuracy: 85.466%\n",
            "\n",
            "Precision: 86.657%\n",
            "\n",
            "Recall: 85.466%\n",
            "\n",
            "F1-score: 85.326%\n"
          ]
        }
      ]
    }
  ]
}