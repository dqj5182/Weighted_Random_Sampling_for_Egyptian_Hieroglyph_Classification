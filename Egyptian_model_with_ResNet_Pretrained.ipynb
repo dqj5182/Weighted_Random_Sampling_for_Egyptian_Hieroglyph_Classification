{
  "nbformat": 4,
  "nbformat_minor": 0,
  "metadata": {
    "colab": {
      "name": "Egyptian_model_with_ResNet_Modular.ipynb",
      "provenance": []
    },
    "kernelspec": {
      "name": "python3",
      "display_name": "Python 3"
    },
    "language_info": {
      "name": "python"
    },
    "accelerator": "GPU"
  },
  "cells": [
    {
      "cell_type": "code",
      "metadata": {
        "id": "8iEiGSblxJzW"
      },
      "source": [
        "import os, os.path\n",
        "import torch\n",
        "import numpy as np\n",
        "import torch.nn as nn\n",
        "import torch.optim as optim\n",
        "from pathlib import Path\n",
        "from torchvision import datasets, models, transforms\n",
        "\n",
        "# check if CUDA is available\n",
        "train_on_gpu = torch.cuda.is_available()"
      ],
      "execution_count": null,
      "outputs": []
    },
    {
      "cell_type": "markdown",
      "metadata": {
        "id": "Jd6KU8VMz6J3"
      },
      "source": [
        "Module: Load_data"
      ]
    },
    {
      "cell_type": "code",
      "metadata": {
        "id": "8lWX0BW_w_kC"
      },
      "source": [
        "def load_data(hieroglyph_directory_path, batch_size=20, num_workers=0):\n",
        "    train_dir = os.path.join(hieroglyph_directory_path, 'train/')\n",
        "    test_dir = os.path.join(hieroglyph_directory_path, 'test/')\n",
        "\n",
        "    classes = []\n",
        "\n",
        "    for filename in os.listdir(train_dir):\n",
        "        if filename == '.DS_Store':\n",
        "            pass\n",
        "        else:\n",
        "            classes.append(filename)\n",
        "\n",
        "    classes.sort()\n",
        "\n",
        "    # print(\"Our classes:\", classes)\n",
        "    # print(len(classes))\n",
        "\n",
        "    data_transform = transforms.Compose([transforms.ToTensor(),\n",
        "                                         transforms.RandomApply([transforms.RandomHorizontalFlip()]),\n",
        "                                         transforms.RandomRotation(degrees=(-10, 10)),\n",
        "                                         transforms.RandomAffine(degrees=0, translate=(.1, .1)),\n",
        "                                         transforms.RandomApply([transforms.ColorJitter(brightness=(1, 1.2),\n",
        "                                                                                        contrast=(1, 1.5),\n",
        "                                                                                        saturation=(1, 1.5),\n",
        "                                                                                        hue=(0, 0.5))]),\n",
        "                                         transforms.RandomErasing(p=0.5, scale=(0.05, 0.05), ratio=(0.3, 3.3), value=0,\n",
        "                                                                  inplace=False),\n",
        "                                         transforms.Normalize((0.5,), (0.5,))])\n",
        "\n",
        "    train_data = datasets.ImageFolder(train_dir, transform=data_transform)\n",
        "    test_data = datasets.ImageFolder(test_dir, transform=data_transform)\n",
        "\n",
        "    # print('Num training images: ', len(train_data))\n",
        "    # print('Num test images: ', len(test_data))\n",
        "\n",
        "    # prepare data loaders\n",
        "    train_loader = torch.utils.data.DataLoader(train_data, batch_size=batch_size,\n",
        "                                               num_workers=num_workers, shuffle=True)\n",
        "    test_loader = torch.utils.data.DataLoader(test_data, batch_size=batch_size,\n",
        "                                              num_workers=num_workers, shuffle=True)\n",
        "\n",
        "    return train_loader, test_loader, classes"
      ],
      "execution_count": null,
      "outputs": []
    },
    {
      "cell_type": "markdown",
      "metadata": {
        "id": "K4sXUrPPz7iF"
      },
      "source": [
        "Module: Train_model"
      ]
    },
    {
      "cell_type": "code",
      "metadata": {
        "id": "N2N_rnKLxN5c"
      },
      "source": [
        "def train_model(train_loader, optimizer, resnet50, criterion, my_lr_scheduler, n_epochs):\n",
        "    # track training loss over time\n",
        "    losses = []\n",
        "    \n",
        "    for epoch in range(1, n_epochs + 1):\n",
        "\n",
        "        # keep track of training and validation loss\n",
        "        train_loss = 0.0\n",
        "\n",
        "        # model by default is set to train\n",
        "        for batch_i, (data, target) in enumerate(train_loader):\n",
        "            # move tensors to GPU if CUDA is available\n",
        "            if train_on_gpu:\n",
        "                data, target = data.cuda(), target.cuda()\n",
        "            # clear the gradients of all optimized variables\n",
        "            optimizer.zero_grad()\n",
        "            # forward pass: compute predicted outputs by passing inputs to the model\n",
        "            output = resnet50(data)\n",
        "            # calculate the batch loss\n",
        "            loss = criterion(output, target)\n",
        "            # backward pass: compute gradient of the loss with respect to model parameters\n",
        "            loss.backward()\n",
        "            # perform a single optimization step (parameter update)\n",
        "            optimizer.step()\n",
        "            # update training loss\n",
        "            train_loss += loss.item()\n",
        "\n",
        "            my_lr_scheduler.step()\n",
        "\n",
        "            if batch_i % 20 == 19:  # print training loss every specified number of mini-batches\n",
        "                print('Epoch %d, Batch %d loss: %.16f' %\n",
        "                    (epoch, batch_i + 1, train_loss / 20))\n",
        "                losses.append(train_loss / 20)\n",
        "                train_loss = 0.0\n",
        "\n",
        "    return resnet50, losses"
      ],
      "execution_count": null,
      "outputs": []
    },
    {
      "cell_type": "markdown",
      "metadata": {
        "id": "-Rrxo5RDz96U"
      },
      "source": [
        "Module: Test_model"
      ]
    },
    {
      "cell_type": "code",
      "metadata": {
        "id": "Ay-HlMJnxU9v"
      },
      "source": [
        "def test_model(classes, resnet50, test_loader, criterion):\n",
        "    # track test loss\n",
        "    test_loss = 0.0\n",
        "    class_correct = list(0. for i in range(len(classes)))\n",
        "    class_total = list(0. for i in range(len(classes)))\n",
        "\n",
        "    resnet50.eval()  # eval mode\n",
        "\n",
        "    labels = []\n",
        "    predictions = []\n",
        "    # iterate over test data\n",
        "    for data, target in test_loader:\n",
        "        # move tensors to GPU if CUDA is available\n",
        "        if train_on_gpu:\n",
        "            data, target = data.cuda(), target.cuda()\n",
        "        # forward pass: compute predicted outputs by passing inputs to the model\n",
        "        output = resnet50(data)\n",
        "        # calculate the batch loss\n",
        "        loss = criterion(output, target)\n",
        "        # update  test loss\n",
        "        test_loss += loss.item() * data.size(0)\n",
        "        # convert output probabilities to predicted class\n",
        "        _, pred = torch.max(output, 1)\n",
        "        # compare predictions to true label\n",
        "        correct_tensor = pred.eq(target.data.view_as(pred))\n",
        "        correct = np.squeeze(correct_tensor.numpy()) if not train_on_gpu else np.squeeze(correct_tensor.cpu().numpy())\n",
        "        # calculate test accuracy for each object class\n",
        "        for i in range(len(target.data)):\n",
        "            label = target.data[i]\n",
        "            class_correct[label] += correct[i].item()\n",
        "            class_total[label] += 1\n",
        "        \n",
        "        # Will be used for calculating Recall, Precision, and F1-score\n",
        "        labels.extend(target.data.view_as(pred).tolist())\n",
        "        predictions.extend(pred.tolist())\n",
        "\n",
        "\n",
        "    # calculate avg test loss\n",
        "    test_loss = test_loss / len(test_loader.dataset)\n",
        "    print('Test Loss: {:.6f}\\n'.format(test_loss))\n",
        "\n",
        "    return test_loss, class_correct, class_total, labels, predictions"
      ],
      "execution_count": null,
      "outputs": []
    },
    {
      "cell_type": "markdown",
      "metadata": {
        "id": "xHh3PXE80Asa"
      },
      "source": [
        "Check whether CUDA is available (Change runtime type if not)"
      ]
    },
    {
      "cell_type": "code",
      "metadata": {
        "colab": {
          "base_uri": "https://localhost:8080/"
        },
        "id": "Q9TYPQH7x4zw",
        "outputId": "3f0b84ba-0c82-462a-9d48-ca6a311e5250"
      },
      "source": [
        "if not train_on_gpu:\n",
        "    print('CUDA is not available.  Training on CPU ...')\n",
        "else:\n",
        "    print('CUDA is available!  Training on GPU ...')"
      ],
      "execution_count": null,
      "outputs": [
        {
          "output_type": "stream",
          "name": "stdout",
          "text": [
            "CUDA is available!  Training on GPU ...\n"
          ]
        }
      ]
    },
    {
      "cell_type": "markdown",
      "metadata": {
        "id": "6lYw8EKVx8Q7"
      },
      "source": [
        "Load Hieroglyph Data"
      ]
    },
    {
      "cell_type": "code",
      "metadata": {
        "colab": {
          "base_uri": "https://localhost:8080/"
        },
        "id": "laLvoRy1yewl",
        "outputId": "4dd54a1f-2e3b-403f-d63e-8e716a293926"
      },
      "source": [
        "# Connecting and Mounting to the Google Drive\n",
        "from google.colab import drive\n",
        "drive.mount('/content/drive')"
      ],
      "execution_count": null,
      "outputs": [
        {
          "output_type": "stream",
          "name": "stdout",
          "text": [
            "Drive already mounted at /content/drive; to attempt to forcibly remount, call drive.mount(\"/content/drive\", force_remount=True).\n"
          ]
        }
      ]
    },
    {
      "cell_type": "code",
      "metadata": {
        "id": "odaoZt9GyfUt"
      },
      "source": [
        "data_dir = '/content/drive/MyDrive/EgyptianHieroglyphDataset_Original/'"
      ],
      "execution_count": null,
      "outputs": []
    },
    {
      "cell_type": "code",
      "metadata": {
        "colab": {
          "base_uri": "https://localhost:8080/"
        },
        "id": "dF22MAnmyiC1",
        "outputId": "99e1b66c-faa6-46bd-8def-6c687f77e921"
      },
      "source": [
        "hieroglyph_for_train = []\n",
        "file_count_list = []\n",
        "\n",
        "for name in os.listdir('/content/drive/MyDrive/EgyptianHieroglyphDataset_Original/train/'):\n",
        "  path, dirs, files = next(os.walk(\"/content/drive/MyDrive/EgyptianHieroglyphDataset_Original/train/\"+name))\n",
        "  file_count = len(files)\n",
        "  print(name, file_count)\n",
        "  file_count_list.append(file_count)\n",
        "  hieroglyph_for_train.append(name)\n",
        "\n",
        "hieroglyph_dict = dict(zip(hieroglyph_for_train, file_count_list))"
      ],
      "execution_count": null,
      "outputs": [
        {
          "output_type": "stream",
          "name": "stdout",
          "text": [
            "D4 29\n",
            "D2 19\n",
            "D46 40\n",
            "D36 47\n",
            "D21 146\n",
            "D58 28\n",
            "E34 97\n",
            "E23 8\n",
            "F31 6\n",
            "G1 28\n",
            "F35 2\n",
            "G17 156\n",
            "G43 157\n",
            "I10 32\n",
            "I9 116\n",
            "M23 30\n",
            "M17 291\n",
            "O1 16\n",
            "O34 15\n",
            "N35 358\n",
            "Q3 61\n",
            "O49 10\n",
            "Q1 13\n",
            "O4 11\n",
            "S34 8\n",
            "R4 2\n",
            "R8 53\n",
            "S29 212\n",
            "V13 63\n",
            "V28 28\n",
            "U7 3\n",
            "V30 6\n",
            "W11 4\n",
            "W24 31\n",
            "V31 106\n",
            "Y5 6\n",
            "X8 4\n",
            "Z1 39\n",
            "X1 185\n",
            "Y1 1\n"
          ]
        }
      ]
    },
    {
      "cell_type": "markdown",
      "metadata": {
        "id": "XeQQ7PjZzKd9"
      },
      "source": [
        "Number of images for each hieroglyph "
      ]
    },
    {
      "cell_type": "code",
      "metadata": {
        "colab": {
          "base_uri": "https://localhost:8080/",
          "height": 609
        },
        "id": "W6IzWR2RyjxM",
        "outputId": "3860d540-9abd-4a21-a2b6-50f968b5d208"
      },
      "source": [
        "import matplotlib.pyplot as plt\n",
        "import pandas as pd\n",
        "\n",
        "df = pd.DataFrame({\"Hieroglyph\":hieroglyph_for_train, \"Count\":file_count_list})\n",
        "\n",
        "df_sorted= df.sort_values('Count',ascending=False)\n",
        "\n",
        "plt.figure(figsize=(20,10))\n",
        "# make bar plot with matplotlib\n",
        "plt.bar('Hieroglyph', 'Count',data=df_sorted)"
      ],
      "execution_count": null,
      "outputs": [
        {
          "output_type": "execute_result",
          "data": {
            "text/plain": [
              "<BarContainer object of 40 artists>"
            ]
          },
          "metadata": {},
          "execution_count": 97
        },
        {
          "output_type": "display_data",
          "data": {
            "image/png": "[encoded data removed]",
            "text/plain": [
              "<Figure size 1440x720 with 1 Axes>"
            ]
          },
          "metadata": {
            "needs_background": "light"
          }
        }
      ]
    },
    {
      "cell_type": "code",
      "metadata": {
        "id": "-3oOm8rSx7tp"
      },
      "source": [
        "# Number of images processed in a single training\n",
        "batch_size = 20\n",
        "num_workers = 0\n",
        "\n",
        "# The load_data function is from hieroglyph_data_preparation python file\n",
        "train_loader, test_loader, classes = load_data(data_dir)"
      ],
      "execution_count": null,
      "outputs": []
    },
    {
      "cell_type": "markdown",
      "metadata": {
        "id": "BJm8sGiBx_q5"
      },
      "source": [
        "ResNet Model"
      ]
    },
    {
      "cell_type": "code",
      "metadata": {
        "id": "JkLXVJGkxemC"
      },
      "source": [
        "# Whether to extract features with the model\n",
        "feature_extract = False\n",
        "# Other selections\n",
        "loss_function = \"cross-entropy\"\n",
        "model_selection = \"resnet-50\"\n",
        "optim_selection = \"Adam\"\n",
        "\n",
        "# False if you want scratch model, True if you want pretrained model\n",
        "whether_to_pretrain = True\n",
        "\n",
        "# Load the model\n",
        "if model_selection == \"resnet-50\":\n",
        "    resnet50 = models.resnet50(pretrained=whether_to_pretrain)\n",
        "\n",
        "# Number of features in the last layer of resnet\n",
        "n_inputs = resnet50.fc.in_features\n",
        "\n",
        "# Add last linear layer (n_inputs -> 40 hieroglyph classes)\n",
        "# New layers automatically have requires_grad = True\n",
        "last_layer = nn.Sequential(\n",
        "                nn.Linear(n_inputs, len(classes)))\n",
        "\n",
        "resnet50.fc = last_layer\n",
        "\n",
        "# if GPU is available, move the model to GPU\n",
        "if train_on_gpu:\n",
        "    resnet50.cuda()\n",
        "\n",
        "# Specify loss function (categorical cross-entropy)\n",
        "if loss_function == \"cross-entropy\":\n",
        "    criterion = nn.CrossEntropyLoss()\n",
        "\n",
        "# Specify optimizer (Adam) and learning rate = 0.001\n",
        "if optim_selection == \"Adam\":\n",
        "    optimizer = optim.Adam(resnet50.parameters(), lr=0.001)\n",
        "\n",
        "# Exponential Decay to strengthen learning\n",
        "decayRate = 0.999\n",
        "my_lr_scheduler = torch.optim.lr_scheduler.ExponentialLR(optimizer=optimizer, gamma=decayRate)"
      ],
      "execution_count": null,
      "outputs": []
    },
    {
      "cell_type": "markdown",
      "metadata": {
        "id": "U2vnErB1yHmM"
      },
      "source": [
        "Training the model"
      ]
    },
    {
      "cell_type": "code",
      "metadata": {
        "colab": {
          "base_uri": "https://localhost:8080/"
        },
        "id": "dOB03noWyEvQ",
        "outputId": "7eecf508-9e0e-4058-cc06-22014105c989"
      },
      "source": [
        "# number of epochs to train the model\n",
        "n_epochs = 50\n",
        "\n",
        "# The train_model function is from model_training python file\n",
        "resnet50, train_losses = train_model(train_loader, optimizer, resnet50, criterion, my_lr_scheduler, n_epochs)"
      ],
      "execution_count": null,
      "outputs": [
        {
          "output_type": "stream",
          "name": "stdout",
          "text": [
            "Epoch 1, Batch 20 loss: 2.8939414799213408\n",
            "Epoch 1, Batch 40 loss: 2.2724731326103211\n",
            "Epoch 1, Batch 60 loss: 1.8781846106052398\n",
            "Epoch 1, Batch 80 loss: 1.4785116553306579\n",
            "Epoch 1, Batch 100 loss: 1.4236384660005570\n",
            "Epoch 1, Batch 120 loss: 1.3615608394145966\n",
            "Epoch 2, Batch 20 loss: 1.3043256521224975\n",
            "Epoch 2, Batch 40 loss: 1.1758057132363320\n",
            "Epoch 2, Batch 60 loss: 1.1917814522981645\n",
            "Epoch 2, Batch 80 loss: 1.0094450995326043\n",
            "Epoch 2, Batch 100 loss: 0.9101355120539665\n",
            "Epoch 2, Batch 120 loss: 1.0299830913543702\n",
            "Epoch 3, Batch 20 loss: 0.6897308439016342\n",
            "Epoch 3, Batch 40 loss: 0.6472220629453659\n",
            "Epoch 3, Batch 60 loss: 0.5883667841553688\n",
            "Epoch 3, Batch 80 loss: 0.6748912051320076\n",
            "Epoch 3, Batch 100 loss: 0.5217207856476307\n",
            "Epoch 3, Batch 120 loss: 0.5256548788398504\n",
            "Epoch 4, Batch 20 loss: 0.5763172239065171\n",
            "Epoch 4, Batch 40 loss: 0.5246577218174935\n",
            "Epoch 4, Batch 60 loss: 0.4767738260328770\n",
            "Epoch 4, Batch 80 loss: 0.4160867080092430\n",
            "Epoch 4, Batch 100 loss: 0.4854496456682682\n",
            "Epoch 4, Batch 120 loss: 0.4435159645974636\n",
            "Epoch 5, Batch 20 loss: 0.3626193139702082\n",
            "Epoch 5, Batch 40 loss: 0.3429917052388191\n",
            "Epoch 5, Batch 60 loss: 0.4067582290619612\n",
            "Epoch 5, Batch 80 loss: 0.2687478600069880\n",
            "Epoch 5, Batch 100 loss: 0.3587575191631913\n",
            "Epoch 5, Batch 120 loss: 0.2807817485183478\n",
            "Epoch 6, Batch 20 loss: 0.2705978892743587\n",
            "Epoch 6, Batch 40 loss: 0.2922836892306805\n",
            "Epoch 6, Batch 60 loss: 0.2560792457312345\n",
            "Epoch 6, Batch 80 loss: 0.1834675746038556\n",
            "Epoch 6, Batch 100 loss: 0.2941424030810594\n",
            "Epoch 6, Batch 120 loss: 0.2623438350856304\n",
            "Epoch 7, Batch 20 loss: 0.2908989738672972\n",
            "Epoch 7, Batch 40 loss: 0.2128276291303337\n",
            "Epoch 7, Batch 60 loss: 0.3218140721321106\n",
            "Epoch 7, Batch 80 loss: 0.2288978125900030\n",
            "Epoch 7, Batch 100 loss: 0.2052551573142409\n",
            "Epoch 7, Batch 120 loss: 0.2239376161247492\n",
            "Epoch 8, Batch 20 loss: 0.1442992825061083\n",
            "Epoch 8, Batch 40 loss: 0.1884415809065104\n",
            "Epoch 8, Batch 60 loss: 0.2307853538077325\n",
            "Epoch 8, Batch 80 loss: 0.1900528282858431\n",
            "Epoch 8, Batch 100 loss: 0.1921545742079616\n",
            "Epoch 8, Batch 120 loss: 0.1925230312161147\n",
            "Epoch 9, Batch 20 loss: 0.1537933067418635\n",
            "Epoch 9, Batch 40 loss: 0.1098974179476500\n",
            "Epoch 9, Batch 60 loss: 0.1858460766263306\n",
            "Epoch 9, Batch 80 loss: 0.1739023841917515\n",
            "Epoch 9, Batch 100 loss: 0.0943764219060540\n",
            "Epoch 9, Batch 120 loss: 0.1565238988026977\n",
            "Epoch 10, Batch 20 loss: 0.1991405877750367\n",
            "Epoch 10, Batch 40 loss: 0.1973058715462685\n",
            "Epoch 10, Batch 60 loss: 0.1206263618078083\n",
            "Epoch 10, Batch 80 loss: 0.0566262831445783\n",
            "Epoch 10, Batch 100 loss: 0.1142124359263107\n",
            "Epoch 10, Batch 120 loss: 0.1255473711178638\n",
            "Epoch 11, Batch 20 loss: 0.0902952942997217\n",
            "Epoch 11, Batch 40 loss: 0.1101284403703175\n",
            "Epoch 11, Batch 60 loss: 0.0942711068084463\n",
            "Epoch 11, Batch 80 loss: 0.1165355825098231\n",
            "Epoch 11, Batch 100 loss: 0.1410348845180124\n",
            "Epoch 11, Batch 120 loss: 0.1325873493682593\n",
            "Epoch 12, Batch 20 loss: 0.1265291922725737\n",
            "Epoch 12, Batch 40 loss: 0.0781032345257699\n",
            "Epoch 12, Batch 60 loss: 0.0811520570889115\n",
            "Epoch 12, Batch 80 loss: 0.0973221833584830\n",
            "Epoch 12, Batch 100 loss: 0.0633886738447473\n",
            "Epoch 12, Batch 120 loss: 0.0922135620843619\n",
            "Epoch 13, Batch 20 loss: 0.1264004720374942\n",
            "Epoch 13, Batch 40 loss: 0.1238218828570098\n",
            "Epoch 13, Batch 60 loss: 0.0978216669522226\n",
            "Epoch 13, Batch 80 loss: 0.0423305680742487\n",
            "Epoch 13, Batch 100 loss: 0.0744321761885658\n",
            "Epoch 13, Batch 120 loss: 0.0808796718483791\n",
            "Epoch 14, Batch 20 loss: 0.1338298738934100\n",
            "Epoch 14, Batch 40 loss: 0.0969155547441915\n",
            "Epoch 14, Batch 60 loss: 0.0786586789297871\n",
            "Epoch 14, Batch 80 loss: 0.0725423821248114\n",
            "Epoch 14, Batch 100 loss: 0.0435244369553402\n",
            "Epoch 14, Batch 120 loss: 0.0683026723796502\n",
            "Epoch 15, Batch 20 loss: 0.0762186998035759\n",
            "Epoch 15, Batch 40 loss: 0.0758546160068363\n",
            "Epoch 15, Batch 60 loss: 0.0759340367745608\n",
            "Epoch 15, Batch 80 loss: 0.0719682618044317\n",
            "Epoch 15, Batch 100 loss: 0.0716024026740342\n",
            "Epoch 15, Batch 120 loss: 0.0392828331212513\n",
            "Epoch 16, Batch 20 loss: 0.0441431523766369\n",
            "Epoch 16, Batch 40 loss: 0.0874279481824487\n",
            "Epoch 16, Batch 60 loss: 0.0683535101008601\n",
            "Epoch 16, Batch 80 loss: 0.0353980370797217\n",
            "Epoch 16, Batch 100 loss: 0.0712696472532116\n",
            "Epoch 16, Batch 120 loss: 0.0600459345965646\n",
            "Epoch 17, Batch 20 loss: 0.0525881244684570\n",
            "Epoch 17, Batch 40 loss: 0.0332616805331781\n",
            "Epoch 17, Batch 60 loss: 0.0810051839565858\n",
            "Epoch 17, Batch 80 loss: 0.0667481351702008\n",
            "Epoch 17, Batch 100 loss: 0.0645682330941781\n",
            "Epoch 17, Batch 120 loss: 0.0465215346077457\n",
            "Epoch 18, Batch 20 loss: 0.0774976480752230\n",
            "Epoch 18, Batch 40 loss: 0.0606194115942344\n",
            "Epoch 18, Batch 60 loss: 0.0750123798614368\n",
            "Epoch 18, Batch 80 loss: 0.0846311821485870\n",
            "Epoch 18, Batch 100 loss: 0.0228259042487480\n",
            "Epoch 18, Batch 120 loss: 0.0371506864205003\n",
            "Epoch 19, Batch 20 loss: 0.0552077405503951\n",
            "Epoch 19, Batch 40 loss: 0.0421430871356279\n",
            "Epoch 19, Batch 60 loss: 0.0293078731046990\n",
            "Epoch 19, Batch 80 loss: 0.0380324444326106\n",
            "Epoch 19, Batch 100 loss: 0.0755549975496251\n",
            "Epoch 19, Batch 120 loss: 0.0432348438072950\n",
            "Epoch 20, Batch 20 loss: 0.0499287993414328\n",
            "Epoch 20, Batch 40 loss: 0.0304298911592923\n",
            "Epoch 20, Batch 60 loss: 0.0300084422517102\n",
            "Epoch 20, Batch 80 loss: 0.0665554254432209\n",
            "Epoch 20, Batch 100 loss: 0.0601912443758920\n",
            "Epoch 20, Batch 120 loss: 0.0377506899647415\n",
            "Epoch 21, Batch 20 loss: 0.0436545388307422\n",
            "Epoch 21, Batch 40 loss: 0.0210225865128450\n",
            "Epoch 21, Batch 60 loss: 0.0520375545718707\n",
            "Epoch 21, Batch 80 loss: 0.0227407864062116\n",
            "Epoch 21, Batch 100 loss: 0.0428582395659760\n",
            "Epoch 21, Batch 120 loss: 0.0347206269274466\n",
            "Epoch 22, Batch 20 loss: 0.0405147112207487\n",
            "Epoch 22, Batch 40 loss: 0.0194711374002509\n",
            "Epoch 22, Batch 60 loss: 0.0170455091923941\n",
            "Epoch 22, Batch 80 loss: 0.0242529408191331\n",
            "Epoch 22, Batch 100 loss: 0.0635548221762292\n",
            "Epoch 22, Batch 120 loss: 0.0408664741786197\n",
            "Epoch 23, Batch 20 loss: 0.0256717320182361\n",
            "Epoch 23, Batch 40 loss: 0.0248738424881594\n",
            "Epoch 23, Batch 60 loss: 0.0383619298605481\n",
            "Epoch 23, Batch 80 loss: 0.0294425907573896\n",
            "Epoch 23, Batch 100 loss: 0.0499883965443587\n",
            "Epoch 23, Batch 120 loss: 0.0162880940013565\n",
            "Epoch 24, Batch 20 loss: 0.0288556927378522\n",
            "Epoch 24, Batch 40 loss: 0.0398773843771778\n",
            "Epoch 24, Batch 60 loss: 0.0249845010082936\n",
            "Epoch 24, Batch 80 loss: 0.0295972146675922\n",
            "Epoch 24, Batch 100 loss: 0.0345304906892125\n",
            "Epoch 24, Batch 120 loss: 0.0397457995655714\n",
            "Epoch 25, Batch 20 loss: 0.0337867374182679\n",
            "Epoch 25, Batch 40 loss: 0.0342444265203085\n",
            "Epoch 25, Batch 60 loss: 0.0417619936139090\n",
            "Epoch 25, Batch 80 loss: 0.0304441772605060\n",
            "Epoch 25, Batch 100 loss: 0.0242382874246687\n",
            "Epoch 25, Batch 120 loss: 0.0169541901384946\n",
            "Epoch 26, Batch 20 loss: 0.0232377562846523\n",
            "Epoch 26, Batch 40 loss: 0.0120389132178389\n",
            "Epoch 26, Batch 60 loss: 0.0250511493068188\n",
            "Epoch 26, Batch 80 loss: 0.0740573237970239\n",
            "Epoch 26, Batch 100 loss: 0.0358011517731939\n",
            "Epoch 26, Batch 120 loss: 0.0325318028772017\n",
            "Epoch 27, Batch 20 loss: 0.0285143352462910\n",
            "Epoch 27, Batch 40 loss: 0.0469807816320099\n",
            "Epoch 27, Batch 60 loss: 0.0215591350017348\n",
            "Epoch 27, Batch 80 loss: 0.0313588021381292\n",
            "Epoch 27, Batch 100 loss: 0.0140606197353918\n",
            "Epoch 27, Batch 120 loss: 0.0152977237361483\n",
            "Epoch 28, Batch 20 loss: 0.0210215126076946\n",
            "Epoch 28, Batch 40 loss: 0.0346564084524289\n",
            "Epoch 28, Batch 60 loss: 0.0260916952160187\n",
            "Epoch 28, Batch 80 loss: 0.0767868807713967\n",
            "Epoch 28, Batch 100 loss: 0.0209609638783149\n",
            "Epoch 28, Batch 120 loss: 0.0177688821189804\n",
            "Epoch 29, Batch 20 loss: 0.0320398990617832\n",
            "Epoch 29, Batch 40 loss: 0.0336012430139817\n",
            "Epoch 29, Batch 60 loss: 0.0225550900679082\n",
            "Epoch 29, Batch 80 loss: 0.0096569830056978\n",
            "Epoch 29, Batch 100 loss: 0.0358670131507097\n",
            "Epoch 29, Batch 120 loss: 0.0146733486035373\n",
            "Epoch 30, Batch 20 loss: 0.0106960389181040\n",
            "Epoch 30, Batch 40 loss: 0.0248277663020417\n",
            "Epoch 30, Batch 60 loss: 0.0268353957217187\n",
            "Epoch 30, Batch 80 loss: 0.0268773095915094\n",
            "Epoch 30, Batch 100 loss: 0.0326456050446723\n",
            "Epoch 30, Batch 120 loss: 0.0321281632117461\n",
            "Epoch 31, Batch 20 loss: 0.0077387637400534\n",
            "Epoch 31, Batch 40 loss: 0.0223519942490384\n",
            "Epoch 31, Batch 60 loss: 0.0282633293827530\n",
            "Epoch 31, Batch 80 loss: 0.0358099574747030\n",
            "Epoch 31, Batch 100 loss: 0.0389827385544777\n",
            "Epoch 31, Batch 120 loss: 0.0155361485230969\n",
            "Epoch 32, Batch 20 loss: 0.0160879850096535\n",
            "Epoch 32, Batch 40 loss: 0.0407312416093191\n",
            "Epoch 32, Batch 60 loss: 0.0208348693267908\n",
            "Epoch 32, Batch 80 loss: 0.0113836161996005\n",
            "Epoch 32, Batch 100 loss: 0.0172259239829145\n",
            "Epoch 32, Batch 120 loss: 0.0277462830534205\n",
            "Epoch 33, Batch 20 loss: 0.0117217844570405\n",
            "Epoch 33, Batch 40 loss: 0.0377644630323630\n",
            "Epoch 33, Batch 60 loss: 0.0397886765975272\n",
            "Epoch 33, Batch 80 loss: 0.0317091877281200\n",
            "Epoch 33, Batch 100 loss: 0.0328016349303653\n",
            "Epoch 33, Batch 120 loss: 0.0130206110101426\n",
            "Epoch 34, Batch 20 loss: 0.0217374574684072\n",
            "Epoch 34, Batch 40 loss: 0.0177521594800055\n",
            "Epoch 34, Batch 60 loss: 0.0196913341671461\n",
            "Epoch 34, Batch 80 loss: 0.0404207347455667\n",
            "Epoch 34, Batch 100 loss: 0.0124956131912768\n",
            "Epoch 34, Batch 120 loss: 0.0481054684030823\n",
            "Epoch 35, Batch 20 loss: 0.0274195555539336\n",
            "Epoch 35, Batch 40 loss: 0.0093532886996400\n",
            "Epoch 35, Batch 60 loss: 0.0265764303912874\n",
            "Epoch 35, Batch 80 loss: 0.0395766748435562\n",
            "Epoch 35, Batch 100 loss: 0.0181197272700956\n",
            "Epoch 35, Batch 120 loss: 0.0253353592182975\n",
            "Epoch 36, Batch 20 loss: 0.0226227767881937\n",
            "Epoch 36, Batch 40 loss: 0.0192824986967025\n",
            "Epoch 36, Batch 60 loss: 0.0409757723013172\n",
            "Epoch 36, Batch 80 loss: 0.0238912109896773\n",
            "Epoch 36, Batch 100 loss: 0.0210949933098163\n",
            "Epoch 36, Batch 120 loss: 0.0107631339924410\n",
            "Epoch 37, Batch 20 loss: 0.0225441948889056\n",
            "Epoch 37, Batch 40 loss: 0.0276805717818206\n",
            "Epoch 37, Batch 60 loss: 0.0202815040218411\n",
            "Epoch 37, Batch 80 loss: 0.0169964497676119\n",
            "Epoch 37, Batch 100 loss: 0.0219007221588981\n",
            "Epoch 37, Batch 120 loss: 0.0084919652683311\n",
            "Epoch 38, Batch 20 loss: 0.0072680705605308\n",
            "Epoch 38, Batch 40 loss: 0.0183406253461726\n",
            "Epoch 38, Batch 60 loss: 0.0145014167850604\n",
            "Epoch 38, Batch 80 loss: 0.0352442110131960\n",
            "Epoch 38, Batch 100 loss: 0.0588072623708285\n",
            "Epoch 38, Batch 120 loss: 0.0250889778282726\n",
            "Epoch 39, Batch 20 loss: 0.0078814146487275\n",
            "Epoch 39, Batch 40 loss: 0.0216206512879580\n",
            "Epoch 39, Batch 60 loss: 0.0312979988491861\n",
            "Epoch 39, Batch 80 loss: 0.0182117158954497\n",
            "Epoch 39, Batch 100 loss: 0.0405063672602409\n",
            "Epoch 39, Batch 120 loss: 0.0183314668684034\n",
            "Epoch 40, Batch 20 loss: 0.0178079774646903\n",
            "Epoch 40, Batch 40 loss: 0.0342912560154218\n",
            "Epoch 40, Batch 60 loss: 0.0235141222830862\n",
            "Epoch 40, Batch 80 loss: 0.0209000342380023\n",
            "Epoch 40, Batch 100 loss: 0.0073367401142605\n",
            "Epoch 40, Batch 120 loss: 0.0311518301401520\n",
            "Epoch 41, Batch 20 loss: 0.0076220447008382\n",
            "Epoch 41, Batch 40 loss: 0.0189450330683030\n",
            "Epoch 41, Batch 60 loss: 0.0076099743513623\n",
            "Epoch 41, Batch 80 loss: 0.0230736422090558\n",
            "Epoch 41, Batch 100 loss: 0.0200364061296568\n",
            "Epoch 41, Batch 120 loss: 0.0236255850002635\n",
            "Epoch 42, Batch 20 loss: 0.0145560705845128\n",
            "Epoch 42, Batch 40 loss: 0.0053165197721682\n",
            "Epoch 42, Batch 60 loss: 0.0137668999261223\n",
            "Epoch 42, Batch 80 loss: 0.0271844464703463\n",
            "Epoch 42, Batch 100 loss: 0.0074614246928832\n",
            "Epoch 42, Batch 120 loss: 0.0205016191655886\n",
            "Epoch 43, Batch 20 loss: 0.0333678457129281\n",
            "Epoch 43, Batch 40 loss: 0.0160688961856067\n",
            "Epoch 43, Batch 60 loss: 0.0218271492980421\n",
            "Epoch 43, Batch 80 loss: 0.0148183733574115\n",
            "Epoch 43, Batch 100 loss: 0.0190272105275653\n",
            "Epoch 43, Batch 120 loss: 0.0267511590558570\n",
            "Epoch 44, Batch 20 loss: 0.0132610170971020\n",
            "Epoch 44, Batch 40 loss: 0.0210933758746251\n",
            "Epoch 44, Batch 60 loss: 0.0258390204515308\n",
            "Epoch 44, Batch 80 loss: 0.0221282252066885\n",
            "Epoch 44, Batch 100 loss: 0.0238309486536309\n",
            "Epoch 44, Batch 120 loss: 0.0229695596877718\n",
            "Epoch 45, Batch 20 loss: 0.0417395759082865\n",
            "Epoch 45, Batch 40 loss: 0.0113874724542256\n",
            "Epoch 45, Batch 60 loss: 0.0137428326648660\n",
            "Epoch 45, Batch 80 loss: 0.0190760669735027\n",
            "Epoch 45, Batch 100 loss: 0.0046599234643509\n",
            "Epoch 45, Batch 120 loss: 0.0213815095645259\n",
            "Epoch 46, Batch 20 loss: 0.0177263018951635\n",
            "Epoch 46, Batch 40 loss: 0.0114424169674749\n",
            "Epoch 46, Batch 60 loss: 0.0458260201208759\n",
            "Epoch 46, Batch 80 loss: 0.0096058182796696\n",
            "Epoch 46, Batch 100 loss: 0.0301510632009013\n",
            "Epoch 46, Batch 120 loss: 0.0204713919461938\n",
            "Epoch 47, Batch 20 loss: 0.0170354285888607\n",
            "Epoch 47, Batch 40 loss: 0.0178651774913305\n",
            "Epoch 47, Batch 60 loss: 0.0161854554418824\n",
            "Epoch 47, Batch 80 loss: 0.0123079503653571\n",
            "Epoch 47, Batch 100 loss: 0.0269122384474031\n",
            "Epoch 47, Batch 120 loss: 0.0250173972104676\n",
            "Epoch 48, Batch 20 loss: 0.0155116941430606\n",
            "Epoch 48, Batch 40 loss: 0.0197430975676980\n",
            "Epoch 48, Batch 60 loss: 0.0165441515535349\n",
            "Epoch 48, Batch 80 loss: 0.0212830677948659\n",
            "Epoch 48, Batch 100 loss: 0.0076087737426860\n",
            "Epoch 48, Batch 120 loss: 0.0250435473601101\n",
            "Epoch 49, Batch 20 loss: 0.0166332448308822\n",
            "Epoch 49, Batch 40 loss: 0.0161875680554658\n",
            "Epoch 49, Batch 60 loss: 0.0085858167585684\n",
            "Epoch 49, Batch 80 loss: 0.0415851753845345\n",
            "Epoch 49, Batch 100 loss: 0.0156928869895637\n",
            "Epoch 49, Batch 120 loss: 0.0322527447395260\n",
            "Epoch 50, Batch 20 loss: 0.0163795385800768\n",
            "Epoch 50, Batch 40 loss: 0.0097560286638327\n",
            "Epoch 50, Batch 60 loss: 0.0323368894998566\n",
            "Epoch 50, Batch 80 loss: 0.0114473140871269\n",
            "Epoch 50, Batch 100 loss: 0.0182384626357816\n",
            "Epoch 50, Batch 120 loss: 0.0118717914956505\n"
          ]
        }
      ]
    },
    {
      "cell_type": "code",
      "metadata": {
        "colab": {
          "base_uri": "https://localhost:8080/",
          "height": 281
        },
        "id": "CfA7ZjLR1BZP",
        "outputId": "a27aec2c-c1cc-4e94-e708-1cbdd6b097e6"
      },
      "source": [
        "plt.plot(train_losses)\n",
        "plt.title(\"Training Loss\")\n",
        "plt.show()"
      ],
      "execution_count": null,
      "outputs": [
        {
          "output_type": "display_data",
          "data": {
            "image/png": "[encoded data removed]",
            "text/plain": [
              "<Figure size 432x288 with 1 Axes>"
            ]
          },
          "metadata": {
            "needs_background": "light"
          }
        }
      ]
    },
    {
      "cell_type": "markdown",
      "metadata": {
        "id": "ItLyF9dQyJFL"
      },
      "source": [
        "Testing the model"
      ]
    },
    {
      "cell_type": "code",
      "metadata": {
        "id": "gGki98W3SoEW"
      },
      "source": [
        "from sklearn.metrics import precision_score, recall_score, f1_score, accuracy_score"
      ],
      "execution_count": null,
      "outputs": []
    },
    {
      "cell_type": "code",
      "metadata": {
        "colab": {
          "base_uri": "https://localhost:8080/"
        },
        "id": "xNavYOynyE6d",
        "outputId": "4d987990-6a3d-4765-84f7-a6e1f83a8168"
      },
      "source": [
        "# The test_model function is from model_testing python file\n",
        "test_loss, class_correct, class_total, labels, predictions = test_model(classes, resnet50, test_loader, criterion)\n",
        "\n",
        "# Test accuracy for each hieroglyph\n",
        "for i in range(len(classes)):\n",
        "    if class_total[i] > 0:\n",
        "        print('Test Accuracy of %5s: %2d%% (%2d/%2d)' % (classes[i], 100 * class_correct[i] / class_total[i], np.sum(class_correct[i]), np.sum(class_total[i])))\n",
        "    else:\n",
        "        print('Test Accuracy of %5s: N/A (no training examples)' % (classes[i]))\n",
        "\n",
        "# Total Test accuracy\n",
        "print(\"\\nAccuracy: {:.3%}\".format(accuracy_score(labels, predictions)/100))\n",
        "print(\"\\nPrecision: {:.3%}\".format(precision_score(labels, predictions, average = 'weighted')/100))\n",
        "print(\"\\nRecall: {:.3%}\".format(recall_score(labels, predictions, average = 'weighted')/100))\n",
        "print(\"\\nF1-score: {:.3%}\".format(f1_score(labels, predictions, average = 'weighted')/100))"
      ],
      "execution_count": null,
      "outputs": [
        {
          "output_type": "stream",
          "name": "stdout",
          "text": [
            "Test Loss: 0.062854\n",
            "\n",
            "Test Accuracy of    D2: 100% ( 5/ 5)\n",
            "Test Accuracy of   D21: 94% (35/37)\n",
            "Test Accuracy of   D36: 100% (12/12)\n",
            "Test Accuracy of    D4: 100% ( 8/ 8)\n",
            "Test Accuracy of   D46: 90% ( 9/10)\n",
            "Test Accuracy of   D58: 87% ( 7/ 8)\n",
            "Test Accuracy of   E23: 100% ( 2/ 2)\n",
            "Test Accuracy of   E34: 100% (25/25)\n",
            "Test Accuracy of   F31: 100% ( 2/ 2)\n",
            "Test Accuracy of   F35: 100% ( 1/ 1)\n",
            "Test Accuracy of    G1: 85% ( 6/ 7)\n",
            "Test Accuracy of   G17: 97% (38/39)\n",
            "Test Accuracy of   G43: 100% (40/40)\n",
            "Test Accuracy of   I10: 100% ( 9/ 9)\n",
            "Test Accuracy of    I9: 100% (30/30)\n",
            "Test Accuracy of   M17: 100% (73/73)\n",
            "Test Accuracy of   M23: 100% ( 8/ 8)\n",
            "Test Accuracy of   N35: 100% (90/90)\n",
            "Test Accuracy of    O1: 100% ( 4/ 4)\n",
            "Test Accuracy of   O34: 100% ( 4/ 4)\n",
            "Test Accuracy of    O4: 100% ( 3/ 3)\n",
            "Test Accuracy of   O49: 100% ( 3/ 3)\n",
            "Test Accuracy of    Q1: 100% ( 4/ 4)\n",
            "Test Accuracy of    Q3: 93% (15/16)\n",
            "Test Accuracy of    R4: 100% ( 1/ 1)\n",
            "Test Accuracy of    R8: 100% (14/14)\n",
            "Test Accuracy of   S29: 100% (53/53)\n",
            "Test Accuracy of   S34: 100% ( 2/ 2)\n",
            "Test Accuracy of    U7: 100% ( 1/ 1)\n",
            "Test Accuracy of   V13: 100% (16/16)\n",
            "Test Accuracy of   V28: 100% ( 8/ 8)\n",
            "Test Accuracy of   V30: 100% ( 2/ 2)\n",
            "Test Accuracy of   V31: 100% (27/27)\n",
            "Test Accuracy of   W11:  0% ( 0/ 1)\n",
            "Test Accuracy of   W24: 100% ( 8/ 8)\n",
            "Test Accuracy of    X1: 100% (47/47)\n",
            "Test Accuracy of    X8: 50% ( 1/ 2)\n",
            "Test Accuracy of    Y1: 100% ( 1/ 1)\n",
            "Test Accuracy of    Y5: 100% ( 2/ 2)\n",
            "Test Accuracy of    Z1: 100% (10/10)\n",
            "\n",
            "Accuracy: 0.986%\n",
            "\n",
            "Precision: 0.986%\n",
            "\n",
            "Recall: 0.986%\n",
            "\n",
            "F1-score: 0.985%\n"
          ]
        },
        {
          "output_type": "stream",
          "name": "stderr",
          "text": [
            "/usr/local/lib/python3.7/dist-packages/sklearn/metrics/_classification.py:1308: UndefinedMetricWarning: Precision is ill-defined and being set to 0.0 in labels with no predicted samples. Use `zero_division` parameter to control this behavior.\n",
            "  _warn_prf(average, modifier, msg_start, len(result))\n"
          ]
        }
      ]
    }
  ]
}
