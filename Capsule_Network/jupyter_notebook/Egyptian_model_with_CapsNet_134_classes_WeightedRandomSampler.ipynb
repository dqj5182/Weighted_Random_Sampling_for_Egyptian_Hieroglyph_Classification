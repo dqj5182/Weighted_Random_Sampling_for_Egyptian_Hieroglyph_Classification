{
  "nbformat": 4,
  "nbformat_minor": 0,
  "metadata": {
    "accelerator": "GPU",
    "colab": {
      "name": "Egyptian_model_with_CapsNet_134_classes_WeightedRandomSampler.ipynb",
      "provenance": []
    },
    "kernelspec": {
      "display_name": "Python 3",
      "language": "python",
      "name": "python3"
    },
    "language_info": {
      "codemirror_mode": {
        "name": "ipython",
        "version": 3
      },
      "file_extension": ".py",
      "mimetype": "text/x-python",
      "name": "python",
      "nbconvert_exporter": "python",
      "pygments_lexer": "ipython3",
      "version": "3.6.10"
    }
  },
  "cells": [
    {
      "cell_type": "markdown",
      "metadata": {
        "id": "KAjqyzmD-mze"
      },
      "source": [
        "# Capsule Network\n",
        "\n",
        "In this notebook, I'll be building a simple Capsule Network that aims to classify MNIST images. This is an implementation in PyTorch and this notebook assumes that you are already familiar with [convolutional and fully-connected layers](https://cezannec.github.io/Convolutional_Neural_Networks/). \n",
        "\n",
        "### What are Capsules?\n",
        "\n",
        "Capsules are a small group of neurons that have a few key traits:\n",
        ">* Each neuron in a capsule represents various properties of a particular image part; properties like a parts color, width, etc. \n",
        "* Every capsule **outputs a vector**, which has some magnitude (that represents the probability of a part's **existence**) and orientation (that represents a part's generalized pose).\n",
        "* A capsule network is made of multiple layers of capsules; during training, this network aims to learn the spatial relationships between the parts and whole of an object (ex. how the position of eyes and a nose relate to the position of a whole face in an image).\n",
        "* Capsules represent relationships between parts of a whole object by using **dynamic routing** to weight the connections between one layer of capsules and the next and creating strong connections between spatially-related object parts. \n",
        "\n",
        "<img src='assets/cat_face_2.png' width=50% />\n",
        "\n",
        "You can read more about all of these traits in [my blog post about capsules and dynamic routing](https://cezannec.github.io/Capsule_Networks/).\n",
        "\n",
        "### Representing Relationships Between Parts\n",
        "\n",
        "All of these traits allow capsules to communicate with each other and determine how data moves through them. Using dynamic communication, during the training process, a capsule network learns the **spatial relationships** between visual parts and their wholes (ex. between eyes, a nose, and a mouth on a face). When compared to a vanilla CNN, this knowledge about spatial relationships makes it easier for a capsule network to identify an object no matter what orientation it is in. These networks are also better able to identify multiple, overlapping objects, and learn from smaller sets of training data! \n",
        "\n",
        "---\n",
        "## Model Architecture\n",
        "\n",
        "The Capsule Network that I'll define is made of two main parts:\n",
        "1. A convolutional encoder\n",
        "2. A fully-connected, linear decoder\n",
        "\n",
        "I'll be following the architecture described [in the original Capsule Network paper](https://arxiv.org/pdf/1710.09829.pdf). I'll describe each layer in more detail as I define it in this notebook, but first let's load in our resources and MNIST data. I'm also setting a random seed, for reproducibility."
      ]
    },
    {
      "cell_type": "code",
      "metadata": {
        "colab": {
          "base_uri": "https://localhost:8080/"
        },
        "id": "1FaAAzBV-mzi",
        "outputId": "61beebe5-a5d9-442e-d29f-0033804af271"
      },
      "source": [
        "# import resources\n",
        "import numpy as np\n",
        "import torch\n",
        "\n",
        "# random seed (for reproducibility)\n",
        "seed = 1\n",
        "# set random seed for numpy\n",
        "np.random.seed(seed)\n",
        "# set random seed for pytorch\n",
        "torch.manual_seed(seed)"
      ],
      "execution_count": 1,
      "outputs": [
        {
          "output_type": "execute_result",
          "data": {
            "text/plain": [
              "<torch._C.Generator at 0x7fdcdf010b70>"
            ]
          },
          "metadata": {},
          "execution_count": 1
        }
      ]
    },
    {
      "cell_type": "markdown",
      "metadata": {
        "id": "gCFffe7A-mzk"
      },
      "source": [
        "### Obtain the [Data](http://pytorch.org/docs/stable/torchvision/datasets.html)\n",
        "\n",
        "Downloading may take a few moments, and you should see your progress as the data is loading. You may also choose to change the `batch_size` parameter, if you want to load more data at a time, but the included parameters are fine to leave as is.\n",
        "\n",
        "This cell will create `DataLoaders` for the training and test sets."
      ]
    },
    {
      "cell_type": "markdown",
      "metadata": {
        "id": "Wt1gSQqR_TTM"
      },
      "source": [
        "Egyptian Hieroglyph"
      ]
    },
    {
      "cell_type": "code",
      "metadata": {
        "colab": {
          "base_uri": "https://localhost:8080/"
        },
        "id": "DfNg8e2B_KDX",
        "outputId": "0978471f-55fd-4a4e-f0fd-7f2b4cc2facc"
      },
      "source": [
        "# Connecting and Mounting to the Google Drive\n",
        "from google.colab import drive\n",
        "drive.mount('/content/drive')"
      ],
      "execution_count": 2,
      "outputs": [
        {
          "output_type": "stream",
          "name": "stdout",
          "text": [
            "Drive already mounted at /content/drive; to attempt to forcibly remount, call drive.mount(\"/content/drive\", force_remount=True).\n"
          ]
        }
      ]
    },
    {
      "cell_type": "code",
      "metadata": {
        "colab": {
          "base_uri": "https://localhost:8080/"
        },
        "id": "pfGW4kF2_KFj",
        "outputId": "170a415f-4b0e-40e8-8a4a-021f2417faa4"
      },
      "source": [
        "# check if CUDA is available\n",
        "train_on_gpu = torch.cuda.is_available()\n",
        "\n",
        "if not train_on_gpu:\n",
        "    print('CUDA is not available.  Training on CPU ...')\n",
        "else:\n",
        "    print('CUDA is available!  Training on GPU ...')"
      ],
      "execution_count": 3,
      "outputs": [
        {
          "output_type": "stream",
          "name": "stdout",
          "text": [
            "CUDA is available!  Training on GPU ...\n"
          ]
        }
      ]
    },
    {
      "cell_type": "code",
      "metadata": {
        "id": "pLRjmDOH_KH1"
      },
      "source": [
        "import os\n",
        "\n",
        "data_dir = '/content/drive/MyDrive/EgyptianHieroglyphDataset_134/'\n",
        "train_dir = os.path.join(data_dir, 'train/')\n",
        "test_dir = os.path.join(data_dir, 'test/')"
      ],
      "execution_count": 4,
      "outputs": []
    },
    {
      "cell_type": "code",
      "metadata": {
        "colab": {
          "base_uri": "https://localhost:8080/"
        },
        "id": "qakTR5NN_KJ5",
        "outputId": "7b4a3354-e0c8-460f-dae2-59208743b6e0"
      },
      "source": [
        "hieroglyph_for_train = []\n",
        "file_count_list = []\n",
        "\n",
        "for name in os.listdir('/content/drive/MyDrive/EgyptianHieroglyphDataset_134/train/'):\n",
        "  path, dirs, files = next(os.walk(\"/content/drive/MyDrive/EgyptianHieroglyphDataset_134/train/\"+name))\n",
        "  file_count = len(files)\n",
        "  print(name, file_count)\n",
        "  file_count_list.append(file_count)\n",
        "  hieroglyph_for_train.append(name)\n",
        "\n",
        "hieroglyph_dict = dict(zip(hieroglyph_for_train, file_count_list))"
      ],
      "execution_count": 5,
      "outputs": [
        {
          "output_type": "stream",
          "name": "stdout",
          "text": [
            "Aa15 2\n",
            "Aa26 4\n",
            "Aa27 2\n",
            "Z1 39\n",
            "Z11 8\n",
            "Z7 3\n",
            "Y2 5\n",
            "Y3 2\n",
            "Y5 6\n",
            "E34 97\n",
            "E1 5\n",
            "E23 8\n",
            "E9 8\n",
            "W18 5\n",
            "W24 31\n",
            "W11 4\n",
            "W22 1\n",
            "W19 3\n",
            "W25 9\n",
            "D21 146\n",
            "D4 29\n",
            "D46 40\n",
            "D1 4\n",
            "D36 47\n",
            "D58 28\n",
            "D2 19\n",
            "D35 45\n",
            "D60 4\n",
            "D28 13\n",
            "D10 2\n",
            "D39 1\n",
            "D56 2\n",
            "D19 2\n",
            "D52 4\n",
            "D54 9\n",
            "D156 2\n",
            "X1 185\n",
            "X8 4\n",
            "U15 10\n",
            "U28 2\n",
            "U1 20\n",
            "U33 13\n",
            "U7 3\n",
            "T28 1\n",
            "T22 7\n",
            "T21 2\n",
            "T20 3\n",
            "T30 2\n",
            "V31 106\n",
            "V28 28\n",
            "V13 63\n",
            "V4 10\n",
            "V30 6\n",
            "V7 4\n",
            "V24 4\n",
            "V6 1\n",
            "R8 53\n",
            "R4 2\n",
            "Q3 61\n",
            "Q1 13\n",
            "Q7 2\n",
            "P8 12\n",
            "P6 2\n",
            "P98 4\n",
            "P1 4\n",
            "S29 212\n",
            "S34 8\n",
            "S24 1\n",
            "S28 1\n",
            "O50 84\n",
            "O49 10\n",
            "O28 8\n",
            "O34 15\n",
            "O1 16\n",
            "O31 5\n",
            "O4 11\n",
            "I9 116\n",
            "I10 32\n",
            "G17 156\n",
            "L1 2\n",
            "M17 291\n",
            "M44 5\n",
            "M42 4\n",
            "M1 2\n",
            "M12 2\n",
            "M18 10\n",
            "M195 2\n",
            "M20 2\n",
            "M23 30\n",
            "M41 2\n",
            "M3 3\n",
            "M16 1\n",
            "M8 1\n",
            "M40 2\n",
            "M29 2\n",
            "H6 5\n",
            "N35 358\n",
            "N5 16\n",
            "N1 14\n",
            "N37 24\n",
            "N14 11\n",
            "N31 13\n",
            "N17 6\n",
            "N29 14\n",
            "N18 15\n",
            "N41 2\n",
            "N30 9\n",
            "N25 1\n",
            "N36 1\n",
            "F13 6\n",
            "F16 5\n",
            "F35 2\n",
            "F34 8\n",
            "F31 6\n",
            "F4 3\n",
            "F40 1\n",
            "F18 4\n",
            "F9 2\n",
            "F26 3\n",
            "G39 16\n",
            "G43 157\n",
            "G5 24\n",
            "G40 6\n",
            "G7 8\n",
            "G35 30\n",
            "G1 28\n",
            "G21 1\n",
            "G25 21\n",
            "G36 7\n",
            "G4 6\n",
            "G14 1\n",
            "G26 1\n",
            "G29 2\n",
            "G37 2\n"
          ]
        }
      ]
    },
    {
      "cell_type": "code",
      "metadata": {
        "colab": {
          "base_uri": "https://localhost:8080/",
          "height": 609
        },
        "id": "zPt8z5kwa954",
        "outputId": "b9bab71c-8637-4c96-b150-bf75c39f6826"
      },
      "source": [
        "import matplotlib.pyplot as plt\n",
        "import pandas as pd\n",
        "\n",
        "df = pd.DataFrame({\"Hieroglyph\":hieroglyph_for_train, \"Count\":file_count_list})\n",
        "\n",
        "df_sorted= df.sort_values('Count',ascending=False)\n",
        "\n",
        "plt.figure(figsize=(20,10))\n",
        "# make bar plot with matplotlib\n",
        "plt.bar('Hieroglyph', 'Count',data=df_sorted)"
      ],
      "execution_count": 6,
      "outputs": [
        {
          "output_type": "execute_result",
          "data": {
            "text/plain": [
              "<BarContainer object of 134 artists>"
            ]
          },
          "metadata": {},
          "execution_count": 6
        },
        {
          "output_type": "display_data",
          "data": {
            "image/png": "[encoded data removed]",
            "text/plain": [
              "<Figure size 1440x720 with 1 Axes>"
            ]
          },
          "metadata": {
            "needs_background": "light"
          }
        }
      ]
    },
    {
      "cell_type": "code",
      "metadata": {
        "colab": {
          "base_uri": "https://localhost:8080/"
        },
        "id": "jQlehCmw_KL3",
        "outputId": "f849c41f-8630-438e-9896-773fd4b40887"
      },
      "source": [
        "# classes are folders in each directory with these names\n",
        "classes = []\n",
        "\n",
        "for filename in os.listdir(train_dir):\n",
        "    classes.append(filename)\n",
        "\n",
        "classes.sort()\n",
        "\n",
        "print(classes)\n",
        "print(len(classes))"
      ],
      "execution_count": 7,
      "outputs": [
        {
          "output_type": "stream",
          "name": "stdout",
          "text": [
            "['Aa15', 'Aa26', 'Aa27', 'D1', 'D10', 'D156', 'D19', 'D2', 'D21', 'D28', 'D35', 'D36', 'D39', 'D4', 'D46', 'D52', 'D54', 'D56', 'D58', 'D60', 'E1', 'E23', 'E34', 'E9', 'F13', 'F16', 'F18', 'F26', 'F31', 'F34', 'F35', 'F4', 'F40', 'F9', 'G1', 'G14', 'G17', 'G21', 'G25', 'G26', 'G29', 'G35', 'G36', 'G37', 'G39', 'G4', 'G40', 'G43', 'G5', 'G7', 'H6', 'I10', 'I9', 'L1', 'M1', 'M12', 'M16', 'M17', 'M18', 'M195', 'M20', 'M23', 'M29', 'M3', 'M40', 'M41', 'M42', 'M44', 'M8', 'N1', 'N14', 'N17', 'N18', 'N25', 'N29', 'N30', 'N31', 'N35', 'N36', 'N37', 'N41', 'N5', 'O1', 'O28', 'O31', 'O34', 'O4', 'O49', 'O50', 'P1', 'P6', 'P8', 'P98', 'Q1', 'Q3', 'Q7', 'R4', 'R8', 'S24', 'S28', 'S29', 'S34', 'T20', 'T21', 'T22', 'T28', 'T30', 'U1', 'U15', 'U28', 'U33', 'U7', 'V13', 'V24', 'V28', 'V30', 'V31', 'V4', 'V6', 'V7', 'W11', 'W18', 'W19', 'W22', 'W24', 'W25', 'X1', 'X8', 'Y2', 'Y3', 'Y5', 'Z1', 'Z11', 'Z7']\n",
            "134\n"
          ]
        }
      ]
    },
    {
      "cell_type": "code",
      "metadata": {
        "colab": {
          "base_uri": "https://localhost:8080/"
        },
        "id": "u_Ymj4Pf_KPR",
        "outputId": "91f905c3-e9ea-4183-eec2-473b91d8039b"
      },
      "source": [
        "from torchvision import datasets\n",
        "import torchvision.transforms as transforms\n",
        "\n",
        "data_transform = transforms.Compose([transforms.ToTensor(),\n",
        "                                        transforms.Grayscale(num_output_channels=1),\n",
        "                                        transforms.Resize((75, 75)),\n",
        "                                        transforms.Normalize((0.5,), (0.5,))\n",
        "                                        ])\n",
        "\n",
        "train_data = datasets.ImageFolder(train_dir, transform=data_transform)\n",
        "test_data = datasets.ImageFolder(test_dir, transform=data_transform)\n",
        "\n",
        "# print out some data stats\n",
        "print('Num training images: ', len(train_data))\n",
        "print('Num test images: ', len(test_data))"
      ],
      "execution_count": 8,
      "outputs": [
        {
          "output_type": "stream",
          "name": "stdout",
          "text": [
            "Num training images:  3141\n",
            "Num test images:  853\n"
          ]
        }
      ]
    },
    {
      "cell_type": "code",
      "metadata": {
        "id": "Kgg4a4QKQMgu"
      },
      "source": [
        "def get_class_distribution(dataset_obj, idx2class):\n",
        "    count_dict = {k:0 for k,v in dataset_obj.class_to_idx.items()}\n",
        "    \n",
        "    for element in dataset_obj:\n",
        "        y_lbl = element[1]\n",
        "        y_lbl = idx2class[y_lbl]\n",
        "        count_dict[y_lbl] += 1\n",
        "            \n",
        "    return count_dict"
      ],
      "execution_count": 9,
      "outputs": []
    },
    {
      "cell_type": "code",
      "metadata": {
        "id": "U_sPtltiPe1N"
      },
      "source": [
        "# define dataloader parameters\n",
        "batch_size = 10\n",
        "num_workers = 0\n",
        "\n",
        "# WeightedRandomSampler for train loader\n",
        "idx2class = {v: k for k, v in train_data.class_to_idx.items()}\n",
        "\n",
        "target_list = torch.tensor(train_data.targets)\n",
        "class_count = [i for i in get_class_distribution(train_data, idx2class).values()]\n",
        "class_weights = 1./torch.tensor(class_count, dtype=torch.float) \n",
        "class_weights_all = class_weights[target_list]\n",
        "weighted_sampler = torch.utils.data.WeightedRandomSampler(weights=class_weights_all, num_samples=len(class_weights_all), replacement=True)\n",
        "\n",
        "# prepare data loaders\n",
        "train_loader = torch.utils.data.DataLoader(train_data, batch_size=batch_size,\n",
        "                                            num_workers=num_workers, sampler=weighted_sampler, drop_last=True)\n",
        "\n",
        "# WeightedRandomSampler for test loader\n",
        "idx2class_test = {v: k for k, v in test_data.class_to_idx.items()}\n",
        "\n",
        "target_list_test = torch.tensor(test_data.targets)\n",
        "class_count_test = [i for i in get_class_distribution(test_data, idx2class_test).values()]\n",
        "class_weights_test = 1./torch.tensor(class_count_test, dtype=torch.float) \n",
        "class_weights_all_test = class_weights_test[target_list_test]\n",
        "weighted_sampler_test = torch.utils.data.WeightedRandomSampler(weights=class_weights_all_test, num_samples=len(class_weights_all_test), replacement=True)\n",
        "\n",
        "test_loader = torch.utils.data.DataLoader(test_data, batch_size=batch_size,\n",
        "                                          num_workers=num_workers, sampler=weighted_sampler_test)"
      ],
      "execution_count": 10,
      "outputs": []
    },
    {
      "cell_type": "markdown",
      "metadata": {
        "id": "2JgDCXgQ-mzl"
      },
      "source": [
        "### Visualize Training Data\n",
        "\n",
        "The first step in a classification task is to take a look at the data, make sure it is loaded in correctly, then make any initial observations about patterns in that data. \n",
        "> Each image is `28` pixels in width and height and `1` in depth. I'll sometimes write this as an image with dimensions `(28, 28, 1)`.\n",
        "\n",
        "If you recall, the depth is just the number of color channels in an image, so 1 is the depth for a grayscale image and 3 is the depth for an RGB image."
      ]
    },
    {
      "cell_type": "code",
      "metadata": {
        "colab": {
          "base_uri": "https://localhost:8080/",
          "height": 268
        },
        "id": "C375IJS6-mzm",
        "outputId": "b523414e-40a4-473c-b40b-0471f1b33d48"
      },
      "source": [
        "import matplotlib.pyplot as plt\n",
        "%matplotlib inline\n",
        "    \n",
        "# obtain one batch of training images\n",
        "dataiter = iter(train_loader)\n",
        "images, labels = dataiter.next()\n",
        "images = images.numpy()\n",
        "\n",
        "# plot the images in the batch, along with the corresponding labels\n",
        "fig = plt.figure(figsize=(25, 4))\n",
        "for idx in np.arange(batch_size):\n",
        "    ax = fig.add_subplot(2, batch_size/2, idx+1, xticks=[], yticks=[])\n",
        "    ax.imshow(np.squeeze(images[idx]), cmap='gray')\n",
        "    # print out the correct label for each image\n",
        "    # .item() gets the value contained in a Tensor\n",
        "    ax.set_title(str(labels[idx].item()))"
      ],
      "execution_count": 11,
      "outputs": [
        {
          "output_type": "display_data",
          "data": {
            "image/png": "[encoded data removed]",
            "text/plain": [
              "<Figure size 1800x288 with 10 Axes>"
            ]
          },
          "metadata": {}
        }
      ]
    },
    {
      "cell_type": "markdown",
      "metadata": {
        "id": "NiR5sYrI-mzm"
      },
      "source": [
        "---\n",
        "# Encoder\n",
        "\n",
        "The encoder is made of a series of layers that are responsible for taking in as input a 28 by 28 MNIST image and learning to encode it into a 16-dimensional output vector.\n",
        "\n",
        "<img src='assets/capsule_encoder.png' width=70%/>\n",
        "\n",
        "(Image from [the original Capsule Network paper](https://arxiv.org/pdf/1710.09829.pdf))\n",
        "\n",
        "## First Layer: Convolutional Layer\n",
        "\n",
        "The first layer in our encoder is a convolutional layer that will learn to extract features, like edges, in a given input image. \n",
        "> In the original paper, this first convolutional layer has a `depth=256`, and uses a `kernel_size=9`, `stride=1`, and `padding=0`. This also calls for a `ReLu` activation on the outputs.\n",
        "\n",
        "So, this convolutional layer will create a stack of 256 filtered images, given one input MNIST image. \n",
        "\n",
        "For a 28x28 input image, a 9x9 kernel will not be able to perfectly overlay on the edges pixels of an image and, without any padding, I'll actually lose a border of 4 pixels on *each* side of the image as I filter it. So, for an input of size `(batch_size, 28, 28, 1)`, I'll get an output, convolutional layer with the dimensions `(batch_size, 20, 20, 256)`. And `batch_size` is just the number of input images that are processed in a batch; defined above in the `DataLoader` as `20`."
      ]
    },
    {
      "cell_type": "code",
      "metadata": {
        "collapsed": true,
        "id": "-VHjgrDZ-mzn"
      },
      "source": [
        "import torch.nn as nn\n",
        "import torch.nn.functional as F"
      ],
      "execution_count": 12,
      "outputs": []
    },
    {
      "cell_type": "code",
      "metadata": {
        "collapsed": true,
        "id": "mYqBHS2m-mzo"
      },
      "source": [
        "class ConvLayer(nn.Module):\n",
        "    \n",
        "    def __init__(self, in_channels=1, out_channels=256): # 75 x 75 x 1\n",
        "        '''Constructs the ConvLayer with a specified input and output size.\n",
        "           param in_channels: input depth of an image, default value = 1\n",
        "           param out_channels: output depth of the convolutional layer, default value = 256\n",
        "           '''\n",
        "        super(ConvLayer, self).__init__()\n",
        "\n",
        "        # defining a convolutional layer of the specified size\n",
        "        self.conv = nn.Conv2d(in_channels, out_channels, \n",
        "                              kernel_size=9, stride=2, padding=0)\n",
        "\n",
        "    def forward(self, x):\n",
        "        '''Defines the feedforward behavior.\n",
        "           param x: the input to the layer; an input image\n",
        "           return: a relu-activated, convolutional layer\n",
        "           '''\n",
        "        # applying a ReLu activation to the outputs of the conv layer\n",
        "        features = F.relu(self.conv(x)) # will have dimensions (batch_size, 34, 34, 256)\n",
        "        return features\n",
        "    "
      ],
      "execution_count": 13,
      "outputs": []
    },
    {
      "cell_type": "markdown",
      "metadata": {
        "id": "6T1OWI52-mzp"
      },
      "source": [
        "## Second Layer: Primary Capsules\n",
        "\n",
        "This layer is composed of 8 \"primary\" capsules, so called because they are the first layer of capsules. They take the output of the previously defined, convolutional layer as input and produce a set of output vectors. Essentially, each capsule is responsible for producing weighted combinations of the features detected in the previous convolutional layer. \n",
        "\n",
        "As per the paper, to get the output of one capsule, I'll:\n",
        ">* Define a convolutional layer with a `depth=32`, `kernel_size=9`, `**stride=2**`, and `padding=0` and apply it to the features from the previous layer.\n",
        "* By applying a convolutional layer to features of size `(batch_size, 20, 20, 256)`, I will get a `(batch_size, 6, 6, 32)` Tensor as output for each of the 8 capsules. \n",
        "* I'll **reshape** this into an output vector using `.view(batch_size, 32*6*6, 1)`, for each of our 8 capsules and then stack those vectors.\n",
        "* Finally, I'll **squash** all of these vector; this is a nonlinear normalization step that forces the magnitude of the vectors to be in the range 0-1. \n",
        "\n",
        "#### A note on calculating dimensions\n",
        "\n",
        "You may be wondering how I got from 20x20 to 6x6.\n",
        "\n",
        "Again, I'm creating a border of 4 pixels on each side with a kernel_size of 9. So, I'll go from an x-y size of 20 - 4 on *all* sides to a size of 12. Then, with a `stride=2`, I'm efectively downsampling the previous inputs by a factor of 2, so I go from an x-y size of 12, divided by 2, to get an x-y size of 6. And you can read more about these precise output dimension calculations [at this Stanford cs231n page](http://cs231n.github.io/convolutional-networks/#conv) in the section on **spatial arrangement**.\n",
        "\n",
        "### Squashing\n",
        "\n",
        "> The magnitude of an output, capsule vector is a value between 0 and 1 that indicates the probability that a visual part (eyes, nose, etc.) exists and has been detected in an image. \n",
        "\n",
        "To get this probability value, I define a nonlinear function `squash` that calculates a certain capsule's normalized, vector output using the following equation. \n",
        "\n",
        "$$ v_j = \\frac{||\\ s_j^2\\ ||\\ s_j }{1 + ||\\ s_j^2\\ ||\\ s_j } $$\n",
        "\n",
        "$v_j$ is the value I want to calculate, the normalized vector output of a capsule $j$. And $s_j$ is that capsule's total input; a weighted sum over all the output vectors from the capsules in the layer *below* capsule $j$. For all but the primary capsule layer, you can think of the weighted inputs as the number of smaller *parts* that think they are part of a larger whole. The idea is that if you detect a nose and eyes in one layer, with some probability (the magnitude of a vector), this is evidence that a larger face exists in the next layer.\n",
        "\n",
        "> The `squash` function is a nonlinear function of the weighted inputs to a single capsule. It ensures that the magnitude of $v_j$ is a value between 0 and 1.\n",
        "\n",
        "#### ModuleList\n",
        "\n",
        "Below, I'm taking advantage of PyTorch's [nn.ModuleList](https://pytorch.org/docs/stable/nn.html#modulelist) container to create a list of convolutional layers that is as long as my number of passed in capsules, `num_capsules`."
      ]
    },
    {
      "cell_type": "code",
      "metadata": {
        "collapsed": true,
        "id": "435IPHIY-mzp"
      },
      "source": [
        "class PrimaryCaps(nn.Module):\n",
        "    \n",
        "    def __init__(self, num_capsules=8, in_channels=256, out_channels=32):\n",
        "        '''Constructs a list of convolutional layers to be used in \n",
        "           creating capsule output vectors.\n",
        "           param num_capsules: number of capsules to create\n",
        "           param in_channels: input depth of features, default value = 256\n",
        "           param out_channels: output depth of the convolutional layers, default value = 32\n",
        "           '''\n",
        "        super(PrimaryCaps, self).__init__()\n",
        "\n",
        "        # creating a list of convolutional layers for each capsule I want to create\n",
        "        # all capsules have a conv layer with the same parameters (batch_size, 34, 34, 256)\n",
        "        self.capsules = nn.ModuleList([\n",
        "            nn.Conv2d(in_channels=in_channels, out_channels=out_channels, \n",
        "                      kernel_size=8, stride=2, padding=0)\n",
        "            for _ in range(num_capsules)])\n",
        "    \n",
        "    def forward(self, x):\n",
        "        '''Defines the feedforward behavior.\n",
        "           param x: the input; features from a convolutional layer\n",
        "           return: a set of normalized, capsule output vectors\n",
        "           '''\n",
        "        # get batch size of inputs\n",
        "        batch_size = x.size(0)\n",
        "        # reshape convolutional layer outputs to be (batch_size, vector_dim=32*14*14, 1)\n",
        "        u = [capsule(x).view(batch_size, 32 * 14 * 14, 1) for capsule in self.capsules]\n",
        "        # stack up output vectors, u, one for each capsule\n",
        "        u = torch.cat(u, dim=-1)\n",
        "        # squashing the stack of vectors\n",
        "        u_squash = self.squash(u)\n",
        "        return u_squash\n",
        "    \n",
        "    def squash(self, input_tensor):\n",
        "        '''Squashes an input Tensor so it has a magnitude between 0-1.\n",
        "           param input_tensor: a stack of capsule inputs, s_j\n",
        "           return: a stack of normalized, capsule output vectors, v_j\n",
        "           '''\n",
        "        squared_norm = (input_tensor ** 2).sum(dim=-1, keepdim=True)\n",
        "        scale = squared_norm / (1 + squared_norm) # normalization coeff\n",
        "        output_tensor = scale * input_tensor / torch.sqrt(squared_norm)    \n",
        "        return output_tensor\n",
        "    "
      ],
      "execution_count": 14,
      "outputs": []
    },
    {
      "cell_type": "markdown",
      "metadata": {
        "id": "jU0iHHCf-mzq"
      },
      "source": [
        "## Third Layer: Digit Capsules\n",
        "\n",
        "This layer is composed of 10 \"digit\" capsules, one for each of our digit classes 0-9. Each capsule takes, as input, a batch of 1152-dimensional vectors produced by our 8 primary capsules, above. \n",
        "\n",
        "> This is the final layer of the encoder portion of the network, and each of these 10 capsules is responsible for producing a 16-dimensional output vector.\n",
        "\n",
        "In other words, this layer is mapping from 1152-dimensional, input vector space to 16-dimensional, output vector space. This is also where you'll see **dynamic routing** implemented."
      ]
    },
    {
      "cell_type": "markdown",
      "metadata": {
        "id": "OlUt4o-f-mzq"
      },
      "source": [
        "## Dynamic Routing\n",
        "\n",
        "Dynamic routing is a process for finding the *best* connections between the output of one layer of capsules and the inputs of the next layer of capsules. It allows capsules to communicate with each other and determine how data moves through them! \n",
        "> No matter what kind of input image a capsule network sees, dynamic routing ensures that the output of a *child* capsule in the `PrimaryCaps` layer will be sent to the most-relevant *parent* capsule in this `DigitCaps` layer.\n",
        "\n",
        "### Coupling Coefficients\n",
        "\n",
        "When a capsule network is initialized, the primary capsules are not sure which parents (digit capsules) their outputs should go to. In fact, each primary capsule starts out with a list of **possible parents** that starts out as *all* of the parent capsules in the next layer. \n",
        "\n",
        "> This possible relationship is represented by a value called the **coupling coefficient**, **c**, which is the probability that a certain capsule’s output should go to a parent capsule in the next layer. \n",
        "\n",
        "Examples of coupling coefficients, written on the connecting lines between a child and its possible parent nodes, are pictured below. A child node with two possible parents will start out with equal coupling coefficients for both: 0.5.\n",
        "\n",
        "<img src='assets/coupling_coeff.png' width=30%/>\n",
        "\n",
        "(Image from [my blog post on Capsule Nets](https://cezannec.github.io/Capsule_Networks/))\n",
        "\n",
        "The coupling coefficients across all possible parents can be pictured as a discrete probability distribution. Across all connections between one child capsule and all possible parent capsules, the coupling coefficients should sum to 1.\n",
        "\n",
        "\n",
        "### Routing by Agreement\n",
        "\n",
        "Dynamic routing is an iterative process that updates these coupling coefficients. The coupling coefficients $c_{ij}$ between capsule $i$ and all the capsules $j$ in the layer above it sum to 1 and are determined by a routing **softmax** function whose initial logits $b_{ij}$ are the log prior probabilities that capsule $i$ *should* be coupled to capsule $j$. There are as many $b_{ij}$ as there are possible connections between the output vector of a primary capsule (length 1152) and digit capsules (10).\n",
        "\n",
        "\n",
        "$$c_{ij} = \\frac{e^{\\ b_{ij}}}{\\sum_{k}\\ {e^{\\ b_{ik}}}} $$\n",
        "\n",
        "The update process, performed during network training, is as follows for a single capsule:\n",
        "\n",
        "> 1. Every child capsule will output some vector $u$, whose magnitude indicates a part's *existence* and whose orientation represents the generalized pose of the part.\n",
        "2. For each possible parent, a child capsule computes a prediction vector, $\\hat{u}$, which is a function of its output vector, $u$, times a weight matrix, $W$. $W$ represents a linear transformation in space—like some rotation and translation—$\\hat{u}$ can be thought of as a prediction about the position and orientation of a parent capsule's output vector.\n",
        "3. If the prediction vector, $\\hat{u}$, has a large **dot product** with the parent capsule output vector, $v$, then those vectors are said to **agree** and the coupling coefficient between *that* parent and the child capsule increases while the coupling coefficient between that child capsule and *all other* parents, decreases.\n",
        "4. This dot product between the parent output vector, $v$, and a prediction vector, $\\hat{u}$, is known as a formal measure of capsule **agreement**, $a$.\n",
        "5. This agreement then affects how informaton is weighted as it moved through the network.\n",
        "6. A new $b_{ij}$ is calculated as the *current* $b_{ij}$ plus $a$.\n",
        "7. New coupling coefficients $c_{ij}$ are calculated using the above softmax formula and the new $b_{ij}$.\n",
        "\n",
        "$$\\hat{u} = W u $$\n",
        "\n",
        "$$a = v \\cdot u $$\n",
        "\n",
        "$$b_{ij} = b_{ij} + a $$\n",
        "\n",
        "\n",
        "\n",
        "This is sometimes referred to as **top-down feedback**; feedback from a later layer of parent capsule outputs.\n",
        "\n",
        "**A typical training process may include *three* agreement iterations, in which $b_{ij}$ is updated (through steps 1-7), a total of three times to get to the final coupling coefficients that will be used to calculate final outputs, $v_j$.**\n",
        "\n",
        "> A high coupling coefficient, between a child and parent capsule, increases the contribution of the child to that parent, thus *further* aligning their two output vectors and making their agreement dot product even larger! This is called **routing by agreement**.\n",
        "\n",
        "I should note that this calculation changes how I calculate the total inputs to a digit capsule, $s_j$, when compared to the earlier, `PrimaryCaps` layer. In the `DigitCaps` case, $s_j$ is a sum of all the input vectors from the capsules in the layer *below*, $u$ times the weight matrix $W$, in other words $W u = \\hat{u}$, *also* multiplied by the coupling coefficients. The first layer of capsules sees only convolutional features as input and these features do not provide enough information for routing and using couping coefficients.\n",
        "\n",
        "$$ s_j = \\sum{c_{ij} \\ \\hat{u}}$$"
      ]
    },
    {
      "cell_type": "code",
      "metadata": {
        "id": "vqHSIegg-2L0"
      },
      "source": [
        "import torch\n",
        "import torch.nn.functional as F\n",
        "\n",
        "def softmax(input_tensor, dim=1):\n",
        "    # transpose input\n",
        "    transposed_input = input_tensor.transpose(dim, len(input_tensor.size()) - 1)\n",
        "    # calculate softmax\n",
        "    softmaxed_output = F.softmax(transposed_input.contiguous().view(-1, transposed_input.size(-1)), dim=-1)\n",
        "    # un-transpose result\n",
        "    return softmaxed_output.view(*transposed_input.size()).transpose(dim, len(input_tensor.size()) - 1)"
      ],
      "execution_count": 15,
      "outputs": []
    },
    {
      "cell_type": "code",
      "metadata": {
        "collapsed": true,
        "id": "EVTfBbIA-mzr"
      },
      "source": [
        "# dynamic routing\n",
        "def dynamic_routing(b_ij, u_hat, squash, routing_iterations=3):\n",
        "    '''Performs dynamic routing between two capsule layers.\n",
        "       param b_ij: initial log probabilities that capsule i should be coupled to capsule j\n",
        "       param u_hat: input, weighted capsule vectors, W u\n",
        "       param squash: given, normalizing squash function\n",
        "       param routing_iterations: number of times to update coupling coefficients\n",
        "       return: v_j, output capsule vectors\n",
        "       '''    \n",
        "    # update b_ij, c_ij for number of routing iterations\n",
        "    for iteration in range(routing_iterations):\n",
        "        # softmax calculation of coupling coefficients, c_ij\n",
        "        c_ij = softmax(b_ij, dim=2)\n",
        "\n",
        "        # calculating total capsule inputs, s_j = sum(c_ij*u_hat)\n",
        "        s_j = (c_ij * u_hat).sum(dim=2, keepdim=True)\n",
        "\n",
        "        # squashing to get a normalized vector output, v_j\n",
        "        v_j = squash(s_j)\n",
        "\n",
        "        # if not on the last iteration, calculate agreement and new b_ij\n",
        "        if iteration < routing_iterations - 1:\n",
        "            # agreement\n",
        "            a_ij = (u_hat * v_j).sum(dim=-1, keepdim=True)\n",
        "            \n",
        "            # new b_ij\n",
        "            b_ij = b_ij + a_ij\n",
        "    \n",
        "    return v_j # return latest v_j\n",
        "    "
      ],
      "execution_count": 16,
      "outputs": []
    },
    {
      "cell_type": "markdown",
      "metadata": {
        "id": "W1lWOuCY-mzr"
      },
      "source": [
        "## Digit Capsules\n",
        "\n",
        "Now that I've defined the dynamic routing process, I can complete the `DigitCaps` class.\n",
        "* This layer is composed of 10 \"digit\" capsules, one for each of our digit classes 0-9. \n",
        "* Each capsule takes, as input, a batch of 1152-dimensional vectors produced by our 8 primary capsules, above. \n",
        "* Each of these 10 capsules is responsible for producing a **16-dimensional** output vector.\n",
        "\n",
        "I suggest you train on GPU for a faster training time, and I'm checking for the availability of a GPU device, below."
      ]
    },
    {
      "cell_type": "code",
      "metadata": {
        "colab": {
          "base_uri": "https://localhost:8080/"
        },
        "id": "4_T4oAui-mzr",
        "outputId": "d2d870dd-4779-48d7-f3a8-b6a8185d9897"
      },
      "source": [
        "# it will also be relevant, in this model, to see if I can train on gpu\n",
        "TRAIN_ON_GPU = torch.cuda.is_available()\n",
        "\n",
        "if(TRAIN_ON_GPU):\n",
        "    print('Training on GPU!')\n",
        "else:\n",
        "    print('Only CPU available')\n",
        "    "
      ],
      "execution_count": 17,
      "outputs": [
        {
          "output_type": "stream",
          "name": "stdout",
          "text": [
            "Training on GPU!\n"
          ]
        }
      ]
    },
    {
      "cell_type": "code",
      "metadata": {
        "collapsed": true,
        "id": "StdBvB-2-mzs"
      },
      "source": [
        "class DigitCaps(nn.Module):\n",
        "    def __init__(self, num_capsules=len(classes), previous_layer_nodes=32*14*14, \n",
        "                 in_channels=8, out_channels=16):\n",
        "        '''Constructs an initial weight matrix, W, and sets class variables.\n",
        "           param num_capsules: number of capsules to create\n",
        "           param previous_layer_nodes: dimension of input capsule vector, default value = 6272\n",
        "           param in_channels: number of capsules in previous layer, default value = 8\n",
        "           param out_channels: dimensions of output capsule vector, default value = 16\n",
        "           '''\n",
        "        super(DigitCaps, self).__init__()\n",
        "\n",
        "        # setting class variables\n",
        "        self.num_capsules = num_capsules\n",
        "        self.previous_layer_nodes = previous_layer_nodes # vector input (dim=6272)\n",
        "        self.in_channels = in_channels # previous layer's number of capsules\n",
        "\n",
        "        # starting out with a randomly initialized weight matrix, W\n",
        "        # these will be the weights connecting the PrimaryCaps and DigitCaps layers\n",
        "        self.W = nn.Parameter(torch.randn(num_capsules, previous_layer_nodes, \n",
        "                                          in_channels, out_channels))\n",
        "\n",
        "    def forward(self, u):\n",
        "        '''Defines the feedforward behavior.\n",
        "           param u: the input; vectors from the previous PrimaryCaps layer\n",
        "           return: a set of normalized, capsule output vectors\n",
        "           '''\n",
        "        \n",
        "        # adding batch_size dims and stacking all u vectors\n",
        "        u = u[None, :, :, None, :]\n",
        "        # 4D weight matrix\n",
        "        W = self.W[:, None, :, :, :]\n",
        "\n",
        "        # calculating u_hat = W*u\n",
        "        u_hat = torch.matmul(u, W)\n",
        "\n",
        "        # getting the correct size of b_ij\n",
        "        # setting them all to 0, initially\n",
        "        b_ij = torch.zeros(*u_hat.size())\n",
        "        \n",
        "        # moving b_ij to GPU, if available\n",
        "        if TRAIN_ON_GPU:\n",
        "            b_ij = b_ij.cuda()\n",
        "\n",
        "        # update coupling coefficients and calculate v_j\n",
        "        v_j = dynamic_routing(b_ij, u_hat, self.squash, routing_iterations=3)\n",
        "\n",
        "        return v_j # return final vector outputs\n",
        "    \n",
        "    \n",
        "    def squash(self, input_tensor):\n",
        "        '''Squashes an input Tensor so it has a magnitude between 0-1.\n",
        "           param input_tensor: a stack of capsule inputs, s_j\n",
        "           return: a stack of normalized, capsule output vectors, v_j\n",
        "           '''\n",
        "        # same squash function as before\n",
        "        squared_norm = (input_tensor ** 2).sum(dim=-1, keepdim=True)\n",
        "        scale = squared_norm / (1 + squared_norm) # normalization coeff\n",
        "        output_tensor = scale * input_tensor / torch.sqrt(squared_norm)    \n",
        "        return output_tensor\n",
        "    "
      ],
      "execution_count": 18,
      "outputs": []
    },
    {
      "cell_type": "markdown",
      "metadata": {
        "id": "loTzBQIo-mzs"
      },
      "source": [
        "This completes the encoder portion of the model! Next, the decoder.\n",
        "\n",
        "---\n",
        "# Decoder \n",
        "\n",
        "The decoder sees as input the 16-dimensional vectors that are produced by the `DigitCaps` layer. In the `forward` function, the decoder identifies the \"correct\" capsule output vector; this vector is the vector with the largest vector magnitude of all ten digit capsule outputs (recall that vector magnitude correspond to a part's **existence** in an image). Then, the decoder upsamples that one vector, decoding it into a reconstructed image of a handwritten digit. \n",
        "\n",
        "> The decoder is learning a mapping from a capsule output vector to a 784-dim vector that can be reshaped into a 28x28 reconstructed image. \n",
        "\n",
        "<img src='assets/capsule_decoder.png' width=60% />\n",
        "\n",
        "(Image from [the original Capsule Network paper](https://arxiv.org/pdf/1710.09829.pdf))\n",
        "\n",
        "I want this reconstructed image and the original, input image to be as close as possible! So, when I train this network, I'll look at the difference between the input image and this decoder reconstruction; any difference (measured as Euclidean distance) will be recorded as the loss.\n",
        "\n",
        "#### Reconstruction Loss\n",
        "I'll discuss the network loss in more detail later. For now, know that the authors use this decoder-based, reconstruction loss to encourage the digit capsules to learn to encode information about the content of the original input image.\n",
        "\n",
        "## Linear Layers\n",
        "\n",
        "The decoder is made of three fully-connected, linear layers. These are simply defined with an input_size and output_size. The first layer sees the 10, 16-dimensional output vectors from the digit capsule layer and produces `hidden_dim=512` number of outputs. The next hidden layer just increase this depth by two, and the third and final linear layer produces an output of 784 values that can be reshaped into a 28x28 image!\n",
        "\n",
        "The hidden layers have ReLu activations applied and the final, output layer has a **sigmoid** activation function to ensure that the outputs are all values in a valid pixel range 0-1."
      ]
    },
    {
      "cell_type": "code",
      "metadata": {
        "collapsed": true,
        "id": "ZzBw0usQ-mzs"
      },
      "source": [
        "class Decoder(nn.Module):\n",
        "    def __init__(self, input_vector_length=16, input_capsules=len(classes), hidden_dim=512):\n",
        "        '''Constructs an series of linear layers + activations.\n",
        "           param input_vector_length: dimension of input capsule vector, default value = 16\n",
        "           param input_capsules: number of capsules in previous layer, default value = 10\n",
        "           param hidden_dim: dimensions of hidden layers, default value = 512\n",
        "           '''\n",
        "        super(Decoder, self).__init__()\n",
        "        \n",
        "        # calculate input_dim\n",
        "        input_dim = input_vector_length * input_capsules\n",
        "        \n",
        "        # define linear layers + activations\n",
        "        self.linear_layers = nn.Sequential(\n",
        "            nn.Linear(input_dim, hidden_dim), # first hidden layer\n",
        "            nn.ReLU(inplace=True),\n",
        "            nn.Linear(hidden_dim, hidden_dim*2), # second, twice as deep\n",
        "            nn.ReLU(inplace=True),\n",
        "            nn.Linear(hidden_dim*2, 75*75), # can be reshaped into 28*28 image\n",
        "            nn.Sigmoid() # sigmoid activation to get output pixel values in a range from 0-1\n",
        "            )\n",
        "        \n",
        "    def forward(self, x):\n",
        "        '''Defines the feedforward behavior.\n",
        "           param x: the input; vectors from the previous DigitCaps layer\n",
        "           return: two things, reconstructed images and the class scores, y\n",
        "           '''\n",
        "        classes = (x ** 2).sum(dim=-1) ** 0.5\n",
        "        classes = F.softmax(classes, dim=-1)\n",
        "        \n",
        "        # find the capsule with the maximum vector length\n",
        "        # here, vector length indicates the probability of a class' existence\n",
        "        _, max_length_indices = classes.max(dim=1)\n",
        "        \n",
        "        # create a sparse class matrix\n",
        "        sparse_matrix = torch.eye(134) # 134 is the number of classes\n",
        "        if TRAIN_ON_GPU:\n",
        "            sparse_matrix = sparse_matrix.cuda()\n",
        "        # get the class scores from the \"correct\" capsule\n",
        "        y = sparse_matrix.index_select(dim=0, index=max_length_indices.data)\n",
        "\n",
        "        # create reconstructed pixels\n",
        "        x = x * y[:, :, None]\n",
        "        # flatten image into a vector shape (batch_size, vector_dim)\n",
        "        flattened_x = x.contiguous().view(x.size(0), -1)\n",
        "        # create reconstructed image vectors\n",
        "        reconstructions = self.linear_layers(flattened_x)\n",
        "        \n",
        "        # return reconstructions and the class scores, y\n",
        "        return reconstructions, y"
      ],
      "execution_count": 19,
      "outputs": []
    },
    {
      "cell_type": "markdown",
      "metadata": {
        "id": "sdYvBzFi-mzt"
      },
      "source": [
        "## Put it All Together \n",
        "\n",
        "Finally, I'll use *all* the layers I defined above to create a complete Capsule Network! Recall that the order of these layers is as follows:\n",
        "1. ConvLayer\n",
        "2. PrimaryCaps\n",
        "3. DigitCaps\n",
        "4. Decoder\n",
        "\n",
        "And I specified all the default construction parameters.\n",
        "\n",
        "<img src='assets/complete_caps_net.png' width=80%/>\n",
        "\n",
        "(Image from [the original Capsule Network paper](https://arxiv.org/pdf/1710.09829.pdf))"
      ]
    },
    {
      "cell_type": "code",
      "metadata": {
        "collapsed": true,
        "id": "MCWQ38Zm-mzt"
      },
      "source": [
        "class CapsuleNetwork(nn.Module):\n",
        "    def __init__(self):\n",
        "        '''Constructs a complete Capsule Network.'''\n",
        "        super(CapsuleNetwork, self).__init__()\n",
        "        self.conv_layer = ConvLayer()\n",
        "        self.primary_capsules = PrimaryCaps()\n",
        "        self.digit_capsules = DigitCaps()\n",
        "        self.decoder = Decoder()\n",
        "                \n",
        "    def forward(self, images):\n",
        "        '''Defines the feedforward behavior.\n",
        "           param images: the original MNIST image input data\n",
        "           return: output of DigitCaps layer, reconstructed images, class scores\n",
        "           '''\n",
        "        primary_caps_output = self.primary_capsules(self.conv_layer(images))\n",
        "        caps_output = self.digit_capsules(primary_caps_output).squeeze().transpose(0,1)\n",
        "        reconstructions, y = self.decoder(caps_output)\n",
        "        return caps_output, reconstructions, y"
      ],
      "execution_count": 20,
      "outputs": []
    },
    {
      "cell_type": "markdown",
      "metadata": {
        "id": "flGIObPQ-mzt"
      },
      "source": [
        "### Create the Complete Model\n",
        "\n",
        "I'm printing it out to see that I've defined a model with convolutional layers, primary and digit capsule layers, and a decoder."
      ]
    },
    {
      "cell_type": "code",
      "metadata": {
        "colab": {
          "base_uri": "https://localhost:8080/"
        },
        "id": "QM4u1u2X-mzt",
        "outputId": "8729122a-9c27-40e7-ab29-ed994524dcb7"
      },
      "source": [
        "# instantiate and print net\n",
        "capsule_net = CapsuleNetwork()\n",
        "\n",
        "print(capsule_net)\n",
        "\n",
        "# move model to GPU, if available \n",
        "if TRAIN_ON_GPU:\n",
        "    capsule_net = capsule_net.cuda()"
      ],
      "execution_count": 21,
      "outputs": [
        {
          "output_type": "stream",
          "name": "stdout",
          "text": [
            "CapsuleNetwork(\n",
            "  (conv_layer): ConvLayer(\n",
            "    (conv): Conv2d(1, 256, kernel_size=(9, 9), stride=(2, 2))\n",
            "  )\n",
            "  (primary_capsules): PrimaryCaps(\n",
            "    (capsules): ModuleList(\n",
            "      (0): Conv2d(256, 32, kernel_size=(8, 8), stride=(2, 2))\n",
            "      (1): Conv2d(256, 32, kernel_size=(8, 8), stride=(2, 2))\n",
            "      (2): Conv2d(256, 32, kernel_size=(8, 8), stride=(2, 2))\n",
            "      (3): Conv2d(256, 32, kernel_size=(8, 8), stride=(2, 2))\n",
            "      (4): Conv2d(256, 32, kernel_size=(8, 8), stride=(2, 2))\n",
            "      (5): Conv2d(256, 32, kernel_size=(8, 8), stride=(2, 2))\n",
            "      (6): Conv2d(256, 32, kernel_size=(8, 8), stride=(2, 2))\n",
            "      (7): Conv2d(256, 32, kernel_size=(8, 8), stride=(2, 2))\n",
            "    )\n",
            "  )\n",
            "  (digit_capsules): DigitCaps()\n",
            "  (decoder): Decoder(\n",
            "    (linear_layers): Sequential(\n",
            "      (0): Linear(in_features=2144, out_features=512, bias=True)\n",
            "      (1): ReLU(inplace=True)\n",
            "      (2): Linear(in_features=512, out_features=1024, bias=True)\n",
            "      (3): ReLU(inplace=True)\n",
            "      (4): Linear(in_features=1024, out_features=5625, bias=True)\n",
            "      (5): Sigmoid()\n",
            "    )\n",
            "  )\n",
            ")\n"
          ]
        }
      ]
    },
    {
      "cell_type": "markdown",
      "metadata": {
        "id": "uzpHoFZ_-mzt"
      },
      "source": [
        "## Custom Loss\n",
        "\n",
        "To prepare for training the model, I'll need to define a custom loss. The loss for a capsule network is a weighted combination of **two** losses:\n",
        "1. The **margin loss** that looks at the outputs of *all* the digit capsules and computes a loss term that is dependent on whether or not the selected \"correct\" digit capsule matches the correct class label.\n",
        "2. The **reconstruction loss** that looks at the original input images and how they differ from the decoder's produced, reconstructed images. \n",
        "\n",
        "The reconstruction loss is a simple mean squared error loss, which I will calculate as `nn.MSELoss`. And I explained that this acts as a kind of [regularization method](https://en.wikipedia.org/wiki/Regularization_(mathematics)), above. By regularization, I mean that it forces the 16 dimensions (in the output vectors from the `DigitCaps` layer) to correspond to meaningful content information; information that can then be used to *reconstruct* the original image. It is important to note that the authors of the original Capsule Net paper weighted this loss with a coefficient of `0.0005`, so that it wouldn't overpower the margin loss, and that is reflected in the code below.\n",
        "\n",
        "So, I really want to focus on describing this new type of loss, the margin loss.\n",
        "\n",
        "### Margin Loss\n",
        "\n",
        "Margin loss is a classification loss that is based on the length of the output vectors coming from the `DigitCaps` layer. Recall that the magnitude of a capsule output vector is a measure of a part's **existence**. So, for any input image of a handwritten digit, we want *one* particular digit capsule to output a long vector, indicating confidence in one particular digit class! This capsule is sometimes referred to as the \"correct\" capsule.\n",
        "\n",
        "Margin loss formalizes this idea; it says that if a certain digit (in this case a digit 0-9) is present in an image then the squared length of the corresponding output vector of that digit capsule must not be less than 0.9. So, if I have an input image of a 0, then the \"correct,\" zero-detecting, digit capsule should output a vector of magnitude 0.9 or greater! For all the other digits (1-9, in this example) the corresponding digit capsule output vectors should have a magnitude that is 0.1 or less.\n",
        "\n",
        "Suppose $x$ is the the output vector of the digit capsule for class $c$ (0-9). \n",
        "\n",
        "Now, if an image of class $c$ is present then the magnitude of $x$ should be equal to or greater than 0.9. The magnitude is the square root of a squared value, and I'll call that magnitude $v_c = \\sqrt{x^2}$, so $v_c >=0.9$. Similarly, if the class $c$ digit is *not* present in an image, then $v_c <=0.1$.  These values will be summed together to calculate the total, margin loss. Which you can see in the following formula.\n",
        "\n",
        "$$L_c = T_c(\\max[0, 0.9-v_c]) + \\lambda (1-T_c)(\\max[0, v_c-0.1])$$\n",
        "\n",
        "Where $T_c$ is a label 0 or 1 indicating whether a digit capsule vector is \"correct\" (1) or not (0). And $\\lambda$ is a value we choose for training; the researchers chose a value of `0.5`. These choices are reflected in the code below, *and* I'm using a ReLu function to get the maximum of 0 and another value.\n",
        "\n",
        "\n",
        "This loss will encourage our model to make the index of the \"correct\" capsule match the true class label of a given training image.\n"
      ]
    },
    {
      "cell_type": "code",
      "metadata": {
        "collapsed": true,
        "id": "0CN4Vy4H-mzu"
      },
      "source": [
        "class CapsuleLoss(nn.Module):\n",
        "    \n",
        "    def __init__(self):\n",
        "        '''Constructs a CapsuleLoss module.'''\n",
        "        super(CapsuleLoss, self).__init__()\n",
        "        self.reconstruction_loss = nn.MSELoss(reduction='sum') # cumulative loss, equiv to size_average=False\n",
        "\n",
        "    def forward(self, x, labels, images, reconstructions):\n",
        "        '''Defines how the loss compares inputs.\n",
        "           param x: digit capsule outputs\n",
        "           param labels: \n",
        "           param images: the original MNIST image input data\n",
        "           param reconstructions: reconstructed MNIST image data\n",
        "           return: weighted margin and reconstruction loss, averaged over a batch\n",
        "           '''\n",
        "        batch_size = x.size(0)\n",
        "\n",
        "        ##  calculate the margin loss   ##\n",
        "        \n",
        "        # get magnitude of digit capsule vectors, v_c\n",
        "        v_c = torch.sqrt((x**2).sum(dim=2, keepdim=True))\n",
        "\n",
        "        # calculate \"correct\" and incorrect loss\n",
        "        left = F.relu(0.9 - v_c).view(batch_size, -1)\n",
        "        right = F.relu(v_c - 0.1).view(batch_size, -1)\n",
        "\n",
        "        # sum the losses, with a lambda = 0.5\n",
        "        margin_loss = labels * left + 0.5 * (1. - labels) * right\n",
        "        margin_loss = margin_loss.sum()\n",
        "\n",
        "        ##  calculate the reconstruction loss   ##\n",
        "        images = images.view(reconstructions.size()[0], -1)\n",
        "        reconstruction_loss = self.reconstruction_loss(reconstructions, images)\n",
        "\n",
        "        # return a weighted, summed loss, averaged over a batch size\n",
        "        return (margin_loss + 0.0005 * reconstruction_loss) / images.size(0)\n"
      ],
      "execution_count": 22,
      "outputs": []
    },
    {
      "cell_type": "markdown",
      "metadata": {
        "collapsed": true,
        "id": "o62bAvYF-mzu"
      },
      "source": [
        "### Specify Loss Function and [Optimizer](http://pytorch.org/docs/stable/optim.html)\n",
        "\n",
        "I'm using the custom loss I defined above, and the paper uses an Adam optimizer."
      ]
    },
    {
      "cell_type": "code",
      "metadata": {
        "collapsed": true,
        "id": "9d-9CRd2-mzu"
      },
      "source": [
        "import torch.optim as optim\n",
        "\n",
        "# custom loss\n",
        "criterion = CapsuleLoss()\n",
        "\n",
        "# Adam optimizer with default params\n",
        "optimizer = optim.Adam(capsule_net.parameters())"
      ],
      "execution_count": 23,
      "outputs": []
    },
    {
      "cell_type": "code",
      "metadata": {
        "id": "3c4t-TD9gmts"
      },
      "source": [
        "# Exponential Decay to strengthen learning\n",
        "decayRate = 0.999\n",
        "my_lr_scheduler = torch.optim.lr_scheduler.ExponentialLR(optimizer=optimizer, gamma=decayRate)"
      ],
      "execution_count": 24,
      "outputs": []
    },
    {
      "cell_type": "markdown",
      "metadata": {
        "collapsed": true,
        "id": "K5R2CAv7-mzu"
      },
      "source": [
        "---\n",
        "# Train the Network\n",
        "\n",
        "The steps for training/learning from a batch of data are described in the comments below:\n",
        "1. Clear the gradients of all optimized variables\n",
        "2. Forward pass: compute predicted outputs by passing inputs to the model\n",
        "3. Calculate the loss\n",
        "4. Backward pass: compute gradient of the loss with respect to model parameters\n",
        "5. Perform a single optimization step (parameter update)\n",
        "6. Update average training loss\n",
        "\n",
        "The following loop trains for some number of epochs and prints out the training loss intermittently; take a look at how the values for training loss decrease over time."
      ]
    },
    {
      "cell_type": "code",
      "metadata": {
        "collapsed": true,
        "id": "g8cxVLIk-mzu"
      },
      "source": [
        "def train(capsule_net, criterion, optimizer, \n",
        "          n_epochs, print_every=300):\n",
        "    '''Trains a capsule network and prints out training batch loss statistics.\n",
        "       Saves model parameters if *validation* loss has decreased.\n",
        "       param capsule_net: trained capsule network\n",
        "       param criterion: capsule loss function\n",
        "       param optimizer: optimizer for updating network weights\n",
        "       param n_epochs: number of epochs to train for\n",
        "       param print_every: batches to print and save training loss, default = 100\n",
        "       return: list of recorded training losses\n",
        "       '''\n",
        "\n",
        "    # track training loss over time\n",
        "    losses = []\n",
        "\n",
        "    # one epoch = one pass over all training data \n",
        "    for epoch in range(1, n_epochs+1):\n",
        "\n",
        "        # initialize training loss\n",
        "        train_loss = 0.0\n",
        "        \n",
        "        capsule_net.train() # set to train mode\n",
        "    \n",
        "        # get batches of training image data and targets\n",
        "        for batch_i, (images, target) in enumerate(train_loader):\n",
        "            # reshape and get target class\n",
        "            target = torch.eye(len(classes)).index_select(dim=0, index=target)\n",
        "\n",
        "            if TRAIN_ON_GPU:\n",
        "                images, target = images.cuda(), target.cuda()\n",
        "\n",
        "            # zero out gradients\n",
        "            optimizer.zero_grad()\n",
        "            # get model outputs\n",
        "            caps_output, reconstructions, y = capsule_net(images)\n",
        "            # calculate loss\n",
        "            loss = criterion(caps_output, target, images, reconstructions)\n",
        "            # perform backpropagation and optimization\n",
        "            loss.backward()\n",
        "            optimizer.step()\n",
        "\n",
        "            train_loss += loss.item() # accumulated training loss\n",
        "            \n",
        "            # print and record training stats\n",
        "            if batch_i % 20 == 19:\n",
        "                avg_train_loss = train_loss/print_every\n",
        "                losses.append(avg_train_loss)\n",
        "                print('Epoch: {} \\tTraining Loss: {:.8f}'.format(epoch, avg_train_loss))\n",
        "                train_loss = 0 # reset accumulated training loss\n",
        "        \n",
        "    return losses\n",
        "    "
      ],
      "execution_count": 25,
      "outputs": []
    },
    {
      "cell_type": "code",
      "metadata": {
        "id": "boHHARkB-mzu",
        "colab": {
          "base_uri": "https://localhost:8080/"
        },
        "outputId": "32ae7172-b295-4c04-cdfe-f8eb7362ab5f"
      },
      "source": [
        "# training for 5 epochs\n",
        "n_epochs = 30\n",
        "losses = train(capsule_net, criterion, optimizer, n_epochs=n_epochs)"
      ],
      "execution_count": 26,
      "outputs": [
        {
          "output_type": "stream",
          "name": "stdout",
          "text": [
            "Epoch: 1 \tTraining Loss: 0.07099970\n",
            "Epoch: 1 \tTraining Loss: 0.06874808\n",
            "Epoch: 1 \tTraining Loss: 0.06763118\n",
            "Epoch: 1 \tTraining Loss: 0.06567139\n",
            "Epoch: 1 \tTraining Loss: 0.06269944\n",
            "Epoch: 1 \tTraining Loss: 0.06127206\n",
            "Epoch: 1 \tTraining Loss: 0.06058908\n",
            "Epoch: 1 \tTraining Loss: 0.05750792\n",
            "Epoch: 1 \tTraining Loss: 0.05773427\n",
            "Epoch: 1 \tTraining Loss: 0.05580330\n",
            "Epoch: 1 \tTraining Loss: 0.05343975\n",
            "Epoch: 1 \tTraining Loss: 0.05260864\n",
            "Epoch: 1 \tTraining Loss: 0.05282943\n",
            "Epoch: 1 \tTraining Loss: 0.04901766\n",
            "Epoch: 1 \tTraining Loss: 0.04757165\n",
            "Epoch: 2 \tTraining Loss: 0.04639664\n",
            "Epoch: 2 \tTraining Loss: 0.04416458\n",
            "Epoch: 2 \tTraining Loss: 0.04180981\n",
            "Epoch: 2 \tTraining Loss: 0.04096682\n",
            "Epoch: 2 \tTraining Loss: 0.03981143\n",
            "Epoch: 2 \tTraining Loss: 0.03917455\n",
            "Epoch: 2 \tTraining Loss: 0.03636505\n",
            "Epoch: 2 \tTraining Loss: 0.03643565\n",
            "Epoch: 2 \tTraining Loss: 0.03763037\n",
            "Epoch: 2 \tTraining Loss: 0.03532412\n",
            "Epoch: 2 \tTraining Loss: 0.03354374\n",
            "Epoch: 2 \tTraining Loss: 0.03569395\n",
            "Epoch: 2 \tTraining Loss: 0.03427705\n",
            "Epoch: 2 \tTraining Loss: 0.03302606\n",
            "Epoch: 2 \tTraining Loss: 0.03172504\n",
            "Epoch: 3 \tTraining Loss: 0.03044028\n",
            "Epoch: 3 \tTraining Loss: 0.03085195\n",
            "Epoch: 3 \tTraining Loss: 0.02988881\n",
            "Epoch: 3 \tTraining Loss: 0.02312736\n",
            "Epoch: 3 \tTraining Loss: 0.02449997\n",
            "Epoch: 3 \tTraining Loss: 0.02524548\n",
            "Epoch: 3 \tTraining Loss: 0.02494271\n",
            "Epoch: 3 \tTraining Loss: 0.02420999\n",
            "Epoch: 3 \tTraining Loss: 0.02430677\n",
            "Epoch: 3 \tTraining Loss: 0.02490253\n",
            "Epoch: 3 \tTraining Loss: 0.02246301\n",
            "Epoch: 3 \tTraining Loss: 0.02067643\n",
            "Epoch: 3 \tTraining Loss: 0.01904232\n",
            "Epoch: 3 \tTraining Loss: 0.02137637\n",
            "Epoch: 3 \tTraining Loss: 0.02194958\n",
            "Epoch: 4 \tTraining Loss: 0.01964432\n",
            "Epoch: 4 \tTraining Loss: 0.02105290\n",
            "Epoch: 4 \tTraining Loss: 0.02000679\n",
            "Epoch: 4 \tTraining Loss: 0.01731075\n",
            "Epoch: 4 \tTraining Loss: 0.01795010\n",
            "Epoch: 4 \tTraining Loss: 0.01832702\n",
            "Epoch: 4 \tTraining Loss: 0.01854307\n",
            "Epoch: 4 \tTraining Loss: 0.01795248\n",
            "Epoch: 4 \tTraining Loss: 0.01738815\n",
            "Epoch: 4 \tTraining Loss: 0.01508804\n",
            "Epoch: 4 \tTraining Loss: 0.01575156\n",
            "Epoch: 4 \tTraining Loss: 0.01407708\n",
            "Epoch: 4 \tTraining Loss: 0.01570536\n",
            "Epoch: 4 \tTraining Loss: 0.01542463\n",
            "Epoch: 4 \tTraining Loss: 0.01502728\n",
            "Epoch: 5 \tTraining Loss: 0.01350056\n",
            "Epoch: 5 \tTraining Loss: 0.01499932\n",
            "Epoch: 5 \tTraining Loss: 0.01528087\n",
            "Epoch: 5 \tTraining Loss: 0.01250254\n",
            "Epoch: 5 \tTraining Loss: 0.01677326\n",
            "Epoch: 5 \tTraining Loss: 0.01379535\n",
            "Epoch: 5 \tTraining Loss: 0.01244519\n",
            "Epoch: 5 \tTraining Loss: 0.01138723\n",
            "Epoch: 5 \tTraining Loss: 0.01461239\n",
            "Epoch: 5 \tTraining Loss: 0.01393684\n",
            "Epoch: 5 \tTraining Loss: 0.01317901\n",
            "Epoch: 5 \tTraining Loss: 0.01074127\n",
            "Epoch: 5 \tTraining Loss: 0.01292258\n",
            "Epoch: 5 \tTraining Loss: 0.01177349\n",
            "Epoch: 5 \tTraining Loss: 0.01173175\n",
            "Epoch: 6 \tTraining Loss: 0.01284160\n",
            "Epoch: 6 \tTraining Loss: 0.01107964\n",
            "Epoch: 6 \tTraining Loss: 0.01247607\n",
            "Epoch: 6 \tTraining Loss: 0.01070005\n",
            "Epoch: 6 \tTraining Loss: 0.01297239\n",
            "Epoch: 6 \tTraining Loss: 0.01090166\n",
            "Epoch: 6 \tTraining Loss: 0.01109483\n",
            "Epoch: 6 \tTraining Loss: 0.00956974\n",
            "Epoch: 6 \tTraining Loss: 0.01106030\n",
            "Epoch: 6 \tTraining Loss: 0.01238972\n",
            "Epoch: 6 \tTraining Loss: 0.01044035\n",
            "Epoch: 6 \tTraining Loss: 0.00918616\n",
            "Epoch: 6 \tTraining Loss: 0.00921840\n",
            "Epoch: 6 \tTraining Loss: 0.00965816\n",
            "Epoch: 6 \tTraining Loss: 0.01320274\n",
            "Epoch: 7 \tTraining Loss: 0.00902488\n",
            "Epoch: 7 \tTraining Loss: 0.01154866\n",
            "Epoch: 7 \tTraining Loss: 0.00910415\n",
            "Epoch: 7 \tTraining Loss: 0.01095092\n",
            "Epoch: 7 \tTraining Loss: 0.00955195\n",
            "Epoch: 7 \tTraining Loss: 0.00974297\n",
            "Epoch: 7 \tTraining Loss: 0.01015582\n",
            "Epoch: 7 \tTraining Loss: 0.00904023\n",
            "Epoch: 7 \tTraining Loss: 0.00948421\n",
            "Epoch: 7 \tTraining Loss: 0.00675622\n",
            "Epoch: 7 \tTraining Loss: 0.00762852\n",
            "Epoch: 7 \tTraining Loss: 0.00803137\n",
            "Epoch: 7 \tTraining Loss: 0.00767077\n",
            "Epoch: 7 \tTraining Loss: 0.00848269\n",
            "Epoch: 7 \tTraining Loss: 0.00795186\n",
            "Epoch: 8 \tTraining Loss: 0.00851891\n",
            "Epoch: 8 \tTraining Loss: 0.00744010\n",
            "Epoch: 8 \tTraining Loss: 0.00699091\n",
            "Epoch: 8 \tTraining Loss: 0.00782422\n",
            "Epoch: 8 \tTraining Loss: 0.00740809\n",
            "Epoch: 8 \tTraining Loss: 0.00854918\n",
            "Epoch: 8 \tTraining Loss: 0.00948579\n",
            "Epoch: 8 \tTraining Loss: 0.00824337\n",
            "Epoch: 8 \tTraining Loss: 0.00773099\n",
            "Epoch: 8 \tTraining Loss: 0.00772757\n",
            "Epoch: 8 \tTraining Loss: 0.00711048\n",
            "Epoch: 8 \tTraining Loss: 0.00763367\n",
            "Epoch: 8 \tTraining Loss: 0.00812191\n",
            "Epoch: 8 \tTraining Loss: 0.00779225\n",
            "Epoch: 8 \tTraining Loss: 0.00763595\n",
            "Epoch: 9 \tTraining Loss: 0.00738837\n",
            "Epoch: 9 \tTraining Loss: 0.00775128\n",
            "Epoch: 9 \tTraining Loss: 0.00770731\n",
            "Epoch: 9 \tTraining Loss: 0.00722631\n",
            "Epoch: 9 \tTraining Loss: 0.00652992\n",
            "Epoch: 9 \tTraining Loss: 0.00705721\n",
            "Epoch: 9 \tTraining Loss: 0.00724601\n",
            "Epoch: 9 \tTraining Loss: 0.00695181\n",
            "Epoch: 9 \tTraining Loss: 0.00741900\n",
            "Epoch: 9 \tTraining Loss: 0.00755013\n",
            "Epoch: 9 \tTraining Loss: 0.00610861\n",
            "Epoch: 9 \tTraining Loss: 0.00735886\n",
            "Epoch: 9 \tTraining Loss: 0.00743389\n",
            "Epoch: 9 \tTraining Loss: 0.00702831\n",
            "Epoch: 9 \tTraining Loss: 0.00741535\n",
            "Epoch: 10 \tTraining Loss: 0.00712288\n",
            "Epoch: 10 \tTraining Loss: 0.00719574\n",
            "Epoch: 10 \tTraining Loss: 0.00744589\n",
            "Epoch: 10 \tTraining Loss: 0.00644033\n",
            "Epoch: 10 \tTraining Loss: 0.00715973\n",
            "Epoch: 10 \tTraining Loss: 0.00648065\n",
            "Epoch: 10 \tTraining Loss: 0.00616675\n",
            "Epoch: 10 \tTraining Loss: 0.00716623\n",
            "Epoch: 10 \tTraining Loss: 0.00623359\n",
            "Epoch: 10 \tTraining Loss: 0.00638620\n",
            "Epoch: 10 \tTraining Loss: 0.00616390\n",
            "Epoch: 10 \tTraining Loss: 0.00578306\n",
            "Epoch: 10 \tTraining Loss: 0.00782206\n",
            "Epoch: 10 \tTraining Loss: 0.00657725\n",
            "Epoch: 10 \tTraining Loss: 0.00653604\n",
            "Epoch: 11 \tTraining Loss: 0.00636167\n",
            "Epoch: 11 \tTraining Loss: 0.00595950\n",
            "Epoch: 11 \tTraining Loss: 0.00639607\n",
            "Epoch: 11 \tTraining Loss: 0.00608307\n",
            "Epoch: 11 \tTraining Loss: 0.00617909\n",
            "Epoch: 11 \tTraining Loss: 0.00601769\n",
            "Epoch: 11 \tTraining Loss: 0.00752772\n",
            "Epoch: 11 \tTraining Loss: 0.00620324\n",
            "Epoch: 11 \tTraining Loss: 0.00637434\n",
            "Epoch: 11 \tTraining Loss: 0.00619136\n",
            "Epoch: 11 \tTraining Loss: 0.00615002\n",
            "Epoch: 11 \tTraining Loss: 0.00618283\n",
            "Epoch: 11 \tTraining Loss: 0.00546256\n",
            "Epoch: 11 \tTraining Loss: 0.00673091\n",
            "Epoch: 11 \tTraining Loss: 0.00632618\n",
            "Epoch: 12 \tTraining Loss: 0.00598303\n",
            "Epoch: 12 \tTraining Loss: 0.00654411\n",
            "Epoch: 12 \tTraining Loss: 0.00615782\n",
            "Epoch: 12 \tTraining Loss: 0.00570357\n",
            "Epoch: 12 \tTraining Loss: 0.00533426\n",
            "Epoch: 12 \tTraining Loss: 0.00567321\n",
            "Epoch: 12 \tTraining Loss: 0.00668097\n",
            "Epoch: 12 \tTraining Loss: 0.00577244\n",
            "Epoch: 12 \tTraining Loss: 0.00556961\n",
            "Epoch: 12 \tTraining Loss: 0.00570103\n",
            "Epoch: 12 \tTraining Loss: 0.00570237\n",
            "Epoch: 12 \tTraining Loss: 0.00559189\n",
            "Epoch: 12 \tTraining Loss: 0.00579963\n",
            "Epoch: 12 \tTraining Loss: 0.00623815\n",
            "Epoch: 12 \tTraining Loss: 0.00551462\n",
            "Epoch: 13 \tTraining Loss: 0.00584626\n",
            "Epoch: 13 \tTraining Loss: 0.00604880\n",
            "Epoch: 13 \tTraining Loss: 0.00543989\n",
            "Epoch: 13 \tTraining Loss: 0.00583528\n",
            "Epoch: 13 \tTraining Loss: 0.00531764\n",
            "Epoch: 13 \tTraining Loss: 0.00557044\n",
            "Epoch: 13 \tTraining Loss: 0.00542830\n",
            "Epoch: 13 \tTraining Loss: 0.00585305\n",
            "Epoch: 13 \tTraining Loss: 0.00743308\n",
            "Epoch: 13 \tTraining Loss: 0.00594567\n",
            "Epoch: 13 \tTraining Loss: 0.00607868\n",
            "Epoch: 13 \tTraining Loss: 0.00566661\n",
            "Epoch: 13 \tTraining Loss: 0.00504516\n",
            "Epoch: 13 \tTraining Loss: 0.00498896\n",
            "Epoch: 13 \tTraining Loss: 0.00567517\n",
            "Epoch: 14 \tTraining Loss: 0.00499827\n",
            "Epoch: 14 \tTraining Loss: 0.00471165\n",
            "Epoch: 14 \tTraining Loss: 0.00556416\n",
            "Epoch: 14 \tTraining Loss: 0.00501614\n",
            "Epoch: 14 \tTraining Loss: 0.00499414\n",
            "Epoch: 14 \tTraining Loss: 0.00453776\n",
            "Epoch: 14 \tTraining Loss: 0.00532888\n",
            "Epoch: 14 \tTraining Loss: 0.00494990\n",
            "Epoch: 14 \tTraining Loss: 0.00477475\n",
            "Epoch: 14 \tTraining Loss: 0.00546180\n",
            "Epoch: 14 \tTraining Loss: 0.00509977\n",
            "Epoch: 14 \tTraining Loss: 0.00576848\n",
            "Epoch: 14 \tTraining Loss: 0.00560581\n",
            "Epoch: 14 \tTraining Loss: 0.00564131\n",
            "Epoch: 14 \tTraining Loss: 0.00501850\n",
            "Epoch: 15 \tTraining Loss: 0.00546328\n",
            "Epoch: 15 \tTraining Loss: 0.00530407\n",
            "Epoch: 15 \tTraining Loss: 0.00536982\n",
            "Epoch: 15 \tTraining Loss: 0.00542007\n",
            "Epoch: 15 \tTraining Loss: 0.00499321\n",
            "Epoch: 15 \tTraining Loss: 0.00589677\n",
            "Epoch: 15 \tTraining Loss: 0.00512468\n",
            "Epoch: 15 \tTraining Loss: 0.00457276\n",
            "Epoch: 15 \tTraining Loss: 0.00536157\n",
            "Epoch: 15 \tTraining Loss: 0.00579892\n",
            "Epoch: 15 \tTraining Loss: 0.00492859\n",
            "Epoch: 15 \tTraining Loss: 0.00460396\n",
            "Epoch: 15 \tTraining Loss: 0.00557948\n",
            "Epoch: 15 \tTraining Loss: 0.00515781\n",
            "Epoch: 15 \tTraining Loss: 0.00512222\n",
            "Epoch: 16 \tTraining Loss: 0.00524961\n",
            "Epoch: 16 \tTraining Loss: 0.00479411\n",
            "Epoch: 16 \tTraining Loss: 0.00497945\n",
            "Epoch: 16 \tTraining Loss: 0.00502049\n",
            "Epoch: 16 \tTraining Loss: 0.00497601\n",
            "Epoch: 16 \tTraining Loss: 0.00521451\n",
            "Epoch: 16 \tTraining Loss: 0.00450407\n",
            "Epoch: 16 \tTraining Loss: 0.00498291\n",
            "Epoch: 16 \tTraining Loss: 0.00530830\n",
            "Epoch: 16 \tTraining Loss: 0.00454091\n",
            "Epoch: 16 \tTraining Loss: 0.00450883\n",
            "Epoch: 16 \tTraining Loss: 0.00473472\n",
            "Epoch: 16 \tTraining Loss: 0.00431112\n",
            "Epoch: 16 \tTraining Loss: 0.00468264\n",
            "Epoch: 16 \tTraining Loss: 0.00526318\n",
            "Epoch: 17 \tTraining Loss: 0.00487454\n",
            "Epoch: 17 \tTraining Loss: 0.00537638\n",
            "Epoch: 17 \tTraining Loss: 0.00477321\n",
            "Epoch: 17 \tTraining Loss: 0.00446146\n",
            "Epoch: 17 \tTraining Loss: 0.00365832\n",
            "Epoch: 17 \tTraining Loss: 0.00442790\n",
            "Epoch: 17 \tTraining Loss: 0.00432047\n",
            "Epoch: 17 \tTraining Loss: 0.00458685\n",
            "Epoch: 17 \tTraining Loss: 0.00484158\n",
            "Epoch: 17 \tTraining Loss: 0.00469078\n",
            "Epoch: 17 \tTraining Loss: 0.00460631\n",
            "Epoch: 17 \tTraining Loss: 0.00547922\n",
            "Epoch: 17 \tTraining Loss: 0.00487345\n",
            "Epoch: 17 \tTraining Loss: 0.00509899\n",
            "Epoch: 17 \tTraining Loss: 0.00531188\n",
            "Epoch: 18 \tTraining Loss: 0.00500571\n",
            "Epoch: 18 \tTraining Loss: 0.00473678\n",
            "Epoch: 18 \tTraining Loss: 0.00535020\n",
            "Epoch: 18 \tTraining Loss: 0.00417526\n",
            "Epoch: 18 \tTraining Loss: 0.00444493\n",
            "Epoch: 18 \tTraining Loss: 0.00480393\n",
            "Epoch: 18 \tTraining Loss: 0.00495945\n",
            "Epoch: 18 \tTraining Loss: 0.00517645\n",
            "Epoch: 18 \tTraining Loss: 0.00435003\n",
            "Epoch: 18 \tTraining Loss: 0.00421523\n",
            "Epoch: 18 \tTraining Loss: 0.00478971\n",
            "Epoch: 18 \tTraining Loss: 0.00522382\n",
            "Epoch: 18 \tTraining Loss: 0.00459592\n",
            "Epoch: 18 \tTraining Loss: 0.00503465\n",
            "Epoch: 18 \tTraining Loss: 0.00468071\n",
            "Epoch: 19 \tTraining Loss: 0.00390558\n",
            "Epoch: 19 \tTraining Loss: 0.00505130\n",
            "Epoch: 19 \tTraining Loss: 0.00507934\n",
            "Epoch: 19 \tTraining Loss: 0.00425431\n",
            "Epoch: 19 \tTraining Loss: 0.00452466\n",
            "Epoch: 19 \tTraining Loss: 0.00482355\n",
            "Epoch: 19 \tTraining Loss: 0.00430932\n",
            "Epoch: 19 \tTraining Loss: 0.00391119\n",
            "Epoch: 19 \tTraining Loss: 0.00494814\n",
            "Epoch: 19 \tTraining Loss: 0.00472831\n",
            "Epoch: 19 \tTraining Loss: 0.00453040\n",
            "Epoch: 19 \tTraining Loss: 0.00453116\n",
            "Epoch: 19 \tTraining Loss: 0.00460920\n",
            "Epoch: 19 \tTraining Loss: 0.00431157\n",
            "Epoch: 19 \tTraining Loss: 0.00476782\n",
            "Epoch: 20 \tTraining Loss: 0.00466962\n",
            "Epoch: 20 \tTraining Loss: 0.00498457\n",
            "Epoch: 20 \tTraining Loss: 0.00450001\n",
            "Epoch: 20 \tTraining Loss: 0.00415478\n",
            "Epoch: 20 \tTraining Loss: 0.00378799\n",
            "Epoch: 20 \tTraining Loss: 0.00456836\n",
            "Epoch: 20 \tTraining Loss: 0.00446657\n",
            "Epoch: 20 \tTraining Loss: 0.00387211\n",
            "Epoch: 20 \tTraining Loss: 0.00502463\n",
            "Epoch: 20 \tTraining Loss: 0.00428179\n",
            "Epoch: 20 \tTraining Loss: 0.00454074\n",
            "Epoch: 20 \tTraining Loss: 0.00412151\n",
            "Epoch: 20 \tTraining Loss: 0.00457765\n",
            "Epoch: 20 \tTraining Loss: 0.00425387\n",
            "Epoch: 20 \tTraining Loss: 0.00461782\n",
            "Epoch: 21 \tTraining Loss: 0.00386300\n",
            "Epoch: 21 \tTraining Loss: 0.00437623\n",
            "Epoch: 21 \tTraining Loss: 0.00413678\n",
            "Epoch: 21 \tTraining Loss: 0.00383015\n",
            "Epoch: 21 \tTraining Loss: 0.00412719\n",
            "Epoch: 21 \tTraining Loss: 0.00410595\n",
            "Epoch: 21 \tTraining Loss: 0.00450195\n",
            "Epoch: 21 \tTraining Loss: 0.00458864\n",
            "Epoch: 21 \tTraining Loss: 0.00382563\n",
            "Epoch: 21 \tTraining Loss: 0.00405520\n",
            "Epoch: 21 \tTraining Loss: 0.00418308\n",
            "Epoch: 21 \tTraining Loss: 0.00366323\n",
            "Epoch: 21 \tTraining Loss: 0.00394159\n",
            "Epoch: 21 \tTraining Loss: 0.00396109\n",
            "Epoch: 21 \tTraining Loss: 0.00403423\n",
            "Epoch: 22 \tTraining Loss: 0.00360053\n",
            "Epoch: 22 \tTraining Loss: 0.00391090\n",
            "Epoch: 22 \tTraining Loss: 0.00389713\n",
            "Epoch: 22 \tTraining Loss: 0.00417224\n",
            "Epoch: 22 \tTraining Loss: 0.00484298\n",
            "Epoch: 22 \tTraining Loss: 0.00398887\n",
            "Epoch: 22 \tTraining Loss: 0.00422574\n",
            "Epoch: 22 \tTraining Loss: 0.00400335\n",
            "Epoch: 22 \tTraining Loss: 0.00441469\n",
            "Epoch: 22 \tTraining Loss: 0.00424573\n",
            "Epoch: 22 \tTraining Loss: 0.00432935\n",
            "Epoch: 22 \tTraining Loss: 0.00410913\n",
            "Epoch: 22 \tTraining Loss: 0.00407339\n",
            "Epoch: 22 \tTraining Loss: 0.00443405\n",
            "Epoch: 22 \tTraining Loss: 0.00485128\n",
            "Epoch: 23 \tTraining Loss: 0.00426182\n",
            "Epoch: 23 \tTraining Loss: 0.00406595\n",
            "Epoch: 23 \tTraining Loss: 0.00430633\n",
            "Epoch: 23 \tTraining Loss: 0.00381314\n",
            "Epoch: 23 \tTraining Loss: 0.00381711\n",
            "Epoch: 23 \tTraining Loss: 0.00378243\n",
            "Epoch: 23 \tTraining Loss: 0.00433749\n",
            "Epoch: 23 \tTraining Loss: 0.00432332\n",
            "Epoch: 23 \tTraining Loss: 0.00458510\n",
            "Epoch: 23 \tTraining Loss: 0.00413541\n",
            "Epoch: 23 \tTraining Loss: 0.00456023\n",
            "Epoch: 23 \tTraining Loss: 0.00323227\n",
            "Epoch: 23 \tTraining Loss: 0.00468505\n",
            "Epoch: 23 \tTraining Loss: 0.00425391\n",
            "Epoch: 23 \tTraining Loss: 0.00397032\n",
            "Epoch: 24 \tTraining Loss: 0.00380856\n",
            "Epoch: 24 \tTraining Loss: 0.00398638\n",
            "Epoch: 24 \tTraining Loss: 0.00417447\n",
            "Epoch: 24 \tTraining Loss: 0.00348309\n",
            "Epoch: 24 \tTraining Loss: 0.00367077\n",
            "Epoch: 24 \tTraining Loss: 0.00396886\n",
            "Epoch: 24 \tTraining Loss: 0.00439205\n",
            "Epoch: 24 \tTraining Loss: 0.00372755\n",
            "Epoch: 24 \tTraining Loss: 0.00426445\n",
            "Epoch: 24 \tTraining Loss: 0.00361851\n",
            "Epoch: 24 \tTraining Loss: 0.00404662\n",
            "Epoch: 24 \tTraining Loss: 0.00492443\n",
            "Epoch: 24 \tTraining Loss: 0.00397775\n",
            "Epoch: 24 \tTraining Loss: 0.00453288\n",
            "Epoch: 24 \tTraining Loss: 0.00423328\n",
            "Epoch: 25 \tTraining Loss: 0.00421646\n",
            "Epoch: 25 \tTraining Loss: 0.00435200\n",
            "Epoch: 25 \tTraining Loss: 0.00369563\n",
            "Epoch: 25 \tTraining Loss: 0.00383442\n",
            "Epoch: 25 \tTraining Loss: 0.00358366\n",
            "Epoch: 25 \tTraining Loss: 0.00351634\n",
            "Epoch: 25 \tTraining Loss: 0.00392827\n",
            "Epoch: 25 \tTraining Loss: 0.00397664\n",
            "Epoch: 25 \tTraining Loss: 0.00462497\n",
            "Epoch: 25 \tTraining Loss: 0.00403616\n",
            "Epoch: 25 \tTraining Loss: 0.00399327\n",
            "Epoch: 25 \tTraining Loss: 0.00432889\n",
            "Epoch: 25 \tTraining Loss: 0.00422962\n",
            "Epoch: 25 \tTraining Loss: 0.00386532\n",
            "Epoch: 25 \tTraining Loss: 0.00407635\n",
            "Epoch: 26 \tTraining Loss: 0.00346051\n",
            "Epoch: 26 \tTraining Loss: 0.00437468\n",
            "Epoch: 26 \tTraining Loss: 0.00449877\n",
            "Epoch: 26 \tTraining Loss: 0.00339175\n",
            "Epoch: 26 \tTraining Loss: 0.00402064\n",
            "Epoch: 26 \tTraining Loss: 0.00389858\n",
            "Epoch: 26 \tTraining Loss: 0.00398835\n",
            "Epoch: 26 \tTraining Loss: 0.00419617\n",
            "Epoch: 26 \tTraining Loss: 0.00362922\n",
            "Epoch: 26 \tTraining Loss: 0.00442420\n",
            "Epoch: 26 \tTraining Loss: 0.00406177\n",
            "Epoch: 26 \tTraining Loss: 0.00382576\n",
            "Epoch: 26 \tTraining Loss: 0.00374731\n",
            "Epoch: 26 \tTraining Loss: 0.00436464\n",
            "Epoch: 26 \tTraining Loss: 0.00453789\n",
            "Epoch: 27 \tTraining Loss: 0.00424296\n",
            "Epoch: 27 \tTraining Loss: 0.00379120\n",
            "Epoch: 27 \tTraining Loss: 0.00347864\n",
            "Epoch: 27 \tTraining Loss: 0.00474336\n",
            "Epoch: 27 \tTraining Loss: 0.00400196\n",
            "Epoch: 27 \tTraining Loss: 0.00409918\n",
            "Epoch: 27 \tTraining Loss: 0.00351703\n",
            "Epoch: 27 \tTraining Loss: 0.00353279\n",
            "Epoch: 27 \tTraining Loss: 0.00363644\n",
            "Epoch: 27 \tTraining Loss: 0.00413250\n",
            "Epoch: 27 \tTraining Loss: 0.00365882\n",
            "Epoch: 27 \tTraining Loss: 0.00382543\n",
            "Epoch: 27 \tTraining Loss: 0.00350669\n",
            "Epoch: 27 \tTraining Loss: 0.00382651\n",
            "Epoch: 27 \tTraining Loss: 0.00394839\n",
            "Epoch: 28 \tTraining Loss: 0.00413657\n",
            "Epoch: 28 \tTraining Loss: 0.00415633\n",
            "Epoch: 28 \tTraining Loss: 0.00357915\n",
            "Epoch: 28 \tTraining Loss: 0.00393925\n",
            "Epoch: 28 \tTraining Loss: 0.00365281\n",
            "Epoch: 28 \tTraining Loss: 0.00423522\n",
            "Epoch: 28 \tTraining Loss: 0.00356258\n",
            "Epoch: 28 \tTraining Loss: 0.00408647\n",
            "Epoch: 28 \tTraining Loss: 0.00352365\n",
            "Epoch: 28 \tTraining Loss: 0.00359894\n",
            "Epoch: 28 \tTraining Loss: 0.00341441\n",
            "Epoch: 28 \tTraining Loss: 0.00344418\n",
            "Epoch: 28 \tTraining Loss: 0.00409508\n",
            "Epoch: 28 \tTraining Loss: 0.00399118\n",
            "Epoch: 28 \tTraining Loss: 0.00368975\n",
            "Epoch: 29 \tTraining Loss: 0.00352728\n",
            "Epoch: 29 \tTraining Loss: 0.00366138\n",
            "Epoch: 29 \tTraining Loss: 0.00328445\n",
            "Epoch: 29 \tTraining Loss: 0.00350177\n",
            "Epoch: 29 \tTraining Loss: 0.00325278\n",
            "Epoch: 29 \tTraining Loss: 0.00378327\n",
            "Epoch: 29 \tTraining Loss: 0.00342778\n",
            "Epoch: 29 \tTraining Loss: 0.00374067\n",
            "Epoch: 29 \tTraining Loss: 0.00424070\n",
            "Epoch: 29 \tTraining Loss: 0.00354596\n",
            "Epoch: 29 \tTraining Loss: 0.00358717\n",
            "Epoch: 29 \tTraining Loss: 0.00378970\n",
            "Epoch: 29 \tTraining Loss: 0.00413079\n",
            "Epoch: 29 \tTraining Loss: 0.00392158\n",
            "Epoch: 29 \tTraining Loss: 0.00358222\n",
            "Epoch: 30 \tTraining Loss: 0.00312196\n",
            "Epoch: 30 \tTraining Loss: 0.00355087\n",
            "Epoch: 30 \tTraining Loss: 0.00364048\n",
            "Epoch: 30 \tTraining Loss: 0.00382014\n",
            "Epoch: 30 \tTraining Loss: 0.00347982\n",
            "Epoch: 30 \tTraining Loss: 0.00366570\n",
            "Epoch: 30 \tTraining Loss: 0.00378215\n",
            "Epoch: 30 \tTraining Loss: 0.00354513\n",
            "Epoch: 30 \tTraining Loss: 0.00340974\n",
            "Epoch: 30 \tTraining Loss: 0.00362889\n",
            "Epoch: 30 \tTraining Loss: 0.00358496\n",
            "Epoch: 30 \tTraining Loss: 0.00345329\n",
            "Epoch: 30 \tTraining Loss: 0.00406492\n",
            "Epoch: 30 \tTraining Loss: 0.00355092\n",
            "Epoch: 30 \tTraining Loss: 0.00342598\n"
          ]
        }
      ]
    },
    {
      "cell_type": "markdown",
      "metadata": {
        "id": "UyaXrCah-mzu"
      },
      "source": [
        "### Training loss\n",
        "\n",
        "Here I'll plot the training loss that was recorded intermittently, as specified by `print_every`."
      ]
    },
    {
      "cell_type": "code",
      "metadata": {
        "id": "E0k9eEHH-mzu",
        "colab": {
          "base_uri": "https://localhost:8080/",
          "height": 281
        },
        "outputId": "22fa5f10-6ab7-4944-ba23-564d58a2d05f"
      },
      "source": [
        "plt.plot(losses)\n",
        "plt.title(\"Training Loss\")\n",
        "plt.show()"
      ],
      "execution_count": 27,
      "outputs": [
        {
          "output_type": "display_data",
          "data": {
            "image/png": "[encoded data removed]",
            "text/plain": [
              "<Figure size 432x288 with 1 Axes>"
            ]
          },
          "metadata": {
            "needs_background": "light"
          }
        }
      ]
    },
    {
      "cell_type": "markdown",
      "metadata": {
        "id": "r0ZvWTs2-mzv"
      },
      "source": [
        "---\n",
        "# Test the Trained Network\n",
        "\n",
        "In this case, there are two ways to test the trained model: looking at how it classifies test data, and looking at how its reconstructions compare to original input images.\n",
        "\n",
        "## Test Data\n",
        "First, I'll test this model on previously unseen **test data** and evaluate its performance. Testing on unseen data is a good way to check that our model generalizes well. It may also be useful to be granular in this analysis and take a look at how this model performs on each class as well as looking at its overall loss and accuracy.\n"
      ]
    },
    {
      "cell_type": "code",
      "metadata": {
        "id": "pYct68dvOMas"
      },
      "source": [
        "from sklearn.metrics import precision_score, recall_score, f1_score, accuracy_score"
      ],
      "execution_count": 28,
      "outputs": []
    },
    {
      "cell_type": "code",
      "metadata": {
        "collapsed": true,
        "id": "M84FAYZD-mzv"
      },
      "source": [
        "def test(capsule_net, test_loader):\n",
        "    '''Prints out test statistics for a given capsule net.\n",
        "       param capsule_net: trained capsule network\n",
        "       param test_loader: test dataloader\n",
        "       return: returns last batch of test image data and corresponding reconstructions\n",
        "       '''\n",
        "    class_correct = list(0. for i in range(len(classes)))\n",
        "    class_total = list(0. for i in range(len(classes)))\n",
        "    \n",
        "    test_loss = 0 # loss tracking\n",
        "\n",
        "    labels = []\n",
        "    predictions = []\n",
        "\n",
        "    capsule_net.eval() # eval mode\n",
        "\n",
        "    for batch_i, (images, target) in enumerate(test_loader):\n",
        "        target = torch.eye(len(classes)).index_select(dim=0, index=target)\n",
        "\n",
        "        batch_size = images.size(0)\n",
        "\n",
        "        if TRAIN_ON_GPU:\n",
        "            images, target = images.cuda(), target.cuda()\n",
        "\n",
        "        # forward pass: compute predicted outputs by passing inputs to the model\n",
        "        caps_output, reconstructions, y = capsule_net(images)\n",
        "        # calculate the loss\n",
        "        loss = criterion(caps_output, target, images, reconstructions)\n",
        "        # update average test loss \n",
        "        test_loss += loss.item()\n",
        "        # convert output probabilities to predicted class\n",
        "        _, pred = torch.max(y.data.cpu(), 1)\n",
        "        _, target_shape = torch.max(target.data.cpu(), 1)\n",
        "\n",
        "        # compare predictions to true label\n",
        "        correct = np.squeeze(pred.eq(target_shape.data.view_as(pred)))\n",
        "        # calculate test accuracy for each object class\n",
        "        for i in range(batch_size):\n",
        "            label = target_shape.data[i]\n",
        "            class_correct[label] += correct[i].item()\n",
        "            class_total[label] += 1\n",
        "\n",
        "        # Will be used for calculating Recall, Precision, and F1-score\n",
        "        labels.extend(target_shape.data.view_as(pred).tolist())\n",
        "        predictions.extend(pred.tolist())\n",
        "\n",
        "    # avg test loss\n",
        "    avg_test_loss = test_loss/len(test_loader)\n",
        "    print('Test Loss: {:.8f}\\n'.format(avg_test_loss))\n",
        "\n",
        "    for i in range(len(classes)):\n",
        "        if class_total[i] > 0:\n",
        "            print('Test Accuracy of %5s: %2d%% (%2d/%2d)' % (\n",
        "                str(i), 100 * class_correct[i] / class_total[i],\n",
        "                np.sum(class_correct[i]), np.sum(class_total[i])))\n",
        "        else:\n",
        "            print('Test Accuracy of %5s: N/A (no training examples)' % (classes[i]))\n",
        "\n",
        "    print('\\nTest Accuracy (Overall): %2d%% (%2d/%2d)' % (\n",
        "        100. * np.sum(class_correct) / np.sum(class_total),\n",
        "        np.sum(class_correct), np.sum(class_total)))\n",
        "    \n",
        "    # Total Test accuracy\n",
        "    print(\"\\nAccuracy: {:.3%}\".format(accuracy_score(labels, predictions)))\n",
        "    print(\"\\nPrecision: {:.3%}\".format(precision_score(labels, predictions, average = 'weighted')))\n",
        "    print(\"\\nRecall: {:.3%}\".format(recall_score(labels, predictions, average = 'weighted')))\n",
        "    print(\"\\nF1-score: {:.3%}\".format(f1_score(labels, predictions, average = 'weighted')))\n",
        "    \n",
        "    # return last batch of capsule vectors, images, reconstructions\n",
        "    return caps_output, images, reconstructions"
      ],
      "execution_count": 29,
      "outputs": []
    },
    {
      "cell_type": "code",
      "metadata": {
        "id": "Wik91B9S-mzv",
        "colab": {
          "base_uri": "https://localhost:8080/",
          "height": 364
        },
        "outputId": "413d3287-a534-4676-b31a-3ecf81c8f5be"
      },
      "source": [
        "# call test function and get reconstructed images\n",
        "caps_output, images, reconstructions = test(capsule_net, test_loader)"
      ],
      "execution_count": 30,
      "outputs": [
        {
          "output_type": "error",
          "ename": "RuntimeError",
          "evalue": "ignored",
          "traceback": [
            "\u001b[0;31m---------------------------------------------------------------------------\u001b[0m",
            "\u001b[0;31mRuntimeError\u001b[0m                              Traceback (most recent call last)",
            "\u001b[0;32m<ipython-input-30-9d3576a29cc1>\u001b[0m in \u001b[0;36m<module>\u001b[0;34m()\u001b[0m\n\u001b[1;32m      1\u001b[0m \u001b[0;31m# call test function and get reconstructed images\u001b[0m\u001b[0;34m\u001b[0m\u001b[0;34m\u001b[0m\u001b[0;34m\u001b[0m\u001b[0m\n\u001b[0;32m----> 2\u001b[0;31m \u001b[0mcaps_output\u001b[0m\u001b[0;34m,\u001b[0m \u001b[0mimages\u001b[0m\u001b[0;34m,\u001b[0m \u001b[0mreconstructions\u001b[0m \u001b[0;34m=\u001b[0m \u001b[0mtest\u001b[0m\u001b[0;34m(\u001b[0m\u001b[0mcapsule_net\u001b[0m\u001b[0;34m,\u001b[0m \u001b[0mtest_loader\u001b[0m\u001b[0;34m)\u001b[0m\u001b[0;34m\u001b[0m\u001b[0;34m\u001b[0m\u001b[0m\n\u001b[0m",
            "\u001b[0;32m<ipython-input-29-d1c4f23ddb7b>\u001b[0m in \u001b[0;36mtest\u001b[0;34m(capsule_net, test_loader)\u001b[0m\n\u001b[1;32m     24\u001b[0m \u001b[0;34m\u001b[0m\u001b[0m\n\u001b[1;32m     25\u001b[0m         \u001b[0;31m# forward pass: compute predicted outputs by passing inputs to the model\u001b[0m\u001b[0;34m\u001b[0m\u001b[0;34m\u001b[0m\u001b[0;34m\u001b[0m\u001b[0m\n\u001b[0;32m---> 26\u001b[0;31m         \u001b[0mcaps_output\u001b[0m\u001b[0;34m,\u001b[0m \u001b[0mreconstructions\u001b[0m\u001b[0;34m,\u001b[0m \u001b[0my\u001b[0m \u001b[0;34m=\u001b[0m \u001b[0mcapsule_net\u001b[0m\u001b[0;34m(\u001b[0m\u001b[0mimages\u001b[0m\u001b[0;34m)\u001b[0m\u001b[0;34m\u001b[0m\u001b[0;34m\u001b[0m\u001b[0m\n\u001b[0m\u001b[1;32m     27\u001b[0m         \u001b[0;31m# calculate the loss\u001b[0m\u001b[0;34m\u001b[0m\u001b[0;34m\u001b[0m\u001b[0;34m\u001b[0m\u001b[0m\n\u001b[1;32m     28\u001b[0m         \u001b[0mloss\u001b[0m \u001b[0;34m=\u001b[0m \u001b[0mcriterion\u001b[0m\u001b[0;34m(\u001b[0m\u001b[0mcaps_output\u001b[0m\u001b[0;34m,\u001b[0m \u001b[0mtarget\u001b[0m\u001b[0;34m,\u001b[0m \u001b[0mimages\u001b[0m\u001b[0;34m,\u001b[0m \u001b[0mreconstructions\u001b[0m\u001b[0;34m)\u001b[0m\u001b[0;34m\u001b[0m\u001b[0;34m\u001b[0m\u001b[0m\n",
            "\u001b[0;32m/usr/local/lib/python3.7/dist-packages/torch/nn/modules/module.py\u001b[0m in \u001b[0;36m_call_impl\u001b[0;34m(self, *input, **kwargs)\u001b[0m\n\u001b[1;32m   1100\u001b[0m         if not (self._backward_hooks or self._forward_hooks or self._forward_pre_hooks or _global_backward_hooks\n\u001b[1;32m   1101\u001b[0m                 or _global_forward_hooks or _global_forward_pre_hooks):\n\u001b[0;32m-> 1102\u001b[0;31m             \u001b[0;32mreturn\u001b[0m \u001b[0mforward_call\u001b[0m\u001b[0;34m(\u001b[0m\u001b[0;34m*\u001b[0m\u001b[0minput\u001b[0m\u001b[0;34m,\u001b[0m \u001b[0;34m**\u001b[0m\u001b[0mkwargs\u001b[0m\u001b[0;34m)\u001b[0m\u001b[0;34m\u001b[0m\u001b[0;34m\u001b[0m\u001b[0m\n\u001b[0m\u001b[1;32m   1103\u001b[0m         \u001b[0;31m# Do not call functions when jit is used\u001b[0m\u001b[0;34m\u001b[0m\u001b[0;34m\u001b[0m\u001b[0;34m\u001b[0m\u001b[0m\n\u001b[1;32m   1104\u001b[0m         \u001b[0mfull_backward_hooks\u001b[0m\u001b[0;34m,\u001b[0m \u001b[0mnon_full_backward_hooks\u001b[0m \u001b[0;34m=\u001b[0m \u001b[0;34m[\u001b[0m\u001b[0;34m]\u001b[0m\u001b[0;34m,\u001b[0m \u001b[0;34m[\u001b[0m\u001b[0;34m]\u001b[0m\u001b[0;34m\u001b[0m\u001b[0;34m\u001b[0m\u001b[0m\n",
            "\u001b[0;32m<ipython-input-20-069d6bdb987d>\u001b[0m in \u001b[0;36mforward\u001b[0;34m(self, images)\u001b[0m\n\u001b[1;32m     14\u001b[0m            '''\n\u001b[1;32m     15\u001b[0m         \u001b[0mprimary_caps_output\u001b[0m \u001b[0;34m=\u001b[0m \u001b[0mself\u001b[0m\u001b[0;34m.\u001b[0m\u001b[0mprimary_capsules\u001b[0m\u001b[0;34m(\u001b[0m\u001b[0mself\u001b[0m\u001b[0;34m.\u001b[0m\u001b[0mconv_layer\u001b[0m\u001b[0;34m(\u001b[0m\u001b[0mimages\u001b[0m\u001b[0;34m)\u001b[0m\u001b[0;34m)\u001b[0m\u001b[0;34m\u001b[0m\u001b[0;34m\u001b[0m\u001b[0m\n\u001b[0;32m---> 16\u001b[0;31m         \u001b[0mcaps_output\u001b[0m \u001b[0;34m=\u001b[0m \u001b[0mself\u001b[0m\u001b[0;34m.\u001b[0m\u001b[0mdigit_capsules\u001b[0m\u001b[0;34m(\u001b[0m\u001b[0mprimary_caps_output\u001b[0m\u001b[0;34m)\u001b[0m\u001b[0;34m.\u001b[0m\u001b[0msqueeze\u001b[0m\u001b[0;34m(\u001b[0m\u001b[0;34m)\u001b[0m\u001b[0;34m.\u001b[0m\u001b[0mtranspose\u001b[0m\u001b[0;34m(\u001b[0m\u001b[0;36m0\u001b[0m\u001b[0;34m,\u001b[0m\u001b[0;36m1\u001b[0m\u001b[0;34m)\u001b[0m\u001b[0;34m\u001b[0m\u001b[0;34m\u001b[0m\u001b[0m\n\u001b[0m\u001b[1;32m     17\u001b[0m         \u001b[0mreconstructions\u001b[0m\u001b[0;34m,\u001b[0m \u001b[0my\u001b[0m \u001b[0;34m=\u001b[0m \u001b[0mself\u001b[0m\u001b[0;34m.\u001b[0m\u001b[0mdecoder\u001b[0m\u001b[0;34m(\u001b[0m\u001b[0mcaps_output\u001b[0m\u001b[0;34m)\u001b[0m\u001b[0;34m\u001b[0m\u001b[0;34m\u001b[0m\u001b[0m\n\u001b[1;32m     18\u001b[0m         \u001b[0;32mreturn\u001b[0m \u001b[0mcaps_output\u001b[0m\u001b[0;34m,\u001b[0m \u001b[0mreconstructions\u001b[0m\u001b[0;34m,\u001b[0m \u001b[0my\u001b[0m\u001b[0;34m\u001b[0m\u001b[0;34m\u001b[0m\u001b[0m\n",
            "\u001b[0;32m/usr/local/lib/python3.7/dist-packages/torch/nn/modules/module.py\u001b[0m in \u001b[0;36m_call_impl\u001b[0;34m(self, *input, **kwargs)\u001b[0m\n\u001b[1;32m   1100\u001b[0m         if not (self._backward_hooks or self._forward_hooks or self._forward_pre_hooks or _global_backward_hooks\n\u001b[1;32m   1101\u001b[0m                 or _global_forward_hooks or _global_forward_pre_hooks):\n\u001b[0;32m-> 1102\u001b[0;31m             \u001b[0;32mreturn\u001b[0m \u001b[0mforward_call\u001b[0m\u001b[0;34m(\u001b[0m\u001b[0;34m*\u001b[0m\u001b[0minput\u001b[0m\u001b[0;34m,\u001b[0m \u001b[0;34m**\u001b[0m\u001b[0mkwargs\u001b[0m\u001b[0;34m)\u001b[0m\u001b[0;34m\u001b[0m\u001b[0;34m\u001b[0m\u001b[0m\n\u001b[0m\u001b[1;32m   1103\u001b[0m         \u001b[0;31m# Do not call functions when jit is used\u001b[0m\u001b[0;34m\u001b[0m\u001b[0;34m\u001b[0m\u001b[0;34m\u001b[0m\u001b[0m\n\u001b[1;32m   1104\u001b[0m         \u001b[0mfull_backward_hooks\u001b[0m\u001b[0;34m,\u001b[0m \u001b[0mnon_full_backward_hooks\u001b[0m \u001b[0;34m=\u001b[0m \u001b[0;34m[\u001b[0m\u001b[0;34m]\u001b[0m\u001b[0;34m,\u001b[0m \u001b[0;34m[\u001b[0m\u001b[0;34m]\u001b[0m\u001b[0;34m\u001b[0m\u001b[0;34m\u001b[0m\u001b[0m\n",
            "\u001b[0;32m<ipython-input-18-064d661c69fd>\u001b[0m in \u001b[0;36mforward\u001b[0;34m(self, u)\u001b[0m\n\u001b[1;32m     32\u001b[0m \u001b[0;34m\u001b[0m\u001b[0m\n\u001b[1;32m     33\u001b[0m         \u001b[0;31m# calculating u_hat = W*u\u001b[0m\u001b[0;34m\u001b[0m\u001b[0;34m\u001b[0m\u001b[0;34m\u001b[0m\u001b[0m\n\u001b[0;32m---> 34\u001b[0;31m         \u001b[0mu_hat\u001b[0m \u001b[0;34m=\u001b[0m \u001b[0mtorch\u001b[0m\u001b[0;34m.\u001b[0m\u001b[0mmatmul\u001b[0m\u001b[0;34m(\u001b[0m\u001b[0mu\u001b[0m\u001b[0;34m,\u001b[0m \u001b[0mW\u001b[0m\u001b[0;34m)\u001b[0m\u001b[0;34m\u001b[0m\u001b[0;34m\u001b[0m\u001b[0m\n\u001b[0m\u001b[1;32m     35\u001b[0m \u001b[0;34m\u001b[0m\u001b[0m\n\u001b[1;32m     36\u001b[0m         \u001b[0;31m# getting the correct size of b_ij\u001b[0m\u001b[0;34m\u001b[0m\u001b[0;34m\u001b[0m\u001b[0;34m\u001b[0m\u001b[0m\n",
            "\u001b[0;31mRuntimeError\u001b[0m: CUDA out of memory. Tried to allocate 4.01 GiB (GPU 0; 15.90 GiB total capacity; 9.33 GiB already allocated; 1.55 GiB free; 13.33 GiB reserved in total by PyTorch) If reserved memory is >> allocated memory try setting max_split_size_mb to avoid fragmentation.  See documentation for Memory Management and PYTORCH_CUDA_ALLOC_CONF"
          ]
        }
      ]
    },
    {
      "cell_type": "markdown",
      "metadata": {
        "collapsed": true,
        "id": "4tWSmXro-mzv"
      },
      "source": [
        "## Display Reconstructions\n",
        "\n",
        "Second, I'll display original images and their reconstructions to see how well the decoder trained."
      ]
    },
    {
      "cell_type": "code",
      "metadata": {
        "collapsed": true,
        "id": "_GphQ0Bi-mzv"
      },
      "source": [
        "def display_images(images, reconstructions):\n",
        "    '''Plot one row of original MNIST images and another row (below) \n",
        "       of their reconstructions.'''\n",
        "    # convert to numpy images\n",
        "    images = images.data.cpu().numpy()\n",
        "    reconstructions = reconstructions.view(-1, 1, 75, 75)\n",
        "    reconstructions = reconstructions.data.cpu().numpy()\n",
        "    \n",
        "    # plot the first ten input images and then reconstructed images\n",
        "    fig, axes = plt.subplots(nrows=2, ncols=10, sharex=True, sharey=True, figsize=(26,5))\n",
        "\n",
        "    # input images on top row, reconstructions on bottom\n",
        "    for images, row in zip([images, reconstructions], axes):\n",
        "        for img, ax in zip(images, row):\n",
        "            ax.imshow(np.squeeze(img), cmap='gray')\n",
        "            ax.get_xaxis().set_visible(False)\n",
        "            ax.get_yaxis().set_visible(False)"
      ],
      "execution_count": null,
      "outputs": []
    },
    {
      "cell_type": "code",
      "metadata": {
        "id": "ZQLc6_6r-mzv"
      },
      "source": [
        "# display original and reconstructed images, in rows\n",
        "display_images(images, reconstructions)"
      ],
      "execution_count": null,
      "outputs": []
    }
  ]
}